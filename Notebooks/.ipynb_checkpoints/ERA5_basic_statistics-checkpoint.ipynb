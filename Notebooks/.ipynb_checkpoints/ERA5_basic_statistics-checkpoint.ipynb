{
 "cells": [
  {
   "cell_type": "markdown",
   "id": "869c4e30-f2bc-4f0e-b003-0076a34f44ef",
   "metadata": {
    "tags": []
   },
   "source": [
    "# Plot PDFs for different IVT attributes for regional control ICON experiment forced by CNMR (1984-2014)"
   ]
  },
  {
   "cell_type": "code",
   "execution_count": 7,
   "id": "154019e7-1751-41c8-aee5-261aebf97399",
   "metadata": {
    "tags": []
   },
   "outputs": [
    {
     "name": "stdout",
     "output_type": "stream",
     "text": [
      "The autoreload extension is already loaded. To reload it, use:\n",
      "  %reload_ext autoreload\n"
     ]
    }
   ],
   "source": [
    "%load_ext autoreload\n",
    "%autoreload 2\n",
    "import xarray as xr\n",
    "import matplotlib.pyplot as plt\n",
    "import numpy as np\n",
    "import pandas as pd\n",
    "import scipy\n",
    "import datetime\n",
    "import cartopy\n",
    "from metpy.units import units\n",
    "import cartopy.crs as ccrs\n",
    "import pickle\n",
    "import os\n",
    "\n",
    "import src.Tracking_Functions as Tracking_Functions\n",
    "from src.TrackingDataLoader import * \n",
    "from src.utils import * \n",
    "from src.Corrections import * \n",
    "from src.Enumerations import Month, Season\n",
    "from src.xarray_util import *\n",
    "from src.GridPoints import *"
   ]
  },
  {
   "cell_type": "markdown",
   "id": "6c63fe09-20ba-4c39-85a0-8ef162545bc3",
   "metadata": {
    "tags": []
   },
   "source": [
    "# Settings"
   ]
  },
  {
   "cell_type": "code",
   "execution_count": 8,
   "id": "296f883c-bccd-48b5-9484-b8beb29316c8",
   "metadata": {
    "tags": []
   },
   "outputs": [],
   "source": [
    "input_path = '/work/aa0238/a271093/results/MOAAP/IVT_Tracking/CNRM_control_remapped_3x/'\n",
    "type_='IVT'\n",
    "input_file_name_temp = 'MOAPP_ICON_100and85controlperc_remapped_3x'\n",
    "input_field_grid= '/work/aa0238/a271093/data/input/IVT_85_percentiles_CNMR_control_3dx3dy.nc'\n",
    "GridPoint.input_field_grid = input_field_grid\n",
    "\n",
    "first_year = 1984\n",
    "last_year = 2014\n",
    "num_years = last_year-first_year"
   ]
  },
  {
   "cell_type": "markdown",
   "id": "703f1ac3-ebcf-43c5-813e-337384d008e2",
   "metadata": {
    "tags": []
   },
   "source": [
    "## Load pickle dictionaries into in-memory Datasets"
   ]
  },
  {
   "cell_type": "code",
   "execution_count": 10,
   "id": "f1066f59-67f2-4634-ac3f-4ed25b3b5d0e",
   "metadata": {
    "tags": []
   },
   "outputs": [
    {
     "name": "stdout",
     "output_type": "stream",
     "text": [
      "1984-01-01 00:00:00\n",
      "1984-07-01 00:00:00\n",
      "1985-01-01 00:00:00\n",
      "1985-07-01 00:00:00\n",
      "1986-01-01 00:00:00\n",
      "1986-07-01 00:00:00\n",
      "1987-01-01 00:00:00\n",
      "1987-07-01 00:00:00\n",
      "1988-01-01 00:00:00\n",
      "1988-07-01 00:00:00\n",
      "1989-01-01 00:00:00\n",
      "1989-07-01 00:00:00\n",
      "1990-01-01 00:00:00\n",
      "1990-07-01 00:00:00\n",
      "1991-01-01 00:00:00\n",
      "1991-07-01 00:00:00\n",
      "1992-01-01 00:00:00\n",
      "1992-07-01 00:00:00\n",
      "1993-01-01 00:00:00\n",
      "1993-07-01 00:00:00\n",
      "1994-01-01 00:00:00\n",
      "1994-07-01 00:00:00\n",
      "1995-01-01 00:00:00\n",
      "1995-07-01 00:00:00\n",
      "1996-01-01 00:00:00\n",
      "1996-07-01 00:00:00\n",
      "1997-01-01 00:00:00\n",
      "1997-07-01 00:00:00\n",
      "1998-01-01 00:00:00\n",
      "1998-07-01 00:00:00\n",
      "1999-01-01 00:00:00\n",
      "1999-07-01 00:00:00\n",
      "2000-01-01 00:00:00\n",
      "2000-07-01 00:00:00\n",
      "2001-01-01 00:00:00\n",
      "2001-07-01 00:00:00\n",
      "2002-01-01 00:00:00\n",
      "2002-07-01 00:00:00\n",
      "2003-01-01 00:00:00\n",
      "2003-07-01 00:00:00\n",
      "2004-01-01 00:00:00\n",
      "2004-07-01 00:00:00\n",
      "2005-01-01 00:00:00\n",
      "2005-07-01 00:00:00\n",
      "2006-01-01 00:00:00\n",
      "2006-07-01 00:00:00\n",
      "2007-01-01 00:00:00\n",
      "2007-07-01 00:00:00\n",
      "2008-01-01 00:00:00\n",
      "2008-07-01 00:00:00\n",
      "2009-01-01 00:00:00\n",
      "2009-07-01 00:00:00\n",
      "2010-01-01 00:00:00\n",
      "2010-07-01 00:00:00\n",
      "2011-01-01 00:00:00\n",
      "2011-07-01 00:00:00\n"
     ]
    },
    {
     "ename": "FileNotFoundError",
     "evalue": "[Errno 2] No such file or directory: '/work/aa0238/a271093/results/MOAAP/IVT_Tracking/CNRM_control_remapped_3x/IVT_MOAPP_ICON_100and85controlperc_remapped_3x_2011_07_01-2012_01_01_corrected.pkl'",
     "output_type": "error",
     "traceback": [
      "\u001b[0;31m---------------------------------------------------------------------------\u001b[0m",
      "\u001b[0;31mFileNotFoundError\u001b[0m                         Traceback (most recent call last)",
      "Cell \u001b[0;32mIn[10], line 14\u001b[0m\n\u001b[1;32m     11\u001b[0m \u001b[38;5;28mprint\u001b[39m(start_date)\n\u001b[1;32m     12\u001b[0m pickle_file_path \u001b[38;5;241m=\u001b[39m \u001b[38;5;124mf\u001b[39m\u001b[38;5;124m'\u001b[39m\u001b[38;5;132;01m{\u001b[39;00minput_path\u001b[38;5;132;01m}\u001b[39;00m\u001b[38;5;132;01m{\u001b[39;00mtype_\u001b[38;5;132;01m}\u001b[39;00m\u001b[38;5;124m_\u001b[39m\u001b[38;5;132;01m{\u001b[39;00minput_file_name_temp\u001b[38;5;132;01m}\u001b[39;00m\u001b[38;5;124m_\u001b[39m\u001b[38;5;132;01m{\u001b[39;00mget_datetime_str(start_date)\u001b[38;5;132;01m}\u001b[39;00m\u001b[38;5;124m-\u001b[39m\u001b[38;5;132;01m{\u001b[39;00mget_datetime_str(end_date)\u001b[38;5;132;01m}\u001b[39;00m\u001b[38;5;124m_corrected\u001b[39m\u001b[38;5;124m'\u001b[39m\n\u001b[0;32m---> 14\u001b[0m dict_ \u001b[38;5;241m=\u001b[39m \u001b[43mload_pkl\u001b[49m\u001b[43m(\u001b[49m\u001b[43mpickle_file_path\u001b[49m\u001b[43m)\u001b[49m\n\u001b[1;32m     17\u001b[0m \u001b[38;5;28;01mfor\u001b[39;00m object_id \u001b[38;5;129;01min\u001b[39;00m dict_\u001b[38;5;241m.\u001b[39mkeys():\n\u001b[1;32m     18\u001b[0m     \u001b[38;5;28;01mtry\u001b[39;00m:\n",
      "File \u001b[0;32m/work/aa0238/a271093/Scripts/MOAAP/src/utils.py:69\u001b[0m, in \u001b[0;36mload_pkl\u001b[0;34m(file_name)\u001b[0m\n\u001b[1;32m     58\u001b[0m \u001b[38;5;28;01mdef\u001b[39;00m \u001b[38;5;21mload_pkl\u001b[39m(file_name) \u001b[38;5;241m-\u001b[39m\u001b[38;5;241m>\u001b[39m \u001b[38;5;28mdict\u001b[39m:\n\u001b[1;32m     59\u001b[0m \u001b[38;5;250m    \u001b[39m\u001b[38;5;124;03m\"\"\"\u001b[39;00m\n\u001b[1;32m     60\u001b[0m \u001b[38;5;124;03m    Load pickle file\u001b[39;00m\n\u001b[1;32m     61\u001b[0m \n\u001b[0;32m   (...)\u001b[0m\n\u001b[1;32m     66\u001b[0m \u001b[38;5;124;03m        dict: nested dictionary with Tracking Object Information. \u001b[39;00m\n\u001b[1;32m     67\u001b[0m \u001b[38;5;124;03m    \"\"\"\u001b[39;00m\n\u001b[0;32m---> 69\u001b[0m     \u001b[38;5;28;01mwith\u001b[39;00m \u001b[38;5;28;43mopen\u001b[39;49m\u001b[43m(\u001b[49m\u001b[43mfile_name\u001b[49m\u001b[38;5;241;43m+\u001b[39;49m\u001b[38;5;124;43m'\u001b[39;49m\u001b[38;5;124;43m.pkl\u001b[39;49m\u001b[38;5;124;43m'\u001b[39;49m\u001b[43m,\u001b[49m\u001b[43m \u001b[49m\u001b[38;5;124;43m'\u001b[39;49m\u001b[38;5;124;43mrb\u001b[39;49m\u001b[38;5;124;43m'\u001b[39;49m\u001b[43m)\u001b[49m \u001b[38;5;28;01mas\u001b[39;00m pickle_file:\n\u001b[1;32m     70\u001b[0m         ob_dict \u001b[38;5;241m=\u001b[39m pickle\u001b[38;5;241m.\u001b[39mload(pickle_file)\n\u001b[1;32m     71\u001b[0m     \u001b[38;5;28;01mreturn\u001b[39;00m ob_dict\n",
      "\u001b[0;31mFileNotFoundError\u001b[0m: [Errno 2] No such file or directory: '/work/aa0238/a271093/results/MOAAP/IVT_Tracking/CNRM_control_remapped_3x/IVT_MOAPP_ICON_100and85controlperc_remapped_3x_2011_07_01-2012_01_01_corrected.pkl'"
     ]
    }
   ],
   "source": [
    "# create datetime lists\n",
    "start_date_list, end_date_list = create_datetime_lists(first_year,last_year, months=6, correct_last_endtime=False) \n",
    "first_processed_date = start_date_list[0]\n",
    "last_processed_date = end_date_list[-1]\n",
    "\n",
    "\n",
    "# create and append Tracking objects to list\n",
    "IVTobj_ls=Object_container([])\n",
    "\n",
    "for start_date, end_date in zip(start_date_list, end_date_list):\n",
    "    print(start_date)\n",
    "    pickle_file_path = f'{input_path}{type_}_{input_file_name_temp}_{get_datetime_str(start_date)}-{get_datetime_str(end_date)}_corrected'\n",
    "    \n",
    "    dict_ = load_pkl(pickle_file_path)\n",
    "    \n",
    "\n",
    "    for object_id in dict_.keys():\n",
    "        try:\n",
    "            ds = create_obj_from_dict(dict_,\n",
    "                                      object_id,\n",
    "                                      load_coordinates=False\n",
    "                                  \n",
    "                                     )\n",
    "        except ValueError as ex:\n",
    "            continue\n",
    "        \n",
    "        IVTobj_ls.append(ds)\n",
    "    \n"
   ]
  },
  {
   "cell_type": "markdown",
   "id": "05a5177b-2976-4f1d-8d69-e883d3009c9a",
   "metadata": {
    "tags": []
   },
   "source": [
    "# Total number of IVT-object occurrences per season over domain"
   ]
  },
  {
   "cell_type": "code",
   "execution_count": null,
   "id": "b08046cd-73ea-48c3-80a1-1eab4b2bbcf5",
   "metadata": {
    "tags": []
   },
   "outputs": [],
   "source": [
    "fig, ax = plt.subplots()\n",
    "\n",
    "seasons = [x.name for x in Season]\n",
    "bar_labels = ['red', 'blue', '_green', 'brown','ff']\n",
    "bar_colors = ['tab:blue', 'tab:green', 'tab:red', 'tab:brown','tab:gray']\n",
    "\n",
    "counts=[]\n",
    "for season_ in Season:\n",
    "    counts.append((IVTobj_ls.sel_season(season=season_).count())/num_years)\n",
    "\n",
    "    \n",
    "ax.bar(seasons, counts, color=bar_colors)\n",
    "\n",
    "ax.set_ylabel('IVT count per season')\n",
    "ax.set_title('Total count of IVT occurrences over entire domain')\n",
    "#plt.grid()\n",
    "#ax.legend(title='Season')"
   ]
  },
  {
   "cell_type": "markdown",
   "id": "ccbace97-9d25-4543-a73c-1c73f33985e9",
   "metadata": {
    "tags": []
   },
   "source": [
    "# Duration of IVT-objects"
   ]
  },
  {
   "cell_type": "code",
   "execution_count": null,
   "id": "da24cf01-b06a-4c8e-ab09-b1da1db031d0",
   "metadata": {
    "tags": []
   },
   "outputs": [],
   "source": [
    "import seaborn as sns\n",
    "fig, ax = plt.subplots()\n",
    "bar_labels = ['red', 'blue', '_green', 'brown','ff']\n",
    "bar_colors = ['tab:blue', 'tab:green', 'tab:red', 'tab:brown','tab:gray']\n",
    "\n",
    "for i,season_ in enumerate(Season):\n",
    "\n",
    "    #dat=IVTobj_ls.sel_season(season=Season.WINTER).get_attributes(attr='duration')##obj_means(\"size\")\n",
    "    dat=IVTobj_ls.sel_season(season=season_).get_attributes(attr='duration')##obj_means(\"size\")\n",
    "\n",
    "    sns.kdeplot(dat,label=season_.name,color=bar_colors[i],lw=2.5,bw_adjust=0.3)\n",
    "    #sns.histplot(dat,label=season_.name,color=bar_colors[i],bins=100, stat='density')\n",
    "\n",
    "    \n",
    "\n",
    "ax.set_xlabel('Object duration [hrs]')\n",
    "ax.set_ylabel('Probability density')\n",
    "plt.legend()\n",
    "plt.grid()\n",
    "ax.set_xlim(9,90)\n"
   ]
  },
  {
   "cell_type": "markdown",
   "id": "3d93ddf8-5049-4d49-a319-498e1db971cb",
   "metadata": {},
   "source": [
    "# Size of IVT-objects"
   ]
  },
  {
   "cell_type": "code",
   "execution_count": null,
   "id": "2e9e7922-e5d7-49af-8ca1-5a90cf5f3056",
   "metadata": {},
   "outputs": [],
   "source": [
    "fig, ax = plt.subplots()\n",
    "\n",
    "for i,season_ in enumerate(Season):\n",
    "\n",
    "    #fig, ax = plt.subplots()\n",
    "\n",
    "    dat=IVTobj_ls.sel_season(season=season_).obj_means(attr='size')##obj_means(\"size\")\n",
    "    sns.kdeplot(dat,label=season_.name,color=bar_colors[i],lw=2.5,bw_adjust=0.01)\n",
    "   # sns.histplot(dat,label=season_.name,color=bar_colors[i],lw=2.5)\n",
    "    #sns.histplot(dat,label=season_.name,color=bar_colors[i],bins=100, stat='density')\n",
    "\n",
    "    \n",
    "\n",
    "ax.set_xlabel('Object size [km²]')\n",
    "ax.set_ylabel('probability density')\n",
    "plt.legend()\n",
    "plt.grid()\n",
    "ax.set_xlim(0,150000)"
   ]
  },
  {
   "cell_type": "code",
   "execution_count": null,
   "id": "ef5ab188-e9e5-48c3-83a8-096f2a4a24f2",
   "metadata": {},
   "outputs": [],
   "source": [
    "fig, ax = plt.subplots()\n",
    "\n",
    "for i,season_ in enumerate(Season):\n",
    "\n",
    "    #fig, ax = plt.subplots()\n",
    "\n",
    "    dat=IVTobj_ls.sel_season(season=season_).obj_means(attr='size')##obj_means(\"size\")\n",
    "    sns.kdeplot(dat,label=season_.name,color=bar_colors[i],lw=2.5,bw_adjust=0.05, cut)\n",
    "   # sns.histplot(dat,label=season_.name,color=bar_colors[i],lw=2.5)\n",
    "    #sns.histplot(dat,label=season_.name,color=bar_colors[i],bins=100, stat='density')\n",
    "\n",
    "    \n",
    "\n",
    "ax.set_xlabel('Object size [km²]')\n",
    "ax.set_ylabel('probability density')\n",
    "plt.legend()\n",
    "plt.grid()\n",
    "ax.set_xlim(-10000,100000)"
   ]
  },
  {
   "cell_type": "markdown",
   "id": "ac7bdbb4-2eef-40dd-a4bd-cc0b2879d6a6",
   "metadata": {},
   "source": [
    "# Total IVT content of IVT-objects"
   ]
  },
  {
   "cell_type": "code",
   "execution_count": null,
   "id": "04ea2ca2-ec3c-444c-81a3-983df5780312",
   "metadata": {},
   "outputs": [],
   "source": [
    "fig, ax = plt.subplots()\n",
    "\n",
    "for i,season_ in enumerate(Season):\n",
    "\n",
    "    #fig, ax = plt.subplots()\n",
    "\n",
    "    dat=IVTobj_ls.sel_season(season=season_).obj_means(attr='total_IVT')##obj_means(\"size\")\n",
    "    sns.kdeplot(dat,label=season_.name,color=bar_colors[i],lw=2.5,bw_adjust=0.3)\n",
    "   # sns.histplot(dat,label=season_.name,color=bar_colors[i],lw=2.5)\n",
    "    #sns.histplot(dat,label=season_.name,color=bar_colors[i],bins=100, stat='density')\n",
    "\n",
    "    \n",
    "\n",
    "ax.set_xlabel('average total_IVT [km/m/s]')\n",
    "ax.set_ylabel('probability density')\n",
    "plt.legend()\n",
    "plt.grid()\n",
    "ax.set_xlim(0,26000)"
   ]
  },
  {
   "cell_type": "markdown",
   "id": "118b2215-f6b4-4ea0-a820-0e95260b0ffe",
   "metadata": {
    "tags": []
   },
   "source": [
    "# Average speed of IVT-objects"
   ]
  },
  {
   "cell_type": "code",
   "execution_count": null,
   "id": "e0cab28c-8d05-4815-830c-3515eb830fb2",
   "metadata": {
    "tags": []
   },
   "outputs": [],
   "source": [
    "fig, ax = plt.subplots()\n",
    "\n",
    "for i,season_ in enumerate(Season):\n",
    "\n",
    "    #fig, ax = plt.subplots()\n",
    "\n",
    "    dat=IVTobj_ls.sel_season(season=season_).obj_means(attr='speed')##obj_means(\"size\")\n",
    "    sns.kdeplot(dat,label=season_.name,color=bar_colors[i],lw=2.5,bw_adjust=0.3)\n",
    "   # sns.histplot(dat,label=season_.name,color=bar_colors[i],lw=2.5)\n",
    "    #sns.histplot(dat,label=season_.name,color=bar_colors[i],bins=100, stat='density')\n",
    "\n",
    "    \n",
    "\n",
    "ax.set_xlabel('average speed [m/s]')\n",
    "ax.set_ylabel('probability density')\n",
    "plt.legend()\n",
    "plt.grid()\n",
    "ax.set_xlim(0,70)"
   ]
  }
 ],
 "metadata": {
  "kernelspec": {
   "display_name": "MOAAP-Kernel",
   "language": "python",
   "name": "moaap_kernel"
  },
  "language_info": {
   "codemirror_mode": {
    "name": "ipython",
    "version": 3
   },
   "file_extension": ".py",
   "mimetype": "text/x-python",
   "name": "python",
   "nbconvert_exporter": "python",
   "pygments_lexer": "ipython3",
   "version": "3.12.2"
  }
 },
 "nbformat": 4,
 "nbformat_minor": 5
}
