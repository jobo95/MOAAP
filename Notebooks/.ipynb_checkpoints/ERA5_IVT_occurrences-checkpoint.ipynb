{
 "cells": [
  {
   "cell_type": "markdown",
   "id": "cb8087bc-3ab3-4be8-b418-587a36140d28",
   "metadata": {
    "tags": []
   },
   "source": [
    "# Occurrence frequencies of IVT object for regional control ICON experiment forced by CNMR (1984-2014)"
   ]
  },
  {
   "cell_type": "code",
   "execution_count": 1,
   "id": "dd3e894d-61de-4858-a4da-6a114668a677",
   "metadata": {
    "tags": []
   },
   "outputs": [
    {
     "name": "stderr",
     "output_type": "stream",
     "text": [
      "/work/aa0238/a271093/Conda/MOAAP_env/lib/python3.12/site-packages/pyproj/__init__.py:89: UserWarning: pyproj unable to set database path.\n",
      "  _pyproj_global_context_initialize()\n",
      "/work/aa0238/a271093/Scripts/MOAAP/src/xarray_util.py:135: AccessorRegistrationWarning: registration of accessor <class 'src.xarray_util.Accessor'> under name 'get' for type <class 'xarray.core.dataset.Dataset'> is overriding a preexisting attribute with the same name.\n",
      "  @xr.register_dataset_accessor(\"get\")\n"
     ]
    }
   ],
   "source": [
    "%load_ext autoreload\n",
    "%autoreload 2\n",
    "import xarray as xr\n",
    "import matplotlib.pyplot as plt\n",
    "import numpy as np\n",
    "import pandas as pd\n",
    "import scipy\n",
    "import datetime\n",
    "import cartopy\n",
    "from metpy.units import units\n",
    "import cartopy.crs as ccrs\n",
    "import pickle\n",
    "import os\n",
    "\n",
    "from src.utils import * \n",
    "from src.Corrections import * \n",
    "from src.Enumerations import Month, Season\n",
    "from src.xarray_util import *\n",
    "from src.plot_funcs import *\n",
    "from src.GridPoints import *"
   ]
  },
  {
   "cell_type": "markdown",
   "id": "931b1c3c-7040-47f2-b50d-3efb46e5414c",
   "metadata": {
    "tags": []
   },
   "source": [
    "## Settings"
   ]
  },
  {
   "cell_type": "code",
   "execution_count": 2,
   "id": "9f3c20f0-0290-49a6-bdad-d6b17c9a41ce",
   "metadata": {
    "tags": []
   },
   "outputs": [],
   "source": [
    "input_path = '/work/aa0238/a271093/results/MOAAP/IVT_Tracking/CNRM_control_remapped_3x/'\n",
    "type_='IVT'\n",
    "input_file_name_temp = 'MOAPP_ICON_100and85controlperc_remapped_3x'\n",
    "input_field_grid= '/work/aa0238/a271093/data/input/IVT_85_percentiles_CNMR_control_3dx3dy.nc'\n",
    "GridPoint.input_field_grid = input_field_grid\n",
    "\n",
    "first_year = 1984\n",
    "last_year = 2014\n",
    "num_years = last_year-first_year"
   ]
  },
  {
   "cell_type": "markdown",
   "id": "b85200a3-ea61-4b8e-88e9-76195feef26e",
   "metadata": {
    "tags": []
   },
   "source": [
    "## Load pickle dictionaries into in-memory Datasets"
   ]
  },
  {
   "cell_type": "code",
   "execution_count": null,
   "id": "85822d41-1eb6-4b58-a11f-f0009c765284",
   "metadata": {
    "tags": []
   },
   "outputs": [
    {
     "name": "stdout",
     "output_type": "stream",
     "text": [
      "1984-01-01 00:00:00\n",
      "1984-07-01 00:00:00\n",
      "1985-01-01 00:00:00\n",
      "1985-07-01 00:00:00\n",
      "1986-01-01 00:00:00\n",
      "1986-07-01 00:00:00\n",
      "1987-01-01 00:00:00\n",
      "1987-07-01 00:00:00\n",
      "1988-01-01 00:00:00\n",
      "1988-07-01 00:00:00\n",
      "1989-01-01 00:00:00\n",
      "1989-07-01 00:00:00\n",
      "1990-01-01 00:00:00\n",
      "1990-07-01 00:00:00\n",
      "1991-01-01 00:00:00\n",
      "1991-07-01 00:00:00\n",
      "1992-01-01 00:00:00\n",
      "1992-07-01 00:00:00\n"
     ]
    }
   ],
   "source": [
    "# create datetime lists\n",
    "start_date_list, end_date_list = create_datetime_lists(first_year,last_year, months=6, correct_last_endtime=False) \n",
    "first_processed_date = start_date_list[0]\n",
    "last_processed_date = end_date_list[-1]\n",
    "\n",
    "\n",
    "\n",
    "# create and append Tracking objects to list (including Tracking object coordinates)\n",
    "IVT_objs=Object_container([])\n",
    "\n",
    "for start_date, end_date in zip(start_date_list, end_date_list):\n",
    "    print(start_date)\n",
    "    pickle_file_path = f'{input_path}{type_}_{input_file_name_temp}_{get_datetime_str(start_date)}-{get_datetime_str(end_date)}_corrected'\n",
    "    \n",
    "    dict_ = load_pkl(pickle_file_path)\n",
    "    \n",
    "\n",
    "    for object_id in dict_.keys():\n",
    "        try:\n",
    "            ds = create_obj_from_dict(dict_,\n",
    "                                      object_id,\n",
    "                                      load_coordinates=True\n",
    "                                  \n",
    "                                     )\n",
    "        except ValueError as ex:\n",
    "            continue\n",
    "        \n",
    "        IVT_objs.append(ds)  \n",
    "    \n",
    "    "
   ]
  },
  {
   "cell_type": "code",
   "execution_count": null,
   "id": "511adb3a-eebd-48b5-81e0-70fa8b4a8352",
   "metadata": {
    "tags": []
   },
   "outputs": [],
   "source": [
    "IVT_objs[0]"
   ]
  },
  {
   "cell_type": "markdown",
   "id": "8a5bf7d2-c34a-4380-81c3-f224c09dd408",
   "metadata": {
    "tags": []
   },
   "source": [
    "# Plot number of days per season where a grid cell is part of an IVT object"
   ]
  },
  {
   "cell_type": "code",
   "execution_count": null,
   "id": "30843299-d8ea-43f0-8601-adffa4ae7d2b",
   "metadata": {
    "tags": []
   },
   "outputs": [],
   "source": [
    "fig = plt.figure(figsize=(80,14))\n",
    "\n",
    "for i, season_ in enumerate(Season):\n",
    "    print (season_)\n",
    "    IVTobjs_sel = IVT_objs.sel_season(season_)\n",
    "\n",
    "    lon,lat,z = count_objs_grid_points_new(IVTobjs_sel)\n",
    "    \n",
    "    # normalize grid point counts to counts per season\n",
    "    z= z/num_years\n",
    "    \n",
    "    plot_unstructured_rotated_grid(lon,\n",
    "                                  lat, \n",
    "                                  z, \n",
    "                                  fig=fig,\n",
    "                                  index = i,\n",
    "                                  title=season_.name,\n",
    "                                  cbar_label = \"IVT objects days per season\")\n",
    "    \n",
    "plt.tight_layout()\n"
   ]
  },
  {
   "cell_type": "code",
   "execution_count": null,
   "id": "d3491afe-bc1a-4b11-9bcb-2cdf50be773b",
   "metadata": {},
   "outputs": [],
   "source": []
  }
 ],
 "metadata": {
  "kernelspec": {
   "display_name": "MOAAP-Kernel",
   "language": "python",
   "name": "moaap_kernel"
  },
  "language_info": {
   "codemirror_mode": {
    "name": "ipython",
    "version": 3
   },
   "file_extension": ".py",
   "mimetype": "text/x-python",
   "name": "python",
   "nbconvert_exporter": "python",
   "pygments_lexer": "ipython3",
   "version": "3.12.2"
  }
 },
 "nbformat": 4,
 "nbformat_minor": 5
}
