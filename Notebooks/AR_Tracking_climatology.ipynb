{
 "cells": [
  {
   "cell_type": "markdown",
   "id": "3afad24d-3b3e-4564-b356-89afcebb173f",
   "metadata": {},
   "source": [
    "# Climatological tracking of IVT and AR objects using the MOAAP tracking algorithm\n",
    "- Load IVT tracking data in chunks of 7 months with 1 month overlap between chunks\n",
    "- Track individual data chunks and correct the pickle and netCdf4 files afterwards, so that each final corrected file corresponds to 6 month, from 1.1-1.7 and 1.7-1-1 respectively\n",
    "- Tracking should be done on a rotated grid to avoid strange behaviour around the pole when e.g. using a regular grid\n",
    "- Tracking data are remapped to 33km resolution\n"
   ]
  },
  {
   "cell_type": "raw",
   "id": "5c2f1242-2640-44b8-b13f-dbfcbc289262",
   "metadata": {},
   "source": []
  },
  {
   "cell_type": "code",
   "execution_count": 1,
   "id": "c82b8897-9b45-4561-8ae7-aef199414ba8",
   "metadata": {},
   "outputs": [
    {
     "name": "stderr",
     "output_type": "stream",
     "text": [
      "/work/aa0238/a271093/Conda/MOAAP_env/lib/python3.12/site-packages/pyproj/__init__.py:89: UserWarning: pyproj unable to set database path.\n",
      "  _pyproj_global_context_initialize()\n"
     ]
    }
   ],
   "source": [
    "%load_ext autoreload\n",
    "%autoreload 2\n",
    "import xarray as xr\n",
    "import matplotlib.pyplot as plt\n",
    "import numpy as np\n",
    "import pandas as pd\n",
    "import scipy\n",
    "import datetime\n",
    "import cartopy\n",
    "import cartopy.crs as ccrs\n",
    "import pickle\n",
    "#import Tracking_Functions\n",
    "from dateutil import relativedelta\n",
    "import os\n",
    "\n",
    "import src.Tracking_Functions as Tracking_Functions\n",
    "from src.TrackingDataLoader import load_tracking_data, get_datetime_array_from_ds \n",
    "from src.utils import * \n",
    "from src.Corrections import * \n",
    "from src.Enumerations import Experiments"
   ]
  },
  {
   "cell_type": "markdown",
   "id": "128eb1b9-7796-4d81-996f-7986c27c86c6",
   "metadata": {
    "tags": []
   },
   "source": [
    "# Settings"
   ]
  },
  {
   "cell_type": "code",
   "execution_count": 2,
   "id": "c780b1a7-6ae3-4c9a-be46-3ac9ecab02ae",
   "metadata": {},
   "outputs": [],
   "source": [
    "#data_path = '/work/aa0049/a271109/spice-v2.1/chain/work/polarres_wp3_cmip_CNRM/post/yearly/'\n",
    "#exp = Data.ICON_NORESM_EXP.value\n",
    "\n",
    "\n",
    "suffix = 'remapped_3x'\n",
    "file_type = '.nc'\n",
    "\n",
    "#######ICON########\n",
    "\n",
    "exp = Experiments.ICON_NORESM_CONTROL.value\n",
    "\n",
    "first_year = 1984\n",
    "last_year = 1985\n",
    "\n",
    "data_path = exp.path\n",
    "output_path = exp.IVTobj_out_path\n",
    "output_path = \"/work/aa0238/a271093/scratch/test/\"\n",
    "\n",
    "output_file_name_temp = f'MOAPP_ICON_100and85controlperc_{suffix}'\n",
    "\n",
    "#output_path = '/work/aa0238/a271093/scratch/Track_test/'\n",
    "threshold_file = exp.IVT_thresh_path+exp.IVT_thresh_file_85\n",
    "\n",
    "ds_ivt_pctl=xr.open_dataset(threshold_file,decode_times=False)\n",
    "IVTtrheshold=ds_ivt_pctl.IVT_85perc.values\n",
    "\n",
    "\n",
    "\n",
    "#####ERA5######\n",
    "\n",
    "#first_year = 1979\n",
    "#last_year = 2022\n",
    "\n",
    "\n",
    "#data_path = '/work/aa0238/a271093/data/ERA5/1979-2023/ICON_remapped_3x/'\n",
    "#output_path = '/work/aa0238/a271093/results/MOAAP/IVT_Tracking/ERA5_ICON_remapped_3x/'\n",
    "#output_file_name_temp = f'MOAPP_ERA5_100and85controlperc_{suffix}'\n",
    "#threshold_file = threshold_path+'ivt_percentile_mlauer_removed-ens-lev_remapbilWP3domain_3dx3dy.nc'\n",
    "\n",
    "#ds_ivt_pctl=xr.open_dataset(threshold_file,decode_times=False)\n",
    "#IVTtrheshold=ds_ivt_pctl.ivt1.values\n",
    "\n",
    "#######ICON SSP/NWP###########\n",
    "exp = Experiments.ICON_NWP_REFINED.value\n",
    "output_file_name_temp = f'MOAPP_ICON_100and85ERA5perc_{suffix}'\n",
    "\n",
    "\n",
    "first_year = exp.year_start\n",
    "last_year = exp.year_end\n",
    "\n",
    "data_path = exp.path_IVT\n",
    "output_path = exp.IVTobj_out_path\n",
    "#output_path = \"/work/aa0238/a271093/scratch/test/\"\n",
    "\n",
    "\n",
    "threshold_file = exp.IVT_thresh_path+exp.IVT_thresh_file_85\n",
    "\n",
    "ds_ivt_pctl=xr.open_dataset(threshold_file,decode_times=False)\n",
    "#IVTtrheshold=ds_ivt_pctl.IVT_85_perc.values\n",
    "IVTtrheshold=ds_ivt_pctl.ivt1.values\n",
    "\n",
    "\n",
    "\n",
    "###### ICON-ERA5###########\n",
    "#exp = Experiments.ICON_ERA5.value\n",
    "\n",
    "#first_year = exp.year_start\n",
    "#last_year = exp.year_end\n",
    "\n",
    "#data_path = exp.path_IVT\n",
    "#output_path = exp.IVTobj_out_path\n",
    "#output_path = \"/work/aa0238/a271093/scratch/test/\"\n",
    "\n",
    "#output_file_name_temp = f'MOAPP_ICON_ERA5_100and85ERA5perc_{suffix}'\n",
    "\n",
    "#threshold_file = exp.IVT_thresh_path+exp.IVT_thresh_file_85\n",
    "\n",
    "#ds_ivt_pctl=xr.open_dataset(threshold_file,decode_times=False)\n",
    "#IVTtrheshold=ds_ivt_pctl.ivt1.values\n",
    "\n",
    "#########ICON NWP\n"
   ]
  },
  {
   "cell_type": "code",
   "execution_count": 3,
   "id": "f67cde89-790e-448c-8612-636c6766a945",
   "metadata": {},
   "outputs": [],
   "source": [
    "start_date_list, end_date_list = create_datetime_lists(first_year,last_year) \n",
    "first_processed_date = start_date_list[0]\n",
    "last_processed_date = end_date_list[-1]"
   ]
  },
  {
   "cell_type": "code",
   "execution_count": 4,
   "id": "f6c9d39f-ebe9-4113-9018-9049e4bf2bf9",
   "metadata": {},
   "outputs": [
    {
     "data": {
      "text/plain": [
       "'/work/aa0238/a271093/results/MOAAP/IVT_Tracking/ICON_NWP_refined_remapped_3x/'"
      ]
     },
     "execution_count": 4,
     "metadata": {},
     "output_type": "execute_result"
    }
   ],
   "source": [
    "output_path"
   ]
  },
  {
   "cell_type": "code",
   "execution_count": 5,
   "id": "26e165ca-8907-449e-a0c4-289f86b58603",
   "metadata": {
    "scrolled": true,
    "tags": []
   },
   "outputs": [
    {
     "name": "stdout",
     "output_type": "stream",
     "text": [
      "\n",
      " \n",
      " \n",
      " \n",
      "\n",
      "1985-01-01 00:00:00 1985-08-01 00:00:00\n",
      " \n",
      "The provided variables allow tracking the following phenomena\n",
      " \n",
      "|  phenomenon  | tracking |\n",
      "---------------------------\n",
      "   Jetstream   |   no\n",
      "   PSL CY/ACY  |   no\n",
      "   Z500 CY/ACY |   no\n",
      "   COLs        |   no\n",
      "   IVT ARs     |   yes\n",
      "   MS ARs      |   no\n",
      "   Fronts      |   no\n",
      "   TCs         |   no\n",
      "   MCSs        |   no\n",
      "   Equ. Waves  |   no\n",
      "---------------------------\n",
      " \n",
      "======> track IVT streams and atmospheric rivers (ARs)\n",
      "        5273 object found\n",
      "        break up long living IVT objects that have many elements\n"
     ]
    },
    {
     "name": "stderr",
     "output_type": "stream",
     "text": [
      "100%|██████████| 573/573 [00:23<00:00, 24.28it/s]\n"
     ]
    },
    {
     "name": "stdout",
     "output_type": "stream",
     "text": [
      "        00:00:29.39\n",
      "9\n",
      "            Loop over 1389 objects\n"
     ]
    },
    {
     "name": "stderr",
     "output_type": "stream",
     "text": [
      "/work/aa0238/a271093/Scripts/MOAAP/src/Tracking_Functions.py:239: RuntimeWarning: All-NaN slice encountered\n",
      "  obj_min = np.nanmin(data_slice, axis=(1, 2))\n",
      "/work/aa0238/a271093/Scripts/MOAAP/src/Tracking_Functions.py:240: RuntimeWarning: All-NaN slice encountered\n",
      "  obj_max = np.nanmax(data_slice, axis=(1, 2))\n",
      "/work/aa0238/a271093/Scripts/MOAAP/src/Tracking_Functions.py:241: RuntimeWarning: Mean of empty slice\n",
      "  obj_mean = np.nanmean(data_slice, axis=(1, 2))\n",
      "/work/aa0238/a271093/Conda/MOAAP_env/lib/python3.12/site-packages/scipy/ndimage/_measurements.py:1541: RuntimeWarning: invalid value encountered in scalar divide\n",
      "  results = [sum(input * grids[dir].astype(float), labels, index) / normalizer\n"
     ]
    },
    {
     "name": "stdout",
     "output_type": "stream",
     "text": [
      "        check if MSs quallify as ARs\n"
     ]
    },
    {
     "name": "stderr",
     "output_type": "stream",
     "text": [
      "/work/aa0238/a271093/Scripts/MOAAP/src/Tracking_Functions.py:4036: RuntimeWarning: divide by zero encountered in scalar divide\n",
      "  if DIST.max() / DIST.min() < AR_width_lenght_ratio:\n"
     ]
    },
    {
     "name": "stdout",
     "output_type": "stream",
     "text": [
      "            Loop over 1389 objects\n",
      "        00:01:07.99\n",
      " \n",
      "Save the object masks into a joint netCDF\n",
      "Saved: /work/aa0238/a271093/results/MOAAP/IVT_Tracking/ICON_NWP_refined_remapped_3x/ObjectMasks_MOAPP_ICON_100and85ERA5perc_remapped_3x_1985_01_01-1985_08_01.nc\n",
      "        00:00:25.75\n",
      "clean up /work/aa0238/a271093/results/MOAAP/IVT_Tracking/ICON_NWP_refined_remapped_3x/IVT_MOAPP_ICON_100and85ERA5perc_remapped_3x_1985_01_01-1985_07_01.pkl\n",
      "clean up finished\n",
      "clean up /work/aa0238/a271093/results/MOAAP/IVT_Tracking/ICON_NWP_refined_remapped_3x/ARs_MOAPP_ICON_100and85ERA5perc_remapped_3x_1985_01_01-1985_07_01.pkl\n",
      "clean up finished\n",
      "correct nc-file with \n",
      " cdo -selmon,1,2,3,4,5,6 /work/aa0238/a271093/results/MOAAP/IVT_Tracking/ICON_NWP_refined_remapped_3x/ObjectMasks_MOAPP_ICON_100and85ERA5perc_remapped_3x_1985_01_01-1985_08_01.nc /work/aa0238/a271093/results/MOAAP/IVT_Tracking/ICON_NWP_refined_remapped_3x/ObjectMasks_MOAPP_ICON_100and85ERA5perc_remapped_3x_1985_01_01-1985_07_01_corrected.nc\n",
      "\n",
      " \n",
      " \n",
      " \n",
      "\n",
      "1985-07-01 00:00:00 1986-02-01 00:00:00\n",
      " \n",
      "The provided variables allow tracking the following phenomena\n",
      " \n",
      "|  phenomenon  | tracking |\n",
      "---------------------------\n",
      "   Jetstream   |   no\n",
      "   PSL CY/ACY  |   no\n",
      "   Z500 CY/ACY |   no\n",
      "   COLs        |   no\n",
      "   IVT ARs     |   yes\n",
      "   MS ARs      |   no\n",
      "   Fronts      |   no\n",
      "   TCs         |   no\n",
      "   MCSs        |   no\n",
      "   Equ. Waves  |   no\n",
      "---------------------------\n",
      " \n",
      "======> track IVT streams and atmospheric rivers (ARs)\n",
      "        6563 object found\n",
      "        break up long living IVT objects that have many elements\n"
     ]
    },
    {
     "name": "stderr",
     "output_type": "stream",
     "text": [
      "100%|██████████| 593/593 [00:26<00:00, 22.41it/s]\n"
     ]
    },
    {
     "name": "stdout",
     "output_type": "stream",
     "text": [
      "        00:00:32.75\n",
      "9\n",
      "            Loop over 1540 objects\n",
      "        check if MSs quallify as ARs\n"
     ]
    },
    {
     "name": "stderr",
     "output_type": "stream",
     "text": [
      "/work/aa0238/a271093/Scripts/MOAAP/src/Tracking_Functions.py:4036: RuntimeWarning: divide by zero encountered in scalar divide\n",
      "  if DIST.max() / DIST.min() < AR_width_lenght_ratio:\n"
     ]
    },
    {
     "name": "stdout",
     "output_type": "stream",
     "text": [
      "            Loop over 1540 objects\n"
     ]
    },
    {
     "name": "stderr",
     "output_type": "stream",
     "text": [
      "/work/aa0238/a271093/Scripts/MOAAP/src/Tracking_Functions.py:239: RuntimeWarning: All-NaN slice encountered\n",
      "  obj_min = np.nanmin(data_slice, axis=(1, 2))\n",
      "/work/aa0238/a271093/Scripts/MOAAP/src/Tracking_Functions.py:240: RuntimeWarning: All-NaN slice encountered\n",
      "  obj_max = np.nanmax(data_slice, axis=(1, 2))\n",
      "/work/aa0238/a271093/Scripts/MOAAP/src/Tracking_Functions.py:241: RuntimeWarning: Mean of empty slice\n",
      "  obj_mean = np.nanmean(data_slice, axis=(1, 2))\n",
      "/work/aa0238/a271093/Conda/MOAAP_env/lib/python3.12/site-packages/scipy/ndimage/_measurements.py:1541: RuntimeWarning: invalid value encountered in scalar divide\n",
      "  results = [sum(input * grids[dir].astype(float), labels, index) / normalizer\n"
     ]
    },
    {
     "name": "stdout",
     "output_type": "stream",
     "text": [
      "        00:01:14.20\n",
      " \n",
      "Save the object masks into a joint netCDF\n",
      "Saved: /work/aa0238/a271093/results/MOAAP/IVT_Tracking/ICON_NWP_refined_remapped_3x/ObjectMasks_MOAPP_ICON_100and85ERA5perc_remapped_3x_1985_07_01-1986_02_01.nc\n",
      "        00:00:25.80\n",
      "clean up /work/aa0238/a271093/results/MOAAP/IVT_Tracking/ICON_NWP_refined_remapped_3x/IVT_MOAPP_ICON_100and85ERA5perc_remapped_3x_1985_07_01-1986_01_01.pkl\n",
      "clean up finished\n",
      "clean up /work/aa0238/a271093/results/MOAAP/IVT_Tracking/ICON_NWP_refined_remapped_3x/ARs_MOAPP_ICON_100and85ERA5perc_remapped_3x_1985_07_01-1986_01_01.pkl\n",
      "clean up finished\n",
      "correct nc-file with \n",
      " cdo -selmon,6,7,8,9,10,11,12 /work/aa0238/a271093/results/MOAAP/IVT_Tracking/ICON_NWP_refined_remapped_3x/ObjectMasks_MOAPP_ICON_100and85ERA5perc_remapped_3x_1985_07_01-1986_02_01.nc /work/aa0238/a271093/results/MOAAP/IVT_Tracking/ICON_NWP_refined_remapped_3x/ObjectMasks_MOAPP_ICON_100and85ERA5perc_remapped_3x_1985_07_01-1986_01_01_corrected.nc\n",
      "\n",
      " \n",
      " \n",
      " \n",
      "\n",
      "1986-01-01 00:00:00 1986-08-01 00:00:00\n",
      " \n",
      "The provided variables allow tracking the following phenomena\n",
      " \n",
      "|  phenomenon  | tracking |\n",
      "---------------------------\n",
      "   Jetstream   |   no\n",
      "   PSL CY/ACY  |   no\n",
      "   Z500 CY/ACY |   no\n",
      "   COLs        |   no\n",
      "   IVT ARs     |   yes\n",
      "   MS ARs      |   no\n",
      "   Fronts      |   no\n",
      "   TCs         |   no\n",
      "   MCSs        |   no\n",
      "   Equ. Waves  |   no\n",
      "---------------------------\n",
      " \n",
      "======> track IVT streams and atmospheric rivers (ARs)\n",
      "        5952 object found\n",
      "        break up long living IVT objects that have many elements\n"
     ]
    },
    {
     "name": "stderr",
     "output_type": "stream",
     "text": [
      "100%|██████████| 560/560 [00:24<00:00, 22.55it/s]\n"
     ]
    },
    {
     "name": "stdout",
     "output_type": "stream",
     "text": [
      "        00:00:30.61\n",
      "9\n",
      "            Loop over 1503 objects\n"
     ]
    },
    {
     "name": "stderr",
     "output_type": "stream",
     "text": [
      "/work/aa0238/a271093/Scripts/MOAAP/src/Tracking_Functions.py:239: RuntimeWarning: All-NaN slice encountered\n",
      "  obj_min = np.nanmin(data_slice, axis=(1, 2))\n",
      "/work/aa0238/a271093/Scripts/MOAAP/src/Tracking_Functions.py:240: RuntimeWarning: All-NaN slice encountered\n",
      "  obj_max = np.nanmax(data_slice, axis=(1, 2))\n",
      "/work/aa0238/a271093/Scripts/MOAAP/src/Tracking_Functions.py:241: RuntimeWarning: Mean of empty slice\n",
      "  obj_mean = np.nanmean(data_slice, axis=(1, 2))\n",
      "/work/aa0238/a271093/Conda/MOAAP_env/lib/python3.12/site-packages/scipy/ndimage/_measurements.py:1541: RuntimeWarning: invalid value encountered in scalar divide\n",
      "  results = [sum(input * grids[dir].astype(float), labels, index) / normalizer\n"
     ]
    },
    {
     "name": "stdout",
     "output_type": "stream",
     "text": [
      "        check if MSs quallify as ARs\n"
     ]
    },
    {
     "name": "stderr",
     "output_type": "stream",
     "text": [
      "/work/aa0238/a271093/Scripts/MOAAP/src/Tracking_Functions.py:4036: RuntimeWarning: divide by zero encountered in scalar divide\n",
      "  if DIST.max() / DIST.min() < AR_width_lenght_ratio:\n"
     ]
    },
    {
     "name": "stdout",
     "output_type": "stream",
     "text": [
      "            Loop over 1503 objects\n",
      "        00:01:14.65\n",
      " \n",
      "Save the object masks into a joint netCDF\n",
      "Saved: /work/aa0238/a271093/results/MOAAP/IVT_Tracking/ICON_NWP_refined_remapped_3x/ObjectMasks_MOAPP_ICON_100and85ERA5perc_remapped_3x_1986_01_01-1986_08_01.nc\n",
      "        00:00:24.66\n",
      "clean up /work/aa0238/a271093/results/MOAAP/IVT_Tracking/ICON_NWP_refined_remapped_3x/IVT_MOAPP_ICON_100and85ERA5perc_remapped_3x_1986_01_01-1986_07_01.pkl\n",
      "clean up finished\n",
      "clean up /work/aa0238/a271093/results/MOAAP/IVT_Tracking/ICON_NWP_refined_remapped_3x/ARs_MOAPP_ICON_100and85ERA5perc_remapped_3x_1986_01_01-1986_07_01.pkl\n",
      "clean up finished\n",
      "correct nc-file with \n",
      " cdo -selmon,1,2,3,4,5,6 /work/aa0238/a271093/results/MOAAP/IVT_Tracking/ICON_NWP_refined_remapped_3x/ObjectMasks_MOAPP_ICON_100and85ERA5perc_remapped_3x_1986_01_01-1986_08_01.nc /work/aa0238/a271093/results/MOAAP/IVT_Tracking/ICON_NWP_refined_remapped_3x/ObjectMasks_MOAPP_ICON_100and85ERA5perc_remapped_3x_1986_01_01-1986_07_01_corrected.nc\n",
      "\n",
      " \n",
      " \n",
      " \n",
      "\n",
      "1986-07-01 00:00:00 1987-02-01 00:00:00\n",
      " \n",
      "The provided variables allow tracking the following phenomena\n",
      " \n",
      "|  phenomenon  | tracking |\n",
      "---------------------------\n",
      "   Jetstream   |   no\n",
      "   PSL CY/ACY  |   no\n",
      "   Z500 CY/ACY |   no\n",
      "   COLs        |   no\n",
      "   IVT ARs     |   yes\n",
      "   MS ARs      |   no\n",
      "   Fronts      |   no\n",
      "   TCs         |   no\n",
      "   MCSs        |   no\n",
      "   Equ. Waves  |   no\n",
      "---------------------------\n",
      " \n",
      "======> track IVT streams and atmospheric rivers (ARs)\n",
      "        6168 object found\n",
      "        break up long living IVT objects that have many elements\n"
     ]
    },
    {
     "name": "stderr",
     "output_type": "stream",
     "text": [
      "100%|██████████| 547/547 [00:27<00:00, 19.79it/s]\n"
     ]
    },
    {
     "name": "stdout",
     "output_type": "stream",
     "text": [
      "        00:00:34.24\n",
      "9\n",
      "            Loop over 1491 objects\n",
      "        check if MSs quallify as ARs\n"
     ]
    },
    {
     "name": "stderr",
     "output_type": "stream",
     "text": [
      "/work/aa0238/a271093/Scripts/MOAAP/src/Tracking_Functions.py:4036: RuntimeWarning: divide by zero encountered in scalar divide\n",
      "  if DIST.max() / DIST.min() < AR_width_lenght_ratio:\n"
     ]
    },
    {
     "name": "stdout",
     "output_type": "stream",
     "text": [
      "            Loop over 1490 objects\n"
     ]
    },
    {
     "name": "stderr",
     "output_type": "stream",
     "text": [
      "/work/aa0238/a271093/Scripts/MOAAP/src/Tracking_Functions.py:239: RuntimeWarning: All-NaN slice encountered\n",
      "  obj_min = np.nanmin(data_slice, axis=(1, 2))\n",
      "/work/aa0238/a271093/Scripts/MOAAP/src/Tracking_Functions.py:240: RuntimeWarning: All-NaN slice encountered\n",
      "  obj_max = np.nanmax(data_slice, axis=(1, 2))\n",
      "/work/aa0238/a271093/Scripts/MOAAP/src/Tracking_Functions.py:241: RuntimeWarning: Mean of empty slice\n",
      "  obj_mean = np.nanmean(data_slice, axis=(1, 2))\n",
      "/work/aa0238/a271093/Conda/MOAAP_env/lib/python3.12/site-packages/scipy/ndimage/_measurements.py:1541: RuntimeWarning: invalid value encountered in scalar divide\n",
      "  results = [sum(input * grids[dir].astype(float), labels, index) / normalizer\n"
     ]
    },
    {
     "name": "stdout",
     "output_type": "stream",
     "text": [
      "        00:01:18.11\n",
      " \n",
      "Save the object masks into a joint netCDF\n",
      "Saved: /work/aa0238/a271093/results/MOAAP/IVT_Tracking/ICON_NWP_refined_remapped_3x/ObjectMasks_MOAPP_ICON_100and85ERA5perc_remapped_3x_1986_07_01-1987_02_01.nc\n",
      "        00:00:25.29\n",
      "clean up /work/aa0238/a271093/results/MOAAP/IVT_Tracking/ICON_NWP_refined_remapped_3x/IVT_MOAPP_ICON_100and85ERA5perc_remapped_3x_1986_07_01-1987_01_01.pkl\n",
      "clean up finished\n",
      "clean up /work/aa0238/a271093/results/MOAAP/IVT_Tracking/ICON_NWP_refined_remapped_3x/ARs_MOAPP_ICON_100and85ERA5perc_remapped_3x_1986_07_01-1987_01_01.pkl\n",
      "clean up finished\n",
      "correct nc-file with \n",
      " cdo -selmon,6,7,8,9,10,11,12 /work/aa0238/a271093/results/MOAAP/IVT_Tracking/ICON_NWP_refined_remapped_3x/ObjectMasks_MOAPP_ICON_100and85ERA5perc_remapped_3x_1986_07_01-1987_02_01.nc /work/aa0238/a271093/results/MOAAP/IVT_Tracking/ICON_NWP_refined_remapped_3x/ObjectMasks_MOAPP_ICON_100and85ERA5perc_remapped_3x_1986_07_01-1987_01_01_corrected.nc\n",
      "\n",
      " \n",
      " \n",
      " \n",
      "\n",
      "1987-01-01 00:00:00 1987-08-01 00:00:00\n",
      " \n",
      "The provided variables allow tracking the following phenomena\n",
      " \n",
      "|  phenomenon  | tracking |\n",
      "---------------------------\n",
      "   Jetstream   |   no\n",
      "   PSL CY/ACY  |   no\n",
      "   Z500 CY/ACY |   no\n",
      "   COLs        |   no\n",
      "   IVT ARs     |   yes\n",
      "   MS ARs      |   no\n",
      "   Fronts      |   no\n",
      "   TCs         |   no\n",
      "   MCSs        |   no\n",
      "   Equ. Waves  |   no\n",
      "---------------------------\n",
      " \n",
      "======> track IVT streams and atmospheric rivers (ARs)\n",
      "        6422 object found\n",
      "        break up long living IVT objects that have many elements\n"
     ]
    },
    {
     "name": "stderr",
     "output_type": "stream",
     "text": [
      "100%|██████████| 584/584 [00:23<00:00, 24.97it/s]\n"
     ]
    },
    {
     "name": "stdout",
     "output_type": "stream",
     "text": [
      "        00:00:29.08\n",
      "9\n",
      "            Loop over 1315 objects\n"
     ]
    },
    {
     "name": "stderr",
     "output_type": "stream",
     "text": [
      "/work/aa0238/a271093/Scripts/MOAAP/src/Tracking_Functions.py:239: RuntimeWarning: All-NaN slice encountered\n",
      "  obj_min = np.nanmin(data_slice, axis=(1, 2))\n",
      "/work/aa0238/a271093/Scripts/MOAAP/src/Tracking_Functions.py:240: RuntimeWarning: All-NaN slice encountered\n",
      "  obj_max = np.nanmax(data_slice, axis=(1, 2))\n",
      "/work/aa0238/a271093/Scripts/MOAAP/src/Tracking_Functions.py:241: RuntimeWarning: Mean of empty slice\n",
      "  obj_mean = np.nanmean(data_slice, axis=(1, 2))\n",
      "/work/aa0238/a271093/Conda/MOAAP_env/lib/python3.12/site-packages/scipy/ndimage/_measurements.py:1541: RuntimeWarning: invalid value encountered in scalar divide\n",
      "  results = [sum(input * grids[dir].astype(float), labels, index) / normalizer\n"
     ]
    },
    {
     "name": "stdout",
     "output_type": "stream",
     "text": [
      "        check if MSs quallify as ARs\n"
     ]
    },
    {
     "name": "stderr",
     "output_type": "stream",
     "text": [
      "/work/aa0238/a271093/Scripts/MOAAP/src/Tracking_Functions.py:4036: RuntimeWarning: divide by zero encountered in scalar divide\n",
      "  if DIST.max() / DIST.min() < AR_width_lenght_ratio:\n"
     ]
    },
    {
     "name": "stdout",
     "output_type": "stream",
     "text": [
      "            Loop over 1311 objects\n",
      "        00:01:06.50\n",
      " \n",
      "Save the object masks into a joint netCDF\n",
      "Saved: /work/aa0238/a271093/results/MOAAP/IVT_Tracking/ICON_NWP_refined_remapped_3x/ObjectMasks_MOAPP_ICON_100and85ERA5perc_remapped_3x_1987_01_01-1987_08_01.nc\n",
      "        00:00:28.32\n",
      "clean up /work/aa0238/a271093/results/MOAAP/IVT_Tracking/ICON_NWP_refined_remapped_3x/IVT_MOAPP_ICON_100and85ERA5perc_remapped_3x_1987_01_01-1987_07_01.pkl\n",
      "clean up finished\n",
      "clean up /work/aa0238/a271093/results/MOAAP/IVT_Tracking/ICON_NWP_refined_remapped_3x/ARs_MOAPP_ICON_100and85ERA5perc_remapped_3x_1987_01_01-1987_07_01.pkl\n",
      "clean up finished\n",
      "correct nc-file with \n",
      " cdo -selmon,1,2,3,4,5,6 /work/aa0238/a271093/results/MOAAP/IVT_Tracking/ICON_NWP_refined_remapped_3x/ObjectMasks_MOAPP_ICON_100and85ERA5perc_remapped_3x_1987_01_01-1987_08_01.nc /work/aa0238/a271093/results/MOAAP/IVT_Tracking/ICON_NWP_refined_remapped_3x/ObjectMasks_MOAPP_ICON_100and85ERA5perc_remapped_3x_1987_01_01-1987_07_01_corrected.nc\n",
      "\n",
      " \n",
      " \n",
      " \n",
      "\n",
      "1987-07-01 00:00:00 1988-02-01 00:00:00\n",
      " \n",
      "The provided variables allow tracking the following phenomena\n",
      " \n",
      "|  phenomenon  | tracking |\n",
      "---------------------------\n",
      "   Jetstream   |   no\n",
      "   PSL CY/ACY  |   no\n",
      "   Z500 CY/ACY |   no\n",
      "   COLs        |   no\n",
      "   IVT ARs     |   yes\n",
      "   MS ARs      |   no\n",
      "   Fronts      |   no\n",
      "   TCs         |   no\n",
      "   MCSs        |   no\n",
      "   Equ. Waves  |   no\n",
      "---------------------------\n",
      " \n",
      "======> track IVT streams and atmospheric rivers (ARs)\n",
      "        6599 object found\n",
      "        break up long living IVT objects that have many elements\n"
     ]
    },
    {
     "name": "stderr",
     "output_type": "stream",
     "text": [
      "100%|██████████| 540/540 [00:23<00:00, 23.11it/s]\n"
     ]
    },
    {
     "name": "stdout",
     "output_type": "stream",
     "text": [
      "        00:00:29.35\n",
      "9\n",
      "            Loop over 1318 objects\n"
     ]
    },
    {
     "name": "stderr",
     "output_type": "stream",
     "text": [
      "/work/aa0238/a271093/Scripts/MOAAP/src/Tracking_Functions.py:239: RuntimeWarning: All-NaN slice encountered\n",
      "  obj_min = np.nanmin(data_slice, axis=(1, 2))\n",
      "/work/aa0238/a271093/Scripts/MOAAP/src/Tracking_Functions.py:240: RuntimeWarning: All-NaN slice encountered\n",
      "  obj_max = np.nanmax(data_slice, axis=(1, 2))\n",
      "/work/aa0238/a271093/Scripts/MOAAP/src/Tracking_Functions.py:241: RuntimeWarning: Mean of empty slice\n",
      "  obj_mean = np.nanmean(data_slice, axis=(1, 2))\n",
      "/work/aa0238/a271093/Conda/MOAAP_env/lib/python3.12/site-packages/scipy/ndimage/_measurements.py:1541: RuntimeWarning: invalid value encountered in scalar divide\n",
      "  results = [sum(input * grids[dir].astype(float), labels, index) / normalizer\n"
     ]
    },
    {
     "name": "stdout",
     "output_type": "stream",
     "text": [
      "        check if MSs quallify as ARs\n"
     ]
    },
    {
     "name": "stderr",
     "output_type": "stream",
     "text": [
      "/work/aa0238/a271093/Scripts/MOAAP/src/Tracking_Functions.py:4036: RuntimeWarning: divide by zero encountered in scalar divide\n",
      "  if DIST.max() / DIST.min() < AR_width_lenght_ratio:\n"
     ]
    },
    {
     "name": "stdout",
     "output_type": "stream",
     "text": [
      "            Loop over 1318 objects\n",
      "        00:01:13.51\n",
      " \n",
      "Save the object masks into a joint netCDF\n",
      "Saved: /work/aa0238/a271093/results/MOAAP/IVT_Tracking/ICON_NWP_refined_remapped_3x/ObjectMasks_MOAPP_ICON_100and85ERA5perc_remapped_3x_1987_07_01-1988_02_01.nc\n",
      "        00:00:24.75\n",
      "clean up /work/aa0238/a271093/results/MOAAP/IVT_Tracking/ICON_NWP_refined_remapped_3x/IVT_MOAPP_ICON_100and85ERA5perc_remapped_3x_1987_07_01-1988_01_01.pkl\n",
      "clean up finished\n",
      "clean up /work/aa0238/a271093/results/MOAAP/IVT_Tracking/ICON_NWP_refined_remapped_3x/ARs_MOAPP_ICON_100and85ERA5perc_remapped_3x_1987_07_01-1988_01_01.pkl\n",
      "clean up finished\n",
      "correct nc-file with \n",
      " cdo -selmon,6,7,8,9,10,11,12 /work/aa0238/a271093/results/MOAAP/IVT_Tracking/ICON_NWP_refined_remapped_3x/ObjectMasks_MOAPP_ICON_100and85ERA5perc_remapped_3x_1987_07_01-1988_02_01.nc /work/aa0238/a271093/results/MOAAP/IVT_Tracking/ICON_NWP_refined_remapped_3x/ObjectMasks_MOAPP_ICON_100and85ERA5perc_remapped_3x_1987_07_01-1988_01_01_corrected.nc\n",
      "\n",
      " \n",
      " \n",
      " \n",
      "\n",
      "1988-01-01 00:00:00 1988-08-01 00:00:00\n",
      " \n",
      "The provided variables allow tracking the following phenomena\n",
      " \n",
      "|  phenomenon  | tracking |\n",
      "---------------------------\n",
      "   Jetstream   |   no\n",
      "   PSL CY/ACY  |   no\n",
      "   Z500 CY/ACY |   no\n",
      "   COLs        |   no\n",
      "   IVT ARs     |   yes\n",
      "   MS ARs      |   no\n",
      "   Fronts      |   no\n",
      "   TCs         |   no\n",
      "   MCSs        |   no\n",
      "   Equ. Waves  |   no\n",
      "---------------------------\n",
      " \n",
      "======> track IVT streams and atmospheric rivers (ARs)\n",
      "        6755 object found\n",
      "        break up long living IVT objects that have many elements\n"
     ]
    },
    {
     "name": "stderr",
     "output_type": "stream",
     "text": [
      "100%|██████████| 620/620 [00:22<00:00, 27.54it/s]\n"
     ]
    },
    {
     "name": "stdout",
     "output_type": "stream",
     "text": [
      "        00:00:28.41\n",
      "9\n",
      "            Loop over 1410 objects\n"
     ]
    },
    {
     "name": "stderr",
     "output_type": "stream",
     "text": [
      "/work/aa0238/a271093/Scripts/MOAAP/src/Tracking_Functions.py:239: RuntimeWarning: All-NaN slice encountered\n",
      "  obj_min = np.nanmin(data_slice, axis=(1, 2))\n",
      "/work/aa0238/a271093/Scripts/MOAAP/src/Tracking_Functions.py:240: RuntimeWarning: All-NaN slice encountered\n",
      "  obj_max = np.nanmax(data_slice, axis=(1, 2))\n",
      "/work/aa0238/a271093/Scripts/MOAAP/src/Tracking_Functions.py:241: RuntimeWarning: Mean of empty slice\n",
      "  obj_mean = np.nanmean(data_slice, axis=(1, 2))\n",
      "/work/aa0238/a271093/Conda/MOAAP_env/lib/python3.12/site-packages/scipy/ndimage/_measurements.py:1541: RuntimeWarning: invalid value encountered in scalar divide\n",
      "  results = [sum(input * grids[dir].astype(float), labels, index) / normalizer\n"
     ]
    },
    {
     "name": "stdout",
     "output_type": "stream",
     "text": [
      "        check if MSs quallify as ARs\n"
     ]
    },
    {
     "name": "stderr",
     "output_type": "stream",
     "text": [
      "/work/aa0238/a271093/Scripts/MOAAP/src/Tracking_Functions.py:4036: RuntimeWarning: divide by zero encountered in scalar divide\n",
      "  if DIST.max() / DIST.min() < AR_width_lenght_ratio:\n"
     ]
    },
    {
     "name": "stdout",
     "output_type": "stream",
     "text": [
      "            Loop over 1409 objects\n",
      "        00:01:08.34\n",
      " \n",
      "Save the object masks into a joint netCDF\n",
      "Saved: /work/aa0238/a271093/results/MOAAP/IVT_Tracking/ICON_NWP_refined_remapped_3x/ObjectMasks_MOAPP_ICON_100and85ERA5perc_remapped_3x_1988_01_01-1988_08_01.nc\n",
      "        00:00:25.33\n",
      "clean up /work/aa0238/a271093/results/MOAAP/IVT_Tracking/ICON_NWP_refined_remapped_3x/IVT_MOAPP_ICON_100and85ERA5perc_remapped_3x_1988_01_01-1988_07_01.pkl\n",
      "clean up finished\n",
      "clean up /work/aa0238/a271093/results/MOAAP/IVT_Tracking/ICON_NWP_refined_remapped_3x/ARs_MOAPP_ICON_100and85ERA5perc_remapped_3x_1988_01_01-1988_07_01.pkl\n",
      "clean up finished\n",
      "correct nc-file with \n",
      " cdo -selmon,1,2,3,4,5,6 /work/aa0238/a271093/results/MOAAP/IVT_Tracking/ICON_NWP_refined_remapped_3x/ObjectMasks_MOAPP_ICON_100and85ERA5perc_remapped_3x_1988_01_01-1988_08_01.nc /work/aa0238/a271093/results/MOAAP/IVT_Tracking/ICON_NWP_refined_remapped_3x/ObjectMasks_MOAPP_ICON_100and85ERA5perc_remapped_3x_1988_01_01-1988_07_01_corrected.nc\n",
      "\n",
      " \n",
      " \n",
      " \n",
      "\n",
      "1988-07-01 00:00:00 1989-02-01 00:00:00\n",
      " \n",
      "The provided variables allow tracking the following phenomena\n",
      " \n",
      "|  phenomenon  | tracking |\n",
      "---------------------------\n",
      "   Jetstream   |   no\n",
      "   PSL CY/ACY  |   no\n",
      "   Z500 CY/ACY |   no\n",
      "   COLs        |   no\n",
      "   IVT ARs     |   yes\n",
      "   MS ARs      |   no\n",
      "   Fronts      |   no\n",
      "   TCs         |   no\n",
      "   MCSs        |   no\n",
      "   Equ. Waves  |   no\n",
      "---------------------------\n",
      " \n",
      "======> track IVT streams and atmospheric rivers (ARs)\n",
      "        6693 object found\n",
      "        break up long living IVT objects that have many elements\n"
     ]
    },
    {
     "name": "stderr",
     "output_type": "stream",
     "text": [
      "100%|██████████| 563/563 [00:23<00:00, 24.32it/s]\n"
     ]
    },
    {
     "name": "stdout",
     "output_type": "stream",
     "text": [
      "        00:00:29.70\n",
      "9\n",
      "            Loop over 1397 objects\n"
     ]
    },
    {
     "name": "stderr",
     "output_type": "stream",
     "text": [
      "/work/aa0238/a271093/Scripts/MOAAP/src/Tracking_Functions.py:239: RuntimeWarning: All-NaN slice encountered\n",
      "  obj_min = np.nanmin(data_slice, axis=(1, 2))\n",
      "/work/aa0238/a271093/Scripts/MOAAP/src/Tracking_Functions.py:240: RuntimeWarning: All-NaN slice encountered\n",
      "  obj_max = np.nanmax(data_slice, axis=(1, 2))\n",
      "/work/aa0238/a271093/Scripts/MOAAP/src/Tracking_Functions.py:241: RuntimeWarning: Mean of empty slice\n",
      "  obj_mean = np.nanmean(data_slice, axis=(1, 2))\n",
      "/work/aa0238/a271093/Conda/MOAAP_env/lib/python3.12/site-packages/scipy/ndimage/_measurements.py:1541: RuntimeWarning: invalid value encountered in scalar divide\n",
      "  results = [sum(input * grids[dir].astype(float), labels, index) / normalizer\n"
     ]
    },
    {
     "name": "stdout",
     "output_type": "stream",
     "text": [
      "        check if MSs quallify as ARs\n"
     ]
    },
    {
     "name": "stderr",
     "output_type": "stream",
     "text": [
      "/work/aa0238/a271093/Scripts/MOAAP/src/Tracking_Functions.py:4036: RuntimeWarning: divide by zero encountered in scalar divide\n",
      "  if DIST.max() / DIST.min() < AR_width_lenght_ratio:\n"
     ]
    },
    {
     "name": "stdout",
     "output_type": "stream",
     "text": [
      "            Loop over 1391 objects\n",
      "        00:01:10.14\n",
      " \n",
      "Save the object masks into a joint netCDF\n",
      "Saved: /work/aa0238/a271093/results/MOAAP/IVT_Tracking/ICON_NWP_refined_remapped_3x/ObjectMasks_MOAPP_ICON_100and85ERA5perc_remapped_3x_1988_07_01-1989_02_01.nc\n",
      "        00:00:25.24\n",
      "clean up /work/aa0238/a271093/results/MOAAP/IVT_Tracking/ICON_NWP_refined_remapped_3x/IVT_MOAPP_ICON_100and85ERA5perc_remapped_3x_1988_07_01-1989_01_01.pkl\n",
      "clean up finished\n",
      "clean up /work/aa0238/a271093/results/MOAAP/IVT_Tracking/ICON_NWP_refined_remapped_3x/ARs_MOAPP_ICON_100and85ERA5perc_remapped_3x_1988_07_01-1989_01_01.pkl\n",
      "clean up finished\n",
      "correct nc-file with \n",
      " cdo -selmon,6,7,8,9,10,11,12 /work/aa0238/a271093/results/MOAAP/IVT_Tracking/ICON_NWP_refined_remapped_3x/ObjectMasks_MOAPP_ICON_100and85ERA5perc_remapped_3x_1988_07_01-1989_02_01.nc /work/aa0238/a271093/results/MOAAP/IVT_Tracking/ICON_NWP_refined_remapped_3x/ObjectMasks_MOAPP_ICON_100and85ERA5perc_remapped_3x_1988_07_01-1989_01_01_corrected.nc\n",
      "\n",
      " \n",
      " \n",
      " \n",
      "\n",
      "1989-01-01 00:00:00 1989-08-01 00:00:00\n",
      " \n",
      "The provided variables allow tracking the following phenomena\n",
      " \n",
      "|  phenomenon  | tracking |\n",
      "---------------------------\n",
      "   Jetstream   |   no\n",
      "   PSL CY/ACY  |   no\n",
      "   Z500 CY/ACY |   no\n",
      "   COLs        |   no\n",
      "   IVT ARs     |   yes\n",
      "   MS ARs      |   no\n",
      "   Fronts      |   no\n",
      "   TCs         |   no\n",
      "   MCSs        |   no\n",
      "   Equ. Waves  |   no\n",
      "---------------------------\n",
      " \n",
      "======> track IVT streams and atmospheric rivers (ARs)\n",
      "        5816 object found\n",
      "        break up long living IVT objects that have many elements\n"
     ]
    },
    {
     "name": "stderr",
     "output_type": "stream",
     "text": [
      "100%|██████████| 622/622 [00:24<00:00, 25.05it/s]\n"
     ]
    },
    {
     "name": "stdout",
     "output_type": "stream",
     "text": [
      "        00:00:30.69\n",
      "9\n",
      "            Loop over 1498 objects\n"
     ]
    },
    {
     "name": "stderr",
     "output_type": "stream",
     "text": [
      "/work/aa0238/a271093/Scripts/MOAAP/src/Tracking_Functions.py:239: RuntimeWarning: All-NaN slice encountered\n",
      "  obj_min = np.nanmin(data_slice, axis=(1, 2))\n",
      "/work/aa0238/a271093/Scripts/MOAAP/src/Tracking_Functions.py:240: RuntimeWarning: All-NaN slice encountered\n",
      "  obj_max = np.nanmax(data_slice, axis=(1, 2))\n",
      "/work/aa0238/a271093/Scripts/MOAAP/src/Tracking_Functions.py:241: RuntimeWarning: Mean of empty slice\n",
      "  obj_mean = np.nanmean(data_slice, axis=(1, 2))\n",
      "/work/aa0238/a271093/Conda/MOAAP_env/lib/python3.12/site-packages/scipy/ndimage/_measurements.py:1541: RuntimeWarning: invalid value encountered in scalar divide\n",
      "  results = [sum(input * grids[dir].astype(float), labels, index) / normalizer\n"
     ]
    },
    {
     "name": "stdout",
     "output_type": "stream",
     "text": [
      "        check if MSs quallify as ARs\n"
     ]
    },
    {
     "name": "stderr",
     "output_type": "stream",
     "text": [
      "/work/aa0238/a271093/Scripts/MOAAP/src/Tracking_Functions.py:4036: RuntimeWarning: divide by zero encountered in scalar divide\n",
      "  if DIST.max() / DIST.min() < AR_width_lenght_ratio:\n"
     ]
    },
    {
     "name": "stdout",
     "output_type": "stream",
     "text": [
      "            Loop over 1497 objects\n",
      "        00:01:14.80\n",
      " \n",
      "Save the object masks into a joint netCDF\n",
      "Saved: /work/aa0238/a271093/results/MOAAP/IVT_Tracking/ICON_NWP_refined_remapped_3x/ObjectMasks_MOAPP_ICON_100and85ERA5perc_remapped_3x_1989_01_01-1989_08_01.nc\n",
      "        00:00:24.42\n",
      "clean up /work/aa0238/a271093/results/MOAAP/IVT_Tracking/ICON_NWP_refined_remapped_3x/IVT_MOAPP_ICON_100and85ERA5perc_remapped_3x_1989_01_01-1989_07_01.pkl\n",
      "clean up finished\n",
      "clean up /work/aa0238/a271093/results/MOAAP/IVT_Tracking/ICON_NWP_refined_remapped_3x/ARs_MOAPP_ICON_100and85ERA5perc_remapped_3x_1989_01_01-1989_07_01.pkl\n",
      "clean up finished\n",
      "correct nc-file with \n",
      " cdo -selmon,1,2,3,4,5,6 /work/aa0238/a271093/results/MOAAP/IVT_Tracking/ICON_NWP_refined_remapped_3x/ObjectMasks_MOAPP_ICON_100and85ERA5perc_remapped_3x_1989_01_01-1989_08_01.nc /work/aa0238/a271093/results/MOAAP/IVT_Tracking/ICON_NWP_refined_remapped_3x/ObjectMasks_MOAPP_ICON_100and85ERA5perc_remapped_3x_1989_01_01-1989_07_01_corrected.nc\n",
      "\n",
      " \n",
      " \n",
      " \n",
      "\n",
      "1989-07-01 00:00:00 1990-02-01 00:00:00\n",
      " \n",
      "The provided variables allow tracking the following phenomena\n",
      " \n",
      "|  phenomenon  | tracking |\n",
      "---------------------------\n",
      "   Jetstream   |   no\n",
      "   PSL CY/ACY  |   no\n",
      "   Z500 CY/ACY |   no\n",
      "   COLs        |   no\n",
      "   IVT ARs     |   yes\n",
      "   MS ARs      |   no\n",
      "   Fronts      |   no\n",
      "   TCs         |   no\n",
      "   MCSs        |   no\n",
      "   Equ. Waves  |   no\n",
      "---------------------------\n",
      " \n",
      "======> track IVT streams and atmospheric rivers (ARs)\n",
      "        6295 object found\n",
      "        break up long living IVT objects that have many elements\n"
     ]
    },
    {
     "name": "stderr",
     "output_type": "stream",
     "text": [
      "100%|██████████| 599/599 [00:24<00:00, 24.51it/s]\n"
     ]
    },
    {
     "name": "stdout",
     "output_type": "stream",
     "text": [
      "        00:00:30.51\n",
      "9\n",
      "            Loop over 1459 objects\n"
     ]
    },
    {
     "name": "stderr",
     "output_type": "stream",
     "text": [
      "/work/aa0238/a271093/Scripts/MOAAP/src/Tracking_Functions.py:239: RuntimeWarning: All-NaN slice encountered\n",
      "  obj_min = np.nanmin(data_slice, axis=(1, 2))\n",
      "/work/aa0238/a271093/Scripts/MOAAP/src/Tracking_Functions.py:240: RuntimeWarning: All-NaN slice encountered\n",
      "  obj_max = np.nanmax(data_slice, axis=(1, 2))\n",
      "/work/aa0238/a271093/Scripts/MOAAP/src/Tracking_Functions.py:241: RuntimeWarning: Mean of empty slice\n",
      "  obj_mean = np.nanmean(data_slice, axis=(1, 2))\n",
      "/work/aa0238/a271093/Conda/MOAAP_env/lib/python3.12/site-packages/scipy/ndimage/_measurements.py:1541: RuntimeWarning: invalid value encountered in scalar divide\n",
      "  results = [sum(input * grids[dir].astype(float), labels, index) / normalizer\n"
     ]
    },
    {
     "name": "stdout",
     "output_type": "stream",
     "text": [
      "        check if MSs quallify as ARs\n"
     ]
    },
    {
     "name": "stderr",
     "output_type": "stream",
     "text": [
      "/work/aa0238/a271093/Scripts/MOAAP/src/Tracking_Functions.py:4036: RuntimeWarning: divide by zero encountered in scalar divide\n",
      "  if DIST.max() / DIST.min() < AR_width_lenght_ratio:\n"
     ]
    },
    {
     "name": "stdout",
     "output_type": "stream",
     "text": [
      "            Loop over 1453 objects\n",
      "        00:01:11.88\n",
      " \n",
      "Save the object masks into a joint netCDF\n",
      "Saved: /work/aa0238/a271093/results/MOAAP/IVT_Tracking/ICON_NWP_refined_remapped_3x/ObjectMasks_MOAPP_ICON_100and85ERA5perc_remapped_3x_1989_07_01-1990_02_01.nc\n",
      "        00:00:25.25\n",
      "clean up /work/aa0238/a271093/results/MOAAP/IVT_Tracking/ICON_NWP_refined_remapped_3x/IVT_MOAPP_ICON_100and85ERA5perc_remapped_3x_1989_07_01-1990_01_01.pkl\n",
      "clean up finished\n",
      "clean up /work/aa0238/a271093/results/MOAAP/IVT_Tracking/ICON_NWP_refined_remapped_3x/ARs_MOAPP_ICON_100and85ERA5perc_remapped_3x_1989_07_01-1990_01_01.pkl\n",
      "clean up finished\n",
      "correct nc-file with \n",
      " cdo -selmon,6,7,8,9,10,11,12 /work/aa0238/a271093/results/MOAAP/IVT_Tracking/ICON_NWP_refined_remapped_3x/ObjectMasks_MOAPP_ICON_100and85ERA5perc_remapped_3x_1989_07_01-1990_02_01.nc /work/aa0238/a271093/results/MOAAP/IVT_Tracking/ICON_NWP_refined_remapped_3x/ObjectMasks_MOAPP_ICON_100and85ERA5perc_remapped_3x_1989_07_01-1990_01_01_corrected.nc\n",
      "\n",
      " \n",
      " \n",
      " \n",
      "\n",
      "1990-01-01 00:00:00 1990-08-01 00:00:00\n",
      " \n",
      "The provided variables allow tracking the following phenomena\n",
      " \n",
      "|  phenomenon  | tracking |\n",
      "---------------------------\n",
      "   Jetstream   |   no\n",
      "   PSL CY/ACY  |   no\n",
      "   Z500 CY/ACY |   no\n",
      "   COLs        |   no\n",
      "   IVT ARs     |   yes\n",
      "   MS ARs      |   no\n",
      "   Fronts      |   no\n",
      "   TCs         |   no\n",
      "   MCSs        |   no\n",
      "   Equ. Waves  |   no\n",
      "---------------------------\n",
      " \n",
      "======> track IVT streams and atmospheric rivers (ARs)\n",
      "        5880 object found\n",
      "        break up long living IVT objects that have many elements\n"
     ]
    },
    {
     "name": "stderr",
     "output_type": "stream",
     "text": [
      "100%|██████████| 579/579 [00:25<00:00, 22.81it/s]\n"
     ]
    },
    {
     "name": "stdout",
     "output_type": "stream",
     "text": [
      "        00:00:31.17\n",
      "9\n",
      "            Loop over 1405 objects\n"
     ]
    },
    {
     "name": "stderr",
     "output_type": "stream",
     "text": [
      "/work/aa0238/a271093/Scripts/MOAAP/src/Tracking_Functions.py:239: RuntimeWarning: All-NaN slice encountered\n",
      "  obj_min = np.nanmin(data_slice, axis=(1, 2))\n",
      "/work/aa0238/a271093/Scripts/MOAAP/src/Tracking_Functions.py:240: RuntimeWarning: All-NaN slice encountered\n",
      "  obj_max = np.nanmax(data_slice, axis=(1, 2))\n",
      "/work/aa0238/a271093/Scripts/MOAAP/src/Tracking_Functions.py:241: RuntimeWarning: Mean of empty slice\n",
      "  obj_mean = np.nanmean(data_slice, axis=(1, 2))\n",
      "/work/aa0238/a271093/Conda/MOAAP_env/lib/python3.12/site-packages/scipy/ndimage/_measurements.py:1541: RuntimeWarning: invalid value encountered in scalar divide\n",
      "  results = [sum(input * grids[dir].astype(float), labels, index) / normalizer\n"
     ]
    },
    {
     "name": "stdout",
     "output_type": "stream",
     "text": [
      "        check if MSs quallify as ARs\n"
     ]
    },
    {
     "name": "stderr",
     "output_type": "stream",
     "text": [
      "/work/aa0238/a271093/Scripts/MOAAP/src/Tracking_Functions.py:4036: RuntimeWarning: divide by zero encountered in scalar divide\n",
      "  if DIST.max() / DIST.min() < AR_width_lenght_ratio:\n"
     ]
    },
    {
     "name": "stdout",
     "output_type": "stream",
     "text": [
      "            Loop over 1402 objects\n",
      "        00:01:12.00\n",
      " \n",
      "Save the object masks into a joint netCDF\n",
      "Saved: /work/aa0238/a271093/results/MOAAP/IVT_Tracking/ICON_NWP_refined_remapped_3x/ObjectMasks_MOAPP_ICON_100and85ERA5perc_remapped_3x_1990_01_01-1990_08_01.nc\n",
      "        00:00:24.24\n",
      "clean up /work/aa0238/a271093/results/MOAAP/IVT_Tracking/ICON_NWP_refined_remapped_3x/IVT_MOAPP_ICON_100and85ERA5perc_remapped_3x_1990_01_01-1990_07_01.pkl\n",
      "clean up finished\n",
      "clean up /work/aa0238/a271093/results/MOAAP/IVT_Tracking/ICON_NWP_refined_remapped_3x/ARs_MOAPP_ICON_100and85ERA5perc_remapped_3x_1990_01_01-1990_07_01.pkl\n",
      "clean up finished\n",
      "correct nc-file with \n",
      " cdo -selmon,1,2,3,4,5,6 /work/aa0238/a271093/results/MOAAP/IVT_Tracking/ICON_NWP_refined_remapped_3x/ObjectMasks_MOAPP_ICON_100and85ERA5perc_remapped_3x_1990_01_01-1990_08_01.nc /work/aa0238/a271093/results/MOAAP/IVT_Tracking/ICON_NWP_refined_remapped_3x/ObjectMasks_MOAPP_ICON_100and85ERA5perc_remapped_3x_1990_01_01-1990_07_01_corrected.nc\n",
      "\n",
      " \n",
      " \n",
      " \n",
      "\n",
      "1990-07-01 00:00:00 1991-02-01 00:00:00\n",
      " \n",
      "The provided variables allow tracking the following phenomena\n",
      " \n",
      "|  phenomenon  | tracking |\n",
      "---------------------------\n",
      "   Jetstream   |   no\n",
      "   PSL CY/ACY  |   no\n",
      "   Z500 CY/ACY |   no\n",
      "   COLs        |   no\n",
      "   IVT ARs     |   yes\n",
      "   MS ARs      |   no\n",
      "   Fronts      |   no\n",
      "   TCs         |   no\n",
      "   MCSs        |   no\n",
      "   Equ. Waves  |   no\n",
      "---------------------------\n",
      " \n",
      "======> track IVT streams and atmospheric rivers (ARs)\n",
      "        6081 object found\n",
      "        break up long living IVT objects that have many elements\n"
     ]
    },
    {
     "name": "stderr",
     "output_type": "stream",
     "text": [
      "100%|██████████| 609/609 [00:25<00:00, 24.07it/s]\n"
     ]
    },
    {
     "name": "stdout",
     "output_type": "stream",
     "text": [
      "        00:00:31.32\n",
      "9\n",
      "            Loop over 1489 objects\n",
      "        check if MSs quallify as ARs\n"
     ]
    },
    {
     "name": "stderr",
     "output_type": "stream",
     "text": [
      "/work/aa0238/a271093/Scripts/MOAAP/src/Tracking_Functions.py:4036: RuntimeWarning: divide by zero encountered in scalar divide\n",
      "  if DIST.max() / DIST.min() < AR_width_lenght_ratio:\n"
     ]
    },
    {
     "name": "stdout",
     "output_type": "stream",
     "text": [
      "            Loop over 1489 objects\n"
     ]
    },
    {
     "name": "stderr",
     "output_type": "stream",
     "text": [
      "/work/aa0238/a271093/Scripts/MOAAP/src/Tracking_Functions.py:239: RuntimeWarning: All-NaN slice encountered\n",
      "  obj_min = np.nanmin(data_slice, axis=(1, 2))\n",
      "/work/aa0238/a271093/Scripts/MOAAP/src/Tracking_Functions.py:240: RuntimeWarning: All-NaN slice encountered\n",
      "  obj_max = np.nanmax(data_slice, axis=(1, 2))\n",
      "/work/aa0238/a271093/Scripts/MOAAP/src/Tracking_Functions.py:241: RuntimeWarning: Mean of empty slice\n",
      "  obj_mean = np.nanmean(data_slice, axis=(1, 2))\n",
      "/work/aa0238/a271093/Conda/MOAAP_env/lib/python3.12/site-packages/scipy/ndimage/_measurements.py:1541: RuntimeWarning: invalid value encountered in scalar divide\n",
      "  results = [sum(input * grids[dir].astype(float), labels, index) / normalizer\n"
     ]
    },
    {
     "name": "stdout",
     "output_type": "stream",
     "text": [
      "        00:01:12.72\n",
      " \n",
      "Save the object masks into a joint netCDF\n",
      "Saved: /work/aa0238/a271093/results/MOAAP/IVT_Tracking/ICON_NWP_refined_remapped_3x/ObjectMasks_MOAPP_ICON_100and85ERA5perc_remapped_3x_1990_07_01-1991_02_01.nc\n",
      "        00:00:24.71\n",
      "clean up /work/aa0238/a271093/results/MOAAP/IVT_Tracking/ICON_NWP_refined_remapped_3x/IVT_MOAPP_ICON_100and85ERA5perc_remapped_3x_1990_07_01-1991_01_01.pkl\n",
      "clean up finished\n",
      "clean up /work/aa0238/a271093/results/MOAAP/IVT_Tracking/ICON_NWP_refined_remapped_3x/ARs_MOAPP_ICON_100and85ERA5perc_remapped_3x_1990_07_01-1991_01_01.pkl\n",
      "clean up finished\n",
      "correct nc-file with \n",
      " cdo -selmon,6,7,8,9,10,11,12 /work/aa0238/a271093/results/MOAAP/IVT_Tracking/ICON_NWP_refined_remapped_3x/ObjectMasks_MOAPP_ICON_100and85ERA5perc_remapped_3x_1990_07_01-1991_02_01.nc /work/aa0238/a271093/results/MOAAP/IVT_Tracking/ICON_NWP_refined_remapped_3x/ObjectMasks_MOAPP_ICON_100and85ERA5perc_remapped_3x_1990_07_01-1991_01_01_corrected.nc\n",
      "\n",
      " \n",
      " \n",
      " \n",
      "\n",
      "1991-01-01 00:00:00 1991-08-01 00:00:00\n",
      " \n",
      "The provided variables allow tracking the following phenomena\n",
      " \n",
      "|  phenomenon  | tracking |\n",
      "---------------------------\n",
      "   Jetstream   |   no\n",
      "   PSL CY/ACY  |   no\n",
      "   Z500 CY/ACY |   no\n",
      "   COLs        |   no\n",
      "   IVT ARs     |   yes\n",
      "   MS ARs      |   no\n",
      "   Fronts      |   no\n",
      "   TCs         |   no\n",
      "   MCSs        |   no\n",
      "   Equ. Waves  |   no\n",
      "---------------------------\n",
      " \n",
      "======> track IVT streams and atmospheric rivers (ARs)\n",
      "        6515 object found\n",
      "        break up long living IVT objects that have many elements\n"
     ]
    },
    {
     "name": "stderr",
     "output_type": "stream",
     "text": [
      "100%|██████████| 577/577 [00:21<00:00, 26.98it/s]\n"
     ]
    },
    {
     "name": "stdout",
     "output_type": "stream",
     "text": [
      "        00:00:27.72\n",
      "9\n",
      "            Loop over 1443 objects\n"
     ]
    },
    {
     "name": "stderr",
     "output_type": "stream",
     "text": [
      "/work/aa0238/a271093/Scripts/MOAAP/src/Tracking_Functions.py:239: RuntimeWarning: All-NaN slice encountered\n",
      "  obj_min = np.nanmin(data_slice, axis=(1, 2))\n",
      "/work/aa0238/a271093/Scripts/MOAAP/src/Tracking_Functions.py:240: RuntimeWarning: All-NaN slice encountered\n",
      "  obj_max = np.nanmax(data_slice, axis=(1, 2))\n",
      "/work/aa0238/a271093/Scripts/MOAAP/src/Tracking_Functions.py:241: RuntimeWarning: Mean of empty slice\n",
      "  obj_mean = np.nanmean(data_slice, axis=(1, 2))\n",
      "/work/aa0238/a271093/Conda/MOAAP_env/lib/python3.12/site-packages/scipy/ndimage/_measurements.py:1541: RuntimeWarning: invalid value encountered in scalar divide\n",
      "  results = [sum(input * grids[dir].astype(float), labels, index) / normalizer\n"
     ]
    },
    {
     "name": "stdout",
     "output_type": "stream",
     "text": [
      "        check if MSs quallify as ARs\n"
     ]
    },
    {
     "name": "stderr",
     "output_type": "stream",
     "text": [
      "/work/aa0238/a271093/Scripts/MOAAP/src/Tracking_Functions.py:4036: RuntimeWarning: divide by zero encountered in scalar divide\n",
      "  if DIST.max() / DIST.min() < AR_width_lenght_ratio:\n"
     ]
    },
    {
     "name": "stdout",
     "output_type": "stream",
     "text": [
      "            Loop over 1441 objects\n",
      "        00:01:18.26\n",
      " \n",
      "Save the object masks into a joint netCDF\n",
      "Saved: /work/aa0238/a271093/results/MOAAP/IVT_Tracking/ICON_NWP_refined_remapped_3x/ObjectMasks_MOAPP_ICON_100and85ERA5perc_remapped_3x_1991_01_01-1991_08_01.nc\n",
      "        00:00:24.35\n",
      "clean up /work/aa0238/a271093/results/MOAAP/IVT_Tracking/ICON_NWP_refined_remapped_3x/IVT_MOAPP_ICON_100and85ERA5perc_remapped_3x_1991_01_01-1991_07_01.pkl\n",
      "clean up finished\n",
      "clean up /work/aa0238/a271093/results/MOAAP/IVT_Tracking/ICON_NWP_refined_remapped_3x/ARs_MOAPP_ICON_100and85ERA5perc_remapped_3x_1991_01_01-1991_07_01.pkl\n",
      "clean up finished\n",
      "correct nc-file with \n",
      " cdo -selmon,1,2,3,4,5,6 /work/aa0238/a271093/results/MOAAP/IVT_Tracking/ICON_NWP_refined_remapped_3x/ObjectMasks_MOAPP_ICON_100and85ERA5perc_remapped_3x_1991_01_01-1991_08_01.nc /work/aa0238/a271093/results/MOAAP/IVT_Tracking/ICON_NWP_refined_remapped_3x/ObjectMasks_MOAPP_ICON_100and85ERA5perc_remapped_3x_1991_01_01-1991_07_01_corrected.nc\n",
      "\n",
      " \n",
      " \n",
      " \n",
      "\n",
      "1991-07-01 00:00:00 1992-02-01 00:00:00\n",
      " \n",
      "The provided variables allow tracking the following phenomena\n",
      " \n",
      "|  phenomenon  | tracking |\n",
      "---------------------------\n",
      "   Jetstream   |   no\n",
      "   PSL CY/ACY  |   no\n",
      "   Z500 CY/ACY |   no\n",
      "   COLs        |   no\n",
      "   IVT ARs     |   yes\n",
      "   MS ARs      |   no\n",
      "   Fronts      |   no\n",
      "   TCs         |   no\n",
      "   MCSs        |   no\n",
      "   Equ. Waves  |   no\n",
      "---------------------------\n",
      " \n",
      "======> track IVT streams and atmospheric rivers (ARs)\n",
      "        6208 object found\n",
      "        break up long living IVT objects that have many elements\n"
     ]
    },
    {
     "name": "stderr",
     "output_type": "stream",
     "text": [
      "100%|██████████| 550/550 [00:21<00:00, 25.86it/s]\n"
     ]
    },
    {
     "name": "stdout",
     "output_type": "stream",
     "text": [
      "        00:00:27.80\n",
      "9\n",
      "            Loop over 1377 objects\n",
      "        check if MSs quallify as ARs\n"
     ]
    },
    {
     "name": "stderr",
     "output_type": "stream",
     "text": [
      "/work/aa0238/a271093/Scripts/MOAAP/src/Tracking_Functions.py:4036: RuntimeWarning: divide by zero encountered in scalar divide\n",
      "  if DIST.max() / DIST.min() < AR_width_lenght_ratio:\n"
     ]
    },
    {
     "name": "stdout",
     "output_type": "stream",
     "text": [
      "            Loop over 1377 objects\n"
     ]
    },
    {
     "name": "stderr",
     "output_type": "stream",
     "text": [
      "/work/aa0238/a271093/Scripts/MOAAP/src/Tracking_Functions.py:239: RuntimeWarning: All-NaN slice encountered\n",
      "  obj_min = np.nanmin(data_slice, axis=(1, 2))\n",
      "/work/aa0238/a271093/Scripts/MOAAP/src/Tracking_Functions.py:240: RuntimeWarning: All-NaN slice encountered\n",
      "  obj_max = np.nanmax(data_slice, axis=(1, 2))\n",
      "/work/aa0238/a271093/Scripts/MOAAP/src/Tracking_Functions.py:241: RuntimeWarning: Mean of empty slice\n",
      "  obj_mean = np.nanmean(data_slice, axis=(1, 2))\n",
      "/work/aa0238/a271093/Conda/MOAAP_env/lib/python3.12/site-packages/scipy/ndimage/_measurements.py:1541: RuntimeWarning: invalid value encountered in scalar divide\n",
      "  results = [sum(input * grids[dir].astype(float), labels, index) / normalizer\n"
     ]
    },
    {
     "name": "stdout",
     "output_type": "stream",
     "text": [
      "        00:01:06.98\n",
      " \n",
      "Save the object masks into a joint netCDF\n",
      "Saved: /work/aa0238/a271093/results/MOAAP/IVT_Tracking/ICON_NWP_refined_remapped_3x/ObjectMasks_MOAPP_ICON_100and85ERA5perc_remapped_3x_1991_07_01-1992_02_01.nc\n",
      "        00:00:24.91\n",
      "clean up /work/aa0238/a271093/results/MOAAP/IVT_Tracking/ICON_NWP_refined_remapped_3x/IVT_MOAPP_ICON_100and85ERA5perc_remapped_3x_1991_07_01-1992_01_01.pkl\n",
      "clean up finished\n",
      "clean up /work/aa0238/a271093/results/MOAAP/IVT_Tracking/ICON_NWP_refined_remapped_3x/ARs_MOAPP_ICON_100and85ERA5perc_remapped_3x_1991_07_01-1992_01_01.pkl\n",
      "clean up finished\n",
      "correct nc-file with \n",
      " cdo -selmon,6,7,8,9,10,11,12 /work/aa0238/a271093/results/MOAAP/IVT_Tracking/ICON_NWP_refined_remapped_3x/ObjectMasks_MOAPP_ICON_100and85ERA5perc_remapped_3x_1991_07_01-1992_02_01.nc /work/aa0238/a271093/results/MOAAP/IVT_Tracking/ICON_NWP_refined_remapped_3x/ObjectMasks_MOAPP_ICON_100and85ERA5perc_remapped_3x_1991_07_01-1992_01_01_corrected.nc\n",
      "\n",
      " \n",
      " \n",
      " \n",
      "\n",
      "1992-01-01 00:00:00 1992-08-01 00:00:00\n",
      " \n",
      "The provided variables allow tracking the following phenomena\n",
      " \n",
      "|  phenomenon  | tracking |\n",
      "---------------------------\n",
      "   Jetstream   |   no\n",
      "   PSL CY/ACY  |   no\n",
      "   Z500 CY/ACY |   no\n",
      "   COLs        |   no\n",
      "   IVT ARs     |   yes\n",
      "   MS ARs      |   no\n",
      "   Fronts      |   no\n",
      "   TCs         |   no\n",
      "   MCSs        |   no\n",
      "   Equ. Waves  |   no\n",
      "---------------------------\n",
      " \n",
      "======> track IVT streams and atmospheric rivers (ARs)\n",
      "        6584 object found\n",
      "        break up long living IVT objects that have many elements\n"
     ]
    },
    {
     "name": "stderr",
     "output_type": "stream",
     "text": [
      "100%|██████████| 627/627 [00:19<00:00, 31.39it/s]\n"
     ]
    },
    {
     "name": "stdout",
     "output_type": "stream",
     "text": [
      "        00:00:25.54\n",
      "9\n",
      "            Loop over 1348 objects\n"
     ]
    },
    {
     "name": "stderr",
     "output_type": "stream",
     "text": [
      "/work/aa0238/a271093/Scripts/MOAAP/src/Tracking_Functions.py:239: RuntimeWarning: All-NaN slice encountered\n",
      "  obj_min = np.nanmin(data_slice, axis=(1, 2))\n",
      "/work/aa0238/a271093/Scripts/MOAAP/src/Tracking_Functions.py:240: RuntimeWarning: All-NaN slice encountered\n",
      "  obj_max = np.nanmax(data_slice, axis=(1, 2))\n",
      "/work/aa0238/a271093/Scripts/MOAAP/src/Tracking_Functions.py:241: RuntimeWarning: Mean of empty slice\n",
      "  obj_mean = np.nanmean(data_slice, axis=(1, 2))\n",
      "/work/aa0238/a271093/Conda/MOAAP_env/lib/python3.12/site-packages/scipy/ndimage/_measurements.py:1541: RuntimeWarning: invalid value encountered in scalar divide\n",
      "  results = [sum(input * grids[dir].astype(float), labels, index) / normalizer\n"
     ]
    },
    {
     "name": "stdout",
     "output_type": "stream",
     "text": [
      "        check if MSs quallify as ARs\n"
     ]
    },
    {
     "name": "stderr",
     "output_type": "stream",
     "text": [
      "/work/aa0238/a271093/Scripts/MOAAP/src/Tracking_Functions.py:4036: RuntimeWarning: divide by zero encountered in scalar divide\n",
      "  if DIST.max() / DIST.min() < AR_width_lenght_ratio:\n"
     ]
    },
    {
     "name": "stdout",
     "output_type": "stream",
     "text": [
      "            Loop over 1347 objects\n",
      "        00:01:03.54\n",
      " \n",
      "Save the object masks into a joint netCDF\n",
      "Saved: /work/aa0238/a271093/results/MOAAP/IVT_Tracking/ICON_NWP_refined_remapped_3x/ObjectMasks_MOAPP_ICON_100and85ERA5perc_remapped_3x_1992_01_01-1992_08_01.nc\n",
      "        00:00:24.88\n",
      "clean up /work/aa0238/a271093/results/MOAAP/IVT_Tracking/ICON_NWP_refined_remapped_3x/IVT_MOAPP_ICON_100and85ERA5perc_remapped_3x_1992_01_01-1992_07_01.pkl\n",
      "clean up finished\n",
      "clean up /work/aa0238/a271093/results/MOAAP/IVT_Tracking/ICON_NWP_refined_remapped_3x/ARs_MOAPP_ICON_100and85ERA5perc_remapped_3x_1992_01_01-1992_07_01.pkl\n",
      "clean up finished\n",
      "correct nc-file with \n",
      " cdo -selmon,1,2,3,4,5,6 /work/aa0238/a271093/results/MOAAP/IVT_Tracking/ICON_NWP_refined_remapped_3x/ObjectMasks_MOAPP_ICON_100and85ERA5perc_remapped_3x_1992_01_01-1992_08_01.nc /work/aa0238/a271093/results/MOAAP/IVT_Tracking/ICON_NWP_refined_remapped_3x/ObjectMasks_MOAPP_ICON_100and85ERA5perc_remapped_3x_1992_01_01-1992_07_01_corrected.nc\n",
      "\n",
      " \n",
      " \n",
      " \n",
      "\n",
      "1992-07-01 00:00:00 1993-02-01 00:00:00\n",
      " \n",
      "The provided variables allow tracking the following phenomena\n",
      " \n",
      "|  phenomenon  | tracking |\n",
      "---------------------------\n",
      "   Jetstream   |   no\n",
      "   PSL CY/ACY  |   no\n",
      "   Z500 CY/ACY |   no\n",
      "   COLs        |   no\n",
      "   IVT ARs     |   yes\n",
      "   MS ARs      |   no\n",
      "   Fronts      |   no\n",
      "   TCs         |   no\n",
      "   MCSs        |   no\n",
      "   Equ. Waves  |   no\n",
      "---------------------------\n",
      " \n",
      "======> track IVT streams and atmospheric rivers (ARs)\n",
      "        5786 object found\n",
      "        break up long living IVT objects that have many elements\n"
     ]
    },
    {
     "name": "stderr",
     "output_type": "stream",
     "text": [
      "100%|██████████| 548/548 [00:20<00:00, 26.20it/s]\n"
     ]
    },
    {
     "name": "stdout",
     "output_type": "stream",
     "text": [
      "        00:00:26.79\n",
      "9\n",
      "            Loop over 1313 objects\n",
      "        check if MSs quallify as ARs\n"
     ]
    },
    {
     "name": "stderr",
     "output_type": "stream",
     "text": [
      "/work/aa0238/a271093/Scripts/MOAAP/src/Tracking_Functions.py:4036: RuntimeWarning: divide by zero encountered in scalar divide\n",
      "  if DIST.max() / DIST.min() < AR_width_lenght_ratio:\n"
     ]
    },
    {
     "name": "stdout",
     "output_type": "stream",
     "text": [
      "            Loop over 1312 objects\n"
     ]
    },
    {
     "name": "stderr",
     "output_type": "stream",
     "text": [
      "/work/aa0238/a271093/Scripts/MOAAP/src/Tracking_Functions.py:239: RuntimeWarning: All-NaN slice encountered\n",
      "  obj_min = np.nanmin(data_slice, axis=(1, 2))\n",
      "/work/aa0238/a271093/Scripts/MOAAP/src/Tracking_Functions.py:240: RuntimeWarning: All-NaN slice encountered\n",
      "  obj_max = np.nanmax(data_slice, axis=(1, 2))\n",
      "/work/aa0238/a271093/Scripts/MOAAP/src/Tracking_Functions.py:241: RuntimeWarning: Mean of empty slice\n",
      "  obj_mean = np.nanmean(data_slice, axis=(1, 2))\n",
      "/work/aa0238/a271093/Conda/MOAAP_env/lib/python3.12/site-packages/scipy/ndimage/_measurements.py:1541: RuntimeWarning: invalid value encountered in scalar divide\n",
      "  results = [sum(input * grids[dir].astype(float), labels, index) / normalizer\n"
     ]
    },
    {
     "name": "stdout",
     "output_type": "stream",
     "text": [
      "        00:01:05.79\n",
      " \n",
      "Save the object masks into a joint netCDF\n",
      "Saved: /work/aa0238/a271093/results/MOAAP/IVT_Tracking/ICON_NWP_refined_remapped_3x/ObjectMasks_MOAPP_ICON_100and85ERA5perc_remapped_3x_1992_07_01-1993_02_01.nc\n",
      "        00:00:24.93\n",
      "clean up /work/aa0238/a271093/results/MOAAP/IVT_Tracking/ICON_NWP_refined_remapped_3x/IVT_MOAPP_ICON_100and85ERA5perc_remapped_3x_1992_07_01-1993_01_01.pkl\n",
      "clean up finished\n",
      "clean up /work/aa0238/a271093/results/MOAAP/IVT_Tracking/ICON_NWP_refined_remapped_3x/ARs_MOAPP_ICON_100and85ERA5perc_remapped_3x_1992_07_01-1993_01_01.pkl\n",
      "clean up finished\n",
      "correct nc-file with \n",
      " cdo -selmon,6,7,8,9,10,11,12 /work/aa0238/a271093/results/MOAAP/IVT_Tracking/ICON_NWP_refined_remapped_3x/ObjectMasks_MOAPP_ICON_100and85ERA5perc_remapped_3x_1992_07_01-1993_02_01.nc /work/aa0238/a271093/results/MOAAP/IVT_Tracking/ICON_NWP_refined_remapped_3x/ObjectMasks_MOAPP_ICON_100and85ERA5perc_remapped_3x_1992_07_01-1993_01_01_corrected.nc\n",
      "\n",
      " \n",
      " \n",
      " \n",
      "\n",
      "1993-01-01 00:00:00 1993-08-01 00:00:00\n",
      " \n",
      "The provided variables allow tracking the following phenomena\n",
      " \n",
      "|  phenomenon  | tracking |\n",
      "---------------------------\n",
      "   Jetstream   |   no\n",
      "   PSL CY/ACY  |   no\n",
      "   Z500 CY/ACY |   no\n",
      "   COLs        |   no\n",
      "   IVT ARs     |   yes\n",
      "   MS ARs      |   no\n",
      "   Fronts      |   no\n",
      "   TCs         |   no\n",
      "   MCSs        |   no\n",
      "   Equ. Waves  |   no\n",
      "---------------------------\n",
      " \n",
      "======> track IVT streams and atmospheric rivers (ARs)\n",
      "        5865 object found\n",
      "        break up long living IVT objects that have many elements\n"
     ]
    },
    {
     "name": "stderr",
     "output_type": "stream",
     "text": [
      "100%|██████████| 621/621 [00:20<00:00, 29.89it/s] \n"
     ]
    },
    {
     "name": "stdout",
     "output_type": "stream",
     "text": [
      "        00:00:26.37\n",
      "9\n",
      "            Loop over 1454 objects\n"
     ]
    },
    {
     "name": "stderr",
     "output_type": "stream",
     "text": [
      "/work/aa0238/a271093/Scripts/MOAAP/src/Tracking_Functions.py:239: RuntimeWarning: All-NaN slice encountered\n",
      "  obj_min = np.nanmin(data_slice, axis=(1, 2))\n",
      "/work/aa0238/a271093/Scripts/MOAAP/src/Tracking_Functions.py:240: RuntimeWarning: All-NaN slice encountered\n",
      "  obj_max = np.nanmax(data_slice, axis=(1, 2))\n",
      "/work/aa0238/a271093/Scripts/MOAAP/src/Tracking_Functions.py:241: RuntimeWarning: Mean of empty slice\n",
      "  obj_mean = np.nanmean(data_slice, axis=(1, 2))\n",
      "/work/aa0238/a271093/Conda/MOAAP_env/lib/python3.12/site-packages/scipy/ndimage/_measurements.py:1541: RuntimeWarning: invalid value encountered in scalar divide\n",
      "  results = [sum(input * grids[dir].astype(float), labels, index) / normalizer\n"
     ]
    },
    {
     "name": "stdout",
     "output_type": "stream",
     "text": [
      "        check if MSs quallify as ARs\n"
     ]
    },
    {
     "name": "stderr",
     "output_type": "stream",
     "text": [
      "/work/aa0238/a271093/Scripts/MOAAP/src/Tracking_Functions.py:4036: RuntimeWarning: divide by zero encountered in scalar divide\n",
      "  if DIST.max() / DIST.min() < AR_width_lenght_ratio:\n"
     ]
    },
    {
     "name": "stdout",
     "output_type": "stream",
     "text": [
      "            Loop over 1452 objects\n",
      "        00:01:09.47\n",
      " \n",
      "Save the object masks into a joint netCDF\n",
      "Saved: /work/aa0238/a271093/results/MOAAP/IVT_Tracking/ICON_NWP_refined_remapped_3x/ObjectMasks_MOAPP_ICON_100and85ERA5perc_remapped_3x_1993_01_01-1993_08_01.nc\n",
      "        00:00:24.76\n",
      "clean up /work/aa0238/a271093/results/MOAAP/IVT_Tracking/ICON_NWP_refined_remapped_3x/IVT_MOAPP_ICON_100and85ERA5perc_remapped_3x_1993_01_01-1993_07_01.pkl\n",
      "clean up finished\n",
      "clean up /work/aa0238/a271093/results/MOAAP/IVT_Tracking/ICON_NWP_refined_remapped_3x/ARs_MOAPP_ICON_100and85ERA5perc_remapped_3x_1993_01_01-1993_07_01.pkl\n",
      "clean up finished\n",
      "correct nc-file with \n",
      " cdo -selmon,1,2,3,4,5,6 /work/aa0238/a271093/results/MOAAP/IVT_Tracking/ICON_NWP_refined_remapped_3x/ObjectMasks_MOAPP_ICON_100and85ERA5perc_remapped_3x_1993_01_01-1993_08_01.nc /work/aa0238/a271093/results/MOAAP/IVT_Tracking/ICON_NWP_refined_remapped_3x/ObjectMasks_MOAPP_ICON_100and85ERA5perc_remapped_3x_1993_01_01-1993_07_01_corrected.nc\n",
      "\n",
      " \n",
      " \n",
      " \n",
      "\n",
      "1993-07-01 00:00:00 1994-02-01 00:00:00\n",
      " \n",
      "The provided variables allow tracking the following phenomena\n",
      " \n",
      "|  phenomenon  | tracking |\n",
      "---------------------------\n",
      "   Jetstream   |   no\n",
      "   PSL CY/ACY  |   no\n",
      "   Z500 CY/ACY |   no\n",
      "   COLs        |   no\n",
      "   IVT ARs     |   yes\n",
      "   MS ARs      |   no\n",
      "   Fronts      |   no\n",
      "   TCs         |   no\n",
      "   MCSs        |   no\n",
      "   Equ. Waves  |   no\n",
      "---------------------------\n",
      " \n",
      "======> track IVT streams and atmospheric rivers (ARs)\n",
      "        6454 object found\n",
      "        break up long living IVT objects that have many elements\n"
     ]
    },
    {
     "name": "stderr",
     "output_type": "stream",
     "text": [
      "100%|██████████| 620/620 [00:22<00:00, 27.03it/s] \n"
     ]
    },
    {
     "name": "stdout",
     "output_type": "stream",
     "text": [
      "        00:00:29.31\n",
      "9\n",
      "            Loop over 1535 objects\n"
     ]
    },
    {
     "name": "stderr",
     "output_type": "stream",
     "text": [
      "/work/aa0238/a271093/Scripts/MOAAP/src/Tracking_Functions.py:239: RuntimeWarning: All-NaN slice encountered\n",
      "  obj_min = np.nanmin(data_slice, axis=(1, 2))\n",
      "/work/aa0238/a271093/Scripts/MOAAP/src/Tracking_Functions.py:240: RuntimeWarning: All-NaN slice encountered\n",
      "  obj_max = np.nanmax(data_slice, axis=(1, 2))\n",
      "/work/aa0238/a271093/Scripts/MOAAP/src/Tracking_Functions.py:241: RuntimeWarning: Mean of empty slice\n",
      "  obj_mean = np.nanmean(data_slice, axis=(1, 2))\n",
      "/work/aa0238/a271093/Conda/MOAAP_env/lib/python3.12/site-packages/scipy/ndimage/_measurements.py:1541: RuntimeWarning: invalid value encountered in scalar divide\n",
      "  results = [sum(input * grids[dir].astype(float), labels, index) / normalizer\n"
     ]
    },
    {
     "name": "stdout",
     "output_type": "stream",
     "text": [
      "        check if MSs quallify as ARs\n"
     ]
    },
    {
     "name": "stderr",
     "output_type": "stream",
     "text": [
      "/work/aa0238/a271093/Scripts/MOAAP/src/Tracking_Functions.py:4036: RuntimeWarning: divide by zero encountered in scalar divide\n",
      "  if DIST.max() / DIST.min() < AR_width_lenght_ratio:\n"
     ]
    },
    {
     "name": "stdout",
     "output_type": "stream",
     "text": [
      "            Loop over 1535 objects\n",
      "        00:01:13.69\n",
      " \n",
      "Save the object masks into a joint netCDF\n",
      "Saved: /work/aa0238/a271093/results/MOAAP/IVT_Tracking/ICON_NWP_refined_remapped_3x/ObjectMasks_MOAPP_ICON_100and85ERA5perc_remapped_3x_1993_07_01-1994_02_01.nc\n",
      "        00:00:25.60\n",
      "clean up /work/aa0238/a271093/results/MOAAP/IVT_Tracking/ICON_NWP_refined_remapped_3x/IVT_MOAPP_ICON_100and85ERA5perc_remapped_3x_1993_07_01-1994_01_01.pkl\n",
      "clean up finished\n",
      "clean up /work/aa0238/a271093/results/MOAAP/IVT_Tracking/ICON_NWP_refined_remapped_3x/ARs_MOAPP_ICON_100and85ERA5perc_remapped_3x_1993_07_01-1994_01_01.pkl\n",
      "clean up finished\n",
      "correct nc-file with \n",
      " cdo -selmon,6,7,8,9,10,11,12 /work/aa0238/a271093/results/MOAAP/IVT_Tracking/ICON_NWP_refined_remapped_3x/ObjectMasks_MOAPP_ICON_100and85ERA5perc_remapped_3x_1993_07_01-1994_02_01.nc /work/aa0238/a271093/results/MOAAP/IVT_Tracking/ICON_NWP_refined_remapped_3x/ObjectMasks_MOAPP_ICON_100and85ERA5perc_remapped_3x_1993_07_01-1994_01_01_corrected.nc\n",
      "\n",
      " \n",
      " \n",
      " \n",
      "\n",
      "1994-01-01 00:00:00 1994-08-01 00:00:00\n",
      " \n",
      "The provided variables allow tracking the following phenomena\n",
      " \n",
      "|  phenomenon  | tracking |\n",
      "---------------------------\n",
      "   Jetstream   |   no\n",
      "   PSL CY/ACY  |   no\n",
      "   Z500 CY/ACY |   no\n",
      "   COLs        |   no\n",
      "   IVT ARs     |   yes\n",
      "   MS ARs      |   no\n",
      "   Fronts      |   no\n",
      "   TCs         |   no\n",
      "   MCSs        |   no\n",
      "   Equ. Waves  |   no\n",
      "---------------------------\n",
      " \n",
      "======> track IVT streams and atmospheric rivers (ARs)\n",
      "        6732 object found\n",
      "        break up long living IVT objects that have many elements\n"
     ]
    },
    {
     "name": "stderr",
     "output_type": "stream",
     "text": [
      "100%|██████████| 592/592 [00:20<00:00, 29.50it/s] \n"
     ]
    },
    {
     "name": "stdout",
     "output_type": "stream",
     "text": [
      "        00:00:25.62\n",
      "9\n",
      "            Loop over 1449 objects\n"
     ]
    },
    {
     "name": "stderr",
     "output_type": "stream",
     "text": [
      "/work/aa0238/a271093/Scripts/MOAAP/src/Tracking_Functions.py:239: RuntimeWarning: All-NaN slice encountered\n",
      "  obj_min = np.nanmin(data_slice, axis=(1, 2))\n",
      "/work/aa0238/a271093/Scripts/MOAAP/src/Tracking_Functions.py:240: RuntimeWarning: All-NaN slice encountered\n",
      "  obj_max = np.nanmax(data_slice, axis=(1, 2))\n",
      "/work/aa0238/a271093/Scripts/MOAAP/src/Tracking_Functions.py:241: RuntimeWarning: Mean of empty slice\n",
      "  obj_mean = np.nanmean(data_slice, axis=(1, 2))\n",
      "/work/aa0238/a271093/Conda/MOAAP_env/lib/python3.12/site-packages/scipy/ndimage/_measurements.py:1541: RuntimeWarning: invalid value encountered in scalar divide\n",
      "  results = [sum(input * grids[dir].astype(float), labels, index) / normalizer\n"
     ]
    },
    {
     "name": "stdout",
     "output_type": "stream",
     "text": [
      "        check if MSs quallify as ARs\n"
     ]
    },
    {
     "name": "stderr",
     "output_type": "stream",
     "text": [
      "/work/aa0238/a271093/Scripts/MOAAP/src/Tracking_Functions.py:4036: RuntimeWarning: divide by zero encountered in scalar divide\n",
      "  if DIST.max() / DIST.min() < AR_width_lenght_ratio:\n"
     ]
    },
    {
     "name": "stdout",
     "output_type": "stream",
     "text": [
      "            Loop over 1448 objects\n",
      "        00:01:07.29\n",
      " \n",
      "Save the object masks into a joint netCDF\n",
      "Saved: /work/aa0238/a271093/results/MOAAP/IVT_Tracking/ICON_NWP_refined_remapped_3x/ObjectMasks_MOAPP_ICON_100and85ERA5perc_remapped_3x_1994_01_01-1994_08_01.nc\n",
      "        00:00:24.71\n",
      "clean up /work/aa0238/a271093/results/MOAAP/IVT_Tracking/ICON_NWP_refined_remapped_3x/IVT_MOAPP_ICON_100and85ERA5perc_remapped_3x_1994_01_01-1994_07_01.pkl\n",
      "clean up finished\n",
      "clean up /work/aa0238/a271093/results/MOAAP/IVT_Tracking/ICON_NWP_refined_remapped_3x/ARs_MOAPP_ICON_100and85ERA5perc_remapped_3x_1994_01_01-1994_07_01.pkl\n",
      "clean up finished\n",
      "correct nc-file with \n",
      " cdo -selmon,1,2,3,4,5,6 /work/aa0238/a271093/results/MOAAP/IVT_Tracking/ICON_NWP_refined_remapped_3x/ObjectMasks_MOAPP_ICON_100and85ERA5perc_remapped_3x_1994_01_01-1994_08_01.nc /work/aa0238/a271093/results/MOAAP/IVT_Tracking/ICON_NWP_refined_remapped_3x/ObjectMasks_MOAPP_ICON_100and85ERA5perc_remapped_3x_1994_01_01-1994_07_01_corrected.nc\n",
      "\n",
      " \n",
      " \n",
      " \n",
      "\n",
      "1994-07-01 00:00:00 1995-02-01 00:00:00\n",
      " \n",
      "The provided variables allow tracking the following phenomena\n",
      " \n",
      "|  phenomenon  | tracking |\n",
      "---------------------------\n",
      "   Jetstream   |   no\n",
      "   PSL CY/ACY  |   no\n",
      "   Z500 CY/ACY |   no\n",
      "   COLs        |   no\n",
      "   IVT ARs     |   yes\n",
      "   MS ARs      |   no\n",
      "   Fronts      |   no\n",
      "   TCs         |   no\n",
      "   MCSs        |   no\n",
      "   Equ. Waves  |   no\n",
      "---------------------------\n",
      " \n",
      "======> track IVT streams and atmospheric rivers (ARs)\n",
      "        6959 object found\n",
      "        break up long living IVT objects that have many elements\n"
     ]
    },
    {
     "name": "stderr",
     "output_type": "stream",
     "text": [
      "100%|██████████| 551/551 [00:23<00:00, 23.55it/s]\n"
     ]
    },
    {
     "name": "stdout",
     "output_type": "stream",
     "text": [
      "        00:00:29.39\n",
      "9\n",
      "            Loop over 1498 objects\n"
     ]
    },
    {
     "name": "stderr",
     "output_type": "stream",
     "text": [
      "/work/aa0238/a271093/Scripts/MOAAP/src/Tracking_Functions.py:239: RuntimeWarning: All-NaN slice encountered\n",
      "  obj_min = np.nanmin(data_slice, axis=(1, 2))\n",
      "/work/aa0238/a271093/Scripts/MOAAP/src/Tracking_Functions.py:240: RuntimeWarning: All-NaN slice encountered\n",
      "  obj_max = np.nanmax(data_slice, axis=(1, 2))\n",
      "/work/aa0238/a271093/Scripts/MOAAP/src/Tracking_Functions.py:241: RuntimeWarning: Mean of empty slice\n",
      "  obj_mean = np.nanmean(data_slice, axis=(1, 2))\n",
      "/work/aa0238/a271093/Conda/MOAAP_env/lib/python3.12/site-packages/scipy/ndimage/_measurements.py:1541: RuntimeWarning: invalid value encountered in scalar divide\n",
      "  results = [sum(input * grids[dir].astype(float), labels, index) / normalizer\n"
     ]
    },
    {
     "name": "stdout",
     "output_type": "stream",
     "text": [
      "        check if MSs quallify as ARs\n"
     ]
    },
    {
     "name": "stderr",
     "output_type": "stream",
     "text": [
      "/work/aa0238/a271093/Scripts/MOAAP/src/Tracking_Functions.py:4036: RuntimeWarning: divide by zero encountered in scalar divide\n",
      "  if DIST.max() / DIST.min() < AR_width_lenght_ratio:\n"
     ]
    },
    {
     "name": "stdout",
     "output_type": "stream",
     "text": [
      "            Loop over 1498 objects\n",
      "        00:01:12.88\n",
      " \n",
      "Save the object masks into a joint netCDF\n",
      "Saved: /work/aa0238/a271093/results/MOAAP/IVT_Tracking/ICON_NWP_refined_remapped_3x/ObjectMasks_MOAPP_ICON_100and85ERA5perc_remapped_3x_1994_07_01-1995_02_01.nc\n",
      "        00:00:25.41\n",
      "clean up /work/aa0238/a271093/results/MOAAP/IVT_Tracking/ICON_NWP_refined_remapped_3x/IVT_MOAPP_ICON_100and85ERA5perc_remapped_3x_1994_07_01-1995_01_01.pkl\n",
      "clean up finished\n",
      "clean up /work/aa0238/a271093/results/MOAAP/IVT_Tracking/ICON_NWP_refined_remapped_3x/ARs_MOAPP_ICON_100and85ERA5perc_remapped_3x_1994_07_01-1995_01_01.pkl\n",
      "clean up finished\n",
      "correct nc-file with \n",
      " cdo -selmon,6,7,8,9,10,11,12 /work/aa0238/a271093/results/MOAAP/IVT_Tracking/ICON_NWP_refined_remapped_3x/ObjectMasks_MOAPP_ICON_100and85ERA5perc_remapped_3x_1994_07_01-1995_02_01.nc /work/aa0238/a271093/results/MOAAP/IVT_Tracking/ICON_NWP_refined_remapped_3x/ObjectMasks_MOAPP_ICON_100and85ERA5perc_remapped_3x_1994_07_01-1995_01_01_corrected.nc\n",
      "\n",
      " \n",
      " \n",
      " \n",
      "\n",
      "1995-01-01 00:00:00 1995-08-01 00:00:00\n",
      " \n",
      "The provided variables allow tracking the following phenomena\n",
      " \n",
      "|  phenomenon  | tracking |\n",
      "---------------------------\n",
      "   Jetstream   |   no\n",
      "   PSL CY/ACY  |   no\n",
      "   Z500 CY/ACY |   no\n",
      "   COLs        |   no\n",
      "   IVT ARs     |   yes\n",
      "   MS ARs      |   no\n",
      "   Fronts      |   no\n",
      "   TCs         |   no\n",
      "   MCSs        |   no\n",
      "   Equ. Waves  |   no\n",
      "---------------------------\n",
      " \n",
      "======> track IVT streams and atmospheric rivers (ARs)\n",
      "        7266 object found\n",
      "        break up long living IVT objects that have many elements\n"
     ]
    },
    {
     "name": "stderr",
     "output_type": "stream",
     "text": [
      "100%|██████████| 600/600 [00:20<00:00, 29.35it/s]\n"
     ]
    },
    {
     "name": "stdout",
     "output_type": "stream",
     "text": [
      "        00:00:25.97\n",
      "9\n",
      "            Loop over 1421 objects\n"
     ]
    },
    {
     "name": "stderr",
     "output_type": "stream",
     "text": [
      "/work/aa0238/a271093/Scripts/MOAAP/src/Tracking_Functions.py:239: RuntimeWarning: All-NaN slice encountered\n",
      "  obj_min = np.nanmin(data_slice, axis=(1, 2))\n",
      "/work/aa0238/a271093/Scripts/MOAAP/src/Tracking_Functions.py:240: RuntimeWarning: All-NaN slice encountered\n",
      "  obj_max = np.nanmax(data_slice, axis=(1, 2))\n",
      "/work/aa0238/a271093/Scripts/MOAAP/src/Tracking_Functions.py:241: RuntimeWarning: Mean of empty slice\n",
      "  obj_mean = np.nanmean(data_slice, axis=(1, 2))\n",
      "/work/aa0238/a271093/Conda/MOAAP_env/lib/python3.12/site-packages/scipy/ndimage/_measurements.py:1541: RuntimeWarning: invalid value encountered in scalar divide\n",
      "  results = [sum(input * grids[dir].astype(float), labels, index) / normalizer\n"
     ]
    },
    {
     "name": "stdout",
     "output_type": "stream",
     "text": [
      "        check if MSs quallify as ARs\n"
     ]
    },
    {
     "name": "stderr",
     "output_type": "stream",
     "text": [
      "/work/aa0238/a271093/Scripts/MOAAP/src/Tracking_Functions.py:4036: RuntimeWarning: divide by zero encountered in scalar divide\n",
      "  if DIST.max() / DIST.min() < AR_width_lenght_ratio:\n"
     ]
    },
    {
     "name": "stdout",
     "output_type": "stream",
     "text": [
      "            Loop over 1416 objects\n",
      "        00:01:06.27\n",
      " \n",
      "Save the object masks into a joint netCDF\n",
      "Saved: /work/aa0238/a271093/results/MOAAP/IVT_Tracking/ICON_NWP_refined_remapped_3x/ObjectMasks_MOAPP_ICON_100and85ERA5perc_remapped_3x_1995_01_01-1995_08_01.nc\n",
      "        00:00:24.94\n",
      "clean up /work/aa0238/a271093/results/MOAAP/IVT_Tracking/ICON_NWP_refined_remapped_3x/IVT_MOAPP_ICON_100and85ERA5perc_remapped_3x_1995_01_01-1995_07_01.pkl\n",
      "clean up finished\n",
      "clean up /work/aa0238/a271093/results/MOAAP/IVT_Tracking/ICON_NWP_refined_remapped_3x/ARs_MOAPP_ICON_100and85ERA5perc_remapped_3x_1995_01_01-1995_07_01.pkl\n",
      "clean up finished\n",
      "correct nc-file with \n",
      " cdo -selmon,1,2,3,4,5,6 /work/aa0238/a271093/results/MOAAP/IVT_Tracking/ICON_NWP_refined_remapped_3x/ObjectMasks_MOAPP_ICON_100and85ERA5perc_remapped_3x_1995_01_01-1995_08_01.nc /work/aa0238/a271093/results/MOAAP/IVT_Tracking/ICON_NWP_refined_remapped_3x/ObjectMasks_MOAPP_ICON_100and85ERA5perc_remapped_3x_1995_01_01-1995_07_01_corrected.nc\n",
      "\n",
      " \n",
      " \n",
      " \n",
      "\n",
      "1995-07-01 00:00:00 1996-02-01 00:00:00\n",
      " \n",
      "The provided variables allow tracking the following phenomena\n",
      " \n",
      "|  phenomenon  | tracking |\n",
      "---------------------------\n",
      "   Jetstream   |   no\n",
      "   PSL CY/ACY  |   no\n",
      "   Z500 CY/ACY |   no\n",
      "   COLs        |   no\n",
      "   IVT ARs     |   yes\n",
      "   MS ARs      |   no\n",
      "   Fronts      |   no\n",
      "   TCs         |   no\n",
      "   MCSs        |   no\n",
      "   Equ. Waves  |   no\n",
      "---------------------------\n",
      " \n",
      "======> track IVT streams and atmospheric rivers (ARs)\n",
      "        6525 object found\n",
      "        break up long living IVT objects that have many elements\n"
     ]
    },
    {
     "name": "stderr",
     "output_type": "stream",
     "text": [
      "100%|██████████| 584/584 [00:22<00:00, 26.29it/s] \n"
     ]
    },
    {
     "name": "stdout",
     "output_type": "stream",
     "text": [
      "        00:00:28.21\n",
      "9\n",
      "            Loop over 1474 objects\n"
     ]
    },
    {
     "name": "stderr",
     "output_type": "stream",
     "text": [
      "/work/aa0238/a271093/Scripts/MOAAP/src/Tracking_Functions.py:239: RuntimeWarning: All-NaN slice encountered\n",
      "  obj_min = np.nanmin(data_slice, axis=(1, 2))\n",
      "/work/aa0238/a271093/Scripts/MOAAP/src/Tracking_Functions.py:240: RuntimeWarning: All-NaN slice encountered\n",
      "  obj_max = np.nanmax(data_slice, axis=(1, 2))\n",
      "/work/aa0238/a271093/Scripts/MOAAP/src/Tracking_Functions.py:241: RuntimeWarning: Mean of empty slice\n",
      "  obj_mean = np.nanmean(data_slice, axis=(1, 2))\n",
      "/work/aa0238/a271093/Conda/MOAAP_env/lib/python3.12/site-packages/scipy/ndimage/_measurements.py:1541: RuntimeWarning: invalid value encountered in scalar divide\n",
      "  results = [sum(input * grids[dir].astype(float), labels, index) / normalizer\n"
     ]
    },
    {
     "name": "stdout",
     "output_type": "stream",
     "text": [
      "        check if MSs quallify as ARs\n"
     ]
    },
    {
     "name": "stderr",
     "output_type": "stream",
     "text": [
      "/work/aa0238/a271093/Scripts/MOAAP/src/Tracking_Functions.py:4036: RuntimeWarning: divide by zero encountered in scalar divide\n",
      "  if DIST.max() / DIST.min() < AR_width_lenght_ratio:\n"
     ]
    },
    {
     "name": "stdout",
     "output_type": "stream",
     "text": [
      "            Loop over 1474 objects\n",
      "        00:01:10.03\n",
      " \n",
      "Save the object masks into a joint netCDF\n",
      "Saved: /work/aa0238/a271093/results/MOAAP/IVT_Tracking/ICON_NWP_refined_remapped_3x/ObjectMasks_MOAPP_ICON_100and85ERA5perc_remapped_3x_1995_07_01-1996_02_01.nc\n",
      "        00:00:25.50\n",
      "clean up /work/aa0238/a271093/results/MOAAP/IVT_Tracking/ICON_NWP_refined_remapped_3x/IVT_MOAPP_ICON_100and85ERA5perc_remapped_3x_1995_07_01-1996_01_01.pkl\n",
      "clean up finished\n",
      "clean up /work/aa0238/a271093/results/MOAAP/IVT_Tracking/ICON_NWP_refined_remapped_3x/ARs_MOAPP_ICON_100and85ERA5perc_remapped_3x_1995_07_01-1996_01_01.pkl\n",
      "clean up finished\n",
      "correct nc-file with \n",
      " cdo -selmon,6,7,8,9,10,11,12 /work/aa0238/a271093/results/MOAAP/IVT_Tracking/ICON_NWP_refined_remapped_3x/ObjectMasks_MOAPP_ICON_100and85ERA5perc_remapped_3x_1995_07_01-1996_02_01.nc /work/aa0238/a271093/results/MOAAP/IVT_Tracking/ICON_NWP_refined_remapped_3x/ObjectMasks_MOAPP_ICON_100and85ERA5perc_remapped_3x_1995_07_01-1996_01_01_corrected.nc\n",
      "\n",
      " \n",
      " \n",
      " \n",
      "\n",
      "1996-01-01 00:00:00 1996-08-01 00:00:00\n",
      " \n",
      "The provided variables allow tracking the following phenomena\n",
      " \n",
      "|  phenomenon  | tracking |\n",
      "---------------------------\n",
      "   Jetstream   |   no\n",
      "   PSL CY/ACY  |   no\n",
      "   Z500 CY/ACY |   no\n",
      "   COLs        |   no\n",
      "   IVT ARs     |   yes\n",
      "   MS ARs      |   no\n",
      "   Fronts      |   no\n",
      "   TCs         |   no\n",
      "   MCSs        |   no\n",
      "   Equ. Waves  |   no\n",
      "---------------------------\n",
      " \n",
      "======> track IVT streams and atmospheric rivers (ARs)\n",
      "        6199 object found\n",
      "        break up long living IVT objects that have many elements\n"
     ]
    },
    {
     "name": "stderr",
     "output_type": "stream",
     "text": [
      "100%|██████████| 593/593 [00:20<00:00, 29.41it/s] \n"
     ]
    },
    {
     "name": "stdout",
     "output_type": "stream",
     "text": [
      "        00:00:25.67\n",
      "9\n",
      "            Loop over 1438 objects\n"
     ]
    },
    {
     "name": "stderr",
     "output_type": "stream",
     "text": [
      "/work/aa0238/a271093/Scripts/MOAAP/src/Tracking_Functions.py:239: RuntimeWarning: All-NaN slice encountered\n",
      "  obj_min = np.nanmin(data_slice, axis=(1, 2))\n",
      "/work/aa0238/a271093/Scripts/MOAAP/src/Tracking_Functions.py:240: RuntimeWarning: All-NaN slice encountered\n",
      "  obj_max = np.nanmax(data_slice, axis=(1, 2))\n",
      "/work/aa0238/a271093/Scripts/MOAAP/src/Tracking_Functions.py:241: RuntimeWarning: Mean of empty slice\n",
      "  obj_mean = np.nanmean(data_slice, axis=(1, 2))\n",
      "/work/aa0238/a271093/Conda/MOAAP_env/lib/python3.12/site-packages/scipy/ndimage/_measurements.py:1541: RuntimeWarning: invalid value encountered in scalar divide\n",
      "  results = [sum(input * grids[dir].astype(float), labels, index) / normalizer\n"
     ]
    },
    {
     "name": "stdout",
     "output_type": "stream",
     "text": [
      "        check if MSs quallify as ARs\n"
     ]
    },
    {
     "name": "stderr",
     "output_type": "stream",
     "text": [
      "/work/aa0238/a271093/Scripts/MOAAP/src/Tracking_Functions.py:4036: RuntimeWarning: divide by zero encountered in scalar divide\n",
      "  if DIST.max() / DIST.min() < AR_width_lenght_ratio:\n"
     ]
    },
    {
     "name": "stdout",
     "output_type": "stream",
     "text": [
      "            Loop over 1438 objects\n",
      "        00:01:05.19\n",
      " \n",
      "Save the object masks into a joint netCDF\n",
      "Saved: /work/aa0238/a271093/results/MOAAP/IVT_Tracking/ICON_NWP_refined_remapped_3x/ObjectMasks_MOAPP_ICON_100and85ERA5perc_remapped_3x_1996_01_01-1996_08_01.nc\n",
      "        00:00:25.11\n",
      "clean up /work/aa0238/a271093/results/MOAAP/IVT_Tracking/ICON_NWP_refined_remapped_3x/IVT_MOAPP_ICON_100and85ERA5perc_remapped_3x_1996_01_01-1996_07_01.pkl\n",
      "clean up finished\n",
      "clean up /work/aa0238/a271093/results/MOAAP/IVT_Tracking/ICON_NWP_refined_remapped_3x/ARs_MOAPP_ICON_100and85ERA5perc_remapped_3x_1996_01_01-1996_07_01.pkl\n",
      "clean up finished\n",
      "correct nc-file with \n",
      " cdo -selmon,1,2,3,4,5,6 /work/aa0238/a271093/results/MOAAP/IVT_Tracking/ICON_NWP_refined_remapped_3x/ObjectMasks_MOAPP_ICON_100and85ERA5perc_remapped_3x_1996_01_01-1996_08_01.nc /work/aa0238/a271093/results/MOAAP/IVT_Tracking/ICON_NWP_refined_remapped_3x/ObjectMasks_MOAPP_ICON_100and85ERA5perc_remapped_3x_1996_01_01-1996_07_01_corrected.nc\n",
      "\n",
      " \n",
      " \n",
      " \n",
      "\n",
      "1996-07-01 00:00:00 1997-02-01 00:00:00\n",
      " \n",
      "The provided variables allow tracking the following phenomena\n",
      " \n",
      "|  phenomenon  | tracking |\n",
      "---------------------------\n",
      "   Jetstream   |   no\n",
      "   PSL CY/ACY  |   no\n",
      "   Z500 CY/ACY |   no\n",
      "   COLs        |   no\n",
      "   IVT ARs     |   yes\n",
      "   MS ARs      |   no\n",
      "   Fronts      |   no\n",
      "   TCs         |   no\n",
      "   MCSs        |   no\n",
      "   Equ. Waves  |   no\n",
      "---------------------------\n",
      " \n",
      "======> track IVT streams and atmospheric rivers (ARs)\n",
      "        6043 object found\n",
      "        break up long living IVT objects that have many elements\n"
     ]
    },
    {
     "name": "stderr",
     "output_type": "stream",
     "text": [
      "100%|██████████| 519/519 [00:21<00:00, 23.84it/s]\n"
     ]
    },
    {
     "name": "stdout",
     "output_type": "stream",
     "text": [
      "        00:00:27.73\n",
      "9\n",
      "            Loop over 1410 objects\n",
      "        check if MSs quallify as ARs\n"
     ]
    },
    {
     "name": "stderr",
     "output_type": "stream",
     "text": [
      "/work/aa0238/a271093/Scripts/MOAAP/src/Tracking_Functions.py:4036: RuntimeWarning: divide by zero encountered in scalar divide\n",
      "  if DIST.max() / DIST.min() < AR_width_lenght_ratio:\n"
     ]
    },
    {
     "name": "stdout",
     "output_type": "stream",
     "text": [
      "            Loop over 1410 objects\n"
     ]
    },
    {
     "name": "stderr",
     "output_type": "stream",
     "text": [
      "/work/aa0238/a271093/Scripts/MOAAP/src/Tracking_Functions.py:239: RuntimeWarning: All-NaN slice encountered\n",
      "  obj_min = np.nanmin(data_slice, axis=(1, 2))\n",
      "/work/aa0238/a271093/Scripts/MOAAP/src/Tracking_Functions.py:240: RuntimeWarning: All-NaN slice encountered\n",
      "  obj_max = np.nanmax(data_slice, axis=(1, 2))\n",
      "/work/aa0238/a271093/Scripts/MOAAP/src/Tracking_Functions.py:241: RuntimeWarning: Mean of empty slice\n",
      "  obj_mean = np.nanmean(data_slice, axis=(1, 2))\n",
      "/work/aa0238/a271093/Conda/MOAAP_env/lib/python3.12/site-packages/scipy/ndimage/_measurements.py:1541: RuntimeWarning: invalid value encountered in scalar divide\n",
      "  results = [sum(input * grids[dir].astype(float), labels, index) / normalizer\n"
     ]
    },
    {
     "name": "stdout",
     "output_type": "stream",
     "text": [
      "        00:01:10.43\n",
      " \n",
      "Save the object masks into a joint netCDF\n",
      "Saved: /work/aa0238/a271093/results/MOAAP/IVT_Tracking/ICON_NWP_refined_remapped_3x/ObjectMasks_MOAPP_ICON_100and85ERA5perc_remapped_3x_1996_07_01-1997_02_01.nc\n",
      "        00:00:25.09\n",
      "clean up /work/aa0238/a271093/results/MOAAP/IVT_Tracking/ICON_NWP_refined_remapped_3x/IVT_MOAPP_ICON_100and85ERA5perc_remapped_3x_1996_07_01-1997_01_01.pkl\n",
      "clean up finished\n",
      "clean up /work/aa0238/a271093/results/MOAAP/IVT_Tracking/ICON_NWP_refined_remapped_3x/ARs_MOAPP_ICON_100and85ERA5perc_remapped_3x_1996_07_01-1997_01_01.pkl\n",
      "clean up finished\n",
      "correct nc-file with \n",
      " cdo -selmon,6,7,8,9,10,11,12 /work/aa0238/a271093/results/MOAAP/IVT_Tracking/ICON_NWP_refined_remapped_3x/ObjectMasks_MOAPP_ICON_100and85ERA5perc_remapped_3x_1996_07_01-1997_02_01.nc /work/aa0238/a271093/results/MOAAP/IVT_Tracking/ICON_NWP_refined_remapped_3x/ObjectMasks_MOAPP_ICON_100and85ERA5perc_remapped_3x_1996_07_01-1997_01_01_corrected.nc\n",
      "\n",
      " \n",
      " \n",
      " \n",
      "\n",
      "1997-01-01 00:00:00 1997-08-01 00:00:00\n",
      " \n",
      "The provided variables allow tracking the following phenomena\n",
      " \n",
      "|  phenomenon  | tracking |\n",
      "---------------------------\n",
      "   Jetstream   |   no\n",
      "   PSL CY/ACY  |   no\n",
      "   Z500 CY/ACY |   no\n",
      "   COLs        |   no\n",
      "   IVT ARs     |   yes\n",
      "   MS ARs      |   no\n",
      "   Fronts      |   no\n",
      "   TCs         |   no\n",
      "   MCSs        |   no\n",
      "   Equ. Waves  |   no\n",
      "---------------------------\n",
      " \n",
      "======> track IVT streams and atmospheric rivers (ARs)\n",
      "        6371 object found\n",
      "        break up long living IVT objects that have many elements\n"
     ]
    },
    {
     "name": "stderr",
     "output_type": "stream",
     "text": [
      "100%|██████████| 594/594 [00:20<00:00, 29.38it/s]\n"
     ]
    },
    {
     "name": "stdout",
     "output_type": "stream",
     "text": [
      "        00:00:25.78\n",
      "9\n",
      "            Loop over 1367 objects\n"
     ]
    },
    {
     "name": "stderr",
     "output_type": "stream",
     "text": [
      "/work/aa0238/a271093/Scripts/MOAAP/src/Tracking_Functions.py:239: RuntimeWarning: All-NaN slice encountered\n",
      "  obj_min = np.nanmin(data_slice, axis=(1, 2))\n",
      "/work/aa0238/a271093/Scripts/MOAAP/src/Tracking_Functions.py:240: RuntimeWarning: All-NaN slice encountered\n",
      "  obj_max = np.nanmax(data_slice, axis=(1, 2))\n",
      "/work/aa0238/a271093/Scripts/MOAAP/src/Tracking_Functions.py:241: RuntimeWarning: Mean of empty slice\n",
      "  obj_mean = np.nanmean(data_slice, axis=(1, 2))\n",
      "/work/aa0238/a271093/Conda/MOAAP_env/lib/python3.12/site-packages/scipy/ndimage/_measurements.py:1541: RuntimeWarning: invalid value encountered in scalar divide\n",
      "  results = [sum(input * grids[dir].astype(float), labels, index) / normalizer\n"
     ]
    },
    {
     "name": "stdout",
     "output_type": "stream",
     "text": [
      "        check if MSs quallify as ARs\n"
     ]
    },
    {
     "name": "stderr",
     "output_type": "stream",
     "text": [
      "/work/aa0238/a271093/Scripts/MOAAP/src/Tracking_Functions.py:4036: RuntimeWarning: divide by zero encountered in scalar divide\n",
      "  if DIST.max() / DIST.min() < AR_width_lenght_ratio:\n"
     ]
    },
    {
     "name": "stdout",
     "output_type": "stream",
     "text": [
      "            Loop over 1365 objects\n",
      "        00:01:04.78\n",
      " \n",
      "Save the object masks into a joint netCDF\n",
      "Saved: /work/aa0238/a271093/results/MOAAP/IVT_Tracking/ICON_NWP_refined_remapped_3x/ObjectMasks_MOAPP_ICON_100and85ERA5perc_remapped_3x_1997_01_01-1997_08_01.nc\n",
      "        00:00:24.53\n",
      "clean up /work/aa0238/a271093/results/MOAAP/IVT_Tracking/ICON_NWP_refined_remapped_3x/IVT_MOAPP_ICON_100and85ERA5perc_remapped_3x_1997_01_01-1997_07_01.pkl\n",
      "clean up finished\n",
      "clean up /work/aa0238/a271093/results/MOAAP/IVT_Tracking/ICON_NWP_refined_remapped_3x/ARs_MOAPP_ICON_100and85ERA5perc_remapped_3x_1997_01_01-1997_07_01.pkl\n",
      "clean up finished\n",
      "correct nc-file with \n",
      " cdo -selmon,1,2,3,4,5,6 /work/aa0238/a271093/results/MOAAP/IVT_Tracking/ICON_NWP_refined_remapped_3x/ObjectMasks_MOAPP_ICON_100and85ERA5perc_remapped_3x_1997_01_01-1997_08_01.nc /work/aa0238/a271093/results/MOAAP/IVT_Tracking/ICON_NWP_refined_remapped_3x/ObjectMasks_MOAPP_ICON_100and85ERA5perc_remapped_3x_1997_01_01-1997_07_01_corrected.nc\n",
      "\n",
      " \n",
      " \n",
      " \n",
      "\n",
      "1997-07-01 00:00:00 1998-02-01 00:00:00\n",
      " \n",
      "The provided variables allow tracking the following phenomena\n",
      " \n",
      "|  phenomenon  | tracking |\n",
      "---------------------------\n",
      "   Jetstream   |   no\n",
      "   PSL CY/ACY  |   no\n",
      "   Z500 CY/ACY |   no\n",
      "   COLs        |   no\n",
      "   IVT ARs     |   yes\n",
      "   MS ARs      |   no\n",
      "   Fronts      |   no\n",
      "   TCs         |   no\n",
      "   MCSs        |   no\n",
      "   Equ. Waves  |   no\n",
      "---------------------------\n",
      " \n",
      "======> track IVT streams and atmospheric rivers (ARs)\n",
      "        6960 object found\n",
      "        break up long living IVT objects that have many elements\n"
     ]
    },
    {
     "name": "stderr",
     "output_type": "stream",
     "text": [
      "100%|██████████| 534/534 [00:22<00:00, 23.24it/s]\n"
     ]
    },
    {
     "name": "stdout",
     "output_type": "stream",
     "text": [
      "        00:00:28.95\n",
      "9\n",
      "            Loop over 1448 objects\n"
     ]
    },
    {
     "name": "stderr",
     "output_type": "stream",
     "text": [
      "/work/aa0238/a271093/Scripts/MOAAP/src/Tracking_Functions.py:239: RuntimeWarning: All-NaN slice encountered\n",
      "  obj_min = np.nanmin(data_slice, axis=(1, 2))\n",
      "/work/aa0238/a271093/Scripts/MOAAP/src/Tracking_Functions.py:240: RuntimeWarning: All-NaN slice encountered\n",
      "  obj_max = np.nanmax(data_slice, axis=(1, 2))\n",
      "/work/aa0238/a271093/Scripts/MOAAP/src/Tracking_Functions.py:241: RuntimeWarning: Mean of empty slice\n",
      "  obj_mean = np.nanmean(data_slice, axis=(1, 2))\n",
      "/work/aa0238/a271093/Conda/MOAAP_env/lib/python3.12/site-packages/scipy/ndimage/_measurements.py:1541: RuntimeWarning: invalid value encountered in scalar divide\n",
      "  results = [sum(input * grids[dir].astype(float), labels, index) / normalizer\n"
     ]
    },
    {
     "name": "stdout",
     "output_type": "stream",
     "text": [
      "        check if MSs quallify as ARs\n"
     ]
    },
    {
     "name": "stderr",
     "output_type": "stream",
     "text": [
      "/work/aa0238/a271093/Scripts/MOAAP/src/Tracking_Functions.py:4036: RuntimeWarning: divide by zero encountered in scalar divide\n",
      "  if DIST.max() / DIST.min() < AR_width_lenght_ratio:\n"
     ]
    },
    {
     "name": "stdout",
     "output_type": "stream",
     "text": [
      "            Loop over 1448 objects\n",
      "        00:01:13.35\n",
      " \n",
      "Save the object masks into a joint netCDF\n",
      "Saved: /work/aa0238/a271093/results/MOAAP/IVT_Tracking/ICON_NWP_refined_remapped_3x/ObjectMasks_MOAPP_ICON_100and85ERA5perc_remapped_3x_1997_07_01-1998_02_01.nc\n",
      "        00:00:24.97\n",
      "clean up /work/aa0238/a271093/results/MOAAP/IVT_Tracking/ICON_NWP_refined_remapped_3x/IVT_MOAPP_ICON_100and85ERA5perc_remapped_3x_1997_07_01-1998_01_01.pkl\n",
      "clean up finished\n",
      "clean up /work/aa0238/a271093/results/MOAAP/IVT_Tracking/ICON_NWP_refined_remapped_3x/ARs_MOAPP_ICON_100and85ERA5perc_remapped_3x_1997_07_01-1998_01_01.pkl\n",
      "clean up finished\n",
      "correct nc-file with \n",
      " cdo -selmon,6,7,8,9,10,11,12 /work/aa0238/a271093/results/MOAAP/IVT_Tracking/ICON_NWP_refined_remapped_3x/ObjectMasks_MOAPP_ICON_100and85ERA5perc_remapped_3x_1997_07_01-1998_02_01.nc /work/aa0238/a271093/results/MOAAP/IVT_Tracking/ICON_NWP_refined_remapped_3x/ObjectMasks_MOAPP_ICON_100and85ERA5perc_remapped_3x_1997_07_01-1998_01_01_corrected.nc\n",
      "\n",
      " \n",
      " \n",
      " \n",
      "\n",
      "1998-01-01 00:00:00 1998-08-01 00:00:00\n",
      " \n",
      "The provided variables allow tracking the following phenomena\n",
      " \n",
      "|  phenomenon  | tracking |\n",
      "---------------------------\n",
      "   Jetstream   |   no\n",
      "   PSL CY/ACY  |   no\n",
      "   Z500 CY/ACY |   no\n",
      "   COLs        |   no\n",
      "   IVT ARs     |   yes\n",
      "   MS ARs      |   no\n",
      "   Fronts      |   no\n",
      "   TCs         |   no\n",
      "   MCSs        |   no\n",
      "   Equ. Waves  |   no\n",
      "---------------------------\n",
      " \n",
      "======> track IVT streams and atmospheric rivers (ARs)\n",
      "        6766 object found\n",
      "        break up long living IVT objects that have many elements\n"
     ]
    },
    {
     "name": "stderr",
     "output_type": "stream",
     "text": [
      "100%|██████████| 651/651 [00:21<00:00, 30.82it/s]\n"
     ]
    },
    {
     "name": "stdout",
     "output_type": "stream",
     "text": [
      "        00:00:26.72\n",
      "9\n",
      "            Loop over 1477 objects\n"
     ]
    },
    {
     "name": "stderr",
     "output_type": "stream",
     "text": [
      "/work/aa0238/a271093/Scripts/MOAAP/src/Tracking_Functions.py:239: RuntimeWarning: All-NaN slice encountered\n",
      "  obj_min = np.nanmin(data_slice, axis=(1, 2))\n",
      "/work/aa0238/a271093/Scripts/MOAAP/src/Tracking_Functions.py:240: RuntimeWarning: All-NaN slice encountered\n",
      "  obj_max = np.nanmax(data_slice, axis=(1, 2))\n",
      "/work/aa0238/a271093/Scripts/MOAAP/src/Tracking_Functions.py:241: RuntimeWarning: Mean of empty slice\n",
      "  obj_mean = np.nanmean(data_slice, axis=(1, 2))\n",
      "/work/aa0238/a271093/Conda/MOAAP_env/lib/python3.12/site-packages/scipy/ndimage/_measurements.py:1541: RuntimeWarning: invalid value encountered in scalar divide\n",
      "  results = [sum(input * grids[dir].astype(float), labels, index) / normalizer\n"
     ]
    },
    {
     "name": "stdout",
     "output_type": "stream",
     "text": [
      "        check if MSs quallify as ARs\n"
     ]
    },
    {
     "name": "stderr",
     "output_type": "stream",
     "text": [
      "/work/aa0238/a271093/Scripts/MOAAP/src/Tracking_Functions.py:4036: RuntimeWarning: divide by zero encountered in scalar divide\n",
      "  if DIST.max() / DIST.min() < AR_width_lenght_ratio:\n"
     ]
    },
    {
     "name": "stdout",
     "output_type": "stream",
     "text": [
      "            Loop over 1477 objects\n",
      "        00:01:07.85\n",
      " \n",
      "Save the object masks into a joint netCDF\n",
      "Saved: /work/aa0238/a271093/results/MOAAP/IVT_Tracking/ICON_NWP_refined_remapped_3x/ObjectMasks_MOAPP_ICON_100and85ERA5perc_remapped_3x_1998_01_01-1998_08_01.nc\n",
      "        00:00:24.83\n",
      "clean up /work/aa0238/a271093/results/MOAAP/IVT_Tracking/ICON_NWP_refined_remapped_3x/IVT_MOAPP_ICON_100and85ERA5perc_remapped_3x_1998_01_01-1998_07_01.pkl\n",
      "clean up finished\n",
      "clean up /work/aa0238/a271093/results/MOAAP/IVT_Tracking/ICON_NWP_refined_remapped_3x/ARs_MOAPP_ICON_100and85ERA5perc_remapped_3x_1998_01_01-1998_07_01.pkl\n",
      "clean up finished\n",
      "correct nc-file with \n",
      " cdo -selmon,1,2,3,4,5,6 /work/aa0238/a271093/results/MOAAP/IVT_Tracking/ICON_NWP_refined_remapped_3x/ObjectMasks_MOAPP_ICON_100and85ERA5perc_remapped_3x_1998_01_01-1998_08_01.nc /work/aa0238/a271093/results/MOAAP/IVT_Tracking/ICON_NWP_refined_remapped_3x/ObjectMasks_MOAPP_ICON_100and85ERA5perc_remapped_3x_1998_01_01-1998_07_01_corrected.nc\n",
      "\n",
      " \n",
      " \n",
      " \n",
      "\n",
      "1998-07-01 00:00:00 1999-02-01 00:00:00\n",
      " \n",
      "The provided variables allow tracking the following phenomena\n",
      " \n",
      "|  phenomenon  | tracking |\n",
      "---------------------------\n",
      "   Jetstream   |   no\n",
      "   PSL CY/ACY  |   no\n",
      "   Z500 CY/ACY |   no\n",
      "   COLs        |   no\n",
      "   IVT ARs     |   yes\n",
      "   MS ARs      |   no\n",
      "   Fronts      |   no\n",
      "   TCs         |   no\n",
      "   MCSs        |   no\n",
      "   Equ. Waves  |   no\n",
      "---------------------------\n",
      " \n",
      "======> track IVT streams and atmospheric rivers (ARs)\n",
      "        6360 object found\n",
      "        break up long living IVT objects that have many elements\n"
     ]
    },
    {
     "name": "stderr",
     "output_type": "stream",
     "text": [
      "100%|██████████| 517/517 [00:21<00:00, 24.61it/s]\n"
     ]
    },
    {
     "name": "stdout",
     "output_type": "stream",
     "text": [
      "        00:00:26.88\n",
      "9\n",
      "            Loop over 1410 objects\n"
     ]
    },
    {
     "name": "stderr",
     "output_type": "stream",
     "text": [
      "/work/aa0238/a271093/Scripts/MOAAP/src/Tracking_Functions.py:239: RuntimeWarning: All-NaN slice encountered\n",
      "  obj_min = np.nanmin(data_slice, axis=(1, 2))\n",
      "/work/aa0238/a271093/Scripts/MOAAP/src/Tracking_Functions.py:240: RuntimeWarning: All-NaN slice encountered\n",
      "  obj_max = np.nanmax(data_slice, axis=(1, 2))\n",
      "/work/aa0238/a271093/Scripts/MOAAP/src/Tracking_Functions.py:241: RuntimeWarning: Mean of empty slice\n",
      "  obj_mean = np.nanmean(data_slice, axis=(1, 2))\n",
      "/work/aa0238/a271093/Conda/MOAAP_env/lib/python3.12/site-packages/scipy/ndimage/_measurements.py:1541: RuntimeWarning: invalid value encountered in scalar divide\n",
      "  results = [sum(input * grids[dir].astype(float), labels, index) / normalizer\n"
     ]
    },
    {
     "name": "stdout",
     "output_type": "stream",
     "text": [
      "        check if MSs quallify as ARs\n"
     ]
    },
    {
     "name": "stderr",
     "output_type": "stream",
     "text": [
      "/work/aa0238/a271093/Scripts/MOAAP/src/Tracking_Functions.py:4036: RuntimeWarning: divide by zero encountered in scalar divide\n",
      "  if DIST.max() / DIST.min() < AR_width_lenght_ratio:\n"
     ]
    },
    {
     "name": "stdout",
     "output_type": "stream",
     "text": [
      "            Loop over 1408 objects\n",
      "        00:01:09.99\n",
      " \n",
      "Save the object masks into a joint netCDF\n",
      "Saved: /work/aa0238/a271093/results/MOAAP/IVT_Tracking/ICON_NWP_refined_remapped_3x/ObjectMasks_MOAPP_ICON_100and85ERA5perc_remapped_3x_1998_07_01-1999_02_01.nc\n",
      "        00:00:25.88\n",
      "clean up /work/aa0238/a271093/results/MOAAP/IVT_Tracking/ICON_NWP_refined_remapped_3x/IVT_MOAPP_ICON_100and85ERA5perc_remapped_3x_1998_07_01-1999_01_01.pkl\n",
      "clean up finished\n",
      "clean up /work/aa0238/a271093/results/MOAAP/IVT_Tracking/ICON_NWP_refined_remapped_3x/ARs_MOAPP_ICON_100and85ERA5perc_remapped_3x_1998_07_01-1999_01_01.pkl\n",
      "clean up finished\n",
      "correct nc-file with \n",
      " cdo -selmon,6,7,8,9,10,11,12 /work/aa0238/a271093/results/MOAAP/IVT_Tracking/ICON_NWP_refined_remapped_3x/ObjectMasks_MOAPP_ICON_100and85ERA5perc_remapped_3x_1998_07_01-1999_02_01.nc /work/aa0238/a271093/results/MOAAP/IVT_Tracking/ICON_NWP_refined_remapped_3x/ObjectMasks_MOAPP_ICON_100and85ERA5perc_remapped_3x_1998_07_01-1999_01_01_corrected.nc\n",
      "\n",
      " \n",
      " \n",
      " \n",
      "\n",
      "1999-01-01 00:00:00 1999-08-01 00:00:00\n",
      " \n",
      "The provided variables allow tracking the following phenomena\n",
      " \n",
      "|  phenomenon  | tracking |\n",
      "---------------------------\n",
      "   Jetstream   |   no\n",
      "   PSL CY/ACY  |   no\n",
      "   Z500 CY/ACY |   no\n",
      "   COLs        |   no\n",
      "   IVT ARs     |   yes\n",
      "   MS ARs      |   no\n",
      "   Fronts      |   no\n",
      "   TCs         |   no\n",
      "   MCSs        |   no\n",
      "   Equ. Waves  |   no\n",
      "---------------------------\n",
      " \n",
      "======> track IVT streams and atmospheric rivers (ARs)\n",
      "        5648 object found\n",
      "        break up long living IVT objects that have many elements\n"
     ]
    },
    {
     "name": "stderr",
     "output_type": "stream",
     "text": [
      "100%|██████████| 589/589 [00:22<00:00, 26.71it/s]\n"
     ]
    },
    {
     "name": "stdout",
     "output_type": "stream",
     "text": [
      "        00:00:27.69\n",
      "9\n",
      "            Loop over 1368 objects\n"
     ]
    },
    {
     "name": "stderr",
     "output_type": "stream",
     "text": [
      "/work/aa0238/a271093/Scripts/MOAAP/src/Tracking_Functions.py:239: RuntimeWarning: All-NaN slice encountered\n",
      "  obj_min = np.nanmin(data_slice, axis=(1, 2))\n",
      "/work/aa0238/a271093/Scripts/MOAAP/src/Tracking_Functions.py:240: RuntimeWarning: All-NaN slice encountered\n",
      "  obj_max = np.nanmax(data_slice, axis=(1, 2))\n",
      "/work/aa0238/a271093/Scripts/MOAAP/src/Tracking_Functions.py:241: RuntimeWarning: Mean of empty slice\n",
      "  obj_mean = np.nanmean(data_slice, axis=(1, 2))\n",
      "/work/aa0238/a271093/Conda/MOAAP_env/lib/python3.12/site-packages/scipy/ndimage/_measurements.py:1541: RuntimeWarning: invalid value encountered in scalar divide\n",
      "  results = [sum(input * grids[dir].astype(float), labels, index) / normalizer\n"
     ]
    },
    {
     "name": "stdout",
     "output_type": "stream",
     "text": [
      "        check if MSs quallify as ARs\n"
     ]
    },
    {
     "name": "stderr",
     "output_type": "stream",
     "text": [
      "/work/aa0238/a271093/Scripts/MOAAP/src/Tracking_Functions.py:4036: RuntimeWarning: divide by zero encountered in scalar divide\n",
      "  if DIST.max() / DIST.min() < AR_width_lenght_ratio:\n"
     ]
    },
    {
     "name": "stdout",
     "output_type": "stream",
     "text": [
      "            Loop over 1368 objects\n",
      "        00:01:11.79\n",
      " \n",
      "Save the object masks into a joint netCDF\n",
      "Saved: /work/aa0238/a271093/results/MOAAP/IVT_Tracking/ICON_NWP_refined_remapped_3x/ObjectMasks_MOAPP_ICON_100and85ERA5perc_remapped_3x_1999_01_01-1999_08_01.nc\n",
      "        00:00:24.98\n",
      "clean up /work/aa0238/a271093/results/MOAAP/IVT_Tracking/ICON_NWP_refined_remapped_3x/IVT_MOAPP_ICON_100and85ERA5perc_remapped_3x_1999_01_01-1999_07_01.pkl\n",
      "clean up finished\n",
      "clean up /work/aa0238/a271093/results/MOAAP/IVT_Tracking/ICON_NWP_refined_remapped_3x/ARs_MOAPP_ICON_100and85ERA5perc_remapped_3x_1999_01_01-1999_07_01.pkl\n",
      "clean up finished\n",
      "correct nc-file with \n",
      " cdo -selmon,1,2,3,4,5,6 /work/aa0238/a271093/results/MOAAP/IVT_Tracking/ICON_NWP_refined_remapped_3x/ObjectMasks_MOAPP_ICON_100and85ERA5perc_remapped_3x_1999_01_01-1999_08_01.nc /work/aa0238/a271093/results/MOAAP/IVT_Tracking/ICON_NWP_refined_remapped_3x/ObjectMasks_MOAPP_ICON_100and85ERA5perc_remapped_3x_1999_01_01-1999_07_01_corrected.nc\n",
      "\n",
      " \n",
      " \n",
      " \n",
      "\n",
      "1999-07-01 00:00:00 2000-02-01 00:00:00\n",
      " \n",
      "The provided variables allow tracking the following phenomena\n",
      " \n",
      "|  phenomenon  | tracking |\n",
      "---------------------------\n",
      "   Jetstream   |   no\n",
      "   PSL CY/ACY  |   no\n",
      "   Z500 CY/ACY |   no\n",
      "   COLs        |   no\n",
      "   IVT ARs     |   yes\n",
      "   MS ARs      |   no\n",
      "   Fronts      |   no\n",
      "   TCs         |   no\n",
      "   MCSs        |   no\n",
      "   Equ. Waves  |   no\n",
      "---------------------------\n",
      " \n",
      "======> track IVT streams and atmospheric rivers (ARs)\n",
      "        6759 object found\n",
      "        break up long living IVT objects that have many elements\n"
     ]
    },
    {
     "name": "stderr",
     "output_type": "stream",
     "text": [
      "100%|██████████| 589/589 [00:22<00:00, 25.89it/s]\n"
     ]
    },
    {
     "name": "stdout",
     "output_type": "stream",
     "text": [
      "        00:00:29.14\n",
      "9\n",
      "            Loop over 1495 objects\n"
     ]
    },
    {
     "name": "stderr",
     "output_type": "stream",
     "text": [
      "/work/aa0238/a271093/Scripts/MOAAP/src/Tracking_Functions.py:239: RuntimeWarning: All-NaN slice encountered\n",
      "  obj_min = np.nanmin(data_slice, axis=(1, 2))\n",
      "/work/aa0238/a271093/Scripts/MOAAP/src/Tracking_Functions.py:240: RuntimeWarning: All-NaN slice encountered\n",
      "  obj_max = np.nanmax(data_slice, axis=(1, 2))\n",
      "/work/aa0238/a271093/Scripts/MOAAP/src/Tracking_Functions.py:241: RuntimeWarning: Mean of empty slice\n",
      "  obj_mean = np.nanmean(data_slice, axis=(1, 2))\n",
      "/work/aa0238/a271093/Conda/MOAAP_env/lib/python3.12/site-packages/scipy/ndimage/_measurements.py:1541: RuntimeWarning: invalid value encountered in scalar divide\n",
      "  results = [sum(input * grids[dir].astype(float), labels, index) / normalizer\n"
     ]
    },
    {
     "name": "stdout",
     "output_type": "stream",
     "text": [
      "        check if MSs quallify as ARs\n"
     ]
    },
    {
     "name": "stderr",
     "output_type": "stream",
     "text": [
      "/work/aa0238/a271093/Scripts/MOAAP/src/Tracking_Functions.py:4036: RuntimeWarning: divide by zero encountered in scalar divide\n",
      "  if DIST.max() / DIST.min() < AR_width_lenght_ratio:\n"
     ]
    },
    {
     "name": "stdout",
     "output_type": "stream",
     "text": [
      "            Loop over 1493 objects\n",
      "        00:01:10.23\n",
      " \n",
      "Save the object masks into a joint netCDF\n",
      "Saved: /work/aa0238/a271093/results/MOAAP/IVT_Tracking/ICON_NWP_refined_remapped_3x/ObjectMasks_MOAPP_ICON_100and85ERA5perc_remapped_3x_1999_07_01-2000_02_01.nc\n",
      "        00:00:25.24\n",
      "clean up /work/aa0238/a271093/results/MOAAP/IVT_Tracking/ICON_NWP_refined_remapped_3x/IVT_MOAPP_ICON_100and85ERA5perc_remapped_3x_1999_07_01-2000_01_01.pkl\n",
      "clean up finished\n",
      "clean up /work/aa0238/a271093/results/MOAAP/IVT_Tracking/ICON_NWP_refined_remapped_3x/ARs_MOAPP_ICON_100and85ERA5perc_remapped_3x_1999_07_01-2000_01_01.pkl\n",
      "clean up finished\n",
      "correct nc-file with \n",
      " cdo -selmon,6,7,8,9,10,11,12 /work/aa0238/a271093/results/MOAAP/IVT_Tracking/ICON_NWP_refined_remapped_3x/ObjectMasks_MOAPP_ICON_100and85ERA5perc_remapped_3x_1999_07_01-2000_02_01.nc /work/aa0238/a271093/results/MOAAP/IVT_Tracking/ICON_NWP_refined_remapped_3x/ObjectMasks_MOAPP_ICON_100and85ERA5perc_remapped_3x_1999_07_01-2000_01_01_corrected.nc\n",
      "\n",
      " \n",
      " \n",
      " \n",
      "\n",
      "2000-01-01 00:00:00 2000-08-01 00:00:00\n",
      " \n",
      "The provided variables allow tracking the following phenomena\n",
      " \n",
      "|  phenomenon  | tracking |\n",
      "---------------------------\n",
      "   Jetstream   |   no\n",
      "   PSL CY/ACY  |   no\n",
      "   Z500 CY/ACY |   no\n",
      "   COLs        |   no\n",
      "   IVT ARs     |   yes\n",
      "   MS ARs      |   no\n",
      "   Fronts      |   no\n",
      "   TCs         |   no\n",
      "   MCSs        |   no\n",
      "   Equ. Waves  |   no\n",
      "---------------------------\n",
      " \n",
      "======> track IVT streams and atmospheric rivers (ARs)\n",
      "        6322 object found\n",
      "        break up long living IVT objects that have many elements\n"
     ]
    },
    {
     "name": "stderr",
     "output_type": "stream",
     "text": [
      "100%|██████████| 593/593 [00:22<00:00, 26.11it/s] \n"
     ]
    },
    {
     "name": "stdout",
     "output_type": "stream",
     "text": [
      "        00:00:28.36\n",
      "9\n",
      "            Loop over 1496 objects\n"
     ]
    },
    {
     "name": "stderr",
     "output_type": "stream",
     "text": [
      "/work/aa0238/a271093/Scripts/MOAAP/src/Tracking_Functions.py:239: RuntimeWarning: All-NaN slice encountered\n",
      "  obj_min = np.nanmin(data_slice, axis=(1, 2))\n",
      "/work/aa0238/a271093/Scripts/MOAAP/src/Tracking_Functions.py:240: RuntimeWarning: All-NaN slice encountered\n",
      "  obj_max = np.nanmax(data_slice, axis=(1, 2))\n",
      "/work/aa0238/a271093/Scripts/MOAAP/src/Tracking_Functions.py:241: RuntimeWarning: Mean of empty slice\n",
      "  obj_mean = np.nanmean(data_slice, axis=(1, 2))\n",
      "/work/aa0238/a271093/Conda/MOAAP_env/lib/python3.12/site-packages/scipy/ndimage/_measurements.py:1541: RuntimeWarning: invalid value encountered in scalar divide\n",
      "  results = [sum(input * grids[dir].astype(float), labels, index) / normalizer\n"
     ]
    },
    {
     "name": "stdout",
     "output_type": "stream",
     "text": [
      "        check if MSs quallify as ARs\n"
     ]
    },
    {
     "name": "stderr",
     "output_type": "stream",
     "text": [
      "/work/aa0238/a271093/Scripts/MOAAP/src/Tracking_Functions.py:4036: RuntimeWarning: divide by zero encountered in scalar divide\n",
      "  if DIST.max() / DIST.min() < AR_width_lenght_ratio:\n"
     ]
    },
    {
     "name": "stdout",
     "output_type": "stream",
     "text": [
      "            Loop over 1493 objects\n",
      "        00:01:09.74\n",
      " \n",
      "Save the object masks into a joint netCDF\n",
      "Saved: /work/aa0238/a271093/results/MOAAP/IVT_Tracking/ICON_NWP_refined_remapped_3x/ObjectMasks_MOAPP_ICON_100and85ERA5perc_remapped_3x_2000_01_01-2000_08_01.nc\n",
      "        00:00:24.87\n",
      "clean up /work/aa0238/a271093/results/MOAAP/IVT_Tracking/ICON_NWP_refined_remapped_3x/IVT_MOAPP_ICON_100and85ERA5perc_remapped_3x_2000_01_01-2000_07_01.pkl\n",
      "clean up finished\n",
      "clean up /work/aa0238/a271093/results/MOAAP/IVT_Tracking/ICON_NWP_refined_remapped_3x/ARs_MOAPP_ICON_100and85ERA5perc_remapped_3x_2000_01_01-2000_07_01.pkl\n",
      "clean up finished\n",
      "correct nc-file with \n",
      " cdo -selmon,1,2,3,4,5,6 /work/aa0238/a271093/results/MOAAP/IVT_Tracking/ICON_NWP_refined_remapped_3x/ObjectMasks_MOAPP_ICON_100and85ERA5perc_remapped_3x_2000_01_01-2000_08_01.nc /work/aa0238/a271093/results/MOAAP/IVT_Tracking/ICON_NWP_refined_remapped_3x/ObjectMasks_MOAPP_ICON_100and85ERA5perc_remapped_3x_2000_01_01-2000_07_01_corrected.nc\n",
      "\n",
      " \n",
      " \n",
      " \n",
      "\n",
      "2000-07-01 00:00:00 2001-02-01 00:00:00\n",
      " \n",
      "The provided variables allow tracking the following phenomena\n",
      " \n",
      "|  phenomenon  | tracking |\n",
      "---------------------------\n",
      "   Jetstream   |   no\n",
      "   PSL CY/ACY  |   no\n",
      "   Z500 CY/ACY |   no\n",
      "   COLs        |   no\n",
      "   IVT ARs     |   yes\n",
      "   MS ARs      |   no\n",
      "   Fronts      |   no\n",
      "   TCs         |   no\n",
      "   MCSs        |   no\n",
      "   Equ. Waves  |   no\n",
      "---------------------------\n",
      " \n",
      "======> track IVT streams and atmospheric rivers (ARs)\n",
      "        7004 object found\n",
      "        break up long living IVT objects that have many elements\n"
     ]
    },
    {
     "name": "stderr",
     "output_type": "stream",
     "text": [
      "100%|██████████| 570/570 [00:23<00:00, 24.36it/s]\n"
     ]
    },
    {
     "name": "stdout",
     "output_type": "stream",
     "text": [
      "        00:00:29.55\n",
      "9\n",
      "            Loop over 1483 objects\n",
      "        check if MSs quallify as ARs\n"
     ]
    },
    {
     "name": "stderr",
     "output_type": "stream",
     "text": [
      "/work/aa0238/a271093/Scripts/MOAAP/src/Tracking_Functions.py:4036: RuntimeWarning: divide by zero encountered in scalar divide\n",
      "  if DIST.max() / DIST.min() < AR_width_lenght_ratio:\n"
     ]
    },
    {
     "name": "stdout",
     "output_type": "stream",
     "text": [
      "            Loop over 1483 objects\n"
     ]
    },
    {
     "name": "stderr",
     "output_type": "stream",
     "text": [
      "/work/aa0238/a271093/Scripts/MOAAP/src/Tracking_Functions.py:239: RuntimeWarning: All-NaN slice encountered\n",
      "  obj_min = np.nanmin(data_slice, axis=(1, 2))\n",
      "/work/aa0238/a271093/Scripts/MOAAP/src/Tracking_Functions.py:240: RuntimeWarning: All-NaN slice encountered\n",
      "  obj_max = np.nanmax(data_slice, axis=(1, 2))\n",
      "/work/aa0238/a271093/Scripts/MOAAP/src/Tracking_Functions.py:241: RuntimeWarning: Mean of empty slice\n",
      "  obj_mean = np.nanmean(data_slice, axis=(1, 2))\n",
      "/work/aa0238/a271093/Conda/MOAAP_env/lib/python3.12/site-packages/scipy/ndimage/_measurements.py:1541: RuntimeWarning: invalid value encountered in scalar divide\n",
      "  results = [sum(input * grids[dir].astype(float), labels, index) / normalizer\n"
     ]
    },
    {
     "name": "stdout",
     "output_type": "stream",
     "text": [
      "        00:01:13.94\n",
      " \n",
      "Save the object masks into a joint netCDF\n",
      "Saved: /work/aa0238/a271093/results/MOAAP/IVT_Tracking/ICON_NWP_refined_remapped_3x/ObjectMasks_MOAPP_ICON_100and85ERA5perc_remapped_3x_2000_07_01-2001_02_01.nc\n",
      "        00:00:29.24\n",
      "clean up /work/aa0238/a271093/results/MOAAP/IVT_Tracking/ICON_NWP_refined_remapped_3x/IVT_MOAPP_ICON_100and85ERA5perc_remapped_3x_2000_07_01-2001_01_01.pkl\n",
      "clean up finished\n",
      "clean up /work/aa0238/a271093/results/MOAAP/IVT_Tracking/ICON_NWP_refined_remapped_3x/ARs_MOAPP_ICON_100and85ERA5perc_remapped_3x_2000_07_01-2001_01_01.pkl\n",
      "clean up finished\n",
      "correct nc-file with \n",
      " cdo -selmon,6,7,8,9,10,11,12 /work/aa0238/a271093/results/MOAAP/IVT_Tracking/ICON_NWP_refined_remapped_3x/ObjectMasks_MOAPP_ICON_100and85ERA5perc_remapped_3x_2000_07_01-2001_02_01.nc /work/aa0238/a271093/results/MOAAP/IVT_Tracking/ICON_NWP_refined_remapped_3x/ObjectMasks_MOAPP_ICON_100and85ERA5perc_remapped_3x_2000_07_01-2001_01_01_corrected.nc\n",
      "\n",
      " \n",
      " \n",
      " \n",
      "\n",
      "2001-01-01 00:00:00 2001-08-01 00:00:00\n",
      " \n",
      "The provided variables allow tracking the following phenomena\n",
      " \n",
      "|  phenomenon  | tracking |\n",
      "---------------------------\n",
      "   Jetstream   |   no\n",
      "   PSL CY/ACY  |   no\n",
      "   Z500 CY/ACY |   no\n",
      "   COLs        |   no\n",
      "   IVT ARs     |   yes\n",
      "   MS ARs      |   no\n",
      "   Fronts      |   no\n",
      "   TCs         |   no\n",
      "   MCSs        |   no\n",
      "   Equ. Waves  |   no\n",
      "---------------------------\n",
      " \n",
      "======> track IVT streams and atmospheric rivers (ARs)\n",
      "        6627 object found\n",
      "        break up long living IVT objects that have many elements\n"
     ]
    },
    {
     "name": "stderr",
     "output_type": "stream",
     "text": [
      "100%|██████████| 604/604 [00:22<00:00, 27.17it/s]\n"
     ]
    },
    {
     "name": "stdout",
     "output_type": "stream",
     "text": [
      "        00:00:27.85\n",
      "9\n",
      "            Loop over 1410 objects\n"
     ]
    },
    {
     "name": "stderr",
     "output_type": "stream",
     "text": [
      "/work/aa0238/a271093/Scripts/MOAAP/src/Tracking_Functions.py:239: RuntimeWarning: All-NaN slice encountered\n",
      "  obj_min = np.nanmin(data_slice, axis=(1, 2))\n",
      "/work/aa0238/a271093/Scripts/MOAAP/src/Tracking_Functions.py:240: RuntimeWarning: All-NaN slice encountered\n",
      "  obj_max = np.nanmax(data_slice, axis=(1, 2))\n",
      "/work/aa0238/a271093/Scripts/MOAAP/src/Tracking_Functions.py:241: RuntimeWarning: Mean of empty slice\n",
      "  obj_mean = np.nanmean(data_slice, axis=(1, 2))\n",
      "/work/aa0238/a271093/Conda/MOAAP_env/lib/python3.12/site-packages/scipy/ndimage/_measurements.py:1541: RuntimeWarning: invalid value encountered in scalar divide\n",
      "  results = [sum(input * grids[dir].astype(float), labels, index) / normalizer\n"
     ]
    },
    {
     "name": "stdout",
     "output_type": "stream",
     "text": [
      "        check if MSs quallify as ARs\n"
     ]
    },
    {
     "name": "stderr",
     "output_type": "stream",
     "text": [
      "/work/aa0238/a271093/Scripts/MOAAP/src/Tracking_Functions.py:4036: RuntimeWarning: divide by zero encountered in scalar divide\n",
      "  if DIST.max() / DIST.min() < AR_width_lenght_ratio:\n"
     ]
    },
    {
     "name": "stdout",
     "output_type": "stream",
     "text": [
      "            Loop over 1410 objects\n",
      "        00:01:07.55\n",
      " \n",
      "Save the object masks into a joint netCDF\n",
      "Saved: /work/aa0238/a271093/results/MOAAP/IVT_Tracking/ICON_NWP_refined_remapped_3x/ObjectMasks_MOAPP_ICON_100and85ERA5perc_remapped_3x_2001_01_01-2001_08_01.nc\n",
      "        00:00:27.00\n",
      "clean up /work/aa0238/a271093/results/MOAAP/IVT_Tracking/ICON_NWP_refined_remapped_3x/IVT_MOAPP_ICON_100and85ERA5perc_remapped_3x_2001_01_01-2001_07_01.pkl\n",
      "clean up finished\n",
      "clean up /work/aa0238/a271093/results/MOAAP/IVT_Tracking/ICON_NWP_refined_remapped_3x/ARs_MOAPP_ICON_100and85ERA5perc_remapped_3x_2001_01_01-2001_07_01.pkl\n",
      "clean up finished\n",
      "correct nc-file with \n",
      " cdo -selmon,1,2,3,4,5,6 /work/aa0238/a271093/results/MOAAP/IVT_Tracking/ICON_NWP_refined_remapped_3x/ObjectMasks_MOAPP_ICON_100and85ERA5perc_remapped_3x_2001_01_01-2001_08_01.nc /work/aa0238/a271093/results/MOAAP/IVT_Tracking/ICON_NWP_refined_remapped_3x/ObjectMasks_MOAPP_ICON_100and85ERA5perc_remapped_3x_2001_01_01-2001_07_01_corrected.nc\n",
      "\n",
      " \n",
      " \n",
      " \n",
      "\n",
      "2001-07-01 00:00:00 2002-02-01 00:00:00\n",
      " \n",
      "The provided variables allow tracking the following phenomena\n",
      " \n",
      "|  phenomenon  | tracking |\n",
      "---------------------------\n",
      "   Jetstream   |   no\n",
      "   PSL CY/ACY  |   no\n",
      "   Z500 CY/ACY |   no\n",
      "   COLs        |   no\n",
      "   IVT ARs     |   yes\n",
      "   MS ARs      |   no\n",
      "   Fronts      |   no\n",
      "   TCs         |   no\n",
      "   MCSs        |   no\n",
      "   Equ. Waves  |   no\n",
      "---------------------------\n",
      " \n",
      "======> track IVT streams and atmospheric rivers (ARs)\n",
      "        7428 object found\n",
      "        break up long living IVT objects that have many elements\n"
     ]
    },
    {
     "name": "stderr",
     "output_type": "stream",
     "text": [
      "100%|██████████| 584/584 [00:23<00:00, 24.63it/s] \n"
     ]
    },
    {
     "name": "stdout",
     "output_type": "stream",
     "text": [
      "        00:00:29.88\n",
      "9\n",
      "            Loop over 1519 objects\n",
      "        check if MSs quallify as ARs\n"
     ]
    },
    {
     "name": "stderr",
     "output_type": "stream",
     "text": [
      "/work/aa0238/a271093/Scripts/MOAAP/src/Tracking_Functions.py:4036: RuntimeWarning: divide by zero encountered in scalar divide\n",
      "  if DIST.max() / DIST.min() < AR_width_lenght_ratio:\n"
     ]
    },
    {
     "name": "stdout",
     "output_type": "stream",
     "text": [
      "            Loop over 1519 objects\n"
     ]
    },
    {
     "name": "stderr",
     "output_type": "stream",
     "text": [
      "/work/aa0238/a271093/Scripts/MOAAP/src/Tracking_Functions.py:239: RuntimeWarning: All-NaN slice encountered\n",
      "  obj_min = np.nanmin(data_slice, axis=(1, 2))\n",
      "/work/aa0238/a271093/Scripts/MOAAP/src/Tracking_Functions.py:240: RuntimeWarning: All-NaN slice encountered\n",
      "  obj_max = np.nanmax(data_slice, axis=(1, 2))\n",
      "/work/aa0238/a271093/Scripts/MOAAP/src/Tracking_Functions.py:241: RuntimeWarning: Mean of empty slice\n",
      "  obj_mean = np.nanmean(data_slice, axis=(1, 2))\n",
      "/work/aa0238/a271093/Conda/MOAAP_env/lib/python3.12/site-packages/scipy/ndimage/_measurements.py:1541: RuntimeWarning: invalid value encountered in scalar divide\n",
      "  results = [sum(input * grids[dir].astype(float), labels, index) / normalizer\n"
     ]
    },
    {
     "name": "stdout",
     "output_type": "stream",
     "text": [
      "        00:01:14.90\n",
      " \n",
      "Save the object masks into a joint netCDF\n",
      "Saved: /work/aa0238/a271093/results/MOAAP/IVT_Tracking/ICON_NWP_refined_remapped_3x/ObjectMasks_MOAPP_ICON_100and85ERA5perc_remapped_3x_2001_07_01-2002_02_01.nc\n",
      "        00:00:28.74\n",
      "clean up /work/aa0238/a271093/results/MOAAP/IVT_Tracking/ICON_NWP_refined_remapped_3x/IVT_MOAPP_ICON_100and85ERA5perc_remapped_3x_2001_07_01-2002_01_01.pkl\n",
      "clean up finished\n",
      "clean up /work/aa0238/a271093/results/MOAAP/IVT_Tracking/ICON_NWP_refined_remapped_3x/ARs_MOAPP_ICON_100and85ERA5perc_remapped_3x_2001_07_01-2002_01_01.pkl\n",
      "clean up finished\n",
      "correct nc-file with \n",
      " cdo -selmon,6,7,8,9,10,11,12 /work/aa0238/a271093/results/MOAAP/IVT_Tracking/ICON_NWP_refined_remapped_3x/ObjectMasks_MOAPP_ICON_100and85ERA5perc_remapped_3x_2001_07_01-2002_02_01.nc /work/aa0238/a271093/results/MOAAP/IVT_Tracking/ICON_NWP_refined_remapped_3x/ObjectMasks_MOAPP_ICON_100and85ERA5perc_remapped_3x_2001_07_01-2002_01_01_corrected.nc\n",
      "\n",
      " \n",
      " \n",
      " \n",
      "\n",
      "2002-01-01 00:00:00 2002-08-01 00:00:00\n",
      " \n",
      "The provided variables allow tracking the following phenomena\n",
      " \n",
      "|  phenomenon  | tracking |\n",
      "---------------------------\n",
      "   Jetstream   |   no\n",
      "   PSL CY/ACY  |   no\n",
      "   Z500 CY/ACY |   no\n",
      "   COLs        |   no\n",
      "   IVT ARs     |   yes\n",
      "   MS ARs      |   no\n",
      "   Fronts      |   no\n",
      "   TCs         |   no\n",
      "   MCSs        |   no\n",
      "   Equ. Waves  |   no\n",
      "---------------------------\n",
      " \n",
      "======> track IVT streams and atmospheric rivers (ARs)\n",
      "        6281 object found\n",
      "        break up long living IVT objects that have many elements\n"
     ]
    },
    {
     "name": "stderr",
     "output_type": "stream",
     "text": [
      "100%|██████████| 553/553 [00:23<00:00, 23.52it/s] \n"
     ]
    },
    {
     "name": "stdout",
     "output_type": "stream",
     "text": [
      "        00:00:29.69\n",
      "9\n",
      "            Loop over 1471 objects\n"
     ]
    },
    {
     "name": "stderr",
     "output_type": "stream",
     "text": [
      "/work/aa0238/a271093/Scripts/MOAAP/src/Tracking_Functions.py:239: RuntimeWarning: All-NaN slice encountered\n",
      "  obj_min = np.nanmin(data_slice, axis=(1, 2))\n",
      "/work/aa0238/a271093/Scripts/MOAAP/src/Tracking_Functions.py:240: RuntimeWarning: All-NaN slice encountered\n",
      "  obj_max = np.nanmax(data_slice, axis=(1, 2))\n",
      "/work/aa0238/a271093/Scripts/MOAAP/src/Tracking_Functions.py:241: RuntimeWarning: Mean of empty slice\n",
      "  obj_mean = np.nanmean(data_slice, axis=(1, 2))\n",
      "/work/aa0238/a271093/Conda/MOAAP_env/lib/python3.12/site-packages/scipy/ndimage/_measurements.py:1541: RuntimeWarning: invalid value encountered in scalar divide\n",
      "  results = [sum(input * grids[dir].astype(float), labels, index) / normalizer\n"
     ]
    },
    {
     "name": "stdout",
     "output_type": "stream",
     "text": [
      "        check if MSs quallify as ARs\n"
     ]
    },
    {
     "name": "stderr",
     "output_type": "stream",
     "text": [
      "/work/aa0238/a271093/Scripts/MOAAP/src/Tracking_Functions.py:4036: RuntimeWarning: divide by zero encountered in scalar divide\n",
      "  if DIST.max() / DIST.min() < AR_width_lenght_ratio:\n"
     ]
    },
    {
     "name": "stdout",
     "output_type": "stream",
     "text": [
      "            Loop over 1470 objects\n",
      "        00:01:13.44\n",
      " \n",
      "Save the object masks into a joint netCDF\n",
      "Saved: /work/aa0238/a271093/results/MOAAP/IVT_Tracking/ICON_NWP_refined_remapped_3x/ObjectMasks_MOAPP_ICON_100and85ERA5perc_remapped_3x_2002_01_01-2002_08_01.nc\n",
      "        00:00:26.58\n",
      "clean up /work/aa0238/a271093/results/MOAAP/IVT_Tracking/ICON_NWP_refined_remapped_3x/IVT_MOAPP_ICON_100and85ERA5perc_remapped_3x_2002_01_01-2002_07_01.pkl\n",
      "clean up finished\n",
      "clean up /work/aa0238/a271093/results/MOAAP/IVT_Tracking/ICON_NWP_refined_remapped_3x/ARs_MOAPP_ICON_100and85ERA5perc_remapped_3x_2002_01_01-2002_07_01.pkl\n",
      "clean up finished\n",
      "correct nc-file with \n",
      " cdo -selmon,1,2,3,4,5,6 /work/aa0238/a271093/results/MOAAP/IVT_Tracking/ICON_NWP_refined_remapped_3x/ObjectMasks_MOAPP_ICON_100and85ERA5perc_remapped_3x_2002_01_01-2002_08_01.nc /work/aa0238/a271093/results/MOAAP/IVT_Tracking/ICON_NWP_refined_remapped_3x/ObjectMasks_MOAPP_ICON_100and85ERA5perc_remapped_3x_2002_01_01-2002_07_01_corrected.nc\n",
      "\n",
      " \n",
      " \n",
      " \n",
      "\n",
      "2002-07-01 00:00:00 2003-02-01 00:00:00\n",
      " \n",
      "The provided variables allow tracking the following phenomena\n",
      " \n",
      "|  phenomenon  | tracking |\n",
      "---------------------------\n",
      "   Jetstream   |   no\n",
      "   PSL CY/ACY  |   no\n",
      "   Z500 CY/ACY |   no\n",
      "   COLs        |   no\n",
      "   IVT ARs     |   yes\n",
      "   MS ARs      |   no\n",
      "   Fronts      |   no\n",
      "   TCs         |   no\n",
      "   MCSs        |   no\n",
      "   Equ. Waves  |   no\n",
      "---------------------------\n",
      " \n",
      "======> track IVT streams and atmospheric rivers (ARs)\n",
      "        6029 object found\n",
      "        break up long living IVT objects that have many elements\n"
     ]
    },
    {
     "name": "stderr",
     "output_type": "stream",
     "text": [
      "100%|██████████| 593/593 [00:24<00:00, 24.53it/s]\n"
     ]
    },
    {
     "name": "stdout",
     "output_type": "stream",
     "text": [
      "        00:00:30.39\n",
      "9\n",
      "            Loop over 1550 objects\n",
      "        check if MSs quallify as ARs\n"
     ]
    },
    {
     "name": "stderr",
     "output_type": "stream",
     "text": [
      "/work/aa0238/a271093/Scripts/MOAAP/src/Tracking_Functions.py:4036: RuntimeWarning: divide by zero encountered in scalar divide\n",
      "  if DIST.max() / DIST.min() < AR_width_lenght_ratio:\n"
     ]
    },
    {
     "name": "stdout",
     "output_type": "stream",
     "text": [
      "            Loop over 1549 objects\n"
     ]
    },
    {
     "name": "stderr",
     "output_type": "stream",
     "text": [
      "/work/aa0238/a271093/Scripts/MOAAP/src/Tracking_Functions.py:239: RuntimeWarning: All-NaN slice encountered\n",
      "  obj_min = np.nanmin(data_slice, axis=(1, 2))\n",
      "/work/aa0238/a271093/Scripts/MOAAP/src/Tracking_Functions.py:240: RuntimeWarning: All-NaN slice encountered\n",
      "  obj_max = np.nanmax(data_slice, axis=(1, 2))\n",
      "/work/aa0238/a271093/Scripts/MOAAP/src/Tracking_Functions.py:241: RuntimeWarning: Mean of empty slice\n",
      "  obj_mean = np.nanmean(data_slice, axis=(1, 2))\n",
      "/work/aa0238/a271093/Conda/MOAAP_env/lib/python3.12/site-packages/scipy/ndimage/_measurements.py:1541: RuntimeWarning: invalid value encountered in scalar divide\n",
      "  results = [sum(input * grids[dir].astype(float), labels, index) / normalizer\n"
     ]
    },
    {
     "name": "stdout",
     "output_type": "stream",
     "text": [
      "        00:01:15.66\n",
      " \n",
      "Save the object masks into a joint netCDF\n",
      "Saved: /work/aa0238/a271093/results/MOAAP/IVT_Tracking/ICON_NWP_refined_remapped_3x/ObjectMasks_MOAPP_ICON_100and85ERA5perc_remapped_3x_2002_07_01-2003_02_01.nc\n",
      "        00:00:29.18\n",
      "clean up /work/aa0238/a271093/results/MOAAP/IVT_Tracking/ICON_NWP_refined_remapped_3x/IVT_MOAPP_ICON_100and85ERA5perc_remapped_3x_2002_07_01-2003_01_01.pkl\n",
      "clean up finished\n",
      "clean up /work/aa0238/a271093/results/MOAAP/IVT_Tracking/ICON_NWP_refined_remapped_3x/ARs_MOAPP_ICON_100and85ERA5perc_remapped_3x_2002_07_01-2003_01_01.pkl\n",
      "clean up finished\n",
      "correct nc-file with \n",
      " cdo -selmon,6,7,8,9,10,11,12 /work/aa0238/a271093/results/MOAAP/IVT_Tracking/ICON_NWP_refined_remapped_3x/ObjectMasks_MOAPP_ICON_100and85ERA5perc_remapped_3x_2002_07_01-2003_02_01.nc /work/aa0238/a271093/results/MOAAP/IVT_Tracking/ICON_NWP_refined_remapped_3x/ObjectMasks_MOAPP_ICON_100and85ERA5perc_remapped_3x_2002_07_01-2003_01_01_corrected.nc\n",
      "\n",
      " \n",
      " \n",
      " \n",
      "\n",
      "2003-01-01 00:00:00 2003-08-01 00:00:00\n",
      " \n",
      "The provided variables allow tracking the following phenomena\n",
      " \n",
      "|  phenomenon  | tracking |\n",
      "---------------------------\n",
      "   Jetstream   |   no\n",
      "   PSL CY/ACY  |   no\n",
      "   Z500 CY/ACY |   no\n",
      "   COLs        |   no\n",
      "   IVT ARs     |   yes\n",
      "   MS ARs      |   no\n",
      "   Fronts      |   no\n",
      "   TCs         |   no\n",
      "   MCSs        |   no\n",
      "   Equ. Waves  |   no\n",
      "---------------------------\n",
      " \n",
      "======> track IVT streams and atmospheric rivers (ARs)\n",
      "        6953 object found\n",
      "        break up long living IVT objects that have many elements\n"
     ]
    },
    {
     "name": "stderr",
     "output_type": "stream",
     "text": [
      "100%|██████████| 646/646 [00:23<00:00, 27.77it/s]\n"
     ]
    },
    {
     "name": "stdout",
     "output_type": "stream",
     "text": [
      "        00:00:29.27\n",
      "9\n",
      "            Loop over 1612 objects\n"
     ]
    },
    {
     "name": "stderr",
     "output_type": "stream",
     "text": [
      "/work/aa0238/a271093/Scripts/MOAAP/src/Tracking_Functions.py:239: RuntimeWarning: All-NaN slice encountered\n",
      "  obj_min = np.nanmin(data_slice, axis=(1, 2))\n",
      "/work/aa0238/a271093/Scripts/MOAAP/src/Tracking_Functions.py:240: RuntimeWarning: All-NaN slice encountered\n",
      "  obj_max = np.nanmax(data_slice, axis=(1, 2))\n",
      "/work/aa0238/a271093/Scripts/MOAAP/src/Tracking_Functions.py:241: RuntimeWarning: Mean of empty slice\n",
      "  obj_mean = np.nanmean(data_slice, axis=(1, 2))\n",
      "/work/aa0238/a271093/Conda/MOAAP_env/lib/python3.12/site-packages/scipy/ndimage/_measurements.py:1541: RuntimeWarning: invalid value encountered in scalar divide\n",
      "  results = [sum(input * grids[dir].astype(float), labels, index) / normalizer\n"
     ]
    },
    {
     "name": "stdout",
     "output_type": "stream",
     "text": [
      "        check if MSs quallify as ARs\n"
     ]
    },
    {
     "name": "stderr",
     "output_type": "stream",
     "text": [
      "/work/aa0238/a271093/Scripts/MOAAP/src/Tracking_Functions.py:4036: RuntimeWarning: divide by zero encountered in scalar divide\n",
      "  if DIST.max() / DIST.min() < AR_width_lenght_ratio:\n"
     ]
    },
    {
     "name": "stdout",
     "output_type": "stream",
     "text": [
      "            Loop over 1610 objects\n",
      "        00:01:17.10\n",
      " \n",
      "Save the object masks into a joint netCDF\n",
      "Saved: /work/aa0238/a271093/results/MOAAP/IVT_Tracking/ICON_NWP_refined_remapped_3x/ObjectMasks_MOAPP_ICON_100and85ERA5perc_remapped_3x_2003_01_01-2003_08_01.nc\n",
      "        00:00:28.38\n",
      "clean up /work/aa0238/a271093/results/MOAAP/IVT_Tracking/ICON_NWP_refined_remapped_3x/IVT_MOAPP_ICON_100and85ERA5perc_remapped_3x_2003_01_01-2003_07_01.pkl\n",
      "clean up finished\n",
      "clean up /work/aa0238/a271093/results/MOAAP/IVT_Tracking/ICON_NWP_refined_remapped_3x/ARs_MOAPP_ICON_100and85ERA5perc_remapped_3x_2003_01_01-2003_07_01.pkl\n",
      "clean up finished\n",
      "correct nc-file with \n",
      " cdo -selmon,1,2,3,4,5,6 /work/aa0238/a271093/results/MOAAP/IVT_Tracking/ICON_NWP_refined_remapped_3x/ObjectMasks_MOAPP_ICON_100and85ERA5perc_remapped_3x_2003_01_01-2003_08_01.nc /work/aa0238/a271093/results/MOAAP/IVT_Tracking/ICON_NWP_refined_remapped_3x/ObjectMasks_MOAPP_ICON_100and85ERA5perc_remapped_3x_2003_01_01-2003_07_01_corrected.nc\n",
      "\n",
      " \n",
      " \n",
      " \n",
      "\n",
      "2003-07-01 00:00:00 2004-02-01 00:00:00\n",
      " \n",
      "The provided variables allow tracking the following phenomena\n",
      " \n",
      "|  phenomenon  | tracking |\n",
      "---------------------------\n",
      "   Jetstream   |   no\n",
      "   PSL CY/ACY  |   no\n",
      "   Z500 CY/ACY |   no\n",
      "   COLs        |   no\n",
      "   IVT ARs     |   yes\n",
      "   MS ARs      |   no\n",
      "   Fronts      |   no\n",
      "   TCs         |   no\n",
      "   MCSs        |   no\n",
      "   Equ. Waves  |   no\n",
      "---------------------------\n",
      " \n",
      "======> track IVT streams and atmospheric rivers (ARs)\n",
      "        7037 object found\n",
      "        break up long living IVT objects that have many elements\n"
     ]
    },
    {
     "name": "stderr",
     "output_type": "stream",
     "text": [
      "100%|██████████| 591/591 [00:22<00:00, 26.18it/s]\n"
     ]
    },
    {
     "name": "stdout",
     "output_type": "stream",
     "text": [
      "        00:00:29.69\n",
      "9\n",
      "            Loop over 1588 objects\n"
     ]
    },
    {
     "name": "stderr",
     "output_type": "stream",
     "text": [
      "/work/aa0238/a271093/Scripts/MOAAP/src/Tracking_Functions.py:239: RuntimeWarning: All-NaN slice encountered\n",
      "  obj_min = np.nanmin(data_slice, axis=(1, 2))\n",
      "/work/aa0238/a271093/Scripts/MOAAP/src/Tracking_Functions.py:240: RuntimeWarning: All-NaN slice encountered\n",
      "  obj_max = np.nanmax(data_slice, axis=(1, 2))\n",
      "/work/aa0238/a271093/Scripts/MOAAP/src/Tracking_Functions.py:241: RuntimeWarning: Mean of empty slice\n",
      "  obj_mean = np.nanmean(data_slice, axis=(1, 2))\n",
      "/work/aa0238/a271093/Conda/MOAAP_env/lib/python3.12/site-packages/scipy/ndimage/_measurements.py:1541: RuntimeWarning: invalid value encountered in scalar divide\n",
      "  results = [sum(input * grids[dir].astype(float), labels, index) / normalizer\n"
     ]
    },
    {
     "name": "stdout",
     "output_type": "stream",
     "text": [
      "        check if MSs quallify as ARs\n"
     ]
    },
    {
     "name": "stderr",
     "output_type": "stream",
     "text": [
      "/work/aa0238/a271093/Scripts/MOAAP/src/Tracking_Functions.py:4036: RuntimeWarning: divide by zero encountered in scalar divide\n",
      "  if DIST.max() / DIST.min() < AR_width_lenght_ratio:\n"
     ]
    },
    {
     "name": "stdout",
     "output_type": "stream",
     "text": [
      "            Loop over 1584 objects\n",
      "        00:01:28.03\n",
      " \n",
      "Save the object masks into a joint netCDF\n",
      "Saved: /work/aa0238/a271093/results/MOAAP/IVT_Tracking/ICON_NWP_refined_remapped_3x/ObjectMasks_MOAPP_ICON_100and85ERA5perc_remapped_3x_2003_07_01-2004_02_01.nc\n",
      "        00:00:27.83\n",
      "clean up /work/aa0238/a271093/results/MOAAP/IVT_Tracking/ICON_NWP_refined_remapped_3x/IVT_MOAPP_ICON_100and85ERA5perc_remapped_3x_2003_07_01-2004_01_01.pkl\n",
      "clean up finished\n",
      "clean up /work/aa0238/a271093/results/MOAAP/IVT_Tracking/ICON_NWP_refined_remapped_3x/ARs_MOAPP_ICON_100and85ERA5perc_remapped_3x_2003_07_01-2004_01_01.pkl\n",
      "clean up finished\n",
      "correct nc-file with \n",
      " cdo -selmon,6,7,8,9,10,11,12 /work/aa0238/a271093/results/MOAAP/IVT_Tracking/ICON_NWP_refined_remapped_3x/ObjectMasks_MOAPP_ICON_100and85ERA5perc_remapped_3x_2003_07_01-2004_02_01.nc /work/aa0238/a271093/results/MOAAP/IVT_Tracking/ICON_NWP_refined_remapped_3x/ObjectMasks_MOAPP_ICON_100and85ERA5perc_remapped_3x_2003_07_01-2004_01_01_corrected.nc\n",
      "\n",
      " \n",
      " \n",
      " \n",
      "\n",
      "2004-01-01 00:00:00 2004-08-01 00:00:00\n",
      " \n",
      "The provided variables allow tracking the following phenomena\n",
      " \n",
      "|  phenomenon  | tracking |\n",
      "---------------------------\n",
      "   Jetstream   |   no\n",
      "   PSL CY/ACY  |   no\n",
      "   Z500 CY/ACY |   no\n",
      "   COLs        |   no\n",
      "   IVT ARs     |   yes\n",
      "   MS ARs      |   no\n",
      "   Fronts      |   no\n",
      "   TCs         |   no\n",
      "   MCSs        |   no\n",
      "   Equ. Waves  |   no\n",
      "---------------------------\n",
      " \n",
      "======> track IVT streams and atmospheric rivers (ARs)\n",
      "        6032 object found\n",
      "        break up long living IVT objects that have many elements\n"
     ]
    },
    {
     "name": "stderr",
     "output_type": "stream",
     "text": [
      "100%|██████████| 552/552 [00:24<00:00, 22.85it/s] \n"
     ]
    },
    {
     "name": "stdout",
     "output_type": "stream",
     "text": [
      "        00:00:29.81\n",
      "9\n",
      "            Loop over 1482 objects\n"
     ]
    },
    {
     "name": "stderr",
     "output_type": "stream",
     "text": [
      "/work/aa0238/a271093/Scripts/MOAAP/src/Tracking_Functions.py:239: RuntimeWarning: All-NaN slice encountered\n",
      "  obj_min = np.nanmin(data_slice, axis=(1, 2))\n",
      "/work/aa0238/a271093/Scripts/MOAAP/src/Tracking_Functions.py:240: RuntimeWarning: All-NaN slice encountered\n",
      "  obj_max = np.nanmax(data_slice, axis=(1, 2))\n",
      "/work/aa0238/a271093/Scripts/MOAAP/src/Tracking_Functions.py:241: RuntimeWarning: Mean of empty slice\n",
      "  obj_mean = np.nanmean(data_slice, axis=(1, 2))\n",
      "/work/aa0238/a271093/Conda/MOAAP_env/lib/python3.12/site-packages/scipy/ndimage/_measurements.py:1541: RuntimeWarning: invalid value encountered in scalar divide\n",
      "  results = [sum(input * grids[dir].astype(float), labels, index) / normalizer\n"
     ]
    },
    {
     "name": "stdout",
     "output_type": "stream",
     "text": [
      "        check if MSs quallify as ARs\n"
     ]
    },
    {
     "name": "stderr",
     "output_type": "stream",
     "text": [
      "/work/aa0238/a271093/Scripts/MOAAP/src/Tracking_Functions.py:4036: RuntimeWarning: divide by zero encountered in scalar divide\n",
      "  if DIST.max() / DIST.min() < AR_width_lenght_ratio:\n"
     ]
    },
    {
     "name": "stdout",
     "output_type": "stream",
     "text": [
      "            Loop over 1482 objects\n",
      "        00:01:15.50\n",
      " \n",
      "Save the object masks into a joint netCDF\n",
      "Saved: /work/aa0238/a271093/results/MOAAP/IVT_Tracking/ICON_NWP_refined_remapped_3x/ObjectMasks_MOAPP_ICON_100and85ERA5perc_remapped_3x_2004_01_01-2004_08_01.nc\n",
      "        00:00:24.94\n",
      "clean up /work/aa0238/a271093/results/MOAAP/IVT_Tracking/ICON_NWP_refined_remapped_3x/IVT_MOAPP_ICON_100and85ERA5perc_remapped_3x_2004_01_01-2004_07_01.pkl\n",
      "clean up finished\n",
      "clean up /work/aa0238/a271093/results/MOAAP/IVT_Tracking/ICON_NWP_refined_remapped_3x/ARs_MOAPP_ICON_100and85ERA5perc_remapped_3x_2004_01_01-2004_07_01.pkl\n",
      "clean up finished\n",
      "correct nc-file with \n",
      " cdo -selmon,1,2,3,4,5,6 /work/aa0238/a271093/results/MOAAP/IVT_Tracking/ICON_NWP_refined_remapped_3x/ObjectMasks_MOAPP_ICON_100and85ERA5perc_remapped_3x_2004_01_01-2004_08_01.nc /work/aa0238/a271093/results/MOAAP/IVT_Tracking/ICON_NWP_refined_remapped_3x/ObjectMasks_MOAPP_ICON_100and85ERA5perc_remapped_3x_2004_01_01-2004_07_01_corrected.nc\n",
      "\n",
      " \n",
      " \n",
      " \n",
      "\n",
      "2004-07-01 00:00:00 2005-02-01 00:00:00\n",
      " \n",
      "The provided variables allow tracking the following phenomena\n",
      " \n",
      "|  phenomenon  | tracking |\n",
      "---------------------------\n",
      "   Jetstream   |   no\n",
      "   PSL CY/ACY  |   no\n",
      "   Z500 CY/ACY |   no\n",
      "   COLs        |   no\n",
      "   IVT ARs     |   yes\n",
      "   MS ARs      |   no\n",
      "   Fronts      |   no\n",
      "   TCs         |   no\n",
      "   MCSs        |   no\n",
      "   Equ. Waves  |   no\n",
      "---------------------------\n",
      " \n",
      "======> track IVT streams and atmospheric rivers (ARs)\n",
      "        6288 object found\n",
      "        break up long living IVT objects that have many elements\n"
     ]
    },
    {
     "name": "stderr",
     "output_type": "stream",
     "text": [
      "100%|██████████| 599/599 [00:22<00:00, 26.32it/s]\n"
     ]
    },
    {
     "name": "stdout",
     "output_type": "stream",
     "text": [
      "        00:00:28.76\n",
      "9\n",
      "            Loop over 1510 objects\n"
     ]
    },
    {
     "name": "stderr",
     "output_type": "stream",
     "text": [
      "/work/aa0238/a271093/Scripts/MOAAP/src/Tracking_Functions.py:239: RuntimeWarning: All-NaN slice encountered\n",
      "  obj_min = np.nanmin(data_slice, axis=(1, 2))\n",
      "/work/aa0238/a271093/Scripts/MOAAP/src/Tracking_Functions.py:240: RuntimeWarning: All-NaN slice encountered\n",
      "  obj_max = np.nanmax(data_slice, axis=(1, 2))\n",
      "/work/aa0238/a271093/Scripts/MOAAP/src/Tracking_Functions.py:241: RuntimeWarning: Mean of empty slice\n",
      "  obj_mean = np.nanmean(data_slice, axis=(1, 2))\n",
      "/work/aa0238/a271093/Conda/MOAAP_env/lib/python3.12/site-packages/scipy/ndimage/_measurements.py:1541: RuntimeWarning: invalid value encountered in scalar divide\n",
      "  results = [sum(input * grids[dir].astype(float), labels, index) / normalizer\n"
     ]
    },
    {
     "name": "stdout",
     "output_type": "stream",
     "text": [
      "        check if MSs quallify as ARs\n"
     ]
    },
    {
     "name": "stderr",
     "output_type": "stream",
     "text": [
      "/work/aa0238/a271093/Scripts/MOAAP/src/Tracking_Functions.py:4036: RuntimeWarning: divide by zero encountered in scalar divide\n",
      "  if DIST.max() / DIST.min() < AR_width_lenght_ratio:\n"
     ]
    },
    {
     "name": "stdout",
     "output_type": "stream",
     "text": [
      "            Loop over 1508 objects\n",
      "        00:01:11.61\n",
      " \n",
      "Save the object masks into a joint netCDF\n",
      "Saved: /work/aa0238/a271093/results/MOAAP/IVT_Tracking/ICON_NWP_refined_remapped_3x/ObjectMasks_MOAPP_ICON_100and85ERA5perc_remapped_3x_2004_07_01-2005_02_01.nc\n",
      "        00:00:25.20\n",
      "clean up /work/aa0238/a271093/results/MOAAP/IVT_Tracking/ICON_NWP_refined_remapped_3x/IVT_MOAPP_ICON_100and85ERA5perc_remapped_3x_2004_07_01-2005_01_01.pkl\n",
      "clean up finished\n",
      "clean up /work/aa0238/a271093/results/MOAAP/IVT_Tracking/ICON_NWP_refined_remapped_3x/ARs_MOAPP_ICON_100and85ERA5perc_remapped_3x_2004_07_01-2005_01_01.pkl\n",
      "clean up finished\n",
      "correct nc-file with \n",
      " cdo -selmon,6,7,8,9,10,11,12 /work/aa0238/a271093/results/MOAAP/IVT_Tracking/ICON_NWP_refined_remapped_3x/ObjectMasks_MOAPP_ICON_100and85ERA5perc_remapped_3x_2004_07_01-2005_02_01.nc /work/aa0238/a271093/results/MOAAP/IVT_Tracking/ICON_NWP_refined_remapped_3x/ObjectMasks_MOAPP_ICON_100and85ERA5perc_remapped_3x_2004_07_01-2005_01_01_corrected.nc\n",
      "\n",
      " \n",
      " \n",
      " \n",
      "\n",
      "2005-01-01 00:00:00 2005-08-01 00:00:00\n",
      " \n",
      "The provided variables allow tracking the following phenomena\n",
      " \n",
      "|  phenomenon  | tracking |\n",
      "---------------------------\n",
      "   Jetstream   |   no\n",
      "   PSL CY/ACY  |   no\n",
      "   Z500 CY/ACY |   no\n",
      "   COLs        |   no\n",
      "   IVT ARs     |   yes\n",
      "   MS ARs      |   no\n",
      "   Fronts      |   no\n",
      "   TCs         |   no\n",
      "   MCSs        |   no\n",
      "   Equ. Waves  |   no\n",
      "---------------------------\n",
      " \n",
      "======> track IVT streams and atmospheric rivers (ARs)\n",
      "        7476 object found\n",
      "        break up long living IVT objects that have many elements\n"
     ]
    },
    {
     "name": "stderr",
     "output_type": "stream",
     "text": [
      "100%|██████████| 666/666 [00:23<00:00, 28.03it/s]\n"
     ]
    },
    {
     "name": "stdout",
     "output_type": "stream",
     "text": [
      "        00:00:29.76\n",
      "9\n",
      "            Loop over 1647 objects\n"
     ]
    },
    {
     "name": "stderr",
     "output_type": "stream",
     "text": [
      "/work/aa0238/a271093/Scripts/MOAAP/src/Tracking_Functions.py:239: RuntimeWarning: All-NaN slice encountered\n",
      "  obj_min = np.nanmin(data_slice, axis=(1, 2))\n",
      "/work/aa0238/a271093/Scripts/MOAAP/src/Tracking_Functions.py:240: RuntimeWarning: All-NaN slice encountered\n",
      "  obj_max = np.nanmax(data_slice, axis=(1, 2))\n",
      "/work/aa0238/a271093/Scripts/MOAAP/src/Tracking_Functions.py:241: RuntimeWarning: Mean of empty slice\n",
      "  obj_mean = np.nanmean(data_slice, axis=(1, 2))\n",
      "/work/aa0238/a271093/Conda/MOAAP_env/lib/python3.12/site-packages/scipy/ndimage/_measurements.py:1541: RuntimeWarning: invalid value encountered in scalar divide\n",
      "  results = [sum(input * grids[dir].astype(float), labels, index) / normalizer\n"
     ]
    },
    {
     "name": "stdout",
     "output_type": "stream",
     "text": [
      "        check if MSs quallify as ARs\n"
     ]
    },
    {
     "name": "stderr",
     "output_type": "stream",
     "text": [
      "/work/aa0238/a271093/Scripts/MOAAP/src/Tracking_Functions.py:4036: RuntimeWarning: divide by zero encountered in scalar divide\n",
      "  if DIST.max() / DIST.min() < AR_width_lenght_ratio:\n"
     ]
    },
    {
     "name": "stdout",
     "output_type": "stream",
     "text": [
      "            Loop over 1633 objects\n",
      "        00:01:14.94\n",
      " \n",
      "Save the object masks into a joint netCDF\n",
      "Saved: /work/aa0238/a271093/results/MOAAP/IVT_Tracking/ICON_NWP_refined_remapped_3x/ObjectMasks_MOAPP_ICON_100and85ERA5perc_remapped_3x_2005_01_01-2005_08_01.nc\n",
      "        00:00:24.84\n",
      "clean up /work/aa0238/a271093/results/MOAAP/IVT_Tracking/ICON_NWP_refined_remapped_3x/IVT_MOAPP_ICON_100and85ERA5perc_remapped_3x_2005_01_01-2005_07_01.pkl\n",
      "clean up finished\n",
      "clean up /work/aa0238/a271093/results/MOAAP/IVT_Tracking/ICON_NWP_refined_remapped_3x/ARs_MOAPP_ICON_100and85ERA5perc_remapped_3x_2005_01_01-2005_07_01.pkl\n",
      "clean up finished\n",
      "correct nc-file with \n",
      " cdo -selmon,1,2,3,4,5,6 /work/aa0238/a271093/results/MOAAP/IVT_Tracking/ICON_NWP_refined_remapped_3x/ObjectMasks_MOAPP_ICON_100and85ERA5perc_remapped_3x_2005_01_01-2005_08_01.nc /work/aa0238/a271093/results/MOAAP/IVT_Tracking/ICON_NWP_refined_remapped_3x/ObjectMasks_MOAPP_ICON_100and85ERA5perc_remapped_3x_2005_01_01-2005_07_01_corrected.nc\n",
      "\n",
      " \n",
      " \n",
      " \n",
      "\n",
      "2005-07-01 00:00:00 2006-02-01 00:00:00\n",
      " \n",
      "The provided variables allow tracking the following phenomena\n",
      " \n",
      "|  phenomenon  | tracking |\n",
      "---------------------------\n",
      "   Jetstream   |   no\n",
      "   PSL CY/ACY  |   no\n",
      "   Z500 CY/ACY |   no\n",
      "   COLs        |   no\n",
      "   IVT ARs     |   yes\n",
      "   MS ARs      |   no\n",
      "   Fronts      |   no\n",
      "   TCs         |   no\n",
      "   MCSs        |   no\n",
      "   Equ. Waves  |   no\n",
      "---------------------------\n",
      " \n",
      "======> track IVT streams and atmospheric rivers (ARs)\n",
      "        7316 object found\n",
      "        break up long living IVT objects that have many elements\n"
     ]
    },
    {
     "name": "stderr",
     "output_type": "stream",
     "text": [
      "100%|██████████| 643/643 [00:25<00:00, 25.59it/s]\n"
     ]
    },
    {
     "name": "stdout",
     "output_type": "stream",
     "text": [
      "        00:00:31.64\n",
      "9\n",
      "            Loop over 1716 objects\n"
     ]
    },
    {
     "name": "stderr",
     "output_type": "stream",
     "text": [
      "/work/aa0238/a271093/Scripts/MOAAP/src/Tracking_Functions.py:239: RuntimeWarning: All-NaN slice encountered\n",
      "  obj_min = np.nanmin(data_slice, axis=(1, 2))\n",
      "/work/aa0238/a271093/Scripts/MOAAP/src/Tracking_Functions.py:240: RuntimeWarning: All-NaN slice encountered\n",
      "  obj_max = np.nanmax(data_slice, axis=(1, 2))\n",
      "/work/aa0238/a271093/Scripts/MOAAP/src/Tracking_Functions.py:241: RuntimeWarning: Mean of empty slice\n",
      "  obj_mean = np.nanmean(data_slice, axis=(1, 2))\n",
      "/work/aa0238/a271093/Conda/MOAAP_env/lib/python3.12/site-packages/scipy/ndimage/_measurements.py:1541: RuntimeWarning: invalid value encountered in scalar divide\n",
      "  results = [sum(input * grids[dir].astype(float), labels, index) / normalizer\n"
     ]
    },
    {
     "name": "stdout",
     "output_type": "stream",
     "text": [
      "        check if MSs quallify as ARs\n"
     ]
    },
    {
     "name": "stderr",
     "output_type": "stream",
     "text": [
      "/work/aa0238/a271093/Scripts/MOAAP/src/Tracking_Functions.py:4036: RuntimeWarning: divide by zero encountered in scalar divide\n",
      "  if DIST.max() / DIST.min() < AR_width_lenght_ratio:\n"
     ]
    },
    {
     "name": "stdout",
     "output_type": "stream",
     "text": [
      "            Loop over 1714 objects\n",
      "        00:01:16.39\n",
      " \n",
      "Save the object masks into a joint netCDF\n",
      "Saved: /work/aa0238/a271093/results/MOAAP/IVT_Tracking/ICON_NWP_refined_remapped_3x/ObjectMasks_MOAPP_ICON_100and85ERA5perc_remapped_3x_2005_07_01-2006_02_01.nc\n",
      "        00:00:25.97\n",
      "clean up /work/aa0238/a271093/results/MOAAP/IVT_Tracking/ICON_NWP_refined_remapped_3x/IVT_MOAPP_ICON_100and85ERA5perc_remapped_3x_2005_07_01-2006_01_01.pkl\n",
      "clean up finished\n",
      "clean up /work/aa0238/a271093/results/MOAAP/IVT_Tracking/ICON_NWP_refined_remapped_3x/ARs_MOAPP_ICON_100and85ERA5perc_remapped_3x_2005_07_01-2006_01_01.pkl\n",
      "clean up finished\n",
      "correct nc-file with \n",
      " cdo -selmon,6,7,8,9,10,11,12 /work/aa0238/a271093/results/MOAAP/IVT_Tracking/ICON_NWP_refined_remapped_3x/ObjectMasks_MOAPP_ICON_100and85ERA5perc_remapped_3x_2005_07_01-2006_02_01.nc /work/aa0238/a271093/results/MOAAP/IVT_Tracking/ICON_NWP_refined_remapped_3x/ObjectMasks_MOAPP_ICON_100and85ERA5perc_remapped_3x_2005_07_01-2006_01_01_corrected.nc\n",
      "\n",
      " \n",
      " \n",
      " \n",
      "\n",
      "2006-01-01 00:00:00 2006-08-01 00:00:00\n",
      " \n",
      "The provided variables allow tracking the following phenomena\n",
      " \n",
      "|  phenomenon  | tracking |\n",
      "---------------------------\n",
      "   Jetstream   |   no\n",
      "   PSL CY/ACY  |   no\n",
      "   Z500 CY/ACY |   no\n",
      "   COLs        |   no\n",
      "   IVT ARs     |   yes\n",
      "   MS ARs      |   no\n",
      "   Fronts      |   no\n",
      "   TCs         |   no\n",
      "   MCSs        |   no\n",
      "   Equ. Waves  |   no\n",
      "---------------------------\n",
      " \n",
      "======> track IVT streams and atmospheric rivers (ARs)\n",
      "        6781 object found\n",
      "        break up long living IVT objects that have many elements\n"
     ]
    },
    {
     "name": "stderr",
     "output_type": "stream",
     "text": [
      "100%|██████████| 634/634 [00:21<00:00, 29.12it/s]\n"
     ]
    },
    {
     "name": "stdout",
     "output_type": "stream",
     "text": [
      "        00:00:27.43\n",
      "9\n",
      "            Loop over 1583 objects\n"
     ]
    },
    {
     "name": "stderr",
     "output_type": "stream",
     "text": [
      "/work/aa0238/a271093/Scripts/MOAAP/src/Tracking_Functions.py:239: RuntimeWarning: All-NaN slice encountered\n",
      "  obj_min = np.nanmin(data_slice, axis=(1, 2))\n",
      "/work/aa0238/a271093/Scripts/MOAAP/src/Tracking_Functions.py:240: RuntimeWarning: All-NaN slice encountered\n",
      "  obj_max = np.nanmax(data_slice, axis=(1, 2))\n",
      "/work/aa0238/a271093/Scripts/MOAAP/src/Tracking_Functions.py:241: RuntimeWarning: Mean of empty slice\n",
      "  obj_mean = np.nanmean(data_slice, axis=(1, 2))\n",
      "/work/aa0238/a271093/Conda/MOAAP_env/lib/python3.12/site-packages/scipy/ndimage/_measurements.py:1541: RuntimeWarning: invalid value encountered in scalar divide\n",
      "  results = [sum(input * grids[dir].astype(float), labels, index) / normalizer\n"
     ]
    },
    {
     "name": "stdout",
     "output_type": "stream",
     "text": [
      "        check if MSs quallify as ARs\n"
     ]
    },
    {
     "name": "stderr",
     "output_type": "stream",
     "text": [
      "/work/aa0238/a271093/Scripts/MOAAP/src/Tracking_Functions.py:4036: RuntimeWarning: divide by zero encountered in scalar divide\n",
      "  if DIST.max() / DIST.min() < AR_width_lenght_ratio:\n"
     ]
    },
    {
     "name": "stdout",
     "output_type": "stream",
     "text": [
      "            Loop over 1583 objects\n",
      "        00:01:09.64\n",
      " \n",
      "Save the object masks into a joint netCDF\n",
      "Saved: /work/aa0238/a271093/results/MOAAP/IVT_Tracking/ICON_NWP_refined_remapped_3x/ObjectMasks_MOAPP_ICON_100and85ERA5perc_remapped_3x_2006_01_01-2006_08_01.nc\n",
      "        00:00:24.91\n",
      "clean up /work/aa0238/a271093/results/MOAAP/IVT_Tracking/ICON_NWP_refined_remapped_3x/IVT_MOAPP_ICON_100and85ERA5perc_remapped_3x_2006_01_01-2006_07_01.pkl\n",
      "clean up finished\n",
      "clean up /work/aa0238/a271093/results/MOAAP/IVT_Tracking/ICON_NWP_refined_remapped_3x/ARs_MOAPP_ICON_100and85ERA5perc_remapped_3x_2006_01_01-2006_07_01.pkl\n",
      "clean up finished\n",
      "correct nc-file with \n",
      " cdo -selmon,1,2,3,4,5,6 /work/aa0238/a271093/results/MOAAP/IVT_Tracking/ICON_NWP_refined_remapped_3x/ObjectMasks_MOAPP_ICON_100and85ERA5perc_remapped_3x_2006_01_01-2006_08_01.nc /work/aa0238/a271093/results/MOAAP/IVT_Tracking/ICON_NWP_refined_remapped_3x/ObjectMasks_MOAPP_ICON_100and85ERA5perc_remapped_3x_2006_01_01-2006_07_01_corrected.nc\n",
      "\n",
      " \n",
      " \n",
      " \n",
      "\n",
      "2006-07-01 00:00:00 2007-02-01 00:00:00\n",
      " \n",
      "The provided variables allow tracking the following phenomena\n",
      " \n",
      "|  phenomenon  | tracking |\n",
      "---------------------------\n",
      "   Jetstream   |   no\n",
      "   PSL CY/ACY  |   no\n",
      "   Z500 CY/ACY |   no\n",
      "   COLs        |   no\n",
      "   IVT ARs     |   yes\n",
      "   MS ARs      |   no\n",
      "   Fronts      |   no\n",
      "   TCs         |   no\n",
      "   MCSs        |   no\n",
      "   Equ. Waves  |   no\n",
      "---------------------------\n",
      " \n",
      "======> track IVT streams and atmospheric rivers (ARs)\n",
      "        6999 object found\n",
      "        break up long living IVT objects that have many elements\n"
     ]
    },
    {
     "name": "stderr",
     "output_type": "stream",
     "text": [
      "100%|██████████| 622/622 [00:21<00:00, 28.39it/s] \n"
     ]
    },
    {
     "name": "stdout",
     "output_type": "stream",
     "text": [
      "        00:00:28.01\n",
      "9\n",
      "            Loop over 1531 objects\n"
     ]
    },
    {
     "name": "stderr",
     "output_type": "stream",
     "text": [
      "/work/aa0238/a271093/Scripts/MOAAP/src/Tracking_Functions.py:239: RuntimeWarning: All-NaN slice encountered\n",
      "  obj_min = np.nanmin(data_slice, axis=(1, 2))\n",
      "/work/aa0238/a271093/Scripts/MOAAP/src/Tracking_Functions.py:240: RuntimeWarning: All-NaN slice encountered\n",
      "  obj_max = np.nanmax(data_slice, axis=(1, 2))\n",
      "/work/aa0238/a271093/Scripts/MOAAP/src/Tracking_Functions.py:241: RuntimeWarning: Mean of empty slice\n",
      "  obj_mean = np.nanmean(data_slice, axis=(1, 2))\n",
      "/work/aa0238/a271093/Conda/MOAAP_env/lib/python3.12/site-packages/scipy/ndimage/_measurements.py:1541: RuntimeWarning: invalid value encountered in scalar divide\n",
      "  results = [sum(input * grids[dir].astype(float), labels, index) / normalizer\n"
     ]
    },
    {
     "name": "stdout",
     "output_type": "stream",
     "text": [
      "        check if MSs quallify as ARs\n"
     ]
    },
    {
     "name": "stderr",
     "output_type": "stream",
     "text": [
      "/work/aa0238/a271093/Scripts/MOAAP/src/Tracking_Functions.py:4036: RuntimeWarning: divide by zero encountered in scalar divide\n",
      "  if DIST.max() / DIST.min() < AR_width_lenght_ratio:\n"
     ]
    },
    {
     "name": "stdout",
     "output_type": "stream",
     "text": [
      "            Loop over 1529 objects\n",
      "        00:01:09.72\n",
      " \n",
      "Save the object masks into a joint netCDF\n",
      "Saved: /work/aa0238/a271093/results/MOAAP/IVT_Tracking/ICON_NWP_refined_remapped_3x/ObjectMasks_MOAPP_ICON_100and85ERA5perc_remapped_3x_2006_07_01-2007_02_01.nc\n",
      "        00:00:24.86\n",
      "clean up /work/aa0238/a271093/results/MOAAP/IVT_Tracking/ICON_NWP_refined_remapped_3x/IVT_MOAPP_ICON_100and85ERA5perc_remapped_3x_2006_07_01-2007_01_01.pkl\n",
      "clean up finished\n",
      "clean up /work/aa0238/a271093/results/MOAAP/IVT_Tracking/ICON_NWP_refined_remapped_3x/ARs_MOAPP_ICON_100and85ERA5perc_remapped_3x_2006_07_01-2007_01_01.pkl\n",
      "clean up finished\n",
      "correct nc-file with \n",
      " cdo -selmon,6,7,8,9,10,11,12 /work/aa0238/a271093/results/MOAAP/IVT_Tracking/ICON_NWP_refined_remapped_3x/ObjectMasks_MOAPP_ICON_100and85ERA5perc_remapped_3x_2006_07_01-2007_02_01.nc /work/aa0238/a271093/results/MOAAP/IVT_Tracking/ICON_NWP_refined_remapped_3x/ObjectMasks_MOAPP_ICON_100and85ERA5perc_remapped_3x_2006_07_01-2007_01_01_corrected.nc\n",
      "\n",
      " \n",
      " \n",
      " \n",
      "\n",
      "2007-01-01 00:00:00 2007-08-01 00:00:00\n",
      " \n",
      "The provided variables allow tracking the following phenomena\n",
      " \n",
      "|  phenomenon  | tracking |\n",
      "---------------------------\n",
      "   Jetstream   |   no\n",
      "   PSL CY/ACY  |   no\n",
      "   Z500 CY/ACY |   no\n",
      "   COLs        |   no\n",
      "   IVT ARs     |   yes\n",
      "   MS ARs      |   no\n",
      "   Fronts      |   no\n",
      "   TCs         |   no\n",
      "   MCSs        |   no\n",
      "   Equ. Waves  |   no\n",
      "---------------------------\n",
      " \n",
      "======> track IVT streams and atmospheric rivers (ARs)\n",
      "        7328 object found\n",
      "        break up long living IVT objects that have many elements\n"
     ]
    },
    {
     "name": "stderr",
     "output_type": "stream",
     "text": [
      "100%|██████████| 559/559 [00:21<00:00, 26.18it/s]\n"
     ]
    },
    {
     "name": "stdout",
     "output_type": "stream",
     "text": [
      "        00:00:26.93\n",
      "9\n",
      "            Loop over 1425 objects\n"
     ]
    },
    {
     "name": "stderr",
     "output_type": "stream",
     "text": [
      "/work/aa0238/a271093/Scripts/MOAAP/src/Tracking_Functions.py:239: RuntimeWarning: All-NaN slice encountered\n",
      "  obj_min = np.nanmin(data_slice, axis=(1, 2))\n",
      "/work/aa0238/a271093/Scripts/MOAAP/src/Tracking_Functions.py:240: RuntimeWarning: All-NaN slice encountered\n",
      "  obj_max = np.nanmax(data_slice, axis=(1, 2))\n",
      "/work/aa0238/a271093/Scripts/MOAAP/src/Tracking_Functions.py:241: RuntimeWarning: Mean of empty slice\n",
      "  obj_mean = np.nanmean(data_slice, axis=(1, 2))\n",
      "/work/aa0238/a271093/Conda/MOAAP_env/lib/python3.12/site-packages/scipy/ndimage/_measurements.py:1541: RuntimeWarning: invalid value encountered in scalar divide\n",
      "  results = [sum(input * grids[dir].astype(float), labels, index) / normalizer\n"
     ]
    },
    {
     "name": "stdout",
     "output_type": "stream",
     "text": [
      "        check if MSs quallify as ARs\n"
     ]
    },
    {
     "name": "stderr",
     "output_type": "stream",
     "text": [
      "/work/aa0238/a271093/Scripts/MOAAP/src/Tracking_Functions.py:4036: RuntimeWarning: divide by zero encountered in scalar divide\n",
      "  if DIST.max() / DIST.min() < AR_width_lenght_ratio:\n"
     ]
    },
    {
     "name": "stdout",
     "output_type": "stream",
     "text": [
      "            Loop over 1424 objects\n",
      "        00:01:08.19\n",
      " \n",
      "Save the object masks into a joint netCDF\n",
      "Saved: /work/aa0238/a271093/results/MOAAP/IVT_Tracking/ICON_NWP_refined_remapped_3x/ObjectMasks_MOAPP_ICON_100and85ERA5perc_remapped_3x_2007_01_01-2007_08_01.nc\n",
      "        00:00:27.38\n",
      "clean up /work/aa0238/a271093/results/MOAAP/IVT_Tracking/ICON_NWP_refined_remapped_3x/IVT_MOAPP_ICON_100and85ERA5perc_remapped_3x_2007_01_01-2007_07_01.pkl\n",
      "clean up finished\n",
      "clean up /work/aa0238/a271093/results/MOAAP/IVT_Tracking/ICON_NWP_refined_remapped_3x/ARs_MOAPP_ICON_100and85ERA5perc_remapped_3x_2007_01_01-2007_07_01.pkl\n",
      "clean up finished\n",
      "correct nc-file with \n",
      " cdo -selmon,1,2,3,4,5,6 /work/aa0238/a271093/results/MOAAP/IVT_Tracking/ICON_NWP_refined_remapped_3x/ObjectMasks_MOAPP_ICON_100and85ERA5perc_remapped_3x_2007_01_01-2007_08_01.nc /work/aa0238/a271093/results/MOAAP/IVT_Tracking/ICON_NWP_refined_remapped_3x/ObjectMasks_MOAPP_ICON_100and85ERA5perc_remapped_3x_2007_01_01-2007_07_01_corrected.nc\n",
      "\n",
      " \n",
      " \n",
      " \n",
      "\n",
      "2007-07-01 00:00:00 2008-02-01 00:00:00\n",
      " \n",
      "The provided variables allow tracking the following phenomena\n",
      " \n",
      "|  phenomenon  | tracking |\n",
      "---------------------------\n",
      "   Jetstream   |   no\n",
      "   PSL CY/ACY  |   no\n",
      "   Z500 CY/ACY |   no\n",
      "   COLs        |   no\n",
      "   IVT ARs     |   yes\n",
      "   MS ARs      |   no\n",
      "   Fronts      |   no\n",
      "   TCs         |   no\n",
      "   MCSs        |   no\n",
      "   Equ. Waves  |   no\n",
      "---------------------------\n",
      " \n",
      "======> track IVT streams and atmospheric rivers (ARs)\n",
      "        7795 object found\n",
      "        break up long living IVT objects that have many elements\n"
     ]
    },
    {
     "name": "stderr",
     "output_type": "stream",
     "text": [
      "100%|██████████| 610/610 [00:24<00:00, 24.68it/s]\n"
     ]
    },
    {
     "name": "stdout",
     "output_type": "stream",
     "text": [
      "        00:00:30.72\n",
      "9\n",
      "            Loop over 1576 objects\n",
      "        check if MSs quallify as ARs\n"
     ]
    },
    {
     "name": "stderr",
     "output_type": "stream",
     "text": [
      "/work/aa0238/a271093/Scripts/MOAAP/src/Tracking_Functions.py:4036: RuntimeWarning: divide by zero encountered in scalar divide\n",
      "  if DIST.max() / DIST.min() < AR_width_lenght_ratio:\n"
     ]
    },
    {
     "name": "stdout",
     "output_type": "stream",
     "text": [
      "            Loop over 1572 objects\n"
     ]
    },
    {
     "name": "stderr",
     "output_type": "stream",
     "text": [
      "/work/aa0238/a271093/Scripts/MOAAP/src/Tracking_Functions.py:239: RuntimeWarning: All-NaN slice encountered\n",
      "  obj_min = np.nanmin(data_slice, axis=(1, 2))\n",
      "/work/aa0238/a271093/Scripts/MOAAP/src/Tracking_Functions.py:240: RuntimeWarning: All-NaN slice encountered\n",
      "  obj_max = np.nanmax(data_slice, axis=(1, 2))\n",
      "/work/aa0238/a271093/Scripts/MOAAP/src/Tracking_Functions.py:241: RuntimeWarning: Mean of empty slice\n",
      "  obj_mean = np.nanmean(data_slice, axis=(1, 2))\n",
      "/work/aa0238/a271093/Conda/MOAAP_env/lib/python3.12/site-packages/scipy/ndimage/_measurements.py:1541: RuntimeWarning: invalid value encountered in scalar divide\n",
      "  results = [sum(input * grids[dir].astype(float), labels, index) / normalizer\n"
     ]
    },
    {
     "name": "stdout",
     "output_type": "stream",
     "text": [
      "        00:01:20.82\n",
      " \n",
      "Save the object masks into a joint netCDF\n",
      "Saved: /work/aa0238/a271093/results/MOAAP/IVT_Tracking/ICON_NWP_refined_remapped_3x/ObjectMasks_MOAPP_ICON_100and85ERA5perc_remapped_3x_2007_07_01-2008_02_01.nc\n",
      "        00:00:27.06\n",
      "clean up /work/aa0238/a271093/results/MOAAP/IVT_Tracking/ICON_NWP_refined_remapped_3x/IVT_MOAPP_ICON_100and85ERA5perc_remapped_3x_2007_07_01-2008_01_01.pkl\n",
      "clean up finished\n",
      "clean up /work/aa0238/a271093/results/MOAAP/IVT_Tracking/ICON_NWP_refined_remapped_3x/ARs_MOAPP_ICON_100and85ERA5perc_remapped_3x_2007_07_01-2008_01_01.pkl\n",
      "clean up finished\n",
      "correct nc-file with \n",
      " cdo -selmon,6,7,8,9,10,11,12 /work/aa0238/a271093/results/MOAAP/IVT_Tracking/ICON_NWP_refined_remapped_3x/ObjectMasks_MOAPP_ICON_100and85ERA5perc_remapped_3x_2007_07_01-2008_02_01.nc /work/aa0238/a271093/results/MOAAP/IVT_Tracking/ICON_NWP_refined_remapped_3x/ObjectMasks_MOAPP_ICON_100and85ERA5perc_remapped_3x_2007_07_01-2008_01_01_corrected.nc\n",
      "\n",
      " \n",
      " \n",
      " \n",
      "\n",
      "2008-01-01 00:00:00 2008-08-01 00:00:00\n",
      " \n",
      "The provided variables allow tracking the following phenomena\n",
      " \n",
      "|  phenomenon  | tracking |\n",
      "---------------------------\n",
      "   Jetstream   |   no\n",
      "   PSL CY/ACY  |   no\n",
      "   Z500 CY/ACY |   no\n",
      "   COLs        |   no\n",
      "   IVT ARs     |   yes\n",
      "   MS ARs      |   no\n",
      "   Fronts      |   no\n",
      "   TCs         |   no\n",
      "   MCSs        |   no\n",
      "   Equ. Waves  |   no\n",
      "---------------------------\n",
      " \n",
      "======> track IVT streams and atmospheric rivers (ARs)\n",
      "        5959 object found\n",
      "        break up long living IVT objects that have many elements\n"
     ]
    },
    {
     "name": "stderr",
     "output_type": "stream",
     "text": [
      "100%|██████████| 593/593 [00:20<00:00, 28.25it/s]\n"
     ]
    },
    {
     "name": "stdout",
     "output_type": "stream",
     "text": [
      "        00:00:26.73\n",
      "9\n",
      "            Loop over 1340 objects\n"
     ]
    },
    {
     "name": "stderr",
     "output_type": "stream",
     "text": [
      "/work/aa0238/a271093/Scripts/MOAAP/src/Tracking_Functions.py:239: RuntimeWarning: All-NaN slice encountered\n",
      "  obj_min = np.nanmin(data_slice, axis=(1, 2))\n",
      "/work/aa0238/a271093/Scripts/MOAAP/src/Tracking_Functions.py:240: RuntimeWarning: All-NaN slice encountered\n",
      "  obj_max = np.nanmax(data_slice, axis=(1, 2))\n",
      "/work/aa0238/a271093/Scripts/MOAAP/src/Tracking_Functions.py:241: RuntimeWarning: Mean of empty slice\n",
      "  obj_mean = np.nanmean(data_slice, axis=(1, 2))\n",
      "/work/aa0238/a271093/Conda/MOAAP_env/lib/python3.12/site-packages/scipy/ndimage/_measurements.py:1541: RuntimeWarning: invalid value encountered in scalar divide\n",
      "  results = [sum(input * grids[dir].astype(float), labels, index) / normalizer\n"
     ]
    },
    {
     "name": "stdout",
     "output_type": "stream",
     "text": [
      "        check if MSs quallify as ARs\n"
     ]
    },
    {
     "name": "stderr",
     "output_type": "stream",
     "text": [
      "/work/aa0238/a271093/Scripts/MOAAP/src/Tracking_Functions.py:4036: RuntimeWarning: divide by zero encountered in scalar divide\n",
      "  if DIST.max() / DIST.min() < AR_width_lenght_ratio:\n"
     ]
    },
    {
     "name": "stdout",
     "output_type": "stream",
     "text": [
      "            Loop over 1332 objects\n",
      "        00:01:06.40\n",
      " \n",
      "Save the object masks into a joint netCDF\n",
      "Saved: /work/aa0238/a271093/results/MOAAP/IVT_Tracking/ICON_NWP_refined_remapped_3x/ObjectMasks_MOAPP_ICON_100and85ERA5perc_remapped_3x_2008_01_01-2008_08_01.nc\n",
      "        00:00:27.91\n",
      "clean up /work/aa0238/a271093/results/MOAAP/IVT_Tracking/ICON_NWP_refined_remapped_3x/IVT_MOAPP_ICON_100and85ERA5perc_remapped_3x_2008_01_01-2008_07_01.pkl\n",
      "clean up finished\n",
      "clean up /work/aa0238/a271093/results/MOAAP/IVT_Tracking/ICON_NWP_refined_remapped_3x/ARs_MOAPP_ICON_100and85ERA5perc_remapped_3x_2008_01_01-2008_07_01.pkl\n",
      "clean up finished\n",
      "correct nc-file with \n",
      " cdo -selmon,1,2,3,4,5,6 /work/aa0238/a271093/results/MOAAP/IVT_Tracking/ICON_NWP_refined_remapped_3x/ObjectMasks_MOAPP_ICON_100and85ERA5perc_remapped_3x_2008_01_01-2008_08_01.nc /work/aa0238/a271093/results/MOAAP/IVT_Tracking/ICON_NWP_refined_remapped_3x/ObjectMasks_MOAPP_ICON_100and85ERA5perc_remapped_3x_2008_01_01-2008_07_01_corrected.nc\n",
      "\n",
      " \n",
      " \n",
      " \n",
      "\n",
      "2008-07-01 00:00:00 2009-02-01 00:00:00\n",
      " \n",
      "The provided variables allow tracking the following phenomena\n",
      " \n",
      "|  phenomenon  | tracking |\n",
      "---------------------------\n",
      "   Jetstream   |   no\n",
      "   PSL CY/ACY  |   no\n",
      "   Z500 CY/ACY |   no\n",
      "   COLs        |   no\n",
      "   IVT ARs     |   yes\n",
      "   MS ARs      |   no\n",
      "   Fronts      |   no\n",
      "   TCs         |   no\n",
      "   MCSs        |   no\n",
      "   Equ. Waves  |   no\n",
      "---------------------------\n",
      " \n",
      "======> track IVT streams and atmospheric rivers (ARs)\n",
      "        6332 object found\n",
      "        break up long living IVT objects that have many elements\n"
     ]
    },
    {
     "name": "stderr",
     "output_type": "stream",
     "text": [
      "100%|██████████| 557/557 [00:22<00:00, 24.81it/s] \n"
     ]
    },
    {
     "name": "stdout",
     "output_type": "stream",
     "text": [
      "        00:00:28.26\n",
      "9\n",
      "            Loop over 1497 objects\n",
      "        check if MSs quallify as ARs\n"
     ]
    },
    {
     "name": "stderr",
     "output_type": "stream",
     "text": [
      "/work/aa0238/a271093/Scripts/MOAAP/src/Tracking_Functions.py:4036: RuntimeWarning: divide by zero encountered in scalar divide\n",
      "  if DIST.max() / DIST.min() < AR_width_lenght_ratio:\n"
     ]
    },
    {
     "name": "stdout",
     "output_type": "stream",
     "text": [
      "            Loop over 1497 objects\n"
     ]
    },
    {
     "name": "stderr",
     "output_type": "stream",
     "text": [
      "/work/aa0238/a271093/Scripts/MOAAP/src/Tracking_Functions.py:239: RuntimeWarning: All-NaN slice encountered\n",
      "  obj_min = np.nanmin(data_slice, axis=(1, 2))\n",
      "/work/aa0238/a271093/Scripts/MOAAP/src/Tracking_Functions.py:240: RuntimeWarning: All-NaN slice encountered\n",
      "  obj_max = np.nanmax(data_slice, axis=(1, 2))\n",
      "/work/aa0238/a271093/Scripts/MOAAP/src/Tracking_Functions.py:241: RuntimeWarning: Mean of empty slice\n",
      "  obj_mean = np.nanmean(data_slice, axis=(1, 2))\n",
      "/work/aa0238/a271093/Conda/MOAAP_env/lib/python3.12/site-packages/scipy/ndimage/_measurements.py:1541: RuntimeWarning: invalid value encountered in scalar divide\n",
      "  results = [sum(input * grids[dir].astype(float), labels, index) / normalizer\n"
     ]
    },
    {
     "name": "stdout",
     "output_type": "stream",
     "text": [
      "        00:01:11.70\n",
      " \n",
      "Save the object masks into a joint netCDF\n",
      "Saved: /work/aa0238/a271093/results/MOAAP/IVT_Tracking/ICON_NWP_refined_remapped_3x/ObjectMasks_MOAPP_ICON_100and85ERA5perc_remapped_3x_2008_07_01-2009_02_01.nc\n",
      "        00:00:25.05\n",
      "clean up /work/aa0238/a271093/results/MOAAP/IVT_Tracking/ICON_NWP_refined_remapped_3x/IVT_MOAPP_ICON_100and85ERA5perc_remapped_3x_2008_07_01-2009_01_01.pkl\n",
      "clean up finished\n",
      "clean up /work/aa0238/a271093/results/MOAAP/IVT_Tracking/ICON_NWP_refined_remapped_3x/ARs_MOAPP_ICON_100and85ERA5perc_remapped_3x_2008_07_01-2009_01_01.pkl\n",
      "clean up finished\n",
      "correct nc-file with \n",
      " cdo -selmon,6,7,8,9,10,11,12 /work/aa0238/a271093/results/MOAAP/IVT_Tracking/ICON_NWP_refined_remapped_3x/ObjectMasks_MOAPP_ICON_100and85ERA5perc_remapped_3x_2008_07_01-2009_02_01.nc /work/aa0238/a271093/results/MOAAP/IVT_Tracking/ICON_NWP_refined_remapped_3x/ObjectMasks_MOAPP_ICON_100and85ERA5perc_remapped_3x_2008_07_01-2009_01_01_corrected.nc\n",
      "\n",
      " \n",
      " \n",
      " \n",
      "\n",
      "2009-01-01 00:00:00 2009-08-01 00:00:00\n",
      " \n",
      "The provided variables allow tracking the following phenomena\n",
      " \n",
      "|  phenomenon  | tracking |\n",
      "---------------------------\n",
      "   Jetstream   |   no\n",
      "   PSL CY/ACY  |   no\n",
      "   Z500 CY/ACY |   no\n",
      "   COLs        |   no\n",
      "   IVT ARs     |   yes\n",
      "   MS ARs      |   no\n",
      "   Fronts      |   no\n",
      "   TCs         |   no\n",
      "   MCSs        |   no\n",
      "   Equ. Waves  |   no\n",
      "---------------------------\n",
      " \n",
      "======> track IVT streams and atmospheric rivers (ARs)\n",
      "        6774 object found\n",
      "        break up long living IVT objects that have many elements\n"
     ]
    },
    {
     "name": "stderr",
     "output_type": "stream",
     "text": [
      "100%|██████████| 587/587 [00:22<00:00, 25.98it/s] \n"
     ]
    },
    {
     "name": "stdout",
     "output_type": "stream",
     "text": [
      "        00:00:28.46\n",
      "9\n",
      "            Loop over 1567 objects\n"
     ]
    },
    {
     "name": "stderr",
     "output_type": "stream",
     "text": [
      "/work/aa0238/a271093/Scripts/MOAAP/src/Tracking_Functions.py:239: RuntimeWarning: All-NaN slice encountered\n",
      "  obj_min = np.nanmin(data_slice, axis=(1, 2))\n",
      "/work/aa0238/a271093/Scripts/MOAAP/src/Tracking_Functions.py:240: RuntimeWarning: All-NaN slice encountered\n",
      "  obj_max = np.nanmax(data_slice, axis=(1, 2))\n",
      "/work/aa0238/a271093/Scripts/MOAAP/src/Tracking_Functions.py:241: RuntimeWarning: Mean of empty slice\n",
      "  obj_mean = np.nanmean(data_slice, axis=(1, 2))\n",
      "/work/aa0238/a271093/Conda/MOAAP_env/lib/python3.12/site-packages/scipy/ndimage/_measurements.py:1541: RuntimeWarning: invalid value encountered in scalar divide\n",
      "  results = [sum(input * grids[dir].astype(float), labels, index) / normalizer\n"
     ]
    },
    {
     "name": "stdout",
     "output_type": "stream",
     "text": [
      "        check if MSs quallify as ARs\n"
     ]
    },
    {
     "name": "stderr",
     "output_type": "stream",
     "text": [
      "/work/aa0238/a271093/Scripts/MOAAP/src/Tracking_Functions.py:4036: RuntimeWarning: divide by zero encountered in scalar divide\n",
      "  if DIST.max() / DIST.min() < AR_width_lenght_ratio:\n"
     ]
    },
    {
     "name": "stdout",
     "output_type": "stream",
     "text": [
      "            Loop over 1566 objects\n",
      "        00:01:13.68\n",
      " \n",
      "Save the object masks into a joint netCDF\n",
      "Saved: /work/aa0238/a271093/results/MOAAP/IVT_Tracking/ICON_NWP_refined_remapped_3x/ObjectMasks_MOAPP_ICON_100and85ERA5perc_remapped_3x_2009_01_01-2009_08_01.nc\n",
      "        00:00:25.94\n",
      "clean up /work/aa0238/a271093/results/MOAAP/IVT_Tracking/ICON_NWP_refined_remapped_3x/IVT_MOAPP_ICON_100and85ERA5perc_remapped_3x_2009_01_01-2009_07_01.pkl\n",
      "clean up finished\n",
      "clean up /work/aa0238/a271093/results/MOAAP/IVT_Tracking/ICON_NWP_refined_remapped_3x/ARs_MOAPP_ICON_100and85ERA5perc_remapped_3x_2009_01_01-2009_07_01.pkl\n",
      "clean up finished\n",
      "correct nc-file with \n",
      " cdo -selmon,1,2,3,4,5,6 /work/aa0238/a271093/results/MOAAP/IVT_Tracking/ICON_NWP_refined_remapped_3x/ObjectMasks_MOAPP_ICON_100and85ERA5perc_remapped_3x_2009_01_01-2009_08_01.nc /work/aa0238/a271093/results/MOAAP/IVT_Tracking/ICON_NWP_refined_remapped_3x/ObjectMasks_MOAPP_ICON_100and85ERA5perc_remapped_3x_2009_01_01-2009_07_01_corrected.nc\n",
      "\n",
      " \n",
      " \n",
      " \n",
      "\n",
      "2009-07-01 00:00:00 2010-02-01 00:00:00\n",
      " \n",
      "The provided variables allow tracking the following phenomena\n",
      " \n",
      "|  phenomenon  | tracking |\n",
      "---------------------------\n",
      "   Jetstream   |   no\n",
      "   PSL CY/ACY  |   no\n",
      "   Z500 CY/ACY |   no\n",
      "   COLs        |   no\n",
      "   IVT ARs     |   yes\n",
      "   MS ARs      |   no\n",
      "   Fronts      |   no\n",
      "   TCs         |   no\n",
      "   MCSs        |   no\n",
      "   Equ. Waves  |   no\n",
      "---------------------------\n",
      " \n",
      "======> track IVT streams and atmospheric rivers (ARs)\n",
      "        7461 object found\n",
      "        break up long living IVT objects that have many elements\n"
     ]
    },
    {
     "name": "stderr",
     "output_type": "stream",
     "text": [
      "100%|██████████| 621/621 [00:24<00:00, 25.44it/s]\n"
     ]
    },
    {
     "name": "stdout",
     "output_type": "stream",
     "text": [
      "        00:00:31.85\n",
      "9\n",
      "            Loop over 1512 objects\n"
     ]
    },
    {
     "name": "stderr",
     "output_type": "stream",
     "text": [
      "/work/aa0238/a271093/Scripts/MOAAP/src/Tracking_Functions.py:239: RuntimeWarning: All-NaN slice encountered\n",
      "  obj_min = np.nanmin(data_slice, axis=(1, 2))\n",
      "/work/aa0238/a271093/Scripts/MOAAP/src/Tracking_Functions.py:240: RuntimeWarning: All-NaN slice encountered\n",
      "  obj_max = np.nanmax(data_slice, axis=(1, 2))\n",
      "/work/aa0238/a271093/Scripts/MOAAP/src/Tracking_Functions.py:241: RuntimeWarning: Mean of empty slice\n",
      "  obj_mean = np.nanmean(data_slice, axis=(1, 2))\n",
      "/work/aa0238/a271093/Conda/MOAAP_env/lib/python3.12/site-packages/scipy/ndimage/_measurements.py:1541: RuntimeWarning: invalid value encountered in scalar divide\n",
      "  results = [sum(input * grids[dir].astype(float), labels, index) / normalizer\n"
     ]
    },
    {
     "name": "stdout",
     "output_type": "stream",
     "text": [
      "        check if MSs quallify as ARs\n"
     ]
    },
    {
     "name": "stderr",
     "output_type": "stream",
     "text": [
      "/work/aa0238/a271093/Scripts/MOAAP/src/Tracking_Functions.py:4036: RuntimeWarning: divide by zero encountered in scalar divide\n",
      "  if DIST.max() / DIST.min() < AR_width_lenght_ratio:\n"
     ]
    },
    {
     "name": "stdout",
     "output_type": "stream",
     "text": [
      "            Loop over 1511 objects\n",
      "        00:01:24.28\n",
      " \n",
      "Save the object masks into a joint netCDF\n",
      "Saved: /work/aa0238/a271093/results/MOAAP/IVT_Tracking/ICON_NWP_refined_remapped_3x/ObjectMasks_MOAPP_ICON_100and85ERA5perc_remapped_3x_2009_07_01-2010_02_01.nc\n",
      "        00:00:25.17\n",
      "clean up /work/aa0238/a271093/results/MOAAP/IVT_Tracking/ICON_NWP_refined_remapped_3x/IVT_MOAPP_ICON_100and85ERA5perc_remapped_3x_2009_07_01-2010_01_01.pkl\n",
      "clean up finished\n",
      "clean up /work/aa0238/a271093/results/MOAAP/IVT_Tracking/ICON_NWP_refined_remapped_3x/ARs_MOAPP_ICON_100and85ERA5perc_remapped_3x_2009_07_01-2010_01_01.pkl\n",
      "clean up finished\n",
      "correct nc-file with \n",
      " cdo -selmon,6,7,8,9,10,11,12 /work/aa0238/a271093/results/MOAAP/IVT_Tracking/ICON_NWP_refined_remapped_3x/ObjectMasks_MOAPP_ICON_100and85ERA5perc_remapped_3x_2009_07_01-2010_02_01.nc /work/aa0238/a271093/results/MOAAP/IVT_Tracking/ICON_NWP_refined_remapped_3x/ObjectMasks_MOAPP_ICON_100and85ERA5perc_remapped_3x_2009_07_01-2010_01_01_corrected.nc\n",
      "\n",
      " \n",
      " \n",
      " \n",
      "\n",
      "2010-01-01 00:00:00 2010-08-01 00:00:00\n",
      " \n",
      "The provided variables allow tracking the following phenomena\n",
      " \n",
      "|  phenomenon  | tracking |\n",
      "---------------------------\n",
      "   Jetstream   |   no\n",
      "   PSL CY/ACY  |   no\n",
      "   Z500 CY/ACY |   no\n",
      "   COLs        |   no\n",
      "   IVT ARs     |   yes\n",
      "   MS ARs      |   no\n",
      "   Fronts      |   no\n",
      "   TCs         |   no\n",
      "   MCSs        |   no\n",
      "   Equ. Waves  |   no\n",
      "---------------------------\n",
      " \n",
      "======> track IVT streams and atmospheric rivers (ARs)\n",
      "        7414 object found\n",
      "        break up long living IVT objects that have many elements\n"
     ]
    },
    {
     "name": "stderr",
     "output_type": "stream",
     "text": [
      "100%|██████████| 657/657 [00:20<00:00, 31.84it/s]\n"
     ]
    },
    {
     "name": "stdout",
     "output_type": "stream",
     "text": [
      "        00:00:26.04\n",
      "9\n",
      "            Loop over 1506 objects\n"
     ]
    },
    {
     "name": "stderr",
     "output_type": "stream",
     "text": [
      "/work/aa0238/a271093/Scripts/MOAAP/src/Tracking_Functions.py:239: RuntimeWarning: All-NaN slice encountered\n",
      "  obj_min = np.nanmin(data_slice, axis=(1, 2))\n",
      "/work/aa0238/a271093/Scripts/MOAAP/src/Tracking_Functions.py:240: RuntimeWarning: All-NaN slice encountered\n",
      "  obj_max = np.nanmax(data_slice, axis=(1, 2))\n",
      "/work/aa0238/a271093/Scripts/MOAAP/src/Tracking_Functions.py:241: RuntimeWarning: Mean of empty slice\n",
      "  obj_mean = np.nanmean(data_slice, axis=(1, 2))\n",
      "/work/aa0238/a271093/Conda/MOAAP_env/lib/python3.12/site-packages/scipy/ndimage/_measurements.py:1541: RuntimeWarning: invalid value encountered in scalar divide\n",
      "  results = [sum(input * grids[dir].astype(float), labels, index) / normalizer\n"
     ]
    },
    {
     "name": "stdout",
     "output_type": "stream",
     "text": [
      "        check if MSs quallify as ARs\n"
     ]
    },
    {
     "name": "stderr",
     "output_type": "stream",
     "text": [
      "/work/aa0238/a271093/Scripts/MOAAP/src/Tracking_Functions.py:4036: RuntimeWarning: divide by zero encountered in scalar divide\n",
      "  if DIST.max() / DIST.min() < AR_width_lenght_ratio:\n"
     ]
    },
    {
     "name": "stdout",
     "output_type": "stream",
     "text": [
      "            Loop over 1504 objects\n",
      "        00:01:05.30\n",
      " \n",
      "Save the object masks into a joint netCDF\n",
      "Saved: /work/aa0238/a271093/results/MOAAP/IVT_Tracking/ICON_NWP_refined_remapped_3x/ObjectMasks_MOAPP_ICON_100and85ERA5perc_remapped_3x_2010_01_01-2010_08_01.nc\n",
      "        00:00:24.73\n",
      "clean up /work/aa0238/a271093/results/MOAAP/IVT_Tracking/ICON_NWP_refined_remapped_3x/IVT_MOAPP_ICON_100and85ERA5perc_remapped_3x_2010_01_01-2010_07_01.pkl\n",
      "clean up finished\n",
      "clean up /work/aa0238/a271093/results/MOAAP/IVT_Tracking/ICON_NWP_refined_remapped_3x/ARs_MOAPP_ICON_100and85ERA5perc_remapped_3x_2010_01_01-2010_07_01.pkl\n",
      "clean up finished\n",
      "correct nc-file with \n",
      " cdo -selmon,1,2,3,4,5,6 /work/aa0238/a271093/results/MOAAP/IVT_Tracking/ICON_NWP_refined_remapped_3x/ObjectMasks_MOAPP_ICON_100and85ERA5perc_remapped_3x_2010_01_01-2010_08_01.nc /work/aa0238/a271093/results/MOAAP/IVT_Tracking/ICON_NWP_refined_remapped_3x/ObjectMasks_MOAPP_ICON_100and85ERA5perc_remapped_3x_2010_01_01-2010_07_01_corrected.nc\n",
      "\n",
      " \n",
      " \n",
      " \n",
      "\n",
      "2010-07-01 00:00:00 2011-02-01 00:00:00\n",
      " \n",
      "The provided variables allow tracking the following phenomena\n",
      " \n",
      "|  phenomenon  | tracking |\n",
      "---------------------------\n",
      "   Jetstream   |   no\n",
      "   PSL CY/ACY  |   no\n",
      "   Z500 CY/ACY |   no\n",
      "   COLs        |   no\n",
      "   IVT ARs     |   yes\n",
      "   MS ARs      |   no\n",
      "   Fronts      |   no\n",
      "   TCs         |   no\n",
      "   MCSs        |   no\n",
      "   Equ. Waves  |   no\n",
      "---------------------------\n",
      " \n",
      "======> track IVT streams and atmospheric rivers (ARs)\n",
      "        7084 object found\n",
      "        break up long living IVT objects that have many elements\n"
     ]
    },
    {
     "name": "stderr",
     "output_type": "stream",
     "text": [
      "100%|██████████| 599/599 [00:22<00:00, 26.63it/s]\n"
     ]
    },
    {
     "name": "stdout",
     "output_type": "stream",
     "text": [
      "        00:00:30.17\n",
      "9\n",
      "            Loop over 1592 objects\n",
      "        check if MSs quallify as ARs\n"
     ]
    },
    {
     "name": "stderr",
     "output_type": "stream",
     "text": [
      "/work/aa0238/a271093/Scripts/MOAAP/src/Tracking_Functions.py:4036: RuntimeWarning: divide by zero encountered in scalar divide\n",
      "  if DIST.max() / DIST.min() < AR_width_lenght_ratio:\n"
     ]
    },
    {
     "name": "stdout",
     "output_type": "stream",
     "text": [
      "            Loop over 1592 objects\n"
     ]
    },
    {
     "name": "stderr",
     "output_type": "stream",
     "text": [
      "/work/aa0238/a271093/Scripts/MOAAP/src/Tracking_Functions.py:239: RuntimeWarning: All-NaN slice encountered\n",
      "  obj_min = np.nanmin(data_slice, axis=(1, 2))\n",
      "/work/aa0238/a271093/Scripts/MOAAP/src/Tracking_Functions.py:240: RuntimeWarning: All-NaN slice encountered\n",
      "  obj_max = np.nanmax(data_slice, axis=(1, 2))\n",
      "/work/aa0238/a271093/Scripts/MOAAP/src/Tracking_Functions.py:241: RuntimeWarning: Mean of empty slice\n",
      "  obj_mean = np.nanmean(data_slice, axis=(1, 2))\n",
      "/work/aa0238/a271093/Conda/MOAAP_env/lib/python3.12/site-packages/scipy/ndimage/_measurements.py:1541: RuntimeWarning: invalid value encountered in scalar divide\n",
      "  results = [sum(input * grids[dir].astype(float), labels, index) / normalizer\n"
     ]
    },
    {
     "name": "stdout",
     "output_type": "stream",
     "text": [
      "        00:01:18.76\n",
      " \n",
      "Save the object masks into a joint netCDF\n",
      "Saved: /work/aa0238/a271093/results/MOAAP/IVT_Tracking/ICON_NWP_refined_remapped_3x/ObjectMasks_MOAPP_ICON_100and85ERA5perc_remapped_3x_2010_07_01-2011_02_01.nc\n",
      "        00:00:27.09\n",
      "clean up /work/aa0238/a271093/results/MOAAP/IVT_Tracking/ICON_NWP_refined_remapped_3x/IVT_MOAPP_ICON_100and85ERA5perc_remapped_3x_2010_07_01-2011_01_01.pkl\n",
      "clean up finished\n",
      "clean up /work/aa0238/a271093/results/MOAAP/IVT_Tracking/ICON_NWP_refined_remapped_3x/ARs_MOAPP_ICON_100and85ERA5perc_remapped_3x_2010_07_01-2011_01_01.pkl\n",
      "clean up finished\n",
      "correct nc-file with \n",
      " cdo -selmon,6,7,8,9,10,11,12 /work/aa0238/a271093/results/MOAAP/IVT_Tracking/ICON_NWP_refined_remapped_3x/ObjectMasks_MOAPP_ICON_100and85ERA5perc_remapped_3x_2010_07_01-2011_02_01.nc /work/aa0238/a271093/results/MOAAP/IVT_Tracking/ICON_NWP_refined_remapped_3x/ObjectMasks_MOAPP_ICON_100and85ERA5perc_remapped_3x_2010_07_01-2011_01_01_corrected.nc\n",
      "\n",
      " \n",
      " \n",
      " \n",
      "\n",
      "2011-01-01 00:00:00 2011-08-01 00:00:00\n",
      " \n",
      "The provided variables allow tracking the following phenomena\n",
      " \n",
      "|  phenomenon  | tracking |\n",
      "---------------------------\n",
      "   Jetstream   |   no\n",
      "   PSL CY/ACY  |   no\n",
      "   Z500 CY/ACY |   no\n",
      "   COLs        |   no\n",
      "   IVT ARs     |   yes\n",
      "   MS ARs      |   no\n",
      "   Fronts      |   no\n",
      "   TCs         |   no\n",
      "   MCSs        |   no\n",
      "   Equ. Waves  |   no\n",
      "---------------------------\n",
      " \n",
      "======> track IVT streams and atmospheric rivers (ARs)\n",
      "        6542 object found\n",
      "        break up long living IVT objects that have many elements\n"
     ]
    },
    {
     "name": "stderr",
     "output_type": "stream",
     "text": [
      "100%|██████████| 586/586 [00:21<00:00, 27.30it/s]\n"
     ]
    },
    {
     "name": "stdout",
     "output_type": "stream",
     "text": [
      "        00:00:27.06\n",
      "9\n",
      "            Loop over 1531 objects\n"
     ]
    },
    {
     "name": "stderr",
     "output_type": "stream",
     "text": [
      "/work/aa0238/a271093/Scripts/MOAAP/src/Tracking_Functions.py:239: RuntimeWarning: All-NaN slice encountered\n",
      "  obj_min = np.nanmin(data_slice, axis=(1, 2))\n",
      "/work/aa0238/a271093/Scripts/MOAAP/src/Tracking_Functions.py:240: RuntimeWarning: All-NaN slice encountered\n",
      "  obj_max = np.nanmax(data_slice, axis=(1, 2))\n",
      "/work/aa0238/a271093/Scripts/MOAAP/src/Tracking_Functions.py:241: RuntimeWarning: Mean of empty slice\n",
      "  obj_mean = np.nanmean(data_slice, axis=(1, 2))\n",
      "/work/aa0238/a271093/Conda/MOAAP_env/lib/python3.12/site-packages/scipy/ndimage/_measurements.py:1541: RuntimeWarning: invalid value encountered in scalar divide\n",
      "  results = [sum(input * grids[dir].astype(float), labels, index) / normalizer\n"
     ]
    },
    {
     "name": "stdout",
     "output_type": "stream",
     "text": [
      "        check if MSs quallify as ARs\n"
     ]
    },
    {
     "name": "stderr",
     "output_type": "stream",
     "text": [
      "/work/aa0238/a271093/Scripts/MOAAP/src/Tracking_Functions.py:4036: RuntimeWarning: divide by zero encountered in scalar divide\n",
      "  if DIST.max() / DIST.min() < AR_width_lenght_ratio:\n"
     ]
    },
    {
     "name": "stdout",
     "output_type": "stream",
     "text": [
      "            Loop over 1525 objects\n",
      "        00:01:08.74\n",
      " \n",
      "Save the object masks into a joint netCDF\n",
      "Saved: /work/aa0238/a271093/results/MOAAP/IVT_Tracking/ICON_NWP_refined_remapped_3x/ObjectMasks_MOAPP_ICON_100and85ERA5perc_remapped_3x_2011_01_01-2011_08_01.nc\n",
      "        00:00:24.78\n",
      "clean up /work/aa0238/a271093/results/MOAAP/IVT_Tracking/ICON_NWP_refined_remapped_3x/IVT_MOAPP_ICON_100and85ERA5perc_remapped_3x_2011_01_01-2011_07_01.pkl\n",
      "clean up finished\n",
      "clean up /work/aa0238/a271093/results/MOAAP/IVT_Tracking/ICON_NWP_refined_remapped_3x/ARs_MOAPP_ICON_100and85ERA5perc_remapped_3x_2011_01_01-2011_07_01.pkl\n",
      "clean up finished\n",
      "correct nc-file with \n",
      " cdo -selmon,1,2,3,4,5,6 /work/aa0238/a271093/results/MOAAP/IVT_Tracking/ICON_NWP_refined_remapped_3x/ObjectMasks_MOAPP_ICON_100and85ERA5perc_remapped_3x_2011_01_01-2011_08_01.nc /work/aa0238/a271093/results/MOAAP/IVT_Tracking/ICON_NWP_refined_remapped_3x/ObjectMasks_MOAPP_ICON_100and85ERA5perc_remapped_3x_2011_01_01-2011_07_01_corrected.nc\n",
      "\n",
      " \n",
      " \n",
      " \n",
      "\n",
      "2011-07-01 00:00:00 2012-02-01 00:00:00\n",
      " \n",
      "The provided variables allow tracking the following phenomena\n",
      " \n",
      "|  phenomenon  | tracking |\n",
      "---------------------------\n",
      "   Jetstream   |   no\n",
      "   PSL CY/ACY  |   no\n",
      "   Z500 CY/ACY |   no\n",
      "   COLs        |   no\n",
      "   IVT ARs     |   yes\n",
      "   MS ARs      |   no\n",
      "   Fronts      |   no\n",
      "   TCs         |   no\n",
      "   MCSs        |   no\n",
      "   Equ. Waves  |   no\n",
      "---------------------------\n",
      " \n",
      "======> track IVT streams and atmospheric rivers (ARs)\n",
      "        6718 object found\n",
      "        break up long living IVT objects that have many elements\n"
     ]
    },
    {
     "name": "stderr",
     "output_type": "stream",
     "text": [
      "100%|██████████| 560/560 [00:22<00:00, 24.35it/s]\n"
     ]
    },
    {
     "name": "stdout",
     "output_type": "stream",
     "text": [
      "        00:00:29.22\n",
      "9\n",
      "            Loop over 1424 objects\n",
      "        check if MSs quallify as ARs\n"
     ]
    },
    {
     "name": "stderr",
     "output_type": "stream",
     "text": [
      "/work/aa0238/a271093/Scripts/MOAAP/src/Tracking_Functions.py:4036: RuntimeWarning: divide by zero encountered in scalar divide\n",
      "  if DIST.max() / DIST.min() < AR_width_lenght_ratio:\n"
     ]
    },
    {
     "name": "stdout",
     "output_type": "stream",
     "text": [
      "            Loop over 1421 objects\n"
     ]
    },
    {
     "name": "stderr",
     "output_type": "stream",
     "text": [
      "/work/aa0238/a271093/Scripts/MOAAP/src/Tracking_Functions.py:239: RuntimeWarning: All-NaN slice encountered\n",
      "  obj_min = np.nanmin(data_slice, axis=(1, 2))\n",
      "/work/aa0238/a271093/Scripts/MOAAP/src/Tracking_Functions.py:240: RuntimeWarning: All-NaN slice encountered\n",
      "  obj_max = np.nanmax(data_slice, axis=(1, 2))\n",
      "/work/aa0238/a271093/Scripts/MOAAP/src/Tracking_Functions.py:241: RuntimeWarning: Mean of empty slice\n",
      "  obj_mean = np.nanmean(data_slice, axis=(1, 2))\n",
      "/work/aa0238/a271093/Conda/MOAAP_env/lib/python3.12/site-packages/scipy/ndimage/_measurements.py:1541: RuntimeWarning: invalid value encountered in scalar divide\n",
      "  results = [sum(input * grids[dir].astype(float), labels, index) / normalizer\n"
     ]
    },
    {
     "name": "stdout",
     "output_type": "stream",
     "text": [
      "        00:01:11.35\n",
      " \n",
      "Save the object masks into a joint netCDF\n",
      "Saved: /work/aa0238/a271093/results/MOAAP/IVT_Tracking/ICON_NWP_refined_remapped_3x/ObjectMasks_MOAPP_ICON_100and85ERA5perc_remapped_3x_2011_07_01-2012_02_01.nc\n",
      "        00:00:25.03\n",
      "clean up /work/aa0238/a271093/results/MOAAP/IVT_Tracking/ICON_NWP_refined_remapped_3x/IVT_MOAPP_ICON_100and85ERA5perc_remapped_3x_2011_07_01-2012_01_01.pkl\n",
      "clean up finished\n",
      "clean up /work/aa0238/a271093/results/MOAAP/IVT_Tracking/ICON_NWP_refined_remapped_3x/ARs_MOAPP_ICON_100and85ERA5perc_remapped_3x_2011_07_01-2012_01_01.pkl\n",
      "clean up finished\n",
      "correct nc-file with \n",
      " cdo -selmon,6,7,8,9,10,11,12 /work/aa0238/a271093/results/MOAAP/IVT_Tracking/ICON_NWP_refined_remapped_3x/ObjectMasks_MOAPP_ICON_100and85ERA5perc_remapped_3x_2011_07_01-2012_02_01.nc /work/aa0238/a271093/results/MOAAP/IVT_Tracking/ICON_NWP_refined_remapped_3x/ObjectMasks_MOAPP_ICON_100and85ERA5perc_remapped_3x_2011_07_01-2012_01_01_corrected.nc\n",
      "\n",
      " \n",
      " \n",
      " \n",
      "\n",
      "2012-01-01 00:00:00 2012-08-01 00:00:00\n",
      " \n",
      "The provided variables allow tracking the following phenomena\n",
      " \n",
      "|  phenomenon  | tracking |\n",
      "---------------------------\n",
      "   Jetstream   |   no\n",
      "   PSL CY/ACY  |   no\n",
      "   Z500 CY/ACY |   no\n",
      "   COLs        |   no\n",
      "   IVT ARs     |   yes\n",
      "   MS ARs      |   no\n",
      "   Fronts      |   no\n",
      "   TCs         |   no\n",
      "   MCSs        |   no\n",
      "   Equ. Waves  |   no\n",
      "---------------------------\n",
      " \n",
      "======> track IVT streams and atmospheric rivers (ARs)\n",
      "        6422 object found\n",
      "        break up long living IVT objects that have many elements\n"
     ]
    },
    {
     "name": "stderr",
     "output_type": "stream",
     "text": [
      "100%|██████████| 553/553 [00:22<00:00, 24.64it/s]\n"
     ]
    },
    {
     "name": "stdout",
     "output_type": "stream",
     "text": [
      "        00:00:28.34\n",
      "9\n",
      "            Loop over 1528 objects\n"
     ]
    },
    {
     "name": "stderr",
     "output_type": "stream",
     "text": [
      "/work/aa0238/a271093/Scripts/MOAAP/src/Tracking_Functions.py:239: RuntimeWarning: All-NaN slice encountered\n",
      "  obj_min = np.nanmin(data_slice, axis=(1, 2))\n",
      "/work/aa0238/a271093/Scripts/MOAAP/src/Tracking_Functions.py:240: RuntimeWarning: All-NaN slice encountered\n",
      "  obj_max = np.nanmax(data_slice, axis=(1, 2))\n",
      "/work/aa0238/a271093/Scripts/MOAAP/src/Tracking_Functions.py:241: RuntimeWarning: Mean of empty slice\n",
      "  obj_mean = np.nanmean(data_slice, axis=(1, 2))\n",
      "/work/aa0238/a271093/Conda/MOAAP_env/lib/python3.12/site-packages/scipy/ndimage/_measurements.py:1541: RuntimeWarning: invalid value encountered in scalar divide\n",
      "  results = [sum(input * grids[dir].astype(float), labels, index) / normalizer\n"
     ]
    },
    {
     "name": "stdout",
     "output_type": "stream",
     "text": [
      "        check if MSs quallify as ARs\n"
     ]
    },
    {
     "name": "stderr",
     "output_type": "stream",
     "text": [
      "/work/aa0238/a271093/Scripts/MOAAP/src/Tracking_Functions.py:4036: RuntimeWarning: divide by zero encountered in scalar divide\n",
      "  if DIST.max() / DIST.min() < AR_width_lenght_ratio:\n"
     ]
    },
    {
     "name": "stdout",
     "output_type": "stream",
     "text": [
      "            Loop over 1526 objects\n",
      "        00:01:16.76\n",
      " \n",
      "Save the object masks into a joint netCDF\n",
      "Saved: /work/aa0238/a271093/results/MOAAP/IVT_Tracking/ICON_NWP_refined_remapped_3x/ObjectMasks_MOAPP_ICON_100and85ERA5perc_remapped_3x_2012_01_01-2012_08_01.nc\n",
      "        00:00:25.04\n",
      "clean up /work/aa0238/a271093/results/MOAAP/IVT_Tracking/ICON_NWP_refined_remapped_3x/IVT_MOAPP_ICON_100and85ERA5perc_remapped_3x_2012_01_01-2012_07_01.pkl\n",
      "clean up finished\n",
      "clean up /work/aa0238/a271093/results/MOAAP/IVT_Tracking/ICON_NWP_refined_remapped_3x/ARs_MOAPP_ICON_100and85ERA5perc_remapped_3x_2012_01_01-2012_07_01.pkl\n",
      "clean up finished\n",
      "correct nc-file with \n",
      " cdo -selmon,1,2,3,4,5,6 /work/aa0238/a271093/results/MOAAP/IVT_Tracking/ICON_NWP_refined_remapped_3x/ObjectMasks_MOAPP_ICON_100and85ERA5perc_remapped_3x_2012_01_01-2012_08_01.nc /work/aa0238/a271093/results/MOAAP/IVT_Tracking/ICON_NWP_refined_remapped_3x/ObjectMasks_MOAPP_ICON_100and85ERA5perc_remapped_3x_2012_01_01-2012_07_01_corrected.nc\n",
      "\n",
      " \n",
      " \n",
      " \n",
      "\n",
      "2012-07-01 00:00:00 2013-02-01 00:00:00\n",
      " \n",
      "The provided variables allow tracking the following phenomena\n",
      " \n",
      "|  phenomenon  | tracking |\n",
      "---------------------------\n",
      "   Jetstream   |   no\n",
      "   PSL CY/ACY  |   no\n",
      "   Z500 CY/ACY |   no\n",
      "   COLs        |   no\n",
      "   IVT ARs     |   yes\n",
      "   MS ARs      |   no\n",
      "   Fronts      |   no\n",
      "   TCs         |   no\n",
      "   MCSs        |   no\n",
      "   Equ. Waves  |   no\n",
      "---------------------------\n",
      " \n",
      "======> track IVT streams and atmospheric rivers (ARs)\n",
      "        7140 object found\n",
      "        break up long living IVT objects that have many elements\n"
     ]
    },
    {
     "name": "stderr",
     "output_type": "stream",
     "text": [
      "100%|██████████| 642/642 [00:24<00:00, 25.81it/s]\n"
     ]
    },
    {
     "name": "stdout",
     "output_type": "stream",
     "text": [
      "        00:00:31.21\n",
      "9\n",
      "            Loop over 1699 objects\n"
     ]
    },
    {
     "name": "stderr",
     "output_type": "stream",
     "text": [
      "/work/aa0238/a271093/Scripts/MOAAP/src/Tracking_Functions.py:239: RuntimeWarning: All-NaN slice encountered\n",
      "  obj_min = np.nanmin(data_slice, axis=(1, 2))\n",
      "/work/aa0238/a271093/Scripts/MOAAP/src/Tracking_Functions.py:240: RuntimeWarning: All-NaN slice encountered\n",
      "  obj_max = np.nanmax(data_slice, axis=(1, 2))\n",
      "/work/aa0238/a271093/Scripts/MOAAP/src/Tracking_Functions.py:241: RuntimeWarning: Mean of empty slice\n",
      "  obj_mean = np.nanmean(data_slice, axis=(1, 2))\n",
      "/work/aa0238/a271093/Conda/MOAAP_env/lib/python3.12/site-packages/scipy/ndimage/_measurements.py:1541: RuntimeWarning: invalid value encountered in scalar divide\n",
      "  results = [sum(input * grids[dir].astype(float), labels, index) / normalizer\n"
     ]
    },
    {
     "name": "stdout",
     "output_type": "stream",
     "text": [
      "        check if MSs quallify as ARs\n"
     ]
    },
    {
     "name": "stderr",
     "output_type": "stream",
     "text": [
      "/work/aa0238/a271093/Scripts/MOAAP/src/Tracking_Functions.py:4036: RuntimeWarning: divide by zero encountered in scalar divide\n",
      "  if DIST.max() / DIST.min() < AR_width_lenght_ratio:\n"
     ]
    },
    {
     "name": "stdout",
     "output_type": "stream",
     "text": [
      "            Loop over 1699 objects\n",
      "        00:01:22.14\n",
      " \n",
      "Save the object masks into a joint netCDF\n",
      "Saved: /work/aa0238/a271093/results/MOAAP/IVT_Tracking/ICON_NWP_refined_remapped_3x/ObjectMasks_MOAPP_ICON_100and85ERA5perc_remapped_3x_2012_07_01-2013_02_01.nc\n",
      "        00:00:26.33\n",
      "clean up /work/aa0238/a271093/results/MOAAP/IVT_Tracking/ICON_NWP_refined_remapped_3x/IVT_MOAPP_ICON_100and85ERA5perc_remapped_3x_2012_07_01-2013_01_01.pkl\n",
      "clean up finished\n",
      "clean up /work/aa0238/a271093/results/MOAAP/IVT_Tracking/ICON_NWP_refined_remapped_3x/ARs_MOAPP_ICON_100and85ERA5perc_remapped_3x_2012_07_01-2013_01_01.pkl\n",
      "clean up finished\n",
      "correct nc-file with \n",
      " cdo -selmon,6,7,8,9,10,11,12 /work/aa0238/a271093/results/MOAAP/IVT_Tracking/ICON_NWP_refined_remapped_3x/ObjectMasks_MOAPP_ICON_100and85ERA5perc_remapped_3x_2012_07_01-2013_02_01.nc /work/aa0238/a271093/results/MOAAP/IVT_Tracking/ICON_NWP_refined_remapped_3x/ObjectMasks_MOAPP_ICON_100and85ERA5perc_remapped_3x_2012_07_01-2013_01_01_corrected.nc\n",
      "\n",
      " \n",
      " \n",
      " \n",
      "\n",
      "2013-01-01 00:00:00 2013-08-01 00:00:00\n",
      " \n",
      "The provided variables allow tracking the following phenomena\n",
      " \n",
      "|  phenomenon  | tracking |\n",
      "---------------------------\n",
      "   Jetstream   |   no\n",
      "   PSL CY/ACY  |   no\n",
      "   Z500 CY/ACY |   no\n",
      "   COLs        |   no\n",
      "   IVT ARs     |   yes\n",
      "   MS ARs      |   no\n",
      "   Fronts      |   no\n",
      "   TCs         |   no\n",
      "   MCSs        |   no\n",
      "   Equ. Waves  |   no\n",
      "---------------------------\n",
      " \n",
      "======> track IVT streams and atmospheric rivers (ARs)\n",
      "        7258 object found\n",
      "        break up long living IVT objects that have many elements\n"
     ]
    },
    {
     "name": "stderr",
     "output_type": "stream",
     "text": [
      "100%|██████████| 610/610 [00:22<00:00, 27.16it/s]\n"
     ]
    },
    {
     "name": "stdout",
     "output_type": "stream",
     "text": [
      "        00:00:28.15\n",
      "9\n",
      "            Loop over 1470 objects\n"
     ]
    },
    {
     "name": "stderr",
     "output_type": "stream",
     "text": [
      "/work/aa0238/a271093/Scripts/MOAAP/src/Tracking_Functions.py:239: RuntimeWarning: All-NaN slice encountered\n",
      "  obj_min = np.nanmin(data_slice, axis=(1, 2))\n",
      "/work/aa0238/a271093/Scripts/MOAAP/src/Tracking_Functions.py:240: RuntimeWarning: All-NaN slice encountered\n",
      "  obj_max = np.nanmax(data_slice, axis=(1, 2))\n",
      "/work/aa0238/a271093/Scripts/MOAAP/src/Tracking_Functions.py:241: RuntimeWarning: Mean of empty slice\n",
      "  obj_mean = np.nanmean(data_slice, axis=(1, 2))\n",
      "/work/aa0238/a271093/Conda/MOAAP_env/lib/python3.12/site-packages/scipy/ndimage/_measurements.py:1541: RuntimeWarning: invalid value encountered in scalar divide\n",
      "  results = [sum(input * grids[dir].astype(float), labels, index) / normalizer\n"
     ]
    },
    {
     "name": "stdout",
     "output_type": "stream",
     "text": [
      "        check if MSs quallify as ARs\n"
     ]
    },
    {
     "name": "stderr",
     "output_type": "stream",
     "text": [
      "/work/aa0238/a271093/Scripts/MOAAP/src/Tracking_Functions.py:4036: RuntimeWarning: divide by zero encountered in scalar divide\n",
      "  if DIST.max() / DIST.min() < AR_width_lenght_ratio:\n"
     ]
    },
    {
     "name": "stdout",
     "output_type": "stream",
     "text": [
      "            Loop over 1466 objects\n",
      "        00:01:09.66\n",
      " \n",
      "Save the object masks into a joint netCDF\n",
      "Saved: /work/aa0238/a271093/results/MOAAP/IVT_Tracking/ICON_NWP_refined_remapped_3x/ObjectMasks_MOAPP_ICON_100and85ERA5perc_remapped_3x_2013_01_01-2013_08_01.nc\n",
      "        00:00:29.20\n",
      "clean up /work/aa0238/a271093/results/MOAAP/IVT_Tracking/ICON_NWP_refined_remapped_3x/IVT_MOAPP_ICON_100and85ERA5perc_remapped_3x_2013_01_01-2013_07_01.pkl\n",
      "clean up finished\n",
      "clean up /work/aa0238/a271093/results/MOAAP/IVT_Tracking/ICON_NWP_refined_remapped_3x/ARs_MOAPP_ICON_100and85ERA5perc_remapped_3x_2013_01_01-2013_07_01.pkl\n",
      "clean up finished\n",
      "correct nc-file with \n",
      " cdo -selmon,1,2,3,4,5,6 /work/aa0238/a271093/results/MOAAP/IVT_Tracking/ICON_NWP_refined_remapped_3x/ObjectMasks_MOAPP_ICON_100and85ERA5perc_remapped_3x_2013_01_01-2013_08_01.nc /work/aa0238/a271093/results/MOAAP/IVT_Tracking/ICON_NWP_refined_remapped_3x/ObjectMasks_MOAPP_ICON_100and85ERA5perc_remapped_3x_2013_01_01-2013_07_01_corrected.nc\n",
      "\n",
      " \n",
      " \n",
      " \n",
      "\n",
      "2013-07-01 00:00:00 2014-01-01 00:00:00\n",
      " \n",
      "The provided variables allow tracking the following phenomena\n",
      " \n",
      "|  phenomenon  | tracking |\n",
      "---------------------------\n",
      "   Jetstream   |   no\n",
      "   PSL CY/ACY  |   no\n",
      "   Z500 CY/ACY |   no\n",
      "   COLs        |   no\n",
      "   IVT ARs     |   yes\n",
      "   MS ARs      |   no\n",
      "   Fronts      |   no\n",
      "   TCs         |   no\n",
      "   MCSs        |   no\n",
      "   Equ. Waves  |   no\n",
      "---------------------------\n",
      " \n",
      "======> track IVT streams and atmospheric rivers (ARs)\n",
      "        6474 object found\n",
      "        break up long living IVT objects that have many elements\n"
     ]
    },
    {
     "name": "stderr",
     "output_type": "stream",
     "text": [
      "100%|██████████| 503/503 [00:20<00:00, 24.77it/s]\n"
     ]
    },
    {
     "name": "stdout",
     "output_type": "stream",
     "text": [
      "        00:00:25.70\n",
      "9\n",
      "            Loop over 1372 objects\n"
     ]
    },
    {
     "name": "stderr",
     "output_type": "stream",
     "text": [
      "/work/aa0238/a271093/Scripts/MOAAP/src/Tracking_Functions.py:239: RuntimeWarning: All-NaN slice encountered\n",
      "  obj_min = np.nanmin(data_slice, axis=(1, 2))\n",
      "/work/aa0238/a271093/Scripts/MOAAP/src/Tracking_Functions.py:240: RuntimeWarning: All-NaN slice encountered\n",
      "  obj_max = np.nanmax(data_slice, axis=(1, 2))\n",
      "/work/aa0238/a271093/Scripts/MOAAP/src/Tracking_Functions.py:241: RuntimeWarning: Mean of empty slice\n",
      "  obj_mean = np.nanmean(data_slice, axis=(1, 2))\n",
      "/work/aa0238/a271093/Conda/MOAAP_env/lib/python3.12/site-packages/scipy/ndimage/_measurements.py:1541: RuntimeWarning: invalid value encountered in scalar divide\n",
      "  results = [sum(input * grids[dir].astype(float), labels, index) / normalizer\n"
     ]
    },
    {
     "name": "stdout",
     "output_type": "stream",
     "text": [
      "        check if MSs quallify as ARs\n"
     ]
    },
    {
     "name": "stderr",
     "output_type": "stream",
     "text": [
      "/work/aa0238/a271093/Scripts/MOAAP/src/Tracking_Functions.py:4036: RuntimeWarning: divide by zero encountered in scalar divide\n",
      "  if DIST.max() / DIST.min() < AR_width_lenght_ratio:\n"
     ]
    },
    {
     "name": "stdout",
     "output_type": "stream",
     "text": [
      "            Loop over 1369 objects\n",
      "        00:01:05.15\n",
      " \n",
      "Save the object masks into a joint netCDF\n",
      "Saved: /work/aa0238/a271093/results/MOAAP/IVT_Tracking/ICON_NWP_refined_remapped_3x/ObjectMasks_MOAPP_ICON_100and85ERA5perc_remapped_3x_2013_07_01-2014_01_01.nc\n",
      "        00:00:23.77\n",
      "clean up /work/aa0238/a271093/results/MOAAP/IVT_Tracking/ICON_NWP_refined_remapped_3x/IVT_MOAPP_ICON_100and85ERA5perc_remapped_3x_2013_07_01-2014_01_01.pkl\n",
      "clean up finished\n"
     ]
    },
    {
     "ename": "UnboundLocalError",
     "evalue": "cannot access local variable 'output_name' where it is not associated with a value",
     "output_type": "error",
     "traceback": [
      "\u001b[0;31m---------------------------------------------------------------------------\u001b[0m",
      "\u001b[0;31mUnboundLocalError\u001b[0m                         Traceback (most recent call last)",
      "Cell \u001b[0;32mIn[5], line 54\u001b[0m\n\u001b[1;32m     31\u001b[0m output_file_name \u001b[38;5;241m=\u001b[39m \u001b[38;5;124mf\u001b[39m\u001b[38;5;124m'\u001b[39m\u001b[38;5;132;01m{\u001b[39;00moutput_file_name_temp\u001b[38;5;132;01m}\u001b[39;00m\u001b[38;5;124m_\u001b[39m\u001b[38;5;132;01m{\u001b[39;00mget_datetime_str(start_date)\u001b[38;5;132;01m}\u001b[39;00m\u001b[38;5;124m-\u001b[39m\u001b[38;5;132;01m{\u001b[39;00mget_datetime_str(end_date)\u001b[38;5;132;01m}\u001b[39;00m\u001b[38;5;124m'\u001b[39m\n\u001b[1;32m     35\u001b[0m Tracking_Functions\u001b[38;5;241m.\u001b[39mmoaap(Lon \u001b[38;5;241m=\u001b[39m rLon,                            \u001b[38;5;66;03m# 2Dlongitude grid centers\u001b[39;00m\n\u001b[1;32m     36\u001b[0m                           Lat \u001b[38;5;241m=\u001b[39m rLat,                           \u001b[38;5;66;03m# 2D latitude grid spacing\u001b[39;00m\n\u001b[1;32m     37\u001b[0m                           Time \u001b[38;5;241m=\u001b[39m Time_sel,                      \u001b[38;5;66;03m# datetime vector of data\u001b[39;00m\n\u001b[0;32m   (...)\u001b[0m\n\u001b[1;32m     50\u001b[0m                           dict_keys_offset \u001b[38;5;241m=\u001b[39m dict_keys_offset\n\u001b[1;32m     51\u001b[0m                         )\n\u001b[0;32m---> 54\u001b[0m \u001b[43mcleanup_dicts\u001b[49m\u001b[43m(\u001b[49m\u001b[43moutput_path\u001b[49m\u001b[43m,\u001b[49m\n\u001b[1;32m     55\u001b[0m \u001b[43m              \u001b[49m\u001b[43moutput_file_name_temp\u001b[49m\u001b[43m,\u001b[49m\n\u001b[1;32m     56\u001b[0m \u001b[43m              \u001b[49m\u001b[43mstart_date\u001b[49m\u001b[43m,\u001b[49m\n\u001b[1;32m     57\u001b[0m \u001b[43m              \u001b[49m\u001b[43mend_date\u001b[49m\u001b[43m,\u001b[49m\u001b[43m \u001b[49m\n\u001b[1;32m     58\u001b[0m \u001b[43m              \u001b[49m\u001b[43mlast_processed_date\u001b[49m\u001b[43m,\u001b[49m\n\u001b[1;32m     59\u001b[0m \u001b[43m              \u001b[49m\u001b[43mtype_\u001b[49m\u001b[38;5;241;43m=\u001b[39;49m\u001b[38;5;124;43m'\u001b[39;49m\u001b[38;5;124;43mIVT\u001b[39;49m\u001b[38;5;124;43m'\u001b[39;49m\n\u001b[1;32m     60\u001b[0m \u001b[43m             \u001b[49m\u001b[43m)\u001b[49m\n\u001b[1;32m     62\u001b[0m cleanup_dicts(output_path,\n\u001b[1;32m     63\u001b[0m               output_file_name_temp,\n\u001b[1;32m     64\u001b[0m               start_date,\n\u001b[0;32m   (...)\u001b[0m\n\u001b[1;32m     67\u001b[0m               type_\u001b[38;5;241m=\u001b[39m\u001b[38;5;124m'\u001b[39m\u001b[38;5;124mARs\u001b[39m\u001b[38;5;124m'\u001b[39m\n\u001b[1;32m     68\u001b[0m              )\n\u001b[1;32m     70\u001b[0m correct_nc_file(output_path,\n\u001b[1;32m     71\u001b[0m                 output_file_name_temp, \n\u001b[1;32m     72\u001b[0m                 start_date,\n\u001b[1;32m     73\u001b[0m                 end_date,\n\u001b[1;32m     74\u001b[0m                 last_processed_date\n\u001b[1;32m     75\u001b[0m                )\n",
      "File \u001b[0;32m/work/aa0238/a271093/Scripts/MOAAP/src/Corrections.py:80\u001b[0m, in \u001b[0;36mcleanup_dicts\u001b[0;34m(output_path, output_file_name_temp, file_start_date, file_end_date, last_processed_date, type_)\u001b[0m\n\u001b[1;32m     77\u001b[0m     output_name \u001b[38;5;241m=\u001b[39m \u001b[38;5;124mf\u001b[39m\u001b[38;5;124m\"\u001b[39m\u001b[38;5;132;01m{\u001b[39;00moutput_path\u001b[38;5;132;01m}\u001b[39;00m\u001b[38;5;132;01m{\u001b[39;00mtype_\u001b[38;5;132;01m}\u001b[39;00m\u001b[38;5;124m_\u001b[39m\u001b[38;5;132;01m{\u001b[39;00moutput_file_name_temp\u001b[38;5;132;01m}\u001b[39;00m\u001b[38;5;124m_\u001b[39m\u001b[38;5;132;01m{\u001b[39;00mget_datetime_str(file_start_date)\u001b[38;5;132;01m}\u001b[39;00m\u001b[38;5;124m-\u001b[39m\u001b[38;5;132;01m{\u001b[39;00mget_datetime_str(file_end_date)\u001b[38;5;132;01m}\u001b[39;00m\u001b[38;5;124m\"\u001b[39m\n\u001b[1;32m     79\u001b[0m \u001b[38;5;28mprint\u001b[39m(\u001b[38;5;124m\"\u001b[39m\u001b[38;5;124mclean up finished\u001b[39m\u001b[38;5;124m\"\u001b[39m)\n\u001b[0;32m---> 80\u001b[0m save_as_pkl(obj_dict, output_name\u001b[38;5;241m=\u001b[39m\u001b[43moutput_name\u001b[49m \u001b[38;5;241m+\u001b[39m \u001b[38;5;124m\"\u001b[39m\u001b[38;5;124m_corrected\u001b[39m\u001b[38;5;124m\"\u001b[39m)\n",
      "\u001b[0;31mUnboundLocalError\u001b[0m: cannot access local variable 'output_name' where it is not associated with a value"
     ]
    }
   ],
   "source": [
    "\n",
    "dict_keys_offset = 0\n",
    "\n",
    "for start_date, end_date in zip(start_date_list, end_date_list):\n",
    "    \n",
    "    print (\"\\n \\n \\n \\n\")\n",
    "    print (start_date, end_date)\n",
    "\n",
    "\n",
    "    IVTudata = load_tracking_data(var_path=data_path,\n",
    "                       var_name=\"IVTu\",\n",
    "                      start_date = start_date,\n",
    "                      end_date = end_date)\n",
    "\n",
    "    IVTvdata = load_tracking_data(var_path=data_path,\n",
    "                       var_name=\"IVTv\",\n",
    "                      start_date = start_date,\n",
    "                      end_date = end_date)\n",
    "    \n",
    "\n",
    "    \n",
    "\n",
    "    rLon = xr.broadcast(IVTudata.rlon, IVTudata.rlat)[0].values.T\n",
    "    rLat = xr.broadcast(IVTudata.rlon, IVTudata.rlat)[1].values.T\n",
    "\n",
    "    Lon = xr.broadcast(IVTudata.lon, IVTudata.lat)[0].values\n",
    "    Lat = xr.broadcast(IVTudata.lon, IVTudata.lat)[1].values\n",
    "\n",
    "    Mask=1*(rLat>-999)\n",
    "    Time_sel = get_datetime_array_from_ds(IVTudata)\n",
    "    \n",
    "    output_file_name = f'{output_file_name_temp}_{get_datetime_str(start_date)}-{get_datetime_str(end_date)}'\n",
    "\n",
    "    \n",
    "\n",
    "    Tracking_Functions.moaap(Lon = rLon,                            # 2Dlongitude grid centers\n",
    "                              Lat = rLat,                           # 2D latitude grid spacing\n",
    "                              Time = Time_sel,                      # datetime vector of data\n",
    "                              dT = 1,                               # integer - temporal frequency of data [hour]\n",
    "                              Mask = Mask,                          # mask with dimensions [lat,lon] defining analysis region\n",
    "\n",
    "                              ivte = IVTudata.IVTu.values,          # zonal integrated vapor transport [kg m-1 s-1]\n",
    "                              ivtn = IVTvdata.IVTv.values,          # meidional integrated vapor transport [kg m-1 s-1]\n",
    "                              regular_Lon = Lon,\n",
    "                              regular_Lat = Lat,\n",
    "                              IVTtrheshold = IVTtrheshold,          # Integrated water vapor transport threshold for AR detection [kg m-1 s-1]\n",
    "                                                                    # JLa: additionall fixed threshold 100 in code\n",
    "\n",
    "                              DataName = output_file_name,\n",
    "                              OutputFolder=output_path ,\n",
    "                              dict_keys_offset = dict_keys_offset\n",
    "                            )\n",
    "                       \n",
    "                             \n",
    "    cleanup_dicts(output_path,\n",
    "                  output_file_name_temp,\n",
    "                  start_date,\n",
    "                  end_date, \n",
    "                  last_processed_date,\n",
    "                  type_='IVT'\n",
    "                 )\n",
    "        \n",
    "    cleanup_dicts(output_path,\n",
    "                  output_file_name_temp,\n",
    "                  start_date,\n",
    "                  end_date, \n",
    "                  last_processed_date,\n",
    "                  type_='ARs'\n",
    "                 )\n",
    "    \n",
    "    correct_nc_file(output_path,\n",
    "                    output_file_name_temp, \n",
    "                    start_date,\n",
    "                    end_date,\n",
    "                    last_processed_date\n",
    "                   )\n",
    "                             \n",
    "    dict_keys_offset +=5000"
   ]
  },
  {
   "cell_type": "code",
   "execution_count": null,
   "id": "855732d7-2dca-48bb-a0b4-28be6766a045",
   "metadata": {},
   "outputs": [],
   "source": []
  },
  {
   "cell_type": "code",
   "execution_count": null,
   "id": "e1db7a3a-4871-4b2e-a8b4-5c4ac918118c",
   "metadata": {},
   "outputs": [],
   "source": []
  },
  {
   "cell_type": "code",
   "execution_count": null,
   "id": "fb3c8a6a-fbe2-4bea-a875-59acdb022ad9",
   "metadata": {},
   "outputs": [],
   "source": []
  },
  {
   "cell_type": "code",
   "execution_count": null,
   "id": "ed25eb62-8296-4eb2-8571-363e6ea94ab2",
   "metadata": {},
   "outputs": [],
   "source": []
  }
 ],
 "metadata": {
  "kernelspec": {
   "display_name": "MOAAP-Kernel",
   "language": "python",
   "name": "moaap_kernel"
  },
  "language_info": {
   "codemirror_mode": {
    "name": "ipython",
    "version": 3
   },
   "file_extension": ".py",
   "mimetype": "text/x-python",
   "name": "python",
   "nbconvert_exporter": "python",
   "pygments_lexer": "ipython3",
   "version": "3.12.2"
  }
 },
 "nbformat": 4,
 "nbformat_minor": 5
}
