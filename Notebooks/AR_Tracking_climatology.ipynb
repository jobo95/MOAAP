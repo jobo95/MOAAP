{
 "cells": [
  {
   "cell_type": "markdown",
   "id": "3afad24d-3b3e-4564-b356-89afcebb173f",
   "metadata": {},
   "source": [
    "# Climatological tracking of IVT and AR objects using the MOAAP tracking algorithm\n",
    "- Load IVT tracking data in chunks of 7 months with 1 month overlap between chunks\n",
    "- Track individual data chunks and correct the pickle and netCdf4 files afterwards, so that each final corrected file corresponds to 6 month, from 1.1-1.7 and 1.7-1-1 respectively\n",
    "- Tracking should be done on a rotated grid to avoid strange behaviour around the pole when e.g. using a regular grid\n",
    "- Tracking data are remapped to 33km resolution\n"
   ]
  },
  {
   "cell_type": "raw",
   "id": "5c2f1242-2640-44b8-b13f-dbfcbc289262",
   "metadata": {},
   "source": []
  },
  {
   "cell_type": "code",
   "execution_count": 1,
   "id": "c82b8897-9b45-4561-8ae7-aef199414ba8",
   "metadata": {},
   "outputs": [
    {
     "name": "stderr",
     "output_type": "stream",
     "text": [
      "/work/aa0238/a271093/Conda/MOAAP_env/lib/python3.12/site-packages/pyproj/__init__.py:89: UserWarning: pyproj unable to set database path.\n",
      "  _pyproj_global_context_initialize()\n"
     ]
    }
   ],
   "source": [
    "%load_ext autoreload\n",
    "%autoreload 2\n",
    "import xarray as xr\n",
    "import matplotlib.pyplot as plt\n",
    "import numpy as np\n",
    "import pandas as pd\n",
    "import scipy\n",
    "import datetime\n",
    "import cartopy\n",
    "import cartopy.crs as ccrs\n",
    "import pickle\n",
    "#import Tracking_Functions\n",
    "from dateutil import relativedelta\n",
    "import os\n",
    "\n",
    "import src.Tracking_Functions as Tracking_Functions\n",
    "from src.TrackingDataLoader import load_tracking_data, get_datetime_array_from_ds \n",
    "from src.utils import * \n",
    "from src.Corrections import * \n",
    "from src.Enumerations import Experiments"
   ]
  },
  {
   "cell_type": "markdown",
   "id": "128eb1b9-7796-4d81-996f-7986c27c86c6",
   "metadata": {
    "tags": []
   },
   "source": [
    "# Settings"
   ]
  },
  {
   "cell_type": "code",
   "execution_count": 2,
   "id": "c780b1a7-6ae3-4c9a-be46-3ac9ecab02ae",
   "metadata": {},
   "outputs": [],
   "source": [
    "#data_path = '/work/aa0049/a271109/spice-v2.1/chain/work/polarres_wp3_cmip_CNRM/post/yearly/'\n",
    "#exp = Data.ICON_NORESM_EXP.value\n",
    "\n",
    "\n",
    "suffix = 'remapped_3x'\n",
    "file_type = '.nc'\n",
    "\n",
    "#######ICON########\n",
    "\n",
    "#exp = Experiments.ICON_NORESM_CONTROL.value\n",
    "\n",
    "#first_year = 1984\n",
    "#last_year = 1985\n",
    "\n",
    "#data_path = exp.path\n",
    "#output_path = exp.IVTobj_out_path\n",
    "#output_path = \"/work/aa0238/a271093/scratch/test/\"\n",
    "\n",
    "#output_file_name_temp = f'MOAPP_ICON_100and85controlperc_{suffix}'\n",
    "\n",
    "#output_path = '/work/aa0238/a271093/scratch/Track_test/'\n",
    "#threshold_file = exp.IVT_thresh_path+exp.IVT_thresh_file_85\n",
    "\n",
    "#ds_ivt_pctl=xr.open_dataset(threshold_file,decode_times=False)\n",
    "#IVTtrheshold=ds_ivt_pctl.IVT_85perc.values\n",
    "\n",
    "\n",
    "\n",
    "#####ERA5######\n",
    "exp = Experiments.ERA5.value\n",
    "\n",
    "first_year = 1979\n",
    "last_year = 2024\n",
    "\n",
    "\n",
    "data_path = exp.path_IVT\n",
    "#output_path = exp.IVTobj_out_path\n",
    "output_path = \"/work/aa0238/a271093/results/MOAAP/IVT_Tracking/ERA5_ICON_ARlat0_remapped_3x/\"\n",
    "output_file_name_temp = f'MOAPP_ERA5_100and85controlperc_{suffix}'\n",
    "#threshold_file = exp.threshold_path+'ivt_percentile_mlauer_removed-ens-lev_remapbilWP3domain_3dx3dy.nc'\n",
    "threshold_file = exp.IVT_thresh_path+exp.IVT_thresh_file_85\n",
    "\n",
    "ds_ivt_pctl=xr.open_dataset(threshold_file,decode_times=False)\n",
    "IVTtrheshold=ds_ivt_pctl.ivt1.values\n",
    "\n",
    "#######ICON SSP/NWP###########\n",
    "#exp = Experiments.ICON_NWP_REFINED.value\n",
    "#output_file_name_temp = f'MOAPP_ICON_100and85ERA5perc_{suffix}'\n",
    "\n",
    "\n",
    "#first_year = exp.year_start\n",
    "#last_year = exp.year_end\n",
    "\n",
    "#data_path = exp.path_IVT\n",
    "#output_path = exp.IVTobj_out_path\n",
    "#output_path = \"/work/aa0238/a271093/scratch/test/\"\n",
    "#output_path = \"/work/aa0238/a271093/scratch/test/\"\n",
    "#first_year = 2013\n",
    "\n",
    "\n",
    "#threshold_file = exp.IVT_thresh_path+exp.IVT_thresh_file_85\n",
    "\n",
    "#ds_ivt_pctl=xr.open_dataset(threshold_file,decode_times=False)\n",
    "#IVTtrheshold=ds_ivt_pctl.IVT_85_perc.values\n",
    "#IVTtrheshold=ds_ivt_pctl.ivt1.values\n",
    "\n",
    "\n",
    "\n",
    "###### ICON-ERA5###########\n",
    "#exp = Experiments.ICON_ERA5.value\n",
    "\n",
    "#first_year = exp.year_start\n",
    "#last_year = exp.year_end\n",
    "\n",
    "#data_path = exp.path_IVT\n",
    "#output_path = exp.IVTobj_out_path\n",
    "#output_path = \"/work/aa0238/a271093/scratch/test/\"\n",
    "\n",
    "#output_file_name_temp = f'MOAPP_ICON_ERA5_100and85ERA5perc_{suffix}'\n",
    "\n",
    "#threshold_file = exp.IVT_thresh_path+exp.IVT_thresh_file_85\n",
    "\n",
    "#ds_ivt_pctl=xr.open_dataset(threshold_file,decode_times=False)\n",
    "#IVTtrheshold=ds_ivt_pctl.ivt1.values\n",
    "\n",
    "\n",
    "#########ICON NWP\n"
   ]
  },
  {
   "cell_type": "code",
   "execution_count": 3,
   "id": "f67cde89-790e-448c-8612-636c6766a945",
   "metadata": {},
   "outputs": [],
   "source": [
    "start_date_list, end_date_list = create_datetime_lists(first_year,last_year) \n",
    "first_processed_date = start_date_list[0]\n",
    "last_processed_date = end_date_list[-1]"
   ]
  },
  {
   "cell_type": "code",
   "execution_count": 4,
   "id": "f6c9d39f-ebe9-4113-9018-9049e4bf2bf9",
   "metadata": {},
   "outputs": [
    {
     "name": "stdout",
     "output_type": "stream",
     "text": [
      "[datetime.datetime(1979, 1, 1, 0, 0), datetime.datetime(1979, 7, 1, 0, 0), datetime.datetime(1980, 1, 1, 0, 0), datetime.datetime(1980, 7, 1, 0, 0), datetime.datetime(1981, 1, 1, 0, 0), datetime.datetime(1981, 7, 1, 0, 0), datetime.datetime(1982, 1, 1, 0, 0), datetime.datetime(1982, 7, 1, 0, 0), datetime.datetime(1983, 1, 1, 0, 0), datetime.datetime(1983, 7, 1, 0, 0), datetime.datetime(1984, 1, 1, 0, 0), datetime.datetime(1984, 7, 1, 0, 0), datetime.datetime(1985, 1, 1, 0, 0), datetime.datetime(1985, 7, 1, 0, 0), datetime.datetime(1986, 1, 1, 0, 0), datetime.datetime(1986, 7, 1, 0, 0), datetime.datetime(1987, 1, 1, 0, 0), datetime.datetime(1987, 7, 1, 0, 0), datetime.datetime(1988, 1, 1, 0, 0), datetime.datetime(1988, 7, 1, 0, 0), datetime.datetime(1989, 1, 1, 0, 0), datetime.datetime(1989, 7, 1, 0, 0), datetime.datetime(1990, 1, 1, 0, 0), datetime.datetime(1990, 7, 1, 0, 0), datetime.datetime(1991, 1, 1, 0, 0), datetime.datetime(1991, 7, 1, 0, 0), datetime.datetime(1992, 1, 1, 0, 0), datetime.datetime(1992, 7, 1, 0, 0), datetime.datetime(1993, 1, 1, 0, 0), datetime.datetime(1993, 7, 1, 0, 0), datetime.datetime(1994, 1, 1, 0, 0), datetime.datetime(1994, 7, 1, 0, 0), datetime.datetime(1995, 1, 1, 0, 0), datetime.datetime(1995, 7, 1, 0, 0), datetime.datetime(1996, 1, 1, 0, 0), datetime.datetime(1996, 7, 1, 0, 0), datetime.datetime(1997, 1, 1, 0, 0), datetime.datetime(1997, 7, 1, 0, 0), datetime.datetime(1998, 1, 1, 0, 0), datetime.datetime(1998, 7, 1, 0, 0), datetime.datetime(1999, 1, 1, 0, 0), datetime.datetime(1999, 7, 1, 0, 0), datetime.datetime(2000, 1, 1, 0, 0), datetime.datetime(2000, 7, 1, 0, 0), datetime.datetime(2001, 1, 1, 0, 0), datetime.datetime(2001, 7, 1, 0, 0), datetime.datetime(2002, 1, 1, 0, 0), datetime.datetime(2002, 7, 1, 0, 0), datetime.datetime(2003, 1, 1, 0, 0), datetime.datetime(2003, 7, 1, 0, 0), datetime.datetime(2004, 1, 1, 0, 0), datetime.datetime(2004, 7, 1, 0, 0), datetime.datetime(2005, 1, 1, 0, 0), datetime.datetime(2005, 7, 1, 0, 0), datetime.datetime(2006, 1, 1, 0, 0), datetime.datetime(2006, 7, 1, 0, 0), datetime.datetime(2007, 1, 1, 0, 0), datetime.datetime(2007, 7, 1, 0, 0), datetime.datetime(2008, 1, 1, 0, 0), datetime.datetime(2008, 7, 1, 0, 0), datetime.datetime(2009, 1, 1, 0, 0), datetime.datetime(2009, 7, 1, 0, 0), datetime.datetime(2010, 1, 1, 0, 0), datetime.datetime(2010, 7, 1, 0, 0), datetime.datetime(2011, 1, 1, 0, 0), datetime.datetime(2011, 7, 1, 0, 0), datetime.datetime(2012, 1, 1, 0, 0), datetime.datetime(2012, 7, 1, 0, 0), datetime.datetime(2013, 1, 1, 0, 0), datetime.datetime(2013, 7, 1, 0, 0), datetime.datetime(2014, 1, 1, 0, 0), datetime.datetime(2014, 7, 1, 0, 0), datetime.datetime(2015, 1, 1, 0, 0), datetime.datetime(2015, 7, 1, 0, 0), datetime.datetime(2016, 1, 1, 0, 0), datetime.datetime(2016, 7, 1, 0, 0), datetime.datetime(2017, 1, 1, 0, 0), datetime.datetime(2017, 7, 1, 0, 0), datetime.datetime(2018, 1, 1, 0, 0), datetime.datetime(2018, 7, 1, 0, 0), datetime.datetime(2019, 1, 1, 0, 0), datetime.datetime(2019, 7, 1, 0, 0), datetime.datetime(2020, 1, 1, 0, 0), datetime.datetime(2020, 7, 1, 0, 0), datetime.datetime(2021, 1, 1, 0, 0), datetime.datetime(2021, 7, 1, 0, 0), datetime.datetime(2022, 1, 1, 0, 0), datetime.datetime(2022, 7, 1, 0, 0), datetime.datetime(2023, 1, 1, 0, 0), datetime.datetime(2023, 7, 1, 0, 0)] [datetime.datetime(1979, 8, 1, 0, 0), datetime.datetime(1980, 2, 1, 0, 0), datetime.datetime(1980, 8, 1, 0, 0), datetime.datetime(1981, 2, 1, 0, 0), datetime.datetime(1981, 8, 1, 0, 0), datetime.datetime(1982, 2, 1, 0, 0), datetime.datetime(1982, 8, 1, 0, 0), datetime.datetime(1983, 2, 1, 0, 0), datetime.datetime(1983, 8, 1, 0, 0), datetime.datetime(1984, 2, 1, 0, 0), datetime.datetime(1984, 8, 1, 0, 0), datetime.datetime(1985, 2, 1, 0, 0), datetime.datetime(1985, 8, 1, 0, 0), datetime.datetime(1986, 2, 1, 0, 0), datetime.datetime(1986, 8, 1, 0, 0), datetime.datetime(1987, 2, 1, 0, 0), datetime.datetime(1987, 8, 1, 0, 0), datetime.datetime(1988, 2, 1, 0, 0), datetime.datetime(1988, 8, 1, 0, 0), datetime.datetime(1989, 2, 1, 0, 0), datetime.datetime(1989, 8, 1, 0, 0), datetime.datetime(1990, 2, 1, 0, 0), datetime.datetime(1990, 8, 1, 0, 0), datetime.datetime(1991, 2, 1, 0, 0), datetime.datetime(1991, 8, 1, 0, 0), datetime.datetime(1992, 2, 1, 0, 0), datetime.datetime(1992, 8, 1, 0, 0), datetime.datetime(1993, 2, 1, 0, 0), datetime.datetime(1993, 8, 1, 0, 0), datetime.datetime(1994, 2, 1, 0, 0), datetime.datetime(1994, 8, 1, 0, 0), datetime.datetime(1995, 2, 1, 0, 0), datetime.datetime(1995, 8, 1, 0, 0), datetime.datetime(1996, 2, 1, 0, 0), datetime.datetime(1996, 8, 1, 0, 0), datetime.datetime(1997, 2, 1, 0, 0), datetime.datetime(1997, 8, 1, 0, 0), datetime.datetime(1998, 2, 1, 0, 0), datetime.datetime(1998, 8, 1, 0, 0), datetime.datetime(1999, 2, 1, 0, 0), datetime.datetime(1999, 8, 1, 0, 0), datetime.datetime(2000, 2, 1, 0, 0), datetime.datetime(2000, 8, 1, 0, 0), datetime.datetime(2001, 2, 1, 0, 0), datetime.datetime(2001, 8, 1, 0, 0), datetime.datetime(2002, 2, 1, 0, 0), datetime.datetime(2002, 8, 1, 0, 0), datetime.datetime(2003, 2, 1, 0, 0), datetime.datetime(2003, 8, 1, 0, 0), datetime.datetime(2004, 2, 1, 0, 0), datetime.datetime(2004, 8, 1, 0, 0), datetime.datetime(2005, 2, 1, 0, 0), datetime.datetime(2005, 8, 1, 0, 0), datetime.datetime(2006, 2, 1, 0, 0), datetime.datetime(2006, 8, 1, 0, 0), datetime.datetime(2007, 2, 1, 0, 0), datetime.datetime(2007, 8, 1, 0, 0), datetime.datetime(2008, 2, 1, 0, 0), datetime.datetime(2008, 8, 1, 0, 0), datetime.datetime(2009, 2, 1, 0, 0), datetime.datetime(2009, 8, 1, 0, 0), datetime.datetime(2010, 2, 1, 0, 0), datetime.datetime(2010, 8, 1, 0, 0), datetime.datetime(2011, 2, 1, 0, 0), datetime.datetime(2011, 8, 1, 0, 0), datetime.datetime(2012, 2, 1, 0, 0), datetime.datetime(2012, 8, 1, 0, 0), datetime.datetime(2013, 2, 1, 0, 0), datetime.datetime(2013, 8, 1, 0, 0), datetime.datetime(2014, 2, 1, 0, 0), datetime.datetime(2014, 8, 1, 0, 0), datetime.datetime(2015, 2, 1, 0, 0), datetime.datetime(2015, 8, 1, 0, 0), datetime.datetime(2016, 2, 1, 0, 0), datetime.datetime(2016, 8, 1, 0, 0), datetime.datetime(2017, 2, 1, 0, 0), datetime.datetime(2017, 8, 1, 0, 0), datetime.datetime(2018, 2, 1, 0, 0), datetime.datetime(2018, 8, 1, 0, 0), datetime.datetime(2019, 2, 1, 0, 0), datetime.datetime(2019, 8, 1, 0, 0), datetime.datetime(2020, 2, 1, 0, 0), datetime.datetime(2020, 8, 1, 0, 0), datetime.datetime(2021, 2, 1, 0, 0), datetime.datetime(2021, 8, 1, 0, 0), datetime.datetime(2022, 2, 1, 0, 0), datetime.datetime(2022, 8, 1, 0, 0), datetime.datetime(2023, 2, 1, 0, 0), datetime.datetime(2023, 8, 1, 0, 0), datetime.datetime(2024, 1, 1, 0, 0)]\n"
     ]
    }
   ],
   "source": [
    "print (start_date_list, end_date_list)"
   ]
  },
  {
   "cell_type": "code",
   "execution_count": null,
   "id": "26e165ca-8907-449e-a0c4-289f86b58603",
   "metadata": {
    "scrolled": true,
    "tags": []
   },
   "outputs": [
    {
     "name": "stdout",
     "output_type": "stream",
     "text": [
      "\n",
      " \n",
      " \n",
      " \n",
      "\n",
      "1979-01-01 00:00:00 1979-08-01 00:00:00\n"
     ]
    }
   ],
   "source": [
    "\n",
    "dict_keys_offset = 0\n",
    "\n",
    "for start_date, end_date in zip(start_date_list, end_date_list):\n",
    "    \n",
    "    print (\"\\n \\n \\n \\n\")\n",
    "    print (start_date, end_date)\n",
    "\n",
    "\n",
    "    IVTudata = load_tracking_data(var_path=data_path,\n",
    "                       var_name=\"IVTu\",\n",
    "                      start_date = start_date,\n",
    "                      end_date = end_date)\n",
    "\n",
    "    IVTvdata = load_tracking_data(var_path=data_path,\n",
    "                       var_name=\"IVTv\",\n",
    "                      start_date = start_date,\n",
    "                      end_date = end_date)\n",
    "    \n",
    "\n",
    "    \n",
    "\n",
    "    rLon = xr.broadcast(IVTudata.rlon, IVTudata.rlat)[0].values.T\n",
    "    rLat = xr.broadcast(IVTudata.rlon, IVTudata.rlat)[1].values.T\n",
    "\n",
    "    Lon = xr.broadcast(IVTudata.lon, IVTudata.lat)[0].values\n",
    "    Lat = xr.broadcast(IVTudata.lon, IVTudata.lat)[1].values\n",
    "\n",
    "    Mask=1*(rLat>-999)\n",
    "    Time_sel = get_datetime_array_from_ds(IVTudata)\n",
    "    \n",
    "    output_file_name = f'{output_file_name_temp}_{get_datetime_str(start_date)}-{get_datetime_str(end_date)}'\n",
    "\n",
    "    \n",
    "\n",
    "    Tracking_Functions.moaap(Lon = rLon,                            # 2Dlongitude grid centers\n",
    "                              Lat = rLat,                           # 2D latitude grid spacing\n",
    "                              Time = Time_sel,                      # datetime vector of data\n",
    "                              dT = 1,                               # integer - temporal frequency of data [hour]\n",
    "                              Mask = Mask,                          # mask with dimensions [lat,lon] defining analysis region\n",
    "\n",
    "                              ivte = IVTudata.IVTu.values,          # zonal integrated vapor transport [kg m-1 s-1]\n",
    "                              ivtn = IVTvdata.IVTv.values,          # meidional integrated vapor transport [kg m-1 s-1]\n",
    "                              regular_Lon = Lon,\n",
    "                              regular_Lat = Lat,\n",
    "                              IVTtrheshold = IVTtrheshold,          # Integrated water vapor transport threshold for AR detection [kg m-1 s-1]\n",
    "                                                                    # JLa: additionall fixed threshold 100 in code\n",
    "                              AR_Lat = 0,\n",
    "                              DataName = output_file_name,\n",
    "                              OutputFolder=output_path ,\n",
    "                              dict_keys_offset = dict_keys_offset\n",
    "                            )\n",
    "                       \n",
    "                             \n",
    "    cleanup_dicts(output_path,\n",
    "                  output_file_name_temp,\n",
    "                  start_date,\n",
    "                  end_date, \n",
    "                  last_processed_date,\n",
    "                  type_='IVT'\n",
    "                 )\n",
    "        \n",
    "    cleanup_dicts(output_path,\n",
    "                  output_file_name_temp,\n",
    "                  start_date,\n",
    "                  end_date, \n",
    "                  last_processed_date,\n",
    "                  type_='ARs'\n",
    "                 )\n",
    "    \n",
    "    correct_nc_file(output_path,\n",
    "                    output_file_name_temp, \n",
    "                    start_date,\n",
    "                    end_date,\n",
    "                    last_processed_date\n",
    "                   )\n",
    "                             \n",
    "    dict_keys_offset +=5000"
   ]
  },
  {
   "cell_type": "code",
   "execution_count": null,
   "id": "855732d7-2dca-48bb-a0b4-28be6766a045",
   "metadata": {},
   "outputs": [],
   "source": []
  },
  {
   "cell_type": "code",
   "execution_count": 8,
   "id": "e1db7a3a-4871-4b2e-a8b4-5c4ac918118c",
   "metadata": {},
   "outputs": [
    {
     "data": {
      "text/plain": [
       "datetime.datetime(2013, 7, 1, 0, 0)"
      ]
     },
     "execution_count": 8,
     "metadata": {},
     "output_type": "execute_result"
    }
   ],
   "source": [
    "start_date_list[-1]"
   ]
  },
  {
   "cell_type": "code",
   "execution_count": 9,
   "id": "fb3c8a6a-fbe2-4bea-a875-59acdb022ad9",
   "metadata": {},
   "outputs": [
    {
     "data": {
      "text/plain": [
       "datetime.datetime(2014, 1, 1, 0, 0)"
      ]
     },
     "execution_count": 9,
     "metadata": {},
     "output_type": "execute_result"
    }
   ],
   "source": [
    "last_processed_date"
   ]
  },
  {
   "cell_type": "code",
   "execution_count": null,
   "id": "ed25eb62-8296-4eb2-8571-363e6ea94ab2",
   "metadata": {},
   "outputs": [],
   "source": [
    "cleanup_dicts(output_path,\n",
    "                  output_file_name_temp,\n",
    "                  start_date_list[-1],\n",
    "                  end_date_list[-1], \n",
    "                  last_processed_date,\n",
    "                  type_='IVT'\n",
    "                 )"
   ]
  }
 ],
 "metadata": {
  "kernelspec": {
   "display_name": "MOAAP-Kernel",
   "language": "python",
   "name": "moaap_kernel"
  },
  "language_info": {
   "codemirror_mode": {
    "name": "ipython",
    "version": 3
   },
   "file_extension": ".py",
   "mimetype": "text/x-python",
   "name": "python",
   "nbconvert_exporter": "python",
   "pygments_lexer": "ipython3",
   "version": "3.12.2"
  }
 },
 "nbformat": 4,
 "nbformat_minor": 5
}
