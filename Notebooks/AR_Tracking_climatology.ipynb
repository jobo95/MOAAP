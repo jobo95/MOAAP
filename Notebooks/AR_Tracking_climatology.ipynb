{
 "cells": [
  {
   "cell_type": "markdown",
   "id": "3afad24d-3b3e-4564-b356-89afcebb173f",
   "metadata": {},
   "source": [
    "# Climatological tracking of IVT and AR objects using the MOAAP tracking algorithm\n",
    "- Load IVT tracking data in chunks of 7 months with 1 month overlap between chunks\n",
    "- Track individual data chunks and correct the pickle and netCdf4 files afterwards, so that each final corrected file corresponds to 6 month, from 1.1-1.7 and 1.7-1-1 respectively\n",
    "- Tracking should be done on a rotated grid to avoid strange behaviour around the pole when e.g. using a regular grid\n",
    "- Tracking data are remapped to 33km resolution\n"
   ]
  },
  {
   "cell_type": "raw",
   "id": "5c2f1242-2640-44b8-b13f-dbfcbc289262",
   "metadata": {},
   "source": []
  },
  {
   "cell_type": "code",
   "execution_count": 1,
   "id": "c82b8897-9b45-4561-8ae7-aef199414ba8",
   "metadata": {},
   "outputs": [
    {
     "name": "stderr",
     "output_type": "stream",
     "text": [
      "/work/aa0238/a271093/Conda/MOAAP_env/lib/python3.12/site-packages/pyproj/__init__.py:89: UserWarning: pyproj unable to set database path.\n",
      "  _pyproj_global_context_initialize()\n"
     ]
    }
   ],
   "source": [
    "%load_ext autoreload\n",
    "%autoreload 2\n",
    "import xarray as xr\n",
    "import matplotlib.pyplot as plt\n",
    "import numpy as np\n",
    "import pandas as pd\n",
    "import scipy\n",
    "import datetime\n",
    "import cartopy\n",
    "import cartopy.crs as ccrs\n",
    "import pickle\n",
    "#import Tracking_Functions\n",
    "from dateutil import relativedelta\n",
    "import os\n",
    "\n",
    "import src.Tracking_Functions as Tracking_Functions\n",
    "from src.TrackingDataLoader import * \n",
    "from src.utils import * \n",
    "from src.Corrections import * \n",
    "from src.Enumerations import Experiments"
   ]
  },
  {
   "cell_type": "markdown",
   "id": "128eb1b9-7796-4d81-996f-7986c27c86c6",
   "metadata": {
    "tags": []
   },
   "source": [
    "# Settings"
   ]
  },
  {
   "cell_type": "code",
   "execution_count": 2,
   "id": "c780b1a7-6ae3-4c9a-be46-3ac9ecab02ae",
   "metadata": {},
   "outputs": [],
   "source": [
    "#data_path = '/work/aa0049/a271109/spice-v2.1/chain/work/polarres_wp3_cmip_CNRM/post/yearly/'\n",
    "#exp = Data.ICON_NORESM_EXP.value\n",
    "\n",
    "\n",
    "suffix = 'remapped_3x'\n",
    "file_type = '.nc'\n",
    "\n",
    "#######ICON########\n",
    "\n",
    "exp = Experiments.ICON_NORESM_CONTROL.value\n",
    "\n",
    "first_year = 1984\n",
    "last_year = 1985\n",
    "\n",
    "data_path = exp.path\n",
    "output_path = exp.IVTobj_out_path\n",
    "output_path = \"/work/aa0238/a271093/scratch/test/\"\n",
    "\n",
    "output_file_name_temp = f'MOAPP_ICON_100and85controlperc_{suffix}'\n",
    "\n",
    "#output_path = '/work/aa0238/a271093/scratch/Track_test/'\n",
    "threshold_file = exp.IVT_thresh_path+exp.IVT_thresh_file_85\n",
    "\n",
    "ds_ivt_pctl=xr.open_dataset(threshold_file,decode_times=False)\n",
    "IVTtrheshold=ds_ivt_pctl.IVT_85perc.values\n",
    "\n",
    "\n",
    "\n",
    "#####ERA5######\n",
    "\n",
    "#first_year = 1979\n",
    "#last_year = 2022\n",
    "\n",
    "\n",
    "#data_path = '/work/aa0238/a271093/data/ERA5/1979-2023/ICON_remapped_3x/'\n",
    "#output_path = '/work/aa0238/a271093/results/MOAAP/IVT_Tracking/ERA5_ICON_remapped_3x/'\n",
    "#output_file_name_temp = f'MOAPP_ERA5_100and85controlperc_{suffix}'\n",
    "#threshold_file = threshold_path+'ivt_percentile_mlauer_removed-ens-lev_remapbilWP3domain_3dx3dy.nc'\n",
    "\n",
    "#ds_ivt_pctl=xr.open_dataset(threshold_file,decode_times=False)\n",
    "#IVTtrheshold=ds_ivt_pctl.ivt1.values\n",
    "\n",
    "#######ICON SSP###########\n",
    "exp = Experiments.ICON_NORESM_SSP.value\n",
    "\n",
    "first_year = exp.year_start\n",
    "last_year = exp.year_end\n",
    "\n",
    "data_path = exp.path_IVT\n",
    "output_path = exp.IVTobj_out_path\n",
    "\n",
    "output_file_name_temp = f'MOAPP_ICON_100and85NorESMsspperc_{suffix}'\n",
    "\n",
    "threshold_file = exp.IVT_thresh_path+exp.IVT_thresh_file_85\n",
    "\n",
    "ds_ivt_pctl=xr.open_dataset(threshold_file,decode_times=False)\n",
    "IVTtrheshold=ds_ivt_pctl.IVT_85_perc.values\n",
    "\n",
    "\n",
    "###### ICON-ERA5###########\n",
    "#exp = Experiments.ICON_ERA5.value\n",
    "\n",
    "#first_year = exp.year_start\n",
    "#last_year = exp.year_end\n",
    "\n",
    "#data_path = exp.path_IVT\n",
    "#output_path = exp.IVTobj_out_path\n",
    "#output_path = \"/work/aa0238/a271093/scratch/test/\"\n",
    "\n",
    "#output_file_name_temp = f'MOAPP_ICON_ERA5_100and85ERA5perc_{suffix}'\n",
    "\n",
    "#threshold_file = exp.IVT_thresh_path+exp.IVT_thresh_file_85\n",
    "\n",
    "#ds_ivt_pctl=xr.open_dataset(threshold_file,decode_times=False)\n",
    "#IVTtrheshold=ds_ivt_pctl.ivt1.values"
   ]
  },
  {
   "cell_type": "code",
   "execution_count": 3,
   "id": "f67cde89-790e-448c-8612-636c6766a945",
   "metadata": {},
   "outputs": [],
   "source": [
    "start_date_list, end_date_list = create_datetime_lists(first_year,last_year) \n",
    "first_processed_date = start_date_list[0]\n",
    "last_processed_date = end_date_list[-1]"
   ]
  },
  {
   "cell_type": "code",
   "execution_count": 4,
   "id": "f6c9d39f-ebe9-4113-9018-9049e4bf2bf9",
   "metadata": {},
   "outputs": [
    {
     "data": {
      "text/plain": [
       "'/work/aa0238/a271093/results/MOAAP/IVT_Tracking/NorESM_ssp_remapped_3x/'"
      ]
     },
     "execution_count": 4,
     "metadata": {},
     "output_type": "execute_result"
    }
   ],
   "source": [
    "output_path"
   ]
  },
  {
   "cell_type": "code",
   "execution_count": 5,
   "id": "26e165ca-8907-449e-a0c4-289f86b58603",
   "metadata": {
    "scrolled": true,
    "tags": []
   },
   "outputs": [
    {
     "name": "stdout",
     "output_type": "stream",
     "text": [
      "\n",
      " \n",
      " \n",
      " \n",
      "\n",
      "2014-01-01 00:00:00 2014-08-01 00:00:00\n",
      " \n",
      "The provided variables allow tracking the following phenomena\n",
      " \n",
      "|  phenomenon  | tracking |\n",
      "---------------------------\n",
      "   Jetstream   |   no\n",
      "   PSL CY/ACY  |   no\n",
      "   Z500 CY/ACY |   no\n",
      "   COLs        |   no\n",
      "   IVT ARs     |   yes\n",
      "   MS ARs      |   no\n",
      "   Fronts      |   no\n",
      "   TCs         |   no\n",
      "   MCSs        |   no\n",
      "   Equ. Waves  |   no\n",
      "---------------------------\n",
      " \n",
      "======> track IVT streams and atmospheric rivers (ARs)\n",
      "        3505 object found\n",
      "        break up long living IVT objects that have many elements\n"
     ]
    },
    {
     "name": "stderr",
     "output_type": "stream",
     "text": [
      "100%|██████████| 639/639 [00:25<00:00, 24.61it/s]\n"
     ]
    },
    {
     "name": "stdout",
     "output_type": "stream",
     "text": [
      "        00:00:32.03\n",
      "9\n",
      "            Loop over 1523 objects\n"
     ]
    },
    {
     "name": "stderr",
     "output_type": "stream",
     "text": [
      "/work/aa0238/a271093/Scripts/MOAAP/src/Tracking_Functions.py:250: RuntimeWarning: All-NaN slice encountered\n",
      "  obj_min = np.nanmin(data_slice, axis=(1, 2))\n",
      "/work/aa0238/a271093/Scripts/MOAAP/src/Tracking_Functions.py:251: RuntimeWarning: All-NaN slice encountered\n",
      "  obj_max = np.nanmax(data_slice, axis=(1, 2))\n",
      "/work/aa0238/a271093/Scripts/MOAAP/src/Tracking_Functions.py:252: RuntimeWarning: Mean of empty slice\n",
      "  obj_mean = np.nanmean(data_slice, axis=(1, 2))\n",
      "/work/aa0238/a271093/Conda/MOAAP_env/lib/python3.12/site-packages/scipy/ndimage/_measurements.py:1541: RuntimeWarning: invalid value encountered in scalar divide\n",
      "  results = [sum(input * grids[dir].astype(float), labels, index) / normalizer\n"
     ]
    },
    {
     "name": "stdout",
     "output_type": "stream",
     "text": [
      "        check if MSs quallify as ARs\n"
     ]
    },
    {
     "name": "stderr",
     "output_type": "stream",
     "text": [
      "/work/aa0238/a271093/Scripts/MOAAP/src/Tracking_Functions.py:4588: RuntimeWarning: divide by zero encountered in scalar divide\n",
      "  if DIST.max() / DIST.min() < AR_width_lenght_ratio:\n"
     ]
    },
    {
     "name": "stdout",
     "output_type": "stream",
     "text": [
      "            Loop over 1523 objects\n",
      "        00:01:18.66\n",
      " \n",
      "Save the object masks into a joint netCDF\n",
      "Saved: /work/aa0238/a271093/results/MOAAP/IVT_Tracking/NorESM_ssp_remapped_3x/ObjectMasks_MOAPP_ICON_100and85NorESMsspperc_remapped_3x_2014_01_01-2014_08_01.nc\n",
      "        00:00:23.79\n",
      "clean up /work/aa0238/a271093/results/MOAAP/IVT_Tracking/NorESM_ssp_remapped_3x/IVT_MOAPP_ICON_100and85NorESMsspperc_remapped_3x_2014_01_01-2014_07_01.pkl\n",
      "clean up finished\n",
      "clean up /work/aa0238/a271093/results/MOAAP/IVT_Tracking/NorESM_ssp_remapped_3x/ARs_MOAPP_ICON_100and85NorESMsspperc_remapped_3x_2014_01_01-2014_07_01.pkl\n",
      "clean up finished\n",
      "correct nc-file with \n",
      " cdo -selmon,1,2,3,4,5,6 /work/aa0238/a271093/results/MOAAP/IVT_Tracking/NorESM_ssp_remapped_3x/ObjectMasks_MOAPP_ICON_100and85NorESMsspperc_remapped_3x_2014_01_01-2014_08_01.nc /work/aa0238/a271093/results/MOAAP/IVT_Tracking/NorESM_ssp_remapped_3x/ObjectMasks_MOAPP_ICON_100and85NorESMsspperc_remapped_3x_2014_01_01-2014_07_01_corrected.nc\n",
      "\n",
      " \n",
      " \n",
      " \n",
      "\n",
      "2014-07-01 00:00:00 2015-02-01 00:00:00\n",
      "Mergetime /work/aa0238/a271093/data/Jan_runs/ICON_NorESM_ssp/NorESM_ssp_remapped_3x/IVTu/IVTu_2014010100-2014123123_remapped_3x.nc /work/aa0238/a271093/data/Jan_runs/ICON_NorESM_ssp/NorESM_ssp_remapped_3x/IVTu/IVTu_2015010100-2015123123_remapped_3x.nc  /work/aa0238/a271093/scratch/mergedIVTu_2014_2015_remapped_3x.nc\n",
      "Mergetime /work/aa0238/a271093/data/Jan_runs/ICON_NorESM_ssp/NorESM_ssp_remapped_3x/IVTv/IVTv_2014010100-2014123123_remapped_3x.nc /work/aa0238/a271093/data/Jan_runs/ICON_NorESM_ssp/NorESM_ssp_remapped_3x/IVTv/IVTv_2015010100-2015123123_remapped_3x.nc  /work/aa0238/a271093/scratch/mergedIVTv_2014_2015_remapped_3x.nc\n",
      " \n",
      "The provided variables allow tracking the following phenomena\n",
      " \n",
      "|  phenomenon  | tracking |\n",
      "---------------------------\n",
      "   Jetstream   |   no\n",
      "   PSL CY/ACY  |   no\n",
      "   Z500 CY/ACY |   no\n",
      "   COLs        |   no\n",
      "   IVT ARs     |   yes\n",
      "   MS ARs      |   no\n",
      "   Fronts      |   no\n",
      "   TCs         |   no\n",
      "   MCSs        |   no\n",
      "   Equ. Waves  |   no\n",
      "---------------------------\n",
      " \n",
      "======> track IVT streams and atmospheric rivers (ARs)\n",
      "        3136 object found\n",
      "        break up long living IVT objects that have many elements\n"
     ]
    },
    {
     "name": "stderr",
     "output_type": "stream",
     "text": [
      "100%|██████████| 574/574 [00:25<00:00, 22.89it/s]\n"
     ]
    },
    {
     "name": "stdout",
     "output_type": "stream",
     "text": [
      "        00:00:31.09\n",
      "9\n",
      "            Loop over 1375 objects\n"
     ]
    },
    {
     "name": "stderr",
     "output_type": "stream",
     "text": [
      "/work/aa0238/a271093/Scripts/MOAAP/src/Tracking_Functions.py:250: RuntimeWarning: All-NaN slice encountered\n",
      "  obj_min = np.nanmin(data_slice, axis=(1, 2))\n",
      "/work/aa0238/a271093/Scripts/MOAAP/src/Tracking_Functions.py:251: RuntimeWarning: All-NaN slice encountered\n",
      "  obj_max = np.nanmax(data_slice, axis=(1, 2))\n",
      "/work/aa0238/a271093/Scripts/MOAAP/src/Tracking_Functions.py:252: RuntimeWarning: Mean of empty slice\n",
      "  obj_mean = np.nanmean(data_slice, axis=(1, 2))\n",
      "/work/aa0238/a271093/Conda/MOAAP_env/lib/python3.12/site-packages/scipy/ndimage/_measurements.py:1541: RuntimeWarning: invalid value encountered in scalar divide\n",
      "  results = [sum(input * grids[dir].astype(float), labels, index) / normalizer\n"
     ]
    },
    {
     "name": "stdout",
     "output_type": "stream",
     "text": [
      "        check if MSs quallify as ARs\n"
     ]
    },
    {
     "name": "stderr",
     "output_type": "stream",
     "text": [
      "/work/aa0238/a271093/Scripts/MOAAP/src/Tracking_Functions.py:4588: RuntimeWarning: divide by zero encountered in scalar divide\n",
      "  if DIST.max() / DIST.min() < AR_width_lenght_ratio:\n"
     ]
    },
    {
     "name": "stdout",
     "output_type": "stream",
     "text": [
      "            Loop over 1374 objects\n",
      "        00:01:14.69\n",
      " \n",
      "Save the object masks into a joint netCDF\n",
      "Saved: /work/aa0238/a271093/results/MOAAP/IVT_Tracking/NorESM_ssp_remapped_3x/ObjectMasks_MOAPP_ICON_100and85NorESMsspperc_remapped_3x_2014_07_01-2015_02_01.nc\n",
      "        00:00:25.17\n",
      "clean up /work/aa0238/a271093/results/MOAAP/IVT_Tracking/NorESM_ssp_remapped_3x/IVT_MOAPP_ICON_100and85NorESMsspperc_remapped_3x_2014_07_01-2015_01_01.pkl\n",
      "clean up finished\n",
      "clean up /work/aa0238/a271093/results/MOAAP/IVT_Tracking/NorESM_ssp_remapped_3x/ARs_MOAPP_ICON_100and85NorESMsspperc_remapped_3x_2014_07_01-2015_01_01.pkl\n",
      "clean up finished\n",
      "correct nc-file with \n",
      " cdo -selmon,6,7,8,9,10,11,12 /work/aa0238/a271093/results/MOAAP/IVT_Tracking/NorESM_ssp_remapped_3x/ObjectMasks_MOAPP_ICON_100and85NorESMsspperc_remapped_3x_2014_07_01-2015_02_01.nc /work/aa0238/a271093/results/MOAAP/IVT_Tracking/NorESM_ssp_remapped_3x/ObjectMasks_MOAPP_ICON_100and85NorESMsspperc_remapped_3x_2014_07_01-2015_01_01_corrected.nc\n",
      "\n",
      " \n",
      " \n",
      " \n",
      "\n",
      "2015-01-01 00:00:00 2015-08-01 00:00:00\n",
      " \n",
      "The provided variables allow tracking the following phenomena\n",
      " \n",
      "|  phenomenon  | tracking |\n",
      "---------------------------\n",
      "   Jetstream   |   no\n",
      "   PSL CY/ACY  |   no\n",
      "   Z500 CY/ACY |   no\n",
      "   COLs        |   no\n",
      "   IVT ARs     |   yes\n",
      "   MS ARs      |   no\n",
      "   Fronts      |   no\n",
      "   TCs         |   no\n",
      "   MCSs        |   no\n",
      "   Equ. Waves  |   no\n",
      "---------------------------\n",
      " \n",
      "======> track IVT streams and atmospheric rivers (ARs)\n",
      "        3282 object found\n",
      "        break up long living IVT objects that have many elements\n"
     ]
    },
    {
     "name": "stderr",
     "output_type": "stream",
     "text": [
      "100%|██████████| 599/599 [00:26<00:00, 22.92it/s]\n"
     ]
    },
    {
     "name": "stdout",
     "output_type": "stream",
     "text": [
      "        00:00:32.03\n",
      "9\n",
      "            Loop over 1509 objects\n"
     ]
    },
    {
     "name": "stderr",
     "output_type": "stream",
     "text": [
      "/work/aa0238/a271093/Scripts/MOAAP/src/Tracking_Functions.py:250: RuntimeWarning: All-NaN slice encountered\n",
      "  obj_min = np.nanmin(data_slice, axis=(1, 2))\n",
      "/work/aa0238/a271093/Scripts/MOAAP/src/Tracking_Functions.py:251: RuntimeWarning: All-NaN slice encountered\n",
      "  obj_max = np.nanmax(data_slice, axis=(1, 2))\n",
      "/work/aa0238/a271093/Scripts/MOAAP/src/Tracking_Functions.py:252: RuntimeWarning: Mean of empty slice\n",
      "  obj_mean = np.nanmean(data_slice, axis=(1, 2))\n",
      "/work/aa0238/a271093/Conda/MOAAP_env/lib/python3.12/site-packages/scipy/ndimage/_measurements.py:1541: RuntimeWarning: invalid value encountered in scalar divide\n",
      "  results = [sum(input * grids[dir].astype(float), labels, index) / normalizer\n"
     ]
    },
    {
     "name": "stdout",
     "output_type": "stream",
     "text": [
      "        check if MSs quallify as ARs\n"
     ]
    },
    {
     "name": "stderr",
     "output_type": "stream",
     "text": [
      "/work/aa0238/a271093/Scripts/MOAAP/src/Tracking_Functions.py:4588: RuntimeWarning: divide by zero encountered in scalar divide\n",
      "  if DIST.max() / DIST.min() < AR_width_lenght_ratio:\n"
     ]
    },
    {
     "name": "stdout",
     "output_type": "stream",
     "text": [
      "            Loop over 1507 objects\n",
      "        00:01:16.12\n",
      " \n",
      "Save the object masks into a joint netCDF\n",
      "Saved: /work/aa0238/a271093/results/MOAAP/IVT_Tracking/NorESM_ssp_remapped_3x/ObjectMasks_MOAPP_ICON_100and85NorESMsspperc_remapped_3x_2015_01_01-2015_08_01.nc\n",
      "        00:00:26.38\n",
      "clean up /work/aa0238/a271093/results/MOAAP/IVT_Tracking/NorESM_ssp_remapped_3x/IVT_MOAPP_ICON_100and85NorESMsspperc_remapped_3x_2015_01_01-2015_07_01.pkl\n",
      "clean up finished\n",
      "clean up /work/aa0238/a271093/results/MOAAP/IVT_Tracking/NorESM_ssp_remapped_3x/ARs_MOAPP_ICON_100and85NorESMsspperc_remapped_3x_2015_01_01-2015_07_01.pkl\n",
      "clean up finished\n",
      "correct nc-file with \n",
      " cdo -selmon,1,2,3,4,5,6 /work/aa0238/a271093/results/MOAAP/IVT_Tracking/NorESM_ssp_remapped_3x/ObjectMasks_MOAPP_ICON_100and85NorESMsspperc_remapped_3x_2015_01_01-2015_08_01.nc /work/aa0238/a271093/results/MOAAP/IVT_Tracking/NorESM_ssp_remapped_3x/ObjectMasks_MOAPP_ICON_100and85NorESMsspperc_remapped_3x_2015_01_01-2015_07_01_corrected.nc\n",
      "\n",
      " \n",
      " \n",
      " \n",
      "\n",
      "2015-07-01 00:00:00 2016-02-01 00:00:00\n",
      "Mergetime /work/aa0238/a271093/data/Jan_runs/ICON_NorESM_ssp/NorESM_ssp_remapped_3x/IVTu/IVTu_2015010100-2015123123_remapped_3x.nc /work/aa0238/a271093/data/Jan_runs/ICON_NorESM_ssp/NorESM_ssp_remapped_3x/IVTu/IVTu_2016010100-2016123123_remapped_3x.nc  /work/aa0238/a271093/scratch/mergedIVTu_2015_2016_remapped_3x.nc\n",
      "Mergetime /work/aa0238/a271093/data/Jan_runs/ICON_NorESM_ssp/NorESM_ssp_remapped_3x/IVTv/IVTv_2015010100-2015123123_remapped_3x.nc /work/aa0238/a271093/data/Jan_runs/ICON_NorESM_ssp/NorESM_ssp_remapped_3x/IVTv/IVTv_2016010100-2016123123_remapped_3x.nc  /work/aa0238/a271093/scratch/mergedIVTv_2015_2016_remapped_3x.nc\n",
      " \n",
      "The provided variables allow tracking the following phenomena\n",
      " \n",
      "|  phenomenon  | tracking |\n",
      "---------------------------\n",
      "   Jetstream   |   no\n",
      "   PSL CY/ACY  |   no\n",
      "   Z500 CY/ACY |   no\n",
      "   COLs        |   no\n",
      "   IVT ARs     |   yes\n",
      "   MS ARs      |   no\n",
      "   Fronts      |   no\n",
      "   TCs         |   no\n",
      "   MCSs        |   no\n",
      "   Equ. Waves  |   no\n",
      "---------------------------\n",
      " \n",
      "======> track IVT streams and atmospheric rivers (ARs)\n",
      "        3201 object found\n",
      "        break up long living IVT objects that have many elements\n"
     ]
    },
    {
     "name": "stderr",
     "output_type": "stream",
     "text": [
      "100%|██████████| 608/608 [00:27<00:00, 22.19it/s]\n"
     ]
    },
    {
     "name": "stdout",
     "output_type": "stream",
     "text": [
      "        00:00:33.65\n",
      "9\n",
      "            Loop over 1336 objects\n"
     ]
    },
    {
     "name": "stderr",
     "output_type": "stream",
     "text": [
      "/work/aa0238/a271093/Scripts/MOAAP/src/Tracking_Functions.py:250: RuntimeWarning: All-NaN slice encountered\n",
      "  obj_min = np.nanmin(data_slice, axis=(1, 2))\n",
      "/work/aa0238/a271093/Scripts/MOAAP/src/Tracking_Functions.py:251: RuntimeWarning: All-NaN slice encountered\n",
      "  obj_max = np.nanmax(data_slice, axis=(1, 2))\n",
      "/work/aa0238/a271093/Scripts/MOAAP/src/Tracking_Functions.py:252: RuntimeWarning: Mean of empty slice\n",
      "  obj_mean = np.nanmean(data_slice, axis=(1, 2))\n",
      "/work/aa0238/a271093/Conda/MOAAP_env/lib/python3.12/site-packages/scipy/ndimage/_measurements.py:1541: RuntimeWarning: invalid value encountered in scalar divide\n",
      "  results = [sum(input * grids[dir].astype(float), labels, index) / normalizer\n"
     ]
    },
    {
     "name": "stdout",
     "output_type": "stream",
     "text": [
      "        check if MSs quallify as ARs\n"
     ]
    },
    {
     "name": "stderr",
     "output_type": "stream",
     "text": [
      "/work/aa0238/a271093/Scripts/MOAAP/src/Tracking_Functions.py:4588: RuntimeWarning: divide by zero encountered in scalar divide\n",
      "  if DIST.max() / DIST.min() < AR_width_lenght_ratio:\n"
     ]
    },
    {
     "name": "stdout",
     "output_type": "stream",
     "text": [
      "            Loop over 1334 objects\n",
      "        00:01:16.18\n",
      " \n",
      "Save the object masks into a joint netCDF\n",
      "Saved: /work/aa0238/a271093/results/MOAAP/IVT_Tracking/NorESM_ssp_remapped_3x/ObjectMasks_MOAPP_ICON_100and85NorESMsspperc_remapped_3x_2015_07_01-2016_02_01.nc\n",
      "        00:00:25.05\n",
      "clean up /work/aa0238/a271093/results/MOAAP/IVT_Tracking/NorESM_ssp_remapped_3x/IVT_MOAPP_ICON_100and85NorESMsspperc_remapped_3x_2015_07_01-2016_01_01.pkl\n",
      "clean up finished\n",
      "clean up /work/aa0238/a271093/results/MOAAP/IVT_Tracking/NorESM_ssp_remapped_3x/ARs_MOAPP_ICON_100and85NorESMsspperc_remapped_3x_2015_07_01-2016_01_01.pkl\n",
      "clean up finished\n",
      "correct nc-file with \n",
      " cdo -selmon,6,7,8,9,10,11,12 /work/aa0238/a271093/results/MOAAP/IVT_Tracking/NorESM_ssp_remapped_3x/ObjectMasks_MOAPP_ICON_100and85NorESMsspperc_remapped_3x_2015_07_01-2016_02_01.nc /work/aa0238/a271093/results/MOAAP/IVT_Tracking/NorESM_ssp_remapped_3x/ObjectMasks_MOAPP_ICON_100and85NorESMsspperc_remapped_3x_2015_07_01-2016_01_01_corrected.nc\n",
      "\n",
      " \n",
      " \n",
      " \n",
      "\n",
      "2016-01-01 00:00:00 2016-08-01 00:00:00\n",
      " \n",
      "The provided variables allow tracking the following phenomena\n",
      " \n",
      "|  phenomenon  | tracking |\n",
      "---------------------------\n",
      "   Jetstream   |   no\n",
      "   PSL CY/ACY  |   no\n",
      "   Z500 CY/ACY |   no\n",
      "   COLs        |   no\n",
      "   IVT ARs     |   yes\n",
      "   MS ARs      |   no\n",
      "   Fronts      |   no\n",
      "   TCs         |   no\n",
      "   MCSs        |   no\n",
      "   Equ. Waves  |   no\n",
      "---------------------------\n",
      " \n",
      "======> track IVT streams and atmospheric rivers (ARs)\n",
      "        3465 object found\n",
      "        break up long living IVT objects that have many elements\n"
     ]
    },
    {
     "name": "stderr",
     "output_type": "stream",
     "text": [
      "100%|██████████| 667/667 [00:28<00:00, 23.23it/s]\n"
     ]
    },
    {
     "name": "stdout",
     "output_type": "stream",
     "text": [
      "        00:00:34.68\n",
      "9\n",
      "            Loop over 1599 objects\n"
     ]
    },
    {
     "name": "stderr",
     "output_type": "stream",
     "text": [
      "/work/aa0238/a271093/Scripts/MOAAP/src/Tracking_Functions.py:250: RuntimeWarning: All-NaN slice encountered\n",
      "  obj_min = np.nanmin(data_slice, axis=(1, 2))\n",
      "/work/aa0238/a271093/Scripts/MOAAP/src/Tracking_Functions.py:251: RuntimeWarning: All-NaN slice encountered\n",
      "  obj_max = np.nanmax(data_slice, axis=(1, 2))\n",
      "/work/aa0238/a271093/Scripts/MOAAP/src/Tracking_Functions.py:252: RuntimeWarning: Mean of empty slice\n",
      "  obj_mean = np.nanmean(data_slice, axis=(1, 2))\n",
      "/work/aa0238/a271093/Conda/MOAAP_env/lib/python3.12/site-packages/scipy/ndimage/_measurements.py:1541: RuntimeWarning: invalid value encountered in scalar divide\n",
      "  results = [sum(input * grids[dir].astype(float), labels, index) / normalizer\n"
     ]
    },
    {
     "name": "stdout",
     "output_type": "stream",
     "text": [
      "        check if MSs quallify as ARs\n"
     ]
    },
    {
     "name": "stderr",
     "output_type": "stream",
     "text": [
      "/work/aa0238/a271093/Scripts/MOAAP/src/Tracking_Functions.py:4588: RuntimeWarning: divide by zero encountered in scalar divide\n",
      "  if DIST.max() / DIST.min() < AR_width_lenght_ratio:\n"
     ]
    },
    {
     "name": "stdout",
     "output_type": "stream",
     "text": [
      "            Loop over 1597 objects\n",
      "        00:01:20.06\n",
      " \n",
      "Save the object masks into a joint netCDF\n",
      "Saved: /work/aa0238/a271093/results/MOAAP/IVT_Tracking/NorESM_ssp_remapped_3x/ObjectMasks_MOAPP_ICON_100and85NorESMsspperc_remapped_3x_2016_01_01-2016_08_01.nc\n",
      "        00:00:24.08\n",
      "clean up /work/aa0238/a271093/results/MOAAP/IVT_Tracking/NorESM_ssp_remapped_3x/IVT_MOAPP_ICON_100and85NorESMsspperc_remapped_3x_2016_01_01-2016_07_01.pkl\n",
      "clean up finished\n",
      "clean up /work/aa0238/a271093/results/MOAAP/IVT_Tracking/NorESM_ssp_remapped_3x/ARs_MOAPP_ICON_100and85NorESMsspperc_remapped_3x_2016_01_01-2016_07_01.pkl\n",
      "clean up finished\n",
      "correct nc-file with \n",
      " cdo -selmon,1,2,3,4,5,6 /work/aa0238/a271093/results/MOAAP/IVT_Tracking/NorESM_ssp_remapped_3x/ObjectMasks_MOAPP_ICON_100and85NorESMsspperc_remapped_3x_2016_01_01-2016_08_01.nc /work/aa0238/a271093/results/MOAAP/IVT_Tracking/NorESM_ssp_remapped_3x/ObjectMasks_MOAPP_ICON_100and85NorESMsspperc_remapped_3x_2016_01_01-2016_07_01_corrected.nc\n",
      "\n",
      " \n",
      " \n",
      " \n",
      "\n",
      "2016-07-01 00:00:00 2017-02-01 00:00:00\n",
      "Mergetime /work/aa0238/a271093/data/Jan_runs/ICON_NorESM_ssp/NorESM_ssp_remapped_3x/IVTu/IVTu_2016010100-2016123123_remapped_3x.nc /work/aa0238/a271093/data/Jan_runs/ICON_NorESM_ssp/NorESM_ssp_remapped_3x/IVTu/IVTu_2017010100-2017123123_remapped_3x.nc  /work/aa0238/a271093/scratch/mergedIVTu_2016_2017_remapped_3x.nc\n",
      "Mergetime /work/aa0238/a271093/data/Jan_runs/ICON_NorESM_ssp/NorESM_ssp_remapped_3x/IVTv/IVTv_2016010100-2016123123_remapped_3x.nc /work/aa0238/a271093/data/Jan_runs/ICON_NorESM_ssp/NorESM_ssp_remapped_3x/IVTv/IVTv_2017010100-2017123123_remapped_3x.nc  /work/aa0238/a271093/scratch/mergedIVTv_2016_2017_remapped_3x.nc\n",
      " \n",
      "The provided variables allow tracking the following phenomena\n",
      " \n",
      "|  phenomenon  | tracking |\n",
      "---------------------------\n",
      "   Jetstream   |   no\n",
      "   PSL CY/ACY  |   no\n",
      "   Z500 CY/ACY |   no\n",
      "   COLs        |   no\n",
      "   IVT ARs     |   yes\n",
      "   MS ARs      |   no\n",
      "   Fronts      |   no\n",
      "   TCs         |   no\n",
      "   MCSs        |   no\n",
      "   Equ. Waves  |   no\n",
      "---------------------------\n",
      " \n",
      "======> track IVT streams and atmospheric rivers (ARs)\n",
      "        3207 object found\n",
      "        break up long living IVT objects that have many elements\n"
     ]
    },
    {
     "name": "stderr",
     "output_type": "stream",
     "text": [
      "100%|██████████| 636/636 [00:26<00:00, 23.71it/s]\n"
     ]
    },
    {
     "name": "stdout",
     "output_type": "stream",
     "text": [
      "        00:00:33.00\n",
      "9\n",
      "            Loop over 1430 objects\n",
      "        check if MSs quallify as ARs\n"
     ]
    },
    {
     "name": "stderr",
     "output_type": "stream",
     "text": [
      "/work/aa0238/a271093/Scripts/MOAAP/src/Tracking_Functions.py:4588: RuntimeWarning: divide by zero encountered in scalar divide\n",
      "  if DIST.max() / DIST.min() < AR_width_lenght_ratio:\n"
     ]
    },
    {
     "name": "stdout",
     "output_type": "stream",
     "text": [
      "            Loop over 1427 objects\n"
     ]
    },
    {
     "name": "stderr",
     "output_type": "stream",
     "text": [
      "/work/aa0238/a271093/Scripts/MOAAP/src/Tracking_Functions.py:250: RuntimeWarning: All-NaN slice encountered\n",
      "  obj_min = np.nanmin(data_slice, axis=(1, 2))\n",
      "/work/aa0238/a271093/Scripts/MOAAP/src/Tracking_Functions.py:251: RuntimeWarning: All-NaN slice encountered\n",
      "  obj_max = np.nanmax(data_slice, axis=(1, 2))\n",
      "/work/aa0238/a271093/Scripts/MOAAP/src/Tracking_Functions.py:252: RuntimeWarning: Mean of empty slice\n",
      "  obj_mean = np.nanmean(data_slice, axis=(1, 2))\n",
      "/work/aa0238/a271093/Conda/MOAAP_env/lib/python3.12/site-packages/scipy/ndimage/_measurements.py:1541: RuntimeWarning: invalid value encountered in scalar divide\n",
      "  results = [sum(input * grids[dir].astype(float), labels, index) / normalizer\n"
     ]
    },
    {
     "name": "stdout",
     "output_type": "stream",
     "text": [
      "        00:01:15.68\n",
      " \n",
      "Save the object masks into a joint netCDF\n",
      "Saved: /work/aa0238/a271093/results/MOAAP/IVT_Tracking/NorESM_ssp_remapped_3x/ObjectMasks_MOAPP_ICON_100and85NorESMsspperc_remapped_3x_2016_07_01-2017_02_01.nc\n",
      "        00:00:24.23\n",
      "clean up /work/aa0238/a271093/results/MOAAP/IVT_Tracking/NorESM_ssp_remapped_3x/IVT_MOAPP_ICON_100and85NorESMsspperc_remapped_3x_2016_07_01-2017_01_01.pkl\n",
      "clean up finished\n",
      "clean up /work/aa0238/a271093/results/MOAAP/IVT_Tracking/NorESM_ssp_remapped_3x/ARs_MOAPP_ICON_100and85NorESMsspperc_remapped_3x_2016_07_01-2017_01_01.pkl\n",
      "clean up finished\n",
      "correct nc-file with \n",
      " cdo -selmon,6,7,8,9,10,11,12 /work/aa0238/a271093/results/MOAAP/IVT_Tracking/NorESM_ssp_remapped_3x/ObjectMasks_MOAPP_ICON_100and85NorESMsspperc_remapped_3x_2016_07_01-2017_02_01.nc /work/aa0238/a271093/results/MOAAP/IVT_Tracking/NorESM_ssp_remapped_3x/ObjectMasks_MOAPP_ICON_100and85NorESMsspperc_remapped_3x_2016_07_01-2017_01_01_corrected.nc\n",
      "\n",
      " \n",
      " \n",
      " \n",
      "\n",
      "2017-01-01 00:00:00 2017-08-01 00:00:00\n",
      " \n",
      "The provided variables allow tracking the following phenomena\n",
      " \n",
      "|  phenomenon  | tracking |\n",
      "---------------------------\n",
      "   Jetstream   |   no\n",
      "   PSL CY/ACY  |   no\n",
      "   Z500 CY/ACY |   no\n",
      "   COLs        |   no\n",
      "   IVT ARs     |   yes\n",
      "   MS ARs      |   no\n",
      "   Fronts      |   no\n",
      "   TCs         |   no\n",
      "   MCSs        |   no\n",
      "   Equ. Waves  |   no\n",
      "---------------------------\n",
      " \n",
      "======> track IVT streams and atmospheric rivers (ARs)\n",
      "        3284 object found\n",
      "        break up long living IVT objects that have many elements\n"
     ]
    },
    {
     "name": "stderr",
     "output_type": "stream",
     "text": [
      "100%|██████████| 665/665 [00:27<00:00, 24.29it/s]\n"
     ]
    },
    {
     "name": "stdout",
     "output_type": "stream",
     "text": [
      "        00:00:34.07\n",
      "9\n",
      "            Loop over 1581 objects\n"
     ]
    },
    {
     "name": "stderr",
     "output_type": "stream",
     "text": [
      "/work/aa0238/a271093/Scripts/MOAAP/src/Tracking_Functions.py:250: RuntimeWarning: All-NaN slice encountered\n",
      "  obj_min = np.nanmin(data_slice, axis=(1, 2))\n",
      "/work/aa0238/a271093/Scripts/MOAAP/src/Tracking_Functions.py:251: RuntimeWarning: All-NaN slice encountered\n",
      "  obj_max = np.nanmax(data_slice, axis=(1, 2))\n",
      "/work/aa0238/a271093/Scripts/MOAAP/src/Tracking_Functions.py:252: RuntimeWarning: Mean of empty slice\n",
      "  obj_mean = np.nanmean(data_slice, axis=(1, 2))\n",
      "/work/aa0238/a271093/Conda/MOAAP_env/lib/python3.12/site-packages/scipy/ndimage/_measurements.py:1541: RuntimeWarning: invalid value encountered in scalar divide\n",
      "  results = [sum(input * grids[dir].astype(float), labels, index) / normalizer\n"
     ]
    },
    {
     "name": "stdout",
     "output_type": "stream",
     "text": [
      "        check if MSs quallify as ARs\n"
     ]
    },
    {
     "name": "stderr",
     "output_type": "stream",
     "text": [
      "/work/aa0238/a271093/Scripts/MOAAP/src/Tracking_Functions.py:4588: RuntimeWarning: divide by zero encountered in scalar divide\n",
      "  if DIST.max() / DIST.min() < AR_width_lenght_ratio:\n"
     ]
    },
    {
     "name": "stdout",
     "output_type": "stream",
     "text": [
      "            Loop over 1577 objects\n",
      "        00:01:39.38\n",
      " \n",
      "Save the object masks into a joint netCDF\n",
      "Saved: /work/aa0238/a271093/results/MOAAP/IVT_Tracking/NorESM_ssp_remapped_3x/ObjectMasks_MOAPP_ICON_100and85NorESMsspperc_remapped_3x_2017_01_01-2017_08_01.nc\n",
      "        00:00:23.79\n",
      "clean up /work/aa0238/a271093/results/MOAAP/IVT_Tracking/NorESM_ssp_remapped_3x/IVT_MOAPP_ICON_100and85NorESMsspperc_remapped_3x_2017_01_01-2017_07_01.pkl\n",
      "clean up finished\n",
      "clean up /work/aa0238/a271093/results/MOAAP/IVT_Tracking/NorESM_ssp_remapped_3x/ARs_MOAPP_ICON_100and85NorESMsspperc_remapped_3x_2017_01_01-2017_07_01.pkl\n",
      "clean up finished\n",
      "correct nc-file with \n",
      " cdo -selmon,1,2,3,4,5,6 /work/aa0238/a271093/results/MOAAP/IVT_Tracking/NorESM_ssp_remapped_3x/ObjectMasks_MOAPP_ICON_100and85NorESMsspperc_remapped_3x_2017_01_01-2017_08_01.nc /work/aa0238/a271093/results/MOAAP/IVT_Tracking/NorESM_ssp_remapped_3x/ObjectMasks_MOAPP_ICON_100and85NorESMsspperc_remapped_3x_2017_01_01-2017_07_01_corrected.nc\n",
      "\n",
      " \n",
      " \n",
      " \n",
      "\n",
      "2017-07-01 00:00:00 2018-02-01 00:00:00\n",
      "Mergetime /work/aa0238/a271093/data/Jan_runs/ICON_NorESM_ssp/NorESM_ssp_remapped_3x/IVTu/IVTu_2017010100-2017123123_remapped_3x.nc /work/aa0238/a271093/data/Jan_runs/ICON_NorESM_ssp/NorESM_ssp_remapped_3x/IVTu/IVTu_2018010100-2018123123_remapped_3x.nc  /work/aa0238/a271093/scratch/mergedIVTu_2017_2018_remapped_3x.nc\n",
      "Mergetime /work/aa0238/a271093/data/Jan_runs/ICON_NorESM_ssp/NorESM_ssp_remapped_3x/IVTv/IVTv_2017010100-2017123123_remapped_3x.nc /work/aa0238/a271093/data/Jan_runs/ICON_NorESM_ssp/NorESM_ssp_remapped_3x/IVTv/IVTv_2018010100-2018123123_remapped_3x.nc  /work/aa0238/a271093/scratch/mergedIVTv_2017_2018_remapped_3x.nc\n",
      " \n",
      "The provided variables allow tracking the following phenomena\n",
      " \n",
      "|  phenomenon  | tracking |\n",
      "---------------------------\n",
      "   Jetstream   |   no\n",
      "   PSL CY/ACY  |   no\n",
      "   Z500 CY/ACY |   no\n",
      "   COLs        |   no\n",
      "   IVT ARs     |   yes\n",
      "   MS ARs      |   no\n",
      "   Fronts      |   no\n",
      "   TCs         |   no\n",
      "   MCSs        |   no\n",
      "   Equ. Waves  |   no\n",
      "---------------------------\n",
      " \n",
      "======> track IVT streams and atmospheric rivers (ARs)\n",
      "        2913 object found\n",
      "        break up long living IVT objects that have many elements\n"
     ]
    },
    {
     "name": "stderr",
     "output_type": "stream",
     "text": [
      "100%|██████████| 579/579 [00:21<00:00, 27.04it/s] \n"
     ]
    },
    {
     "name": "stdout",
     "output_type": "stream",
     "text": [
      "        00:00:27.37\n",
      "9\n",
      "            Loop over 1305 objects\n"
     ]
    },
    {
     "name": "stderr",
     "output_type": "stream",
     "text": [
      "/work/aa0238/a271093/Scripts/MOAAP/src/Tracking_Functions.py:250: RuntimeWarning: All-NaN slice encountered\n",
      "  obj_min = np.nanmin(data_slice, axis=(1, 2))\n",
      "/work/aa0238/a271093/Scripts/MOAAP/src/Tracking_Functions.py:251: RuntimeWarning: All-NaN slice encountered\n",
      "  obj_max = np.nanmax(data_slice, axis=(1, 2))\n",
      "/work/aa0238/a271093/Scripts/MOAAP/src/Tracking_Functions.py:252: RuntimeWarning: Mean of empty slice\n",
      "  obj_mean = np.nanmean(data_slice, axis=(1, 2))\n",
      "/work/aa0238/a271093/Conda/MOAAP_env/lib/python3.12/site-packages/scipy/ndimage/_measurements.py:1541: RuntimeWarning: invalid value encountered in scalar divide\n",
      "  results = [sum(input * grids[dir].astype(float), labels, index) / normalizer\n"
     ]
    },
    {
     "name": "stdout",
     "output_type": "stream",
     "text": [
      "        check if MSs quallify as ARs\n"
     ]
    },
    {
     "name": "stderr",
     "output_type": "stream",
     "text": [
      "/work/aa0238/a271093/Scripts/MOAAP/src/Tracking_Functions.py:4588: RuntimeWarning: divide by zero encountered in scalar divide\n",
      "  if DIST.max() / DIST.min() < AR_width_lenght_ratio:\n"
     ]
    },
    {
     "name": "stdout",
     "output_type": "stream",
     "text": [
      "            Loop over 1305 objects\n",
      "        00:01:07.73\n",
      " \n",
      "Save the object masks into a joint netCDF\n",
      "Saved: /work/aa0238/a271093/results/MOAAP/IVT_Tracking/NorESM_ssp_remapped_3x/ObjectMasks_MOAPP_ICON_100and85NorESMsspperc_remapped_3x_2017_07_01-2018_02_01.nc\n",
      "        00:00:26.48\n",
      "clean up /work/aa0238/a271093/results/MOAAP/IVT_Tracking/NorESM_ssp_remapped_3x/IVT_MOAPP_ICON_100and85NorESMsspperc_remapped_3x_2017_07_01-2018_01_01.pkl\n",
      "clean up finished\n",
      "clean up /work/aa0238/a271093/results/MOAAP/IVT_Tracking/NorESM_ssp_remapped_3x/ARs_MOAPP_ICON_100and85NorESMsspperc_remapped_3x_2017_07_01-2018_01_01.pkl\n",
      "clean up finished\n",
      "correct nc-file with \n",
      " cdo -selmon,6,7,8,9,10,11,12 /work/aa0238/a271093/results/MOAAP/IVT_Tracking/NorESM_ssp_remapped_3x/ObjectMasks_MOAPP_ICON_100and85NorESMsspperc_remapped_3x_2017_07_01-2018_02_01.nc /work/aa0238/a271093/results/MOAAP/IVT_Tracking/NorESM_ssp_remapped_3x/ObjectMasks_MOAPP_ICON_100and85NorESMsspperc_remapped_3x_2017_07_01-2018_01_01_corrected.nc\n",
      "\n",
      " \n",
      " \n",
      " \n",
      "\n",
      "2018-01-01 00:00:00 2018-08-01 00:00:00\n",
      " \n",
      "The provided variables allow tracking the following phenomena\n",
      " \n",
      "|  phenomenon  | tracking |\n",
      "---------------------------\n",
      "   Jetstream   |   no\n",
      "   PSL CY/ACY  |   no\n",
      "   Z500 CY/ACY |   no\n",
      "   COLs        |   no\n",
      "   IVT ARs     |   yes\n",
      "   MS ARs      |   no\n",
      "   Fronts      |   no\n",
      "   TCs         |   no\n",
      "   MCSs        |   no\n",
      "   Equ. Waves  |   no\n",
      "---------------------------\n",
      " \n",
      "======> track IVT streams and atmospheric rivers (ARs)\n",
      "        3465 object found\n",
      "        break up long living IVT objects that have many elements\n"
     ]
    },
    {
     "name": "stderr",
     "output_type": "stream",
     "text": [
      "100%|██████████| 687/687 [00:23<00:00, 29.45it/s]\n"
     ]
    },
    {
     "name": "stdout",
     "output_type": "stream",
     "text": [
      "        00:00:29.18\n",
      "9\n",
      "            Loop over 1586 objects\n"
     ]
    },
    {
     "name": "stderr",
     "output_type": "stream",
     "text": [
      "/work/aa0238/a271093/Scripts/MOAAP/src/Tracking_Functions.py:250: RuntimeWarning: All-NaN slice encountered\n",
      "  obj_min = np.nanmin(data_slice, axis=(1, 2))\n",
      "/work/aa0238/a271093/Scripts/MOAAP/src/Tracking_Functions.py:251: RuntimeWarning: All-NaN slice encountered\n",
      "  obj_max = np.nanmax(data_slice, axis=(1, 2))\n",
      "/work/aa0238/a271093/Scripts/MOAAP/src/Tracking_Functions.py:252: RuntimeWarning: Mean of empty slice\n",
      "  obj_mean = np.nanmean(data_slice, axis=(1, 2))\n",
      "/work/aa0238/a271093/Conda/MOAAP_env/lib/python3.12/site-packages/scipy/ndimage/_measurements.py:1541: RuntimeWarning: invalid value encountered in scalar divide\n",
      "  results = [sum(input * grids[dir].astype(float), labels, index) / normalizer\n"
     ]
    },
    {
     "name": "stdout",
     "output_type": "stream",
     "text": [
      "        check if MSs quallify as ARs\n"
     ]
    },
    {
     "name": "stderr",
     "output_type": "stream",
     "text": [
      "/work/aa0238/a271093/Scripts/MOAAP/src/Tracking_Functions.py:4588: RuntimeWarning: divide by zero encountered in scalar divide\n",
      "  if DIST.max() / DIST.min() < AR_width_lenght_ratio:\n"
     ]
    },
    {
     "name": "stdout",
     "output_type": "stream",
     "text": [
      "            Loop over 1586 objects\n",
      "        00:01:14.75\n",
      " \n",
      "Save the object masks into a joint netCDF\n",
      "Saved: /work/aa0238/a271093/results/MOAAP/IVT_Tracking/NorESM_ssp_remapped_3x/ObjectMasks_MOAPP_ICON_100and85NorESMsspperc_remapped_3x_2018_01_01-2018_08_01.nc\n",
      "        00:00:23.99\n",
      "clean up /work/aa0238/a271093/results/MOAAP/IVT_Tracking/NorESM_ssp_remapped_3x/IVT_MOAPP_ICON_100and85NorESMsspperc_remapped_3x_2018_01_01-2018_07_01.pkl\n",
      "clean up finished\n",
      "clean up /work/aa0238/a271093/results/MOAAP/IVT_Tracking/NorESM_ssp_remapped_3x/ARs_MOAPP_ICON_100and85NorESMsspperc_remapped_3x_2018_01_01-2018_07_01.pkl\n",
      "clean up finished\n",
      "correct nc-file with \n",
      " cdo -selmon,1,2,3,4,5,6 /work/aa0238/a271093/results/MOAAP/IVT_Tracking/NorESM_ssp_remapped_3x/ObjectMasks_MOAPP_ICON_100and85NorESMsspperc_remapped_3x_2018_01_01-2018_08_01.nc /work/aa0238/a271093/results/MOAAP/IVT_Tracking/NorESM_ssp_remapped_3x/ObjectMasks_MOAPP_ICON_100and85NorESMsspperc_remapped_3x_2018_01_01-2018_07_01_corrected.nc\n",
      "\n",
      " \n",
      " \n",
      " \n",
      "\n",
      "2018-07-01 00:00:00 2019-02-01 00:00:00\n",
      "Mergetime /work/aa0238/a271093/data/Jan_runs/ICON_NorESM_ssp/NorESM_ssp_remapped_3x/IVTu/IVTu_2018010100-2018123123_remapped_3x.nc /work/aa0238/a271093/data/Jan_runs/ICON_NorESM_ssp/NorESM_ssp_remapped_3x/IVTu/IVTu_2019010100-2019123123_remapped_3x.nc  /work/aa0238/a271093/scratch/mergedIVTu_2018_2019_remapped_3x.nc\n",
      "Mergetime /work/aa0238/a271093/data/Jan_runs/ICON_NorESM_ssp/NorESM_ssp_remapped_3x/IVTv/IVTv_2018010100-2018123123_remapped_3x.nc /work/aa0238/a271093/data/Jan_runs/ICON_NorESM_ssp/NorESM_ssp_remapped_3x/IVTv/IVTv_2019010100-2019123123_remapped_3x.nc  /work/aa0238/a271093/scratch/mergedIVTv_2018_2019_remapped_3x.nc\n",
      " \n",
      "The provided variables allow tracking the following phenomena\n",
      " \n",
      "|  phenomenon  | tracking |\n",
      "---------------------------\n",
      "   Jetstream   |   no\n",
      "   PSL CY/ACY  |   no\n",
      "   Z500 CY/ACY |   no\n",
      "   COLs        |   no\n",
      "   IVT ARs     |   yes\n",
      "   MS ARs      |   no\n",
      "   Fronts      |   no\n",
      "   TCs         |   no\n",
      "   MCSs        |   no\n",
      "   Equ. Waves  |   no\n",
      "---------------------------\n",
      " \n",
      "======> track IVT streams and atmospheric rivers (ARs)\n",
      "        3002 object found\n",
      "        break up long living IVT objects that have many elements\n"
     ]
    },
    {
     "name": "stderr",
     "output_type": "stream",
     "text": [
      "100%|██████████| 596/596 [00:23<00:00, 25.44it/s]\n"
     ]
    },
    {
     "name": "stdout",
     "output_type": "stream",
     "text": [
      "        00:00:29.41\n",
      "9\n",
      "            Loop over 1345 objects\n"
     ]
    },
    {
     "name": "stderr",
     "output_type": "stream",
     "text": [
      "/work/aa0238/a271093/Scripts/MOAAP/src/Tracking_Functions.py:250: RuntimeWarning: All-NaN slice encountered\n",
      "  obj_min = np.nanmin(data_slice, axis=(1, 2))\n",
      "/work/aa0238/a271093/Scripts/MOAAP/src/Tracking_Functions.py:251: RuntimeWarning: All-NaN slice encountered\n",
      "  obj_max = np.nanmax(data_slice, axis=(1, 2))\n",
      "/work/aa0238/a271093/Scripts/MOAAP/src/Tracking_Functions.py:252: RuntimeWarning: Mean of empty slice\n",
      "  obj_mean = np.nanmean(data_slice, axis=(1, 2))\n",
      "/work/aa0238/a271093/Conda/MOAAP_env/lib/python3.12/site-packages/scipy/ndimage/_measurements.py:1541: RuntimeWarning: invalid value encountered in scalar divide\n",
      "  results = [sum(input * grids[dir].astype(float), labels, index) / normalizer\n"
     ]
    },
    {
     "name": "stdout",
     "output_type": "stream",
     "text": [
      "        check if MSs quallify as ARs\n"
     ]
    },
    {
     "name": "stderr",
     "output_type": "stream",
     "text": [
      "/work/aa0238/a271093/Scripts/MOAAP/src/Tracking_Functions.py:4588: RuntimeWarning: divide by zero encountered in scalar divide\n",
      "  if DIST.max() / DIST.min() < AR_width_lenght_ratio:\n"
     ]
    },
    {
     "name": "stdout",
     "output_type": "stream",
     "text": [
      "            Loop over 1345 objects\n",
      "        00:01:10.13\n",
      " \n",
      "Save the object masks into a joint netCDF\n",
      "Saved: /work/aa0238/a271093/results/MOAAP/IVT_Tracking/NorESM_ssp_remapped_3x/ObjectMasks_MOAPP_ICON_100and85NorESMsspperc_remapped_3x_2018_07_01-2019_02_01.nc\n",
      "        00:00:24.07\n",
      "clean up /work/aa0238/a271093/results/MOAAP/IVT_Tracking/NorESM_ssp_remapped_3x/IVT_MOAPP_ICON_100and85NorESMsspperc_remapped_3x_2018_07_01-2019_01_01.pkl\n",
      "clean up finished\n",
      "clean up /work/aa0238/a271093/results/MOAAP/IVT_Tracking/NorESM_ssp_remapped_3x/ARs_MOAPP_ICON_100and85NorESMsspperc_remapped_3x_2018_07_01-2019_01_01.pkl\n",
      "clean up finished\n",
      "correct nc-file with \n",
      " cdo -selmon,6,7,8,9,10,11,12 /work/aa0238/a271093/results/MOAAP/IVT_Tracking/NorESM_ssp_remapped_3x/ObjectMasks_MOAPP_ICON_100and85NorESMsspperc_remapped_3x_2018_07_01-2019_02_01.nc /work/aa0238/a271093/results/MOAAP/IVT_Tracking/NorESM_ssp_remapped_3x/ObjectMasks_MOAPP_ICON_100and85NorESMsspperc_remapped_3x_2018_07_01-2019_01_01_corrected.nc\n",
      "\n",
      " \n",
      " \n",
      " \n",
      "\n",
      "2019-01-01 00:00:00 2019-08-01 00:00:00\n",
      " \n",
      "The provided variables allow tracking the following phenomena\n",
      " \n",
      "|  phenomenon  | tracking |\n",
      "---------------------------\n",
      "   Jetstream   |   no\n",
      "   PSL CY/ACY  |   no\n",
      "   Z500 CY/ACY |   no\n",
      "   COLs        |   no\n",
      "   IVT ARs     |   yes\n",
      "   MS ARs      |   no\n",
      "   Fronts      |   no\n",
      "   TCs         |   no\n",
      "   MCSs        |   no\n",
      "   Equ. Waves  |   no\n",
      "---------------------------\n",
      " \n",
      "======> track IVT streams and atmospheric rivers (ARs)\n",
      "        3213 object found\n",
      "        break up long living IVT objects that have many elements\n"
     ]
    },
    {
     "name": "stderr",
     "output_type": "stream",
     "text": [
      "100%|██████████| 602/602 [00:23<00:00, 25.49it/s] \n"
     ]
    },
    {
     "name": "stdout",
     "output_type": "stream",
     "text": [
      "        00:00:29.74\n",
      "9\n",
      "            Loop over 1555 objects\n"
     ]
    },
    {
     "name": "stderr",
     "output_type": "stream",
     "text": [
      "/work/aa0238/a271093/Scripts/MOAAP/src/Tracking_Functions.py:250: RuntimeWarning: All-NaN slice encountered\n",
      "  obj_min = np.nanmin(data_slice, axis=(1, 2))\n",
      "/work/aa0238/a271093/Scripts/MOAAP/src/Tracking_Functions.py:251: RuntimeWarning: All-NaN slice encountered\n",
      "  obj_max = np.nanmax(data_slice, axis=(1, 2))\n",
      "/work/aa0238/a271093/Scripts/MOAAP/src/Tracking_Functions.py:252: RuntimeWarning: Mean of empty slice\n",
      "  obj_mean = np.nanmean(data_slice, axis=(1, 2))\n",
      "/work/aa0238/a271093/Conda/MOAAP_env/lib/python3.12/site-packages/scipy/ndimage/_measurements.py:1541: RuntimeWarning: invalid value encountered in scalar divide\n",
      "  results = [sum(input * grids[dir].astype(float), labels, index) / normalizer\n"
     ]
    },
    {
     "name": "stdout",
     "output_type": "stream",
     "text": [
      "        check if MSs quallify as ARs\n"
     ]
    },
    {
     "name": "stderr",
     "output_type": "stream",
     "text": [
      "/work/aa0238/a271093/Scripts/MOAAP/src/Tracking_Functions.py:4588: RuntimeWarning: divide by zero encountered in scalar divide\n",
      "  if DIST.max() / DIST.min() < AR_width_lenght_ratio:\n"
     ]
    },
    {
     "name": "stdout",
     "output_type": "stream",
     "text": [
      "            Loop over 1551 objects\n",
      "        00:01:21.23\n",
      " \n",
      "Save the object masks into a joint netCDF\n",
      "Saved: /work/aa0238/a271093/results/MOAAP/IVT_Tracking/NorESM_ssp_remapped_3x/ObjectMasks_MOAPP_ICON_100and85NorESMsspperc_remapped_3x_2019_01_01-2019_08_01.nc\n",
      "        00:00:25.47\n",
      "clean up /work/aa0238/a271093/results/MOAAP/IVT_Tracking/NorESM_ssp_remapped_3x/IVT_MOAPP_ICON_100and85NorESMsspperc_remapped_3x_2019_01_01-2019_07_01.pkl\n",
      "clean up finished\n",
      "clean up /work/aa0238/a271093/results/MOAAP/IVT_Tracking/NorESM_ssp_remapped_3x/ARs_MOAPP_ICON_100and85NorESMsspperc_remapped_3x_2019_01_01-2019_07_01.pkl\n",
      "clean up finished\n",
      "correct nc-file with \n",
      " cdo -selmon,1,2,3,4,5,6 /work/aa0238/a271093/results/MOAAP/IVT_Tracking/NorESM_ssp_remapped_3x/ObjectMasks_MOAPP_ICON_100and85NorESMsspperc_remapped_3x_2019_01_01-2019_08_01.nc /work/aa0238/a271093/results/MOAAP/IVT_Tracking/NorESM_ssp_remapped_3x/ObjectMasks_MOAPP_ICON_100and85NorESMsspperc_remapped_3x_2019_01_01-2019_07_01_corrected.nc\n",
      "\n",
      " \n",
      " \n",
      " \n",
      "\n",
      "2019-07-01 00:00:00 2020-02-01 00:00:00\n",
      "Mergetime /work/aa0238/a271093/data/Jan_runs/ICON_NorESM_ssp/NorESM_ssp_remapped_3x/IVTu/IVTu_2019010100-2019123123_remapped_3x.nc /work/aa0238/a271093/data/Jan_runs/ICON_NorESM_ssp/NorESM_ssp_remapped_3x/IVTu/IVTu_2020010100-2020123123_remapped_3x.nc  /work/aa0238/a271093/scratch/mergedIVTu_2019_2020_remapped_3x.nc\n",
      "Mergetime /work/aa0238/a271093/data/Jan_runs/ICON_NorESM_ssp/NorESM_ssp_remapped_3x/IVTv/IVTv_2019010100-2019123123_remapped_3x.nc /work/aa0238/a271093/data/Jan_runs/ICON_NorESM_ssp/NorESM_ssp_remapped_3x/IVTv/IVTv_2020010100-2020123123_remapped_3x.nc  /work/aa0238/a271093/scratch/mergedIVTv_2019_2020_remapped_3x.nc\n",
      " \n",
      "The provided variables allow tracking the following phenomena\n",
      " \n",
      "|  phenomenon  | tracking |\n",
      "---------------------------\n",
      "   Jetstream   |   no\n",
      "   PSL CY/ACY  |   no\n",
      "   Z500 CY/ACY |   no\n",
      "   COLs        |   no\n",
      "   IVT ARs     |   yes\n",
      "   MS ARs      |   no\n",
      "   Fronts      |   no\n",
      "   TCs         |   no\n",
      "   MCSs        |   no\n",
      "   Equ. Waves  |   no\n",
      "---------------------------\n",
      " \n",
      "======> track IVT streams and atmospheric rivers (ARs)\n",
      "        3020 object found\n",
      "        break up long living IVT objects that have many elements\n"
     ]
    },
    {
     "name": "stderr",
     "output_type": "stream",
     "text": [
      "100%|██████████| 630/630 [00:20<00:00, 30.39it/s]\n"
     ]
    },
    {
     "name": "stdout",
     "output_type": "stream",
     "text": [
      "        00:00:26.76\n",
      "9\n",
      "            Loop over 1378 objects\n",
      "        check if MSs quallify as ARs\n"
     ]
    },
    {
     "name": "stderr",
     "output_type": "stream",
     "text": [
      "/work/aa0238/a271093/Scripts/MOAAP/src/Tracking_Functions.py:4588: RuntimeWarning: divide by zero encountered in scalar divide\n",
      "  if DIST.max() / DIST.min() < AR_width_lenght_ratio:\n"
     ]
    },
    {
     "name": "stdout",
     "output_type": "stream",
     "text": [
      "            Loop over 1378 objects\n"
     ]
    },
    {
     "name": "stderr",
     "output_type": "stream",
     "text": [
      "/work/aa0238/a271093/Scripts/MOAAP/src/Tracking_Functions.py:250: RuntimeWarning: All-NaN slice encountered\n",
      "  obj_min = np.nanmin(data_slice, axis=(1, 2))\n",
      "/work/aa0238/a271093/Scripts/MOAAP/src/Tracking_Functions.py:251: RuntimeWarning: All-NaN slice encountered\n",
      "  obj_max = np.nanmax(data_slice, axis=(1, 2))\n",
      "/work/aa0238/a271093/Scripts/MOAAP/src/Tracking_Functions.py:252: RuntimeWarning: Mean of empty slice\n",
      "  obj_mean = np.nanmean(data_slice, axis=(1, 2))\n",
      "/work/aa0238/a271093/Conda/MOAAP_env/lib/python3.12/site-packages/scipy/ndimage/_measurements.py:1541: RuntimeWarning: invalid value encountered in scalar divide\n",
      "  results = [sum(input * grids[dir].astype(float), labels, index) / normalizer\n"
     ]
    },
    {
     "name": "stdout",
     "output_type": "stream",
     "text": [
      "        00:01:09.04\n",
      " \n",
      "Save the object masks into a joint netCDF\n",
      "Saved: /work/aa0238/a271093/results/MOAAP/IVT_Tracking/NorESM_ssp_remapped_3x/ObjectMasks_MOAPP_ICON_100and85NorESMsspperc_remapped_3x_2019_07_01-2020_02_01.nc\n",
      "        00:00:26.91\n",
      "clean up /work/aa0238/a271093/results/MOAAP/IVT_Tracking/NorESM_ssp_remapped_3x/IVT_MOAPP_ICON_100and85NorESMsspperc_remapped_3x_2019_07_01-2020_01_01.pkl\n",
      "clean up finished\n",
      "clean up /work/aa0238/a271093/results/MOAAP/IVT_Tracking/NorESM_ssp_remapped_3x/ARs_MOAPP_ICON_100and85NorESMsspperc_remapped_3x_2019_07_01-2020_01_01.pkl\n",
      "clean up finished\n",
      "correct nc-file with \n",
      " cdo -selmon,6,7,8,9,10,11,12 /work/aa0238/a271093/results/MOAAP/IVT_Tracking/NorESM_ssp_remapped_3x/ObjectMasks_MOAPP_ICON_100and85NorESMsspperc_remapped_3x_2019_07_01-2020_02_01.nc /work/aa0238/a271093/results/MOAAP/IVT_Tracking/NorESM_ssp_remapped_3x/ObjectMasks_MOAPP_ICON_100and85NorESMsspperc_remapped_3x_2019_07_01-2020_01_01_corrected.nc\n",
      "\n",
      " \n",
      " \n",
      " \n",
      "\n",
      "2020-01-01 00:00:00 2020-08-01 00:00:00\n",
      " \n",
      "The provided variables allow tracking the following phenomena\n",
      " \n",
      "|  phenomenon  | tracking |\n",
      "---------------------------\n",
      "   Jetstream   |   no\n",
      "   PSL CY/ACY  |   no\n",
      "   Z500 CY/ACY |   no\n",
      "   COLs        |   no\n",
      "   IVT ARs     |   yes\n",
      "   MS ARs      |   no\n",
      "   Fronts      |   no\n",
      "   TCs         |   no\n",
      "   MCSs        |   no\n",
      "   Equ. Waves  |   no\n",
      "---------------------------\n",
      " \n",
      "======> track IVT streams and atmospheric rivers (ARs)\n",
      "        3301 object found\n",
      "        break up long living IVT objects that have many elements\n"
     ]
    },
    {
     "name": "stderr",
     "output_type": "stream",
     "text": [
      "100%|██████████| 651/651 [00:23<00:00, 27.19it/s]\n"
     ]
    },
    {
     "name": "stdout",
     "output_type": "stream",
     "text": [
      "        00:00:30.91\n",
      "9\n",
      "            Loop over 1562 objects\n"
     ]
    },
    {
     "name": "stderr",
     "output_type": "stream",
     "text": [
      "/work/aa0238/a271093/Scripts/MOAAP/src/Tracking_Functions.py:250: RuntimeWarning: All-NaN slice encountered\n",
      "  obj_min = np.nanmin(data_slice, axis=(1, 2))\n",
      "/work/aa0238/a271093/Scripts/MOAAP/src/Tracking_Functions.py:251: RuntimeWarning: All-NaN slice encountered\n",
      "  obj_max = np.nanmax(data_slice, axis=(1, 2))\n",
      "/work/aa0238/a271093/Scripts/MOAAP/src/Tracking_Functions.py:252: RuntimeWarning: Mean of empty slice\n",
      "  obj_mean = np.nanmean(data_slice, axis=(1, 2))\n",
      "/work/aa0238/a271093/Conda/MOAAP_env/lib/python3.12/site-packages/scipy/ndimage/_measurements.py:1541: RuntimeWarning: invalid value encountered in scalar divide\n",
      "  results = [sum(input * grids[dir].astype(float), labels, index) / normalizer\n"
     ]
    },
    {
     "name": "stdout",
     "output_type": "stream",
     "text": [
      "        check if MSs quallify as ARs\n"
     ]
    },
    {
     "name": "stderr",
     "output_type": "stream",
     "text": [
      "/work/aa0238/a271093/Scripts/MOAAP/src/Tracking_Functions.py:4588: RuntimeWarning: divide by zero encountered in scalar divide\n",
      "  if DIST.max() / DIST.min() < AR_width_lenght_ratio:\n"
     ]
    },
    {
     "name": "stdout",
     "output_type": "stream",
     "text": [
      "            Loop over 1561 objects\n",
      "        00:01:43.62\n",
      " \n",
      "Save the object masks into a joint netCDF\n",
      "Saved: /work/aa0238/a271093/results/MOAAP/IVT_Tracking/NorESM_ssp_remapped_3x/ObjectMasks_MOAPP_ICON_100and85NorESMsspperc_remapped_3x_2020_01_01-2020_08_01.nc\n",
      "        00:00:28.66\n",
      "clean up /work/aa0238/a271093/results/MOAAP/IVT_Tracking/NorESM_ssp_remapped_3x/IVT_MOAPP_ICON_100and85NorESMsspperc_remapped_3x_2020_01_01-2020_07_01.pkl\n",
      "clean up finished\n",
      "clean up /work/aa0238/a271093/results/MOAAP/IVT_Tracking/NorESM_ssp_remapped_3x/ARs_MOAPP_ICON_100and85NorESMsspperc_remapped_3x_2020_01_01-2020_07_01.pkl\n",
      "clean up finished\n",
      "correct nc-file with \n",
      " cdo -selmon,1,2,3,4,5,6 /work/aa0238/a271093/results/MOAAP/IVT_Tracking/NorESM_ssp_remapped_3x/ObjectMasks_MOAPP_ICON_100and85NorESMsspperc_remapped_3x_2020_01_01-2020_08_01.nc /work/aa0238/a271093/results/MOAAP/IVT_Tracking/NorESM_ssp_remapped_3x/ObjectMasks_MOAPP_ICON_100and85NorESMsspperc_remapped_3x_2020_01_01-2020_07_01_corrected.nc\n",
      "\n",
      " \n",
      " \n",
      " \n",
      "\n",
      "2020-07-01 00:00:00 2021-02-01 00:00:00\n",
      "Mergetime /work/aa0238/a271093/data/Jan_runs/ICON_NorESM_ssp/NorESM_ssp_remapped_3x/IVTu/IVTu_2020010100-2020123123_remapped_3x.nc /work/aa0238/a271093/data/Jan_runs/ICON_NorESM_ssp/NorESM_ssp_remapped_3x/IVTu/IVTu_2021010100-2021123123_remapped_3x.nc  /work/aa0238/a271093/scratch/mergedIVTu_2020_2021_remapped_3x.nc\n",
      "Mergetime /work/aa0238/a271093/data/Jan_runs/ICON_NorESM_ssp/NorESM_ssp_remapped_3x/IVTv/IVTv_2020010100-2020123123_remapped_3x.nc /work/aa0238/a271093/data/Jan_runs/ICON_NorESM_ssp/NorESM_ssp_remapped_3x/IVTv/IVTv_2021010100-2021123123_remapped_3x.nc  /work/aa0238/a271093/scratch/mergedIVTv_2020_2021_remapped_3x.nc\n",
      " \n",
      "The provided variables allow tracking the following phenomena\n",
      " \n",
      "|  phenomenon  | tracking |\n",
      "---------------------------\n",
      "   Jetstream   |   no\n",
      "   PSL CY/ACY  |   no\n",
      "   Z500 CY/ACY |   no\n",
      "   COLs        |   no\n",
      "   IVT ARs     |   yes\n",
      "   MS ARs      |   no\n",
      "   Fronts      |   no\n",
      "   TCs         |   no\n",
      "   MCSs        |   no\n",
      "   Equ. Waves  |   no\n",
      "---------------------------\n",
      " \n",
      "======> track IVT streams and atmospheric rivers (ARs)\n",
      "        2996 object found\n",
      "        break up long living IVT objects that have many elements\n"
     ]
    },
    {
     "name": "stderr",
     "output_type": "stream",
     "text": [
      "100%|██████████| 590/590 [00:23<00:00, 24.97it/s]\n"
     ]
    },
    {
     "name": "stdout",
     "output_type": "stream",
     "text": [
      "        00:00:29.58\n",
      "9\n",
      "            Loop over 1291 objects\n"
     ]
    },
    {
     "name": "stderr",
     "output_type": "stream",
     "text": [
      "/work/aa0238/a271093/Scripts/MOAAP/src/Tracking_Functions.py:250: RuntimeWarning: All-NaN slice encountered\n",
      "  obj_min = np.nanmin(data_slice, axis=(1, 2))\n",
      "/work/aa0238/a271093/Scripts/MOAAP/src/Tracking_Functions.py:251: RuntimeWarning: All-NaN slice encountered\n",
      "  obj_max = np.nanmax(data_slice, axis=(1, 2))\n",
      "/work/aa0238/a271093/Scripts/MOAAP/src/Tracking_Functions.py:252: RuntimeWarning: Mean of empty slice\n",
      "  obj_mean = np.nanmean(data_slice, axis=(1, 2))\n",
      "/work/aa0238/a271093/Conda/MOAAP_env/lib/python3.12/site-packages/scipy/ndimage/_measurements.py:1541: RuntimeWarning: invalid value encountered in scalar divide\n",
      "  results = [sum(input * grids[dir].astype(float), labels, index) / normalizer\n"
     ]
    },
    {
     "name": "stdout",
     "output_type": "stream",
     "text": [
      "        check if MSs quallify as ARs\n"
     ]
    },
    {
     "name": "stderr",
     "output_type": "stream",
     "text": [
      "/work/aa0238/a271093/Scripts/MOAAP/src/Tracking_Functions.py:4588: RuntimeWarning: divide by zero encountered in scalar divide\n",
      "  if DIST.max() / DIST.min() < AR_width_lenght_ratio:\n"
     ]
    },
    {
     "name": "stdout",
     "output_type": "stream",
     "text": [
      "            Loop over 1291 objects\n",
      "        00:01:11.99\n",
      " \n",
      "Save the object masks into a joint netCDF\n",
      "Saved: /work/aa0238/a271093/results/MOAAP/IVT_Tracking/NorESM_ssp_remapped_3x/ObjectMasks_MOAPP_ICON_100and85NorESMsspperc_remapped_3x_2020_07_01-2021_02_01.nc\n",
      "        00:00:26.87\n",
      "clean up /work/aa0238/a271093/results/MOAAP/IVT_Tracking/NorESM_ssp_remapped_3x/IVT_MOAPP_ICON_100and85NorESMsspperc_remapped_3x_2020_07_01-2021_01_01.pkl\n",
      "clean up finished\n",
      "clean up /work/aa0238/a271093/results/MOAAP/IVT_Tracking/NorESM_ssp_remapped_3x/ARs_MOAPP_ICON_100and85NorESMsspperc_remapped_3x_2020_07_01-2021_01_01.pkl\n",
      "clean up finished\n",
      "correct nc-file with \n",
      " cdo -selmon,6,7,8,9,10,11,12 /work/aa0238/a271093/results/MOAAP/IVT_Tracking/NorESM_ssp_remapped_3x/ObjectMasks_MOAPP_ICON_100and85NorESMsspperc_remapped_3x_2020_07_01-2021_02_01.nc /work/aa0238/a271093/results/MOAAP/IVT_Tracking/NorESM_ssp_remapped_3x/ObjectMasks_MOAPP_ICON_100and85NorESMsspperc_remapped_3x_2020_07_01-2021_01_01_corrected.nc\n",
      "\n",
      " \n",
      " \n",
      " \n",
      "\n",
      "2021-01-01 00:00:00 2021-08-01 00:00:00\n",
      " \n",
      "The provided variables allow tracking the following phenomena\n",
      " \n",
      "|  phenomenon  | tracking |\n",
      "---------------------------\n",
      "   Jetstream   |   no\n",
      "   PSL CY/ACY  |   no\n",
      "   Z500 CY/ACY |   no\n",
      "   COLs        |   no\n",
      "   IVT ARs     |   yes\n",
      "   MS ARs      |   no\n",
      "   Fronts      |   no\n",
      "   TCs         |   no\n",
      "   MCSs        |   no\n",
      "   Equ. Waves  |   no\n",
      "---------------------------\n",
      " \n",
      "======> track IVT streams and atmospheric rivers (ARs)\n",
      "        3320 object found\n",
      "        break up long living IVT objects that have many elements\n"
     ]
    },
    {
     "name": "stderr",
     "output_type": "stream",
     "text": [
      "100%|██████████| 594/594 [00:24<00:00, 24.68it/s] \n"
     ]
    },
    {
     "name": "stdout",
     "output_type": "stream",
     "text": [
      "        00:00:29.74\n",
      "9\n",
      "            Loop over 1415 objects\n"
     ]
    },
    {
     "name": "stderr",
     "output_type": "stream",
     "text": [
      "/work/aa0238/a271093/Scripts/MOAAP/src/Tracking_Functions.py:250: RuntimeWarning: All-NaN slice encountered\n",
      "  obj_min = np.nanmin(data_slice, axis=(1, 2))\n",
      "/work/aa0238/a271093/Scripts/MOAAP/src/Tracking_Functions.py:251: RuntimeWarning: All-NaN slice encountered\n",
      "  obj_max = np.nanmax(data_slice, axis=(1, 2))\n",
      "/work/aa0238/a271093/Scripts/MOAAP/src/Tracking_Functions.py:252: RuntimeWarning: Mean of empty slice\n",
      "  obj_mean = np.nanmean(data_slice, axis=(1, 2))\n",
      "/work/aa0238/a271093/Conda/MOAAP_env/lib/python3.12/site-packages/scipy/ndimage/_measurements.py:1541: RuntimeWarning: invalid value encountered in scalar divide\n",
      "  results = [sum(input * grids[dir].astype(float), labels, index) / normalizer\n"
     ]
    },
    {
     "name": "stdout",
     "output_type": "stream",
     "text": [
      "        check if MSs quallify as ARs\n"
     ]
    },
    {
     "name": "stderr",
     "output_type": "stream",
     "text": [
      "/work/aa0238/a271093/Scripts/MOAAP/src/Tracking_Functions.py:4588: RuntimeWarning: divide by zero encountered in scalar divide\n",
      "  if DIST.max() / DIST.min() < AR_width_lenght_ratio:\n"
     ]
    },
    {
     "name": "stdout",
     "output_type": "stream",
     "text": [
      "            Loop over 1411 objects\n",
      "        00:01:12.17\n",
      " \n",
      "Save the object masks into a joint netCDF\n",
      "Saved: /work/aa0238/a271093/results/MOAAP/IVT_Tracking/NorESM_ssp_remapped_3x/ObjectMasks_MOAPP_ICON_100and85NorESMsspperc_remapped_3x_2021_01_01-2021_08_01.nc\n",
      "        00:00:26.41\n",
      "clean up /work/aa0238/a271093/results/MOAAP/IVT_Tracking/NorESM_ssp_remapped_3x/IVT_MOAPP_ICON_100and85NorESMsspperc_remapped_3x_2021_01_01-2021_07_01.pkl\n",
      "clean up finished\n",
      "clean up /work/aa0238/a271093/results/MOAAP/IVT_Tracking/NorESM_ssp_remapped_3x/ARs_MOAPP_ICON_100and85NorESMsspperc_remapped_3x_2021_01_01-2021_07_01.pkl\n",
      "clean up finished\n",
      "correct nc-file with \n",
      " cdo -selmon,1,2,3,4,5,6 /work/aa0238/a271093/results/MOAAP/IVT_Tracking/NorESM_ssp_remapped_3x/ObjectMasks_MOAPP_ICON_100and85NorESMsspperc_remapped_3x_2021_01_01-2021_08_01.nc /work/aa0238/a271093/results/MOAAP/IVT_Tracking/NorESM_ssp_remapped_3x/ObjectMasks_MOAPP_ICON_100and85NorESMsspperc_remapped_3x_2021_01_01-2021_07_01_corrected.nc\n",
      "\n",
      " \n",
      " \n",
      " \n",
      "\n",
      "2021-07-01 00:00:00 2022-02-01 00:00:00\n",
      "Mergetime /work/aa0238/a271093/data/Jan_runs/ICON_NorESM_ssp/NorESM_ssp_remapped_3x/IVTu/IVTu_2021010100-2021123123_remapped_3x.nc /work/aa0238/a271093/data/Jan_runs/ICON_NorESM_ssp/NorESM_ssp_remapped_3x/IVTu/IVTu_2022010100-2022123123_remapped_3x.nc  /work/aa0238/a271093/scratch/mergedIVTu_2021_2022_remapped_3x.nc\n",
      "Mergetime /work/aa0238/a271093/data/Jan_runs/ICON_NorESM_ssp/NorESM_ssp_remapped_3x/IVTv/IVTv_2021010100-2021123123_remapped_3x.nc /work/aa0238/a271093/data/Jan_runs/ICON_NorESM_ssp/NorESM_ssp_remapped_3x/IVTv/IVTv_2022010100-2022123123_remapped_3x.nc  /work/aa0238/a271093/scratch/mergedIVTv_2021_2022_remapped_3x.nc\n",
      " \n",
      "The provided variables allow tracking the following phenomena\n",
      " \n",
      "|  phenomenon  | tracking |\n",
      "---------------------------\n",
      "   Jetstream   |   no\n",
      "   PSL CY/ACY  |   no\n",
      "   Z500 CY/ACY |   no\n",
      "   COLs        |   no\n",
      "   IVT ARs     |   yes\n",
      "   MS ARs      |   no\n",
      "   Fronts      |   no\n",
      "   TCs         |   no\n",
      "   MCSs        |   no\n",
      "   Equ. Waves  |   no\n",
      "---------------------------\n",
      " \n",
      "======> track IVT streams and atmospheric rivers (ARs)\n",
      "        2971 object found\n",
      "        break up long living IVT objects that have many elements\n"
     ]
    },
    {
     "name": "stderr",
     "output_type": "stream",
     "text": [
      "100%|██████████| 660/660 [00:22<00:00, 28.90it/s]\n"
     ]
    },
    {
     "name": "stdout",
     "output_type": "stream",
     "text": [
      "        00:00:29.05\n",
      "9\n",
      "            Loop over 1379 objects\n"
     ]
    },
    {
     "name": "stderr",
     "output_type": "stream",
     "text": [
      "/work/aa0238/a271093/Scripts/MOAAP/src/Tracking_Functions.py:250: RuntimeWarning: All-NaN slice encountered\n",
      "  obj_min = np.nanmin(data_slice, axis=(1, 2))\n",
      "/work/aa0238/a271093/Scripts/MOAAP/src/Tracking_Functions.py:251: RuntimeWarning: All-NaN slice encountered\n",
      "  obj_max = np.nanmax(data_slice, axis=(1, 2))\n",
      "/work/aa0238/a271093/Scripts/MOAAP/src/Tracking_Functions.py:252: RuntimeWarning: Mean of empty slice\n",
      "  obj_mean = np.nanmean(data_slice, axis=(1, 2))\n",
      "/work/aa0238/a271093/Conda/MOAAP_env/lib/python3.12/site-packages/scipy/ndimage/_measurements.py:1541: RuntimeWarning: invalid value encountered in scalar divide\n",
      "  results = [sum(input * grids[dir].astype(float), labels, index) / normalizer\n"
     ]
    },
    {
     "name": "stdout",
     "output_type": "stream",
     "text": [
      "        check if MSs quallify as ARs\n"
     ]
    },
    {
     "name": "stderr",
     "output_type": "stream",
     "text": [
      "/work/aa0238/a271093/Scripts/MOAAP/src/Tracking_Functions.py:4588: RuntimeWarning: divide by zero encountered in scalar divide\n",
      "  if DIST.max() / DIST.min() < AR_width_lenght_ratio:\n"
     ]
    },
    {
     "name": "stdout",
     "output_type": "stream",
     "text": [
      "            Loop over 1372 objects\n",
      "        00:01:13.15\n",
      " \n",
      "Save the object masks into a joint netCDF\n",
      "Saved: /work/aa0238/a271093/results/MOAAP/IVT_Tracking/NorESM_ssp_remapped_3x/ObjectMasks_MOAPP_ICON_100and85NorESMsspperc_remapped_3x_2021_07_01-2022_02_01.nc\n",
      "        00:00:26.36\n",
      "clean up /work/aa0238/a271093/results/MOAAP/IVT_Tracking/NorESM_ssp_remapped_3x/IVT_MOAPP_ICON_100and85NorESMsspperc_remapped_3x_2021_07_01-2022_01_01.pkl\n",
      "clean up finished\n",
      "clean up /work/aa0238/a271093/results/MOAAP/IVT_Tracking/NorESM_ssp_remapped_3x/ARs_MOAPP_ICON_100and85NorESMsspperc_remapped_3x_2021_07_01-2022_01_01.pkl\n",
      "clean up finished\n",
      "correct nc-file with \n",
      " cdo -selmon,6,7,8,9,10,11,12 /work/aa0238/a271093/results/MOAAP/IVT_Tracking/NorESM_ssp_remapped_3x/ObjectMasks_MOAPP_ICON_100and85NorESMsspperc_remapped_3x_2021_07_01-2022_02_01.nc /work/aa0238/a271093/results/MOAAP/IVT_Tracking/NorESM_ssp_remapped_3x/ObjectMasks_MOAPP_ICON_100and85NorESMsspperc_remapped_3x_2021_07_01-2022_01_01_corrected.nc\n",
      "\n",
      " \n",
      " \n",
      " \n",
      "\n",
      "2022-01-01 00:00:00 2022-08-01 00:00:00\n",
      " \n",
      "The provided variables allow tracking the following phenomena\n",
      " \n",
      "|  phenomenon  | tracking |\n",
      "---------------------------\n",
      "   Jetstream   |   no\n",
      "   PSL CY/ACY  |   no\n",
      "   Z500 CY/ACY |   no\n",
      "   COLs        |   no\n",
      "   IVT ARs     |   yes\n",
      "   MS ARs      |   no\n",
      "   Fronts      |   no\n",
      "   TCs         |   no\n",
      "   MCSs        |   no\n",
      "   Equ. Waves  |   no\n",
      "---------------------------\n",
      " \n",
      "======> track IVT streams and atmospheric rivers (ARs)\n",
      "        3348 object found\n",
      "        break up long living IVT objects that have many elements\n"
     ]
    },
    {
     "name": "stderr",
     "output_type": "stream",
     "text": [
      "100%|██████████| 614/614 [00:22<00:00, 26.92it/s] \n"
     ]
    },
    {
     "name": "stdout",
     "output_type": "stream",
     "text": [
      "        00:00:28.54\n",
      "9\n",
      "            Loop over 1451 objects\n"
     ]
    },
    {
     "name": "stderr",
     "output_type": "stream",
     "text": [
      "/work/aa0238/a271093/Scripts/MOAAP/src/Tracking_Functions.py:250: RuntimeWarning: All-NaN slice encountered\n",
      "  obj_min = np.nanmin(data_slice, axis=(1, 2))\n",
      "/work/aa0238/a271093/Scripts/MOAAP/src/Tracking_Functions.py:251: RuntimeWarning: All-NaN slice encountered\n",
      "  obj_max = np.nanmax(data_slice, axis=(1, 2))\n",
      "/work/aa0238/a271093/Scripts/MOAAP/src/Tracking_Functions.py:252: RuntimeWarning: Mean of empty slice\n",
      "  obj_mean = np.nanmean(data_slice, axis=(1, 2))\n",
      "/work/aa0238/a271093/Conda/MOAAP_env/lib/python3.12/site-packages/scipy/ndimage/_measurements.py:1541: RuntimeWarning: invalid value encountered in scalar divide\n",
      "  results = [sum(input * grids[dir].astype(float), labels, index) / normalizer\n"
     ]
    },
    {
     "name": "stdout",
     "output_type": "stream",
     "text": [
      "        check if MSs quallify as ARs\n"
     ]
    },
    {
     "name": "stderr",
     "output_type": "stream",
     "text": [
      "/work/aa0238/a271093/Scripts/MOAAP/src/Tracking_Functions.py:4588: RuntimeWarning: divide by zero encountered in scalar divide\n",
      "  if DIST.max() / DIST.min() < AR_width_lenght_ratio:\n"
     ]
    },
    {
     "name": "stdout",
     "output_type": "stream",
     "text": [
      "            Loop over 1451 objects\n",
      "        00:01:11.72\n",
      " \n",
      "Save the object masks into a joint netCDF\n",
      "Saved: /work/aa0238/a271093/results/MOAAP/IVT_Tracking/NorESM_ssp_remapped_3x/ObjectMasks_MOAPP_ICON_100and85NorESMsspperc_remapped_3x_2022_01_01-2022_08_01.nc\n",
      "        00:00:24.51\n",
      "clean up /work/aa0238/a271093/results/MOAAP/IVT_Tracking/NorESM_ssp_remapped_3x/IVT_MOAPP_ICON_100and85NorESMsspperc_remapped_3x_2022_01_01-2022_07_01.pkl\n",
      "clean up finished\n",
      "clean up /work/aa0238/a271093/results/MOAAP/IVT_Tracking/NorESM_ssp_remapped_3x/ARs_MOAPP_ICON_100and85NorESMsspperc_remapped_3x_2022_01_01-2022_07_01.pkl\n",
      "clean up finished\n",
      "correct nc-file with \n",
      " cdo -selmon,1,2,3,4,5,6 /work/aa0238/a271093/results/MOAAP/IVT_Tracking/NorESM_ssp_remapped_3x/ObjectMasks_MOAPP_ICON_100and85NorESMsspperc_remapped_3x_2022_01_01-2022_08_01.nc /work/aa0238/a271093/results/MOAAP/IVT_Tracking/NorESM_ssp_remapped_3x/ObjectMasks_MOAPP_ICON_100and85NorESMsspperc_remapped_3x_2022_01_01-2022_07_01_corrected.nc\n",
      "\n",
      " \n",
      " \n",
      " \n",
      "\n",
      "2022-07-01 00:00:00 2023-02-01 00:00:00\n",
      "Mergetime /work/aa0238/a271093/data/Jan_runs/ICON_NorESM_ssp/NorESM_ssp_remapped_3x/IVTu/IVTu_2022010100-2022123123_remapped_3x.nc /work/aa0238/a271093/data/Jan_runs/ICON_NorESM_ssp/NorESM_ssp_remapped_3x/IVTu/IVTu_2023010100-2023123123_remapped_3x.nc  /work/aa0238/a271093/scratch/mergedIVTu_2022_2023_remapped_3x.nc\n",
      "Mergetime /work/aa0238/a271093/data/Jan_runs/ICON_NorESM_ssp/NorESM_ssp_remapped_3x/IVTv/IVTv_2022010100-2022123123_remapped_3x.nc /work/aa0238/a271093/data/Jan_runs/ICON_NorESM_ssp/NorESM_ssp_remapped_3x/IVTv/IVTv_2023010100-2023123123_remapped_3x.nc  /work/aa0238/a271093/scratch/mergedIVTv_2022_2023_remapped_3x.nc\n",
      " \n",
      "The provided variables allow tracking the following phenomena\n",
      " \n",
      "|  phenomenon  | tracking |\n",
      "---------------------------\n",
      "   Jetstream   |   no\n",
      "   PSL CY/ACY  |   no\n",
      "   Z500 CY/ACY |   no\n",
      "   COLs        |   no\n",
      "   IVT ARs     |   yes\n",
      "   MS ARs      |   no\n",
      "   Fronts      |   no\n",
      "   TCs         |   no\n",
      "   MCSs        |   no\n",
      "   Equ. Waves  |   no\n",
      "---------------------------\n",
      " \n",
      "======> track IVT streams and atmospheric rivers (ARs)\n",
      "        3134 object found\n",
      "        break up long living IVT objects that have many elements\n"
     ]
    },
    {
     "name": "stderr",
     "output_type": "stream",
     "text": [
      "100%|██████████| 534/534 [00:22<00:00, 24.02it/s] \n"
     ]
    },
    {
     "name": "stdout",
     "output_type": "stream",
     "text": [
      "        00:00:28.89\n",
      "9\n",
      "            Loop over 1345 objects\n"
     ]
    },
    {
     "name": "stderr",
     "output_type": "stream",
     "text": [
      "/work/aa0238/a271093/Scripts/MOAAP/src/Tracking_Functions.py:250: RuntimeWarning: All-NaN slice encountered\n",
      "  obj_min = np.nanmin(data_slice, axis=(1, 2))\n",
      "/work/aa0238/a271093/Scripts/MOAAP/src/Tracking_Functions.py:251: RuntimeWarning: All-NaN slice encountered\n",
      "  obj_max = np.nanmax(data_slice, axis=(1, 2))\n",
      "/work/aa0238/a271093/Scripts/MOAAP/src/Tracking_Functions.py:252: RuntimeWarning: Mean of empty slice\n",
      "  obj_mean = np.nanmean(data_slice, axis=(1, 2))\n",
      "/work/aa0238/a271093/Conda/MOAAP_env/lib/python3.12/site-packages/scipy/ndimage/_measurements.py:1541: RuntimeWarning: invalid value encountered in scalar divide\n",
      "  results = [sum(input * grids[dir].astype(float), labels, index) / normalizer\n"
     ]
    },
    {
     "name": "stdout",
     "output_type": "stream",
     "text": [
      "        check if MSs quallify as ARs\n"
     ]
    },
    {
     "name": "stderr",
     "output_type": "stream",
     "text": [
      "/work/aa0238/a271093/Scripts/MOAAP/src/Tracking_Functions.py:4588: RuntimeWarning: divide by zero encountered in scalar divide\n",
      "  if DIST.max() / DIST.min() < AR_width_lenght_ratio:\n"
     ]
    },
    {
     "name": "stdout",
     "output_type": "stream",
     "text": [
      "            Loop over 1345 objects\n",
      "        00:01:25.60\n",
      " \n",
      "Save the object masks into a joint netCDF\n",
      "Saved: /work/aa0238/a271093/results/MOAAP/IVT_Tracking/NorESM_ssp_remapped_3x/ObjectMasks_MOAPP_ICON_100and85NorESMsspperc_remapped_3x_2022_07_01-2023_02_01.nc\n",
      "        00:00:25.70\n",
      "clean up /work/aa0238/a271093/results/MOAAP/IVT_Tracking/NorESM_ssp_remapped_3x/IVT_MOAPP_ICON_100and85NorESMsspperc_remapped_3x_2022_07_01-2023_01_01.pkl\n",
      "clean up finished\n",
      "clean up /work/aa0238/a271093/results/MOAAP/IVT_Tracking/NorESM_ssp_remapped_3x/ARs_MOAPP_ICON_100and85NorESMsspperc_remapped_3x_2022_07_01-2023_01_01.pkl\n",
      "clean up finished\n",
      "correct nc-file with \n",
      " cdo -selmon,6,7,8,9,10,11,12 /work/aa0238/a271093/results/MOAAP/IVT_Tracking/NorESM_ssp_remapped_3x/ObjectMasks_MOAPP_ICON_100and85NorESMsspperc_remapped_3x_2022_07_01-2023_02_01.nc /work/aa0238/a271093/results/MOAAP/IVT_Tracking/NorESM_ssp_remapped_3x/ObjectMasks_MOAPP_ICON_100and85NorESMsspperc_remapped_3x_2022_07_01-2023_01_01_corrected.nc\n",
      "\n",
      " \n",
      " \n",
      " \n",
      "\n",
      "2023-01-01 00:00:00 2023-08-01 00:00:00\n",
      " \n",
      "The provided variables allow tracking the following phenomena\n",
      " \n",
      "|  phenomenon  | tracking |\n",
      "---------------------------\n",
      "   Jetstream   |   no\n",
      "   PSL CY/ACY  |   no\n",
      "   Z500 CY/ACY |   no\n",
      "   COLs        |   no\n",
      "   IVT ARs     |   yes\n",
      "   MS ARs      |   no\n",
      "   Fronts      |   no\n",
      "   TCs         |   no\n",
      "   MCSs        |   no\n",
      "   Equ. Waves  |   no\n",
      "---------------------------\n",
      " \n",
      "======> track IVT streams and atmospheric rivers (ARs)\n",
      "        3485 object found\n",
      "        break up long living IVT objects that have many elements\n"
     ]
    },
    {
     "name": "stderr",
     "output_type": "stream",
     "text": [
      "100%|██████████| 646/646 [00:23<00:00, 27.08it/s]\n"
     ]
    },
    {
     "name": "stdout",
     "output_type": "stream",
     "text": [
      "        00:00:29.66\n",
      "9\n",
      "            Loop over 1537 objects\n"
     ]
    },
    {
     "name": "stderr",
     "output_type": "stream",
     "text": [
      "/work/aa0238/a271093/Scripts/MOAAP/src/Tracking_Functions.py:250: RuntimeWarning: All-NaN slice encountered\n",
      "  obj_min = np.nanmin(data_slice, axis=(1, 2))\n",
      "/work/aa0238/a271093/Scripts/MOAAP/src/Tracking_Functions.py:251: RuntimeWarning: All-NaN slice encountered\n",
      "  obj_max = np.nanmax(data_slice, axis=(1, 2))\n",
      "/work/aa0238/a271093/Scripts/MOAAP/src/Tracking_Functions.py:252: RuntimeWarning: Mean of empty slice\n",
      "  obj_mean = np.nanmean(data_slice, axis=(1, 2))\n",
      "/work/aa0238/a271093/Conda/MOAAP_env/lib/python3.12/site-packages/scipy/ndimage/_measurements.py:1541: RuntimeWarning: invalid value encountered in scalar divide\n",
      "  results = [sum(input * grids[dir].astype(float), labels, index) / normalizer\n"
     ]
    },
    {
     "name": "stdout",
     "output_type": "stream",
     "text": [
      "        check if MSs quallify as ARs\n"
     ]
    },
    {
     "name": "stderr",
     "output_type": "stream",
     "text": [
      "/work/aa0238/a271093/Scripts/MOAAP/src/Tracking_Functions.py:4588: RuntimeWarning: divide by zero encountered in scalar divide\n",
      "  if DIST.max() / DIST.min() < AR_width_lenght_ratio:\n"
     ]
    },
    {
     "name": "stdout",
     "output_type": "stream",
     "text": [
      "            Loop over 1535 objects\n",
      "        00:01:16.96\n",
      " \n",
      "Save the object masks into a joint netCDF\n",
      "Saved: /work/aa0238/a271093/results/MOAAP/IVT_Tracking/NorESM_ssp_remapped_3x/ObjectMasks_MOAPP_ICON_100and85NorESMsspperc_remapped_3x_2023_01_01-2023_08_01.nc\n",
      "        00:00:24.45\n",
      "clean up /work/aa0238/a271093/results/MOAAP/IVT_Tracking/NorESM_ssp_remapped_3x/IVT_MOAPP_ICON_100and85NorESMsspperc_remapped_3x_2023_01_01-2023_07_01.pkl\n",
      "clean up finished\n",
      "clean up /work/aa0238/a271093/results/MOAAP/IVT_Tracking/NorESM_ssp_remapped_3x/ARs_MOAPP_ICON_100and85NorESMsspperc_remapped_3x_2023_01_01-2023_07_01.pkl\n",
      "clean up finished\n",
      "correct nc-file with \n",
      " cdo -selmon,1,2,3,4,5,6 /work/aa0238/a271093/results/MOAAP/IVT_Tracking/NorESM_ssp_remapped_3x/ObjectMasks_MOAPP_ICON_100and85NorESMsspperc_remapped_3x_2023_01_01-2023_08_01.nc /work/aa0238/a271093/results/MOAAP/IVT_Tracking/NorESM_ssp_remapped_3x/ObjectMasks_MOAPP_ICON_100and85NorESMsspperc_remapped_3x_2023_01_01-2023_07_01_corrected.nc\n",
      "\n",
      " \n",
      " \n",
      " \n",
      "\n",
      "2023-07-01 00:00:00 2024-02-01 00:00:00\n",
      "Mergetime /work/aa0238/a271093/data/Jan_runs/ICON_NorESM_ssp/NorESM_ssp_remapped_3x/IVTu/IVTu_2023010100-2023123123_remapped_3x.nc /work/aa0238/a271093/data/Jan_runs/ICON_NorESM_ssp/NorESM_ssp_remapped_3x/IVTu/IVTu_2024010100-2024123123_remapped_3x.nc  /work/aa0238/a271093/scratch/mergedIVTu_2023_2024_remapped_3x.nc\n",
      "Mergetime /work/aa0238/a271093/data/Jan_runs/ICON_NorESM_ssp/NorESM_ssp_remapped_3x/IVTv/IVTv_2023010100-2023123123_remapped_3x.nc /work/aa0238/a271093/data/Jan_runs/ICON_NorESM_ssp/NorESM_ssp_remapped_3x/IVTv/IVTv_2024010100-2024123123_remapped_3x.nc  /work/aa0238/a271093/scratch/mergedIVTv_2023_2024_remapped_3x.nc\n",
      " \n",
      "The provided variables allow tracking the following phenomena\n",
      " \n",
      "|  phenomenon  | tracking |\n",
      "---------------------------\n",
      "   Jetstream   |   no\n",
      "   PSL CY/ACY  |   no\n",
      "   Z500 CY/ACY |   no\n",
      "   COLs        |   no\n",
      "   IVT ARs     |   yes\n",
      "   MS ARs      |   no\n",
      "   Fronts      |   no\n",
      "   TCs         |   no\n",
      "   MCSs        |   no\n",
      "   Equ. Waves  |   no\n",
      "---------------------------\n",
      " \n",
      "======> track IVT streams and atmospheric rivers (ARs)\n",
      "        3147 object found\n",
      "        break up long living IVT objects that have many elements\n"
     ]
    },
    {
     "name": "stderr",
     "output_type": "stream",
     "text": [
      "100%|██████████| 634/634 [00:23<00:00, 27.24it/s]\n"
     ]
    },
    {
     "name": "stdout",
     "output_type": "stream",
     "text": [
      "        00:00:29.56\n",
      "9\n",
      "            Loop over 1398 objects\n"
     ]
    },
    {
     "name": "stderr",
     "output_type": "stream",
     "text": [
      "/work/aa0238/a271093/Scripts/MOAAP/src/Tracking_Functions.py:250: RuntimeWarning: All-NaN slice encountered\n",
      "  obj_min = np.nanmin(data_slice, axis=(1, 2))\n",
      "/work/aa0238/a271093/Scripts/MOAAP/src/Tracking_Functions.py:251: RuntimeWarning: All-NaN slice encountered\n",
      "  obj_max = np.nanmax(data_slice, axis=(1, 2))\n",
      "/work/aa0238/a271093/Scripts/MOAAP/src/Tracking_Functions.py:252: RuntimeWarning: Mean of empty slice\n",
      "  obj_mean = np.nanmean(data_slice, axis=(1, 2))\n",
      "/work/aa0238/a271093/Conda/MOAAP_env/lib/python3.12/site-packages/scipy/ndimage/_measurements.py:1541: RuntimeWarning: invalid value encountered in scalar divide\n",
      "  results = [sum(input * grids[dir].astype(float), labels, index) / normalizer\n"
     ]
    },
    {
     "name": "stdout",
     "output_type": "stream",
     "text": [
      "        check if MSs quallify as ARs\n"
     ]
    },
    {
     "name": "stderr",
     "output_type": "stream",
     "text": [
      "/work/aa0238/a271093/Scripts/MOAAP/src/Tracking_Functions.py:4588: RuntimeWarning: divide by zero encountered in scalar divide\n",
      "  if DIST.max() / DIST.min() < AR_width_lenght_ratio:\n"
     ]
    },
    {
     "name": "stdout",
     "output_type": "stream",
     "text": [
      "            Loop over 1398 objects\n",
      "        00:01:10.56\n",
      " \n",
      "Save the object masks into a joint netCDF\n",
      "Saved: /work/aa0238/a271093/results/MOAAP/IVT_Tracking/NorESM_ssp_remapped_3x/ObjectMasks_MOAPP_ICON_100and85NorESMsspperc_remapped_3x_2023_07_01-2024_02_01.nc\n",
      "        00:00:24.23\n",
      "clean up /work/aa0238/a271093/results/MOAAP/IVT_Tracking/NorESM_ssp_remapped_3x/IVT_MOAPP_ICON_100and85NorESMsspperc_remapped_3x_2023_07_01-2024_01_01.pkl\n",
      "clean up finished\n",
      "clean up /work/aa0238/a271093/results/MOAAP/IVT_Tracking/NorESM_ssp_remapped_3x/ARs_MOAPP_ICON_100and85NorESMsspperc_remapped_3x_2023_07_01-2024_01_01.pkl\n",
      "clean up finished\n",
      "correct nc-file with \n",
      " cdo -selmon,6,7,8,9,10,11,12 /work/aa0238/a271093/results/MOAAP/IVT_Tracking/NorESM_ssp_remapped_3x/ObjectMasks_MOAPP_ICON_100and85NorESMsspperc_remapped_3x_2023_07_01-2024_02_01.nc /work/aa0238/a271093/results/MOAAP/IVT_Tracking/NorESM_ssp_remapped_3x/ObjectMasks_MOAPP_ICON_100and85NorESMsspperc_remapped_3x_2023_07_01-2024_01_01_corrected.nc\n",
      "\n",
      " \n",
      " \n",
      " \n",
      "\n",
      "2024-01-01 00:00:00 2024-08-01 00:00:00\n",
      " \n",
      "The provided variables allow tracking the following phenomena\n",
      " \n",
      "|  phenomenon  | tracking |\n",
      "---------------------------\n",
      "   Jetstream   |   no\n",
      "   PSL CY/ACY  |   no\n",
      "   Z500 CY/ACY |   no\n",
      "   COLs        |   no\n",
      "   IVT ARs     |   yes\n",
      "   MS ARs      |   no\n",
      "   Fronts      |   no\n",
      "   TCs         |   no\n",
      "   MCSs        |   no\n",
      "   Equ. Waves  |   no\n",
      "---------------------------\n",
      " \n",
      "======> track IVT streams and atmospheric rivers (ARs)\n",
      "        3235 object found\n",
      "        break up long living IVT objects that have many elements\n"
     ]
    },
    {
     "name": "stderr",
     "output_type": "stream",
     "text": [
      "100%|██████████| 636/636 [00:22<00:00, 28.53it/s]\n"
     ]
    },
    {
     "name": "stdout",
     "output_type": "stream",
     "text": [
      "        00:00:27.86\n",
      "9\n",
      "            Loop over 1487 objects\n"
     ]
    },
    {
     "name": "stderr",
     "output_type": "stream",
     "text": [
      "/work/aa0238/a271093/Scripts/MOAAP/src/Tracking_Functions.py:250: RuntimeWarning: All-NaN slice encountered\n",
      "  obj_min = np.nanmin(data_slice, axis=(1, 2))\n",
      "/work/aa0238/a271093/Scripts/MOAAP/src/Tracking_Functions.py:251: RuntimeWarning: All-NaN slice encountered\n",
      "  obj_max = np.nanmax(data_slice, axis=(1, 2))\n",
      "/work/aa0238/a271093/Scripts/MOAAP/src/Tracking_Functions.py:252: RuntimeWarning: Mean of empty slice\n",
      "  obj_mean = np.nanmean(data_slice, axis=(1, 2))\n",
      "/work/aa0238/a271093/Conda/MOAAP_env/lib/python3.12/site-packages/scipy/ndimage/_measurements.py:1541: RuntimeWarning: invalid value encountered in scalar divide\n",
      "  results = [sum(input * grids[dir].astype(float), labels, index) / normalizer\n"
     ]
    },
    {
     "name": "stdout",
     "output_type": "stream",
     "text": [
      "        check if MSs quallify as ARs\n"
     ]
    },
    {
     "name": "stderr",
     "output_type": "stream",
     "text": [
      "/work/aa0238/a271093/Scripts/MOAAP/src/Tracking_Functions.py:4588: RuntimeWarning: divide by zero encountered in scalar divide\n",
      "  if DIST.max() / DIST.min() < AR_width_lenght_ratio:\n"
     ]
    },
    {
     "name": "stdout",
     "output_type": "stream",
     "text": [
      "            Loop over 1486 objects\n",
      "        00:01:08.83\n",
      " \n",
      "Save the object masks into a joint netCDF\n",
      "Saved: /work/aa0238/a271093/results/MOAAP/IVT_Tracking/NorESM_ssp_remapped_3x/ObjectMasks_MOAPP_ICON_100and85NorESMsspperc_remapped_3x_2024_01_01-2024_08_01.nc\n",
      "        00:00:24.56\n",
      "clean up /work/aa0238/a271093/results/MOAAP/IVT_Tracking/NorESM_ssp_remapped_3x/IVT_MOAPP_ICON_100and85NorESMsspperc_remapped_3x_2024_01_01-2024_07_01.pkl\n",
      "clean up finished\n",
      "clean up /work/aa0238/a271093/results/MOAAP/IVT_Tracking/NorESM_ssp_remapped_3x/ARs_MOAPP_ICON_100and85NorESMsspperc_remapped_3x_2024_01_01-2024_07_01.pkl\n",
      "clean up finished\n",
      "correct nc-file with \n",
      " cdo -selmon,1,2,3,4,5,6 /work/aa0238/a271093/results/MOAAP/IVT_Tracking/NorESM_ssp_remapped_3x/ObjectMasks_MOAPP_ICON_100and85NorESMsspperc_remapped_3x_2024_01_01-2024_08_01.nc /work/aa0238/a271093/results/MOAAP/IVT_Tracking/NorESM_ssp_remapped_3x/ObjectMasks_MOAPP_ICON_100and85NorESMsspperc_remapped_3x_2024_01_01-2024_07_01_corrected.nc\n",
      "\n",
      " \n",
      " \n",
      " \n",
      "\n",
      "2024-07-01 00:00:00 2025-02-01 00:00:00\n",
      "Mergetime /work/aa0238/a271093/data/Jan_runs/ICON_NorESM_ssp/NorESM_ssp_remapped_3x/IVTu/IVTu_2024010100-2024123123_remapped_3x.nc /work/aa0238/a271093/data/Jan_runs/ICON_NorESM_ssp/NorESM_ssp_remapped_3x/IVTu/IVTu_2025010100-2025123123_remapped_3x.nc  /work/aa0238/a271093/scratch/mergedIVTu_2024_2025_remapped_3x.nc\n",
      "Mergetime /work/aa0238/a271093/data/Jan_runs/ICON_NorESM_ssp/NorESM_ssp_remapped_3x/IVTv/IVTv_2024010100-2024123123_remapped_3x.nc /work/aa0238/a271093/data/Jan_runs/ICON_NorESM_ssp/NorESM_ssp_remapped_3x/IVTv/IVTv_2025010100-2025123123_remapped_3x.nc  /work/aa0238/a271093/scratch/mergedIVTv_2024_2025_remapped_3x.nc\n",
      " \n",
      "The provided variables allow tracking the following phenomena\n",
      " \n",
      "|  phenomenon  | tracking |\n",
      "---------------------------\n",
      "   Jetstream   |   no\n",
      "   PSL CY/ACY  |   no\n",
      "   Z500 CY/ACY |   no\n",
      "   COLs        |   no\n",
      "   IVT ARs     |   yes\n",
      "   MS ARs      |   no\n",
      "   Fronts      |   no\n",
      "   TCs         |   no\n",
      "   MCSs        |   no\n",
      "   Equ. Waves  |   no\n",
      "---------------------------\n",
      " \n",
      "======> track IVT streams and atmospheric rivers (ARs)\n",
      "        2728 object found\n",
      "        break up long living IVT objects that have many elements\n"
     ]
    },
    {
     "name": "stderr",
     "output_type": "stream",
     "text": [
      "100%|██████████| 556/556 [00:21<00:00, 25.28it/s]\n"
     ]
    },
    {
     "name": "stdout",
     "output_type": "stream",
     "text": [
      "        00:00:27.94\n",
      "9\n",
      "            Loop over 1283 objects\n"
     ]
    },
    {
     "name": "stderr",
     "output_type": "stream",
     "text": [
      "/work/aa0238/a271093/Scripts/MOAAP/src/Tracking_Functions.py:250: RuntimeWarning: All-NaN slice encountered\n",
      "  obj_min = np.nanmin(data_slice, axis=(1, 2))\n",
      "/work/aa0238/a271093/Scripts/MOAAP/src/Tracking_Functions.py:251: RuntimeWarning: All-NaN slice encountered\n",
      "  obj_max = np.nanmax(data_slice, axis=(1, 2))\n",
      "/work/aa0238/a271093/Scripts/MOAAP/src/Tracking_Functions.py:252: RuntimeWarning: Mean of empty slice\n",
      "  obj_mean = np.nanmean(data_slice, axis=(1, 2))\n",
      "/work/aa0238/a271093/Conda/MOAAP_env/lib/python3.12/site-packages/scipy/ndimage/_measurements.py:1541: RuntimeWarning: invalid value encountered in scalar divide\n",
      "  results = [sum(input * grids[dir].astype(float), labels, index) / normalizer\n"
     ]
    },
    {
     "name": "stdout",
     "output_type": "stream",
     "text": [
      "        check if MSs quallify as ARs\n"
     ]
    },
    {
     "name": "stderr",
     "output_type": "stream",
     "text": [
      "/work/aa0238/a271093/Scripts/MOAAP/src/Tracking_Functions.py:4588: RuntimeWarning: divide by zero encountered in scalar divide\n",
      "  if DIST.max() / DIST.min() < AR_width_lenght_ratio:\n"
     ]
    },
    {
     "name": "stdout",
     "output_type": "stream",
     "text": [
      "            Loop over 1282 objects\n",
      "        00:01:11.94\n",
      " \n",
      "Save the object masks into a joint netCDF\n",
      "Saved: /work/aa0238/a271093/results/MOAAP/IVT_Tracking/NorESM_ssp_remapped_3x/ObjectMasks_MOAPP_ICON_100and85NorESMsspperc_remapped_3x_2024_07_01-2025_02_01.nc\n",
      "        00:00:25.04\n",
      "clean up /work/aa0238/a271093/results/MOAAP/IVT_Tracking/NorESM_ssp_remapped_3x/IVT_MOAPP_ICON_100and85NorESMsspperc_remapped_3x_2024_07_01-2025_01_01.pkl\n",
      "clean up finished\n",
      "clean up /work/aa0238/a271093/results/MOAAP/IVT_Tracking/NorESM_ssp_remapped_3x/ARs_MOAPP_ICON_100and85NorESMsspperc_remapped_3x_2024_07_01-2025_01_01.pkl\n",
      "clean up finished\n",
      "correct nc-file with \n",
      " cdo -selmon,6,7,8,9,10,11,12 /work/aa0238/a271093/results/MOAAP/IVT_Tracking/NorESM_ssp_remapped_3x/ObjectMasks_MOAPP_ICON_100and85NorESMsspperc_remapped_3x_2024_07_01-2025_02_01.nc /work/aa0238/a271093/results/MOAAP/IVT_Tracking/NorESM_ssp_remapped_3x/ObjectMasks_MOAPP_ICON_100and85NorESMsspperc_remapped_3x_2024_07_01-2025_01_01_corrected.nc\n",
      "\n",
      " \n",
      " \n",
      " \n",
      "\n",
      "2025-01-01 00:00:00 2025-08-01 00:00:00\n",
      " \n",
      "The provided variables allow tracking the following phenomena\n",
      " \n",
      "|  phenomenon  | tracking |\n",
      "---------------------------\n",
      "   Jetstream   |   no\n",
      "   PSL CY/ACY  |   no\n",
      "   Z500 CY/ACY |   no\n",
      "   COLs        |   no\n",
      "   IVT ARs     |   yes\n",
      "   MS ARs      |   no\n",
      "   Fronts      |   no\n",
      "   TCs         |   no\n",
      "   MCSs        |   no\n",
      "   Equ. Waves  |   no\n",
      "---------------------------\n",
      " \n",
      "======> track IVT streams and atmospheric rivers (ARs)\n",
      "        3119 object found\n",
      "        break up long living IVT objects that have many elements\n"
     ]
    },
    {
     "name": "stderr",
     "output_type": "stream",
     "text": [
      "100%|██████████| 589/589 [00:23<00:00, 25.32it/s]\n"
     ]
    },
    {
     "name": "stdout",
     "output_type": "stream",
     "text": [
      "        00:00:29.13\n",
      "9\n",
      "            Loop over 1417 objects\n"
     ]
    },
    {
     "name": "stderr",
     "output_type": "stream",
     "text": [
      "/work/aa0238/a271093/Scripts/MOAAP/src/Tracking_Functions.py:250: RuntimeWarning: All-NaN slice encountered\n",
      "  obj_min = np.nanmin(data_slice, axis=(1, 2))\n",
      "/work/aa0238/a271093/Scripts/MOAAP/src/Tracking_Functions.py:251: RuntimeWarning: All-NaN slice encountered\n",
      "  obj_max = np.nanmax(data_slice, axis=(1, 2))\n",
      "/work/aa0238/a271093/Scripts/MOAAP/src/Tracking_Functions.py:252: RuntimeWarning: Mean of empty slice\n",
      "  obj_mean = np.nanmean(data_slice, axis=(1, 2))\n",
      "/work/aa0238/a271093/Conda/MOAAP_env/lib/python3.12/site-packages/scipy/ndimage/_measurements.py:1541: RuntimeWarning: invalid value encountered in scalar divide\n",
      "  results = [sum(input * grids[dir].astype(float), labels, index) / normalizer\n"
     ]
    },
    {
     "name": "stdout",
     "output_type": "stream",
     "text": [
      "        check if MSs quallify as ARs\n"
     ]
    },
    {
     "name": "stderr",
     "output_type": "stream",
     "text": [
      "/work/aa0238/a271093/Scripts/MOAAP/src/Tracking_Functions.py:4588: RuntimeWarning: divide by zero encountered in scalar divide\n",
      "  if DIST.max() / DIST.min() < AR_width_lenght_ratio:\n"
     ]
    },
    {
     "name": "stdout",
     "output_type": "stream",
     "text": [
      "            Loop over 1417 objects\n",
      "        00:01:15.21\n",
      " \n",
      "Save the object masks into a joint netCDF\n",
      "Saved: /work/aa0238/a271093/results/MOAAP/IVT_Tracking/NorESM_ssp_remapped_3x/ObjectMasks_MOAPP_ICON_100and85NorESMsspperc_remapped_3x_2025_01_01-2025_08_01.nc\n",
      "        00:00:24.57\n",
      "clean up /work/aa0238/a271093/results/MOAAP/IVT_Tracking/NorESM_ssp_remapped_3x/IVT_MOAPP_ICON_100and85NorESMsspperc_remapped_3x_2025_01_01-2025_07_01.pkl\n",
      "clean up finished\n",
      "clean up /work/aa0238/a271093/results/MOAAP/IVT_Tracking/NorESM_ssp_remapped_3x/ARs_MOAPP_ICON_100and85NorESMsspperc_remapped_3x_2025_01_01-2025_07_01.pkl\n",
      "clean up finished\n",
      "correct nc-file with \n",
      " cdo -selmon,1,2,3,4,5,6 /work/aa0238/a271093/results/MOAAP/IVT_Tracking/NorESM_ssp_remapped_3x/ObjectMasks_MOAPP_ICON_100and85NorESMsspperc_remapped_3x_2025_01_01-2025_08_01.nc /work/aa0238/a271093/results/MOAAP/IVT_Tracking/NorESM_ssp_remapped_3x/ObjectMasks_MOAPP_ICON_100and85NorESMsspperc_remapped_3x_2025_01_01-2025_07_01_corrected.nc\n",
      "\n",
      " \n",
      " \n",
      " \n",
      "\n",
      "2025-07-01 00:00:00 2026-02-01 00:00:00\n",
      "Mergetime /work/aa0238/a271093/data/Jan_runs/ICON_NorESM_ssp/NorESM_ssp_remapped_3x/IVTu/IVTu_2025010100-2025123123_remapped_3x.nc /work/aa0238/a271093/data/Jan_runs/ICON_NorESM_ssp/NorESM_ssp_remapped_3x/IVTu/IVTu_2026010100-2026123123_remapped_3x.nc  /work/aa0238/a271093/scratch/mergedIVTu_2025_2026_remapped_3x.nc\n",
      "Mergetime /work/aa0238/a271093/data/Jan_runs/ICON_NorESM_ssp/NorESM_ssp_remapped_3x/IVTv/IVTv_2025010100-2025123123_remapped_3x.nc /work/aa0238/a271093/data/Jan_runs/ICON_NorESM_ssp/NorESM_ssp_remapped_3x/IVTv/IVTv_2026010100-2026123123_remapped_3x.nc  /work/aa0238/a271093/scratch/mergedIVTv_2025_2026_remapped_3x.nc\n",
      " \n",
      "The provided variables allow tracking the following phenomena\n",
      " \n",
      "|  phenomenon  | tracking |\n",
      "---------------------------\n",
      "   Jetstream   |   no\n",
      "   PSL CY/ACY  |   no\n",
      "   Z500 CY/ACY |   no\n",
      "   COLs        |   no\n",
      "   IVT ARs     |   yes\n",
      "   MS ARs      |   no\n",
      "   Fronts      |   no\n",
      "   TCs         |   no\n",
      "   MCSs        |   no\n",
      "   Equ. Waves  |   no\n",
      "---------------------------\n",
      " \n",
      "======> track IVT streams and atmospheric rivers (ARs)\n",
      "        2752 object found\n",
      "        break up long living IVT objects that have many elements\n"
     ]
    },
    {
     "name": "stderr",
     "output_type": "stream",
     "text": [
      "100%|██████████| 558/558 [00:20<00:00, 27.71it/s]\n"
     ]
    },
    {
     "name": "stdout",
     "output_type": "stream",
     "text": [
      "        00:00:25.89\n",
      "9\n",
      "            Loop over 1313 objects\n"
     ]
    },
    {
     "name": "stderr",
     "output_type": "stream",
     "text": [
      "/work/aa0238/a271093/Scripts/MOAAP/src/Tracking_Functions.py:250: RuntimeWarning: All-NaN slice encountered\n",
      "  obj_min = np.nanmin(data_slice, axis=(1, 2))\n",
      "/work/aa0238/a271093/Scripts/MOAAP/src/Tracking_Functions.py:251: RuntimeWarning: All-NaN slice encountered\n",
      "  obj_max = np.nanmax(data_slice, axis=(1, 2))\n",
      "/work/aa0238/a271093/Scripts/MOAAP/src/Tracking_Functions.py:252: RuntimeWarning: Mean of empty slice\n",
      "  obj_mean = np.nanmean(data_slice, axis=(1, 2))\n",
      "/work/aa0238/a271093/Conda/MOAAP_env/lib/python3.12/site-packages/scipy/ndimage/_measurements.py:1541: RuntimeWarning: invalid value encountered in scalar divide\n",
      "  results = [sum(input * grids[dir].astype(float), labels, index) / normalizer\n"
     ]
    },
    {
     "name": "stdout",
     "output_type": "stream",
     "text": [
      "        check if MSs quallify as ARs\n"
     ]
    },
    {
     "name": "stderr",
     "output_type": "stream",
     "text": [
      "/work/aa0238/a271093/Scripts/MOAAP/src/Tracking_Functions.py:4588: RuntimeWarning: divide by zero encountered in scalar divide\n",
      "  if DIST.max() / DIST.min() < AR_width_lenght_ratio:\n"
     ]
    },
    {
     "name": "stdout",
     "output_type": "stream",
     "text": [
      "            Loop over 1312 objects\n",
      "        00:01:06.84\n",
      " \n",
      "Save the object masks into a joint netCDF\n",
      "Saved: /work/aa0238/a271093/results/MOAAP/IVT_Tracking/NorESM_ssp_remapped_3x/ObjectMasks_MOAPP_ICON_100and85NorESMsspperc_remapped_3x_2025_07_01-2026_02_01.nc\n",
      "        00:00:27.02\n",
      "clean up /work/aa0238/a271093/results/MOAAP/IVT_Tracking/NorESM_ssp_remapped_3x/IVT_MOAPP_ICON_100and85NorESMsspperc_remapped_3x_2025_07_01-2026_01_01.pkl\n",
      "clean up finished\n",
      "clean up /work/aa0238/a271093/results/MOAAP/IVT_Tracking/NorESM_ssp_remapped_3x/ARs_MOAPP_ICON_100and85NorESMsspperc_remapped_3x_2025_07_01-2026_01_01.pkl\n",
      "clean up finished\n",
      "correct nc-file with \n",
      " cdo -selmon,6,7,8,9,10,11,12 /work/aa0238/a271093/results/MOAAP/IVT_Tracking/NorESM_ssp_remapped_3x/ObjectMasks_MOAPP_ICON_100and85NorESMsspperc_remapped_3x_2025_07_01-2026_02_01.nc /work/aa0238/a271093/results/MOAAP/IVT_Tracking/NorESM_ssp_remapped_3x/ObjectMasks_MOAPP_ICON_100and85NorESMsspperc_remapped_3x_2025_07_01-2026_01_01_corrected.nc\n",
      "\n",
      " \n",
      " \n",
      " \n",
      "\n",
      "2026-01-01 00:00:00 2026-08-01 00:00:00\n",
      " \n",
      "The provided variables allow tracking the following phenomena\n",
      " \n",
      "|  phenomenon  | tracking |\n",
      "---------------------------\n",
      "   Jetstream   |   no\n",
      "   PSL CY/ACY  |   no\n",
      "   Z500 CY/ACY |   no\n",
      "   COLs        |   no\n",
      "   IVT ARs     |   yes\n",
      "   MS ARs      |   no\n",
      "   Fronts      |   no\n",
      "   TCs         |   no\n",
      "   MCSs        |   no\n",
      "   Equ. Waves  |   no\n",
      "---------------------------\n",
      " \n",
      "======> track IVT streams and atmospheric rivers (ARs)\n",
      "        3373 object found\n",
      "        break up long living IVT objects that have many elements\n"
     ]
    },
    {
     "name": "stderr",
     "output_type": "stream",
     "text": [
      "100%|██████████| 630/630 [00:23<00:00, 26.44it/s]\n"
     ]
    },
    {
     "name": "stdout",
     "output_type": "stream",
     "text": [
      "        00:00:30.15\n",
      "9\n",
      "            Loop over 1568 objects\n"
     ]
    },
    {
     "name": "stderr",
     "output_type": "stream",
     "text": [
      "/work/aa0238/a271093/Scripts/MOAAP/src/Tracking_Functions.py:250: RuntimeWarning: All-NaN slice encountered\n",
      "  obj_min = np.nanmin(data_slice, axis=(1, 2))\n",
      "/work/aa0238/a271093/Scripts/MOAAP/src/Tracking_Functions.py:251: RuntimeWarning: All-NaN slice encountered\n",
      "  obj_max = np.nanmax(data_slice, axis=(1, 2))\n",
      "/work/aa0238/a271093/Scripts/MOAAP/src/Tracking_Functions.py:252: RuntimeWarning: Mean of empty slice\n",
      "  obj_mean = np.nanmean(data_slice, axis=(1, 2))\n",
      "/work/aa0238/a271093/Conda/MOAAP_env/lib/python3.12/site-packages/scipy/ndimage/_measurements.py:1541: RuntimeWarning: invalid value encountered in scalar divide\n",
      "  results = [sum(input * grids[dir].astype(float), labels, index) / normalizer\n"
     ]
    },
    {
     "name": "stdout",
     "output_type": "stream",
     "text": [
      "        check if MSs quallify as ARs\n"
     ]
    },
    {
     "name": "stderr",
     "output_type": "stream",
     "text": [
      "/work/aa0238/a271093/Scripts/MOAAP/src/Tracking_Functions.py:4588: RuntimeWarning: divide by zero encountered in scalar divide\n",
      "  if DIST.max() / DIST.min() < AR_width_lenght_ratio:\n"
     ]
    },
    {
     "name": "stdout",
     "output_type": "stream",
     "text": [
      "            Loop over 1566 objects\n",
      "        00:01:17.98\n",
      " \n",
      "Save the object masks into a joint netCDF\n",
      "Saved: /work/aa0238/a271093/results/MOAAP/IVT_Tracking/NorESM_ssp_remapped_3x/ObjectMasks_MOAPP_ICON_100and85NorESMsspperc_remapped_3x_2026_01_01-2026_08_01.nc\n",
      "        00:00:25.34\n",
      "clean up /work/aa0238/a271093/results/MOAAP/IVT_Tracking/NorESM_ssp_remapped_3x/IVT_MOAPP_ICON_100and85NorESMsspperc_remapped_3x_2026_01_01-2026_07_01.pkl\n",
      "clean up finished\n",
      "clean up /work/aa0238/a271093/results/MOAAP/IVT_Tracking/NorESM_ssp_remapped_3x/ARs_MOAPP_ICON_100and85NorESMsspperc_remapped_3x_2026_01_01-2026_07_01.pkl\n",
      "clean up finished\n",
      "correct nc-file with \n",
      " cdo -selmon,1,2,3,4,5,6 /work/aa0238/a271093/results/MOAAP/IVT_Tracking/NorESM_ssp_remapped_3x/ObjectMasks_MOAPP_ICON_100and85NorESMsspperc_remapped_3x_2026_01_01-2026_08_01.nc /work/aa0238/a271093/results/MOAAP/IVT_Tracking/NorESM_ssp_remapped_3x/ObjectMasks_MOAPP_ICON_100and85NorESMsspperc_remapped_3x_2026_01_01-2026_07_01_corrected.nc\n",
      "\n",
      " \n",
      " \n",
      " \n",
      "\n",
      "2026-07-01 00:00:00 2027-02-01 00:00:00\n",
      "Mergetime /work/aa0238/a271093/data/Jan_runs/ICON_NorESM_ssp/NorESM_ssp_remapped_3x/IVTu/IVTu_2026010100-2026123123_remapped_3x.nc /work/aa0238/a271093/data/Jan_runs/ICON_NorESM_ssp/NorESM_ssp_remapped_3x/IVTu/IVTu_2027010100-2027123123_remapped_3x.nc  /work/aa0238/a271093/scratch/mergedIVTu_2026_2027_remapped_3x.nc\n",
      "Mergetime /work/aa0238/a271093/data/Jan_runs/ICON_NorESM_ssp/NorESM_ssp_remapped_3x/IVTv/IVTv_2026010100-2026123123_remapped_3x.nc /work/aa0238/a271093/data/Jan_runs/ICON_NorESM_ssp/NorESM_ssp_remapped_3x/IVTv/IVTv_2027010100-2027123123_remapped_3x.nc  /work/aa0238/a271093/scratch/mergedIVTv_2026_2027_remapped_3x.nc\n",
      " \n",
      "The provided variables allow tracking the following phenomena\n",
      " \n",
      "|  phenomenon  | tracking |\n",
      "---------------------------\n",
      "   Jetstream   |   no\n",
      "   PSL CY/ACY  |   no\n",
      "   Z500 CY/ACY |   no\n",
      "   COLs        |   no\n",
      "   IVT ARs     |   yes\n",
      "   MS ARs      |   no\n",
      "   Fronts      |   no\n",
      "   TCs         |   no\n",
      "   MCSs        |   no\n",
      "   Equ. Waves  |   no\n",
      "---------------------------\n",
      " \n",
      "======> track IVT streams and atmospheric rivers (ARs)\n",
      "        3117 object found\n",
      "        break up long living IVT objects that have many elements\n"
     ]
    },
    {
     "name": "stderr",
     "output_type": "stream",
     "text": [
      "100%|██████████| 552/552 [00:21<00:00, 25.10it/s]\n"
     ]
    },
    {
     "name": "stdout",
     "output_type": "stream",
     "text": [
      "        00:00:28.02\n",
      "9\n",
      "            Loop over 1386 objects\n"
     ]
    },
    {
     "name": "stderr",
     "output_type": "stream",
     "text": [
      "/work/aa0238/a271093/Scripts/MOAAP/src/Tracking_Functions.py:250: RuntimeWarning: All-NaN slice encountered\n",
      "  obj_min = np.nanmin(data_slice, axis=(1, 2))\n",
      "/work/aa0238/a271093/Scripts/MOAAP/src/Tracking_Functions.py:251: RuntimeWarning: All-NaN slice encountered\n",
      "  obj_max = np.nanmax(data_slice, axis=(1, 2))\n",
      "/work/aa0238/a271093/Scripts/MOAAP/src/Tracking_Functions.py:252: RuntimeWarning: Mean of empty slice\n",
      "  obj_mean = np.nanmean(data_slice, axis=(1, 2))\n",
      "/work/aa0238/a271093/Conda/MOAAP_env/lib/python3.12/site-packages/scipy/ndimage/_measurements.py:1541: RuntimeWarning: invalid value encountered in scalar divide\n",
      "  results = [sum(input * grids[dir].astype(float), labels, index) / normalizer\n"
     ]
    },
    {
     "name": "stdout",
     "output_type": "stream",
     "text": [
      "        check if MSs quallify as ARs\n"
     ]
    },
    {
     "name": "stderr",
     "output_type": "stream",
     "text": [
      "/work/aa0238/a271093/Scripts/MOAAP/src/Tracking_Functions.py:4588: RuntimeWarning: divide by zero encountered in scalar divide\n",
      "  if DIST.max() / DIST.min() < AR_width_lenght_ratio:\n"
     ]
    },
    {
     "name": "stdout",
     "output_type": "stream",
     "text": [
      "            Loop over 1384 objects\n",
      "        00:01:10.45\n",
      " \n",
      "Save the object masks into a joint netCDF\n",
      "Saved: /work/aa0238/a271093/results/MOAAP/IVT_Tracking/NorESM_ssp_remapped_3x/ObjectMasks_MOAPP_ICON_100and85NorESMsspperc_remapped_3x_2026_07_01-2027_02_01.nc\n",
      "        00:00:26.87\n",
      "clean up /work/aa0238/a271093/results/MOAAP/IVT_Tracking/NorESM_ssp_remapped_3x/IVT_MOAPP_ICON_100and85NorESMsspperc_remapped_3x_2026_07_01-2027_01_01.pkl\n",
      "clean up finished\n",
      "clean up /work/aa0238/a271093/results/MOAAP/IVT_Tracking/NorESM_ssp_remapped_3x/ARs_MOAPP_ICON_100and85NorESMsspperc_remapped_3x_2026_07_01-2027_01_01.pkl\n",
      "clean up finished\n",
      "correct nc-file with \n",
      " cdo -selmon,6,7,8,9,10,11,12 /work/aa0238/a271093/results/MOAAP/IVT_Tracking/NorESM_ssp_remapped_3x/ObjectMasks_MOAPP_ICON_100and85NorESMsspperc_remapped_3x_2026_07_01-2027_02_01.nc /work/aa0238/a271093/results/MOAAP/IVT_Tracking/NorESM_ssp_remapped_3x/ObjectMasks_MOAPP_ICON_100and85NorESMsspperc_remapped_3x_2026_07_01-2027_01_01_corrected.nc\n",
      "\n",
      " \n",
      " \n",
      " \n",
      "\n",
      "2027-01-01 00:00:00 2027-08-01 00:00:00\n",
      " \n",
      "The provided variables allow tracking the following phenomena\n",
      " \n",
      "|  phenomenon  | tracking |\n",
      "---------------------------\n",
      "   Jetstream   |   no\n",
      "   PSL CY/ACY  |   no\n",
      "   Z500 CY/ACY |   no\n",
      "   COLs        |   no\n",
      "   IVT ARs     |   yes\n",
      "   MS ARs      |   no\n",
      "   Fronts      |   no\n",
      "   TCs         |   no\n",
      "   MCSs        |   no\n",
      "   Equ. Waves  |   no\n",
      "---------------------------\n",
      " \n",
      "======> track IVT streams and atmospheric rivers (ARs)\n",
      "        3344 object found\n",
      "        break up long living IVT objects that have many elements\n"
     ]
    },
    {
     "name": "stderr",
     "output_type": "stream",
     "text": [
      "100%|██████████| 645/645 [00:23<00:00, 27.54it/s]\n"
     ]
    },
    {
     "name": "stdout",
     "output_type": "stream",
     "text": [
      "        00:00:29.94\n",
      "9\n",
      "            Loop over 1645 objects\n"
     ]
    },
    {
     "name": "stderr",
     "output_type": "stream",
     "text": [
      "/work/aa0238/a271093/Scripts/MOAAP/src/Tracking_Functions.py:250: RuntimeWarning: All-NaN slice encountered\n",
      "  obj_min = np.nanmin(data_slice, axis=(1, 2))\n",
      "/work/aa0238/a271093/Scripts/MOAAP/src/Tracking_Functions.py:251: RuntimeWarning: All-NaN slice encountered\n",
      "  obj_max = np.nanmax(data_slice, axis=(1, 2))\n",
      "/work/aa0238/a271093/Scripts/MOAAP/src/Tracking_Functions.py:252: RuntimeWarning: Mean of empty slice\n",
      "  obj_mean = np.nanmean(data_slice, axis=(1, 2))\n",
      "/work/aa0238/a271093/Conda/MOAAP_env/lib/python3.12/site-packages/scipy/ndimage/_measurements.py:1541: RuntimeWarning: invalid value encountered in scalar divide\n",
      "  results = [sum(input * grids[dir].astype(float), labels, index) / normalizer\n"
     ]
    },
    {
     "name": "stdout",
     "output_type": "stream",
     "text": [
      "        check if MSs quallify as ARs\n"
     ]
    },
    {
     "name": "stderr",
     "output_type": "stream",
     "text": [
      "/work/aa0238/a271093/Scripts/MOAAP/src/Tracking_Functions.py:4588: RuntimeWarning: divide by zero encountered in scalar divide\n",
      "  if DIST.max() / DIST.min() < AR_width_lenght_ratio:\n"
     ]
    },
    {
     "name": "stdout",
     "output_type": "stream",
     "text": [
      "            Loop over 1645 objects\n",
      "        00:01:30.01\n",
      " \n",
      "Save the object masks into a joint netCDF\n",
      "Saved: /work/aa0238/a271093/results/MOAAP/IVT_Tracking/NorESM_ssp_remapped_3x/ObjectMasks_MOAPP_ICON_100and85NorESMsspperc_remapped_3x_2027_01_01-2027_08_01.nc\n",
      "        00:00:27.57\n",
      "clean up /work/aa0238/a271093/results/MOAAP/IVT_Tracking/NorESM_ssp_remapped_3x/IVT_MOAPP_ICON_100and85NorESMsspperc_remapped_3x_2027_01_01-2027_07_01.pkl\n",
      "clean up finished\n",
      "clean up /work/aa0238/a271093/results/MOAAP/IVT_Tracking/NorESM_ssp_remapped_3x/ARs_MOAPP_ICON_100and85NorESMsspperc_remapped_3x_2027_01_01-2027_07_01.pkl\n",
      "clean up finished\n",
      "correct nc-file with \n",
      " cdo -selmon,1,2,3,4,5,6 /work/aa0238/a271093/results/MOAAP/IVT_Tracking/NorESM_ssp_remapped_3x/ObjectMasks_MOAPP_ICON_100and85NorESMsspperc_remapped_3x_2027_01_01-2027_08_01.nc /work/aa0238/a271093/results/MOAAP/IVT_Tracking/NorESM_ssp_remapped_3x/ObjectMasks_MOAPP_ICON_100and85NorESMsspperc_remapped_3x_2027_01_01-2027_07_01_corrected.nc\n",
      "\n",
      " \n",
      " \n",
      " \n",
      "\n",
      "2027-07-01 00:00:00 2028-02-01 00:00:00\n",
      "Mergetime /work/aa0238/a271093/data/Jan_runs/ICON_NorESM_ssp/NorESM_ssp_remapped_3x/IVTu/IVTu_2027010100-2027123123_remapped_3x.nc /work/aa0238/a271093/data/Jan_runs/ICON_NorESM_ssp/NorESM_ssp_remapped_3x/IVTu/IVTu_2028010100-2028123123_remapped_3x.nc  /work/aa0238/a271093/scratch/mergedIVTu_2027_2028_remapped_3x.nc\n",
      "Mergetime /work/aa0238/a271093/data/Jan_runs/ICON_NorESM_ssp/NorESM_ssp_remapped_3x/IVTv/IVTv_2027010100-2027123123_remapped_3x.nc /work/aa0238/a271093/data/Jan_runs/ICON_NorESM_ssp/NorESM_ssp_remapped_3x/IVTv/IVTv_2028010100-2028123123_remapped_3x.nc  /work/aa0238/a271093/scratch/mergedIVTv_2027_2028_remapped_3x.nc\n",
      " \n",
      "The provided variables allow tracking the following phenomena\n",
      " \n",
      "|  phenomenon  | tracking |\n",
      "---------------------------\n",
      "   Jetstream   |   no\n",
      "   PSL CY/ACY  |   no\n",
      "   Z500 CY/ACY |   no\n",
      "   COLs        |   no\n",
      "   IVT ARs     |   yes\n",
      "   MS ARs      |   no\n",
      "   Fronts      |   no\n",
      "   TCs         |   no\n",
      "   MCSs        |   no\n",
      "   Equ. Waves  |   no\n",
      "---------------------------\n",
      " \n",
      "======> track IVT streams and atmospheric rivers (ARs)\n",
      "        2850 object found\n",
      "        break up long living IVT objects that have many elements\n"
     ]
    },
    {
     "name": "stderr",
     "output_type": "stream",
     "text": [
      "100%|██████████| 592/592 [00:21<00:00, 26.99it/s]\n"
     ]
    },
    {
     "name": "stdout",
     "output_type": "stream",
     "text": [
      "        00:00:27.80\n",
      "9\n",
      "            Loop over 1305 objects\n"
     ]
    },
    {
     "name": "stderr",
     "output_type": "stream",
     "text": [
      "/work/aa0238/a271093/Scripts/MOAAP/src/Tracking_Functions.py:250: RuntimeWarning: All-NaN slice encountered\n",
      "  obj_min = np.nanmin(data_slice, axis=(1, 2))\n",
      "/work/aa0238/a271093/Scripts/MOAAP/src/Tracking_Functions.py:251: RuntimeWarning: All-NaN slice encountered\n",
      "  obj_max = np.nanmax(data_slice, axis=(1, 2))\n",
      "/work/aa0238/a271093/Scripts/MOAAP/src/Tracking_Functions.py:252: RuntimeWarning: Mean of empty slice\n",
      "  obj_mean = np.nanmean(data_slice, axis=(1, 2))\n",
      "/work/aa0238/a271093/Conda/MOAAP_env/lib/python3.12/site-packages/scipy/ndimage/_measurements.py:1541: RuntimeWarning: invalid value encountered in scalar divide\n",
      "  results = [sum(input * grids[dir].astype(float), labels, index) / normalizer\n"
     ]
    },
    {
     "name": "stdout",
     "output_type": "stream",
     "text": [
      "        check if MSs quallify as ARs\n"
     ]
    },
    {
     "name": "stderr",
     "output_type": "stream",
     "text": [
      "/work/aa0238/a271093/Scripts/MOAAP/src/Tracking_Functions.py:4588: RuntimeWarning: divide by zero encountered in scalar divide\n",
      "  if DIST.max() / DIST.min() < AR_width_lenght_ratio:\n"
     ]
    },
    {
     "name": "stdout",
     "output_type": "stream",
     "text": [
      "            Loop over 1302 objects\n",
      "        00:01:09.17\n",
      " \n",
      "Save the object masks into a joint netCDF\n",
      "Saved: /work/aa0238/a271093/results/MOAAP/IVT_Tracking/NorESM_ssp_remapped_3x/ObjectMasks_MOAPP_ICON_100and85NorESMsspperc_remapped_3x_2027_07_01-2028_02_01.nc\n",
      "        00:00:26.11\n",
      "clean up /work/aa0238/a271093/results/MOAAP/IVT_Tracking/NorESM_ssp_remapped_3x/IVT_MOAPP_ICON_100and85NorESMsspperc_remapped_3x_2027_07_01-2028_01_01.pkl\n",
      "clean up finished\n",
      "clean up /work/aa0238/a271093/results/MOAAP/IVT_Tracking/NorESM_ssp_remapped_3x/ARs_MOAPP_ICON_100and85NorESMsspperc_remapped_3x_2027_07_01-2028_01_01.pkl\n",
      "clean up finished\n",
      "correct nc-file with \n",
      " cdo -selmon,6,7,8,9,10,11,12 /work/aa0238/a271093/results/MOAAP/IVT_Tracking/NorESM_ssp_remapped_3x/ObjectMasks_MOAPP_ICON_100and85NorESMsspperc_remapped_3x_2027_07_01-2028_02_01.nc /work/aa0238/a271093/results/MOAAP/IVT_Tracking/NorESM_ssp_remapped_3x/ObjectMasks_MOAPP_ICON_100and85NorESMsspperc_remapped_3x_2027_07_01-2028_01_01_corrected.nc\n",
      "\n",
      " \n",
      " \n",
      " \n",
      "\n",
      "2028-01-01 00:00:00 2028-08-01 00:00:00\n",
      " \n",
      "The provided variables allow tracking the following phenomena\n",
      " \n",
      "|  phenomenon  | tracking |\n",
      "---------------------------\n",
      "   Jetstream   |   no\n",
      "   PSL CY/ACY  |   no\n",
      "   Z500 CY/ACY |   no\n",
      "   COLs        |   no\n",
      "   IVT ARs     |   yes\n",
      "   MS ARs      |   no\n",
      "   Fronts      |   no\n",
      "   TCs         |   no\n",
      "   MCSs        |   no\n",
      "   Equ. Waves  |   no\n",
      "---------------------------\n",
      " \n",
      "======> track IVT streams and atmospheric rivers (ARs)\n",
      "        3563 object found\n",
      "        break up long living IVT objects that have many elements\n"
     ]
    },
    {
     "name": "stderr",
     "output_type": "stream",
     "text": [
      "100%|██████████| 637/637 [00:25<00:00, 25.37it/s]\n"
     ]
    },
    {
     "name": "stdout",
     "output_type": "stream",
     "text": [
      "        00:00:31.13\n",
      "9\n",
      "            Loop over 1597 objects\n"
     ]
    },
    {
     "name": "stderr",
     "output_type": "stream",
     "text": [
      "/work/aa0238/a271093/Scripts/MOAAP/src/Tracking_Functions.py:250: RuntimeWarning: All-NaN slice encountered\n",
      "  obj_min = np.nanmin(data_slice, axis=(1, 2))\n",
      "/work/aa0238/a271093/Scripts/MOAAP/src/Tracking_Functions.py:251: RuntimeWarning: All-NaN slice encountered\n",
      "  obj_max = np.nanmax(data_slice, axis=(1, 2))\n",
      "/work/aa0238/a271093/Scripts/MOAAP/src/Tracking_Functions.py:252: RuntimeWarning: Mean of empty slice\n",
      "  obj_mean = np.nanmean(data_slice, axis=(1, 2))\n",
      "/work/aa0238/a271093/Conda/MOAAP_env/lib/python3.12/site-packages/scipy/ndimage/_measurements.py:1541: RuntimeWarning: invalid value encountered in scalar divide\n",
      "  results = [sum(input * grids[dir].astype(float), labels, index) / normalizer\n"
     ]
    },
    {
     "name": "stdout",
     "output_type": "stream",
     "text": [
      "        check if MSs quallify as ARs\n"
     ]
    },
    {
     "name": "stderr",
     "output_type": "stream",
     "text": [
      "/work/aa0238/a271093/Scripts/MOAAP/src/Tracking_Functions.py:4588: RuntimeWarning: divide by zero encountered in scalar divide\n",
      "  if DIST.max() / DIST.min() < AR_width_lenght_ratio:\n"
     ]
    },
    {
     "name": "stdout",
     "output_type": "stream",
     "text": [
      "            Loop over 1596 objects\n",
      "        00:01:15.78\n",
      " \n",
      "Save the object masks into a joint netCDF\n",
      "Saved: /work/aa0238/a271093/results/MOAAP/IVT_Tracking/NorESM_ssp_remapped_3x/ObjectMasks_MOAPP_ICON_100and85NorESMsspperc_remapped_3x_2028_01_01-2028_08_01.nc\n",
      "        00:00:26.43\n",
      "clean up /work/aa0238/a271093/results/MOAAP/IVT_Tracking/NorESM_ssp_remapped_3x/IVT_MOAPP_ICON_100and85NorESMsspperc_remapped_3x_2028_01_01-2028_07_01.pkl\n",
      "clean up finished\n",
      "clean up /work/aa0238/a271093/results/MOAAP/IVT_Tracking/NorESM_ssp_remapped_3x/ARs_MOAPP_ICON_100and85NorESMsspperc_remapped_3x_2028_01_01-2028_07_01.pkl\n",
      "clean up finished\n",
      "correct nc-file with \n",
      " cdo -selmon,1,2,3,4,5,6 /work/aa0238/a271093/results/MOAAP/IVT_Tracking/NorESM_ssp_remapped_3x/ObjectMasks_MOAPP_ICON_100and85NorESMsspperc_remapped_3x_2028_01_01-2028_08_01.nc /work/aa0238/a271093/results/MOAAP/IVT_Tracking/NorESM_ssp_remapped_3x/ObjectMasks_MOAPP_ICON_100and85NorESMsspperc_remapped_3x_2028_01_01-2028_07_01_corrected.nc\n",
      "\n",
      " \n",
      " \n",
      " \n",
      "\n",
      "2028-07-01 00:00:00 2029-02-01 00:00:00\n",
      "Mergetime /work/aa0238/a271093/data/Jan_runs/ICON_NorESM_ssp/NorESM_ssp_remapped_3x/IVTu/IVTu_2028010100-2028123123_remapped_3x.nc /work/aa0238/a271093/data/Jan_runs/ICON_NorESM_ssp/NorESM_ssp_remapped_3x/IVTu/IVTu_2029010100-2029123123_remapped_3x.nc  /work/aa0238/a271093/scratch/mergedIVTu_2028_2029_remapped_3x.nc\n",
      "Mergetime /work/aa0238/a271093/data/Jan_runs/ICON_NorESM_ssp/NorESM_ssp_remapped_3x/IVTv/IVTv_2028010100-2028123123_remapped_3x.nc /work/aa0238/a271093/data/Jan_runs/ICON_NorESM_ssp/NorESM_ssp_remapped_3x/IVTv/IVTv_2029010100-2029123123_remapped_3x.nc  /work/aa0238/a271093/scratch/mergedIVTv_2028_2029_remapped_3x.nc\n",
      " \n",
      "The provided variables allow tracking the following phenomena\n",
      " \n",
      "|  phenomenon  | tracking |\n",
      "---------------------------\n",
      "   Jetstream   |   no\n",
      "   PSL CY/ACY  |   no\n",
      "   Z500 CY/ACY |   no\n",
      "   COLs        |   no\n",
      "   IVT ARs     |   yes\n",
      "   MS ARs      |   no\n",
      "   Fronts      |   no\n",
      "   TCs         |   no\n",
      "   MCSs        |   no\n",
      "   Equ. Waves  |   no\n",
      "---------------------------\n",
      " \n",
      "======> track IVT streams and atmospheric rivers (ARs)\n",
      "        2976 object found\n",
      "        break up long living IVT objects that have many elements\n"
     ]
    },
    {
     "name": "stderr",
     "output_type": "stream",
     "text": [
      "100%|██████████| 556/556 [00:22<00:00, 25.03it/s]\n"
     ]
    },
    {
     "name": "stdout",
     "output_type": "stream",
     "text": [
      "        00:00:28.06\n",
      "9\n",
      "            Loop over 1360 objects\n"
     ]
    },
    {
     "name": "stderr",
     "output_type": "stream",
     "text": [
      "/work/aa0238/a271093/Scripts/MOAAP/src/Tracking_Functions.py:250: RuntimeWarning: All-NaN slice encountered\n",
      "  obj_min = np.nanmin(data_slice, axis=(1, 2))\n",
      "/work/aa0238/a271093/Scripts/MOAAP/src/Tracking_Functions.py:251: RuntimeWarning: All-NaN slice encountered\n",
      "  obj_max = np.nanmax(data_slice, axis=(1, 2))\n",
      "/work/aa0238/a271093/Scripts/MOAAP/src/Tracking_Functions.py:252: RuntimeWarning: Mean of empty slice\n",
      "  obj_mean = np.nanmean(data_slice, axis=(1, 2))\n",
      "/work/aa0238/a271093/Conda/MOAAP_env/lib/python3.12/site-packages/scipy/ndimage/_measurements.py:1541: RuntimeWarning: invalid value encountered in scalar divide\n",
      "  results = [sum(input * grids[dir].astype(float), labels, index) / normalizer\n"
     ]
    },
    {
     "name": "stdout",
     "output_type": "stream",
     "text": [
      "        check if MSs quallify as ARs\n"
     ]
    },
    {
     "name": "stderr",
     "output_type": "stream",
     "text": [
      "/work/aa0238/a271093/Scripts/MOAAP/src/Tracking_Functions.py:4588: RuntimeWarning: divide by zero encountered in scalar divide\n",
      "  if DIST.max() / DIST.min() < AR_width_lenght_ratio:\n"
     ]
    },
    {
     "name": "stdout",
     "output_type": "stream",
     "text": [
      "            Loop over 1355 objects\n",
      "        00:01:09.15\n",
      " \n",
      "Save the object masks into a joint netCDF\n",
      "Saved: /work/aa0238/a271093/results/MOAAP/IVT_Tracking/NorESM_ssp_remapped_3x/ObjectMasks_MOAPP_ICON_100and85NorESMsspperc_remapped_3x_2028_07_01-2029_02_01.nc\n",
      "        00:00:26.39\n",
      "clean up /work/aa0238/a271093/results/MOAAP/IVT_Tracking/NorESM_ssp_remapped_3x/IVT_MOAPP_ICON_100and85NorESMsspperc_remapped_3x_2028_07_01-2029_01_01.pkl\n",
      "clean up finished\n",
      "clean up /work/aa0238/a271093/results/MOAAP/IVT_Tracking/NorESM_ssp_remapped_3x/ARs_MOAPP_ICON_100and85NorESMsspperc_remapped_3x_2028_07_01-2029_01_01.pkl\n",
      "clean up finished\n",
      "correct nc-file with \n",
      " cdo -selmon,6,7,8,9,10,11,12 /work/aa0238/a271093/results/MOAAP/IVT_Tracking/NorESM_ssp_remapped_3x/ObjectMasks_MOAPP_ICON_100and85NorESMsspperc_remapped_3x_2028_07_01-2029_02_01.nc /work/aa0238/a271093/results/MOAAP/IVT_Tracking/NorESM_ssp_remapped_3x/ObjectMasks_MOAPP_ICON_100and85NorESMsspperc_remapped_3x_2028_07_01-2029_01_01_corrected.nc\n",
      "\n",
      " \n",
      " \n",
      " \n",
      "\n",
      "2029-01-01 00:00:00 2029-08-01 00:00:00\n",
      " \n",
      "The provided variables allow tracking the following phenomena\n",
      " \n",
      "|  phenomenon  | tracking |\n",
      "---------------------------\n",
      "   Jetstream   |   no\n",
      "   PSL CY/ACY  |   no\n",
      "   Z500 CY/ACY |   no\n",
      "   COLs        |   no\n",
      "   IVT ARs     |   yes\n",
      "   MS ARs      |   no\n",
      "   Fronts      |   no\n",
      "   TCs         |   no\n",
      "   MCSs        |   no\n",
      "   Equ. Waves  |   no\n",
      "---------------------------\n",
      " \n",
      "======> track IVT streams and atmospheric rivers (ARs)\n",
      "        3220 object found\n",
      "        break up long living IVT objects that have many elements\n"
     ]
    },
    {
     "name": "stderr",
     "output_type": "stream",
     "text": [
      "100%|██████████| 575/575 [00:22<00:00, 25.68it/s]\n"
     ]
    },
    {
     "name": "stdout",
     "output_type": "stream",
     "text": [
      "        00:00:28.47\n",
      "9\n",
      "            Loop over 1523 objects\n"
     ]
    },
    {
     "name": "stderr",
     "output_type": "stream",
     "text": [
      "/work/aa0238/a271093/Scripts/MOAAP/src/Tracking_Functions.py:250: RuntimeWarning: All-NaN slice encountered\n",
      "  obj_min = np.nanmin(data_slice, axis=(1, 2))\n",
      "/work/aa0238/a271093/Scripts/MOAAP/src/Tracking_Functions.py:251: RuntimeWarning: All-NaN slice encountered\n",
      "  obj_max = np.nanmax(data_slice, axis=(1, 2))\n",
      "/work/aa0238/a271093/Scripts/MOAAP/src/Tracking_Functions.py:252: RuntimeWarning: Mean of empty slice\n",
      "  obj_mean = np.nanmean(data_slice, axis=(1, 2))\n",
      "/work/aa0238/a271093/Conda/MOAAP_env/lib/python3.12/site-packages/scipy/ndimage/_measurements.py:1541: RuntimeWarning: invalid value encountered in scalar divide\n",
      "  results = [sum(input * grids[dir].astype(float), labels, index) / normalizer\n"
     ]
    },
    {
     "name": "stdout",
     "output_type": "stream",
     "text": [
      "        check if MSs quallify as ARs\n"
     ]
    },
    {
     "name": "stderr",
     "output_type": "stream",
     "text": [
      "/work/aa0238/a271093/Scripts/MOAAP/src/Tracking_Functions.py:4588: RuntimeWarning: divide by zero encountered in scalar divide\n",
      "  if DIST.max() / DIST.min() < AR_width_lenght_ratio:\n"
     ]
    },
    {
     "name": "stdout",
     "output_type": "stream",
     "text": [
      "            Loop over 1521 objects\n",
      "        00:01:19.80\n",
      " \n",
      "Save the object masks into a joint netCDF\n",
      "Saved: /work/aa0238/a271093/results/MOAAP/IVT_Tracking/NorESM_ssp_remapped_3x/ObjectMasks_MOAPP_ICON_100and85NorESMsspperc_remapped_3x_2029_01_01-2029_08_01.nc\n",
      "        00:00:25.89\n",
      "clean up /work/aa0238/a271093/results/MOAAP/IVT_Tracking/NorESM_ssp_remapped_3x/IVT_MOAPP_ICON_100and85NorESMsspperc_remapped_3x_2029_01_01-2029_07_01.pkl\n",
      "clean up finished\n",
      "clean up /work/aa0238/a271093/results/MOAAP/IVT_Tracking/NorESM_ssp_remapped_3x/ARs_MOAPP_ICON_100and85NorESMsspperc_remapped_3x_2029_01_01-2029_07_01.pkl\n",
      "clean up finished\n",
      "correct nc-file with \n",
      " cdo -selmon,1,2,3,4,5,6 /work/aa0238/a271093/results/MOAAP/IVT_Tracking/NorESM_ssp_remapped_3x/ObjectMasks_MOAPP_ICON_100and85NorESMsspperc_remapped_3x_2029_01_01-2029_08_01.nc /work/aa0238/a271093/results/MOAAP/IVT_Tracking/NorESM_ssp_remapped_3x/ObjectMasks_MOAPP_ICON_100and85NorESMsspperc_remapped_3x_2029_01_01-2029_07_01_corrected.nc\n",
      "\n",
      " \n",
      " \n",
      " \n",
      "\n",
      "2029-07-01 00:00:00 2030-02-01 00:00:00\n",
      "Mergetime /work/aa0238/a271093/data/Jan_runs/ICON_NorESM_ssp/NorESM_ssp_remapped_3x/IVTu/IVTu_2029010100-2029123123_remapped_3x.nc /work/aa0238/a271093/data/Jan_runs/ICON_NorESM_ssp/NorESM_ssp_remapped_3x/IVTu/IVTu_2030010100-2030123123_remapped_3x.nc  /work/aa0238/a271093/scratch/mergedIVTu_2029_2030_remapped_3x.nc\n",
      "Mergetime /work/aa0238/a271093/data/Jan_runs/ICON_NorESM_ssp/NorESM_ssp_remapped_3x/IVTv/IVTv_2029010100-2029123123_remapped_3x.nc /work/aa0238/a271093/data/Jan_runs/ICON_NorESM_ssp/NorESM_ssp_remapped_3x/IVTv/IVTv_2030010100-2030123123_remapped_3x.nc  /work/aa0238/a271093/scratch/mergedIVTv_2029_2030_remapped_3x.nc\n",
      " \n",
      "The provided variables allow tracking the following phenomena\n",
      " \n",
      "|  phenomenon  | tracking |\n",
      "---------------------------\n",
      "   Jetstream   |   no\n",
      "   PSL CY/ACY  |   no\n",
      "   Z500 CY/ACY |   no\n",
      "   COLs        |   no\n",
      "   IVT ARs     |   yes\n",
      "   MS ARs      |   no\n",
      "   Fronts      |   no\n",
      "   TCs         |   no\n",
      "   MCSs        |   no\n",
      "   Equ. Waves  |   no\n",
      "---------------------------\n",
      " \n",
      "======> track IVT streams and atmospheric rivers (ARs)\n",
      "        2933 object found\n",
      "        break up long living IVT objects that have many elements\n"
     ]
    },
    {
     "name": "stderr",
     "output_type": "stream",
     "text": [
      "100%|██████████| 585/585 [00:20<00:00, 28.50it/s]\n"
     ]
    },
    {
     "name": "stdout",
     "output_type": "stream",
     "text": [
      "        00:00:26.34\n",
      "9\n",
      "            Loop over 1299 objects\n",
      "        check if MSs quallify as ARs\n"
     ]
    },
    {
     "name": "stderr",
     "output_type": "stream",
     "text": [
      "/work/aa0238/a271093/Scripts/MOAAP/src/Tracking_Functions.py:4588: RuntimeWarning: divide by zero encountered in scalar divide\n",
      "  if DIST.max() / DIST.min() < AR_width_lenght_ratio:\n"
     ]
    },
    {
     "name": "stdout",
     "output_type": "stream",
     "text": [
      "            Loop over 1290 objects\n"
     ]
    },
    {
     "name": "stderr",
     "output_type": "stream",
     "text": [
      "/work/aa0238/a271093/Scripts/MOAAP/src/Tracking_Functions.py:250: RuntimeWarning: All-NaN slice encountered\n",
      "  obj_min = np.nanmin(data_slice, axis=(1, 2))\n",
      "/work/aa0238/a271093/Scripts/MOAAP/src/Tracking_Functions.py:251: RuntimeWarning: All-NaN slice encountered\n",
      "  obj_max = np.nanmax(data_slice, axis=(1, 2))\n",
      "/work/aa0238/a271093/Scripts/MOAAP/src/Tracking_Functions.py:252: RuntimeWarning: Mean of empty slice\n",
      "  obj_mean = np.nanmean(data_slice, axis=(1, 2))\n",
      "/work/aa0238/a271093/Conda/MOAAP_env/lib/python3.12/site-packages/scipy/ndimage/_measurements.py:1541: RuntimeWarning: invalid value encountered in scalar divide\n",
      "  results = [sum(input * grids[dir].astype(float), labels, index) / normalizer\n"
     ]
    },
    {
     "name": "stdout",
     "output_type": "stream",
     "text": [
      "        00:01:05.56\n",
      " \n",
      "Save the object masks into a joint netCDF\n",
      "Saved: /work/aa0238/a271093/results/MOAAP/IVT_Tracking/NorESM_ssp_remapped_3x/ObjectMasks_MOAPP_ICON_100and85NorESMsspperc_remapped_3x_2029_07_01-2030_02_01.nc\n",
      "        00:00:27.11\n",
      "clean up /work/aa0238/a271093/results/MOAAP/IVT_Tracking/NorESM_ssp_remapped_3x/IVT_MOAPP_ICON_100and85NorESMsspperc_remapped_3x_2029_07_01-2030_01_01.pkl\n",
      "clean up finished\n",
      "clean up /work/aa0238/a271093/results/MOAAP/IVT_Tracking/NorESM_ssp_remapped_3x/ARs_MOAPP_ICON_100and85NorESMsspperc_remapped_3x_2029_07_01-2030_01_01.pkl\n",
      "clean up finished\n",
      "correct nc-file with \n",
      " cdo -selmon,6,7,8,9,10,11,12 /work/aa0238/a271093/results/MOAAP/IVT_Tracking/NorESM_ssp_remapped_3x/ObjectMasks_MOAPP_ICON_100and85NorESMsspperc_remapped_3x_2029_07_01-2030_02_01.nc /work/aa0238/a271093/results/MOAAP/IVT_Tracking/NorESM_ssp_remapped_3x/ObjectMasks_MOAPP_ICON_100and85NorESMsspperc_remapped_3x_2029_07_01-2030_01_01_corrected.nc\n",
      "\n",
      " \n",
      " \n",
      " \n",
      "\n",
      "2030-01-01 00:00:00 2030-08-01 00:00:00\n",
      " \n",
      "The provided variables allow tracking the following phenomena\n",
      " \n",
      "|  phenomenon  | tracking |\n",
      "---------------------------\n",
      "   Jetstream   |   no\n",
      "   PSL CY/ACY  |   no\n",
      "   Z500 CY/ACY |   no\n",
      "   COLs        |   no\n",
      "   IVT ARs     |   yes\n",
      "   MS ARs      |   no\n",
      "   Fronts      |   no\n",
      "   TCs         |   no\n",
      "   MCSs        |   no\n",
      "   Equ. Waves  |   no\n",
      "---------------------------\n",
      " \n",
      "======> track IVT streams and atmospheric rivers (ARs)\n",
      "        3113 object found\n",
      "        break up long living IVT objects that have many elements\n"
     ]
    },
    {
     "name": "stderr",
     "output_type": "stream",
     "text": [
      "100%|██████████| 598/598 [00:23<00:00, 25.40it/s]\n"
     ]
    },
    {
     "name": "stdout",
     "output_type": "stream",
     "text": [
      "        00:00:29.28\n",
      "9\n",
      "            Loop over 1506 objects\n"
     ]
    },
    {
     "name": "stderr",
     "output_type": "stream",
     "text": [
      "/work/aa0238/a271093/Scripts/MOAAP/src/Tracking_Functions.py:250: RuntimeWarning: All-NaN slice encountered\n",
      "  obj_min = np.nanmin(data_slice, axis=(1, 2))\n",
      "/work/aa0238/a271093/Scripts/MOAAP/src/Tracking_Functions.py:251: RuntimeWarning: All-NaN slice encountered\n",
      "  obj_max = np.nanmax(data_slice, axis=(1, 2))\n",
      "/work/aa0238/a271093/Scripts/MOAAP/src/Tracking_Functions.py:252: RuntimeWarning: Mean of empty slice\n",
      "  obj_mean = np.nanmean(data_slice, axis=(1, 2))\n",
      "/work/aa0238/a271093/Conda/MOAAP_env/lib/python3.12/site-packages/scipy/ndimage/_measurements.py:1541: RuntimeWarning: invalid value encountered in scalar divide\n",
      "  results = [sum(input * grids[dir].astype(float), labels, index) / normalizer\n"
     ]
    },
    {
     "name": "stdout",
     "output_type": "stream",
     "text": [
      "        check if MSs quallify as ARs\n"
     ]
    },
    {
     "name": "stderr",
     "output_type": "stream",
     "text": [
      "/work/aa0238/a271093/Scripts/MOAAP/src/Tracking_Functions.py:4588: RuntimeWarning: divide by zero encountered in scalar divide\n",
      "  if DIST.max() / DIST.min() < AR_width_lenght_ratio:\n"
     ]
    },
    {
     "name": "stdout",
     "output_type": "stream",
     "text": [
      "            Loop over 1502 objects\n",
      "        00:01:12.39\n",
      " \n",
      "Save the object masks into a joint netCDF\n",
      "Saved: /work/aa0238/a271093/results/MOAAP/IVT_Tracking/NorESM_ssp_remapped_3x/ObjectMasks_MOAPP_ICON_100and85NorESMsspperc_remapped_3x_2030_01_01-2030_08_01.nc\n",
      "        00:00:24.47\n",
      "clean up /work/aa0238/a271093/results/MOAAP/IVT_Tracking/NorESM_ssp_remapped_3x/IVT_MOAPP_ICON_100and85NorESMsspperc_remapped_3x_2030_01_01-2030_07_01.pkl\n",
      "clean up finished\n",
      "clean up /work/aa0238/a271093/results/MOAAP/IVT_Tracking/NorESM_ssp_remapped_3x/ARs_MOAPP_ICON_100and85NorESMsspperc_remapped_3x_2030_01_01-2030_07_01.pkl\n",
      "clean up finished\n",
      "correct nc-file with \n",
      " cdo -selmon,1,2,3,4,5,6 /work/aa0238/a271093/results/MOAAP/IVT_Tracking/NorESM_ssp_remapped_3x/ObjectMasks_MOAPP_ICON_100and85NorESMsspperc_remapped_3x_2030_01_01-2030_08_01.nc /work/aa0238/a271093/results/MOAAP/IVT_Tracking/NorESM_ssp_remapped_3x/ObjectMasks_MOAPP_ICON_100and85NorESMsspperc_remapped_3x_2030_01_01-2030_07_01_corrected.nc\n",
      "\n",
      " \n",
      " \n",
      " \n",
      "\n",
      "2030-07-01 00:00:00 2031-02-01 00:00:00\n",
      "Mergetime /work/aa0238/a271093/data/Jan_runs/ICON_NorESM_ssp/NorESM_ssp_remapped_3x/IVTu/IVTu_2030010100-2030123123_remapped_3x.nc /work/aa0238/a271093/data/Jan_runs/ICON_NorESM_ssp/NorESM_ssp_remapped_3x/IVTu/IVTu_2031010100-2031123123_remapped_3x.nc  /work/aa0238/a271093/scratch/mergedIVTu_2030_2031_remapped_3x.nc\n",
      "Mergetime /work/aa0238/a271093/data/Jan_runs/ICON_NorESM_ssp/NorESM_ssp_remapped_3x/IVTv/IVTv_2030010100-2030123123_remapped_3x.nc /work/aa0238/a271093/data/Jan_runs/ICON_NorESM_ssp/NorESM_ssp_remapped_3x/IVTv/IVTv_2031010100-2031123123_remapped_3x.nc  /work/aa0238/a271093/scratch/mergedIVTv_2030_2031_remapped_3x.nc\n",
      " \n",
      "The provided variables allow tracking the following phenomena\n",
      " \n",
      "|  phenomenon  | tracking |\n",
      "---------------------------\n",
      "   Jetstream   |   no\n",
      "   PSL CY/ACY  |   no\n",
      "   Z500 CY/ACY |   no\n",
      "   COLs        |   no\n",
      "   IVT ARs     |   yes\n",
      "   MS ARs      |   no\n",
      "   Fronts      |   no\n",
      "   TCs         |   no\n",
      "   MCSs        |   no\n",
      "   Equ. Waves  |   no\n",
      "---------------------------\n",
      " \n",
      "======> track IVT streams and atmospheric rivers (ARs)\n",
      "        3065 object found\n",
      "        break up long living IVT objects that have many elements\n"
     ]
    },
    {
     "name": "stderr",
     "output_type": "stream",
     "text": [
      "100%|██████████| 591/591 [00:21<00:00, 27.29it/s]\n"
     ]
    },
    {
     "name": "stdout",
     "output_type": "stream",
     "text": [
      "        00:00:27.63\n",
      "9\n",
      "            Loop over 1386 objects\n"
     ]
    },
    {
     "name": "stderr",
     "output_type": "stream",
     "text": [
      "/work/aa0238/a271093/Scripts/MOAAP/src/Tracking_Functions.py:250: RuntimeWarning: All-NaN slice encountered\n",
      "  obj_min = np.nanmin(data_slice, axis=(1, 2))\n",
      "/work/aa0238/a271093/Scripts/MOAAP/src/Tracking_Functions.py:251: RuntimeWarning: All-NaN slice encountered\n",
      "  obj_max = np.nanmax(data_slice, axis=(1, 2))\n",
      "/work/aa0238/a271093/Scripts/MOAAP/src/Tracking_Functions.py:252: RuntimeWarning: Mean of empty slice\n",
      "  obj_mean = np.nanmean(data_slice, axis=(1, 2))\n",
      "/work/aa0238/a271093/Conda/MOAAP_env/lib/python3.12/site-packages/scipy/ndimage/_measurements.py:1541: RuntimeWarning: invalid value encountered in scalar divide\n",
      "  results = [sum(input * grids[dir].astype(float), labels, index) / normalizer\n"
     ]
    },
    {
     "name": "stdout",
     "output_type": "stream",
     "text": [
      "        check if MSs quallify as ARs\n"
     ]
    },
    {
     "name": "stderr",
     "output_type": "stream",
     "text": [
      "/work/aa0238/a271093/Scripts/MOAAP/src/Tracking_Functions.py:4588: RuntimeWarning: divide by zero encountered in scalar divide\n",
      "  if DIST.max() / DIST.min() < AR_width_lenght_ratio:\n"
     ]
    },
    {
     "name": "stdout",
     "output_type": "stream",
     "text": [
      "            Loop over 1385 objects\n",
      "        00:01:09.04\n",
      " \n",
      "Save the object masks into a joint netCDF\n",
      "Saved: /work/aa0238/a271093/results/MOAAP/IVT_Tracking/NorESM_ssp_remapped_3x/ObjectMasks_MOAPP_ICON_100and85NorESMsspperc_remapped_3x_2030_07_01-2031_02_01.nc\n",
      "        00:00:24.27\n",
      "clean up /work/aa0238/a271093/results/MOAAP/IVT_Tracking/NorESM_ssp_remapped_3x/IVT_MOAPP_ICON_100and85NorESMsspperc_remapped_3x_2030_07_01-2031_01_01.pkl\n",
      "clean up finished\n",
      "clean up /work/aa0238/a271093/results/MOAAP/IVT_Tracking/NorESM_ssp_remapped_3x/ARs_MOAPP_ICON_100and85NorESMsspperc_remapped_3x_2030_07_01-2031_01_01.pkl\n",
      "clean up finished\n",
      "correct nc-file with \n",
      " cdo -selmon,6,7,8,9,10,11,12 /work/aa0238/a271093/results/MOAAP/IVT_Tracking/NorESM_ssp_remapped_3x/ObjectMasks_MOAPP_ICON_100and85NorESMsspperc_remapped_3x_2030_07_01-2031_02_01.nc /work/aa0238/a271093/results/MOAAP/IVT_Tracking/NorESM_ssp_remapped_3x/ObjectMasks_MOAPP_ICON_100and85NorESMsspperc_remapped_3x_2030_07_01-2031_01_01_corrected.nc\n",
      "\n",
      " \n",
      " \n",
      " \n",
      "\n",
      "2031-01-01 00:00:00 2031-08-01 00:00:00\n",
      " \n",
      "The provided variables allow tracking the following phenomena\n",
      " \n",
      "|  phenomenon  | tracking |\n",
      "---------------------------\n",
      "   Jetstream   |   no\n",
      "   PSL CY/ACY  |   no\n",
      "   Z500 CY/ACY |   no\n",
      "   COLs        |   no\n",
      "   IVT ARs     |   yes\n",
      "   MS ARs      |   no\n",
      "   Fronts      |   no\n",
      "   TCs         |   no\n",
      "   MCSs        |   no\n",
      "   Equ. Waves  |   no\n",
      "---------------------------\n",
      " \n",
      "======> track IVT streams and atmospheric rivers (ARs)\n",
      "        3401 object found\n",
      "        break up long living IVT objects that have many elements\n"
     ]
    },
    {
     "name": "stderr",
     "output_type": "stream",
     "text": [
      "100%|██████████| 645/645 [00:23<00:00, 26.94it/s] \n"
     ]
    },
    {
     "name": "stdout",
     "output_type": "stream",
     "text": [
      "        00:00:29.75\n",
      "9\n",
      "            Loop over 1493 objects\n"
     ]
    },
    {
     "name": "stderr",
     "output_type": "stream",
     "text": [
      "/work/aa0238/a271093/Scripts/MOAAP/src/Tracking_Functions.py:250: RuntimeWarning: All-NaN slice encountered\n",
      "  obj_min = np.nanmin(data_slice, axis=(1, 2))\n",
      "/work/aa0238/a271093/Scripts/MOAAP/src/Tracking_Functions.py:251: RuntimeWarning: All-NaN slice encountered\n",
      "  obj_max = np.nanmax(data_slice, axis=(1, 2))\n",
      "/work/aa0238/a271093/Scripts/MOAAP/src/Tracking_Functions.py:252: RuntimeWarning: Mean of empty slice\n",
      "  obj_mean = np.nanmean(data_slice, axis=(1, 2))\n",
      "/work/aa0238/a271093/Conda/MOAAP_env/lib/python3.12/site-packages/scipy/ndimage/_measurements.py:1541: RuntimeWarning: invalid value encountered in scalar divide\n",
      "  results = [sum(input * grids[dir].astype(float), labels, index) / normalizer\n"
     ]
    },
    {
     "name": "stdout",
     "output_type": "stream",
     "text": [
      "        check if MSs quallify as ARs\n"
     ]
    },
    {
     "name": "stderr",
     "output_type": "stream",
     "text": [
      "/work/aa0238/a271093/Scripts/MOAAP/src/Tracking_Functions.py:4588: RuntimeWarning: divide by zero encountered in scalar divide\n",
      "  if DIST.max() / DIST.min() < AR_width_lenght_ratio:\n"
     ]
    },
    {
     "name": "stdout",
     "output_type": "stream",
     "text": [
      "            Loop over 1490 objects\n",
      "        00:01:14.43\n",
      " \n",
      "Save the object masks into a joint netCDF\n",
      "Saved: /work/aa0238/a271093/results/MOAAP/IVT_Tracking/NorESM_ssp_remapped_3x/ObjectMasks_MOAPP_ICON_100and85NorESMsspperc_remapped_3x_2031_01_01-2031_08_01.nc\n",
      "        00:00:24.07\n",
      "clean up /work/aa0238/a271093/results/MOAAP/IVT_Tracking/NorESM_ssp_remapped_3x/IVT_MOAPP_ICON_100and85NorESMsspperc_remapped_3x_2031_01_01-2031_07_01.pkl\n",
      "clean up finished\n",
      "clean up /work/aa0238/a271093/results/MOAAP/IVT_Tracking/NorESM_ssp_remapped_3x/ARs_MOAPP_ICON_100and85NorESMsspperc_remapped_3x_2031_01_01-2031_07_01.pkl\n",
      "clean up finished\n",
      "correct nc-file with \n",
      " cdo -selmon,1,2,3,4,5,6 /work/aa0238/a271093/results/MOAAP/IVT_Tracking/NorESM_ssp_remapped_3x/ObjectMasks_MOAPP_ICON_100and85NorESMsspperc_remapped_3x_2031_01_01-2031_08_01.nc /work/aa0238/a271093/results/MOAAP/IVT_Tracking/NorESM_ssp_remapped_3x/ObjectMasks_MOAPP_ICON_100and85NorESMsspperc_remapped_3x_2031_01_01-2031_07_01_corrected.nc\n",
      "\n",
      " \n",
      " \n",
      " \n",
      "\n",
      "2031-07-01 00:00:00 2032-02-01 00:00:00\n",
      "Mergetime /work/aa0238/a271093/data/Jan_runs/ICON_NorESM_ssp/NorESM_ssp_remapped_3x/IVTu/IVTu_2031010100-2031123123_remapped_3x.nc /work/aa0238/a271093/data/Jan_runs/ICON_NorESM_ssp/NorESM_ssp_remapped_3x/IVTu/IVTu_2032010100-2032123123_remapped_3x.nc  /work/aa0238/a271093/scratch/mergedIVTu_2031_2032_remapped_3x.nc\n",
      "Mergetime /work/aa0238/a271093/data/Jan_runs/ICON_NorESM_ssp/NorESM_ssp_remapped_3x/IVTv/IVTv_2031010100-2031123123_remapped_3x.nc /work/aa0238/a271093/data/Jan_runs/ICON_NorESM_ssp/NorESM_ssp_remapped_3x/IVTv/IVTv_2032010100-2032123123_remapped_3x.nc  /work/aa0238/a271093/scratch/mergedIVTv_2031_2032_remapped_3x.nc\n",
      " \n",
      "The provided variables allow tracking the following phenomena\n",
      " \n",
      "|  phenomenon  | tracking |\n",
      "---------------------------\n",
      "   Jetstream   |   no\n",
      "   PSL CY/ACY  |   no\n",
      "   Z500 CY/ACY |   no\n",
      "   COLs        |   no\n",
      "   IVT ARs     |   yes\n",
      "   MS ARs      |   no\n",
      "   Fronts      |   no\n",
      "   TCs         |   no\n",
      "   MCSs        |   no\n",
      "   Equ. Waves  |   no\n",
      "---------------------------\n",
      " \n",
      "======> track IVT streams and atmospheric rivers (ARs)\n",
      "        2894 object found\n",
      "        break up long living IVT objects that have many elements\n"
     ]
    },
    {
     "name": "stderr",
     "output_type": "stream",
     "text": [
      "100%|██████████| 566/566 [00:22<00:00, 25.68it/s]\n"
     ]
    },
    {
     "name": "stdout",
     "output_type": "stream",
     "text": [
      "        00:00:27.98\n",
      "9\n",
      "            Loop over 1386 objects\n"
     ]
    },
    {
     "name": "stderr",
     "output_type": "stream",
     "text": [
      "/work/aa0238/a271093/Scripts/MOAAP/src/Tracking_Functions.py:250: RuntimeWarning: All-NaN slice encountered\n",
      "  obj_min = np.nanmin(data_slice, axis=(1, 2))\n",
      "/work/aa0238/a271093/Scripts/MOAAP/src/Tracking_Functions.py:251: RuntimeWarning: All-NaN slice encountered\n",
      "  obj_max = np.nanmax(data_slice, axis=(1, 2))\n",
      "/work/aa0238/a271093/Scripts/MOAAP/src/Tracking_Functions.py:252: RuntimeWarning: Mean of empty slice\n",
      "  obj_mean = np.nanmean(data_slice, axis=(1, 2))\n",
      "/work/aa0238/a271093/Conda/MOAAP_env/lib/python3.12/site-packages/scipy/ndimage/_measurements.py:1541: RuntimeWarning: invalid value encountered in scalar divide\n",
      "  results = [sum(input * grids[dir].astype(float), labels, index) / normalizer\n"
     ]
    },
    {
     "name": "stdout",
     "output_type": "stream",
     "text": [
      "        check if MSs quallify as ARs\n"
     ]
    },
    {
     "name": "stderr",
     "output_type": "stream",
     "text": [
      "/work/aa0238/a271093/Scripts/MOAAP/src/Tracking_Functions.py:4588: RuntimeWarning: divide by zero encountered in scalar divide\n",
      "  if DIST.max() / DIST.min() < AR_width_lenght_ratio:\n"
     ]
    },
    {
     "name": "stdout",
     "output_type": "stream",
     "text": [
      "            Loop over 1386 objects\n",
      "        00:01:09.85\n",
      " \n",
      "Save the object masks into a joint netCDF\n",
      "Saved: /work/aa0238/a271093/results/MOAAP/IVT_Tracking/NorESM_ssp_remapped_3x/ObjectMasks_MOAPP_ICON_100and85NorESMsspperc_remapped_3x_2031_07_01-2032_02_01.nc\n",
      "        00:00:24.30\n",
      "clean up /work/aa0238/a271093/results/MOAAP/IVT_Tracking/NorESM_ssp_remapped_3x/IVT_MOAPP_ICON_100and85NorESMsspperc_remapped_3x_2031_07_01-2032_01_01.pkl\n",
      "clean up finished\n",
      "clean up /work/aa0238/a271093/results/MOAAP/IVT_Tracking/NorESM_ssp_remapped_3x/ARs_MOAPP_ICON_100and85NorESMsspperc_remapped_3x_2031_07_01-2032_01_01.pkl\n",
      "clean up finished\n",
      "correct nc-file with \n",
      " cdo -selmon,6,7,8,9,10,11,12 /work/aa0238/a271093/results/MOAAP/IVT_Tracking/NorESM_ssp_remapped_3x/ObjectMasks_MOAPP_ICON_100and85NorESMsspperc_remapped_3x_2031_07_01-2032_02_01.nc /work/aa0238/a271093/results/MOAAP/IVT_Tracking/NorESM_ssp_remapped_3x/ObjectMasks_MOAPP_ICON_100and85NorESMsspperc_remapped_3x_2031_07_01-2032_01_01_corrected.nc\n",
      "\n",
      " \n",
      " \n",
      " \n",
      "\n",
      "2032-01-01 00:00:00 2032-08-01 00:00:00\n",
      " \n",
      "The provided variables allow tracking the following phenomena\n",
      " \n",
      "|  phenomenon  | tracking |\n",
      "---------------------------\n",
      "   Jetstream   |   no\n",
      "   PSL CY/ACY  |   no\n",
      "   Z500 CY/ACY |   no\n",
      "   COLs        |   no\n",
      "   IVT ARs     |   yes\n",
      "   MS ARs      |   no\n",
      "   Fronts      |   no\n",
      "   TCs         |   no\n",
      "   MCSs        |   no\n",
      "   Equ. Waves  |   no\n",
      "---------------------------\n",
      " \n",
      "======> track IVT streams and atmospheric rivers (ARs)\n",
      "        3104 object found\n",
      "        break up long living IVT objects that have many elements\n"
     ]
    },
    {
     "name": "stderr",
     "output_type": "stream",
     "text": [
      "100%|██████████| 599/599 [00:22<00:00, 26.18it/s]\n"
     ]
    },
    {
     "name": "stdout",
     "output_type": "stream",
     "text": [
      "        00:00:28.82\n",
      "9\n",
      "            Loop over 1524 objects\n"
     ]
    },
    {
     "name": "stderr",
     "output_type": "stream",
     "text": [
      "/work/aa0238/a271093/Scripts/MOAAP/src/Tracking_Functions.py:250: RuntimeWarning: All-NaN slice encountered\n",
      "  obj_min = np.nanmin(data_slice, axis=(1, 2))\n",
      "/work/aa0238/a271093/Scripts/MOAAP/src/Tracking_Functions.py:251: RuntimeWarning: All-NaN slice encountered\n",
      "  obj_max = np.nanmax(data_slice, axis=(1, 2))\n",
      "/work/aa0238/a271093/Scripts/MOAAP/src/Tracking_Functions.py:252: RuntimeWarning: Mean of empty slice\n",
      "  obj_mean = np.nanmean(data_slice, axis=(1, 2))\n",
      "/work/aa0238/a271093/Conda/MOAAP_env/lib/python3.12/site-packages/scipy/ndimage/_measurements.py:1541: RuntimeWarning: invalid value encountered in scalar divide\n",
      "  results = [sum(input * grids[dir].astype(float), labels, index) / normalizer\n"
     ]
    },
    {
     "name": "stdout",
     "output_type": "stream",
     "text": [
      "        check if MSs quallify as ARs\n"
     ]
    },
    {
     "name": "stderr",
     "output_type": "stream",
     "text": [
      "/work/aa0238/a271093/Scripts/MOAAP/src/Tracking_Functions.py:4588: RuntimeWarning: divide by zero encountered in scalar divide\n",
      "  if DIST.max() / DIST.min() < AR_width_lenght_ratio:\n"
     ]
    },
    {
     "name": "stdout",
     "output_type": "stream",
     "text": [
      "            Loop over 1524 objects\n",
      "        00:01:15.67\n",
      " \n",
      "Save the object masks into a joint netCDF\n",
      "Saved: /work/aa0238/a271093/results/MOAAP/IVT_Tracking/NorESM_ssp_remapped_3x/ObjectMasks_MOAPP_ICON_100and85NorESMsspperc_remapped_3x_2032_01_01-2032_08_01.nc\n",
      "        00:00:24.24\n",
      "clean up /work/aa0238/a271093/results/MOAAP/IVT_Tracking/NorESM_ssp_remapped_3x/IVT_MOAPP_ICON_100and85NorESMsspperc_remapped_3x_2032_01_01-2032_07_01.pkl\n",
      "clean up finished\n",
      "clean up /work/aa0238/a271093/results/MOAAP/IVT_Tracking/NorESM_ssp_remapped_3x/ARs_MOAPP_ICON_100and85NorESMsspperc_remapped_3x_2032_01_01-2032_07_01.pkl\n",
      "clean up finished\n",
      "correct nc-file with \n",
      " cdo -selmon,1,2,3,4,5,6 /work/aa0238/a271093/results/MOAAP/IVT_Tracking/NorESM_ssp_remapped_3x/ObjectMasks_MOAPP_ICON_100and85NorESMsspperc_remapped_3x_2032_01_01-2032_08_01.nc /work/aa0238/a271093/results/MOAAP/IVT_Tracking/NorESM_ssp_remapped_3x/ObjectMasks_MOAPP_ICON_100and85NorESMsspperc_remapped_3x_2032_01_01-2032_07_01_corrected.nc\n",
      "\n",
      " \n",
      " \n",
      " \n",
      "\n",
      "2032-07-01 00:00:00 2033-02-01 00:00:00\n",
      "Mergetime /work/aa0238/a271093/data/Jan_runs/ICON_NorESM_ssp/NorESM_ssp_remapped_3x/IVTu/IVTu_2032010100-2032123123_remapped_3x.nc /work/aa0238/a271093/data/Jan_runs/ICON_NorESM_ssp/NorESM_ssp_remapped_3x/IVTu/IVTu_2033010100-2033123123_remapped_3x.nc  /work/aa0238/a271093/scratch/mergedIVTu_2032_2033_remapped_3x.nc\n",
      "Mergetime /work/aa0238/a271093/data/Jan_runs/ICON_NorESM_ssp/NorESM_ssp_remapped_3x/IVTv/IVTv_2032010100-2032123123_remapped_3x.nc /work/aa0238/a271093/data/Jan_runs/ICON_NorESM_ssp/NorESM_ssp_remapped_3x/IVTv/IVTv_2033010100-2033123123_remapped_3x.nc  /work/aa0238/a271093/scratch/mergedIVTv_2032_2033_remapped_3x.nc\n",
      " \n",
      "The provided variables allow tracking the following phenomena\n",
      " \n",
      "|  phenomenon  | tracking |\n",
      "---------------------------\n",
      "   Jetstream   |   no\n",
      "   PSL CY/ACY  |   no\n",
      "   Z500 CY/ACY |   no\n",
      "   COLs        |   no\n",
      "   IVT ARs     |   yes\n",
      "   MS ARs      |   no\n",
      "   Fronts      |   no\n",
      "   TCs         |   no\n",
      "   MCSs        |   no\n",
      "   Equ. Waves  |   no\n",
      "---------------------------\n",
      " \n",
      "======> track IVT streams and atmospheric rivers (ARs)\n",
      "        2987 object found\n",
      "        break up long living IVT objects that have many elements\n"
     ]
    },
    {
     "name": "stderr",
     "output_type": "stream",
     "text": [
      "100%|██████████| 564/564 [00:22<00:00, 25.55it/s]\n"
     ]
    },
    {
     "name": "stdout",
     "output_type": "stream",
     "text": [
      "        00:00:27.89\n",
      "9\n",
      "            Loop over 1353 objects\n"
     ]
    },
    {
     "name": "stderr",
     "output_type": "stream",
     "text": [
      "/work/aa0238/a271093/Scripts/MOAAP/src/Tracking_Functions.py:250: RuntimeWarning: All-NaN slice encountered\n",
      "  obj_min = np.nanmin(data_slice, axis=(1, 2))\n",
      "/work/aa0238/a271093/Scripts/MOAAP/src/Tracking_Functions.py:251: RuntimeWarning: All-NaN slice encountered\n",
      "  obj_max = np.nanmax(data_slice, axis=(1, 2))\n",
      "/work/aa0238/a271093/Scripts/MOAAP/src/Tracking_Functions.py:252: RuntimeWarning: Mean of empty slice\n",
      "  obj_mean = np.nanmean(data_slice, axis=(1, 2))\n",
      "/work/aa0238/a271093/Conda/MOAAP_env/lib/python3.12/site-packages/scipy/ndimage/_measurements.py:1541: RuntimeWarning: invalid value encountered in scalar divide\n",
      "  results = [sum(input * grids[dir].astype(float), labels, index) / normalizer\n"
     ]
    },
    {
     "name": "stdout",
     "output_type": "stream",
     "text": [
      "        check if MSs quallify as ARs\n"
     ]
    },
    {
     "name": "stderr",
     "output_type": "stream",
     "text": [
      "/work/aa0238/a271093/Scripts/MOAAP/src/Tracking_Functions.py:4588: RuntimeWarning: divide by zero encountered in scalar divide\n",
      "  if DIST.max() / DIST.min() < AR_width_lenght_ratio:\n"
     ]
    },
    {
     "name": "stdout",
     "output_type": "stream",
     "text": [
      "            Loop over 1352 objects\n",
      "        00:01:07.11\n",
      " \n",
      "Save the object masks into a joint netCDF\n",
      "Saved: /work/aa0238/a271093/results/MOAAP/IVT_Tracking/NorESM_ssp_remapped_3x/ObjectMasks_MOAPP_ICON_100and85NorESMsspperc_remapped_3x_2032_07_01-2033_02_01.nc\n",
      "        00:00:24.33\n",
      "clean up /work/aa0238/a271093/results/MOAAP/IVT_Tracking/NorESM_ssp_remapped_3x/IVT_MOAPP_ICON_100and85NorESMsspperc_remapped_3x_2032_07_01-2033_01_01.pkl\n",
      "clean up finished\n",
      "clean up /work/aa0238/a271093/results/MOAAP/IVT_Tracking/NorESM_ssp_remapped_3x/ARs_MOAPP_ICON_100and85NorESMsspperc_remapped_3x_2032_07_01-2033_01_01.pkl\n",
      "clean up finished\n",
      "correct nc-file with \n",
      " cdo -selmon,6,7,8,9,10,11,12 /work/aa0238/a271093/results/MOAAP/IVT_Tracking/NorESM_ssp_remapped_3x/ObjectMasks_MOAPP_ICON_100and85NorESMsspperc_remapped_3x_2032_07_01-2033_02_01.nc /work/aa0238/a271093/results/MOAAP/IVT_Tracking/NorESM_ssp_remapped_3x/ObjectMasks_MOAPP_ICON_100and85NorESMsspperc_remapped_3x_2032_07_01-2033_01_01_corrected.nc\n",
      "\n",
      " \n",
      " \n",
      " \n",
      "\n",
      "2033-01-01 00:00:00 2033-08-01 00:00:00\n",
      " \n",
      "The provided variables allow tracking the following phenomena\n",
      " \n",
      "|  phenomenon  | tracking |\n",
      "---------------------------\n",
      "   Jetstream   |   no\n",
      "   PSL CY/ACY  |   no\n",
      "   Z500 CY/ACY |   no\n",
      "   COLs        |   no\n",
      "   IVT ARs     |   yes\n",
      "   MS ARs      |   no\n",
      "   Fronts      |   no\n",
      "   TCs         |   no\n",
      "   MCSs        |   no\n",
      "   Equ. Waves  |   no\n",
      "---------------------------\n",
      " \n",
      "======> track IVT streams and atmospheric rivers (ARs)\n",
      "        3154 object found\n",
      "        break up long living IVT objects that have many elements\n"
     ]
    },
    {
     "name": "stderr",
     "output_type": "stream",
     "text": [
      "100%|██████████| 589/589 [00:21<00:00, 27.65it/s] \n"
     ]
    },
    {
     "name": "stdout",
     "output_type": "stream",
     "text": [
      "        00:00:27.15\n",
      "9\n",
      "            Loop over 1573 objects\n"
     ]
    },
    {
     "name": "stderr",
     "output_type": "stream",
     "text": [
      "/work/aa0238/a271093/Scripts/MOAAP/src/Tracking_Functions.py:250: RuntimeWarning: All-NaN slice encountered\n",
      "  obj_min = np.nanmin(data_slice, axis=(1, 2))\n",
      "/work/aa0238/a271093/Scripts/MOAAP/src/Tracking_Functions.py:251: RuntimeWarning: All-NaN slice encountered\n",
      "  obj_max = np.nanmax(data_slice, axis=(1, 2))\n",
      "/work/aa0238/a271093/Scripts/MOAAP/src/Tracking_Functions.py:252: RuntimeWarning: Mean of empty slice\n",
      "  obj_mean = np.nanmean(data_slice, axis=(1, 2))\n",
      "/work/aa0238/a271093/Conda/MOAAP_env/lib/python3.12/site-packages/scipy/ndimage/_measurements.py:1541: RuntimeWarning: invalid value encountered in scalar divide\n",
      "  results = [sum(input * grids[dir].astype(float), labels, index) / normalizer\n"
     ]
    },
    {
     "name": "stdout",
     "output_type": "stream",
     "text": [
      "        check if MSs quallify as ARs\n"
     ]
    },
    {
     "name": "stderr",
     "output_type": "stream",
     "text": [
      "/work/aa0238/a271093/Scripts/MOAAP/src/Tracking_Functions.py:4588: RuntimeWarning: divide by zero encountered in scalar divide\n",
      "  if DIST.max() / DIST.min() < AR_width_lenght_ratio:\n"
     ]
    },
    {
     "name": "stdout",
     "output_type": "stream",
     "text": [
      "            Loop over 1573 objects\n",
      "        00:01:16.07\n",
      " \n",
      "Save the object masks into a joint netCDF\n",
      "Saved: /work/aa0238/a271093/results/MOAAP/IVT_Tracking/NorESM_ssp_remapped_3x/ObjectMasks_MOAPP_ICON_100and85NorESMsspperc_remapped_3x_2033_01_01-2033_08_01.nc\n",
      "        00:00:24.49\n",
      "clean up /work/aa0238/a271093/results/MOAAP/IVT_Tracking/NorESM_ssp_remapped_3x/IVT_MOAPP_ICON_100and85NorESMsspperc_remapped_3x_2033_01_01-2033_07_01.pkl\n",
      "clean up finished\n",
      "clean up /work/aa0238/a271093/results/MOAAP/IVT_Tracking/NorESM_ssp_remapped_3x/ARs_MOAPP_ICON_100and85NorESMsspperc_remapped_3x_2033_01_01-2033_07_01.pkl\n",
      "clean up finished\n",
      "correct nc-file with \n",
      " cdo -selmon,1,2,3,4,5,6 /work/aa0238/a271093/results/MOAAP/IVT_Tracking/NorESM_ssp_remapped_3x/ObjectMasks_MOAPP_ICON_100and85NorESMsspperc_remapped_3x_2033_01_01-2033_08_01.nc /work/aa0238/a271093/results/MOAAP/IVT_Tracking/NorESM_ssp_remapped_3x/ObjectMasks_MOAPP_ICON_100and85NorESMsspperc_remapped_3x_2033_01_01-2033_07_01_corrected.nc\n",
      "\n",
      " \n",
      " \n",
      " \n",
      "\n",
      "2033-07-01 00:00:00 2034-02-01 00:00:00\n",
      "Mergetime /work/aa0238/a271093/data/Jan_runs/ICON_NorESM_ssp/NorESM_ssp_remapped_3x/IVTu/IVTu_2033010100-2033123123_remapped_3x.nc /work/aa0238/a271093/data/Jan_runs/ICON_NorESM_ssp/NorESM_ssp_remapped_3x/IVTu/IVTu_2034010100-2034123123_remapped_3x.nc  /work/aa0238/a271093/scratch/mergedIVTu_2033_2034_remapped_3x.nc\n",
      "Mergetime /work/aa0238/a271093/data/Jan_runs/ICON_NorESM_ssp/NorESM_ssp_remapped_3x/IVTv/IVTv_2033010100-2033123123_remapped_3x.nc /work/aa0238/a271093/data/Jan_runs/ICON_NorESM_ssp/NorESM_ssp_remapped_3x/IVTv/IVTv_2034010100-2034123123_remapped_3x.nc  /work/aa0238/a271093/scratch/mergedIVTv_2033_2034_remapped_3x.nc\n",
      " \n",
      "The provided variables allow tracking the following phenomena\n",
      " \n",
      "|  phenomenon  | tracking |\n",
      "---------------------------\n",
      "   Jetstream   |   no\n",
      "   PSL CY/ACY  |   no\n",
      "   Z500 CY/ACY |   no\n",
      "   COLs        |   no\n",
      "   IVT ARs     |   yes\n",
      "   MS ARs      |   no\n",
      "   Fronts      |   no\n",
      "   TCs         |   no\n",
      "   MCSs        |   no\n",
      "   Equ. Waves  |   no\n",
      "---------------------------\n",
      " \n",
      "======> track IVT streams and atmospheric rivers (ARs)\n",
      "        2882 object found\n",
      "        break up long living IVT objects that have many elements\n"
     ]
    },
    {
     "name": "stderr",
     "output_type": "stream",
     "text": [
      "100%|██████████| 530/530 [00:22<00:00, 23.87it/s]\n"
     ]
    },
    {
     "name": "stdout",
     "output_type": "stream",
     "text": [
      "        00:00:28.11\n",
      "9\n",
      "            Loop over 1331 objects\n",
      "        check if MSs quallify as ARs\n"
     ]
    },
    {
     "name": "stderr",
     "output_type": "stream",
     "text": [
      "/work/aa0238/a271093/Scripts/MOAAP/src/Tracking_Functions.py:4588: RuntimeWarning: divide by zero encountered in scalar divide\n",
      "  if DIST.max() / DIST.min() < AR_width_lenght_ratio:\n"
     ]
    },
    {
     "name": "stdout",
     "output_type": "stream",
     "text": [
      "            Loop over 1331 objects\n"
     ]
    },
    {
     "name": "stderr",
     "output_type": "stream",
     "text": [
      "/work/aa0238/a271093/Scripts/MOAAP/src/Tracking_Functions.py:250: RuntimeWarning: All-NaN slice encountered\n",
      "  obj_min = np.nanmin(data_slice, axis=(1, 2))\n",
      "/work/aa0238/a271093/Scripts/MOAAP/src/Tracking_Functions.py:251: RuntimeWarning: All-NaN slice encountered\n",
      "  obj_max = np.nanmax(data_slice, axis=(1, 2))\n",
      "/work/aa0238/a271093/Scripts/MOAAP/src/Tracking_Functions.py:252: RuntimeWarning: Mean of empty slice\n",
      "  obj_mean = np.nanmean(data_slice, axis=(1, 2))\n",
      "/work/aa0238/a271093/Conda/MOAAP_env/lib/python3.12/site-packages/scipy/ndimage/_measurements.py:1541: RuntimeWarning: invalid value encountered in scalar divide\n",
      "  results = [sum(input * grids[dir].astype(float), labels, index) / normalizer\n"
     ]
    },
    {
     "name": "stdout",
     "output_type": "stream",
     "text": [
      "        00:01:09.61\n",
      " \n",
      "Save the object masks into a joint netCDF\n",
      "Saved: /work/aa0238/a271093/results/MOAAP/IVT_Tracking/NorESM_ssp_remapped_3x/ObjectMasks_MOAPP_ICON_100and85NorESMsspperc_remapped_3x_2033_07_01-2034_02_01.nc\n",
      "        00:00:24.48\n",
      "clean up /work/aa0238/a271093/results/MOAAP/IVT_Tracking/NorESM_ssp_remapped_3x/IVT_MOAPP_ICON_100and85NorESMsspperc_remapped_3x_2033_07_01-2034_01_01.pkl\n",
      "clean up finished\n",
      "clean up /work/aa0238/a271093/results/MOAAP/IVT_Tracking/NorESM_ssp_remapped_3x/ARs_MOAPP_ICON_100and85NorESMsspperc_remapped_3x_2033_07_01-2034_01_01.pkl\n",
      "clean up finished\n",
      "correct nc-file with \n",
      " cdo -selmon,6,7,8,9,10,11,12 /work/aa0238/a271093/results/MOAAP/IVT_Tracking/NorESM_ssp_remapped_3x/ObjectMasks_MOAPP_ICON_100and85NorESMsspperc_remapped_3x_2033_07_01-2034_02_01.nc /work/aa0238/a271093/results/MOAAP/IVT_Tracking/NorESM_ssp_remapped_3x/ObjectMasks_MOAPP_ICON_100and85NorESMsspperc_remapped_3x_2033_07_01-2034_01_01_corrected.nc\n",
      "\n",
      " \n",
      " \n",
      " \n",
      "\n",
      "2034-01-01 00:00:00 2034-08-01 00:00:00\n",
      " \n",
      "The provided variables allow tracking the following phenomena\n",
      " \n",
      "|  phenomenon  | tracking |\n",
      "---------------------------\n",
      "   Jetstream   |   no\n",
      "   PSL CY/ACY  |   no\n",
      "   Z500 CY/ACY |   no\n",
      "   COLs        |   no\n",
      "   IVT ARs     |   yes\n",
      "   MS ARs      |   no\n",
      "   Fronts      |   no\n",
      "   TCs         |   no\n",
      "   MCSs        |   no\n",
      "   Equ. Waves  |   no\n",
      "---------------------------\n",
      " \n",
      "======> track IVT streams and atmospheric rivers (ARs)\n",
      "        3046 object found\n",
      "        break up long living IVT objects that have many elements\n"
     ]
    },
    {
     "name": "stderr",
     "output_type": "stream",
     "text": [
      "100%|██████████| 595/595 [00:20<00:00, 28.36it/s]\n"
     ]
    },
    {
     "name": "stdout",
     "output_type": "stream",
     "text": [
      "        00:00:26.54\n",
      "9\n",
      "            Loop over 1434 objects\n"
     ]
    },
    {
     "name": "stderr",
     "output_type": "stream",
     "text": [
      "/work/aa0238/a271093/Scripts/MOAAP/src/Tracking_Functions.py:250: RuntimeWarning: All-NaN slice encountered\n",
      "  obj_min = np.nanmin(data_slice, axis=(1, 2))\n",
      "/work/aa0238/a271093/Scripts/MOAAP/src/Tracking_Functions.py:251: RuntimeWarning: All-NaN slice encountered\n",
      "  obj_max = np.nanmax(data_slice, axis=(1, 2))\n",
      "/work/aa0238/a271093/Scripts/MOAAP/src/Tracking_Functions.py:252: RuntimeWarning: Mean of empty slice\n",
      "  obj_mean = np.nanmean(data_slice, axis=(1, 2))\n",
      "/work/aa0238/a271093/Conda/MOAAP_env/lib/python3.12/site-packages/scipy/ndimage/_measurements.py:1541: RuntimeWarning: invalid value encountered in scalar divide\n",
      "  results = [sum(input * grids[dir].astype(float), labels, index) / normalizer\n"
     ]
    },
    {
     "name": "stdout",
     "output_type": "stream",
     "text": [
      "        check if MSs quallify as ARs\n"
     ]
    },
    {
     "name": "stderr",
     "output_type": "stream",
     "text": [
      "/work/aa0238/a271093/Scripts/MOAAP/src/Tracking_Functions.py:4588: RuntimeWarning: divide by zero encountered in scalar divide\n",
      "  if DIST.max() / DIST.min() < AR_width_lenght_ratio:\n"
     ]
    },
    {
     "name": "stdout",
     "output_type": "stream",
     "text": [
      "            Loop over 1432 objects\n",
      "        00:01:07.50\n",
      " \n",
      "Save the object masks into a joint netCDF\n",
      "Saved: /work/aa0238/a271093/results/MOAAP/IVT_Tracking/NorESM_ssp_remapped_3x/ObjectMasks_MOAPP_ICON_100and85NorESMsspperc_remapped_3x_2034_01_01-2034_08_01.nc\n",
      "        00:00:23.75\n",
      "clean up /work/aa0238/a271093/results/MOAAP/IVT_Tracking/NorESM_ssp_remapped_3x/IVT_MOAPP_ICON_100and85NorESMsspperc_remapped_3x_2034_01_01-2034_07_01.pkl\n",
      "clean up finished\n",
      "clean up /work/aa0238/a271093/results/MOAAP/IVT_Tracking/NorESM_ssp_remapped_3x/ARs_MOAPP_ICON_100and85NorESMsspperc_remapped_3x_2034_01_01-2034_07_01.pkl\n",
      "clean up finished\n",
      "correct nc-file with \n",
      " cdo -selmon,1,2,3,4,5,6 /work/aa0238/a271093/results/MOAAP/IVT_Tracking/NorESM_ssp_remapped_3x/ObjectMasks_MOAPP_ICON_100and85NorESMsspperc_remapped_3x_2034_01_01-2034_08_01.nc /work/aa0238/a271093/results/MOAAP/IVT_Tracking/NorESM_ssp_remapped_3x/ObjectMasks_MOAPP_ICON_100and85NorESMsspperc_remapped_3x_2034_01_01-2034_07_01_corrected.nc\n",
      "\n",
      " \n",
      " \n",
      " \n",
      "\n",
      "2034-07-01 00:00:00 2035-02-01 00:00:00\n",
      "Mergetime /work/aa0238/a271093/data/Jan_runs/ICON_NorESM_ssp/NorESM_ssp_remapped_3x/IVTu/IVTu_2034010100-2034123123_remapped_3x.nc /work/aa0238/a271093/data/Jan_runs/ICON_NorESM_ssp/NorESM_ssp_remapped_3x/IVTu/IVTu_2035010100-2035123123_remapped_3x.nc  /work/aa0238/a271093/scratch/mergedIVTu_2034_2035_remapped_3x.nc\n",
      "Mergetime /work/aa0238/a271093/data/Jan_runs/ICON_NorESM_ssp/NorESM_ssp_remapped_3x/IVTv/IVTv_2034010100-2034123123_remapped_3x.nc /work/aa0238/a271093/data/Jan_runs/ICON_NorESM_ssp/NorESM_ssp_remapped_3x/IVTv/IVTv_2035010100-2035123123_remapped_3x.nc  /work/aa0238/a271093/scratch/mergedIVTv_2034_2035_remapped_3x.nc\n",
      " \n",
      "The provided variables allow tracking the following phenomena\n",
      " \n",
      "|  phenomenon  | tracking |\n",
      "---------------------------\n",
      "   Jetstream   |   no\n",
      "   PSL CY/ACY  |   no\n",
      "   Z500 CY/ACY |   no\n",
      "   COLs        |   no\n",
      "   IVT ARs     |   yes\n",
      "   MS ARs      |   no\n",
      "   Fronts      |   no\n",
      "   TCs         |   no\n",
      "   MCSs        |   no\n",
      "   Equ. Waves  |   no\n",
      "---------------------------\n",
      " \n",
      "======> track IVT streams and atmospheric rivers (ARs)\n",
      "        2991 object found\n",
      "        break up long living IVT objects that have many elements\n"
     ]
    },
    {
     "name": "stderr",
     "output_type": "stream",
     "text": [
      "100%|██████████| 605/605 [00:21<00:00, 28.03it/s]\n"
     ]
    },
    {
     "name": "stdout",
     "output_type": "stream",
     "text": [
      "        00:00:27.41\n",
      "9\n",
      "            Loop over 1425 objects\n"
     ]
    },
    {
     "name": "stderr",
     "output_type": "stream",
     "text": [
      "/work/aa0238/a271093/Scripts/MOAAP/src/Tracking_Functions.py:250: RuntimeWarning: All-NaN slice encountered\n",
      "  obj_min = np.nanmin(data_slice, axis=(1, 2))\n",
      "/work/aa0238/a271093/Scripts/MOAAP/src/Tracking_Functions.py:251: RuntimeWarning: All-NaN slice encountered\n",
      "  obj_max = np.nanmax(data_slice, axis=(1, 2))\n",
      "/work/aa0238/a271093/Scripts/MOAAP/src/Tracking_Functions.py:252: RuntimeWarning: Mean of empty slice\n",
      "  obj_mean = np.nanmean(data_slice, axis=(1, 2))\n",
      "/work/aa0238/a271093/Conda/MOAAP_env/lib/python3.12/site-packages/scipy/ndimage/_measurements.py:1541: RuntimeWarning: invalid value encountered in scalar divide\n",
      "  results = [sum(input * grids[dir].astype(float), labels, index) / normalizer\n"
     ]
    },
    {
     "name": "stdout",
     "output_type": "stream",
     "text": [
      "        check if MSs quallify as ARs\n"
     ]
    },
    {
     "name": "stderr",
     "output_type": "stream",
     "text": [
      "/work/aa0238/a271093/Scripts/MOAAP/src/Tracking_Functions.py:4588: RuntimeWarning: divide by zero encountered in scalar divide\n",
      "  if DIST.max() / DIST.min() < AR_width_lenght_ratio:\n"
     ]
    },
    {
     "name": "stdout",
     "output_type": "stream",
     "text": [
      "            Loop over 1425 objects\n",
      "        00:01:09.54\n",
      " \n",
      "Save the object masks into a joint netCDF\n",
      "Saved: /work/aa0238/a271093/results/MOAAP/IVT_Tracking/NorESM_ssp_remapped_3x/ObjectMasks_MOAPP_ICON_100and85NorESMsspperc_remapped_3x_2034_07_01-2035_02_01.nc\n",
      "        00:00:24.33\n",
      "clean up /work/aa0238/a271093/results/MOAAP/IVT_Tracking/NorESM_ssp_remapped_3x/IVT_MOAPP_ICON_100and85NorESMsspperc_remapped_3x_2034_07_01-2035_01_01.pkl\n",
      "clean up finished\n",
      "clean up /work/aa0238/a271093/results/MOAAP/IVT_Tracking/NorESM_ssp_remapped_3x/ARs_MOAPP_ICON_100and85NorESMsspperc_remapped_3x_2034_07_01-2035_01_01.pkl\n",
      "clean up finished\n",
      "correct nc-file with \n",
      " cdo -selmon,6,7,8,9,10,11,12 /work/aa0238/a271093/results/MOAAP/IVT_Tracking/NorESM_ssp_remapped_3x/ObjectMasks_MOAPP_ICON_100and85NorESMsspperc_remapped_3x_2034_07_01-2035_02_01.nc /work/aa0238/a271093/results/MOAAP/IVT_Tracking/NorESM_ssp_remapped_3x/ObjectMasks_MOAPP_ICON_100and85NorESMsspperc_remapped_3x_2034_07_01-2035_01_01_corrected.nc\n",
      "\n",
      " \n",
      " \n",
      " \n",
      "\n",
      "2035-01-01 00:00:00 2035-08-01 00:00:00\n",
      " \n",
      "The provided variables allow tracking the following phenomena\n",
      " \n",
      "|  phenomenon  | tracking |\n",
      "---------------------------\n",
      "   Jetstream   |   no\n",
      "   PSL CY/ACY  |   no\n",
      "   Z500 CY/ACY |   no\n",
      "   COLs        |   no\n",
      "   IVT ARs     |   yes\n",
      "   MS ARs      |   no\n",
      "   Fronts      |   no\n",
      "   TCs         |   no\n",
      "   MCSs        |   no\n",
      "   Equ. Waves  |   no\n",
      "---------------------------\n",
      " \n",
      "======> track IVT streams and atmospheric rivers (ARs)\n",
      "        3292 object found\n",
      "        break up long living IVT objects that have many elements\n"
     ]
    },
    {
     "name": "stderr",
     "output_type": "stream",
     "text": [
      "100%|██████████| 593/593 [00:26<00:00, 22.72it/s]\n"
     ]
    },
    {
     "name": "stdout",
     "output_type": "stream",
     "text": [
      "        00:00:31.96\n",
      "9\n",
      "            Loop over 1571 objects\n"
     ]
    },
    {
     "name": "stderr",
     "output_type": "stream",
     "text": [
      "/work/aa0238/a271093/Scripts/MOAAP/src/Tracking_Functions.py:250: RuntimeWarning: All-NaN slice encountered\n",
      "  obj_min = np.nanmin(data_slice, axis=(1, 2))\n",
      "/work/aa0238/a271093/Scripts/MOAAP/src/Tracking_Functions.py:251: RuntimeWarning: All-NaN slice encountered\n",
      "  obj_max = np.nanmax(data_slice, axis=(1, 2))\n",
      "/work/aa0238/a271093/Scripts/MOAAP/src/Tracking_Functions.py:252: RuntimeWarning: Mean of empty slice\n",
      "  obj_mean = np.nanmean(data_slice, axis=(1, 2))\n",
      "/work/aa0238/a271093/Conda/MOAAP_env/lib/python3.12/site-packages/scipy/ndimage/_measurements.py:1541: RuntimeWarning: invalid value encountered in scalar divide\n",
      "  results = [sum(input * grids[dir].astype(float), labels, index) / normalizer\n"
     ]
    },
    {
     "name": "stdout",
     "output_type": "stream",
     "text": [
      "        check if MSs quallify as ARs\n"
     ]
    },
    {
     "name": "stderr",
     "output_type": "stream",
     "text": [
      "/work/aa0238/a271093/Scripts/MOAAP/src/Tracking_Functions.py:4588: RuntimeWarning: divide by zero encountered in scalar divide\n",
      "  if DIST.max() / DIST.min() < AR_width_lenght_ratio:\n"
     ]
    },
    {
     "name": "stdout",
     "output_type": "stream",
     "text": [
      "            Loop over 1568 objects\n",
      "        00:01:19.26\n",
      " \n",
      "Save the object masks into a joint netCDF\n",
      "Saved: /work/aa0238/a271093/results/MOAAP/IVT_Tracking/NorESM_ssp_remapped_3x/ObjectMasks_MOAPP_ICON_100and85NorESMsspperc_remapped_3x_2035_01_01-2035_08_01.nc\n",
      "        00:00:24.04\n",
      "clean up /work/aa0238/a271093/results/MOAAP/IVT_Tracking/NorESM_ssp_remapped_3x/IVT_MOAPP_ICON_100and85NorESMsspperc_remapped_3x_2035_01_01-2035_07_01.pkl\n",
      "clean up finished\n",
      "clean up /work/aa0238/a271093/results/MOAAP/IVT_Tracking/NorESM_ssp_remapped_3x/ARs_MOAPP_ICON_100and85NorESMsspperc_remapped_3x_2035_01_01-2035_07_01.pkl\n",
      "clean up finished\n",
      "correct nc-file with \n",
      " cdo -selmon,1,2,3,4,5,6 /work/aa0238/a271093/results/MOAAP/IVT_Tracking/NorESM_ssp_remapped_3x/ObjectMasks_MOAPP_ICON_100and85NorESMsspperc_remapped_3x_2035_01_01-2035_08_01.nc /work/aa0238/a271093/results/MOAAP/IVT_Tracking/NorESM_ssp_remapped_3x/ObjectMasks_MOAPP_ICON_100and85NorESMsspperc_remapped_3x_2035_01_01-2035_07_01_corrected.nc\n",
      "\n",
      " \n",
      " \n",
      " \n",
      "\n",
      "2035-07-01 00:00:00 2036-02-01 00:00:00\n",
      "Mergetime /work/aa0238/a271093/data/Jan_runs/ICON_NorESM_ssp/NorESM_ssp_remapped_3x/IVTu/IVTu_2035010100-2035123123_remapped_3x.nc /work/aa0238/a271093/data/Jan_runs/ICON_NorESM_ssp/NorESM_ssp_remapped_3x/IVTu/IVTu_2036010100-2036123123_remapped_3x.nc  /work/aa0238/a271093/scratch/mergedIVTu_2035_2036_remapped_3x.nc\n",
      "Mergetime /work/aa0238/a271093/data/Jan_runs/ICON_NorESM_ssp/NorESM_ssp_remapped_3x/IVTv/IVTv_2035010100-2035123123_remapped_3x.nc /work/aa0238/a271093/data/Jan_runs/ICON_NorESM_ssp/NorESM_ssp_remapped_3x/IVTv/IVTv_2036010100-2036123123_remapped_3x.nc  /work/aa0238/a271093/scratch/mergedIVTv_2035_2036_remapped_3x.nc\n",
      " \n",
      "The provided variables allow tracking the following phenomena\n",
      " \n",
      "|  phenomenon  | tracking |\n",
      "---------------------------\n",
      "   Jetstream   |   no\n",
      "   PSL CY/ACY  |   no\n",
      "   Z500 CY/ACY |   no\n",
      "   COLs        |   no\n",
      "   IVT ARs     |   yes\n",
      "   MS ARs      |   no\n",
      "   Fronts      |   no\n",
      "   TCs         |   no\n",
      "   MCSs        |   no\n",
      "   Equ. Waves  |   no\n",
      "---------------------------\n",
      " \n",
      "======> track IVT streams and atmospheric rivers (ARs)\n",
      "        2839 object found\n",
      "        break up long living IVT objects that have many elements\n"
     ]
    },
    {
     "name": "stderr",
     "output_type": "stream",
     "text": [
      "100%|██████████| 533/533 [00:21<00:00, 24.97it/s]\n"
     ]
    },
    {
     "name": "stdout",
     "output_type": "stream",
     "text": [
      "        00:00:27.19\n",
      "9\n",
      "            Loop over 1359 objects\n",
      "        check if MSs quallify as ARs\n"
     ]
    },
    {
     "name": "stderr",
     "output_type": "stream",
     "text": [
      "/work/aa0238/a271093/Scripts/MOAAP/src/Tracking_Functions.py:4588: RuntimeWarning: divide by zero encountered in scalar divide\n",
      "  if DIST.max() / DIST.min() < AR_width_lenght_ratio:\n"
     ]
    },
    {
     "name": "stdout",
     "output_type": "stream",
     "text": [
      "            Loop over 1356 objects\n"
     ]
    },
    {
     "name": "stderr",
     "output_type": "stream",
     "text": [
      "/work/aa0238/a271093/Scripts/MOAAP/src/Tracking_Functions.py:250: RuntimeWarning: All-NaN slice encountered\n",
      "  obj_min = np.nanmin(data_slice, axis=(1, 2))\n",
      "/work/aa0238/a271093/Scripts/MOAAP/src/Tracking_Functions.py:251: RuntimeWarning: All-NaN slice encountered\n",
      "  obj_max = np.nanmax(data_slice, axis=(1, 2))\n",
      "/work/aa0238/a271093/Scripts/MOAAP/src/Tracking_Functions.py:252: RuntimeWarning: Mean of empty slice\n",
      "  obj_mean = np.nanmean(data_slice, axis=(1, 2))\n",
      "/work/aa0238/a271093/Conda/MOAAP_env/lib/python3.12/site-packages/scipy/ndimage/_measurements.py:1541: RuntimeWarning: invalid value encountered in scalar divide\n",
      "  results = [sum(input * grids[dir].astype(float), labels, index) / normalizer\n"
     ]
    },
    {
     "name": "stdout",
     "output_type": "stream",
     "text": [
      "        00:01:10.88\n",
      " \n",
      "Save the object masks into a joint netCDF\n",
      "Saved: /work/aa0238/a271093/results/MOAAP/IVT_Tracking/NorESM_ssp_remapped_3x/ObjectMasks_MOAPP_ICON_100and85NorESMsspperc_remapped_3x_2035_07_01-2036_02_01.nc\n",
      "        00:00:24.34\n",
      "clean up /work/aa0238/a271093/results/MOAAP/IVT_Tracking/NorESM_ssp_remapped_3x/IVT_MOAPP_ICON_100and85NorESMsspperc_remapped_3x_2035_07_01-2036_01_01.pkl\n",
      "clean up finished\n",
      "clean up /work/aa0238/a271093/results/MOAAP/IVT_Tracking/NorESM_ssp_remapped_3x/ARs_MOAPP_ICON_100and85NorESMsspperc_remapped_3x_2035_07_01-2036_01_01.pkl\n",
      "clean up finished\n",
      "correct nc-file with \n",
      " cdo -selmon,6,7,8,9,10,11,12 /work/aa0238/a271093/results/MOAAP/IVT_Tracking/NorESM_ssp_remapped_3x/ObjectMasks_MOAPP_ICON_100and85NorESMsspperc_remapped_3x_2035_07_01-2036_02_01.nc /work/aa0238/a271093/results/MOAAP/IVT_Tracking/NorESM_ssp_remapped_3x/ObjectMasks_MOAPP_ICON_100and85NorESMsspperc_remapped_3x_2035_07_01-2036_01_01_corrected.nc\n",
      "\n",
      " \n",
      " \n",
      " \n",
      "\n",
      "2036-01-01 00:00:00 2036-08-01 00:00:00\n",
      " \n",
      "The provided variables allow tracking the following phenomena\n",
      " \n",
      "|  phenomenon  | tracking |\n",
      "---------------------------\n",
      "   Jetstream   |   no\n",
      "   PSL CY/ACY  |   no\n",
      "   Z500 CY/ACY |   no\n",
      "   COLs        |   no\n",
      "   IVT ARs     |   yes\n",
      "   MS ARs      |   no\n",
      "   Fronts      |   no\n",
      "   TCs         |   no\n",
      "   MCSs        |   no\n",
      "   Equ. Waves  |   no\n",
      "---------------------------\n",
      " \n",
      "======> track IVT streams and atmospheric rivers (ARs)\n",
      "        3403 object found\n",
      "        break up long living IVT objects that have many elements\n"
     ]
    },
    {
     "name": "stderr",
     "output_type": "stream",
     "text": [
      "100%|██████████| 665/665 [00:23<00:00, 27.79it/s]\n"
     ]
    },
    {
     "name": "stdout",
     "output_type": "stream",
     "text": [
      "        00:00:29.67\n",
      "9\n",
      "            Loop over 1658 objects\n"
     ]
    },
    {
     "name": "stderr",
     "output_type": "stream",
     "text": [
      "/work/aa0238/a271093/Scripts/MOAAP/src/Tracking_Functions.py:250: RuntimeWarning: All-NaN slice encountered\n",
      "  obj_min = np.nanmin(data_slice, axis=(1, 2))\n",
      "/work/aa0238/a271093/Scripts/MOAAP/src/Tracking_Functions.py:251: RuntimeWarning: All-NaN slice encountered\n",
      "  obj_max = np.nanmax(data_slice, axis=(1, 2))\n",
      "/work/aa0238/a271093/Scripts/MOAAP/src/Tracking_Functions.py:252: RuntimeWarning: Mean of empty slice\n",
      "  obj_mean = np.nanmean(data_slice, axis=(1, 2))\n",
      "/work/aa0238/a271093/Conda/MOAAP_env/lib/python3.12/site-packages/scipy/ndimage/_measurements.py:1541: RuntimeWarning: invalid value encountered in scalar divide\n",
      "  results = [sum(input * grids[dir].astype(float), labels, index) / normalizer\n"
     ]
    },
    {
     "name": "stdout",
     "output_type": "stream",
     "text": [
      "        check if MSs quallify as ARs\n"
     ]
    },
    {
     "name": "stderr",
     "output_type": "stream",
     "text": [
      "/work/aa0238/a271093/Scripts/MOAAP/src/Tracking_Functions.py:4588: RuntimeWarning: divide by zero encountered in scalar divide\n",
      "  if DIST.max() / DIST.min() < AR_width_lenght_ratio:\n"
     ]
    },
    {
     "name": "stdout",
     "output_type": "stream",
     "text": [
      "            Loop over 1658 objects\n",
      "        00:01:16.23\n",
      " \n",
      "Save the object masks into a joint netCDF\n",
      "Saved: /work/aa0238/a271093/results/MOAAP/IVT_Tracking/NorESM_ssp_remapped_3x/ObjectMasks_MOAPP_ICON_100and85NorESMsspperc_remapped_3x_2036_01_01-2036_08_01.nc\n",
      "        00:00:24.19\n",
      "clean up /work/aa0238/a271093/results/MOAAP/IVT_Tracking/NorESM_ssp_remapped_3x/IVT_MOAPP_ICON_100and85NorESMsspperc_remapped_3x_2036_01_01-2036_07_01.pkl\n",
      "clean up finished\n",
      "clean up /work/aa0238/a271093/results/MOAAP/IVT_Tracking/NorESM_ssp_remapped_3x/ARs_MOAPP_ICON_100and85NorESMsspperc_remapped_3x_2036_01_01-2036_07_01.pkl\n",
      "clean up finished\n",
      "correct nc-file with \n",
      " cdo -selmon,1,2,3,4,5,6 /work/aa0238/a271093/results/MOAAP/IVT_Tracking/NorESM_ssp_remapped_3x/ObjectMasks_MOAPP_ICON_100and85NorESMsspperc_remapped_3x_2036_01_01-2036_08_01.nc /work/aa0238/a271093/results/MOAAP/IVT_Tracking/NorESM_ssp_remapped_3x/ObjectMasks_MOAPP_ICON_100and85NorESMsspperc_remapped_3x_2036_01_01-2036_07_01_corrected.nc\n",
      "\n",
      " \n",
      " \n",
      " \n",
      "\n",
      "2036-07-01 00:00:00 2037-02-01 00:00:00\n",
      "Mergetime /work/aa0238/a271093/data/Jan_runs/ICON_NorESM_ssp/NorESM_ssp_remapped_3x/IVTu/IVTu_2036010100-2036123123_remapped_3x.nc /work/aa0238/a271093/data/Jan_runs/ICON_NorESM_ssp/NorESM_ssp_remapped_3x/IVTu/IVTu_2037010100-2037123123_remapped_3x.nc  /work/aa0238/a271093/scratch/mergedIVTu_2036_2037_remapped_3x.nc\n",
      "Mergetime /work/aa0238/a271093/data/Jan_runs/ICON_NorESM_ssp/NorESM_ssp_remapped_3x/IVTv/IVTv_2036010100-2036123123_remapped_3x.nc /work/aa0238/a271093/data/Jan_runs/ICON_NorESM_ssp/NorESM_ssp_remapped_3x/IVTv/IVTv_2037010100-2037123123_remapped_3x.nc  /work/aa0238/a271093/scratch/mergedIVTv_2036_2037_remapped_3x.nc\n",
      " \n",
      "The provided variables allow tracking the following phenomena\n",
      " \n",
      "|  phenomenon  | tracking |\n",
      "---------------------------\n",
      "   Jetstream   |   no\n",
      "   PSL CY/ACY  |   no\n",
      "   Z500 CY/ACY |   no\n",
      "   COLs        |   no\n",
      "   IVT ARs     |   yes\n",
      "   MS ARs      |   no\n",
      "   Fronts      |   no\n",
      "   TCs         |   no\n",
      "   MCSs        |   no\n",
      "   Equ. Waves  |   no\n",
      "---------------------------\n",
      " \n",
      "======> track IVT streams and atmospheric rivers (ARs)\n",
      "        2990 object found\n",
      "        break up long living IVT objects that have many elements\n"
     ]
    },
    {
     "name": "stderr",
     "output_type": "stream",
     "text": [
      "100%|██████████| 598/598 [00:22<00:00, 26.53it/s]\n"
     ]
    },
    {
     "name": "stdout",
     "output_type": "stream",
     "text": [
      "        00:00:28.37\n",
      "9\n",
      "            Loop over 1404 objects\n"
     ]
    },
    {
     "name": "stderr",
     "output_type": "stream",
     "text": [
      "/work/aa0238/a271093/Scripts/MOAAP/src/Tracking_Functions.py:250: RuntimeWarning: All-NaN slice encountered\n",
      "  obj_min = np.nanmin(data_slice, axis=(1, 2))\n",
      "/work/aa0238/a271093/Scripts/MOAAP/src/Tracking_Functions.py:251: RuntimeWarning: All-NaN slice encountered\n",
      "  obj_max = np.nanmax(data_slice, axis=(1, 2))\n",
      "/work/aa0238/a271093/Scripts/MOAAP/src/Tracking_Functions.py:252: RuntimeWarning: Mean of empty slice\n",
      "  obj_mean = np.nanmean(data_slice, axis=(1, 2))\n",
      "/work/aa0238/a271093/Conda/MOAAP_env/lib/python3.12/site-packages/scipy/ndimage/_measurements.py:1541: RuntimeWarning: invalid value encountered in scalar divide\n",
      "  results = [sum(input * grids[dir].astype(float), labels, index) / normalizer\n"
     ]
    },
    {
     "name": "stdout",
     "output_type": "stream",
     "text": [
      "        check if MSs quallify as ARs\n"
     ]
    },
    {
     "name": "stderr",
     "output_type": "stream",
     "text": [
      "/work/aa0238/a271093/Scripts/MOAAP/src/Tracking_Functions.py:4588: RuntimeWarning: divide by zero encountered in scalar divide\n",
      "  if DIST.max() / DIST.min() < AR_width_lenght_ratio:\n"
     ]
    },
    {
     "name": "stdout",
     "output_type": "stream",
     "text": [
      "            Loop over 1404 objects\n",
      "        00:01:11.97\n",
      " \n",
      "Save the object masks into a joint netCDF\n",
      "Saved: /work/aa0238/a271093/results/MOAAP/IVT_Tracking/NorESM_ssp_remapped_3x/ObjectMasks_MOAPP_ICON_100and85NorESMsspperc_remapped_3x_2036_07_01-2037_02_01.nc\n",
      "        00:00:24.85\n",
      "clean up /work/aa0238/a271093/results/MOAAP/IVT_Tracking/NorESM_ssp_remapped_3x/IVT_MOAPP_ICON_100and85NorESMsspperc_remapped_3x_2036_07_01-2037_01_01.pkl\n",
      "clean up finished\n",
      "clean up /work/aa0238/a271093/results/MOAAP/IVT_Tracking/NorESM_ssp_remapped_3x/ARs_MOAPP_ICON_100and85NorESMsspperc_remapped_3x_2036_07_01-2037_01_01.pkl\n",
      "clean up finished\n",
      "correct nc-file with \n",
      " cdo -selmon,6,7,8,9,10,11,12 /work/aa0238/a271093/results/MOAAP/IVT_Tracking/NorESM_ssp_remapped_3x/ObjectMasks_MOAPP_ICON_100and85NorESMsspperc_remapped_3x_2036_07_01-2037_02_01.nc /work/aa0238/a271093/results/MOAAP/IVT_Tracking/NorESM_ssp_remapped_3x/ObjectMasks_MOAPP_ICON_100and85NorESMsspperc_remapped_3x_2036_07_01-2037_01_01_corrected.nc\n",
      "\n",
      " \n",
      " \n",
      " \n",
      "\n",
      "2037-01-01 00:00:00 2037-08-01 00:00:00\n",
      " \n",
      "The provided variables allow tracking the following phenomena\n",
      " \n",
      "|  phenomenon  | tracking |\n",
      "---------------------------\n",
      "   Jetstream   |   no\n",
      "   PSL CY/ACY  |   no\n",
      "   Z500 CY/ACY |   no\n",
      "   COLs        |   no\n",
      "   IVT ARs     |   yes\n",
      "   MS ARs      |   no\n",
      "   Fronts      |   no\n",
      "   TCs         |   no\n",
      "   MCSs        |   no\n",
      "   Equ. Waves  |   no\n",
      "---------------------------\n",
      " \n",
      "======> track IVT streams and atmospheric rivers (ARs)\n",
      "        3576 object found\n",
      "        break up long living IVT objects that have many elements\n"
     ]
    },
    {
     "name": "stderr",
     "output_type": "stream",
     "text": [
      "100%|██████████| 640/640 [00:26<00:00, 24.58it/s] \n"
     ]
    },
    {
     "name": "stdout",
     "output_type": "stream",
     "text": [
      "        00:00:32.03\n",
      "9\n",
      "            Loop over 1670 objects\n"
     ]
    },
    {
     "name": "stderr",
     "output_type": "stream",
     "text": [
      "/work/aa0238/a271093/Scripts/MOAAP/src/Tracking_Functions.py:250: RuntimeWarning: All-NaN slice encountered\n",
      "  obj_min = np.nanmin(data_slice, axis=(1, 2))\n",
      "/work/aa0238/a271093/Scripts/MOAAP/src/Tracking_Functions.py:251: RuntimeWarning: All-NaN slice encountered\n",
      "  obj_max = np.nanmax(data_slice, axis=(1, 2))\n",
      "/work/aa0238/a271093/Scripts/MOAAP/src/Tracking_Functions.py:252: RuntimeWarning: Mean of empty slice\n",
      "  obj_mean = np.nanmean(data_slice, axis=(1, 2))\n",
      "/work/aa0238/a271093/Conda/MOAAP_env/lib/python3.12/site-packages/scipy/ndimage/_measurements.py:1541: RuntimeWarning: invalid value encountered in scalar divide\n",
      "  results = [sum(input * grids[dir].astype(float), labels, index) / normalizer\n"
     ]
    },
    {
     "name": "stdout",
     "output_type": "stream",
     "text": [
      "        check if MSs quallify as ARs\n"
     ]
    },
    {
     "name": "stderr",
     "output_type": "stream",
     "text": [
      "/work/aa0238/a271093/Scripts/MOAAP/src/Tracking_Functions.py:4588: RuntimeWarning: divide by zero encountered in scalar divide\n",
      "  if DIST.max() / DIST.min() < AR_width_lenght_ratio:\n"
     ]
    },
    {
     "name": "stdout",
     "output_type": "stream",
     "text": [
      "            Loop over 1670 objects\n",
      "        00:01:21.14\n",
      " \n",
      "Save the object masks into a joint netCDF\n",
      "Saved: /work/aa0238/a271093/results/MOAAP/IVT_Tracking/NorESM_ssp_remapped_3x/ObjectMasks_MOAPP_ICON_100and85NorESMsspperc_remapped_3x_2037_01_01-2037_08_01.nc\n",
      "        00:00:24.52\n",
      "clean up /work/aa0238/a271093/results/MOAAP/IVT_Tracking/NorESM_ssp_remapped_3x/IVT_MOAPP_ICON_100and85NorESMsspperc_remapped_3x_2037_01_01-2037_07_01.pkl\n",
      "clean up finished\n",
      "clean up /work/aa0238/a271093/results/MOAAP/IVT_Tracking/NorESM_ssp_remapped_3x/ARs_MOAPP_ICON_100and85NorESMsspperc_remapped_3x_2037_01_01-2037_07_01.pkl\n",
      "clean up finished\n",
      "correct nc-file with \n",
      " cdo -selmon,1,2,3,4,5,6 /work/aa0238/a271093/results/MOAAP/IVT_Tracking/NorESM_ssp_remapped_3x/ObjectMasks_MOAPP_ICON_100and85NorESMsspperc_remapped_3x_2037_01_01-2037_08_01.nc /work/aa0238/a271093/results/MOAAP/IVT_Tracking/NorESM_ssp_remapped_3x/ObjectMasks_MOAPP_ICON_100and85NorESMsspperc_remapped_3x_2037_01_01-2037_07_01_corrected.nc\n",
      "\n",
      " \n",
      " \n",
      " \n",
      "\n",
      "2037-07-01 00:00:00 2038-02-01 00:00:00\n",
      "Mergetime /work/aa0238/a271093/data/Jan_runs/ICON_NorESM_ssp/NorESM_ssp_remapped_3x/IVTu/IVTu_2037010100-2037123123_remapped_3x.nc /work/aa0238/a271093/data/Jan_runs/ICON_NorESM_ssp/NorESM_ssp_remapped_3x/IVTu/IVTu_2038010100-2038123123_remapped_3x.nc  /work/aa0238/a271093/scratch/mergedIVTu_2037_2038_remapped_3x.nc\n",
      "Mergetime /work/aa0238/a271093/data/Jan_runs/ICON_NorESM_ssp/NorESM_ssp_remapped_3x/IVTv/IVTv_2037010100-2037123123_remapped_3x.nc /work/aa0238/a271093/data/Jan_runs/ICON_NorESM_ssp/NorESM_ssp_remapped_3x/IVTv/IVTv_2038010100-2038123123_remapped_3x.nc  /work/aa0238/a271093/scratch/mergedIVTv_2037_2038_remapped_3x.nc\n",
      " \n",
      "The provided variables allow tracking the following phenomena\n",
      " \n",
      "|  phenomenon  | tracking |\n",
      "---------------------------\n",
      "   Jetstream   |   no\n",
      "   PSL CY/ACY  |   no\n",
      "   Z500 CY/ACY |   no\n",
      "   COLs        |   no\n",
      "   IVT ARs     |   yes\n",
      "   MS ARs      |   no\n",
      "   Fronts      |   no\n",
      "   TCs         |   no\n",
      "   MCSs        |   no\n",
      "   Equ. Waves  |   no\n",
      "---------------------------\n",
      " \n",
      "======> track IVT streams and atmospheric rivers (ARs)\n",
      "        3206 object found\n",
      "        break up long living IVT objects that have many elements\n"
     ]
    },
    {
     "name": "stderr",
     "output_type": "stream",
     "text": [
      "100%|██████████| 596/596 [00:23<00:00, 25.76it/s]\n"
     ]
    },
    {
     "name": "stdout",
     "output_type": "stream",
     "text": [
      "        00:00:29.30\n",
      "9\n",
      "            Loop over 1450 objects\n",
      "        check if MSs quallify as ARs\n"
     ]
    },
    {
     "name": "stderr",
     "output_type": "stream",
     "text": [
      "/work/aa0238/a271093/Scripts/MOAAP/src/Tracking_Functions.py:4588: RuntimeWarning: divide by zero encountered in scalar divide\n",
      "  if DIST.max() / DIST.min() < AR_width_lenght_ratio:\n"
     ]
    },
    {
     "name": "stdout",
     "output_type": "stream",
     "text": [
      "            Loop over 1448 objects\n"
     ]
    },
    {
     "name": "stderr",
     "output_type": "stream",
     "text": [
      "/work/aa0238/a271093/Scripts/MOAAP/src/Tracking_Functions.py:250: RuntimeWarning: All-NaN slice encountered\n",
      "  obj_min = np.nanmin(data_slice, axis=(1, 2))\n",
      "/work/aa0238/a271093/Scripts/MOAAP/src/Tracking_Functions.py:251: RuntimeWarning: All-NaN slice encountered\n",
      "  obj_max = np.nanmax(data_slice, axis=(1, 2))\n",
      "/work/aa0238/a271093/Scripts/MOAAP/src/Tracking_Functions.py:252: RuntimeWarning: Mean of empty slice\n",
      "  obj_mean = np.nanmean(data_slice, axis=(1, 2))\n",
      "/work/aa0238/a271093/Conda/MOAAP_env/lib/python3.12/site-packages/scipy/ndimage/_measurements.py:1541: RuntimeWarning: invalid value encountered in scalar divide\n",
      "  results = [sum(input * grids[dir].astype(float), labels, index) / normalizer\n"
     ]
    },
    {
     "name": "stdout",
     "output_type": "stream",
     "text": [
      "        00:01:17.21\n",
      " \n",
      "Save the object masks into a joint netCDF\n",
      "Saved: /work/aa0238/a271093/results/MOAAP/IVT_Tracking/NorESM_ssp_remapped_3x/ObjectMasks_MOAPP_ICON_100and85NorESMsspperc_remapped_3x_2037_07_01-2038_02_01.nc\n",
      "        00:00:24.50\n",
      "clean up /work/aa0238/a271093/results/MOAAP/IVT_Tracking/NorESM_ssp_remapped_3x/IVT_MOAPP_ICON_100and85NorESMsspperc_remapped_3x_2037_07_01-2038_01_01.pkl\n",
      "clean up finished\n",
      "clean up /work/aa0238/a271093/results/MOAAP/IVT_Tracking/NorESM_ssp_remapped_3x/ARs_MOAPP_ICON_100and85NorESMsspperc_remapped_3x_2037_07_01-2038_01_01.pkl\n",
      "clean up finished\n",
      "correct nc-file with \n",
      " cdo -selmon,6,7,8,9,10,11,12 /work/aa0238/a271093/results/MOAAP/IVT_Tracking/NorESM_ssp_remapped_3x/ObjectMasks_MOAPP_ICON_100and85NorESMsspperc_remapped_3x_2037_07_01-2038_02_01.nc /work/aa0238/a271093/results/MOAAP/IVT_Tracking/NorESM_ssp_remapped_3x/ObjectMasks_MOAPP_ICON_100and85NorESMsspperc_remapped_3x_2037_07_01-2038_01_01_corrected.nc\n",
      "\n",
      " \n",
      " \n",
      " \n",
      "\n",
      "2038-01-01 00:00:00 2038-08-01 00:00:00\n",
      " \n",
      "The provided variables allow tracking the following phenomena\n",
      " \n",
      "|  phenomenon  | tracking |\n",
      "---------------------------\n",
      "   Jetstream   |   no\n",
      "   PSL CY/ACY  |   no\n",
      "   Z500 CY/ACY |   no\n",
      "   COLs        |   no\n",
      "   IVT ARs     |   yes\n",
      "   MS ARs      |   no\n",
      "   Fronts      |   no\n",
      "   TCs         |   no\n",
      "   MCSs        |   no\n",
      "   Equ. Waves  |   no\n",
      "---------------------------\n",
      " \n",
      "======> track IVT streams and atmospheric rivers (ARs)\n",
      "        3318 object found\n",
      "        break up long living IVT objects that have many elements\n"
     ]
    },
    {
     "name": "stderr",
     "output_type": "stream",
     "text": [
      "100%|██████████| 601/601 [00:22<00:00, 26.13it/s]\n"
     ]
    },
    {
     "name": "stdout",
     "output_type": "stream",
     "text": [
      "        00:00:29.76\n",
      "9\n",
      "            Loop over 1568 objects\n"
     ]
    },
    {
     "name": "stderr",
     "output_type": "stream",
     "text": [
      "/work/aa0238/a271093/Scripts/MOAAP/src/Tracking_Functions.py:250: RuntimeWarning: All-NaN slice encountered\n",
      "  obj_min = np.nanmin(data_slice, axis=(1, 2))\n",
      "/work/aa0238/a271093/Scripts/MOAAP/src/Tracking_Functions.py:251: RuntimeWarning: All-NaN slice encountered\n",
      "  obj_max = np.nanmax(data_slice, axis=(1, 2))\n",
      "/work/aa0238/a271093/Scripts/MOAAP/src/Tracking_Functions.py:252: RuntimeWarning: Mean of empty slice\n",
      "  obj_mean = np.nanmean(data_slice, axis=(1, 2))\n",
      "/work/aa0238/a271093/Conda/MOAAP_env/lib/python3.12/site-packages/scipy/ndimage/_measurements.py:1541: RuntimeWarning: invalid value encountered in scalar divide\n",
      "  results = [sum(input * grids[dir].astype(float), labels, index) / normalizer\n"
     ]
    },
    {
     "name": "stdout",
     "output_type": "stream",
     "text": [
      "        check if MSs quallify as ARs\n"
     ]
    },
    {
     "name": "stderr",
     "output_type": "stream",
     "text": [
      "/work/aa0238/a271093/Scripts/MOAAP/src/Tracking_Functions.py:4588: RuntimeWarning: divide by zero encountered in scalar divide\n",
      "  if DIST.max() / DIST.min() < AR_width_lenght_ratio:\n"
     ]
    },
    {
     "name": "stdout",
     "output_type": "stream",
     "text": [
      "            Loop over 1568 objects\n",
      "        00:01:30.95\n",
      " \n",
      "Save the object masks into a joint netCDF\n",
      "Saved: /work/aa0238/a271093/results/MOAAP/IVT_Tracking/NorESM_ssp_remapped_3x/ObjectMasks_MOAPP_ICON_100and85NorESMsspperc_remapped_3x_2038_01_01-2038_08_01.nc\n",
      "        00:00:24.42\n",
      "clean up /work/aa0238/a271093/results/MOAAP/IVT_Tracking/NorESM_ssp_remapped_3x/IVT_MOAPP_ICON_100and85NorESMsspperc_remapped_3x_2038_01_01-2038_07_01.pkl\n",
      "clean up finished\n",
      "clean up /work/aa0238/a271093/results/MOAAP/IVT_Tracking/NorESM_ssp_remapped_3x/ARs_MOAPP_ICON_100and85NorESMsspperc_remapped_3x_2038_01_01-2038_07_01.pkl\n",
      "clean up finished\n",
      "correct nc-file with \n",
      " cdo -selmon,1,2,3,4,5,6 /work/aa0238/a271093/results/MOAAP/IVT_Tracking/NorESM_ssp_remapped_3x/ObjectMasks_MOAPP_ICON_100and85NorESMsspperc_remapped_3x_2038_01_01-2038_08_01.nc /work/aa0238/a271093/results/MOAAP/IVT_Tracking/NorESM_ssp_remapped_3x/ObjectMasks_MOAPP_ICON_100and85NorESMsspperc_remapped_3x_2038_01_01-2038_07_01_corrected.nc\n",
      "\n",
      " \n",
      " \n",
      " \n",
      "\n",
      "2038-07-01 00:00:00 2039-02-01 00:00:00\n",
      "Mergetime /work/aa0238/a271093/data/Jan_runs/ICON_NorESM_ssp/NorESM_ssp_remapped_3x/IVTu/IVTu_2038010100-2038123123_remapped_3x.nc /work/aa0238/a271093/data/Jan_runs/ICON_NorESM_ssp/NorESM_ssp_remapped_3x/IVTu/IVTu_2039010100-2039123123_remapped_3x.nc  /work/aa0238/a271093/scratch/mergedIVTu_2038_2039_remapped_3x.nc\n",
      "Mergetime /work/aa0238/a271093/data/Jan_runs/ICON_NorESM_ssp/NorESM_ssp_remapped_3x/IVTv/IVTv_2038010100-2038123123_remapped_3x.nc /work/aa0238/a271093/data/Jan_runs/ICON_NorESM_ssp/NorESM_ssp_remapped_3x/IVTv/IVTv_2039010100-2039123123_remapped_3x.nc  /work/aa0238/a271093/scratch/mergedIVTv_2038_2039_remapped_3x.nc\n",
      " \n",
      "The provided variables allow tracking the following phenomena\n",
      " \n",
      "|  phenomenon  | tracking |\n",
      "---------------------------\n",
      "   Jetstream   |   no\n",
      "   PSL CY/ACY  |   no\n",
      "   Z500 CY/ACY |   no\n",
      "   COLs        |   no\n",
      "   IVT ARs     |   yes\n",
      "   MS ARs      |   no\n",
      "   Fronts      |   no\n",
      "   TCs         |   no\n",
      "   MCSs        |   no\n",
      "   Equ. Waves  |   no\n",
      "---------------------------\n",
      " \n",
      "======> track IVT streams and atmospheric rivers (ARs)\n",
      "        2953 object found\n",
      "        break up long living IVT objects that have many elements\n"
     ]
    },
    {
     "name": "stderr",
     "output_type": "stream",
     "text": [
      "100%|██████████| 552/552 [00:22<00:00, 24.88it/s]\n"
     ]
    },
    {
     "name": "stdout",
     "output_type": "stream",
     "text": [
      "        00:00:28.11\n",
      "9\n",
      "            Loop over 1291 objects\n"
     ]
    },
    {
     "name": "stderr",
     "output_type": "stream",
     "text": [
      "/work/aa0238/a271093/Scripts/MOAAP/src/Tracking_Functions.py:250: RuntimeWarning: All-NaN slice encountered\n",
      "  obj_min = np.nanmin(data_slice, axis=(1, 2))\n",
      "/work/aa0238/a271093/Scripts/MOAAP/src/Tracking_Functions.py:251: RuntimeWarning: All-NaN slice encountered\n",
      "  obj_max = np.nanmax(data_slice, axis=(1, 2))\n",
      "/work/aa0238/a271093/Scripts/MOAAP/src/Tracking_Functions.py:252: RuntimeWarning: Mean of empty slice\n",
      "  obj_mean = np.nanmean(data_slice, axis=(1, 2))\n",
      "/work/aa0238/a271093/Conda/MOAAP_env/lib/python3.12/site-packages/scipy/ndimage/_measurements.py:1541: RuntimeWarning: invalid value encountered in scalar divide\n",
      "  results = [sum(input * grids[dir].astype(float), labels, index) / normalizer\n"
     ]
    },
    {
     "name": "stdout",
     "output_type": "stream",
     "text": [
      "        check if MSs quallify as ARs\n"
     ]
    },
    {
     "name": "stderr",
     "output_type": "stream",
     "text": [
      "/work/aa0238/a271093/Scripts/MOAAP/src/Tracking_Functions.py:4588: RuntimeWarning: divide by zero encountered in scalar divide\n",
      "  if DIST.max() / DIST.min() < AR_width_lenght_ratio:\n"
     ]
    },
    {
     "name": "stdout",
     "output_type": "stream",
     "text": [
      "            Loop over 1291 objects\n",
      "        00:01:10.64\n",
      " \n",
      "Save the object masks into a joint netCDF\n",
      "Saved: /work/aa0238/a271093/results/MOAAP/IVT_Tracking/NorESM_ssp_remapped_3x/ObjectMasks_MOAPP_ICON_100and85NorESMsspperc_remapped_3x_2038_07_01-2039_02_01.nc\n",
      "        00:00:24.25\n",
      "clean up /work/aa0238/a271093/results/MOAAP/IVT_Tracking/NorESM_ssp_remapped_3x/IVT_MOAPP_ICON_100and85NorESMsspperc_remapped_3x_2038_07_01-2039_01_01.pkl\n",
      "clean up finished\n",
      "clean up /work/aa0238/a271093/results/MOAAP/IVT_Tracking/NorESM_ssp_remapped_3x/ARs_MOAPP_ICON_100and85NorESMsspperc_remapped_3x_2038_07_01-2039_01_01.pkl\n",
      "clean up finished\n",
      "correct nc-file with \n",
      " cdo -selmon,6,7,8,9,10,11,12 /work/aa0238/a271093/results/MOAAP/IVT_Tracking/NorESM_ssp_remapped_3x/ObjectMasks_MOAPP_ICON_100and85NorESMsspperc_remapped_3x_2038_07_01-2039_02_01.nc /work/aa0238/a271093/results/MOAAP/IVT_Tracking/NorESM_ssp_remapped_3x/ObjectMasks_MOAPP_ICON_100and85NorESMsspperc_remapped_3x_2038_07_01-2039_01_01_corrected.nc\n",
      "\n",
      " \n",
      " \n",
      " \n",
      "\n",
      "2039-01-01 00:00:00 2039-08-01 00:00:00\n",
      " \n",
      "The provided variables allow tracking the following phenomena\n",
      " \n",
      "|  phenomenon  | tracking |\n",
      "---------------------------\n",
      "   Jetstream   |   no\n",
      "   PSL CY/ACY  |   no\n",
      "   Z500 CY/ACY |   no\n",
      "   COLs        |   no\n",
      "   IVT ARs     |   yes\n",
      "   MS ARs      |   no\n",
      "   Fronts      |   no\n",
      "   TCs         |   no\n",
      "   MCSs        |   no\n",
      "   Equ. Waves  |   no\n",
      "---------------------------\n",
      " \n",
      "======> track IVT streams and atmospheric rivers (ARs)\n",
      "        3444 object found\n",
      "        break up long living IVT objects that have many elements\n"
     ]
    },
    {
     "name": "stderr",
     "output_type": "stream",
     "text": [
      "100%|██████████| 623/623 [00:22<00:00, 27.20it/s]\n"
     ]
    },
    {
     "name": "stdout",
     "output_type": "stream",
     "text": [
      "        00:00:28.65\n",
      "9\n",
      "            Loop over 1533 objects\n"
     ]
    },
    {
     "name": "stderr",
     "output_type": "stream",
     "text": [
      "/work/aa0238/a271093/Scripts/MOAAP/src/Tracking_Functions.py:250: RuntimeWarning: All-NaN slice encountered\n",
      "  obj_min = np.nanmin(data_slice, axis=(1, 2))\n",
      "/work/aa0238/a271093/Scripts/MOAAP/src/Tracking_Functions.py:251: RuntimeWarning: All-NaN slice encountered\n",
      "  obj_max = np.nanmax(data_slice, axis=(1, 2))\n",
      "/work/aa0238/a271093/Scripts/MOAAP/src/Tracking_Functions.py:252: RuntimeWarning: Mean of empty slice\n",
      "  obj_mean = np.nanmean(data_slice, axis=(1, 2))\n",
      "/work/aa0238/a271093/Conda/MOAAP_env/lib/python3.12/site-packages/scipy/ndimage/_measurements.py:1541: RuntimeWarning: invalid value encountered in scalar divide\n",
      "  results = [sum(input * grids[dir].astype(float), labels, index) / normalizer\n"
     ]
    },
    {
     "name": "stdout",
     "output_type": "stream",
     "text": [
      "        check if MSs quallify as ARs\n"
     ]
    },
    {
     "name": "stderr",
     "output_type": "stream",
     "text": [
      "/work/aa0238/a271093/Scripts/MOAAP/src/Tracking_Functions.py:4588: RuntimeWarning: divide by zero encountered in scalar divide\n",
      "  if DIST.max() / DIST.min() < AR_width_lenght_ratio:\n"
     ]
    },
    {
     "name": "stdout",
     "output_type": "stream",
     "text": [
      "            Loop over 1533 objects\n",
      "        00:01:15.38\n",
      " \n",
      "Save the object masks into a joint netCDF\n",
      "Saved: /work/aa0238/a271093/results/MOAAP/IVT_Tracking/NorESM_ssp_remapped_3x/ObjectMasks_MOAPP_ICON_100and85NorESMsspperc_remapped_3x_2039_01_01-2039_08_01.nc\n",
      "        00:00:27.44\n",
      "clean up /work/aa0238/a271093/results/MOAAP/IVT_Tracking/NorESM_ssp_remapped_3x/IVT_MOAPP_ICON_100and85NorESMsspperc_remapped_3x_2039_01_01-2039_07_01.pkl\n",
      "clean up finished\n",
      "clean up /work/aa0238/a271093/results/MOAAP/IVT_Tracking/NorESM_ssp_remapped_3x/ARs_MOAPP_ICON_100and85NorESMsspperc_remapped_3x_2039_01_01-2039_07_01.pkl\n",
      "clean up finished\n",
      "correct nc-file with \n",
      " cdo -selmon,1,2,3,4,5,6 /work/aa0238/a271093/results/MOAAP/IVT_Tracking/NorESM_ssp_remapped_3x/ObjectMasks_MOAPP_ICON_100and85NorESMsspperc_remapped_3x_2039_01_01-2039_08_01.nc /work/aa0238/a271093/results/MOAAP/IVT_Tracking/NorESM_ssp_remapped_3x/ObjectMasks_MOAPP_ICON_100and85NorESMsspperc_remapped_3x_2039_01_01-2039_07_01_corrected.nc\n",
      "\n",
      " \n",
      " \n",
      " \n",
      "\n",
      "2039-07-01 00:00:00 2040-02-01 00:00:00\n",
      "Mergetime /work/aa0238/a271093/data/Jan_runs/ICON_NorESM_ssp/NorESM_ssp_remapped_3x/IVTu/IVTu_2039010100-2039123123_remapped_3x.nc /work/aa0238/a271093/data/Jan_runs/ICON_NorESM_ssp/NorESM_ssp_remapped_3x/IVTu/IVTu_2040010100-2040123123_remapped_3x.nc  /work/aa0238/a271093/scratch/mergedIVTu_2039_2040_remapped_3x.nc\n",
      "Mergetime /work/aa0238/a271093/data/Jan_runs/ICON_NorESM_ssp/NorESM_ssp_remapped_3x/IVTv/IVTv_2039010100-2039123123_remapped_3x.nc /work/aa0238/a271093/data/Jan_runs/ICON_NorESM_ssp/NorESM_ssp_remapped_3x/IVTv/IVTv_2040010100-2040123123_remapped_3x.nc  /work/aa0238/a271093/scratch/mergedIVTv_2039_2040_remapped_3x.nc\n",
      " \n",
      "The provided variables allow tracking the following phenomena\n",
      " \n",
      "|  phenomenon  | tracking |\n",
      "---------------------------\n",
      "   Jetstream   |   no\n",
      "   PSL CY/ACY  |   no\n",
      "   Z500 CY/ACY |   no\n",
      "   COLs        |   no\n",
      "   IVT ARs     |   yes\n",
      "   MS ARs      |   no\n",
      "   Fronts      |   no\n",
      "   TCs         |   no\n",
      "   MCSs        |   no\n",
      "   Equ. Waves  |   no\n",
      "---------------------------\n",
      " \n",
      "======> track IVT streams and atmospheric rivers (ARs)\n",
      "        3177 object found\n",
      "        break up long living IVT objects that have many elements\n"
     ]
    },
    {
     "name": "stderr",
     "output_type": "stream",
     "text": [
      "100%|██████████| 651/651 [00:22<00:00, 29.02it/s]\n"
     ]
    },
    {
     "name": "stdout",
     "output_type": "stream",
     "text": [
      "        00:00:28.39\n",
      "9\n",
      "            Loop over 1380 objects\n"
     ]
    },
    {
     "name": "stderr",
     "output_type": "stream",
     "text": [
      "/work/aa0238/a271093/Scripts/MOAAP/src/Tracking_Functions.py:250: RuntimeWarning: All-NaN slice encountered\n",
      "  obj_min = np.nanmin(data_slice, axis=(1, 2))\n",
      "/work/aa0238/a271093/Scripts/MOAAP/src/Tracking_Functions.py:251: RuntimeWarning: All-NaN slice encountered\n",
      "  obj_max = np.nanmax(data_slice, axis=(1, 2))\n",
      "/work/aa0238/a271093/Scripts/MOAAP/src/Tracking_Functions.py:252: RuntimeWarning: Mean of empty slice\n",
      "  obj_mean = np.nanmean(data_slice, axis=(1, 2))\n",
      "/work/aa0238/a271093/Conda/MOAAP_env/lib/python3.12/site-packages/scipy/ndimage/_measurements.py:1541: RuntimeWarning: invalid value encountered in scalar divide\n",
      "  results = [sum(input * grids[dir].astype(float), labels, index) / normalizer\n"
     ]
    },
    {
     "name": "stdout",
     "output_type": "stream",
     "text": [
      "        check if MSs quallify as ARs\n"
     ]
    },
    {
     "name": "stderr",
     "output_type": "stream",
     "text": [
      "/work/aa0238/a271093/Scripts/MOAAP/src/Tracking_Functions.py:4588: RuntimeWarning: divide by zero encountered in scalar divide\n",
      "  if DIST.max() / DIST.min() < AR_width_lenght_ratio:\n"
     ]
    },
    {
     "name": "stdout",
     "output_type": "stream",
     "text": [
      "            Loop over 1376 objects\n",
      "        00:01:08.77\n",
      " \n",
      "Save the object masks into a joint netCDF\n",
      "Saved: /work/aa0238/a271093/results/MOAAP/IVT_Tracking/NorESM_ssp_remapped_3x/ObjectMasks_MOAPP_ICON_100and85NorESMsspperc_remapped_3x_2039_07_01-2040_02_01.nc\n",
      "        00:00:24.27\n",
      "clean up /work/aa0238/a271093/results/MOAAP/IVT_Tracking/NorESM_ssp_remapped_3x/IVT_MOAPP_ICON_100and85NorESMsspperc_remapped_3x_2039_07_01-2040_01_01.pkl\n",
      "clean up finished\n",
      "clean up /work/aa0238/a271093/results/MOAAP/IVT_Tracking/NorESM_ssp_remapped_3x/ARs_MOAPP_ICON_100and85NorESMsspperc_remapped_3x_2039_07_01-2040_01_01.pkl\n",
      "clean up finished\n",
      "correct nc-file with \n",
      " cdo -selmon,6,7,8,9,10,11,12 /work/aa0238/a271093/results/MOAAP/IVT_Tracking/NorESM_ssp_remapped_3x/ObjectMasks_MOAPP_ICON_100and85NorESMsspperc_remapped_3x_2039_07_01-2040_02_01.nc /work/aa0238/a271093/results/MOAAP/IVT_Tracking/NorESM_ssp_remapped_3x/ObjectMasks_MOAPP_ICON_100and85NorESMsspperc_remapped_3x_2039_07_01-2040_01_01_corrected.nc\n",
      "\n",
      " \n",
      " \n",
      " \n",
      "\n",
      "2040-01-01 00:00:00 2040-08-01 00:00:00\n",
      " \n",
      "The provided variables allow tracking the following phenomena\n",
      " \n",
      "|  phenomenon  | tracking |\n",
      "---------------------------\n",
      "   Jetstream   |   no\n",
      "   PSL CY/ACY  |   no\n",
      "   Z500 CY/ACY |   no\n",
      "   COLs        |   no\n",
      "   IVT ARs     |   yes\n",
      "   MS ARs      |   no\n",
      "   Fronts      |   no\n",
      "   TCs         |   no\n",
      "   MCSs        |   no\n",
      "   Equ. Waves  |   no\n",
      "---------------------------\n",
      " \n",
      "======> track IVT streams and atmospheric rivers (ARs)\n",
      "        3322 object found\n",
      "        break up long living IVT objects that have many elements\n"
     ]
    },
    {
     "name": "stderr",
     "output_type": "stream",
     "text": [
      "100%|██████████| 606/606 [00:25<00:00, 24.00it/s]\n"
     ]
    },
    {
     "name": "stdout",
     "output_type": "stream",
     "text": [
      "        00:00:31.10\n",
      "9\n",
      "            Loop over 1576 objects\n"
     ]
    },
    {
     "name": "stderr",
     "output_type": "stream",
     "text": [
      "/work/aa0238/a271093/Scripts/MOAAP/src/Tracking_Functions.py:250: RuntimeWarning: All-NaN slice encountered\n",
      "  obj_min = np.nanmin(data_slice, axis=(1, 2))\n",
      "/work/aa0238/a271093/Scripts/MOAAP/src/Tracking_Functions.py:251: RuntimeWarning: All-NaN slice encountered\n",
      "  obj_max = np.nanmax(data_slice, axis=(1, 2))\n",
      "/work/aa0238/a271093/Scripts/MOAAP/src/Tracking_Functions.py:252: RuntimeWarning: Mean of empty slice\n",
      "  obj_mean = np.nanmean(data_slice, axis=(1, 2))\n",
      "/work/aa0238/a271093/Conda/MOAAP_env/lib/python3.12/site-packages/scipy/ndimage/_measurements.py:1541: RuntimeWarning: invalid value encountered in scalar divide\n",
      "  results = [sum(input * grids[dir].astype(float), labels, index) / normalizer\n"
     ]
    },
    {
     "name": "stdout",
     "output_type": "stream",
     "text": [
      "        check if MSs quallify as ARs\n"
     ]
    },
    {
     "name": "stderr",
     "output_type": "stream",
     "text": [
      "/work/aa0238/a271093/Scripts/MOAAP/src/Tracking_Functions.py:4588: RuntimeWarning: divide by zero encountered in scalar divide\n",
      "  if DIST.max() / DIST.min() < AR_width_lenght_ratio:\n"
     ]
    },
    {
     "name": "stdout",
     "output_type": "stream",
     "text": [
      "            Loop over 1575 objects\n",
      "        00:01:17.76\n",
      " \n",
      "Save the object masks into a joint netCDF\n",
      "Saved: /work/aa0238/a271093/results/MOAAP/IVT_Tracking/NorESM_ssp_remapped_3x/ObjectMasks_MOAPP_ICON_100and85NorESMsspperc_remapped_3x_2040_01_01-2040_08_01.nc\n",
      "        00:00:25.12\n",
      "clean up /work/aa0238/a271093/results/MOAAP/IVT_Tracking/NorESM_ssp_remapped_3x/IVT_MOAPP_ICON_100and85NorESMsspperc_remapped_3x_2040_01_01-2040_07_01.pkl\n",
      "clean up finished\n",
      "clean up /work/aa0238/a271093/results/MOAAP/IVT_Tracking/NorESM_ssp_remapped_3x/ARs_MOAPP_ICON_100and85NorESMsspperc_remapped_3x_2040_01_01-2040_07_01.pkl\n",
      "clean up finished\n",
      "correct nc-file with \n",
      " cdo -selmon,1,2,3,4,5,6 /work/aa0238/a271093/results/MOAAP/IVT_Tracking/NorESM_ssp_remapped_3x/ObjectMasks_MOAPP_ICON_100and85NorESMsspperc_remapped_3x_2040_01_01-2040_08_01.nc /work/aa0238/a271093/results/MOAAP/IVT_Tracking/NorESM_ssp_remapped_3x/ObjectMasks_MOAPP_ICON_100and85NorESMsspperc_remapped_3x_2040_01_01-2040_07_01_corrected.nc\n",
      "\n",
      " \n",
      " \n",
      " \n",
      "\n",
      "2040-07-01 00:00:00 2041-02-01 00:00:00\n",
      "Mergetime /work/aa0238/a271093/data/Jan_runs/ICON_NorESM_ssp/NorESM_ssp_remapped_3x/IVTu/IVTu_2040010100-2040123123_remapped_3x.nc /work/aa0238/a271093/data/Jan_runs/ICON_NorESM_ssp/NorESM_ssp_remapped_3x/IVTu/IVTu_2041010100-2041123123_remapped_3x.nc  /work/aa0238/a271093/scratch/mergedIVTu_2040_2041_remapped_3x.nc\n",
      "Mergetime /work/aa0238/a271093/data/Jan_runs/ICON_NorESM_ssp/NorESM_ssp_remapped_3x/IVTv/IVTv_2040010100-2040123123_remapped_3x.nc /work/aa0238/a271093/data/Jan_runs/ICON_NorESM_ssp/NorESM_ssp_remapped_3x/IVTv/IVTv_2041010100-2041123123_remapped_3x.nc  /work/aa0238/a271093/scratch/mergedIVTv_2040_2041_remapped_3x.nc\n",
      " \n",
      "The provided variables allow tracking the following phenomena\n",
      " \n",
      "|  phenomenon  | tracking |\n",
      "---------------------------\n",
      "   Jetstream   |   no\n",
      "   PSL CY/ACY  |   no\n",
      "   Z500 CY/ACY |   no\n",
      "   COLs        |   no\n",
      "   IVT ARs     |   yes\n",
      "   MS ARs      |   no\n",
      "   Fronts      |   no\n",
      "   TCs         |   no\n",
      "   MCSs        |   no\n",
      "   Equ. Waves  |   no\n",
      "---------------------------\n",
      " \n",
      "======> track IVT streams and atmospheric rivers (ARs)\n",
      "        3280 object found\n",
      "        break up long living IVT objects that have many elements\n"
     ]
    },
    {
     "name": "stderr",
     "output_type": "stream",
     "text": [
      "100%|██████████| 609/609 [00:24<00:00, 24.69it/s]\n"
     ]
    },
    {
     "name": "stdout",
     "output_type": "stream",
     "text": [
      "        00:00:30.83\n",
      "9\n",
      "            Loop over 1456 objects\n",
      "        check if MSs quallify as ARs\n"
     ]
    },
    {
     "name": "stderr",
     "output_type": "stream",
     "text": [
      "/work/aa0238/a271093/Scripts/MOAAP/src/Tracking_Functions.py:4588: RuntimeWarning: divide by zero encountered in scalar divide\n",
      "  if DIST.max() / DIST.min() < AR_width_lenght_ratio:\n"
     ]
    },
    {
     "name": "stdout",
     "output_type": "stream",
     "text": [
      "            Loop over 1455 objects\n"
     ]
    },
    {
     "name": "stderr",
     "output_type": "stream",
     "text": [
      "/work/aa0238/a271093/Scripts/MOAAP/src/Tracking_Functions.py:250: RuntimeWarning: All-NaN slice encountered\n",
      "  obj_min = np.nanmin(data_slice, axis=(1, 2))\n",
      "/work/aa0238/a271093/Scripts/MOAAP/src/Tracking_Functions.py:251: RuntimeWarning: All-NaN slice encountered\n",
      "  obj_max = np.nanmax(data_slice, axis=(1, 2))\n",
      "/work/aa0238/a271093/Scripts/MOAAP/src/Tracking_Functions.py:252: RuntimeWarning: Mean of empty slice\n",
      "  obj_mean = np.nanmean(data_slice, axis=(1, 2))\n",
      "/work/aa0238/a271093/Conda/MOAAP_env/lib/python3.12/site-packages/scipy/ndimage/_measurements.py:1541: RuntimeWarning: invalid value encountered in scalar divide\n",
      "  results = [sum(input * grids[dir].astype(float), labels, index) / normalizer\n"
     ]
    },
    {
     "name": "stdout",
     "output_type": "stream",
     "text": [
      "        00:01:15.06\n",
      " \n",
      "Save the object masks into a joint netCDF\n",
      "Saved: /work/aa0238/a271093/results/MOAAP/IVT_Tracking/NorESM_ssp_remapped_3x/ObjectMasks_MOAPP_ICON_100and85NorESMsspperc_remapped_3x_2040_07_01-2041_02_01.nc\n",
      "        00:00:24.45\n",
      "clean up /work/aa0238/a271093/results/MOAAP/IVT_Tracking/NorESM_ssp_remapped_3x/IVT_MOAPP_ICON_100and85NorESMsspperc_remapped_3x_2040_07_01-2041_01_01.pkl\n",
      "clean up finished\n",
      "clean up /work/aa0238/a271093/results/MOAAP/IVT_Tracking/NorESM_ssp_remapped_3x/ARs_MOAPP_ICON_100and85NorESMsspperc_remapped_3x_2040_07_01-2041_01_01.pkl\n",
      "clean up finished\n",
      "correct nc-file with \n",
      " cdo -selmon,6,7,8,9,10,11,12 /work/aa0238/a271093/results/MOAAP/IVT_Tracking/NorESM_ssp_remapped_3x/ObjectMasks_MOAPP_ICON_100and85NorESMsspperc_remapped_3x_2040_07_01-2041_02_01.nc /work/aa0238/a271093/results/MOAAP/IVT_Tracking/NorESM_ssp_remapped_3x/ObjectMasks_MOAPP_ICON_100and85NorESMsspperc_remapped_3x_2040_07_01-2041_01_01_corrected.nc\n",
      "\n",
      " \n",
      " \n",
      " \n",
      "\n",
      "2041-01-01 00:00:00 2041-08-01 00:00:00\n",
      " \n",
      "The provided variables allow tracking the following phenomena\n",
      " \n",
      "|  phenomenon  | tracking |\n",
      "---------------------------\n",
      "   Jetstream   |   no\n",
      "   PSL CY/ACY  |   no\n",
      "   Z500 CY/ACY |   no\n",
      "   COLs        |   no\n",
      "   IVT ARs     |   yes\n",
      "   MS ARs      |   no\n",
      "   Fronts      |   no\n",
      "   TCs         |   no\n",
      "   MCSs        |   no\n",
      "   Equ. Waves  |   no\n",
      "---------------------------\n",
      " \n",
      "======> track IVT streams and atmospheric rivers (ARs)\n",
      "        3447 object found\n",
      "        break up long living IVT objects that have many elements\n"
     ]
    },
    {
     "name": "stderr",
     "output_type": "stream",
     "text": [
      "100%|██████████| 586/586 [00:24<00:00, 23.58it/s] \n"
     ]
    },
    {
     "name": "stdout",
     "output_type": "stream",
     "text": [
      "        00:00:30.81\n",
      "9\n",
      "            Loop over 1541 objects\n"
     ]
    },
    {
     "name": "stderr",
     "output_type": "stream",
     "text": [
      "/work/aa0238/a271093/Scripts/MOAAP/src/Tracking_Functions.py:250: RuntimeWarning: All-NaN slice encountered\n",
      "  obj_min = np.nanmin(data_slice, axis=(1, 2))\n",
      "/work/aa0238/a271093/Scripts/MOAAP/src/Tracking_Functions.py:251: RuntimeWarning: All-NaN slice encountered\n",
      "  obj_max = np.nanmax(data_slice, axis=(1, 2))\n",
      "/work/aa0238/a271093/Scripts/MOAAP/src/Tracking_Functions.py:252: RuntimeWarning: Mean of empty slice\n",
      "  obj_mean = np.nanmean(data_slice, axis=(1, 2))\n",
      "/work/aa0238/a271093/Conda/MOAAP_env/lib/python3.12/site-packages/scipy/ndimage/_measurements.py:1541: RuntimeWarning: invalid value encountered in scalar divide\n",
      "  results = [sum(input * grids[dir].astype(float), labels, index) / normalizer\n"
     ]
    },
    {
     "name": "stdout",
     "output_type": "stream",
     "text": [
      "        check if MSs quallify as ARs\n"
     ]
    },
    {
     "name": "stderr",
     "output_type": "stream",
     "text": [
      "/work/aa0238/a271093/Scripts/MOAAP/src/Tracking_Functions.py:4588: RuntimeWarning: divide by zero encountered in scalar divide\n",
      "  if DIST.max() / DIST.min() < AR_width_lenght_ratio:\n"
     ]
    },
    {
     "name": "stdout",
     "output_type": "stream",
     "text": [
      "            Loop over 1534 objects\n",
      "        00:01:19.66\n",
      " \n",
      "Save the object masks into a joint netCDF\n",
      "Saved: /work/aa0238/a271093/results/MOAAP/IVT_Tracking/NorESM_ssp_remapped_3x/ObjectMasks_MOAPP_ICON_100and85NorESMsspperc_remapped_3x_2041_01_01-2041_08_01.nc\n",
      "        00:00:24.13\n",
      "clean up /work/aa0238/a271093/results/MOAAP/IVT_Tracking/NorESM_ssp_remapped_3x/IVT_MOAPP_ICON_100and85NorESMsspperc_remapped_3x_2041_01_01-2041_07_01.pkl\n",
      "clean up finished\n",
      "clean up /work/aa0238/a271093/results/MOAAP/IVT_Tracking/NorESM_ssp_remapped_3x/ARs_MOAPP_ICON_100and85NorESMsspperc_remapped_3x_2041_01_01-2041_07_01.pkl\n",
      "clean up finished\n",
      "correct nc-file with \n",
      " cdo -selmon,1,2,3,4,5,6 /work/aa0238/a271093/results/MOAAP/IVT_Tracking/NorESM_ssp_remapped_3x/ObjectMasks_MOAPP_ICON_100and85NorESMsspperc_remapped_3x_2041_01_01-2041_08_01.nc /work/aa0238/a271093/results/MOAAP/IVT_Tracking/NorESM_ssp_remapped_3x/ObjectMasks_MOAPP_ICON_100and85NorESMsspperc_remapped_3x_2041_01_01-2041_07_01_corrected.nc\n",
      "\n",
      " \n",
      " \n",
      " \n",
      "\n",
      "2041-07-01 00:00:00 2042-02-01 00:00:00\n",
      "Mergetime /work/aa0238/a271093/data/Jan_runs/ICON_NorESM_ssp/NorESM_ssp_remapped_3x/IVTu/IVTu_2041010100-2041123123_remapped_3x.nc /work/aa0238/a271093/data/Jan_runs/ICON_NorESM_ssp/NorESM_ssp_remapped_3x/IVTu/IVTu_2042010100-2042123123_remapped_3x.nc  /work/aa0238/a271093/scratch/mergedIVTu_2041_2042_remapped_3x.nc\n",
      "Mergetime /work/aa0238/a271093/data/Jan_runs/ICON_NorESM_ssp/NorESM_ssp_remapped_3x/IVTv/IVTv_2041010100-2041123123_remapped_3x.nc /work/aa0238/a271093/data/Jan_runs/ICON_NorESM_ssp/NorESM_ssp_remapped_3x/IVTv/IVTv_2042010100-2042123123_remapped_3x.nc  /work/aa0238/a271093/scratch/mergedIVTv_2041_2042_remapped_3x.nc\n",
      " \n",
      "The provided variables allow tracking the following phenomena\n",
      " \n",
      "|  phenomenon  | tracking |\n",
      "---------------------------\n",
      "   Jetstream   |   no\n",
      "   PSL CY/ACY  |   no\n",
      "   Z500 CY/ACY |   no\n",
      "   COLs        |   no\n",
      "   IVT ARs     |   yes\n",
      "   MS ARs      |   no\n",
      "   Fronts      |   no\n",
      "   TCs         |   no\n",
      "   MCSs        |   no\n",
      "   Equ. Waves  |   no\n",
      "---------------------------\n",
      " \n",
      "======> track IVT streams and atmospheric rivers (ARs)\n",
      "        3218 object found\n",
      "        break up long living IVT objects that have many elements\n"
     ]
    },
    {
     "name": "stderr",
     "output_type": "stream",
     "text": [
      "100%|██████████| 614/614 [00:23<00:00, 26.16it/s]\n"
     ]
    },
    {
     "name": "stdout",
     "output_type": "stream",
     "text": [
      "        00:00:29.45\n",
      "9\n",
      "            Loop over 1487 objects\n"
     ]
    },
    {
     "name": "stderr",
     "output_type": "stream",
     "text": [
      "/work/aa0238/a271093/Scripts/MOAAP/src/Tracking_Functions.py:250: RuntimeWarning: All-NaN slice encountered\n",
      "  obj_min = np.nanmin(data_slice, axis=(1, 2))\n",
      "/work/aa0238/a271093/Scripts/MOAAP/src/Tracking_Functions.py:251: RuntimeWarning: All-NaN slice encountered\n",
      "  obj_max = np.nanmax(data_slice, axis=(1, 2))\n",
      "/work/aa0238/a271093/Scripts/MOAAP/src/Tracking_Functions.py:252: RuntimeWarning: Mean of empty slice\n",
      "  obj_mean = np.nanmean(data_slice, axis=(1, 2))\n",
      "/work/aa0238/a271093/Conda/MOAAP_env/lib/python3.12/site-packages/scipy/ndimage/_measurements.py:1541: RuntimeWarning: invalid value encountered in scalar divide\n",
      "  results = [sum(input * grids[dir].astype(float), labels, index) / normalizer\n"
     ]
    },
    {
     "name": "stdout",
     "output_type": "stream",
     "text": [
      "        check if MSs quallify as ARs\n"
     ]
    },
    {
     "name": "stderr",
     "output_type": "stream",
     "text": [
      "/work/aa0238/a271093/Scripts/MOAAP/src/Tracking_Functions.py:4588: RuntimeWarning: divide by zero encountered in scalar divide\n",
      "  if DIST.max() / DIST.min() < AR_width_lenght_ratio:\n"
     ]
    },
    {
     "name": "stdout",
     "output_type": "stream",
     "text": [
      "            Loop over 1479 objects\n",
      "        00:01:12.10\n",
      " \n",
      "Save the object masks into a joint netCDF\n",
      "Saved: /work/aa0238/a271093/results/MOAAP/IVT_Tracking/NorESM_ssp_remapped_3x/ObjectMasks_MOAPP_ICON_100and85NorESMsspperc_remapped_3x_2041_07_01-2042_02_01.nc\n",
      "        00:00:24.45\n",
      "clean up /work/aa0238/a271093/results/MOAAP/IVT_Tracking/NorESM_ssp_remapped_3x/IVT_MOAPP_ICON_100and85NorESMsspperc_remapped_3x_2041_07_01-2042_01_01.pkl\n",
      "clean up finished\n",
      "clean up /work/aa0238/a271093/results/MOAAP/IVT_Tracking/NorESM_ssp_remapped_3x/ARs_MOAPP_ICON_100and85NorESMsspperc_remapped_3x_2041_07_01-2042_01_01.pkl\n",
      "clean up finished\n",
      "correct nc-file with \n",
      " cdo -selmon,6,7,8,9,10,11,12 /work/aa0238/a271093/results/MOAAP/IVT_Tracking/NorESM_ssp_remapped_3x/ObjectMasks_MOAPP_ICON_100and85NorESMsspperc_remapped_3x_2041_07_01-2042_02_01.nc /work/aa0238/a271093/results/MOAAP/IVT_Tracking/NorESM_ssp_remapped_3x/ObjectMasks_MOAPP_ICON_100and85NorESMsspperc_remapped_3x_2041_07_01-2042_01_01_corrected.nc\n",
      "\n",
      " \n",
      " \n",
      " \n",
      "\n",
      "2042-01-01 00:00:00 2042-08-01 00:00:00\n",
      " \n",
      "The provided variables allow tracking the following phenomena\n",
      " \n",
      "|  phenomenon  | tracking |\n",
      "---------------------------\n",
      "   Jetstream   |   no\n",
      "   PSL CY/ACY  |   no\n",
      "   Z500 CY/ACY |   no\n",
      "   COLs        |   no\n",
      "   IVT ARs     |   yes\n",
      "   MS ARs      |   no\n",
      "   Fronts      |   no\n",
      "   TCs         |   no\n",
      "   MCSs        |   no\n",
      "   Equ. Waves  |   no\n",
      "---------------------------\n",
      " \n",
      "======> track IVT streams and atmospheric rivers (ARs)\n",
      "        3201 object found\n",
      "        break up long living IVT objects that have many elements\n"
     ]
    },
    {
     "name": "stderr",
     "output_type": "stream",
     "text": [
      "100%|██████████| 578/578 [00:23<00:00, 25.07it/s]\n"
     ]
    },
    {
     "name": "stdout",
     "output_type": "stream",
     "text": [
      "        00:00:28.99\n",
      "9\n",
      "            Loop over 1523 objects\n"
     ]
    },
    {
     "name": "stderr",
     "output_type": "stream",
     "text": [
      "/work/aa0238/a271093/Scripts/MOAAP/src/Tracking_Functions.py:250: RuntimeWarning: All-NaN slice encountered\n",
      "  obj_min = np.nanmin(data_slice, axis=(1, 2))\n",
      "/work/aa0238/a271093/Scripts/MOAAP/src/Tracking_Functions.py:251: RuntimeWarning: All-NaN slice encountered\n",
      "  obj_max = np.nanmax(data_slice, axis=(1, 2))\n",
      "/work/aa0238/a271093/Scripts/MOAAP/src/Tracking_Functions.py:252: RuntimeWarning: Mean of empty slice\n",
      "  obj_mean = np.nanmean(data_slice, axis=(1, 2))\n",
      "/work/aa0238/a271093/Conda/MOAAP_env/lib/python3.12/site-packages/scipy/ndimage/_measurements.py:1541: RuntimeWarning: invalid value encountered in scalar divide\n",
      "  results = [sum(input * grids[dir].astype(float), labels, index) / normalizer\n"
     ]
    },
    {
     "name": "stdout",
     "output_type": "stream",
     "text": [
      "        check if MSs quallify as ARs\n"
     ]
    },
    {
     "name": "stderr",
     "output_type": "stream",
     "text": [
      "/work/aa0238/a271093/Scripts/MOAAP/src/Tracking_Functions.py:4588: RuntimeWarning: divide by zero encountered in scalar divide\n",
      "  if DIST.max() / DIST.min() < AR_width_lenght_ratio:\n"
     ]
    },
    {
     "name": "stdout",
     "output_type": "stream",
     "text": [
      "            Loop over 1523 objects\n",
      "        00:01:16.25\n",
      " \n",
      "Save the object masks into a joint netCDF\n",
      "Saved: /work/aa0238/a271093/results/MOAAP/IVT_Tracking/NorESM_ssp_remapped_3x/ObjectMasks_MOAPP_ICON_100and85NorESMsspperc_remapped_3x_2042_01_01-2042_08_01.nc\n",
      "        00:00:24.16\n",
      "clean up /work/aa0238/a271093/results/MOAAP/IVT_Tracking/NorESM_ssp_remapped_3x/IVT_MOAPP_ICON_100and85NorESMsspperc_remapped_3x_2042_01_01-2042_07_01.pkl\n",
      "clean up finished\n",
      "clean up /work/aa0238/a271093/results/MOAAP/IVT_Tracking/NorESM_ssp_remapped_3x/ARs_MOAPP_ICON_100and85NorESMsspperc_remapped_3x_2042_01_01-2042_07_01.pkl\n",
      "clean up finished\n",
      "correct nc-file with \n",
      " cdo -selmon,1,2,3,4,5,6 /work/aa0238/a271093/results/MOAAP/IVT_Tracking/NorESM_ssp_remapped_3x/ObjectMasks_MOAPP_ICON_100and85NorESMsspperc_remapped_3x_2042_01_01-2042_08_01.nc /work/aa0238/a271093/results/MOAAP/IVT_Tracking/NorESM_ssp_remapped_3x/ObjectMasks_MOAPP_ICON_100and85NorESMsspperc_remapped_3x_2042_01_01-2042_07_01_corrected.nc\n",
      "\n",
      " \n",
      " \n",
      " \n",
      "\n",
      "2042-07-01 00:00:00 2043-02-01 00:00:00\n",
      "Mergetime /work/aa0238/a271093/data/Jan_runs/ICON_NorESM_ssp/NorESM_ssp_remapped_3x/IVTu/IVTu_2042010100-2042123123_remapped_3x.nc /work/aa0238/a271093/data/Jan_runs/ICON_NorESM_ssp/NorESM_ssp_remapped_3x/IVTu/IVTu_2043010100-2043123123_remapped_3x.nc  /work/aa0238/a271093/scratch/mergedIVTu_2042_2043_remapped_3x.nc\n",
      "Mergetime /work/aa0238/a271093/data/Jan_runs/ICON_NorESM_ssp/NorESM_ssp_remapped_3x/IVTv/IVTv_2042010100-2042123123_remapped_3x.nc /work/aa0238/a271093/data/Jan_runs/ICON_NorESM_ssp/NorESM_ssp_remapped_3x/IVTv/IVTv_2043010100-2043123123_remapped_3x.nc  /work/aa0238/a271093/scratch/mergedIVTv_2042_2043_remapped_3x.nc\n",
      " \n",
      "The provided variables allow tracking the following phenomena\n",
      " \n",
      "|  phenomenon  | tracking |\n",
      "---------------------------\n",
      "   Jetstream   |   no\n",
      "   PSL CY/ACY  |   no\n",
      "   Z500 CY/ACY |   no\n",
      "   COLs        |   no\n",
      "   IVT ARs     |   yes\n",
      "   MS ARs      |   no\n",
      "   Fronts      |   no\n",
      "   TCs         |   no\n",
      "   MCSs        |   no\n",
      "   Equ. Waves  |   no\n",
      "---------------------------\n",
      " \n",
      "======> track IVT streams and atmospheric rivers (ARs)\n",
      "        3186 object found\n",
      "        break up long living IVT objects that have many elements\n"
     ]
    },
    {
     "name": "stderr",
     "output_type": "stream",
     "text": [
      "100%|██████████| 639/639 [00:24<00:00, 26.38it/s]\n"
     ]
    },
    {
     "name": "stdout",
     "output_type": "stream",
     "text": [
      "        00:00:30.24\n",
      "9\n",
      "            Loop over 1469 objects\n"
     ]
    },
    {
     "name": "stderr",
     "output_type": "stream",
     "text": [
      "/work/aa0238/a271093/Scripts/MOAAP/src/Tracking_Functions.py:250: RuntimeWarning: All-NaN slice encountered\n",
      "  obj_min = np.nanmin(data_slice, axis=(1, 2))\n",
      "/work/aa0238/a271093/Scripts/MOAAP/src/Tracking_Functions.py:251: RuntimeWarning: All-NaN slice encountered\n",
      "  obj_max = np.nanmax(data_slice, axis=(1, 2))\n",
      "/work/aa0238/a271093/Scripts/MOAAP/src/Tracking_Functions.py:252: RuntimeWarning: Mean of empty slice\n",
      "  obj_mean = np.nanmean(data_slice, axis=(1, 2))\n",
      "/work/aa0238/a271093/Conda/MOAAP_env/lib/python3.12/site-packages/scipy/ndimage/_measurements.py:1541: RuntimeWarning: invalid value encountered in scalar divide\n",
      "  results = [sum(input * grids[dir].astype(float), labels, index) / normalizer\n"
     ]
    },
    {
     "name": "stdout",
     "output_type": "stream",
     "text": [
      "        check if MSs quallify as ARs\n"
     ]
    },
    {
     "name": "stderr",
     "output_type": "stream",
     "text": [
      "/work/aa0238/a271093/Scripts/MOAAP/src/Tracking_Functions.py:4588: RuntimeWarning: divide by zero encountered in scalar divide\n",
      "  if DIST.max() / DIST.min() < AR_width_lenght_ratio:\n"
     ]
    },
    {
     "name": "stdout",
     "output_type": "stream",
     "text": [
      "            Loop over 1468 objects\n",
      "        00:01:12.99\n",
      " \n",
      "Save the object masks into a joint netCDF\n",
      "Saved: /work/aa0238/a271093/results/MOAAP/IVT_Tracking/NorESM_ssp_remapped_3x/ObjectMasks_MOAPP_ICON_100and85NorESMsspperc_remapped_3x_2042_07_01-2043_02_01.nc\n",
      "        00:00:24.63\n",
      "clean up /work/aa0238/a271093/results/MOAAP/IVT_Tracking/NorESM_ssp_remapped_3x/IVT_MOAPP_ICON_100and85NorESMsspperc_remapped_3x_2042_07_01-2043_01_01.pkl\n",
      "clean up finished\n",
      "clean up /work/aa0238/a271093/results/MOAAP/IVT_Tracking/NorESM_ssp_remapped_3x/ARs_MOAPP_ICON_100and85NorESMsspperc_remapped_3x_2042_07_01-2043_01_01.pkl\n",
      "clean up finished\n",
      "correct nc-file with \n",
      " cdo -selmon,6,7,8,9,10,11,12 /work/aa0238/a271093/results/MOAAP/IVT_Tracking/NorESM_ssp_remapped_3x/ObjectMasks_MOAPP_ICON_100and85NorESMsspperc_remapped_3x_2042_07_01-2043_02_01.nc /work/aa0238/a271093/results/MOAAP/IVT_Tracking/NorESM_ssp_remapped_3x/ObjectMasks_MOAPP_ICON_100and85NorESMsspperc_remapped_3x_2042_07_01-2043_01_01_corrected.nc\n",
      "\n",
      " \n",
      " \n",
      " \n",
      "\n",
      "2043-01-01 00:00:00 2043-08-01 00:00:00\n",
      " \n",
      "The provided variables allow tracking the following phenomena\n",
      " \n",
      "|  phenomenon  | tracking |\n",
      "---------------------------\n",
      "   Jetstream   |   no\n",
      "   PSL CY/ACY  |   no\n",
      "   Z500 CY/ACY |   no\n",
      "   COLs        |   no\n",
      "   IVT ARs     |   yes\n",
      "   MS ARs      |   no\n",
      "   Fronts      |   no\n",
      "   TCs         |   no\n",
      "   MCSs        |   no\n",
      "   Equ. Waves  |   no\n",
      "---------------------------\n",
      " \n",
      "======> track IVT streams and atmospheric rivers (ARs)\n",
      "        3346 object found\n",
      "        break up long living IVT objects that have many elements\n"
     ]
    },
    {
     "name": "stderr",
     "output_type": "stream",
     "text": [
      "100%|██████████| 619/619 [00:23<00:00, 26.80it/s] \n"
     ]
    },
    {
     "name": "stdout",
     "output_type": "stream",
     "text": [
      "        00:00:28.89\n",
      "9\n",
      "            Loop over 1663 objects\n"
     ]
    },
    {
     "name": "stderr",
     "output_type": "stream",
     "text": [
      "/work/aa0238/a271093/Scripts/MOAAP/src/Tracking_Functions.py:250: RuntimeWarning: All-NaN slice encountered\n",
      "  obj_min = np.nanmin(data_slice, axis=(1, 2))\n",
      "/work/aa0238/a271093/Scripts/MOAAP/src/Tracking_Functions.py:251: RuntimeWarning: All-NaN slice encountered\n",
      "  obj_max = np.nanmax(data_slice, axis=(1, 2))\n",
      "/work/aa0238/a271093/Scripts/MOAAP/src/Tracking_Functions.py:252: RuntimeWarning: Mean of empty slice\n",
      "  obj_mean = np.nanmean(data_slice, axis=(1, 2))\n",
      "/work/aa0238/a271093/Conda/MOAAP_env/lib/python3.12/site-packages/scipy/ndimage/_measurements.py:1541: RuntimeWarning: invalid value encountered in scalar divide\n",
      "  results = [sum(input * grids[dir].astype(float), labels, index) / normalizer\n"
     ]
    },
    {
     "name": "stdout",
     "output_type": "stream",
     "text": [
      "        check if MSs quallify as ARs\n"
     ]
    },
    {
     "name": "stderr",
     "output_type": "stream",
     "text": [
      "/work/aa0238/a271093/Scripts/MOAAP/src/Tracking_Functions.py:4588: RuntimeWarning: divide by zero encountered in scalar divide\n",
      "  if DIST.max() / DIST.min() < AR_width_lenght_ratio:\n"
     ]
    },
    {
     "name": "stdout",
     "output_type": "stream",
     "text": [
      "            Loop over 1663 objects\n",
      "        00:01:21.81\n",
      " \n",
      "Save the object masks into a joint netCDF\n",
      "Saved: /work/aa0238/a271093/results/MOAAP/IVT_Tracking/NorESM_ssp_remapped_3x/ObjectMasks_MOAPP_ICON_100and85NorESMsspperc_remapped_3x_2043_01_01-2043_08_01.nc\n",
      "        00:00:24.04\n",
      "clean up /work/aa0238/a271093/results/MOAAP/IVT_Tracking/NorESM_ssp_remapped_3x/IVT_MOAPP_ICON_100and85NorESMsspperc_remapped_3x_2043_01_01-2043_07_01.pkl\n",
      "clean up finished\n",
      "clean up /work/aa0238/a271093/results/MOAAP/IVT_Tracking/NorESM_ssp_remapped_3x/ARs_MOAPP_ICON_100and85NorESMsspperc_remapped_3x_2043_01_01-2043_07_01.pkl\n",
      "clean up finished\n",
      "correct nc-file with \n",
      " cdo -selmon,1,2,3,4,5,6 /work/aa0238/a271093/results/MOAAP/IVT_Tracking/NorESM_ssp_remapped_3x/ObjectMasks_MOAPP_ICON_100and85NorESMsspperc_remapped_3x_2043_01_01-2043_08_01.nc /work/aa0238/a271093/results/MOAAP/IVT_Tracking/NorESM_ssp_remapped_3x/ObjectMasks_MOAPP_ICON_100and85NorESMsspperc_remapped_3x_2043_01_01-2043_07_01_corrected.nc\n",
      "\n",
      " \n",
      " \n",
      " \n",
      "\n",
      "2043-07-01 00:00:00 2044-02-01 00:00:00\n",
      "Mergetime /work/aa0238/a271093/data/Jan_runs/ICON_NorESM_ssp/NorESM_ssp_remapped_3x/IVTu/IVTu_2043010100-2043123123_remapped_3x.nc /work/aa0238/a271093/data/Jan_runs/ICON_NorESM_ssp/NorESM_ssp_remapped_3x/IVTu/IVTu_2044010100-2044123123_remapped_3x.nc  /work/aa0238/a271093/scratch/mergedIVTu_2043_2044_remapped_3x.nc\n",
      "Mergetime /work/aa0238/a271093/data/Jan_runs/ICON_NorESM_ssp/NorESM_ssp_remapped_3x/IVTv/IVTv_2043010100-2043123123_remapped_3x.nc /work/aa0238/a271093/data/Jan_runs/ICON_NorESM_ssp/NorESM_ssp_remapped_3x/IVTv/IVTv_2044010100-2044123123_remapped_3x.nc  /work/aa0238/a271093/scratch/mergedIVTv_2043_2044_remapped_3x.nc\n",
      " \n",
      "The provided variables allow tracking the following phenomena\n",
      " \n",
      "|  phenomenon  | tracking |\n",
      "---------------------------\n",
      "   Jetstream   |   no\n",
      "   PSL CY/ACY  |   no\n",
      "   Z500 CY/ACY |   no\n",
      "   COLs        |   no\n",
      "   IVT ARs     |   yes\n",
      "   MS ARs      |   no\n",
      "   Fronts      |   no\n",
      "   TCs         |   no\n",
      "   MCSs        |   no\n",
      "   Equ. Waves  |   no\n",
      "---------------------------\n",
      " \n",
      "======> track IVT streams and atmospheric rivers (ARs)\n",
      "        3184 object found\n",
      "        break up long living IVT objects that have many elements\n"
     ]
    },
    {
     "name": "stderr",
     "output_type": "stream",
     "text": [
      "100%|██████████| 569/569 [00:23<00:00, 24.14it/s]\n"
     ]
    },
    {
     "name": "stdout",
     "output_type": "stream",
     "text": [
      "        00:00:29.76\n",
      "9\n",
      "            Loop over 1451 objects\n"
     ]
    },
    {
     "name": "stderr",
     "output_type": "stream",
     "text": [
      "/work/aa0238/a271093/Scripts/MOAAP/src/Tracking_Functions.py:250: RuntimeWarning: All-NaN slice encountered\n",
      "  obj_min = np.nanmin(data_slice, axis=(1, 2))\n",
      "/work/aa0238/a271093/Scripts/MOAAP/src/Tracking_Functions.py:251: RuntimeWarning: All-NaN slice encountered\n",
      "  obj_max = np.nanmax(data_slice, axis=(1, 2))\n",
      "/work/aa0238/a271093/Scripts/MOAAP/src/Tracking_Functions.py:252: RuntimeWarning: Mean of empty slice\n",
      "  obj_mean = np.nanmean(data_slice, axis=(1, 2))\n",
      "/work/aa0238/a271093/Conda/MOAAP_env/lib/python3.12/site-packages/scipy/ndimage/_measurements.py:1541: RuntimeWarning: invalid value encountered in scalar divide\n",
      "  results = [sum(input * grids[dir].astype(float), labels, index) / normalizer\n"
     ]
    },
    {
     "name": "stdout",
     "output_type": "stream",
     "text": [
      "        check if MSs quallify as ARs\n"
     ]
    },
    {
     "name": "stderr",
     "output_type": "stream",
     "text": [
      "/work/aa0238/a271093/Scripts/MOAAP/src/Tracking_Functions.py:4588: RuntimeWarning: divide by zero encountered in scalar divide\n",
      "  if DIST.max() / DIST.min() < AR_width_lenght_ratio:\n"
     ]
    },
    {
     "name": "stdout",
     "output_type": "stream",
     "text": [
      "            Loop over 1450 objects\n",
      "        00:01:14.96\n",
      " \n",
      "Save the object masks into a joint netCDF\n",
      "Saved: /work/aa0238/a271093/results/MOAAP/IVT_Tracking/NorESM_ssp_remapped_3x/ObjectMasks_MOAPP_ICON_100and85NorESMsspperc_remapped_3x_2043_07_01-2044_02_01.nc\n",
      "        00:00:24.33\n",
      "clean up /work/aa0238/a271093/results/MOAAP/IVT_Tracking/NorESM_ssp_remapped_3x/IVT_MOAPP_ICON_100and85NorESMsspperc_remapped_3x_2043_07_01-2044_01_01.pkl\n",
      "clean up finished\n",
      "clean up /work/aa0238/a271093/results/MOAAP/IVT_Tracking/NorESM_ssp_remapped_3x/ARs_MOAPP_ICON_100and85NorESMsspperc_remapped_3x_2043_07_01-2044_01_01.pkl\n",
      "clean up finished\n",
      "correct nc-file with \n",
      " cdo -selmon,6,7,8,9,10,11,12 /work/aa0238/a271093/results/MOAAP/IVT_Tracking/NorESM_ssp_remapped_3x/ObjectMasks_MOAPP_ICON_100and85NorESMsspperc_remapped_3x_2043_07_01-2044_02_01.nc /work/aa0238/a271093/results/MOAAP/IVT_Tracking/NorESM_ssp_remapped_3x/ObjectMasks_MOAPP_ICON_100and85NorESMsspperc_remapped_3x_2043_07_01-2044_01_01_corrected.nc\n",
      "\n",
      " \n",
      " \n",
      " \n",
      "\n",
      "2044-01-01 00:00:00 2044-08-01 00:00:00\n",
      " \n",
      "The provided variables allow tracking the following phenomena\n",
      " \n",
      "|  phenomenon  | tracking |\n",
      "---------------------------\n",
      "   Jetstream   |   no\n",
      "   PSL CY/ACY  |   no\n",
      "   Z500 CY/ACY |   no\n",
      "   COLs        |   no\n",
      "   IVT ARs     |   yes\n",
      "   MS ARs      |   no\n",
      "   Fronts      |   no\n",
      "   TCs         |   no\n",
      "   MCSs        |   no\n",
      "   Equ. Waves  |   no\n",
      "---------------------------\n",
      " \n",
      "======> track IVT streams and atmospheric rivers (ARs)\n",
      "        3151 object found\n",
      "        break up long living IVT objects that have many elements\n"
     ]
    },
    {
     "name": "stderr",
     "output_type": "stream",
     "text": [
      "100%|██████████| 594/594 [00:23<00:00, 25.01it/s]\n"
     ]
    },
    {
     "name": "stdout",
     "output_type": "stream",
     "text": [
      "        00:00:29.64\n",
      "9\n",
      "            Loop over 1489 objects\n"
     ]
    },
    {
     "name": "stderr",
     "output_type": "stream",
     "text": [
      "/work/aa0238/a271093/Scripts/MOAAP/src/Tracking_Functions.py:250: RuntimeWarning: All-NaN slice encountered\n",
      "  obj_min = np.nanmin(data_slice, axis=(1, 2))\n",
      "/work/aa0238/a271093/Scripts/MOAAP/src/Tracking_Functions.py:251: RuntimeWarning: All-NaN slice encountered\n",
      "  obj_max = np.nanmax(data_slice, axis=(1, 2))\n",
      "/work/aa0238/a271093/Scripts/MOAAP/src/Tracking_Functions.py:252: RuntimeWarning: Mean of empty slice\n",
      "  obj_mean = np.nanmean(data_slice, axis=(1, 2))\n",
      "/work/aa0238/a271093/Conda/MOAAP_env/lib/python3.12/site-packages/scipy/ndimage/_measurements.py:1541: RuntimeWarning: invalid value encountered in scalar divide\n",
      "  results = [sum(input * grids[dir].astype(float), labels, index) / normalizer\n"
     ]
    },
    {
     "name": "stdout",
     "output_type": "stream",
     "text": [
      "        check if MSs quallify as ARs\n"
     ]
    },
    {
     "name": "stderr",
     "output_type": "stream",
     "text": [
      "/work/aa0238/a271093/Scripts/MOAAP/src/Tracking_Functions.py:4588: RuntimeWarning: divide by zero encountered in scalar divide\n",
      "  if DIST.max() / DIST.min() < AR_width_lenght_ratio:\n"
     ]
    },
    {
     "name": "stdout",
     "output_type": "stream",
     "text": [
      "            Loop over 1484 objects\n",
      "        00:01:16.08\n",
      " \n",
      "Save the object masks into a joint netCDF\n",
      "Saved: /work/aa0238/a271093/results/MOAAP/IVT_Tracking/NorESM_ssp_remapped_3x/ObjectMasks_MOAPP_ICON_100and85NorESMsspperc_remapped_3x_2044_01_01-2044_08_01.nc\n",
      "        00:00:24.60\n",
      "clean up /work/aa0238/a271093/results/MOAAP/IVT_Tracking/NorESM_ssp_remapped_3x/IVT_MOAPP_ICON_100and85NorESMsspperc_remapped_3x_2044_01_01-2044_07_01.pkl\n",
      "clean up finished\n",
      "clean up /work/aa0238/a271093/results/MOAAP/IVT_Tracking/NorESM_ssp_remapped_3x/ARs_MOAPP_ICON_100and85NorESMsspperc_remapped_3x_2044_01_01-2044_07_01.pkl\n",
      "clean up finished\n",
      "correct nc-file with \n",
      " cdo -selmon,1,2,3,4,5,6 /work/aa0238/a271093/results/MOAAP/IVT_Tracking/NorESM_ssp_remapped_3x/ObjectMasks_MOAPP_ICON_100and85NorESMsspperc_remapped_3x_2044_01_01-2044_08_01.nc /work/aa0238/a271093/results/MOAAP/IVT_Tracking/NorESM_ssp_remapped_3x/ObjectMasks_MOAPP_ICON_100and85NorESMsspperc_remapped_3x_2044_01_01-2044_07_01_corrected.nc\n",
      "\n",
      " \n",
      " \n",
      " \n",
      "\n",
      "2044-07-01 00:00:00 2045-02-01 00:00:00\n",
      "Mergetime /work/aa0238/a271093/data/Jan_runs/ICON_NorESM_ssp/NorESM_ssp_remapped_3x/IVTu/IVTu_2044010100-2044123123_remapped_3x.nc /work/aa0238/a271093/data/Jan_runs/ICON_NorESM_ssp/NorESM_ssp_remapped_3x/IVTu/IVTu_2045010100-2045123123_remapped_3x.nc  /work/aa0238/a271093/scratch/mergedIVTu_2044_2045_remapped_3x.nc\n",
      "Mergetime /work/aa0238/a271093/data/Jan_runs/ICON_NorESM_ssp/NorESM_ssp_remapped_3x/IVTv/IVTv_2044010100-2044123123_remapped_3x.nc /work/aa0238/a271093/data/Jan_runs/ICON_NorESM_ssp/NorESM_ssp_remapped_3x/IVTv/IVTv_2045010100-2045123123_remapped_3x.nc  /work/aa0238/a271093/scratch/mergedIVTv_2044_2045_remapped_3x.nc\n",
      " \n",
      "The provided variables allow tracking the following phenomena\n",
      " \n",
      "|  phenomenon  | tracking |\n",
      "---------------------------\n",
      "   Jetstream   |   no\n",
      "   PSL CY/ACY  |   no\n",
      "   Z500 CY/ACY |   no\n",
      "   COLs        |   no\n",
      "   IVT ARs     |   yes\n",
      "   MS ARs      |   no\n",
      "   Fronts      |   no\n",
      "   TCs         |   no\n",
      "   MCSs        |   no\n",
      "   Equ. Waves  |   no\n",
      "---------------------------\n",
      " \n",
      "======> track IVT streams and atmospheric rivers (ARs)\n",
      "        3170 object found\n",
      "        break up long living IVT objects that have many elements\n"
     ]
    },
    {
     "name": "stderr",
     "output_type": "stream",
     "text": [
      "100%|██████████| 598/598 [00:23<00:00, 25.46it/s]\n"
     ]
    },
    {
     "name": "stdout",
     "output_type": "stream",
     "text": [
      "        00:00:29.43\n",
      "9\n",
      "            Loop over 1409 objects\n"
     ]
    },
    {
     "name": "stderr",
     "output_type": "stream",
     "text": [
      "/work/aa0238/a271093/Scripts/MOAAP/src/Tracking_Functions.py:250: RuntimeWarning: All-NaN slice encountered\n",
      "  obj_min = np.nanmin(data_slice, axis=(1, 2))\n",
      "/work/aa0238/a271093/Scripts/MOAAP/src/Tracking_Functions.py:251: RuntimeWarning: All-NaN slice encountered\n",
      "  obj_max = np.nanmax(data_slice, axis=(1, 2))\n",
      "/work/aa0238/a271093/Scripts/MOAAP/src/Tracking_Functions.py:252: RuntimeWarning: Mean of empty slice\n",
      "  obj_mean = np.nanmean(data_slice, axis=(1, 2))\n",
      "/work/aa0238/a271093/Conda/MOAAP_env/lib/python3.12/site-packages/scipy/ndimage/_measurements.py:1541: RuntimeWarning: invalid value encountered in scalar divide\n",
      "  results = [sum(input * grids[dir].astype(float), labels, index) / normalizer\n"
     ]
    },
    {
     "name": "stdout",
     "output_type": "stream",
     "text": [
      "        check if MSs quallify as ARs\n"
     ]
    },
    {
     "name": "stderr",
     "output_type": "stream",
     "text": [
      "/work/aa0238/a271093/Scripts/MOAAP/src/Tracking_Functions.py:4588: RuntimeWarning: divide by zero encountered in scalar divide\n",
      "  if DIST.max() / DIST.min() < AR_width_lenght_ratio:\n"
     ]
    },
    {
     "name": "stdout",
     "output_type": "stream",
     "text": [
      "            Loop over 1407 objects\n",
      "        00:01:10.90\n",
      " \n",
      "Save the object masks into a joint netCDF\n",
      "Saved: /work/aa0238/a271093/results/MOAAP/IVT_Tracking/NorESM_ssp_remapped_3x/ObjectMasks_MOAPP_ICON_100and85NorESMsspperc_remapped_3x_2044_07_01-2045_02_01.nc\n",
      "        00:00:25.26\n",
      "clean up /work/aa0238/a271093/results/MOAAP/IVT_Tracking/NorESM_ssp_remapped_3x/IVT_MOAPP_ICON_100and85NorESMsspperc_remapped_3x_2044_07_01-2045_01_01.pkl\n",
      "clean up finished\n",
      "clean up /work/aa0238/a271093/results/MOAAP/IVT_Tracking/NorESM_ssp_remapped_3x/ARs_MOAPP_ICON_100and85NorESMsspperc_remapped_3x_2044_07_01-2045_01_01.pkl\n",
      "clean up finished\n",
      "correct nc-file with \n",
      " cdo -selmon,6,7,8,9,10,11,12 /work/aa0238/a271093/results/MOAAP/IVT_Tracking/NorESM_ssp_remapped_3x/ObjectMasks_MOAPP_ICON_100and85NorESMsspperc_remapped_3x_2044_07_01-2045_02_01.nc /work/aa0238/a271093/results/MOAAP/IVT_Tracking/NorESM_ssp_remapped_3x/ObjectMasks_MOAPP_ICON_100and85NorESMsspperc_remapped_3x_2044_07_01-2045_01_01_corrected.nc\n",
      "\n",
      " \n",
      " \n",
      " \n",
      "\n",
      "2045-01-01 00:00:00 2045-08-01 00:00:00\n",
      " \n",
      "The provided variables allow tracking the following phenomena\n",
      " \n",
      "|  phenomenon  | tracking |\n",
      "---------------------------\n",
      "   Jetstream   |   no\n",
      "   PSL CY/ACY  |   no\n",
      "   Z500 CY/ACY |   no\n",
      "   COLs        |   no\n",
      "   IVT ARs     |   yes\n",
      "   MS ARs      |   no\n",
      "   Fronts      |   no\n",
      "   TCs         |   no\n",
      "   MCSs        |   no\n",
      "   Equ. Waves  |   no\n",
      "---------------------------\n",
      " \n",
      "======> track IVT streams and atmospheric rivers (ARs)\n",
      "        3263 object found\n",
      "        break up long living IVT objects that have many elements\n"
     ]
    },
    {
     "name": "stderr",
     "output_type": "stream",
     "text": [
      "100%|██████████| 610/610 [00:22<00:00, 27.11it/s]\n"
     ]
    },
    {
     "name": "stdout",
     "output_type": "stream",
     "text": [
      "        00:00:28.19\n",
      "9\n",
      "            Loop over 1441 objects\n"
     ]
    },
    {
     "name": "stderr",
     "output_type": "stream",
     "text": [
      "/work/aa0238/a271093/Scripts/MOAAP/src/Tracking_Functions.py:250: RuntimeWarning: All-NaN slice encountered\n",
      "  obj_min = np.nanmin(data_slice, axis=(1, 2))\n",
      "/work/aa0238/a271093/Scripts/MOAAP/src/Tracking_Functions.py:251: RuntimeWarning: All-NaN slice encountered\n",
      "  obj_max = np.nanmax(data_slice, axis=(1, 2))\n",
      "/work/aa0238/a271093/Scripts/MOAAP/src/Tracking_Functions.py:252: RuntimeWarning: Mean of empty slice\n",
      "  obj_mean = np.nanmean(data_slice, axis=(1, 2))\n",
      "/work/aa0238/a271093/Conda/MOAAP_env/lib/python3.12/site-packages/scipy/ndimage/_measurements.py:1541: RuntimeWarning: invalid value encountered in scalar divide\n",
      "  results = [sum(input * grids[dir].astype(float), labels, index) / normalizer\n"
     ]
    },
    {
     "name": "stdout",
     "output_type": "stream",
     "text": [
      "        check if MSs quallify as ARs\n"
     ]
    },
    {
     "name": "stderr",
     "output_type": "stream",
     "text": [
      "/work/aa0238/a271093/Scripts/MOAAP/src/Tracking_Functions.py:4588: RuntimeWarning: divide by zero encountered in scalar divide\n",
      "  if DIST.max() / DIST.min() < AR_width_lenght_ratio:\n"
     ]
    },
    {
     "name": "stdout",
     "output_type": "stream",
     "text": [
      "            Loop over 1441 objects\n",
      "        00:01:13.69\n",
      " \n",
      "Save the object masks into a joint netCDF\n",
      "Saved: /work/aa0238/a271093/results/MOAAP/IVT_Tracking/NorESM_ssp_remapped_3x/ObjectMasks_MOAPP_ICON_100and85NorESMsspperc_remapped_3x_2045_01_01-2045_08_01.nc\n",
      "        00:00:24.18\n",
      "clean up /work/aa0238/a271093/results/MOAAP/IVT_Tracking/NorESM_ssp_remapped_3x/IVT_MOAPP_ICON_100and85NorESMsspperc_remapped_3x_2045_01_01-2045_07_01.pkl\n",
      "clean up finished\n",
      "clean up /work/aa0238/a271093/results/MOAAP/IVT_Tracking/NorESM_ssp_remapped_3x/ARs_MOAPP_ICON_100and85NorESMsspperc_remapped_3x_2045_01_01-2045_07_01.pkl\n",
      "clean up finished\n",
      "correct nc-file with \n",
      " cdo -selmon,1,2,3,4,5,6 /work/aa0238/a271093/results/MOAAP/IVT_Tracking/NorESM_ssp_remapped_3x/ObjectMasks_MOAPP_ICON_100and85NorESMsspperc_remapped_3x_2045_01_01-2045_08_01.nc /work/aa0238/a271093/results/MOAAP/IVT_Tracking/NorESM_ssp_remapped_3x/ObjectMasks_MOAPP_ICON_100and85NorESMsspperc_remapped_3x_2045_01_01-2045_07_01_corrected.nc\n",
      "\n",
      " \n",
      " \n",
      " \n",
      "\n",
      "2045-07-01 00:00:00 2046-02-01 00:00:00\n",
      "Mergetime /work/aa0238/a271093/data/Jan_runs/ICON_NorESM_ssp/NorESM_ssp_remapped_3x/IVTu/IVTu_2045010100-2045123123_remapped_3x.nc /work/aa0238/a271093/data/Jan_runs/ICON_NorESM_ssp/NorESM_ssp_remapped_3x/IVTu/IVTu_2046010100-2046123123_remapped_3x.nc  /work/aa0238/a271093/scratch/mergedIVTu_2045_2046_remapped_3x.nc\n",
      "Mergetime /work/aa0238/a271093/data/Jan_runs/ICON_NorESM_ssp/NorESM_ssp_remapped_3x/IVTv/IVTv_2045010100-2045123123_remapped_3x.nc /work/aa0238/a271093/data/Jan_runs/ICON_NorESM_ssp/NorESM_ssp_remapped_3x/IVTv/IVTv_2046010100-2046123123_remapped_3x.nc  /work/aa0238/a271093/scratch/mergedIVTv_2045_2046_remapped_3x.nc\n",
      " \n",
      "The provided variables allow tracking the following phenomena\n",
      " \n",
      "|  phenomenon  | tracking |\n",
      "---------------------------\n",
      "   Jetstream   |   no\n",
      "   PSL CY/ACY  |   no\n",
      "   Z500 CY/ACY |   no\n",
      "   COLs        |   no\n",
      "   IVT ARs     |   yes\n",
      "   MS ARs      |   no\n",
      "   Fronts      |   no\n",
      "   TCs         |   no\n",
      "   MCSs        |   no\n",
      "   Equ. Waves  |   no\n",
      "---------------------------\n",
      " \n",
      "======> track IVT streams and atmospheric rivers (ARs)\n",
      "        3041 object found\n",
      "        break up long living IVT objects that have many elements\n"
     ]
    },
    {
     "name": "stderr",
     "output_type": "stream",
     "text": [
      "100%|██████████| 582/582 [00:23<00:00, 25.06it/s]\n"
     ]
    },
    {
     "name": "stdout",
     "output_type": "stream",
     "text": [
      "        00:00:29.13\n",
      "9\n",
      "            Loop over 1426 objects\n"
     ]
    },
    {
     "name": "stderr",
     "output_type": "stream",
     "text": [
      "/work/aa0238/a271093/Scripts/MOAAP/src/Tracking_Functions.py:250: RuntimeWarning: All-NaN slice encountered\n",
      "  obj_min = np.nanmin(data_slice, axis=(1, 2))\n",
      "/work/aa0238/a271093/Scripts/MOAAP/src/Tracking_Functions.py:251: RuntimeWarning: All-NaN slice encountered\n",
      "  obj_max = np.nanmax(data_slice, axis=(1, 2))\n",
      "/work/aa0238/a271093/Scripts/MOAAP/src/Tracking_Functions.py:252: RuntimeWarning: Mean of empty slice\n",
      "  obj_mean = np.nanmean(data_slice, axis=(1, 2))\n",
      "/work/aa0238/a271093/Conda/MOAAP_env/lib/python3.12/site-packages/scipy/ndimage/_measurements.py:1541: RuntimeWarning: invalid value encountered in scalar divide\n",
      "  results = [sum(input * grids[dir].astype(float), labels, index) / normalizer\n"
     ]
    },
    {
     "name": "stdout",
     "output_type": "stream",
     "text": [
      "        check if MSs quallify as ARs\n"
     ]
    },
    {
     "name": "stderr",
     "output_type": "stream",
     "text": [
      "/work/aa0238/a271093/Scripts/MOAAP/src/Tracking_Functions.py:4588: RuntimeWarning: divide by zero encountered in scalar divide\n",
      "  if DIST.max() / DIST.min() < AR_width_lenght_ratio:\n"
     ]
    },
    {
     "name": "stdout",
     "output_type": "stream",
     "text": [
      "            Loop over 1426 objects\n",
      "        00:01:10.90\n",
      " \n",
      "Save the object masks into a joint netCDF\n",
      "Saved: /work/aa0238/a271093/results/MOAAP/IVT_Tracking/NorESM_ssp_remapped_3x/ObjectMasks_MOAPP_ICON_100and85NorESMsspperc_remapped_3x_2045_07_01-2046_02_01.nc\n",
      "        00:00:24.29\n",
      "clean up /work/aa0238/a271093/results/MOAAP/IVT_Tracking/NorESM_ssp_remapped_3x/IVT_MOAPP_ICON_100and85NorESMsspperc_remapped_3x_2045_07_01-2046_01_01.pkl\n",
      "clean up finished\n",
      "clean up /work/aa0238/a271093/results/MOAAP/IVT_Tracking/NorESM_ssp_remapped_3x/ARs_MOAPP_ICON_100and85NorESMsspperc_remapped_3x_2045_07_01-2046_01_01.pkl\n",
      "clean up finished\n",
      "correct nc-file with \n",
      " cdo -selmon,6,7,8,9,10,11,12 /work/aa0238/a271093/results/MOAAP/IVT_Tracking/NorESM_ssp_remapped_3x/ObjectMasks_MOAPP_ICON_100and85NorESMsspperc_remapped_3x_2045_07_01-2046_02_01.nc /work/aa0238/a271093/results/MOAAP/IVT_Tracking/NorESM_ssp_remapped_3x/ObjectMasks_MOAPP_ICON_100and85NorESMsspperc_remapped_3x_2045_07_01-2046_01_01_corrected.nc\n",
      "\n",
      " \n",
      " \n",
      " \n",
      "\n",
      "2046-01-01 00:00:00 2046-08-01 00:00:00\n",
      " \n",
      "The provided variables allow tracking the following phenomena\n",
      " \n",
      "|  phenomenon  | tracking |\n",
      "---------------------------\n",
      "   Jetstream   |   no\n",
      "   PSL CY/ACY  |   no\n",
      "   Z500 CY/ACY |   no\n",
      "   COLs        |   no\n",
      "   IVT ARs     |   yes\n",
      "   MS ARs      |   no\n",
      "   Fronts      |   no\n",
      "   TCs         |   no\n",
      "   MCSs        |   no\n",
      "   Equ. Waves  |   no\n",
      "---------------------------\n",
      " \n",
      "======> track IVT streams and atmospheric rivers (ARs)\n",
      "        3417 object found\n",
      "        break up long living IVT objects that have many elements\n"
     ]
    },
    {
     "name": "stderr",
     "output_type": "stream",
     "text": [
      "100%|██████████| 585/585 [00:23<00:00, 24.44it/s]\n"
     ]
    },
    {
     "name": "stdout",
     "output_type": "stream",
     "text": [
      "        00:00:29.60\n",
      "9\n",
      "            Loop over 1584 objects\n"
     ]
    },
    {
     "name": "stderr",
     "output_type": "stream",
     "text": [
      "/work/aa0238/a271093/Scripts/MOAAP/src/Tracking_Functions.py:250: RuntimeWarning: All-NaN slice encountered\n",
      "  obj_min = np.nanmin(data_slice, axis=(1, 2))\n",
      "/work/aa0238/a271093/Scripts/MOAAP/src/Tracking_Functions.py:251: RuntimeWarning: All-NaN slice encountered\n",
      "  obj_max = np.nanmax(data_slice, axis=(1, 2))\n",
      "/work/aa0238/a271093/Scripts/MOAAP/src/Tracking_Functions.py:252: RuntimeWarning: Mean of empty slice\n",
      "  obj_mean = np.nanmean(data_slice, axis=(1, 2))\n",
      "/work/aa0238/a271093/Conda/MOAAP_env/lib/python3.12/site-packages/scipy/ndimage/_measurements.py:1541: RuntimeWarning: invalid value encountered in scalar divide\n",
      "  results = [sum(input * grids[dir].astype(float), labels, index) / normalizer\n"
     ]
    },
    {
     "name": "stdout",
     "output_type": "stream",
     "text": [
      "        check if MSs quallify as ARs\n"
     ]
    },
    {
     "name": "stderr",
     "output_type": "stream",
     "text": [
      "/work/aa0238/a271093/Scripts/MOAAP/src/Tracking_Functions.py:4588: RuntimeWarning: divide by zero encountered in scalar divide\n",
      "  if DIST.max() / DIST.min() < AR_width_lenght_ratio:\n"
     ]
    },
    {
     "name": "stdout",
     "output_type": "stream",
     "text": [
      "            Loop over 1583 objects\n",
      "        00:01:17.06\n",
      " \n",
      "Save the object masks into a joint netCDF\n",
      "Saved: /work/aa0238/a271093/results/MOAAP/IVT_Tracking/NorESM_ssp_remapped_3x/ObjectMasks_MOAPP_ICON_100and85NorESMsspperc_remapped_3x_2046_01_01-2046_08_01.nc\n",
      "        00:00:24.62\n",
      "clean up /work/aa0238/a271093/results/MOAAP/IVT_Tracking/NorESM_ssp_remapped_3x/IVT_MOAPP_ICON_100and85NorESMsspperc_remapped_3x_2046_01_01-2046_07_01.pkl\n",
      "clean up finished\n",
      "clean up /work/aa0238/a271093/results/MOAAP/IVT_Tracking/NorESM_ssp_remapped_3x/ARs_MOAPP_ICON_100and85NorESMsspperc_remapped_3x_2046_01_01-2046_07_01.pkl\n",
      "clean up finished\n",
      "correct nc-file with \n",
      " cdo -selmon,1,2,3,4,5,6 /work/aa0238/a271093/results/MOAAP/IVT_Tracking/NorESM_ssp_remapped_3x/ObjectMasks_MOAPP_ICON_100and85NorESMsspperc_remapped_3x_2046_01_01-2046_08_01.nc /work/aa0238/a271093/results/MOAAP/IVT_Tracking/NorESM_ssp_remapped_3x/ObjectMasks_MOAPP_ICON_100and85NorESMsspperc_remapped_3x_2046_01_01-2046_07_01_corrected.nc\n",
      "\n",
      " \n",
      " \n",
      " \n",
      "\n",
      "2046-07-01 00:00:00 2047-02-01 00:00:00\n",
      "Mergetime /work/aa0238/a271093/data/Jan_runs/ICON_NorESM_ssp/NorESM_ssp_remapped_3x/IVTu/IVTu_2046010100-2046123123_remapped_3x.nc /work/aa0238/a271093/data/Jan_runs/ICON_NorESM_ssp/NorESM_ssp_remapped_3x/IVTu/IVTu_2047010100-2047123123_remapped_3x.nc  /work/aa0238/a271093/scratch/mergedIVTu_2046_2047_remapped_3x.nc\n",
      "Mergetime /work/aa0238/a271093/data/Jan_runs/ICON_NorESM_ssp/NorESM_ssp_remapped_3x/IVTv/IVTv_2046010100-2046123123_remapped_3x.nc /work/aa0238/a271093/data/Jan_runs/ICON_NorESM_ssp/NorESM_ssp_remapped_3x/IVTv/IVTv_2047010100-2047123123_remapped_3x.nc  /work/aa0238/a271093/scratch/mergedIVTv_2046_2047_remapped_3x.nc\n",
      " \n",
      "The provided variables allow tracking the following phenomena\n",
      " \n",
      "|  phenomenon  | tracking |\n",
      "---------------------------\n",
      "   Jetstream   |   no\n",
      "   PSL CY/ACY  |   no\n",
      "   Z500 CY/ACY |   no\n",
      "   COLs        |   no\n",
      "   IVT ARs     |   yes\n",
      "   MS ARs      |   no\n",
      "   Fronts      |   no\n",
      "   TCs         |   no\n",
      "   MCSs        |   no\n",
      "   Equ. Waves  |   no\n",
      "---------------------------\n",
      " \n",
      "======> track IVT streams and atmospheric rivers (ARs)\n",
      "        3132 object found\n",
      "        break up long living IVT objects that have many elements\n"
     ]
    },
    {
     "name": "stderr",
     "output_type": "stream",
     "text": [
      "100%|██████████| 604/604 [00:22<00:00, 26.75it/s]\n"
     ]
    },
    {
     "name": "stdout",
     "output_type": "stream",
     "text": [
      "        00:00:28.55\n",
      "9\n",
      "            Loop over 1439 objects\n"
     ]
    },
    {
     "name": "stderr",
     "output_type": "stream",
     "text": [
      "/work/aa0238/a271093/Scripts/MOAAP/src/Tracking_Functions.py:250: RuntimeWarning: All-NaN slice encountered\n",
      "  obj_min = np.nanmin(data_slice, axis=(1, 2))\n",
      "/work/aa0238/a271093/Scripts/MOAAP/src/Tracking_Functions.py:251: RuntimeWarning: All-NaN slice encountered\n",
      "  obj_max = np.nanmax(data_slice, axis=(1, 2))\n",
      "/work/aa0238/a271093/Scripts/MOAAP/src/Tracking_Functions.py:252: RuntimeWarning: Mean of empty slice\n",
      "  obj_mean = np.nanmean(data_slice, axis=(1, 2))\n",
      "/work/aa0238/a271093/Conda/MOAAP_env/lib/python3.12/site-packages/scipy/ndimage/_measurements.py:1541: RuntimeWarning: invalid value encountered in scalar divide\n",
      "  results = [sum(input * grids[dir].astype(float), labels, index) / normalizer\n"
     ]
    },
    {
     "name": "stdout",
     "output_type": "stream",
     "text": [
      "        check if MSs quallify as ARs\n"
     ]
    },
    {
     "name": "stderr",
     "output_type": "stream",
     "text": [
      "/work/aa0238/a271093/Scripts/MOAAP/src/Tracking_Functions.py:4588: RuntimeWarning: divide by zero encountered in scalar divide\n",
      "  if DIST.max() / DIST.min() < AR_width_lenght_ratio:\n"
     ]
    },
    {
     "name": "stdout",
     "output_type": "stream",
     "text": [
      "            Loop over 1438 objects\n",
      "        00:01:12.33\n",
      " \n",
      "Save the object masks into a joint netCDF\n",
      "Saved: /work/aa0238/a271093/results/MOAAP/IVT_Tracking/NorESM_ssp_remapped_3x/ObjectMasks_MOAPP_ICON_100and85NorESMsspperc_remapped_3x_2046_07_01-2047_02_01.nc\n",
      "        00:00:24.82\n",
      "clean up /work/aa0238/a271093/results/MOAAP/IVT_Tracking/NorESM_ssp_remapped_3x/IVT_MOAPP_ICON_100and85NorESMsspperc_remapped_3x_2046_07_01-2047_01_01.pkl\n",
      "clean up finished\n",
      "clean up /work/aa0238/a271093/results/MOAAP/IVT_Tracking/NorESM_ssp_remapped_3x/ARs_MOAPP_ICON_100and85NorESMsspperc_remapped_3x_2046_07_01-2047_01_01.pkl\n",
      "clean up finished\n",
      "correct nc-file with \n",
      " cdo -selmon,6,7,8,9,10,11,12 /work/aa0238/a271093/results/MOAAP/IVT_Tracking/NorESM_ssp_remapped_3x/ObjectMasks_MOAPP_ICON_100and85NorESMsspperc_remapped_3x_2046_07_01-2047_02_01.nc /work/aa0238/a271093/results/MOAAP/IVT_Tracking/NorESM_ssp_remapped_3x/ObjectMasks_MOAPP_ICON_100and85NorESMsspperc_remapped_3x_2046_07_01-2047_01_01_corrected.nc\n",
      "\n",
      " \n",
      " \n",
      " \n",
      "\n",
      "2047-01-01 00:00:00 2047-08-01 00:00:00\n",
      " \n",
      "The provided variables allow tracking the following phenomena\n",
      " \n",
      "|  phenomenon  | tracking |\n",
      "---------------------------\n",
      "   Jetstream   |   no\n",
      "   PSL CY/ACY  |   no\n",
      "   Z500 CY/ACY |   no\n",
      "   COLs        |   no\n",
      "   IVT ARs     |   yes\n",
      "   MS ARs      |   no\n",
      "   Fronts      |   no\n",
      "   TCs         |   no\n",
      "   MCSs        |   no\n",
      "   Equ. Waves  |   no\n",
      "---------------------------\n",
      " \n",
      "======> track IVT streams and atmospheric rivers (ARs)\n",
      "        3021 object found\n",
      "        break up long living IVT objects that have many elements\n"
     ]
    },
    {
     "name": "stderr",
     "output_type": "stream",
     "text": [
      "100%|██████████| 550/550 [00:22<00:00, 24.97it/s] \n"
     ]
    },
    {
     "name": "stdout",
     "output_type": "stream",
     "text": [
      "        00:00:27.74\n",
      "9\n",
      "            Loop over 1423 objects\n"
     ]
    },
    {
     "name": "stderr",
     "output_type": "stream",
     "text": [
      "/work/aa0238/a271093/Scripts/MOAAP/src/Tracking_Functions.py:250: RuntimeWarning: All-NaN slice encountered\n",
      "  obj_min = np.nanmin(data_slice, axis=(1, 2))\n",
      "/work/aa0238/a271093/Scripts/MOAAP/src/Tracking_Functions.py:251: RuntimeWarning: All-NaN slice encountered\n",
      "  obj_max = np.nanmax(data_slice, axis=(1, 2))\n",
      "/work/aa0238/a271093/Scripts/MOAAP/src/Tracking_Functions.py:252: RuntimeWarning: Mean of empty slice\n",
      "  obj_mean = np.nanmean(data_slice, axis=(1, 2))\n",
      "/work/aa0238/a271093/Conda/MOAAP_env/lib/python3.12/site-packages/scipy/ndimage/_measurements.py:1541: RuntimeWarning: invalid value encountered in scalar divide\n",
      "  results = [sum(input * grids[dir].astype(float), labels, index) / normalizer\n"
     ]
    },
    {
     "name": "stdout",
     "output_type": "stream",
     "text": [
      "        check if MSs quallify as ARs\n"
     ]
    },
    {
     "name": "stderr",
     "output_type": "stream",
     "text": [
      "/work/aa0238/a271093/Scripts/MOAAP/src/Tracking_Functions.py:4588: RuntimeWarning: divide by zero encountered in scalar divide\n",
      "  if DIST.max() / DIST.min() < AR_width_lenght_ratio:\n"
     ]
    },
    {
     "name": "stdout",
     "output_type": "stream",
     "text": [
      "            Loop over 1422 objects\n",
      "        00:01:12.52\n",
      " \n",
      "Save the object masks into a joint netCDF\n",
      "Saved: /work/aa0238/a271093/results/MOAAP/IVT_Tracking/NorESM_ssp_remapped_3x/ObjectMasks_MOAPP_ICON_100and85NorESMsspperc_remapped_3x_2047_01_01-2047_08_01.nc\n",
      "        00:00:24.17\n",
      "clean up /work/aa0238/a271093/results/MOAAP/IVT_Tracking/NorESM_ssp_remapped_3x/IVT_MOAPP_ICON_100and85NorESMsspperc_remapped_3x_2047_01_01-2047_07_01.pkl\n",
      "clean up finished\n",
      "clean up /work/aa0238/a271093/results/MOAAP/IVT_Tracking/NorESM_ssp_remapped_3x/ARs_MOAPP_ICON_100and85NorESMsspperc_remapped_3x_2047_01_01-2047_07_01.pkl\n",
      "clean up finished\n",
      "correct nc-file with \n",
      " cdo -selmon,1,2,3,4,5,6 /work/aa0238/a271093/results/MOAAP/IVT_Tracking/NorESM_ssp_remapped_3x/ObjectMasks_MOAPP_ICON_100and85NorESMsspperc_remapped_3x_2047_01_01-2047_08_01.nc /work/aa0238/a271093/results/MOAAP/IVT_Tracking/NorESM_ssp_remapped_3x/ObjectMasks_MOAPP_ICON_100and85NorESMsspperc_remapped_3x_2047_01_01-2047_07_01_corrected.nc\n",
      "\n",
      " \n",
      " \n",
      " \n",
      "\n",
      "2047-07-01 00:00:00 2048-02-01 00:00:00\n",
      "Mergetime /work/aa0238/a271093/data/Jan_runs/ICON_NorESM_ssp/NorESM_ssp_remapped_3x/IVTu/IVTu_2047010100-2047123123_remapped_3x.nc /work/aa0238/a271093/data/Jan_runs/ICON_NorESM_ssp/NorESM_ssp_remapped_3x/IVTu/IVTu_2048010100-2048123123_remapped_3x.nc  /work/aa0238/a271093/scratch/mergedIVTu_2047_2048_remapped_3x.nc\n",
      "Mergetime /work/aa0238/a271093/data/Jan_runs/ICON_NorESM_ssp/NorESM_ssp_remapped_3x/IVTv/IVTv_2047010100-2047123123_remapped_3x.nc /work/aa0238/a271093/data/Jan_runs/ICON_NorESM_ssp/NorESM_ssp_remapped_3x/IVTv/IVTv_2048010100-2048123123_remapped_3x.nc  /work/aa0238/a271093/scratch/mergedIVTv_2047_2048_remapped_3x.nc\n",
      " \n",
      "The provided variables allow tracking the following phenomena\n",
      " \n",
      "|  phenomenon  | tracking |\n",
      "---------------------------\n",
      "   Jetstream   |   no\n",
      "   PSL CY/ACY  |   no\n",
      "   Z500 CY/ACY |   no\n",
      "   COLs        |   no\n",
      "   IVT ARs     |   yes\n",
      "   MS ARs      |   no\n",
      "   Fronts      |   no\n",
      "   TCs         |   no\n",
      "   MCSs        |   no\n",
      "   Equ. Waves  |   no\n",
      "---------------------------\n",
      " \n",
      "======> track IVT streams and atmospheric rivers (ARs)\n",
      "        3133 object found\n",
      "        break up long living IVT objects that have many elements\n"
     ]
    },
    {
     "name": "stderr",
     "output_type": "stream",
     "text": [
      "100%|██████████| 589/589 [00:23<00:00, 25.31it/s]\n"
     ]
    },
    {
     "name": "stdout",
     "output_type": "stream",
     "text": [
      "        00:00:29.40\n",
      "9\n",
      "            Loop over 1486 objects\n"
     ]
    },
    {
     "name": "stderr",
     "output_type": "stream",
     "text": [
      "/work/aa0238/a271093/Scripts/MOAAP/src/Tracking_Functions.py:250: RuntimeWarning: All-NaN slice encountered\n",
      "  obj_min = np.nanmin(data_slice, axis=(1, 2))\n",
      "/work/aa0238/a271093/Scripts/MOAAP/src/Tracking_Functions.py:251: RuntimeWarning: All-NaN slice encountered\n",
      "  obj_max = np.nanmax(data_slice, axis=(1, 2))\n",
      "/work/aa0238/a271093/Scripts/MOAAP/src/Tracking_Functions.py:252: RuntimeWarning: Mean of empty slice\n",
      "  obj_mean = np.nanmean(data_slice, axis=(1, 2))\n",
      "/work/aa0238/a271093/Conda/MOAAP_env/lib/python3.12/site-packages/scipy/ndimage/_measurements.py:1541: RuntimeWarning: invalid value encountered in scalar divide\n",
      "  results = [sum(input * grids[dir].astype(float), labels, index) / normalizer\n"
     ]
    },
    {
     "name": "stdout",
     "output_type": "stream",
     "text": [
      "        check if MSs quallify as ARs\n"
     ]
    },
    {
     "name": "stderr",
     "output_type": "stream",
     "text": [
      "/work/aa0238/a271093/Scripts/MOAAP/src/Tracking_Functions.py:4588: RuntimeWarning: divide by zero encountered in scalar divide\n",
      "  if DIST.max() / DIST.min() < AR_width_lenght_ratio:\n"
     ]
    },
    {
     "name": "stdout",
     "output_type": "stream",
     "text": [
      "            Loop over 1486 objects\n",
      "        00:01:11.90\n",
      " \n",
      "Save the object masks into a joint netCDF\n",
      "Saved: /work/aa0238/a271093/results/MOAAP/IVT_Tracking/NorESM_ssp_remapped_3x/ObjectMasks_MOAPP_ICON_100and85NorESMsspperc_remapped_3x_2047_07_01-2048_02_01.nc\n",
      "        00:00:28.03\n",
      "clean up /work/aa0238/a271093/results/MOAAP/IVT_Tracking/NorESM_ssp_remapped_3x/IVT_MOAPP_ICON_100and85NorESMsspperc_remapped_3x_2047_07_01-2048_01_01.pkl\n",
      "clean up finished\n",
      "clean up /work/aa0238/a271093/results/MOAAP/IVT_Tracking/NorESM_ssp_remapped_3x/ARs_MOAPP_ICON_100and85NorESMsspperc_remapped_3x_2047_07_01-2048_01_01.pkl\n",
      "clean up finished\n",
      "correct nc-file with \n",
      " cdo -selmon,6,7,8,9,10,11,12 /work/aa0238/a271093/results/MOAAP/IVT_Tracking/NorESM_ssp_remapped_3x/ObjectMasks_MOAPP_ICON_100and85NorESMsspperc_remapped_3x_2047_07_01-2048_02_01.nc /work/aa0238/a271093/results/MOAAP/IVT_Tracking/NorESM_ssp_remapped_3x/ObjectMasks_MOAPP_ICON_100and85NorESMsspperc_remapped_3x_2047_07_01-2048_01_01_corrected.nc\n",
      "\n",
      " \n",
      " \n",
      " \n",
      "\n",
      "2048-01-01 00:00:00 2048-08-01 00:00:00\n",
      " \n",
      "The provided variables allow tracking the following phenomena\n",
      " \n",
      "|  phenomenon  | tracking |\n",
      "---------------------------\n",
      "   Jetstream   |   no\n",
      "   PSL CY/ACY  |   no\n",
      "   Z500 CY/ACY |   no\n",
      "   COLs        |   no\n",
      "   IVT ARs     |   yes\n",
      "   MS ARs      |   no\n",
      "   Fronts      |   no\n",
      "   TCs         |   no\n",
      "   MCSs        |   no\n",
      "   Equ. Waves  |   no\n",
      "---------------------------\n",
      " \n",
      "======> track IVT streams and atmospheric rivers (ARs)\n",
      "        3377 object found\n",
      "        break up long living IVT objects that have many elements\n"
     ]
    },
    {
     "name": "stderr",
     "output_type": "stream",
     "text": [
      "100%|██████████| 648/648 [00:23<00:00, 27.27it/s] \n"
     ]
    },
    {
     "name": "stdout",
     "output_type": "stream",
     "text": [
      "        00:00:29.44\n",
      "9\n",
      "            Loop over 1633 objects\n"
     ]
    },
    {
     "name": "stderr",
     "output_type": "stream",
     "text": [
      "/work/aa0238/a271093/Scripts/MOAAP/src/Tracking_Functions.py:250: RuntimeWarning: All-NaN slice encountered\n",
      "  obj_min = np.nanmin(data_slice, axis=(1, 2))\n",
      "/work/aa0238/a271093/Scripts/MOAAP/src/Tracking_Functions.py:251: RuntimeWarning: All-NaN slice encountered\n",
      "  obj_max = np.nanmax(data_slice, axis=(1, 2))\n",
      "/work/aa0238/a271093/Scripts/MOAAP/src/Tracking_Functions.py:252: RuntimeWarning: Mean of empty slice\n",
      "  obj_mean = np.nanmean(data_slice, axis=(1, 2))\n",
      "/work/aa0238/a271093/Conda/MOAAP_env/lib/python3.12/site-packages/scipy/ndimage/_measurements.py:1541: RuntimeWarning: invalid value encountered in scalar divide\n",
      "  results = [sum(input * grids[dir].astype(float), labels, index) / normalizer\n"
     ]
    },
    {
     "name": "stdout",
     "output_type": "stream",
     "text": [
      "        check if MSs quallify as ARs\n"
     ]
    },
    {
     "name": "stderr",
     "output_type": "stream",
     "text": [
      "/work/aa0238/a271093/Scripts/MOAAP/src/Tracking_Functions.py:4588: RuntimeWarning: divide by zero encountered in scalar divide\n",
      "  if DIST.max() / DIST.min() < AR_width_lenght_ratio:\n"
     ]
    },
    {
     "name": "stdout",
     "output_type": "stream",
     "text": [
      "            Loop over 1629 objects\n",
      "        00:01:14.65\n",
      " \n",
      "Save the object masks into a joint netCDF\n",
      "Saved: /work/aa0238/a271093/results/MOAAP/IVT_Tracking/NorESM_ssp_remapped_3x/ObjectMasks_MOAPP_ICON_100and85NorESMsspperc_remapped_3x_2048_01_01-2048_08_01.nc\n",
      "        00:00:25.08\n",
      "clean up /work/aa0238/a271093/results/MOAAP/IVT_Tracking/NorESM_ssp_remapped_3x/IVT_MOAPP_ICON_100and85NorESMsspperc_remapped_3x_2048_01_01-2048_07_01.pkl\n",
      "clean up finished\n",
      "clean up /work/aa0238/a271093/results/MOAAP/IVT_Tracking/NorESM_ssp_remapped_3x/ARs_MOAPP_ICON_100and85NorESMsspperc_remapped_3x_2048_01_01-2048_07_01.pkl\n",
      "clean up finished\n",
      "correct nc-file with \n",
      " cdo -selmon,1,2,3,4,5,6 /work/aa0238/a271093/results/MOAAP/IVT_Tracking/NorESM_ssp_remapped_3x/ObjectMasks_MOAPP_ICON_100and85NorESMsspperc_remapped_3x_2048_01_01-2048_08_01.nc /work/aa0238/a271093/results/MOAAP/IVT_Tracking/NorESM_ssp_remapped_3x/ObjectMasks_MOAPP_ICON_100and85NorESMsspperc_remapped_3x_2048_01_01-2048_07_01_corrected.nc\n",
      "\n",
      " \n",
      " \n",
      " \n",
      "\n",
      "2048-07-01 00:00:00 2049-02-01 00:00:00\n",
      "Mergetime /work/aa0238/a271093/data/Jan_runs/ICON_NorESM_ssp/NorESM_ssp_remapped_3x/IVTu/IVTu_2048010100-2048123123_remapped_3x.nc /work/aa0238/a271093/data/Jan_runs/ICON_NorESM_ssp/NorESM_ssp_remapped_3x/IVTu/IVTu_2049010100-2049123123_remapped_3x.nc  /work/aa0238/a271093/scratch/mergedIVTu_2048_2049_remapped_3x.nc\n",
      "Mergetime /work/aa0238/a271093/data/Jan_runs/ICON_NorESM_ssp/NorESM_ssp_remapped_3x/IVTv/IVTv_2048010100-2048123123_remapped_3x.nc /work/aa0238/a271093/data/Jan_runs/ICON_NorESM_ssp/NorESM_ssp_remapped_3x/IVTv/IVTv_2049010100-2049123123_remapped_3x.nc  /work/aa0238/a271093/scratch/mergedIVTv_2048_2049_remapped_3x.nc\n",
      " \n",
      "The provided variables allow tracking the following phenomena\n",
      " \n",
      "|  phenomenon  | tracking |\n",
      "---------------------------\n",
      "   Jetstream   |   no\n",
      "   PSL CY/ACY  |   no\n",
      "   Z500 CY/ACY |   no\n",
      "   COLs        |   no\n",
      "   IVT ARs     |   yes\n",
      "   MS ARs      |   no\n",
      "   Fronts      |   no\n",
      "   TCs         |   no\n",
      "   MCSs        |   no\n",
      "   Equ. Waves  |   no\n",
      "---------------------------\n",
      " \n",
      "======> track IVT streams and atmospheric rivers (ARs)\n",
      "        2838 object found\n",
      "        break up long living IVT objects that have many elements\n"
     ]
    },
    {
     "name": "stderr",
     "output_type": "stream",
     "text": [
      "100%|██████████| 562/562 [00:22<00:00, 25.07it/s]\n"
     ]
    },
    {
     "name": "stdout",
     "output_type": "stream",
     "text": [
      "        00:00:28.25\n",
      "9\n",
      "            Loop over 1326 objects\n"
     ]
    },
    {
     "name": "stderr",
     "output_type": "stream",
     "text": [
      "/work/aa0238/a271093/Scripts/MOAAP/src/Tracking_Functions.py:250: RuntimeWarning: All-NaN slice encountered\n",
      "  obj_min = np.nanmin(data_slice, axis=(1, 2))\n",
      "/work/aa0238/a271093/Scripts/MOAAP/src/Tracking_Functions.py:251: RuntimeWarning: All-NaN slice encountered\n",
      "  obj_max = np.nanmax(data_slice, axis=(1, 2))\n",
      "/work/aa0238/a271093/Scripts/MOAAP/src/Tracking_Functions.py:252: RuntimeWarning: Mean of empty slice\n",
      "  obj_mean = np.nanmean(data_slice, axis=(1, 2))\n",
      "/work/aa0238/a271093/Conda/MOAAP_env/lib/python3.12/site-packages/scipy/ndimage/_measurements.py:1541: RuntimeWarning: invalid value encountered in scalar divide\n",
      "  results = [sum(input * grids[dir].astype(float), labels, index) / normalizer\n"
     ]
    },
    {
     "name": "stdout",
     "output_type": "stream",
     "text": [
      "        check if MSs quallify as ARs\n"
     ]
    },
    {
     "name": "stderr",
     "output_type": "stream",
     "text": [
      "/work/aa0238/a271093/Scripts/MOAAP/src/Tracking_Functions.py:4588: RuntimeWarning: divide by zero encountered in scalar divide\n",
      "  if DIST.max() / DIST.min() < AR_width_lenght_ratio:\n"
     ]
    },
    {
     "name": "stdout",
     "output_type": "stream",
     "text": [
      "            Loop over 1324 objects\n",
      "        00:01:09.91\n",
      " \n",
      "Save the object masks into a joint netCDF\n",
      "Saved: /work/aa0238/a271093/results/MOAAP/IVT_Tracking/NorESM_ssp_remapped_3x/ObjectMasks_MOAPP_ICON_100and85NorESMsspperc_remapped_3x_2048_07_01-2049_02_01.nc\n",
      "        00:00:25.35\n",
      "clean up /work/aa0238/a271093/results/MOAAP/IVT_Tracking/NorESM_ssp_remapped_3x/IVT_MOAPP_ICON_100and85NorESMsspperc_remapped_3x_2048_07_01-2049_01_01.pkl\n",
      "clean up finished\n",
      "clean up /work/aa0238/a271093/results/MOAAP/IVT_Tracking/NorESM_ssp_remapped_3x/ARs_MOAPP_ICON_100and85NorESMsspperc_remapped_3x_2048_07_01-2049_01_01.pkl\n",
      "clean up finished\n",
      "correct nc-file with \n",
      " cdo -selmon,6,7,8,9,10,11,12 /work/aa0238/a271093/results/MOAAP/IVT_Tracking/NorESM_ssp_remapped_3x/ObjectMasks_MOAPP_ICON_100and85NorESMsspperc_remapped_3x_2048_07_01-2049_02_01.nc /work/aa0238/a271093/results/MOAAP/IVT_Tracking/NorESM_ssp_remapped_3x/ObjectMasks_MOAPP_ICON_100and85NorESMsspperc_remapped_3x_2048_07_01-2049_01_01_corrected.nc\n",
      "\n",
      " \n",
      " \n",
      " \n",
      "\n",
      "2049-01-01 00:00:00 2049-08-01 00:00:00\n",
      " \n",
      "The provided variables allow tracking the following phenomena\n",
      " \n",
      "|  phenomenon  | tracking |\n",
      "---------------------------\n",
      "   Jetstream   |   no\n",
      "   PSL CY/ACY  |   no\n",
      "   Z500 CY/ACY |   no\n",
      "   COLs        |   no\n",
      "   IVT ARs     |   yes\n",
      "   MS ARs      |   no\n",
      "   Fronts      |   no\n",
      "   TCs         |   no\n",
      "   MCSs        |   no\n",
      "   Equ. Waves  |   no\n",
      "---------------------------\n",
      " \n",
      "======> track IVT streams and atmospheric rivers (ARs)\n",
      "        3453 object found\n",
      "        break up long living IVT objects that have many elements\n"
     ]
    },
    {
     "name": "stderr",
     "output_type": "stream",
     "text": [
      "100%|██████████| 643/643 [00:24<00:00, 26.27it/s]\n"
     ]
    },
    {
     "name": "stdout",
     "output_type": "stream",
     "text": [
      "        00:00:30.26\n",
      "9\n",
      "            Loop over 1556 objects\n"
     ]
    },
    {
     "name": "stderr",
     "output_type": "stream",
     "text": [
      "/work/aa0238/a271093/Scripts/MOAAP/src/Tracking_Functions.py:250: RuntimeWarning: All-NaN slice encountered\n",
      "  obj_min = np.nanmin(data_slice, axis=(1, 2))\n",
      "/work/aa0238/a271093/Scripts/MOAAP/src/Tracking_Functions.py:251: RuntimeWarning: All-NaN slice encountered\n",
      "  obj_max = np.nanmax(data_slice, axis=(1, 2))\n",
      "/work/aa0238/a271093/Scripts/MOAAP/src/Tracking_Functions.py:252: RuntimeWarning: Mean of empty slice\n",
      "  obj_mean = np.nanmean(data_slice, axis=(1, 2))\n",
      "/work/aa0238/a271093/Conda/MOAAP_env/lib/python3.12/site-packages/scipy/ndimage/_measurements.py:1541: RuntimeWarning: invalid value encountered in scalar divide\n",
      "  results = [sum(input * grids[dir].astype(float), labels, index) / normalizer\n"
     ]
    },
    {
     "name": "stdout",
     "output_type": "stream",
     "text": [
      "        check if MSs quallify as ARs\n"
     ]
    },
    {
     "name": "stderr",
     "output_type": "stream",
     "text": [
      "/work/aa0238/a271093/Scripts/MOAAP/src/Tracking_Functions.py:4588: RuntimeWarning: divide by zero encountered in scalar divide\n",
      "  if DIST.max() / DIST.min() < AR_width_lenght_ratio:\n"
     ]
    },
    {
     "name": "stdout",
     "output_type": "stream",
     "text": [
      "            Loop over 1553 objects\n",
      "        00:01:15.11\n",
      " \n",
      "Save the object masks into a joint netCDF\n",
      "Saved: /work/aa0238/a271093/results/MOAAP/IVT_Tracking/NorESM_ssp_remapped_3x/ObjectMasks_MOAPP_ICON_100and85NorESMsspperc_remapped_3x_2049_01_01-2049_08_01.nc\n",
      "        00:00:25.06\n",
      "clean up /work/aa0238/a271093/results/MOAAP/IVT_Tracking/NorESM_ssp_remapped_3x/IVT_MOAPP_ICON_100and85NorESMsspperc_remapped_3x_2049_01_01-2049_07_01.pkl\n",
      "clean up finished\n",
      "clean up /work/aa0238/a271093/results/MOAAP/IVT_Tracking/NorESM_ssp_remapped_3x/ARs_MOAPP_ICON_100and85NorESMsspperc_remapped_3x_2049_01_01-2049_07_01.pkl\n",
      "clean up finished\n",
      "correct nc-file with \n",
      " cdo -selmon,1,2,3,4,5,6 /work/aa0238/a271093/results/MOAAP/IVT_Tracking/NorESM_ssp_remapped_3x/ObjectMasks_MOAPP_ICON_100and85NorESMsspperc_remapped_3x_2049_01_01-2049_08_01.nc /work/aa0238/a271093/results/MOAAP/IVT_Tracking/NorESM_ssp_remapped_3x/ObjectMasks_MOAPP_ICON_100and85NorESMsspperc_remapped_3x_2049_01_01-2049_07_01_corrected.nc\n",
      "\n",
      " \n",
      " \n",
      " \n",
      "\n",
      "2049-07-01 00:00:00 2050-02-01 00:00:00\n",
      "Mergetime /work/aa0238/a271093/data/Jan_runs/ICON_NorESM_ssp/NorESM_ssp_remapped_3x/IVTu/IVTu_2049010100-2049123123_remapped_3x.nc /work/aa0238/a271093/data/Jan_runs/ICON_NorESM_ssp/NorESM_ssp_remapped_3x/IVTu/IVTu_2050010100-2050123123_remapped_3x.nc  /work/aa0238/a271093/scratch/mergedIVTu_2049_2050_remapped_3x.nc\n",
      "Mergetime /work/aa0238/a271093/data/Jan_runs/ICON_NorESM_ssp/NorESM_ssp_remapped_3x/IVTv/IVTv_2049010100-2049123123_remapped_3x.nc /work/aa0238/a271093/data/Jan_runs/ICON_NorESM_ssp/NorESM_ssp_remapped_3x/IVTv/IVTv_2050010100-2050123123_remapped_3x.nc  /work/aa0238/a271093/scratch/mergedIVTv_2049_2050_remapped_3x.nc\n",
      " \n",
      "The provided variables allow tracking the following phenomena\n",
      " \n",
      "|  phenomenon  | tracking |\n",
      "---------------------------\n",
      "   Jetstream   |   no\n",
      "   PSL CY/ACY  |   no\n",
      "   Z500 CY/ACY |   no\n",
      "   COLs        |   no\n",
      "   IVT ARs     |   yes\n",
      "   MS ARs      |   no\n",
      "   Fronts      |   no\n",
      "   TCs         |   no\n",
      "   MCSs        |   no\n",
      "   Equ. Waves  |   no\n",
      "---------------------------\n",
      " \n",
      "======> track IVT streams and atmospheric rivers (ARs)\n",
      "        3309 object found\n",
      "        break up long living IVT objects that have many elements\n"
     ]
    },
    {
     "name": "stderr",
     "output_type": "stream",
     "text": [
      "100%|██████████| 678/678 [00:24<00:00, 28.24it/s] \n"
     ]
    },
    {
     "name": "stdout",
     "output_type": "stream",
     "text": [
      "        00:00:30.14\n",
      "9\n",
      "            Loop over 1507 objects\n"
     ]
    },
    {
     "name": "stderr",
     "output_type": "stream",
     "text": [
      "/work/aa0238/a271093/Scripts/MOAAP/src/Tracking_Functions.py:250: RuntimeWarning: All-NaN slice encountered\n",
      "  obj_min = np.nanmin(data_slice, axis=(1, 2))\n",
      "/work/aa0238/a271093/Scripts/MOAAP/src/Tracking_Functions.py:251: RuntimeWarning: All-NaN slice encountered\n",
      "  obj_max = np.nanmax(data_slice, axis=(1, 2))\n",
      "/work/aa0238/a271093/Scripts/MOAAP/src/Tracking_Functions.py:252: RuntimeWarning: Mean of empty slice\n",
      "  obj_mean = np.nanmean(data_slice, axis=(1, 2))\n",
      "/work/aa0238/a271093/Conda/MOAAP_env/lib/python3.12/site-packages/scipy/ndimage/_measurements.py:1541: RuntimeWarning: invalid value encountered in scalar divide\n",
      "  results = [sum(input * grids[dir].astype(float), labels, index) / normalizer\n"
     ]
    },
    {
     "name": "stdout",
     "output_type": "stream",
     "text": [
      "        check if MSs quallify as ARs\n"
     ]
    },
    {
     "name": "stderr",
     "output_type": "stream",
     "text": [
      "/work/aa0238/a271093/Scripts/MOAAP/src/Tracking_Functions.py:4588: RuntimeWarning: divide by zero encountered in scalar divide\n",
      "  if DIST.max() / DIST.min() < AR_width_lenght_ratio:\n"
     ]
    },
    {
     "name": "stdout",
     "output_type": "stream",
     "text": [
      "            Loop over 1507 objects\n",
      "        00:01:13.54\n",
      " \n",
      "Save the object masks into a joint netCDF\n",
      "Saved: /work/aa0238/a271093/results/MOAAP/IVT_Tracking/NorESM_ssp_remapped_3x/ObjectMasks_MOAPP_ICON_100and85NorESMsspperc_remapped_3x_2049_07_01-2050_02_01.nc\n",
      "        00:00:25.55\n",
      "clean up /work/aa0238/a271093/results/MOAAP/IVT_Tracking/NorESM_ssp_remapped_3x/IVT_MOAPP_ICON_100and85NorESMsspperc_remapped_3x_2049_07_01-2050_01_01.pkl\n",
      "clean up finished\n",
      "clean up /work/aa0238/a271093/results/MOAAP/IVT_Tracking/NorESM_ssp_remapped_3x/ARs_MOAPP_ICON_100and85NorESMsspperc_remapped_3x_2049_07_01-2050_01_01.pkl\n",
      "clean up finished\n",
      "correct nc-file with \n",
      " cdo -selmon,6,7,8,9,10,11,12 /work/aa0238/a271093/results/MOAAP/IVT_Tracking/NorESM_ssp_remapped_3x/ObjectMasks_MOAPP_ICON_100and85NorESMsspperc_remapped_3x_2049_07_01-2050_02_01.nc /work/aa0238/a271093/results/MOAAP/IVT_Tracking/NorESM_ssp_remapped_3x/ObjectMasks_MOAPP_ICON_100and85NorESMsspperc_remapped_3x_2049_07_01-2050_01_01_corrected.nc\n",
      "\n",
      " \n",
      " \n",
      " \n",
      "\n",
      "2050-01-01 00:00:00 2050-08-01 00:00:00\n",
      " \n",
      "The provided variables allow tracking the following phenomena\n",
      " \n",
      "|  phenomenon  | tracking |\n",
      "---------------------------\n",
      "   Jetstream   |   no\n",
      "   PSL CY/ACY  |   no\n",
      "   Z500 CY/ACY |   no\n",
      "   COLs        |   no\n",
      "   IVT ARs     |   yes\n",
      "   MS ARs      |   no\n",
      "   Fronts      |   no\n",
      "   TCs         |   no\n",
      "   MCSs        |   no\n",
      "   Equ. Waves  |   no\n",
      "---------------------------\n",
      " \n",
      "======> track IVT streams and atmospheric rivers (ARs)\n",
      "        3437 object found\n",
      "        break up long living IVT objects that have many elements\n"
     ]
    },
    {
     "name": "stderr",
     "output_type": "stream",
     "text": [
      "100%|██████████| 583/583 [00:25<00:00, 23.13it/s]\n"
     ]
    },
    {
     "name": "stdout",
     "output_type": "stream",
     "text": [
      "        00:00:31.19\n",
      "9\n",
      "            Loop over 1605 objects\n"
     ]
    },
    {
     "name": "stderr",
     "output_type": "stream",
     "text": [
      "/work/aa0238/a271093/Scripts/MOAAP/src/Tracking_Functions.py:250: RuntimeWarning: All-NaN slice encountered\n",
      "  obj_min = np.nanmin(data_slice, axis=(1, 2))\n",
      "/work/aa0238/a271093/Scripts/MOAAP/src/Tracking_Functions.py:251: RuntimeWarning: All-NaN slice encountered\n",
      "  obj_max = np.nanmax(data_slice, axis=(1, 2))\n",
      "/work/aa0238/a271093/Scripts/MOAAP/src/Tracking_Functions.py:252: RuntimeWarning: Mean of empty slice\n",
      "  obj_mean = np.nanmean(data_slice, axis=(1, 2))\n",
      "/work/aa0238/a271093/Conda/MOAAP_env/lib/python3.12/site-packages/scipy/ndimage/_measurements.py:1541: RuntimeWarning: invalid value encountered in scalar divide\n",
      "  results = [sum(input * grids[dir].astype(float), labels, index) / normalizer\n"
     ]
    },
    {
     "name": "stdout",
     "output_type": "stream",
     "text": [
      "        check if MSs quallify as ARs\n"
     ]
    },
    {
     "name": "stderr",
     "output_type": "stream",
     "text": [
      "/work/aa0238/a271093/Scripts/MOAAP/src/Tracking_Functions.py:4588: RuntimeWarning: divide by zero encountered in scalar divide\n",
      "  if DIST.max() / DIST.min() < AR_width_lenght_ratio:\n"
     ]
    },
    {
     "name": "stdout",
     "output_type": "stream",
     "text": [
      "            Loop over 1605 objects\n",
      "        00:01:20.81\n",
      " \n",
      "Save the object masks into a joint netCDF\n",
      "Saved: /work/aa0238/a271093/results/MOAAP/IVT_Tracking/NorESM_ssp_remapped_3x/ObjectMasks_MOAPP_ICON_100and85NorESMsspperc_remapped_3x_2050_01_01-2050_08_01.nc\n",
      "        00:00:24.74\n",
      "clean up /work/aa0238/a271093/results/MOAAP/IVT_Tracking/NorESM_ssp_remapped_3x/IVT_MOAPP_ICON_100and85NorESMsspperc_remapped_3x_2050_01_01-2050_07_01.pkl\n",
      "clean up finished\n",
      "clean up /work/aa0238/a271093/results/MOAAP/IVT_Tracking/NorESM_ssp_remapped_3x/ARs_MOAPP_ICON_100and85NorESMsspperc_remapped_3x_2050_01_01-2050_07_01.pkl\n",
      "clean up finished\n",
      "correct nc-file with \n",
      " cdo -selmon,1,2,3,4,5,6 /work/aa0238/a271093/results/MOAAP/IVT_Tracking/NorESM_ssp_remapped_3x/ObjectMasks_MOAPP_ICON_100and85NorESMsspperc_remapped_3x_2050_01_01-2050_08_01.nc /work/aa0238/a271093/results/MOAAP/IVT_Tracking/NorESM_ssp_remapped_3x/ObjectMasks_MOAPP_ICON_100and85NorESMsspperc_remapped_3x_2050_01_01-2050_07_01_corrected.nc\n",
      "\n",
      " \n",
      " \n",
      " \n",
      "\n",
      "2050-07-01 00:00:00 2051-02-01 00:00:00\n",
      "Mergetime /work/aa0238/a271093/data/Jan_runs/ICON_NorESM_ssp/NorESM_ssp_remapped_3x/IVTu/IVTu_2050010100-2050123123_remapped_3x.nc /work/aa0238/a271093/data/Jan_runs/ICON_NorESM_ssp/NorESM_ssp_remapped_3x/IVTu/IVTu_2051010100-2051123123_remapped_3x.nc  /work/aa0238/a271093/scratch/mergedIVTu_2050_2051_remapped_3x.nc\n",
      "Mergetime /work/aa0238/a271093/data/Jan_runs/ICON_NorESM_ssp/NorESM_ssp_remapped_3x/IVTv/IVTv_2050010100-2050123123_remapped_3x.nc /work/aa0238/a271093/data/Jan_runs/ICON_NorESM_ssp/NorESM_ssp_remapped_3x/IVTv/IVTv_2051010100-2051123123_remapped_3x.nc  /work/aa0238/a271093/scratch/mergedIVTv_2050_2051_remapped_3x.nc\n",
      " \n",
      "The provided variables allow tracking the following phenomena\n",
      " \n",
      "|  phenomenon  | tracking |\n",
      "---------------------------\n",
      "   Jetstream   |   no\n",
      "   PSL CY/ACY  |   no\n",
      "   Z500 CY/ACY |   no\n",
      "   COLs        |   no\n",
      "   IVT ARs     |   yes\n",
      "   MS ARs      |   no\n",
      "   Fronts      |   no\n",
      "   TCs         |   no\n",
      "   MCSs        |   no\n",
      "   Equ. Waves  |   no\n",
      "---------------------------\n",
      " \n",
      "======> track IVT streams and atmospheric rivers (ARs)\n",
      "        3260 object found\n",
      "        break up long living IVT objects that have many elements\n"
     ]
    },
    {
     "name": "stderr",
     "output_type": "stream",
     "text": [
      "100%|██████████| 605/605 [00:22<00:00, 26.68it/s]\n"
     ]
    },
    {
     "name": "stdout",
     "output_type": "stream",
     "text": [
      "        00:00:28.79\n",
      "9\n",
      "            Loop over 1399 objects\n"
     ]
    },
    {
     "name": "stderr",
     "output_type": "stream",
     "text": [
      "/work/aa0238/a271093/Scripts/MOAAP/src/Tracking_Functions.py:250: RuntimeWarning: All-NaN slice encountered\n",
      "  obj_min = np.nanmin(data_slice, axis=(1, 2))\n",
      "/work/aa0238/a271093/Scripts/MOAAP/src/Tracking_Functions.py:251: RuntimeWarning: All-NaN slice encountered\n",
      "  obj_max = np.nanmax(data_slice, axis=(1, 2))\n",
      "/work/aa0238/a271093/Scripts/MOAAP/src/Tracking_Functions.py:252: RuntimeWarning: Mean of empty slice\n",
      "  obj_mean = np.nanmean(data_slice, axis=(1, 2))\n",
      "/work/aa0238/a271093/Conda/MOAAP_env/lib/python3.12/site-packages/scipy/ndimage/_measurements.py:1541: RuntimeWarning: invalid value encountered in scalar divide\n",
      "  results = [sum(input * grids[dir].astype(float), labels, index) / normalizer\n"
     ]
    },
    {
     "name": "stdout",
     "output_type": "stream",
     "text": [
      "        check if MSs quallify as ARs\n"
     ]
    },
    {
     "name": "stderr",
     "output_type": "stream",
     "text": [
      "/work/aa0238/a271093/Scripts/MOAAP/src/Tracking_Functions.py:4588: RuntimeWarning: divide by zero encountered in scalar divide\n",
      "  if DIST.max() / DIST.min() < AR_width_lenght_ratio:\n"
     ]
    },
    {
     "name": "stdout",
     "output_type": "stream",
     "text": [
      "            Loop over 1395 objects\n",
      "        00:01:11.56\n",
      " \n",
      "Save the object masks into a joint netCDF\n",
      "Saved: /work/aa0238/a271093/results/MOAAP/IVT_Tracking/NorESM_ssp_remapped_3x/ObjectMasks_MOAPP_ICON_100and85NorESMsspperc_remapped_3x_2050_07_01-2051_02_01.nc\n",
      "        00:00:24.42\n",
      "clean up /work/aa0238/a271093/results/MOAAP/IVT_Tracking/NorESM_ssp_remapped_3x/IVT_MOAPP_ICON_100and85NorESMsspperc_remapped_3x_2050_07_01-2051_01_01.pkl\n",
      "clean up finished\n",
      "clean up /work/aa0238/a271093/results/MOAAP/IVT_Tracking/NorESM_ssp_remapped_3x/ARs_MOAPP_ICON_100and85NorESMsspperc_remapped_3x_2050_07_01-2051_01_01.pkl\n",
      "clean up finished\n",
      "correct nc-file with \n",
      " cdo -selmon,6,7,8,9,10,11,12 /work/aa0238/a271093/results/MOAAP/IVT_Tracking/NorESM_ssp_remapped_3x/ObjectMasks_MOAPP_ICON_100and85NorESMsspperc_remapped_3x_2050_07_01-2051_02_01.nc /work/aa0238/a271093/results/MOAAP/IVT_Tracking/NorESM_ssp_remapped_3x/ObjectMasks_MOAPP_ICON_100and85NorESMsspperc_remapped_3x_2050_07_01-2051_01_01_corrected.nc\n",
      "\n",
      " \n",
      " \n",
      " \n",
      "\n",
      "2051-01-01 00:00:00 2051-08-01 00:00:00\n",
      " \n",
      "The provided variables allow tracking the following phenomena\n",
      " \n",
      "|  phenomenon  | tracking |\n",
      "---------------------------\n",
      "   Jetstream   |   no\n",
      "   PSL CY/ACY  |   no\n",
      "   Z500 CY/ACY |   no\n",
      "   COLs        |   no\n",
      "   IVT ARs     |   yes\n",
      "   MS ARs      |   no\n",
      "   Fronts      |   no\n",
      "   TCs         |   no\n",
      "   MCSs        |   no\n",
      "   Equ. Waves  |   no\n",
      "---------------------------\n",
      " \n",
      "======> track IVT streams and atmospheric rivers (ARs)\n",
      "        3699 object found\n",
      "        break up long living IVT objects that have many elements\n"
     ]
    },
    {
     "name": "stderr",
     "output_type": "stream",
     "text": [
      "100%|██████████| 653/653 [00:25<00:00, 25.16it/s] \n"
     ]
    },
    {
     "name": "stdout",
     "output_type": "stream",
     "text": [
      "        00:00:32.13\n",
      "9\n",
      "            Loop over 1911 objects\n"
     ]
    },
    {
     "name": "stderr",
     "output_type": "stream",
     "text": [
      "/work/aa0238/a271093/Scripts/MOAAP/src/Tracking_Functions.py:250: RuntimeWarning: All-NaN slice encountered\n",
      "  obj_min = np.nanmin(data_slice, axis=(1, 2))\n",
      "/work/aa0238/a271093/Scripts/MOAAP/src/Tracking_Functions.py:251: RuntimeWarning: All-NaN slice encountered\n",
      "  obj_max = np.nanmax(data_slice, axis=(1, 2))\n",
      "/work/aa0238/a271093/Scripts/MOAAP/src/Tracking_Functions.py:252: RuntimeWarning: Mean of empty slice\n",
      "  obj_mean = np.nanmean(data_slice, axis=(1, 2))\n",
      "/work/aa0238/a271093/Conda/MOAAP_env/lib/python3.12/site-packages/scipy/ndimage/_measurements.py:1541: RuntimeWarning: invalid value encountered in scalar divide\n",
      "  results = [sum(input * grids[dir].astype(float), labels, index) / normalizer\n"
     ]
    },
    {
     "name": "stdout",
     "output_type": "stream",
     "text": [
      "        check if MSs quallify as ARs\n"
     ]
    },
    {
     "name": "stderr",
     "output_type": "stream",
     "text": [
      "/work/aa0238/a271093/Scripts/MOAAP/src/Tracking_Functions.py:4588: RuntimeWarning: divide by zero encountered in scalar divide\n",
      "  if DIST.max() / DIST.min() < AR_width_lenght_ratio:\n"
     ]
    },
    {
     "name": "stdout",
     "output_type": "stream",
     "text": [
      "            Loop over 1909 objects\n",
      "        00:01:26.84\n",
      " \n",
      "Save the object masks into a joint netCDF\n",
      "Saved: /work/aa0238/a271093/results/MOAAP/IVT_Tracking/NorESM_ssp_remapped_3x/ObjectMasks_MOAPP_ICON_100and85NorESMsspperc_remapped_3x_2051_01_01-2051_08_01.nc\n",
      "        00:00:24.35\n",
      "clean up /work/aa0238/a271093/results/MOAAP/IVT_Tracking/NorESM_ssp_remapped_3x/IVT_MOAPP_ICON_100and85NorESMsspperc_remapped_3x_2051_01_01-2051_07_01.pkl\n",
      "clean up finished\n",
      "clean up /work/aa0238/a271093/results/MOAAP/IVT_Tracking/NorESM_ssp_remapped_3x/ARs_MOAPP_ICON_100and85NorESMsspperc_remapped_3x_2051_01_01-2051_07_01.pkl\n",
      "clean up finished\n",
      "correct nc-file with \n",
      " cdo -selmon,1,2,3,4,5,6 /work/aa0238/a271093/results/MOAAP/IVT_Tracking/NorESM_ssp_remapped_3x/ObjectMasks_MOAPP_ICON_100and85NorESMsspperc_remapped_3x_2051_01_01-2051_08_01.nc /work/aa0238/a271093/results/MOAAP/IVT_Tracking/NorESM_ssp_remapped_3x/ObjectMasks_MOAPP_ICON_100and85NorESMsspperc_remapped_3x_2051_01_01-2051_07_01_corrected.nc\n",
      "\n",
      " \n",
      " \n",
      " \n",
      "\n",
      "2051-07-01 00:00:00 2052-02-01 00:00:00\n",
      "Mergetime /work/aa0238/a271093/data/Jan_runs/ICON_NorESM_ssp/NorESM_ssp_remapped_3x/IVTu/IVTu_2051010100-2051123123_remapped_3x.nc /work/aa0238/a271093/data/Jan_runs/ICON_NorESM_ssp/NorESM_ssp_remapped_3x/IVTu/IVTu_2052010100-2052123123_remapped_3x.nc  /work/aa0238/a271093/scratch/mergedIVTu_2051_2052_remapped_3x.nc\n",
      "Mergetime /work/aa0238/a271093/data/Jan_runs/ICON_NorESM_ssp/NorESM_ssp_remapped_3x/IVTv/IVTv_2051010100-2051123123_remapped_3x.nc /work/aa0238/a271093/data/Jan_runs/ICON_NorESM_ssp/NorESM_ssp_remapped_3x/IVTv/IVTv_2052010100-2052123123_remapped_3x.nc  /work/aa0238/a271093/scratch/mergedIVTv_2051_2052_remapped_3x.nc\n",
      " \n",
      "The provided variables allow tracking the following phenomena\n",
      " \n",
      "|  phenomenon  | tracking |\n",
      "---------------------------\n",
      "   Jetstream   |   no\n",
      "   PSL CY/ACY  |   no\n",
      "   Z500 CY/ACY |   no\n",
      "   COLs        |   no\n",
      "   IVT ARs     |   yes\n",
      "   MS ARs      |   no\n",
      "   Fronts      |   no\n",
      "   TCs         |   no\n",
      "   MCSs        |   no\n",
      "   Equ. Waves  |   no\n",
      "---------------------------\n",
      " \n",
      "======> track IVT streams and atmospheric rivers (ARs)\n",
      "        3130 object found\n",
      "        break up long living IVT objects that have many elements\n"
     ]
    },
    {
     "name": "stderr",
     "output_type": "stream",
     "text": [
      "100%|██████████| 567/567 [00:25<00:00, 22.26it/s]\n"
     ]
    },
    {
     "name": "stdout",
     "output_type": "stream",
     "text": [
      "        00:00:31.48\n",
      "9\n",
      "            Loop over 1417 objects\n"
     ]
    },
    {
     "name": "stderr",
     "output_type": "stream",
     "text": [
      "/work/aa0238/a271093/Scripts/MOAAP/src/Tracking_Functions.py:250: RuntimeWarning: All-NaN slice encountered\n",
      "  obj_min = np.nanmin(data_slice, axis=(1, 2))\n",
      "/work/aa0238/a271093/Scripts/MOAAP/src/Tracking_Functions.py:251: RuntimeWarning: All-NaN slice encountered\n",
      "  obj_max = np.nanmax(data_slice, axis=(1, 2))\n",
      "/work/aa0238/a271093/Scripts/MOAAP/src/Tracking_Functions.py:252: RuntimeWarning: Mean of empty slice\n",
      "  obj_mean = np.nanmean(data_slice, axis=(1, 2))\n",
      "/work/aa0238/a271093/Conda/MOAAP_env/lib/python3.12/site-packages/scipy/ndimage/_measurements.py:1541: RuntimeWarning: invalid value encountered in scalar divide\n",
      "  results = [sum(input * grids[dir].astype(float), labels, index) / normalizer\n"
     ]
    },
    {
     "name": "stdout",
     "output_type": "stream",
     "text": [
      "        check if MSs quallify as ARs\n"
     ]
    },
    {
     "name": "stderr",
     "output_type": "stream",
     "text": [
      "/work/aa0238/a271093/Scripts/MOAAP/src/Tracking_Functions.py:4588: RuntimeWarning: divide by zero encountered in scalar divide\n",
      "  if DIST.max() / DIST.min() < AR_width_lenght_ratio:\n"
     ]
    },
    {
     "name": "stdout",
     "output_type": "stream",
     "text": [
      "            Loop over 1415 objects\n",
      "        00:01:15.02\n",
      " \n",
      "Save the object masks into a joint netCDF\n",
      "Saved: /work/aa0238/a271093/results/MOAAP/IVT_Tracking/NorESM_ssp_remapped_3x/ObjectMasks_MOAPP_ICON_100and85NorESMsspperc_remapped_3x_2051_07_01-2052_02_01.nc\n",
      "        00:00:24.35\n",
      "clean up /work/aa0238/a271093/results/MOAAP/IVT_Tracking/NorESM_ssp_remapped_3x/IVT_MOAPP_ICON_100and85NorESMsspperc_remapped_3x_2051_07_01-2052_01_01.pkl\n",
      "clean up finished\n",
      "clean up /work/aa0238/a271093/results/MOAAP/IVT_Tracking/NorESM_ssp_remapped_3x/ARs_MOAPP_ICON_100and85NorESMsspperc_remapped_3x_2051_07_01-2052_01_01.pkl\n",
      "clean up finished\n",
      "correct nc-file with \n",
      " cdo -selmon,6,7,8,9,10,11,12 /work/aa0238/a271093/results/MOAAP/IVT_Tracking/NorESM_ssp_remapped_3x/ObjectMasks_MOAPP_ICON_100and85NorESMsspperc_remapped_3x_2051_07_01-2052_02_01.nc /work/aa0238/a271093/results/MOAAP/IVT_Tracking/NorESM_ssp_remapped_3x/ObjectMasks_MOAPP_ICON_100and85NorESMsspperc_remapped_3x_2051_07_01-2052_01_01_corrected.nc\n",
      "\n",
      " \n",
      " \n",
      " \n",
      "\n",
      "2052-01-01 00:00:00 2052-08-01 00:00:00\n",
      " \n",
      "The provided variables allow tracking the following phenomena\n",
      " \n",
      "|  phenomenon  | tracking |\n",
      "---------------------------\n",
      "   Jetstream   |   no\n",
      "   PSL CY/ACY  |   no\n",
      "   Z500 CY/ACY |   no\n",
      "   COLs        |   no\n",
      "   IVT ARs     |   yes\n",
      "   MS ARs      |   no\n",
      "   Fronts      |   no\n",
      "   TCs         |   no\n",
      "   MCSs        |   no\n",
      "   Equ. Waves  |   no\n",
      "---------------------------\n",
      " \n",
      "======> track IVT streams and atmospheric rivers (ARs)\n",
      "        3809 object found\n",
      "        break up long living IVT objects that have many elements\n"
     ]
    },
    {
     "name": "stderr",
     "output_type": "stream",
     "text": [
      "100%|██████████| 667/667 [00:27<00:00, 24.16it/s]\n"
     ]
    },
    {
     "name": "stdout",
     "output_type": "stream",
     "text": [
      "        00:00:33.73\n",
      "9\n",
      "            Loop over 1706 objects\n"
     ]
    },
    {
     "name": "stderr",
     "output_type": "stream",
     "text": [
      "/work/aa0238/a271093/Scripts/MOAAP/src/Tracking_Functions.py:250: RuntimeWarning: All-NaN slice encountered\n",
      "  obj_min = np.nanmin(data_slice, axis=(1, 2))\n",
      "/work/aa0238/a271093/Scripts/MOAAP/src/Tracking_Functions.py:251: RuntimeWarning: All-NaN slice encountered\n",
      "  obj_max = np.nanmax(data_slice, axis=(1, 2))\n",
      "/work/aa0238/a271093/Scripts/MOAAP/src/Tracking_Functions.py:252: RuntimeWarning: Mean of empty slice\n",
      "  obj_mean = np.nanmean(data_slice, axis=(1, 2))\n",
      "/work/aa0238/a271093/Conda/MOAAP_env/lib/python3.12/site-packages/scipy/ndimage/_measurements.py:1541: RuntimeWarning: invalid value encountered in scalar divide\n",
      "  results = [sum(input * grids[dir].astype(float), labels, index) / normalizer\n"
     ]
    },
    {
     "name": "stdout",
     "output_type": "stream",
     "text": [
      "        check if MSs quallify as ARs\n"
     ]
    },
    {
     "name": "stderr",
     "output_type": "stream",
     "text": [
      "/work/aa0238/a271093/Scripts/MOAAP/src/Tracking_Functions.py:4588: RuntimeWarning: divide by zero encountered in scalar divide\n",
      "  if DIST.max() / DIST.min() < AR_width_lenght_ratio:\n"
     ]
    },
    {
     "name": "stdout",
     "output_type": "stream",
     "text": [
      "            Loop over 1704 objects\n",
      "        00:01:23.12\n",
      " \n",
      "Save the object masks into a joint netCDF\n",
      "Saved: /work/aa0238/a271093/results/MOAAP/IVT_Tracking/NorESM_ssp_remapped_3x/ObjectMasks_MOAPP_ICON_100and85NorESMsspperc_remapped_3x_2052_01_01-2052_08_01.nc\n",
      "        00:00:24.36\n",
      "clean up /work/aa0238/a271093/results/MOAAP/IVT_Tracking/NorESM_ssp_remapped_3x/IVT_MOAPP_ICON_100and85NorESMsspperc_remapped_3x_2052_01_01-2052_07_01.pkl\n",
      "clean up finished\n",
      "clean up /work/aa0238/a271093/results/MOAAP/IVT_Tracking/NorESM_ssp_remapped_3x/ARs_MOAPP_ICON_100and85NorESMsspperc_remapped_3x_2052_01_01-2052_07_01.pkl\n",
      "clean up finished\n",
      "correct nc-file with \n",
      " cdo -selmon,1,2,3,4,5,6 /work/aa0238/a271093/results/MOAAP/IVT_Tracking/NorESM_ssp_remapped_3x/ObjectMasks_MOAPP_ICON_100and85NorESMsspperc_remapped_3x_2052_01_01-2052_08_01.nc /work/aa0238/a271093/results/MOAAP/IVT_Tracking/NorESM_ssp_remapped_3x/ObjectMasks_MOAPP_ICON_100and85NorESMsspperc_remapped_3x_2052_01_01-2052_07_01_corrected.nc\n",
      "\n",
      " \n",
      " \n",
      " \n",
      "\n",
      "2052-07-01 00:00:00 2053-02-01 00:00:00\n",
      "Mergetime /work/aa0238/a271093/data/Jan_runs/ICON_NorESM_ssp/NorESM_ssp_remapped_3x/IVTu/IVTu_2052010100-2052123123_remapped_3x.nc /work/aa0238/a271093/data/Jan_runs/ICON_NorESM_ssp/NorESM_ssp_remapped_3x/IVTu/IVTu_2053010100-2053123123_remapped_3x.nc  /work/aa0238/a271093/scratch/mergedIVTu_2052_2053_remapped_3x.nc\n",
      "Mergetime /work/aa0238/a271093/data/Jan_runs/ICON_NorESM_ssp/NorESM_ssp_remapped_3x/IVTv/IVTv_2052010100-2052123123_remapped_3x.nc /work/aa0238/a271093/data/Jan_runs/ICON_NorESM_ssp/NorESM_ssp_remapped_3x/IVTv/IVTv_2053010100-2053123123_remapped_3x.nc  /work/aa0238/a271093/scratch/mergedIVTv_2052_2053_remapped_3x.nc\n",
      " \n",
      "The provided variables allow tracking the following phenomena\n",
      " \n",
      "|  phenomenon  | tracking |\n",
      "---------------------------\n",
      "   Jetstream   |   no\n",
      "   PSL CY/ACY  |   no\n",
      "   Z500 CY/ACY |   no\n",
      "   COLs        |   no\n",
      "   IVT ARs     |   yes\n",
      "   MS ARs      |   no\n",
      "   Fronts      |   no\n",
      "   TCs         |   no\n",
      "   MCSs        |   no\n",
      "   Equ. Waves  |   no\n",
      "---------------------------\n",
      " \n",
      "======> track IVT streams and atmospheric rivers (ARs)\n",
      "        3354 object found\n",
      "        break up long living IVT objects that have many elements\n"
     ]
    },
    {
     "name": "stderr",
     "output_type": "stream",
     "text": [
      "100%|██████████| 567/567 [00:23<00:00, 23.98it/s]\n"
     ]
    },
    {
     "name": "stdout",
     "output_type": "stream",
     "text": [
      "        00:00:29.63\n",
      "9\n",
      "            Loop over 1606 objects\n",
      "        check if MSs quallify as ARs\n"
     ]
    },
    {
     "name": "stderr",
     "output_type": "stream",
     "text": [
      "/work/aa0238/a271093/Scripts/MOAAP/src/Tracking_Functions.py:4588: RuntimeWarning: divide by zero encountered in scalar divide\n",
      "  if DIST.max() / DIST.min() < AR_width_lenght_ratio:\n"
     ]
    },
    {
     "name": "stdout",
     "output_type": "stream",
     "text": [
      "            Loop over 1605 objects\n"
     ]
    },
    {
     "name": "stderr",
     "output_type": "stream",
     "text": [
      "/work/aa0238/a271093/Scripts/MOAAP/src/Tracking_Functions.py:250: RuntimeWarning: All-NaN slice encountered\n",
      "  obj_min = np.nanmin(data_slice, axis=(1, 2))\n",
      "/work/aa0238/a271093/Scripts/MOAAP/src/Tracking_Functions.py:251: RuntimeWarning: All-NaN slice encountered\n",
      "  obj_max = np.nanmax(data_slice, axis=(1, 2))\n",
      "/work/aa0238/a271093/Scripts/MOAAP/src/Tracking_Functions.py:252: RuntimeWarning: Mean of empty slice\n",
      "  obj_mean = np.nanmean(data_slice, axis=(1, 2))\n",
      "/work/aa0238/a271093/Conda/MOAAP_env/lib/python3.12/site-packages/scipy/ndimage/_measurements.py:1541: RuntimeWarning: invalid value encountered in scalar divide\n",
      "  results = [sum(input * grids[dir].astype(float), labels, index) / normalizer\n"
     ]
    },
    {
     "name": "stdout",
     "output_type": "stream",
     "text": [
      "        00:01:16.63\n",
      " \n",
      "Save the object masks into a joint netCDF\n",
      "Saved: /work/aa0238/a271093/results/MOAAP/IVT_Tracking/NorESM_ssp_remapped_3x/ObjectMasks_MOAPP_ICON_100and85NorESMsspperc_remapped_3x_2052_07_01-2053_02_01.nc\n",
      "        00:00:26.97\n",
      "clean up /work/aa0238/a271093/results/MOAAP/IVT_Tracking/NorESM_ssp_remapped_3x/IVT_MOAPP_ICON_100and85NorESMsspperc_remapped_3x_2052_07_01-2053_01_01.pkl\n",
      "clean up finished\n",
      "clean up /work/aa0238/a271093/results/MOAAP/IVT_Tracking/NorESM_ssp_remapped_3x/ARs_MOAPP_ICON_100and85NorESMsspperc_remapped_3x_2052_07_01-2053_01_01.pkl\n",
      "clean up finished\n",
      "correct nc-file with \n",
      " cdo -selmon,6,7,8,9,10,11,12 /work/aa0238/a271093/results/MOAAP/IVT_Tracking/NorESM_ssp_remapped_3x/ObjectMasks_MOAPP_ICON_100and85NorESMsspperc_remapped_3x_2052_07_01-2053_02_01.nc /work/aa0238/a271093/results/MOAAP/IVT_Tracking/NorESM_ssp_remapped_3x/ObjectMasks_MOAPP_ICON_100and85NorESMsspperc_remapped_3x_2052_07_01-2053_01_01_corrected.nc\n",
      "\n",
      " \n",
      " \n",
      " \n",
      "\n",
      "2053-01-01 00:00:00 2053-08-01 00:00:00\n",
      " \n",
      "The provided variables allow tracking the following phenomena\n",
      " \n",
      "|  phenomenon  | tracking |\n",
      "---------------------------\n",
      "   Jetstream   |   no\n",
      "   PSL CY/ACY  |   no\n",
      "   Z500 CY/ACY |   no\n",
      "   COLs        |   no\n",
      "   IVT ARs     |   yes\n",
      "   MS ARs      |   no\n",
      "   Fronts      |   no\n",
      "   TCs         |   no\n",
      "   MCSs        |   no\n",
      "   Equ. Waves  |   no\n",
      "---------------------------\n",
      " \n",
      "======> track IVT streams and atmospheric rivers (ARs)\n",
      "        3653 object found\n",
      "        break up long living IVT objects that have many elements\n"
     ]
    },
    {
     "name": "stderr",
     "output_type": "stream",
     "text": [
      "100%|██████████| 626/626 [00:24<00:00, 25.29it/s] \n"
     ]
    },
    {
     "name": "stdout",
     "output_type": "stream",
     "text": [
      "        00:00:30.60\n",
      "9\n",
      "            Loop over 1671 objects\n"
     ]
    },
    {
     "name": "stderr",
     "output_type": "stream",
     "text": [
      "/work/aa0238/a271093/Scripts/MOAAP/src/Tracking_Functions.py:250: RuntimeWarning: All-NaN slice encountered\n",
      "  obj_min = np.nanmin(data_slice, axis=(1, 2))\n",
      "/work/aa0238/a271093/Scripts/MOAAP/src/Tracking_Functions.py:251: RuntimeWarning: All-NaN slice encountered\n",
      "  obj_max = np.nanmax(data_slice, axis=(1, 2))\n",
      "/work/aa0238/a271093/Scripts/MOAAP/src/Tracking_Functions.py:252: RuntimeWarning: Mean of empty slice\n",
      "  obj_mean = np.nanmean(data_slice, axis=(1, 2))\n",
      "/work/aa0238/a271093/Conda/MOAAP_env/lib/python3.12/site-packages/scipy/ndimage/_measurements.py:1541: RuntimeWarning: invalid value encountered in scalar divide\n",
      "  results = [sum(input * grids[dir].astype(float), labels, index) / normalizer\n"
     ]
    },
    {
     "name": "stdout",
     "output_type": "stream",
     "text": [
      "        check if MSs quallify as ARs\n"
     ]
    },
    {
     "name": "stderr",
     "output_type": "stream",
     "text": [
      "/work/aa0238/a271093/Scripts/MOAAP/src/Tracking_Functions.py:4588: RuntimeWarning: divide by zero encountered in scalar divide\n",
      "  if DIST.max() / DIST.min() < AR_width_lenght_ratio:\n"
     ]
    },
    {
     "name": "stdout",
     "output_type": "stream",
     "text": [
      "            Loop over 1671 objects\n",
      "        00:01:19.48\n",
      " \n",
      "Save the object masks into a joint netCDF\n",
      "Saved: /work/aa0238/a271093/results/MOAAP/IVT_Tracking/NorESM_ssp_remapped_3x/ObjectMasks_MOAPP_ICON_100and85NorESMsspperc_remapped_3x_2053_01_01-2053_08_01.nc\n",
      "        00:00:24.20\n",
      "clean up /work/aa0238/a271093/results/MOAAP/IVT_Tracking/NorESM_ssp_remapped_3x/IVT_MOAPP_ICON_100and85NorESMsspperc_remapped_3x_2053_01_01-2053_07_01.pkl\n",
      "clean up finished\n",
      "clean up /work/aa0238/a271093/results/MOAAP/IVT_Tracking/NorESM_ssp_remapped_3x/ARs_MOAPP_ICON_100and85NorESMsspperc_remapped_3x_2053_01_01-2053_07_01.pkl\n",
      "clean up finished\n",
      "correct nc-file with \n",
      " cdo -selmon,1,2,3,4,5,6 /work/aa0238/a271093/results/MOAAP/IVT_Tracking/NorESM_ssp_remapped_3x/ObjectMasks_MOAPP_ICON_100and85NorESMsspperc_remapped_3x_2053_01_01-2053_08_01.nc /work/aa0238/a271093/results/MOAAP/IVT_Tracking/NorESM_ssp_remapped_3x/ObjectMasks_MOAPP_ICON_100and85NorESMsspperc_remapped_3x_2053_01_01-2053_07_01_corrected.nc\n",
      "\n",
      " \n",
      " \n",
      " \n",
      "\n",
      "2053-07-01 00:00:00 2054-02-01 00:00:00\n",
      "Mergetime /work/aa0238/a271093/data/Jan_runs/ICON_NorESM_ssp/NorESM_ssp_remapped_3x/IVTu/IVTu_2053010100-2053123123_remapped_3x.nc /work/aa0238/a271093/data/Jan_runs/ICON_NorESM_ssp/NorESM_ssp_remapped_3x/IVTu/IVTu_2054010100-2054123123_remapped_3x.nc  /work/aa0238/a271093/scratch/mergedIVTu_2053_2054_remapped_3x.nc\n",
      "Mergetime /work/aa0238/a271093/data/Jan_runs/ICON_NorESM_ssp/NorESM_ssp_remapped_3x/IVTv/IVTv_2053010100-2053123123_remapped_3x.nc /work/aa0238/a271093/data/Jan_runs/ICON_NorESM_ssp/NorESM_ssp_remapped_3x/IVTv/IVTv_2054010100-2054123123_remapped_3x.nc  /work/aa0238/a271093/scratch/mergedIVTv_2053_2054_remapped_3x.nc\n",
      " \n",
      "The provided variables allow tracking the following phenomena\n",
      " \n",
      "|  phenomenon  | tracking |\n",
      "---------------------------\n",
      "   Jetstream   |   no\n",
      "   PSL CY/ACY  |   no\n",
      "   Z500 CY/ACY |   no\n",
      "   COLs        |   no\n",
      "   IVT ARs     |   yes\n",
      "   MS ARs      |   no\n",
      "   Fronts      |   no\n",
      "   TCs         |   no\n",
      "   MCSs        |   no\n",
      "   Equ. Waves  |   no\n",
      "---------------------------\n",
      " \n",
      "======> track IVT streams and atmospheric rivers (ARs)\n",
      "        3445 object found\n",
      "        break up long living IVT objects that have many elements\n"
     ]
    },
    {
     "name": "stderr",
     "output_type": "stream",
     "text": [
      "100%|██████████| 645/645 [00:24<00:00, 26.45it/s]\n"
     ]
    },
    {
     "name": "stdout",
     "output_type": "stream",
     "text": [
      "        00:00:30.62\n",
      "9\n",
      "            Loop over 1536 objects\n",
      "        check if MSs quallify as ARs\n"
     ]
    },
    {
     "name": "stderr",
     "output_type": "stream",
     "text": [
      "/work/aa0238/a271093/Scripts/MOAAP/src/Tracking_Functions.py:4588: RuntimeWarning: divide by zero encountered in scalar divide\n",
      "  if DIST.max() / DIST.min() < AR_width_lenght_ratio:\n"
     ]
    },
    {
     "name": "stdout",
     "output_type": "stream",
     "text": [
      "            Loop over 1532 objects\n"
     ]
    },
    {
     "name": "stderr",
     "output_type": "stream",
     "text": [
      "/work/aa0238/a271093/Scripts/MOAAP/src/Tracking_Functions.py:250: RuntimeWarning: All-NaN slice encountered\n",
      "  obj_min = np.nanmin(data_slice, axis=(1, 2))\n",
      "/work/aa0238/a271093/Scripts/MOAAP/src/Tracking_Functions.py:251: RuntimeWarning: All-NaN slice encountered\n",
      "  obj_max = np.nanmax(data_slice, axis=(1, 2))\n",
      "/work/aa0238/a271093/Scripts/MOAAP/src/Tracking_Functions.py:252: RuntimeWarning: Mean of empty slice\n",
      "  obj_mean = np.nanmean(data_slice, axis=(1, 2))\n",
      "/work/aa0238/a271093/Conda/MOAAP_env/lib/python3.12/site-packages/scipy/ndimage/_measurements.py:1541: RuntimeWarning: invalid value encountered in scalar divide\n",
      "  results = [sum(input * grids[dir].astype(float), labels, index) / normalizer\n"
     ]
    },
    {
     "name": "stdout",
     "output_type": "stream",
     "text": [
      "        00:01:15.10\n",
      " \n",
      "Save the object masks into a joint netCDF\n",
      "Saved: /work/aa0238/a271093/results/MOAAP/IVT_Tracking/NorESM_ssp_remapped_3x/ObjectMasks_MOAPP_ICON_100and85NorESMsspperc_remapped_3x_2053_07_01-2054_02_01.nc\n",
      "        00:00:24.31\n",
      "clean up /work/aa0238/a271093/results/MOAAP/IVT_Tracking/NorESM_ssp_remapped_3x/IVT_MOAPP_ICON_100and85NorESMsspperc_remapped_3x_2053_07_01-2054_01_01.pkl\n",
      "clean up finished\n",
      "clean up /work/aa0238/a271093/results/MOAAP/IVT_Tracking/NorESM_ssp_remapped_3x/ARs_MOAPP_ICON_100and85NorESMsspperc_remapped_3x_2053_07_01-2054_01_01.pkl\n",
      "clean up finished\n",
      "correct nc-file with \n",
      " cdo -selmon,6,7,8,9,10,11,12 /work/aa0238/a271093/results/MOAAP/IVT_Tracking/NorESM_ssp_remapped_3x/ObjectMasks_MOAPP_ICON_100and85NorESMsspperc_remapped_3x_2053_07_01-2054_02_01.nc /work/aa0238/a271093/results/MOAAP/IVT_Tracking/NorESM_ssp_remapped_3x/ObjectMasks_MOAPP_ICON_100and85NorESMsspperc_remapped_3x_2053_07_01-2054_01_01_corrected.nc\n",
      "\n",
      " \n",
      " \n",
      " \n",
      "\n",
      "2054-01-01 00:00:00 2054-08-01 00:00:00\n",
      " \n",
      "The provided variables allow tracking the following phenomena\n",
      " \n",
      "|  phenomenon  | tracking |\n",
      "---------------------------\n",
      "   Jetstream   |   no\n",
      "   PSL CY/ACY  |   no\n",
      "   Z500 CY/ACY |   no\n",
      "   COLs        |   no\n",
      "   IVT ARs     |   yes\n",
      "   MS ARs      |   no\n",
      "   Fronts      |   no\n",
      "   TCs         |   no\n",
      "   MCSs        |   no\n",
      "   Equ. Waves  |   no\n",
      "---------------------------\n",
      " \n",
      "======> track IVT streams and atmospheric rivers (ARs)\n",
      "        3433 object found\n",
      "        break up long living IVT objects that have many elements\n"
     ]
    },
    {
     "name": "stderr",
     "output_type": "stream",
     "text": [
      "100%|██████████| 581/581 [00:25<00:00, 23.14it/s]\n"
     ]
    },
    {
     "name": "stdout",
     "output_type": "stream",
     "text": [
      "        00:00:30.98\n",
      "9\n",
      "            Loop over 1602 objects\n"
     ]
    },
    {
     "name": "stderr",
     "output_type": "stream",
     "text": [
      "/work/aa0238/a271093/Scripts/MOAAP/src/Tracking_Functions.py:250: RuntimeWarning: All-NaN slice encountered\n",
      "  obj_min = np.nanmin(data_slice, axis=(1, 2))\n",
      "/work/aa0238/a271093/Scripts/MOAAP/src/Tracking_Functions.py:251: RuntimeWarning: All-NaN slice encountered\n",
      "  obj_max = np.nanmax(data_slice, axis=(1, 2))\n",
      "/work/aa0238/a271093/Scripts/MOAAP/src/Tracking_Functions.py:252: RuntimeWarning: Mean of empty slice\n",
      "  obj_mean = np.nanmean(data_slice, axis=(1, 2))\n",
      "/work/aa0238/a271093/Conda/MOAAP_env/lib/python3.12/site-packages/scipy/ndimage/_measurements.py:1541: RuntimeWarning: invalid value encountered in scalar divide\n",
      "  results = [sum(input * grids[dir].astype(float), labels, index) / normalizer\n"
     ]
    },
    {
     "name": "stdout",
     "output_type": "stream",
     "text": [
      "        check if MSs quallify as ARs\n"
     ]
    },
    {
     "name": "stderr",
     "output_type": "stream",
     "text": [
      "/work/aa0238/a271093/Scripts/MOAAP/src/Tracking_Functions.py:4588: RuntimeWarning: divide by zero encountered in scalar divide\n",
      "  if DIST.max() / DIST.min() < AR_width_lenght_ratio:\n"
     ]
    },
    {
     "name": "stdout",
     "output_type": "stream",
     "text": [
      "            Loop over 1600 objects\n",
      "        00:01:17.83\n",
      " \n",
      "Save the object masks into a joint netCDF\n",
      "Saved: /work/aa0238/a271093/results/MOAAP/IVT_Tracking/NorESM_ssp_remapped_3x/ObjectMasks_MOAPP_ICON_100and85NorESMsspperc_remapped_3x_2054_01_01-2054_08_01.nc\n",
      "        00:00:24.16\n",
      "clean up /work/aa0238/a271093/results/MOAAP/IVT_Tracking/NorESM_ssp_remapped_3x/IVT_MOAPP_ICON_100and85NorESMsspperc_remapped_3x_2054_01_01-2054_07_01.pkl\n",
      "clean up finished\n",
      "clean up /work/aa0238/a271093/results/MOAAP/IVT_Tracking/NorESM_ssp_remapped_3x/ARs_MOAPP_ICON_100and85NorESMsspperc_remapped_3x_2054_01_01-2054_07_01.pkl\n",
      "clean up finished\n",
      "correct nc-file with \n",
      " cdo -selmon,1,2,3,4,5,6 /work/aa0238/a271093/results/MOAAP/IVT_Tracking/NorESM_ssp_remapped_3x/ObjectMasks_MOAPP_ICON_100and85NorESMsspperc_remapped_3x_2054_01_01-2054_08_01.nc /work/aa0238/a271093/results/MOAAP/IVT_Tracking/NorESM_ssp_remapped_3x/ObjectMasks_MOAPP_ICON_100and85NorESMsspperc_remapped_3x_2054_01_01-2054_07_01_corrected.nc\n",
      "\n",
      " \n",
      " \n",
      " \n",
      "\n",
      "2054-07-01 00:00:00 2055-02-01 00:00:00\n",
      "Mergetime /work/aa0238/a271093/data/Jan_runs/ICON_NorESM_ssp/NorESM_ssp_remapped_3x/IVTu/IVTu_2054010100-2054123123_remapped_3x.nc /work/aa0238/a271093/data/Jan_runs/ICON_NorESM_ssp/NorESM_ssp_remapped_3x/IVTu/IVTu_2055010100-2055123123_remapped_3x.nc  /work/aa0238/a271093/scratch/mergedIVTu_2054_2055_remapped_3x.nc\n",
      "Mergetime /work/aa0238/a271093/data/Jan_runs/ICON_NorESM_ssp/NorESM_ssp_remapped_3x/IVTv/IVTv_2054010100-2054123123_remapped_3x.nc /work/aa0238/a271093/data/Jan_runs/ICON_NorESM_ssp/NorESM_ssp_remapped_3x/IVTv/IVTv_2055010100-2055123123_remapped_3x.nc  /work/aa0238/a271093/scratch/mergedIVTv_2054_2055_remapped_3x.nc\n",
      " \n",
      "The provided variables allow tracking the following phenomena\n",
      " \n",
      "|  phenomenon  | tracking |\n",
      "---------------------------\n",
      "   Jetstream   |   no\n",
      "   PSL CY/ACY  |   no\n",
      "   Z500 CY/ACY |   no\n",
      "   COLs        |   no\n",
      "   IVT ARs     |   yes\n",
      "   MS ARs      |   no\n",
      "   Fronts      |   no\n",
      "   TCs         |   no\n",
      "   MCSs        |   no\n",
      "   Equ. Waves  |   no\n",
      "---------------------------\n",
      " \n",
      "======> track IVT streams and atmospheric rivers (ARs)\n",
      "        3367 object found\n",
      "        break up long living IVT objects that have many elements\n"
     ]
    },
    {
     "name": "stderr",
     "output_type": "stream",
     "text": [
      "100%|██████████| 613/613 [00:23<00:00, 26.17it/s]\n"
     ]
    },
    {
     "name": "stdout",
     "output_type": "stream",
     "text": [
      "        00:00:29.52\n",
      "9\n",
      "            Loop over 1520 objects\n"
     ]
    },
    {
     "name": "stderr",
     "output_type": "stream",
     "text": [
      "/work/aa0238/a271093/Scripts/MOAAP/src/Tracking_Functions.py:250: RuntimeWarning: All-NaN slice encountered\n",
      "  obj_min = np.nanmin(data_slice, axis=(1, 2))\n",
      "/work/aa0238/a271093/Scripts/MOAAP/src/Tracking_Functions.py:251: RuntimeWarning: All-NaN slice encountered\n",
      "  obj_max = np.nanmax(data_slice, axis=(1, 2))\n",
      "/work/aa0238/a271093/Scripts/MOAAP/src/Tracking_Functions.py:252: RuntimeWarning: Mean of empty slice\n",
      "  obj_mean = np.nanmean(data_slice, axis=(1, 2))\n",
      "/work/aa0238/a271093/Conda/MOAAP_env/lib/python3.12/site-packages/scipy/ndimage/_measurements.py:1541: RuntimeWarning: invalid value encountered in scalar divide\n",
      "  results = [sum(input * grids[dir].astype(float), labels, index) / normalizer\n"
     ]
    },
    {
     "name": "stdout",
     "output_type": "stream",
     "text": [
      "        check if MSs quallify as ARs\n"
     ]
    },
    {
     "name": "stderr",
     "output_type": "stream",
     "text": [
      "/work/aa0238/a271093/Scripts/MOAAP/src/Tracking_Functions.py:4588: RuntimeWarning: divide by zero encountered in scalar divide\n",
      "  if DIST.max() / DIST.min() < AR_width_lenght_ratio:\n"
     ]
    },
    {
     "name": "stdout",
     "output_type": "stream",
     "text": [
      "            Loop over 1519 objects\n",
      "        00:01:15.61\n",
      " \n",
      "Save the object masks into a joint netCDF\n",
      "Saved: /work/aa0238/a271093/results/MOAAP/IVT_Tracking/NorESM_ssp_remapped_3x/ObjectMasks_MOAPP_ICON_100and85NorESMsspperc_remapped_3x_2054_07_01-2055_02_01.nc\n",
      "        00:00:24.53\n",
      "clean up /work/aa0238/a271093/results/MOAAP/IVT_Tracking/NorESM_ssp_remapped_3x/IVT_MOAPP_ICON_100and85NorESMsspperc_remapped_3x_2054_07_01-2055_01_01.pkl\n",
      "clean up finished\n",
      "clean up /work/aa0238/a271093/results/MOAAP/IVT_Tracking/NorESM_ssp_remapped_3x/ARs_MOAPP_ICON_100and85NorESMsspperc_remapped_3x_2054_07_01-2055_01_01.pkl\n",
      "clean up finished\n",
      "correct nc-file with \n",
      " cdo -selmon,6,7,8,9,10,11,12 /work/aa0238/a271093/results/MOAAP/IVT_Tracking/NorESM_ssp_remapped_3x/ObjectMasks_MOAPP_ICON_100and85NorESMsspperc_remapped_3x_2054_07_01-2055_02_01.nc /work/aa0238/a271093/results/MOAAP/IVT_Tracking/NorESM_ssp_remapped_3x/ObjectMasks_MOAPP_ICON_100and85NorESMsspperc_remapped_3x_2054_07_01-2055_01_01_corrected.nc\n",
      "\n",
      " \n",
      " \n",
      " \n",
      "\n",
      "2055-01-01 00:00:00 2055-08-01 00:00:00\n",
      " \n",
      "The provided variables allow tracking the following phenomena\n",
      " \n",
      "|  phenomenon  | tracking |\n",
      "---------------------------\n",
      "   Jetstream   |   no\n",
      "   PSL CY/ACY  |   no\n",
      "   Z500 CY/ACY |   no\n",
      "   COLs        |   no\n",
      "   IVT ARs     |   yes\n",
      "   MS ARs      |   no\n",
      "   Fronts      |   no\n",
      "   TCs         |   no\n",
      "   MCSs        |   no\n",
      "   Equ. Waves  |   no\n",
      "---------------------------\n",
      " \n",
      "======> track IVT streams and atmospheric rivers (ARs)\n",
      "        3478 object found\n",
      "        break up long living IVT objects that have many elements\n"
     ]
    },
    {
     "name": "stderr",
     "output_type": "stream",
     "text": [
      "100%|██████████| 581/581 [00:25<00:00, 23.11it/s] \n"
     ]
    },
    {
     "name": "stdout",
     "output_type": "stream",
     "text": [
      "        00:00:31.00\n",
      "9\n",
      "            Loop over 1629 objects\n"
     ]
    },
    {
     "name": "stderr",
     "output_type": "stream",
     "text": [
      "/work/aa0238/a271093/Scripts/MOAAP/src/Tracking_Functions.py:250: RuntimeWarning: All-NaN slice encountered\n",
      "  obj_min = np.nanmin(data_slice, axis=(1, 2))\n",
      "/work/aa0238/a271093/Scripts/MOAAP/src/Tracking_Functions.py:251: RuntimeWarning: All-NaN slice encountered\n",
      "  obj_max = np.nanmax(data_slice, axis=(1, 2))\n",
      "/work/aa0238/a271093/Scripts/MOAAP/src/Tracking_Functions.py:252: RuntimeWarning: Mean of empty slice\n",
      "  obj_mean = np.nanmean(data_slice, axis=(1, 2))\n",
      "/work/aa0238/a271093/Conda/MOAAP_env/lib/python3.12/site-packages/scipy/ndimage/_measurements.py:1541: RuntimeWarning: invalid value encountered in scalar divide\n",
      "  results = [sum(input * grids[dir].astype(float), labels, index) / normalizer\n"
     ]
    },
    {
     "name": "stdout",
     "output_type": "stream",
     "text": [
      "        check if MSs quallify as ARs\n"
     ]
    },
    {
     "name": "stderr",
     "output_type": "stream",
     "text": [
      "/work/aa0238/a271093/Scripts/MOAAP/src/Tracking_Functions.py:4588: RuntimeWarning: divide by zero encountered in scalar divide\n",
      "  if DIST.max() / DIST.min() < AR_width_lenght_ratio:\n"
     ]
    },
    {
     "name": "stdout",
     "output_type": "stream",
     "text": [
      "            Loop over 1629 objects\n",
      "        00:01:21.06\n",
      " \n",
      "Save the object masks into a joint netCDF\n",
      "Saved: /work/aa0238/a271093/results/MOAAP/IVT_Tracking/NorESM_ssp_remapped_3x/ObjectMasks_MOAPP_ICON_100and85NorESMsspperc_remapped_3x_2055_01_01-2055_08_01.nc\n",
      "        00:00:24.25\n",
      "clean up /work/aa0238/a271093/results/MOAAP/IVT_Tracking/NorESM_ssp_remapped_3x/IVT_MOAPP_ICON_100and85NorESMsspperc_remapped_3x_2055_01_01-2055_07_01.pkl\n",
      "clean up finished\n",
      "clean up /work/aa0238/a271093/results/MOAAP/IVT_Tracking/NorESM_ssp_remapped_3x/ARs_MOAPP_ICON_100and85NorESMsspperc_remapped_3x_2055_01_01-2055_07_01.pkl\n",
      "clean up finished\n",
      "correct nc-file with \n",
      " cdo -selmon,1,2,3,4,5,6 /work/aa0238/a271093/results/MOAAP/IVT_Tracking/NorESM_ssp_remapped_3x/ObjectMasks_MOAPP_ICON_100and85NorESMsspperc_remapped_3x_2055_01_01-2055_08_01.nc /work/aa0238/a271093/results/MOAAP/IVT_Tracking/NorESM_ssp_remapped_3x/ObjectMasks_MOAPP_ICON_100and85NorESMsspperc_remapped_3x_2055_01_01-2055_07_01_corrected.nc\n",
      "\n",
      " \n",
      " \n",
      " \n",
      "\n",
      "2055-07-01 00:00:00 2056-02-01 00:00:00\n",
      "Mergetime /work/aa0238/a271093/data/Jan_runs/ICON_NorESM_ssp/NorESM_ssp_remapped_3x/IVTu/IVTu_2055010100-2055123123_remapped_3x.nc /work/aa0238/a271093/data/Jan_runs/ICON_NorESM_ssp/NorESM_ssp_remapped_3x/IVTu/IVTu_2056010100-2056123123_remapped_3x.nc  /work/aa0238/a271093/scratch/mergedIVTu_2055_2056_remapped_3x.nc\n",
      "Mergetime /work/aa0238/a271093/data/Jan_runs/ICON_NorESM_ssp/NorESM_ssp_remapped_3x/IVTv/IVTv_2055010100-2055123123_remapped_3x.nc /work/aa0238/a271093/data/Jan_runs/ICON_NorESM_ssp/NorESM_ssp_remapped_3x/IVTv/IVTv_2056010100-2056123123_remapped_3x.nc  /work/aa0238/a271093/scratch/mergedIVTv_2055_2056_remapped_3x.nc\n",
      " \n",
      "The provided variables allow tracking the following phenomena\n",
      " \n",
      "|  phenomenon  | tracking |\n",
      "---------------------------\n",
      "   Jetstream   |   no\n",
      "   PSL CY/ACY  |   no\n",
      "   Z500 CY/ACY |   no\n",
      "   COLs        |   no\n",
      "   IVT ARs     |   yes\n",
      "   MS ARs      |   no\n",
      "   Fronts      |   no\n",
      "   TCs         |   no\n",
      "   MCSs        |   no\n",
      "   Equ. Waves  |   no\n",
      "---------------------------\n",
      " \n",
      "======> track IVT streams and atmospheric rivers (ARs)\n",
      "        3072 object found\n",
      "        break up long living IVT objects that have many elements\n"
     ]
    },
    {
     "name": "stderr",
     "output_type": "stream",
     "text": [
      "100%|██████████| 532/532 [00:22<00:00, 23.34it/s]\n"
     ]
    },
    {
     "name": "stdout",
     "output_type": "stream",
     "text": [
      "        00:00:28.78\n",
      "9\n",
      "            Loop over 1401 objects\n",
      "        check if MSs quallify as ARs\n"
     ]
    },
    {
     "name": "stderr",
     "output_type": "stream",
     "text": [
      "/work/aa0238/a271093/Scripts/MOAAP/src/Tracking_Functions.py:4588: RuntimeWarning: divide by zero encountered in scalar divide\n",
      "  if DIST.max() / DIST.min() < AR_width_lenght_ratio:\n"
     ]
    },
    {
     "name": "stdout",
     "output_type": "stream",
     "text": [
      "            Loop over 1399 objects\n"
     ]
    },
    {
     "name": "stderr",
     "output_type": "stream",
     "text": [
      "/work/aa0238/a271093/Scripts/MOAAP/src/Tracking_Functions.py:250: RuntimeWarning: All-NaN slice encountered\n",
      "  obj_min = np.nanmin(data_slice, axis=(1, 2))\n",
      "/work/aa0238/a271093/Scripts/MOAAP/src/Tracking_Functions.py:251: RuntimeWarning: All-NaN slice encountered\n",
      "  obj_max = np.nanmax(data_slice, axis=(1, 2))\n",
      "/work/aa0238/a271093/Scripts/MOAAP/src/Tracking_Functions.py:252: RuntimeWarning: Mean of empty slice\n",
      "  obj_mean = np.nanmean(data_slice, axis=(1, 2))\n",
      "/work/aa0238/a271093/Conda/MOAAP_env/lib/python3.12/site-packages/scipy/ndimage/_measurements.py:1541: RuntimeWarning: invalid value encountered in scalar divide\n",
      "  results = [sum(input * grids[dir].astype(float), labels, index) / normalizer\n"
     ]
    },
    {
     "name": "stdout",
     "output_type": "stream",
     "text": [
      "        00:01:15.10\n",
      " \n",
      "Save the object masks into a joint netCDF\n",
      "Saved: /work/aa0238/a271093/results/MOAAP/IVT_Tracking/NorESM_ssp_remapped_3x/ObjectMasks_MOAPP_ICON_100and85NorESMsspperc_remapped_3x_2055_07_01-2056_02_01.nc\n",
      "        00:00:26.80\n",
      "clean up /work/aa0238/a271093/results/MOAAP/IVT_Tracking/NorESM_ssp_remapped_3x/IVT_MOAPP_ICON_100and85NorESMsspperc_remapped_3x_2055_07_01-2056_01_01.pkl\n",
      "clean up finished\n",
      "clean up /work/aa0238/a271093/results/MOAAP/IVT_Tracking/NorESM_ssp_remapped_3x/ARs_MOAPP_ICON_100and85NorESMsspperc_remapped_3x_2055_07_01-2056_01_01.pkl\n",
      "clean up finished\n",
      "correct nc-file with \n",
      " cdo -selmon,6,7,8,9,10,11,12 /work/aa0238/a271093/results/MOAAP/IVT_Tracking/NorESM_ssp_remapped_3x/ObjectMasks_MOAPP_ICON_100and85NorESMsspperc_remapped_3x_2055_07_01-2056_02_01.nc /work/aa0238/a271093/results/MOAAP/IVT_Tracking/NorESM_ssp_remapped_3x/ObjectMasks_MOAPP_ICON_100and85NorESMsspperc_remapped_3x_2055_07_01-2056_01_01_corrected.nc\n",
      "\n",
      " \n",
      " \n",
      " \n",
      "\n",
      "2056-01-01 00:00:00 2056-08-01 00:00:00\n",
      " \n",
      "The provided variables allow tracking the following phenomena\n",
      " \n",
      "|  phenomenon  | tracking |\n",
      "---------------------------\n",
      "   Jetstream   |   no\n",
      "   PSL CY/ACY  |   no\n",
      "   Z500 CY/ACY |   no\n",
      "   COLs        |   no\n",
      "   IVT ARs     |   yes\n",
      "   MS ARs      |   no\n",
      "   Fronts      |   no\n",
      "   TCs         |   no\n",
      "   MCSs        |   no\n",
      "   Equ. Waves  |   no\n",
      "---------------------------\n",
      " \n",
      "======> track IVT streams and atmospheric rivers (ARs)\n",
      "        3842 object found\n",
      "        break up long living IVT objects that have many elements\n"
     ]
    },
    {
     "name": "stderr",
     "output_type": "stream",
     "text": [
      "100%|██████████| 629/629 [00:25<00:00, 24.99it/s] \n"
     ]
    },
    {
     "name": "stdout",
     "output_type": "stream",
     "text": [
      "        00:00:31.10\n",
      "9\n",
      "            Loop over 1731 objects\n"
     ]
    },
    {
     "name": "stderr",
     "output_type": "stream",
     "text": [
      "/work/aa0238/a271093/Scripts/MOAAP/src/Tracking_Functions.py:250: RuntimeWarning: All-NaN slice encountered\n",
      "  obj_min = np.nanmin(data_slice, axis=(1, 2))\n",
      "/work/aa0238/a271093/Scripts/MOAAP/src/Tracking_Functions.py:251: RuntimeWarning: All-NaN slice encountered\n",
      "  obj_max = np.nanmax(data_slice, axis=(1, 2))\n",
      "/work/aa0238/a271093/Scripts/MOAAP/src/Tracking_Functions.py:252: RuntimeWarning: Mean of empty slice\n",
      "  obj_mean = np.nanmean(data_slice, axis=(1, 2))\n",
      "/work/aa0238/a271093/Conda/MOAAP_env/lib/python3.12/site-packages/scipy/ndimage/_measurements.py:1541: RuntimeWarning: invalid value encountered in scalar divide\n",
      "  results = [sum(input * grids[dir].astype(float), labels, index) / normalizer\n"
     ]
    },
    {
     "name": "stdout",
     "output_type": "stream",
     "text": [
      "        check if MSs quallify as ARs\n"
     ]
    },
    {
     "name": "stderr",
     "output_type": "stream",
     "text": [
      "/work/aa0238/a271093/Scripts/MOAAP/src/Tracking_Functions.py:4588: RuntimeWarning: divide by zero encountered in scalar divide\n",
      "  if DIST.max() / DIST.min() < AR_width_lenght_ratio:\n"
     ]
    },
    {
     "name": "stdout",
     "output_type": "stream",
     "text": [
      "            Loop over 1731 objects\n",
      "        00:01:23.59\n",
      " \n",
      "Save the object masks into a joint netCDF\n",
      "Saved: /work/aa0238/a271093/results/MOAAP/IVT_Tracking/NorESM_ssp_remapped_3x/ObjectMasks_MOAPP_ICON_100and85NorESMsspperc_remapped_3x_2056_01_01-2056_08_01.nc\n",
      "        00:00:24.83\n",
      "clean up /work/aa0238/a271093/results/MOAAP/IVT_Tracking/NorESM_ssp_remapped_3x/IVT_MOAPP_ICON_100and85NorESMsspperc_remapped_3x_2056_01_01-2056_07_01.pkl\n",
      "clean up finished\n",
      "clean up /work/aa0238/a271093/results/MOAAP/IVT_Tracking/NorESM_ssp_remapped_3x/ARs_MOAPP_ICON_100and85NorESMsspperc_remapped_3x_2056_01_01-2056_07_01.pkl\n",
      "clean up finished\n",
      "correct nc-file with \n",
      " cdo -selmon,1,2,3,4,5,6 /work/aa0238/a271093/results/MOAAP/IVT_Tracking/NorESM_ssp_remapped_3x/ObjectMasks_MOAPP_ICON_100and85NorESMsspperc_remapped_3x_2056_01_01-2056_08_01.nc /work/aa0238/a271093/results/MOAAP/IVT_Tracking/NorESM_ssp_remapped_3x/ObjectMasks_MOAPP_ICON_100and85NorESMsspperc_remapped_3x_2056_01_01-2056_07_01_corrected.nc\n",
      "\n",
      " \n",
      " \n",
      " \n",
      "\n",
      "2056-07-01 00:00:00 2057-02-01 00:00:00\n",
      "Mergetime /work/aa0238/a271093/data/Jan_runs/ICON_NorESM_ssp/NorESM_ssp_remapped_3x/IVTu/IVTu_2056010100-2056123123_remapped_3x.nc /work/aa0238/a271093/data/Jan_runs/ICON_NorESM_ssp/NorESM_ssp_remapped_3x/IVTu/IVTu_2057010100-2057123123_remapped_3x.nc  /work/aa0238/a271093/scratch/mergedIVTu_2056_2057_remapped_3x.nc\n",
      "Mergetime /work/aa0238/a271093/data/Jan_runs/ICON_NorESM_ssp/NorESM_ssp_remapped_3x/IVTv/IVTv_2056010100-2056123123_remapped_3x.nc /work/aa0238/a271093/data/Jan_runs/ICON_NorESM_ssp/NorESM_ssp_remapped_3x/IVTv/IVTv_2057010100-2057123123_remapped_3x.nc  /work/aa0238/a271093/scratch/mergedIVTv_2056_2057_remapped_3x.nc\n",
      " \n",
      "The provided variables allow tracking the following phenomena\n",
      " \n",
      "|  phenomenon  | tracking |\n",
      "---------------------------\n",
      "   Jetstream   |   no\n",
      "   PSL CY/ACY  |   no\n",
      "   Z500 CY/ACY |   no\n",
      "   COLs        |   no\n",
      "   IVT ARs     |   yes\n",
      "   MS ARs      |   no\n",
      "   Fronts      |   no\n",
      "   TCs         |   no\n",
      "   MCSs        |   no\n",
      "   Equ. Waves  |   no\n",
      "---------------------------\n",
      " \n",
      "======> track IVT streams and atmospheric rivers (ARs)\n",
      "        3309 object found\n",
      "        break up long living IVT objects that have many elements\n"
     ]
    },
    {
     "name": "stderr",
     "output_type": "stream",
     "text": [
      "100%|██████████| 586/586 [00:23<00:00, 24.99it/s]\n"
     ]
    },
    {
     "name": "stdout",
     "output_type": "stream",
     "text": [
      "        00:00:29.47\n",
      "9\n",
      "            Loop over 1411 objects\n",
      "        check if MSs quallify as ARs\n"
     ]
    },
    {
     "name": "stderr",
     "output_type": "stream",
     "text": [
      "/work/aa0238/a271093/Scripts/MOAAP/src/Tracking_Functions.py:4588: RuntimeWarning: divide by zero encountered in scalar divide\n",
      "  if DIST.max() / DIST.min() < AR_width_lenght_ratio:\n"
     ]
    },
    {
     "name": "stdout",
     "output_type": "stream",
     "text": [
      "            Loop over 1411 objects\n"
     ]
    },
    {
     "name": "stderr",
     "output_type": "stream",
     "text": [
      "/work/aa0238/a271093/Scripts/MOAAP/src/Tracking_Functions.py:250: RuntimeWarning: All-NaN slice encountered\n",
      "  obj_min = np.nanmin(data_slice, axis=(1, 2))\n",
      "/work/aa0238/a271093/Scripts/MOAAP/src/Tracking_Functions.py:251: RuntimeWarning: All-NaN slice encountered\n",
      "  obj_max = np.nanmax(data_slice, axis=(1, 2))\n",
      "/work/aa0238/a271093/Scripts/MOAAP/src/Tracking_Functions.py:252: RuntimeWarning: Mean of empty slice\n",
      "  obj_mean = np.nanmean(data_slice, axis=(1, 2))\n",
      "/work/aa0238/a271093/Conda/MOAAP_env/lib/python3.12/site-packages/scipy/ndimage/_measurements.py:1541: RuntimeWarning: invalid value encountered in scalar divide\n",
      "  results = [sum(input * grids[dir].astype(float), labels, index) / normalizer\n"
     ]
    },
    {
     "name": "stdout",
     "output_type": "stream",
     "text": [
      "        00:01:13.79\n",
      " \n",
      "Save the object masks into a joint netCDF\n",
      "Saved: /work/aa0238/a271093/results/MOAAP/IVT_Tracking/NorESM_ssp_remapped_3x/ObjectMasks_MOAPP_ICON_100and85NorESMsspperc_remapped_3x_2056_07_01-2057_02_01.nc\n",
      "        00:00:24.93\n",
      "clean up /work/aa0238/a271093/results/MOAAP/IVT_Tracking/NorESM_ssp_remapped_3x/IVT_MOAPP_ICON_100and85NorESMsspperc_remapped_3x_2056_07_01-2057_01_01.pkl\n",
      "clean up finished\n",
      "clean up /work/aa0238/a271093/results/MOAAP/IVT_Tracking/NorESM_ssp_remapped_3x/ARs_MOAPP_ICON_100and85NorESMsspperc_remapped_3x_2056_07_01-2057_01_01.pkl\n",
      "clean up finished\n",
      "correct nc-file with \n",
      " cdo -selmon,6,7,8,9,10,11,12 /work/aa0238/a271093/results/MOAAP/IVT_Tracking/NorESM_ssp_remapped_3x/ObjectMasks_MOAPP_ICON_100and85NorESMsspperc_remapped_3x_2056_07_01-2057_02_01.nc /work/aa0238/a271093/results/MOAAP/IVT_Tracking/NorESM_ssp_remapped_3x/ObjectMasks_MOAPP_ICON_100and85NorESMsspperc_remapped_3x_2056_07_01-2057_01_01_corrected.nc\n",
      "\n",
      " \n",
      " \n",
      " \n",
      "\n",
      "2057-01-01 00:00:00 2057-08-01 00:00:00\n",
      " \n",
      "The provided variables allow tracking the following phenomena\n",
      " \n",
      "|  phenomenon  | tracking |\n",
      "---------------------------\n",
      "   Jetstream   |   no\n",
      "   PSL CY/ACY  |   no\n",
      "   Z500 CY/ACY |   no\n",
      "   COLs        |   no\n",
      "   IVT ARs     |   yes\n",
      "   MS ARs      |   no\n",
      "   Fronts      |   no\n",
      "   TCs         |   no\n",
      "   MCSs        |   no\n",
      "   Equ. Waves  |   no\n",
      "---------------------------\n",
      " \n",
      "======> track IVT streams and atmospheric rivers (ARs)\n",
      "        3279 object found\n",
      "        break up long living IVT objects that have many elements\n"
     ]
    },
    {
     "name": "stderr",
     "output_type": "stream",
     "text": [
      "100%|██████████| 565/565 [00:23<00:00, 24.03it/s]\n"
     ]
    },
    {
     "name": "stdout",
     "output_type": "stream",
     "text": [
      "        00:00:30.37\n",
      "9\n",
      "            Loop over 1724 objects\n"
     ]
    },
    {
     "name": "stderr",
     "output_type": "stream",
     "text": [
      "/work/aa0238/a271093/Scripts/MOAAP/src/Tracking_Functions.py:250: RuntimeWarning: All-NaN slice encountered\n",
      "  obj_min = np.nanmin(data_slice, axis=(1, 2))\n",
      "/work/aa0238/a271093/Scripts/MOAAP/src/Tracking_Functions.py:251: RuntimeWarning: All-NaN slice encountered\n",
      "  obj_max = np.nanmax(data_slice, axis=(1, 2))\n",
      "/work/aa0238/a271093/Scripts/MOAAP/src/Tracking_Functions.py:252: RuntimeWarning: Mean of empty slice\n",
      "  obj_mean = np.nanmean(data_slice, axis=(1, 2))\n",
      "/work/aa0238/a271093/Conda/MOAAP_env/lib/python3.12/site-packages/scipy/ndimage/_measurements.py:1541: RuntimeWarning: invalid value encountered in scalar divide\n",
      "  results = [sum(input * grids[dir].astype(float), labels, index) / normalizer\n"
     ]
    },
    {
     "name": "stdout",
     "output_type": "stream",
     "text": [
      "        check if MSs quallify as ARs\n"
     ]
    },
    {
     "name": "stderr",
     "output_type": "stream",
     "text": [
      "/work/aa0238/a271093/Scripts/MOAAP/src/Tracking_Functions.py:4588: RuntimeWarning: divide by zero encountered in scalar divide\n",
      "  if DIST.max() / DIST.min() < AR_width_lenght_ratio:\n"
     ]
    },
    {
     "name": "stdout",
     "output_type": "stream",
     "text": [
      "            Loop over 1724 objects\n",
      "        00:01:31.82\n",
      " \n",
      "Save the object masks into a joint netCDF\n",
      "Saved: /work/aa0238/a271093/results/MOAAP/IVT_Tracking/NorESM_ssp_remapped_3x/ObjectMasks_MOAPP_ICON_100and85NorESMsspperc_remapped_3x_2057_01_01-2057_08_01.nc\n",
      "        00:00:25.17\n",
      "clean up /work/aa0238/a271093/results/MOAAP/IVT_Tracking/NorESM_ssp_remapped_3x/IVT_MOAPP_ICON_100and85NorESMsspperc_remapped_3x_2057_01_01-2057_07_01.pkl\n",
      "clean up finished\n",
      "clean up /work/aa0238/a271093/results/MOAAP/IVT_Tracking/NorESM_ssp_remapped_3x/ARs_MOAPP_ICON_100and85NorESMsspperc_remapped_3x_2057_01_01-2057_07_01.pkl\n",
      "clean up finished\n",
      "correct nc-file with \n",
      " cdo -selmon,1,2,3,4,5,6 /work/aa0238/a271093/results/MOAAP/IVT_Tracking/NorESM_ssp_remapped_3x/ObjectMasks_MOAPP_ICON_100and85NorESMsspperc_remapped_3x_2057_01_01-2057_08_01.nc /work/aa0238/a271093/results/MOAAP/IVT_Tracking/NorESM_ssp_remapped_3x/ObjectMasks_MOAPP_ICON_100and85NorESMsspperc_remapped_3x_2057_01_01-2057_07_01_corrected.nc\n",
      "\n",
      " \n",
      " \n",
      " \n",
      "\n",
      "2057-07-01 00:00:00 2058-02-01 00:00:00\n",
      "Mergetime /work/aa0238/a271093/data/Jan_runs/ICON_NorESM_ssp/NorESM_ssp_remapped_3x/IVTu/IVTu_2057010100-2057123123_remapped_3x.nc /work/aa0238/a271093/data/Jan_runs/ICON_NorESM_ssp/NorESM_ssp_remapped_3x/IVTu/IVTu_2058010100-2058123123_remapped_3x.nc  /work/aa0238/a271093/scratch/mergedIVTu_2057_2058_remapped_3x.nc\n",
      "Mergetime /work/aa0238/a271093/data/Jan_runs/ICON_NorESM_ssp/NorESM_ssp_remapped_3x/IVTv/IVTv_2057010100-2057123123_remapped_3x.nc /work/aa0238/a271093/data/Jan_runs/ICON_NorESM_ssp/NorESM_ssp_remapped_3x/IVTv/IVTv_2058010100-2058123123_remapped_3x.nc  /work/aa0238/a271093/scratch/mergedIVTv_2057_2058_remapped_3x.nc\n",
      " \n",
      "The provided variables allow tracking the following phenomena\n",
      " \n",
      "|  phenomenon  | tracking |\n",
      "---------------------------\n",
      "   Jetstream   |   no\n",
      "   PSL CY/ACY  |   no\n",
      "   Z500 CY/ACY |   no\n",
      "   COLs        |   no\n",
      "   IVT ARs     |   yes\n",
      "   MS ARs      |   no\n",
      "   Fronts      |   no\n",
      "   TCs         |   no\n",
      "   MCSs        |   no\n",
      "   Equ. Waves  |   no\n",
      "---------------------------\n",
      " \n",
      "======> track IVT streams and atmospheric rivers (ARs)\n",
      "        3283 object found\n",
      "        break up long living IVT objects that have many elements\n"
     ]
    },
    {
     "name": "stderr",
     "output_type": "stream",
     "text": [
      "100%|██████████| 573/573 [00:23<00:00, 24.70it/s]\n"
     ]
    },
    {
     "name": "stdout",
     "output_type": "stream",
     "text": [
      "        00:00:29.25\n",
      "9\n",
      "            Loop over 1446 objects\n",
      "        check if MSs quallify as ARs\n"
     ]
    },
    {
     "name": "stderr",
     "output_type": "stream",
     "text": [
      "/work/aa0238/a271093/Scripts/MOAAP/src/Tracking_Functions.py:4588: RuntimeWarning: divide by zero encountered in scalar divide\n",
      "  if DIST.max() / DIST.min() < AR_width_lenght_ratio:\n"
     ]
    },
    {
     "name": "stdout",
     "output_type": "stream",
     "text": [
      "            Loop over 1441 objects\n"
     ]
    },
    {
     "name": "stderr",
     "output_type": "stream",
     "text": [
      "/work/aa0238/a271093/Scripts/MOAAP/src/Tracking_Functions.py:250: RuntimeWarning: All-NaN slice encountered\n",
      "  obj_min = np.nanmin(data_slice, axis=(1, 2))\n",
      "/work/aa0238/a271093/Scripts/MOAAP/src/Tracking_Functions.py:251: RuntimeWarning: All-NaN slice encountered\n",
      "  obj_max = np.nanmax(data_slice, axis=(1, 2))\n",
      "/work/aa0238/a271093/Scripts/MOAAP/src/Tracking_Functions.py:252: RuntimeWarning: Mean of empty slice\n",
      "  obj_mean = np.nanmean(data_slice, axis=(1, 2))\n",
      "/work/aa0238/a271093/Conda/MOAAP_env/lib/python3.12/site-packages/scipy/ndimage/_measurements.py:1541: RuntimeWarning: invalid value encountered in scalar divide\n",
      "  results = [sum(input * grids[dir].astype(float), labels, index) / normalizer\n"
     ]
    },
    {
     "name": "stdout",
     "output_type": "stream",
     "text": [
      "        00:01:12.69\n",
      " \n",
      "Save the object masks into a joint netCDF\n",
      "Saved: /work/aa0238/a271093/results/MOAAP/IVT_Tracking/NorESM_ssp_remapped_3x/ObjectMasks_MOAPP_ICON_100and85NorESMsspperc_remapped_3x_2057_07_01-2058_02_01.nc\n",
      "        00:00:24.52\n",
      "clean up /work/aa0238/a271093/results/MOAAP/IVT_Tracking/NorESM_ssp_remapped_3x/IVT_MOAPP_ICON_100and85NorESMsspperc_remapped_3x_2057_07_01-2058_01_01.pkl\n",
      "clean up finished\n",
      "clean up /work/aa0238/a271093/results/MOAAP/IVT_Tracking/NorESM_ssp_remapped_3x/ARs_MOAPP_ICON_100and85NorESMsspperc_remapped_3x_2057_07_01-2058_01_01.pkl\n",
      "clean up finished\n",
      "correct nc-file with \n",
      " cdo -selmon,6,7,8,9,10,11,12 /work/aa0238/a271093/results/MOAAP/IVT_Tracking/NorESM_ssp_remapped_3x/ObjectMasks_MOAPP_ICON_100and85NorESMsspperc_remapped_3x_2057_07_01-2058_02_01.nc /work/aa0238/a271093/results/MOAAP/IVT_Tracking/NorESM_ssp_remapped_3x/ObjectMasks_MOAPP_ICON_100and85NorESMsspperc_remapped_3x_2057_07_01-2058_01_01_corrected.nc\n",
      "\n",
      " \n",
      " \n",
      " \n",
      "\n",
      "2058-01-01 00:00:00 2058-08-01 00:00:00\n",
      " \n",
      "The provided variables allow tracking the following phenomena\n",
      " \n",
      "|  phenomenon  | tracking |\n",
      "---------------------------\n",
      "   Jetstream   |   no\n",
      "   PSL CY/ACY  |   no\n",
      "   Z500 CY/ACY |   no\n",
      "   COLs        |   no\n",
      "   IVT ARs     |   yes\n",
      "   MS ARs      |   no\n",
      "   Fronts      |   no\n",
      "   TCs         |   no\n",
      "   MCSs        |   no\n",
      "   Equ. Waves  |   no\n",
      "---------------------------\n",
      " \n",
      "======> track IVT streams and atmospheric rivers (ARs)\n",
      "        3485 object found\n",
      "        break up long living IVT objects that have many elements\n"
     ]
    },
    {
     "name": "stderr",
     "output_type": "stream",
     "text": [
      "100%|██████████| 631/631 [00:24<00:00, 25.46it/s]\n"
     ]
    },
    {
     "name": "stdout",
     "output_type": "stream",
     "text": [
      "        00:00:30.45\n",
      "9\n",
      "            Loop over 1599 objects\n"
     ]
    },
    {
     "name": "stderr",
     "output_type": "stream",
     "text": [
      "/work/aa0238/a271093/Scripts/MOAAP/src/Tracking_Functions.py:250: RuntimeWarning: All-NaN slice encountered\n",
      "  obj_min = np.nanmin(data_slice, axis=(1, 2))\n",
      "/work/aa0238/a271093/Scripts/MOAAP/src/Tracking_Functions.py:251: RuntimeWarning: All-NaN slice encountered\n",
      "  obj_max = np.nanmax(data_slice, axis=(1, 2))\n",
      "/work/aa0238/a271093/Scripts/MOAAP/src/Tracking_Functions.py:252: RuntimeWarning: Mean of empty slice\n",
      "  obj_mean = np.nanmean(data_slice, axis=(1, 2))\n",
      "/work/aa0238/a271093/Conda/MOAAP_env/lib/python3.12/site-packages/scipy/ndimage/_measurements.py:1541: RuntimeWarning: invalid value encountered in scalar divide\n",
      "  results = [sum(input * grids[dir].astype(float), labels, index) / normalizer\n"
     ]
    },
    {
     "name": "stdout",
     "output_type": "stream",
     "text": [
      "        check if MSs quallify as ARs\n"
     ]
    },
    {
     "name": "stderr",
     "output_type": "stream",
     "text": [
      "/work/aa0238/a271093/Scripts/MOAAP/src/Tracking_Functions.py:4588: RuntimeWarning: divide by zero encountered in scalar divide\n",
      "  if DIST.max() / DIST.min() < AR_width_lenght_ratio:\n"
     ]
    },
    {
     "name": "stdout",
     "output_type": "stream",
     "text": [
      "            Loop over 1597 objects\n",
      "        00:01:18.13\n",
      " \n",
      "Save the object masks into a joint netCDF\n",
      "Saved: /work/aa0238/a271093/results/MOAAP/IVT_Tracking/NorESM_ssp_remapped_3x/ObjectMasks_MOAPP_ICON_100and85NorESMsspperc_remapped_3x_2058_01_01-2058_08_01.nc\n",
      "        00:00:24.25\n",
      "clean up /work/aa0238/a271093/results/MOAAP/IVT_Tracking/NorESM_ssp_remapped_3x/IVT_MOAPP_ICON_100and85NorESMsspperc_remapped_3x_2058_01_01-2058_07_01.pkl\n",
      "clean up finished\n",
      "clean up /work/aa0238/a271093/results/MOAAP/IVT_Tracking/NorESM_ssp_remapped_3x/ARs_MOAPP_ICON_100and85NorESMsspperc_remapped_3x_2058_01_01-2058_07_01.pkl\n",
      "clean up finished\n",
      "correct nc-file with \n",
      " cdo -selmon,1,2,3,4,5,6 /work/aa0238/a271093/results/MOAAP/IVT_Tracking/NorESM_ssp_remapped_3x/ObjectMasks_MOAPP_ICON_100and85NorESMsspperc_remapped_3x_2058_01_01-2058_08_01.nc /work/aa0238/a271093/results/MOAAP/IVT_Tracking/NorESM_ssp_remapped_3x/ObjectMasks_MOAPP_ICON_100and85NorESMsspperc_remapped_3x_2058_01_01-2058_07_01_corrected.nc\n",
      "\n",
      " \n",
      " \n",
      " \n",
      "\n",
      "2058-07-01 00:00:00 2059-02-01 00:00:00\n",
      "Mergetime /work/aa0238/a271093/data/Jan_runs/ICON_NorESM_ssp/NorESM_ssp_remapped_3x/IVTu/IVTu_2058010100-2058123123_remapped_3x.nc /work/aa0238/a271093/data/Jan_runs/ICON_NorESM_ssp/NorESM_ssp_remapped_3x/IVTu/IVTu_2059010100-2059123123_remapped_3x.nc  /work/aa0238/a271093/scratch/mergedIVTu_2058_2059_remapped_3x.nc\n",
      "Mergetime /work/aa0238/a271093/data/Jan_runs/ICON_NorESM_ssp/NorESM_ssp_remapped_3x/IVTv/IVTv_2058010100-2058123123_remapped_3x.nc /work/aa0238/a271093/data/Jan_runs/ICON_NorESM_ssp/NorESM_ssp_remapped_3x/IVTv/IVTv_2059010100-2059123123_remapped_3x.nc  /work/aa0238/a271093/scratch/mergedIVTv_2058_2059_remapped_3x.nc\n",
      " \n",
      "The provided variables allow tracking the following phenomena\n",
      " \n",
      "|  phenomenon  | tracking |\n",
      "---------------------------\n",
      "   Jetstream   |   no\n",
      "   PSL CY/ACY  |   no\n",
      "   Z500 CY/ACY |   no\n",
      "   COLs        |   no\n",
      "   IVT ARs     |   yes\n",
      "   MS ARs      |   no\n",
      "   Fronts      |   no\n",
      "   TCs         |   no\n",
      "   MCSs        |   no\n",
      "   Equ. Waves  |   no\n",
      "---------------------------\n",
      " \n",
      "======> track IVT streams and atmospheric rivers (ARs)\n",
      "        3067 object found\n",
      "        break up long living IVT objects that have many elements\n"
     ]
    },
    {
     "name": "stderr",
     "output_type": "stream",
     "text": [
      "100%|██████████| 583/583 [00:22<00:00, 25.90it/s]\n"
     ]
    },
    {
     "name": "stdout",
     "output_type": "stream",
     "text": [
      "        00:00:28.54\n",
      "9\n",
      "            Loop over 1489 objects\n",
      "        check if MSs quallify as ARs\n"
     ]
    },
    {
     "name": "stderr",
     "output_type": "stream",
     "text": [
      "/work/aa0238/a271093/Scripts/MOAAP/src/Tracking_Functions.py:4588: RuntimeWarning: divide by zero encountered in scalar divide\n",
      "  if DIST.max() / DIST.min() < AR_width_lenght_ratio:\n"
     ]
    },
    {
     "name": "stdout",
     "output_type": "stream",
     "text": [
      "            Loop over 1488 objects\n"
     ]
    },
    {
     "name": "stderr",
     "output_type": "stream",
     "text": [
      "/work/aa0238/a271093/Scripts/MOAAP/src/Tracking_Functions.py:250: RuntimeWarning: All-NaN slice encountered\n",
      "  obj_min = np.nanmin(data_slice, axis=(1, 2))\n",
      "/work/aa0238/a271093/Scripts/MOAAP/src/Tracking_Functions.py:251: RuntimeWarning: All-NaN slice encountered\n",
      "  obj_max = np.nanmax(data_slice, axis=(1, 2))\n",
      "/work/aa0238/a271093/Scripts/MOAAP/src/Tracking_Functions.py:252: RuntimeWarning: Mean of empty slice\n",
      "  obj_mean = np.nanmean(data_slice, axis=(1, 2))\n",
      "/work/aa0238/a271093/Conda/MOAAP_env/lib/python3.12/site-packages/scipy/ndimage/_measurements.py:1541: RuntimeWarning: invalid value encountered in scalar divide\n",
      "  results = [sum(input * grids[dir].astype(float), labels, index) / normalizer\n"
     ]
    },
    {
     "name": "stdout",
     "output_type": "stream",
     "text": [
      "        00:01:12.73\n",
      " \n",
      "Save the object masks into a joint netCDF\n",
      "Saved: /work/aa0238/a271093/results/MOAAP/IVT_Tracking/NorESM_ssp_remapped_3x/ObjectMasks_MOAPP_ICON_100and85NorESMsspperc_remapped_3x_2058_07_01-2059_02_01.nc\n",
      "        00:00:27.50\n",
      "clean up /work/aa0238/a271093/results/MOAAP/IVT_Tracking/NorESM_ssp_remapped_3x/IVT_MOAPP_ICON_100and85NorESMsspperc_remapped_3x_2058_07_01-2059_01_01.pkl\n",
      "clean up finished\n",
      "clean up /work/aa0238/a271093/results/MOAAP/IVT_Tracking/NorESM_ssp_remapped_3x/ARs_MOAPP_ICON_100and85NorESMsspperc_remapped_3x_2058_07_01-2059_01_01.pkl\n",
      "clean up finished\n",
      "correct nc-file with \n",
      " cdo -selmon,6,7,8,9,10,11,12 /work/aa0238/a271093/results/MOAAP/IVT_Tracking/NorESM_ssp_remapped_3x/ObjectMasks_MOAPP_ICON_100and85NorESMsspperc_remapped_3x_2058_07_01-2059_02_01.nc /work/aa0238/a271093/results/MOAAP/IVT_Tracking/NorESM_ssp_remapped_3x/ObjectMasks_MOAPP_ICON_100and85NorESMsspperc_remapped_3x_2058_07_01-2059_01_01_corrected.nc\n",
      "\n",
      " \n",
      " \n",
      " \n",
      "\n",
      "2059-01-01 00:00:00 2059-08-01 00:00:00\n",
      " \n",
      "The provided variables allow tracking the following phenomena\n",
      " \n",
      "|  phenomenon  | tracking |\n",
      "---------------------------\n",
      "   Jetstream   |   no\n",
      "   PSL CY/ACY  |   no\n",
      "   Z500 CY/ACY |   no\n",
      "   COLs        |   no\n",
      "   IVT ARs     |   yes\n",
      "   MS ARs      |   no\n",
      "   Fronts      |   no\n",
      "   TCs         |   no\n",
      "   MCSs        |   no\n",
      "   Equ. Waves  |   no\n",
      "---------------------------\n",
      " \n",
      "======> track IVT streams and atmospheric rivers (ARs)\n",
      "        3336 object found\n",
      "        break up long living IVT objects that have many elements\n"
     ]
    },
    {
     "name": "stderr",
     "output_type": "stream",
     "text": [
      "100%|██████████| 562/562 [00:25<00:00, 21.82it/s]\n"
     ]
    },
    {
     "name": "stdout",
     "output_type": "stream",
     "text": [
      "        00:00:31.62\n",
      "9\n",
      "            Loop over 1577 objects\n"
     ]
    },
    {
     "name": "stderr",
     "output_type": "stream",
     "text": [
      "/work/aa0238/a271093/Scripts/MOAAP/src/Tracking_Functions.py:250: RuntimeWarning: All-NaN slice encountered\n",
      "  obj_min = np.nanmin(data_slice, axis=(1, 2))\n",
      "/work/aa0238/a271093/Scripts/MOAAP/src/Tracking_Functions.py:251: RuntimeWarning: All-NaN slice encountered\n",
      "  obj_max = np.nanmax(data_slice, axis=(1, 2))\n",
      "/work/aa0238/a271093/Scripts/MOAAP/src/Tracking_Functions.py:252: RuntimeWarning: Mean of empty slice\n",
      "  obj_mean = np.nanmean(data_slice, axis=(1, 2))\n",
      "/work/aa0238/a271093/Conda/MOAAP_env/lib/python3.12/site-packages/scipy/ndimage/_measurements.py:1541: RuntimeWarning: invalid value encountered in scalar divide\n",
      "  results = [sum(input * grids[dir].astype(float), labels, index) / normalizer\n"
     ]
    },
    {
     "name": "stdout",
     "output_type": "stream",
     "text": [
      "        check if MSs quallify as ARs\n"
     ]
    },
    {
     "name": "stderr",
     "output_type": "stream",
     "text": [
      "/work/aa0238/a271093/Scripts/MOAAP/src/Tracking_Functions.py:4588: RuntimeWarning: divide by zero encountered in scalar divide\n",
      "  if DIST.max() / DIST.min() < AR_width_lenght_ratio:\n"
     ]
    },
    {
     "name": "stdout",
     "output_type": "stream",
     "text": [
      "            Loop over 1576 objects\n",
      "        00:01:19.38\n",
      " \n",
      "Save the object masks into a joint netCDF\n",
      "Saved: /work/aa0238/a271093/results/MOAAP/IVT_Tracking/NorESM_ssp_remapped_3x/ObjectMasks_MOAPP_ICON_100and85NorESMsspperc_remapped_3x_2059_01_01-2059_08_01.nc\n",
      "        00:00:26.88\n",
      "clean up /work/aa0238/a271093/results/MOAAP/IVT_Tracking/NorESM_ssp_remapped_3x/IVT_MOAPP_ICON_100and85NorESMsspperc_remapped_3x_2059_01_01-2059_07_01.pkl\n",
      "clean up finished\n",
      "clean up /work/aa0238/a271093/results/MOAAP/IVT_Tracking/NorESM_ssp_remapped_3x/ARs_MOAPP_ICON_100and85NorESMsspperc_remapped_3x_2059_01_01-2059_07_01.pkl\n",
      "clean up finished\n",
      "correct nc-file with \n",
      " cdo -selmon,1,2,3,4,5,6 /work/aa0238/a271093/results/MOAAP/IVT_Tracking/NorESM_ssp_remapped_3x/ObjectMasks_MOAPP_ICON_100and85NorESMsspperc_remapped_3x_2059_01_01-2059_08_01.nc /work/aa0238/a271093/results/MOAAP/IVT_Tracking/NorESM_ssp_remapped_3x/ObjectMasks_MOAPP_ICON_100and85NorESMsspperc_remapped_3x_2059_01_01-2059_07_01_corrected.nc\n",
      "\n",
      " \n",
      " \n",
      " \n",
      "\n",
      "2059-07-01 00:00:00 2060-02-01 00:00:00\n",
      "Mergetime /work/aa0238/a271093/data/Jan_runs/ICON_NorESM_ssp/NorESM_ssp_remapped_3x/IVTu/IVTu_2059010100-2059123123_remapped_3x.nc /work/aa0238/a271093/data/Jan_runs/ICON_NorESM_ssp/NorESM_ssp_remapped_3x/IVTu/IVTu_2060010100-2060123123_remapped_3x.nc  /work/aa0238/a271093/scratch/mergedIVTu_2059_2060_remapped_3x.nc\n",
      "Mergetime /work/aa0238/a271093/data/Jan_runs/ICON_NorESM_ssp/NorESM_ssp_remapped_3x/IVTv/IVTv_2059010100-2059123123_remapped_3x.nc /work/aa0238/a271093/data/Jan_runs/ICON_NorESM_ssp/NorESM_ssp_remapped_3x/IVTv/IVTv_2060010100-2060123123_remapped_3x.nc  /work/aa0238/a271093/scratch/mergedIVTv_2059_2060_remapped_3x.nc\n",
      " \n",
      "The provided variables allow tracking the following phenomena\n",
      " \n",
      "|  phenomenon  | tracking |\n",
      "---------------------------\n",
      "   Jetstream   |   no\n",
      "   PSL CY/ACY  |   no\n",
      "   Z500 CY/ACY |   no\n",
      "   COLs        |   no\n",
      "   IVT ARs     |   yes\n",
      "   MS ARs      |   no\n",
      "   Fronts      |   no\n",
      "   TCs         |   no\n",
      "   MCSs        |   no\n",
      "   Equ. Waves  |   no\n",
      "---------------------------\n",
      " \n",
      "======> track IVT streams and atmospheric rivers (ARs)\n",
      "        3009 object found\n",
      "        break up long living IVT objects that have many elements\n"
     ]
    },
    {
     "name": "stderr",
     "output_type": "stream",
     "text": [
      "100%|██████████| 573/573 [00:24<00:00, 23.59it/s]\n"
     ]
    },
    {
     "name": "stdout",
     "output_type": "stream",
     "text": [
      "        00:00:30.34\n",
      "9\n",
      "            Loop over 1465 objects\n"
     ]
    },
    {
     "name": "stderr",
     "output_type": "stream",
     "text": [
      "/work/aa0238/a271093/Scripts/MOAAP/src/Tracking_Functions.py:250: RuntimeWarning: All-NaN slice encountered\n",
      "  obj_min = np.nanmin(data_slice, axis=(1, 2))\n",
      "/work/aa0238/a271093/Scripts/MOAAP/src/Tracking_Functions.py:251: RuntimeWarning: All-NaN slice encountered\n",
      "  obj_max = np.nanmax(data_slice, axis=(1, 2))\n",
      "/work/aa0238/a271093/Scripts/MOAAP/src/Tracking_Functions.py:252: RuntimeWarning: Mean of empty slice\n",
      "  obj_mean = np.nanmean(data_slice, axis=(1, 2))\n",
      "/work/aa0238/a271093/Conda/MOAAP_env/lib/python3.12/site-packages/scipy/ndimage/_measurements.py:1541: RuntimeWarning: invalid value encountered in scalar divide\n",
      "  results = [sum(input * grids[dir].astype(float), labels, index) / normalizer\n"
     ]
    },
    {
     "name": "stdout",
     "output_type": "stream",
     "text": [
      "        check if MSs quallify as ARs\n"
     ]
    },
    {
     "name": "stderr",
     "output_type": "stream",
     "text": [
      "/work/aa0238/a271093/Scripts/MOAAP/src/Tracking_Functions.py:4588: RuntimeWarning: divide by zero encountered in scalar divide\n",
      "  if DIST.max() / DIST.min() < AR_width_lenght_ratio:\n"
     ]
    },
    {
     "name": "stdout",
     "output_type": "stream",
     "text": [
      "            Loop over 1464 objects\n",
      "        00:01:16.46\n",
      " \n",
      "Save the object masks into a joint netCDF\n",
      "Saved: /work/aa0238/a271093/results/MOAAP/IVT_Tracking/NorESM_ssp_remapped_3x/ObjectMasks_MOAPP_ICON_100and85NorESMsspperc_remapped_3x_2059_07_01-2060_02_01.nc\n",
      "        00:00:24.65\n",
      "clean up /work/aa0238/a271093/results/MOAAP/IVT_Tracking/NorESM_ssp_remapped_3x/IVT_MOAPP_ICON_100and85NorESMsspperc_remapped_3x_2059_07_01-2060_01_01.pkl\n",
      "clean up finished\n",
      "clean up /work/aa0238/a271093/results/MOAAP/IVT_Tracking/NorESM_ssp_remapped_3x/ARs_MOAPP_ICON_100and85NorESMsspperc_remapped_3x_2059_07_01-2060_01_01.pkl\n",
      "clean up finished\n",
      "correct nc-file with \n",
      " cdo -selmon,6,7,8,9,10,11,12 /work/aa0238/a271093/results/MOAAP/IVT_Tracking/NorESM_ssp_remapped_3x/ObjectMasks_MOAPP_ICON_100and85NorESMsspperc_remapped_3x_2059_07_01-2060_02_01.nc /work/aa0238/a271093/results/MOAAP/IVT_Tracking/NorESM_ssp_remapped_3x/ObjectMasks_MOAPP_ICON_100and85NorESMsspperc_remapped_3x_2059_07_01-2060_01_01_corrected.nc\n",
      "\n",
      " \n",
      " \n",
      " \n",
      "\n",
      "2060-01-01 00:00:00 2060-08-01 00:00:00\n",
      " \n",
      "The provided variables allow tracking the following phenomena\n",
      " \n",
      "|  phenomenon  | tracking |\n",
      "---------------------------\n",
      "   Jetstream   |   no\n",
      "   PSL CY/ACY  |   no\n",
      "   Z500 CY/ACY |   no\n",
      "   COLs        |   no\n",
      "   IVT ARs     |   yes\n",
      "   MS ARs      |   no\n",
      "   Fronts      |   no\n",
      "   TCs         |   no\n",
      "   MCSs        |   no\n",
      "   Equ. Waves  |   no\n",
      "---------------------------\n",
      " \n",
      "======> track IVT streams and atmospheric rivers (ARs)\n",
      "        3365 object found\n",
      "        break up long living IVT objects that have many elements\n"
     ]
    },
    {
     "name": "stderr",
     "output_type": "stream",
     "text": [
      "100%|██████████| 627/627 [00:24<00:00, 25.84it/s]\n"
     ]
    },
    {
     "name": "stdout",
     "output_type": "stream",
     "text": [
      "        00:00:30.16\n",
      "9\n",
      "            Loop over 1599 objects\n"
     ]
    },
    {
     "name": "stderr",
     "output_type": "stream",
     "text": [
      "/work/aa0238/a271093/Scripts/MOAAP/src/Tracking_Functions.py:250: RuntimeWarning: All-NaN slice encountered\n",
      "  obj_min = np.nanmin(data_slice, axis=(1, 2))\n",
      "/work/aa0238/a271093/Scripts/MOAAP/src/Tracking_Functions.py:251: RuntimeWarning: All-NaN slice encountered\n",
      "  obj_max = np.nanmax(data_slice, axis=(1, 2))\n",
      "/work/aa0238/a271093/Scripts/MOAAP/src/Tracking_Functions.py:252: RuntimeWarning: Mean of empty slice\n",
      "  obj_mean = np.nanmean(data_slice, axis=(1, 2))\n",
      "/work/aa0238/a271093/Conda/MOAAP_env/lib/python3.12/site-packages/scipy/ndimage/_measurements.py:1541: RuntimeWarning: invalid value encountered in scalar divide\n",
      "  results = [sum(input * grids[dir].astype(float), labels, index) / normalizer\n"
     ]
    },
    {
     "name": "stdout",
     "output_type": "stream",
     "text": [
      "        check if MSs quallify as ARs\n"
     ]
    },
    {
     "name": "stderr",
     "output_type": "stream",
     "text": [
      "/work/aa0238/a271093/Scripts/MOAAP/src/Tracking_Functions.py:4588: RuntimeWarning: divide by zero encountered in scalar divide\n",
      "  if DIST.max() / DIST.min() < AR_width_lenght_ratio:\n"
     ]
    },
    {
     "name": "stdout",
     "output_type": "stream",
     "text": [
      "            Loop over 1599 objects\n",
      "        00:01:19.43\n",
      " \n",
      "Save the object masks into a joint netCDF\n",
      "Saved: /work/aa0238/a271093/results/MOAAP/IVT_Tracking/NorESM_ssp_remapped_3x/ObjectMasks_MOAPP_ICON_100and85NorESMsspperc_remapped_3x_2060_01_01-2060_08_01.nc\n",
      "        00:00:25.85\n",
      "clean up /work/aa0238/a271093/results/MOAAP/IVT_Tracking/NorESM_ssp_remapped_3x/IVT_MOAPP_ICON_100and85NorESMsspperc_remapped_3x_2060_01_01-2060_07_01.pkl\n",
      "clean up finished\n",
      "clean up /work/aa0238/a271093/results/MOAAP/IVT_Tracking/NorESM_ssp_remapped_3x/ARs_MOAPP_ICON_100and85NorESMsspperc_remapped_3x_2060_01_01-2060_07_01.pkl\n",
      "clean up finished\n",
      "correct nc-file with \n",
      " cdo -selmon,1,2,3,4,5,6 /work/aa0238/a271093/results/MOAAP/IVT_Tracking/NorESM_ssp_remapped_3x/ObjectMasks_MOAPP_ICON_100and85NorESMsspperc_remapped_3x_2060_01_01-2060_08_01.nc /work/aa0238/a271093/results/MOAAP/IVT_Tracking/NorESM_ssp_remapped_3x/ObjectMasks_MOAPP_ICON_100and85NorESMsspperc_remapped_3x_2060_01_01-2060_07_01_corrected.nc\n",
      "\n",
      " \n",
      " \n",
      " \n",
      "\n",
      "2060-07-01 00:00:00 2061-02-01 00:00:00\n",
      "Mergetime /work/aa0238/a271093/data/Jan_runs/ICON_NorESM_ssp/NorESM_ssp_remapped_3x/IVTu/IVTu_2060010100-2060123123_remapped_3x.nc /work/aa0238/a271093/data/Jan_runs/ICON_NorESM_ssp/NorESM_ssp_remapped_3x/IVTu/IVTu_2061010100-2061123123_remapped_3x.nc  /work/aa0238/a271093/scratch/mergedIVTu_2060_2061_remapped_3x.nc\n",
      "Mergetime /work/aa0238/a271093/data/Jan_runs/ICON_NorESM_ssp/NorESM_ssp_remapped_3x/IVTv/IVTv_2060010100-2060123123_remapped_3x.nc /work/aa0238/a271093/data/Jan_runs/ICON_NorESM_ssp/NorESM_ssp_remapped_3x/IVTv/IVTv_2061010100-2061123123_remapped_3x.nc  /work/aa0238/a271093/scratch/mergedIVTv_2060_2061_remapped_3x.nc\n",
      " \n",
      "The provided variables allow tracking the following phenomena\n",
      " \n",
      "|  phenomenon  | tracking |\n",
      "---------------------------\n",
      "   Jetstream   |   no\n",
      "   PSL CY/ACY  |   no\n",
      "   Z500 CY/ACY |   no\n",
      "   COLs        |   no\n",
      "   IVT ARs     |   yes\n",
      "   MS ARs      |   no\n",
      "   Fronts      |   no\n",
      "   TCs         |   no\n",
      "   MCSs        |   no\n",
      "   Equ. Waves  |   no\n",
      "---------------------------\n",
      " \n",
      "======> track IVT streams and atmospheric rivers (ARs)\n",
      "        3170 object found\n",
      "        break up long living IVT objects that have many elements\n"
     ]
    },
    {
     "name": "stderr",
     "output_type": "stream",
     "text": [
      "100%|██████████| 585/585 [00:24<00:00, 23.57it/s]\n"
     ]
    },
    {
     "name": "stdout",
     "output_type": "stream",
     "text": [
      "        00:00:30.89\n",
      "9\n",
      "            Loop over 1494 objects\n",
      "        check if MSs quallify as ARs\n"
     ]
    },
    {
     "name": "stderr",
     "output_type": "stream",
     "text": [
      "/work/aa0238/a271093/Scripts/MOAAP/src/Tracking_Functions.py:4588: RuntimeWarning: divide by zero encountered in scalar divide\n",
      "  if DIST.max() / DIST.min() < AR_width_lenght_ratio:\n"
     ]
    },
    {
     "name": "stdout",
     "output_type": "stream",
     "text": [
      "            Loop over 1492 objects\n"
     ]
    },
    {
     "name": "stderr",
     "output_type": "stream",
     "text": [
      "/work/aa0238/a271093/Scripts/MOAAP/src/Tracking_Functions.py:250: RuntimeWarning: All-NaN slice encountered\n",
      "  obj_min = np.nanmin(data_slice, axis=(1, 2))\n",
      "/work/aa0238/a271093/Scripts/MOAAP/src/Tracking_Functions.py:251: RuntimeWarning: All-NaN slice encountered\n",
      "  obj_max = np.nanmax(data_slice, axis=(1, 2))\n",
      "/work/aa0238/a271093/Scripts/MOAAP/src/Tracking_Functions.py:252: RuntimeWarning: Mean of empty slice\n",
      "  obj_mean = np.nanmean(data_slice, axis=(1, 2))\n",
      "/work/aa0238/a271093/Conda/MOAAP_env/lib/python3.12/site-packages/scipy/ndimage/_measurements.py:1541: RuntimeWarning: invalid value encountered in scalar divide\n",
      "  results = [sum(input * grids[dir].astype(float), labels, index) / normalizer\n"
     ]
    },
    {
     "name": "stdout",
     "output_type": "stream",
     "text": [
      "        00:01:17.25\n",
      " \n",
      "Save the object masks into a joint netCDF\n",
      "Saved: /work/aa0238/a271093/results/MOAAP/IVT_Tracking/NorESM_ssp_remapped_3x/ObjectMasks_MOAPP_ICON_100and85NorESMsspperc_remapped_3x_2060_07_01-2061_02_01.nc\n",
      "        00:00:24.54\n",
      "clean up /work/aa0238/a271093/results/MOAAP/IVT_Tracking/NorESM_ssp_remapped_3x/IVT_MOAPP_ICON_100and85NorESMsspperc_remapped_3x_2060_07_01-2061_01_01.pkl\n",
      "clean up finished\n",
      "clean up /work/aa0238/a271093/results/MOAAP/IVT_Tracking/NorESM_ssp_remapped_3x/ARs_MOAPP_ICON_100and85NorESMsspperc_remapped_3x_2060_07_01-2061_01_01.pkl\n",
      "clean up finished\n",
      "correct nc-file with \n",
      " cdo -selmon,6,7,8,9,10,11,12 /work/aa0238/a271093/results/MOAAP/IVT_Tracking/NorESM_ssp_remapped_3x/ObjectMasks_MOAPP_ICON_100and85NorESMsspperc_remapped_3x_2060_07_01-2061_02_01.nc /work/aa0238/a271093/results/MOAAP/IVT_Tracking/NorESM_ssp_remapped_3x/ObjectMasks_MOAPP_ICON_100and85NorESMsspperc_remapped_3x_2060_07_01-2061_01_01_corrected.nc\n",
      "\n",
      " \n",
      " \n",
      " \n",
      "\n",
      "2061-01-01 00:00:00 2061-08-01 00:00:00\n",
      " \n",
      "The provided variables allow tracking the following phenomena\n",
      " \n",
      "|  phenomenon  | tracking |\n",
      "---------------------------\n",
      "   Jetstream   |   no\n",
      "   PSL CY/ACY  |   no\n",
      "   Z500 CY/ACY |   no\n",
      "   COLs        |   no\n",
      "   IVT ARs     |   yes\n",
      "   MS ARs      |   no\n",
      "   Fronts      |   no\n",
      "   TCs         |   no\n",
      "   MCSs        |   no\n",
      "   Equ. Waves  |   no\n",
      "---------------------------\n",
      " \n",
      "======> track IVT streams and atmospheric rivers (ARs)\n",
      "        3273 object found\n",
      "        break up long living IVT objects that have many elements\n"
     ]
    },
    {
     "name": "stderr",
     "output_type": "stream",
     "text": [
      "100%|██████████| 579/579 [00:23<00:00, 24.68it/s]\n"
     ]
    },
    {
     "name": "stdout",
     "output_type": "stream",
     "text": [
      "        00:00:29.80\n",
      "9\n",
      "            Loop over 1598 objects\n"
     ]
    },
    {
     "name": "stderr",
     "output_type": "stream",
     "text": [
      "/work/aa0238/a271093/Scripts/MOAAP/src/Tracking_Functions.py:250: RuntimeWarning: All-NaN slice encountered\n",
      "  obj_min = np.nanmin(data_slice, axis=(1, 2))\n",
      "/work/aa0238/a271093/Scripts/MOAAP/src/Tracking_Functions.py:251: RuntimeWarning: All-NaN slice encountered\n",
      "  obj_max = np.nanmax(data_slice, axis=(1, 2))\n",
      "/work/aa0238/a271093/Scripts/MOAAP/src/Tracking_Functions.py:252: RuntimeWarning: Mean of empty slice\n",
      "  obj_mean = np.nanmean(data_slice, axis=(1, 2))\n",
      "/work/aa0238/a271093/Conda/MOAAP_env/lib/python3.12/site-packages/scipy/ndimage/_measurements.py:1541: RuntimeWarning: invalid value encountered in scalar divide\n",
      "  results = [sum(input * grids[dir].astype(float), labels, index) / normalizer\n"
     ]
    },
    {
     "name": "stdout",
     "output_type": "stream",
     "text": [
      "        check if MSs quallify as ARs\n"
     ]
    },
    {
     "name": "stderr",
     "output_type": "stream",
     "text": [
      "/work/aa0238/a271093/Scripts/MOAAP/src/Tracking_Functions.py:4588: RuntimeWarning: divide by zero encountered in scalar divide\n",
      "  if DIST.max() / DIST.min() < AR_width_lenght_ratio:\n"
     ]
    },
    {
     "name": "stdout",
     "output_type": "stream",
     "text": [
      "            Loop over 1597 objects\n",
      "        00:01:27.96\n",
      " \n",
      "Save the object masks into a joint netCDF\n",
      "Saved: /work/aa0238/a271093/results/MOAAP/IVT_Tracking/NorESM_ssp_remapped_3x/ObjectMasks_MOAPP_ICON_100and85NorESMsspperc_remapped_3x_2061_01_01-2061_08_01.nc\n",
      "        00:00:24.20\n",
      "clean up /work/aa0238/a271093/results/MOAAP/IVT_Tracking/NorESM_ssp_remapped_3x/IVT_MOAPP_ICON_100and85NorESMsspperc_remapped_3x_2061_01_01-2061_07_01.pkl\n",
      "clean up finished\n",
      "clean up /work/aa0238/a271093/results/MOAAP/IVT_Tracking/NorESM_ssp_remapped_3x/ARs_MOAPP_ICON_100and85NorESMsspperc_remapped_3x_2061_01_01-2061_07_01.pkl\n",
      "clean up finished\n",
      "correct nc-file with \n",
      " cdo -selmon,1,2,3,4,5,6 /work/aa0238/a271093/results/MOAAP/IVT_Tracking/NorESM_ssp_remapped_3x/ObjectMasks_MOAPP_ICON_100and85NorESMsspperc_remapped_3x_2061_01_01-2061_08_01.nc /work/aa0238/a271093/results/MOAAP/IVT_Tracking/NorESM_ssp_remapped_3x/ObjectMasks_MOAPP_ICON_100and85NorESMsspperc_remapped_3x_2061_01_01-2061_07_01_corrected.nc\n",
      "\n",
      " \n",
      " \n",
      " \n",
      "\n",
      "2061-07-01 00:00:00 2062-02-01 00:00:00\n",
      "Mergetime /work/aa0238/a271093/data/Jan_runs/ICON_NorESM_ssp/NorESM_ssp_remapped_3x/IVTu/IVTu_2061010100-2061123123_remapped_3x.nc /work/aa0238/a271093/data/Jan_runs/ICON_NorESM_ssp/NorESM_ssp_remapped_3x/IVTu/IVTu_2062010100-2062123123_remapped_3x.nc  /work/aa0238/a271093/scratch/mergedIVTu_2061_2062_remapped_3x.nc\n",
      "Mergetime /work/aa0238/a271093/data/Jan_runs/ICON_NorESM_ssp/NorESM_ssp_remapped_3x/IVTv/IVTv_2061010100-2061123123_remapped_3x.nc /work/aa0238/a271093/data/Jan_runs/ICON_NorESM_ssp/NorESM_ssp_remapped_3x/IVTv/IVTv_2062010100-2062123123_remapped_3x.nc  /work/aa0238/a271093/scratch/mergedIVTv_2061_2062_remapped_3x.nc\n",
      " \n",
      "The provided variables allow tracking the following phenomena\n",
      " \n",
      "|  phenomenon  | tracking |\n",
      "---------------------------\n",
      "   Jetstream   |   no\n",
      "   PSL CY/ACY  |   no\n",
      "   Z500 CY/ACY |   no\n",
      "   COLs        |   no\n",
      "   IVT ARs     |   yes\n",
      "   MS ARs      |   no\n",
      "   Fronts      |   no\n",
      "   TCs         |   no\n",
      "   MCSs        |   no\n",
      "   Equ. Waves  |   no\n",
      "---------------------------\n",
      " \n",
      "======> track IVT streams and atmospheric rivers (ARs)\n",
      "        3281 object found\n",
      "        break up long living IVT objects that have many elements\n"
     ]
    },
    {
     "name": "stderr",
     "output_type": "stream",
     "text": [
      "100%|██████████| 581/581 [00:26<00:00, 22.24it/s]\n"
     ]
    },
    {
     "name": "stdout",
     "output_type": "stream",
     "text": [
      "        00:00:32.37\n",
      "9\n",
      "            Loop over 1478 objects\n"
     ]
    },
    {
     "name": "stderr",
     "output_type": "stream",
     "text": [
      "/work/aa0238/a271093/Scripts/MOAAP/src/Tracking_Functions.py:250: RuntimeWarning: All-NaN slice encountered\n",
      "  obj_min = np.nanmin(data_slice, axis=(1, 2))\n",
      "/work/aa0238/a271093/Scripts/MOAAP/src/Tracking_Functions.py:251: RuntimeWarning: All-NaN slice encountered\n",
      "  obj_max = np.nanmax(data_slice, axis=(1, 2))\n",
      "/work/aa0238/a271093/Scripts/MOAAP/src/Tracking_Functions.py:252: RuntimeWarning: Mean of empty slice\n",
      "  obj_mean = np.nanmean(data_slice, axis=(1, 2))\n",
      "/work/aa0238/a271093/Conda/MOAAP_env/lib/python3.12/site-packages/scipy/ndimage/_measurements.py:1541: RuntimeWarning: invalid value encountered in scalar divide\n",
      "  results = [sum(input * grids[dir].astype(float), labels, index) / normalizer\n"
     ]
    },
    {
     "name": "stdout",
     "output_type": "stream",
     "text": [
      "        check if MSs quallify as ARs\n"
     ]
    },
    {
     "name": "stderr",
     "output_type": "stream",
     "text": [
      "/work/aa0238/a271093/Scripts/MOAAP/src/Tracking_Functions.py:4588: RuntimeWarning: divide by zero encountered in scalar divide\n",
      "  if DIST.max() / DIST.min() < AR_width_lenght_ratio:\n"
     ]
    },
    {
     "name": "stdout",
     "output_type": "stream",
     "text": [
      "            Loop over 1475 objects\n",
      "        00:01:18.30\n",
      " \n",
      "Save the object masks into a joint netCDF\n",
      "Saved: /work/aa0238/a271093/results/MOAAP/IVT_Tracking/NorESM_ssp_remapped_3x/ObjectMasks_MOAPP_ICON_100and85NorESMsspperc_remapped_3x_2061_07_01-2062_02_01.nc\n",
      "        00:00:24.37\n",
      "clean up /work/aa0238/a271093/results/MOAAP/IVT_Tracking/NorESM_ssp_remapped_3x/IVT_MOAPP_ICON_100and85NorESMsspperc_remapped_3x_2061_07_01-2062_01_01.pkl\n",
      "clean up finished\n",
      "clean up /work/aa0238/a271093/results/MOAAP/IVT_Tracking/NorESM_ssp_remapped_3x/ARs_MOAPP_ICON_100and85NorESMsspperc_remapped_3x_2061_07_01-2062_01_01.pkl\n",
      "clean up finished\n",
      "correct nc-file with \n",
      " cdo -selmon,6,7,8,9,10,11,12 /work/aa0238/a271093/results/MOAAP/IVT_Tracking/NorESM_ssp_remapped_3x/ObjectMasks_MOAPP_ICON_100and85NorESMsspperc_remapped_3x_2061_07_01-2062_02_01.nc /work/aa0238/a271093/results/MOAAP/IVT_Tracking/NorESM_ssp_remapped_3x/ObjectMasks_MOAPP_ICON_100and85NorESMsspperc_remapped_3x_2061_07_01-2062_01_01_corrected.nc\n",
      "\n",
      " \n",
      " \n",
      " \n",
      "\n",
      "2062-01-01 00:00:00 2062-08-01 00:00:00\n",
      " \n",
      "The provided variables allow tracking the following phenomena\n",
      " \n",
      "|  phenomenon  | tracking |\n",
      "---------------------------\n",
      "   Jetstream   |   no\n",
      "   PSL CY/ACY  |   no\n",
      "   Z500 CY/ACY |   no\n",
      "   COLs        |   no\n",
      "   IVT ARs     |   yes\n",
      "   MS ARs      |   no\n",
      "   Fronts      |   no\n",
      "   TCs         |   no\n",
      "   MCSs        |   no\n",
      "   Equ. Waves  |   no\n",
      "---------------------------\n",
      " \n",
      "======> track IVT streams and atmospheric rivers (ARs)\n",
      "        3533 object found\n",
      "        break up long living IVT objects that have many elements\n"
     ]
    },
    {
     "name": "stderr",
     "output_type": "stream",
     "text": [
      "100%|██████████| 664/664 [00:25<00:00, 25.95it/s]\n"
     ]
    },
    {
     "name": "stdout",
     "output_type": "stream",
     "text": [
      "        00:00:32.41\n",
      "9\n",
      "            Loop over 1931 objects\n"
     ]
    },
    {
     "name": "stderr",
     "output_type": "stream",
     "text": [
      "/work/aa0238/a271093/Scripts/MOAAP/src/Tracking_Functions.py:250: RuntimeWarning: All-NaN slice encountered\n",
      "  obj_min = np.nanmin(data_slice, axis=(1, 2))\n",
      "/work/aa0238/a271093/Scripts/MOAAP/src/Tracking_Functions.py:251: RuntimeWarning: All-NaN slice encountered\n",
      "  obj_max = np.nanmax(data_slice, axis=(1, 2))\n",
      "/work/aa0238/a271093/Scripts/MOAAP/src/Tracking_Functions.py:252: RuntimeWarning: Mean of empty slice\n",
      "  obj_mean = np.nanmean(data_slice, axis=(1, 2))\n",
      "/work/aa0238/a271093/Conda/MOAAP_env/lib/python3.12/site-packages/scipy/ndimage/_measurements.py:1541: RuntimeWarning: invalid value encountered in scalar divide\n",
      "  results = [sum(input * grids[dir].astype(float), labels, index) / normalizer\n"
     ]
    },
    {
     "name": "stdout",
     "output_type": "stream",
     "text": [
      "        check if MSs quallify as ARs\n"
     ]
    },
    {
     "name": "stderr",
     "output_type": "stream",
     "text": [
      "/work/aa0238/a271093/Scripts/MOAAP/src/Tracking_Functions.py:4588: RuntimeWarning: divide by zero encountered in scalar divide\n",
      "  if DIST.max() / DIST.min() < AR_width_lenght_ratio:\n"
     ]
    },
    {
     "name": "stdout",
     "output_type": "stream",
     "text": [
      "            Loop over 1929 objects\n",
      "        00:01:39.69\n",
      " \n",
      "Save the object masks into a joint netCDF\n",
      "Saved: /work/aa0238/a271093/results/MOAAP/IVT_Tracking/NorESM_ssp_remapped_3x/ObjectMasks_MOAPP_ICON_100and85NorESMsspperc_remapped_3x_2062_01_01-2062_08_01.nc\n",
      "        00:00:24.35\n",
      "clean up /work/aa0238/a271093/results/MOAAP/IVT_Tracking/NorESM_ssp_remapped_3x/IVT_MOAPP_ICON_100and85NorESMsspperc_remapped_3x_2062_01_01-2062_07_01.pkl\n",
      "clean up finished\n",
      "clean up /work/aa0238/a271093/results/MOAAP/IVT_Tracking/NorESM_ssp_remapped_3x/ARs_MOAPP_ICON_100and85NorESMsspperc_remapped_3x_2062_01_01-2062_07_01.pkl\n",
      "clean up finished\n",
      "correct nc-file with \n",
      " cdo -selmon,1,2,3,4,5,6 /work/aa0238/a271093/results/MOAAP/IVT_Tracking/NorESM_ssp_remapped_3x/ObjectMasks_MOAPP_ICON_100and85NorESMsspperc_remapped_3x_2062_01_01-2062_08_01.nc /work/aa0238/a271093/results/MOAAP/IVT_Tracking/NorESM_ssp_remapped_3x/ObjectMasks_MOAPP_ICON_100and85NorESMsspperc_remapped_3x_2062_01_01-2062_07_01_corrected.nc\n",
      "\n",
      " \n",
      " \n",
      " \n",
      "\n",
      "2062-07-01 00:00:00 2063-02-01 00:00:00\n",
      "Mergetime /work/aa0238/a271093/data/Jan_runs/ICON_NorESM_ssp/NorESM_ssp_remapped_3x/IVTu/IVTu_2062010100-2062123123_remapped_3x.nc /work/aa0238/a271093/data/Jan_runs/ICON_NorESM_ssp/NorESM_ssp_remapped_3x/IVTu/IVTu_2063010100-2063123123_remapped_3x.nc  /work/aa0238/a271093/scratch/mergedIVTu_2062_2063_remapped_3x.nc\n",
      "Mergetime /work/aa0238/a271093/data/Jan_runs/ICON_NorESM_ssp/NorESM_ssp_remapped_3x/IVTv/IVTv_2062010100-2062123123_remapped_3x.nc /work/aa0238/a271093/data/Jan_runs/ICON_NorESM_ssp/NorESM_ssp_remapped_3x/IVTv/IVTv_2063010100-2063123123_remapped_3x.nc  /work/aa0238/a271093/scratch/mergedIVTv_2062_2063_remapped_3x.nc\n",
      " \n",
      "The provided variables allow tracking the following phenomena\n",
      " \n",
      "|  phenomenon  | tracking |\n",
      "---------------------------\n",
      "   Jetstream   |   no\n",
      "   PSL CY/ACY  |   no\n",
      "   Z500 CY/ACY |   no\n",
      "   COLs        |   no\n",
      "   IVT ARs     |   yes\n",
      "   MS ARs      |   no\n",
      "   Fronts      |   no\n",
      "   TCs         |   no\n",
      "   MCSs        |   no\n",
      "   Equ. Waves  |   no\n",
      "---------------------------\n",
      " \n",
      "======> track IVT streams and atmospheric rivers (ARs)\n",
      "        3363 object found\n",
      "        break up long living IVT objects that have many elements\n"
     ]
    },
    {
     "name": "stderr",
     "output_type": "stream",
     "text": [
      "100%|██████████| 627/627 [00:24<00:00, 25.97it/s]\n"
     ]
    },
    {
     "name": "stdout",
     "output_type": "stream",
     "text": [
      "        00:00:30.29\n",
      "9\n",
      "            Loop over 1493 objects\n"
     ]
    },
    {
     "name": "stderr",
     "output_type": "stream",
     "text": [
      "/work/aa0238/a271093/Scripts/MOAAP/src/Tracking_Functions.py:250: RuntimeWarning: All-NaN slice encountered\n",
      "  obj_min = np.nanmin(data_slice, axis=(1, 2))\n",
      "/work/aa0238/a271093/Scripts/MOAAP/src/Tracking_Functions.py:251: RuntimeWarning: All-NaN slice encountered\n",
      "  obj_max = np.nanmax(data_slice, axis=(1, 2))\n",
      "/work/aa0238/a271093/Scripts/MOAAP/src/Tracking_Functions.py:252: RuntimeWarning: Mean of empty slice\n",
      "  obj_mean = np.nanmean(data_slice, axis=(1, 2))\n",
      "/work/aa0238/a271093/Conda/MOAAP_env/lib/python3.12/site-packages/scipy/ndimage/_measurements.py:1541: RuntimeWarning: invalid value encountered in scalar divide\n",
      "  results = [sum(input * grids[dir].astype(float), labels, index) / normalizer\n"
     ]
    },
    {
     "name": "stdout",
     "output_type": "stream",
     "text": [
      "        check if MSs quallify as ARs\n"
     ]
    },
    {
     "name": "stderr",
     "output_type": "stream",
     "text": [
      "/work/aa0238/a271093/Scripts/MOAAP/src/Tracking_Functions.py:4588: RuntimeWarning: divide by zero encountered in scalar divide\n",
      "  if DIST.max() / DIST.min() < AR_width_lenght_ratio:\n"
     ]
    },
    {
     "name": "stdout",
     "output_type": "stream",
     "text": [
      "            Loop over 1488 objects\n",
      "        00:01:13.91\n",
      " \n",
      "Save the object masks into a joint netCDF\n",
      "Saved: /work/aa0238/a271093/results/MOAAP/IVT_Tracking/NorESM_ssp_remapped_3x/ObjectMasks_MOAPP_ICON_100and85NorESMsspperc_remapped_3x_2062_07_01-2063_02_01.nc\n",
      "        00:00:24.65\n",
      "clean up /work/aa0238/a271093/results/MOAAP/IVT_Tracking/NorESM_ssp_remapped_3x/IVT_MOAPP_ICON_100and85NorESMsspperc_remapped_3x_2062_07_01-2063_01_01.pkl\n",
      "clean up finished\n",
      "clean up /work/aa0238/a271093/results/MOAAP/IVT_Tracking/NorESM_ssp_remapped_3x/ARs_MOAPP_ICON_100and85NorESMsspperc_remapped_3x_2062_07_01-2063_01_01.pkl\n",
      "clean up finished\n",
      "correct nc-file with \n",
      " cdo -selmon,6,7,8,9,10,11,12 /work/aa0238/a271093/results/MOAAP/IVT_Tracking/NorESM_ssp_remapped_3x/ObjectMasks_MOAPP_ICON_100and85NorESMsspperc_remapped_3x_2062_07_01-2063_02_01.nc /work/aa0238/a271093/results/MOAAP/IVT_Tracking/NorESM_ssp_remapped_3x/ObjectMasks_MOAPP_ICON_100and85NorESMsspperc_remapped_3x_2062_07_01-2063_01_01_corrected.nc\n",
      "\n",
      " \n",
      " \n",
      " \n",
      "\n",
      "2063-01-01 00:00:00 2063-08-01 00:00:00\n",
      " \n",
      "The provided variables allow tracking the following phenomena\n",
      " \n",
      "|  phenomenon  | tracking |\n",
      "---------------------------\n",
      "   Jetstream   |   no\n",
      "   PSL CY/ACY  |   no\n",
      "   Z500 CY/ACY |   no\n",
      "   COLs        |   no\n",
      "   IVT ARs     |   yes\n",
      "   MS ARs      |   no\n",
      "   Fronts      |   no\n",
      "   TCs         |   no\n",
      "   MCSs        |   no\n",
      "   Equ. Waves  |   no\n",
      "---------------------------\n",
      " \n",
      "======> track IVT streams and atmospheric rivers (ARs)\n",
      "        3435 object found\n",
      "        break up long living IVT objects that have many elements\n"
     ]
    },
    {
     "name": "stderr",
     "output_type": "stream",
     "text": [
      "100%|██████████| 547/547 [00:24<00:00, 22.16it/s]\n"
     ]
    },
    {
     "name": "stdout",
     "output_type": "stream",
     "text": [
      "        00:00:30.55\n",
      "9\n",
      "            Loop over 1622 objects\n"
     ]
    },
    {
     "name": "stderr",
     "output_type": "stream",
     "text": [
      "/work/aa0238/a271093/Scripts/MOAAP/src/Tracking_Functions.py:250: RuntimeWarning: All-NaN slice encountered\n",
      "  obj_min = np.nanmin(data_slice, axis=(1, 2))\n",
      "/work/aa0238/a271093/Scripts/MOAAP/src/Tracking_Functions.py:251: RuntimeWarning: All-NaN slice encountered\n",
      "  obj_max = np.nanmax(data_slice, axis=(1, 2))\n",
      "/work/aa0238/a271093/Scripts/MOAAP/src/Tracking_Functions.py:252: RuntimeWarning: Mean of empty slice\n",
      "  obj_mean = np.nanmean(data_slice, axis=(1, 2))\n",
      "/work/aa0238/a271093/Conda/MOAAP_env/lib/python3.12/site-packages/scipy/ndimage/_measurements.py:1541: RuntimeWarning: invalid value encountered in scalar divide\n",
      "  results = [sum(input * grids[dir].astype(float), labels, index) / normalizer\n"
     ]
    },
    {
     "name": "stdout",
     "output_type": "stream",
     "text": [
      "        check if MSs quallify as ARs\n"
     ]
    },
    {
     "name": "stderr",
     "output_type": "stream",
     "text": [
      "/work/aa0238/a271093/Scripts/MOAAP/src/Tracking_Functions.py:4588: RuntimeWarning: divide by zero encountered in scalar divide\n",
      "  if DIST.max() / DIST.min() < AR_width_lenght_ratio:\n"
     ]
    },
    {
     "name": "stdout",
     "output_type": "stream",
     "text": [
      "            Loop over 1622 objects\n",
      "        00:01:20.38\n",
      " \n",
      "Save the object masks into a joint netCDF\n",
      "Saved: /work/aa0238/a271093/results/MOAAP/IVT_Tracking/NorESM_ssp_remapped_3x/ObjectMasks_MOAPP_ICON_100and85NorESMsspperc_remapped_3x_2063_01_01-2063_08_01.nc\n",
      "        00:00:24.43\n",
      "clean up /work/aa0238/a271093/results/MOAAP/IVT_Tracking/NorESM_ssp_remapped_3x/IVT_MOAPP_ICON_100and85NorESMsspperc_remapped_3x_2063_01_01-2063_07_01.pkl\n",
      "clean up finished\n",
      "clean up /work/aa0238/a271093/results/MOAAP/IVT_Tracking/NorESM_ssp_remapped_3x/ARs_MOAPP_ICON_100and85NorESMsspperc_remapped_3x_2063_01_01-2063_07_01.pkl\n",
      "clean up finished\n",
      "correct nc-file with \n",
      " cdo -selmon,1,2,3,4,5,6 /work/aa0238/a271093/results/MOAAP/IVT_Tracking/NorESM_ssp_remapped_3x/ObjectMasks_MOAPP_ICON_100and85NorESMsspperc_remapped_3x_2063_01_01-2063_08_01.nc /work/aa0238/a271093/results/MOAAP/IVT_Tracking/NorESM_ssp_remapped_3x/ObjectMasks_MOAPP_ICON_100and85NorESMsspperc_remapped_3x_2063_01_01-2063_07_01_corrected.nc\n",
      "\n",
      " \n",
      " \n",
      " \n",
      "\n",
      "2063-07-01 00:00:00 2064-02-01 00:00:00\n",
      "Mergetime /work/aa0238/a271093/data/Jan_runs/ICON_NorESM_ssp/NorESM_ssp_remapped_3x/IVTu/IVTu_2063010100-2063123123_remapped_3x.nc /work/aa0238/a271093/data/Jan_runs/ICON_NorESM_ssp/NorESM_ssp_remapped_3x/IVTu/IVTu_2064010100-2064123123_remapped_3x.nc  /work/aa0238/a271093/scratch/mergedIVTu_2063_2064_remapped_3x.nc\n",
      "Mergetime /work/aa0238/a271093/data/Jan_runs/ICON_NorESM_ssp/NorESM_ssp_remapped_3x/IVTv/IVTv_2063010100-2063123123_remapped_3x.nc /work/aa0238/a271093/data/Jan_runs/ICON_NorESM_ssp/NorESM_ssp_remapped_3x/IVTv/IVTv_2064010100-2064123123_remapped_3x.nc  /work/aa0238/a271093/scratch/mergedIVTv_2063_2064_remapped_3x.nc\n",
      " \n",
      "The provided variables allow tracking the following phenomena\n",
      " \n",
      "|  phenomenon  | tracking |\n",
      "---------------------------\n",
      "   Jetstream   |   no\n",
      "   PSL CY/ACY  |   no\n",
      "   Z500 CY/ACY |   no\n",
      "   COLs        |   no\n",
      "   IVT ARs     |   yes\n",
      "   MS ARs      |   no\n",
      "   Fronts      |   no\n",
      "   TCs         |   no\n",
      "   MCSs        |   no\n",
      "   Equ. Waves  |   no\n",
      "---------------------------\n",
      " \n",
      "======> track IVT streams and atmospheric rivers (ARs)\n",
      "        3412 object found\n",
      "        break up long living IVT objects that have many elements\n"
     ]
    },
    {
     "name": "stderr",
     "output_type": "stream",
     "text": [
      "100%|██████████| 576/576 [00:25<00:00, 22.44it/s] \n"
     ]
    },
    {
     "name": "stdout",
     "output_type": "stream",
     "text": [
      "        00:00:31.81\n",
      "9\n",
      "            Loop over 1568 objects\n",
      "        check if MSs quallify as ARs\n"
     ]
    },
    {
     "name": "stderr",
     "output_type": "stream",
     "text": [
      "/work/aa0238/a271093/Scripts/MOAAP/src/Tracking_Functions.py:4588: RuntimeWarning: divide by zero encountered in scalar divide\n",
      "  if DIST.max() / DIST.min() < AR_width_lenght_ratio:\n"
     ]
    },
    {
     "name": "stdout",
     "output_type": "stream",
     "text": [
      "            Loop over 1568 objects\n"
     ]
    },
    {
     "name": "stderr",
     "output_type": "stream",
     "text": [
      "/work/aa0238/a271093/Scripts/MOAAP/src/Tracking_Functions.py:250: RuntimeWarning: All-NaN slice encountered\n",
      "  obj_min = np.nanmin(data_slice, axis=(1, 2))\n",
      "/work/aa0238/a271093/Scripts/MOAAP/src/Tracking_Functions.py:251: RuntimeWarning: All-NaN slice encountered\n",
      "  obj_max = np.nanmax(data_slice, axis=(1, 2))\n",
      "/work/aa0238/a271093/Scripts/MOAAP/src/Tracking_Functions.py:252: RuntimeWarning: Mean of empty slice\n",
      "  obj_mean = np.nanmean(data_slice, axis=(1, 2))\n",
      "/work/aa0238/a271093/Conda/MOAAP_env/lib/python3.12/site-packages/scipy/ndimage/_measurements.py:1541: RuntimeWarning: invalid value encountered in scalar divide\n",
      "  results = [sum(input * grids[dir].astype(float), labels, index) / normalizer\n"
     ]
    },
    {
     "name": "stdout",
     "output_type": "stream",
     "text": [
      "        00:01:19.03\n",
      " \n",
      "Save the object masks into a joint netCDF\n",
      "Saved: /work/aa0238/a271093/results/MOAAP/IVT_Tracking/NorESM_ssp_remapped_3x/ObjectMasks_MOAPP_ICON_100and85NorESMsspperc_remapped_3x_2063_07_01-2064_02_01.nc\n",
      "        00:00:24.69\n",
      "clean up /work/aa0238/a271093/results/MOAAP/IVT_Tracking/NorESM_ssp_remapped_3x/IVT_MOAPP_ICON_100and85NorESMsspperc_remapped_3x_2063_07_01-2064_01_01.pkl\n",
      "clean up finished\n",
      "clean up /work/aa0238/a271093/results/MOAAP/IVT_Tracking/NorESM_ssp_remapped_3x/ARs_MOAPP_ICON_100and85NorESMsspperc_remapped_3x_2063_07_01-2064_01_01.pkl\n",
      "clean up finished\n",
      "correct nc-file with \n",
      " cdo -selmon,6,7,8,9,10,11,12 /work/aa0238/a271093/results/MOAAP/IVT_Tracking/NorESM_ssp_remapped_3x/ObjectMasks_MOAPP_ICON_100and85NorESMsspperc_remapped_3x_2063_07_01-2064_02_01.nc /work/aa0238/a271093/results/MOAAP/IVT_Tracking/NorESM_ssp_remapped_3x/ObjectMasks_MOAPP_ICON_100and85NorESMsspperc_remapped_3x_2063_07_01-2064_01_01_corrected.nc\n",
      "\n",
      " \n",
      " \n",
      " \n",
      "\n",
      "2064-01-01 00:00:00 2064-08-01 00:00:00\n",
      " \n",
      "The provided variables allow tracking the following phenomena\n",
      " \n",
      "|  phenomenon  | tracking |\n",
      "---------------------------\n",
      "   Jetstream   |   no\n",
      "   PSL CY/ACY  |   no\n",
      "   Z500 CY/ACY |   no\n",
      "   COLs        |   no\n",
      "   IVT ARs     |   yes\n",
      "   MS ARs      |   no\n",
      "   Fronts      |   no\n",
      "   TCs         |   no\n",
      "   MCSs        |   no\n",
      "   Equ. Waves  |   no\n",
      "---------------------------\n",
      " \n",
      "======> track IVT streams and atmospheric rivers (ARs)\n",
      "        3425 object found\n",
      "        break up long living IVT objects that have many elements\n"
     ]
    },
    {
     "name": "stderr",
     "output_type": "stream",
     "text": [
      "100%|██████████| 619/619 [00:25<00:00, 24.67it/s] \n"
     ]
    },
    {
     "name": "stdout",
     "output_type": "stream",
     "text": [
      "        00:00:30.99\n",
      "9\n",
      "            Loop over 1680 objects\n"
     ]
    },
    {
     "name": "stderr",
     "output_type": "stream",
     "text": [
      "/work/aa0238/a271093/Scripts/MOAAP/src/Tracking_Functions.py:250: RuntimeWarning: All-NaN slice encountered\n",
      "  obj_min = np.nanmin(data_slice, axis=(1, 2))\n",
      "/work/aa0238/a271093/Scripts/MOAAP/src/Tracking_Functions.py:251: RuntimeWarning: All-NaN slice encountered\n",
      "  obj_max = np.nanmax(data_slice, axis=(1, 2))\n",
      "/work/aa0238/a271093/Scripts/MOAAP/src/Tracking_Functions.py:252: RuntimeWarning: Mean of empty slice\n",
      "  obj_mean = np.nanmean(data_slice, axis=(1, 2))\n",
      "/work/aa0238/a271093/Conda/MOAAP_env/lib/python3.12/site-packages/scipy/ndimage/_measurements.py:1541: RuntimeWarning: invalid value encountered in scalar divide\n",
      "  results = [sum(input * grids[dir].astype(float), labels, index) / normalizer\n"
     ]
    },
    {
     "name": "stdout",
     "output_type": "stream",
     "text": [
      "        check if MSs quallify as ARs\n"
     ]
    },
    {
     "name": "stderr",
     "output_type": "stream",
     "text": [
      "/work/aa0238/a271093/Scripts/MOAAP/src/Tracking_Functions.py:4588: RuntimeWarning: divide by zero encountered in scalar divide\n",
      "  if DIST.max() / DIST.min() < AR_width_lenght_ratio:\n"
     ]
    },
    {
     "name": "stdout",
     "output_type": "stream",
     "text": [
      "            Loop over 1678 objects\n",
      "        00:01:21.84\n",
      " \n",
      "Save the object masks into a joint netCDF\n",
      "Saved: /work/aa0238/a271093/results/MOAAP/IVT_Tracking/NorESM_ssp_remapped_3x/ObjectMasks_MOAPP_ICON_100and85NorESMsspperc_remapped_3x_2064_01_01-2064_08_01.nc\n",
      "        00:00:24.34\n",
      "clean up /work/aa0238/a271093/results/MOAAP/IVT_Tracking/NorESM_ssp_remapped_3x/IVT_MOAPP_ICON_100and85NorESMsspperc_remapped_3x_2064_01_01-2064_07_01.pkl\n",
      "clean up finished\n",
      "clean up /work/aa0238/a271093/results/MOAAP/IVT_Tracking/NorESM_ssp_remapped_3x/ARs_MOAPP_ICON_100and85NorESMsspperc_remapped_3x_2064_01_01-2064_07_01.pkl\n",
      "clean up finished\n",
      "correct nc-file with \n",
      " cdo -selmon,1,2,3,4,5,6 /work/aa0238/a271093/results/MOAAP/IVT_Tracking/NorESM_ssp_remapped_3x/ObjectMasks_MOAPP_ICON_100and85NorESMsspperc_remapped_3x_2064_01_01-2064_08_01.nc /work/aa0238/a271093/results/MOAAP/IVT_Tracking/NorESM_ssp_remapped_3x/ObjectMasks_MOAPP_ICON_100and85NorESMsspperc_remapped_3x_2064_01_01-2064_07_01_corrected.nc\n",
      "\n",
      " \n",
      " \n",
      " \n",
      "\n",
      "2064-07-01 00:00:00 2065-02-01 00:00:00\n",
      "Mergetime /work/aa0238/a271093/data/Jan_runs/ICON_NorESM_ssp/NorESM_ssp_remapped_3x/IVTu/IVTu_2064010100-2064123123_remapped_3x.nc /work/aa0238/a271093/data/Jan_runs/ICON_NorESM_ssp/NorESM_ssp_remapped_3x/IVTu/IVTu_2065010100-2065123123_remapped_3x.nc  /work/aa0238/a271093/scratch/mergedIVTu_2064_2065_remapped_3x.nc\n",
      "Mergetime /work/aa0238/a271093/data/Jan_runs/ICON_NorESM_ssp/NorESM_ssp_remapped_3x/IVTv/IVTv_2064010100-2064123123_remapped_3x.nc /work/aa0238/a271093/data/Jan_runs/ICON_NorESM_ssp/NorESM_ssp_remapped_3x/IVTv/IVTv_2065010100-2065123123_remapped_3x.nc  /work/aa0238/a271093/scratch/mergedIVTv_2064_2065_remapped_3x.nc\n",
      " \n",
      "The provided variables allow tracking the following phenomena\n",
      " \n",
      "|  phenomenon  | tracking |\n",
      "---------------------------\n",
      "   Jetstream   |   no\n",
      "   PSL CY/ACY  |   no\n",
      "   Z500 CY/ACY |   no\n",
      "   COLs        |   no\n",
      "   IVT ARs     |   yes\n",
      "   MS ARs      |   no\n",
      "   Fronts      |   no\n",
      "   TCs         |   no\n",
      "   MCSs        |   no\n",
      "   Equ. Waves  |   no\n",
      "---------------------------\n",
      " \n",
      "======> track IVT streams and atmospheric rivers (ARs)\n",
      "        3423 object found\n",
      "        break up long living IVT objects that have many elements\n"
     ]
    },
    {
     "name": "stderr",
     "output_type": "stream",
     "text": [
      "100%|██████████| 588/588 [00:24<00:00, 23.72it/s]\n"
     ]
    },
    {
     "name": "stdout",
     "output_type": "stream",
     "text": [
      "        00:00:31.04\n",
      "9\n",
      "            Loop over 1562 objects\n"
     ]
    },
    {
     "name": "stderr",
     "output_type": "stream",
     "text": [
      "/work/aa0238/a271093/Scripts/MOAAP/src/Tracking_Functions.py:250: RuntimeWarning: All-NaN slice encountered\n",
      "  obj_min = np.nanmin(data_slice, axis=(1, 2))\n",
      "/work/aa0238/a271093/Scripts/MOAAP/src/Tracking_Functions.py:251: RuntimeWarning: All-NaN slice encountered\n",
      "  obj_max = np.nanmax(data_slice, axis=(1, 2))\n",
      "/work/aa0238/a271093/Scripts/MOAAP/src/Tracking_Functions.py:252: RuntimeWarning: Mean of empty slice\n",
      "  obj_mean = np.nanmean(data_slice, axis=(1, 2))\n",
      "/work/aa0238/a271093/Conda/MOAAP_env/lib/python3.12/site-packages/scipy/ndimage/_measurements.py:1541: RuntimeWarning: invalid value encountered in scalar divide\n",
      "  results = [sum(input * grids[dir].astype(float), labels, index) / normalizer\n"
     ]
    },
    {
     "name": "stdout",
     "output_type": "stream",
     "text": [
      "        check if MSs quallify as ARs\n"
     ]
    },
    {
     "name": "stderr",
     "output_type": "stream",
     "text": [
      "/work/aa0238/a271093/Scripts/MOAAP/src/Tracking_Functions.py:4588: RuntimeWarning: divide by zero encountered in scalar divide\n",
      "  if DIST.max() / DIST.min() < AR_width_lenght_ratio:\n"
     ]
    },
    {
     "name": "stdout",
     "output_type": "stream",
     "text": [
      "            Loop over 1561 objects\n",
      "        00:01:18.19\n",
      " \n",
      "Save the object masks into a joint netCDF\n",
      "Saved: /work/aa0238/a271093/results/MOAAP/IVT_Tracking/NorESM_ssp_remapped_3x/ObjectMasks_MOAPP_ICON_100and85NorESMsspperc_remapped_3x_2064_07_01-2065_02_01.nc\n",
      "        00:00:25.03\n",
      "clean up /work/aa0238/a271093/results/MOAAP/IVT_Tracking/NorESM_ssp_remapped_3x/IVT_MOAPP_ICON_100and85NorESMsspperc_remapped_3x_2064_07_01-2065_01_01.pkl\n",
      "clean up finished\n",
      "clean up /work/aa0238/a271093/results/MOAAP/IVT_Tracking/NorESM_ssp_remapped_3x/ARs_MOAPP_ICON_100and85NorESMsspperc_remapped_3x_2064_07_01-2065_01_01.pkl\n",
      "clean up finished\n",
      "correct nc-file with \n",
      " cdo -selmon,6,7,8,9,10,11,12 /work/aa0238/a271093/results/MOAAP/IVT_Tracking/NorESM_ssp_remapped_3x/ObjectMasks_MOAPP_ICON_100and85NorESMsspperc_remapped_3x_2064_07_01-2065_02_01.nc /work/aa0238/a271093/results/MOAAP/IVT_Tracking/NorESM_ssp_remapped_3x/ObjectMasks_MOAPP_ICON_100and85NorESMsspperc_remapped_3x_2064_07_01-2065_01_01_corrected.nc\n",
      "\n",
      " \n",
      " \n",
      " \n",
      "\n",
      "2065-01-01 00:00:00 2065-08-01 00:00:00\n",
      " \n",
      "The provided variables allow tracking the following phenomena\n",
      " \n",
      "|  phenomenon  | tracking |\n",
      "---------------------------\n",
      "   Jetstream   |   no\n",
      "   PSL CY/ACY  |   no\n",
      "   Z500 CY/ACY |   no\n",
      "   COLs        |   no\n",
      "   IVT ARs     |   yes\n",
      "   MS ARs      |   no\n",
      "   Fronts      |   no\n",
      "   TCs         |   no\n",
      "   MCSs        |   no\n",
      "   Equ. Waves  |   no\n",
      "---------------------------\n",
      " \n",
      "======> track IVT streams and atmospheric rivers (ARs)\n",
      "        3448 object found\n",
      "        break up long living IVT objects that have many elements\n"
     ]
    },
    {
     "name": "stderr",
     "output_type": "stream",
     "text": [
      "100%|██████████| 656/656 [00:26<00:00, 25.13it/s] \n"
     ]
    },
    {
     "name": "stdout",
     "output_type": "stream",
     "text": [
      "        00:00:31.98\n",
      "9\n",
      "            Loop over 1670 objects\n"
     ]
    },
    {
     "name": "stderr",
     "output_type": "stream",
     "text": [
      "/work/aa0238/a271093/Scripts/MOAAP/src/Tracking_Functions.py:250: RuntimeWarning: All-NaN slice encountered\n",
      "  obj_min = np.nanmin(data_slice, axis=(1, 2))\n",
      "/work/aa0238/a271093/Scripts/MOAAP/src/Tracking_Functions.py:251: RuntimeWarning: All-NaN slice encountered\n",
      "  obj_max = np.nanmax(data_slice, axis=(1, 2))\n",
      "/work/aa0238/a271093/Scripts/MOAAP/src/Tracking_Functions.py:252: RuntimeWarning: Mean of empty slice\n",
      "  obj_mean = np.nanmean(data_slice, axis=(1, 2))\n",
      "/work/aa0238/a271093/Conda/MOAAP_env/lib/python3.12/site-packages/scipy/ndimage/_measurements.py:1541: RuntimeWarning: invalid value encountered in scalar divide\n",
      "  results = [sum(input * grids[dir].astype(float), labels, index) / normalizer\n"
     ]
    },
    {
     "name": "stdout",
     "output_type": "stream",
     "text": [
      "        check if MSs quallify as ARs\n"
     ]
    },
    {
     "name": "stderr",
     "output_type": "stream",
     "text": [
      "/work/aa0238/a271093/Scripts/MOAAP/src/Tracking_Functions.py:4588: RuntimeWarning: divide by zero encountered in scalar divide\n",
      "  if DIST.max() / DIST.min() < AR_width_lenght_ratio:\n"
     ]
    },
    {
     "name": "stdout",
     "output_type": "stream",
     "text": [
      "            Loop over 1668 objects\n",
      "        00:01:22.92\n",
      " \n",
      "Save the object masks into a joint netCDF\n",
      "Saved: /work/aa0238/a271093/results/MOAAP/IVT_Tracking/NorESM_ssp_remapped_3x/ObjectMasks_MOAPP_ICON_100and85NorESMsspperc_remapped_3x_2065_01_01-2065_08_01.nc\n",
      "        00:00:26.41\n",
      "clean up /work/aa0238/a271093/results/MOAAP/IVT_Tracking/NorESM_ssp_remapped_3x/IVT_MOAPP_ICON_100and85NorESMsspperc_remapped_3x_2065_01_01-2065_07_01.pkl\n",
      "clean up finished\n",
      "clean up /work/aa0238/a271093/results/MOAAP/IVT_Tracking/NorESM_ssp_remapped_3x/ARs_MOAPP_ICON_100and85NorESMsspperc_remapped_3x_2065_01_01-2065_07_01.pkl\n",
      "clean up finished\n",
      "correct nc-file with \n",
      " cdo -selmon,1,2,3,4,5,6 /work/aa0238/a271093/results/MOAAP/IVT_Tracking/NorESM_ssp_remapped_3x/ObjectMasks_MOAPP_ICON_100and85NorESMsspperc_remapped_3x_2065_01_01-2065_08_01.nc /work/aa0238/a271093/results/MOAAP/IVT_Tracking/NorESM_ssp_remapped_3x/ObjectMasks_MOAPP_ICON_100and85NorESMsspperc_remapped_3x_2065_01_01-2065_07_01_corrected.nc\n",
      "\n",
      " \n",
      " \n",
      " \n",
      "\n",
      "2065-07-01 00:00:00 2066-02-01 00:00:00\n",
      "Mergetime /work/aa0238/a271093/data/Jan_runs/ICON_NorESM_ssp/NorESM_ssp_remapped_3x/IVTu/IVTu_2065010100-2065123123_remapped_3x.nc /work/aa0238/a271093/data/Jan_runs/ICON_NorESM_ssp/NorESM_ssp_remapped_3x/IVTu/IVTu_2066010100-2066123123_remapped_3x.nc  /work/aa0238/a271093/scratch/mergedIVTu_2065_2066_remapped_3x.nc\n",
      "Mergetime /work/aa0238/a271093/data/Jan_runs/ICON_NorESM_ssp/NorESM_ssp_remapped_3x/IVTv/IVTv_2065010100-2065123123_remapped_3x.nc /work/aa0238/a271093/data/Jan_runs/ICON_NorESM_ssp/NorESM_ssp_remapped_3x/IVTv/IVTv_2066010100-2066123123_remapped_3x.nc  /work/aa0238/a271093/scratch/mergedIVTv_2065_2066_remapped_3x.nc\n",
      " \n",
      "The provided variables allow tracking the following phenomena\n",
      " \n",
      "|  phenomenon  | tracking |\n",
      "---------------------------\n",
      "   Jetstream   |   no\n",
      "   PSL CY/ACY  |   no\n",
      "   Z500 CY/ACY |   no\n",
      "   COLs        |   no\n",
      "   IVT ARs     |   yes\n",
      "   MS ARs      |   no\n",
      "   Fronts      |   no\n",
      "   TCs         |   no\n",
      "   MCSs        |   no\n",
      "   Equ. Waves  |   no\n",
      "---------------------------\n",
      " \n",
      "======> track IVT streams and atmospheric rivers (ARs)\n",
      "        3377 object found\n",
      "        break up long living IVT objects that have many elements\n"
     ]
    },
    {
     "name": "stderr",
     "output_type": "stream",
     "text": [
      "100%|██████████| 603/603 [00:25<00:00, 23.45it/s]\n"
     ]
    },
    {
     "name": "stdout",
     "output_type": "stream",
     "text": [
      "        00:00:31.95\n",
      "9\n",
      "            Loop over 1614 objects\n",
      "        check if MSs quallify as ARs\n"
     ]
    },
    {
     "name": "stderr",
     "output_type": "stream",
     "text": [
      "/work/aa0238/a271093/Scripts/MOAAP/src/Tracking_Functions.py:4588: RuntimeWarning: divide by zero encountered in scalar divide\n",
      "  if DIST.max() / DIST.min() < AR_width_lenght_ratio:\n"
     ]
    },
    {
     "name": "stdout",
     "output_type": "stream",
     "text": [
      "            Loop over 1614 objects\n"
     ]
    },
    {
     "name": "stderr",
     "output_type": "stream",
     "text": [
      "/work/aa0238/a271093/Scripts/MOAAP/src/Tracking_Functions.py:250: RuntimeWarning: All-NaN slice encountered\n",
      "  obj_min = np.nanmin(data_slice, axis=(1, 2))\n",
      "/work/aa0238/a271093/Scripts/MOAAP/src/Tracking_Functions.py:251: RuntimeWarning: All-NaN slice encountered\n",
      "  obj_max = np.nanmax(data_slice, axis=(1, 2))\n",
      "/work/aa0238/a271093/Scripts/MOAAP/src/Tracking_Functions.py:252: RuntimeWarning: Mean of empty slice\n",
      "  obj_mean = np.nanmean(data_slice, axis=(1, 2))\n",
      "/work/aa0238/a271093/Conda/MOAAP_env/lib/python3.12/site-packages/scipy/ndimage/_measurements.py:1541: RuntimeWarning: invalid value encountered in scalar divide\n",
      "  results = [sum(input * grids[dir].astype(float), labels, index) / normalizer\n"
     ]
    },
    {
     "name": "stdout",
     "output_type": "stream",
     "text": [
      "        00:01:20.57\n",
      " \n",
      "Save the object masks into a joint netCDF\n",
      "Saved: /work/aa0238/a271093/results/MOAAP/IVT_Tracking/NorESM_ssp_remapped_3x/ObjectMasks_MOAPP_ICON_100and85NorESMsspperc_remapped_3x_2065_07_01-2066_02_01.nc\n",
      "        00:00:28.16\n",
      "clean up /work/aa0238/a271093/results/MOAAP/IVT_Tracking/NorESM_ssp_remapped_3x/IVT_MOAPP_ICON_100and85NorESMsspperc_remapped_3x_2065_07_01-2066_01_01.pkl\n",
      "clean up finished\n",
      "clean up /work/aa0238/a271093/results/MOAAP/IVT_Tracking/NorESM_ssp_remapped_3x/ARs_MOAPP_ICON_100and85NorESMsspperc_remapped_3x_2065_07_01-2066_01_01.pkl\n",
      "clean up finished\n",
      "correct nc-file with \n",
      " cdo -selmon,6,7,8,9,10,11,12 /work/aa0238/a271093/results/MOAAP/IVT_Tracking/NorESM_ssp_remapped_3x/ObjectMasks_MOAPP_ICON_100and85NorESMsspperc_remapped_3x_2065_07_01-2066_02_01.nc /work/aa0238/a271093/results/MOAAP/IVT_Tracking/NorESM_ssp_remapped_3x/ObjectMasks_MOAPP_ICON_100and85NorESMsspperc_remapped_3x_2065_07_01-2066_01_01_corrected.nc\n",
      "\n",
      " \n",
      " \n",
      " \n",
      "\n",
      "2066-01-01 00:00:00 2066-08-01 00:00:00\n",
      " \n",
      "The provided variables allow tracking the following phenomena\n",
      " \n",
      "|  phenomenon  | tracking |\n",
      "---------------------------\n",
      "   Jetstream   |   no\n",
      "   PSL CY/ACY  |   no\n",
      "   Z500 CY/ACY |   no\n",
      "   COLs        |   no\n",
      "   IVT ARs     |   yes\n",
      "   MS ARs      |   no\n",
      "   Fronts      |   no\n",
      "   TCs         |   no\n",
      "   MCSs        |   no\n",
      "   Equ. Waves  |   no\n",
      "---------------------------\n",
      " \n",
      "======> track IVT streams and atmospheric rivers (ARs)\n",
      "        3549 object found\n",
      "        break up long living IVT objects that have many elements\n"
     ]
    },
    {
     "name": "stderr",
     "output_type": "stream",
     "text": [
      "100%|██████████| 605/605 [00:26<00:00, 22.62it/s]\n"
     ]
    },
    {
     "name": "stdout",
     "output_type": "stream",
     "text": [
      "        00:00:32.89\n",
      "9\n",
      "            Loop over 1773 objects\n"
     ]
    },
    {
     "name": "stderr",
     "output_type": "stream",
     "text": [
      "/work/aa0238/a271093/Scripts/MOAAP/src/Tracking_Functions.py:250: RuntimeWarning: All-NaN slice encountered\n",
      "  obj_min = np.nanmin(data_slice, axis=(1, 2))\n",
      "/work/aa0238/a271093/Scripts/MOAAP/src/Tracking_Functions.py:251: RuntimeWarning: All-NaN slice encountered\n",
      "  obj_max = np.nanmax(data_slice, axis=(1, 2))\n",
      "/work/aa0238/a271093/Scripts/MOAAP/src/Tracking_Functions.py:252: RuntimeWarning: Mean of empty slice\n",
      "  obj_mean = np.nanmean(data_slice, axis=(1, 2))\n",
      "/work/aa0238/a271093/Conda/MOAAP_env/lib/python3.12/site-packages/scipy/ndimage/_measurements.py:1541: RuntimeWarning: invalid value encountered in scalar divide\n",
      "  results = [sum(input * grids[dir].astype(float), labels, index) / normalizer\n"
     ]
    },
    {
     "name": "stdout",
     "output_type": "stream",
     "text": [
      "        check if MSs quallify as ARs\n"
     ]
    },
    {
     "name": "stderr",
     "output_type": "stream",
     "text": [
      "/work/aa0238/a271093/Scripts/MOAAP/src/Tracking_Functions.py:4588: RuntimeWarning: divide by zero encountered in scalar divide\n",
      "  if DIST.max() / DIST.min() < AR_width_lenght_ratio:\n"
     ]
    },
    {
     "name": "stdout",
     "output_type": "stream",
     "text": [
      "            Loop over 1770 objects\n",
      "        00:01:24.70\n",
      " \n",
      "Save the object masks into a joint netCDF\n",
      "Saved: /work/aa0238/a271093/results/MOAAP/IVT_Tracking/NorESM_ssp_remapped_3x/ObjectMasks_MOAPP_ICON_100and85NorESMsspperc_remapped_3x_2066_01_01-2066_08_01.nc\n",
      "        00:00:24.36\n",
      "clean up /work/aa0238/a271093/results/MOAAP/IVT_Tracking/NorESM_ssp_remapped_3x/IVT_MOAPP_ICON_100and85NorESMsspperc_remapped_3x_2066_01_01-2066_07_01.pkl\n",
      "clean up finished\n",
      "clean up /work/aa0238/a271093/results/MOAAP/IVT_Tracking/NorESM_ssp_remapped_3x/ARs_MOAPP_ICON_100and85NorESMsspperc_remapped_3x_2066_01_01-2066_07_01.pkl\n",
      "clean up finished\n",
      "correct nc-file with \n",
      " cdo -selmon,1,2,3,4,5,6 /work/aa0238/a271093/results/MOAAP/IVT_Tracking/NorESM_ssp_remapped_3x/ObjectMasks_MOAPP_ICON_100and85NorESMsspperc_remapped_3x_2066_01_01-2066_08_01.nc /work/aa0238/a271093/results/MOAAP/IVT_Tracking/NorESM_ssp_remapped_3x/ObjectMasks_MOAPP_ICON_100and85NorESMsspperc_remapped_3x_2066_01_01-2066_07_01_corrected.nc\n",
      "\n",
      " \n",
      " \n",
      " \n",
      "\n",
      "2066-07-01 00:00:00 2067-02-01 00:00:00\n",
      "Mergetime /work/aa0238/a271093/data/Jan_runs/ICON_NorESM_ssp/NorESM_ssp_remapped_3x/IVTu/IVTu_2066010100-2066123123_remapped_3x.nc /work/aa0238/a271093/data/Jan_runs/ICON_NorESM_ssp/NorESM_ssp_remapped_3x/IVTu/IVTu_2067010100-2067123123_remapped_3x.nc  /work/aa0238/a271093/scratch/mergedIVTu_2066_2067_remapped_3x.nc\n",
      "Mergetime /work/aa0238/a271093/data/Jan_runs/ICON_NorESM_ssp/NorESM_ssp_remapped_3x/IVTv/IVTv_2066010100-2066123123_remapped_3x.nc /work/aa0238/a271093/data/Jan_runs/ICON_NorESM_ssp/NorESM_ssp_remapped_3x/IVTv/IVTv_2067010100-2067123123_remapped_3x.nc  /work/aa0238/a271093/scratch/mergedIVTv_2066_2067_remapped_3x.nc\n",
      " \n",
      "The provided variables allow tracking the following phenomena\n",
      " \n",
      "|  phenomenon  | tracking |\n",
      "---------------------------\n",
      "   Jetstream   |   no\n",
      "   PSL CY/ACY  |   no\n",
      "   Z500 CY/ACY |   no\n",
      "   COLs        |   no\n",
      "   IVT ARs     |   yes\n",
      "   MS ARs      |   no\n",
      "   Fronts      |   no\n",
      "   TCs         |   no\n",
      "   MCSs        |   no\n",
      "   Equ. Waves  |   no\n",
      "---------------------------\n",
      " \n",
      "======> track IVT streams and atmospheric rivers (ARs)\n",
      "        3576 object found\n",
      "        break up long living IVT objects that have many elements\n"
     ]
    },
    {
     "name": "stderr",
     "output_type": "stream",
     "text": [
      "100%|██████████| 608/608 [00:27<00:00, 22.46it/s]\n"
     ]
    },
    {
     "name": "stdout",
     "output_type": "stream",
     "text": [
      "        00:00:33.76\n",
      "9\n",
      "            Loop over 1716 objects\n"
     ]
    },
    {
     "name": "stderr",
     "output_type": "stream",
     "text": [
      "/work/aa0238/a271093/Scripts/MOAAP/src/Tracking_Functions.py:250: RuntimeWarning: All-NaN slice encountered\n",
      "  obj_min = np.nanmin(data_slice, axis=(1, 2))\n",
      "/work/aa0238/a271093/Scripts/MOAAP/src/Tracking_Functions.py:251: RuntimeWarning: All-NaN slice encountered\n",
      "  obj_max = np.nanmax(data_slice, axis=(1, 2))\n",
      "/work/aa0238/a271093/Scripts/MOAAP/src/Tracking_Functions.py:252: RuntimeWarning: Mean of empty slice\n",
      "  obj_mean = np.nanmean(data_slice, axis=(1, 2))\n",
      "/work/aa0238/a271093/Conda/MOAAP_env/lib/python3.12/site-packages/scipy/ndimage/_measurements.py:1541: RuntimeWarning: invalid value encountered in scalar divide\n",
      "  results = [sum(input * grids[dir].astype(float), labels, index) / normalizer\n"
     ]
    },
    {
     "name": "stdout",
     "output_type": "stream",
     "text": [
      "        check if MSs quallify as ARs\n"
     ]
    },
    {
     "name": "stderr",
     "output_type": "stream",
     "text": [
      "/work/aa0238/a271093/Scripts/MOAAP/src/Tracking_Functions.py:4588: RuntimeWarning: divide by zero encountered in scalar divide\n",
      "  if DIST.max() / DIST.min() < AR_width_lenght_ratio:\n"
     ]
    },
    {
     "name": "stdout",
     "output_type": "stream",
     "text": [
      "            Loop over 1712 objects\n",
      "        00:01:25.76\n",
      " \n",
      "Save the object masks into a joint netCDF\n",
      "Saved: /work/aa0238/a271093/results/MOAAP/IVT_Tracking/NorESM_ssp_remapped_3x/ObjectMasks_MOAPP_ICON_100and85NorESMsspperc_remapped_3x_2066_07_01-2067_02_01.nc\n",
      "        00:00:26.96\n",
      "clean up /work/aa0238/a271093/results/MOAAP/IVT_Tracking/NorESM_ssp_remapped_3x/IVT_MOAPP_ICON_100and85NorESMsspperc_remapped_3x_2066_07_01-2067_01_01.pkl\n",
      "clean up finished\n",
      "clean up /work/aa0238/a271093/results/MOAAP/IVT_Tracking/NorESM_ssp_remapped_3x/ARs_MOAPP_ICON_100and85NorESMsspperc_remapped_3x_2066_07_01-2067_01_01.pkl\n",
      "clean up finished\n",
      "correct nc-file with \n",
      " cdo -selmon,6,7,8,9,10,11,12 /work/aa0238/a271093/results/MOAAP/IVT_Tracking/NorESM_ssp_remapped_3x/ObjectMasks_MOAPP_ICON_100and85NorESMsspperc_remapped_3x_2066_07_01-2067_02_01.nc /work/aa0238/a271093/results/MOAAP/IVT_Tracking/NorESM_ssp_remapped_3x/ObjectMasks_MOAPP_ICON_100and85NorESMsspperc_remapped_3x_2066_07_01-2067_01_01_corrected.nc\n",
      "\n",
      " \n",
      " \n",
      " \n",
      "\n",
      "2067-01-01 00:00:00 2067-08-01 00:00:00\n",
      " \n",
      "The provided variables allow tracking the following phenomena\n",
      " \n",
      "|  phenomenon  | tracking |\n",
      "---------------------------\n",
      "   Jetstream   |   no\n",
      "   PSL CY/ACY  |   no\n",
      "   Z500 CY/ACY |   no\n",
      "   COLs        |   no\n",
      "   IVT ARs     |   yes\n",
      "   MS ARs      |   no\n",
      "   Fronts      |   no\n",
      "   TCs         |   no\n",
      "   MCSs        |   no\n",
      "   Equ. Waves  |   no\n",
      "---------------------------\n",
      " \n",
      "======> track IVT streams and atmospheric rivers (ARs)\n",
      "        3538 object found\n",
      "        break up long living IVT objects that have many elements\n"
     ]
    },
    {
     "name": "stderr",
     "output_type": "stream",
     "text": [
      "100%|██████████| 552/552 [00:25<00:00, 21.72it/s]\n"
     ]
    },
    {
     "name": "stdout",
     "output_type": "stream",
     "text": [
      "        00:00:31.98\n",
      "9\n",
      "            Loop over 1723 objects\n"
     ]
    },
    {
     "name": "stderr",
     "output_type": "stream",
     "text": [
      "/work/aa0238/a271093/Scripts/MOAAP/src/Tracking_Functions.py:250: RuntimeWarning: All-NaN slice encountered\n",
      "  obj_min = np.nanmin(data_slice, axis=(1, 2))\n",
      "/work/aa0238/a271093/Scripts/MOAAP/src/Tracking_Functions.py:251: RuntimeWarning: All-NaN slice encountered\n",
      "  obj_max = np.nanmax(data_slice, axis=(1, 2))\n",
      "/work/aa0238/a271093/Scripts/MOAAP/src/Tracking_Functions.py:252: RuntimeWarning: Mean of empty slice\n",
      "  obj_mean = np.nanmean(data_slice, axis=(1, 2))\n",
      "/work/aa0238/a271093/Conda/MOAAP_env/lib/python3.12/site-packages/scipy/ndimage/_measurements.py:1541: RuntimeWarning: invalid value encountered in scalar divide\n",
      "  results = [sum(input * grids[dir].astype(float), labels, index) / normalizer\n"
     ]
    },
    {
     "name": "stdout",
     "output_type": "stream",
     "text": [
      "        check if MSs quallify as ARs\n"
     ]
    },
    {
     "name": "stderr",
     "output_type": "stream",
     "text": [
      "/work/aa0238/a271093/Scripts/MOAAP/src/Tracking_Functions.py:4588: RuntimeWarning: divide by zero encountered in scalar divide\n",
      "  if DIST.max() / DIST.min() < AR_width_lenght_ratio:\n"
     ]
    },
    {
     "name": "stdout",
     "output_type": "stream",
     "text": [
      "            Loop over 1723 objects\n",
      "        00:01:34.99\n",
      " \n",
      "Save the object masks into a joint netCDF\n",
      "Saved: /work/aa0238/a271093/results/MOAAP/IVT_Tracking/NorESM_ssp_remapped_3x/ObjectMasks_MOAPP_ICON_100and85NorESMsspperc_remapped_3x_2067_01_01-2067_08_01.nc\n",
      "        00:00:24.56\n",
      "clean up /work/aa0238/a271093/results/MOAAP/IVT_Tracking/NorESM_ssp_remapped_3x/IVT_MOAPP_ICON_100and85NorESMsspperc_remapped_3x_2067_01_01-2067_07_01.pkl\n",
      "clean up finished\n",
      "clean up /work/aa0238/a271093/results/MOAAP/IVT_Tracking/NorESM_ssp_remapped_3x/ARs_MOAPP_ICON_100and85NorESMsspperc_remapped_3x_2067_01_01-2067_07_01.pkl\n",
      "clean up finished\n",
      "correct nc-file with \n",
      " cdo -selmon,1,2,3,4,5,6 /work/aa0238/a271093/results/MOAAP/IVT_Tracking/NorESM_ssp_remapped_3x/ObjectMasks_MOAPP_ICON_100and85NorESMsspperc_remapped_3x_2067_01_01-2067_08_01.nc /work/aa0238/a271093/results/MOAAP/IVT_Tracking/NorESM_ssp_remapped_3x/ObjectMasks_MOAPP_ICON_100and85NorESMsspperc_remapped_3x_2067_01_01-2067_07_01_corrected.nc\n",
      "\n",
      " \n",
      " \n",
      " \n",
      "\n",
      "2067-07-01 00:00:00 2068-02-01 00:00:00\n",
      "Mergetime /work/aa0238/a271093/data/Jan_runs/ICON_NorESM_ssp/NorESM_ssp_remapped_3x/IVTu/IVTu_2067010100-2067123123_remapped_3x.nc /work/aa0238/a271093/data/Jan_runs/ICON_NorESM_ssp/NorESM_ssp_remapped_3x/IVTu/IVTu_2068010100-2068123123_remapped_3x.nc  /work/aa0238/a271093/scratch/mergedIVTu_2067_2068_remapped_3x.nc\n",
      "Mergetime /work/aa0238/a271093/data/Jan_runs/ICON_NorESM_ssp/NorESM_ssp_remapped_3x/IVTv/IVTv_2067010100-2067123123_remapped_3x.nc /work/aa0238/a271093/data/Jan_runs/ICON_NorESM_ssp/NorESM_ssp_remapped_3x/IVTv/IVTv_2068010100-2068123123_remapped_3x.nc  /work/aa0238/a271093/scratch/mergedIVTv_2067_2068_remapped_3x.nc\n",
      " \n",
      "The provided variables allow tracking the following phenomena\n",
      " \n",
      "|  phenomenon  | tracking |\n",
      "---------------------------\n",
      "   Jetstream   |   no\n",
      "   PSL CY/ACY  |   no\n",
      "   Z500 CY/ACY |   no\n",
      "   COLs        |   no\n",
      "   IVT ARs     |   yes\n",
      "   MS ARs      |   no\n",
      "   Fronts      |   no\n",
      "   TCs         |   no\n",
      "   MCSs        |   no\n",
      "   Equ. Waves  |   no\n",
      "---------------------------\n",
      " \n",
      "======> track IVT streams and atmospheric rivers (ARs)\n",
      "        3335 object found\n",
      "        break up long living IVT objects that have many elements\n"
     ]
    },
    {
     "name": "stderr",
     "output_type": "stream",
     "text": [
      "100%|██████████| 610/610 [00:24<00:00, 25.02it/s]\n"
     ]
    },
    {
     "name": "stdout",
     "output_type": "stream",
     "text": [
      "        00:00:30.59\n",
      "9\n",
      "            Loop over 1556 objects\n"
     ]
    },
    {
     "name": "stderr",
     "output_type": "stream",
     "text": [
      "/work/aa0238/a271093/Scripts/MOAAP/src/Tracking_Functions.py:250: RuntimeWarning: All-NaN slice encountered\n",
      "  obj_min = np.nanmin(data_slice, axis=(1, 2))\n",
      "/work/aa0238/a271093/Scripts/MOAAP/src/Tracking_Functions.py:251: RuntimeWarning: All-NaN slice encountered\n",
      "  obj_max = np.nanmax(data_slice, axis=(1, 2))\n",
      "/work/aa0238/a271093/Scripts/MOAAP/src/Tracking_Functions.py:252: RuntimeWarning: Mean of empty slice\n",
      "  obj_mean = np.nanmean(data_slice, axis=(1, 2))\n",
      "/work/aa0238/a271093/Conda/MOAAP_env/lib/python3.12/site-packages/scipy/ndimage/_measurements.py:1541: RuntimeWarning: invalid value encountered in scalar divide\n",
      "  results = [sum(input * grids[dir].astype(float), labels, index) / normalizer\n"
     ]
    },
    {
     "name": "stdout",
     "output_type": "stream",
     "text": [
      "        check if MSs quallify as ARs\n"
     ]
    },
    {
     "name": "stderr",
     "output_type": "stream",
     "text": [
      "/work/aa0238/a271093/Scripts/MOAAP/src/Tracking_Functions.py:4588: RuntimeWarning: divide by zero encountered in scalar divide\n",
      "  if DIST.max() / DIST.min() < AR_width_lenght_ratio:\n"
     ]
    },
    {
     "name": "stdout",
     "output_type": "stream",
     "text": [
      "            Loop over 1556 objects\n",
      "        00:01:18.11\n",
      " \n",
      "Save the object masks into a joint netCDF\n",
      "Saved: /work/aa0238/a271093/results/MOAAP/IVT_Tracking/NorESM_ssp_remapped_3x/ObjectMasks_MOAPP_ICON_100and85NorESMsspperc_remapped_3x_2067_07_01-2068_02_01.nc\n",
      "        00:00:26.09\n",
      "clean up /work/aa0238/a271093/results/MOAAP/IVT_Tracking/NorESM_ssp_remapped_3x/IVT_MOAPP_ICON_100and85NorESMsspperc_remapped_3x_2067_07_01-2068_01_01.pkl\n",
      "clean up finished\n",
      "clean up /work/aa0238/a271093/results/MOAAP/IVT_Tracking/NorESM_ssp_remapped_3x/ARs_MOAPP_ICON_100and85NorESMsspperc_remapped_3x_2067_07_01-2068_01_01.pkl\n",
      "clean up finished\n",
      "correct nc-file with \n",
      " cdo -selmon,6,7,8,9,10,11,12 /work/aa0238/a271093/results/MOAAP/IVT_Tracking/NorESM_ssp_remapped_3x/ObjectMasks_MOAPP_ICON_100and85NorESMsspperc_remapped_3x_2067_07_01-2068_02_01.nc /work/aa0238/a271093/results/MOAAP/IVT_Tracking/NorESM_ssp_remapped_3x/ObjectMasks_MOAPP_ICON_100and85NorESMsspperc_remapped_3x_2067_07_01-2068_01_01_corrected.nc\n",
      "\n",
      " \n",
      " \n",
      " \n",
      "\n",
      "2068-01-01 00:00:00 2068-08-01 00:00:00\n",
      " \n",
      "The provided variables allow tracking the following phenomena\n",
      " \n",
      "|  phenomenon  | tracking |\n",
      "---------------------------\n",
      "   Jetstream   |   no\n",
      "   PSL CY/ACY  |   no\n",
      "   Z500 CY/ACY |   no\n",
      "   COLs        |   no\n",
      "   IVT ARs     |   yes\n",
      "   MS ARs      |   no\n",
      "   Fronts      |   no\n",
      "   TCs         |   no\n",
      "   MCSs        |   no\n",
      "   Equ. Waves  |   no\n",
      "---------------------------\n",
      " \n",
      "======> track IVT streams and atmospheric rivers (ARs)\n",
      "        3695 object found\n",
      "        break up long living IVT objects that have many elements\n"
     ]
    },
    {
     "name": "stderr",
     "output_type": "stream",
     "text": [
      "100%|██████████| 681/681 [00:26<00:00, 25.77it/s] \n"
     ]
    },
    {
     "name": "stdout",
     "output_type": "stream",
     "text": [
      "        00:00:32.50\n",
      "9\n",
      "            Loop over 1777 objects\n"
     ]
    },
    {
     "name": "stderr",
     "output_type": "stream",
     "text": [
      "/work/aa0238/a271093/Scripts/MOAAP/src/Tracking_Functions.py:250: RuntimeWarning: All-NaN slice encountered\n",
      "  obj_min = np.nanmin(data_slice, axis=(1, 2))\n",
      "/work/aa0238/a271093/Scripts/MOAAP/src/Tracking_Functions.py:251: RuntimeWarning: All-NaN slice encountered\n",
      "  obj_max = np.nanmax(data_slice, axis=(1, 2))\n",
      "/work/aa0238/a271093/Scripts/MOAAP/src/Tracking_Functions.py:252: RuntimeWarning: Mean of empty slice\n",
      "  obj_mean = np.nanmean(data_slice, axis=(1, 2))\n",
      "/work/aa0238/a271093/Conda/MOAAP_env/lib/python3.12/site-packages/scipy/ndimage/_measurements.py:1541: RuntimeWarning: invalid value encountered in scalar divide\n",
      "  results = [sum(input * grids[dir].astype(float), labels, index) / normalizer\n"
     ]
    },
    {
     "name": "stdout",
     "output_type": "stream",
     "text": [
      "        check if MSs quallify as ARs\n"
     ]
    },
    {
     "name": "stderr",
     "output_type": "stream",
     "text": [
      "/work/aa0238/a271093/Scripts/MOAAP/src/Tracking_Functions.py:4588: RuntimeWarning: divide by zero encountered in scalar divide\n",
      "  if DIST.max() / DIST.min() < AR_width_lenght_ratio:\n"
     ]
    },
    {
     "name": "stdout",
     "output_type": "stream",
     "text": [
      "            Loop over 1776 objects\n",
      "        00:01:23.04\n",
      " \n",
      "Save the object masks into a joint netCDF\n",
      "Saved: /work/aa0238/a271093/results/MOAAP/IVT_Tracking/NorESM_ssp_remapped_3x/ObjectMasks_MOAPP_ICON_100and85NorESMsspperc_remapped_3x_2068_01_01-2068_08_01.nc\n",
      "        00:00:28.02\n",
      "clean up /work/aa0238/a271093/results/MOAAP/IVT_Tracking/NorESM_ssp_remapped_3x/IVT_MOAPP_ICON_100and85NorESMsspperc_remapped_3x_2068_01_01-2068_07_01.pkl\n",
      "clean up finished\n",
      "clean up /work/aa0238/a271093/results/MOAAP/IVT_Tracking/NorESM_ssp_remapped_3x/ARs_MOAPP_ICON_100and85NorESMsspperc_remapped_3x_2068_01_01-2068_07_01.pkl\n",
      "clean up finished\n",
      "correct nc-file with \n",
      " cdo -selmon,1,2,3,4,5,6 /work/aa0238/a271093/results/MOAAP/IVT_Tracking/NorESM_ssp_remapped_3x/ObjectMasks_MOAPP_ICON_100and85NorESMsspperc_remapped_3x_2068_01_01-2068_08_01.nc /work/aa0238/a271093/results/MOAAP/IVT_Tracking/NorESM_ssp_remapped_3x/ObjectMasks_MOAPP_ICON_100and85NorESMsspperc_remapped_3x_2068_01_01-2068_07_01_corrected.nc\n",
      "\n",
      " \n",
      " \n",
      " \n",
      "\n",
      "2068-07-01 00:00:00 2069-02-01 00:00:00\n",
      "Mergetime /work/aa0238/a271093/data/Jan_runs/ICON_NorESM_ssp/NorESM_ssp_remapped_3x/IVTu/IVTu_2068010100-2068123123_remapped_3x.nc /work/aa0238/a271093/data/Jan_runs/ICON_NorESM_ssp/NorESM_ssp_remapped_3x/IVTu/IVTu_2069010100-2069123123_remapped_3x.nc  /work/aa0238/a271093/scratch/mergedIVTu_2068_2069_remapped_3x.nc\n",
      "Mergetime /work/aa0238/a271093/data/Jan_runs/ICON_NorESM_ssp/NorESM_ssp_remapped_3x/IVTv/IVTv_2068010100-2068123123_remapped_3x.nc /work/aa0238/a271093/data/Jan_runs/ICON_NorESM_ssp/NorESM_ssp_remapped_3x/IVTv/IVTv_2069010100-2069123123_remapped_3x.nc  /work/aa0238/a271093/scratch/mergedIVTv_2068_2069_remapped_3x.nc\n",
      " \n",
      "The provided variables allow tracking the following phenomena\n",
      " \n",
      "|  phenomenon  | tracking |\n",
      "---------------------------\n",
      "   Jetstream   |   no\n",
      "   PSL CY/ACY  |   no\n",
      "   Z500 CY/ACY |   no\n",
      "   COLs        |   no\n",
      "   IVT ARs     |   yes\n",
      "   MS ARs      |   no\n",
      "   Fronts      |   no\n",
      "   TCs         |   no\n",
      "   MCSs        |   no\n",
      "   Equ. Waves  |   no\n",
      "---------------------------\n",
      " \n",
      "======> track IVT streams and atmospheric rivers (ARs)\n",
      "        3383 object found\n",
      "        break up long living IVT objects that have many elements\n"
     ]
    },
    {
     "name": "stderr",
     "output_type": "stream",
     "text": [
      "100%|██████████| 596/596 [00:28<00:00, 20.60it/s]\n"
     ]
    },
    {
     "name": "stdout",
     "output_type": "stream",
     "text": [
      "        00:00:35.23\n",
      "9\n",
      "            Loop over 1602 objects\n"
     ]
    },
    {
     "name": "stderr",
     "output_type": "stream",
     "text": [
      "/work/aa0238/a271093/Scripts/MOAAP/src/Tracking_Functions.py:250: RuntimeWarning: All-NaN slice encountered\n",
      "  obj_min = np.nanmin(data_slice, axis=(1, 2))\n",
      "/work/aa0238/a271093/Scripts/MOAAP/src/Tracking_Functions.py:251: RuntimeWarning: All-NaN slice encountered\n",
      "  obj_max = np.nanmax(data_slice, axis=(1, 2))\n",
      "/work/aa0238/a271093/Scripts/MOAAP/src/Tracking_Functions.py:252: RuntimeWarning: Mean of empty slice\n",
      "  obj_mean = np.nanmean(data_slice, axis=(1, 2))\n",
      "/work/aa0238/a271093/Conda/MOAAP_env/lib/python3.12/site-packages/scipy/ndimage/_measurements.py:1541: RuntimeWarning: invalid value encountered in scalar divide\n",
      "  results = [sum(input * grids[dir].astype(float), labels, index) / normalizer\n"
     ]
    },
    {
     "name": "stdout",
     "output_type": "stream",
     "text": [
      "        check if MSs quallify as ARs\n"
     ]
    },
    {
     "name": "stderr",
     "output_type": "stream",
     "text": [
      "/work/aa0238/a271093/Scripts/MOAAP/src/Tracking_Functions.py:4588: RuntimeWarning: divide by zero encountered in scalar divide\n",
      "  if DIST.max() / DIST.min() < AR_width_lenght_ratio:\n"
     ]
    },
    {
     "name": "stdout",
     "output_type": "stream",
     "text": [
      "            Loop over 1602 objects\n",
      "        00:01:25.08\n",
      " \n",
      "Save the object masks into a joint netCDF\n",
      "Saved: /work/aa0238/a271093/results/MOAAP/IVT_Tracking/NorESM_ssp_remapped_3x/ObjectMasks_MOAPP_ICON_100and85NorESMsspperc_remapped_3x_2068_07_01-2069_02_01.nc\n",
      "        00:00:29.06\n",
      "clean up /work/aa0238/a271093/results/MOAAP/IVT_Tracking/NorESM_ssp_remapped_3x/IVT_MOAPP_ICON_100and85NorESMsspperc_remapped_3x_2068_07_01-2069_01_01.pkl\n",
      "clean up finished\n",
      "clean up /work/aa0238/a271093/results/MOAAP/IVT_Tracking/NorESM_ssp_remapped_3x/ARs_MOAPP_ICON_100and85NorESMsspperc_remapped_3x_2068_07_01-2069_01_01.pkl\n",
      "clean up finished\n",
      "correct nc-file with \n",
      " cdo -selmon,6,7,8,9,10,11,12 /work/aa0238/a271093/results/MOAAP/IVT_Tracking/NorESM_ssp_remapped_3x/ObjectMasks_MOAPP_ICON_100and85NorESMsspperc_remapped_3x_2068_07_01-2069_02_01.nc /work/aa0238/a271093/results/MOAAP/IVT_Tracking/NorESM_ssp_remapped_3x/ObjectMasks_MOAPP_ICON_100and85NorESMsspperc_remapped_3x_2068_07_01-2069_01_01_corrected.nc\n",
      "\n",
      " \n",
      " \n",
      " \n",
      "\n",
      "2069-01-01 00:00:00 2069-08-01 00:00:00\n",
      " \n",
      "The provided variables allow tracking the following phenomena\n",
      " \n",
      "|  phenomenon  | tracking |\n",
      "---------------------------\n",
      "   Jetstream   |   no\n",
      "   PSL CY/ACY  |   no\n",
      "   Z500 CY/ACY |   no\n",
      "   COLs        |   no\n",
      "   IVT ARs     |   yes\n",
      "   MS ARs      |   no\n",
      "   Fronts      |   no\n",
      "   TCs         |   no\n",
      "   MCSs        |   no\n",
      "   Equ. Waves  |   no\n",
      "---------------------------\n",
      " \n",
      "======> track IVT streams and atmospheric rivers (ARs)\n",
      "        3628 object found\n",
      "        break up long living IVT objects that have many elements\n"
     ]
    },
    {
     "name": "stderr",
     "output_type": "stream",
     "text": [
      "100%|██████████| 632/632 [00:27<00:00, 22.92it/s]\n"
     ]
    },
    {
     "name": "stdout",
     "output_type": "stream",
     "text": [
      "        00:00:33.62\n",
      "9\n",
      "            Loop over 1708 objects\n"
     ]
    },
    {
     "name": "stderr",
     "output_type": "stream",
     "text": [
      "/work/aa0238/a271093/Scripts/MOAAP/src/Tracking_Functions.py:250: RuntimeWarning: All-NaN slice encountered\n",
      "  obj_min = np.nanmin(data_slice, axis=(1, 2))\n",
      "/work/aa0238/a271093/Scripts/MOAAP/src/Tracking_Functions.py:251: RuntimeWarning: All-NaN slice encountered\n",
      "  obj_max = np.nanmax(data_slice, axis=(1, 2))\n",
      "/work/aa0238/a271093/Scripts/MOAAP/src/Tracking_Functions.py:252: RuntimeWarning: Mean of empty slice\n",
      "  obj_mean = np.nanmean(data_slice, axis=(1, 2))\n",
      "/work/aa0238/a271093/Conda/MOAAP_env/lib/python3.12/site-packages/scipy/ndimage/_measurements.py:1541: RuntimeWarning: invalid value encountered in scalar divide\n",
      "  results = [sum(input * grids[dir].astype(float), labels, index) / normalizer\n"
     ]
    },
    {
     "name": "stdout",
     "output_type": "stream",
     "text": [
      "        check if MSs quallify as ARs\n"
     ]
    },
    {
     "name": "stderr",
     "output_type": "stream",
     "text": [
      "/work/aa0238/a271093/Scripts/MOAAP/src/Tracking_Functions.py:4588: RuntimeWarning: divide by zero encountered in scalar divide\n",
      "  if DIST.max() / DIST.min() < AR_width_lenght_ratio:\n"
     ]
    },
    {
     "name": "stdout",
     "output_type": "stream",
     "text": [
      "            Loop over 1706 objects\n",
      "        00:01:26.05\n",
      " \n",
      "Save the object masks into a joint netCDF\n",
      "Saved: /work/aa0238/a271093/results/MOAAP/IVT_Tracking/NorESM_ssp_remapped_3x/ObjectMasks_MOAPP_ICON_100and85NorESMsspperc_remapped_3x_2069_01_01-2069_08_01.nc\n",
      "        00:00:28.44\n",
      "clean up /work/aa0238/a271093/results/MOAAP/IVT_Tracking/NorESM_ssp_remapped_3x/IVT_MOAPP_ICON_100and85NorESMsspperc_remapped_3x_2069_01_01-2069_07_01.pkl\n",
      "clean up finished\n",
      "clean up /work/aa0238/a271093/results/MOAAP/IVT_Tracking/NorESM_ssp_remapped_3x/ARs_MOAPP_ICON_100and85NorESMsspperc_remapped_3x_2069_01_01-2069_07_01.pkl\n",
      "clean up finished\n",
      "correct nc-file with \n",
      " cdo -selmon,1,2,3,4,5,6 /work/aa0238/a271093/results/MOAAP/IVT_Tracking/NorESM_ssp_remapped_3x/ObjectMasks_MOAPP_ICON_100and85NorESMsspperc_remapped_3x_2069_01_01-2069_08_01.nc /work/aa0238/a271093/results/MOAAP/IVT_Tracking/NorESM_ssp_remapped_3x/ObjectMasks_MOAPP_ICON_100and85NorESMsspperc_remapped_3x_2069_01_01-2069_07_01_corrected.nc\n",
      "\n",
      " \n",
      " \n",
      " \n",
      "\n",
      "2069-07-01 00:00:00 2070-02-01 00:00:00\n",
      "Mergetime /work/aa0238/a271093/data/Jan_runs/ICON_NorESM_ssp/NorESM_ssp_remapped_3x/IVTu/IVTu_2069010100-2069123123_remapped_3x.nc /work/aa0238/a271093/data/Jan_runs/ICON_NorESM_ssp/NorESM_ssp_remapped_3x/IVTu/IVTu_2070010100-2070123123_remapped_3x.nc  /work/aa0238/a271093/scratch/mergedIVTu_2069_2070_remapped_3x.nc\n",
      "Mergetime /work/aa0238/a271093/data/Jan_runs/ICON_NorESM_ssp/NorESM_ssp_remapped_3x/IVTv/IVTv_2069010100-2069123123_remapped_3x.nc /work/aa0238/a271093/data/Jan_runs/ICON_NorESM_ssp/NorESM_ssp_remapped_3x/IVTv/IVTv_2070010100-2070123123_remapped_3x.nc  /work/aa0238/a271093/scratch/mergedIVTv_2069_2070_remapped_3x.nc\n",
      " \n",
      "The provided variables allow tracking the following phenomena\n",
      " \n",
      "|  phenomenon  | tracking |\n",
      "---------------------------\n",
      "   Jetstream   |   no\n",
      "   PSL CY/ACY  |   no\n",
      "   Z500 CY/ACY |   no\n",
      "   COLs        |   no\n",
      "   IVT ARs     |   yes\n",
      "   MS ARs      |   no\n",
      "   Fronts      |   no\n",
      "   TCs         |   no\n",
      "   MCSs        |   no\n",
      "   Equ. Waves  |   no\n",
      "---------------------------\n",
      " \n",
      "======> track IVT streams and atmospheric rivers (ARs)\n",
      "        3456 object found\n",
      "        break up long living IVT objects that have many elements\n"
     ]
    },
    {
     "name": "stderr",
     "output_type": "stream",
     "text": [
      "100%|██████████| 633/633 [00:28<00:00, 22.27it/s] \n"
     ]
    },
    {
     "name": "stdout",
     "output_type": "stream",
     "text": [
      "        00:00:34.75\n",
      "9\n",
      "            Loop over 1590 objects\n",
      "        check if MSs quallify as ARs\n"
     ]
    },
    {
     "name": "stderr",
     "output_type": "stream",
     "text": [
      "/work/aa0238/a271093/Scripts/MOAAP/src/Tracking_Functions.py:4588: RuntimeWarning: divide by zero encountered in scalar divide\n",
      "  if DIST.max() / DIST.min() < AR_width_lenght_ratio:\n"
     ]
    },
    {
     "name": "stdout",
     "output_type": "stream",
     "text": [
      "            Loop over 1590 objects\n"
     ]
    },
    {
     "name": "stderr",
     "output_type": "stream",
     "text": [
      "/work/aa0238/a271093/Scripts/MOAAP/src/Tracking_Functions.py:250: RuntimeWarning: All-NaN slice encountered\n",
      "  obj_min = np.nanmin(data_slice, axis=(1, 2))\n",
      "/work/aa0238/a271093/Scripts/MOAAP/src/Tracking_Functions.py:251: RuntimeWarning: All-NaN slice encountered\n",
      "  obj_max = np.nanmax(data_slice, axis=(1, 2))\n",
      "/work/aa0238/a271093/Scripts/MOAAP/src/Tracking_Functions.py:252: RuntimeWarning: Mean of empty slice\n",
      "  obj_mean = np.nanmean(data_slice, axis=(1, 2))\n",
      "/work/aa0238/a271093/Conda/MOAAP_env/lib/python3.12/site-packages/scipy/ndimage/_measurements.py:1541: RuntimeWarning: invalid value encountered in scalar divide\n",
      "  results = [sum(input * grids[dir].astype(float), labels, index) / normalizer\n"
     ]
    },
    {
     "name": "stdout",
     "output_type": "stream",
     "text": [
      "        00:01:24.92\n",
      " \n",
      "Save the object masks into a joint netCDF\n",
      "Saved: /work/aa0238/a271093/results/MOAAP/IVT_Tracking/NorESM_ssp_remapped_3x/ObjectMasks_MOAPP_ICON_100and85NorESMsspperc_remapped_3x_2069_07_01-2070_02_01.nc\n",
      "        00:00:30.86\n",
      "clean up /work/aa0238/a271093/results/MOAAP/IVT_Tracking/NorESM_ssp_remapped_3x/IVT_MOAPP_ICON_100and85NorESMsspperc_remapped_3x_2069_07_01-2070_01_01.pkl\n",
      "clean up finished\n",
      "clean up /work/aa0238/a271093/results/MOAAP/IVT_Tracking/NorESM_ssp_remapped_3x/ARs_MOAPP_ICON_100and85NorESMsspperc_remapped_3x_2069_07_01-2070_01_01.pkl\n",
      "clean up finished\n",
      "correct nc-file with \n",
      " cdo -selmon,6,7,8,9,10,11,12 /work/aa0238/a271093/results/MOAAP/IVT_Tracking/NorESM_ssp_remapped_3x/ObjectMasks_MOAPP_ICON_100and85NorESMsspperc_remapped_3x_2069_07_01-2070_02_01.nc /work/aa0238/a271093/results/MOAAP/IVT_Tracking/NorESM_ssp_remapped_3x/ObjectMasks_MOAPP_ICON_100and85NorESMsspperc_remapped_3x_2069_07_01-2070_01_01_corrected.nc\n",
      "\n",
      " \n",
      " \n",
      " \n",
      "\n",
      "2070-01-01 00:00:00 2070-08-01 00:00:00\n",
      " \n",
      "The provided variables allow tracking the following phenomena\n",
      " \n",
      "|  phenomenon  | tracking |\n",
      "---------------------------\n",
      "   Jetstream   |   no\n",
      "   PSL CY/ACY  |   no\n",
      "   Z500 CY/ACY |   no\n",
      "   COLs        |   no\n",
      "   IVT ARs     |   yes\n",
      "   MS ARs      |   no\n",
      "   Fronts      |   no\n",
      "   TCs         |   no\n",
      "   MCSs        |   no\n",
      "   Equ. Waves  |   no\n",
      "---------------------------\n",
      " \n",
      "======> track IVT streams and atmospheric rivers (ARs)\n",
      "        3868 object found\n",
      "        break up long living IVT objects that have many elements\n"
     ]
    },
    {
     "name": "stderr",
     "output_type": "stream",
     "text": [
      "100%|██████████| 596/596 [00:31<00:00, 19.15it/s]\n"
     ]
    },
    {
     "name": "stdout",
     "output_type": "stream",
     "text": [
      "        00:00:37.23\n",
      "9\n",
      "            Loop over 1764 objects\n"
     ]
    },
    {
     "name": "stderr",
     "output_type": "stream",
     "text": [
      "/work/aa0238/a271093/Scripts/MOAAP/src/Tracking_Functions.py:250: RuntimeWarning: All-NaN slice encountered\n",
      "  obj_min = np.nanmin(data_slice, axis=(1, 2))\n",
      "/work/aa0238/a271093/Scripts/MOAAP/src/Tracking_Functions.py:251: RuntimeWarning: All-NaN slice encountered\n",
      "  obj_max = np.nanmax(data_slice, axis=(1, 2))\n",
      "/work/aa0238/a271093/Scripts/MOAAP/src/Tracking_Functions.py:252: RuntimeWarning: Mean of empty slice\n",
      "  obj_mean = np.nanmean(data_slice, axis=(1, 2))\n",
      "/work/aa0238/a271093/Conda/MOAAP_env/lib/python3.12/site-packages/scipy/ndimage/_measurements.py:1541: RuntimeWarning: invalid value encountered in scalar divide\n",
      "  results = [sum(input * grids[dir].astype(float), labels, index) / normalizer\n"
     ]
    },
    {
     "name": "stdout",
     "output_type": "stream",
     "text": [
      "        check if MSs quallify as ARs\n"
     ]
    },
    {
     "name": "stderr",
     "output_type": "stream",
     "text": [
      "/work/aa0238/a271093/Scripts/MOAAP/src/Tracking_Functions.py:4588: RuntimeWarning: divide by zero encountered in scalar divide\n",
      "  if DIST.max() / DIST.min() < AR_width_lenght_ratio:\n"
     ]
    },
    {
     "name": "stdout",
     "output_type": "stream",
     "text": [
      "            Loop over 1761 objects\n",
      "        00:01:31.66\n",
      " \n",
      "Save the object masks into a joint netCDF\n",
      "Saved: /work/aa0238/a271093/results/MOAAP/IVT_Tracking/NorESM_ssp_remapped_3x/ObjectMasks_MOAPP_ICON_100and85NorESMsspperc_remapped_3x_2070_01_01-2070_08_01.nc\n",
      "        00:00:25.23\n",
      "clean up /work/aa0238/a271093/results/MOAAP/IVT_Tracking/NorESM_ssp_remapped_3x/IVT_MOAPP_ICON_100and85NorESMsspperc_remapped_3x_2070_01_01-2070_07_01.pkl\n",
      "clean up finished\n",
      "clean up /work/aa0238/a271093/results/MOAAP/IVT_Tracking/NorESM_ssp_remapped_3x/ARs_MOAPP_ICON_100and85NorESMsspperc_remapped_3x_2070_01_01-2070_07_01.pkl\n",
      "clean up finished\n",
      "correct nc-file with \n",
      " cdo -selmon,1,2,3,4,5,6 /work/aa0238/a271093/results/MOAAP/IVT_Tracking/NorESM_ssp_remapped_3x/ObjectMasks_MOAPP_ICON_100and85NorESMsspperc_remapped_3x_2070_01_01-2070_08_01.nc /work/aa0238/a271093/results/MOAAP/IVT_Tracking/NorESM_ssp_remapped_3x/ObjectMasks_MOAPP_ICON_100and85NorESMsspperc_remapped_3x_2070_01_01-2070_07_01_corrected.nc\n",
      "\n",
      " \n",
      " \n",
      " \n",
      "\n",
      "2070-07-01 00:00:00 2071-02-01 00:00:00\n",
      "Mergetime /work/aa0238/a271093/data/Jan_runs/ICON_NorESM_ssp/NorESM_ssp_remapped_3x/IVTu/IVTu_2070010100-2070123123_remapped_3x.nc /work/aa0238/a271093/data/Jan_runs/ICON_NorESM_ssp/NorESM_ssp_remapped_3x/IVTu/IVTu_2071010100-2071123123_remapped_3x.nc  /work/aa0238/a271093/scratch/mergedIVTu_2070_2071_remapped_3x.nc\n",
      "Mergetime /work/aa0238/a271093/data/Jan_runs/ICON_NorESM_ssp/NorESM_ssp_remapped_3x/IVTv/IVTv_2070010100-2070123123_remapped_3x.nc /work/aa0238/a271093/data/Jan_runs/ICON_NorESM_ssp/NorESM_ssp_remapped_3x/IVTv/IVTv_2071010100-2071123123_remapped_3x.nc  /work/aa0238/a271093/scratch/mergedIVTv_2070_2071_remapped_3x.nc\n",
      " \n",
      "The provided variables allow tracking the following phenomena\n",
      " \n",
      "|  phenomenon  | tracking |\n",
      "---------------------------\n",
      "   Jetstream   |   no\n",
      "   PSL CY/ACY  |   no\n",
      "   Z500 CY/ACY |   no\n",
      "   COLs        |   no\n",
      "   IVT ARs     |   yes\n",
      "   MS ARs      |   no\n",
      "   Fronts      |   no\n",
      "   TCs         |   no\n",
      "   MCSs        |   no\n",
      "   Equ. Waves  |   no\n",
      "---------------------------\n",
      " \n",
      "======> track IVT streams and atmospheric rivers (ARs)\n",
      "        3278 object found\n",
      "        break up long living IVT objects that have many elements\n"
     ]
    },
    {
     "name": "stderr",
     "output_type": "stream",
     "text": [
      "100%|██████████| 563/563 [00:23<00:00, 23.66it/s] \n"
     ]
    },
    {
     "name": "stdout",
     "output_type": "stream",
     "text": [
      "        00:00:30.39\n",
      "9\n",
      "            Loop over 1519 objects\n"
     ]
    },
    {
     "name": "stderr",
     "output_type": "stream",
     "text": [
      "/work/aa0238/a271093/Scripts/MOAAP/src/Tracking_Functions.py:250: RuntimeWarning: All-NaN slice encountered\n",
      "  obj_min = np.nanmin(data_slice, axis=(1, 2))\n",
      "/work/aa0238/a271093/Scripts/MOAAP/src/Tracking_Functions.py:251: RuntimeWarning: All-NaN slice encountered\n",
      "  obj_max = np.nanmax(data_slice, axis=(1, 2))\n",
      "/work/aa0238/a271093/Scripts/MOAAP/src/Tracking_Functions.py:252: RuntimeWarning: Mean of empty slice\n",
      "  obj_mean = np.nanmean(data_slice, axis=(1, 2))\n",
      "/work/aa0238/a271093/Conda/MOAAP_env/lib/python3.12/site-packages/scipy/ndimage/_measurements.py:1541: RuntimeWarning: invalid value encountered in scalar divide\n",
      "  results = [sum(input * grids[dir].astype(float), labels, index) / normalizer\n"
     ]
    },
    {
     "name": "stdout",
     "output_type": "stream",
     "text": [
      "        check if MSs quallify as ARs\n"
     ]
    },
    {
     "name": "stderr",
     "output_type": "stream",
     "text": [
      "/work/aa0238/a271093/Scripts/MOAAP/src/Tracking_Functions.py:4588: RuntimeWarning: divide by zero encountered in scalar divide\n",
      "  if DIST.max() / DIST.min() < AR_width_lenght_ratio:\n"
     ]
    },
    {
     "name": "stdout",
     "output_type": "stream",
     "text": [
      "            Loop over 1519 objects\n",
      "        00:01:22.58\n",
      " \n",
      "Save the object masks into a joint netCDF\n",
      "Saved: /work/aa0238/a271093/results/MOAAP/IVT_Tracking/NorESM_ssp_remapped_3x/ObjectMasks_MOAPP_ICON_100and85NorESMsspperc_remapped_3x_2070_07_01-2071_02_01.nc\n",
      "        00:00:24.48\n",
      "clean up /work/aa0238/a271093/results/MOAAP/IVT_Tracking/NorESM_ssp_remapped_3x/IVT_MOAPP_ICON_100and85NorESMsspperc_remapped_3x_2070_07_01-2071_01_01.pkl\n",
      "clean up finished\n",
      "clean up /work/aa0238/a271093/results/MOAAP/IVT_Tracking/NorESM_ssp_remapped_3x/ARs_MOAPP_ICON_100and85NorESMsspperc_remapped_3x_2070_07_01-2071_01_01.pkl\n",
      "clean up finished\n",
      "correct nc-file with \n",
      " cdo -selmon,6,7,8,9,10,11,12 /work/aa0238/a271093/results/MOAAP/IVT_Tracking/NorESM_ssp_remapped_3x/ObjectMasks_MOAPP_ICON_100and85NorESMsspperc_remapped_3x_2070_07_01-2071_02_01.nc /work/aa0238/a271093/results/MOAAP/IVT_Tracking/NorESM_ssp_remapped_3x/ObjectMasks_MOAPP_ICON_100and85NorESMsspperc_remapped_3x_2070_07_01-2071_01_01_corrected.nc\n",
      "\n",
      " \n",
      " \n",
      " \n",
      "\n",
      "2071-01-01 00:00:00 2071-08-01 00:00:00\n",
      " \n",
      "The provided variables allow tracking the following phenomena\n",
      " \n",
      "|  phenomenon  | tracking |\n",
      "---------------------------\n",
      "   Jetstream   |   no\n",
      "   PSL CY/ACY  |   no\n",
      "   Z500 CY/ACY |   no\n",
      "   COLs        |   no\n",
      "   IVT ARs     |   yes\n",
      "   MS ARs      |   no\n",
      "   Fronts      |   no\n",
      "   TCs         |   no\n",
      "   MCSs        |   no\n",
      "   Equ. Waves  |   no\n",
      "---------------------------\n",
      " \n",
      "======> track IVT streams and atmospheric rivers (ARs)\n",
      "        3485 object found\n",
      "        break up long living IVT objects that have many elements\n"
     ]
    },
    {
     "name": "stderr",
     "output_type": "stream",
     "text": [
      "100%|██████████| 662/662 [00:25<00:00, 25.91it/s] \n"
     ]
    },
    {
     "name": "stdout",
     "output_type": "stream",
     "text": [
      "        00:00:31.40\n",
      "9\n",
      "            Loop over 1670 objects\n"
     ]
    },
    {
     "name": "stderr",
     "output_type": "stream",
     "text": [
      "/work/aa0238/a271093/Scripts/MOAAP/src/Tracking_Functions.py:250: RuntimeWarning: All-NaN slice encountered\n",
      "  obj_min = np.nanmin(data_slice, axis=(1, 2))\n",
      "/work/aa0238/a271093/Scripts/MOAAP/src/Tracking_Functions.py:251: RuntimeWarning: All-NaN slice encountered\n",
      "  obj_max = np.nanmax(data_slice, axis=(1, 2))\n",
      "/work/aa0238/a271093/Scripts/MOAAP/src/Tracking_Functions.py:252: RuntimeWarning: Mean of empty slice\n",
      "  obj_mean = np.nanmean(data_slice, axis=(1, 2))\n",
      "/work/aa0238/a271093/Conda/MOAAP_env/lib/python3.12/site-packages/scipy/ndimage/_measurements.py:1541: RuntimeWarning: invalid value encountered in scalar divide\n",
      "  results = [sum(input * grids[dir].astype(float), labels, index) / normalizer\n"
     ]
    },
    {
     "name": "stdout",
     "output_type": "stream",
     "text": [
      "        check if MSs quallify as ARs\n"
     ]
    },
    {
     "name": "stderr",
     "output_type": "stream",
     "text": [
      "/work/aa0238/a271093/Scripts/MOAAP/src/Tracking_Functions.py:4588: RuntimeWarning: divide by zero encountered in scalar divide\n",
      "  if DIST.max() / DIST.min() < AR_width_lenght_ratio:\n"
     ]
    },
    {
     "name": "stdout",
     "output_type": "stream",
     "text": [
      "            Loop over 1668 objects\n",
      "        00:01:20.19\n",
      " \n",
      "Save the object masks into a joint netCDF\n",
      "Saved: /work/aa0238/a271093/results/MOAAP/IVT_Tracking/NorESM_ssp_remapped_3x/ObjectMasks_MOAPP_ICON_100and85NorESMsspperc_remapped_3x_2071_01_01-2071_08_01.nc\n",
      "        00:00:24.31\n",
      "clean up /work/aa0238/a271093/results/MOAAP/IVT_Tracking/NorESM_ssp_remapped_3x/IVT_MOAPP_ICON_100and85NorESMsspperc_remapped_3x_2071_01_01-2071_07_01.pkl\n",
      "clean up finished\n",
      "clean up /work/aa0238/a271093/results/MOAAP/IVT_Tracking/NorESM_ssp_remapped_3x/ARs_MOAPP_ICON_100and85NorESMsspperc_remapped_3x_2071_01_01-2071_07_01.pkl\n",
      "clean up finished\n",
      "correct nc-file with \n",
      " cdo -selmon,1,2,3,4,5,6 /work/aa0238/a271093/results/MOAAP/IVT_Tracking/NorESM_ssp_remapped_3x/ObjectMasks_MOAPP_ICON_100and85NorESMsspperc_remapped_3x_2071_01_01-2071_08_01.nc /work/aa0238/a271093/results/MOAAP/IVT_Tracking/NorESM_ssp_remapped_3x/ObjectMasks_MOAPP_ICON_100and85NorESMsspperc_remapped_3x_2071_01_01-2071_07_01_corrected.nc\n",
      "\n",
      " \n",
      " \n",
      " \n",
      "\n",
      "2071-07-01 00:00:00 2072-02-01 00:00:00\n",
      "Mergetime /work/aa0238/a271093/data/Jan_runs/ICON_NorESM_ssp/NorESM_ssp_remapped_3x/IVTu/IVTu_2071010100-2071123123_remapped_3x.nc /work/aa0238/a271093/data/Jan_runs/ICON_NorESM_ssp/NorESM_ssp_remapped_3x/IVTu/IVTu_2072010100-2072123123_remapped_3x.nc  /work/aa0238/a271093/scratch/mergedIVTu_2071_2072_remapped_3x.nc\n",
      "Mergetime /work/aa0238/a271093/data/Jan_runs/ICON_NorESM_ssp/NorESM_ssp_remapped_3x/IVTv/IVTv_2071010100-2071123123_remapped_3x.nc /work/aa0238/a271093/data/Jan_runs/ICON_NorESM_ssp/NorESM_ssp_remapped_3x/IVTv/IVTv_2072010100-2072123123_remapped_3x.nc  /work/aa0238/a271093/scratch/mergedIVTv_2071_2072_remapped_3x.nc\n",
      " \n",
      "The provided variables allow tracking the following phenomena\n",
      " \n",
      "|  phenomenon  | tracking |\n",
      "---------------------------\n",
      "   Jetstream   |   no\n",
      "   PSL CY/ACY  |   no\n",
      "   Z500 CY/ACY |   no\n",
      "   COLs        |   no\n",
      "   IVT ARs     |   yes\n",
      "   MS ARs      |   no\n",
      "   Fronts      |   no\n",
      "   TCs         |   no\n",
      "   MCSs        |   no\n",
      "   Equ. Waves  |   no\n",
      "---------------------------\n",
      " \n",
      "======> track IVT streams and atmospheric rivers (ARs)\n",
      "        3637 object found\n",
      "        break up long living IVT objects that have many elements\n"
     ]
    },
    {
     "name": "stderr",
     "output_type": "stream",
     "text": [
      "100%|██████████| 619/619 [00:26<00:00, 23.29it/s]\n"
     ]
    },
    {
     "name": "stdout",
     "output_type": "stream",
     "text": [
      "        00:00:32.85\n",
      "9\n",
      "            Loop over 1649 objects\n",
      "        check if MSs quallify as ARs\n"
     ]
    },
    {
     "name": "stderr",
     "output_type": "stream",
     "text": [
      "/work/aa0238/a271093/Scripts/MOAAP/src/Tracking_Functions.py:4588: RuntimeWarning: divide by zero encountered in scalar divide\n",
      "  if DIST.max() / DIST.min() < AR_width_lenght_ratio:\n"
     ]
    },
    {
     "name": "stdout",
     "output_type": "stream",
     "text": [
      "            Loop over 1649 objects\n"
     ]
    },
    {
     "name": "stderr",
     "output_type": "stream",
     "text": [
      "/work/aa0238/a271093/Scripts/MOAAP/src/Tracking_Functions.py:250: RuntimeWarning: All-NaN slice encountered\n",
      "  obj_min = np.nanmin(data_slice, axis=(1, 2))\n",
      "/work/aa0238/a271093/Scripts/MOAAP/src/Tracking_Functions.py:251: RuntimeWarning: All-NaN slice encountered\n",
      "  obj_max = np.nanmax(data_slice, axis=(1, 2))\n",
      "/work/aa0238/a271093/Scripts/MOAAP/src/Tracking_Functions.py:252: RuntimeWarning: Mean of empty slice\n",
      "  obj_mean = np.nanmean(data_slice, axis=(1, 2))\n",
      "/work/aa0238/a271093/Conda/MOAAP_env/lib/python3.12/site-packages/scipy/ndimage/_measurements.py:1541: RuntimeWarning: invalid value encountered in scalar divide\n",
      "  results = [sum(input * grids[dir].astype(float), labels, index) / normalizer\n"
     ]
    },
    {
     "name": "stdout",
     "output_type": "stream",
     "text": [
      "        00:01:22.71\n",
      " \n",
      "Save the object masks into a joint netCDF\n",
      "Saved: /work/aa0238/a271093/results/MOAAP/IVT_Tracking/NorESM_ssp_remapped_3x/ObjectMasks_MOAPP_ICON_100and85NorESMsspperc_remapped_3x_2071_07_01-2072_02_01.nc\n",
      "        00:00:24.55\n",
      "clean up /work/aa0238/a271093/results/MOAAP/IVT_Tracking/NorESM_ssp_remapped_3x/IVT_MOAPP_ICON_100and85NorESMsspperc_remapped_3x_2071_07_01-2072_01_01.pkl\n",
      "clean up finished\n",
      "clean up /work/aa0238/a271093/results/MOAAP/IVT_Tracking/NorESM_ssp_remapped_3x/ARs_MOAPP_ICON_100and85NorESMsspperc_remapped_3x_2071_07_01-2072_01_01.pkl\n",
      "clean up finished\n",
      "correct nc-file with \n",
      " cdo -selmon,6,7,8,9,10,11,12 /work/aa0238/a271093/results/MOAAP/IVT_Tracking/NorESM_ssp_remapped_3x/ObjectMasks_MOAPP_ICON_100and85NorESMsspperc_remapped_3x_2071_07_01-2072_02_01.nc /work/aa0238/a271093/results/MOAAP/IVT_Tracking/NorESM_ssp_remapped_3x/ObjectMasks_MOAPP_ICON_100and85NorESMsspperc_remapped_3x_2071_07_01-2072_01_01_corrected.nc\n",
      "\n",
      " \n",
      " \n",
      " \n",
      "\n",
      "2072-01-01 00:00:00 2072-08-01 00:00:00\n",
      " \n",
      "The provided variables allow tracking the following phenomena\n",
      " \n",
      "|  phenomenon  | tracking |\n",
      "---------------------------\n",
      "   Jetstream   |   no\n",
      "   PSL CY/ACY  |   no\n",
      "   Z500 CY/ACY |   no\n",
      "   COLs        |   no\n",
      "   IVT ARs     |   yes\n",
      "   MS ARs      |   no\n",
      "   Fronts      |   no\n",
      "   TCs         |   no\n",
      "   MCSs        |   no\n",
      "   Equ. Waves  |   no\n",
      "---------------------------\n",
      " \n",
      "======> track IVT streams and atmospheric rivers (ARs)\n",
      "        4007 object found\n",
      "        break up long living IVT objects that have many elements\n"
     ]
    },
    {
     "name": "stderr",
     "output_type": "stream",
     "text": [
      "100%|██████████| 722/722 [00:30<00:00, 23.43it/s]\n"
     ]
    },
    {
     "name": "stdout",
     "output_type": "stream",
     "text": [
      "        00:00:36.87\n",
      "9\n",
      "            Loop over 1898 objects\n"
     ]
    },
    {
     "name": "stderr",
     "output_type": "stream",
     "text": [
      "/work/aa0238/a271093/Scripts/MOAAP/src/Tracking_Functions.py:250: RuntimeWarning: All-NaN slice encountered\n",
      "  obj_min = np.nanmin(data_slice, axis=(1, 2))\n",
      "/work/aa0238/a271093/Scripts/MOAAP/src/Tracking_Functions.py:251: RuntimeWarning: All-NaN slice encountered\n",
      "  obj_max = np.nanmax(data_slice, axis=(1, 2))\n",
      "/work/aa0238/a271093/Scripts/MOAAP/src/Tracking_Functions.py:252: RuntimeWarning: Mean of empty slice\n",
      "  obj_mean = np.nanmean(data_slice, axis=(1, 2))\n",
      "/work/aa0238/a271093/Conda/MOAAP_env/lib/python3.12/site-packages/scipy/ndimage/_measurements.py:1541: RuntimeWarning: invalid value encountered in scalar divide\n",
      "  results = [sum(input * grids[dir].astype(float), labels, index) / normalizer\n"
     ]
    },
    {
     "name": "stdout",
     "output_type": "stream",
     "text": [
      "        check if MSs quallify as ARs\n"
     ]
    },
    {
     "name": "stderr",
     "output_type": "stream",
     "text": [
      "/work/aa0238/a271093/Scripts/MOAAP/src/Tracking_Functions.py:4588: RuntimeWarning: divide by zero encountered in scalar divide\n",
      "  if DIST.max() / DIST.min() < AR_width_lenght_ratio:\n"
     ]
    },
    {
     "name": "stdout",
     "output_type": "stream",
     "text": [
      "            Loop over 1896 objects\n",
      "        00:01:29.77\n",
      " \n",
      "Save the object masks into a joint netCDF\n",
      "Saved: /work/aa0238/a271093/results/MOAAP/IVT_Tracking/NorESM_ssp_remapped_3x/ObjectMasks_MOAPP_ICON_100and85NorESMsspperc_remapped_3x_2072_01_01-2072_08_01.nc\n",
      "        00:00:24.39\n",
      "clean up /work/aa0238/a271093/results/MOAAP/IVT_Tracking/NorESM_ssp_remapped_3x/IVT_MOAPP_ICON_100and85NorESMsspperc_remapped_3x_2072_01_01-2072_07_01.pkl\n",
      "clean up finished\n",
      "clean up /work/aa0238/a271093/results/MOAAP/IVT_Tracking/NorESM_ssp_remapped_3x/ARs_MOAPP_ICON_100and85NorESMsspperc_remapped_3x_2072_01_01-2072_07_01.pkl\n",
      "clean up finished\n",
      "correct nc-file with \n",
      " cdo -selmon,1,2,3,4,5,6 /work/aa0238/a271093/results/MOAAP/IVT_Tracking/NorESM_ssp_remapped_3x/ObjectMasks_MOAPP_ICON_100and85NorESMsspperc_remapped_3x_2072_01_01-2072_08_01.nc /work/aa0238/a271093/results/MOAAP/IVT_Tracking/NorESM_ssp_remapped_3x/ObjectMasks_MOAPP_ICON_100and85NorESMsspperc_remapped_3x_2072_01_01-2072_07_01_corrected.nc\n",
      "\n",
      " \n",
      " \n",
      " \n",
      "\n",
      "2072-07-01 00:00:00 2073-02-01 00:00:00\n",
      "Mergetime /work/aa0238/a271093/data/Jan_runs/ICON_NorESM_ssp/NorESM_ssp_remapped_3x/IVTu/IVTu_2072010100-2072123123_remapped_3x.nc /work/aa0238/a271093/data/Jan_runs/ICON_NorESM_ssp/NorESM_ssp_remapped_3x/IVTu/IVTu_2073010100-2073123123_remapped_3x.nc  /work/aa0238/a271093/scratch/mergedIVTu_2072_2073_remapped_3x.nc\n",
      "Mergetime /work/aa0238/a271093/data/Jan_runs/ICON_NorESM_ssp/NorESM_ssp_remapped_3x/IVTv/IVTv_2072010100-2072123123_remapped_3x.nc /work/aa0238/a271093/data/Jan_runs/ICON_NorESM_ssp/NorESM_ssp_remapped_3x/IVTv/IVTv_2073010100-2073123123_remapped_3x.nc  /work/aa0238/a271093/scratch/mergedIVTv_2072_2073_remapped_3x.nc\n",
      " \n",
      "The provided variables allow tracking the following phenomena\n",
      " \n",
      "|  phenomenon  | tracking |\n",
      "---------------------------\n",
      "   Jetstream   |   no\n",
      "   PSL CY/ACY  |   no\n",
      "   Z500 CY/ACY |   no\n",
      "   COLs        |   no\n",
      "   IVT ARs     |   yes\n",
      "   MS ARs      |   no\n",
      "   Fronts      |   no\n",
      "   TCs         |   no\n",
      "   MCSs        |   no\n",
      "   Equ. Waves  |   no\n",
      "---------------------------\n",
      " \n",
      "======> track IVT streams and atmospheric rivers (ARs)\n",
      "        3385 object found\n",
      "        break up long living IVT objects that have many elements\n"
     ]
    },
    {
     "name": "stderr",
     "output_type": "stream",
     "text": [
      "100%|██████████| 672/672 [00:27<00:00, 24.85it/s]\n"
     ]
    },
    {
     "name": "stdout",
     "output_type": "stream",
     "text": [
      "        00:00:33.56\n",
      "9\n",
      "            Loop over 1668 objects\n"
     ]
    },
    {
     "name": "stderr",
     "output_type": "stream",
     "text": [
      "/work/aa0238/a271093/Scripts/MOAAP/src/Tracking_Functions.py:250: RuntimeWarning: All-NaN slice encountered\n",
      "  obj_min = np.nanmin(data_slice, axis=(1, 2))\n",
      "/work/aa0238/a271093/Scripts/MOAAP/src/Tracking_Functions.py:251: RuntimeWarning: All-NaN slice encountered\n",
      "  obj_max = np.nanmax(data_slice, axis=(1, 2))\n",
      "/work/aa0238/a271093/Scripts/MOAAP/src/Tracking_Functions.py:252: RuntimeWarning: Mean of empty slice\n",
      "  obj_mean = np.nanmean(data_slice, axis=(1, 2))\n",
      "/work/aa0238/a271093/Conda/MOAAP_env/lib/python3.12/site-packages/scipy/ndimage/_measurements.py:1541: RuntimeWarning: invalid value encountered in scalar divide\n",
      "  results = [sum(input * grids[dir].astype(float), labels, index) / normalizer\n"
     ]
    },
    {
     "name": "stdout",
     "output_type": "stream",
     "text": [
      "        check if MSs quallify as ARs\n"
     ]
    },
    {
     "name": "stderr",
     "output_type": "stream",
     "text": [
      "/work/aa0238/a271093/Scripts/MOAAP/src/Tracking_Functions.py:4588: RuntimeWarning: divide by zero encountered in scalar divide\n",
      "  if DIST.max() / DIST.min() < AR_width_lenght_ratio:\n"
     ]
    },
    {
     "name": "stdout",
     "output_type": "stream",
     "text": [
      "            Loop over 1667 objects\n",
      "        00:01:22.55\n",
      " \n",
      "Save the object masks into a joint netCDF\n",
      "Saved: /work/aa0238/a271093/results/MOAAP/IVT_Tracking/NorESM_ssp_remapped_3x/ObjectMasks_MOAPP_ICON_100and85NorESMsspperc_remapped_3x_2072_07_01-2073_02_01.nc\n",
      "        00:00:27.24\n",
      "clean up /work/aa0238/a271093/results/MOAAP/IVT_Tracking/NorESM_ssp_remapped_3x/IVT_MOAPP_ICON_100and85NorESMsspperc_remapped_3x_2072_07_01-2073_01_01.pkl\n",
      "clean up finished\n",
      "clean up /work/aa0238/a271093/results/MOAAP/IVT_Tracking/NorESM_ssp_remapped_3x/ARs_MOAPP_ICON_100and85NorESMsspperc_remapped_3x_2072_07_01-2073_01_01.pkl\n",
      "clean up finished\n",
      "correct nc-file with \n",
      " cdo -selmon,6,7,8,9,10,11,12 /work/aa0238/a271093/results/MOAAP/IVT_Tracking/NorESM_ssp_remapped_3x/ObjectMasks_MOAPP_ICON_100and85NorESMsspperc_remapped_3x_2072_07_01-2073_02_01.nc /work/aa0238/a271093/results/MOAAP/IVT_Tracking/NorESM_ssp_remapped_3x/ObjectMasks_MOAPP_ICON_100and85NorESMsspperc_remapped_3x_2072_07_01-2073_01_01_corrected.nc\n",
      "\n",
      " \n",
      " \n",
      " \n",
      "\n",
      "2073-01-01 00:00:00 2073-08-01 00:00:00\n",
      " \n",
      "The provided variables allow tracking the following phenomena\n",
      " \n",
      "|  phenomenon  | tracking |\n",
      "---------------------------\n",
      "   Jetstream   |   no\n",
      "   PSL CY/ACY  |   no\n",
      "   Z500 CY/ACY |   no\n",
      "   COLs        |   no\n",
      "   IVT ARs     |   yes\n",
      "   MS ARs      |   no\n",
      "   Fronts      |   no\n",
      "   TCs         |   no\n",
      "   MCSs        |   no\n",
      "   Equ. Waves  |   no\n",
      "---------------------------\n",
      " \n",
      "======> track IVT streams and atmospheric rivers (ARs)\n",
      "        3557 object found\n",
      "        break up long living IVT objects that have many elements\n"
     ]
    },
    {
     "name": "stderr",
     "output_type": "stream",
     "text": [
      "100%|██████████| 593/593 [00:25<00:00, 23.56it/s] \n"
     ]
    },
    {
     "name": "stdout",
     "output_type": "stream",
     "text": [
      "        00:00:31.31\n",
      "9\n",
      "            Loop over 1840 objects\n"
     ]
    },
    {
     "name": "stderr",
     "output_type": "stream",
     "text": [
      "/work/aa0238/a271093/Scripts/MOAAP/src/Tracking_Functions.py:250: RuntimeWarning: All-NaN slice encountered\n",
      "  obj_min = np.nanmin(data_slice, axis=(1, 2))\n",
      "/work/aa0238/a271093/Scripts/MOAAP/src/Tracking_Functions.py:251: RuntimeWarning: All-NaN slice encountered\n",
      "  obj_max = np.nanmax(data_slice, axis=(1, 2))\n",
      "/work/aa0238/a271093/Scripts/MOAAP/src/Tracking_Functions.py:252: RuntimeWarning: Mean of empty slice\n",
      "  obj_mean = np.nanmean(data_slice, axis=(1, 2))\n",
      "/work/aa0238/a271093/Conda/MOAAP_env/lib/python3.12/site-packages/scipy/ndimage/_measurements.py:1541: RuntimeWarning: invalid value encountered in scalar divide\n",
      "  results = [sum(input * grids[dir].astype(float), labels, index) / normalizer\n"
     ]
    },
    {
     "name": "stdout",
     "output_type": "stream",
     "text": [
      "        check if MSs quallify as ARs\n"
     ]
    },
    {
     "name": "stderr",
     "output_type": "stream",
     "text": [
      "/work/aa0238/a271093/Scripts/MOAAP/src/Tracking_Functions.py:4588: RuntimeWarning: divide by zero encountered in scalar divide\n",
      "  if DIST.max() / DIST.min() < AR_width_lenght_ratio:\n"
     ]
    },
    {
     "name": "stdout",
     "output_type": "stream",
     "text": [
      "            Loop over 1839 objects\n",
      "        00:01:27.63\n",
      " \n",
      "Save the object masks into a joint netCDF\n",
      "Saved: /work/aa0238/a271093/results/MOAAP/IVT_Tracking/NorESM_ssp_remapped_3x/ObjectMasks_MOAPP_ICON_100and85NorESMsspperc_remapped_3x_2073_01_01-2073_08_01.nc\n",
      "        00:00:31.75\n",
      "clean up /work/aa0238/a271093/results/MOAAP/IVT_Tracking/NorESM_ssp_remapped_3x/IVT_MOAPP_ICON_100and85NorESMsspperc_remapped_3x_2073_01_01-2073_07_01.pkl\n",
      "clean up finished\n",
      "clean up /work/aa0238/a271093/results/MOAAP/IVT_Tracking/NorESM_ssp_remapped_3x/ARs_MOAPP_ICON_100and85NorESMsspperc_remapped_3x_2073_01_01-2073_07_01.pkl\n",
      "clean up finished\n",
      "correct nc-file with \n",
      " cdo -selmon,1,2,3,4,5,6 /work/aa0238/a271093/results/MOAAP/IVT_Tracking/NorESM_ssp_remapped_3x/ObjectMasks_MOAPP_ICON_100and85NorESMsspperc_remapped_3x_2073_01_01-2073_08_01.nc /work/aa0238/a271093/results/MOAAP/IVT_Tracking/NorESM_ssp_remapped_3x/ObjectMasks_MOAPP_ICON_100and85NorESMsspperc_remapped_3x_2073_01_01-2073_07_01_corrected.nc\n",
      "\n",
      " \n",
      " \n",
      " \n",
      "\n",
      "2073-07-01 00:00:00 2074-02-01 00:00:00\n",
      "Mergetime /work/aa0238/a271093/data/Jan_runs/ICON_NorESM_ssp/NorESM_ssp_remapped_3x/IVTu/IVTu_2073010100-2073123123_remapped_3x.nc /work/aa0238/a271093/data/Jan_runs/ICON_NorESM_ssp/NorESM_ssp_remapped_3x/IVTu/IVTu_2074010100-2074123123_remapped_3x.nc  /work/aa0238/a271093/scratch/mergedIVTu_2073_2074_remapped_3x.nc\n",
      "Mergetime /work/aa0238/a271093/data/Jan_runs/ICON_NorESM_ssp/NorESM_ssp_remapped_3x/IVTv/IVTv_2073010100-2073123123_remapped_3x.nc /work/aa0238/a271093/data/Jan_runs/ICON_NorESM_ssp/NorESM_ssp_remapped_3x/IVTv/IVTv_2074010100-2074123123_remapped_3x.nc  /work/aa0238/a271093/scratch/mergedIVTv_2073_2074_remapped_3x.nc\n",
      " \n",
      "The provided variables allow tracking the following phenomena\n",
      " \n",
      "|  phenomenon  | tracking |\n",
      "---------------------------\n",
      "   Jetstream   |   no\n",
      "   PSL CY/ACY  |   no\n",
      "   Z500 CY/ACY |   no\n",
      "   COLs        |   no\n",
      "   IVT ARs     |   yes\n",
      "   MS ARs      |   no\n",
      "   Fronts      |   no\n",
      "   TCs         |   no\n",
      "   MCSs        |   no\n",
      "   Equ. Waves  |   no\n",
      "---------------------------\n",
      " \n",
      "======> track IVT streams and atmospheric rivers (ARs)\n",
      "        3439 object found\n",
      "        break up long living IVT objects that have many elements\n"
     ]
    },
    {
     "name": "stderr",
     "output_type": "stream",
     "text": [
      "100%|██████████| 570/570 [00:25<00:00, 22.51it/s]\n"
     ]
    },
    {
     "name": "stdout",
     "output_type": "stream",
     "text": [
      "        00:00:31.49\n",
      "9\n",
      "            Loop over 1680 objects\n",
      "        check if MSs quallify as ARs\n"
     ]
    },
    {
     "name": "stderr",
     "output_type": "stream",
     "text": [
      "/work/aa0238/a271093/Scripts/MOAAP/src/Tracking_Functions.py:4588: RuntimeWarning: divide by zero encountered in scalar divide\n",
      "  if DIST.max() / DIST.min() < AR_width_lenght_ratio:\n"
     ]
    },
    {
     "name": "stdout",
     "output_type": "stream",
     "text": [
      "            Loop over 1677 objects\n"
     ]
    },
    {
     "name": "stderr",
     "output_type": "stream",
     "text": [
      "/work/aa0238/a271093/Scripts/MOAAP/src/Tracking_Functions.py:250: RuntimeWarning: All-NaN slice encountered\n",
      "  obj_min = np.nanmin(data_slice, axis=(1, 2))\n",
      "/work/aa0238/a271093/Scripts/MOAAP/src/Tracking_Functions.py:251: RuntimeWarning: All-NaN slice encountered\n",
      "  obj_max = np.nanmax(data_slice, axis=(1, 2))\n",
      "/work/aa0238/a271093/Scripts/MOAAP/src/Tracking_Functions.py:252: RuntimeWarning: Mean of empty slice\n",
      "  obj_mean = np.nanmean(data_slice, axis=(1, 2))\n",
      "/work/aa0238/a271093/Conda/MOAAP_env/lib/python3.12/site-packages/scipy/ndimage/_measurements.py:1541: RuntimeWarning: invalid value encountered in scalar divide\n",
      "  results = [sum(input * grids[dir].astype(float), labels, index) / normalizer\n"
     ]
    },
    {
     "name": "stdout",
     "output_type": "stream",
     "text": [
      "        00:01:22.76\n",
      " \n",
      "Save the object masks into a joint netCDF\n",
      "Saved: /work/aa0238/a271093/results/MOAAP/IVT_Tracking/NorESM_ssp_remapped_3x/ObjectMasks_MOAPP_ICON_100and85NorESMsspperc_remapped_3x_2073_07_01-2074_02_01.nc\n",
      "        00:00:27.11\n",
      "clean up /work/aa0238/a271093/results/MOAAP/IVT_Tracking/NorESM_ssp_remapped_3x/IVT_MOAPP_ICON_100and85NorESMsspperc_remapped_3x_2073_07_01-2074_01_01.pkl\n",
      "clean up finished\n",
      "clean up /work/aa0238/a271093/results/MOAAP/IVT_Tracking/NorESM_ssp_remapped_3x/ARs_MOAPP_ICON_100and85NorESMsspperc_remapped_3x_2073_07_01-2074_01_01.pkl\n",
      "clean up finished\n",
      "correct nc-file with \n",
      " cdo -selmon,6,7,8,9,10,11,12 /work/aa0238/a271093/results/MOAAP/IVT_Tracking/NorESM_ssp_remapped_3x/ObjectMasks_MOAPP_ICON_100and85NorESMsspperc_remapped_3x_2073_07_01-2074_02_01.nc /work/aa0238/a271093/results/MOAAP/IVT_Tracking/NorESM_ssp_remapped_3x/ObjectMasks_MOAPP_ICON_100and85NorESMsspperc_remapped_3x_2073_07_01-2074_01_01_corrected.nc\n",
      "\n",
      " \n",
      " \n",
      " \n",
      "\n",
      "2074-01-01 00:00:00 2074-08-01 00:00:00\n",
      " \n",
      "The provided variables allow tracking the following phenomena\n",
      " \n",
      "|  phenomenon  | tracking |\n",
      "---------------------------\n",
      "   Jetstream   |   no\n",
      "   PSL CY/ACY  |   no\n",
      "   Z500 CY/ACY |   no\n",
      "   COLs        |   no\n",
      "   IVT ARs     |   yes\n",
      "   MS ARs      |   no\n",
      "   Fronts      |   no\n",
      "   TCs         |   no\n",
      "   MCSs        |   no\n",
      "   Equ. Waves  |   no\n",
      "---------------------------\n",
      " \n",
      "======> track IVT streams and atmospheric rivers (ARs)\n",
      "        3681 object found\n",
      "        break up long living IVT objects that have many elements\n"
     ]
    },
    {
     "name": "stderr",
     "output_type": "stream",
     "text": [
      "100%|██████████| 656/656 [00:28<00:00, 22.89it/s]\n"
     ]
    },
    {
     "name": "stdout",
     "output_type": "stream",
     "text": [
      "        00:00:34.96\n",
      "9\n",
      "            Loop over 1757 objects\n"
     ]
    },
    {
     "name": "stderr",
     "output_type": "stream",
     "text": [
      "/work/aa0238/a271093/Scripts/MOAAP/src/Tracking_Functions.py:250: RuntimeWarning: All-NaN slice encountered\n",
      "  obj_min = np.nanmin(data_slice, axis=(1, 2))\n",
      "/work/aa0238/a271093/Scripts/MOAAP/src/Tracking_Functions.py:251: RuntimeWarning: All-NaN slice encountered\n",
      "  obj_max = np.nanmax(data_slice, axis=(1, 2))\n",
      "/work/aa0238/a271093/Scripts/MOAAP/src/Tracking_Functions.py:252: RuntimeWarning: Mean of empty slice\n",
      "  obj_mean = np.nanmean(data_slice, axis=(1, 2))\n",
      "/work/aa0238/a271093/Conda/MOAAP_env/lib/python3.12/site-packages/scipy/ndimage/_measurements.py:1541: RuntimeWarning: invalid value encountered in scalar divide\n",
      "  results = [sum(input * grids[dir].astype(float), labels, index) / normalizer\n"
     ]
    },
    {
     "name": "stdout",
     "output_type": "stream",
     "text": [
      "        check if MSs quallify as ARs\n"
     ]
    },
    {
     "name": "stderr",
     "output_type": "stream",
     "text": [
      "/work/aa0238/a271093/Scripts/MOAAP/src/Tracking_Functions.py:4588: RuntimeWarning: divide by zero encountered in scalar divide\n",
      "  if DIST.max() / DIST.min() < AR_width_lenght_ratio:\n"
     ]
    },
    {
     "name": "stdout",
     "output_type": "stream",
     "text": [
      "            Loop over 1757 objects\n",
      "        00:01:31.37\n",
      " \n",
      "Save the object masks into a joint netCDF\n",
      "Saved: /work/aa0238/a271093/results/MOAAP/IVT_Tracking/NorESM_ssp_remapped_3x/ObjectMasks_MOAPP_ICON_100and85NorESMsspperc_remapped_3x_2074_01_01-2074_08_01.nc\n",
      "        00:00:24.33\n",
      "clean up /work/aa0238/a271093/results/MOAAP/IVT_Tracking/NorESM_ssp_remapped_3x/IVT_MOAPP_ICON_100and85NorESMsspperc_remapped_3x_2074_01_01-2074_07_01.pkl\n",
      "clean up finished\n",
      "clean up /work/aa0238/a271093/results/MOAAP/IVT_Tracking/NorESM_ssp_remapped_3x/ARs_MOAPP_ICON_100and85NorESMsspperc_remapped_3x_2074_01_01-2074_07_01.pkl\n",
      "clean up finished\n",
      "correct nc-file with \n",
      " cdo -selmon,1,2,3,4,5,6 /work/aa0238/a271093/results/MOAAP/IVT_Tracking/NorESM_ssp_remapped_3x/ObjectMasks_MOAPP_ICON_100and85NorESMsspperc_remapped_3x_2074_01_01-2074_08_01.nc /work/aa0238/a271093/results/MOAAP/IVT_Tracking/NorESM_ssp_remapped_3x/ObjectMasks_MOAPP_ICON_100and85NorESMsspperc_remapped_3x_2074_01_01-2074_07_01_corrected.nc\n",
      "\n",
      " \n",
      " \n",
      " \n",
      "\n",
      "2074-07-01 00:00:00 2075-02-01 00:00:00\n",
      "Mergetime /work/aa0238/a271093/data/Jan_runs/ICON_NorESM_ssp/NorESM_ssp_remapped_3x/IVTu/IVTu_2074010100-2074123123_remapped_3x.nc /work/aa0238/a271093/data/Jan_runs/ICON_NorESM_ssp/NorESM_ssp_remapped_3x/IVTu/IVTu_2075010100-2075123123_remapped_3x.nc  /work/aa0238/a271093/scratch/mergedIVTu_2074_2075_remapped_3x.nc\n",
      "Mergetime /work/aa0238/a271093/data/Jan_runs/ICON_NorESM_ssp/NorESM_ssp_remapped_3x/IVTv/IVTv_2074010100-2074123123_remapped_3x.nc /work/aa0238/a271093/data/Jan_runs/ICON_NorESM_ssp/NorESM_ssp_remapped_3x/IVTv/IVTv_2075010100-2075123123_remapped_3x.nc  /work/aa0238/a271093/scratch/mergedIVTv_2074_2075_remapped_3x.nc\n",
      " \n",
      "The provided variables allow tracking the following phenomena\n",
      " \n",
      "|  phenomenon  | tracking |\n",
      "---------------------------\n",
      "   Jetstream   |   no\n",
      "   PSL CY/ACY  |   no\n",
      "   Z500 CY/ACY |   no\n",
      "   COLs        |   no\n",
      "   IVT ARs     |   yes\n",
      "   MS ARs      |   no\n",
      "   Fronts      |   no\n",
      "   TCs         |   no\n",
      "   MCSs        |   no\n",
      "   Equ. Waves  |   no\n",
      "---------------------------\n",
      " \n",
      "======> track IVT streams and atmospheric rivers (ARs)\n",
      "        3397 object found\n",
      "        break up long living IVT objects that have many elements\n"
     ]
    },
    {
     "name": "stderr",
     "output_type": "stream",
     "text": [
      "100%|██████████| 620/620 [00:26<00:00, 23.16it/s]\n"
     ]
    },
    {
     "name": "stdout",
     "output_type": "stream",
     "text": [
      "        00:00:33.52\n",
      "9\n",
      "            Loop over 1639 objects\n"
     ]
    },
    {
     "name": "stderr",
     "output_type": "stream",
     "text": [
      "/work/aa0238/a271093/Scripts/MOAAP/src/Tracking_Functions.py:250: RuntimeWarning: All-NaN slice encountered\n",
      "  obj_min = np.nanmin(data_slice, axis=(1, 2))\n",
      "/work/aa0238/a271093/Scripts/MOAAP/src/Tracking_Functions.py:251: RuntimeWarning: All-NaN slice encountered\n",
      "  obj_max = np.nanmax(data_slice, axis=(1, 2))\n",
      "/work/aa0238/a271093/Scripts/MOAAP/src/Tracking_Functions.py:252: RuntimeWarning: Mean of empty slice\n",
      "  obj_mean = np.nanmean(data_slice, axis=(1, 2))\n",
      "/work/aa0238/a271093/Conda/MOAAP_env/lib/python3.12/site-packages/scipy/ndimage/_measurements.py:1541: RuntimeWarning: invalid value encountered in scalar divide\n",
      "  results = [sum(input * grids[dir].astype(float), labels, index) / normalizer\n"
     ]
    },
    {
     "name": "stdout",
     "output_type": "stream",
     "text": [
      "        check if MSs quallify as ARs\n"
     ]
    },
    {
     "name": "stderr",
     "output_type": "stream",
     "text": [
      "/work/aa0238/a271093/Scripts/MOAAP/src/Tracking_Functions.py:4588: RuntimeWarning: divide by zero encountered in scalar divide\n",
      "  if DIST.max() / DIST.min() < AR_width_lenght_ratio:\n"
     ]
    },
    {
     "name": "stdout",
     "output_type": "stream",
     "text": [
      "            Loop over 1639 objects\n",
      "        00:01:22.19\n",
      " \n",
      "Save the object masks into a joint netCDF\n",
      "Saved: /work/aa0238/a271093/results/MOAAP/IVT_Tracking/NorESM_ssp_remapped_3x/ObjectMasks_MOAPP_ICON_100and85NorESMsspperc_remapped_3x_2074_07_01-2075_02_01.nc\n",
      "        00:00:25.34\n",
      "clean up /work/aa0238/a271093/results/MOAAP/IVT_Tracking/NorESM_ssp_remapped_3x/IVT_MOAPP_ICON_100and85NorESMsspperc_remapped_3x_2074_07_01-2075_01_01.pkl\n",
      "clean up finished\n",
      "clean up /work/aa0238/a271093/results/MOAAP/IVT_Tracking/NorESM_ssp_remapped_3x/ARs_MOAPP_ICON_100and85NorESMsspperc_remapped_3x_2074_07_01-2075_01_01.pkl\n",
      "clean up finished\n",
      "correct nc-file with \n",
      " cdo -selmon,6,7,8,9,10,11,12 /work/aa0238/a271093/results/MOAAP/IVT_Tracking/NorESM_ssp_remapped_3x/ObjectMasks_MOAPP_ICON_100and85NorESMsspperc_remapped_3x_2074_07_01-2075_02_01.nc /work/aa0238/a271093/results/MOAAP/IVT_Tracking/NorESM_ssp_remapped_3x/ObjectMasks_MOAPP_ICON_100and85NorESMsspperc_remapped_3x_2074_07_01-2075_01_01_corrected.nc\n",
      "\n",
      " \n",
      " \n",
      " \n",
      "\n",
      "2075-01-01 00:00:00 2075-08-01 00:00:00\n",
      " \n",
      "The provided variables allow tracking the following phenomena\n",
      " \n",
      "|  phenomenon  | tracking |\n",
      "---------------------------\n",
      "   Jetstream   |   no\n",
      "   PSL CY/ACY  |   no\n",
      "   Z500 CY/ACY |   no\n",
      "   COLs        |   no\n",
      "   IVT ARs     |   yes\n",
      "   MS ARs      |   no\n",
      "   Fronts      |   no\n",
      "   TCs         |   no\n",
      "   MCSs        |   no\n",
      "   Equ. Waves  |   no\n",
      "---------------------------\n",
      " \n",
      "======> track IVT streams and atmospheric rivers (ARs)\n",
      "        3601 object found\n",
      "        break up long living IVT objects that have many elements\n"
     ]
    },
    {
     "name": "stderr",
     "output_type": "stream",
     "text": [
      "100%|██████████| 613/613 [00:27<00:00, 22.24it/s]\n"
     ]
    },
    {
     "name": "stdout",
     "output_type": "stream",
     "text": [
      "        00:00:33.89\n",
      "9\n",
      "            Loop over 1816 objects\n"
     ]
    },
    {
     "name": "stderr",
     "output_type": "stream",
     "text": [
      "/work/aa0238/a271093/Scripts/MOAAP/src/Tracking_Functions.py:250: RuntimeWarning: All-NaN slice encountered\n",
      "  obj_min = np.nanmin(data_slice, axis=(1, 2))\n",
      "/work/aa0238/a271093/Scripts/MOAAP/src/Tracking_Functions.py:251: RuntimeWarning: All-NaN slice encountered\n",
      "  obj_max = np.nanmax(data_slice, axis=(1, 2))\n",
      "/work/aa0238/a271093/Scripts/MOAAP/src/Tracking_Functions.py:252: RuntimeWarning: Mean of empty slice\n",
      "  obj_mean = np.nanmean(data_slice, axis=(1, 2))\n",
      "/work/aa0238/a271093/Conda/MOAAP_env/lib/python3.12/site-packages/scipy/ndimage/_measurements.py:1541: RuntimeWarning: invalid value encountered in scalar divide\n",
      "  results = [sum(input * grids[dir].astype(float), labels, index) / normalizer\n"
     ]
    },
    {
     "name": "stdout",
     "output_type": "stream",
     "text": [
      "        check if MSs quallify as ARs\n"
     ]
    },
    {
     "name": "stderr",
     "output_type": "stream",
     "text": [
      "/work/aa0238/a271093/Scripts/MOAAP/src/Tracking_Functions.py:4588: RuntimeWarning: divide by zero encountered in scalar divide\n",
      "  if DIST.max() / DIST.min() < AR_width_lenght_ratio:\n"
     ]
    },
    {
     "name": "stdout",
     "output_type": "stream",
     "text": [
      "            Loop over 1815 objects\n",
      "        00:01:33.97\n",
      " \n",
      "Save the object masks into a joint netCDF\n",
      "Saved: /work/aa0238/a271093/results/MOAAP/IVT_Tracking/NorESM_ssp_remapped_3x/ObjectMasks_MOAPP_ICON_100and85NorESMsspperc_remapped_3x_2075_01_01-2075_08_01.nc\n",
      "        00:00:27.21\n",
      "clean up /work/aa0238/a271093/results/MOAAP/IVT_Tracking/NorESM_ssp_remapped_3x/IVT_MOAPP_ICON_100and85NorESMsspperc_remapped_3x_2075_01_01-2075_07_01.pkl\n",
      "clean up finished\n",
      "clean up /work/aa0238/a271093/results/MOAAP/IVT_Tracking/NorESM_ssp_remapped_3x/ARs_MOAPP_ICON_100and85NorESMsspperc_remapped_3x_2075_01_01-2075_07_01.pkl\n",
      "clean up finished\n",
      "correct nc-file with \n",
      " cdo -selmon,1,2,3,4,5,6 /work/aa0238/a271093/results/MOAAP/IVT_Tracking/NorESM_ssp_remapped_3x/ObjectMasks_MOAPP_ICON_100and85NorESMsspperc_remapped_3x_2075_01_01-2075_08_01.nc /work/aa0238/a271093/results/MOAAP/IVT_Tracking/NorESM_ssp_remapped_3x/ObjectMasks_MOAPP_ICON_100and85NorESMsspperc_remapped_3x_2075_01_01-2075_07_01_corrected.nc\n",
      "\n",
      " \n",
      " \n",
      " \n",
      "\n",
      "2075-07-01 00:00:00 2076-02-01 00:00:00\n",
      "Mergetime /work/aa0238/a271093/data/Jan_runs/ICON_NorESM_ssp/NorESM_ssp_remapped_3x/IVTu/IVTu_2075010100-2075123123_remapped_3x.nc /work/aa0238/a271093/data/Jan_runs/ICON_NorESM_ssp/NorESM_ssp_remapped_3x/IVTu/IVTu_2076010100-2076123123_remapped_3x.nc  /work/aa0238/a271093/scratch/mergedIVTu_2075_2076_remapped_3x.nc\n",
      "Mergetime /work/aa0238/a271093/data/Jan_runs/ICON_NorESM_ssp/NorESM_ssp_remapped_3x/IVTv/IVTv_2075010100-2075123123_remapped_3x.nc /work/aa0238/a271093/data/Jan_runs/ICON_NorESM_ssp/NorESM_ssp_remapped_3x/IVTv/IVTv_2076010100-2076123123_remapped_3x.nc  /work/aa0238/a271093/scratch/mergedIVTv_2075_2076_remapped_3x.nc\n",
      " \n",
      "The provided variables allow tracking the following phenomena\n",
      " \n",
      "|  phenomenon  | tracking |\n",
      "---------------------------\n",
      "   Jetstream   |   no\n",
      "   PSL CY/ACY  |   no\n",
      "   Z500 CY/ACY |   no\n",
      "   COLs        |   no\n",
      "   IVT ARs     |   yes\n",
      "   MS ARs      |   no\n",
      "   Fronts      |   no\n",
      "   TCs         |   no\n",
      "   MCSs        |   no\n",
      "   Equ. Waves  |   no\n",
      "---------------------------\n",
      " \n",
      "======> track IVT streams and atmospheric rivers (ARs)\n",
      "        3191 object found\n",
      "        break up long living IVT objects that have many elements\n"
     ]
    },
    {
     "name": "stderr",
     "output_type": "stream",
     "text": [
      "100%|██████████| 622/622 [00:24<00:00, 25.79it/s]\n"
     ]
    },
    {
     "name": "stdout",
     "output_type": "stream",
     "text": [
      "        00:00:30.25\n",
      "9\n",
      "            Loop over 1577 objects\n"
     ]
    },
    {
     "name": "stderr",
     "output_type": "stream",
     "text": [
      "/work/aa0238/a271093/Scripts/MOAAP/src/Tracking_Functions.py:250: RuntimeWarning: All-NaN slice encountered\n",
      "  obj_min = np.nanmin(data_slice, axis=(1, 2))\n",
      "/work/aa0238/a271093/Scripts/MOAAP/src/Tracking_Functions.py:251: RuntimeWarning: All-NaN slice encountered\n",
      "  obj_max = np.nanmax(data_slice, axis=(1, 2))\n",
      "/work/aa0238/a271093/Scripts/MOAAP/src/Tracking_Functions.py:252: RuntimeWarning: Mean of empty slice\n",
      "  obj_mean = np.nanmean(data_slice, axis=(1, 2))\n",
      "/work/aa0238/a271093/Conda/MOAAP_env/lib/python3.12/site-packages/scipy/ndimage/_measurements.py:1541: RuntimeWarning: invalid value encountered in scalar divide\n",
      "  results = [sum(input * grids[dir].astype(float), labels, index) / normalizer\n"
     ]
    },
    {
     "name": "stdout",
     "output_type": "stream",
     "text": [
      "        check if MSs quallify as ARs\n"
     ]
    },
    {
     "name": "stderr",
     "output_type": "stream",
     "text": [
      "/work/aa0238/a271093/Scripts/MOAAP/src/Tracking_Functions.py:4588: RuntimeWarning: divide by zero encountered in scalar divide\n",
      "  if DIST.max() / DIST.min() < AR_width_lenght_ratio:\n"
     ]
    },
    {
     "name": "stdout",
     "output_type": "stream",
     "text": [
      "            Loop over 1576 objects\n",
      "        00:01:16.45\n",
      " \n",
      "Save the object masks into a joint netCDF\n",
      "Saved: /work/aa0238/a271093/results/MOAAP/IVT_Tracking/NorESM_ssp_remapped_3x/ObjectMasks_MOAPP_ICON_100and85NorESMsspperc_remapped_3x_2075_07_01-2076_02_01.nc\n",
      "        00:00:24.89\n",
      "clean up /work/aa0238/a271093/results/MOAAP/IVT_Tracking/NorESM_ssp_remapped_3x/IVT_MOAPP_ICON_100and85NorESMsspperc_remapped_3x_2075_07_01-2076_01_01.pkl\n",
      "clean up finished\n",
      "clean up /work/aa0238/a271093/results/MOAAP/IVT_Tracking/NorESM_ssp_remapped_3x/ARs_MOAPP_ICON_100and85NorESMsspperc_remapped_3x_2075_07_01-2076_01_01.pkl\n",
      "clean up finished\n",
      "correct nc-file with \n",
      " cdo -selmon,6,7,8,9,10,11,12 /work/aa0238/a271093/results/MOAAP/IVT_Tracking/NorESM_ssp_remapped_3x/ObjectMasks_MOAPP_ICON_100and85NorESMsspperc_remapped_3x_2075_07_01-2076_02_01.nc /work/aa0238/a271093/results/MOAAP/IVT_Tracking/NorESM_ssp_remapped_3x/ObjectMasks_MOAPP_ICON_100and85NorESMsspperc_remapped_3x_2075_07_01-2076_01_01_corrected.nc\n",
      "\n",
      " \n",
      " \n",
      " \n",
      "\n",
      "2076-01-01 00:00:00 2076-08-01 00:00:00\n",
      " \n",
      "The provided variables allow tracking the following phenomena\n",
      " \n",
      "|  phenomenon  | tracking |\n",
      "---------------------------\n",
      "   Jetstream   |   no\n",
      "   PSL CY/ACY  |   no\n",
      "   Z500 CY/ACY |   no\n",
      "   COLs        |   no\n",
      "   IVT ARs     |   yes\n",
      "   MS ARs      |   no\n",
      "   Fronts      |   no\n",
      "   TCs         |   no\n",
      "   MCSs        |   no\n",
      "   Equ. Waves  |   no\n",
      "---------------------------\n",
      " \n",
      "======> track IVT streams and atmospheric rivers (ARs)\n",
      "        3422 object found\n",
      "        break up long living IVT objects that have many elements\n"
     ]
    },
    {
     "name": "stderr",
     "output_type": "stream",
     "text": [
      "100%|██████████| 607/607 [00:23<00:00, 25.70it/s] \n"
     ]
    },
    {
     "name": "stdout",
     "output_type": "stream",
     "text": [
      "        00:00:29.32\n",
      "9\n",
      "            Loop over 1577 objects\n"
     ]
    },
    {
     "name": "stderr",
     "output_type": "stream",
     "text": [
      "/work/aa0238/a271093/Scripts/MOAAP/src/Tracking_Functions.py:250: RuntimeWarning: All-NaN slice encountered\n",
      "  obj_min = np.nanmin(data_slice, axis=(1, 2))\n",
      "/work/aa0238/a271093/Scripts/MOAAP/src/Tracking_Functions.py:251: RuntimeWarning: All-NaN slice encountered\n",
      "  obj_max = np.nanmax(data_slice, axis=(1, 2))\n",
      "/work/aa0238/a271093/Scripts/MOAAP/src/Tracking_Functions.py:252: RuntimeWarning: Mean of empty slice\n",
      "  obj_mean = np.nanmean(data_slice, axis=(1, 2))\n",
      "/work/aa0238/a271093/Conda/MOAAP_env/lib/python3.12/site-packages/scipy/ndimage/_measurements.py:1541: RuntimeWarning: invalid value encountered in scalar divide\n",
      "  results = [sum(input * grids[dir].astype(float), labels, index) / normalizer\n"
     ]
    },
    {
     "name": "stdout",
     "output_type": "stream",
     "text": [
      "        check if MSs quallify as ARs\n"
     ]
    },
    {
     "name": "stderr",
     "output_type": "stream",
     "text": [
      "/work/aa0238/a271093/Scripts/MOAAP/src/Tracking_Functions.py:4588: RuntimeWarning: divide by zero encountered in scalar divide\n",
      "  if DIST.max() / DIST.min() < AR_width_lenght_ratio:\n"
     ]
    },
    {
     "name": "stdout",
     "output_type": "stream",
     "text": [
      "            Loop over 1577 objects\n",
      "        00:01:16.08\n",
      " \n",
      "Save the object masks into a joint netCDF\n",
      "Saved: /work/aa0238/a271093/results/MOAAP/IVT_Tracking/NorESM_ssp_remapped_3x/ObjectMasks_MOAPP_ICON_100and85NorESMsspperc_remapped_3x_2076_01_01-2076_08_01.nc\n",
      "        00:00:25.69\n",
      "clean up /work/aa0238/a271093/results/MOAAP/IVT_Tracking/NorESM_ssp_remapped_3x/IVT_MOAPP_ICON_100and85NorESMsspperc_remapped_3x_2076_01_01-2076_07_01.pkl\n",
      "clean up finished\n",
      "clean up /work/aa0238/a271093/results/MOAAP/IVT_Tracking/NorESM_ssp_remapped_3x/ARs_MOAPP_ICON_100and85NorESMsspperc_remapped_3x_2076_01_01-2076_07_01.pkl\n",
      "clean up finished\n",
      "correct nc-file with \n",
      " cdo -selmon,1,2,3,4,5,6 /work/aa0238/a271093/results/MOAAP/IVT_Tracking/NorESM_ssp_remapped_3x/ObjectMasks_MOAPP_ICON_100and85NorESMsspperc_remapped_3x_2076_01_01-2076_08_01.nc /work/aa0238/a271093/results/MOAAP/IVT_Tracking/NorESM_ssp_remapped_3x/ObjectMasks_MOAPP_ICON_100and85NorESMsspperc_remapped_3x_2076_01_01-2076_07_01_corrected.nc\n",
      "\n",
      " \n",
      " \n",
      " \n",
      "\n",
      "2076-07-01 00:00:00 2077-02-01 00:00:00\n",
      "Mergetime /work/aa0238/a271093/data/Jan_runs/ICON_NorESM_ssp/NorESM_ssp_remapped_3x/IVTu/IVTu_2076010100-2076123123_remapped_3x.nc /work/aa0238/a271093/data/Jan_runs/ICON_NorESM_ssp/NorESM_ssp_remapped_3x/IVTu/IVTu_2077010100-2077123123_remapped_3x.nc  /work/aa0238/a271093/scratch/mergedIVTu_2076_2077_remapped_3x.nc\n",
      "Mergetime /work/aa0238/a271093/data/Jan_runs/ICON_NorESM_ssp/NorESM_ssp_remapped_3x/IVTv/IVTv_2076010100-2076123123_remapped_3x.nc /work/aa0238/a271093/data/Jan_runs/ICON_NorESM_ssp/NorESM_ssp_remapped_3x/IVTv/IVTv_2077010100-2077123123_remapped_3x.nc  /work/aa0238/a271093/scratch/mergedIVTv_2076_2077_remapped_3x.nc\n",
      " \n",
      "The provided variables allow tracking the following phenomena\n",
      " \n",
      "|  phenomenon  | tracking |\n",
      "---------------------------\n",
      "   Jetstream   |   no\n",
      "   PSL CY/ACY  |   no\n",
      "   Z500 CY/ACY |   no\n",
      "   COLs        |   no\n",
      "   IVT ARs     |   yes\n",
      "   MS ARs      |   no\n",
      "   Fronts      |   no\n",
      "   TCs         |   no\n",
      "   MCSs        |   no\n",
      "   Equ. Waves  |   no\n",
      "---------------------------\n",
      " \n",
      "======> track IVT streams and atmospheric rivers (ARs)\n",
      "        3524 object found\n",
      "        break up long living IVT objects that have many elements\n"
     ]
    },
    {
     "name": "stderr",
     "output_type": "stream",
     "text": [
      "100%|██████████| 642/642 [00:24<00:00, 26.01it/s] \n"
     ]
    },
    {
     "name": "stdout",
     "output_type": "stream",
     "text": [
      "        00:00:30.90\n",
      "9\n",
      "            Loop over 1624 objects\n",
      "        check if MSs quallify as ARs\n"
     ]
    },
    {
     "name": "stderr",
     "output_type": "stream",
     "text": [
      "/work/aa0238/a271093/Scripts/MOAAP/src/Tracking_Functions.py:4588: RuntimeWarning: divide by zero encountered in scalar divide\n",
      "  if DIST.max() / DIST.min() < AR_width_lenght_ratio:\n"
     ]
    },
    {
     "name": "stdout",
     "output_type": "stream",
     "text": [
      "            Loop over 1622 objects\n"
     ]
    },
    {
     "name": "stderr",
     "output_type": "stream",
     "text": [
      "/work/aa0238/a271093/Scripts/MOAAP/src/Tracking_Functions.py:250: RuntimeWarning: All-NaN slice encountered\n",
      "  obj_min = np.nanmin(data_slice, axis=(1, 2))\n",
      "/work/aa0238/a271093/Scripts/MOAAP/src/Tracking_Functions.py:251: RuntimeWarning: All-NaN slice encountered\n",
      "  obj_max = np.nanmax(data_slice, axis=(1, 2))\n",
      "/work/aa0238/a271093/Scripts/MOAAP/src/Tracking_Functions.py:252: RuntimeWarning: Mean of empty slice\n",
      "  obj_mean = np.nanmean(data_slice, axis=(1, 2))\n",
      "/work/aa0238/a271093/Conda/MOAAP_env/lib/python3.12/site-packages/scipy/ndimage/_measurements.py:1541: RuntimeWarning: invalid value encountered in scalar divide\n",
      "  results = [sum(input * grids[dir].astype(float), labels, index) / normalizer\n"
     ]
    },
    {
     "name": "stdout",
     "output_type": "stream",
     "text": [
      "        00:01:18.00\n",
      " \n",
      "Save the object masks into a joint netCDF\n",
      "Saved: /work/aa0238/a271093/results/MOAAP/IVT_Tracking/NorESM_ssp_remapped_3x/ObjectMasks_MOAPP_ICON_100and85NorESMsspperc_remapped_3x_2076_07_01-2077_02_01.nc\n",
      "        00:00:24.53\n",
      "clean up /work/aa0238/a271093/results/MOAAP/IVT_Tracking/NorESM_ssp_remapped_3x/IVT_MOAPP_ICON_100and85NorESMsspperc_remapped_3x_2076_07_01-2077_01_01.pkl\n",
      "clean up finished\n",
      "clean up /work/aa0238/a271093/results/MOAAP/IVT_Tracking/NorESM_ssp_remapped_3x/ARs_MOAPP_ICON_100and85NorESMsspperc_remapped_3x_2076_07_01-2077_01_01.pkl\n",
      "clean up finished\n",
      "correct nc-file with \n",
      " cdo -selmon,6,7,8,9,10,11,12 /work/aa0238/a271093/results/MOAAP/IVT_Tracking/NorESM_ssp_remapped_3x/ObjectMasks_MOAPP_ICON_100and85NorESMsspperc_remapped_3x_2076_07_01-2077_02_01.nc /work/aa0238/a271093/results/MOAAP/IVT_Tracking/NorESM_ssp_remapped_3x/ObjectMasks_MOAPP_ICON_100and85NorESMsspperc_remapped_3x_2076_07_01-2077_01_01_corrected.nc\n",
      "\n",
      " \n",
      " \n",
      " \n",
      "\n",
      "2077-01-01 00:00:00 2077-08-01 00:00:00\n",
      " \n",
      "The provided variables allow tracking the following phenomena\n",
      " \n",
      "|  phenomenon  | tracking |\n",
      "---------------------------\n",
      "   Jetstream   |   no\n",
      "   PSL CY/ACY  |   no\n",
      "   Z500 CY/ACY |   no\n",
      "   COLs        |   no\n",
      "   IVT ARs     |   yes\n",
      "   MS ARs      |   no\n",
      "   Fronts      |   no\n",
      "   TCs         |   no\n",
      "   MCSs        |   no\n",
      "   Equ. Waves  |   no\n",
      "---------------------------\n",
      " \n",
      "======> track IVT streams and atmospheric rivers (ARs)\n",
      "        3749 object found\n",
      "        break up long living IVT objects that have many elements\n"
     ]
    },
    {
     "name": "stderr",
     "output_type": "stream",
     "text": [
      "100%|██████████| 686/686 [00:26<00:00, 25.65it/s] \n"
     ]
    },
    {
     "name": "stdout",
     "output_type": "stream",
     "text": [
      "        00:00:32.88\n",
      "9\n",
      "            Loop over 1825 objects\n"
     ]
    },
    {
     "name": "stderr",
     "output_type": "stream",
     "text": [
      "/work/aa0238/a271093/Scripts/MOAAP/src/Tracking_Functions.py:250: RuntimeWarning: All-NaN slice encountered\n",
      "  obj_min = np.nanmin(data_slice, axis=(1, 2))\n",
      "/work/aa0238/a271093/Scripts/MOAAP/src/Tracking_Functions.py:251: RuntimeWarning: All-NaN slice encountered\n",
      "  obj_max = np.nanmax(data_slice, axis=(1, 2))\n",
      "/work/aa0238/a271093/Scripts/MOAAP/src/Tracking_Functions.py:252: RuntimeWarning: Mean of empty slice\n",
      "  obj_mean = np.nanmean(data_slice, axis=(1, 2))\n",
      "/work/aa0238/a271093/Conda/MOAAP_env/lib/python3.12/site-packages/scipy/ndimage/_measurements.py:1541: RuntimeWarning: invalid value encountered in scalar divide\n",
      "  results = [sum(input * grids[dir].astype(float), labels, index) / normalizer\n"
     ]
    },
    {
     "name": "stdout",
     "output_type": "stream",
     "text": [
      "        check if MSs quallify as ARs\n"
     ]
    },
    {
     "name": "stderr",
     "output_type": "stream",
     "text": [
      "/work/aa0238/a271093/Scripts/MOAAP/src/Tracking_Functions.py:4588: RuntimeWarning: divide by zero encountered in scalar divide\n",
      "  if DIST.max() / DIST.min() < AR_width_lenght_ratio:\n"
     ]
    },
    {
     "name": "stdout",
     "output_type": "stream",
     "text": [
      "            Loop over 1822 objects\n",
      "        00:01:25.58\n",
      " \n",
      "Save the object masks into a joint netCDF\n",
      "Saved: /work/aa0238/a271093/results/MOAAP/IVT_Tracking/NorESM_ssp_remapped_3x/ObjectMasks_MOAPP_ICON_100and85NorESMsspperc_remapped_3x_2077_01_01-2077_08_01.nc\n",
      "        00:00:24.50\n",
      "clean up /work/aa0238/a271093/results/MOAAP/IVT_Tracking/NorESM_ssp_remapped_3x/IVT_MOAPP_ICON_100and85NorESMsspperc_remapped_3x_2077_01_01-2077_07_01.pkl\n",
      "clean up finished\n",
      "clean up /work/aa0238/a271093/results/MOAAP/IVT_Tracking/NorESM_ssp_remapped_3x/ARs_MOAPP_ICON_100and85NorESMsspperc_remapped_3x_2077_01_01-2077_07_01.pkl\n",
      "clean up finished\n",
      "correct nc-file with \n",
      " cdo -selmon,1,2,3,4,5,6 /work/aa0238/a271093/results/MOAAP/IVT_Tracking/NorESM_ssp_remapped_3x/ObjectMasks_MOAPP_ICON_100and85NorESMsspperc_remapped_3x_2077_01_01-2077_08_01.nc /work/aa0238/a271093/results/MOAAP/IVT_Tracking/NorESM_ssp_remapped_3x/ObjectMasks_MOAPP_ICON_100and85NorESMsspperc_remapped_3x_2077_01_01-2077_07_01_corrected.nc\n",
      "\n",
      " \n",
      " \n",
      " \n",
      "\n",
      "2077-07-01 00:00:00 2078-02-01 00:00:00\n",
      "Mergetime /work/aa0238/a271093/data/Jan_runs/ICON_NorESM_ssp/NorESM_ssp_remapped_3x/IVTu/IVTu_2077010100-2077123123_remapped_3x.nc /work/aa0238/a271093/data/Jan_runs/ICON_NorESM_ssp/NorESM_ssp_remapped_3x/IVTu/IVTu_2078010100-2078123123_remapped_3x.nc  /work/aa0238/a271093/scratch/mergedIVTu_2077_2078_remapped_3x.nc\n",
      "Mergetime /work/aa0238/a271093/data/Jan_runs/ICON_NorESM_ssp/NorESM_ssp_remapped_3x/IVTv/IVTv_2077010100-2077123123_remapped_3x.nc /work/aa0238/a271093/data/Jan_runs/ICON_NorESM_ssp/NorESM_ssp_remapped_3x/IVTv/IVTv_2078010100-2078123123_remapped_3x.nc  /work/aa0238/a271093/scratch/mergedIVTv_2077_2078_remapped_3x.nc\n",
      " \n",
      "The provided variables allow tracking the following phenomena\n",
      " \n",
      "|  phenomenon  | tracking |\n",
      "---------------------------\n",
      "   Jetstream   |   no\n",
      "   PSL CY/ACY  |   no\n",
      "   Z500 CY/ACY |   no\n",
      "   COLs        |   no\n",
      "   IVT ARs     |   yes\n",
      "   MS ARs      |   no\n",
      "   Fronts      |   no\n",
      "   TCs         |   no\n",
      "   MCSs        |   no\n",
      "   Equ. Waves  |   no\n",
      "---------------------------\n",
      " \n",
      "======> track IVT streams and atmospheric rivers (ARs)\n",
      "        3500 object found\n",
      "        break up long living IVT objects that have many elements\n"
     ]
    },
    {
     "name": "stderr",
     "output_type": "stream",
     "text": [
      "100%|██████████| 613/613 [00:25<00:00, 23.81it/s]\n"
     ]
    },
    {
     "name": "stdout",
     "output_type": "stream",
     "text": [
      "        00:00:31.94\n",
      "9\n",
      "            Loop over 1611 objects\n"
     ]
    },
    {
     "name": "stderr",
     "output_type": "stream",
     "text": [
      "/work/aa0238/a271093/Scripts/MOAAP/src/Tracking_Functions.py:250: RuntimeWarning: All-NaN slice encountered\n",
      "  obj_min = np.nanmin(data_slice, axis=(1, 2))\n",
      "/work/aa0238/a271093/Scripts/MOAAP/src/Tracking_Functions.py:251: RuntimeWarning: All-NaN slice encountered\n",
      "  obj_max = np.nanmax(data_slice, axis=(1, 2))\n",
      "/work/aa0238/a271093/Scripts/MOAAP/src/Tracking_Functions.py:252: RuntimeWarning: Mean of empty slice\n",
      "  obj_mean = np.nanmean(data_slice, axis=(1, 2))\n",
      "/work/aa0238/a271093/Conda/MOAAP_env/lib/python3.12/site-packages/scipy/ndimage/_measurements.py:1541: RuntimeWarning: invalid value encountered in scalar divide\n",
      "  results = [sum(input * grids[dir].astype(float), labels, index) / normalizer\n"
     ]
    },
    {
     "name": "stdout",
     "output_type": "stream",
     "text": [
      "        check if MSs quallify as ARs\n"
     ]
    },
    {
     "name": "stderr",
     "output_type": "stream",
     "text": [
      "/work/aa0238/a271093/Scripts/MOAAP/src/Tracking_Functions.py:4588: RuntimeWarning: divide by zero encountered in scalar divide\n",
      "  if DIST.max() / DIST.min() < AR_width_lenght_ratio:\n"
     ]
    },
    {
     "name": "stdout",
     "output_type": "stream",
     "text": [
      "            Loop over 1611 objects\n",
      "        00:01:20.67\n",
      " \n",
      "Save the object masks into a joint netCDF\n",
      "Saved: /work/aa0238/a271093/results/MOAAP/IVT_Tracking/NorESM_ssp_remapped_3x/ObjectMasks_MOAPP_ICON_100and85NorESMsspperc_remapped_3x_2077_07_01-2078_02_01.nc\n",
      "        00:00:24.55\n",
      "clean up /work/aa0238/a271093/results/MOAAP/IVT_Tracking/NorESM_ssp_remapped_3x/IVT_MOAPP_ICON_100and85NorESMsspperc_remapped_3x_2077_07_01-2078_01_01.pkl\n",
      "clean up finished\n",
      "clean up /work/aa0238/a271093/results/MOAAP/IVT_Tracking/NorESM_ssp_remapped_3x/ARs_MOAPP_ICON_100and85NorESMsspperc_remapped_3x_2077_07_01-2078_01_01.pkl\n",
      "clean up finished\n",
      "correct nc-file with \n",
      " cdo -selmon,6,7,8,9,10,11,12 /work/aa0238/a271093/results/MOAAP/IVT_Tracking/NorESM_ssp_remapped_3x/ObjectMasks_MOAPP_ICON_100and85NorESMsspperc_remapped_3x_2077_07_01-2078_02_01.nc /work/aa0238/a271093/results/MOAAP/IVT_Tracking/NorESM_ssp_remapped_3x/ObjectMasks_MOAPP_ICON_100and85NorESMsspperc_remapped_3x_2077_07_01-2078_01_01_corrected.nc\n",
      "\n",
      " \n",
      " \n",
      " \n",
      "\n",
      "2078-01-01 00:00:00 2078-08-01 00:00:00\n",
      " \n",
      "The provided variables allow tracking the following phenomena\n",
      " \n",
      "|  phenomenon  | tracking |\n",
      "---------------------------\n",
      "   Jetstream   |   no\n",
      "   PSL CY/ACY  |   no\n",
      "   Z500 CY/ACY |   no\n",
      "   COLs        |   no\n",
      "   IVT ARs     |   yes\n",
      "   MS ARs      |   no\n",
      "   Fronts      |   no\n",
      "   TCs         |   no\n",
      "   MCSs        |   no\n",
      "   Equ. Waves  |   no\n",
      "---------------------------\n",
      " \n",
      "======> track IVT streams and atmospheric rivers (ARs)\n",
      "        3678 object found\n",
      "        break up long living IVT objects that have many elements\n"
     ]
    },
    {
     "name": "stderr",
     "output_type": "stream",
     "text": [
      "100%|██████████| 678/678 [00:26<00:00, 25.34it/s] \n"
     ]
    },
    {
     "name": "stdout",
     "output_type": "stream",
     "text": [
      "        00:00:32.90\n",
      "9\n",
      "            Loop over 1771 objects\n"
     ]
    },
    {
     "name": "stderr",
     "output_type": "stream",
     "text": [
      "/work/aa0238/a271093/Scripts/MOAAP/src/Tracking_Functions.py:250: RuntimeWarning: All-NaN slice encountered\n",
      "  obj_min = np.nanmin(data_slice, axis=(1, 2))\n",
      "/work/aa0238/a271093/Scripts/MOAAP/src/Tracking_Functions.py:251: RuntimeWarning: All-NaN slice encountered\n",
      "  obj_max = np.nanmax(data_slice, axis=(1, 2))\n",
      "/work/aa0238/a271093/Scripts/MOAAP/src/Tracking_Functions.py:252: RuntimeWarning: Mean of empty slice\n",
      "  obj_mean = np.nanmean(data_slice, axis=(1, 2))\n",
      "/work/aa0238/a271093/Conda/MOAAP_env/lib/python3.12/site-packages/scipy/ndimage/_measurements.py:1541: RuntimeWarning: invalid value encountered in scalar divide\n",
      "  results = [sum(input * grids[dir].astype(float), labels, index) / normalizer\n"
     ]
    },
    {
     "name": "stdout",
     "output_type": "stream",
     "text": [
      "        check if MSs quallify as ARs\n"
     ]
    },
    {
     "name": "stderr",
     "output_type": "stream",
     "text": [
      "/work/aa0238/a271093/Scripts/MOAAP/src/Tracking_Functions.py:4588: RuntimeWarning: divide by zero encountered in scalar divide\n",
      "  if DIST.max() / DIST.min() < AR_width_lenght_ratio:\n"
     ]
    },
    {
     "name": "stdout",
     "output_type": "stream",
     "text": [
      "            Loop over 1769 objects\n",
      "        00:01:28.47\n",
      " \n",
      "Save the object masks into a joint netCDF\n",
      "Saved: /work/aa0238/a271093/results/MOAAP/IVT_Tracking/NorESM_ssp_remapped_3x/ObjectMasks_MOAPP_ICON_100and85NorESMsspperc_remapped_3x_2078_01_01-2078_08_01.nc\n",
      "        00:00:24.24\n",
      "clean up /work/aa0238/a271093/results/MOAAP/IVT_Tracking/NorESM_ssp_remapped_3x/IVT_MOAPP_ICON_100and85NorESMsspperc_remapped_3x_2078_01_01-2078_07_01.pkl\n",
      "clean up finished\n",
      "clean up /work/aa0238/a271093/results/MOAAP/IVT_Tracking/NorESM_ssp_remapped_3x/ARs_MOAPP_ICON_100and85NorESMsspperc_remapped_3x_2078_01_01-2078_07_01.pkl\n",
      "clean up finished\n",
      "correct nc-file with \n",
      " cdo -selmon,1,2,3,4,5,6 /work/aa0238/a271093/results/MOAAP/IVT_Tracking/NorESM_ssp_remapped_3x/ObjectMasks_MOAPP_ICON_100and85NorESMsspperc_remapped_3x_2078_01_01-2078_08_01.nc /work/aa0238/a271093/results/MOAAP/IVT_Tracking/NorESM_ssp_remapped_3x/ObjectMasks_MOAPP_ICON_100and85NorESMsspperc_remapped_3x_2078_01_01-2078_07_01_corrected.nc\n",
      "\n",
      " \n",
      " \n",
      " \n",
      "\n",
      "2078-07-01 00:00:00 2079-02-01 00:00:00\n",
      "Mergetime /work/aa0238/a271093/data/Jan_runs/ICON_NorESM_ssp/NorESM_ssp_remapped_3x/IVTu/IVTu_2078010100-2078123123_remapped_3x.nc /work/aa0238/a271093/data/Jan_runs/ICON_NorESM_ssp/NorESM_ssp_remapped_3x/IVTu/IVTu_2079010100-2079123123_remapped_3x.nc  /work/aa0238/a271093/scratch/mergedIVTu_2078_2079_remapped_3x.nc\n",
      "Mergetime /work/aa0238/a271093/data/Jan_runs/ICON_NorESM_ssp/NorESM_ssp_remapped_3x/IVTv/IVTv_2078010100-2078123123_remapped_3x.nc /work/aa0238/a271093/data/Jan_runs/ICON_NorESM_ssp/NorESM_ssp_remapped_3x/IVTv/IVTv_2079010100-2079123123_remapped_3x.nc  /work/aa0238/a271093/scratch/mergedIVTv_2078_2079_remapped_3x.nc\n",
      " \n",
      "The provided variables allow tracking the following phenomena\n",
      " \n",
      "|  phenomenon  | tracking |\n",
      "---------------------------\n",
      "   Jetstream   |   no\n",
      "   PSL CY/ACY  |   no\n",
      "   Z500 CY/ACY |   no\n",
      "   COLs        |   no\n",
      "   IVT ARs     |   yes\n",
      "   MS ARs      |   no\n",
      "   Fronts      |   no\n",
      "   TCs         |   no\n",
      "   MCSs        |   no\n",
      "   Equ. Waves  |   no\n",
      "---------------------------\n",
      " \n",
      "======> track IVT streams and atmospheric rivers (ARs)\n",
      "        3347 object found\n",
      "        break up long living IVT objects that have many elements\n"
     ]
    },
    {
     "name": "stderr",
     "output_type": "stream",
     "text": [
      "100%|██████████| 574/574 [00:23<00:00, 24.10it/s]\n"
     ]
    },
    {
     "name": "stdout",
     "output_type": "stream",
     "text": [
      "        00:00:30.07\n",
      "9\n",
      "            Loop over 1558 objects\n"
     ]
    },
    {
     "name": "stderr",
     "output_type": "stream",
     "text": [
      "/work/aa0238/a271093/Scripts/MOAAP/src/Tracking_Functions.py:250: RuntimeWarning: All-NaN slice encountered\n",
      "  obj_min = np.nanmin(data_slice, axis=(1, 2))\n",
      "/work/aa0238/a271093/Scripts/MOAAP/src/Tracking_Functions.py:251: RuntimeWarning: All-NaN slice encountered\n",
      "  obj_max = np.nanmax(data_slice, axis=(1, 2))\n",
      "/work/aa0238/a271093/Scripts/MOAAP/src/Tracking_Functions.py:252: RuntimeWarning: Mean of empty slice\n",
      "  obj_mean = np.nanmean(data_slice, axis=(1, 2))\n",
      "/work/aa0238/a271093/Conda/MOAAP_env/lib/python3.12/site-packages/scipy/ndimage/_measurements.py:1541: RuntimeWarning: invalid value encountered in scalar divide\n",
      "  results = [sum(input * grids[dir].astype(float), labels, index) / normalizer\n"
     ]
    },
    {
     "name": "stdout",
     "output_type": "stream",
     "text": [
      "        check if MSs quallify as ARs\n"
     ]
    },
    {
     "name": "stderr",
     "output_type": "stream",
     "text": [
      "/work/aa0238/a271093/Scripts/MOAAP/src/Tracking_Functions.py:4588: RuntimeWarning: divide by zero encountered in scalar divide\n",
      "  if DIST.max() / DIST.min() < AR_width_lenght_ratio:\n"
     ]
    },
    {
     "name": "stdout",
     "output_type": "stream",
     "text": [
      "            Loop over 1557 objects\n",
      "        00:01:18.74\n",
      " \n",
      "Save the object masks into a joint netCDF\n",
      "Saved: /work/aa0238/a271093/results/MOAAP/IVT_Tracking/NorESM_ssp_remapped_3x/ObjectMasks_MOAPP_ICON_100and85NorESMsspperc_remapped_3x_2078_07_01-2079_02_01.nc\n",
      "        00:00:24.60\n",
      "clean up /work/aa0238/a271093/results/MOAAP/IVT_Tracking/NorESM_ssp_remapped_3x/IVT_MOAPP_ICON_100and85NorESMsspperc_remapped_3x_2078_07_01-2079_01_01.pkl\n",
      "clean up finished\n",
      "clean up /work/aa0238/a271093/results/MOAAP/IVT_Tracking/NorESM_ssp_remapped_3x/ARs_MOAPP_ICON_100and85NorESMsspperc_remapped_3x_2078_07_01-2079_01_01.pkl\n",
      "clean up finished\n",
      "correct nc-file with \n",
      " cdo -selmon,6,7,8,9,10,11,12 /work/aa0238/a271093/results/MOAAP/IVT_Tracking/NorESM_ssp_remapped_3x/ObjectMasks_MOAPP_ICON_100and85NorESMsspperc_remapped_3x_2078_07_01-2079_02_01.nc /work/aa0238/a271093/results/MOAAP/IVT_Tracking/NorESM_ssp_remapped_3x/ObjectMasks_MOAPP_ICON_100and85NorESMsspperc_remapped_3x_2078_07_01-2079_01_01_corrected.nc\n",
      "\n",
      " \n",
      " \n",
      " \n",
      "\n",
      "2079-01-01 00:00:00 2079-08-01 00:00:00\n",
      " \n",
      "The provided variables allow tracking the following phenomena\n",
      " \n",
      "|  phenomenon  | tracking |\n",
      "---------------------------\n",
      "   Jetstream   |   no\n",
      "   PSL CY/ACY  |   no\n",
      "   Z500 CY/ACY |   no\n",
      "   COLs        |   no\n",
      "   IVT ARs     |   yes\n",
      "   MS ARs      |   no\n",
      "   Fronts      |   no\n",
      "   TCs         |   no\n",
      "   MCSs        |   no\n",
      "   Equ. Waves  |   no\n",
      "---------------------------\n",
      " \n",
      "======> track IVT streams and atmospheric rivers (ARs)\n",
      "        3528 object found\n",
      "        break up long living IVT objects that have many elements\n"
     ]
    },
    {
     "name": "stderr",
     "output_type": "stream",
     "text": [
      "100%|██████████| 611/611 [00:25<00:00, 24.23it/s]\n"
     ]
    },
    {
     "name": "stdout",
     "output_type": "stream",
     "text": [
      "        00:00:31.12\n",
      "9\n",
      "            Loop over 1694 objects\n"
     ]
    },
    {
     "name": "stderr",
     "output_type": "stream",
     "text": [
      "/work/aa0238/a271093/Scripts/MOAAP/src/Tracking_Functions.py:250: RuntimeWarning: All-NaN slice encountered\n",
      "  obj_min = np.nanmin(data_slice, axis=(1, 2))\n",
      "/work/aa0238/a271093/Scripts/MOAAP/src/Tracking_Functions.py:251: RuntimeWarning: All-NaN slice encountered\n",
      "  obj_max = np.nanmax(data_slice, axis=(1, 2))\n",
      "/work/aa0238/a271093/Scripts/MOAAP/src/Tracking_Functions.py:252: RuntimeWarning: Mean of empty slice\n",
      "  obj_mean = np.nanmean(data_slice, axis=(1, 2))\n",
      "/work/aa0238/a271093/Conda/MOAAP_env/lib/python3.12/site-packages/scipy/ndimage/_measurements.py:1541: RuntimeWarning: invalid value encountered in scalar divide\n",
      "  results = [sum(input * grids[dir].astype(float), labels, index) / normalizer\n"
     ]
    },
    {
     "name": "stdout",
     "output_type": "stream",
     "text": [
      "        check if MSs quallify as ARs\n"
     ]
    },
    {
     "name": "stderr",
     "output_type": "stream",
     "text": [
      "/work/aa0238/a271093/Scripts/MOAAP/src/Tracking_Functions.py:4588: RuntimeWarning: divide by zero encountered in scalar divide\n",
      "  if DIST.max() / DIST.min() < AR_width_lenght_ratio:\n"
     ]
    },
    {
     "name": "stdout",
     "output_type": "stream",
     "text": [
      "            Loop over 1693 objects\n",
      "        00:01:21.34\n",
      " \n",
      "Save the object masks into a joint netCDF\n",
      "Saved: /work/aa0238/a271093/results/MOAAP/IVT_Tracking/NorESM_ssp_remapped_3x/ObjectMasks_MOAPP_ICON_100and85NorESMsspperc_remapped_3x_2079_01_01-2079_08_01.nc\n",
      "        00:00:24.31\n",
      "clean up /work/aa0238/a271093/results/MOAAP/IVT_Tracking/NorESM_ssp_remapped_3x/IVT_MOAPP_ICON_100and85NorESMsspperc_remapped_3x_2079_01_01-2079_07_01.pkl\n",
      "clean up finished\n",
      "clean up /work/aa0238/a271093/results/MOAAP/IVT_Tracking/NorESM_ssp_remapped_3x/ARs_MOAPP_ICON_100and85NorESMsspperc_remapped_3x_2079_01_01-2079_07_01.pkl\n",
      "clean up finished\n",
      "correct nc-file with \n",
      " cdo -selmon,1,2,3,4,5,6 /work/aa0238/a271093/results/MOAAP/IVT_Tracking/NorESM_ssp_remapped_3x/ObjectMasks_MOAPP_ICON_100and85NorESMsspperc_remapped_3x_2079_01_01-2079_08_01.nc /work/aa0238/a271093/results/MOAAP/IVT_Tracking/NorESM_ssp_remapped_3x/ObjectMasks_MOAPP_ICON_100and85NorESMsspperc_remapped_3x_2079_01_01-2079_07_01_corrected.nc\n",
      "\n",
      " \n",
      " \n",
      " \n",
      "\n",
      "2079-07-01 00:00:00 2080-02-01 00:00:00\n",
      "Mergetime /work/aa0238/a271093/data/Jan_runs/ICON_NorESM_ssp/NorESM_ssp_remapped_3x/IVTu/IVTu_2079010100-2079123123_remapped_3x.nc /work/aa0238/a271093/data/Jan_runs/ICON_NorESM_ssp/NorESM_ssp_remapped_3x/IVTu/IVTu_2080010100-2080123123_remapped_3x.nc  /work/aa0238/a271093/scratch/mergedIVTu_2079_2080_remapped_3x.nc\n",
      "Mergetime /work/aa0238/a271093/data/Jan_runs/ICON_NorESM_ssp/NorESM_ssp_remapped_3x/IVTv/IVTv_2079010100-2079123123_remapped_3x.nc /work/aa0238/a271093/data/Jan_runs/ICON_NorESM_ssp/NorESM_ssp_remapped_3x/IVTv/IVTv_2080010100-2080123123_remapped_3x.nc  /work/aa0238/a271093/scratch/mergedIVTv_2079_2080_remapped_3x.nc\n",
      " \n",
      "The provided variables allow tracking the following phenomena\n",
      " \n",
      "|  phenomenon  | tracking |\n",
      "---------------------------\n",
      "   Jetstream   |   no\n",
      "   PSL CY/ACY  |   no\n",
      "   Z500 CY/ACY |   no\n",
      "   COLs        |   no\n",
      "   IVT ARs     |   yes\n",
      "   MS ARs      |   no\n",
      "   Fronts      |   no\n",
      "   TCs         |   no\n",
      "   MCSs        |   no\n",
      "   Equ. Waves  |   no\n",
      "---------------------------\n",
      " \n",
      "======> track IVT streams and atmospheric rivers (ARs)\n",
      "        3465 object found\n",
      "        break up long living IVT objects that have many elements\n"
     ]
    },
    {
     "name": "stderr",
     "output_type": "stream",
     "text": [
      "100%|██████████| 517/517 [00:24<00:00, 20.79it/s]\n"
     ]
    },
    {
     "name": "stdout",
     "output_type": "stream",
     "text": [
      "        00:00:31.08\n",
      "9\n",
      "            Loop over 1562 objects\n",
      "        check if MSs quallify as ARs\n"
     ]
    },
    {
     "name": "stderr",
     "output_type": "stream",
     "text": [
      "/work/aa0238/a271093/Scripts/MOAAP/src/Tracking_Functions.py:4588: RuntimeWarning: divide by zero encountered in scalar divide\n",
      "  if DIST.max() / DIST.min() < AR_width_lenght_ratio:\n"
     ]
    },
    {
     "name": "stdout",
     "output_type": "stream",
     "text": [
      "            Loop over 1562 objects\n"
     ]
    },
    {
     "name": "stderr",
     "output_type": "stream",
     "text": [
      "/work/aa0238/a271093/Scripts/MOAAP/src/Tracking_Functions.py:250: RuntimeWarning: All-NaN slice encountered\n",
      "  obj_min = np.nanmin(data_slice, axis=(1, 2))\n",
      "/work/aa0238/a271093/Scripts/MOAAP/src/Tracking_Functions.py:251: RuntimeWarning: All-NaN slice encountered\n",
      "  obj_max = np.nanmax(data_slice, axis=(1, 2))\n",
      "/work/aa0238/a271093/Scripts/MOAAP/src/Tracking_Functions.py:252: RuntimeWarning: Mean of empty slice\n",
      "  obj_mean = np.nanmean(data_slice, axis=(1, 2))\n",
      "/work/aa0238/a271093/Conda/MOAAP_env/lib/python3.12/site-packages/scipy/ndimage/_measurements.py:1541: RuntimeWarning: invalid value encountered in scalar divide\n",
      "  results = [sum(input * grids[dir].astype(float), labels, index) / normalizer\n"
     ]
    },
    {
     "name": "stdout",
     "output_type": "stream",
     "text": [
      "        00:01:18.91\n",
      " \n",
      "Save the object masks into a joint netCDF\n",
      "Saved: /work/aa0238/a271093/results/MOAAP/IVT_Tracking/NorESM_ssp_remapped_3x/ObjectMasks_MOAPP_ICON_100and85NorESMsspperc_remapped_3x_2079_07_01-2080_02_01.nc\n",
      "        00:00:24.73\n",
      "clean up /work/aa0238/a271093/results/MOAAP/IVT_Tracking/NorESM_ssp_remapped_3x/IVT_MOAPP_ICON_100and85NorESMsspperc_remapped_3x_2079_07_01-2080_01_01.pkl\n",
      "clean up finished\n",
      "clean up /work/aa0238/a271093/results/MOAAP/IVT_Tracking/NorESM_ssp_remapped_3x/ARs_MOAPP_ICON_100and85NorESMsspperc_remapped_3x_2079_07_01-2080_01_01.pkl\n",
      "clean up finished\n",
      "correct nc-file with \n",
      " cdo -selmon,6,7,8,9,10,11,12 /work/aa0238/a271093/results/MOAAP/IVT_Tracking/NorESM_ssp_remapped_3x/ObjectMasks_MOAPP_ICON_100and85NorESMsspperc_remapped_3x_2079_07_01-2080_02_01.nc /work/aa0238/a271093/results/MOAAP/IVT_Tracking/NorESM_ssp_remapped_3x/ObjectMasks_MOAPP_ICON_100and85NorESMsspperc_remapped_3x_2079_07_01-2080_01_01_corrected.nc\n",
      "\n",
      " \n",
      " \n",
      " \n",
      "\n",
      "2080-01-01 00:00:00 2080-08-01 00:00:00\n",
      " \n",
      "The provided variables allow tracking the following phenomena\n",
      " \n",
      "|  phenomenon  | tracking |\n",
      "---------------------------\n",
      "   Jetstream   |   no\n",
      "   PSL CY/ACY  |   no\n",
      "   Z500 CY/ACY |   no\n",
      "   COLs        |   no\n",
      "   IVT ARs     |   yes\n",
      "   MS ARs      |   no\n",
      "   Fronts      |   no\n",
      "   TCs         |   no\n",
      "   MCSs        |   no\n",
      "   Equ. Waves  |   no\n",
      "---------------------------\n",
      " \n",
      "======> track IVT streams and atmospheric rivers (ARs)\n",
      "        3311 object found\n",
      "        break up long living IVT objects that have many elements\n"
     ]
    },
    {
     "name": "stderr",
     "output_type": "stream",
     "text": [
      "100%|██████████| 545/545 [00:25<00:00, 21.10it/s]\n"
     ]
    },
    {
     "name": "stdout",
     "output_type": "stream",
     "text": [
      "        00:00:31.70\n",
      "9\n",
      "            Loop over 1576 objects\n"
     ]
    },
    {
     "name": "stderr",
     "output_type": "stream",
     "text": [
      "/work/aa0238/a271093/Scripts/MOAAP/src/Tracking_Functions.py:250: RuntimeWarning: All-NaN slice encountered\n",
      "  obj_min = np.nanmin(data_slice, axis=(1, 2))\n",
      "/work/aa0238/a271093/Scripts/MOAAP/src/Tracking_Functions.py:251: RuntimeWarning: All-NaN slice encountered\n",
      "  obj_max = np.nanmax(data_slice, axis=(1, 2))\n",
      "/work/aa0238/a271093/Scripts/MOAAP/src/Tracking_Functions.py:252: RuntimeWarning: Mean of empty slice\n",
      "  obj_mean = np.nanmean(data_slice, axis=(1, 2))\n",
      "/work/aa0238/a271093/Conda/MOAAP_env/lib/python3.12/site-packages/scipy/ndimage/_measurements.py:1541: RuntimeWarning: invalid value encountered in scalar divide\n",
      "  results = [sum(input * grids[dir].astype(float), labels, index) / normalizer\n"
     ]
    },
    {
     "name": "stdout",
     "output_type": "stream",
     "text": [
      "        check if MSs quallify as ARs\n"
     ]
    },
    {
     "name": "stderr",
     "output_type": "stream",
     "text": [
      "/work/aa0238/a271093/Scripts/MOAAP/src/Tracking_Functions.py:4588: RuntimeWarning: divide by zero encountered in scalar divide\n",
      "  if DIST.max() / DIST.min() < AR_width_lenght_ratio:\n"
     ]
    },
    {
     "name": "stdout",
     "output_type": "stream",
     "text": [
      "            Loop over 1573 objects\n",
      "        00:01:20.59\n",
      " \n",
      "Save the object masks into a joint netCDF\n",
      "Saved: /work/aa0238/a271093/results/MOAAP/IVT_Tracking/NorESM_ssp_remapped_3x/ObjectMasks_MOAPP_ICON_100and85NorESMsspperc_remapped_3x_2080_01_01-2080_08_01.nc\n",
      "        00:00:24.50\n",
      "clean up /work/aa0238/a271093/results/MOAAP/IVT_Tracking/NorESM_ssp_remapped_3x/IVT_MOAPP_ICON_100and85NorESMsspperc_remapped_3x_2080_01_01-2080_07_01.pkl\n",
      "clean up finished\n",
      "clean up /work/aa0238/a271093/results/MOAAP/IVT_Tracking/NorESM_ssp_remapped_3x/ARs_MOAPP_ICON_100and85NorESMsspperc_remapped_3x_2080_01_01-2080_07_01.pkl\n",
      "clean up finished\n",
      "correct nc-file with \n",
      " cdo -selmon,1,2,3,4,5,6 /work/aa0238/a271093/results/MOAAP/IVT_Tracking/NorESM_ssp_remapped_3x/ObjectMasks_MOAPP_ICON_100and85NorESMsspperc_remapped_3x_2080_01_01-2080_08_01.nc /work/aa0238/a271093/results/MOAAP/IVT_Tracking/NorESM_ssp_remapped_3x/ObjectMasks_MOAPP_ICON_100and85NorESMsspperc_remapped_3x_2080_01_01-2080_07_01_corrected.nc\n",
      "\n",
      " \n",
      " \n",
      " \n",
      "\n",
      "2080-07-01 00:00:00 2081-02-01 00:00:00\n",
      "Mergetime /work/aa0238/a271093/data/Jan_runs/ICON_NorESM_ssp/NorESM_ssp_remapped_3x/IVTu/IVTu_2080010100-2080123123_remapped_3x.nc /work/aa0238/a271093/data/Jan_runs/ICON_NorESM_ssp/NorESM_ssp_remapped_3x/IVTu/IVTu_2081010100-2081123123_remapped_3x.nc  /work/aa0238/a271093/scratch/mergedIVTu_2080_2081_remapped_3x.nc\n",
      "Mergetime /work/aa0238/a271093/data/Jan_runs/ICON_NorESM_ssp/NorESM_ssp_remapped_3x/IVTv/IVTv_2080010100-2080123123_remapped_3x.nc /work/aa0238/a271093/data/Jan_runs/ICON_NorESM_ssp/NorESM_ssp_remapped_3x/IVTv/IVTv_2081010100-2081123123_remapped_3x.nc  /work/aa0238/a271093/scratch/mergedIVTv_2080_2081_remapped_3x.nc\n",
      " \n",
      "The provided variables allow tracking the following phenomena\n",
      " \n",
      "|  phenomenon  | tracking |\n",
      "---------------------------\n",
      "   Jetstream   |   no\n",
      "   PSL CY/ACY  |   no\n",
      "   Z500 CY/ACY |   no\n",
      "   COLs        |   no\n",
      "   IVT ARs     |   yes\n",
      "   MS ARs      |   no\n",
      "   Fronts      |   no\n",
      "   TCs         |   no\n",
      "   MCSs        |   no\n",
      "   Equ. Waves  |   no\n",
      "---------------------------\n",
      " \n",
      "======> track IVT streams and atmospheric rivers (ARs)\n",
      "        3189 object found\n",
      "        break up long living IVT objects that have many elements\n"
     ]
    },
    {
     "name": "stderr",
     "output_type": "stream",
     "text": [
      "100%|██████████| 584/584 [00:26<00:00, 21.86it/s]\n"
     ]
    },
    {
     "name": "stdout",
     "output_type": "stream",
     "text": [
      "        00:00:32.91\n",
      "9\n",
      "            Loop over 1543 objects\n"
     ]
    },
    {
     "name": "stderr",
     "output_type": "stream",
     "text": [
      "/work/aa0238/a271093/Scripts/MOAAP/src/Tracking_Functions.py:250: RuntimeWarning: All-NaN slice encountered\n",
      "  obj_min = np.nanmin(data_slice, axis=(1, 2))\n",
      "/work/aa0238/a271093/Scripts/MOAAP/src/Tracking_Functions.py:251: RuntimeWarning: All-NaN slice encountered\n",
      "  obj_max = np.nanmax(data_slice, axis=(1, 2))\n",
      "/work/aa0238/a271093/Scripts/MOAAP/src/Tracking_Functions.py:252: RuntimeWarning: Mean of empty slice\n",
      "  obj_mean = np.nanmean(data_slice, axis=(1, 2))\n",
      "/work/aa0238/a271093/Conda/MOAAP_env/lib/python3.12/site-packages/scipy/ndimage/_measurements.py:1541: RuntimeWarning: invalid value encountered in scalar divide\n",
      "  results = [sum(input * grids[dir].astype(float), labels, index) / normalizer\n"
     ]
    },
    {
     "name": "stdout",
     "output_type": "stream",
     "text": [
      "        check if MSs quallify as ARs\n"
     ]
    },
    {
     "name": "stderr",
     "output_type": "stream",
     "text": [
      "/work/aa0238/a271093/Scripts/MOAAP/src/Tracking_Functions.py:4588: RuntimeWarning: divide by zero encountered in scalar divide\n",
      "  if DIST.max() / DIST.min() < AR_width_lenght_ratio:\n"
     ]
    },
    {
     "name": "stdout",
     "output_type": "stream",
     "text": [
      "            Loop over 1541 objects\n",
      "        00:01:20.14\n",
      " \n",
      "Save the object masks into a joint netCDF\n",
      "Saved: /work/aa0238/a271093/results/MOAAP/IVT_Tracking/NorESM_ssp_remapped_3x/ObjectMasks_MOAPP_ICON_100and85NorESMsspperc_remapped_3x_2080_07_01-2081_02_01.nc\n",
      "        00:00:24.60\n",
      "clean up /work/aa0238/a271093/results/MOAAP/IVT_Tracking/NorESM_ssp_remapped_3x/IVT_MOAPP_ICON_100and85NorESMsspperc_remapped_3x_2080_07_01-2081_01_01.pkl\n",
      "clean up finished\n",
      "clean up /work/aa0238/a271093/results/MOAAP/IVT_Tracking/NorESM_ssp_remapped_3x/ARs_MOAPP_ICON_100and85NorESMsspperc_remapped_3x_2080_07_01-2081_01_01.pkl\n",
      "clean up finished\n",
      "correct nc-file with \n",
      " cdo -selmon,6,7,8,9,10,11,12 /work/aa0238/a271093/results/MOAAP/IVT_Tracking/NorESM_ssp_remapped_3x/ObjectMasks_MOAPP_ICON_100and85NorESMsspperc_remapped_3x_2080_07_01-2081_02_01.nc /work/aa0238/a271093/results/MOAAP/IVT_Tracking/NorESM_ssp_remapped_3x/ObjectMasks_MOAPP_ICON_100and85NorESMsspperc_remapped_3x_2080_07_01-2081_01_01_corrected.nc\n",
      "\n",
      " \n",
      " \n",
      " \n",
      "\n",
      "2081-01-01 00:00:00 2081-08-01 00:00:00\n",
      " \n",
      "The provided variables allow tracking the following phenomena\n",
      " \n",
      "|  phenomenon  | tracking |\n",
      "---------------------------\n",
      "   Jetstream   |   no\n",
      "   PSL CY/ACY  |   no\n",
      "   Z500 CY/ACY |   no\n",
      "   COLs        |   no\n",
      "   IVT ARs     |   yes\n",
      "   MS ARs      |   no\n",
      "   Fronts      |   no\n",
      "   TCs         |   no\n",
      "   MCSs        |   no\n",
      "   Equ. Waves  |   no\n",
      "---------------------------\n",
      " \n",
      "======> track IVT streams and atmospheric rivers (ARs)\n",
      "        3653 object found\n",
      "        break up long living IVT objects that have many elements\n"
     ]
    },
    {
     "name": "stderr",
     "output_type": "stream",
     "text": [
      "100%|██████████| 631/631 [00:27<00:00, 23.25it/s]\n"
     ]
    },
    {
     "name": "stdout",
     "output_type": "stream",
     "text": [
      "        00:00:33.26\n",
      "9\n",
      "            Loop over 1831 objects\n"
     ]
    },
    {
     "name": "stderr",
     "output_type": "stream",
     "text": [
      "/work/aa0238/a271093/Scripts/MOAAP/src/Tracking_Functions.py:250: RuntimeWarning: All-NaN slice encountered\n",
      "  obj_min = np.nanmin(data_slice, axis=(1, 2))\n",
      "/work/aa0238/a271093/Scripts/MOAAP/src/Tracking_Functions.py:251: RuntimeWarning: All-NaN slice encountered\n",
      "  obj_max = np.nanmax(data_slice, axis=(1, 2))\n",
      "/work/aa0238/a271093/Scripts/MOAAP/src/Tracking_Functions.py:252: RuntimeWarning: Mean of empty slice\n",
      "  obj_mean = np.nanmean(data_slice, axis=(1, 2))\n",
      "/work/aa0238/a271093/Conda/MOAAP_env/lib/python3.12/site-packages/scipy/ndimage/_measurements.py:1541: RuntimeWarning: invalid value encountered in scalar divide\n",
      "  results = [sum(input * grids[dir].astype(float), labels, index) / normalizer\n"
     ]
    },
    {
     "name": "stdout",
     "output_type": "stream",
     "text": [
      "        check if MSs quallify as ARs\n"
     ]
    },
    {
     "name": "stderr",
     "output_type": "stream",
     "text": [
      "/work/aa0238/a271093/Scripts/MOAAP/src/Tracking_Functions.py:4588: RuntimeWarning: divide by zero encountered in scalar divide\n",
      "  if DIST.max() / DIST.min() < AR_width_lenght_ratio:\n"
     ]
    },
    {
     "name": "stdout",
     "output_type": "stream",
     "text": [
      "            Loop over 1827 objects\n",
      "        00:01:26.87\n",
      " \n",
      "Save the object masks into a joint netCDF\n",
      "Saved: /work/aa0238/a271093/results/MOAAP/IVT_Tracking/NorESM_ssp_remapped_3x/ObjectMasks_MOAPP_ICON_100and85NorESMsspperc_remapped_3x_2081_01_01-2081_08_01.nc\n",
      "        00:00:24.19\n",
      "clean up /work/aa0238/a271093/results/MOAAP/IVT_Tracking/NorESM_ssp_remapped_3x/IVT_MOAPP_ICON_100and85NorESMsspperc_remapped_3x_2081_01_01-2081_07_01.pkl\n",
      "clean up finished\n",
      "clean up /work/aa0238/a271093/results/MOAAP/IVT_Tracking/NorESM_ssp_remapped_3x/ARs_MOAPP_ICON_100and85NorESMsspperc_remapped_3x_2081_01_01-2081_07_01.pkl\n",
      "clean up finished\n",
      "correct nc-file with \n",
      " cdo -selmon,1,2,3,4,5,6 /work/aa0238/a271093/results/MOAAP/IVT_Tracking/NorESM_ssp_remapped_3x/ObjectMasks_MOAPP_ICON_100and85NorESMsspperc_remapped_3x_2081_01_01-2081_08_01.nc /work/aa0238/a271093/results/MOAAP/IVT_Tracking/NorESM_ssp_remapped_3x/ObjectMasks_MOAPP_ICON_100and85NorESMsspperc_remapped_3x_2081_01_01-2081_07_01_corrected.nc\n",
      "\n",
      " \n",
      " \n",
      " \n",
      "\n",
      "2081-07-01 00:00:00 2082-02-01 00:00:00\n",
      "Mergetime /work/aa0238/a271093/data/Jan_runs/ICON_NorESM_ssp/NorESM_ssp_remapped_3x/IVTu/IVTu_2081010100-2081123123_remapped_3x.nc /work/aa0238/a271093/data/Jan_runs/ICON_NorESM_ssp/NorESM_ssp_remapped_3x/IVTu/IVTu_2082010100-2082123123_remapped_3x.nc  /work/aa0238/a271093/scratch/mergedIVTu_2081_2082_remapped_3x.nc\n",
      "Mergetime /work/aa0238/a271093/data/Jan_runs/ICON_NorESM_ssp/NorESM_ssp_remapped_3x/IVTv/IVTv_2081010100-2081123123_remapped_3x.nc /work/aa0238/a271093/data/Jan_runs/ICON_NorESM_ssp/NorESM_ssp_remapped_3x/IVTv/IVTv_2082010100-2082123123_remapped_3x.nc  /work/aa0238/a271093/scratch/mergedIVTv_2081_2082_remapped_3x.nc\n",
      " \n",
      "The provided variables allow tracking the following phenomena\n",
      " \n",
      "|  phenomenon  | tracking |\n",
      "---------------------------\n",
      "   Jetstream   |   no\n",
      "   PSL CY/ACY  |   no\n",
      "   Z500 CY/ACY |   no\n",
      "   COLs        |   no\n",
      "   IVT ARs     |   yes\n",
      "   MS ARs      |   no\n",
      "   Fronts      |   no\n",
      "   TCs         |   no\n",
      "   MCSs        |   no\n",
      "   Equ. Waves  |   no\n",
      "---------------------------\n",
      " \n",
      "======> track IVT streams and atmospheric rivers (ARs)\n",
      "        3343 object found\n",
      "        break up long living IVT objects that have many elements\n"
     ]
    },
    {
     "name": "stderr",
     "output_type": "stream",
     "text": [
      "100%|██████████| 550/550 [00:27<00:00, 20.06it/s]\n"
     ]
    },
    {
     "name": "stdout",
     "output_type": "stream",
     "text": [
      "        00:00:33.50\n",
      "9\n",
      "            Loop over 1599 objects\n"
     ]
    },
    {
     "name": "stderr",
     "output_type": "stream",
     "text": [
      "/work/aa0238/a271093/Scripts/MOAAP/src/Tracking_Functions.py:250: RuntimeWarning: All-NaN slice encountered\n",
      "  obj_min = np.nanmin(data_slice, axis=(1, 2))\n",
      "/work/aa0238/a271093/Scripts/MOAAP/src/Tracking_Functions.py:251: RuntimeWarning: All-NaN slice encountered\n",
      "  obj_max = np.nanmax(data_slice, axis=(1, 2))\n",
      "/work/aa0238/a271093/Scripts/MOAAP/src/Tracking_Functions.py:252: RuntimeWarning: Mean of empty slice\n",
      "  obj_mean = np.nanmean(data_slice, axis=(1, 2))\n",
      "/work/aa0238/a271093/Conda/MOAAP_env/lib/python3.12/site-packages/scipy/ndimage/_measurements.py:1541: RuntimeWarning: invalid value encountered in scalar divide\n",
      "  results = [sum(input * grids[dir].astype(float), labels, index) / normalizer\n"
     ]
    },
    {
     "name": "stdout",
     "output_type": "stream",
     "text": [
      "        check if MSs quallify as ARs\n"
     ]
    },
    {
     "name": "stderr",
     "output_type": "stream",
     "text": [
      "/work/aa0238/a271093/Scripts/MOAAP/src/Tracking_Functions.py:4588: RuntimeWarning: divide by zero encountered in scalar divide\n",
      "  if DIST.max() / DIST.min() < AR_width_lenght_ratio:\n"
     ]
    },
    {
     "name": "stdout",
     "output_type": "stream",
     "text": [
      "            Loop over 1597 objects\n",
      "        00:01:21.99\n",
      " \n",
      "Save the object masks into a joint netCDF\n",
      "Saved: /work/aa0238/a271093/results/MOAAP/IVT_Tracking/NorESM_ssp_remapped_3x/ObjectMasks_MOAPP_ICON_100and85NorESMsspperc_remapped_3x_2081_07_01-2082_02_01.nc\n",
      "        00:00:24.71\n",
      "clean up /work/aa0238/a271093/results/MOAAP/IVT_Tracking/NorESM_ssp_remapped_3x/IVT_MOAPP_ICON_100and85NorESMsspperc_remapped_3x_2081_07_01-2082_01_01.pkl\n",
      "clean up finished\n",
      "clean up /work/aa0238/a271093/results/MOAAP/IVT_Tracking/NorESM_ssp_remapped_3x/ARs_MOAPP_ICON_100and85NorESMsspperc_remapped_3x_2081_07_01-2082_01_01.pkl\n",
      "clean up finished\n",
      "correct nc-file with \n",
      " cdo -selmon,6,7,8,9,10,11,12 /work/aa0238/a271093/results/MOAAP/IVT_Tracking/NorESM_ssp_remapped_3x/ObjectMasks_MOAPP_ICON_100and85NorESMsspperc_remapped_3x_2081_07_01-2082_02_01.nc /work/aa0238/a271093/results/MOAAP/IVT_Tracking/NorESM_ssp_remapped_3x/ObjectMasks_MOAPP_ICON_100and85NorESMsspperc_remapped_3x_2081_07_01-2082_01_01_corrected.nc\n",
      "\n",
      " \n",
      " \n",
      " \n",
      "\n",
      "2082-01-01 00:00:00 2082-08-01 00:00:00\n",
      " \n",
      "The provided variables allow tracking the following phenomena\n",
      " \n",
      "|  phenomenon  | tracking |\n",
      "---------------------------\n",
      "   Jetstream   |   no\n",
      "   PSL CY/ACY  |   no\n",
      "   Z500 CY/ACY |   no\n",
      "   COLs        |   no\n",
      "   IVT ARs     |   yes\n",
      "   MS ARs      |   no\n",
      "   Fronts      |   no\n",
      "   TCs         |   no\n",
      "   MCSs        |   no\n",
      "   Equ. Waves  |   no\n",
      "---------------------------\n",
      " \n",
      "======> track IVT streams and atmospheric rivers (ARs)\n",
      "        3521 object found\n",
      "        break up long living IVT objects that have many elements\n"
     ]
    },
    {
     "name": "stderr",
     "output_type": "stream",
     "text": [
      "100%|██████████| 612/612 [00:26<00:00, 23.45it/s] \n"
     ]
    },
    {
     "name": "stdout",
     "output_type": "stream",
     "text": [
      "        00:00:32.22\n",
      "9\n",
      "            Loop over 1800 objects\n"
     ]
    },
    {
     "name": "stderr",
     "output_type": "stream",
     "text": [
      "/work/aa0238/a271093/Scripts/MOAAP/src/Tracking_Functions.py:250: RuntimeWarning: All-NaN slice encountered\n",
      "  obj_min = np.nanmin(data_slice, axis=(1, 2))\n",
      "/work/aa0238/a271093/Scripts/MOAAP/src/Tracking_Functions.py:251: RuntimeWarning: All-NaN slice encountered\n",
      "  obj_max = np.nanmax(data_slice, axis=(1, 2))\n",
      "/work/aa0238/a271093/Scripts/MOAAP/src/Tracking_Functions.py:252: RuntimeWarning: Mean of empty slice\n",
      "  obj_mean = np.nanmean(data_slice, axis=(1, 2))\n",
      "/work/aa0238/a271093/Conda/MOAAP_env/lib/python3.12/site-packages/scipy/ndimage/_measurements.py:1541: RuntimeWarning: invalid value encountered in scalar divide\n",
      "  results = [sum(input * grids[dir].astype(float), labels, index) / normalizer\n"
     ]
    },
    {
     "name": "stdout",
     "output_type": "stream",
     "text": [
      "        check if MSs quallify as ARs\n"
     ]
    },
    {
     "name": "stderr",
     "output_type": "stream",
     "text": [
      "/work/aa0238/a271093/Scripts/MOAAP/src/Tracking_Functions.py:4588: RuntimeWarning: divide by zero encountered in scalar divide\n",
      "  if DIST.max() / DIST.min() < AR_width_lenght_ratio:\n"
     ]
    },
    {
     "name": "stdout",
     "output_type": "stream",
     "text": [
      "            Loop over 1800 objects\n",
      "        00:01:28.67\n",
      " \n",
      "Save the object masks into a joint netCDF\n",
      "Saved: /work/aa0238/a271093/results/MOAAP/IVT_Tracking/NorESM_ssp_remapped_3x/ObjectMasks_MOAPP_ICON_100and85NorESMsspperc_remapped_3x_2082_01_01-2082_08_01.nc\n",
      "        00:00:24.42\n",
      "clean up /work/aa0238/a271093/results/MOAAP/IVT_Tracking/NorESM_ssp_remapped_3x/IVT_MOAPP_ICON_100and85NorESMsspperc_remapped_3x_2082_01_01-2082_07_01.pkl\n",
      "clean up finished\n",
      "clean up /work/aa0238/a271093/results/MOAAP/IVT_Tracking/NorESM_ssp_remapped_3x/ARs_MOAPP_ICON_100and85NorESMsspperc_remapped_3x_2082_01_01-2082_07_01.pkl\n",
      "clean up finished\n",
      "correct nc-file with \n",
      " cdo -selmon,1,2,3,4,5,6 /work/aa0238/a271093/results/MOAAP/IVT_Tracking/NorESM_ssp_remapped_3x/ObjectMasks_MOAPP_ICON_100and85NorESMsspperc_remapped_3x_2082_01_01-2082_08_01.nc /work/aa0238/a271093/results/MOAAP/IVT_Tracking/NorESM_ssp_remapped_3x/ObjectMasks_MOAPP_ICON_100and85NorESMsspperc_remapped_3x_2082_01_01-2082_07_01_corrected.nc\n",
      "\n",
      " \n",
      " \n",
      " \n",
      "\n",
      "2082-07-01 00:00:00 2083-02-01 00:00:00\n",
      "Mergetime /work/aa0238/a271093/data/Jan_runs/ICON_NorESM_ssp/NorESM_ssp_remapped_3x/IVTu/IVTu_2082010100-2082123123_remapped_3x.nc /work/aa0238/a271093/data/Jan_runs/ICON_NorESM_ssp/NorESM_ssp_remapped_3x/IVTu/IVTu_2083010100-2083123123_remapped_3x.nc  /work/aa0238/a271093/scratch/mergedIVTu_2082_2083_remapped_3x.nc\n",
      "Mergetime /work/aa0238/a271093/data/Jan_runs/ICON_NorESM_ssp/NorESM_ssp_remapped_3x/IVTv/IVTv_2082010100-2082123123_remapped_3x.nc /work/aa0238/a271093/data/Jan_runs/ICON_NorESM_ssp/NorESM_ssp_remapped_3x/IVTv/IVTv_2083010100-2083123123_remapped_3x.nc  /work/aa0238/a271093/scratch/mergedIVTv_2082_2083_remapped_3x.nc\n",
      " \n",
      "The provided variables allow tracking the following phenomena\n",
      " \n",
      "|  phenomenon  | tracking |\n",
      "---------------------------\n",
      "   Jetstream   |   no\n",
      "   PSL CY/ACY  |   no\n",
      "   Z500 CY/ACY |   no\n",
      "   COLs        |   no\n",
      "   IVT ARs     |   yes\n",
      "   MS ARs      |   no\n",
      "   Fronts      |   no\n",
      "   TCs         |   no\n",
      "   MCSs        |   no\n",
      "   Equ. Waves  |   no\n",
      "---------------------------\n",
      " \n",
      "======> track IVT streams and atmospheric rivers (ARs)\n",
      "        3559 object found\n",
      "        break up long living IVT objects that have many elements\n"
     ]
    },
    {
     "name": "stderr",
     "output_type": "stream",
     "text": [
      "100%|██████████| 652/652 [00:28<00:00, 23.22it/s]\n"
     ]
    },
    {
     "name": "stdout",
     "output_type": "stream",
     "text": [
      "        00:00:34.51\n",
      "9\n",
      "            Loop over 1690 objects\n",
      "        check if MSs quallify as ARs\n"
     ]
    },
    {
     "name": "stderr",
     "output_type": "stream",
     "text": [
      "/work/aa0238/a271093/Scripts/MOAAP/src/Tracking_Functions.py:4588: RuntimeWarning: divide by zero encountered in scalar divide\n",
      "  if DIST.max() / DIST.min() < AR_width_lenght_ratio:\n"
     ]
    },
    {
     "name": "stdout",
     "output_type": "stream",
     "text": [
      "            Loop over 1690 objects\n"
     ]
    },
    {
     "name": "stderr",
     "output_type": "stream",
     "text": [
      "/work/aa0238/a271093/Scripts/MOAAP/src/Tracking_Functions.py:250: RuntimeWarning: All-NaN slice encountered\n",
      "  obj_min = np.nanmin(data_slice, axis=(1, 2))\n",
      "/work/aa0238/a271093/Scripts/MOAAP/src/Tracking_Functions.py:251: RuntimeWarning: All-NaN slice encountered\n",
      "  obj_max = np.nanmax(data_slice, axis=(1, 2))\n",
      "/work/aa0238/a271093/Scripts/MOAAP/src/Tracking_Functions.py:252: RuntimeWarning: Mean of empty slice\n",
      "  obj_mean = np.nanmean(data_slice, axis=(1, 2))\n",
      "/work/aa0238/a271093/Conda/MOAAP_env/lib/python3.12/site-packages/scipy/ndimage/_measurements.py:1541: RuntimeWarning: invalid value encountered in scalar divide\n",
      "  results = [sum(input * grids[dir].astype(float), labels, index) / normalizer\n"
     ]
    },
    {
     "name": "stdout",
     "output_type": "stream",
     "text": [
      "        00:01:23.57\n",
      " \n",
      "Save the object masks into a joint netCDF\n",
      "Saved: /work/aa0238/a271093/results/MOAAP/IVT_Tracking/NorESM_ssp_remapped_3x/ObjectMasks_MOAPP_ICON_100and85NorESMsspperc_remapped_3x_2082_07_01-2083_02_01.nc\n",
      "        00:00:24.59\n",
      "clean up /work/aa0238/a271093/results/MOAAP/IVT_Tracking/NorESM_ssp_remapped_3x/IVT_MOAPP_ICON_100and85NorESMsspperc_remapped_3x_2082_07_01-2083_01_01.pkl\n",
      "clean up finished\n",
      "clean up /work/aa0238/a271093/results/MOAAP/IVT_Tracking/NorESM_ssp_remapped_3x/ARs_MOAPP_ICON_100and85NorESMsspperc_remapped_3x_2082_07_01-2083_01_01.pkl\n",
      "clean up finished\n",
      "correct nc-file with \n",
      " cdo -selmon,6,7,8,9,10,11,12 /work/aa0238/a271093/results/MOAAP/IVT_Tracking/NorESM_ssp_remapped_3x/ObjectMasks_MOAPP_ICON_100and85NorESMsspperc_remapped_3x_2082_07_01-2083_02_01.nc /work/aa0238/a271093/results/MOAAP/IVT_Tracking/NorESM_ssp_remapped_3x/ObjectMasks_MOAPP_ICON_100and85NorESMsspperc_remapped_3x_2082_07_01-2083_01_01_corrected.nc\n",
      "\n",
      " \n",
      " \n",
      " \n",
      "\n",
      "2083-01-01 00:00:00 2083-08-01 00:00:00\n",
      " \n",
      "The provided variables allow tracking the following phenomena\n",
      " \n",
      "|  phenomenon  | tracking |\n",
      "---------------------------\n",
      "   Jetstream   |   no\n",
      "   PSL CY/ACY  |   no\n",
      "   Z500 CY/ACY |   no\n",
      "   COLs        |   no\n",
      "   IVT ARs     |   yes\n",
      "   MS ARs      |   no\n",
      "   Fronts      |   no\n",
      "   TCs         |   no\n",
      "   MCSs        |   no\n",
      "   Equ. Waves  |   no\n",
      "---------------------------\n",
      " \n",
      "======> track IVT streams and atmospheric rivers (ARs)\n",
      "        3601 object found\n",
      "        break up long living IVT objects that have many elements\n"
     ]
    },
    {
     "name": "stderr",
     "output_type": "stream",
     "text": [
      "100%|██████████| 630/630 [00:25<00:00, 24.99it/s] \n"
     ]
    },
    {
     "name": "stdout",
     "output_type": "stream",
     "text": [
      "        00:00:31.23\n",
      "9\n",
      "            Loop over 1666 objects\n"
     ]
    },
    {
     "name": "stderr",
     "output_type": "stream",
     "text": [
      "/work/aa0238/a271093/Scripts/MOAAP/src/Tracking_Functions.py:250: RuntimeWarning: All-NaN slice encountered\n",
      "  obj_min = np.nanmin(data_slice, axis=(1, 2))\n",
      "/work/aa0238/a271093/Scripts/MOAAP/src/Tracking_Functions.py:251: RuntimeWarning: All-NaN slice encountered\n",
      "  obj_max = np.nanmax(data_slice, axis=(1, 2))\n",
      "/work/aa0238/a271093/Scripts/MOAAP/src/Tracking_Functions.py:252: RuntimeWarning: Mean of empty slice\n",
      "  obj_mean = np.nanmean(data_slice, axis=(1, 2))\n",
      "/work/aa0238/a271093/Conda/MOAAP_env/lib/python3.12/site-packages/scipy/ndimage/_measurements.py:1541: RuntimeWarning: invalid value encountered in scalar divide\n",
      "  results = [sum(input * grids[dir].astype(float), labels, index) / normalizer\n"
     ]
    },
    {
     "name": "stdout",
     "output_type": "stream",
     "text": [
      "        check if MSs quallify as ARs\n"
     ]
    },
    {
     "name": "stderr",
     "output_type": "stream",
     "text": [
      "/work/aa0238/a271093/Scripts/MOAAP/src/Tracking_Functions.py:4588: RuntimeWarning: divide by zero encountered in scalar divide\n",
      "  if DIST.max() / DIST.min() < AR_width_lenght_ratio:\n"
     ]
    },
    {
     "name": "stdout",
     "output_type": "stream",
     "text": [
      "            Loop over 1663 objects\n",
      "        00:01:24.07\n",
      " \n",
      "Save the object masks into a joint netCDF\n",
      "Saved: /work/aa0238/a271093/results/MOAAP/IVT_Tracking/NorESM_ssp_remapped_3x/ObjectMasks_MOAPP_ICON_100and85NorESMsspperc_remapped_3x_2083_01_01-2083_08_01.nc\n",
      "        00:00:24.93\n",
      "clean up /work/aa0238/a271093/results/MOAAP/IVT_Tracking/NorESM_ssp_remapped_3x/IVT_MOAPP_ICON_100and85NorESMsspperc_remapped_3x_2083_01_01-2083_07_01.pkl\n",
      "clean up finished\n",
      "clean up /work/aa0238/a271093/results/MOAAP/IVT_Tracking/NorESM_ssp_remapped_3x/ARs_MOAPP_ICON_100and85NorESMsspperc_remapped_3x_2083_01_01-2083_07_01.pkl\n",
      "clean up finished\n",
      "correct nc-file with \n",
      " cdo -selmon,1,2,3,4,5,6 /work/aa0238/a271093/results/MOAAP/IVT_Tracking/NorESM_ssp_remapped_3x/ObjectMasks_MOAPP_ICON_100and85NorESMsspperc_remapped_3x_2083_01_01-2083_08_01.nc /work/aa0238/a271093/results/MOAAP/IVT_Tracking/NorESM_ssp_remapped_3x/ObjectMasks_MOAPP_ICON_100and85NorESMsspperc_remapped_3x_2083_01_01-2083_07_01_corrected.nc\n",
      "\n",
      " \n",
      " \n",
      " \n",
      "\n",
      "2083-07-01 00:00:00 2084-02-01 00:00:00\n",
      "Mergetime /work/aa0238/a271093/data/Jan_runs/ICON_NorESM_ssp/NorESM_ssp_remapped_3x/IVTu/IVTu_2083010100-2083123123_remapped_3x.nc /work/aa0238/a271093/data/Jan_runs/ICON_NorESM_ssp/NorESM_ssp_remapped_3x/IVTu/IVTu_2084010100-2084123123_remapped_3x.nc  /work/aa0238/a271093/scratch/mergedIVTu_2083_2084_remapped_3x.nc\n",
      "Mergetime /work/aa0238/a271093/data/Jan_runs/ICON_NorESM_ssp/NorESM_ssp_remapped_3x/IVTv/IVTv_2083010100-2083123123_remapped_3x.nc /work/aa0238/a271093/data/Jan_runs/ICON_NorESM_ssp/NorESM_ssp_remapped_3x/IVTv/IVTv_2084010100-2084123123_remapped_3x.nc  /work/aa0238/a271093/scratch/mergedIVTv_2083_2084_remapped_3x.nc\n",
      " \n",
      "The provided variables allow tracking the following phenomena\n",
      " \n",
      "|  phenomenon  | tracking |\n",
      "---------------------------\n",
      "   Jetstream   |   no\n",
      "   PSL CY/ACY  |   no\n",
      "   Z500 CY/ACY |   no\n",
      "   COLs        |   no\n",
      "   IVT ARs     |   yes\n",
      "   MS ARs      |   no\n",
      "   Fronts      |   no\n",
      "   TCs         |   no\n",
      "   MCSs        |   no\n",
      "   Equ. Waves  |   no\n",
      "---------------------------\n",
      " \n",
      "======> track IVT streams and atmospheric rivers (ARs)\n",
      "        3438 object found\n",
      "        break up long living IVT objects that have many elements\n"
     ]
    },
    {
     "name": "stderr",
     "output_type": "stream",
     "text": [
      "100%|██████████| 527/527 [00:26<00:00, 19.82it/s]\n"
     ]
    },
    {
     "name": "stdout",
     "output_type": "stream",
     "text": [
      "        00:00:32.95\n",
      "9\n",
      "            Loop over 1642 objects\n",
      "        check if MSs quallify as ARs\n"
     ]
    },
    {
     "name": "stderr",
     "output_type": "stream",
     "text": [
      "/work/aa0238/a271093/Scripts/MOAAP/src/Tracking_Functions.py:4588: RuntimeWarning: divide by zero encountered in scalar divide\n",
      "  if DIST.max() / DIST.min() < AR_width_lenght_ratio:\n"
     ]
    },
    {
     "name": "stdout",
     "output_type": "stream",
     "text": [
      "            Loop over 1642 objects\n"
     ]
    },
    {
     "name": "stderr",
     "output_type": "stream",
     "text": [
      "/work/aa0238/a271093/Scripts/MOAAP/src/Tracking_Functions.py:250: RuntimeWarning: All-NaN slice encountered\n",
      "  obj_min = np.nanmin(data_slice, axis=(1, 2))\n",
      "/work/aa0238/a271093/Scripts/MOAAP/src/Tracking_Functions.py:251: RuntimeWarning: All-NaN slice encountered\n",
      "  obj_max = np.nanmax(data_slice, axis=(1, 2))\n",
      "/work/aa0238/a271093/Scripts/MOAAP/src/Tracking_Functions.py:252: RuntimeWarning: Mean of empty slice\n",
      "  obj_mean = np.nanmean(data_slice, axis=(1, 2))\n",
      "/work/aa0238/a271093/Conda/MOAAP_env/lib/python3.12/site-packages/scipy/ndimage/_measurements.py:1541: RuntimeWarning: invalid value encountered in scalar divide\n",
      "  results = [sum(input * grids[dir].astype(float), labels, index) / normalizer\n"
     ]
    },
    {
     "name": "stdout",
     "output_type": "stream",
     "text": [
      "        00:01:24.54\n",
      " \n",
      "Save the object masks into a joint netCDF\n",
      "Saved: /work/aa0238/a271093/results/MOAAP/IVT_Tracking/NorESM_ssp_remapped_3x/ObjectMasks_MOAPP_ICON_100and85NorESMsspperc_remapped_3x_2083_07_01-2084_02_01.nc\n",
      "        00:00:24.57\n",
      "clean up /work/aa0238/a271093/results/MOAAP/IVT_Tracking/NorESM_ssp_remapped_3x/IVT_MOAPP_ICON_100and85NorESMsspperc_remapped_3x_2083_07_01-2084_01_01.pkl\n",
      "clean up finished\n",
      "clean up /work/aa0238/a271093/results/MOAAP/IVT_Tracking/NorESM_ssp_remapped_3x/ARs_MOAPP_ICON_100and85NorESMsspperc_remapped_3x_2083_07_01-2084_01_01.pkl\n",
      "clean up finished\n",
      "correct nc-file with \n",
      " cdo -selmon,6,7,8,9,10,11,12 /work/aa0238/a271093/results/MOAAP/IVT_Tracking/NorESM_ssp_remapped_3x/ObjectMasks_MOAPP_ICON_100and85NorESMsspperc_remapped_3x_2083_07_01-2084_02_01.nc /work/aa0238/a271093/results/MOAAP/IVT_Tracking/NorESM_ssp_remapped_3x/ObjectMasks_MOAPP_ICON_100and85NorESMsspperc_remapped_3x_2083_07_01-2084_01_01_corrected.nc\n",
      "\n",
      " \n",
      " \n",
      " \n",
      "\n",
      "2084-01-01 00:00:00 2084-08-01 00:00:00\n",
      " \n",
      "The provided variables allow tracking the following phenomena\n",
      " \n",
      "|  phenomenon  | tracking |\n",
      "---------------------------\n",
      "   Jetstream   |   no\n",
      "   PSL CY/ACY  |   no\n",
      "   Z500 CY/ACY |   no\n",
      "   COLs        |   no\n",
      "   IVT ARs     |   yes\n",
      "   MS ARs      |   no\n",
      "   Fronts      |   no\n",
      "   TCs         |   no\n",
      "   MCSs        |   no\n",
      "   Equ. Waves  |   no\n",
      "---------------------------\n",
      " \n",
      "======> track IVT streams and atmospheric rivers (ARs)\n",
      "        3716 object found\n",
      "        break up long living IVT objects that have many elements\n"
     ]
    },
    {
     "name": "stderr",
     "output_type": "stream",
     "text": [
      "100%|██████████| 655/655 [00:30<00:00, 21.74it/s]\n"
     ]
    },
    {
     "name": "stdout",
     "output_type": "stream",
     "text": [
      "        00:00:36.33\n",
      "9\n",
      "            Loop over 1906 objects\n"
     ]
    },
    {
     "name": "stderr",
     "output_type": "stream",
     "text": [
      "/work/aa0238/a271093/Scripts/MOAAP/src/Tracking_Functions.py:250: RuntimeWarning: All-NaN slice encountered\n",
      "  obj_min = np.nanmin(data_slice, axis=(1, 2))\n",
      "/work/aa0238/a271093/Scripts/MOAAP/src/Tracking_Functions.py:251: RuntimeWarning: All-NaN slice encountered\n",
      "  obj_max = np.nanmax(data_slice, axis=(1, 2))\n",
      "/work/aa0238/a271093/Scripts/MOAAP/src/Tracking_Functions.py:252: RuntimeWarning: Mean of empty slice\n",
      "  obj_mean = np.nanmean(data_slice, axis=(1, 2))\n",
      "/work/aa0238/a271093/Conda/MOAAP_env/lib/python3.12/site-packages/scipy/ndimage/_measurements.py:1541: RuntimeWarning: invalid value encountered in scalar divide\n",
      "  results = [sum(input * grids[dir].astype(float), labels, index) / normalizer\n"
     ]
    },
    {
     "name": "stdout",
     "output_type": "stream",
     "text": [
      "        check if MSs quallify as ARs\n"
     ]
    },
    {
     "name": "stderr",
     "output_type": "stream",
     "text": [
      "/work/aa0238/a271093/Scripts/MOAAP/src/Tracking_Functions.py:4588: RuntimeWarning: divide by zero encountered in scalar divide\n",
      "  if DIST.max() / DIST.min() < AR_width_lenght_ratio:\n"
     ]
    },
    {
     "name": "stdout",
     "output_type": "stream",
     "text": [
      "            Loop over 1900 objects\n",
      "        00:01:29.78\n",
      " \n",
      "Save the object masks into a joint netCDF\n",
      "Saved: /work/aa0238/a271093/results/MOAAP/IVT_Tracking/NorESM_ssp_remapped_3x/ObjectMasks_MOAPP_ICON_100and85NorESMsspperc_remapped_3x_2084_01_01-2084_08_01.nc\n",
      "        00:00:24.30\n",
      "clean up /work/aa0238/a271093/results/MOAAP/IVT_Tracking/NorESM_ssp_remapped_3x/IVT_MOAPP_ICON_100and85NorESMsspperc_remapped_3x_2084_01_01-2084_07_01.pkl\n",
      "clean up finished\n",
      "clean up /work/aa0238/a271093/results/MOAAP/IVT_Tracking/NorESM_ssp_remapped_3x/ARs_MOAPP_ICON_100and85NorESMsspperc_remapped_3x_2084_01_01-2084_07_01.pkl\n",
      "clean up finished\n",
      "correct nc-file with \n",
      " cdo -selmon,1,2,3,4,5,6 /work/aa0238/a271093/results/MOAAP/IVT_Tracking/NorESM_ssp_remapped_3x/ObjectMasks_MOAPP_ICON_100and85NorESMsspperc_remapped_3x_2084_01_01-2084_08_01.nc /work/aa0238/a271093/results/MOAAP/IVT_Tracking/NorESM_ssp_remapped_3x/ObjectMasks_MOAPP_ICON_100and85NorESMsspperc_remapped_3x_2084_01_01-2084_07_01_corrected.nc\n",
      "\n",
      " \n",
      " \n",
      " \n",
      "\n",
      "2084-07-01 00:00:00 2085-02-01 00:00:00\n",
      "Mergetime /work/aa0238/a271093/data/Jan_runs/ICON_NorESM_ssp/NorESM_ssp_remapped_3x/IVTu/IVTu_2084010100-2084123123_remapped_3x.nc /work/aa0238/a271093/data/Jan_runs/ICON_NorESM_ssp/NorESM_ssp_remapped_3x/IVTu/IVTu_2085010100-2085123123_remapped_3x.nc  /work/aa0238/a271093/scratch/mergedIVTu_2084_2085_remapped_3x.nc\n",
      "Mergetime /work/aa0238/a271093/data/Jan_runs/ICON_NorESM_ssp/NorESM_ssp_remapped_3x/IVTv/IVTv_2084010100-2084123123_remapped_3x.nc /work/aa0238/a271093/data/Jan_runs/ICON_NorESM_ssp/NorESM_ssp_remapped_3x/IVTv/IVTv_2085010100-2085123123_remapped_3x.nc  /work/aa0238/a271093/scratch/mergedIVTv_2084_2085_remapped_3x.nc\n",
      " \n",
      "The provided variables allow tracking the following phenomena\n",
      " \n",
      "|  phenomenon  | tracking |\n",
      "---------------------------\n",
      "   Jetstream   |   no\n",
      "   PSL CY/ACY  |   no\n",
      "   Z500 CY/ACY |   no\n",
      "   COLs        |   no\n",
      "   IVT ARs     |   yes\n",
      "   MS ARs      |   no\n",
      "   Fronts      |   no\n",
      "   TCs         |   no\n",
      "   MCSs        |   no\n",
      "   Equ. Waves  |   no\n",
      "---------------------------\n",
      " \n",
      "======> track IVT streams and atmospheric rivers (ARs)\n",
      "        3473 object found\n",
      "        break up long living IVT objects that have many elements\n"
     ]
    },
    {
     "name": "stderr",
     "output_type": "stream",
     "text": [
      "100%|██████████| 649/649 [00:26<00:00, 24.49it/s] \n"
     ]
    },
    {
     "name": "stdout",
     "output_type": "stream",
     "text": [
      "        00:00:32.80\n",
      "9\n",
      "            Loop over 1751 objects\n",
      "        check if MSs quallify as ARs\n"
     ]
    },
    {
     "name": "stderr",
     "output_type": "stream",
     "text": [
      "/work/aa0238/a271093/Scripts/MOAAP/src/Tracking_Functions.py:4588: RuntimeWarning: divide by zero encountered in scalar divide\n",
      "  if DIST.max() / DIST.min() < AR_width_lenght_ratio:\n"
     ]
    },
    {
     "name": "stdout",
     "output_type": "stream",
     "text": [
      "            Loop over 1748 objects\n"
     ]
    },
    {
     "name": "stderr",
     "output_type": "stream",
     "text": [
      "/work/aa0238/a271093/Scripts/MOAAP/src/Tracking_Functions.py:250: RuntimeWarning: All-NaN slice encountered\n",
      "  obj_min = np.nanmin(data_slice, axis=(1, 2))\n",
      "/work/aa0238/a271093/Scripts/MOAAP/src/Tracking_Functions.py:251: RuntimeWarning: All-NaN slice encountered\n",
      "  obj_max = np.nanmax(data_slice, axis=(1, 2))\n",
      "/work/aa0238/a271093/Scripts/MOAAP/src/Tracking_Functions.py:252: RuntimeWarning: Mean of empty slice\n",
      "  obj_mean = np.nanmean(data_slice, axis=(1, 2))\n",
      "/work/aa0238/a271093/Conda/MOAAP_env/lib/python3.12/site-packages/scipy/ndimage/_measurements.py:1541: RuntimeWarning: invalid value encountered in scalar divide\n",
      "  results = [sum(input * grids[dir].astype(float), labels, index) / normalizer\n"
     ]
    },
    {
     "name": "stdout",
     "output_type": "stream",
     "text": [
      "        00:01:23.77\n",
      " \n",
      "Save the object masks into a joint netCDF\n",
      "Saved: /work/aa0238/a271093/results/MOAAP/IVT_Tracking/NorESM_ssp_remapped_3x/ObjectMasks_MOAPP_ICON_100and85NorESMsspperc_remapped_3x_2084_07_01-2085_02_01.nc\n",
      "        00:00:24.63\n",
      "clean up /work/aa0238/a271093/results/MOAAP/IVT_Tracking/NorESM_ssp_remapped_3x/IVT_MOAPP_ICON_100and85NorESMsspperc_remapped_3x_2084_07_01-2085_01_01.pkl\n",
      "clean up finished\n",
      "clean up /work/aa0238/a271093/results/MOAAP/IVT_Tracking/NorESM_ssp_remapped_3x/ARs_MOAPP_ICON_100and85NorESMsspperc_remapped_3x_2084_07_01-2085_01_01.pkl\n",
      "clean up finished\n",
      "correct nc-file with \n",
      " cdo -selmon,6,7,8,9,10,11,12 /work/aa0238/a271093/results/MOAAP/IVT_Tracking/NorESM_ssp_remapped_3x/ObjectMasks_MOAPP_ICON_100and85NorESMsspperc_remapped_3x_2084_07_01-2085_02_01.nc /work/aa0238/a271093/results/MOAAP/IVT_Tracking/NorESM_ssp_remapped_3x/ObjectMasks_MOAPP_ICON_100and85NorESMsspperc_remapped_3x_2084_07_01-2085_01_01_corrected.nc\n",
      "\n",
      " \n",
      " \n",
      " \n",
      "\n",
      "2085-01-01 00:00:00 2085-08-01 00:00:00\n",
      " \n",
      "The provided variables allow tracking the following phenomena\n",
      " \n",
      "|  phenomenon  | tracking |\n",
      "---------------------------\n",
      "   Jetstream   |   no\n",
      "   PSL CY/ACY  |   no\n",
      "   Z500 CY/ACY |   no\n",
      "   COLs        |   no\n",
      "   IVT ARs     |   yes\n",
      "   MS ARs      |   no\n",
      "   Fronts      |   no\n",
      "   TCs         |   no\n",
      "   MCSs        |   no\n",
      "   Equ. Waves  |   no\n",
      "---------------------------\n",
      " \n",
      "======> track IVT streams and atmospheric rivers (ARs)\n",
      "        3426 object found\n",
      "        break up long living IVT objects that have many elements\n"
     ]
    },
    {
     "name": "stderr",
     "output_type": "stream",
     "text": [
      "100%|██████████| 564/564 [00:24<00:00, 22.76it/s] \n"
     ]
    },
    {
     "name": "stdout",
     "output_type": "stream",
     "text": [
      "        00:00:30.90\n",
      "9\n",
      "            Loop over 1669 objects\n"
     ]
    },
    {
     "name": "stderr",
     "output_type": "stream",
     "text": [
      "/work/aa0238/a271093/Scripts/MOAAP/src/Tracking_Functions.py:250: RuntimeWarning: All-NaN slice encountered\n",
      "  obj_min = np.nanmin(data_slice, axis=(1, 2))\n",
      "/work/aa0238/a271093/Scripts/MOAAP/src/Tracking_Functions.py:251: RuntimeWarning: All-NaN slice encountered\n",
      "  obj_max = np.nanmax(data_slice, axis=(1, 2))\n",
      "/work/aa0238/a271093/Scripts/MOAAP/src/Tracking_Functions.py:252: RuntimeWarning: Mean of empty slice\n",
      "  obj_mean = np.nanmean(data_slice, axis=(1, 2))\n",
      "/work/aa0238/a271093/Conda/MOAAP_env/lib/python3.12/site-packages/scipy/ndimage/_measurements.py:1541: RuntimeWarning: invalid value encountered in scalar divide\n",
      "  results = [sum(input * grids[dir].astype(float), labels, index) / normalizer\n"
     ]
    },
    {
     "name": "stdout",
     "output_type": "stream",
     "text": [
      "        check if MSs quallify as ARs\n"
     ]
    },
    {
     "name": "stderr",
     "output_type": "stream",
     "text": [
      "/work/aa0238/a271093/Scripts/MOAAP/src/Tracking_Functions.py:4588: RuntimeWarning: divide by zero encountered in scalar divide\n",
      "  if DIST.max() / DIST.min() < AR_width_lenght_ratio:\n"
     ]
    },
    {
     "name": "stdout",
     "output_type": "stream",
     "text": [
      "            Loop over 1666 objects\n",
      "        00:01:25.66\n",
      " \n",
      "Save the object masks into a joint netCDF\n",
      "Saved: /work/aa0238/a271093/results/MOAAP/IVT_Tracking/NorESM_ssp_remapped_3x/ObjectMasks_MOAPP_ICON_100and85NorESMsspperc_remapped_3x_2085_01_01-2085_08_01.nc\n",
      "        00:00:24.43\n",
      "clean up /work/aa0238/a271093/results/MOAAP/IVT_Tracking/NorESM_ssp_remapped_3x/IVT_MOAPP_ICON_100and85NorESMsspperc_remapped_3x_2085_01_01-2085_07_01.pkl\n",
      "clean up finished\n",
      "clean up /work/aa0238/a271093/results/MOAAP/IVT_Tracking/NorESM_ssp_remapped_3x/ARs_MOAPP_ICON_100and85NorESMsspperc_remapped_3x_2085_01_01-2085_07_01.pkl\n",
      "clean up finished\n",
      "correct nc-file with \n",
      " cdo -selmon,1,2,3,4,5,6 /work/aa0238/a271093/results/MOAAP/IVT_Tracking/NorESM_ssp_remapped_3x/ObjectMasks_MOAPP_ICON_100and85NorESMsspperc_remapped_3x_2085_01_01-2085_08_01.nc /work/aa0238/a271093/results/MOAAP/IVT_Tracking/NorESM_ssp_remapped_3x/ObjectMasks_MOAPP_ICON_100and85NorESMsspperc_remapped_3x_2085_01_01-2085_07_01_corrected.nc\n",
      "\n",
      " \n",
      " \n",
      " \n",
      "\n",
      "2085-07-01 00:00:00 2086-02-01 00:00:00\n",
      "Mergetime /work/aa0238/a271093/data/Jan_runs/ICON_NorESM_ssp/NorESM_ssp_remapped_3x/IVTu/IVTu_2085010100-2085123123_remapped_3x.nc /work/aa0238/a271093/data/Jan_runs/ICON_NorESM_ssp/NorESM_ssp_remapped_3x/IVTu/IVTu_2086010100-2086123123_remapped_3x.nc  /work/aa0238/a271093/scratch/mergedIVTu_2085_2086_remapped_3x.nc\n",
      "Mergetime /work/aa0238/a271093/data/Jan_runs/ICON_NorESM_ssp/NorESM_ssp_remapped_3x/IVTv/IVTv_2085010100-2085123123_remapped_3x.nc /work/aa0238/a271093/data/Jan_runs/ICON_NorESM_ssp/NorESM_ssp_remapped_3x/IVTv/IVTv_2086010100-2086123123_remapped_3x.nc  /work/aa0238/a271093/scratch/mergedIVTv_2085_2086_remapped_3x.nc\n",
      " \n",
      "The provided variables allow tracking the following phenomena\n",
      " \n",
      "|  phenomenon  | tracking |\n",
      "---------------------------\n",
      "   Jetstream   |   no\n",
      "   PSL CY/ACY  |   no\n",
      "   Z500 CY/ACY |   no\n",
      "   COLs        |   no\n",
      "   IVT ARs     |   yes\n",
      "   MS ARs      |   no\n",
      "   Fronts      |   no\n",
      "   TCs         |   no\n",
      "   MCSs        |   no\n",
      "   Equ. Waves  |   no\n",
      "---------------------------\n",
      " \n",
      "======> track IVT streams and atmospheric rivers (ARs)\n",
      "        3481 object found\n",
      "        break up long living IVT objects that have many elements\n"
     ]
    },
    {
     "name": "stderr",
     "output_type": "stream",
     "text": [
      "100%|██████████| 572/572 [00:27<00:00, 20.52it/s] \n"
     ]
    },
    {
     "name": "stdout",
     "output_type": "stream",
     "text": [
      "        00:00:34.27\n",
      "9\n",
      "            Loop over 1630 objects\n",
      "        check if MSs quallify as ARs\n"
     ]
    },
    {
     "name": "stderr",
     "output_type": "stream",
     "text": [
      "/work/aa0238/a271093/Scripts/MOAAP/src/Tracking_Functions.py:4588: RuntimeWarning: divide by zero encountered in scalar divide\n",
      "  if DIST.max() / DIST.min() < AR_width_lenght_ratio:\n"
     ]
    },
    {
     "name": "stdout",
     "output_type": "stream",
     "text": [
      "            Loop over 1630 objects\n"
     ]
    },
    {
     "name": "stderr",
     "output_type": "stream",
     "text": [
      "/work/aa0238/a271093/Scripts/MOAAP/src/Tracking_Functions.py:250: RuntimeWarning: All-NaN slice encountered\n",
      "  obj_min = np.nanmin(data_slice, axis=(1, 2))\n",
      "/work/aa0238/a271093/Scripts/MOAAP/src/Tracking_Functions.py:251: RuntimeWarning: All-NaN slice encountered\n",
      "  obj_max = np.nanmax(data_slice, axis=(1, 2))\n",
      "/work/aa0238/a271093/Scripts/MOAAP/src/Tracking_Functions.py:252: RuntimeWarning: Mean of empty slice\n",
      "  obj_mean = np.nanmean(data_slice, axis=(1, 2))\n",
      "/work/aa0238/a271093/Conda/MOAAP_env/lib/python3.12/site-packages/scipy/ndimage/_measurements.py:1541: RuntimeWarning: invalid value encountered in scalar divide\n",
      "  results = [sum(input * grids[dir].astype(float), labels, index) / normalizer\n"
     ]
    },
    {
     "name": "stdout",
     "output_type": "stream",
     "text": [
      "        00:01:25.69\n",
      " \n",
      "Save the object masks into a joint netCDF\n",
      "Saved: /work/aa0238/a271093/results/MOAAP/IVT_Tracking/NorESM_ssp_remapped_3x/ObjectMasks_MOAPP_ICON_100and85NorESMsspperc_remapped_3x_2085_07_01-2086_02_01.nc\n",
      "        00:00:24.69\n",
      "clean up /work/aa0238/a271093/results/MOAAP/IVT_Tracking/NorESM_ssp_remapped_3x/IVT_MOAPP_ICON_100and85NorESMsspperc_remapped_3x_2085_07_01-2086_01_01.pkl\n",
      "clean up finished\n",
      "clean up /work/aa0238/a271093/results/MOAAP/IVT_Tracking/NorESM_ssp_remapped_3x/ARs_MOAPP_ICON_100and85NorESMsspperc_remapped_3x_2085_07_01-2086_01_01.pkl\n",
      "clean up finished\n",
      "correct nc-file with \n",
      " cdo -selmon,6,7,8,9,10,11,12 /work/aa0238/a271093/results/MOAAP/IVT_Tracking/NorESM_ssp_remapped_3x/ObjectMasks_MOAPP_ICON_100and85NorESMsspperc_remapped_3x_2085_07_01-2086_02_01.nc /work/aa0238/a271093/results/MOAAP/IVT_Tracking/NorESM_ssp_remapped_3x/ObjectMasks_MOAPP_ICON_100and85NorESMsspperc_remapped_3x_2085_07_01-2086_01_01_corrected.nc\n",
      "\n",
      " \n",
      " \n",
      " \n",
      "\n",
      "2086-01-01 00:00:00 2086-08-01 00:00:00\n",
      " \n",
      "The provided variables allow tracking the following phenomena\n",
      " \n",
      "|  phenomenon  | tracking |\n",
      "---------------------------\n",
      "   Jetstream   |   no\n",
      "   PSL CY/ACY  |   no\n",
      "   Z500 CY/ACY |   no\n",
      "   COLs        |   no\n",
      "   IVT ARs     |   yes\n",
      "   MS ARs      |   no\n",
      "   Fronts      |   no\n",
      "   TCs         |   no\n",
      "   MCSs        |   no\n",
      "   Equ. Waves  |   no\n",
      "---------------------------\n",
      " \n",
      "======> track IVT streams and atmospheric rivers (ARs)\n",
      "        3418 object found\n",
      "        break up long living IVT objects that have many elements\n"
     ]
    },
    {
     "name": "stderr",
     "output_type": "stream",
     "text": [
      "100%|██████████| 588/588 [00:25<00:00, 22.92it/s]\n"
     ]
    },
    {
     "name": "stdout",
     "output_type": "stream",
     "text": [
      "        00:00:31.52\n",
      "9\n",
      "            Loop over 1691 objects\n"
     ]
    },
    {
     "name": "stderr",
     "output_type": "stream",
     "text": [
      "/work/aa0238/a271093/Scripts/MOAAP/src/Tracking_Functions.py:250: RuntimeWarning: All-NaN slice encountered\n",
      "  obj_min = np.nanmin(data_slice, axis=(1, 2))\n",
      "/work/aa0238/a271093/Scripts/MOAAP/src/Tracking_Functions.py:251: RuntimeWarning: All-NaN slice encountered\n",
      "  obj_max = np.nanmax(data_slice, axis=(1, 2))\n",
      "/work/aa0238/a271093/Scripts/MOAAP/src/Tracking_Functions.py:252: RuntimeWarning: Mean of empty slice\n",
      "  obj_mean = np.nanmean(data_slice, axis=(1, 2))\n",
      "/work/aa0238/a271093/Conda/MOAAP_env/lib/python3.12/site-packages/scipy/ndimage/_measurements.py:1541: RuntimeWarning: invalid value encountered in scalar divide\n",
      "  results = [sum(input * grids[dir].astype(float), labels, index) / normalizer\n"
     ]
    },
    {
     "name": "stdout",
     "output_type": "stream",
     "text": [
      "        check if MSs quallify as ARs\n"
     ]
    },
    {
     "name": "stderr",
     "output_type": "stream",
     "text": [
      "/work/aa0238/a271093/Scripts/MOAAP/src/Tracking_Functions.py:4588: RuntimeWarning: divide by zero encountered in scalar divide\n",
      "  if DIST.max() / DIST.min() < AR_width_lenght_ratio:\n"
     ]
    },
    {
     "name": "stdout",
     "output_type": "stream",
     "text": [
      "            Loop over 1690 objects\n",
      "        00:01:20.09\n",
      " \n",
      "Save the object masks into a joint netCDF\n",
      "Saved: /work/aa0238/a271093/results/MOAAP/IVT_Tracking/NorESM_ssp_remapped_3x/ObjectMasks_MOAPP_ICON_100and85NorESMsspperc_remapped_3x_2086_01_01-2086_08_01.nc\n",
      "        00:00:24.35\n",
      "clean up /work/aa0238/a271093/results/MOAAP/IVT_Tracking/NorESM_ssp_remapped_3x/IVT_MOAPP_ICON_100and85NorESMsspperc_remapped_3x_2086_01_01-2086_07_01.pkl\n",
      "clean up finished\n",
      "clean up /work/aa0238/a271093/results/MOAAP/IVT_Tracking/NorESM_ssp_remapped_3x/ARs_MOAPP_ICON_100and85NorESMsspperc_remapped_3x_2086_01_01-2086_07_01.pkl\n",
      "clean up finished\n",
      "correct nc-file with \n",
      " cdo -selmon,1,2,3,4,5,6 /work/aa0238/a271093/results/MOAAP/IVT_Tracking/NorESM_ssp_remapped_3x/ObjectMasks_MOAPP_ICON_100and85NorESMsspperc_remapped_3x_2086_01_01-2086_08_01.nc /work/aa0238/a271093/results/MOAAP/IVT_Tracking/NorESM_ssp_remapped_3x/ObjectMasks_MOAPP_ICON_100and85NorESMsspperc_remapped_3x_2086_01_01-2086_07_01_corrected.nc\n",
      "\n",
      " \n",
      " \n",
      " \n",
      "\n",
      "2086-07-01 00:00:00 2087-02-01 00:00:00\n",
      "Mergetime /work/aa0238/a271093/data/Jan_runs/ICON_NorESM_ssp/NorESM_ssp_remapped_3x/IVTu/IVTu_2086010100-2086123123_remapped_3x.nc /work/aa0238/a271093/data/Jan_runs/ICON_NorESM_ssp/NorESM_ssp_remapped_3x/IVTu/IVTu_2087010100-2087123123_remapped_3x.nc  /work/aa0238/a271093/scratch/mergedIVTu_2086_2087_remapped_3x.nc\n",
      "Mergetime /work/aa0238/a271093/data/Jan_runs/ICON_NorESM_ssp/NorESM_ssp_remapped_3x/IVTv/IVTv_2086010100-2086123123_remapped_3x.nc /work/aa0238/a271093/data/Jan_runs/ICON_NorESM_ssp/NorESM_ssp_remapped_3x/IVTv/IVTv_2087010100-2087123123_remapped_3x.nc  /work/aa0238/a271093/scratch/mergedIVTv_2086_2087_remapped_3x.nc\n",
      " \n",
      "The provided variables allow tracking the following phenomena\n",
      " \n",
      "|  phenomenon  | tracking |\n",
      "---------------------------\n",
      "   Jetstream   |   no\n",
      "   PSL CY/ACY  |   no\n",
      "   Z500 CY/ACY |   no\n",
      "   COLs        |   no\n",
      "   IVT ARs     |   yes\n",
      "   MS ARs      |   no\n",
      "   Fronts      |   no\n",
      "   TCs         |   no\n",
      "   MCSs        |   no\n",
      "   Equ. Waves  |   no\n",
      "---------------------------\n",
      " \n",
      "======> track IVT streams and atmospheric rivers (ARs)\n",
      "        3248 object found\n",
      "        break up long living IVT objects that have many elements\n"
     ]
    },
    {
     "name": "stderr",
     "output_type": "stream",
     "text": [
      "100%|██████████| 570/570 [00:25<00:00, 22.30it/s]\n"
     ]
    },
    {
     "name": "stdout",
     "output_type": "stream",
     "text": [
      "        00:00:31.84\n",
      "9\n",
      "            Loop over 1616 objects\n",
      "        check if MSs quallify as ARs\n"
     ]
    },
    {
     "name": "stderr",
     "output_type": "stream",
     "text": [
      "/work/aa0238/a271093/Scripts/MOAAP/src/Tracking_Functions.py:4588: RuntimeWarning: divide by zero encountered in scalar divide\n",
      "  if DIST.max() / DIST.min() < AR_width_lenght_ratio:\n"
     ]
    },
    {
     "name": "stdout",
     "output_type": "stream",
     "text": [
      "            Loop over 1611 objects\n"
     ]
    },
    {
     "name": "stderr",
     "output_type": "stream",
     "text": [
      "/work/aa0238/a271093/Scripts/MOAAP/src/Tracking_Functions.py:250: RuntimeWarning: All-NaN slice encountered\n",
      "  obj_min = np.nanmin(data_slice, axis=(1, 2))\n",
      "/work/aa0238/a271093/Scripts/MOAAP/src/Tracking_Functions.py:251: RuntimeWarning: All-NaN slice encountered\n",
      "  obj_max = np.nanmax(data_slice, axis=(1, 2))\n",
      "/work/aa0238/a271093/Scripts/MOAAP/src/Tracking_Functions.py:252: RuntimeWarning: Mean of empty slice\n",
      "  obj_mean = np.nanmean(data_slice, axis=(1, 2))\n",
      "/work/aa0238/a271093/Conda/MOAAP_env/lib/python3.12/site-packages/scipy/ndimage/_measurements.py:1541: RuntimeWarning: invalid value encountered in scalar divide\n",
      "  results = [sum(input * grids[dir].astype(float), labels, index) / normalizer\n"
     ]
    },
    {
     "name": "stdout",
     "output_type": "stream",
     "text": [
      "        00:01:20.95\n",
      " \n",
      "Save the object masks into a joint netCDF\n",
      "Saved: /work/aa0238/a271093/results/MOAAP/IVT_Tracking/NorESM_ssp_remapped_3x/ObjectMasks_MOAPP_ICON_100and85NorESMsspperc_remapped_3x_2086_07_01-2087_02_01.nc\n",
      "        00:00:26.48\n",
      "clean up /work/aa0238/a271093/results/MOAAP/IVT_Tracking/NorESM_ssp_remapped_3x/IVT_MOAPP_ICON_100and85NorESMsspperc_remapped_3x_2086_07_01-2087_01_01.pkl\n",
      "clean up finished\n",
      "clean up /work/aa0238/a271093/results/MOAAP/IVT_Tracking/NorESM_ssp_remapped_3x/ARs_MOAPP_ICON_100and85NorESMsspperc_remapped_3x_2086_07_01-2087_01_01.pkl\n",
      "clean up finished\n",
      "correct nc-file with \n",
      " cdo -selmon,6,7,8,9,10,11,12 /work/aa0238/a271093/results/MOAAP/IVT_Tracking/NorESM_ssp_remapped_3x/ObjectMasks_MOAPP_ICON_100and85NorESMsspperc_remapped_3x_2086_07_01-2087_02_01.nc /work/aa0238/a271093/results/MOAAP/IVT_Tracking/NorESM_ssp_remapped_3x/ObjectMasks_MOAPP_ICON_100and85NorESMsspperc_remapped_3x_2086_07_01-2087_01_01_corrected.nc\n",
      "\n",
      " \n",
      " \n",
      " \n",
      "\n",
      "2087-01-01 00:00:00 2087-08-01 00:00:00\n",
      " \n",
      "The provided variables allow tracking the following phenomena\n",
      " \n",
      "|  phenomenon  | tracking |\n",
      "---------------------------\n",
      "   Jetstream   |   no\n",
      "   PSL CY/ACY  |   no\n",
      "   Z500 CY/ACY |   no\n",
      "   COLs        |   no\n",
      "   IVT ARs     |   yes\n",
      "   MS ARs      |   no\n",
      "   Fronts      |   no\n",
      "   TCs         |   no\n",
      "   MCSs        |   no\n",
      "   Equ. Waves  |   no\n",
      "---------------------------\n",
      " \n",
      "======> track IVT streams and atmospheric rivers (ARs)\n",
      "        3660 object found\n",
      "        break up long living IVT objects that have many elements\n"
     ]
    },
    {
     "name": "stderr",
     "output_type": "stream",
     "text": [
      "100%|██████████| 652/652 [00:25<00:00, 25.54it/s] \n"
     ]
    },
    {
     "name": "stdout",
     "output_type": "stream",
     "text": [
      "        00:00:31.51\n",
      "9\n",
      "            Loop over 1784 objects\n"
     ]
    },
    {
     "name": "stderr",
     "output_type": "stream",
     "text": [
      "/work/aa0238/a271093/Scripts/MOAAP/src/Tracking_Functions.py:250: RuntimeWarning: All-NaN slice encountered\n",
      "  obj_min = np.nanmin(data_slice, axis=(1, 2))\n",
      "/work/aa0238/a271093/Scripts/MOAAP/src/Tracking_Functions.py:251: RuntimeWarning: All-NaN slice encountered\n",
      "  obj_max = np.nanmax(data_slice, axis=(1, 2))\n",
      "/work/aa0238/a271093/Scripts/MOAAP/src/Tracking_Functions.py:252: RuntimeWarning: Mean of empty slice\n",
      "  obj_mean = np.nanmean(data_slice, axis=(1, 2))\n",
      "/work/aa0238/a271093/Conda/MOAAP_env/lib/python3.12/site-packages/scipy/ndimage/_measurements.py:1541: RuntimeWarning: invalid value encountered in scalar divide\n",
      "  results = [sum(input * grids[dir].astype(float), labels, index) / normalizer\n"
     ]
    },
    {
     "name": "stdout",
     "output_type": "stream",
     "text": [
      "        check if MSs quallify as ARs\n"
     ]
    },
    {
     "name": "stderr",
     "output_type": "stream",
     "text": [
      "/work/aa0238/a271093/Scripts/MOAAP/src/Tracking_Functions.py:4588: RuntimeWarning: divide by zero encountered in scalar divide\n",
      "  if DIST.max() / DIST.min() < AR_width_lenght_ratio:\n"
     ]
    },
    {
     "name": "stdout",
     "output_type": "stream",
     "text": [
      "            Loop over 1784 objects\n",
      "        00:01:22.04\n",
      " \n",
      "Save the object masks into a joint netCDF\n",
      "Saved: /work/aa0238/a271093/results/MOAAP/IVT_Tracking/NorESM_ssp_remapped_3x/ObjectMasks_MOAPP_ICON_100and85NorESMsspperc_remapped_3x_2087_01_01-2087_08_01.nc\n",
      "        00:00:24.56\n",
      "clean up /work/aa0238/a271093/results/MOAAP/IVT_Tracking/NorESM_ssp_remapped_3x/IVT_MOAPP_ICON_100and85NorESMsspperc_remapped_3x_2087_01_01-2087_07_01.pkl\n",
      "clean up finished\n",
      "clean up /work/aa0238/a271093/results/MOAAP/IVT_Tracking/NorESM_ssp_remapped_3x/ARs_MOAPP_ICON_100and85NorESMsspperc_remapped_3x_2087_01_01-2087_07_01.pkl\n",
      "clean up finished\n",
      "correct nc-file with \n",
      " cdo -selmon,1,2,3,4,5,6 /work/aa0238/a271093/results/MOAAP/IVT_Tracking/NorESM_ssp_remapped_3x/ObjectMasks_MOAPP_ICON_100and85NorESMsspperc_remapped_3x_2087_01_01-2087_08_01.nc /work/aa0238/a271093/results/MOAAP/IVT_Tracking/NorESM_ssp_remapped_3x/ObjectMasks_MOAPP_ICON_100and85NorESMsspperc_remapped_3x_2087_01_01-2087_07_01_corrected.nc\n",
      "\n",
      " \n",
      " \n",
      " \n",
      "\n",
      "2087-07-01 00:00:00 2088-02-01 00:00:00\n",
      "Mergetime /work/aa0238/a271093/data/Jan_runs/ICON_NorESM_ssp/NorESM_ssp_remapped_3x/IVTu/IVTu_2087010100-2087123123_remapped_3x.nc /work/aa0238/a271093/data/Jan_runs/ICON_NorESM_ssp/NorESM_ssp_remapped_3x/IVTu/IVTu_2088010100-2088123123_remapped_3x.nc  /work/aa0238/a271093/scratch/mergedIVTu_2087_2088_remapped_3x.nc\n",
      "Mergetime /work/aa0238/a271093/data/Jan_runs/ICON_NorESM_ssp/NorESM_ssp_remapped_3x/IVTv/IVTv_2087010100-2087123123_remapped_3x.nc /work/aa0238/a271093/data/Jan_runs/ICON_NorESM_ssp/NorESM_ssp_remapped_3x/IVTv/IVTv_2088010100-2088123123_remapped_3x.nc  /work/aa0238/a271093/scratch/mergedIVTv_2087_2088_remapped_3x.nc\n",
      " \n",
      "The provided variables allow tracking the following phenomena\n",
      " \n",
      "|  phenomenon  | tracking |\n",
      "---------------------------\n",
      "   Jetstream   |   no\n",
      "   PSL CY/ACY  |   no\n",
      "   Z500 CY/ACY |   no\n",
      "   COLs        |   no\n",
      "   IVT ARs     |   yes\n",
      "   MS ARs      |   no\n",
      "   Fronts      |   no\n",
      "   TCs         |   no\n",
      "   MCSs        |   no\n",
      "   Equ. Waves  |   no\n",
      "---------------------------\n",
      " \n",
      "======> track IVT streams and atmospheric rivers (ARs)\n",
      "        3697 object found\n",
      "        break up long living IVT objects that have many elements\n"
     ]
    },
    {
     "name": "stderr",
     "output_type": "stream",
     "text": [
      "100%|██████████| 585/585 [00:28<00:00, 20.25it/s]\n"
     ]
    },
    {
     "name": "stdout",
     "output_type": "stream",
     "text": [
      "        00:00:35.12\n",
      "9\n",
      "            Loop over 1683 objects\n"
     ]
    },
    {
     "name": "stderr",
     "output_type": "stream",
     "text": [
      "/work/aa0238/a271093/Scripts/MOAAP/src/Tracking_Functions.py:250: RuntimeWarning: All-NaN slice encountered\n",
      "  obj_min = np.nanmin(data_slice, axis=(1, 2))\n",
      "/work/aa0238/a271093/Scripts/MOAAP/src/Tracking_Functions.py:251: RuntimeWarning: All-NaN slice encountered\n",
      "  obj_max = np.nanmax(data_slice, axis=(1, 2))\n",
      "/work/aa0238/a271093/Scripts/MOAAP/src/Tracking_Functions.py:252: RuntimeWarning: Mean of empty slice\n",
      "  obj_mean = np.nanmean(data_slice, axis=(1, 2))\n",
      "/work/aa0238/a271093/Conda/MOAAP_env/lib/python3.12/site-packages/scipy/ndimage/_measurements.py:1541: RuntimeWarning: invalid value encountered in scalar divide\n",
      "  results = [sum(input * grids[dir].astype(float), labels, index) / normalizer\n"
     ]
    },
    {
     "name": "stdout",
     "output_type": "stream",
     "text": [
      "        check if MSs quallify as ARs\n"
     ]
    },
    {
     "name": "stderr",
     "output_type": "stream",
     "text": [
      "/work/aa0238/a271093/Scripts/MOAAP/src/Tracking_Functions.py:4588: RuntimeWarning: divide by zero encountered in scalar divide\n",
      "  if DIST.max() / DIST.min() < AR_width_lenght_ratio:\n"
     ]
    },
    {
     "name": "stdout",
     "output_type": "stream",
     "text": [
      "            Loop over 1681 objects\n",
      "        00:01:26.49\n",
      " \n",
      "Save the object masks into a joint netCDF\n",
      "Saved: /work/aa0238/a271093/results/MOAAP/IVT_Tracking/NorESM_ssp_remapped_3x/ObjectMasks_MOAPP_ICON_100and85NorESMsspperc_remapped_3x_2087_07_01-2088_02_01.nc\n",
      "        00:00:26.06\n",
      "clean up /work/aa0238/a271093/results/MOAAP/IVT_Tracking/NorESM_ssp_remapped_3x/IVT_MOAPP_ICON_100and85NorESMsspperc_remapped_3x_2087_07_01-2088_01_01.pkl\n",
      "clean up finished\n",
      "clean up /work/aa0238/a271093/results/MOAAP/IVT_Tracking/NorESM_ssp_remapped_3x/ARs_MOAPP_ICON_100and85NorESMsspperc_remapped_3x_2087_07_01-2088_01_01.pkl\n",
      "clean up finished\n",
      "correct nc-file with \n",
      " cdo -selmon,6,7,8,9,10,11,12 /work/aa0238/a271093/results/MOAAP/IVT_Tracking/NorESM_ssp_remapped_3x/ObjectMasks_MOAPP_ICON_100and85NorESMsspperc_remapped_3x_2087_07_01-2088_02_01.nc /work/aa0238/a271093/results/MOAAP/IVT_Tracking/NorESM_ssp_remapped_3x/ObjectMasks_MOAPP_ICON_100and85NorESMsspperc_remapped_3x_2087_07_01-2088_01_01_corrected.nc\n",
      "\n",
      " \n",
      " \n",
      " \n",
      "\n",
      "2088-01-01 00:00:00 2088-08-01 00:00:00\n",
      " \n",
      "The provided variables allow tracking the following phenomena\n",
      " \n",
      "|  phenomenon  | tracking |\n",
      "---------------------------\n",
      "   Jetstream   |   no\n",
      "   PSL CY/ACY  |   no\n",
      "   Z500 CY/ACY |   no\n",
      "   COLs        |   no\n",
      "   IVT ARs     |   yes\n",
      "   MS ARs      |   no\n",
      "   Fronts      |   no\n",
      "   TCs         |   no\n",
      "   MCSs        |   no\n",
      "   Equ. Waves  |   no\n",
      "---------------------------\n",
      " \n",
      "======> track IVT streams and atmospheric rivers (ARs)\n",
      "        3789 object found\n",
      "        break up long living IVT objects that have many elements\n"
     ]
    },
    {
     "name": "stderr",
     "output_type": "stream",
     "text": [
      "100%|██████████| 611/611 [00:28<00:00, 21.30it/s]\n"
     ]
    },
    {
     "name": "stdout",
     "output_type": "stream",
     "text": [
      "        00:00:35.08\n",
      "9\n",
      "            Loop over 1924 objects\n"
     ]
    },
    {
     "name": "stderr",
     "output_type": "stream",
     "text": [
      "/work/aa0238/a271093/Scripts/MOAAP/src/Tracking_Functions.py:250: RuntimeWarning: All-NaN slice encountered\n",
      "  obj_min = np.nanmin(data_slice, axis=(1, 2))\n",
      "/work/aa0238/a271093/Scripts/MOAAP/src/Tracking_Functions.py:251: RuntimeWarning: All-NaN slice encountered\n",
      "  obj_max = np.nanmax(data_slice, axis=(1, 2))\n",
      "/work/aa0238/a271093/Scripts/MOAAP/src/Tracking_Functions.py:252: RuntimeWarning: Mean of empty slice\n",
      "  obj_mean = np.nanmean(data_slice, axis=(1, 2))\n",
      "/work/aa0238/a271093/Conda/MOAAP_env/lib/python3.12/site-packages/scipy/ndimage/_measurements.py:1541: RuntimeWarning: invalid value encountered in scalar divide\n",
      "  results = [sum(input * grids[dir].astype(float), labels, index) / normalizer\n"
     ]
    },
    {
     "name": "stdout",
     "output_type": "stream",
     "text": [
      "        check if MSs quallify as ARs\n"
     ]
    },
    {
     "name": "stderr",
     "output_type": "stream",
     "text": [
      "/work/aa0238/a271093/Scripts/MOAAP/src/Tracking_Functions.py:4588: RuntimeWarning: divide by zero encountered in scalar divide\n",
      "  if DIST.max() / DIST.min() < AR_width_lenght_ratio:\n"
     ]
    },
    {
     "name": "stdout",
     "output_type": "stream",
     "text": [
      "            Loop over 1923 objects\n",
      "        00:01:35.56\n",
      " \n",
      "Save the object masks into a joint netCDF\n",
      "Saved: /work/aa0238/a271093/results/MOAAP/IVT_Tracking/NorESM_ssp_remapped_3x/ObjectMasks_MOAPP_ICON_100and85NorESMsspperc_remapped_3x_2088_01_01-2088_08_01.nc\n",
      "        00:00:24.80\n",
      "clean up /work/aa0238/a271093/results/MOAAP/IVT_Tracking/NorESM_ssp_remapped_3x/IVT_MOAPP_ICON_100and85NorESMsspperc_remapped_3x_2088_01_01-2088_07_01.pkl\n",
      "clean up finished\n",
      "clean up /work/aa0238/a271093/results/MOAAP/IVT_Tracking/NorESM_ssp_remapped_3x/ARs_MOAPP_ICON_100and85NorESMsspperc_remapped_3x_2088_01_01-2088_07_01.pkl\n",
      "clean up finished\n",
      "correct nc-file with \n",
      " cdo -selmon,1,2,3,4,5,6 /work/aa0238/a271093/results/MOAAP/IVT_Tracking/NorESM_ssp_remapped_3x/ObjectMasks_MOAPP_ICON_100and85NorESMsspperc_remapped_3x_2088_01_01-2088_08_01.nc /work/aa0238/a271093/results/MOAAP/IVT_Tracking/NorESM_ssp_remapped_3x/ObjectMasks_MOAPP_ICON_100and85NorESMsspperc_remapped_3x_2088_01_01-2088_07_01_corrected.nc\n",
      "\n",
      " \n",
      " \n",
      " \n",
      "\n",
      "2088-07-01 00:00:00 2089-02-01 00:00:00\n",
      "Mergetime /work/aa0238/a271093/data/Jan_runs/ICON_NorESM_ssp/NorESM_ssp_remapped_3x/IVTu/IVTu_2088010100-2088123123_remapped_3x.nc /work/aa0238/a271093/data/Jan_runs/ICON_NorESM_ssp/NorESM_ssp_remapped_3x/IVTu/IVTu_2089010100-2089123123_remapped_3x.nc  /work/aa0238/a271093/scratch/mergedIVTu_2088_2089_remapped_3x.nc\n",
      "Mergetime /work/aa0238/a271093/data/Jan_runs/ICON_NorESM_ssp/NorESM_ssp_remapped_3x/IVTv/IVTv_2088010100-2088123123_remapped_3x.nc /work/aa0238/a271093/data/Jan_runs/ICON_NorESM_ssp/NorESM_ssp_remapped_3x/IVTv/IVTv_2089010100-2089123123_remapped_3x.nc  /work/aa0238/a271093/scratch/mergedIVTv_2088_2089_remapped_3x.nc\n",
      " \n",
      "The provided variables allow tracking the following phenomena\n",
      " \n",
      "|  phenomenon  | tracking |\n",
      "---------------------------\n",
      "   Jetstream   |   no\n",
      "   PSL CY/ACY  |   no\n",
      "   Z500 CY/ACY |   no\n",
      "   COLs        |   no\n",
      "   IVT ARs     |   yes\n",
      "   MS ARs      |   no\n",
      "   Fronts      |   no\n",
      "   TCs         |   no\n",
      "   MCSs        |   no\n",
      "   Equ. Waves  |   no\n",
      "---------------------------\n",
      " \n",
      "======> track IVT streams and atmospheric rivers (ARs)\n",
      "        3551 object found\n",
      "        break up long living IVT objects that have many elements\n"
     ]
    },
    {
     "name": "stderr",
     "output_type": "stream",
     "text": [
      "100%|██████████| 619/619 [00:27<00:00, 22.16it/s]\n"
     ]
    },
    {
     "name": "stdout",
     "output_type": "stream",
     "text": [
      "        00:00:34.43\n",
      "9\n",
      "            Loop over 1653 objects\n"
     ]
    },
    {
     "name": "stderr",
     "output_type": "stream",
     "text": [
      "/work/aa0238/a271093/Scripts/MOAAP/src/Tracking_Functions.py:250: RuntimeWarning: All-NaN slice encountered\n",
      "  obj_min = np.nanmin(data_slice, axis=(1, 2))\n",
      "/work/aa0238/a271093/Scripts/MOAAP/src/Tracking_Functions.py:251: RuntimeWarning: All-NaN slice encountered\n",
      "  obj_max = np.nanmax(data_slice, axis=(1, 2))\n",
      "/work/aa0238/a271093/Scripts/MOAAP/src/Tracking_Functions.py:252: RuntimeWarning: Mean of empty slice\n",
      "  obj_mean = np.nanmean(data_slice, axis=(1, 2))\n",
      "/work/aa0238/a271093/Conda/MOAAP_env/lib/python3.12/site-packages/scipy/ndimage/_measurements.py:1541: RuntimeWarning: invalid value encountered in scalar divide\n",
      "  results = [sum(input * grids[dir].astype(float), labels, index) / normalizer\n"
     ]
    },
    {
     "name": "stdout",
     "output_type": "stream",
     "text": [
      "        check if MSs quallify as ARs\n"
     ]
    },
    {
     "name": "stderr",
     "output_type": "stream",
     "text": [
      "/work/aa0238/a271093/Scripts/MOAAP/src/Tracking_Functions.py:4588: RuntimeWarning: divide by zero encountered in scalar divide\n",
      "  if DIST.max() / DIST.min() < AR_width_lenght_ratio:\n"
     ]
    },
    {
     "name": "stdout",
     "output_type": "stream",
     "text": [
      "            Loop over 1651 objects\n",
      "        00:01:25.14\n",
      " \n",
      "Save the object masks into a joint netCDF\n",
      "Saved: /work/aa0238/a271093/results/MOAAP/IVT_Tracking/NorESM_ssp_remapped_3x/ObjectMasks_MOAPP_ICON_100and85NorESMsspperc_remapped_3x_2088_07_01-2089_02_01.nc\n",
      "        00:00:24.71\n",
      "clean up /work/aa0238/a271093/results/MOAAP/IVT_Tracking/NorESM_ssp_remapped_3x/IVT_MOAPP_ICON_100and85NorESMsspperc_remapped_3x_2088_07_01-2089_01_01.pkl\n",
      "clean up finished\n",
      "clean up /work/aa0238/a271093/results/MOAAP/IVT_Tracking/NorESM_ssp_remapped_3x/ARs_MOAPP_ICON_100and85NorESMsspperc_remapped_3x_2088_07_01-2089_01_01.pkl\n",
      "clean up finished\n",
      "correct nc-file with \n",
      " cdo -selmon,6,7,8,9,10,11,12 /work/aa0238/a271093/results/MOAAP/IVT_Tracking/NorESM_ssp_remapped_3x/ObjectMasks_MOAPP_ICON_100and85NorESMsspperc_remapped_3x_2088_07_01-2089_02_01.nc /work/aa0238/a271093/results/MOAAP/IVT_Tracking/NorESM_ssp_remapped_3x/ObjectMasks_MOAPP_ICON_100and85NorESMsspperc_remapped_3x_2088_07_01-2089_01_01_corrected.nc\n",
      "\n",
      " \n",
      " \n",
      " \n",
      "\n",
      "2089-01-01 00:00:00 2089-08-01 00:00:00\n",
      " \n",
      "The provided variables allow tracking the following phenomena\n",
      " \n",
      "|  phenomenon  | tracking |\n",
      "---------------------------\n",
      "   Jetstream   |   no\n",
      "   PSL CY/ACY  |   no\n",
      "   Z500 CY/ACY |   no\n",
      "   COLs        |   no\n",
      "   IVT ARs     |   yes\n",
      "   MS ARs      |   no\n",
      "   Fronts      |   no\n",
      "   TCs         |   no\n",
      "   MCSs        |   no\n",
      "   Equ. Waves  |   no\n",
      "---------------------------\n",
      " \n",
      "======> track IVT streams and atmospheric rivers (ARs)\n",
      "        3771 object found\n",
      "        break up long living IVT objects that have many elements\n"
     ]
    },
    {
     "name": "stderr",
     "output_type": "stream",
     "text": [
      "100%|██████████| 636/636 [00:27<00:00, 23.36it/s]\n"
     ]
    },
    {
     "name": "stdout",
     "output_type": "stream",
     "text": [
      "        00:00:33.22\n",
      "9\n",
      "            Loop over 1668 objects\n"
     ]
    },
    {
     "name": "stderr",
     "output_type": "stream",
     "text": [
      "/work/aa0238/a271093/Scripts/MOAAP/src/Tracking_Functions.py:250: RuntimeWarning: All-NaN slice encountered\n",
      "  obj_min = np.nanmin(data_slice, axis=(1, 2))\n",
      "/work/aa0238/a271093/Scripts/MOAAP/src/Tracking_Functions.py:251: RuntimeWarning: All-NaN slice encountered\n",
      "  obj_max = np.nanmax(data_slice, axis=(1, 2))\n",
      "/work/aa0238/a271093/Scripts/MOAAP/src/Tracking_Functions.py:252: RuntimeWarning: Mean of empty slice\n",
      "  obj_mean = np.nanmean(data_slice, axis=(1, 2))\n",
      "/work/aa0238/a271093/Conda/MOAAP_env/lib/python3.12/site-packages/scipy/ndimage/_measurements.py:1541: RuntimeWarning: invalid value encountered in scalar divide\n",
      "  results = [sum(input * grids[dir].astype(float), labels, index) / normalizer\n"
     ]
    },
    {
     "name": "stdout",
     "output_type": "stream",
     "text": [
      "        check if MSs quallify as ARs\n"
     ]
    },
    {
     "name": "stderr",
     "output_type": "stream",
     "text": [
      "/work/aa0238/a271093/Scripts/MOAAP/src/Tracking_Functions.py:4588: RuntimeWarning: divide by zero encountered in scalar divide\n",
      "  if DIST.max() / DIST.min() < AR_width_lenght_ratio:\n"
     ]
    },
    {
     "name": "stdout",
     "output_type": "stream",
     "text": [
      "            Loop over 1668 objects\n",
      "        00:01:23.72\n",
      " \n",
      "Save the object masks into a joint netCDF\n",
      "Saved: /work/aa0238/a271093/results/MOAAP/IVT_Tracking/NorESM_ssp_remapped_3x/ObjectMasks_MOAPP_ICON_100and85NorESMsspperc_remapped_3x_2089_01_01-2089_08_01.nc\n",
      "        00:00:24.26\n",
      "clean up /work/aa0238/a271093/results/MOAAP/IVT_Tracking/NorESM_ssp_remapped_3x/IVT_MOAPP_ICON_100and85NorESMsspperc_remapped_3x_2089_01_01-2089_07_01.pkl\n",
      "clean up finished\n",
      "clean up /work/aa0238/a271093/results/MOAAP/IVT_Tracking/NorESM_ssp_remapped_3x/ARs_MOAPP_ICON_100and85NorESMsspperc_remapped_3x_2089_01_01-2089_07_01.pkl\n",
      "clean up finished\n",
      "correct nc-file with \n",
      " cdo -selmon,1,2,3,4,5,6 /work/aa0238/a271093/results/MOAAP/IVT_Tracking/NorESM_ssp_remapped_3x/ObjectMasks_MOAPP_ICON_100and85NorESMsspperc_remapped_3x_2089_01_01-2089_08_01.nc /work/aa0238/a271093/results/MOAAP/IVT_Tracking/NorESM_ssp_remapped_3x/ObjectMasks_MOAPP_ICON_100and85NorESMsspperc_remapped_3x_2089_01_01-2089_07_01_corrected.nc\n",
      "\n",
      " \n",
      " \n",
      " \n",
      "\n",
      "2089-07-01 00:00:00 2090-02-01 00:00:00\n",
      "Mergetime /work/aa0238/a271093/data/Jan_runs/ICON_NorESM_ssp/NorESM_ssp_remapped_3x/IVTu/IVTu_2089010100-2089123123_remapped_3x.nc /work/aa0238/a271093/data/Jan_runs/ICON_NorESM_ssp/NorESM_ssp_remapped_3x/IVTu/IVTu_2090010100-2090123123_remapped_3x.nc  /work/aa0238/a271093/scratch/mergedIVTu_2089_2090_remapped_3x.nc\n",
      "Mergetime /work/aa0238/a271093/data/Jan_runs/ICON_NorESM_ssp/NorESM_ssp_remapped_3x/IVTv/IVTv_2089010100-2089123123_remapped_3x.nc /work/aa0238/a271093/data/Jan_runs/ICON_NorESM_ssp/NorESM_ssp_remapped_3x/IVTv/IVTv_2090010100-2090123123_remapped_3x.nc  /work/aa0238/a271093/scratch/mergedIVTv_2089_2090_remapped_3x.nc\n",
      " \n",
      "The provided variables allow tracking the following phenomena\n",
      " \n",
      "|  phenomenon  | tracking |\n",
      "---------------------------\n",
      "   Jetstream   |   no\n",
      "   PSL CY/ACY  |   no\n",
      "   Z500 CY/ACY |   no\n",
      "   COLs        |   no\n",
      "   IVT ARs     |   yes\n",
      "   MS ARs      |   no\n",
      "   Fronts      |   no\n",
      "   TCs         |   no\n",
      "   MCSs        |   no\n",
      "   Equ. Waves  |   no\n",
      "---------------------------\n",
      " \n",
      "======> track IVT streams and atmospheric rivers (ARs)\n",
      "        3712 object found\n",
      "        break up long living IVT objects that have many elements\n"
     ]
    },
    {
     "name": "stderr",
     "output_type": "stream",
     "text": [
      "100%|██████████| 643/643 [00:28<00:00, 22.25it/s]\n"
     ]
    },
    {
     "name": "stdout",
     "output_type": "stream",
     "text": [
      "        00:00:35.35\n",
      "9\n",
      "            Loop over 1686 objects\n"
     ]
    },
    {
     "name": "stderr",
     "output_type": "stream",
     "text": [
      "/work/aa0238/a271093/Scripts/MOAAP/src/Tracking_Functions.py:250: RuntimeWarning: All-NaN slice encountered\n",
      "  obj_min = np.nanmin(data_slice, axis=(1, 2))\n",
      "/work/aa0238/a271093/Scripts/MOAAP/src/Tracking_Functions.py:251: RuntimeWarning: All-NaN slice encountered\n",
      "  obj_max = np.nanmax(data_slice, axis=(1, 2))\n",
      "/work/aa0238/a271093/Scripts/MOAAP/src/Tracking_Functions.py:252: RuntimeWarning: Mean of empty slice\n",
      "  obj_mean = np.nanmean(data_slice, axis=(1, 2))\n",
      "/work/aa0238/a271093/Conda/MOAAP_env/lib/python3.12/site-packages/scipy/ndimage/_measurements.py:1541: RuntimeWarning: invalid value encountered in scalar divide\n",
      "  results = [sum(input * grids[dir].astype(float), labels, index) / normalizer\n"
     ]
    },
    {
     "name": "stdout",
     "output_type": "stream",
     "text": [
      "        check if MSs quallify as ARs\n"
     ]
    },
    {
     "name": "stderr",
     "output_type": "stream",
     "text": [
      "/work/aa0238/a271093/Scripts/MOAAP/src/Tracking_Functions.py:4588: RuntimeWarning: divide by zero encountered in scalar divide\n",
      "  if DIST.max() / DIST.min() < AR_width_lenght_ratio:\n"
     ]
    },
    {
     "name": "stdout",
     "output_type": "stream",
     "text": [
      "            Loop over 1682 objects\n",
      "        00:01:27.27\n",
      " \n",
      "Save the object masks into a joint netCDF\n",
      "Saved: /work/aa0238/a271093/results/MOAAP/IVT_Tracking/NorESM_ssp_remapped_3x/ObjectMasks_MOAPP_ICON_100and85NorESMsspperc_remapped_3x_2089_07_01-2090_02_01.nc\n",
      "        00:00:24.59\n",
      "clean up /work/aa0238/a271093/results/MOAAP/IVT_Tracking/NorESM_ssp_remapped_3x/IVT_MOAPP_ICON_100and85NorESMsspperc_remapped_3x_2089_07_01-2090_01_01.pkl\n",
      "clean up finished\n",
      "clean up /work/aa0238/a271093/results/MOAAP/IVT_Tracking/NorESM_ssp_remapped_3x/ARs_MOAPP_ICON_100and85NorESMsspperc_remapped_3x_2089_07_01-2090_01_01.pkl\n",
      "clean up finished\n",
      "correct nc-file with \n",
      " cdo -selmon,6,7,8,9,10,11,12 /work/aa0238/a271093/results/MOAAP/IVT_Tracking/NorESM_ssp_remapped_3x/ObjectMasks_MOAPP_ICON_100and85NorESMsspperc_remapped_3x_2089_07_01-2090_02_01.nc /work/aa0238/a271093/results/MOAAP/IVT_Tracking/NorESM_ssp_remapped_3x/ObjectMasks_MOAPP_ICON_100and85NorESMsspperc_remapped_3x_2089_07_01-2090_01_01_corrected.nc\n",
      "\n",
      " \n",
      " \n",
      " \n",
      "\n",
      "2090-01-01 00:00:00 2090-08-01 00:00:00\n",
      " \n",
      "The provided variables allow tracking the following phenomena\n",
      " \n",
      "|  phenomenon  | tracking |\n",
      "---------------------------\n",
      "   Jetstream   |   no\n",
      "   PSL CY/ACY  |   no\n",
      "   Z500 CY/ACY |   no\n",
      "   COLs        |   no\n",
      "   IVT ARs     |   yes\n",
      "   MS ARs      |   no\n",
      "   Fronts      |   no\n",
      "   TCs         |   no\n",
      "   MCSs        |   no\n",
      "   Equ. Waves  |   no\n",
      "---------------------------\n",
      " \n",
      "======> track IVT streams and atmospheric rivers (ARs)\n",
      "        3665 object found\n",
      "        break up long living IVT objects that have many elements\n"
     ]
    },
    {
     "name": "stderr",
     "output_type": "stream",
     "text": [
      "100%|██████████| 630/630 [00:25<00:00, 24.29it/s] \n"
     ]
    },
    {
     "name": "stdout",
     "output_type": "stream",
     "text": [
      "        00:00:31.80\n",
      "9\n",
      "            Loop over 1781 objects\n"
     ]
    },
    {
     "name": "stderr",
     "output_type": "stream",
     "text": [
      "/work/aa0238/a271093/Scripts/MOAAP/src/Tracking_Functions.py:250: RuntimeWarning: All-NaN slice encountered\n",
      "  obj_min = np.nanmin(data_slice, axis=(1, 2))\n",
      "/work/aa0238/a271093/Scripts/MOAAP/src/Tracking_Functions.py:251: RuntimeWarning: All-NaN slice encountered\n",
      "  obj_max = np.nanmax(data_slice, axis=(1, 2))\n",
      "/work/aa0238/a271093/Scripts/MOAAP/src/Tracking_Functions.py:252: RuntimeWarning: Mean of empty slice\n",
      "  obj_mean = np.nanmean(data_slice, axis=(1, 2))\n",
      "/work/aa0238/a271093/Conda/MOAAP_env/lib/python3.12/site-packages/scipy/ndimage/_measurements.py:1541: RuntimeWarning: invalid value encountered in scalar divide\n",
      "  results = [sum(input * grids[dir].astype(float), labels, index) / normalizer\n"
     ]
    },
    {
     "name": "stdout",
     "output_type": "stream",
     "text": [
      "        check if MSs quallify as ARs\n"
     ]
    },
    {
     "name": "stderr",
     "output_type": "stream",
     "text": [
      "/work/aa0238/a271093/Scripts/MOAAP/src/Tracking_Functions.py:4588: RuntimeWarning: divide by zero encountered in scalar divide\n",
      "  if DIST.max() / DIST.min() < AR_width_lenght_ratio:\n"
     ]
    },
    {
     "name": "stdout",
     "output_type": "stream",
     "text": [
      "            Loop over 1779 objects\n",
      "        00:01:22.83\n",
      " \n",
      "Save the object masks into a joint netCDF\n",
      "Saved: /work/aa0238/a271093/results/MOAAP/IVT_Tracking/NorESM_ssp_remapped_3x/ObjectMasks_MOAPP_ICON_100and85NorESMsspperc_remapped_3x_2090_01_01-2090_08_01.nc\n",
      "        00:00:27.44\n",
      "clean up /work/aa0238/a271093/results/MOAAP/IVT_Tracking/NorESM_ssp_remapped_3x/IVT_MOAPP_ICON_100and85NorESMsspperc_remapped_3x_2090_01_01-2090_07_01.pkl\n",
      "clean up finished\n",
      "clean up /work/aa0238/a271093/results/MOAAP/IVT_Tracking/NorESM_ssp_remapped_3x/ARs_MOAPP_ICON_100and85NorESMsspperc_remapped_3x_2090_01_01-2090_07_01.pkl\n",
      "clean up finished\n",
      "correct nc-file with \n",
      " cdo -selmon,1,2,3,4,5,6 /work/aa0238/a271093/results/MOAAP/IVT_Tracking/NorESM_ssp_remapped_3x/ObjectMasks_MOAPP_ICON_100and85NorESMsspperc_remapped_3x_2090_01_01-2090_08_01.nc /work/aa0238/a271093/results/MOAAP/IVT_Tracking/NorESM_ssp_remapped_3x/ObjectMasks_MOAPP_ICON_100and85NorESMsspperc_remapped_3x_2090_01_01-2090_07_01_corrected.nc\n",
      "\n",
      " \n",
      " \n",
      " \n",
      "\n",
      "2090-07-01 00:00:00 2091-02-01 00:00:00\n",
      "Mergetime /work/aa0238/a271093/data/Jan_runs/ICON_NorESM_ssp/NorESM_ssp_remapped_3x/IVTu/IVTu_2090010100-2090123123_remapped_3x.nc /work/aa0238/a271093/data/Jan_runs/ICON_NorESM_ssp/NorESM_ssp_remapped_3x/IVTu/IVTu_2091010100-2091123123_remapped_3x.nc  /work/aa0238/a271093/scratch/mergedIVTu_2090_2091_remapped_3x.nc\n",
      "Mergetime /work/aa0238/a271093/data/Jan_runs/ICON_NorESM_ssp/NorESM_ssp_remapped_3x/IVTv/IVTv_2090010100-2090123123_remapped_3x.nc /work/aa0238/a271093/data/Jan_runs/ICON_NorESM_ssp/NorESM_ssp_remapped_3x/IVTv/IVTv_2091010100-2091123123_remapped_3x.nc  /work/aa0238/a271093/scratch/mergedIVTv_2090_2091_remapped_3x.nc\n",
      " \n",
      "The provided variables allow tracking the following phenomena\n",
      " \n",
      "|  phenomenon  | tracking |\n",
      "---------------------------\n",
      "   Jetstream   |   no\n",
      "   PSL CY/ACY  |   no\n",
      "   Z500 CY/ACY |   no\n",
      "   COLs        |   no\n",
      "   IVT ARs     |   yes\n",
      "   MS ARs      |   no\n",
      "   Fronts      |   no\n",
      "   TCs         |   no\n",
      "   MCSs        |   no\n",
      "   Equ. Waves  |   no\n",
      "---------------------------\n",
      " \n",
      "======> track IVT streams and atmospheric rivers (ARs)\n",
      "        3288 object found\n",
      "        break up long living IVT objects that have many elements\n"
     ]
    },
    {
     "name": "stderr",
     "output_type": "stream",
     "text": [
      "100%|██████████| 581/581 [00:24<00:00, 23.27it/s]\n"
     ]
    },
    {
     "name": "stdout",
     "output_type": "stream",
     "text": [
      "        00:00:31.06\n",
      "9\n",
      "            Loop over 1683 objects\n"
     ]
    },
    {
     "name": "stderr",
     "output_type": "stream",
     "text": [
      "/work/aa0238/a271093/Scripts/MOAAP/src/Tracking_Functions.py:250: RuntimeWarning: All-NaN slice encountered\n",
      "  obj_min = np.nanmin(data_slice, axis=(1, 2))\n",
      "/work/aa0238/a271093/Scripts/MOAAP/src/Tracking_Functions.py:251: RuntimeWarning: All-NaN slice encountered\n",
      "  obj_max = np.nanmax(data_slice, axis=(1, 2))\n",
      "/work/aa0238/a271093/Scripts/MOAAP/src/Tracking_Functions.py:252: RuntimeWarning: Mean of empty slice\n",
      "  obj_mean = np.nanmean(data_slice, axis=(1, 2))\n",
      "/work/aa0238/a271093/Conda/MOAAP_env/lib/python3.12/site-packages/scipy/ndimage/_measurements.py:1541: RuntimeWarning: invalid value encountered in scalar divide\n",
      "  results = [sum(input * grids[dir].astype(float), labels, index) / normalizer\n"
     ]
    },
    {
     "name": "stdout",
     "output_type": "stream",
     "text": [
      "        check if MSs quallify as ARs\n"
     ]
    },
    {
     "name": "stderr",
     "output_type": "stream",
     "text": [
      "/work/aa0238/a271093/Scripts/MOAAP/src/Tracking_Functions.py:4588: RuntimeWarning: divide by zero encountered in scalar divide\n",
      "  if DIST.max() / DIST.min() < AR_width_lenght_ratio:\n"
     ]
    },
    {
     "name": "stdout",
     "output_type": "stream",
     "text": [
      "            Loop over 1683 objects\n",
      "        00:01:19.40\n",
      " \n",
      "Save the object masks into a joint netCDF\n",
      "Saved: /work/aa0238/a271093/results/MOAAP/IVT_Tracking/NorESM_ssp_remapped_3x/ObjectMasks_MOAPP_ICON_100and85NorESMsspperc_remapped_3x_2090_07_01-2091_02_01.nc\n",
      "        00:00:24.48\n",
      "clean up /work/aa0238/a271093/results/MOAAP/IVT_Tracking/NorESM_ssp_remapped_3x/IVT_MOAPP_ICON_100and85NorESMsspperc_remapped_3x_2090_07_01-2091_01_01.pkl\n",
      "clean up finished\n",
      "clean up /work/aa0238/a271093/results/MOAAP/IVT_Tracking/NorESM_ssp_remapped_3x/ARs_MOAPP_ICON_100and85NorESMsspperc_remapped_3x_2090_07_01-2091_01_01.pkl\n",
      "clean up finished\n",
      "correct nc-file with \n",
      " cdo -selmon,6,7,8,9,10,11,12 /work/aa0238/a271093/results/MOAAP/IVT_Tracking/NorESM_ssp_remapped_3x/ObjectMasks_MOAPP_ICON_100and85NorESMsspperc_remapped_3x_2090_07_01-2091_02_01.nc /work/aa0238/a271093/results/MOAAP/IVT_Tracking/NorESM_ssp_remapped_3x/ObjectMasks_MOAPP_ICON_100and85NorESMsspperc_remapped_3x_2090_07_01-2091_01_01_corrected.nc\n",
      "\n",
      " \n",
      " \n",
      " \n",
      "\n",
      "2091-01-01 00:00:00 2091-08-01 00:00:00\n",
      " \n",
      "The provided variables allow tracking the following phenomena\n",
      " \n",
      "|  phenomenon  | tracking |\n",
      "---------------------------\n",
      "   Jetstream   |   no\n",
      "   PSL CY/ACY  |   no\n",
      "   Z500 CY/ACY |   no\n",
      "   COLs        |   no\n",
      "   IVT ARs     |   yes\n",
      "   MS ARs      |   no\n",
      "   Fronts      |   no\n",
      "   TCs         |   no\n",
      "   MCSs        |   no\n",
      "   Equ. Waves  |   no\n",
      "---------------------------\n",
      " \n",
      "======> track IVT streams and atmospheric rivers (ARs)\n",
      "        3297 object found\n",
      "        break up long living IVT objects that have many elements\n"
     ]
    },
    {
     "name": "stderr",
     "output_type": "stream",
     "text": [
      "100%|██████████| 534/534 [00:28<00:00, 18.62it/s] \n"
     ]
    },
    {
     "name": "stdout",
     "output_type": "stream",
     "text": [
      "        00:00:34.62\n",
      "9\n",
      "            Loop over 1696 objects\n"
     ]
    },
    {
     "name": "stderr",
     "output_type": "stream",
     "text": [
      "/work/aa0238/a271093/Scripts/MOAAP/src/Tracking_Functions.py:250: RuntimeWarning: All-NaN slice encountered\n",
      "  obj_min = np.nanmin(data_slice, axis=(1, 2))\n",
      "/work/aa0238/a271093/Scripts/MOAAP/src/Tracking_Functions.py:251: RuntimeWarning: All-NaN slice encountered\n",
      "  obj_max = np.nanmax(data_slice, axis=(1, 2))\n",
      "/work/aa0238/a271093/Scripts/MOAAP/src/Tracking_Functions.py:252: RuntimeWarning: Mean of empty slice\n",
      "  obj_mean = np.nanmean(data_slice, axis=(1, 2))\n",
      "/work/aa0238/a271093/Conda/MOAAP_env/lib/python3.12/site-packages/scipy/ndimage/_measurements.py:1541: RuntimeWarning: invalid value encountered in scalar divide\n",
      "  results = [sum(input * grids[dir].astype(float), labels, index) / normalizer\n"
     ]
    },
    {
     "name": "stdout",
     "output_type": "stream",
     "text": [
      "        check if MSs quallify as ARs\n"
     ]
    },
    {
     "name": "stderr",
     "output_type": "stream",
     "text": [
      "/work/aa0238/a271093/Scripts/MOAAP/src/Tracking_Functions.py:4588: RuntimeWarning: divide by zero encountered in scalar divide\n",
      "  if DIST.max() / DIST.min() < AR_width_lenght_ratio:\n"
     ]
    },
    {
     "name": "stdout",
     "output_type": "stream",
     "text": [
      "            Loop over 1696 objects\n",
      "        00:01:25.56\n",
      " \n",
      "Save the object masks into a joint netCDF\n",
      "Saved: /work/aa0238/a271093/results/MOAAP/IVT_Tracking/NorESM_ssp_remapped_3x/ObjectMasks_MOAPP_ICON_100and85NorESMsspperc_remapped_3x_2091_01_01-2091_08_01.nc\n",
      "        00:00:24.50\n",
      "clean up /work/aa0238/a271093/results/MOAAP/IVT_Tracking/NorESM_ssp_remapped_3x/IVT_MOAPP_ICON_100and85NorESMsspperc_remapped_3x_2091_01_01-2091_07_01.pkl\n",
      "clean up finished\n",
      "clean up /work/aa0238/a271093/results/MOAAP/IVT_Tracking/NorESM_ssp_remapped_3x/ARs_MOAPP_ICON_100and85NorESMsspperc_remapped_3x_2091_01_01-2091_07_01.pkl\n",
      "clean up finished\n",
      "correct nc-file with \n",
      " cdo -selmon,1,2,3,4,5,6 /work/aa0238/a271093/results/MOAAP/IVT_Tracking/NorESM_ssp_remapped_3x/ObjectMasks_MOAPP_ICON_100and85NorESMsspperc_remapped_3x_2091_01_01-2091_08_01.nc /work/aa0238/a271093/results/MOAAP/IVT_Tracking/NorESM_ssp_remapped_3x/ObjectMasks_MOAPP_ICON_100and85NorESMsspperc_remapped_3x_2091_01_01-2091_07_01_corrected.nc\n",
      "\n",
      " \n",
      " \n",
      " \n",
      "\n",
      "2091-07-01 00:00:00 2092-02-01 00:00:00\n",
      "Mergetime /work/aa0238/a271093/data/Jan_runs/ICON_NorESM_ssp/NorESM_ssp_remapped_3x/IVTu/IVTu_2091010100-2091123123_remapped_3x.nc /work/aa0238/a271093/data/Jan_runs/ICON_NorESM_ssp/NorESM_ssp_remapped_3x/IVTu/IVTu_2092010100-2092123123_remapped_3x.nc  /work/aa0238/a271093/scratch/mergedIVTu_2091_2092_remapped_3x.nc\n",
      "Mergetime /work/aa0238/a271093/data/Jan_runs/ICON_NorESM_ssp/NorESM_ssp_remapped_3x/IVTv/IVTv_2091010100-2091123123_remapped_3x.nc /work/aa0238/a271093/data/Jan_runs/ICON_NorESM_ssp/NorESM_ssp_remapped_3x/IVTv/IVTv_2092010100-2092123123_remapped_3x.nc  /work/aa0238/a271093/scratch/mergedIVTv_2091_2092_remapped_3x.nc\n",
      " \n",
      "The provided variables allow tracking the following phenomena\n",
      " \n",
      "|  phenomenon  | tracking |\n",
      "---------------------------\n",
      "   Jetstream   |   no\n",
      "   PSL CY/ACY  |   no\n",
      "   Z500 CY/ACY |   no\n",
      "   COLs        |   no\n",
      "   IVT ARs     |   yes\n",
      "   MS ARs      |   no\n",
      "   Fronts      |   no\n",
      "   TCs         |   no\n",
      "   MCSs        |   no\n",
      "   Equ. Waves  |   no\n",
      "---------------------------\n",
      " \n",
      "======> track IVT streams and atmospheric rivers (ARs)\n",
      "        3666 object found\n",
      "        break up long living IVT objects that have many elements\n"
     ]
    },
    {
     "name": "stderr",
     "output_type": "stream",
     "text": [
      "100%|██████████| 602/602 [00:28<00:00, 21.32it/s]\n"
     ]
    },
    {
     "name": "stdout",
     "output_type": "stream",
     "text": [
      "        00:00:34.54\n",
      "9\n",
      "            Loop over 1728 objects\n",
      "        check if MSs quallify as ARs\n"
     ]
    },
    {
     "name": "stderr",
     "output_type": "stream",
     "text": [
      "/work/aa0238/a271093/Scripts/MOAAP/src/Tracking_Functions.py:4588: RuntimeWarning: divide by zero encountered in scalar divide\n",
      "  if DIST.max() / DIST.min() < AR_width_lenght_ratio:\n"
     ]
    },
    {
     "name": "stdout",
     "output_type": "stream",
     "text": [
      "            Loop over 1727 objects\n"
     ]
    },
    {
     "name": "stderr",
     "output_type": "stream",
     "text": [
      "/work/aa0238/a271093/Scripts/MOAAP/src/Tracking_Functions.py:250: RuntimeWarning: All-NaN slice encountered\n",
      "  obj_min = np.nanmin(data_slice, axis=(1, 2))\n",
      "/work/aa0238/a271093/Scripts/MOAAP/src/Tracking_Functions.py:251: RuntimeWarning: All-NaN slice encountered\n",
      "  obj_max = np.nanmax(data_slice, axis=(1, 2))\n",
      "/work/aa0238/a271093/Scripts/MOAAP/src/Tracking_Functions.py:252: RuntimeWarning: Mean of empty slice\n",
      "  obj_mean = np.nanmean(data_slice, axis=(1, 2))\n",
      "/work/aa0238/a271093/Conda/MOAAP_env/lib/python3.12/site-packages/scipy/ndimage/_measurements.py:1541: RuntimeWarning: invalid value encountered in scalar divide\n",
      "  results = [sum(input * grids[dir].astype(float), labels, index) / normalizer\n"
     ]
    },
    {
     "name": "stdout",
     "output_type": "stream",
     "text": [
      "        00:01:26.10\n",
      " \n",
      "Save the object masks into a joint netCDF\n",
      "Saved: /work/aa0238/a271093/results/MOAAP/IVT_Tracking/NorESM_ssp_remapped_3x/ObjectMasks_MOAPP_ICON_100and85NorESMsspperc_remapped_3x_2091_07_01-2092_02_01.nc\n",
      "        00:00:24.85\n",
      "clean up /work/aa0238/a271093/results/MOAAP/IVT_Tracking/NorESM_ssp_remapped_3x/IVT_MOAPP_ICON_100and85NorESMsspperc_remapped_3x_2091_07_01-2092_01_01.pkl\n",
      "clean up finished\n",
      "clean up /work/aa0238/a271093/results/MOAAP/IVT_Tracking/NorESM_ssp_remapped_3x/ARs_MOAPP_ICON_100and85NorESMsspperc_remapped_3x_2091_07_01-2092_01_01.pkl\n",
      "clean up finished\n",
      "correct nc-file with \n",
      " cdo -selmon,6,7,8,9,10,11,12 /work/aa0238/a271093/results/MOAAP/IVT_Tracking/NorESM_ssp_remapped_3x/ObjectMasks_MOAPP_ICON_100and85NorESMsspperc_remapped_3x_2091_07_01-2092_02_01.nc /work/aa0238/a271093/results/MOAAP/IVT_Tracking/NorESM_ssp_remapped_3x/ObjectMasks_MOAPP_ICON_100and85NorESMsspperc_remapped_3x_2091_07_01-2092_01_01_corrected.nc\n",
      "\n",
      " \n",
      " \n",
      " \n",
      "\n",
      "2092-01-01 00:00:00 2092-08-01 00:00:00\n",
      " \n",
      "The provided variables allow tracking the following phenomena\n",
      " \n",
      "|  phenomenon  | tracking |\n",
      "---------------------------\n",
      "   Jetstream   |   no\n",
      "   PSL CY/ACY  |   no\n",
      "   Z500 CY/ACY |   no\n",
      "   COLs        |   no\n",
      "   IVT ARs     |   yes\n",
      "   MS ARs      |   no\n",
      "   Fronts      |   no\n",
      "   TCs         |   no\n",
      "   MCSs        |   no\n",
      "   Equ. Waves  |   no\n",
      "---------------------------\n",
      " \n",
      "======> track IVT streams and atmospheric rivers (ARs)\n",
      "        3643 object found\n",
      "        break up long living IVT objects that have many elements\n"
     ]
    },
    {
     "name": "stderr",
     "output_type": "stream",
     "text": [
      "100%|██████████| 655/655 [00:27<00:00, 23.72it/s]\n"
     ]
    },
    {
     "name": "stdout",
     "output_type": "stream",
     "text": [
      "        00:00:33.65\n",
      "9\n",
      "            Loop over 1806 objects\n"
     ]
    },
    {
     "name": "stderr",
     "output_type": "stream",
     "text": [
      "/work/aa0238/a271093/Scripts/MOAAP/src/Tracking_Functions.py:250: RuntimeWarning: All-NaN slice encountered\n",
      "  obj_min = np.nanmin(data_slice, axis=(1, 2))\n",
      "/work/aa0238/a271093/Scripts/MOAAP/src/Tracking_Functions.py:251: RuntimeWarning: All-NaN slice encountered\n",
      "  obj_max = np.nanmax(data_slice, axis=(1, 2))\n",
      "/work/aa0238/a271093/Scripts/MOAAP/src/Tracking_Functions.py:252: RuntimeWarning: Mean of empty slice\n",
      "  obj_mean = np.nanmean(data_slice, axis=(1, 2))\n",
      "/work/aa0238/a271093/Conda/MOAAP_env/lib/python3.12/site-packages/scipy/ndimage/_measurements.py:1541: RuntimeWarning: invalid value encountered in scalar divide\n",
      "  results = [sum(input * grids[dir].astype(float), labels, index) / normalizer\n"
     ]
    },
    {
     "name": "stdout",
     "output_type": "stream",
     "text": [
      "        check if MSs quallify as ARs\n"
     ]
    },
    {
     "name": "stderr",
     "output_type": "stream",
     "text": [
      "/work/aa0238/a271093/Scripts/MOAAP/src/Tracking_Functions.py:4588: RuntimeWarning: divide by zero encountered in scalar divide\n",
      "  if DIST.max() / DIST.min() < AR_width_lenght_ratio:\n"
     ]
    },
    {
     "name": "stdout",
     "output_type": "stream",
     "text": [
      "            Loop over 1803 objects\n",
      "        00:01:24.38\n",
      " \n",
      "Save the object masks into a joint netCDF\n",
      "Saved: /work/aa0238/a271093/results/MOAAP/IVT_Tracking/NorESM_ssp_remapped_3x/ObjectMasks_MOAPP_ICON_100and85NorESMsspperc_remapped_3x_2092_01_01-2092_08_01.nc\n",
      "        00:00:25.07\n",
      "clean up /work/aa0238/a271093/results/MOAAP/IVT_Tracking/NorESM_ssp_remapped_3x/IVT_MOAPP_ICON_100and85NorESMsspperc_remapped_3x_2092_01_01-2092_07_01.pkl\n",
      "clean up finished\n",
      "clean up /work/aa0238/a271093/results/MOAAP/IVT_Tracking/NorESM_ssp_remapped_3x/ARs_MOAPP_ICON_100and85NorESMsspperc_remapped_3x_2092_01_01-2092_07_01.pkl\n",
      "clean up finished\n",
      "correct nc-file with \n",
      " cdo -selmon,1,2,3,4,5,6 /work/aa0238/a271093/results/MOAAP/IVT_Tracking/NorESM_ssp_remapped_3x/ObjectMasks_MOAPP_ICON_100and85NorESMsspperc_remapped_3x_2092_01_01-2092_08_01.nc /work/aa0238/a271093/results/MOAAP/IVT_Tracking/NorESM_ssp_remapped_3x/ObjectMasks_MOAPP_ICON_100and85NorESMsspperc_remapped_3x_2092_01_01-2092_07_01_corrected.nc\n",
      "\n",
      " \n",
      " \n",
      " \n",
      "\n",
      "2092-07-01 00:00:00 2093-02-01 00:00:00\n",
      "Mergetime /work/aa0238/a271093/data/Jan_runs/ICON_NorESM_ssp/NorESM_ssp_remapped_3x/IVTu/IVTu_2092010100-2092123123_remapped_3x.nc /work/aa0238/a271093/data/Jan_runs/ICON_NorESM_ssp/NorESM_ssp_remapped_3x/IVTu/IVTu_2093010100-2093123123_remapped_3x.nc  /work/aa0238/a271093/scratch/mergedIVTu_2092_2093_remapped_3x.nc\n",
      "Mergetime /work/aa0238/a271093/data/Jan_runs/ICON_NorESM_ssp/NorESM_ssp_remapped_3x/IVTv/IVTv_2092010100-2092123123_remapped_3x.nc /work/aa0238/a271093/data/Jan_runs/ICON_NorESM_ssp/NorESM_ssp_remapped_3x/IVTv/IVTv_2093010100-2093123123_remapped_3x.nc  /work/aa0238/a271093/scratch/mergedIVTv_2092_2093_remapped_3x.nc\n",
      " \n",
      "The provided variables allow tracking the following phenomena\n",
      " \n",
      "|  phenomenon  | tracking |\n",
      "---------------------------\n",
      "   Jetstream   |   no\n",
      "   PSL CY/ACY  |   no\n",
      "   Z500 CY/ACY |   no\n",
      "   COLs        |   no\n",
      "   IVT ARs     |   yes\n",
      "   MS ARs      |   no\n",
      "   Fronts      |   no\n",
      "   TCs         |   no\n",
      "   MCSs        |   no\n",
      "   Equ. Waves  |   no\n",
      "---------------------------\n",
      " \n",
      "======> track IVT streams and atmospheric rivers (ARs)\n",
      "        3644 object found\n",
      "        break up long living IVT objects that have many elements\n"
     ]
    },
    {
     "name": "stderr",
     "output_type": "stream",
     "text": [
      "100%|██████████| 570/570 [00:28<00:00, 20.30it/s] \n"
     ]
    },
    {
     "name": "stdout",
     "output_type": "stream",
     "text": [
      "        00:00:34.43\n",
      "9\n",
      "            Loop over 1722 objects\n",
      "        check if MSs quallify as ARs\n"
     ]
    },
    {
     "name": "stderr",
     "output_type": "stream",
     "text": [
      "/work/aa0238/a271093/Scripts/MOAAP/src/Tracking_Functions.py:4588: RuntimeWarning: divide by zero encountered in scalar divide\n",
      "  if DIST.max() / DIST.min() < AR_width_lenght_ratio:\n"
     ]
    },
    {
     "name": "stdout",
     "output_type": "stream",
     "text": [
      "            Loop over 1722 objects\n"
     ]
    },
    {
     "name": "stderr",
     "output_type": "stream",
     "text": [
      "/work/aa0238/a271093/Scripts/MOAAP/src/Tracking_Functions.py:250: RuntimeWarning: All-NaN slice encountered\n",
      "  obj_min = np.nanmin(data_slice, axis=(1, 2))\n",
      "/work/aa0238/a271093/Scripts/MOAAP/src/Tracking_Functions.py:251: RuntimeWarning: All-NaN slice encountered\n",
      "  obj_max = np.nanmax(data_slice, axis=(1, 2))\n",
      "/work/aa0238/a271093/Scripts/MOAAP/src/Tracking_Functions.py:252: RuntimeWarning: Mean of empty slice\n",
      "  obj_mean = np.nanmean(data_slice, axis=(1, 2))\n",
      "/work/aa0238/a271093/Conda/MOAAP_env/lib/python3.12/site-packages/scipy/ndimage/_measurements.py:1541: RuntimeWarning: invalid value encountered in scalar divide\n",
      "  results = [sum(input * grids[dir].astype(float), labels, index) / normalizer\n"
     ]
    },
    {
     "name": "stdout",
     "output_type": "stream",
     "text": [
      "        00:01:26.66\n",
      " \n",
      "Save the object masks into a joint netCDF\n",
      "Saved: /work/aa0238/a271093/results/MOAAP/IVT_Tracking/NorESM_ssp_remapped_3x/ObjectMasks_MOAPP_ICON_100and85NorESMsspperc_remapped_3x_2092_07_01-2093_02_01.nc\n",
      "        00:00:25.73\n",
      "clean up /work/aa0238/a271093/results/MOAAP/IVT_Tracking/NorESM_ssp_remapped_3x/IVT_MOAPP_ICON_100and85NorESMsspperc_remapped_3x_2092_07_01-2093_01_01.pkl\n",
      "clean up finished\n",
      "clean up /work/aa0238/a271093/results/MOAAP/IVT_Tracking/NorESM_ssp_remapped_3x/ARs_MOAPP_ICON_100and85NorESMsspperc_remapped_3x_2092_07_01-2093_01_01.pkl\n",
      "clean up finished\n",
      "correct nc-file with \n",
      " cdo -selmon,6,7,8,9,10,11,12 /work/aa0238/a271093/results/MOAAP/IVT_Tracking/NorESM_ssp_remapped_3x/ObjectMasks_MOAPP_ICON_100and85NorESMsspperc_remapped_3x_2092_07_01-2093_02_01.nc /work/aa0238/a271093/results/MOAAP/IVT_Tracking/NorESM_ssp_remapped_3x/ObjectMasks_MOAPP_ICON_100and85NorESMsspperc_remapped_3x_2092_07_01-2093_01_01_corrected.nc\n",
      "\n",
      " \n",
      " \n",
      " \n",
      "\n",
      "2093-01-01 00:00:00 2093-08-01 00:00:00\n",
      " \n",
      "The provided variables allow tracking the following phenomena\n",
      " \n",
      "|  phenomenon  | tracking |\n",
      "---------------------------\n",
      "   Jetstream   |   no\n",
      "   PSL CY/ACY  |   no\n",
      "   Z500 CY/ACY |   no\n",
      "   COLs        |   no\n",
      "   IVT ARs     |   yes\n",
      "   MS ARs      |   no\n",
      "   Fronts      |   no\n",
      "   TCs         |   no\n",
      "   MCSs        |   no\n",
      "   Equ. Waves  |   no\n",
      "---------------------------\n",
      " \n",
      "======> track IVT streams and atmospheric rivers (ARs)\n",
      "        3906 object found\n",
      "        break up long living IVT objects that have many elements\n"
     ]
    },
    {
     "name": "stderr",
     "output_type": "stream",
     "text": [
      "100%|██████████| 619/619 [00:28<00:00, 21.82it/s]\n"
     ]
    },
    {
     "name": "stdout",
     "output_type": "stream",
     "text": [
      "        00:00:35.82\n",
      "9\n",
      "            Loop over 2010 objects\n"
     ]
    },
    {
     "name": "stderr",
     "output_type": "stream",
     "text": [
      "/work/aa0238/a271093/Scripts/MOAAP/src/Tracking_Functions.py:250: RuntimeWarning: All-NaN slice encountered\n",
      "  obj_min = np.nanmin(data_slice, axis=(1, 2))\n",
      "/work/aa0238/a271093/Scripts/MOAAP/src/Tracking_Functions.py:251: RuntimeWarning: All-NaN slice encountered\n",
      "  obj_max = np.nanmax(data_slice, axis=(1, 2))\n",
      "/work/aa0238/a271093/Scripts/MOAAP/src/Tracking_Functions.py:252: RuntimeWarning: Mean of empty slice\n",
      "  obj_mean = np.nanmean(data_slice, axis=(1, 2))\n",
      "/work/aa0238/a271093/Conda/MOAAP_env/lib/python3.12/site-packages/scipy/ndimage/_measurements.py:1541: RuntimeWarning: invalid value encountered in scalar divide\n",
      "  results = [sum(input * grids[dir].astype(float), labels, index) / normalizer\n"
     ]
    },
    {
     "name": "stdout",
     "output_type": "stream",
     "text": [
      "        check if MSs quallify as ARs\n"
     ]
    },
    {
     "name": "stderr",
     "output_type": "stream",
     "text": [
      "/work/aa0238/a271093/Scripts/MOAAP/src/Tracking_Functions.py:4588: RuntimeWarning: divide by zero encountered in scalar divide\n",
      "  if DIST.max() / DIST.min() < AR_width_lenght_ratio:\n"
     ]
    },
    {
     "name": "stdout",
     "output_type": "stream",
     "text": [
      "            Loop over 2006 objects\n",
      "        00:02:01.13\n",
      " \n",
      "Save the object masks into a joint netCDF\n",
      "Saved: /work/aa0238/a271093/results/MOAAP/IVT_Tracking/NorESM_ssp_remapped_3x/ObjectMasks_MOAPP_ICON_100and85NorESMsspperc_remapped_3x_2093_01_01-2093_08_01.nc\n",
      "        00:00:24.14\n",
      "clean up /work/aa0238/a271093/results/MOAAP/IVT_Tracking/NorESM_ssp_remapped_3x/IVT_MOAPP_ICON_100and85NorESMsspperc_remapped_3x_2093_01_01-2093_07_01.pkl\n",
      "clean up finished\n",
      "clean up /work/aa0238/a271093/results/MOAAP/IVT_Tracking/NorESM_ssp_remapped_3x/ARs_MOAPP_ICON_100and85NorESMsspperc_remapped_3x_2093_01_01-2093_07_01.pkl\n",
      "clean up finished\n",
      "correct nc-file with \n",
      " cdo -selmon,1,2,3,4,5,6 /work/aa0238/a271093/results/MOAAP/IVT_Tracking/NorESM_ssp_remapped_3x/ObjectMasks_MOAPP_ICON_100and85NorESMsspperc_remapped_3x_2093_01_01-2093_08_01.nc /work/aa0238/a271093/results/MOAAP/IVT_Tracking/NorESM_ssp_remapped_3x/ObjectMasks_MOAPP_ICON_100and85NorESMsspperc_remapped_3x_2093_01_01-2093_07_01_corrected.nc\n",
      "\n",
      " \n",
      " \n",
      " \n",
      "\n",
      "2093-07-01 00:00:00 2094-02-01 00:00:00\n",
      "Mergetime /work/aa0238/a271093/data/Jan_runs/ICON_NorESM_ssp/NorESM_ssp_remapped_3x/IVTu/IVTu_2093010100-2093123123_remapped_3x.nc /work/aa0238/a271093/data/Jan_runs/ICON_NorESM_ssp/NorESM_ssp_remapped_3x/IVTu/IVTu_2094010100-2094123123_remapped_3x.nc  /work/aa0238/a271093/scratch/mergedIVTu_2093_2094_remapped_3x.nc\n",
      "Mergetime /work/aa0238/a271093/data/Jan_runs/ICON_NorESM_ssp/NorESM_ssp_remapped_3x/IVTv/IVTv_2093010100-2093123123_remapped_3x.nc /work/aa0238/a271093/data/Jan_runs/ICON_NorESM_ssp/NorESM_ssp_remapped_3x/IVTv/IVTv_2094010100-2094123123_remapped_3x.nc  /work/aa0238/a271093/scratch/mergedIVTv_2093_2094_remapped_3x.nc\n",
      " \n",
      "The provided variables allow tracking the following phenomena\n",
      " \n",
      "|  phenomenon  | tracking |\n",
      "---------------------------\n",
      "   Jetstream   |   no\n",
      "   PSL CY/ACY  |   no\n",
      "   Z500 CY/ACY |   no\n",
      "   COLs        |   no\n",
      "   IVT ARs     |   yes\n",
      "   MS ARs      |   no\n",
      "   Fronts      |   no\n",
      "   TCs         |   no\n",
      "   MCSs        |   no\n",
      "   Equ. Waves  |   no\n",
      "---------------------------\n",
      " \n",
      "======> track IVT streams and atmospheric rivers (ARs)\n",
      "        3793 object found\n",
      "        break up long living IVT objects that have many elements\n"
     ]
    },
    {
     "name": "stderr",
     "output_type": "stream",
     "text": [
      "100%|██████████| 599/599 [00:29<00:00, 20.02it/s]\n"
     ]
    },
    {
     "name": "stdout",
     "output_type": "stream",
     "text": [
      "        00:00:36.30\n",
      "9\n",
      "            Loop over 1664 objects\n",
      "        check if MSs quallify as ARs\n"
     ]
    },
    {
     "name": "stderr",
     "output_type": "stream",
     "text": [
      "/work/aa0238/a271093/Scripts/MOAAP/src/Tracking_Functions.py:4588: RuntimeWarning: divide by zero encountered in scalar divide\n",
      "  if DIST.max() / DIST.min() < AR_width_lenght_ratio:\n"
     ]
    },
    {
     "name": "stdout",
     "output_type": "stream",
     "text": [
      "            Loop over 1664 objects\n"
     ]
    },
    {
     "name": "stderr",
     "output_type": "stream",
     "text": [
      "/work/aa0238/a271093/Scripts/MOAAP/src/Tracking_Functions.py:250: RuntimeWarning: All-NaN slice encountered\n",
      "  obj_min = np.nanmin(data_slice, axis=(1, 2))\n",
      "/work/aa0238/a271093/Scripts/MOAAP/src/Tracking_Functions.py:251: RuntimeWarning: All-NaN slice encountered\n",
      "  obj_max = np.nanmax(data_slice, axis=(1, 2))\n",
      "/work/aa0238/a271093/Scripts/MOAAP/src/Tracking_Functions.py:252: RuntimeWarning: Mean of empty slice\n",
      "  obj_mean = np.nanmean(data_slice, axis=(1, 2))\n",
      "/work/aa0238/a271093/Conda/MOAAP_env/lib/python3.12/site-packages/scipy/ndimage/_measurements.py:1541: RuntimeWarning: invalid value encountered in scalar divide\n",
      "  results = [sum(input * grids[dir].astype(float), labels, index) / normalizer\n"
     ]
    },
    {
     "name": "stdout",
     "output_type": "stream",
     "text": [
      "        00:01:29.98\n",
      " \n",
      "Save the object masks into a joint netCDF\n",
      "Saved: /work/aa0238/a271093/results/MOAAP/IVT_Tracking/NorESM_ssp_remapped_3x/ObjectMasks_MOAPP_ICON_100and85NorESMsspperc_remapped_3x_2093_07_01-2094_02_01.nc\n",
      "        00:00:24.79\n",
      "clean up /work/aa0238/a271093/results/MOAAP/IVT_Tracking/NorESM_ssp_remapped_3x/IVT_MOAPP_ICON_100and85NorESMsspperc_remapped_3x_2093_07_01-2094_01_01.pkl\n",
      "clean up finished\n",
      "clean up /work/aa0238/a271093/results/MOAAP/IVT_Tracking/NorESM_ssp_remapped_3x/ARs_MOAPP_ICON_100and85NorESMsspperc_remapped_3x_2093_07_01-2094_01_01.pkl\n",
      "clean up finished\n",
      "correct nc-file with \n",
      " cdo -selmon,6,7,8,9,10,11,12 /work/aa0238/a271093/results/MOAAP/IVT_Tracking/NorESM_ssp_remapped_3x/ObjectMasks_MOAPP_ICON_100and85NorESMsspperc_remapped_3x_2093_07_01-2094_02_01.nc /work/aa0238/a271093/results/MOAAP/IVT_Tracking/NorESM_ssp_remapped_3x/ObjectMasks_MOAPP_ICON_100and85NorESMsspperc_remapped_3x_2093_07_01-2094_01_01_corrected.nc\n",
      "\n",
      " \n",
      " \n",
      " \n",
      "\n",
      "2094-01-01 00:00:00 2094-08-01 00:00:00\n",
      " \n",
      "The provided variables allow tracking the following phenomena\n",
      " \n",
      "|  phenomenon  | tracking |\n",
      "---------------------------\n",
      "   Jetstream   |   no\n",
      "   PSL CY/ACY  |   no\n",
      "   Z500 CY/ACY |   no\n",
      "   COLs        |   no\n",
      "   IVT ARs     |   yes\n",
      "   MS ARs      |   no\n",
      "   Fronts      |   no\n",
      "   TCs         |   no\n",
      "   MCSs        |   no\n",
      "   Equ. Waves  |   no\n",
      "---------------------------\n",
      " \n",
      "======> track IVT streams and atmospheric rivers (ARs)\n",
      "        3818 object found\n",
      "        break up long living IVT objects that have many elements\n"
     ]
    },
    {
     "name": "stderr",
     "output_type": "stream",
     "text": [
      "100%|██████████| 617/617 [00:27<00:00, 22.71it/s] \n"
     ]
    },
    {
     "name": "stdout",
     "output_type": "stream",
     "text": [
      "        00:00:33.37\n",
      "9\n",
      "            Loop over 1837 objects\n"
     ]
    },
    {
     "name": "stderr",
     "output_type": "stream",
     "text": [
      "/work/aa0238/a271093/Scripts/MOAAP/src/Tracking_Functions.py:250: RuntimeWarning: All-NaN slice encountered\n",
      "  obj_min = np.nanmin(data_slice, axis=(1, 2))\n",
      "/work/aa0238/a271093/Scripts/MOAAP/src/Tracking_Functions.py:251: RuntimeWarning: All-NaN slice encountered\n",
      "  obj_max = np.nanmax(data_slice, axis=(1, 2))\n",
      "/work/aa0238/a271093/Scripts/MOAAP/src/Tracking_Functions.py:252: RuntimeWarning: Mean of empty slice\n",
      "  obj_mean = np.nanmean(data_slice, axis=(1, 2))\n",
      "/work/aa0238/a271093/Conda/MOAAP_env/lib/python3.12/site-packages/scipy/ndimage/_measurements.py:1541: RuntimeWarning: invalid value encountered in scalar divide\n",
      "  results = [sum(input * grids[dir].astype(float), labels, index) / normalizer\n"
     ]
    },
    {
     "name": "stdout",
     "output_type": "stream",
     "text": [
      "        check if MSs quallify as ARs\n"
     ]
    },
    {
     "name": "stderr",
     "output_type": "stream",
     "text": [
      "/work/aa0238/a271093/Scripts/MOAAP/src/Tracking_Functions.py:4588: RuntimeWarning: divide by zero encountered in scalar divide\n",
      "  if DIST.max() / DIST.min() < AR_width_lenght_ratio:\n"
     ]
    },
    {
     "name": "stdout",
     "output_type": "stream",
     "text": [
      "            Loop over 1837 objects\n",
      "        00:01:29.32\n",
      " \n",
      "Save the object masks into a joint netCDF\n",
      "Saved: /work/aa0238/a271093/results/MOAAP/IVT_Tracking/NorESM_ssp_remapped_3x/ObjectMasks_MOAPP_ICON_100and85NorESMsspperc_remapped_3x_2094_01_01-2094_08_01.nc\n",
      "        00:00:25.01\n",
      "clean up /work/aa0238/a271093/results/MOAAP/IVT_Tracking/NorESM_ssp_remapped_3x/IVT_MOAPP_ICON_100and85NorESMsspperc_remapped_3x_2094_01_01-2094_07_01.pkl\n",
      "clean up finished\n",
      "clean up /work/aa0238/a271093/results/MOAAP/IVT_Tracking/NorESM_ssp_remapped_3x/ARs_MOAPP_ICON_100and85NorESMsspperc_remapped_3x_2094_01_01-2094_07_01.pkl\n",
      "clean up finished\n",
      "correct nc-file with \n",
      " cdo -selmon,1,2,3,4,5,6 /work/aa0238/a271093/results/MOAAP/IVT_Tracking/NorESM_ssp_remapped_3x/ObjectMasks_MOAPP_ICON_100and85NorESMsspperc_remapped_3x_2094_01_01-2094_08_01.nc /work/aa0238/a271093/results/MOAAP/IVT_Tracking/NorESM_ssp_remapped_3x/ObjectMasks_MOAPP_ICON_100and85NorESMsspperc_remapped_3x_2094_01_01-2094_07_01_corrected.nc\n",
      "\n",
      " \n",
      " \n",
      " \n",
      "\n",
      "2094-07-01 00:00:00 2095-02-01 00:00:00\n",
      "Mergetime /work/aa0238/a271093/data/Jan_runs/ICON_NorESM_ssp/NorESM_ssp_remapped_3x/IVTu/IVTu_2094010100-2094123123_remapped_3x.nc /work/aa0238/a271093/data/Jan_runs/ICON_NorESM_ssp/NorESM_ssp_remapped_3x/IVTu/IVTu_2095010100-2095123123_remapped_3x.nc  /work/aa0238/a271093/scratch/mergedIVTu_2094_2095_remapped_3x.nc\n",
      "Mergetime /work/aa0238/a271093/data/Jan_runs/ICON_NorESM_ssp/NorESM_ssp_remapped_3x/IVTv/IVTv_2094010100-2094123123_remapped_3x.nc /work/aa0238/a271093/data/Jan_runs/ICON_NorESM_ssp/NorESM_ssp_remapped_3x/IVTv/IVTv_2095010100-2095123123_remapped_3x.nc  /work/aa0238/a271093/scratch/mergedIVTv_2094_2095_remapped_3x.nc\n",
      " \n",
      "The provided variables allow tracking the following phenomena\n",
      " \n",
      "|  phenomenon  | tracking |\n",
      "---------------------------\n",
      "   Jetstream   |   no\n",
      "   PSL CY/ACY  |   no\n",
      "   Z500 CY/ACY |   no\n",
      "   COLs        |   no\n",
      "   IVT ARs     |   yes\n",
      "   MS ARs      |   no\n",
      "   Fronts      |   no\n",
      "   TCs         |   no\n",
      "   MCSs        |   no\n",
      "   Equ. Waves  |   no\n",
      "---------------------------\n",
      " \n",
      "======> track IVT streams and atmospheric rivers (ARs)\n",
      "        3769 object found\n",
      "        break up long living IVT objects that have many elements\n"
     ]
    },
    {
     "name": "stderr",
     "output_type": "stream",
     "text": [
      "100%|██████████| 688/688 [00:28<00:00, 24.37it/s] \n"
     ]
    },
    {
     "name": "stdout",
     "output_type": "stream",
     "text": [
      "        00:00:35.07\n",
      "9\n",
      "            Loop over 1814 objects\n"
     ]
    },
    {
     "name": "stderr",
     "output_type": "stream",
     "text": [
      "/work/aa0238/a271093/Scripts/MOAAP/src/Tracking_Functions.py:250: RuntimeWarning: All-NaN slice encountered\n",
      "  obj_min = np.nanmin(data_slice, axis=(1, 2))\n",
      "/work/aa0238/a271093/Scripts/MOAAP/src/Tracking_Functions.py:251: RuntimeWarning: All-NaN slice encountered\n",
      "  obj_max = np.nanmax(data_slice, axis=(1, 2))\n",
      "/work/aa0238/a271093/Scripts/MOAAP/src/Tracking_Functions.py:252: RuntimeWarning: Mean of empty slice\n",
      "  obj_mean = np.nanmean(data_slice, axis=(1, 2))\n",
      "/work/aa0238/a271093/Conda/MOAAP_env/lib/python3.12/site-packages/scipy/ndimage/_measurements.py:1541: RuntimeWarning: invalid value encountered in scalar divide\n",
      "  results = [sum(input * grids[dir].astype(float), labels, index) / normalizer\n"
     ]
    },
    {
     "name": "stdout",
     "output_type": "stream",
     "text": [
      "        check if MSs quallify as ARs\n"
     ]
    },
    {
     "name": "stderr",
     "output_type": "stream",
     "text": [
      "/work/aa0238/a271093/Scripts/MOAAP/src/Tracking_Functions.py:4588: RuntimeWarning: divide by zero encountered in scalar divide\n",
      "  if DIST.max() / DIST.min() < AR_width_lenght_ratio:\n"
     ]
    },
    {
     "name": "stdout",
     "output_type": "stream",
     "text": [
      "            Loop over 1813 objects\n",
      "        00:01:28.04\n",
      " \n",
      "Save the object masks into a joint netCDF\n",
      "Saved: /work/aa0238/a271093/results/MOAAP/IVT_Tracking/NorESM_ssp_remapped_3x/ObjectMasks_MOAPP_ICON_100and85NorESMsspperc_remapped_3x_2094_07_01-2095_02_01.nc\n",
      "        00:00:24.79\n",
      "clean up /work/aa0238/a271093/results/MOAAP/IVT_Tracking/NorESM_ssp_remapped_3x/IVT_MOAPP_ICON_100and85NorESMsspperc_remapped_3x_2094_07_01-2095_01_01.pkl\n",
      "clean up finished\n",
      "clean up /work/aa0238/a271093/results/MOAAP/IVT_Tracking/NorESM_ssp_remapped_3x/ARs_MOAPP_ICON_100and85NorESMsspperc_remapped_3x_2094_07_01-2095_01_01.pkl\n",
      "clean up finished\n",
      "correct nc-file with \n",
      " cdo -selmon,6,7,8,9,10,11,12 /work/aa0238/a271093/results/MOAAP/IVT_Tracking/NorESM_ssp_remapped_3x/ObjectMasks_MOAPP_ICON_100and85NorESMsspperc_remapped_3x_2094_07_01-2095_02_01.nc /work/aa0238/a271093/results/MOAAP/IVT_Tracking/NorESM_ssp_remapped_3x/ObjectMasks_MOAPP_ICON_100and85NorESMsspperc_remapped_3x_2094_07_01-2095_01_01_corrected.nc\n",
      "\n",
      " \n",
      " \n",
      " \n",
      "\n",
      "2095-01-01 00:00:00 2095-08-01 00:00:00\n",
      " \n",
      "The provided variables allow tracking the following phenomena\n",
      " \n",
      "|  phenomenon  | tracking |\n",
      "---------------------------\n",
      "   Jetstream   |   no\n",
      "   PSL CY/ACY  |   no\n",
      "   Z500 CY/ACY |   no\n",
      "   COLs        |   no\n",
      "   IVT ARs     |   yes\n",
      "   MS ARs      |   no\n",
      "   Fronts      |   no\n",
      "   TCs         |   no\n",
      "   MCSs        |   no\n",
      "   Equ. Waves  |   no\n",
      "---------------------------\n",
      " \n",
      "======> track IVT streams and atmospheric rivers (ARs)\n",
      "        3672 object found\n",
      "        break up long living IVT objects that have many elements\n"
     ]
    },
    {
     "name": "stderr",
     "output_type": "stream",
     "text": [
      "100%|██████████| 628/628 [00:28<00:00, 22.37it/s]\n"
     ]
    },
    {
     "name": "stdout",
     "output_type": "stream",
     "text": [
      "        00:00:34.01\n",
      "9\n",
      "            Loop over 1839 objects\n"
     ]
    },
    {
     "name": "stderr",
     "output_type": "stream",
     "text": [
      "/work/aa0238/a271093/Scripts/MOAAP/src/Tracking_Functions.py:250: RuntimeWarning: All-NaN slice encountered\n",
      "  obj_min = np.nanmin(data_slice, axis=(1, 2))\n",
      "/work/aa0238/a271093/Scripts/MOAAP/src/Tracking_Functions.py:251: RuntimeWarning: All-NaN slice encountered\n",
      "  obj_max = np.nanmax(data_slice, axis=(1, 2))\n",
      "/work/aa0238/a271093/Scripts/MOAAP/src/Tracking_Functions.py:252: RuntimeWarning: Mean of empty slice\n",
      "  obj_mean = np.nanmean(data_slice, axis=(1, 2))\n",
      "/work/aa0238/a271093/Conda/MOAAP_env/lib/python3.12/site-packages/scipy/ndimage/_measurements.py:1541: RuntimeWarning: invalid value encountered in scalar divide\n",
      "  results = [sum(input * grids[dir].astype(float), labels, index) / normalizer\n"
     ]
    },
    {
     "name": "stdout",
     "output_type": "stream",
     "text": [
      "        check if MSs quallify as ARs\n"
     ]
    },
    {
     "name": "stderr",
     "output_type": "stream",
     "text": [
      "/work/aa0238/a271093/Scripts/MOAAP/src/Tracking_Functions.py:4588: RuntimeWarning: divide by zero encountered in scalar divide\n",
      "  if DIST.max() / DIST.min() < AR_width_lenght_ratio:\n"
     ]
    },
    {
     "name": "stdout",
     "output_type": "stream",
     "text": [
      "            Loop over 1839 objects\n",
      "        00:01:25.08\n",
      " \n",
      "Save the object masks into a joint netCDF\n",
      "Saved: /work/aa0238/a271093/results/MOAAP/IVT_Tracking/NorESM_ssp_remapped_3x/ObjectMasks_MOAPP_ICON_100and85NorESMsspperc_remapped_3x_2095_01_01-2095_08_01.nc\n",
      "        00:00:24.48\n",
      "clean up /work/aa0238/a271093/results/MOAAP/IVT_Tracking/NorESM_ssp_remapped_3x/IVT_MOAPP_ICON_100and85NorESMsspperc_remapped_3x_2095_01_01-2095_07_01.pkl\n",
      "clean up finished\n",
      "clean up /work/aa0238/a271093/results/MOAAP/IVT_Tracking/NorESM_ssp_remapped_3x/ARs_MOAPP_ICON_100and85NorESMsspperc_remapped_3x_2095_01_01-2095_07_01.pkl\n",
      "clean up finished\n",
      "correct nc-file with \n",
      " cdo -selmon,1,2,3,4,5,6 /work/aa0238/a271093/results/MOAAP/IVT_Tracking/NorESM_ssp_remapped_3x/ObjectMasks_MOAPP_ICON_100and85NorESMsspperc_remapped_3x_2095_01_01-2095_08_01.nc /work/aa0238/a271093/results/MOAAP/IVT_Tracking/NorESM_ssp_remapped_3x/ObjectMasks_MOAPP_ICON_100and85NorESMsspperc_remapped_3x_2095_01_01-2095_07_01_corrected.nc\n",
      "\n",
      " \n",
      " \n",
      " \n",
      "\n",
      "2095-07-01 00:00:00 2096-02-01 00:00:00\n",
      "Mergetime /work/aa0238/a271093/data/Jan_runs/ICON_NorESM_ssp/NorESM_ssp_remapped_3x/IVTu/IVTu_2095010100-2095123123_remapped_3x.nc /work/aa0238/a271093/data/Jan_runs/ICON_NorESM_ssp/NorESM_ssp_remapped_3x/IVTu/IVTu_2096010100-2096123123_remapped_3x.nc  /work/aa0238/a271093/scratch/mergedIVTu_2095_2096_remapped_3x.nc\n",
      "Mergetime /work/aa0238/a271093/data/Jan_runs/ICON_NorESM_ssp/NorESM_ssp_remapped_3x/IVTv/IVTv_2095010100-2095123123_remapped_3x.nc /work/aa0238/a271093/data/Jan_runs/ICON_NorESM_ssp/NorESM_ssp_remapped_3x/IVTv/IVTv_2096010100-2096123123_remapped_3x.nc  /work/aa0238/a271093/scratch/mergedIVTv_2095_2096_remapped_3x.nc\n",
      " \n",
      "The provided variables allow tracking the following phenomena\n",
      " \n",
      "|  phenomenon  | tracking |\n",
      "---------------------------\n",
      "   Jetstream   |   no\n",
      "   PSL CY/ACY  |   no\n",
      "   Z500 CY/ACY |   no\n",
      "   COLs        |   no\n",
      "   IVT ARs     |   yes\n",
      "   MS ARs      |   no\n",
      "   Fronts      |   no\n",
      "   TCs         |   no\n",
      "   MCSs        |   no\n",
      "   Equ. Waves  |   no\n",
      "---------------------------\n",
      " \n",
      "======> track IVT streams and atmospheric rivers (ARs)\n",
      "        3494 object found\n",
      "        break up long living IVT objects that have many elements\n"
     ]
    },
    {
     "name": "stderr",
     "output_type": "stream",
     "text": [
      "100%|██████████| 547/547 [00:32<00:00, 16.92it/s] \n"
     ]
    },
    {
     "name": "stdout",
     "output_type": "stream",
     "text": [
      "        00:00:38.67\n",
      "9\n",
      "            Loop over 1717 objects\n"
     ]
    },
    {
     "name": "stderr",
     "output_type": "stream",
     "text": [
      "/work/aa0238/a271093/Scripts/MOAAP/src/Tracking_Functions.py:250: RuntimeWarning: All-NaN slice encountered\n",
      "  obj_min = np.nanmin(data_slice, axis=(1, 2))\n",
      "/work/aa0238/a271093/Scripts/MOAAP/src/Tracking_Functions.py:251: RuntimeWarning: All-NaN slice encountered\n",
      "  obj_max = np.nanmax(data_slice, axis=(1, 2))\n",
      "/work/aa0238/a271093/Scripts/MOAAP/src/Tracking_Functions.py:252: RuntimeWarning: Mean of empty slice\n",
      "  obj_mean = np.nanmean(data_slice, axis=(1, 2))\n",
      "/work/aa0238/a271093/Conda/MOAAP_env/lib/python3.12/site-packages/scipy/ndimage/_measurements.py:1541: RuntimeWarning: invalid value encountered in scalar divide\n",
      "  results = [sum(input * grids[dir].astype(float), labels, index) / normalizer\n"
     ]
    },
    {
     "name": "stdout",
     "output_type": "stream",
     "text": [
      "        check if MSs quallify as ARs\n"
     ]
    },
    {
     "name": "stderr",
     "output_type": "stream",
     "text": [
      "/work/aa0238/a271093/Scripts/MOAAP/src/Tracking_Functions.py:4588: RuntimeWarning: divide by zero encountered in scalar divide\n",
      "  if DIST.max() / DIST.min() < AR_width_lenght_ratio:\n"
     ]
    },
    {
     "name": "stdout",
     "output_type": "stream",
     "text": [
      "            Loop over 1712 objects\n",
      "        00:01:29.83\n",
      " \n",
      "Save the object masks into a joint netCDF\n",
      "Saved: /work/aa0238/a271093/results/MOAAP/IVT_Tracking/NorESM_ssp_remapped_3x/ObjectMasks_MOAPP_ICON_100and85NorESMsspperc_remapped_3x_2095_07_01-2096_02_01.nc\n",
      "        00:00:24.75\n",
      "clean up /work/aa0238/a271093/results/MOAAP/IVT_Tracking/NorESM_ssp_remapped_3x/IVT_MOAPP_ICON_100and85NorESMsspperc_remapped_3x_2095_07_01-2096_01_01.pkl\n",
      "clean up finished\n",
      "clean up /work/aa0238/a271093/results/MOAAP/IVT_Tracking/NorESM_ssp_remapped_3x/ARs_MOAPP_ICON_100and85NorESMsspperc_remapped_3x_2095_07_01-2096_01_01.pkl\n",
      "clean up finished\n",
      "correct nc-file with \n",
      " cdo -selmon,6,7,8,9,10,11,12 /work/aa0238/a271093/results/MOAAP/IVT_Tracking/NorESM_ssp_remapped_3x/ObjectMasks_MOAPP_ICON_100and85NorESMsspperc_remapped_3x_2095_07_01-2096_02_01.nc /work/aa0238/a271093/results/MOAAP/IVT_Tracking/NorESM_ssp_remapped_3x/ObjectMasks_MOAPP_ICON_100and85NorESMsspperc_remapped_3x_2095_07_01-2096_01_01_corrected.nc\n",
      "\n",
      " \n",
      " \n",
      " \n",
      "\n",
      "2096-01-01 00:00:00 2096-08-01 00:00:00\n",
      " \n",
      "The provided variables allow tracking the following phenomena\n",
      " \n",
      "|  phenomenon  | tracking |\n",
      "---------------------------\n",
      "   Jetstream   |   no\n",
      "   PSL CY/ACY  |   no\n",
      "   Z500 CY/ACY |   no\n",
      "   COLs        |   no\n",
      "   IVT ARs     |   yes\n",
      "   MS ARs      |   no\n",
      "   Fronts      |   no\n",
      "   TCs         |   no\n",
      "   MCSs        |   no\n",
      "   Equ. Waves  |   no\n",
      "---------------------------\n",
      " \n",
      "======> track IVT streams and atmospheric rivers (ARs)\n",
      "        3903 object found\n",
      "        break up long living IVT objects that have many elements\n"
     ]
    },
    {
     "name": "stderr",
     "output_type": "stream",
     "text": [
      "100%|██████████| 655/655 [00:28<00:00, 23.28it/s] \n"
     ]
    },
    {
     "name": "stdout",
     "output_type": "stream",
     "text": [
      "        00:00:34.34\n",
      "9\n",
      "            Loop over 1941 objects\n"
     ]
    },
    {
     "name": "stderr",
     "output_type": "stream",
     "text": [
      "/work/aa0238/a271093/Scripts/MOAAP/src/Tracking_Functions.py:250: RuntimeWarning: All-NaN slice encountered\n",
      "  obj_min = np.nanmin(data_slice, axis=(1, 2))\n",
      "/work/aa0238/a271093/Scripts/MOAAP/src/Tracking_Functions.py:251: RuntimeWarning: All-NaN slice encountered\n",
      "  obj_max = np.nanmax(data_slice, axis=(1, 2))\n",
      "/work/aa0238/a271093/Scripts/MOAAP/src/Tracking_Functions.py:252: RuntimeWarning: Mean of empty slice\n",
      "  obj_mean = np.nanmean(data_slice, axis=(1, 2))\n",
      "/work/aa0238/a271093/Conda/MOAAP_env/lib/python3.12/site-packages/scipy/ndimage/_measurements.py:1541: RuntimeWarning: invalid value encountered in scalar divide\n",
      "  results = [sum(input * grids[dir].astype(float), labels, index) / normalizer\n"
     ]
    },
    {
     "name": "stdout",
     "output_type": "stream",
     "text": [
      "        check if MSs quallify as ARs\n"
     ]
    },
    {
     "name": "stderr",
     "output_type": "stream",
     "text": [
      "/work/aa0238/a271093/Scripts/MOAAP/src/Tracking_Functions.py:4588: RuntimeWarning: divide by zero encountered in scalar divide\n",
      "  if DIST.max() / DIST.min() < AR_width_lenght_ratio:\n"
     ]
    },
    {
     "name": "stdout",
     "output_type": "stream",
     "text": [
      "            Loop over 1940 objects\n",
      "        00:01:31.50\n",
      " \n",
      "Save the object masks into a joint netCDF\n",
      "Saved: /work/aa0238/a271093/results/MOAAP/IVT_Tracking/NorESM_ssp_remapped_3x/ObjectMasks_MOAPP_ICON_100and85NorESMsspperc_remapped_3x_2096_01_01-2096_08_01.nc\n",
      "        00:00:24.51\n",
      "clean up /work/aa0238/a271093/results/MOAAP/IVT_Tracking/NorESM_ssp_remapped_3x/IVT_MOAPP_ICON_100and85NorESMsspperc_remapped_3x_2096_01_01-2096_07_01.pkl\n",
      "clean up finished\n",
      "clean up /work/aa0238/a271093/results/MOAAP/IVT_Tracking/NorESM_ssp_remapped_3x/ARs_MOAPP_ICON_100and85NorESMsspperc_remapped_3x_2096_01_01-2096_07_01.pkl\n",
      "clean up finished\n",
      "correct nc-file with \n",
      " cdo -selmon,1,2,3,4,5,6 /work/aa0238/a271093/results/MOAAP/IVT_Tracking/NorESM_ssp_remapped_3x/ObjectMasks_MOAPP_ICON_100and85NorESMsspperc_remapped_3x_2096_01_01-2096_08_01.nc /work/aa0238/a271093/results/MOAAP/IVT_Tracking/NorESM_ssp_remapped_3x/ObjectMasks_MOAPP_ICON_100and85NorESMsspperc_remapped_3x_2096_01_01-2096_07_01_corrected.nc\n",
      "\n",
      " \n",
      " \n",
      " \n",
      "\n",
      "2096-07-01 00:00:00 2097-02-01 00:00:00\n",
      "Mergetime /work/aa0238/a271093/data/Jan_runs/ICON_NorESM_ssp/NorESM_ssp_remapped_3x/IVTu/IVTu_2096010100-2096123123_remapped_3x.nc /work/aa0238/a271093/data/Jan_runs/ICON_NorESM_ssp/NorESM_ssp_remapped_3x/IVTu/IVTu_2097010100-2097123123_remapped_3x.nc  /work/aa0238/a271093/scratch/mergedIVTu_2096_2097_remapped_3x.nc\n",
      "Mergetime /work/aa0238/a271093/data/Jan_runs/ICON_NorESM_ssp/NorESM_ssp_remapped_3x/IVTv/IVTv_2096010100-2096123123_remapped_3x.nc /work/aa0238/a271093/data/Jan_runs/ICON_NorESM_ssp/NorESM_ssp_remapped_3x/IVTv/IVTv_2097010100-2097123123_remapped_3x.nc  /work/aa0238/a271093/scratch/mergedIVTv_2096_2097_remapped_3x.nc\n",
      " \n",
      "The provided variables allow tracking the following phenomena\n",
      " \n",
      "|  phenomenon  | tracking |\n",
      "---------------------------\n",
      "   Jetstream   |   no\n",
      "   PSL CY/ACY  |   no\n",
      "   Z500 CY/ACY |   no\n",
      "   COLs        |   no\n",
      "   IVT ARs     |   yes\n",
      "   MS ARs      |   no\n",
      "   Fronts      |   no\n",
      "   TCs         |   no\n",
      "   MCSs        |   no\n",
      "   Equ. Waves  |   no\n",
      "---------------------------\n",
      " \n",
      "======> track IVT streams and atmospheric rivers (ARs)\n",
      "        3561 object found\n",
      "        break up long living IVT objects that have many elements\n"
     ]
    },
    {
     "name": "stderr",
     "output_type": "stream",
     "text": [
      "100%|██████████| 626/626 [00:28<00:00, 22.09it/s]\n"
     ]
    },
    {
     "name": "stdout",
     "output_type": "stream",
     "text": [
      "        00:00:34.75\n",
      "9\n",
      "            Loop over 1728 objects\n",
      "        check if MSs quallify as ARs\n"
     ]
    },
    {
     "name": "stderr",
     "output_type": "stream",
     "text": [
      "/work/aa0238/a271093/Scripts/MOAAP/src/Tracking_Functions.py:4588: RuntimeWarning: divide by zero encountered in scalar divide\n",
      "  if DIST.max() / DIST.min() < AR_width_lenght_ratio:\n"
     ]
    },
    {
     "name": "stdout",
     "output_type": "stream",
     "text": [
      "            Loop over 1727 objects\n"
     ]
    },
    {
     "name": "stderr",
     "output_type": "stream",
     "text": [
      "/work/aa0238/a271093/Scripts/MOAAP/src/Tracking_Functions.py:250: RuntimeWarning: All-NaN slice encountered\n",
      "  obj_min = np.nanmin(data_slice, axis=(1, 2))\n",
      "/work/aa0238/a271093/Scripts/MOAAP/src/Tracking_Functions.py:251: RuntimeWarning: All-NaN slice encountered\n",
      "  obj_max = np.nanmax(data_slice, axis=(1, 2))\n",
      "/work/aa0238/a271093/Scripts/MOAAP/src/Tracking_Functions.py:252: RuntimeWarning: Mean of empty slice\n",
      "  obj_mean = np.nanmean(data_slice, axis=(1, 2))\n",
      "/work/aa0238/a271093/Conda/MOAAP_env/lib/python3.12/site-packages/scipy/ndimage/_measurements.py:1541: RuntimeWarning: invalid value encountered in scalar divide\n",
      "  results = [sum(input * grids[dir].astype(float), labels, index) / normalizer\n"
     ]
    },
    {
     "name": "stdout",
     "output_type": "stream",
     "text": [
      "        00:01:27.22\n",
      " \n",
      "Save the object masks into a joint netCDF\n",
      "Saved: /work/aa0238/a271093/results/MOAAP/IVT_Tracking/NorESM_ssp_remapped_3x/ObjectMasks_MOAPP_ICON_100and85NorESMsspperc_remapped_3x_2096_07_01-2097_02_01.nc\n",
      "        00:00:24.51\n",
      "clean up /work/aa0238/a271093/results/MOAAP/IVT_Tracking/NorESM_ssp_remapped_3x/IVT_MOAPP_ICON_100and85NorESMsspperc_remapped_3x_2096_07_01-2097_01_01.pkl\n",
      "clean up finished\n",
      "clean up /work/aa0238/a271093/results/MOAAP/IVT_Tracking/NorESM_ssp_remapped_3x/ARs_MOAPP_ICON_100and85NorESMsspperc_remapped_3x_2096_07_01-2097_01_01.pkl\n",
      "clean up finished\n",
      "correct nc-file with \n",
      " cdo -selmon,6,7,8,9,10,11,12 /work/aa0238/a271093/results/MOAAP/IVT_Tracking/NorESM_ssp_remapped_3x/ObjectMasks_MOAPP_ICON_100and85NorESMsspperc_remapped_3x_2096_07_01-2097_02_01.nc /work/aa0238/a271093/results/MOAAP/IVT_Tracking/NorESM_ssp_remapped_3x/ObjectMasks_MOAPP_ICON_100and85NorESMsspperc_remapped_3x_2096_07_01-2097_01_01_corrected.nc\n",
      "\n",
      " \n",
      " \n",
      " \n",
      "\n",
      "2097-01-01 00:00:00 2097-08-01 00:00:00\n",
      " \n",
      "The provided variables allow tracking the following phenomena\n",
      " \n",
      "|  phenomenon  | tracking |\n",
      "---------------------------\n",
      "   Jetstream   |   no\n",
      "   PSL CY/ACY  |   no\n",
      "   Z500 CY/ACY |   no\n",
      "   COLs        |   no\n",
      "   IVT ARs     |   yes\n",
      "   MS ARs      |   no\n",
      "   Fronts      |   no\n",
      "   TCs         |   no\n",
      "   MCSs        |   no\n",
      "   Equ. Waves  |   no\n",
      "---------------------------\n",
      " \n",
      "======> track IVT streams and atmospheric rivers (ARs)\n",
      "        3606 object found\n",
      "        break up long living IVT objects that have many elements\n"
     ]
    },
    {
     "name": "stderr",
     "output_type": "stream",
     "text": [
      "100%|██████████| 569/569 [00:27<00:00, 20.52it/s]\n"
     ]
    },
    {
     "name": "stdout",
     "output_type": "stream",
     "text": [
      "        00:00:33.83\n",
      "9\n",
      "            Loop over 1829 objects\n"
     ]
    },
    {
     "name": "stderr",
     "output_type": "stream",
     "text": [
      "/work/aa0238/a271093/Scripts/MOAAP/src/Tracking_Functions.py:250: RuntimeWarning: All-NaN slice encountered\n",
      "  obj_min = np.nanmin(data_slice, axis=(1, 2))\n",
      "/work/aa0238/a271093/Scripts/MOAAP/src/Tracking_Functions.py:251: RuntimeWarning: All-NaN slice encountered\n",
      "  obj_max = np.nanmax(data_slice, axis=(1, 2))\n",
      "/work/aa0238/a271093/Scripts/MOAAP/src/Tracking_Functions.py:252: RuntimeWarning: Mean of empty slice\n",
      "  obj_mean = np.nanmean(data_slice, axis=(1, 2))\n",
      "/work/aa0238/a271093/Conda/MOAAP_env/lib/python3.12/site-packages/scipy/ndimage/_measurements.py:1541: RuntimeWarning: invalid value encountered in scalar divide\n",
      "  results = [sum(input * grids[dir].astype(float), labels, index) / normalizer\n"
     ]
    },
    {
     "name": "stdout",
     "output_type": "stream",
     "text": [
      "        check if MSs quallify as ARs\n"
     ]
    },
    {
     "name": "stderr",
     "output_type": "stream",
     "text": [
      "/work/aa0238/a271093/Scripts/MOAAP/src/Tracking_Functions.py:4588: RuntimeWarning: divide by zero encountered in scalar divide\n",
      "  if DIST.max() / DIST.min() < AR_width_lenght_ratio:\n"
     ]
    },
    {
     "name": "stdout",
     "output_type": "stream",
     "text": [
      "            Loop over 1828 objects\n",
      "        00:01:28.71\n",
      " \n",
      "Save the object masks into a joint netCDF\n",
      "Saved: /work/aa0238/a271093/results/MOAAP/IVT_Tracking/NorESM_ssp_remapped_3x/ObjectMasks_MOAPP_ICON_100and85NorESMsspperc_remapped_3x_2097_01_01-2097_08_01.nc\n",
      "        00:00:24.32\n",
      "clean up /work/aa0238/a271093/results/MOAAP/IVT_Tracking/NorESM_ssp_remapped_3x/IVT_MOAPP_ICON_100and85NorESMsspperc_remapped_3x_2097_01_01-2097_07_01.pkl\n",
      "clean up finished\n",
      "clean up /work/aa0238/a271093/results/MOAAP/IVT_Tracking/NorESM_ssp_remapped_3x/ARs_MOAPP_ICON_100and85NorESMsspperc_remapped_3x_2097_01_01-2097_07_01.pkl\n",
      "clean up finished\n",
      "correct nc-file with \n",
      " cdo -selmon,1,2,3,4,5,6 /work/aa0238/a271093/results/MOAAP/IVT_Tracking/NorESM_ssp_remapped_3x/ObjectMasks_MOAPP_ICON_100and85NorESMsspperc_remapped_3x_2097_01_01-2097_08_01.nc /work/aa0238/a271093/results/MOAAP/IVT_Tracking/NorESM_ssp_remapped_3x/ObjectMasks_MOAPP_ICON_100and85NorESMsspperc_remapped_3x_2097_01_01-2097_07_01_corrected.nc\n",
      "\n",
      " \n",
      " \n",
      " \n",
      "\n",
      "2097-07-01 00:00:00 2098-02-01 00:00:00\n",
      "Mergetime /work/aa0238/a271093/data/Jan_runs/ICON_NorESM_ssp/NorESM_ssp_remapped_3x/IVTu/IVTu_2097010100-2097123123_remapped_3x.nc /work/aa0238/a271093/data/Jan_runs/ICON_NorESM_ssp/NorESM_ssp_remapped_3x/IVTu/IVTu_2098010100-2098123123_remapped_3x.nc  /work/aa0238/a271093/scratch/mergedIVTu_2097_2098_remapped_3x.nc\n",
      "Mergetime /work/aa0238/a271093/data/Jan_runs/ICON_NorESM_ssp/NorESM_ssp_remapped_3x/IVTv/IVTv_2097010100-2097123123_remapped_3x.nc /work/aa0238/a271093/data/Jan_runs/ICON_NorESM_ssp/NorESM_ssp_remapped_3x/IVTv/IVTv_2098010100-2098123123_remapped_3x.nc  /work/aa0238/a271093/scratch/mergedIVTv_2097_2098_remapped_3x.nc\n",
      " \n",
      "The provided variables allow tracking the following phenomena\n",
      " \n",
      "|  phenomenon  | tracking |\n",
      "---------------------------\n",
      "   Jetstream   |   no\n",
      "   PSL CY/ACY  |   no\n",
      "   Z500 CY/ACY |   no\n",
      "   COLs        |   no\n",
      "   IVT ARs     |   yes\n",
      "   MS ARs      |   no\n",
      "   Fronts      |   no\n",
      "   TCs         |   no\n",
      "   MCSs        |   no\n",
      "   Equ. Waves  |   no\n",
      "---------------------------\n",
      " \n",
      "======> track IVT streams and atmospheric rivers (ARs)\n",
      "        3533 object found\n",
      "        break up long living IVT objects that have many elements\n"
     ]
    },
    {
     "name": "stderr",
     "output_type": "stream",
     "text": [
      "100%|██████████| 569/569 [00:26<00:00, 21.37it/s] \n"
     ]
    },
    {
     "name": "stdout",
     "output_type": "stream",
     "text": [
      "        00:00:33.01\n",
      "9\n",
      "            Loop over 1703 objects\n",
      "        check if MSs quallify as ARs\n"
     ]
    },
    {
     "name": "stderr",
     "output_type": "stream",
     "text": [
      "/work/aa0238/a271093/Scripts/MOAAP/src/Tracking_Functions.py:4588: RuntimeWarning: divide by zero encountered in scalar divide\n",
      "  if DIST.max() / DIST.min() < AR_width_lenght_ratio:\n"
     ]
    },
    {
     "name": "stdout",
     "output_type": "stream",
     "text": [
      "            Loop over 1701 objects\n"
     ]
    },
    {
     "name": "stderr",
     "output_type": "stream",
     "text": [
      "/work/aa0238/a271093/Scripts/MOAAP/src/Tracking_Functions.py:250: RuntimeWarning: All-NaN slice encountered\n",
      "  obj_min = np.nanmin(data_slice, axis=(1, 2))\n",
      "/work/aa0238/a271093/Scripts/MOAAP/src/Tracking_Functions.py:251: RuntimeWarning: All-NaN slice encountered\n",
      "  obj_max = np.nanmax(data_slice, axis=(1, 2))\n",
      "/work/aa0238/a271093/Scripts/MOAAP/src/Tracking_Functions.py:252: RuntimeWarning: Mean of empty slice\n",
      "  obj_mean = np.nanmean(data_slice, axis=(1, 2))\n",
      "/work/aa0238/a271093/Conda/MOAAP_env/lib/python3.12/site-packages/scipy/ndimage/_measurements.py:1541: RuntimeWarning: invalid value encountered in scalar divide\n",
      "  results = [sum(input * grids[dir].astype(float), labels, index) / normalizer\n"
     ]
    },
    {
     "name": "stdout",
     "output_type": "stream",
     "text": [
      "        00:01:24.39\n",
      " \n",
      "Save the object masks into a joint netCDF\n",
      "Saved: /work/aa0238/a271093/results/MOAAP/IVT_Tracking/NorESM_ssp_remapped_3x/ObjectMasks_MOAPP_ICON_100and85NorESMsspperc_remapped_3x_2097_07_01-2098_02_01.nc\n",
      "        00:00:26.30\n",
      "clean up /work/aa0238/a271093/results/MOAAP/IVT_Tracking/NorESM_ssp_remapped_3x/IVT_MOAPP_ICON_100and85NorESMsspperc_remapped_3x_2097_07_01-2098_01_01.pkl\n",
      "clean up finished\n",
      "clean up /work/aa0238/a271093/results/MOAAP/IVT_Tracking/NorESM_ssp_remapped_3x/ARs_MOAPP_ICON_100and85NorESMsspperc_remapped_3x_2097_07_01-2098_01_01.pkl\n",
      "clean up finished\n",
      "correct nc-file with \n",
      " cdo -selmon,6,7,8,9,10,11,12 /work/aa0238/a271093/results/MOAAP/IVT_Tracking/NorESM_ssp_remapped_3x/ObjectMasks_MOAPP_ICON_100and85NorESMsspperc_remapped_3x_2097_07_01-2098_02_01.nc /work/aa0238/a271093/results/MOAAP/IVT_Tracking/NorESM_ssp_remapped_3x/ObjectMasks_MOAPP_ICON_100and85NorESMsspperc_remapped_3x_2097_07_01-2098_01_01_corrected.nc\n",
      "\n",
      " \n",
      " \n",
      " \n",
      "\n",
      "2098-01-01 00:00:00 2098-08-01 00:00:00\n",
      " \n",
      "The provided variables allow tracking the following phenomena\n",
      " \n",
      "|  phenomenon  | tracking |\n",
      "---------------------------\n",
      "   Jetstream   |   no\n",
      "   PSL CY/ACY  |   no\n",
      "   Z500 CY/ACY |   no\n",
      "   COLs        |   no\n",
      "   IVT ARs     |   yes\n",
      "   MS ARs      |   no\n",
      "   Fronts      |   no\n",
      "   TCs         |   no\n",
      "   MCSs        |   no\n",
      "   Equ. Waves  |   no\n",
      "---------------------------\n",
      " \n",
      "======> track IVT streams and atmospheric rivers (ARs)\n",
      "        3677 object found\n",
      "        break up long living IVT objects that have many elements\n"
     ]
    },
    {
     "name": "stderr",
     "output_type": "stream",
     "text": [
      "100%|██████████| 662/662 [00:27<00:00, 23.99it/s]\n"
     ]
    },
    {
     "name": "stdout",
     "output_type": "stream",
     "text": [
      "        00:00:33.72\n",
      "9\n",
      "            Loop over 1846 objects\n"
     ]
    },
    {
     "name": "stderr",
     "output_type": "stream",
     "text": [
      "/work/aa0238/a271093/Scripts/MOAAP/src/Tracking_Functions.py:250: RuntimeWarning: All-NaN slice encountered\n",
      "  obj_min = np.nanmin(data_slice, axis=(1, 2))\n",
      "/work/aa0238/a271093/Scripts/MOAAP/src/Tracking_Functions.py:251: RuntimeWarning: All-NaN slice encountered\n",
      "  obj_max = np.nanmax(data_slice, axis=(1, 2))\n",
      "/work/aa0238/a271093/Scripts/MOAAP/src/Tracking_Functions.py:252: RuntimeWarning: Mean of empty slice\n",
      "  obj_mean = np.nanmean(data_slice, axis=(1, 2))\n",
      "/work/aa0238/a271093/Conda/MOAAP_env/lib/python3.12/site-packages/scipy/ndimage/_measurements.py:1541: RuntimeWarning: invalid value encountered in scalar divide\n",
      "  results = [sum(input * grids[dir].astype(float), labels, index) / normalizer\n"
     ]
    },
    {
     "name": "stdout",
     "output_type": "stream",
     "text": [
      "        check if MSs quallify as ARs\n"
     ]
    },
    {
     "name": "stderr",
     "output_type": "stream",
     "text": [
      "/work/aa0238/a271093/Scripts/MOAAP/src/Tracking_Functions.py:4588: RuntimeWarning: divide by zero encountered in scalar divide\n",
      "  if DIST.max() / DIST.min() < AR_width_lenght_ratio:\n"
     ]
    },
    {
     "name": "stdout",
     "output_type": "stream",
     "text": [
      "            Loop over 1846 objects\n",
      "        00:01:25.00\n",
      " \n",
      "Save the object masks into a joint netCDF\n",
      "Saved: /work/aa0238/a271093/results/MOAAP/IVT_Tracking/NorESM_ssp_remapped_3x/ObjectMasks_MOAPP_ICON_100and85NorESMsspperc_remapped_3x_2098_01_01-2098_08_01.nc\n",
      "        00:00:24.35\n",
      "clean up /work/aa0238/a271093/results/MOAAP/IVT_Tracking/NorESM_ssp_remapped_3x/IVT_MOAPP_ICON_100and85NorESMsspperc_remapped_3x_2098_01_01-2098_07_01.pkl\n",
      "clean up finished\n",
      "clean up /work/aa0238/a271093/results/MOAAP/IVT_Tracking/NorESM_ssp_remapped_3x/ARs_MOAPP_ICON_100and85NorESMsspperc_remapped_3x_2098_01_01-2098_07_01.pkl\n",
      "clean up finished\n",
      "correct nc-file with \n",
      " cdo -selmon,1,2,3,4,5,6 /work/aa0238/a271093/results/MOAAP/IVT_Tracking/NorESM_ssp_remapped_3x/ObjectMasks_MOAPP_ICON_100and85NorESMsspperc_remapped_3x_2098_01_01-2098_08_01.nc /work/aa0238/a271093/results/MOAAP/IVT_Tracking/NorESM_ssp_remapped_3x/ObjectMasks_MOAPP_ICON_100and85NorESMsspperc_remapped_3x_2098_01_01-2098_07_01_corrected.nc\n",
      "\n",
      " \n",
      " \n",
      " \n",
      "\n",
      "2098-07-01 00:00:00 2099-02-01 00:00:00\n",
      "Mergetime /work/aa0238/a271093/data/Jan_runs/ICON_NorESM_ssp/NorESM_ssp_remapped_3x/IVTu/IVTu_2098010100-2098123123_remapped_3x.nc /work/aa0238/a271093/data/Jan_runs/ICON_NorESM_ssp/NorESM_ssp_remapped_3x/IVTu/IVTu_2099010100-2099123123_remapped_3x.nc  /work/aa0238/a271093/scratch/mergedIVTu_2098_2099_remapped_3x.nc\n",
      "Mergetime /work/aa0238/a271093/data/Jan_runs/ICON_NorESM_ssp/NorESM_ssp_remapped_3x/IVTv/IVTv_2098010100-2098123123_remapped_3x.nc /work/aa0238/a271093/data/Jan_runs/ICON_NorESM_ssp/NorESM_ssp_remapped_3x/IVTv/IVTv_2099010100-2099123123_remapped_3x.nc  /work/aa0238/a271093/scratch/mergedIVTv_2098_2099_remapped_3x.nc\n",
      " \n",
      "The provided variables allow tracking the following phenomena\n",
      " \n",
      "|  phenomenon  | tracking |\n",
      "---------------------------\n",
      "   Jetstream   |   no\n",
      "   PSL CY/ACY  |   no\n",
      "   Z500 CY/ACY |   no\n",
      "   COLs        |   no\n",
      "   IVT ARs     |   yes\n",
      "   MS ARs      |   no\n",
      "   Fronts      |   no\n",
      "   TCs         |   no\n",
      "   MCSs        |   no\n",
      "   Equ. Waves  |   no\n",
      "---------------------------\n",
      " \n",
      "======> track IVT streams and atmospheric rivers (ARs)\n",
      "        3596 object found\n",
      "        break up long living IVT objects that have many elements\n"
     ]
    },
    {
     "name": "stderr",
     "output_type": "stream",
     "text": [
      "100%|██████████| 603/603 [00:28<00:00, 21.42it/s]\n"
     ]
    },
    {
     "name": "stdout",
     "output_type": "stream",
     "text": [
      "        00:00:34.63\n",
      "9\n",
      "            Loop over 1709 objects\n",
      "        check if MSs quallify as ARs\n"
     ]
    },
    {
     "name": "stderr",
     "output_type": "stream",
     "text": [
      "/work/aa0238/a271093/Scripts/MOAAP/src/Tracking_Functions.py:4588: RuntimeWarning: divide by zero encountered in scalar divide\n",
      "  if DIST.max() / DIST.min() < AR_width_lenght_ratio:\n"
     ]
    },
    {
     "name": "stdout",
     "output_type": "stream",
     "text": [
      "            Loop over 1708 objects\n"
     ]
    },
    {
     "name": "stderr",
     "output_type": "stream",
     "text": [
      "/work/aa0238/a271093/Scripts/MOAAP/src/Tracking_Functions.py:250: RuntimeWarning: All-NaN slice encountered\n",
      "  obj_min = np.nanmin(data_slice, axis=(1, 2))\n",
      "/work/aa0238/a271093/Scripts/MOAAP/src/Tracking_Functions.py:251: RuntimeWarning: All-NaN slice encountered\n",
      "  obj_max = np.nanmax(data_slice, axis=(1, 2))\n",
      "/work/aa0238/a271093/Scripts/MOAAP/src/Tracking_Functions.py:252: RuntimeWarning: Mean of empty slice\n",
      "  obj_mean = np.nanmean(data_slice, axis=(1, 2))\n",
      "/work/aa0238/a271093/Conda/MOAAP_env/lib/python3.12/site-packages/scipy/ndimage/_measurements.py:1541: RuntimeWarning: invalid value encountered in scalar divide\n",
      "  results = [sum(input * grids[dir].astype(float), labels, index) / normalizer\n"
     ]
    },
    {
     "name": "stdout",
     "output_type": "stream",
     "text": [
      "        00:01:27.32\n",
      " \n",
      "Save the object masks into a joint netCDF\n",
      "Saved: /work/aa0238/a271093/results/MOAAP/IVT_Tracking/NorESM_ssp_remapped_3x/ObjectMasks_MOAPP_ICON_100and85NorESMsspperc_remapped_3x_2098_07_01-2099_02_01.nc\n",
      "        00:00:24.90\n",
      "clean up /work/aa0238/a271093/results/MOAAP/IVT_Tracking/NorESM_ssp_remapped_3x/IVT_MOAPP_ICON_100and85NorESMsspperc_remapped_3x_2098_07_01-2099_01_01.pkl\n",
      "clean up finished\n",
      "clean up /work/aa0238/a271093/results/MOAAP/IVT_Tracking/NorESM_ssp_remapped_3x/ARs_MOAPP_ICON_100and85NorESMsspperc_remapped_3x_2098_07_01-2099_01_01.pkl\n",
      "clean up finished\n",
      "correct nc-file with \n",
      " cdo -selmon,6,7,8,9,10,11,12 /work/aa0238/a271093/results/MOAAP/IVT_Tracking/NorESM_ssp_remapped_3x/ObjectMasks_MOAPP_ICON_100and85NorESMsspperc_remapped_3x_2098_07_01-2099_02_01.nc /work/aa0238/a271093/results/MOAAP/IVT_Tracking/NorESM_ssp_remapped_3x/ObjectMasks_MOAPP_ICON_100and85NorESMsspperc_remapped_3x_2098_07_01-2099_01_01_corrected.nc\n",
      "\n",
      " \n",
      " \n",
      " \n",
      "\n",
      "2099-01-01 00:00:00 2099-08-01 00:00:00\n",
      " \n",
      "The provided variables allow tracking the following phenomena\n",
      " \n",
      "|  phenomenon  | tracking |\n",
      "---------------------------\n",
      "   Jetstream   |   no\n",
      "   PSL CY/ACY  |   no\n",
      "   Z500 CY/ACY |   no\n",
      "   COLs        |   no\n",
      "   IVT ARs     |   yes\n",
      "   MS ARs      |   no\n",
      "   Fronts      |   no\n",
      "   TCs         |   no\n",
      "   MCSs        |   no\n",
      "   Equ. Waves  |   no\n",
      "---------------------------\n",
      " \n",
      "======> track IVT streams and atmospheric rivers (ARs)\n",
      "        3653 object found\n",
      "        break up long living IVT objects that have many elements\n"
     ]
    },
    {
     "name": "stderr",
     "output_type": "stream",
     "text": [
      "100%|██████████| 666/666 [00:27<00:00, 24.06it/s] \n"
     ]
    },
    {
     "name": "stdout",
     "output_type": "stream",
     "text": [
      "        00:00:33.88\n",
      "9\n",
      "            Loop over 1871 objects\n"
     ]
    },
    {
     "name": "stderr",
     "output_type": "stream",
     "text": [
      "/work/aa0238/a271093/Scripts/MOAAP/src/Tracking_Functions.py:250: RuntimeWarning: All-NaN slice encountered\n",
      "  obj_min = np.nanmin(data_slice, axis=(1, 2))\n",
      "/work/aa0238/a271093/Scripts/MOAAP/src/Tracking_Functions.py:251: RuntimeWarning: All-NaN slice encountered\n",
      "  obj_max = np.nanmax(data_slice, axis=(1, 2))\n",
      "/work/aa0238/a271093/Scripts/MOAAP/src/Tracking_Functions.py:252: RuntimeWarning: Mean of empty slice\n",
      "  obj_mean = np.nanmean(data_slice, axis=(1, 2))\n",
      "/work/aa0238/a271093/Conda/MOAAP_env/lib/python3.12/site-packages/scipy/ndimage/_measurements.py:1541: RuntimeWarning: invalid value encountered in scalar divide\n",
      "  results = [sum(input * grids[dir].astype(float), labels, index) / normalizer\n"
     ]
    },
    {
     "name": "stdout",
     "output_type": "stream",
     "text": [
      "        check if MSs quallify as ARs\n"
     ]
    },
    {
     "name": "stderr",
     "output_type": "stream",
     "text": [
      "/work/aa0238/a271093/Scripts/MOAAP/src/Tracking_Functions.py:4588: RuntimeWarning: divide by zero encountered in scalar divide\n",
      "  if DIST.max() / DIST.min() < AR_width_lenght_ratio:\n"
     ]
    },
    {
     "name": "stdout",
     "output_type": "stream",
     "text": [
      "            Loop over 1868 objects\n",
      "        00:01:29.16\n",
      " \n",
      "Save the object masks into a joint netCDF\n",
      "Saved: /work/aa0238/a271093/results/MOAAP/IVT_Tracking/NorESM_ssp_remapped_3x/ObjectMasks_MOAPP_ICON_100and85NorESMsspperc_remapped_3x_2099_01_01-2099_08_01.nc\n",
      "        00:00:25.15\n",
      "clean up /work/aa0238/a271093/results/MOAAP/IVT_Tracking/NorESM_ssp_remapped_3x/IVT_MOAPP_ICON_100and85NorESMsspperc_remapped_3x_2099_01_01-2099_07_01.pkl\n",
      "clean up finished\n",
      "clean up /work/aa0238/a271093/results/MOAAP/IVT_Tracking/NorESM_ssp_remapped_3x/ARs_MOAPP_ICON_100and85NorESMsspperc_remapped_3x_2099_01_01-2099_07_01.pkl\n",
      "clean up finished\n",
      "correct nc-file with \n",
      " cdo -selmon,1,2,3,4,5,6 /work/aa0238/a271093/results/MOAAP/IVT_Tracking/NorESM_ssp_remapped_3x/ObjectMasks_MOAPP_ICON_100and85NorESMsspperc_remapped_3x_2099_01_01-2099_08_01.nc /work/aa0238/a271093/results/MOAAP/IVT_Tracking/NorESM_ssp_remapped_3x/ObjectMasks_MOAPP_ICON_100and85NorESMsspperc_remapped_3x_2099_01_01-2099_07_01_corrected.nc\n",
      "\n",
      " \n",
      " \n",
      " \n",
      "\n",
      "2099-07-01 00:00:00 2100-01-01 00:00:00\n",
      "Mergetime /work/aa0238/a271093/data/Jan_runs/ICON_NorESM_ssp/NorESM_ssp_remapped_3x/IVTu/IVTu_2099010100-2099123123_remapped_3x.nc /work/aa0238/a271093/data/Jan_runs/ICON_NorESM_ssp/NorESM_ssp_remapped_3x/IVTu/IVTu_2100010100-2100123123_remapped_3x.nc  /work/aa0238/a271093/scratch/mergedIVTu_2099_2100_remapped_3x.nc\n",
      "Error in calling operator mergetime with:\n",
      ">>> cdo -O -s -mergetime /work/aa0238/a271093/data/Jan_runs/ICON_NorESM_ssp/NorESM_ssp_remapped_3x/IVTu/IVTu_2099010100-2099123123_remapped_3x.nc /work/aa0238/a271093/data/Jan_runs/ICON_NorESM_ssp/NorESM_ssp_remapped_3x/IVTu/IVTu_2100010100-2100123123_remapped_3x.nc /work/aa0238/a271093/scratch/mergedIVTu_2099_2100_remapped_3x.nc<<<\n",
      "STDOUT:\n",
      "STDERR:cdo    mergetime: Open failed on >/work/aa0238/a271093/data/Jan_runs/ICON_NorESM_ssp/NorESM_ssp_remapped_3x/IVTu/IVTu_2100010100-2100123123_remapped_3x.nc<\n",
      "                  No such file or directory\n",
      "\n"
     ]
    },
    {
     "ename": "CDOException",
     "evalue": "(returncode:1) cdo    mergetime: Open failed on >/work/aa0238/a271093/data/Jan_runs/ICON_NorESM_ssp/NorESM_ssp_remapped_3x/IVTu/IVTu_2100010100-2100123123_remapped_3x.nc<\n                  No such file or directory\n",
     "output_type": "error",
     "traceback": [
      "\u001b[0;31m---------------------------------------------------------------------------\u001b[0m",
      "\u001b[0;31mCDOException\u001b[0m                              Traceback (most recent call last)",
      "Cell \u001b[0;32mIn[5], line 20\u001b[0m\n\u001b[1;32m     15\u001b[0m IVTvLoader\u001b[38;5;241m.\u001b[39mend_date \u001b[38;5;241m=\u001b[39m end_date\n\u001b[1;32m     17\u001b[0m \u001b[38;5;28mprint\u001b[39m (IVTuLoader\u001b[38;5;241m.\u001b[39mstart_date, IVTuLoader\u001b[38;5;241m.\u001b[39mend_date)\n\u001b[0;32m---> 20\u001b[0m IVTudata\u001b[38;5;241m=\u001b[39m\u001b[43mIVTuLoader\u001b[49m\u001b[38;5;241;43m.\u001b[39;49m\u001b[43mload_datasets\u001b[49m\u001b[43m(\u001b[49m\u001b[43mrm_nc\u001b[49m\u001b[38;5;241;43m=\u001b[39;49m\u001b[38;5;28;43;01mTrue\u001b[39;49;00m\u001b[43m)\u001b[49m\n\u001b[1;32m     21\u001b[0m IVTvdata\u001b[38;5;241m=\u001b[39mIVTvLoader\u001b[38;5;241m.\u001b[39mload_datasets(rm_nc\u001b[38;5;241m=\u001b[39m\u001b[38;5;28;01mTrue\u001b[39;00m)\n\u001b[1;32m     24\u001b[0m rLon \u001b[38;5;241m=\u001b[39m xr\u001b[38;5;241m.\u001b[39mbroadcast(IVTudata\u001b[38;5;241m.\u001b[39mrlon, IVTudata\u001b[38;5;241m.\u001b[39mrlat)[\u001b[38;5;241m0\u001b[39m]\u001b[38;5;241m.\u001b[39mvalues\u001b[38;5;241m.\u001b[39mT\n",
      "File \u001b[0;32m/work/aa0238/a271093/Scripts/MOAAP/src/TrackingDataLoader.py:159\u001b[0m, in \u001b[0;36mTrackingDataLoader.load_datasets\u001b[0;34m(self, rm_nc)\u001b[0m\n\u001b[1;32m    157\u001b[0m \u001b[38;5;66;03m# if date range 1.7-1.2 merge netcdf input files of two consecutive years\u001b[39;00m\n\u001b[1;32m    158\u001b[0m \u001b[38;5;28;01mif\u001b[39;00m \u001b[38;5;28mself\u001b[39m\u001b[38;5;241m.\u001b[39myear_start \u001b[38;5;241m<\u001b[39m \u001b[38;5;28mself\u001b[39m\u001b[38;5;241m.\u001b[39myear_end:\n\u001b[0;32m--> 159\u001b[0m     \u001b[38;5;28;43mself\u001b[39;49m\u001b[38;5;241;43m.\u001b[39;49m\u001b[43mmerge_ncfiles\u001b[49m\u001b[43m(\u001b[49m\u001b[43m)\u001b[49m\n\u001b[1;32m    160\u001b[0m     filename \u001b[38;5;241m=\u001b[39m \u001b[38;5;28mself\u001b[39m\u001b[38;5;241m.\u001b[39mfilename_merged\n\u001b[1;32m    161\u001b[0m     path \u001b[38;5;241m=\u001b[39m \u001b[38;5;28mself\u001b[39m\u001b[38;5;241m.\u001b[39mscratch_path\n",
      "File \u001b[0;32m/work/aa0238/a271093/Scripts/MOAAP/src/TrackingDataLoader.py:209\u001b[0m, in \u001b[0;36mTrackingDataLoader.merge_ncfiles\u001b[0;34m(self)\u001b[0m\n\u001b[1;32m    203\u001b[0m cdo \u001b[38;5;241m=\u001b[39m Cdo()\n\u001b[1;32m    205\u001b[0m \u001b[38;5;28mprint\u001b[39m(\n\u001b[1;32m    206\u001b[0m     \u001b[38;5;124mf\u001b[39m\u001b[38;5;124m\"\u001b[39m\u001b[38;5;124mMergetime \u001b[39m\u001b[38;5;132;01m{\u001b[39;00m\u001b[38;5;28mself\u001b[39m\u001b[38;5;241m.\u001b[39mpath_var\u001b[38;5;250m \u001b[39m\u001b[38;5;241m+\u001b[39m\u001b[38;5;250m \u001b[39m\u001b[38;5;28mself\u001b[39m\u001b[38;5;241m.\u001b[39mfilename_year1\u001b[38;5;132;01m}\u001b[39;00m\u001b[38;5;124m \u001b[39m\u001b[38;5;132;01m{\u001b[39;00m\u001b[38;5;28mself\u001b[39m\u001b[38;5;241m.\u001b[39mpath_var\u001b[38;5;250m \u001b[39m\u001b[38;5;241m+\u001b[39m\u001b[38;5;250m \u001b[39m\u001b[38;5;28mself\u001b[39m\u001b[38;5;241m.\u001b[39mfilename_year2\u001b[38;5;132;01m}\u001b[39;00m\u001b[38;5;124m  \u001b[39m\u001b[38;5;132;01m{\u001b[39;00m\u001b[38;5;28mself\u001b[39m\u001b[38;5;241m.\u001b[39mscratch_path\u001b[38;5;132;01m}\u001b[39;00m\u001b[38;5;132;01m{\u001b[39;00m\u001b[38;5;28mself\u001b[39m\u001b[38;5;241m.\u001b[39mfilename_merged\u001b[38;5;132;01m}\u001b[39;00m\u001b[38;5;124m\"\u001b[39m\n\u001b[1;32m    207\u001b[0m )\n\u001b[0;32m--> 209\u001b[0m \u001b[43mcdo\u001b[49m\u001b[38;5;241;43m.\u001b[39;49m\u001b[43mmergetime\u001b[49m\u001b[43m(\u001b[49m\n\u001b[1;32m    210\u001b[0m \u001b[43m    \u001b[49m\u001b[38;5;28;43minput\u001b[39;49m\u001b[38;5;241;43m=\u001b[39;49m\u001b[38;5;124;43mf\u001b[39;49m\u001b[38;5;124;43m\"\u001b[39;49m\u001b[38;5;132;43;01m{\u001b[39;49;00m\u001b[38;5;28;43mself\u001b[39;49m\u001b[38;5;241;43m.\u001b[39;49m\u001b[43mpath_var\u001b[49m\u001b[38;5;250;43m \u001b[39;49m\u001b[38;5;241;43m+\u001b[39;49m\u001b[38;5;250;43m \u001b[39;49m\u001b[38;5;28;43mself\u001b[39;49m\u001b[38;5;241;43m.\u001b[39;49m\u001b[43mfilename_year1\u001b[49m\u001b[38;5;132;43;01m}\u001b[39;49;00m\u001b[38;5;124;43m \u001b[39;49m\u001b[38;5;132;43;01m{\u001b[39;49;00m\u001b[38;5;28;43mself\u001b[39;49m\u001b[38;5;241;43m.\u001b[39;49m\u001b[43mpath_var\u001b[49m\u001b[38;5;250;43m \u001b[39;49m\u001b[38;5;241;43m+\u001b[39;49m\u001b[38;5;250;43m \u001b[39;49m\u001b[38;5;28;43mself\u001b[39;49m\u001b[38;5;241;43m.\u001b[39;49m\u001b[43mfilename_year2\u001b[49m\u001b[38;5;132;43;01m}\u001b[39;49;00m\u001b[38;5;124;43m\"\u001b[39;49m\u001b[43m,\u001b[49m\n\u001b[1;32m    211\u001b[0m \u001b[43m    \u001b[49m\u001b[43moutput\u001b[49m\u001b[38;5;241;43m=\u001b[39;49m\u001b[38;5;124;43mf\u001b[39;49m\u001b[38;5;124;43m\"\u001b[39;49m\u001b[38;5;132;43;01m{\u001b[39;49;00m\u001b[38;5;28;43mself\u001b[39;49m\u001b[38;5;241;43m.\u001b[39;49m\u001b[43mscratch_path\u001b[49m\u001b[38;5;132;43;01m}\u001b[39;49;00m\u001b[38;5;132;43;01m{\u001b[39;49;00m\u001b[38;5;28;43mself\u001b[39;49m\u001b[38;5;241;43m.\u001b[39;49m\u001b[43mfilename_merged\u001b[49m\u001b[38;5;132;43;01m}\u001b[39;49;00m\u001b[38;5;124;43m\"\u001b[39;49m\u001b[43m,\u001b[49m\n\u001b[1;32m    212\u001b[0m \u001b[43m\u001b[49m\u001b[43m)\u001b[49m\n",
      "File \u001b[0;32m/work/aa0238/a271093/Conda/MOAAP_env/lib/python3.12/site-packages/cdo/cdo.py:520\u001b[0m, in \u001b[0;36mCdo.__call__\u001b[0;34m(self, *args, **kwargs)\u001b[0m\n\u001b[1;32m    518\u001b[0m             \u001b[38;5;28;01mreturn\u001b[39;00m \u001b[38;5;28;01mNone\u001b[39;00m\n\u001b[1;32m    519\u001b[0m         \u001b[38;5;28;01melse\u001b[39;00m:\n\u001b[0;32m--> 520\u001b[0m             \u001b[38;5;28;01mraise\u001b[39;00m CDOException(\u001b[38;5;241m*\u001b[39m\u001b[38;5;241m*\u001b[39mretvals)\n\u001b[1;32m    521\u001b[0m \u001b[38;5;28;01melse\u001b[39;00m:\n\u001b[1;32m    522\u001b[0m     \u001b[38;5;28;01mif\u001b[39;00m \u001b[38;5;28mself\u001b[39m\u001b[38;5;241m.\u001b[39mdebug:\n",
      "\u001b[0;31mCDOException\u001b[0m: (returncode:1) cdo    mergetime: Open failed on >/work/aa0238/a271093/data/Jan_runs/ICON_NorESM_ssp/NorESM_ssp_remapped_3x/IVTu/IVTu_2100010100-2100123123_remapped_3x.nc<\n                  No such file or directory\n"
     ]
    }
   ],
   "source": [
    "\n",
    "IVTuLoader= TrackingDataLoader('IVTu', data_path, suffix=suffix, file_type = file_type)\n",
    "IVTvLoader= TrackingDataLoader('IVTv', data_path, suffix=suffix, file_type = file_type)\n",
    "\n",
    "\n",
    "dict_keys_offset = 0\n",
    "\n",
    "for start_date, end_date in zip(start_date_list, end_date_list):\n",
    "    \n",
    "    print (\"\\n \\n \\n \\n\")\n",
    "    \n",
    "    IVTuLoader.start_date = start_date\n",
    "    IVTvLoader.start_date = start_date\n",
    "    \n",
    "    IVTuLoader.end_date = end_date\n",
    "    IVTvLoader.end_date = end_date\n",
    "\n",
    "    print (IVTuLoader.start_date, IVTuLoader.end_date)\n",
    "    \n",
    "\n",
    "    IVTudata=IVTuLoader.load_datasets(rm_nc=True)\n",
    "    IVTvdata=IVTvLoader.load_datasets(rm_nc=True)\n",
    "\n",
    "\n",
    "    rLon = xr.broadcast(IVTudata.rlon, IVTudata.rlat)[0].values.T\n",
    "    rLat = xr.broadcast(IVTudata.rlon, IVTudata.rlat)[1].values.T\n",
    "\n",
    "    Lon = xr.broadcast(IVTudata.lon, IVTudata.lat)[0].values\n",
    "    Lat = xr.broadcast(IVTudata.lon, IVTudata.lat)[1].values\n",
    "\n",
    "    Mask=1*(rLat>-999)\n",
    "    Time_sel = IVTuLoader.time_sel\n",
    "    \n",
    "    output_file_name = f'{output_file_name_temp}_{get_datetime_str(start_date)}-{get_datetime_str(end_date)}'\n",
    "\n",
    "    \n",
    "\n",
    "    Tracking_Functions.moaap(Lon = rLon,                            # 2Dlongitude grid centers\n",
    "                              Lat = rLat,                           # 2D latitude grid spacing\n",
    "                              Time = Time_sel,                      # datetime vector of data\n",
    "                              dT = 1,                               # integer - temporal frequency of data [hour]\n",
    "                              Mask = Mask,                          # mask with dimensions [lat,lon] defining analysis region\n",
    "\n",
    "                              ivte = IVTudata.IVTu.values,          # zonal integrated vapor transport [kg m-1 s-1]\n",
    "                              ivtn = IVTvdata.IVTv.values,          # meidional integrated vapor transport [kg m-1 s-1]\n",
    "                              regular_Lon = Lon,\n",
    "                              regular_Lat = Lat,\n",
    "                              IVTtrheshold = IVTtrheshold,          # Integrated water vapor transport threshold for AR detection [kg m-1 s-1]\n",
    "                                                                    # JLa: additionall fixed threshold 100 in code\n",
    "\n",
    "                              DataName = output_file_name,\n",
    "                              OutputFolder=output_path ,\n",
    "                              dict_keys_offset = dict_keys_offset\n",
    "                            )\n",
    "                       \n",
    "                             \n",
    "    cleanup_dicts(output_path,\n",
    "                  output_file_name_temp,\n",
    "                  start_date,\n",
    "                  end_date, \n",
    "                  last_processed_date,\n",
    "                  type_='IVT'\n",
    "                 )\n",
    "        \n",
    "    cleanup_dicts(output_path,\n",
    "                  output_file_name_temp,\n",
    "                  start_date,\n",
    "                  end_date, \n",
    "                  last_processed_date,\n",
    "                  type_='ARs'\n",
    "                 )\n",
    "    \n",
    "    correct_nc_file(output_path,\n",
    "                    output_file_name_temp, \n",
    "                    start_date,\n",
    "                    end_date,\n",
    "                    last_processed_date\n",
    "                   )\n",
    "                             \n",
    "    dict_keys_offset +=5000"
   ]
  },
  {
   "cell_type": "code",
   "execution_count": null,
   "id": "b907472e-c386-4f1d-8d1c-3d95f5967bee",
   "metadata": {},
   "outputs": [],
   "source": []
  }
 ],
 "metadata": {
  "kernelspec": {
   "display_name": "MOAAP-Kernel",
   "language": "python",
   "name": "moaap_kernel"
  },
  "language_info": {
   "codemirror_mode": {
    "name": "ipython",
    "version": 3
   },
   "file_extension": ".py",
   "mimetype": "text/x-python",
   "name": "python",
   "nbconvert_exporter": "python",
   "pygments_lexer": "ipython3",
   "version": "3.12.2"
  }
 },
 "nbformat": 4,
 "nbformat_minor": 5
}
