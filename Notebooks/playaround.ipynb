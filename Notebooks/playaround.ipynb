{
 "cells": [
  {
   "cell_type": "code",
   "execution_count": 1,
   "id": "c9d49eac-16b0-4140-9bd3-bab64c81597a",
   "metadata": {},
   "outputs": [
    {
     "name": "stderr",
     "output_type": "stream",
     "text": [
      "/work/aa0238/a271093/Conda/MOAAP_env/lib/python3.12/site-packages/pyproj/__init__.py:89: UserWarning: pyproj unable to set database path.\n",
      "  _pyproj_global_context_initialize()\n"
     ]
    },
    {
     "ename": "ValueError",
     "evalue": "did not find a match in any of xarray's currently installed IO backends ['netcdf4', 'scipy', 'gini']. Consider explicitly selecting one of the installed engines via the ``engine`` parameter, or installing additional IO dependencies, see:\nhttps://docs.xarray.dev/en/stable/getting-started-guide/installing.html\nhttps://docs.xarray.dev/en/stable/user-guide/io.html",
     "output_type": "error",
     "traceback": [
      "\u001b[0;31m---------------------------------------------------------------------------\u001b[0m",
      "\u001b[0;31mValueError\u001b[0m                                Traceback (most recent call last)",
      "Cell \u001b[0;32mIn[1], line 3\u001b[0m\n\u001b[1;32m      1\u001b[0m \u001b[38;5;28;01mimport\u001b[39;00m \u001b[38;5;21;01mxarray\u001b[39;00m \u001b[38;5;28;01mas\u001b[39;00m \u001b[38;5;21;01mxr\u001b[39;00m\n\u001b[0;32m----> 3\u001b[0m a\u001b[38;5;241m=\u001b[39m\u001b[43mxr\u001b[49m\u001b[38;5;241;43m.\u001b[39;49m\u001b[43mopen_dataset\u001b[49m\u001b[43m(\u001b[49m\u001b[38;5;124;43m'\u001b[39;49m\u001b[38;5;124;43m/work/aa0238/a271093/data/ERA5/1979-2023/ICON_remapped_3x/IVTu/IVTu_1989010100-1989123123_remapped_3x.ncz\u001b[39;49m\u001b[38;5;124;43m'\u001b[39;49m\u001b[43m)\u001b[49m\n",
      "File \u001b[0;32m/work/aa0238/a271093/Conda/MOAAP_env/lib/python3.12/site-packages/xarray/backends/api.py:554\u001b[0m, in \u001b[0;36mopen_dataset\u001b[0;34m(filename_or_obj, engine, chunks, cache, decode_cf, mask_and_scale, decode_times, decode_timedelta, use_cftime, concat_characters, decode_coords, drop_variables, inline_array, chunked_array_type, from_array_kwargs, backend_kwargs, **kwargs)\u001b[0m\n\u001b[1;32m    551\u001b[0m     kwargs\u001b[38;5;241m.\u001b[39mupdate(backend_kwargs)\n\u001b[1;32m    553\u001b[0m \u001b[38;5;28;01mif\u001b[39;00m engine \u001b[38;5;129;01mis\u001b[39;00m \u001b[38;5;28;01mNone\u001b[39;00m:\n\u001b[0;32m--> 554\u001b[0m     engine \u001b[38;5;241m=\u001b[39m \u001b[43mplugins\u001b[49m\u001b[38;5;241;43m.\u001b[39;49m\u001b[43mguess_engine\u001b[49m\u001b[43m(\u001b[49m\u001b[43mfilename_or_obj\u001b[49m\u001b[43m)\u001b[49m\n\u001b[1;32m    556\u001b[0m \u001b[38;5;28;01mif\u001b[39;00m from_array_kwargs \u001b[38;5;129;01mis\u001b[39;00m \u001b[38;5;28;01mNone\u001b[39;00m:\n\u001b[1;32m    557\u001b[0m     from_array_kwargs \u001b[38;5;241m=\u001b[39m {}\n",
      "File \u001b[0;32m/work/aa0238/a271093/Conda/MOAAP_env/lib/python3.12/site-packages/xarray/backends/plugins.py:197\u001b[0m, in \u001b[0;36mguess_engine\u001b[0;34m(store_spec)\u001b[0m\n\u001b[1;32m    189\u001b[0m \u001b[38;5;28;01melse\u001b[39;00m:\n\u001b[1;32m    190\u001b[0m     error_msg \u001b[38;5;241m=\u001b[39m (\n\u001b[1;32m    191\u001b[0m         \u001b[38;5;124m\"\u001b[39m\u001b[38;5;124mfound the following matches with the input file in xarray\u001b[39m\u001b[38;5;124m'\u001b[39m\u001b[38;5;124ms IO \u001b[39m\u001b[38;5;124m\"\u001b[39m\n\u001b[1;32m    192\u001b[0m         \u001b[38;5;124mf\u001b[39m\u001b[38;5;124m\"\u001b[39m\u001b[38;5;124mbackends: \u001b[39m\u001b[38;5;132;01m{\u001b[39;00mcompatible_engines\u001b[38;5;132;01m}\u001b[39;00m\u001b[38;5;124m. But their dependencies may not be installed, see:\u001b[39m\u001b[38;5;130;01m\\n\u001b[39;00m\u001b[38;5;124m\"\u001b[39m\n\u001b[1;32m    193\u001b[0m         \u001b[38;5;124m\"\u001b[39m\u001b[38;5;124mhttps://docs.xarray.dev/en/stable/user-guide/io.html \u001b[39m\u001b[38;5;130;01m\\n\u001b[39;00m\u001b[38;5;124m\"\u001b[39m\n\u001b[1;32m    194\u001b[0m         \u001b[38;5;124m\"\u001b[39m\u001b[38;5;124mhttps://docs.xarray.dev/en/stable/getting-started-guide/installing.html\u001b[39m\u001b[38;5;124m\"\u001b[39m\n\u001b[1;32m    195\u001b[0m     )\n\u001b[0;32m--> 197\u001b[0m \u001b[38;5;28;01mraise\u001b[39;00m \u001b[38;5;167;01mValueError\u001b[39;00m(error_msg)\n",
      "\u001b[0;31mValueError\u001b[0m: did not find a match in any of xarray's currently installed IO backends ['netcdf4', 'scipy', 'gini']. Consider explicitly selecting one of the installed engines via the ``engine`` parameter, or installing additional IO dependencies, see:\nhttps://docs.xarray.dev/en/stable/getting-started-guide/installing.html\nhttps://docs.xarray.dev/en/stable/user-guide/io.html"
     ]
    }
   ],
   "source": [
    "import xarray as xr\n",
    "\n",
    "a=xr.open_dataset('/work/aa0238/a271093/data/ERA5/1979-2023/ICON_remapped_3x/IVTu/IVTu_1989010100-1989123123_remapped_3x.ncz')"
   ]
  },
  {
   "cell_type": "code",
   "execution_count": 9,
   "id": "e3fb0fe7-6d87-4e14-a2ba-03de7162c182",
   "metadata": {},
   "outputs": [],
   "source": []
  },
  {
   "cell_type": "code",
   "execution_count": 9,
   "id": "c427019b-f5be-4580-a278-7553bdd494f0",
   "metadata": {},
   "outputs": [],
   "source": [
    "c=C(3)\n",
    "c.y =5\n",
    "c.y\n",
    "\n",
    "for i,season_ in enumerate(Season):\n",
    "\n",
    "    #dat=IVTobj_ls.sel_season(season=Season.WINTER).get_attributes(attr='duration')##obj_means(\"size\")\n",
    "    dat1=IVTobj_ls.sel_season(season=season_).get_attributes(attr='duration')##obj_means(\"size\")\n",
    "    dat2=IVTobj_ls.sel_season(season=season_).obj_means(attr='size')##obj_means(\"size\")\n",
    "\n",
    "\n",
    "    sns.kdeplot(x=np.array(dat1),y=np.array(dat2),label=season_.name,color=bar_colors[i],shade=True,bw_adjust=0.3, clip =((0,80),(0,0.5e5)))\n",
    "    #sns.histplot(dat,label=season_.name,color=bar_colors[i],bins=100, stat='density')\n",
    "\n",
    "    \n",
    "\n",
    "ax.set_xlabel('Object duration [hrs]')\n",
    "ax.set_ylabel('Probability density')\n",
    "plt.legend()\n",
    "plt.grid()\n",
    "ax.set_xlim(0,200)"
   ]
  },
  {
   "cell_type": "code",
   "execution_count": 14,
   "id": "38f2efd7-17e0-400a-8324-3da74f01364c",
   "metadata": {},
   "outputs": [
    {
     "data": {
      "text/plain": [
       "RegularGridPoint(lat=3, lon=4)"
      ]
     },
     "execution_count": 14,
     "metadata": {},
     "output_type": "execute_result"
    }
   ],
   "source": [
    "from src.GridPoints import *\n",
    "\n",
    "x= RegularGridPoint(3,4)\n",
    "x"
   ]
  },
  {
   "cell_type": "code",
   "execution_count": 137,
   "id": "e5b7eecc-563d-4d59-ac6d-e84b67bf53e3",
   "metadata": {
    "tags": []
   },
   "outputs": [
    {
     "name": "stderr",
     "output_type": "stream",
     "text": [
      "/tmp/ipykernel_3696960/3635372108.py:5: FutureWarning: \n",
      "\n",
      "`shade` is now deprecated in favor of `fill`; setting `fill=True`.\n",
      "This will become an error in seaborn v0.14.0; please update your code.\n",
      "\n",
      "  sns.kdeplot(x=np.array(dat1),y=np.array(dat2),label=season_.name,color=bar_colors[i],shade=True,bw_adjust=0.3, clip =((9,80),(0,0.5e5)))\n",
      "No artists with labels found to put in legend.  Note that artists whose label start with an underscore are ignored when legend() is called with no argument.\n"
     ]
    },
    {
     "data": {
      "text/plain": [
       "(0.0, 200.0)"
      ]
     },
     "execution_count": 137,
     "metadata": {},
     "output_type": "execute_result"
    },
    {
     "data": {
      "image/png": "[encoded data removed]",
      "text/plain": [
       "<Figure size 640x480 with 1 Axes>"
      ]
     },
     "metadata": {},
     "output_type": "display_data"
    }
   ],
   "source": [
    "\n",
    "dat1=IVTobj_ls.sel_season(season=Season.WINTER).get_attributes(attr='duration')##obj_means(\"size\")\n",
    "dat2=IVTobj_ls.sel_season(season=Season.WINTER).obj_means(attr='total_IVT')##obj_means(\"size\")\n",
    "\n",
    "\n",
    "sns.kdeplot(x=np.array(dat1),y=np.array(dat2),label=season_.name,color=bar_colors[i],shade=True,bw_adjust=0.3, clip =((9,80),(0,0.5e5)))\n",
    "    #sns.histplot(dat,label=season_.name,color=bar_colors[i],bins=100, stat='density')\n",
    "\n",
    "    \n",
    "\n",
    "ax.set_xlabel('Object duration [hrs]')\n",
    "ax.set_ylabel('Probability density')\n",
    "plt.legend()\n",
    "plt.grid()\n",
    "ax.set_xlim(0,200)"
   ]
  },
  {
   "cell_type": "code",
   "execution_count": 138,
   "id": "7602020a-a10a-439a-9653-7d53beea14e5",
   "metadata": {
    "tags": []
   },
   "outputs": [],
   "source": [
    "dat1=IVTobj_ls.sel_season(season=Season.SUMMER).get_attributes(attr='duration')##obj_means(\"size\")\n",
    "dat2=IVTobj_ls.sel_season(season=Season.SUMMER).obj_means(attr='total_IVT')##obj_means(\"size\")\n",
    "\n",
    "\n",
    "sns.kdeplot(x=np.array(dat1),y=np.array(dat2),label=season_.name,color=bar_colors[i],shade=True,bw_adjust=0.3, clip =((9,80),(0,0.5e5)))\n",
    "    #sns.histplot(dat,label=season_.name,color=bar_colors[i],bins=100, stat='density')\n",
    "\n",
    "    \n",
    "\n",
    "ax.set_xlabel('Object duration [hrs]')\n",
    "ax.set_ylabel('Probability density')\n",
    "plt.legend()\n",
    "plt.grid()\n",
    "ax.set_xlim(0,200)"
   ]
  },
  {
   "cell_type": "code",
   "execution_count": 1,
   "id": "d4cebf3d-d731-4223-b2c9-8771eca272a4",
   "metadata": {
    "tags": []
   },
   "outputs": [
    {
     "name": "stderr",
     "output_type": "stream",
     "text": [
      "/work/aa0238/a271093/Conda/MOAAP_env/lib/python3.12/site-packages/pyproj/__init__.py:89: UserWarning: pyproj unable to set database path.\n",
      "  _pyproj_global_context_initialize()\n"
     ]
    }
   ],
   "source": [
    "%load_ext autoreload\n",
    "%autoreload 2\n",
    "from src.GridPoints import *\n",
    "    "
   ]
  },
  {
   "cell_type": "code",
   "execution_count": 2,
   "id": "20e933b6-3172-4527-aa40-aefed43b71e7",
   "metadata": {
    "tags": []
   },
   "outputs": [
    {
     "ename": "TypeError",
     "evalue": "Can only create Regular-or Rotated Gridpoint objects, no objects of the GridPoint parent class.",
     "output_type": "error",
     "traceback": [
      "\u001b[0;31m---------------------------------------------------------------------------\u001b[0m",
      "\u001b[0;31mTypeError\u001b[0m                                 Traceback (most recent call last)",
      "Cell \u001b[0;32mIn[2], line 1\u001b[0m\n\u001b[0;32m----> 1\u001b[0m p1\u001b[38;5;241m=\u001b[39m \u001b[43mGridPoint\u001b[49m\u001b[43m(\u001b[49m\u001b[38;5;241;43m0\u001b[39;49m\u001b[43m,\u001b[49m\u001b[38;5;241;43m1\u001b[39;49m\u001b[43m)\u001b[49m\n",
      "File \u001b[0;32m/work/aa0238/a271093/Scripts/MOAAP/src/GridPoints.py:31\u001b[0m, in \u001b[0;36mGridPoint.__new__\u001b[0;34m(cls, lat, lon)\u001b[0m\n\u001b[1;32m     29\u001b[0m \u001b[38;5;28;01mdef\u001b[39;00m \u001b[38;5;21m__new__\u001b[39m(\u001b[38;5;28mcls\u001b[39m, lat, lon):\n\u001b[1;32m     30\u001b[0m     \u001b[38;5;28;01mif\u001b[39;00m \u001b[38;5;28mcls\u001b[39m \u001b[38;5;129;01mis\u001b[39;00m GridPoint:\n\u001b[0;32m---> 31\u001b[0m         \u001b[38;5;28;01mraise\u001b[39;00m \u001b[38;5;167;01mTypeError\u001b[39;00m(\u001b[38;5;124m\"\u001b[39m\u001b[38;5;124mCan only create Regular-or Rotated Gridpoint objects, no objects of the GridPoint parent class.\u001b[39m\u001b[38;5;124m\"\u001b[39m)\n\u001b[1;32m     33\u001b[0m     coord \u001b[38;5;241m=\u001b[39m (lat, lon)\n\u001b[1;32m     34\u001b[0m     \u001b[38;5;28;01mif\u001b[39;00m coord \u001b[38;5;129;01min\u001b[39;00m \u001b[38;5;28mcls\u001b[39m\u001b[38;5;241m.\u001b[39m_instances:\n",
      "\u001b[0;31mTypeError\u001b[0m: Can only create Regular-or Rotated Gridpoint objects, no objects of the GridPoint parent class."
     ]
    }
   ],
   "source": [
    "p1= GridPoint(0,1)"
   ]
  },
  {
   "cell_type": "code",
   "execution_count": 3,
   "id": "c2ef7bdd-c19b-481c-b583-7ecce694c1fb",
   "metadata": {
    "tags": []
   },
   "outputs": [
    {
     "data": {
      "text/plain": [
       "GridPoint(lat=0, lon=1)"
      ]
     },
     "execution_count": 3,
     "metadata": {},
     "output_type": "execute_result"
    }
   ],
   "source": [
    "p1"
   ]
  },
  {
   "cell_type": "code",
   "execution_count": 4,
   "id": "80d4d9ac-ceb8-47ef-bc3b-f1e4fa37ab7e",
   "metadata": {
    "tags": []
   },
   "outputs": [
    {
     "name": "stdout",
     "output_type": "stream",
     "text": [
      "<class 'src.GridPoints.GridPoint'>\n"
     ]
    }
   ],
   "source": [
    "p2= GridPoint(0,1)"
   ]
  },
  {
   "cell_type": "code",
   "execution_count": 5,
   "id": "4de9802f-acdc-4b04-8d59-3abba632c309",
   "metadata": {
    "tags": []
   },
   "outputs": [
    {
     "data": {
      "text/plain": [
       "(140737077784304, 140737077784304)"
      ]
     },
     "execution_count": 5,
     "metadata": {},
     "output_type": "execute_result"
    }
   ],
   "source": [
    "id(p1), id(p2)"
   ]
  },
  {
   "cell_type": "code",
   "execution_count": 6,
   "id": "798d32d9-6496-4e3c-9761-d0ad91c032ef",
   "metadata": {
    "tags": []
   },
   "outputs": [
    {
     "name": "stdout",
     "output_type": "stream",
     "text": [
      "<class 'src.GridPoints.GridPoint'>\n"
     ]
    }
   ],
   "source": [
    "p3= GridPoint(0,4)"
   ]
  },
  {
   "cell_type": "code",
   "execution_count": 7,
   "id": "19d5899d-94c5-408e-9277-9fce0032bef9",
   "metadata": {
    "tags": []
   },
   "outputs": [
    {
     "data": {
      "text/plain": [
       "140728213598656"
      ]
     },
     "execution_count": 7,
     "metadata": {},
     "output_type": "execute_result"
    }
   ],
   "source": [
    "id(p3)"
   ]
  },
  {
   "cell_type": "code",
   "execution_count": 3,
   "id": "dcd3153b-dfca-4957-98c8-1f27506365ed",
   "metadata": {
    "tags": []
   },
   "outputs": [],
   "source": [
    "reg1 = RegularGridPoint(0,1)\n",
    "rot1 = RotatedGridPoint(0,1)\n",
    "rot2 = RotatedGridPoint(0,1)\n",
    "rot3 = RotatedGridPoint(1,1)"
   ]
  },
  {
   "cell_type": "code",
   "execution_count": 4,
   "id": "4940bea8-4acc-4ab1-b676-a722c2e19b90",
   "metadata": {
    "tags": []
   },
   "outputs": [
    {
     "data": {
      "text/plain": [
       "(140737019942896, 140737019940640)"
      ]
     },
     "execution_count": 4,
     "metadata": {},
     "output_type": "execute_result"
    }
   ],
   "source": [
    "id(reg1), id (rot1)"
   ]
  },
  {
   "cell_type": "code",
   "execution_count": 5,
   "id": "23805efd-b7b9-4a93-a0ce-7a047a3aeb62",
   "metadata": {
    "tags": []
   },
   "outputs": [
    {
     "data": {
      "text/plain": [
       "mappingproxy({'__module__': 'src.GridPoints',\n",
       "              '__doc__': '\\n    Class that represents grid points in a regular lon-lat coordinate system.\\n    ',\n",
       "              '_instances': {(0, 1): RegularGridPoint(lat=0, lon=1)},\n",
       "              '__init__': <function src.GridPoints.RegularGridPoint.__init__(self, lat, lon)>,\n",
       "              'to_rotated': <function src.GridPoints.RegularGridPoint.to_rotated(self) -> 'RotatedGridPoint'>})"
      ]
     },
     "execution_count": 5,
     "metadata": {},
     "output_type": "execute_result"
    }
   ],
   "source": [
    "RegularGridPoint.__dict__"
   ]
  },
  {
   "cell_type": "code",
   "execution_count": 6,
   "id": "9d05e9fc-c9e0-43d8-812c-979c3fac6e1f",
   "metadata": {
    "tags": []
   },
   "outputs": [
    {
     "data": {
      "text/plain": [
       "mappingproxy({'__module__': 'src.GridPoints',\n",
       "              '__doc__': '\\n    Class that represents grid points in a rotated coordinate system.\\n    ',\n",
       "              '_instances': {(0, 1): RotatedGridPoint(lat=0, lon=1),\n",
       "               (1, 1): RotatedGridPoint(lat=1, lon=1)},\n",
       "              'to_regular': <function src.GridPoints.RotatedGridPoint.to_regular(self) -> 'RegularGridPoint'>})"
      ]
     },
     "execution_count": 6,
     "metadata": {},
     "output_type": "execute_result"
    }
   ],
   "source": [
    "RotatedGridPoint.__dict__"
   ]
  },
  {
   "cell_type": "code",
   "execution_count": 13,
   "id": "693a3420-7c4e-469b-bc73-183632162466",
   "metadata": {
    "tags": []
   },
   "outputs": [],
   "source": [
    "from abc import ABC\n",
    "class test(ABC):\n",
    "    pass\n",
    "\n",
    "t= test()"
   ]
  },
  {
   "cell_type": "code",
   "execution_count": 14,
   "id": "1f4ccb08-a788-49e4-b88c-e33f137db19e",
   "metadata": {
    "tags": []
   },
   "outputs": [
    {
     "data": {
      "text/plain": [
       "<__main__.test at 0x7ffdd73ff9e0>"
      ]
     },
     "execution_count": 14,
     "metadata": {},
     "output_type": "execute_result"
    }
   ],
   "source": [
    "t"
   ]
  },
  {
   "cell_type": "code",
   "execution_count": null,
   "id": "455f555d-8702-43a4-95ee-73b713f54135",
   "metadata": {},
   "outputs": [],
   "source": []
  }
 ],
 "metadata": {
  "kernelspec": {
   "display_name": "MOAAP-Kernel",
   "language": "python",
   "name": "moaap_kernel"
  },
  "language_info": {
   "codemirror_mode": {
    "name": "ipython",
    "version": 3
   },
   "file_extension": ".py",
   "mimetype": "text/x-python",
   "name": "python",
   "nbconvert_exporter": "python",
   "pygments_lexer": "ipython3",
   "version": "3.12.2"
  }
 },
 "nbformat": 4,
 "nbformat_minor": 5
}
