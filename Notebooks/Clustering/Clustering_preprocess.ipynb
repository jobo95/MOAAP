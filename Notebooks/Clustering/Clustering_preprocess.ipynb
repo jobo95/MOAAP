{
 "cells": [
  {
   "cell_type": "code",
   "execution_count": 2,
   "id": "c8fb6595-9db3-4953-96a4-01e4fe3d597c",
   "metadata": {
    "tags": []
   },
   "outputs": [
    {
     "name": "stderr",
     "output_type": "stream",
     "text": [
      "/work/aa0238/a271093/Conda/MOAAP_env/lib/python3.12/site-packages/pyproj/__init__.py:89: UserWarning: pyproj unable to set database path.\n",
      "  _pyproj_global_context_initialize()\n"
     ]
    }
   ],
   "source": [
    "%load_ext autoreload\n",
    "%autoreload 2\n",
    "from cdo import Cdo\n",
    "from src.Enumerations import Month, Season\n",
    "from src.Enumerations import Experiments"
   ]
  },
  {
   "cell_type": "code",
   "execution_count": 15,
   "id": "a7ba548a-0930-4938-b5de-193923000d33",
   "metadata": {
    "tags": []
   },
   "outputs": [
    {
     "name": "stdout",
     "output_type": "stream",
     "text": [
      "ICON_CNRM_CONTROL\n",
      "DJF\n",
      "/work/aa0238/a271093/data/clustering/CNRM_control/CNRM_ICON_control_gph70000_1984_2014_reglonlat_-90_90_20_88_1deg_DJF_fldmean_detrend_ydaymean_del29feb.nc\n",
      "MAM\n",
      "/work/aa0238/a271093/data/clustering/CNRM_control/CNRM_ICON_control_gph70000_1984_2014_reglonlat_-90_90_20_88_1deg_MAM_fldmean_detrend_ydaymean_del29feb.nc\n",
      "JJA\n",
      "/work/aa0238/a271093/data/clustering/CNRM_control/CNRM_ICON_control_gph70000_1984_2014_reglonlat_-90_90_20_88_1deg_JJA_fldmean_detrend_ydaymean_del29feb.nc\n",
      "SON\n",
      "/work/aa0238/a271093/data/clustering/CNRM_control/CNRM_ICON_control_gph70000_1984_2014_reglonlat_-90_90_20_88_1deg_SON_fldmean_detrend_ydaymean_del29feb.nc\n",
      "ICON_NORESM_CONTROL\n",
      "DJF\n",
      "/work/aa0238/a271093/data/clustering/NorESM_control/NORESM_ICON_control_gph70000_1984_2014_reglonlat_-90_90_20_88_1deg_DJF_fldmean_detrend_ydaymean_del29feb.nc\n",
      "MAM\n",
      "/work/aa0238/a271093/data/clustering/NorESM_control/NORESM_ICON_control_gph70000_1984_2014_reglonlat_-90_90_20_88_1deg_MAM_fldmean_detrend_ydaymean_del29feb.nc\n",
      "JJA\n",
      "/work/aa0238/a271093/data/clustering/NorESM_control/NORESM_ICON_control_gph70000_1984_2014_reglonlat_-90_90_20_88_1deg_JJA_fldmean_detrend_ydaymean_del29feb.nc\n",
      "SON\n",
      "/work/aa0238/a271093/data/clustering/NorESM_control/NORESM_ICON_control_gph70000_1984_2014_reglonlat_-90_90_20_88_1deg_SON_fldmean_detrend_ydaymean_del29feb.nc\n",
      "ICON_CNRM_SSP\n",
      "DJF\n",
      "/work/aa0238/a271093/data/clustering/CNRM_control/CNRM_ICON_control_gph70000_1984_2014_reglonlat_-90_90_20_88_1deg_DJF_fldmean_detrend_ydaymean_del29feb.nc\n",
      "MAM\n",
      "/work/aa0238/a271093/data/clustering/CNRM_control/CNRM_ICON_control_gph70000_1984_2014_reglonlat_-90_90_20_88_1deg_MAM_fldmean_detrend_ydaymean_del29feb.nc\n",
      "JJA\n",
      "/work/aa0238/a271093/data/clustering/CNRM_control/CNRM_ICON_control_gph70000_1984_2014_reglonlat_-90_90_20_88_1deg_JJA_fldmean_detrend_ydaymean_del29feb.nc\n",
      "SON\n",
      "/work/aa0238/a271093/data/clustering/CNRM_control/CNRM_ICON_control_gph70000_1984_2014_reglonlat_-90_90_20_88_1deg_SON_fldmean_detrend_ydaymean_del29feb.nc\n",
      "ICON_NORESM_SSP\n",
      "DJF\n",
      "/work/aa0238/a271093/data/clustering/NorESM_control/NORESM_ICON_control_gph70000_1984_2014_reglonlat_-90_90_20_88_1deg_DJF_fldmean_detrend_ydaymean_del29feb.nc\n",
      "MAM\n",
      "/work/aa0238/a271093/data/clustering/NorESM_control/NORESM_ICON_control_gph70000_1984_2014_reglonlat_-90_90_20_88_1deg_MAM_fldmean_detrend_ydaymean_del29feb.nc\n",
      "JJA\n",
      "/work/aa0238/a271093/data/clustering/NorESM_control/NORESM_ICON_control_gph70000_1984_2014_reglonlat_-90_90_20_88_1deg_JJA_fldmean_detrend_ydaymean_del29feb.nc\n",
      "SON\n",
      "/work/aa0238/a271093/data/clustering/NorESM_control/NORESM_ICON_control_gph70000_1984_2014_reglonlat_-90_90_20_88_1deg_SON_fldmean_detrend_ydaymean_del29feb.nc\n",
      "ERA5\n",
      "DJF\n",
      "/work/aa0238/a271093/data/clustering/ERA5/ERA5_gph70000_1984_2014_reglonlat_-90_90_20_88_1deg_DJF_fldmean_detrend_ydaymean_del29feb.nc\n",
      "MAM\n",
      "/work/aa0238/a271093/data/clustering/ERA5/ERA5_gph70000_1984_2014_reglonlat_-90_90_20_88_1deg_MAM_fldmean_detrend_ydaymean_del29feb.nc\n",
      "JJA\n",
      "/work/aa0238/a271093/data/clustering/ERA5/ERA5_gph70000_1984_2014_reglonlat_-90_90_20_88_1deg_JJA_fldmean_detrend_ydaymean_del29feb.nc\n",
      "SON\n",
      "/work/aa0238/a271093/data/clustering/ERA5/ERA5_gph70000_1984_2014_reglonlat_-90_90_20_88_1deg_SON_fldmean_detrend_ydaymean_del29feb.nc\n"
     ]
    }
   ],
   "source": [
    "%run /work/aa0238/a271093/Scripts/MOAAP/src/clustering/clustering_preprocess_data.py"
   ]
  },
  {
   "cell_type": "code",
   "execution_count": 19,
   "id": "9331f4af-be71-4dca-bdd0-983fb82d408c",
   "metadata": {
    "tags": []
   },
   "outputs": [],
   "source": [
    "for EXP in Experiments\n",
    "    \n",
    "exp = EXP.value\n",
    "season=Season.DJF\n",
    "months = \",\".join(map(str, season.value))\n",
    "cdo = Cdo()\n",
    "level=50000\n",
    "outpath=exp.clustering_data_path\n",
    "year_start= exp.year_start\n",
    "year_end= exp.year_end\n",
    "\n",
    "out_string = f\"{outpath}{exp.exp_name}_gph{level}_{year_start}_{year_end}_reglonlat_0_360_20_88_1125deg_{season.name}\"\n",
    "\n",
    "if exp.exp_name == \"ERA5\":\n",
    "    cdo.remapbil(exp.clustering_target_grid,\n",
    "            input= f'-selmon,{months}  -selyear,{year_start}/{year_end}  -mergetime  '+\" \".join(exp.gph_files_raw_gcm),\n",
    "             output = f\"{out_string}.nc\")\n",
    "else:\n",
    "    cdo.remapbil(exp.clustering_target_grid,\n",
    "            input= f'-selmon,{months}  -selyear,{year_start}/{year_end} -sellevel,{level} -mergetime  '+\" \".join(exp.gph_files_raw_gcm),\n",
    "             output = f\"{out_string}.nc\")\n",
    "\n",
    "\n",
    "\n",
    "cdo.fldmean(input = f\"{out_string}.nc\",\n",
    "            output = f\"{out_string}_fldmean.nc\")\n",
    "\n",
    "cdo.trend(input =  f\"{out_string}_fldmean.nc\",\n",
    "          output=  f\"{out_string}_fldmean_trenda.nc {out_string}_fldmean_trendb.nc\")\n",
    "\n",
    "cdo.enlarge(f\"{out_string}.nc\",\n",
    "           input = f\"{out_string}_fldmean_trenda.nc\",\n",
    "           output = f\"{out_string}_fldmean_trendaa.nc\"\n",
    "\n",
    "           )\n",
    "\n",
    "cdo.enlarge(f\"{out_string}.nc\",\n",
    "           input = f\"{out_string}_fldmean_trendb.nc\",\n",
    "           output = f\"{out_string}_fldmean_trendbb.nc\"\n",
    "\n",
    "           )\n",
    "\n",
    "cdo.subtrend(input = f\"{out_string}.nc {out_string}_fldmean_trendaa.nc {out_string}_fldmean_trendbb.nc\",\n",
    "             output = f\"{out_string}_fldmean_detrend.nc\")\n",
    "\n",
    "cdo.sellonlatbox()\n",
    "\n",
    "\n",
    "cdo.ydaymean(input= f\"{out_string}_fldmean_detrend.nc\",\n",
    "             output = f\"{out_string}_fldmean_detrend_ydaymean.nc\")\n",
    "\n",
    "\n",
    "cdo.sub(input= f\"{out_string}_fldmean_detrend.nc {exp.control_aac_file}\",\n",
    "        output= f\"{out_string}_fldmean_detrend_aac.nc\")\n",
    "\n",
    "cdo.ydaymean(input= f\"-del29feb {out_string}_fldmean_detrend.nc\",\n",
    "             output = f\"{out_string}_fldmean_detrend_ydaymean_del29feb.nc\")\n",
    "\n",
    "\n",
    " cdo.del29feb(input = f\"{out_string}_fldmean_detrend.nc\",\n",
    "              output = f\"{out_string}_fldmean_detrend_del29feb.nc\"\n",
    "              \n",
    "cdo.sub(input= f\" {out_string}_fldmean_detrend_del29feb.nc {exp.control_aac_file_del29feb}\",\n",
    "        output= f\"{out_string}_fldmean_detrend_del29feb_aac.nc\")\n",
    "\n",
    "from src.Enumerations import Experiments\n",
    "\n",
    "\n",
    "for e in Experiments:\n",
    "    print (e.value.exp_name)"
   ]
  },
  {
   "cell_type": "code",
   "execution_count": 21,
   "id": "870d4465-e124-4ddb-89c9-9cccaa049a17",
   "metadata": {
    "tags": []
   },
   "outputs": [
    {
     "data": {
      "text/plain": [
       "src.Experiments_infos.ERA5"
      ]
     },
     "execution_count": 21,
     "metadata": {},
     "output_type": "execute_result"
    }
   ],
   "source": [
    "Experiments.ERA5.value"
   ]
  },
  {
   "cell_type": "code",
   "execution_count": 1,
   "id": "bd03ee34-4385-43d0-9305-5dca9a6fd5f1",
   "metadata": {
    "tags": []
   },
   "outputs": [
    {
     "ename": "KeyboardInterrupt",
     "evalue": "",
     "output_type": "error",
     "traceback": [
      "\u001b[0;31m---------------------------------------------------------------------------\u001b[0m",
      "\u001b[0;31mKeyboardInterrupt\u001b[0m                         Traceback (most recent call last)",
      "File \u001b[0;32m/work/aa0238/a271093/Scripts/MOAAP/src/clustering/clustering_preprocess_data.py:13\u001b[0m\n\u001b[1;32m      1\u001b[0m \u001b[38;5;124;03m\"\"\"\u001b[39;00m\n\u001b[1;32m      2\u001b[0m \u001b[38;5;124;03m    Preprocess geopotential heigth data for clustering according to Fabiano 2021:\u001b[39;00m\n\u001b[1;32m      3\u001b[0m \u001b[38;5;124;03m    - CNRM-ICON_control\u001b[39;00m\n\u001b[0;32m   (...)\u001b[0m\n\u001b[1;32m      8\u001b[0m \u001b[38;5;124;03m    \u001b[39;00m\n\u001b[1;32m      9\u001b[0m \u001b[38;5;124;03m\"\"\"\u001b[39;00m\n\u001b[1;32m     12\u001b[0m \u001b[38;5;28;01mfrom\u001b[39;00m \u001b[38;5;21;01mcdo\u001b[39;00m \u001b[38;5;28;01mimport\u001b[39;00m Cdo\n\u001b[0;32m---> 13\u001b[0m \u001b[38;5;28;01mfrom\u001b[39;00m \u001b[38;5;21;01msrc\u001b[39;00m\u001b[38;5;21;01m.\u001b[39;00m\u001b[38;5;21;01mEnumerations\u001b[39;00m \u001b[38;5;28;01mimport\u001b[39;00m Experiments, Season\n\u001b[1;32m     14\u001b[0m \u001b[38;5;28;01mimport\u001b[39;00m \u001b[38;5;21;01mos\u001b[39;00m\n\u001b[1;32m     18\u001b[0m \u001b[38;5;28;01mfor\u001b[39;00m EXP \u001b[38;5;129;01min\u001b[39;00m Experiments:\n\u001b[1;32m     19\u001b[0m \u001b[38;5;66;03m#for EXP in [Experiments.ERA5]:\u001b[39;00m\n",
      "File \u001b[0;32m/work/aa0238/a271093/Scripts/MOAAP/src/Enumerations.py:2\u001b[0m\n\u001b[1;32m      1\u001b[0m \u001b[38;5;28;01mfrom\u001b[39;00m \u001b[38;5;21;01menum\u001b[39;00m \u001b[38;5;28;01mimport\u001b[39;00m Enum, IntEnum\n\u001b[0;32m----> 2\u001b[0m \u001b[38;5;28;01mfrom\u001b[39;00m \u001b[38;5;21;01msrc\u001b[39;00m\u001b[38;5;21;01m.\u001b[39;00m\u001b[38;5;21;01mGridPoints\u001b[39;00m \u001b[38;5;28;01mimport\u001b[39;00m Domain\n\u001b[1;32m      3\u001b[0m \u001b[38;5;28;01mfrom\u001b[39;00m \u001b[38;5;21;01msrc\u001b[39;00m\u001b[38;5;21;01m.\u001b[39;00m\u001b[38;5;21;01mExperiments_infos\u001b[39;00m \u001b[38;5;28;01mimport\u001b[39;00m \u001b[38;5;241m*\u001b[39m\n\u001b[1;32m      6\u001b[0m \u001b[38;5;28;01mclass\u001b[39;00m \u001b[38;5;21;01mMonth\u001b[39;00m(IntEnum):\n",
      "File \u001b[0;32m/work/aa0238/a271093/Scripts/MOAAP/src/GridPoints.py:2\u001b[0m\n\u001b[1;32m      1\u001b[0m \u001b[38;5;28;01mfrom\u001b[39;00m \u001b[38;5;21;01m__future__\u001b[39;00m \u001b[38;5;28;01mimport\u001b[39;00m annotations\n\u001b[0;32m----> 2\u001b[0m \u001b[38;5;28;01mimport\u001b[39;00m \u001b[38;5;21;01mxarray\u001b[39;00m \u001b[38;5;28;01mas\u001b[39;00m \u001b[38;5;21;01mxr\u001b[39;00m\n\u001b[1;32m      3\u001b[0m \u001b[38;5;28;01mimport\u001b[39;00m \u001b[38;5;21;01mnumpy\u001b[39;00m \u001b[38;5;28;01mas\u001b[39;00m \u001b[38;5;21;01mnp\u001b[39;00m\n\u001b[1;32m      4\u001b[0m \u001b[38;5;28;01mimport\u001b[39;00m \u001b[38;5;21;01mcartopy\u001b[39;00m\u001b[38;5;21;01m.\u001b[39;00m\u001b[38;5;21;01mcrs\u001b[39;00m \u001b[38;5;28;01mas\u001b[39;00m \u001b[38;5;21;01mccrs\u001b[39;00m\n",
      "File \u001b[0;32m/work/aa0238/a271093/Conda/MOAAP_env/lib/python3.12/site-packages/xarray/__init__.py:3\u001b[0m\n\u001b[1;32m      1\u001b[0m \u001b[38;5;28;01mfrom\u001b[39;00m \u001b[38;5;21;01mimportlib\u001b[39;00m\u001b[38;5;21;01m.\u001b[39;00m\u001b[38;5;21;01mmetadata\u001b[39;00m \u001b[38;5;28;01mimport\u001b[39;00m version \u001b[38;5;28;01mas\u001b[39;00m _version\n\u001b[0;32m----> 3\u001b[0m \u001b[38;5;28;01mfrom\u001b[39;00m \u001b[38;5;21;01mxarray\u001b[39;00m \u001b[38;5;28;01mimport\u001b[39;00m testing, tutorial\n\u001b[1;32m      4\u001b[0m \u001b[38;5;28;01mfrom\u001b[39;00m \u001b[38;5;21;01mxarray\u001b[39;00m\u001b[38;5;21;01m.\u001b[39;00m\u001b[38;5;21;01mbackends\u001b[39;00m\u001b[38;5;21;01m.\u001b[39;00m\u001b[38;5;21;01mapi\u001b[39;00m \u001b[38;5;28;01mimport\u001b[39;00m (\n\u001b[1;32m      5\u001b[0m     load_dataarray,\n\u001b[1;32m      6\u001b[0m     load_dataset,\n\u001b[0;32m   (...)\u001b[0m\n\u001b[1;32m     10\u001b[0m     save_mfdataset,\n\u001b[1;32m     11\u001b[0m )\n\u001b[1;32m     12\u001b[0m \u001b[38;5;28;01mfrom\u001b[39;00m \u001b[38;5;21;01mxarray\u001b[39;00m\u001b[38;5;21;01m.\u001b[39;00m\u001b[38;5;21;01mbackends\u001b[39;00m\u001b[38;5;21;01m.\u001b[39;00m\u001b[38;5;21;01mzarr\u001b[39;00m \u001b[38;5;28;01mimport\u001b[39;00m open_zarr\n",
      "File \u001b[0;32m/work/aa0238/a271093/Conda/MOAAP_env/lib/python3.12/site-packages/xarray/tutorial.py:17\u001b[0m\n\u001b[1;32m     13\u001b[0m \u001b[38;5;28;01mfrom\u001b[39;00m \u001b[38;5;21;01mtyping\u001b[39;00m \u001b[38;5;28;01mimport\u001b[39;00m TYPE_CHECKING\n\u001b[1;32m     15\u001b[0m \u001b[38;5;28;01mimport\u001b[39;00m \u001b[38;5;21;01mnumpy\u001b[39;00m \u001b[38;5;28;01mas\u001b[39;00m \u001b[38;5;21;01mnp\u001b[39;00m\n\u001b[0;32m---> 17\u001b[0m \u001b[38;5;28;01mfrom\u001b[39;00m \u001b[38;5;21;01mxarray\u001b[39;00m\u001b[38;5;21;01m.\u001b[39;00m\u001b[38;5;21;01mbackends\u001b[39;00m\u001b[38;5;21;01m.\u001b[39;00m\u001b[38;5;21;01mapi\u001b[39;00m \u001b[38;5;28;01mimport\u001b[39;00m open_dataset \u001b[38;5;28;01mas\u001b[39;00m _open_dataset\n\u001b[1;32m     18\u001b[0m \u001b[38;5;28;01mfrom\u001b[39;00m \u001b[38;5;21;01mxarray\u001b[39;00m\u001b[38;5;21;01m.\u001b[39;00m\u001b[38;5;21;01mcore\u001b[39;00m\u001b[38;5;21;01m.\u001b[39;00m\u001b[38;5;21;01mdataarray\u001b[39;00m \u001b[38;5;28;01mimport\u001b[39;00m DataArray\n\u001b[1;32m     19\u001b[0m \u001b[38;5;28;01mfrom\u001b[39;00m \u001b[38;5;21;01mxarray\u001b[39;00m\u001b[38;5;21;01m.\u001b[39;00m\u001b[38;5;21;01mcore\u001b[39;00m\u001b[38;5;21;01m.\u001b[39;00m\u001b[38;5;21;01mdataset\u001b[39;00m \u001b[38;5;28;01mimport\u001b[39;00m Dataset\n",
      "File \u001b[0;32m/work/aa0238/a271093/Conda/MOAAP_env/lib/python3.12/site-packages/xarray/backends/__init__.py:13\u001b[0m\n\u001b[1;32m      7\u001b[0m \u001b[38;5;28;01mfrom\u001b[39;00m \u001b[38;5;21;01mxarray\u001b[39;00m\u001b[38;5;21;01m.\u001b[39;00m\u001b[38;5;21;01mbackends\u001b[39;00m\u001b[38;5;21;01m.\u001b[39;00m\u001b[38;5;21;01mcommon\u001b[39;00m \u001b[38;5;28;01mimport\u001b[39;00m AbstractDataStore, BackendArray, BackendEntrypoint\n\u001b[1;32m      8\u001b[0m \u001b[38;5;28;01mfrom\u001b[39;00m \u001b[38;5;21;01mxarray\u001b[39;00m\u001b[38;5;21;01m.\u001b[39;00m\u001b[38;5;21;01mbackends\u001b[39;00m\u001b[38;5;21;01m.\u001b[39;00m\u001b[38;5;21;01mfile_manager\u001b[39;00m \u001b[38;5;28;01mimport\u001b[39;00m (\n\u001b[1;32m      9\u001b[0m     CachingFileManager,\n\u001b[1;32m     10\u001b[0m     DummyFileManager,\n\u001b[1;32m     11\u001b[0m     FileManager,\n\u001b[1;32m     12\u001b[0m )\n\u001b[0;32m---> 13\u001b[0m \u001b[38;5;28;01mfrom\u001b[39;00m \u001b[38;5;21;01mxarray\u001b[39;00m\u001b[38;5;21;01m.\u001b[39;00m\u001b[38;5;21;01mbackends\u001b[39;00m\u001b[38;5;21;01m.\u001b[39;00m\u001b[38;5;21;01mh5netcdf_\u001b[39;00m \u001b[38;5;28;01mimport\u001b[39;00m H5netcdfBackendEntrypoint, H5NetCDFStore\n\u001b[1;32m     14\u001b[0m \u001b[38;5;28;01mfrom\u001b[39;00m \u001b[38;5;21;01mxarray\u001b[39;00m\u001b[38;5;21;01m.\u001b[39;00m\u001b[38;5;21;01mbackends\u001b[39;00m\u001b[38;5;21;01m.\u001b[39;00m\u001b[38;5;21;01mmemory\u001b[39;00m \u001b[38;5;28;01mimport\u001b[39;00m InMemoryDataStore\n\u001b[1;32m     15\u001b[0m \u001b[38;5;28;01mfrom\u001b[39;00m \u001b[38;5;21;01mxarray\u001b[39;00m\u001b[38;5;21;01m.\u001b[39;00m\u001b[38;5;21;01mbackends\u001b[39;00m\u001b[38;5;21;01m.\u001b[39;00m\u001b[38;5;21;01mnetCDF4_\u001b[39;00m \u001b[38;5;28;01mimport\u001b[39;00m NetCDF4BackendEntrypoint, NetCDF4DataStore\n",
      "File \u001b[0;32m<frozen importlib._bootstrap>:1360\u001b[0m, in \u001b[0;36m_find_and_load\u001b[0;34m(name, import_)\u001b[0m\n",
      "File \u001b[0;32m<frozen importlib._bootstrap>:1331\u001b[0m, in \u001b[0;36m_find_and_load_unlocked\u001b[0;34m(name, import_)\u001b[0m\n",
      "File \u001b[0;32m<frozen importlib._bootstrap>:935\u001b[0m, in \u001b[0;36m_load_unlocked\u001b[0;34m(spec)\u001b[0m\n",
      "File \u001b[0;32m<frozen importlib._bootstrap_external>:991\u001b[0m, in \u001b[0;36mexec_module\u001b[0;34m(self, module)\u001b[0m\n",
      "File \u001b[0;32m<frozen importlib._bootstrap_external>:1087\u001b[0m, in \u001b[0;36mget_code\u001b[0;34m(self, fullname)\u001b[0m\n",
      "File \u001b[0;32m<frozen importlib._bootstrap_external>:1187\u001b[0m, in \u001b[0;36mget_data\u001b[0;34m(self, path)\u001b[0m\n",
      "\u001b[0;31mKeyboardInterrupt\u001b[0m: "
     ]
    }
   ],
   "source": [
    "%run /work/aa0238/a271093/Scripts/MOAAP/src/clustering/clustering_preprocess_data.py"
   ]
  },
  {
   "cell_type": "code",
   "execution_count": 45,
   "id": "716bcbe3-3080-43ca-94b9-0b34bc5df6c6",
   "metadata": {
    "tags": []
   },
   "outputs": [],
   "source": [
    "d=Experiments.ERA5.value"
   ]
  },
  {
   "cell_type": "code",
   "execution_count": 51,
   "id": "85ffccd4-46e0-44e4-864d-0e4dc1540110",
   "metadata": {
    "tags": []
   },
   "outputs": [
    {
     "name": "stdout",
     "output_type": "stream",
     "text": [
      "NORESM_ICON_control\n",
      "CNRM_ICON_control\n",
      "CNRM_ICON_SSP\n",
      "NorESM_ICON_SSP\n",
      "ERA5\n"
     ]
    }
   ],
   "source": [
    "for EXP in Experiments:\n",
    "    print (EXP.value.exp_name)"
   ]
  },
  {
   "cell_type": "code",
   "execution_count": 39,
   "id": "d23bc831-212f-457a-beb1-d19b0bf6b62b",
   "metadata": {
    "tags": []
   },
   "outputs": [
    {
     "ename": "KeyError",
     "evalue": "slice(2, None, None)",
     "output_type": "error",
     "traceback": [
      "\u001b[0;31m---------------------------------------------------------------------------\u001b[0m",
      "\u001b[0;31mKeyError\u001b[0m                                  Traceback (most recent call last)",
      "Cell \u001b[0;32mIn[39], line 1\u001b[0m\n\u001b[0;32m----> 1\u001b[0m \u001b[38;5;28;01mfor\u001b[39;00m e \u001b[38;5;129;01min\u001b[39;00m \u001b[43mExperiments\u001b[49m\u001b[43m[\u001b[49m\u001b[38;5;241;43m2\u001b[39;49m\u001b[43m:\u001b[49m\u001b[43m]\u001b[49m:\n\u001b[1;32m      2\u001b[0m     \u001b[38;5;28mprint\u001b[39m (e)\n",
      "File \u001b[0;32m/work/aa0238/a271093/Conda/MOAAP_env/lib/python3.12/enum.py:801\u001b[0m, in \u001b[0;36mEnumType.__getitem__\u001b[0;34m(cls, name)\u001b[0m\n\u001b[1;32m    797\u001b[0m \u001b[38;5;28;01mdef\u001b[39;00m \u001b[38;5;21m__getitem__\u001b[39m(\u001b[38;5;28mcls\u001b[39m, name):\n\u001b[1;32m    798\u001b[0m \u001b[38;5;250m    \u001b[39m\u001b[38;5;124;03m\"\"\"\u001b[39;00m\n\u001b[1;32m    799\u001b[0m \u001b[38;5;124;03m    Return the member matching `name`.\u001b[39;00m\n\u001b[1;32m    800\u001b[0m \u001b[38;5;124;03m    \"\"\"\u001b[39;00m\n\u001b[0;32m--> 801\u001b[0m     \u001b[38;5;28;01mreturn\u001b[39;00m \u001b[38;5;28;43mcls\u001b[39;49m\u001b[38;5;241;43m.\u001b[39;49m\u001b[43m_member_map_\u001b[49m\u001b[43m[\u001b[49m\u001b[43mname\u001b[49m\u001b[43m]\u001b[49m\n",
      "\u001b[0;31mKeyError\u001b[0m: slice(2, None, None)"
     ]
    }
   ],
   "source": [
    "for e in Experiments[2:]:\n",
    "    print (e)"
   ]
  },
  {
   "cell_type": "code",
   "execution_count": 40,
   "id": "691038c6-47f4-4a83-b55d-c746d73dedc3",
   "metadata": {
    "tags": []
   },
   "outputs": [
    {
     "data": {
      "text/plain": [
       "<enum 'Experiments'>"
      ]
     },
     "execution_count": 40,
     "metadata": {},
     "output_type": "execute_result"
    }
   ],
   "source": [
    "Experiments"
   ]
  },
  {
   "cell_type": "code",
   "execution_count": null,
   "id": "0ab7ca01-defd-48ef-9eb2-dc2e11077bf5",
   "metadata": {},
   "outputs": [],
   "source": []
  }
 ],
 "metadata": {
  "kernelspec": {
   "display_name": "MOAAP-Kernel",
   "language": "python",
   "name": "moaap_kernel"
  },
  "language_info": {
   "codemirror_mode": {
    "name": "ipython",
    "version": 3
   },
   "file_extension": ".py",
   "mimetype": "text/x-python",
   "name": "python",
   "nbconvert_exporter": "python",
   "pygments_lexer": "ipython3",
   "version": "3.12.2"
  }
 },
 "nbformat": 4,
 "nbformat_minor": 5
}
