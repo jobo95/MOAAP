{
 "cells": [
  {
   "cell_type": "markdown",
   "id": "b60ecf07-9d38-4cee-897f-d3bb9073d45c",
   "metadata": {
    "tags": []
   },
   "source": [
    "# Postprocess ICON and ERA5 slp data for clustering algorithm\n",
    "- mergetime individual files to one file\n",
    "- compute daymean\n",
    "- select years\n",
    "- remap to regerence grid (regular lon-lat, 1°)\n",
    "-  convert Pa to hPa"
   ]
  },
  {
   "cell_type": "code",
   "execution_count": 5,
   "id": "4f64c5f3-7045-4428-814d-332af2372cf3",
   "metadata": {
    "tags": []
   },
   "outputs": [
    {
     "name": "stdout",
     "output_type": "stream",
     "text": [
      "The autoreload extension is already loaded. To reload it, use:\n",
      "  %reload_ext autoreload\n"
     ]
    }
   ],
   "source": [
    "%load_ext autoreload\n",
    "%autoreload 2\n",
    "import xarray as xr\n",
    "import glob\n",
    "from cdo import Cdo\n",
    "import os\n",
    "from src.Experiments_infos import Data"
   ]
  },
  {
   "cell_type": "code",
   "execution_count": 6,
   "id": "a861d5aa-df73-4b8d-afc0-4c9a05984d34",
   "metadata": {
    "tags": []
   },
   "outputs": [],
   "source": [
    "\n",
    "\n",
    "year_start = 1984\n",
    "year_end =2014\n",
    "out_file = f'slp_daymean_{year_start}-{year_end}_remapped_3x'\n",
    "\n",
    "#exp = Data.ICON_NORESM_EXP\n",
    "exp = Data.ERA5"
   ]
  },
  {
   "cell_type": "code",
   "execution_count": 7,
   "id": "2f09d7f0-b38b-43ad-b9fd-7ed2148d0947",
   "metadata": {
    "tags": []
   },
   "outputs": [],
   "source": [
    "\n",
    "###ICON###\n",
    "#os.system(f\"cp -r {exp.slp_path_raw}/* {exp.slp_path}\")\n",
    "#paths = sorted(glob.glob(exp.slp_path+f'/PMSL_*010100-*123123.ncz'))\n",
    "\n",
    "###ERA5#####\n",
    "\n",
    "paths = sorted(glob.glob(exp.slp_path_raw+f'/psl_1hr_reanalysis_era5_r1i1p1_*-*.nc'))[500:-80]\n"
   ]
  },
  {
   "cell_type": "code",
   "execution_count": 8,
   "id": "3d6c89b2-7049-4715-b85d-e00b9ffa1c24",
   "metadata": {
    "tags": []
   },
   "outputs": [
    {
     "data": {
      "text/plain": [
       "'/work/aa0238/a271093/data/ERA5/1984-2014/remapped_ICON_reg_30km/slp/'"
      ]
     },
     "execution_count": 8,
     "metadata": {},
     "output_type": "execute_result"
    }
   ],
   "source": [
    " exp.slp_path"
   ]
  },
  {
   "cell_type": "code",
   "execution_count": 10,
   "id": "0eed4816-c8d9-42b4-88a9-7842042304de",
   "metadata": {
    "tags": []
   },
   "outputs": [
    {
     "data": {
      "text/plain": [
       "'/work/aa0238/a271093/data/ERA5/1984-2014/remapped_ICON_reg_30km/slp/dummy1.nc'"
      ]
     },
     "execution_count": 10,
     "metadata": {},
     "output_type": "execute_result"
    }
   ],
   "source": [
    "cdo = Cdo()\n",
    "cdo.selyear(f'{year_start}/{year_end}',\n",
    "            input = '-daymean -mergetime '+' '.join(paths),\n",
    "           output = f'{exp.slp_path}dummy1.nc' )"
   ]
  },
  {
   "cell_type": "code",
   "execution_count": 5,
   "id": "a6057fcf-8f15-4d24-89c1-c50563998a30",
   "metadata": {
    "tags": []
   },
   "outputs": [
    {
     "data": {
      "text/plain": [
       "'/work/aa0238/a271093/data/Jan_runs/ICON_NorESM_control/NorESM_control_remapped_3x/slp/slp_daymean_1984-2015_remapped_3x.nc'"
      ]
     },
     "execution_count": 5,
     "metadata": {},
     "output_type": "execute_result"
    }
   ],
   "source": [
    "cdo.remapbil(exp.clustering_target_grid,\n",
    "             input = f'-setattribute,{exp.slp_nc}@units=hPa -divc,100 {exp.slp_path}dummy1.nc',\n",
    "             output = f'{exp.slp_path}{out_file}.nc')\n",
    "             "
   ]
  },
  {
   "cell_type": "code",
   "execution_count": 6,
   "id": "c347e833-c74c-402f-b452-fd5d620e4d13",
   "metadata": {
    "tags": []
   },
   "outputs": [
    {
     "data": {
      "text/plain": [
       "'/work/aa0238/a271093/data/Jan_runs/ICON_NorESM_control/NorESM_control_remapped_3x/slp/dummy2.nc'"
      ]
     },
     "execution_count": 6,
     "metadata": {},
     "output_type": "execute_result"
    }
   ],
   "source": [
    "cdo.ydaymean(input = f'{exp.slp_path}{out_file}.nc',\n",
    "             output =  f'{exp.slp_path}dummy2.nc')"
   ]
  },
  {
   "cell_type": "code",
   "execution_count": 7,
   "id": "36219c29-d6f2-4662-a586-7e354c47c05a",
   "metadata": {
    "tags": []
   },
   "outputs": [
    {
     "data": {
      "text/plain": [
       "'/work/aa0238/a271093/data/Jan_runs/ICON_NorESM_control/NorESM_control_remapped_3x/slp/slp_daymean_1984-2015_remapped_3x_aac.nc'"
      ]
     },
     "execution_count": 7,
     "metadata": {},
     "output_type": "execute_result"
    }
   ],
   "source": [
    "cdo.sub(input= f'{exp.slp_path}{out_file}.nc  {exp.slp_path}dummy2.nc',\n",
    "        output=f'{exp.slp_path}{out_file}_aac.nc')\n"
   ]
  },
  {
   "cell_type": "code",
   "execution_count": 8,
   "id": "3db8b53f-3bb0-455c-b95a-d4cd7e2984f0",
   "metadata": {
    "tags": []
   },
   "outputs": [],
   "source": [
    "#for path in paths:\n",
    "#    os.system(f\"rm {path}\")\n",
    "    "
   ]
  },
  {
   "cell_type": "code",
   "execution_count": 9,
   "id": "0c11f5f8-e24e-412b-b217-3d8c1f7c9f4a",
   "metadata": {
    "tags": []
   },
   "outputs": [
    {
     "data": {
      "text/plain": [
       "0"
      ]
     },
     "execution_count": 9,
     "metadata": {},
     "output_type": "execute_result"
    }
   ],
   "source": [
    "os.system(f\"rm \"+exp.slp_path+\"dummy1.nc\")\n",
    "os.system(f\"rm \"+exp.slp_path+\"dummy2.nc\")"
   ]
  },
  {
   "cell_type": "code",
   "execution_count": null,
   "id": "7558fce2-1811-4646-b849-bd251c291f6f",
   "metadata": {
    "tags": []
   },
   "outputs": [],
   "source": []
  },
  {
   "cell_type": "code",
   "execution_count": null,
   "id": "94471e52-2167-445e-900f-9d8ba5cef617",
   "metadata": {},
   "outputs": [],
   "source": []
  }
 ],
 "metadata": {
  "kernelspec": {
   "display_name": "MOAAP-Kernel",
   "language": "python",
   "name": "moaap_kernel"
  },
  "language_info": {
   "codemirror_mode": {
    "name": "ipython",
    "version": 3
   },
   "file_extension": ".py",
   "mimetype": "text/x-python",
   "name": "python",
   "nbconvert_exporter": "python",
   "pygments_lexer": "ipython3",
   "version": "3.12.2"
  }
 },
 "nbformat": 4,
 "nbformat_minor": 5
}
