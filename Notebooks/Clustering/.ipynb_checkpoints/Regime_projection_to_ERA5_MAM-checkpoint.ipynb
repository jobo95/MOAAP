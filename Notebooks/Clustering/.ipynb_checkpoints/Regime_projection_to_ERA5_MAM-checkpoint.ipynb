{
 "cells": [
  {
   "cell_type": "code",
   "execution_count": null,
   "id": "780a410a-fbdd-4e54-b97e-9b98402ec76a",
   "metadata": {},
   "outputs": [],
   "source": []
  },
  {
   "cell_type": "code",
   "execution_count": 6,
   "id": "7d869ba9-6eb6-4f92-8abd-e4d273cc25a7",
   "metadata": {
    "tags": []
   },
   "outputs": [
    {
     "name": "stdout",
     "output_type": "stream",
     "text": [
      "The autoreload extension is already loaded. To reload it, use:\n",
      "  %reload_ext autoreload\n"
     ]
    }
   ],
   "source": [
    "%load_ext autoreload\n",
    "%autoreload 2\n",
    "\n",
    "import numpy as np\n",
    "from sklearn import decomposition, cluster\n",
    "import xarray as xr\n",
    "import os\n",
    "from src.clustering.clustering_utils import *\n",
    "from src.Enumerations import Season, Experiments\n",
    "from src.clustering.cluster_computation import compute_and_save_cluster\n",
    "from src.utils import *\n",
    "#%run /work/aa0238/a271093/Scripts/MOAAP/src/clustering/clustering_preprocess_data.py"
   ]
  },
  {
   "cell_type": "code",
   "execution_count": 8,
   "id": "6c15719e-e4c6-420b-aa78-d7878f4d9a04",
   "metadata": {
    "tags": []
   },
   "outputs": [],
   "source": [
    "num_cluster =5\n",
    "level=70000\n",
    "season = Season.JJA"
   ]
  },
  {
   "cell_type": "code",
   "execution_count": 7,
   "id": "f4d69893-5793-40ed-9f2e-839a076a9ec5",
   "metadata": {
    "tags": []
   },
   "outputs": [],
   "source": [
    "#save_as_pkl(d['lat'],\"/work/aa0238/a271093/data/clustering/regime_output/centroids/latitude\")\n",
    "#save_as_pkl(d['lon'],\"/work/aa0238/a271093/data/clustering/regime_output/centroids/longitude\")"
   ]
  },
  {
   "cell_type": "markdown",
   "id": "82a3b089-c29d-4233-9238-2dd197f29c6d",
   "metadata": {
    "tags": []
   },
   "source": [
    "# Compute and save the ERA5 reference regime clusters and PCs (1984-2014)"
   ]
  },
  {
   "cell_type": "code",
   "execution_count": null,
   "id": "ae556dc8-b26f-4387-a01d-150ca1073e0a",
   "metadata": {
    "tags": []
   },
   "outputs": [
    {
     "name": "stdout",
     "output_type": "stream",
     "text": [
      "##############################\n",
      "ERA5\n",
      "##############################\n",
      "fitted new pca\n",
      "saved pca /work/aa0238/a271093/data/clustering/regime_output/PCA/PCA_ERA5_gph70000_1984_2014_reglonlat_-90_90_20_88_1deg_JJA_fldmean_detrend_del29feb_aac_20PCs\n"
     ]
    }
   ],
   "source": [
    "d=compute_and_save_cluster(Experiments.ERA5,\n",
    "                           season = season,\n",
    "                           num_iter=1000,\n",
    "                           save_pca=True,\n",
    "                           level=level,\n",
    "                           num_cluster = num_cluster,\n",
    "                           save_kmeans = True,\n",
    "                           save_centroids = True,\n",
    "                           save_BMUs = True\n",
    "                          )"
   ]
  },
  {
   "cell_type": "markdown",
   "id": "61722356-97dd-40c0-aa73-5f2ca5e5e385",
   "metadata": {
    "tags": []
   },
   "source": [
    "# plot ERA5 reference regime centroids "
   ]
  },
  {
   "cell_type": "code",
   "execution_count": null,
   "id": "7758fa0c-7f47-413d-bab7-94ce5bca0e35",
   "metadata": {
    "tags": []
   },
   "outputs": [],
   "source": [
    "lat = d['lat']\n",
    "lon = d['lon']\n",
    "plot_dat = d['cluster_centers'].reshape(-1,lat.size,lon.size)\n",
    "\n",
    "fig_cluster = plot_cluster_3D(plot_dat,lat,lon,\n",
    "                                plot_size=(35, 15),\n",
    "                                plot_shape=[1,num_cluster],\n",
    "                                cbar_size=1,\n",
    "                                cbar_ticks=np.arange(-100,101,20),\n",
    "                                font_size=17,\n",
    "                                unit='gpm',\n",
    "                                color_lev = np.arange(-120,121,20),\n",
    "                                titles =list(cluster_names_dict.values()))\n",
    "\n"
   ]
  },
  {
   "cell_type": "markdown",
   "id": "38de3cc1-8c7b-42d9-86e5-7911c5bc031a",
   "metadata": {
    "tags": []
   },
   "source": [
    "# Set regime names according to the ERA5 Kmeans result"
   ]
  },
  {
   "cell_type": "code",
   "execution_count": 19,
   "id": "321b41fb-6d29-4c8c-ba7c-e0d67a1c0951",
   "metadata": {
    "tags": []
   },
   "outputs": [],
   "source": [
    "cluster_names_dict = {0:'SP-ATL+',\n",
    "                      1:'SP-SCAN',\n",
    "                      2:'SP-DIP',\n",
    "                      3:'SP-NAO-',\n",
    "                      4:\"SP-NAO+\"\n",
    "                      }\n",
    "\n",
    "#ERA_kmeans_pkl_file = \"/work/aa0238/a271093/data/clustering/regime_output/Kmeans/Kmeans_ERA5_gph70000_1984_2014_reglonlat_-90_90_20_88_1deg_DJF_fldmean_detrend_del29feb_aac_20PCs_4clusters\"\n",
    "\n",
    "#add_regime_names_to_pkl_file(regime_names_dict, ERA_kmeans_pkl_file)"
   ]
  },
  {
   "cell_type": "markdown",
   "id": "cf96258a-821e-43d1-b673-ec5a104f01d7",
   "metadata": {
    "tags": []
   },
   "source": [
    "# 1.Project Experiment gph data to PCs computed from ERA5 \n",
    "# 2.Allocate the Experiment gph data to the different ERA5 clusters wihtin the reduced phase phase"
   ]
  },
  {
   "cell_type": "code",
   "execution_count": 20,
   "id": "83f103bc-2153-4051-bacb-59c6a2251a38",
   "metadata": {
    "tags": []
   },
   "outputs": [
    {
     "name": "stdout",
     "output_type": "stream",
     "text": [
      "##############################\n",
      "CNRM_ICON_control\n",
      "##############################\n",
      "loaded pca /work/aa0238/a271093/data/clustering/regime_output/PCA/PCA_ERA5_gph70000_1984_2014_reglonlat_-90_90_20_88_1deg_MAM_fldmean_detrend_del29feb_aac_20PCs\n",
      "loaded kmeans /work/aa0238/a271093/data/clustering/regime_output/Kmeans/Kmeans_ERA5_gph70000_1984_2014_reglonlat_-90_90_20_88_1deg_MAM_fldmean_detrend_del29feb_aac_20PCs_5clusters\n",
      "added regime names to BMU Dataframe\n",
      "saved BMUs in /work/aa0238/a271093/data/clustering/regime_output/BMU/CNRM_ICON_control_gph70000_1984_2014_reglonlat_-90_90_20_88_1deg_MAM_fldmean_detrend_del29feb_aac_20PCs_5clusters_Ref_ERA5KmeansPCA.csv\n",
      "##############################\n",
      "NORESM_ICON_control\n",
      "##############################\n",
      "loaded pca /work/aa0238/a271093/data/clustering/regime_output/PCA/PCA_ERA5_gph70000_1984_2014_reglonlat_-90_90_20_88_1deg_MAM_fldmean_detrend_del29feb_aac_20PCs\n",
      "loaded kmeans /work/aa0238/a271093/data/clustering/regime_output/Kmeans/Kmeans_ERA5_gph70000_1984_2014_reglonlat_-90_90_20_88_1deg_MAM_fldmean_detrend_del29feb_aac_20PCs_5clusters\n",
      "added regime names to BMU Dataframe\n",
      "saved BMUs in /work/aa0238/a271093/data/clustering/regime_output/BMU/NORESM_ICON_control_gph70000_1984_2014_reglonlat_-90_90_20_88_1deg_MAM_fldmean_detrend_del29feb_aac_20PCs_5clusters_Ref_ERA5KmeansPCA.csv\n",
      "##############################\n",
      "CNRM_ICON_SSP\n",
      "##############################\n",
      "loaded pca /work/aa0238/a271093/data/clustering/regime_output/PCA/PCA_ERA5_gph70000_1984_2014_reglonlat_-90_90_20_88_1deg_MAM_fldmean_detrend_del29feb_aac_20PCs\n",
      "loaded kmeans /work/aa0238/a271093/data/clustering/regime_output/Kmeans/Kmeans_ERA5_gph70000_1984_2014_reglonlat_-90_90_20_88_1deg_MAM_fldmean_detrend_del29feb_aac_20PCs_5clusters\n",
      "added regime names to BMU Dataframe\n",
      "saved BMUs in /work/aa0238/a271093/data/clustering/regime_output/BMU/CNRM_ICON_SSP_gph70000_2015_2100_reglonlat_-90_90_20_88_1deg_MAM_fldmean_detrend_del29feb_aac_20PCs_5clusters_Ref_ERA5KmeansPCA.csv\n",
      "##############################\n",
      "NorESM_ICON_SSP\n",
      "##############################\n",
      "loaded pca /work/aa0238/a271093/data/clustering/regime_output/PCA/PCA_ERA5_gph70000_1984_2014_reglonlat_-90_90_20_88_1deg_MAM_fldmean_detrend_del29feb_aac_20PCs\n",
      "loaded kmeans /work/aa0238/a271093/data/clustering/regime_output/Kmeans/Kmeans_ERA5_gph70000_1984_2014_reglonlat_-90_90_20_88_1deg_MAM_fldmean_detrend_del29feb_aac_20PCs_5clusters\n",
      "added regime names to BMU Dataframe\n",
      "saved BMUs in /work/aa0238/a271093/data/clustering/regime_output/BMU/NorESM_ICON_SSP_gph70000_2015_2100_reglonlat_-90_90_20_88_1deg_MAM_fldmean_detrend_del29feb_aac_20PCs_5clusters_Ref_ERA5KmeansPCA.csv\n",
      "##############################\n",
      "ERA5\n",
      "##############################\n",
      "loaded pca /work/aa0238/a271093/data/clustering/regime_output/PCA/PCA_ERA5_gph70000_1984_2014_reglonlat_-90_90_20_88_1deg_MAM_fldmean_detrend_del29feb_aac_20PCs\n",
      "loaded kmeans /work/aa0238/a271093/data/clustering/regime_output/Kmeans/Kmeans_ERA5_gph70000_1984_2014_reglonlat_-90_90_20_88_1deg_MAM_fldmean_detrend_del29feb_aac_20PCs_5clusters\n",
      "added regime names to BMU Dataframe\n",
      "saved BMUs in /work/aa0238/a271093/data/clustering/regime_output/BMU/ERA5_gph70000_1984_2014_reglonlat_-90_90_20_88_1deg_MAM_fldmean_detrend_del29feb_aac_20PCs_5clusters_Ref_ERA5KmeansPCA.csv\n"
     ]
    },
    {
     "ename": "AttributeError",
     "evalue": "type object 'ICON_ERA5' has no attribute 'clustering_data_path'",
     "output_type": "error",
     "traceback": [
      "\u001b[0;31m---------------------------------------------------------------------------\u001b[0m",
      "\u001b[0;31mAttributeError\u001b[0m                            Traceback (most recent call last)",
      "Cell \u001b[0;32mIn[20], line 5\u001b[0m\n\u001b[1;32m      2\u001b[0m kmeans_ref \u001b[38;5;241m=\u001b[39m \u001b[38;5;124mf\u001b[39m\u001b[38;5;124m'\u001b[39m\u001b[38;5;124m/work/aa0238/a271093/data/clustering/regime_output/Kmeans/Kmeans_ERA5_gph\u001b[39m\u001b[38;5;132;01m{\u001b[39;00mlevel\u001b[38;5;132;01m}\u001b[39;00m\u001b[38;5;124m_1984_2014_reglonlat_-90_90_20_88_1deg_\u001b[39m\u001b[38;5;132;01m{\u001b[39;00mseason\u001b[38;5;241m.\u001b[39mname\u001b[38;5;132;01m}\u001b[39;00m\u001b[38;5;124m_fldmean_detrend_del29feb_aac_20PCs_\u001b[39m\u001b[38;5;132;01m{\u001b[39;00mnum_cluster\u001b[38;5;132;01m}\u001b[39;00m\u001b[38;5;124mclusters\u001b[39m\u001b[38;5;124m'\u001b[39m\n\u001b[1;32m      3\u001b[0m \u001b[38;5;28;01mfor\u001b[39;00m EXP \u001b[38;5;129;01min\u001b[39;00m Experiments:\n\u001b[0;32m----> 5\u001b[0m     \u001b[43mcompute_and_save_cluster\u001b[49m\u001b[43m(\u001b[49m\u001b[43mEXP\u001b[49m\u001b[43m,\u001b[49m\n\u001b[1;32m      6\u001b[0m \u001b[43m                             \u001b[49m\u001b[43mseason\u001b[49m\u001b[38;5;241;43m=\u001b[39;49m\u001b[43mseason\u001b[49m\u001b[43m,\u001b[49m\n\u001b[1;32m      7\u001b[0m \u001b[43m                            \u001b[49m\u001b[43mpca_ref\u001b[49m\u001b[43m \u001b[49m\u001b[38;5;241;43m=\u001b[39;49m\u001b[43m \u001b[49m\u001b[43mpca_ref\u001b[49m\u001b[43m,\u001b[49m\n\u001b[1;32m      8\u001b[0m \u001b[43m                            \u001b[49m\u001b[43mkmeans_ref\u001b[49m\u001b[43m \u001b[49m\u001b[38;5;241;43m=\u001b[39;49m\u001b[43m \u001b[49m\u001b[43mkmeans_ref\u001b[49m\u001b[43m,\u001b[49m\n\u001b[1;32m      9\u001b[0m \u001b[43m                             \u001b[49m\u001b[43mnum_cluster\u001b[49m\u001b[43m \u001b[49m\u001b[38;5;241;43m=\u001b[39;49m\u001b[43m \u001b[49m\u001b[43mnum_cluster\u001b[49m\u001b[43m,\u001b[49m\n\u001b[1;32m     10\u001b[0m \u001b[43m                             \u001b[49m\u001b[43mlevel\u001b[49m\u001b[38;5;241;43m=\u001b[39;49m\u001b[43mlevel\u001b[49m\u001b[43m,\u001b[49m\n\u001b[1;32m     11\u001b[0m \u001b[43m                            \u001b[49m\u001b[43msave_BMUs\u001b[49m\u001b[43m \u001b[49m\u001b[38;5;241;43m=\u001b[39;49m\u001b[43m \u001b[49m\u001b[38;5;28;43;01mTrue\u001b[39;49;00m\u001b[43m,\u001b[49m\n\u001b[1;32m     12\u001b[0m \u001b[43m                            \u001b[49m\u001b[43mcluster_names_dict\u001b[49m\u001b[43m \u001b[49m\u001b[38;5;241;43m=\u001b[39;49m\u001b[43m \u001b[49m\u001b[43mcluster_names_dict\u001b[49m\u001b[43m,\u001b[49m\n\u001b[1;32m     13\u001b[0m \u001b[43m                            \u001b[49m\u001b[43mBMU_projection_flag\u001b[49m\u001b[43m \u001b[49m\u001b[38;5;241;43m=\u001b[39;49m\u001b[43m \u001b[49m\u001b[38;5;124;43m\"\u001b[39;49m\u001b[38;5;124;43m_Ref_ERA5KmeansPCA\u001b[39;49m\u001b[38;5;124;43m\"\u001b[39;49m\n\u001b[1;32m     14\u001b[0m \u001b[43m                          \u001b[49m\u001b[43m)\u001b[49m\n",
      "File \u001b[0;32m/work/aa0238/a271093/Scripts/MOAAP/src/clustering/cluster_computation.py:56\u001b[0m, in \u001b[0;36mcompute_and_save_cluster\u001b[0;34m(EXP, season, num_cluster, back_trafo_centroids, pca_ref, kmeans_ref, num_iter, n_components, level, save_pca, save_kmeans, save_BMUs, save_centroids, cluster_names_dict, BMU_projection_flag)\u001b[0m\n\u001b[1;32m     54\u001b[0m year_start \u001b[38;5;241m=\u001b[39m exp\u001b[38;5;241m.\u001b[39myear_start\n\u001b[1;32m     55\u001b[0m year_end \u001b[38;5;241m=\u001b[39m exp\u001b[38;5;241m.\u001b[39myear_end\n\u001b[0;32m---> 56\u001b[0m path_in \u001b[38;5;241m=\u001b[39m \u001b[43mexp\u001b[49m\u001b[38;5;241;43m.\u001b[39;49m\u001b[43mclustering_data_path\u001b[49m\n\u001b[1;32m     57\u001b[0m path_out \u001b[38;5;241m=\u001b[39m os\u001b[38;5;241m.\u001b[39mpath\u001b[38;5;241m.\u001b[39mdirname(path_in\u001b[38;5;241m.\u001b[39mrstrip(\u001b[38;5;124m\"\u001b[39m\u001b[38;5;124m/\u001b[39m\u001b[38;5;124m\"\u001b[39m)) \u001b[38;5;241m+\u001b[39m \u001b[38;5;124m\"\u001b[39m\u001b[38;5;124m/\u001b[39m\u001b[38;5;124m\"\u001b[39m\n\u001b[1;32m     58\u001b[0m file_name \u001b[38;5;241m=\u001b[39m \u001b[38;5;124mf\u001b[39m\u001b[38;5;124m\"\u001b[39m\u001b[38;5;132;01m{\u001b[39;00mexp\u001b[38;5;241m.\u001b[39mexp_name\u001b[38;5;132;01m}\u001b[39;00m\u001b[38;5;124m_gph\u001b[39m\u001b[38;5;132;01m{\u001b[39;00mlevel\u001b[38;5;132;01m}\u001b[39;00m\u001b[38;5;124m_\u001b[39m\u001b[38;5;132;01m{\u001b[39;00myear_start\u001b[38;5;132;01m}\u001b[39;00m\u001b[38;5;124m_\u001b[39m\u001b[38;5;132;01m{\u001b[39;00myear_end\u001b[38;5;132;01m}\u001b[39;00m\u001b[38;5;124m_reglonlat_-90_90_20_88_1deg_\u001b[39m\u001b[38;5;132;01m{\u001b[39;00mseason\u001b[38;5;241m.\u001b[39mname\u001b[38;5;132;01m}\u001b[39;00m\u001b[38;5;124m_fldmean_detrend_del29feb_aac.nc\u001b[39m\u001b[38;5;124m\"\u001b[39m\n",
      "\u001b[0;31mAttributeError\u001b[0m: type object 'ICON_ERA5' has no attribute 'clustering_data_path'"
     ]
    }
   ],
   "source": [
    "pca_ref = f'/work/aa0238/a271093/data/clustering/regime_output/PCA/PCA_ERA5_gph{level}_1984_2014_reglonlat_-90_90_20_88_1deg_{season.name}_fldmean_detrend_del29feb_aac_20PCs'\n",
    "kmeans_ref = f'/work/aa0238/a271093/data/clustering/regime_output/Kmeans/Kmeans_ERA5_gph{level}_1984_2014_reglonlat_-90_90_20_88_1deg_{season.name}_fldmean_detrend_del29feb_aac_20PCs_{num_cluster}clusters'\n",
    "for EXP in Experiments:\n",
    "\n",
    "    compute_and_save_cluster(EXP,\n",
    "                             season=season,\n",
    "                            pca_ref = pca_ref,\n",
    "                            kmeans_ref = kmeans_ref,\n",
    "                             num_cluster = num_cluster,\n",
    "                             level=level,\n",
    "                            save_BMUs = True,\n",
    "                            cluster_names_dict = cluster_names_dict,\n",
    "                            BMU_projection_flag = \"_Ref_ERA5KmeansPCA\"\n",
    "                          )\n"
   ]
  },
  {
   "cell_type": "code",
   "execution_count": 22,
   "id": "9d0ce5c2-8f16-48e9-811d-4d37e963e406",
   "metadata": {
    "tags": []
   },
   "outputs": [
    {
     "data": {
      "text/plain": [
       "numpy.ndarray"
      ]
     },
     "execution_count": 22,
     "metadata": {},
     "output_type": "execute_result"
    }
   ],
   "source": [
    "type(d['lat'])"
   ]
  },
  {
   "cell_type": "code",
   "execution_count": null,
   "id": "42b589b9-93bf-4171-ba9d-dd136bbb951d",
   "metadata": {},
   "outputs": [],
   "source": []
  }
 ],
 "metadata": {
  "kernelspec": {
   "display_name": "MOAAP-Kernel",
   "language": "python",
   "name": "moaap_kernel"
  },
  "language_info": {
   "codemirror_mode": {
    "name": "ipython",
    "version": 3
   },
   "file_extension": ".py",
   "mimetype": "text/x-python",
   "name": "python",
   "nbconvert_exporter": "python",
   "pygments_lexer": "ipython3",
   "version": "3.12.2"
  }
 },
 "nbformat": 4,
 "nbformat_minor": 5
}
