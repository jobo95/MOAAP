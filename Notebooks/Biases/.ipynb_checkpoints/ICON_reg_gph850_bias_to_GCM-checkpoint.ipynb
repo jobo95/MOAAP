{
 "cells": [
  {
   "cell_type": "code",
   "execution_count": 2,
   "id": "22f55bd4-6aff-4017-9c79-02efab06d017",
   "metadata": {
    "tags": []
   },
   "outputs": [
    {
     "name": "stderr",
     "output_type": "stream",
     "text": [
      "/work/aa0238/a271093/Conda/MOAAP_env/lib/python3.12/site-packages/pyproj/__init__.py:89: UserWarning: pyproj unable to set database path.\n",
      "  _pyproj_global_context_initialize()\n"
     ]
    }
   ],
   "source": [
    "%load_ext autoreload\n",
    "%autoreload 2\n",
    "import xarray as xr\n",
    "from cdo import Cdo\n",
    "import os\n",
    "import glob\n",
    "from src.Experiments_infos import Data\n",
    "import xarray as xr\n",
    "import numpy as np\n",
    "import  matplotlib.pyplot as plt\n",
    "from src.Enumerations import Season\n",
    "from src.plot_funcs import plot_contourf_rotated_grid\n"
   ]
  },
  {
   "cell_type": "code",
   "execution_count": 3,
   "id": "0ae67d92-1d76-42dd-9e5e-eab00d642c5b",
   "metadata": {
    "tags": []
   },
   "outputs": [],
   "source": [
    "\n",
    "exp = Data.ICON_CNRM_EXP\n",
    "cdo = Cdo()\n",
    "level=70000"
   ]
  },
  {
   "cell_type": "code",
   "execution_count": 9,
   "id": "2e5d57db-de0e-4f4a-b2c1-0a23ab7918db",
   "metadata": {
    "tags": []
   },
   "outputs": [
    {
     "data": {
      "text/plain": [
       "[]"
      ]
     },
     "execution_count": 9,
     "metadata": {},
     "output_type": "execute_result"
    }
   ],
   "source": [
    "year_start= 1984\n",
    "year_end= 2014\n"
   ]
  },
  {
   "cell_type": "code",
   "execution_count": 6,
   "id": "071baf94-c58a-4a62-af30-3029c43b5142",
   "metadata": {},
   "outputs": [
    {
     "data": {
      "text/plain": [
       "'/pool/data/CMIP6/data/CMIP/CNRM-CERFACS/CNRM-ESM2-1/historical/r1i1p1f2/day/zg/gr/v20181206/zg_day_CNRM-ESM2-1_historical_r1i1p1f2_gr_19750101-19991231.nc /pool/data/CMIP6/data/CMIP/CNRM-CERFACS/CNRM-ESM2-1/historical/r1i1p1f2/day/zg/gr/v20181206//zg_day_CNRM-ESM2-1_historical_r1i1p1f2_gr_20000101-20141231.nc'"
      ]
     },
     "execution_count": 6,
     "metadata": {},
     "output_type": "execute_result"
    }
   ],
   "source": [
    "paths_reg = sorted(glob.glob(exp.FI850p_path_raw+f'FI700p_*-*.ncz'))\n",
    "paths_reg\n",
    "\" \".join(exp.gph_files_raw_gcm)"
   ]
  },
  {
   "cell_type": "code",
   "execution_count": 10,
   "id": "950df49b-56e3-4a9e-8c1f-5e1d53365b0d",
   "metadata": {
    "tags": []
   },
   "outputs": [
    {
     "data": {
      "text/plain": [
       "'/work/aa0238/a271093/scratch/gph70000_reg_CNRM_3dx3dy.nc'"
      ]
     },
     "execution_count": 10,
     "metadata": {},
     "output_type": "execute_result"
    }
   ],
   "source": [
    "paths_reg = sorted(glob.glob(exp.FI700p_path_raw+f'FI700p_*-*.ncz'))\n",
    "\n",
    "cdo.selyear(f'{year_start}/{year_end}',\n",
    "            input = '-divc,9.81 -daymean -mergetime '+' '.join(paths_reg),\n",
    "            output = f'{exp.scratch_path}gph{level}_reg_dummy.nc' )\n",
    "             \n",
    "cdo.remapbil(exp.clustering_target_grid,\n",
    "             input=  f'{exp.scratch_path}gph{level}_reg_dummy.nc',\n",
    "             output= f'{exp.scratch_path}gph{level}_reg_CNRM_3dx3dy.nc')\n",
    "             \n",
    "#os.system(f\"rm {exp.scratch_path}gph{level}_dummy.nc\")\n",
    "\n"
   ]
  },
  {
   "cell_type": "code",
   "execution_count": 11,
   "id": "93792591-3e7a-4d28-8f98-0407892dfec8",
   "metadata": {
    "tags": []
   },
   "outputs": [
    {
     "data": {
      "text/plain": [
       "'/work/aa0238/a271093/scratch/gph70000_gcm_CNRM_3dx3dy.nc'"
      ]
     },
     "execution_count": 11,
     "metadata": {},
     "output_type": "execute_result"
    }
   ],
   "source": [
    "\n",
    "cdo.remapbil(exp.clustering_target_grid,\n",
    "             input= f'-selyear,{year_start}/{year_end} -sellevel,{level} -mergetime  '+\" \".join(exp.gph_files_raw_gcm),\n",
    "             output = f'{exp.scratch_path}gph{level}_gcm_CNRM_3dx3dy.nc' )"
   ]
  },
  {
   "cell_type": "code",
   "execution_count": 12,
   "id": "27297a23-e940-48fe-b901-16dbcd436bf8",
   "metadata": {
    "tags": []
   },
   "outputs": [],
   "source": [
    "gph_reg=xr.load_dataset(f'{exp.scratch_path}gph{level}_reg_CNRM_3dx3dy.nc')\n",
    "#gph_reg = gph_reg.sel(time=~((gph_reg.time.dt.month == 2) & (gph_reg.time.dt.day == 29)))\n",
    "\n",
    "gph_gcm=xr.load_dataset(f'{exp.scratch_path}gph{level}_gcm_CNRM_3dx3dy.nc')\n",
    "gph_gcm = np.squeeze(gph_gcm)"
   ]
  },
  {
   "cell_type": "code",
   "execution_count": null,
   "id": "1e12acee-a1ad-49a1-9e99-aa362fea27fd",
   "metadata": {
    "tags": []
   },
   "outputs": [
    {
     "name": "stdout",
     "output_type": "stream",
     "text": [
      "Season.WINTER\n",
      "Season.SPRING\n"
     ]
    }
   ],
   "source": [
    "fig = plt.figure(figsize=(23,18))\n",
    "for  season_, i in zip(Season,[0,4,8,12]):\n",
    "    print (season_)\n",
    "    reg_sel = gph_reg.sel(time=gph_reg.time.dt.month.isin(season_.value))\n",
    "    gcm_sel = gph_gcm.sel(time=gph_gcm.time.dt.month.isin(season_.value))\n",
    "    \n",
    "    error = np.mean((reg_sel.FI.values - gcm_sel.zg.values), axis=0)\n",
    "\n",
    "\n",
    "    plot_contourf_rotated_grid(gph_reg.rlon.values,\n",
    "                               gph_reg.rlat.values,\n",
    "                               error, index =i,\n",
    "                               fig = fig,\n",
    "                               subplts=(4,4),\n",
    "                               title=f'{season_.name}:  ICON NorESM control regional - GCM',\n",
    "                              levels =np.arange(-30,31,4),\n",
    "                              cbar_label= \"  bias/mean of daily gph700 differences [gpm] \",\n",
    "                              cmap=\"seismic\")\n",
    "    \n",
    "    \n",
    "    std_bias = np.std((reg_sel.FI.values- gcm_sel.zg.values),axis=0)\n",
    "                  \n",
    "    plot_contourf_rotated_grid(gph_reg.rlon.values,\n",
    "                               gph_reg.rlat.values,\n",
    "                               std_bias, index =i+1,\n",
    "                               fig = fig,\n",
    "                               subplts=(4,4),\n",
    "                               title=f'{season_.name}:  standard deviation of differences (regional-GCM)',\n",
    "                              #levels =np.arange(0,25,2),\n",
    "                              levels =np.arange(0,24,2),\n",
    "\n",
    "                              cbar_label= \"gph700 standard deviation [gpm]\",\n",
    "                              cmap=\"Purples\")\n",
    "\n",
    "    std_tot  = np.std(reg_sel.FI.values,axis=0)\n",
    "    \n",
    "    plot_contourf_rotated_grid(gph_reg.rlon.values,\n",
    "                               gph_reg.rlat.values,\n",
    "                               std_tot, index =i+2,\n",
    "                               fig = fig,\n",
    "                               subplts=(4,4),\n",
    "                               title=f'{season_.name}:  standard deviation regional',\n",
    "                              levels =np.arange(0,160,20),\n",
    "                              cbar_label= \"gph700 standardized deviation [gpm])\",\n",
    "                              cmap=\"Greens\")\n",
    "    \n",
    "    plot_contourf_rotated_grid(gph_reg.rlon.values,\n",
    "                               gph_reg.rlat.values,\n",
    "                               (std_bias/std_tot)*100, index =i+3,\n",
    "                               fig = fig,\n",
    "                               subplts=(4,4),\n",
    "                               title=f'{season_.name}:  standard deviation ratio',\n",
    "                              levels =np.arange(0,40,4),\n",
    "                              cbar_label= \"bias vs total gph850 standardized deviation [%]\",\n",
    "                              cmap=\"YlOrBr\")"
   ]
  },
  {
   "cell_type": "code",
   "execution_count": 41,
   "id": "8a92cd1a-de04-4d68-b3d0-da6e11b15a3a",
   "metadata": {
    "tags": []
   },
   "outputs": [],
   "source": [
    "dd=xr.load_dataset(f'/pool/data/CMIP6/data/CMIP/NCC/NorESM2-MM/historical/r1i1p1f1/6hrPlevPt/zg/gn/v20191108/zg_6hrPlevPt_NorESM2-MM_historical_r1i1p1f1_gn_198001010300-198912312100.nc')\n"
   ]
  },
  {
   "cell_type": "code",
   "execution_count": null,
   "id": "372d86c7-367c-47b6-b2f8-38c85af72edc",
   "metadata": {
    "tags": []
   },
   "outputs": [],
   "source": []
  },
  {
   "cell_type": "code",
   "execution_count": 57,
   "id": "34661f2f-cdba-4e8a-b0bf-0c96c8bfb6a9",
   "metadata": {
    "tags": []
   },
   "outputs": [
    {
     "data": {
      "text/plain": [
       "array([[[1312.9293, 1308.9875, 1306.0038, ..., 1475.828 , 1476.9622,\n",
       "         1477.9738],\n",
       "        [1312.5217, 1307.982 , 1304.9121, ..., 1471.3948, 1472.4203,\n",
       "         1473.4458],\n",
       "        [1312.324 , 1307.6989, 1302.9072, ..., 1466.8008, 1467.8398,\n",
       "         1468.9097],\n",
       "        ...,\n",
       "        [1234.4891, 1240.73  , 1247.1094, ..., 1314.9218, 1314.3915,\n",
       "         1314.554 ],\n",
       "        [1241.0409, 1247.2953, 1253.686 , ..., 1309.4681, 1309.4805,\n",
       "         1309.5342],\n",
       "        [1250.0892, 1253.6914, 1260.5768, ..., 1304.5034, 1304.5145,\n",
       "         1304.5658]],\n",
       "\n",
       "       [[1340.5574, 1337.858 , 1335.5914, ..., 1444.1562, 1448.6532,\n",
       "         1453.0438],\n",
       "        [1341.1772, 1337.9904, 1335.6818, ..., 1441.3456, 1446.0343,\n",
       "         1450.4551],\n",
       "        [1342.0455, 1338.8048, 1335.3988, ..., 1438.3177, 1443.0331,\n",
       "         1447.8038],\n",
       "        ...,\n",
       "        [1404.5548, 1405.4763, 1406.5635, ..., 1377.2776, 1378.4901,\n",
       "         1379.4558],\n",
       "        [1411.0574, 1412.0299, 1413.1656, ..., 1372.5247, 1373.9814,\n",
       "         1375.3269],\n",
       "        [1417.3378, 1418.3666, 1418.7196, ..., 1367.9955, 1369.469 ,\n",
       "         1370.8329]],\n",
       "\n",
       "       [[1334.7067, 1331.1532, 1328.1448, ..., 1354.3011, 1355.6732,\n",
       "         1357.2045],\n",
       "        [1334.8927, 1331.4445, 1328.3827, ..., 1350.232 , 1351.2274,\n",
       "         1352.7667],\n",
       "        [1335.1583, 1331.6989, 1328.0635, ..., 1346.028 , 1347.0339,\n",
       "         1348.2358],\n",
       "        ...,\n",
       "        [1399.5898, 1395.9963, 1392.4161, ..., 1324.4769, 1324.3164,\n",
       "         1324.148 ],\n",
       "        [1401.8525, 1398.2839, 1394.7288, ..., 1319.3253, 1319.1655,\n",
       "         1318.8394],\n",
       "        [1404.0006, 1400.5897, 1396.9723, ..., 1314.409 , 1314.2853,\n",
       "         1313.9978]],\n",
       "\n",
       "       ...,\n",
       "\n",
       "       [[1238.3165, 1235.5514, 1232.9095, ..., 1293.3115, 1293.5317,\n",
       "         1293.8643],\n",
       "        [1241.2007, 1239.1798, 1236.523 , ..., 1294.6031, 1294.815 ,\n",
       "         1295.1437],\n",
       "        [1243.5093, 1241.5203, 1239.8575, ..., 1296.1714, 1296.3821,\n",
       "         1296.4988],\n",
       "        ...,\n",
       "        [1391.5643, 1386.2689, 1380.8977, ..., 1420.4023, 1418.5946,\n",
       "         1417.005 ],\n",
       "        [1386.997 , 1381.7039, 1376.336 , ..., 1423.8734, 1422.6882,\n",
       "         1421.4738],\n",
       "        [1382.5007, 1377.2383, 1371.6417, ..., 1427.8893, 1426.7112,\n",
       "         1425.5045]],\n",
       "\n",
       "       [[1240.9094, 1238.1389, 1235.3447, ..., 1346.9951, 1346.1929,\n",
       "         1345.2443],\n",
       "        [1243.3314, 1241.0247, 1238.2246, ..., 1344.5421, 1343.4034,\n",
       "         1342.4529],\n",
       "        [1245.2108, 1242.9121, 1241.0093, ..., 1341.9255, 1340.787 ,\n",
       "         1339.662 ],\n",
       "        ...,\n",
       "        [1397.9673, 1395.7518, 1393.4988, ..., 1195.9552, 1191.1946,\n",
       "         1187.4395],\n",
       "        [1399.0084, 1396.7937, 1394.5421, ..., 1200.0728, 1196.6157,\n",
       "         1193.0742],\n",
       "        [1400.1921, 1397.9214, 1396.0358, ..., 1205.5485, 1202.1194,\n",
       "         1198.6078]],\n",
       "\n",
       "       [[1307.7124, 1304.9133, 1302.187 , ..., 1446.861 , 1448.2858,\n",
       "         1449.348 ],\n",
       "        [1312.4104, 1310.5618, 1307.8269, ..., 1447.0076, 1448.034 ,\n",
       "         1449.1002],\n",
       "        [1316.6458, 1314.8599, 1313.233 , ..., 1446.955 , 1447.9873,\n",
       "         1448.9332],\n",
       "        ...,\n",
       "        [1523.5441, 1521.8519, 1520.0768, ..., 1195.0977, 1193.9983,\n",
       "         1193.7834],\n",
       "        [1524.9298, 1523.2212, 1521.4312, ..., 1191.4879, 1191.4043,\n",
       "         1191.1589],\n",
       "        [1526.2781, 1524.7136, 1522.4003, ..., 1189.0978, 1189.0458,\n",
       "         1188.8351]]], dtype=float32)"
      ]
     },
     "execution_count": 57,
     "metadata": {},
     "output_type": "execute_result"
    }
   ],
   "source": [
    "gph_gcm.zg.values"
   ]
  },
  {
   "cell_type": "code",
   "execution_count": 49,
   "id": "c212828e-e99d-4528-bcf7-0abdfed37430",
   "metadata": {
    "tags": []
   },
   "outputs": [
    {
     "data": {
      "text/plain": [
       "(11315, 194, 193)"
      ]
     },
     "execution_count": 49,
     "metadata": {},
     "output_type": "execute_result"
    }
   ],
   "source": [
    "gph_reg.FI.values.shape"
   ]
  },
  {
   "cell_type": "code",
   "execution_count": null,
   "id": "5854162f-7ea3-436f-bd20-6341d4f88e50",
   "metadata": {},
   "outputs": [],
   "source": []
  }
 ],
 "metadata": {
  "kernelspec": {
   "display_name": "MOAAP-Kernel",
   "language": "python",
   "name": "moaap_kernel"
  },
  "language_info": {
   "codemirror_mode": {
    "name": "ipython",
    "version": 3
   },
   "file_extension": ".py",
   "mimetype": "text/x-python",
   "name": "python",
   "nbconvert_exporter": "python",
   "pygments_lexer": "ipython3",
   "version": "3.12.2"
  }
 },
 "nbformat": 4,
 "nbformat_minor": 5
}
