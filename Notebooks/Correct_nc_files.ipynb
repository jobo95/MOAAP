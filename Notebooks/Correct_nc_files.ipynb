{
 "cells": [
  {
   "cell_type": "code",
   "execution_count": 2,
   "id": "59855143-c17f-4487-a750-e33986775498",
   "metadata": {
    "tags": []
   },
   "outputs": [],
   "source": [
    "%load_ext autoreload\n",
    "%autoreload 2\n",
    "import xarray as xr\n",
    "import matplotlib.pyplot as plt\n",
    "import numpy as np\n",
    "import pandas as pd\n",
    "import scipy\n",
    "import datetime\n",
    "import cartopy\n",
    "from metpy.units import units\n",
    "\n",
    "import cartopy.crs as ccrs\n",
    "import pickle\n",
    "#import Tracking_Functions\n",
    "\n",
    "import os\n",
    "os.chdir('/work/aa0238/a271093/Scripts/')\n",
    "import MOAAP.Tracking_Functions as Tracking_Functions\n",
    "from MOAAP.functions import * \n"
   ]
  },
  {
   "cell_type": "code",
   "execution_count": 3,
   "id": "bb9e9b5a-c061-410e-acce-8f0903d12cff",
   "metadata": {
    "tags": []
   },
   "outputs": [],
   "source": [
    "from enum import Enum, IntEnum\n",
    "\n",
    "class Month(IntEnum):\n",
    "    JANUARY = 1\n",
    "    FEBRUARY = 2\n",
    "    MARCH = 3\n",
    "    APRIL = 4\n",
    "    MAY = 5\n",
    "    JUNE = 6\n",
    "    JULY = 7\n",
    "    AUGUST = 8\n",
    "    SEPTEMBER = 9\n",
    "    OCTOBER = 10\n",
    "    NOVEMBER = 11\n",
    "    DECEMBER =12"
   ]
  },
  {
   "cell_type": "code",
   "execution_count": 6,
   "id": "9be4863c-8552-4127-88d6-abf93865cb70",
   "metadata": {
    "tags": []
   },
   "outputs": [
    {
     "data": {
      "text/plain": [
       "[datetime.datetime(2000, 8, 1, 0, 0),\n",
       " datetime.datetime(2001, 2, 1, 0, 0),\n",
       " datetime.datetime(2001, 8, 1, 0, 0),\n",
       " datetime.datetime(2002, 2, 1, 0, 0),\n",
       " datetime.datetime(2002, 8, 1, 0, 0),\n",
       " datetime.datetime(2003, 2, 1, 0, 0),\n",
       " datetime.datetime(2003, 8, 1, 0, 0),\n",
       " datetime.datetime(2004, 2, 1, 0, 0),\n",
       " datetime.datetime(2004, 8, 1, 0, 0),\n",
       " datetime.datetime(2005, 2, 1, 0, 0),\n",
       " datetime.datetime(2005, 8, 1, 0, 0),\n",
       " datetime.datetime(2006, 2, 1, 0, 0),\n",
       " datetime.datetime(2006, 8, 1, 0, 0),\n",
       " datetime.datetime(2007, 2, 1, 0, 0),\n",
       " datetime.datetime(2007, 8, 1, 0, 0),\n",
       " datetime.datetime(2008, 2, 1, 0, 0),\n",
       " datetime.datetime(2008, 8, 1, 0, 0),\n",
       " datetime.datetime(2009, 2, 1, 0, 0),\n",
       " datetime.datetime(2009, 8, 1, 0, 0),\n",
       " datetime.datetime(2010, 2, 1, 0, 0),\n",
       " datetime.datetime(2010, 8, 1, 0, 0),\n",
       " datetime.datetime(2011, 2, 1, 0, 0),\n",
       " datetime.datetime(2011, 8, 1, 0, 0),\n",
       " datetime.datetime(2012, 2, 1, 0, 0),\n",
       " datetime.datetime(2012, 8, 1, 0, 0),\n",
       " datetime.datetime(2013, 2, 1, 0, 0),\n",
       " datetime.datetime(2013, 8, 1, 0, 0),\n",
       " datetime.datetime(2014, 2, 1, 0, 0),\n",
       " datetime.datetime(2014, 8, 1, 0, 0),\n",
       " datetime.datetime(2015, 1, 1, 0, 0)]"
      ]
     },
     "execution_count": 6,
     "metadata": {},
     "output_type": "execute_result"
    }
   ],
   "source": [
    "first_year = 2000\n",
    "last_year = 2015\n",
    "\n",
    "start_date_list, end_date_list = create_datetime_lists(first_year,last_year) \n",
    "#first_processed_date = start_date_list[0]\n",
    "#last_processed_date = end_date_list[-1]\n",
    "end_date_list"
   ]
  },
  {
   "cell_type": "code",
   "execution_count": null,
   "id": "baee9dfa-e6e6-40ec-aa44-3f2f3df185f6",
   "metadata": {},
   "outputs": [],
   "source": [
    "for start_date, end_date in zip(start_date_list, end_date_list):\n",
    "    output_file_name_temp = 'MOAPP_ICON_control_CNRMforc_100and85controlperc'\n",
    "    output_file_name = f'ObjectMasks_{output_file_name_temp}_{get_datetime_str(start_date)}-{get_datetime_str(end_date)}.nc'\n",
    "    \n",
    "    if start_date\n",
    "    \n",
    "    "
   ]
  },
  {
   "cell_type": "code",
   "execution_count": 9,
   "id": "17e2ee6b-ac4d-4191-814e-27e0eea21e76",
   "metadata": {
    "tags": []
   },
   "outputs": [
    {
     "data": {
      "text/plain": [
       "True"
      ]
     },
     "execution_count": 9,
     "metadata": {},
     "output_type": "execute_result"
    }
   ],
   "source": [
    "Month.JANUARY ==1"
   ]
  },
  {
   "cell_type": "code",
   "execution_count": 24,
   "id": "60abccf9-482e-42bf-b869-531b013b8c76",
   "metadata": {},
   "outputs": [],
   "source": [
    "from cdo import Cdo\n",
    "\n",
    "def correct_nc_file(path, output_file_name_temp, file_start_date, file_end_date,last_processed_date):\n",
    "    \n",
    "    \n",
    "        input_file_name = f'ObjectMasks_{output_file_name_temp}_{get_datetime_str(file_start_date)}-{get_datetime_str(file_end_date)}'\n",
    "        \n",
    "        if file_end_date != last_processed_date:\n",
    "            file_end_date = file_end_date -relativedelta.relativedelta(months =1)\n",
    "            \n",
    "            \n",
    "        output_file_name = f'ObjectMasks_{output_file_name_temp}_{get_datetime_str(file_start_date)}-{get_datetime_str(file_end_date)}_corrected'\n",
    "        cdo = Cdo()\n",
    "        \n",
    "        output_file_name_temp\n",
    "        if start_date.month == Month.JANUARY:\n",
    "            print (f'correct nc-file with \\n cdo -selmon,1,2,3,4,5,6 {path}{input_file_name}.nc {path}{output_file_name}.nc')\n",
    "            cdo.selmon('1,2,3,4,5,6',input=f'{path}{input_file_name}.nc', output= f'{path}{output_file_name}.nc')\n",
    "                       \n",
    "        elif start_date.month == Month.JULY:\n",
    "            print (f'correct nc-file with \\n cdo -selmon,6,7,8,9,10,11,12 {path}{input_file_name}.nc {path}{output_file_name}.nc')\n",
    "\n",
    "            cdo.selmon('7,8,9,10,11,12',input=f'{path}{input_file_name}.nc', output= f'{path}{output_file_name}.nc')"
   ]
  },
  {
   "cell_type": "code",
   "execution_count": 25,
   "id": "049ad8b5-3109-49e0-909b-5041eee4101e",
   "metadata": {
    "tags": []
   },
   "outputs": [],
   "source": [
    "output_file_name_temp = 'MOAPP_ICON_control_CNRMforc_100and85controlperc'\n",
    "output_path = '/work/aa0238/a271093/results/MOAAP/IVT_Tracking/CNRM_control_new/'\n",
    "first_year = 1984\n",
    "last_year = 1989\n",
    "\n",
    "start_date_list, end_date_list = create_datetime_lists(first_year,last_year) \n",
    "first_processed_date = start_date_list[0]\n",
    "last_processed_date = end_date_list[-1]\n",
    "start_date = start_date_list[1]\n",
    "end_date = end_date_list[1]"
   ]
  },
  {
   "cell_type": "code",
   "execution_count": 26,
   "id": "eea3521e-8e43-4c69-a819-db06d9c6b7a5",
   "metadata": {
    "tags": []
   },
   "outputs": [
    {
     "name": "stdout",
     "output_type": "stream",
     "text": [
      "correct nc-file with \n",
      " cdo -selmon,6,7,8,9,10,11,12 /work/aa0238/a271093/results/MOAAP/IVT_Tracking/CNRM_control_new/ObjectMasks_MOAPP_ICON_control_CNRMforc_100and85controlperc_1984_07_01-1985_02_01.nc /work/aa0238/a271093/results/MOAAP/IVT_Tracking/CNRM_control_new/ObjectMasks_MOAPP_ICON_control_CNRMforc_100and85controlperc_1984_07_01-1985_01_01_corrected.nc\n"
     ]
    }
   ],
   "source": [
    "correct_nc_file(output_path, output_file_name_temp, start_date, end_date, last_processed_date)"
   ]
  },
  {
   "cell_type": "code",
   "execution_count": null,
   "id": "1354a4e6-76f1-4ba6-a7b2-5d72812c4b60",
   "metadata": {},
   "outputs": [],
   "source": []
  }
 ],
 "metadata": {
  "kernelspec": {
   "display_name": "1 Python 3 (based on the module python3/2023.01)",
   "language": "python",
   "name": "python3_2023_01"
  },
  "language_info": {
   "codemirror_mode": {
    "name": "ipython",
    "version": 3
   },
   "file_extension": ".py",
   "mimetype": "text/x-python",
   "name": "python",
   "nbconvert_exporter": "python",
   "pygments_lexer": "ipython3",
   "version": "3.10.10"
  }
 },
 "nbformat": 4,
 "nbformat_minor": 5
}
