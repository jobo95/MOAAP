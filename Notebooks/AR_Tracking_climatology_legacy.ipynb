{
 "cells": [
  {
   "cell_type": "markdown",
   "id": "3afad24d-3b3e-4564-b356-89afcebb173f",
   "metadata": {},
   "source": [
    "# Climatological tracking of IVT and AR objects using the MOAAP tracking algorithm\n",
    "- Load IVT tracking data in chunks of 7 months with 1 month overlap between chunks\n",
    "- Track individual data chunks and correct the pickle and netCdf4 files afterwards, so that each final corrected file corresponds to 6 month, from 1.1-1.7 and 1.7-1-1 respectively\n",
    "- Tracking should be done on a rotated grid to avoid strange behaviour around the pole when e.g. using a regular grid\n",
    "- Tracking data are remapped to 33km resolution\n"
   ]
  },
  {
   "cell_type": "raw",
   "id": "5c2f1242-2640-44b8-b13f-dbfcbc289262",
   "metadata": {},
   "source": []
  },
  {
   "cell_type": "code",
   "execution_count": 5,
   "id": "c82b8897-9b45-4561-8ae7-aef199414ba8",
   "metadata": {},
   "outputs": [
    {
     "name": "stdout",
     "output_type": "stream",
     "text": [
      "The autoreload extension is already loaded. To reload it, use:\n",
      "  %reload_ext autoreload\n"
     ]
    }
   ],
   "source": [
    "%load_ext autoreload\n",
    "%autoreload 2\n",
    "import xarray as xr\n",
    "import matplotlib.pyplot as plt\n",
    "import numpy as np\n",
    "import pandas as pd\n",
    "import scipy\n",
    "import datetime\n",
    "import cartopy\n",
    "import cartopy.crs as ccrs\n",
    "import pickle\n",
    "#import Tracking_Functions\n",
    "from dateutil import relativedelta\n",
    "import os\n",
    "\n",
    "import src.Tracking_Functions as Tracking_Functions\n",
    "from src.TrackingDataLoader import * \n",
    "from src.utils import * \n",
    "from src.Corrections import * \n",
    "from src.Enumerations import Experiments"
   ]
  },
  {
   "cell_type": "markdown",
   "id": "128eb1b9-7796-4d81-996f-7986c27c86c6",
   "metadata": {
    "tags": []
   },
   "source": [
    "# Settings"
   ]
  },
  {
   "cell_type": "code",
   "execution_count": 6,
   "id": "c780b1a7-6ae3-4c9a-be46-3ac9ecab02ae",
   "metadata": {},
   "outputs": [],
   "source": [
    "#data_path = '/work/aa0049/a271109/spice-v2.1/chain/work/polarres_wp3_cmip_CNRM/post/yearly/'\n",
    "#exp = Data.ICON_NORESM_EXP.value\n",
    "\n",
    "\n",
    "suffix = 'remapped_3x'\n",
    "file_type = '.nc'\n",
    "\n",
    "#######ICON########\n",
    "\n",
    "exp = Experiments.ICON_NORESM_CONTROL.value\n",
    "\n",
    "first_year = 1984\n",
    "last_year = 1985\n",
    "\n",
    "data_path = exp.path\n",
    "output_path = exp.IVTobj_out_path\n",
    "output_path = \"/work/aa0238/a271093/scratch/test/\"\n",
    "\n",
    "output_file_name_temp = f'MOAPP_ICON_100and85controlperc_{suffix}'\n",
    "\n",
    "#output_path = '/work/aa0238/a271093/scratch/Track_test/'\n",
    "threshold_file = exp.IVT_thresh_path+exp.IVT_thresh_file_85\n",
    "\n",
    "ds_ivt_pctl=xr.open_dataset(threshold_file,decode_times=False)\n",
    "IVTtrheshold=ds_ivt_pctl.IVT_85perc.values\n",
    "\n",
    "\n",
    "\n",
    "#####ERA5######\n",
    "\n",
    "#first_year = 1979\n",
    "#last_year = 2022\n",
    "\n",
    "\n",
    "#data_path = '/work/aa0238/a271093/data/ERA5/1979-2023/ICON_remapped_3x/'\n",
    "#output_path = '/work/aa0238/a271093/results/MOAAP/IVT_Tracking/ERA5_ICON_remapped_3x/'\n",
    "#output_file_name_temp = f'MOAPP_ERA5_100and85controlperc_{suffix}'\n",
    "#threshold_file = threshold_path+'ivt_percentile_mlauer_removed-ens-lev_remapbilWP3domain_3dx3dy.nc'\n",
    "\n",
    "#ds_ivt_pctl=xr.open_dataset(threshold_file,decode_times=False)\n",
    "#IVTtrheshold=ds_ivt_pctl.ivt1.values\n",
    "\n",
    "#######ICON SSP###########\n",
    "exp = Experiments.ICON_NORESM_SSP.value\n",
    "\n",
    "first_year = exp.year_start\n",
    "last_year = exp.year_end\n",
    "\n",
    "data_path = exp.path_IVT\n",
    "output_path = exp.IVTobj_out_path\n",
    "output_path = \"fff\"\n",
    "\n",
    "output_file_name_temp = f'MOAPP_ICON_100and85NorESMsspperc_{suffix}'\n",
    "\n",
    "threshold_file = exp.IVT_thresh_path+exp.IVT_thresh_file_85\n",
    "\n",
    "ds_ivt_pctl=xr.open_dataset(threshold_file,decode_times=False)\n",
    "IVTtrheshold=ds_ivt_pctl.IVT_85_perc.values\n",
    "\n",
    "\n",
    "###### ICON-ERA5###########\n",
    "#exp = Experiments.ICON_ERA5.value\n",
    "\n",
    "#first_year = exp.year_start\n",
    "#last_year = exp.year_end\n",
    "\n",
    "#data_path = exp.path_IVT\n",
    "#output_path = exp.IVTobj_out_path\n",
    "#output_path = \"/work/aa0238/a271093/scratch/test/\"\n",
    "\n",
    "#output_file_name_temp = f'MOAPP_ICON_ERA5_100and85ERA5perc_{suffix}'\n",
    "\n",
    "#threshold_file = exp.IVT_thresh_path+exp.IVT_thresh_file_85\n",
    "\n",
    "#ds_ivt_pctl=xr.open_dataset(threshold_file,decode_times=False)\n",
    "#IVTtrheshold=ds_ivt_pctl.ivt1.values"
   ]
  },
  {
   "cell_type": "code",
   "execution_count": 7,
   "id": "f67cde89-790e-448c-8612-636c6766a945",
   "metadata": {},
   "outputs": [],
   "source": [
    "start_date_list, end_date_list = create_datetime_lists(first_year,last_year) \n",
    "first_processed_date = start_date_list[0]\n",
    "last_processed_date = end_date_list[-1]"
   ]
  },
  {
   "cell_type": "code",
   "execution_count": 8,
   "id": "f6c9d39f-ebe9-4113-9018-9049e4bf2bf9",
   "metadata": {},
   "outputs": [
    {
     "data": {
      "text/plain": [
       "'fff'"
      ]
     },
     "execution_count": 8,
     "metadata": {},
     "output_type": "execute_result"
    }
   ],
   "source": [
    "output_path"
   ]
  },
  {
   "cell_type": "code",
   "execution_count": 9,
   "id": "26e165ca-8907-449e-a0c4-289f86b58603",
   "metadata": {
    "scrolled": true,
    "tags": []
   },
   "outputs": [
    {
     "name": "stdout",
     "output_type": "stream",
     "text": [
      "\n",
      " \n",
      " \n",
      " \n",
      "\n",
      "2014-01-01 00:00:00 2014-08-01 00:00:00\n",
      " \n",
      "The provided variables allow tracking the following phenomena\n",
      " \n",
      "|  phenomenon  | tracking |\n",
      "---------------------------\n",
      "   Jetstream   |   no\n",
      "   PSL CY/ACY  |   no\n",
      "   Z500 CY/ACY |   no\n",
      "   COLs        |   no\n",
      "   IVT ARs     |   yes\n",
      "   MS ARs      |   no\n",
      "   Fronts      |   no\n",
      "   TCs         |   no\n",
      "   MCSs        |   no\n",
      "   Equ. Waves  |   no\n",
      "---------------------------\n",
      " \n",
      "======> track IVT streams and atmospheric rivers (ARs)\n",
      "        3505 object found\n",
      "        break up long living IVT objects that have many elements\n"
     ]
    },
    {
     "name": "stderr",
     "output_type": "stream",
     "text": [
      "  1%|          | 6/639 [00:00<00:21, 29.09it/s]\n"
     ]
    },
    {
     "ename": "KeyboardInterrupt",
     "evalue": "",
     "output_type": "error",
     "traceback": [
      "\u001b[0;31m---------------------------------------------------------------------------\u001b[0m",
      "\u001b[0;31mKeyboardInterrupt\u001b[0m                         Traceback (most recent call last)",
      "Cell \u001b[0;32mIn[9], line 37\u001b[0m\n\u001b[1;32m     31\u001b[0m Time_sel \u001b[38;5;241m=\u001b[39m IVTuLoader\u001b[38;5;241m.\u001b[39mtime_sel\n\u001b[1;32m     33\u001b[0m output_file_name \u001b[38;5;241m=\u001b[39m \u001b[38;5;124mf\u001b[39m\u001b[38;5;124m'\u001b[39m\u001b[38;5;132;01m{\u001b[39;00moutput_file_name_temp\u001b[38;5;132;01m}\u001b[39;00m\u001b[38;5;124m_\u001b[39m\u001b[38;5;132;01m{\u001b[39;00mget_datetime_str(start_date)\u001b[38;5;132;01m}\u001b[39;00m\u001b[38;5;124m-\u001b[39m\u001b[38;5;132;01m{\u001b[39;00mget_datetime_str(end_date)\u001b[38;5;132;01m}\u001b[39;00m\u001b[38;5;124m'\u001b[39m\n\u001b[0;32m---> 37\u001b[0m \u001b[43mTracking_Functions\u001b[49m\u001b[38;5;241;43m.\u001b[39;49m\u001b[43mmoaap\u001b[49m\u001b[43m(\u001b[49m\u001b[43mLon\u001b[49m\u001b[43m \u001b[49m\u001b[38;5;241;43m=\u001b[39;49m\u001b[43m \u001b[49m\u001b[43mrLon\u001b[49m\u001b[43m,\u001b[49m\u001b[43m                            \u001b[49m\u001b[38;5;66;43;03m# 2Dlongitude grid centers\u001b[39;49;00m\n\u001b[1;32m     38\u001b[0m \u001b[43m                          \u001b[49m\u001b[43mLat\u001b[49m\u001b[43m \u001b[49m\u001b[38;5;241;43m=\u001b[39;49m\u001b[43m \u001b[49m\u001b[43mrLat\u001b[49m\u001b[43m,\u001b[49m\u001b[43m                           \u001b[49m\u001b[38;5;66;43;03m# 2D latitude grid spacing\u001b[39;49;00m\n\u001b[1;32m     39\u001b[0m \u001b[43m                          \u001b[49m\u001b[43mTime\u001b[49m\u001b[43m \u001b[49m\u001b[38;5;241;43m=\u001b[39;49m\u001b[43m \u001b[49m\u001b[43mTime_sel\u001b[49m\u001b[43m,\u001b[49m\u001b[43m                      \u001b[49m\u001b[38;5;66;43;03m# datetime vector of data\u001b[39;49;00m\n\u001b[1;32m     40\u001b[0m \u001b[43m                          \u001b[49m\u001b[43mdT\u001b[49m\u001b[43m \u001b[49m\u001b[38;5;241;43m=\u001b[39;49m\u001b[43m \u001b[49m\u001b[38;5;241;43m1\u001b[39;49m\u001b[43m,\u001b[49m\u001b[43m                               \u001b[49m\u001b[38;5;66;43;03m# integer - temporal frequency of data [hour]\u001b[39;49;00m\n\u001b[1;32m     41\u001b[0m \u001b[43m                          \u001b[49m\u001b[43mMask\u001b[49m\u001b[43m \u001b[49m\u001b[38;5;241;43m=\u001b[39;49m\u001b[43m \u001b[49m\u001b[43mMask\u001b[49m\u001b[43m,\u001b[49m\u001b[43m                          \u001b[49m\u001b[38;5;66;43;03m# mask with dimensions [lat,lon] defining analysis region\u001b[39;49;00m\n\u001b[1;32m     42\u001b[0m \n\u001b[1;32m     43\u001b[0m \u001b[43m                          \u001b[49m\u001b[43mivte\u001b[49m\u001b[43m \u001b[49m\u001b[38;5;241;43m=\u001b[39;49m\u001b[43m \u001b[49m\u001b[43mIVTudata\u001b[49m\u001b[38;5;241;43m.\u001b[39;49m\u001b[43mIVTu\u001b[49m\u001b[38;5;241;43m.\u001b[39;49m\u001b[43mvalues\u001b[49m\u001b[43m,\u001b[49m\u001b[43m          \u001b[49m\u001b[38;5;66;43;03m# zonal integrated vapor transport [kg m-1 s-1]\u001b[39;49;00m\n\u001b[1;32m     44\u001b[0m \u001b[43m                          \u001b[49m\u001b[43mivtn\u001b[49m\u001b[43m \u001b[49m\u001b[38;5;241;43m=\u001b[39;49m\u001b[43m \u001b[49m\u001b[43mIVTvdata\u001b[49m\u001b[38;5;241;43m.\u001b[39;49m\u001b[43mIVTv\u001b[49m\u001b[38;5;241;43m.\u001b[39;49m\u001b[43mvalues\u001b[49m\u001b[43m,\u001b[49m\u001b[43m          \u001b[49m\u001b[38;5;66;43;03m# meidional integrated vapor transport [kg m-1 s-1]\u001b[39;49;00m\n\u001b[1;32m     45\u001b[0m \u001b[43m                          \u001b[49m\u001b[43mregular_Lon\u001b[49m\u001b[43m \u001b[49m\u001b[38;5;241;43m=\u001b[39;49m\u001b[43m \u001b[49m\u001b[43mLon\u001b[49m\u001b[43m,\u001b[49m\n\u001b[1;32m     46\u001b[0m \u001b[43m                          \u001b[49m\u001b[43mregular_Lat\u001b[49m\u001b[43m \u001b[49m\u001b[38;5;241;43m=\u001b[39;49m\u001b[43m \u001b[49m\u001b[43mLat\u001b[49m\u001b[43m,\u001b[49m\n\u001b[1;32m     47\u001b[0m \u001b[43m                          \u001b[49m\u001b[43mIVTtrheshold\u001b[49m\u001b[43m \u001b[49m\u001b[38;5;241;43m=\u001b[39;49m\u001b[43m \u001b[49m\u001b[43mIVTtrheshold\u001b[49m\u001b[43m,\u001b[49m\u001b[43m          \u001b[49m\u001b[38;5;66;43;03m# Integrated water vapor transport threshold for AR detection [kg m-1 s-1]\u001b[39;49;00m\n\u001b[1;32m     48\u001b[0m \u001b[43m                                                                \u001b[49m\u001b[38;5;66;43;03m# JLa: additionall fixed threshold 100 in code\u001b[39;49;00m\n\u001b[1;32m     49\u001b[0m \n\u001b[1;32m     50\u001b[0m \u001b[43m                          \u001b[49m\u001b[43mDataName\u001b[49m\u001b[43m \u001b[49m\u001b[38;5;241;43m=\u001b[39;49m\u001b[43m \u001b[49m\u001b[43moutput_file_name\u001b[49m\u001b[43m,\u001b[49m\n\u001b[1;32m     51\u001b[0m \u001b[43m                          \u001b[49m\u001b[43mOutputFolder\u001b[49m\u001b[38;5;241;43m=\u001b[39;49m\u001b[43moutput_path\u001b[49m\u001b[43m \u001b[49m\u001b[43m,\u001b[49m\n\u001b[1;32m     52\u001b[0m \u001b[43m                          \u001b[49m\u001b[43mdict_keys_offset\u001b[49m\u001b[43m \u001b[49m\u001b[38;5;241;43m=\u001b[39;49m\u001b[43m \u001b[49m\u001b[43mdict_keys_offset\u001b[49m\n\u001b[1;32m     53\u001b[0m \u001b[43m                        \u001b[49m\u001b[43m)\u001b[49m\n\u001b[1;32m     56\u001b[0m cleanup_dicts(output_path,\n\u001b[1;32m     57\u001b[0m               output_file_name_temp,\n\u001b[1;32m     58\u001b[0m               start_date,\n\u001b[0;32m   (...)\u001b[0m\n\u001b[1;32m     61\u001b[0m               type_\u001b[38;5;241m=\u001b[39m\u001b[38;5;124m'\u001b[39m\u001b[38;5;124mIVT\u001b[39m\u001b[38;5;124m'\u001b[39m\n\u001b[1;32m     62\u001b[0m              )\n\u001b[1;32m     64\u001b[0m cleanup_dicts(output_path,\n\u001b[1;32m     65\u001b[0m               output_file_name_temp,\n\u001b[1;32m     66\u001b[0m               start_date,\n\u001b[0;32m   (...)\u001b[0m\n\u001b[1;32m     69\u001b[0m               type_\u001b[38;5;241m=\u001b[39m\u001b[38;5;124m'\u001b[39m\u001b[38;5;124mARs\u001b[39m\u001b[38;5;124m'\u001b[39m\n\u001b[1;32m     70\u001b[0m              )\n",
      "File \u001b[0;32m/work/aa0238/a271093/Scripts/MOAAP/src/Tracking_Functions.py:5909\u001b[0m, in \u001b[0;36mmoaap\u001b[0;34m(Lon, Lat, Time, dT, Mask, v850, u850, t850, q850, slp, ivte, ivtn, z500, v200, u200, pr, tb, DataName, OutputFolder, regular_Lat, regular_Lon, SmoothSigmaP, Pthreshold, MinTimePR, MinAreaPR, MinTimeMS, MinAreaMS, MinMSthreshold, MinTimeCY, MaxPresAnCY, MinTimeACY, MinPresAnACY, MinAreaFR, front_treshold, SmoothSigmaC, Cthreshold, MinTimeC, MinAreaC, IVTtrheshold, MinTimeIVT, AR_MinLen, AR_Lat, AR_width_lenght_ratio, TC_Pmin, TC_lat_genesis, TC_lat_max, TC_deltaT_core, TC_T850min, TC_minBT, MCS_Minsize, MCS_minPR, CL_MaxT, CL_Area, MCS_minTime, js_min_anomaly, MinTimeJS, tropwave_minTime, dict_keys_offset)\u001b[0m\n\u001b[1;32m   5906\u001b[0m start \u001b[38;5;241m=\u001b[39m time\u001b[38;5;241m.\u001b[39mperf_counter()\n\u001b[1;32m   5907\u001b[0m IVT \u001b[38;5;241m=\u001b[39m (ivte\u001b[38;5;241m*\u001b[39m\u001b[38;5;241m*\u001b[39m\u001b[38;5;241m2\u001b[39m \u001b[38;5;241m+\u001b[39m ivtn\u001b[38;5;241m*\u001b[39m\u001b[38;5;241m*\u001b[39m\u001b[38;5;241m2\u001b[39m) \u001b[38;5;241m*\u001b[39m\u001b[38;5;241m*\u001b[39m \u001b[38;5;241m0.5\u001b[39m\n\u001b[0;32m-> 5909\u001b[0m IVT_objects \u001b[38;5;241m=\u001b[39m \u001b[43mar_ivt_tracking\u001b[49m\u001b[43m(\u001b[49m\n\u001b[1;32m   5910\u001b[0m \u001b[43m    \u001b[49m\u001b[43mIVT\u001b[49m\u001b[43m,\u001b[49m\u001b[43m \u001b[49m\u001b[43mIVTtrheshold\u001b[49m\u001b[43m,\u001b[49m\u001b[43m \u001b[49m\u001b[43mMinTimeIVT\u001b[49m\u001b[43m,\u001b[49m\u001b[43m \u001b[49m\u001b[43mdT\u001b[49m\u001b[43m,\u001b[49m\u001b[43m \u001b[49m\u001b[43mconnectLon\u001b[49m\u001b[43m,\u001b[49m\u001b[43m \u001b[49m\u001b[43mTime\u001b[49m\n\u001b[1;32m   5911\u001b[0m \u001b[43m\u001b[49m\u001b[43m)\u001b[49m  \u001b[38;5;66;03m# JLa: added object_split, Time\u001b[39;00m\n\u001b[1;32m   5912\u001b[0m \u001b[38;5;66;03m# JRie added object_split_info)\u001b[39;00m\n\u001b[1;32m   5913\u001b[0m \n\u001b[1;32m   5914\u001b[0m \u001b[38;5;66;03m# moaap.var_IVT_objects=IVT_objects\u001b[39;00m\n\u001b[1;32m   5915\u001b[0m \u001b[38;5;66;03m# moaap.var_IVT=IVT\u001b[39;00m\n\u001b[1;32m   5916\u001b[0m moaap\u001b[38;5;241m.\u001b[39mvar_OutputFolder \u001b[38;5;241m=\u001b[39m (\n\u001b[1;32m   5917\u001b[0m     OutputFolder\n\u001b[1;32m   5918\u001b[0m     \u001b[38;5;241m+\u001b[39m \u001b[38;5;124m\"\u001b[39m\u001b[38;5;124mIVT_\u001b[39m\u001b[38;5;124m\"\u001b[39m\n\u001b[0;32m   (...)\u001b[0m\n\u001b[1;32m   5922\u001b[0m     \u001b[38;5;241m+\u001b[39m SetupString\n\u001b[1;32m   5923\u001b[0m )\n",
      "File \u001b[0;32m/work/aa0238/a271093/Scripts/MOAAP/src/Tracking_Functions.py:4524\u001b[0m, in \u001b[0;36mar_ivt_tracking\u001b[0;34m(IVT, IVTtrheshold, MinTimeIVT, dT, connectLon, Time)\u001b[0m\n\u001b[1;32m   4519\u001b[0m IVT_objects, _ \u001b[38;5;241m=\u001b[39m clean_up_objects(\n\u001b[1;32m   4520\u001b[0m     rgiObjectsIVT, dT, min_tsteps\u001b[38;5;241m=\u001b[39m\u001b[38;5;28mint\u001b[39m(MinTimeIVT \u001b[38;5;241m/\u001b[39m dT)\n\u001b[1;32m   4521\u001b[0m )\n\u001b[1;32m   4523\u001b[0m \u001b[38;5;28mprint\u001b[39m(\u001b[38;5;124m\"\u001b[39m\u001b[38;5;124m        break up long living IVT objects that have many elements\u001b[39m\u001b[38;5;124m\"\u001b[39m)\n\u001b[0;32m-> 4524\u001b[0m IVT_objects, object_split \u001b[38;5;241m=\u001b[39m \u001b[43mBreakupObjects\u001b[49m\u001b[43m(\u001b[49m\u001b[43mIVT_objects\u001b[49m\u001b[43m,\u001b[49m\u001b[43m \u001b[49m\u001b[38;5;28;43mint\u001b[39;49m\u001b[43m(\u001b[49m\u001b[43mMinTimeIVT\u001b[49m\u001b[43m \u001b[49m\u001b[38;5;241;43m/\u001b[39;49m\u001b[43m \u001b[49m\u001b[43mdT\u001b[49m\u001b[43m)\u001b[49m\u001b[43m,\u001b[49m\u001b[43m \u001b[49m\u001b[43mdT\u001b[49m\u001b[43m)\u001b[49m\n\u001b[1;32m   4526\u001b[0m \u001b[38;5;28;01mif\u001b[39;00m connectLon \u001b[38;5;241m==\u001b[39m \u001b[38;5;241m1\u001b[39m:\n\u001b[1;32m   4527\u001b[0m     \u001b[38;5;28mprint\u001b[39m(\u001b[38;5;124m\"\u001b[39m\u001b[38;5;124m        connect IVT objects over date line\u001b[39m\u001b[38;5;124m\"\u001b[39m)\n",
      "File \u001b[0;32m/work/aa0238/a271093/Scripts/MOAAP/src/Tracking_Functions.py:1100\u001b[0m, in \u001b[0;36mBreakupObjects\u001b[0;34m(DATA, min_tsteps, dT, obj_history)\u001b[0m\n\u001b[1;32m   1095\u001b[0m         rgiObjects2D_ACT[tt, rgiObjects2D_ACT[tt, :] \u001b[38;5;241m==\u001b[39m ob2] \u001b[38;5;241m=\u001b[39m ttm1_obj[\n\u001b[1;32m   1096\u001b[0m             np\u001b[38;5;241m.\u001b[39margmax(VOL)\n\u001b[1;32m   1097\u001b[0m         ]\n\u001b[1;32m   1099\u001b[0m \u001b[38;5;66;03m# are there new object?\u001b[39;00m\n\u001b[0;32m-> 1100\u001b[0m NewObj \u001b[38;5;241m=\u001b[39m \u001b[43mnp\u001b[49m\u001b[38;5;241;43m.\u001b[39;49m\u001b[43munique\u001b[49m\u001b[43m(\u001b[49m\u001b[43mrgiObjects2D_ACT\u001b[49m\u001b[43m[\u001b[49m\u001b[43mtt\u001b[49m\u001b[43m,\u001b[49m\u001b[43m \u001b[49m\u001b[43m:\u001b[49m\u001b[43m,\u001b[49m\u001b[43m \u001b[49m\u001b[43m:\u001b[49m\u001b[43m]\u001b[49m\u001b[43m)\u001b[49m[\u001b[38;5;241m1\u001b[39m:]\n\u001b[1;32m   1101\u001b[0m NewObj \u001b[38;5;241m=\u001b[39m \u001b[38;5;28mlist\u001b[39m(np\u001b[38;5;241m.\u001b[39msetdiff1d(NewObj, rgiObAct))\n\u001b[1;32m   1102\u001b[0m \u001b[38;5;28;01mif\u001b[39;00m \u001b[38;5;28mlen\u001b[39m(NewObj) \u001b[38;5;241m!=\u001b[39m \u001b[38;5;241m0\u001b[39m:\n",
      "File \u001b[0;32m/work/aa0238/a271093/Conda/MOAAP_env/lib/python3.12/site-packages/numpy/lib/arraysetops.py:274\u001b[0m, in \u001b[0;36munique\u001b[0;34m(ar, return_index, return_inverse, return_counts, axis, equal_nan)\u001b[0m\n\u001b[1;32m    272\u001b[0m ar \u001b[38;5;241m=\u001b[39m np\u001b[38;5;241m.\u001b[39masanyarray(ar)\n\u001b[1;32m    273\u001b[0m \u001b[38;5;28;01mif\u001b[39;00m axis \u001b[38;5;129;01mis\u001b[39;00m \u001b[38;5;28;01mNone\u001b[39;00m:\n\u001b[0;32m--> 274\u001b[0m     ret \u001b[38;5;241m=\u001b[39m \u001b[43m_unique1d\u001b[49m\u001b[43m(\u001b[49m\u001b[43mar\u001b[49m\u001b[43m,\u001b[49m\u001b[43m \u001b[49m\u001b[43mreturn_index\u001b[49m\u001b[43m,\u001b[49m\u001b[43m \u001b[49m\u001b[43mreturn_inverse\u001b[49m\u001b[43m,\u001b[49m\u001b[43m \u001b[49m\u001b[43mreturn_counts\u001b[49m\u001b[43m,\u001b[49m\u001b[43m \u001b[49m\n\u001b[1;32m    275\u001b[0m \u001b[43m                    \u001b[49m\u001b[43mequal_nan\u001b[49m\u001b[38;5;241;43m=\u001b[39;49m\u001b[43mequal_nan\u001b[49m\u001b[43m)\u001b[49m\n\u001b[1;32m    276\u001b[0m     \u001b[38;5;28;01mreturn\u001b[39;00m _unpack_tuple(ret)\n\u001b[1;32m    278\u001b[0m \u001b[38;5;66;03m# axis was specified and not None\u001b[39;00m\n",
      "File \u001b[0;32m/work/aa0238/a271093/Conda/MOAAP_env/lib/python3.12/site-packages/numpy/lib/arraysetops.py:336\u001b[0m, in \u001b[0;36m_unique1d\u001b[0;34m(ar, return_index, return_inverse, return_counts, equal_nan)\u001b[0m\n\u001b[1;32m    334\u001b[0m     aux \u001b[38;5;241m=\u001b[39m ar[perm]\n\u001b[1;32m    335\u001b[0m \u001b[38;5;28;01melse\u001b[39;00m:\n\u001b[0;32m--> 336\u001b[0m     \u001b[43mar\u001b[49m\u001b[38;5;241;43m.\u001b[39;49m\u001b[43msort\u001b[49m\u001b[43m(\u001b[49m\u001b[43m)\u001b[49m\n\u001b[1;32m    337\u001b[0m     aux \u001b[38;5;241m=\u001b[39m ar\n\u001b[1;32m    338\u001b[0m mask \u001b[38;5;241m=\u001b[39m np\u001b[38;5;241m.\u001b[39mempty(aux\u001b[38;5;241m.\u001b[39mshape, dtype\u001b[38;5;241m=\u001b[39mnp\u001b[38;5;241m.\u001b[39mbool_)\n",
      "\u001b[0;31mKeyboardInterrupt\u001b[0m: "
     ]
    }
   ],
   "source": [
    "\n",
    "IVTuLoader= TrackingDataLoader('IVTu', data_path, suffix=suffix, file_type = file_type)\n",
    "IVTvLoader= TrackingDataLoader('IVTv', data_path, suffix=suffix, file_type = file_type)\n",
    "\n",
    "\n",
    "dict_keys_offset = 0\n",
    "\n",
    "for start_date, end_date in zip(start_date_list, end_date_list):\n",
    "    \n",
    "    print (\"\\n \\n \\n \\n\")\n",
    "    \n",
    "    IVTuLoader.start_date = start_date\n",
    "    IVTvLoader.start_date = start_date\n",
    "    \n",
    "    IVTuLoader.end_date = end_date\n",
    "    IVTvLoader.end_date = end_date\n",
    "\n",
    "    print (IVTuLoader.start_date, IVTuLoader.end_date)\n",
    "    \n",
    "\n",
    "    IVTudata=IVTuLoader.load_datasets(rm_nc=True)\n",
    "    IVTvdata=IVTvLoader.load_datasets(rm_nc=True)\n",
    "\n",
    "\n",
    "    rLon = xr.broadcast(IVTudata.rlon, IVTudata.rlat)[0].values.T\n",
    "    rLat = xr.broadcast(IVTudata.rlon, IVTudata.rlat)[1].values.T\n",
    "\n",
    "    Lon = xr.broadcast(IVTudata.lon, IVTudata.lat)[0].values\n",
    "    Lat = xr.broadcast(IVTudata.lon, IVTudata.lat)[1].values\n",
    "\n",
    "    Mask=1*(rLat>-999)\n",
    "    Time_sel = IVTuLoader.time_sel\n",
    "    \n",
    "    output_file_name = f'{output_file_name_temp}_{get_datetime_str(start_date)}-{get_datetime_str(end_date)}'\n",
    "\n",
    "    \n",
    "\n",
    "    Tracking_Functions.moaap(Lon = rLon,                            # 2Dlongitude grid centers\n",
    "                              Lat = rLat,                           # 2D latitude grid spacing\n",
    "                              Time = Time_sel,                      # datetime vector of data\n",
    "                              dT = 1,                               # integer - temporal frequency of data [hour]\n",
    "                              Mask = Mask,                          # mask with dimensions [lat,lon] defining analysis region\n",
    "\n",
    "                              ivte = IVTudata.IVTu.values,          # zonal integrated vapor transport [kg m-1 s-1]\n",
    "                              ivtn = IVTvdata.IVTv.values,          # meidional integrated vapor transport [kg m-1 s-1]\n",
    "                              regular_Lon = Lon,\n",
    "                              regular_Lat = Lat,\n",
    "                              IVTtrheshold = IVTtrheshold,          # Integrated water vapor transport threshold for AR detection [kg m-1 s-1]\n",
    "                                                                    # JLa: additionall fixed threshold 100 in code\n",
    "\n",
    "                              DataName = output_file_name,\n",
    "                              OutputFolder=output_path ,\n",
    "                              dict_keys_offset = dict_keys_offset\n",
    "                            )\n",
    "                       \n",
    "                             \n",
    "    cleanup_dicts(output_path,\n",
    "                  output_file_name_temp,\n",
    "                  start_date,\n",
    "                  end_date, \n",
    "                  last_processed_date,\n",
    "                  type_='IVT'\n",
    "                 )\n",
    "        \n",
    "    cleanup_dicts(output_path,\n",
    "                  output_file_name_temp,\n",
    "                  start_date,\n",
    "                  end_date, \n",
    "                  last_processed_date,\n",
    "                  type_='ARs'\n",
    "                 )\n",
    "    \n",
    "    correct_nc_file(output_path,\n",
    "                    output_file_name_temp, \n",
    "                    start_date,\n",
    "                    end_date,\n",
    "                    last_processed_date\n",
    "                   )\n",
    "                             \n",
    "    dict_keys_offset +=5000"
   ]
  },
  {
   "cell_type": "code",
   "execution_count": 3,
   "id": "ad4554ba-f09f-4cb5-a1ce-a8f0d3fb3c66",
   "metadata": {},
   "outputs": [],
   "source": [
    "import xarray as xr\n",
    "import glob\n",
    "files = glob.glob(\"/work/aa0238/a271093/data/Jan_runs/ICON_NorESM_ssp/NorESM_ssp_remapped_3x/IVTu/*.nc\")\n",
    "\n",
    "full_var_ds = xr.open_mfdataset(files)"
   ]
  },
  {
   "cell_type": "code",
   "execution_count": 10,
   "id": "1028329e-9312-4b73-860b-633026069f71",
   "metadata": {},
   "outputs": [
    {
     "data": {
      "text/plain": [
       "array([datetime.datetime(2014, 1, 1, 1, 0),\n",
       "       datetime.datetime(2014, 1, 1, 2, 0),\n",
       "       datetime.datetime(2014, 1, 1, 3, 0), ...,\n",
       "       datetime.datetime(2014, 7, 31, 21, 0),\n",
       "       datetime.datetime(2014, 7, 31, 22, 0),\n",
       "       datetime.datetime(2014, 7, 31, 23, 0)], dtype=object)"
      ]
     },
     "execution_count": 10,
     "metadata": {},
     "output_type": "execute_result"
    }
   ],
   "source": [
    "Time_sel"
   ]
  },
  {
   "cell_type": "code",
   "execution_count": null,
   "id": "067c5544-4955-4d03-8151-45728e42cc8d",
   "metadata": {},
   "outputs": [],
   "source": [
    "                    var_ds = full_var_ds.sel(\n",
    "                        time=slice(start_date, end_date + relativedelta(months=1))\n",
    "                    ).load()"
   ]
  }
 ],
 "metadata": {
  "kernelspec": {
   "display_name": "MOAAP-Kernel",
   "language": "python",
   "name": "moaap_kernel"
  },
  "language_info": {
   "codemirror_mode": {
    "name": "ipython",
    "version": 3
   },
   "file_extension": ".py",
   "mimetype": "text/x-python",
   "name": "python",
   "nbconvert_exporter": "python",
   "pygments_lexer": "ipython3",
   "version": "3.12.2"
  }
 },
 "nbformat": 4,
 "nbformat_minor": 5
}
