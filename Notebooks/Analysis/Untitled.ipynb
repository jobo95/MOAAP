{
 "cells": [
  {
   "cell_type": "code",
   "execution_count": 4,
   "id": "bbe75bba-a705-4049-9a24-0f2bc385c60e",
   "metadata": {},
   "outputs": [],
   "source": [
    "%load_ext autoreload\n",
    "%autoreload 2"
   ]
  },
  {
   "cell_type": "code",
   "execution_count": 8,
   "id": "10fc3574-db00-474b-ac53-031f1f416a43",
   "metadata": {
    "tags": []
   },
   "outputs": [
    {
     "name": "stdout",
     "output_type": "stream",
     "text": [
      "The autoreload extension is already loaded. To reload it, use:\n",
      "  %reload_ext autoreload\n"
     ]
    },
    {
     "name": "stderr",
     "output_type": "stream",
     "text": [
      "/work/aa0238/a271093/Scripts/MOAAP/src/xarray_util.py:172: AccessorRegistrationWarning: registration of accessor <class 'src.xarray_util.Accessor'> under name 'get' for type <class 'xarray.core.dataset.Dataset'> is overriding a preexisting attribute with the same name.\n",
      "  ### TODO accessor overriding warning######\n"
     ]
    }
   ],
   "source": [
    "%load_ext autoreload\n",
    "%autoreload 2\n",
    "import xarray as xr\n",
    "import matplotlib.pyplot as plt\n",
    "import numpy as np\n",
    "import pandas as pd\n",
    "import scipy\n",
    "import datetime\n",
    "import cartopy\n",
    "from metpy.units import units\n",
    "import cartopy.crs as ccrs\n",
    "import pickle\n",
    "import seaborn as sns\n",
    "import os\n",
    "\n",
    "from src.Enumerations import Month, Season\n",
    "from src.xarray_util import create_obj_from_dict,  ObjectContainer, load_tracking_objects"
   ]
  },
  {
   "cell_type": "markdown",
   "id": "51ddcf2c-85b9-48a0-a13c-a341b90f6b6c",
   "metadata": {
    "tags": []
   },
   "source": [
    "# Settings"
   ]
  },
  {
   "cell_type": "code",
   "execution_count": 9,
   "id": "1dd0940c-693d-4081-ab38-825fe80de79f",
   "metadata": {
    "tags": []
   },
   "outputs": [],
   "source": [
    "input_path = '/work/aa0238/a271093/results/MOAAP/IVT_Tracking/CNRM_control_remapped_3x/'\n",
    "type_='IVT'\n",
    "input_file_name_temp = 'MOAPP_ICON_100and85controlperc_remapped_3x'\n",
    "#input_field_grid= '/work/aa0238/a271093/data/input/IVT_85_percentiles_CNMR_control_3dx3dy.nc'\n",
    "#GridPoint.input_field_grid = input_field_grid\n",
    "\n",
    "first_year = 1984\n",
    "last_year = 1985\n",
    "num_years = last_year-first_year"
   ]
  },
  {
   "cell_type": "markdown",
   "id": "98c845a6-af75-49f2-9d7c-da8712bba16a",
   "metadata": {
    "tags": []
   },
   "source": [
    "## Load pickle dictionaries into in-memory Datasets"
   ]
  },
  {
   "cell_type": "code",
   "execution_count": 10,
   "id": "afdbd4fd-a62d-4c0b-a3cd-4a5b5bd5e322",
   "metadata": {
    "tags": []
   },
   "outputs": [
    {
     "name": "stdout",
     "output_type": "stream",
     "text": [
      "1984-01-01 00:00:00\n",
      "1984-07-01 00:00:00\n"
     ]
    }
   ],
   "source": [
    "IVT_objs = load_tracking_objects(input_path, input_file_name_temp, type_, first_year, last_year,load_coordinates=False)\n",
    "    \n"
   ]
  },
  {
   "cell_type": "code",
   "execution_count": 12,
   "id": "fc8d999d-b93e-4dbf-aba7-9047cbb504c1",
   "metadata": {
    "tags": []
   },
   "outputs": [
    {
     "data": {
      "text/html": [
       "<div><svg style=\"position: absolute; width: 0; height: 0; overflow: hidden\">\n",
       "<defs>\n",
       "<symbol id=\"icon-database\" viewBox=\"0 0 32 32\">\n",
       "<path d=\"M16 0c-8.837 0-16 2.239-16 5v4c0 2.761 7.163 5 16 5s16-2.239 16-5v-4c0-2.761-7.163-5-16-5z\"></path>\n",
       "<path d=\"M16 17c-8.837 0-16-2.239-16-5v6c0 2.761 7.163 5 16 5s16-2.239 16-5v-6c0 2.761-7.163 5-16 5z\"></path>\n",
       "<path d=\"M16 26c-8.837 0-16-2.239-16-5v6c0 2.761 7.163 5 16 5s16-2.239 16-5v-6c0 2.761-7.163 5-16 5z\"></path>\n",
       "</symbol>\n",
       "<symbol id=\"icon-file-text2\" viewBox=\"0 0 32 32\">\n",
       "<path d=\"M28.681 7.159c-0.694-0.947-1.662-2.053-2.724-3.116s-2.169-2.030-3.116-2.724c-1.612-1.182-2.393-1.319-2.841-1.319h-15.5c-1.378 0-2.5 1.121-2.5 2.5v27c0 1.378 1.122 2.5 2.5 2.5h23c1.378 0 2.5-1.122 2.5-2.5v-19.5c0-0.448-0.137-1.23-1.319-2.841zM24.543 5.457c0.959 0.959 1.712 1.825 2.268 2.543h-4.811v-4.811c0.718 0.556 1.584 1.309 2.543 2.268zM28 29.5c0 0.271-0.229 0.5-0.5 0.5h-23c-0.271 0-0.5-0.229-0.5-0.5v-27c0-0.271 0.229-0.5 0.5-0.5 0 0 15.499-0 15.5 0v7c0 0.552 0.448 1 1 1h7v19.5z\"></path>\n",
       "<path d=\"M23 26h-14c-0.552 0-1-0.448-1-1s0.448-1 1-1h14c0.552 0 1 0.448 1 1s-0.448 1-1 1z\"></path>\n",
       "<path d=\"M23 22h-14c-0.552 0-1-0.448-1-1s0.448-1 1-1h14c0.552 0 1 0.448 1 1s-0.448 1-1 1z\"></path>\n",
       "<path d=\"M23 18h-14c-0.552 0-1-0.448-1-1s0.448-1 1-1h14c0.552 0 1 0.448 1 1s-0.448 1-1 1z\"></path>\n",
       "</symbol>\n",
       "</defs>\n",
       "</svg>\n",
       "<style>/* CSS stylesheet for displaying xarray objects in jupyterlab.\n",
       " *\n",
       " */\n",
       "\n",
       ":root {\n",
       "  --xr-font-color0: var(--jp-content-font-color0, rgba(0, 0, 0, 1));\n",
       "  --xr-font-color2: var(--jp-content-font-color2, rgba(0, 0, 0, 0.54));\n",
       "  --xr-font-color3: var(--jp-content-font-color3, rgba(0, 0, 0, 0.38));\n",
       "  --xr-border-color: var(--jp-border-color2, #e0e0e0);\n",
       "  --xr-disabled-color: var(--jp-layout-color3, #bdbdbd);\n",
       "  --xr-background-color: var(--jp-layout-color0, white);\n",
       "  --xr-background-color-row-even: var(--jp-layout-color1, white);\n",
       "  --xr-background-color-row-odd: var(--jp-layout-color2, #eeeeee);\n",
       "}\n",
       "\n",
       "html[theme=dark],\n",
       "body[data-theme=dark],\n",
       "body.vscode-dark {\n",
       "  --xr-font-color0: rgba(255, 255, 255, 1);\n",
       "  --xr-font-color2: rgba(255, 255, 255, 0.54);\n",
       "  --xr-font-color3: rgba(255, 255, 255, 0.38);\n",
       "  --xr-border-color: #1F1F1F;\n",
       "  --xr-disabled-color: #515151;\n",
       "  --xr-background-color: #111111;\n",
       "  --xr-background-color-row-even: #111111;\n",
       "  --xr-background-color-row-odd: #313131;\n",
       "}\n",
       "\n",
       ".xr-wrap {\n",
       "  display: block !important;\n",
       "  min-width: 300px;\n",
       "  max-width: 700px;\n",
       "}\n",
       "\n",
       ".xr-text-repr-fallback {\n",
       "  /* fallback to plain text repr when CSS is not injected (untrusted notebook) */\n",
       "  display: none;\n",
       "}\n",
       "\n",
       ".xr-header {\n",
       "  padding-top: 6px;\n",
       "  padding-bottom: 6px;\n",
       "  margin-bottom: 4px;\n",
       "  border-bottom: solid 1px var(--xr-border-color);\n",
       "}\n",
       "\n",
       ".xr-header > div,\n",
       ".xr-header > ul {\n",
       "  display: inline;\n",
       "  margin-top: 0;\n",
       "  margin-bottom: 0;\n",
       "}\n",
       "\n",
       ".xr-obj-type,\n",
       ".xr-array-name {\n",
       "  margin-left: 2px;\n",
       "  margin-right: 10px;\n",
       "}\n",
       "\n",
       ".xr-obj-type {\n",
       "  color: var(--xr-font-color2);\n",
       "}\n",
       "\n",
       ".xr-sections {\n",
       "  padding-left: 0 !important;\n",
       "  display: grid;\n",
       "  grid-template-columns: 150px auto auto 1fr 20px 20px;\n",
       "}\n",
       "\n",
       ".xr-section-item {\n",
       "  display: contents;\n",
       "}\n",
       "\n",
       ".xr-section-item input {\n",
       "  display: none;\n",
       "}\n",
       "\n",
       ".xr-section-item input + label {\n",
       "  color: var(--xr-disabled-color);\n",
       "}\n",
       "\n",
       ".xr-section-item input:enabled + label {\n",
       "  cursor: pointer;\n",
       "  color: var(--xr-font-color2);\n",
       "}\n",
       "\n",
       ".xr-section-item input:enabled + label:hover {\n",
       "  color: var(--xr-font-color0);\n",
       "}\n",
       "\n",
       ".xr-section-summary {\n",
       "  grid-column: 1;\n",
       "  color: var(--xr-font-color2);\n",
       "  font-weight: 500;\n",
       "}\n",
       "\n",
       ".xr-section-summary > span {\n",
       "  display: inline-block;\n",
       "  padding-left: 0.5em;\n",
       "}\n",
       "\n",
       ".xr-section-summary-in:disabled + label {\n",
       "  color: var(--xr-font-color2);\n",
       "}\n",
       "\n",
       ".xr-section-summary-in + label:before {\n",
       "  display: inline-block;\n",
       "  content: '►';\n",
       "  font-size: 11px;\n",
       "  width: 15px;\n",
       "  text-align: center;\n",
       "}\n",
       "\n",
       ".xr-section-summary-in:disabled + label:before {\n",
       "  color: var(--xr-disabled-color);\n",
       "}\n",
       "\n",
       ".xr-section-summary-in:checked + label:before {\n",
       "  content: '▼';\n",
       "}\n",
       "\n",
       ".xr-section-summary-in:checked + label > span {\n",
       "  display: none;\n",
       "}\n",
       "\n",
       ".xr-section-summary,\n",
       ".xr-section-inline-details {\n",
       "  padding-top: 4px;\n",
       "  padding-bottom: 4px;\n",
       "}\n",
       "\n",
       ".xr-section-inline-details {\n",
       "  grid-column: 2 / -1;\n",
       "}\n",
       "\n",
       ".xr-section-details {\n",
       "  display: none;\n",
       "  grid-column: 1 / -1;\n",
       "  margin-bottom: 5px;\n",
       "}\n",
       "\n",
       ".xr-section-summary-in:checked ~ .xr-section-details {\n",
       "  display: contents;\n",
       "}\n",
       "\n",
       ".xr-array-wrap {\n",
       "  grid-column: 1 / -1;\n",
       "  display: grid;\n",
       "  grid-template-columns: 20px auto;\n",
       "}\n",
       "\n",
       ".xr-array-wrap > label {\n",
       "  grid-column: 1;\n",
       "  vertical-align: top;\n",
       "}\n",
       "\n",
       ".xr-preview {\n",
       "  color: var(--xr-font-color3);\n",
       "}\n",
       "\n",
       ".xr-array-preview,\n",
       ".xr-array-data {\n",
       "  padding: 0 5px !important;\n",
       "  grid-column: 2;\n",
       "}\n",
       "\n",
       ".xr-array-data,\n",
       ".xr-array-in:checked ~ .xr-array-preview {\n",
       "  display: none;\n",
       "}\n",
       "\n",
       ".xr-array-in:checked ~ .xr-array-data,\n",
       ".xr-array-preview {\n",
       "  display: inline-block;\n",
       "}\n",
       "\n",
       ".xr-dim-list {\n",
       "  display: inline-block !important;\n",
       "  list-style: none;\n",
       "  padding: 0 !important;\n",
       "  margin: 0;\n",
       "}\n",
       "\n",
       ".xr-dim-list li {\n",
       "  display: inline-block;\n",
       "  padding: 0;\n",
       "  margin: 0;\n",
       "}\n",
       "\n",
       ".xr-dim-list:before {\n",
       "  content: '(';\n",
       "}\n",
       "\n",
       ".xr-dim-list:after {\n",
       "  content: ')';\n",
       "}\n",
       "\n",
       ".xr-dim-list li:not(:last-child):after {\n",
       "  content: ',';\n",
       "  padding-right: 5px;\n",
       "}\n",
       "\n",
       ".xr-has-index {\n",
       "  font-weight: bold;\n",
       "}\n",
       "\n",
       ".xr-var-list,\n",
       ".xr-var-item {\n",
       "  display: contents;\n",
       "}\n",
       "\n",
       ".xr-var-item > div,\n",
       ".xr-var-item label,\n",
       ".xr-var-item > .xr-var-name span {\n",
       "  background-color: var(--xr-background-color-row-even);\n",
       "  margin-bottom: 0;\n",
       "}\n",
       "\n",
       ".xr-var-item > .xr-var-name:hover span {\n",
       "  padding-right: 5px;\n",
       "}\n",
       "\n",
       ".xr-var-list > li:nth-child(odd) > div,\n",
       ".xr-var-list > li:nth-child(odd) > label,\n",
       ".xr-var-list > li:nth-child(odd) > .xr-var-name span {\n",
       "  background-color: var(--xr-background-color-row-odd);\n",
       "}\n",
       "\n",
       ".xr-var-name {\n",
       "  grid-column: 1;\n",
       "}\n",
       "\n",
       ".xr-var-dims {\n",
       "  grid-column: 2;\n",
       "}\n",
       "\n",
       ".xr-var-dtype {\n",
       "  grid-column: 3;\n",
       "  text-align: right;\n",
       "  color: var(--xr-font-color2);\n",
       "}\n",
       "\n",
       ".xr-var-preview {\n",
       "  grid-column: 4;\n",
       "}\n",
       "\n",
       ".xr-index-preview {\n",
       "  grid-column: 2 / 5;\n",
       "  color: var(--xr-font-color2);\n",
       "}\n",
       "\n",
       ".xr-var-name,\n",
       ".xr-var-dims,\n",
       ".xr-var-dtype,\n",
       ".xr-preview,\n",
       ".xr-attrs dt {\n",
       "  white-space: nowrap;\n",
       "  overflow: hidden;\n",
       "  text-overflow: ellipsis;\n",
       "  padding-right: 10px;\n",
       "}\n",
       "\n",
       ".xr-var-name:hover,\n",
       ".xr-var-dims:hover,\n",
       ".xr-var-dtype:hover,\n",
       ".xr-attrs dt:hover {\n",
       "  overflow: visible;\n",
       "  width: auto;\n",
       "  z-index: 1;\n",
       "}\n",
       "\n",
       ".xr-var-attrs,\n",
       ".xr-var-data,\n",
       ".xr-index-data {\n",
       "  display: none;\n",
       "  background-color: var(--xr-background-color) !important;\n",
       "  padding-bottom: 5px !important;\n",
       "}\n",
       "\n",
       ".xr-var-attrs-in:checked ~ .xr-var-attrs,\n",
       ".xr-var-data-in:checked ~ .xr-var-data,\n",
       ".xr-index-data-in:checked ~ .xr-index-data {\n",
       "  display: block;\n",
       "}\n",
       "\n",
       ".xr-var-data > table {\n",
       "  float: right;\n",
       "}\n",
       "\n",
       ".xr-var-name span,\n",
       ".xr-var-data,\n",
       ".xr-index-name div,\n",
       ".xr-index-data,\n",
       ".xr-attrs {\n",
       "  padding-left: 25px !important;\n",
       "}\n",
       "\n",
       ".xr-attrs,\n",
       ".xr-var-attrs,\n",
       ".xr-var-data,\n",
       ".xr-index-data {\n",
       "  grid-column: 1 / -1;\n",
       "}\n",
       "\n",
       "dl.xr-attrs {\n",
       "  padding: 0;\n",
       "  margin: 0;\n",
       "  display: grid;\n",
       "  grid-template-columns: 125px auto;\n",
       "}\n",
       "\n",
       ".xr-attrs dt,\n",
       ".xr-attrs dd {\n",
       "  padding: 0;\n",
       "  margin: 0;\n",
       "  float: left;\n",
       "  padding-right: 10px;\n",
       "  width: auto;\n",
       "}\n",
       "\n",
       ".xr-attrs dt {\n",
       "  font-weight: normal;\n",
       "  grid-column: 1;\n",
       "}\n",
       "\n",
       ".xr-attrs dt:hover span {\n",
       "  display: inline-block;\n",
       "  background: var(--xr-background-color);\n",
       "  padding-right: 10px;\n",
       "}\n",
       "\n",
       ".xr-attrs dd {\n",
       "  grid-column: 2;\n",
       "  white-space: pre-wrap;\n",
       "  word-break: break-all;\n",
       "}\n",
       "\n",
       ".xr-icon-database,\n",
       ".xr-icon-file-text2,\n",
       ".xr-no-icon {\n",
       "  display: inline-block;\n",
       "  vertical-align: middle;\n",
       "  width: 1em;\n",
       "  height: 1.5em !important;\n",
       "  stroke-width: 0;\n",
       "  stroke: currentColor;\n",
       "  fill: currentColor;\n",
       "}\n",
       "</style><pre class='xr-text-repr-fallback'>&lt;xarray.Dataset&gt; Size: 772B\n",
       "Dimensions:          (times: 12)\n",
       "Coordinates:\n",
       "  * times            (times) datetime64[ns] 96B 1984-01-01T23:00:00 ... 1984-...\n",
       "Data variables:\n",
       "    id_              &lt;U1 4B &#x27;1&#x27;\n",
       "    size             (times) float64 96B 2.077e+03 2.587e+04 ... 4.206e+03\n",
       "    total_IVT        (times) float32 48B 202.8 2.684e+03 ... 2.07e+03 404.3\n",
       "    mean_IVT         (times) float32 48B 101.4 107.4 112.2 ... 107.0 103.5 101.1\n",
       "    max_IVT          (times) float32 48B 101.8 113.1 129.6 ... 117.7 111.7 102.4\n",
       "    min_IVT          (times) float32 48B 101.0 101.3 100.1 ... 100.0 100.0 100.3\n",
       "    mass_center_idy  (times) float64 96B 6.0 4.4 5.029 ... 11.09 11.75 12.75\n",
       "    mass_center_idx  (times) float64 96B 1.0 3.48 3.971 4.432 ... 5.235 5.55 5.5\n",
       "    track            (times) object 96B RotatedGridPoint(lat=-20.899999618530...\n",
       "    speed            (times) float64 96B nan 96.14 25.99 ... 44.3 23.87 32.62</pre><div class='xr-wrap' style='display:none'><div class='xr-header'><div class='xr-obj-type'>xarray.Dataset</div></div><ul class='xr-sections'><li class='xr-section-item'><input id='section-cb5a274e-b2ed-4531-8759-1c8c30b815fe' class='xr-section-summary-in' type='checkbox' disabled ><label for='section-cb5a274e-b2ed-4531-8759-1c8c30b815fe' class='xr-section-summary'  title='Expand/collapse section'>Dimensions:</label><div class='xr-section-inline-details'><ul class='xr-dim-list'><li><span class='xr-has-index'>times</span>: 12</li></ul></div><div class='xr-section-details'></div></li><li class='xr-section-item'><input id='section-0d0ef3ab-85fb-41ee-ba8f-c16c8f43b463' class='xr-section-summary-in' type='checkbox'  checked><label for='section-0d0ef3ab-85fb-41ee-ba8f-c16c8f43b463' class='xr-section-summary' >Coordinates: <span>(1)</span></label><div class='xr-section-inline-details'></div><div class='xr-section-details'><ul class='xr-var-list'><li class='xr-var-item'><div class='xr-var-name'><span class='xr-has-index'>times</span></div><div class='xr-var-dims'>(times)</div><div class='xr-var-dtype'>datetime64[ns]</div><div class='xr-var-preview xr-preview'>1984-01-01T23:00:00 ... 1984-01-...</div><input id='attrs-1392e2c0-ea13-44d0-9513-be10397e207b' class='xr-var-attrs-in' type='checkbox' disabled><label for='attrs-1392e2c0-ea13-44d0-9513-be10397e207b' title='Show/Hide attributes'><svg class='icon xr-icon-file-text2'><use xlink:href='#icon-file-text2'></use></svg></label><input id='data-78c7bb05-b25b-441d-b6d8-b5e61a9a048d' class='xr-var-data-in' type='checkbox'><label for='data-78c7bb05-b25b-441d-b6d8-b5e61a9a048d' title='Show/Hide data repr'><svg class='icon xr-icon-database'><use xlink:href='#icon-database'></use></svg></label><div class='xr-var-attrs'><dl class='xr-attrs'></dl></div><div class='xr-var-data'><pre>array([&#x27;1984-01-01T23:00:00.000000000&#x27;, &#x27;1984-01-02T00:00:00.000000000&#x27;,\n",
       "       &#x27;1984-01-02T01:00:00.000000000&#x27;, &#x27;1984-01-02T02:00:00.000000000&#x27;,\n",
       "       &#x27;1984-01-02T03:00:00.000000000&#x27;, &#x27;1984-01-02T04:00:00.000000000&#x27;,\n",
       "       &#x27;1984-01-02T05:00:00.000000000&#x27;, &#x27;1984-01-02T06:00:00.000000000&#x27;,\n",
       "       &#x27;1984-01-02T07:00:00.000000000&#x27;, &#x27;1984-01-02T08:00:00.000000000&#x27;,\n",
       "       &#x27;1984-01-02T09:00:00.000000000&#x27;, &#x27;1984-01-02T10:00:00.000000000&#x27;],\n",
       "      dtype=&#x27;datetime64[ns]&#x27;)</pre></div></li></ul></div></li><li class='xr-section-item'><input id='section-67d5f72f-d7ef-435b-a515-d2d070b164d7' class='xr-section-summary-in' type='checkbox'  checked><label for='section-67d5f72f-d7ef-435b-a515-d2d070b164d7' class='xr-section-summary' >Data variables: <span>(10)</span></label><div class='xr-section-inline-details'></div><div class='xr-section-details'><ul class='xr-var-list'><li class='xr-var-item'><div class='xr-var-name'><span>id_</span></div><div class='xr-var-dims'>()</div><div class='xr-var-dtype'>&lt;U1</div><div class='xr-var-preview xr-preview'>&#x27;1&#x27;</div><input id='attrs-d1ef8518-500f-440f-9264-b9cc607a15d4' class='xr-var-attrs-in' type='checkbox' disabled><label for='attrs-d1ef8518-500f-440f-9264-b9cc607a15d4' title='Show/Hide attributes'><svg class='icon xr-icon-file-text2'><use xlink:href='#icon-file-text2'></use></svg></label><input id='data-8cad8466-adf7-47f9-a291-378a2ca8e17f' class='xr-var-data-in' type='checkbox'><label for='data-8cad8466-adf7-47f9-a291-378a2ca8e17f' title='Show/Hide data repr'><svg class='icon xr-icon-database'><use xlink:href='#icon-database'></use></svg></label><div class='xr-var-attrs'><dl class='xr-attrs'></dl></div><div class='xr-var-data'><pre>array(&#x27;1&#x27;, dtype=&#x27;&lt;U1&#x27;)</pre></div></li><li class='xr-var-item'><div class='xr-var-name'><span>size</span></div><div class='xr-var-dims'>(times)</div><div class='xr-var-dtype'>float64</div><div class='xr-var-preview xr-preview'>2.077e+03 2.587e+04 ... 4.206e+03</div><input id='attrs-41b9d9cb-f96f-4697-a931-a741b8c666b1' class='xr-var-attrs-in' type='checkbox' disabled><label for='attrs-41b9d9cb-f96f-4697-a931-a741b8c666b1' title='Show/Hide attributes'><svg class='icon xr-icon-file-text2'><use xlink:href='#icon-file-text2'></use></svg></label><input id='data-102c9ebf-ea42-40af-80ee-74023c9d0664' class='xr-var-data-in' type='checkbox'><label for='data-102c9ebf-ea42-40af-80ee-74023c9d0664' title='Show/Hide data repr'><svg class='icon xr-icon-database'><use xlink:href='#icon-database'></use></svg></label><div class='xr-var-attrs'><dl class='xr-attrs'></dl></div><div class='xr-var-data'><pre>array([ 2076.537386  , 25871.60743634, 36265.2562397 , 45676.31047231,\n",
       "       57191.76645876, 63541.27169287, 63647.49863625, 59539.51641743,\n",
       "       51238.02377982, 35644.53281527, 20992.82366884,  4206.45748509])</pre></div></li><li class='xr-var-item'><div class='xr-var-name'><span>total_IVT</span></div><div class='xr-var-dims'>(times)</div><div class='xr-var-dtype'>float32</div><div class='xr-var-preview xr-preview'>202.8 2.684e+03 ... 2.07e+03 404.3</div><input id='attrs-d4894e7c-9490-43ba-8755-0367d0b1994e' class='xr-var-attrs-in' type='checkbox' disabled><label for='attrs-d4894e7c-9490-43ba-8755-0367d0b1994e' title='Show/Hide attributes'><svg class='icon xr-icon-file-text2'><use xlink:href='#icon-file-text2'></use></svg></label><input id='data-0ca0168b-d78b-4228-8b9a-cdbfb0b92eb6' class='xr-var-data-in' type='checkbox'><label for='data-0ca0168b-d78b-4228-8b9a-cdbfb0b92eb6' title='Show/Hide data repr'><svg class='icon xr-icon-database'><use xlink:href='#icon-database'></use></svg></label><div class='xr-var-attrs'><dl class='xr-attrs'></dl></div><div class='xr-var-data'><pre>array([ 202.7892, 2683.7788, 3928.2898, 5037.9336, 6313.823 , 6994.6875,\n",
       "       6905.0244, 6336.452 , 5331.0635, 3639.0725, 2069.7295,  404.2942],\n",
       "      dtype=float32)</pre></div></li><li class='xr-var-item'><div class='xr-var-name'><span>mean_IVT</span></div><div class='xr-var-dims'>(times)</div><div class='xr-var-dtype'>float32</div><div class='xr-var-preview xr-preview'>101.4 107.4 112.2 ... 103.5 101.1</div><input id='attrs-4d4a60ca-4b19-4384-a751-c52cb1b4c799' class='xr-var-attrs-in' type='checkbox' disabled><label for='attrs-4d4a60ca-4b19-4384-a751-c52cb1b4c799' title='Show/Hide attributes'><svg class='icon xr-icon-file-text2'><use xlink:href='#icon-file-text2'></use></svg></label><input id='data-2eff3c93-dcfa-42eb-97e4-72c8efa393d1' class='xr-var-data-in' type='checkbox'><label for='data-2eff3c93-dcfa-42eb-97e4-72c8efa393d1' title='Show/Hide data repr'><svg class='icon xr-icon-database'><use xlink:href='#icon-database'></use></svg></label><div class='xr-var-attrs'><dl class='xr-attrs'></dl></div><div class='xr-var-data'><pre>array([101.3946  , 107.35115 , 112.236855, 114.49849 , 114.79678 ,\n",
       "       114.66701 , 113.19712 , 111.165825, 108.79721 , 107.03155 ,\n",
       "       103.48647 , 101.07355 ], dtype=float32)</pre></div></li><li class='xr-var-item'><div class='xr-var-name'><span>max_IVT</span></div><div class='xr-var-dims'>(times)</div><div class='xr-var-dtype'>float32</div><div class='xr-var-preview xr-preview'>101.8 113.1 129.6 ... 111.7 102.4</div><input id='attrs-1168ce75-418e-4de2-aca1-182bd40e5ba8' class='xr-var-attrs-in' type='checkbox' disabled><label for='attrs-1168ce75-418e-4de2-aca1-182bd40e5ba8' title='Show/Hide attributes'><svg class='icon xr-icon-file-text2'><use xlink:href='#icon-file-text2'></use></svg></label><input id='data-8926b412-fe68-4bba-af33-934ac49bae32' class='xr-var-data-in' type='checkbox'><label for='data-8926b412-fe68-4bba-af33-934ac49bae32' title='Show/Hide data repr'><svg class='icon xr-icon-database'><use xlink:href='#icon-database'></use></svg></label><div class='xr-var-attrs'><dl class='xr-attrs'></dl></div><div class='xr-var-data'><pre>array([101.80935 , 113.13125 , 129.64857 , 136.55684 , 136.34048 ,\n",
       "       131.07619 , 129.00667 , 127.26843 , 122.74429 , 117.740486,\n",
       "       111.743034, 102.37214 ], dtype=float32)</pre></div></li><li class='xr-var-item'><div class='xr-var-name'><span>min_IVT</span></div><div class='xr-var-dims'>(times)</div><div class='xr-var-dtype'>float32</div><div class='xr-var-preview xr-preview'>101.0 101.3 100.1 ... 100.0 100.3</div><input id='attrs-10f59dd7-afcf-4254-b100-9a304464cadf' class='xr-var-attrs-in' type='checkbox' disabled><label for='attrs-10f59dd7-afcf-4254-b100-9a304464cadf' title='Show/Hide attributes'><svg class='icon xr-icon-file-text2'><use xlink:href='#icon-file-text2'></use></svg></label><input id='data-d5eff96e-f516-4053-8305-64d8b0f81d8f' class='xr-var-data-in' type='checkbox'><label for='data-d5eff96e-f516-4053-8305-64d8b0f81d8f' title='Show/Hide data repr'><svg class='icon xr-icon-database'><use xlink:href='#icon-database'></use></svg></label><div class='xr-var-attrs'><dl class='xr-attrs'></dl></div><div class='xr-var-data'><pre>array([100.97985 , 101.254684, 100.11192 , 100.46765 , 100.53407 ,\n",
       "       100.31279 , 100.022964, 100.28279 , 100.657135, 100.007095,\n",
       "       100.0074  , 100.25054 ], dtype=float32)</pre></div></li><li class='xr-var-item'><div class='xr-var-name'><span>mass_center_idy</span></div><div class='xr-var-dims'>(times)</div><div class='xr-var-dtype'>float64</div><div class='xr-var-preview xr-preview'>6.0 4.4 5.029 ... 11.09 11.75 12.75</div><input id='attrs-a530ea22-e962-48f3-8ae8-cb72c86dee4a' class='xr-var-attrs-in' type='checkbox' disabled><label for='attrs-a530ea22-e962-48f3-8ae8-cb72c86dee4a' title='Show/Hide attributes'><svg class='icon xr-icon-file-text2'><use xlink:href='#icon-file-text2'></use></svg></label><input id='data-e6c750d9-022a-4f12-94cd-3571c4ce1a80' class='xr-var-data-in' type='checkbox'><label for='data-e6c750d9-022a-4f12-94cd-3571c4ce1a80' title='Show/Hide data repr'><svg class='icon xr-icon-database'><use xlink:href='#icon-database'></use></svg></label><div class='xr-var-attrs'><dl class='xr-attrs'></dl></div><div class='xr-var-data'><pre>array([ 6.        ,  4.4       ,  5.02857143,  5.97727273,  6.83636364,\n",
       "        7.73770492,  8.60655738,  9.1754386 ,  9.73469388, 11.08823529,\n",
       "       11.75      , 12.75      ])</pre></div></li><li class='xr-var-item'><div class='xr-var-name'><span>mass_center_idx</span></div><div class='xr-var-dims'>(times)</div><div class='xr-var-dtype'>float64</div><div class='xr-var-preview xr-preview'>1.0 3.48 3.971 ... 5.235 5.55 5.5</div><input id='attrs-8f8f3d7f-0876-4084-bce4-09979b33c05f' class='xr-var-attrs-in' type='checkbox' disabled><label for='attrs-8f8f3d7f-0876-4084-bce4-09979b33c05f' title='Show/Hide attributes'><svg class='icon xr-icon-file-text2'><use xlink:href='#icon-file-text2'></use></svg></label><input id='data-8ac60233-1969-41e9-abb2-eb9392216f33' class='xr-var-data-in' type='checkbox'><label for='data-8ac60233-1969-41e9-abb2-eb9392216f33' title='Show/Hide data repr'><svg class='icon xr-icon-database'><use xlink:href='#icon-database'></use></svg></label><div class='xr-var-attrs'><dl class='xr-attrs'></dl></div><div class='xr-var-data'><pre>array([1.        , 3.48      , 3.97142857, 4.43181818, 4.54545455,\n",
       "       4.73770492, 4.96721311, 5.29824561, 5.36734694, 5.23529412,\n",
       "       5.55      , 5.5       ])</pre></div></li><li class='xr-var-item'><div class='xr-var-name'><span>track</span></div><div class='xr-var-dims'>(times)</div><div class='xr-var-dtype'>object</div><div class='xr-var-preview xr-preview'>RotatedGridPoint(lat=-20.8999996...</div><input id='attrs-2e254183-855a-4416-a13c-b59f047eaa98' class='xr-var-attrs-in' type='checkbox' disabled><label for='attrs-2e254183-855a-4416-a13c-b59f047eaa98' title='Show/Hide attributes'><svg class='icon xr-icon-file-text2'><use xlink:href='#icon-file-text2'></use></svg></label><input id='data-9632eb6e-6d66-4557-bf7d-5ea62cce1df1' class='xr-var-data-in' type='checkbox'><label for='data-9632eb6e-6d66-4557-bf7d-5ea62cce1df1' title='Show/Hide data repr'><svg class='icon xr-icon-database'><use xlink:href='#icon-database'></use></svg></label><div class='xr-var-attrs'><dl class='xr-attrs'></dl></div><div class='xr-var-data'><pre>array([RotatedGridPoint(lat=-20.899999618530273, lon=1.0),\n",
       "       RotatedGridPoint(lat=-21.5, lon=1.600000023841858),\n",
       "       RotatedGridPoint(lat=-21.200000762939453, lon=1.899999976158142),\n",
       "       RotatedGridPoint(lat=-20.899999618530273, lon=1.899999976158142),\n",
       "       RotatedGridPoint(lat=-20.600000381469727, lon=2.200000047683716),\n",
       "       RotatedGridPoint(lat=-20.299999237060547, lon=2.200000047683716),\n",
       "       RotatedGridPoint(lat=-20.0, lon=2.200000047683716),\n",
       "       RotatedGridPoint(lat=-20.0, lon=2.200000047683716),\n",
       "       RotatedGridPoint(lat=-19.700000762939453, lon=2.200000047683716),\n",
       "       RotatedGridPoint(lat=-19.399999618530273, lon=2.200000047683716),\n",
       "       RotatedGridPoint(lat=-19.100000381469727, lon=2.5),\n",
       "       RotatedGridPoint(lat=-18.799999237060547, lon=2.5)], dtype=object)</pre></div></li><li class='xr-var-item'><div class='xr-var-name'><span>speed</span></div><div class='xr-var-dims'>(times)</div><div class='xr-var-dtype'>float64</div><div class='xr-var-preview xr-preview'>nan 96.14 25.99 ... 23.87 32.62</div><input id='attrs-589fb472-cd47-497d-8c19-2e3c592f29ab' class='xr-var-attrs-in' type='checkbox' disabled><label for='attrs-589fb472-cd47-497d-8c19-2e3c592f29ab' title='Show/Hide attributes'><svg class='icon xr-icon-file-text2'><use xlink:href='#icon-file-text2'></use></svg></label><input id='data-c96efb00-df06-4cd4-a86e-e2d50477c9da' class='xr-var-data-in' type='checkbox'><label for='data-c96efb00-df06-4cd4-a86e-e2d50477c9da' title='Show/Hide data repr'><svg class='icon xr-icon-database'><use xlink:href='#icon-database'></use></svg></label><div class='xr-var-attrs'><dl class='xr-attrs'></dl></div><div class='xr-var-data'><pre>array([        nan, 96.14071772, 25.99100183, 34.35099235, 28.22889905,\n",
       "       30.02191443, 29.27390867, 21.44058958, 18.35644303, 44.30134625,\n",
       "       23.87065078, 32.61598517])</pre></div></li></ul></div></li><li class='xr-section-item'><input id='section-3b1401e1-cc3c-45fa-9f63-fb8d87e8df32' class='xr-section-summary-in' type='checkbox'  ><label for='section-3b1401e1-cc3c-45fa-9f63-fb8d87e8df32' class='xr-section-summary' >Indexes: <span>(1)</span></label><div class='xr-section-inline-details'></div><div class='xr-section-details'><ul class='xr-var-list'><li class='xr-var-item'><div class='xr-index-name'><div>times</div></div><div class='xr-index-preview'>PandasIndex</div><div></div><input id='index-ab3447aa-09a0-4140-9ca3-8913f09cf603' class='xr-index-data-in' type='checkbox'/><label for='index-ab3447aa-09a0-4140-9ca3-8913f09cf603' title='Show/Hide index repr'><svg class='icon xr-icon-database'><use xlink:href='#icon-database'></use></svg></label><div class='xr-index-data'><pre>PandasIndex(DatetimeIndex([&#x27;1984-01-01 23:00:00&#x27;, &#x27;1984-01-02 00:00:00&#x27;,\n",
       "               &#x27;1984-01-02 01:00:00&#x27;, &#x27;1984-01-02 02:00:00&#x27;,\n",
       "               &#x27;1984-01-02 03:00:00&#x27;, &#x27;1984-01-02 04:00:00&#x27;,\n",
       "               &#x27;1984-01-02 05:00:00&#x27;, &#x27;1984-01-02 06:00:00&#x27;,\n",
       "               &#x27;1984-01-02 07:00:00&#x27;, &#x27;1984-01-02 08:00:00&#x27;,\n",
       "               &#x27;1984-01-02 09:00:00&#x27;, &#x27;1984-01-02 10:00:00&#x27;],\n",
       "              dtype=&#x27;datetime64[ns]&#x27;, name=&#x27;times&#x27;, freq=None))</pre></div></li></ul></div></li><li class='xr-section-item'><input id='section-a1e8c360-109b-4137-843a-4c6da9d32c46' class='xr-section-summary-in' type='checkbox' disabled ><label for='section-a1e8c360-109b-4137-843a-4c6da9d32c46' class='xr-section-summary'  title='Expand/collapse section'>Attributes: <span>(0)</span></label><div class='xr-section-inline-details'></div><div class='xr-section-details'><dl class='xr-attrs'></dl></div></li></ul></div></div>"
      ],
      "text/plain": [
       "<xarray.Dataset> Size: 772B\n",
       "Dimensions:          (times: 12)\n",
       "Coordinates:\n",
       "  * times            (times) datetime64[ns] 96B 1984-01-01T23:00:00 ... 1984-...\n",
       "Data variables:\n",
       "    id_              <U1 4B '1'\n",
       "    size             (times) float64 96B 2.077e+03 2.587e+04 ... 4.206e+03\n",
       "    total_IVT        (times) float32 48B 202.8 2.684e+03 ... 2.07e+03 404.3\n",
       "    mean_IVT         (times) float32 48B 101.4 107.4 112.2 ... 107.0 103.5 101.1\n",
       "    max_IVT          (times) float32 48B 101.8 113.1 129.6 ... 117.7 111.7 102.4\n",
       "    min_IVT          (times) float32 48B 101.0 101.3 100.1 ... 100.0 100.0 100.3\n",
       "    mass_center_idy  (times) float64 96B 6.0 4.4 5.029 ... 11.09 11.75 12.75\n",
       "    mass_center_idx  (times) float64 96B 1.0 3.48 3.971 4.432 ... 5.235 5.55 5.5\n",
       "    track            (times) object 96B RotatedGridPoint(lat=-20.899999618530...\n",
       "    speed            (times) float64 96B nan 96.14 25.99 ... 44.3 23.87 32.62"
      ]
     },
     "execution_count": 12,
     "metadata": {},
     "output_type": "execute_result"
    }
   ],
   "source": [
    "IVT_objs[0]"
   ]
  },
  {
   "cell_type": "code",
   "execution_count": 25,
   "id": "3782742b-60c4-4b07-abb3-c869c08af1bd",
   "metadata": {},
   "outputs": [],
   "source": [
    "import pickle"
   ]
  },
  {
   "cell_type": "code",
   "execution_count": 27,
   "id": "1de75af5-b197-4b10-8bbc-6f31219ea309",
   "metadata": {},
   "outputs": [],
   "source": [
    "from src.Variable_classes import *\n",
    "a=T2M(6666.6)\n",
    "b=T2M(6668.4)"
   ]
  },
  {
   "cell_type": "code",
   "execution_count": 3,
   "id": "42377c11-fed8-4635-9980-972d4986a71f",
   "metadata": {},
   "outputs": [],
   "source": [
    "with open(\"test.pkl\", \"wb\") as handle:\n",
    "        pickle.dump(a, handle, protocol=pickle.HIGHEST_PROTOCOL)"
   ]
  },
  {
   "cell_type": "code",
   "execution_count": 4,
   "id": "eb132bb3-fd91-456d-9d8f-3c9418f80902",
   "metadata": {},
   "outputs": [],
   "source": [
    "with open(\"test.pkl\", \"rb\") as pickle_file:\n",
    "        ob_dict = pickle.load(pickle_file)\n",
    "    "
   ]
  },
  {
   "cell_type": "code",
   "execution_count": 21,
   "id": "5417386d-9e49-4577-bfb5-dd23a3867971",
   "metadata": {},
   "outputs": [],
   "source": [
    "a= 44"
   ]
  },
  {
   "cell_type": "code",
   "execution_count": 22,
   "id": "8126d2e0-0d7e-4e9d-b68b-0b839c2f3392",
   "metadata": {},
   "outputs": [],
   "source": [
    "b = a"
   ]
  },
  {
   "cell_type": "code",
   "execution_count": 23,
   "id": "b540947b-c4da-49f0-b619-ee30cccb51a9",
   "metadata": {},
   "outputs": [],
   "source": [
    "a=2"
   ]
  },
  {
   "cell_type": "code",
   "execution_count": 24,
   "id": "7c3386c8-99e3-45d9-a861-9f1781c7bc91",
   "metadata": {},
   "outputs": [
    {
     "data": {
      "text/plain": [
       "44"
      ]
     },
     "execution_count": 24,
     "metadata": {},
     "output_type": "execute_result"
    }
   ],
   "source": [
    "b"
   ]
  },
  {
   "cell_type": "code",
   "execution_count": 6,
   "id": "214b8c24-0eb7-4de5-bea9-d76912b617a8",
   "metadata": {},
   "outputs": [
    {
     "data": {
      "text/plain": [
       "True"
      ]
     },
     "execution_count": 6,
     "metadata": {},
     "output_type": "execute_result"
    }
   ],
   "source": [
    "c is d"
   ]
  },
  {
   "cell_type": "code",
   "execution_count": 7,
   "id": "07a24274-7a5c-4624-ab78-979e1b0ccb83",
   "metadata": {},
   "outputs": [
    {
     "data": {
      "text/plain": [
       "T2M(value=13334.0)"
      ]
     },
     "execution_count": 7,
     "metadata": {},
     "output_type": "execute_result"
    }
   ],
   "source": [
    "class"
   ]
  },
  {
   "cell_type": "code",
   "execution_count": 8,
   "id": "3961c6b4-1577-4012-b06d-fe76f9897677",
   "metadata": {},
   "outputs": [
    {
     "data": {
      "text/plain": [
       "T2M(value=13334.0)"
      ]
     },
     "execution_count": 8,
     "metadata": {},
     "output_type": "execute_result"
    }
   ],
   "source": [
    "sum([a,b])"
   ]
  },
  {
   "cell_type": "code",
   "execution_count": 15,
   "id": "07dee223-9821-42c8-9027-d58935d83f30",
   "metadata": {},
   "outputs": [],
   "source": [
    "a=4"
   ]
  },
  {
   "cell_type": "code",
   "execution_count": 29,
   "id": "774b8cb9-02e3-46e8-9445-c09a8138eb57",
   "metadata": {},
   "outputs": [
    {
     "data": {
      "text/plain": [
       "True"
      ]
     },
     "execution_count": 29,
     "metadata": {},
     "output_type": "execute_result"
    }
   ],
   "source": [
    "b>a"
   ]
  },
  {
   "cell_type": "code",
   "execution_count": 20,
   "id": "c217b964-b47d-4424-a681-1b4c39e6d888",
   "metadata": {},
   "outputs": [
    {
     "data": {
      "text/plain": [
       "T2M(value=6671.0)"
      ]
     },
     "execution_count": 20,
     "metadata": {},
     "output_type": "execute_result"
    }
   ],
   "source": [
    "b +a "
   ]
  },
  {
   "cell_type": "code",
   "execution_count": 32,
   "id": "28b54039-5ab7-4f96-bc77-c2c37d1f5150",
   "metadata": {},
   "outputs": [],
   "source": [
    "a=60\n",
    "b=60"
   ]
  },
  {
   "cell_type": "code",
   "execution_count": null,
   "id": "8f4bdc24-5529-4321-b425-6487ab604edd",
   "metadata": {},
   "outputs": [],
   "source": [
    "%load_ext autoreload\n",
    "%autoreload 2\n",
    "import xarray as xr\n",
    "import matplotlib.pyplot as plt\n",
    "import numpy as np\n",
    "import pandas as pd\n",
    "import scipy\n",
    "import datetime\n",
    "import cartopy\n",
    "from metpy.units import units\n",
    "import cartopy.crs as ccrs\n",
    "import pickle\n",
    "import os\n",
    "\n",
    "from src.utils import * \n",
    "from src.Corrections import * \n",
    "from src.Enumerations import Month, Season, Experiments, Domains\n",
    "from src.xarray_util import create_obj_from_dict,  ObjectContainer,  load_tracking_objects\n",
    "from src.plot_funcs import plot_unstructured_rotated_grid, plot_contourf_rotated_grid"
   ]
  },
  {
   "cell_type": "code",
   "execution_count": 1,
   "id": "25a8457a-5d65-423c-8f18-ab2fa6191a08",
   "metadata": {},
   "outputs": [],
   "source": [
    "import cdo"
   ]
  },
  {
   "cell_type": "code",
   "execution_count": null,
   "id": "d8c2023d-9094-48ca-a757-27247b154ab8",
   "metadata": {},
   "outputs": [],
   "source": []
  }
 ],
 "metadata": {
  "kernelspec": {
   "display_name": "1 Python 3 (based on the module python3/2023.01)",
   "language": "python",
   "name": "python3_2023_01"
  },
  "language_info": {
   "codemirror_mode": {
    "name": "ipython",
    "version": 3
   },
   "file_extension": ".py",
   "mimetype": "text/x-python",
   "name": "python",
   "nbconvert_exporter": "python",
   "pygments_lexer": "ipython3",
   "version": "3.10.10"
  }
 },
 "nbformat": 4,
 "nbformat_minor": 5
}
