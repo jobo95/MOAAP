{
 "cells": [
  {
   "cell_type": "markdown",
   "id": "3afad24d-3b3e-4564-b356-89afcebb173f",
   "metadata": {},
   "source": [
    "# Climatological tracking of IVT and AR objects using the MOAAP tracking algorithm\n",
    "- Load IVT tracking data in chunks of 7 months with 1 month overlap between chunks\n",
    "- Track individual data chunks and correct the pickle and netCdf4 files afterwards, so that each final corrected file corresponds to 6 month, from 1.1-1.7 and 1.7-1-1 respectively\n",
    "- Tracking should be done on a rotated grid to avoid strange behaviour around the pole when e.g. using a regular grid\n",
    "- Tracking data are remapped to 33km resolution\n"
   ]
  },
  {
   "cell_type": "raw",
   "id": "5c2f1242-2640-44b8-b13f-dbfcbc289262",
   "metadata": {},
   "source": []
  },
  {
   "cell_type": "code",
   "execution_count": 1,
   "id": "c82b8897-9b45-4561-8ae7-aef199414ba8",
   "metadata": {},
   "outputs": [
    {
     "name": "stderr",
     "output_type": "stream",
     "text": [
      "/work/aa0238/a271093/Conda/MOAAP_env/lib/python3.12/site-packages/pyproj/__init__.py:89: UserWarning: pyproj unable to set database path.\n",
      "  _pyproj_global_context_initialize()\n"
     ]
    }
   ],
   "source": [
    "%load_ext autoreload\n",
    "%autoreload 2\n",
    "import xarray as xr\n",
    "import matplotlib.pyplot as plt\n",
    "import numpy as np\n",
    "import pandas as pd\n",
    "import scipy\n",
    "import datetime\n",
    "import cartopy\n",
    "import cartopy.crs as ccrs\n",
    "import pickle\n",
    "#import Tracking_Functions\n",
    "from dateutil import relativedelta\n",
    "import os\n",
    "\n",
    "import src.Tracking_Functions as Tracking_Functions\n",
    "from src.TrackingDataLoader import * \n",
    "from src.utils import * \n",
    "from src.Corrections import * \n",
    "from src.Enumerations import Experiments"
   ]
  },
  {
   "cell_type": "markdown",
   "id": "128eb1b9-7796-4d81-996f-7986c27c86c6",
   "metadata": {
    "tags": []
   },
   "source": [
    "# Settings"
   ]
  },
  {
   "cell_type": "code",
   "execution_count": 6,
   "id": "c780b1a7-6ae3-4c9a-be46-3ac9ecab02ae",
   "metadata": {},
   "outputs": [],
   "source": [
    "#data_path = '/work/aa0049/a271109/spice-v2.1/chain/work/polarres_wp3_cmip_CNRM/post/yearly/'\n",
    "#exp = Data.ICON_NORESM_EXP.value\n",
    "\n",
    "\n",
    "suffix = 'remapped_3x'\n",
    "file_type = '.nc'\n",
    "\n",
    "#######ICON########\n",
    "\n",
    "exp = Experiments.ICON_NORESM_CONTROL.value\n",
    "\n",
    "first_year = 1984\n",
    "last_year = 1985\n",
    "\n",
    "data_path = exp.path\n",
    "output_path = exp.IVTobj_out_path\n",
    "output_path = \"/work/aa0238/a271093/scratch/test/\"\n",
    "\n",
    "output_file_name_temp = f'MOAPP_ICON_100and85controlperc_{suffix}'\n",
    "\n",
    "#output_path = '/work/aa0238/a271093/scratch/Track_test/'\n",
    "threshold_file = exp.IVT_thresh_path+exp.IVT_thresh_file_85\n",
    "\n",
    "ds_ivt_pctl=xr.open_dataset(threshold_file,decode_times=False)\n",
    "IVTtrheshold=ds_ivt_pctl.IVT_85perc.values\n",
    "\n",
    "\n",
    "\n",
    "#####ERA5######\n",
    "\n",
    "#first_year = 1979\n",
    "#last_year = 2022\n",
    "\n",
    "\n",
    "#data_path = '/work/aa0238/a271093/data/ERA5/1979-2023/ICON_remapped_3x/'\n",
    "#output_path = '/work/aa0238/a271093/results/MOAAP/IVT_Tracking/ERA5_ICON_remapped_3x/'\n",
    "#output_file_name_temp = f'MOAPP_ERA5_100and85controlperc_{suffix}'\n",
    "#threshold_file = threshold_path+'ivt_percentile_mlauer_removed-ens-lev_remapbilWP3domain_3dx3dy.nc'\n",
    "\n",
    "#ds_ivt_pctl=xr.open_dataset(threshold_file,decode_times=False)\n",
    "#IVTtrheshold=ds_ivt_pctl.ivt1.values\n",
    "\n",
    "#######ICON SSP###########\n",
    "#exp = Experiments.ICON_CNRM_SSP.value\n",
    "\n",
    "#first_year = exp.year_start\n",
    "#first_year = 2095\n",
    "#last_year = exp.year_end\n",
    "\n",
    "#data_path = exp.path_IVT\n",
    "#output_path = exp.IVTobj_out_path\n",
    "#output_path = \"/work/aa0238/a271093/scratch/test/\"\n",
    "\n",
    "#output_file_name_temp = f'MOAPP_ICON_100and85CNRMsspperc_{suffix}'\n",
    "\n",
    "#output_path = '/work/aa0238/a271093/scratch/Track_test/'\n",
    "#threshold_file = exp.IVT_thresh_path+exp.IVT_thresh_file_85\n",
    "\n",
    "#ds_ivt_pctl=xr.open_dataset(threshold_file,decode_times=False)\n",
    "#IVTtrheshold=ds_ivt_pctl.IVT_85_perc.values\n",
    "\n",
    "\n",
    "###### ICON-ERA5###########\n",
    "exp = Experiments.ICON_ERA5.value\n",
    "\n",
    "first_year = exp.year_start\n",
    "last_year = exp.year_end\n",
    "\n",
    "data_path = exp.path_IVT\n",
    "output_path = exp.IVTobj_out_path\n",
    "#output_path = \"/work/aa0238/a271093/scratch/test/\"\n",
    "\n",
    "output_file_name_temp = f'MOAPP_ICON_ERA5_100and85ERA5perc_{suffix}'\n",
    "\n",
    "threshold_file = exp.IVT_thresh_path+exp.IVT_thresh_file_85\n",
    "\n",
    "ds_ivt_pctl=xr.open_dataset(threshold_file,decode_times=False)\n",
    "IVTtrheshold=ds_ivt_pctl.ivt1.values"
   ]
  },
  {
   "cell_type": "code",
   "execution_count": 7,
   "id": "f67cde89-790e-448c-8612-636c6766a945",
   "metadata": {},
   "outputs": [],
   "source": [
    "start_date_list, end_date_list = create_datetime_lists(first_year,last_year) \n",
    "first_processed_date = start_date_list[0]\n",
    "last_processed_date = end_date_list[-1]"
   ]
  },
  {
   "cell_type": "code",
   "execution_count": 8,
   "id": "f6c9d39f-ebe9-4113-9018-9049e4bf2bf9",
   "metadata": {},
   "outputs": [
    {
     "data": {
      "text/plain": [
       "'/work/aa0238/a271093/results/MOAAP/IVT_Tracking/ICON_DRIVENBY_ERA5_remapped_3x/'"
      ]
     },
     "execution_count": 8,
     "metadata": {},
     "output_type": "execute_result"
    }
   ],
   "source": [
    "output_path"
   ]
  },
  {
   "cell_type": "code",
   "execution_count": null,
   "id": "26e165ca-8907-449e-a0c4-289f86b58603",
   "metadata": {
    "scrolled": true,
    "tags": []
   },
   "outputs": [
    {
     "name": "stdout",
     "output_type": "stream",
     "text": [
      "\n",
      " \n",
      " \n",
      " \n",
      "\n",
      "1998-01-01 00:00:00 1998-08-01 00:00:00\n",
      " \n",
      "The provided variables allow tracking the following phenomena\n",
      " \n",
      "|  phenomenon  | tracking |\n",
      "---------------------------\n",
      "   Jetstream   |   no\n",
      "   PSL CY/ACY  |   no\n",
      "   Z500 CY/ACY |   no\n",
      "   COLs        |   no\n",
      "   IVT ARs     |   yes\n",
      "   MS ARs      |   no\n",
      "   Fronts      |   no\n",
      "   TCs         |   no\n",
      "   MCSs        |   no\n",
      "   Equ. Waves  |   no\n",
      "---------------------------\n",
      " \n",
      "======> track IVT streams and atmospheric rivers (ARs)\n",
      "        3737 object found\n",
      "        break up long living IVT objects that have many elements\n"
     ]
    },
    {
     "name": "stderr",
     "output_type": "stream",
     "text": [
      "100%|██████████| 598/598 [00:29<00:00, 20.16it/s]\n"
     ]
    },
    {
     "name": "stdout",
     "output_type": "stream",
     "text": [
      "        00:00:36.48\n",
      "9\n",
      "            Loop over 1666 objects\n"
     ]
    },
    {
     "name": "stderr",
     "output_type": "stream",
     "text": [
      "/work/aa0238/a271093/Scripts/MOAAP/src/Tracking_Functions.py:247: RuntimeWarning: All-NaN slice encountered\n",
      "  obj_min = np.nanmin(data_slice, axis=(1, 2))\n",
      "/work/aa0238/a271093/Scripts/MOAAP/src/Tracking_Functions.py:248: RuntimeWarning: All-NaN slice encountered\n",
      "  obj_max = np.nanmax(data_slice, axis=(1, 2))\n",
      "/work/aa0238/a271093/Scripts/MOAAP/src/Tracking_Functions.py:249: RuntimeWarning: Mean of empty slice\n",
      "  obj_mean = np.nanmean(data_slice, axis=(1, 2))\n",
      "/work/aa0238/a271093/Conda/MOAAP_env/lib/python3.12/site-packages/scipy/ndimage/_measurements.py:1541: RuntimeWarning: invalid value encountered in scalar divide\n",
      "  results = [sum(input * grids[dir].astype(float), labels, index) / normalizer\n"
     ]
    },
    {
     "name": "stdout",
     "output_type": "stream",
     "text": [
      "        check if MSs quallify as ARs\n"
     ]
    },
    {
     "name": "stderr",
     "output_type": "stream",
     "text": [
      "/work/aa0238/a271093/Scripts/MOAAP/src/Tracking_Functions.py:4316: RuntimeWarning: divide by zero encountered in scalar divide\n",
      "  if DIST.max() / DIST.min() < AR_width_lenght_ratio:\n"
     ]
    },
    {
     "name": "stdout",
     "output_type": "stream",
     "text": [
      "            Loop over 1666 objects\n",
      "        00:01:36.53\n",
      " \n",
      "Save the object masks into a joint netCDF\n",
      "Saved: /work/aa0238/a271093/results/MOAAP/IVT_Tracking/ICON_DRIVENBY_ERA5_remapped_3x/ObjectMasks_MOAPP_ICON_ERA5_100and85ERA5perc_remapped_3x_1998_01_01-1998_08_01.nc\n",
      "        00:00:24.48\n",
      "clean up /work/aa0238/a271093/results/MOAAP/IVT_Tracking/ICON_DRIVENBY_ERA5_remapped_3x/IVT_MOAPP_ICON_ERA5_100and85ERA5perc_remapped_3x_1998_01_01-1998_07_01.pkl\n",
      "clean up finished\n",
      "clean up /work/aa0238/a271093/results/MOAAP/IVT_Tracking/ICON_DRIVENBY_ERA5_remapped_3x/ARs_MOAPP_ICON_ERA5_100and85ERA5perc_remapped_3x_1998_01_01-1998_07_01.pkl\n",
      "clean up finished\n",
      "correct nc-file with \n",
      " cdo -selmon,1,2,3,4,5,6 /work/aa0238/a271093/results/MOAAP/IVT_Tracking/ICON_DRIVENBY_ERA5_remapped_3x/ObjectMasks_MOAPP_ICON_ERA5_100and85ERA5perc_remapped_3x_1998_01_01-1998_08_01.nc /work/aa0238/a271093/results/MOAAP/IVT_Tracking/ICON_DRIVENBY_ERA5_remapped_3x/ObjectMasks_MOAPP_ICON_ERA5_100and85ERA5perc_remapped_3x_1998_01_01-1998_07_01_corrected.nc\n",
      "\n",
      " \n",
      " \n",
      " \n",
      "\n",
      "1998-07-01 00:00:00 1999-02-01 00:00:00\n",
      "Mergetime /work/aa0238/a271093/data/ICON_ERA5/1998-2022/remapped_3x/IVTu/IVTu_1998010100-1998123123_remapped_3x.nc /work/aa0238/a271093/data/ICON_ERA5/1998-2022/remapped_3x/IVTu/IVTu_1999010100-1999123123_remapped_3x.nc  /work/aa0238/a271093/scratch/mergedIVTu_1998_1999_remapped_3x.nc\n",
      "Mergetime /work/aa0238/a271093/data/ICON_ERA5/1998-2022/remapped_3x/IVTv/IVTv_1998010100-1998123123_remapped_3x.nc /work/aa0238/a271093/data/ICON_ERA5/1998-2022/remapped_3x/IVTv/IVTv_1999010100-1999123123_remapped_3x.nc  /work/aa0238/a271093/scratch/mergedIVTv_1998_1999_remapped_3x.nc\n",
      " \n",
      "The provided variables allow tracking the following phenomena\n",
      " \n",
      "|  phenomenon  | tracking |\n",
      "---------------------------\n",
      "   Jetstream   |   no\n",
      "   PSL CY/ACY  |   no\n",
      "   Z500 CY/ACY |   no\n",
      "   COLs        |   no\n",
      "   IVT ARs     |   yes\n",
      "   MS ARs      |   no\n",
      "   Fronts      |   no\n",
      "   TCs         |   no\n",
      "   MCSs        |   no\n",
      "   Equ. Waves  |   no\n",
      "---------------------------\n",
      " \n",
      "======> track IVT streams and atmospheric rivers (ARs)\n",
      "        3768 object found\n",
      "        break up long living IVT objects that have many elements\n"
     ]
    },
    {
     "name": "stderr",
     "output_type": "stream",
     "text": [
      "100%|██████████| 616/616 [00:27<00:00, 22.47it/s]\n"
     ]
    },
    {
     "name": "stdout",
     "output_type": "stream",
     "text": [
      "        00:00:33.76\n",
      "9\n",
      "            Loop over 1599 objects\n"
     ]
    },
    {
     "name": "stderr",
     "output_type": "stream",
     "text": [
      "/work/aa0238/a271093/Scripts/MOAAP/src/Tracking_Functions.py:247: RuntimeWarning: All-NaN slice encountered\n",
      "  obj_min = np.nanmin(data_slice, axis=(1, 2))\n",
      "/work/aa0238/a271093/Scripts/MOAAP/src/Tracking_Functions.py:248: RuntimeWarning: All-NaN slice encountered\n",
      "  obj_max = np.nanmax(data_slice, axis=(1, 2))\n",
      "/work/aa0238/a271093/Scripts/MOAAP/src/Tracking_Functions.py:249: RuntimeWarning: Mean of empty slice\n",
      "  obj_mean = np.nanmean(data_slice, axis=(1, 2))\n",
      "/work/aa0238/a271093/Conda/MOAAP_env/lib/python3.12/site-packages/scipy/ndimage/_measurements.py:1541: RuntimeWarning: invalid value encountered in scalar divide\n",
      "  results = [sum(input * grids[dir].astype(float), labels, index) / normalizer\n"
     ]
    },
    {
     "name": "stdout",
     "output_type": "stream",
     "text": [
      "        check if MSs quallify as ARs\n"
     ]
    },
    {
     "name": "stderr",
     "output_type": "stream",
     "text": [
      "/work/aa0238/a271093/Scripts/MOAAP/src/Tracking_Functions.py:4316: RuntimeWarning: divide by zero encountered in scalar divide\n",
      "  if DIST.max() / DIST.min() < AR_width_lenght_ratio:\n"
     ]
    },
    {
     "name": "stdout",
     "output_type": "stream",
     "text": [
      "            Loop over 1598 objects\n",
      "        00:01:19.56\n",
      " \n",
      "Save the object masks into a joint netCDF\n",
      "Saved: /work/aa0238/a271093/results/MOAAP/IVT_Tracking/ICON_DRIVENBY_ERA5_remapped_3x/ObjectMasks_MOAPP_ICON_ERA5_100and85ERA5perc_remapped_3x_1998_07_01-1999_02_01.nc\n",
      "        00:00:25.00\n",
      "clean up /work/aa0238/a271093/results/MOAAP/IVT_Tracking/ICON_DRIVENBY_ERA5_remapped_3x/IVT_MOAPP_ICON_ERA5_100and85ERA5perc_remapped_3x_1998_07_01-1999_01_01.pkl\n",
      "clean up finished\n",
      "clean up /work/aa0238/a271093/results/MOAAP/IVT_Tracking/ICON_DRIVENBY_ERA5_remapped_3x/ARs_MOAPP_ICON_ERA5_100and85ERA5perc_remapped_3x_1998_07_01-1999_01_01.pkl\n",
      "clean up finished\n",
      "correct nc-file with \n",
      " cdo -selmon,6,7,8,9,10,11,12 /work/aa0238/a271093/results/MOAAP/IVT_Tracking/ICON_DRIVENBY_ERA5_remapped_3x/ObjectMasks_MOAPP_ICON_ERA5_100and85ERA5perc_remapped_3x_1998_07_01-1999_02_01.nc /work/aa0238/a271093/results/MOAAP/IVT_Tracking/ICON_DRIVENBY_ERA5_remapped_3x/ObjectMasks_MOAPP_ICON_ERA5_100and85ERA5perc_remapped_3x_1998_07_01-1999_01_01_corrected.nc\n",
      "\n",
      " \n",
      " \n",
      " \n",
      "\n",
      "1999-01-01 00:00:00 1999-08-01 00:00:00\n",
      " \n",
      "The provided variables allow tracking the following phenomena\n",
      " \n",
      "|  phenomenon  | tracking |\n",
      "---------------------------\n",
      "   Jetstream   |   no\n",
      "   PSL CY/ACY  |   no\n",
      "   Z500 CY/ACY |   no\n",
      "   COLs        |   no\n",
      "   IVT ARs     |   yes\n",
      "   MS ARs      |   no\n",
      "   Fronts      |   no\n",
      "   TCs         |   no\n",
      "   MCSs        |   no\n",
      "   Equ. Waves  |   no\n",
      "---------------------------\n",
      " \n",
      "======> track IVT streams and atmospheric rivers (ARs)\n",
      "        3697 object found\n",
      "        break up long living IVT objects that have many elements\n"
     ]
    },
    {
     "name": "stderr",
     "output_type": "stream",
     "text": [
      "100%|██████████| 695/695 [00:24<00:00, 28.92it/s] \n"
     ]
    },
    {
     "name": "stdout",
     "output_type": "stream",
     "text": [
      "        00:00:29.96\n",
      "9\n",
      "            Loop over 1720 objects\n"
     ]
    },
    {
     "name": "stderr",
     "output_type": "stream",
     "text": [
      "/work/aa0238/a271093/Scripts/MOAAP/src/Tracking_Functions.py:247: RuntimeWarning: All-NaN slice encountered\n",
      "  obj_min = np.nanmin(data_slice, axis=(1, 2))\n",
      "/work/aa0238/a271093/Scripts/MOAAP/src/Tracking_Functions.py:248: RuntimeWarning: All-NaN slice encountered\n",
      "  obj_max = np.nanmax(data_slice, axis=(1, 2))\n",
      "/work/aa0238/a271093/Scripts/MOAAP/src/Tracking_Functions.py:249: RuntimeWarning: Mean of empty slice\n",
      "  obj_mean = np.nanmean(data_slice, axis=(1, 2))\n",
      "/work/aa0238/a271093/Conda/MOAAP_env/lib/python3.12/site-packages/scipy/ndimage/_measurements.py:1541: RuntimeWarning: invalid value encountered in scalar divide\n",
      "  results = [sum(input * grids[dir].astype(float), labels, index) / normalizer\n"
     ]
    },
    {
     "name": "stdout",
     "output_type": "stream",
     "text": [
      "        check if MSs quallify as ARs\n"
     ]
    },
    {
     "name": "stderr",
     "output_type": "stream",
     "text": [
      "/work/aa0238/a271093/Scripts/MOAAP/src/Tracking_Functions.py:4316: RuntimeWarning: divide by zero encountered in scalar divide\n",
      "  if DIST.max() / DIST.min() < AR_width_lenght_ratio:\n"
     ]
    },
    {
     "name": "stdout",
     "output_type": "stream",
     "text": [
      "            Loop over 1719 objects\n",
      "        00:01:16.07\n",
      " \n",
      "Save the object masks into a joint netCDF\n",
      "Saved: /work/aa0238/a271093/results/MOAAP/IVT_Tracking/ICON_DRIVENBY_ERA5_remapped_3x/ObjectMasks_MOAPP_ICON_ERA5_100and85ERA5perc_remapped_3x_1999_01_01-1999_08_01.nc\n",
      "        00:00:24.22\n",
      "clean up /work/aa0238/a271093/results/MOAAP/IVT_Tracking/ICON_DRIVENBY_ERA5_remapped_3x/IVT_MOAPP_ICON_ERA5_100and85ERA5perc_remapped_3x_1999_01_01-1999_07_01.pkl\n",
      "clean up finished\n",
      "clean up /work/aa0238/a271093/results/MOAAP/IVT_Tracking/ICON_DRIVENBY_ERA5_remapped_3x/ARs_MOAPP_ICON_ERA5_100and85ERA5perc_remapped_3x_1999_01_01-1999_07_01.pkl\n",
      "clean up finished\n",
      "correct nc-file with \n",
      " cdo -selmon,1,2,3,4,5,6 /work/aa0238/a271093/results/MOAAP/IVT_Tracking/ICON_DRIVENBY_ERA5_remapped_3x/ObjectMasks_MOAPP_ICON_ERA5_100and85ERA5perc_remapped_3x_1999_01_01-1999_08_01.nc /work/aa0238/a271093/results/MOAAP/IVT_Tracking/ICON_DRIVENBY_ERA5_remapped_3x/ObjectMasks_MOAPP_ICON_ERA5_100and85ERA5perc_remapped_3x_1999_01_01-1999_07_01_corrected.nc\n",
      "\n",
      " \n",
      " \n",
      " \n",
      "\n",
      "1999-07-01 00:00:00 2000-02-01 00:00:00\n",
      "Mergetime /work/aa0238/a271093/data/ICON_ERA5/1998-2022/remapped_3x/IVTu/IVTu_1999010100-1999123123_remapped_3x.nc /work/aa0238/a271093/data/ICON_ERA5/1998-2022/remapped_3x/IVTu/IVTu_2000010100-2000123123_remapped_3x.nc  /work/aa0238/a271093/scratch/mergedIVTu_1999_2000_remapped_3x.nc\n",
      "Mergetime /work/aa0238/a271093/data/ICON_ERA5/1998-2022/remapped_3x/IVTv/IVTv_1999010100-1999123123_remapped_3x.nc /work/aa0238/a271093/data/ICON_ERA5/1998-2022/remapped_3x/IVTv/IVTv_2000010100-2000123123_remapped_3x.nc  /work/aa0238/a271093/scratch/mergedIVTv_1999_2000_remapped_3x.nc\n",
      " \n",
      "The provided variables allow tracking the following phenomena\n",
      " \n",
      "|  phenomenon  | tracking |\n",
      "---------------------------\n",
      "   Jetstream   |   no\n",
      "   PSL CY/ACY  |   no\n",
      "   Z500 CY/ACY |   no\n",
      "   COLs        |   no\n",
      "   IVT ARs     |   yes\n",
      "   MS ARs      |   no\n",
      "   Fronts      |   no\n",
      "   TCs         |   no\n",
      "   MCSs        |   no\n",
      "   Equ. Waves  |   no\n",
      "---------------------------\n",
      " \n",
      "======> track IVT streams and atmospheric rivers (ARs)\n",
      "        3986 object found\n",
      "        break up long living IVT objects that have many elements\n"
     ]
    },
    {
     "name": "stderr",
     "output_type": "stream",
     "text": [
      "100%|██████████| 696/696 [00:26<00:00, 26.59it/s]\n"
     ]
    },
    {
     "name": "stdout",
     "output_type": "stream",
     "text": [
      "        00:00:32.54\n",
      "9\n",
      "            Loop over 1770 objects\n",
      "        check if MSs quallify as ARs\n"
     ]
    },
    {
     "name": "stderr",
     "output_type": "stream",
     "text": [
      "/work/aa0238/a271093/Scripts/MOAAP/src/Tracking_Functions.py:4316: RuntimeWarning: divide by zero encountered in scalar divide\n",
      "  if DIST.max() / DIST.min() < AR_width_lenght_ratio:\n"
     ]
    },
    {
     "name": "stdout",
     "output_type": "stream",
     "text": [
      "            Loop over 1769 objects\n"
     ]
    },
    {
     "name": "stderr",
     "output_type": "stream",
     "text": [
      "/work/aa0238/a271093/Scripts/MOAAP/src/Tracking_Functions.py:247: RuntimeWarning: All-NaN slice encountered\n",
      "  obj_min = np.nanmin(data_slice, axis=(1, 2))\n",
      "/work/aa0238/a271093/Scripts/MOAAP/src/Tracking_Functions.py:248: RuntimeWarning: All-NaN slice encountered\n",
      "  obj_max = np.nanmax(data_slice, axis=(1, 2))\n",
      "/work/aa0238/a271093/Scripts/MOAAP/src/Tracking_Functions.py:249: RuntimeWarning: Mean of empty slice\n",
      "  obj_mean = np.nanmean(data_slice, axis=(1, 2))\n",
      "/work/aa0238/a271093/Conda/MOAAP_env/lib/python3.12/site-packages/scipy/ndimage/_measurements.py:1541: RuntimeWarning: invalid value encountered in scalar divide\n",
      "  results = [sum(input * grids[dir].astype(float), labels, index) / normalizer\n"
     ]
    },
    {
     "name": "stdout",
     "output_type": "stream",
     "text": [
      "        00:01:17.41\n",
      " \n",
      "Save the object masks into a joint netCDF\n",
      "Saved: /work/aa0238/a271093/results/MOAAP/IVT_Tracking/ICON_DRIVENBY_ERA5_remapped_3x/ObjectMasks_MOAPP_ICON_ERA5_100and85ERA5perc_remapped_3x_1999_07_01-2000_02_01.nc\n",
      "        00:00:24.51\n",
      "clean up /work/aa0238/a271093/results/MOAAP/IVT_Tracking/ICON_DRIVENBY_ERA5_remapped_3x/IVT_MOAPP_ICON_ERA5_100and85ERA5perc_remapped_3x_1999_07_01-2000_01_01.pkl\n",
      "clean up finished\n",
      "clean up /work/aa0238/a271093/results/MOAAP/IVT_Tracking/ICON_DRIVENBY_ERA5_remapped_3x/ARs_MOAPP_ICON_ERA5_100and85ERA5perc_remapped_3x_1999_07_01-2000_01_01.pkl\n",
      "clean up finished\n",
      "correct nc-file with \n",
      " cdo -selmon,6,7,8,9,10,11,12 /work/aa0238/a271093/results/MOAAP/IVT_Tracking/ICON_DRIVENBY_ERA5_remapped_3x/ObjectMasks_MOAPP_ICON_ERA5_100and85ERA5perc_remapped_3x_1999_07_01-2000_02_01.nc /work/aa0238/a271093/results/MOAAP/IVT_Tracking/ICON_DRIVENBY_ERA5_remapped_3x/ObjectMasks_MOAPP_ICON_ERA5_100and85ERA5perc_remapped_3x_1999_07_01-2000_01_01_corrected.nc\n",
      "\n",
      " \n",
      " \n",
      " \n",
      "\n",
      "2000-01-01 00:00:00 2000-08-01 00:00:00\n",
      " \n",
      "The provided variables allow tracking the following phenomena\n",
      " \n",
      "|  phenomenon  | tracking |\n",
      "---------------------------\n",
      "   Jetstream   |   no\n",
      "   PSL CY/ACY  |   no\n",
      "   Z500 CY/ACY |   no\n",
      "   COLs        |   no\n",
      "   IVT ARs     |   yes\n",
      "   MS ARs      |   no\n",
      "   Fronts      |   no\n",
      "   TCs         |   no\n",
      "   MCSs        |   no\n",
      "   Equ. Waves  |   no\n",
      "---------------------------\n",
      " \n",
      "======> track IVT streams and atmospheric rivers (ARs)\n",
      "        3966 object found\n",
      "        break up long living IVT objects that have many elements\n"
     ]
    },
    {
     "name": "stderr",
     "output_type": "stream",
     "text": [
      "100%|██████████| 714/714 [00:27<00:00, 26.30it/s]\n"
     ]
    },
    {
     "name": "stdout",
     "output_type": "stream",
     "text": [
      "        00:00:33.31\n",
      "9\n",
      "            Loop over 1689 objects\n"
     ]
    },
    {
     "name": "stderr",
     "output_type": "stream",
     "text": [
      "/work/aa0238/a271093/Scripts/MOAAP/src/Tracking_Functions.py:247: RuntimeWarning: All-NaN slice encountered\n",
      "  obj_min = np.nanmin(data_slice, axis=(1, 2))\n",
      "/work/aa0238/a271093/Scripts/MOAAP/src/Tracking_Functions.py:248: RuntimeWarning: All-NaN slice encountered\n",
      "  obj_max = np.nanmax(data_slice, axis=(1, 2))\n",
      "/work/aa0238/a271093/Scripts/MOAAP/src/Tracking_Functions.py:249: RuntimeWarning: Mean of empty slice\n",
      "  obj_mean = np.nanmean(data_slice, axis=(1, 2))\n",
      "/work/aa0238/a271093/Conda/MOAAP_env/lib/python3.12/site-packages/scipy/ndimage/_measurements.py:1541: RuntimeWarning: invalid value encountered in scalar divide\n",
      "  results = [sum(input * grids[dir].astype(float), labels, index) / normalizer\n"
     ]
    },
    {
     "name": "stdout",
     "output_type": "stream",
     "text": [
      "        check if MSs quallify as ARs\n"
     ]
    },
    {
     "name": "stderr",
     "output_type": "stream",
     "text": [
      "/work/aa0238/a271093/Scripts/MOAAP/src/Tracking_Functions.py:4316: RuntimeWarning: divide by zero encountered in scalar divide\n",
      "  if DIST.max() / DIST.min() < AR_width_lenght_ratio:\n"
     ]
    },
    {
     "name": "stdout",
     "output_type": "stream",
     "text": [
      "            Loop over 1686 objects\n",
      "        00:01:20.75\n",
      " \n",
      "Save the object masks into a joint netCDF\n",
      "Saved: /work/aa0238/a271093/results/MOAAP/IVT_Tracking/ICON_DRIVENBY_ERA5_remapped_3x/ObjectMasks_MOAPP_ICON_ERA5_100and85ERA5perc_remapped_3x_2000_01_01-2000_08_01.nc\n",
      "        00:00:24.18\n",
      "clean up /work/aa0238/a271093/results/MOAAP/IVT_Tracking/ICON_DRIVENBY_ERA5_remapped_3x/IVT_MOAPP_ICON_ERA5_100and85ERA5perc_remapped_3x_2000_01_01-2000_07_01.pkl\n",
      "clean up finished\n",
      "clean up /work/aa0238/a271093/results/MOAAP/IVT_Tracking/ICON_DRIVENBY_ERA5_remapped_3x/ARs_MOAPP_ICON_ERA5_100and85ERA5perc_remapped_3x_2000_01_01-2000_07_01.pkl\n",
      "clean up finished\n",
      "correct nc-file with \n",
      " cdo -selmon,1,2,3,4,5,6 /work/aa0238/a271093/results/MOAAP/IVT_Tracking/ICON_DRIVENBY_ERA5_remapped_3x/ObjectMasks_MOAPP_ICON_ERA5_100and85ERA5perc_remapped_3x_2000_01_01-2000_08_01.nc /work/aa0238/a271093/results/MOAAP/IVT_Tracking/ICON_DRIVENBY_ERA5_remapped_3x/ObjectMasks_MOAPP_ICON_ERA5_100and85ERA5perc_remapped_3x_2000_01_01-2000_07_01_corrected.nc\n",
      "\n",
      " \n",
      " \n",
      " \n",
      "\n",
      "2000-07-01 00:00:00 2001-02-01 00:00:00\n",
      "Mergetime /work/aa0238/a271093/data/ICON_ERA5/1998-2022/remapped_3x/IVTu/IVTu_2000010100-2000123123_remapped_3x.nc /work/aa0238/a271093/data/ICON_ERA5/1998-2022/remapped_3x/IVTu/IVTu_2001010100-2001123123_remapped_3x.nc  /work/aa0238/a271093/scratch/mergedIVTu_2000_2001_remapped_3x.nc\n",
      "Mergetime /work/aa0238/a271093/data/ICON_ERA5/1998-2022/remapped_3x/IVTv/IVTv_2000010100-2000123123_remapped_3x.nc /work/aa0238/a271093/data/ICON_ERA5/1998-2022/remapped_3x/IVTv/IVTv_2001010100-2001123123_remapped_3x.nc  /work/aa0238/a271093/scratch/mergedIVTv_2000_2001_remapped_3x.nc\n",
      " \n",
      "The provided variables allow tracking the following phenomena\n",
      " \n",
      "|  phenomenon  | tracking |\n",
      "---------------------------\n",
      "   Jetstream   |   no\n",
      "   PSL CY/ACY  |   no\n",
      "   Z500 CY/ACY |   no\n",
      "   COLs        |   no\n",
      "   IVT ARs     |   yes\n",
      "   MS ARs      |   no\n",
      "   Fronts      |   no\n",
      "   TCs         |   no\n",
      "   MCSs        |   no\n",
      "   Equ. Waves  |   no\n",
      "---------------------------\n",
      " \n",
      "======> track IVT streams and atmospheric rivers (ARs)\n",
      "        3837 object found\n",
      "        break up long living IVT objects that have many elements\n"
     ]
    },
    {
     "name": "stderr",
     "output_type": "stream",
     "text": [
      "100%|██████████| 695/695 [00:27<00:00, 25.67it/s]\n"
     ]
    },
    {
     "name": "stdout",
     "output_type": "stream",
     "text": [
      "        00:00:33.55\n",
      "9\n",
      "            Loop over 1726 objects\n"
     ]
    },
    {
     "name": "stderr",
     "output_type": "stream",
     "text": [
      "/work/aa0238/a271093/Scripts/MOAAP/src/Tracking_Functions.py:247: RuntimeWarning: All-NaN slice encountered\n",
      "  obj_min = np.nanmin(data_slice, axis=(1, 2))\n",
      "/work/aa0238/a271093/Scripts/MOAAP/src/Tracking_Functions.py:248: RuntimeWarning: All-NaN slice encountered\n",
      "  obj_max = np.nanmax(data_slice, axis=(1, 2))\n",
      "/work/aa0238/a271093/Scripts/MOAAP/src/Tracking_Functions.py:249: RuntimeWarning: Mean of empty slice\n",
      "  obj_mean = np.nanmean(data_slice, axis=(1, 2))\n",
      "/work/aa0238/a271093/Conda/MOAAP_env/lib/python3.12/site-packages/scipy/ndimage/_measurements.py:1541: RuntimeWarning: invalid value encountered in scalar divide\n",
      "  results = [sum(input * grids[dir].astype(float), labels, index) / normalizer\n"
     ]
    },
    {
     "name": "stdout",
     "output_type": "stream",
     "text": [
      "        check if MSs quallify as ARs\n"
     ]
    },
    {
     "name": "stderr",
     "output_type": "stream",
     "text": [
      "/work/aa0238/a271093/Scripts/MOAAP/src/Tracking_Functions.py:4316: RuntimeWarning: divide by zero encountered in scalar divide\n",
      "  if DIST.max() / DIST.min() < AR_width_lenght_ratio:\n"
     ]
    },
    {
     "name": "stdout",
     "output_type": "stream",
     "text": [
      "            Loop over 1723 objects\n",
      "        00:01:17.92\n",
      " \n",
      "Save the object masks into a joint netCDF\n",
      "Saved: /work/aa0238/a271093/results/MOAAP/IVT_Tracking/ICON_DRIVENBY_ERA5_remapped_3x/ObjectMasks_MOAPP_ICON_ERA5_100and85ERA5perc_remapped_3x_2000_07_01-2001_02_01.nc\n",
      "        00:00:24.44\n",
      "clean up /work/aa0238/a271093/results/MOAAP/IVT_Tracking/ICON_DRIVENBY_ERA5_remapped_3x/IVT_MOAPP_ICON_ERA5_100and85ERA5perc_remapped_3x_2000_07_01-2001_01_01.pkl\n",
      "clean up finished\n",
      "clean up /work/aa0238/a271093/results/MOAAP/IVT_Tracking/ICON_DRIVENBY_ERA5_remapped_3x/ARs_MOAPP_ICON_ERA5_100and85ERA5perc_remapped_3x_2000_07_01-2001_01_01.pkl\n",
      "clean up finished\n",
      "correct nc-file with \n",
      " cdo -selmon,6,7,8,9,10,11,12 /work/aa0238/a271093/results/MOAAP/IVT_Tracking/ICON_DRIVENBY_ERA5_remapped_3x/ObjectMasks_MOAPP_ICON_ERA5_100and85ERA5perc_remapped_3x_2000_07_01-2001_02_01.nc /work/aa0238/a271093/results/MOAAP/IVT_Tracking/ICON_DRIVENBY_ERA5_remapped_3x/ObjectMasks_MOAPP_ICON_ERA5_100and85ERA5perc_remapped_3x_2000_07_01-2001_01_01_corrected.nc\n",
      "\n",
      " \n",
      " \n",
      " \n",
      "\n",
      "2001-01-01 00:00:00 2001-08-01 00:00:00\n",
      " \n",
      "The provided variables allow tracking the following phenomena\n",
      " \n",
      "|  phenomenon  | tracking |\n",
      "---------------------------\n",
      "   Jetstream   |   no\n",
      "   PSL CY/ACY  |   no\n",
      "   Z500 CY/ACY |   no\n",
      "   COLs        |   no\n",
      "   IVT ARs     |   yes\n",
      "   MS ARs      |   no\n",
      "   Fronts      |   no\n",
      "   TCs         |   no\n",
      "   MCSs        |   no\n",
      "   Equ. Waves  |   no\n",
      "---------------------------\n",
      " \n",
      "======> track IVT streams and atmospheric rivers (ARs)\n",
      "        3768 object found\n",
      "        break up long living IVT objects that have many elements\n"
     ]
    },
    {
     "name": "stderr",
     "output_type": "stream",
     "text": [
      "100%|██████████| 703/703 [00:24<00:00, 28.45it/s] \n"
     ]
    },
    {
     "name": "stdout",
     "output_type": "stream",
     "text": [
      "        00:00:30.52\n",
      "9\n",
      "            Loop over 1721 objects\n"
     ]
    },
    {
     "name": "stderr",
     "output_type": "stream",
     "text": [
      "/work/aa0238/a271093/Scripts/MOAAP/src/Tracking_Functions.py:247: RuntimeWarning: All-NaN slice encountered\n",
      "  obj_min = np.nanmin(data_slice, axis=(1, 2))\n",
      "/work/aa0238/a271093/Scripts/MOAAP/src/Tracking_Functions.py:248: RuntimeWarning: All-NaN slice encountered\n",
      "  obj_max = np.nanmax(data_slice, axis=(1, 2))\n",
      "/work/aa0238/a271093/Scripts/MOAAP/src/Tracking_Functions.py:249: RuntimeWarning: Mean of empty slice\n",
      "  obj_mean = np.nanmean(data_slice, axis=(1, 2))\n",
      "/work/aa0238/a271093/Conda/MOAAP_env/lib/python3.12/site-packages/scipy/ndimage/_measurements.py:1541: RuntimeWarning: invalid value encountered in scalar divide\n",
      "  results = [sum(input * grids[dir].astype(float), labels, index) / normalizer\n"
     ]
    },
    {
     "name": "stdout",
     "output_type": "stream",
     "text": [
      "        check if MSs quallify as ARs\n"
     ]
    },
    {
     "name": "stderr",
     "output_type": "stream",
     "text": [
      "/work/aa0238/a271093/Scripts/MOAAP/src/Tracking_Functions.py:4316: RuntimeWarning: divide by zero encountered in scalar divide\n",
      "  if DIST.max() / DIST.min() < AR_width_lenght_ratio:\n"
     ]
    },
    {
     "name": "stdout",
     "output_type": "stream",
     "text": [
      "            Loop over 1718 objects\n",
      "        00:01:13.56\n",
      " \n",
      "Save the object masks into a joint netCDF\n",
      "Saved: /work/aa0238/a271093/results/MOAAP/IVT_Tracking/ICON_DRIVENBY_ERA5_remapped_3x/ObjectMasks_MOAPP_ICON_ERA5_100and85ERA5perc_remapped_3x_2001_01_01-2001_08_01.nc\n",
      "        00:00:24.39\n",
      "clean up /work/aa0238/a271093/results/MOAAP/IVT_Tracking/ICON_DRIVENBY_ERA5_remapped_3x/IVT_MOAPP_ICON_ERA5_100and85ERA5perc_remapped_3x_2001_01_01-2001_07_01.pkl\n",
      "clean up finished\n",
      "clean up /work/aa0238/a271093/results/MOAAP/IVT_Tracking/ICON_DRIVENBY_ERA5_remapped_3x/ARs_MOAPP_ICON_ERA5_100and85ERA5perc_remapped_3x_2001_01_01-2001_07_01.pkl\n",
      "clean up finished\n",
      "correct nc-file with \n",
      " cdo -selmon,1,2,3,4,5,6 /work/aa0238/a271093/results/MOAAP/IVT_Tracking/ICON_DRIVENBY_ERA5_remapped_3x/ObjectMasks_MOAPP_ICON_ERA5_100and85ERA5perc_remapped_3x_2001_01_01-2001_08_01.nc /work/aa0238/a271093/results/MOAAP/IVT_Tracking/ICON_DRIVENBY_ERA5_remapped_3x/ObjectMasks_MOAPP_ICON_ERA5_100and85ERA5perc_remapped_3x_2001_01_01-2001_07_01_corrected.nc\n",
      "\n",
      " \n",
      " \n",
      " \n",
      "\n",
      "2001-07-01 00:00:00 2002-02-01 00:00:00\n",
      "Mergetime /work/aa0238/a271093/data/ICON_ERA5/1998-2022/remapped_3x/IVTu/IVTu_2001010100-2001123123_remapped_3x.nc /work/aa0238/a271093/data/ICON_ERA5/1998-2022/remapped_3x/IVTu/IVTu_2002010100-2002123123_remapped_3x.nc  /work/aa0238/a271093/scratch/mergedIVTu_2001_2002_remapped_3x.nc\n",
      "Mergetime /work/aa0238/a271093/data/ICON_ERA5/1998-2022/remapped_3x/IVTv/IVTv_2001010100-2001123123_remapped_3x.nc /work/aa0238/a271093/data/ICON_ERA5/1998-2022/remapped_3x/IVTv/IVTv_2002010100-2002123123_remapped_3x.nc  /work/aa0238/a271093/scratch/mergedIVTv_2001_2002_remapped_3x.nc\n",
      " \n",
      "The provided variables allow tracking the following phenomena\n",
      " \n",
      "|  phenomenon  | tracking |\n",
      "---------------------------\n",
      "   Jetstream   |   no\n",
      "   PSL CY/ACY  |   no\n",
      "   Z500 CY/ACY |   no\n",
      "   COLs        |   no\n",
      "   IVT ARs     |   yes\n",
      "   MS ARs      |   no\n",
      "   Fronts      |   no\n",
      "   TCs         |   no\n",
      "   MCSs        |   no\n",
      "   Equ. Waves  |   no\n",
      "---------------------------\n",
      " \n",
      "======> track IVT streams and atmospheric rivers (ARs)\n",
      "        4044 object found\n",
      "        break up long living IVT objects that have many elements\n"
     ]
    },
    {
     "name": "stderr",
     "output_type": "stream",
     "text": [
      "100%|██████████| 725/725 [00:26<00:00, 27.36it/s]\n"
     ]
    },
    {
     "name": "stdout",
     "output_type": "stream",
     "text": [
      "        00:00:33.00\n",
      "9\n",
      "            Loop over 1807 objects\n"
     ]
    },
    {
     "name": "stderr",
     "output_type": "stream",
     "text": [
      "/work/aa0238/a271093/Scripts/MOAAP/src/Tracking_Functions.py:247: RuntimeWarning: All-NaN slice encountered\n",
      "  obj_min = np.nanmin(data_slice, axis=(1, 2))\n",
      "/work/aa0238/a271093/Scripts/MOAAP/src/Tracking_Functions.py:248: RuntimeWarning: All-NaN slice encountered\n",
      "  obj_max = np.nanmax(data_slice, axis=(1, 2))\n",
      "/work/aa0238/a271093/Scripts/MOAAP/src/Tracking_Functions.py:249: RuntimeWarning: Mean of empty slice\n",
      "  obj_mean = np.nanmean(data_slice, axis=(1, 2))\n",
      "/work/aa0238/a271093/Conda/MOAAP_env/lib/python3.12/site-packages/scipy/ndimage/_measurements.py:1541: RuntimeWarning: invalid value encountered in scalar divide\n",
      "  results = [sum(input * grids[dir].astype(float), labels, index) / normalizer\n"
     ]
    },
    {
     "name": "stdout",
     "output_type": "stream",
     "text": [
      "        check if MSs quallify as ARs\n"
     ]
    },
    {
     "name": "stderr",
     "output_type": "stream",
     "text": [
      "/work/aa0238/a271093/Scripts/MOAAP/src/Tracking_Functions.py:4316: RuntimeWarning: divide by zero encountered in scalar divide\n",
      "  if DIST.max() / DIST.min() < AR_width_lenght_ratio:\n"
     ]
    },
    {
     "name": "stdout",
     "output_type": "stream",
     "text": [
      "            Loop over 1807 objects\n",
      "        00:01:23.32\n",
      " \n",
      "Save the object masks into a joint netCDF\n",
      "Saved: /work/aa0238/a271093/results/MOAAP/IVT_Tracking/ICON_DRIVENBY_ERA5_remapped_3x/ObjectMasks_MOAPP_ICON_ERA5_100and85ERA5perc_remapped_3x_2001_07_01-2002_02_01.nc\n",
      "        00:00:24.94\n",
      "clean up /work/aa0238/a271093/results/MOAAP/IVT_Tracking/ICON_DRIVENBY_ERA5_remapped_3x/IVT_MOAPP_ICON_ERA5_100and85ERA5perc_remapped_3x_2001_07_01-2002_01_01.pkl\n",
      "clean up finished\n",
      "clean up /work/aa0238/a271093/results/MOAAP/IVT_Tracking/ICON_DRIVENBY_ERA5_remapped_3x/ARs_MOAPP_ICON_ERA5_100and85ERA5perc_remapped_3x_2001_07_01-2002_01_01.pkl\n",
      "clean up finished\n",
      "correct nc-file with \n",
      " cdo -selmon,6,7,8,9,10,11,12 /work/aa0238/a271093/results/MOAAP/IVT_Tracking/ICON_DRIVENBY_ERA5_remapped_3x/ObjectMasks_MOAPP_ICON_ERA5_100and85ERA5perc_remapped_3x_2001_07_01-2002_02_01.nc /work/aa0238/a271093/results/MOAAP/IVT_Tracking/ICON_DRIVENBY_ERA5_remapped_3x/ObjectMasks_MOAPP_ICON_ERA5_100and85ERA5perc_remapped_3x_2001_07_01-2002_01_01_corrected.nc\n",
      "\n",
      " \n",
      " \n",
      " \n",
      "\n",
      "2002-01-01 00:00:00 2002-08-01 00:00:00\n",
      " \n",
      "The provided variables allow tracking the following phenomena\n",
      " \n",
      "|  phenomenon  | tracking |\n",
      "---------------------------\n",
      "   Jetstream   |   no\n",
      "   PSL CY/ACY  |   no\n",
      "   Z500 CY/ACY |   no\n",
      "   COLs        |   no\n",
      "   IVT ARs     |   yes\n",
      "   MS ARs      |   no\n",
      "   Fronts      |   no\n",
      "   TCs         |   no\n",
      "   MCSs        |   no\n",
      "   Equ. Waves  |   no\n",
      "---------------------------\n",
      " \n",
      "======> track IVT streams and atmospheric rivers (ARs)\n",
      "        3835 object found\n",
      "        break up long living IVT objects that have many elements\n"
     ]
    },
    {
     "name": "stderr",
     "output_type": "stream",
     "text": [
      "100%|██████████| 663/663 [00:25<00:00, 25.96it/s]\n"
     ]
    },
    {
     "name": "stdout",
     "output_type": "stream",
     "text": [
      "        00:00:31.41\n",
      "9\n",
      "            Loop over 1656 objects\n"
     ]
    },
    {
     "name": "stderr",
     "output_type": "stream",
     "text": [
      "/work/aa0238/a271093/Scripts/MOAAP/src/Tracking_Functions.py:247: RuntimeWarning: All-NaN slice encountered\n",
      "  obj_min = np.nanmin(data_slice, axis=(1, 2))\n",
      "/work/aa0238/a271093/Scripts/MOAAP/src/Tracking_Functions.py:248: RuntimeWarning: All-NaN slice encountered\n",
      "  obj_max = np.nanmax(data_slice, axis=(1, 2))\n",
      "/work/aa0238/a271093/Scripts/MOAAP/src/Tracking_Functions.py:249: RuntimeWarning: Mean of empty slice\n",
      "  obj_mean = np.nanmean(data_slice, axis=(1, 2))\n",
      "/work/aa0238/a271093/Conda/MOAAP_env/lib/python3.12/site-packages/scipy/ndimage/_measurements.py:1541: RuntimeWarning: invalid value encountered in scalar divide\n",
      "  results = [sum(input * grids[dir].astype(float), labels, index) / normalizer\n"
     ]
    },
    {
     "name": "stdout",
     "output_type": "stream",
     "text": [
      "        check if MSs quallify as ARs\n"
     ]
    },
    {
     "name": "stderr",
     "output_type": "stream",
     "text": [
      "/work/aa0238/a271093/Scripts/MOAAP/src/Tracking_Functions.py:4316: RuntimeWarning: divide by zero encountered in scalar divide\n",
      "  if DIST.max() / DIST.min() < AR_width_lenght_ratio:\n"
     ]
    },
    {
     "name": "stdout",
     "output_type": "stream",
     "text": [
      "            Loop over 1656 objects\n",
      "        00:01:17.18\n",
      " \n",
      "Save the object masks into a joint netCDF\n",
      "Saved: /work/aa0238/a271093/results/MOAAP/IVT_Tracking/ICON_DRIVENBY_ERA5_remapped_3x/ObjectMasks_MOAPP_ICON_ERA5_100and85ERA5perc_remapped_3x_2002_01_01-2002_08_01.nc\n",
      "        00:00:24.28\n",
      "clean up /work/aa0238/a271093/results/MOAAP/IVT_Tracking/ICON_DRIVENBY_ERA5_remapped_3x/IVT_MOAPP_ICON_ERA5_100and85ERA5perc_remapped_3x_2002_01_01-2002_07_01.pkl\n",
      "clean up finished\n",
      "clean up /work/aa0238/a271093/results/MOAAP/IVT_Tracking/ICON_DRIVENBY_ERA5_remapped_3x/ARs_MOAPP_ICON_ERA5_100and85ERA5perc_remapped_3x_2002_01_01-2002_07_01.pkl\n",
      "clean up finished\n",
      "correct nc-file with \n",
      " cdo -selmon,1,2,3,4,5,6 /work/aa0238/a271093/results/MOAAP/IVT_Tracking/ICON_DRIVENBY_ERA5_remapped_3x/ObjectMasks_MOAPP_ICON_ERA5_100and85ERA5perc_remapped_3x_2002_01_01-2002_08_01.nc /work/aa0238/a271093/results/MOAAP/IVT_Tracking/ICON_DRIVENBY_ERA5_remapped_3x/ObjectMasks_MOAPP_ICON_ERA5_100and85ERA5perc_remapped_3x_2002_01_01-2002_07_01_corrected.nc\n",
      "\n",
      " \n",
      " \n",
      " \n",
      "\n",
      "2002-07-01 00:00:00 2003-02-01 00:00:00\n",
      "Mergetime /work/aa0238/a271093/data/ICON_ERA5/1998-2022/remapped_3x/IVTu/IVTu_2002010100-2002123123_remapped_3x.nc /work/aa0238/a271093/data/ICON_ERA5/1998-2022/remapped_3x/IVTu/IVTu_2003010100-2003123123_remapped_3x.nc  /work/aa0238/a271093/scratch/mergedIVTu_2002_2003_remapped_3x.nc\n",
      "Mergetime /work/aa0238/a271093/data/ICON_ERA5/1998-2022/remapped_3x/IVTv/IVTv_2002010100-2002123123_remapped_3x.nc /work/aa0238/a271093/data/ICON_ERA5/1998-2022/remapped_3x/IVTv/IVTv_2003010100-2003123123_remapped_3x.nc  /work/aa0238/a271093/scratch/mergedIVTv_2002_2003_remapped_3x.nc\n",
      " \n",
      "The provided variables allow tracking the following phenomena\n",
      " \n",
      "|  phenomenon  | tracking |\n",
      "---------------------------\n",
      "   Jetstream   |   no\n",
      "   PSL CY/ACY  |   no\n",
      "   Z500 CY/ACY |   no\n",
      "   COLs        |   no\n",
      "   IVT ARs     |   yes\n",
      "   MS ARs      |   no\n",
      "   Fronts      |   no\n",
      "   TCs         |   no\n",
      "   MCSs        |   no\n",
      "   Equ. Waves  |   no\n",
      "---------------------------\n",
      " \n",
      "======> track IVT streams and atmospheric rivers (ARs)\n",
      "        4095 object found\n",
      "        break up long living IVT objects that have many elements\n"
     ]
    },
    {
     "name": "stderr",
     "output_type": "stream",
     "text": [
      "100%|██████████| 661/661 [00:27<00:00, 24.43it/s]\n"
     ]
    },
    {
     "name": "stdout",
     "output_type": "stream",
     "text": [
      "        00:00:33.30\n",
      "9\n",
      "            Loop over 1721 objects\n",
      "        check if MSs quallify as ARs\n"
     ]
    },
    {
     "name": "stderr",
     "output_type": "stream",
     "text": [
      "/work/aa0238/a271093/Scripts/MOAAP/src/Tracking_Functions.py:4316: RuntimeWarning: divide by zero encountered in scalar divide\n",
      "  if DIST.max() / DIST.min() < AR_width_lenght_ratio:\n"
     ]
    },
    {
     "name": "stdout",
     "output_type": "stream",
     "text": [
      "            Loop over 1719 objects\n"
     ]
    },
    {
     "name": "stderr",
     "output_type": "stream",
     "text": [
      "/work/aa0238/a271093/Scripts/MOAAP/src/Tracking_Functions.py:247: RuntimeWarning: All-NaN slice encountered\n",
      "  obj_min = np.nanmin(data_slice, axis=(1, 2))\n",
      "/work/aa0238/a271093/Scripts/MOAAP/src/Tracking_Functions.py:248: RuntimeWarning: All-NaN slice encountered\n",
      "  obj_max = np.nanmax(data_slice, axis=(1, 2))\n",
      "/work/aa0238/a271093/Scripts/MOAAP/src/Tracking_Functions.py:249: RuntimeWarning: Mean of empty slice\n",
      "  obj_mean = np.nanmean(data_slice, axis=(1, 2))\n",
      "/work/aa0238/a271093/Conda/MOAAP_env/lib/python3.12/site-packages/scipy/ndimage/_measurements.py:1541: RuntimeWarning: invalid value encountered in scalar divide\n",
      "  results = [sum(input * grids[dir].astype(float), labels, index) / normalizer\n"
     ]
    },
    {
     "name": "stdout",
     "output_type": "stream",
     "text": [
      "        00:01:20.04\n",
      " \n",
      "Save the object masks into a joint netCDF\n",
      "Saved: /work/aa0238/a271093/results/MOAAP/IVT_Tracking/ICON_DRIVENBY_ERA5_remapped_3x/ObjectMasks_MOAPP_ICON_ERA5_100and85ERA5perc_remapped_3x_2002_07_01-2003_02_01.nc\n",
      "        00:00:25.02\n",
      "clean up /work/aa0238/a271093/results/MOAAP/IVT_Tracking/ICON_DRIVENBY_ERA5_remapped_3x/IVT_MOAPP_ICON_ERA5_100and85ERA5perc_remapped_3x_2002_07_01-2003_01_01.pkl\n",
      "clean up finished\n",
      "clean up /work/aa0238/a271093/results/MOAAP/IVT_Tracking/ICON_DRIVENBY_ERA5_remapped_3x/ARs_MOAPP_ICON_ERA5_100and85ERA5perc_remapped_3x_2002_07_01-2003_01_01.pkl\n",
      "clean up finished\n",
      "correct nc-file with \n",
      " cdo -selmon,6,7,8,9,10,11,12 /work/aa0238/a271093/results/MOAAP/IVT_Tracking/ICON_DRIVENBY_ERA5_remapped_3x/ObjectMasks_MOAPP_ICON_ERA5_100and85ERA5perc_remapped_3x_2002_07_01-2003_02_01.nc /work/aa0238/a271093/results/MOAAP/IVT_Tracking/ICON_DRIVENBY_ERA5_remapped_3x/ObjectMasks_MOAPP_ICON_ERA5_100and85ERA5perc_remapped_3x_2002_07_01-2003_01_01_corrected.nc\n",
      "\n",
      " \n",
      " \n",
      " \n",
      "\n",
      "2003-01-01 00:00:00 2003-08-01 00:00:00\n",
      " \n",
      "The provided variables allow tracking the following phenomena\n",
      " \n",
      "|  phenomenon  | tracking |\n",
      "---------------------------\n",
      "   Jetstream   |   no\n",
      "   PSL CY/ACY  |   no\n",
      "   Z500 CY/ACY |   no\n",
      "   COLs        |   no\n",
      "   IVT ARs     |   yes\n",
      "   MS ARs      |   no\n",
      "   Fronts      |   no\n",
      "   TCs         |   no\n",
      "   MCSs        |   no\n",
      "   Equ. Waves  |   no\n",
      "---------------------------\n",
      " \n",
      "======> track IVT streams and atmospheric rivers (ARs)\n",
      "        4005 object found\n",
      "        break up long living IVT objects that have many elements\n"
     ]
    },
    {
     "name": "stderr",
     "output_type": "stream",
     "text": [
      " 10%|▉         | 63/648 [00:01<00:15, 37.92it/s]"
     ]
    }
   ],
   "source": [
    "\n",
    "IVTuLoader= TrackingDataLoader('IVTu', data_path, suffix=suffix, file_type = file_type)\n",
    "IVTvLoader= TrackingDataLoader('IVTv', data_path, suffix=suffix, file_type = file_type)\n",
    "\n",
    "\n",
    "dict_keys_offset = 1000000\n",
    "\n",
    "for start_date, end_date in zip(start_date_list, end_date_list):\n",
    "    \n",
    "    print (\"\\n \\n \\n \\n\")\n",
    "    \n",
    "    IVTuLoader.start_date = start_date\n",
    "    IVTvLoader.start_date = start_date\n",
    "    \n",
    "    IVTuLoader.end_date = end_date\n",
    "    IVTvLoader.end_date = end_date\n",
    "\n",
    "    print (IVTuLoader.start_date, IVTuLoader.end_date)\n",
    "    \n",
    "\n",
    "    IVTudata=IVTuLoader.load_datasets(rm_nc=True)\n",
    "    IVTvdata=IVTvLoader.load_datasets(rm_nc=True)\n",
    "\n",
    "\n",
    "    rLon = xr.broadcast(IVTudata.rlon, IVTudata.rlat)[0].values.T\n",
    "    rLat = xr.broadcast(IVTudata.rlon, IVTudata.rlat)[1].values.T\n",
    "\n",
    "    Lon = xr.broadcast(IVTudata.lon, IVTudata.lat)[0].values\n",
    "    Lat = xr.broadcast(IVTudata.lon, IVTudata.lat)[1].values\n",
    "\n",
    "    Mask=1*(rLat>-999)\n",
    "    Time_sel = IVTuLoader.time_sel\n",
    "    \n",
    "    output_file_name = f'{output_file_name_temp}_{get_datetime_str(start_date)}-{get_datetime_str(end_date)}'\n",
    "\n",
    "    \n",
    "\n",
    "    Tracking_Functions.moaap(Lon = rLon,                            # 2Dlongitude grid centers\n",
    "                              Lat = rLat,                           # 2D latitude grid spacing\n",
    "                              Time = Time_sel,                      # datetime vector of data\n",
    "                              dT = 1,                               # integer - temporal frequency of data [hour]\n",
    "                              Mask = Mask,                          # mask with dimensions [lat,lon] defining analysis region\n",
    "\n",
    "                              ivte = IVTudata.IVTu.values,          # zonal integrated vapor transport [kg m-1 s-1]\n",
    "                              ivtn = IVTvdata.IVTv.values,          # meidional integrated vapor transport [kg m-1 s-1]\n",
    "                              regular_Lon = Lon,\n",
    "                              regular_Lat = Lat,\n",
    "                              IVTtrheshold = IVTtrheshold,          # Integrated water vapor transport threshold for AR detection [kg m-1 s-1]\n",
    "                                                                    # JLa: additionall fixed threshold 100 in code\n",
    "\n",
    "                              DataName = output_file_name,\n",
    "                              OutputFolder=output_path ,\n",
    "                              dict_keys_offset = dict_keys_offset\n",
    "                            )\n",
    "                       \n",
    "                             \n",
    "    cleanup_dicts(output_path,\n",
    "                  output_file_name_temp,\n",
    "                  start_date,\n",
    "                  end_date, \n",
    "                  last_processed_date,\n",
    "                  type_='IVT'\n",
    "                 )\n",
    "        \n",
    "    cleanup_dicts(output_path,\n",
    "                  output_file_name_temp,\n",
    "                  start_date,\n",
    "                  end_date, \n",
    "                  last_processed_date,\n",
    "                  type_='ARs'\n",
    "                 )\n",
    "    \n",
    "    correct_nc_file(output_path,\n",
    "                    output_file_name_temp, \n",
    "                    start_date,\n",
    "                    end_date,\n",
    "                    last_processed_date\n",
    "                   )\n",
    "                             \n",
    "    dict_keys_offset +=5000"
   ]
  },
  {
   "cell_type": "code",
   "execution_count": null,
   "id": "b907472e-c386-4f1d-8d1c-3d95f5967bee",
   "metadata": {},
   "outputs": [],
   "source": []
  }
 ],
 "metadata": {
  "kernelspec": {
   "display_name": "MOAAP-Kernel",
   "language": "python",
   "name": "moaap_kernel"
  },
  "language_info": {
   "codemirror_mode": {
    "name": "ipython",
    "version": 3
   },
   "file_extension": ".py",
   "mimetype": "text/x-python",
   "name": "python",
   "nbconvert_exporter": "python",
   "pygments_lexer": "ipython3",
   "version": "3.12.2"
  }
 },
 "nbformat": 4,
 "nbformat_minor": 5
}
