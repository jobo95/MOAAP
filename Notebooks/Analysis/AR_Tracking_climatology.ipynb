{
 "cells": [
  {
   "cell_type": "markdown",
   "id": "3afad24d-3b3e-4564-b356-89afcebb173f",
   "metadata": {},
   "source": [
    "# Climatological tracking of IVT and AR objects using the MOAAP tracking algorithm\n",
    "- Load IVT tracking data in chunks of 7 months with 1 month overlap between chunks\n",
    "- Track individual data chunks and correct the pickle and netCdf4 files afterwards, so that each final corrected file corresponds to 6 month, from 1.1-1.7 and 1.7-1-1 respectively\n",
    "- Tracking should be done on a rotated grid to avoid strange behaviour around the pole when e.g. using a regular grid\n",
    "- Tracking data are remapped to 33km resolution\n"
   ]
  },
  {
   "cell_type": "raw",
   "id": "5c2f1242-2640-44b8-b13f-dbfcbc289262",
   "metadata": {},
   "source": []
  },
  {
   "cell_type": "code",
   "execution_count": 21,
   "id": "c82b8897-9b45-4561-8ae7-aef199414ba8",
   "metadata": {},
   "outputs": [
    {
     "name": "stdout",
     "output_type": "stream",
     "text": [
      "The autoreload extension is already loaded. To reload it, use:\n",
      "  %reload_ext autoreload\n"
     ]
    }
   ],
   "source": [
    "%load_ext autoreload\n",
    "%autoreload 2\n",
    "import xarray as xr\n",
    "import matplotlib.pyplot as plt\n",
    "import numpy as np\n",
    "import pandas as pd\n",
    "import scipy\n",
    "import datetime\n",
    "import cartopy\n",
    "import cartopy.crs as ccrs\n",
    "import pickle\n",
    "#import Tracking_Functions\n",
    "from dateutil import relativedelta\n",
    "import os\n",
    "\n",
    "import src.Tracking_Functions as Tracking_Functions\n",
    "from src.TrackingDataLoader import * \n",
    "from src.utils import * \n",
    "from src.Corrections import * \n",
    "from src.Experiments_infos import Data"
   ]
  },
  {
   "cell_type": "markdown",
   "id": "128eb1b9-7796-4d81-996f-7986c27c86c6",
   "metadata": {
    "tags": []
   },
   "source": [
    "# Settings"
   ]
  },
  {
   "cell_type": "code",
   "execution_count": 22,
   "id": "c780b1a7-6ae3-4c9a-be46-3ac9ecab02ae",
   "metadata": {},
   "outputs": [],
   "source": [
    "#data_path = '/work/aa0049/a271109/spice-v2.1/chain/work/polarres_wp3_cmip_CNRM/post/yearly/'\n",
    "exp = Data.ICON_NORESM_EXP\n",
    "\n",
    "\n",
    "suffix = 'remapped_3x'\n",
    "file_type = '.nc'\n",
    "\n",
    "#######ICON########\n",
    "\n",
    "exp = Data.ICON_NORESM_EXP\n",
    "\n",
    "first_year = 1984\n",
    "last_year = 2015\n",
    "\n",
    "data_path = exp.path\n",
    "output_path = exp.IVTobj_out_path\n",
    "\n",
    "output_file_name_temp = f'MOAPP_ICON_100and85controlperc_{suffix}'\n",
    "\n",
    "#output_path = '/work/aa0238/a271093/scratch/Track_test/'\n",
    "threshold_file = exp.IVT_thresh_path+exp.IVT_thresh_file_85\n",
    "\n",
    "ds_ivt_pctl=xr.open_dataset(threshold_file,decode_times=False)\n",
    "IVTtrheshold=ds_ivt_pctl.IVT_85perc.values\n",
    "\n",
    "\n",
    "\n",
    "#####ERA5######\n",
    "\n",
    "#first_year = 1979\n",
    "#last_year = 2022\n",
    "\n",
    "\n",
    "#data_path = '/work/aa0238/a271093/data/ERA5/1979-2023/ICON_remapped_3x/'\n",
    "#output_path = '/work/aa0238/a271093/results/MOAAP/IVT_Tracking/ERA5_ICON_remapped_3x/'\n",
    "#output_file_name_temp = f'MOAPP_ERA5_100and85controlperc_{suffix}'\n",
    "#threshold_file = threshold_path+'ivt_percentile_mlauer_removed-ens-lev_remapbilWP3domain_3dx3dy.nc'\n",
    "\n",
    "#ds_ivt_pctl=xr.open_dataset(threshold_file,decode_times=False)\n",
    "#IVTtrheshold=ds_ivt_pctl.ivt1.values\n"
   ]
  },
  {
   "cell_type": "code",
   "execution_count": 23,
   "id": "b86d8261-0838-4137-96e0-67c6e8adc9b8",
   "metadata": {},
   "outputs": [],
   "source": [
    "start_date_list, end_date_list = create_datetime_lists(first_year,last_year) \n",
    "first_processed_date = start_date_list[0]\n",
    "last_processed_date = end_date_list[-1]"
   ]
  },
  {
   "cell_type": "code",
   "execution_count": null,
   "id": "26e165ca-8907-449e-a0c4-289f86b58603",
   "metadata": {
    "tags": []
   },
   "outputs": [
    {
     "name": "stdout",
     "output_type": "stream",
     "text": [
      "\n",
      " \n",
      " \n",
      " \n",
      "\n",
      "1984-01-01 00:00:00 1984-08-01 00:00:00\n",
      " \n",
      "The provided variables allow tracking the following phenomena\n",
      " \n",
      "|  phenomenon  | tracking |\n",
      "---------------------------\n",
      "   Jetstream   |   no\n",
      "   PSL CY/ACY  |   no\n",
      "   Z500 CY/ACY |   no\n",
      "   COLs        |   no\n",
      "   IVT ARs     |   yes\n",
      "   MS ARs      |   no\n",
      "   Fronts      |   no\n",
      "   TCs         |   no\n",
      "   MCSs        |   no\n",
      "   Equ. Waves  |   no\n",
      "---------------------------\n",
      " \n",
      "======> track IVT streams and atmospheric rivers (ARs)\n",
      "        3000 object found\n",
      "        break up long living IVT objects that have many elements\n"
     ]
    },
    {
     "name": "stderr",
     "output_type": "stream",
     "text": [
      "100%|██████████| 601/601 [00:20<00:00, 29.05it/s]\n"
     ]
    },
    {
     "name": "stdout",
     "output_type": "stream",
     "text": [
      "        00:00:26.31\n",
      "9\n",
      "            Loop over 1146 objects\n"
     ]
    },
    {
     "name": "stderr",
     "output_type": "stream",
     "text": [
      "/work/aa0238/a271093/Scripts/MOAAP/src/Tracking_Functions.py:255: RuntimeWarning: All-NaN slice encountered\n",
      "  obj_min = np.nanmin(data_slice, axis=(1, 2))\n",
      "/work/aa0238/a271093/Scripts/MOAAP/src/Tracking_Functions.py:256: RuntimeWarning: All-NaN slice encountered\n",
      "  obj_max = np.nanmax(data_slice, axis=(1, 2))\n",
      "/work/aa0238/a271093/Scripts/MOAAP/src/Tracking_Functions.py:257: RuntimeWarning: Mean of empty slice\n",
      "  obj_mean = np.nanmean(data_slice, axis=(1, 2))\n",
      "/work/aa0238/a271093/Conda/MOAAP_env/lib/python3.12/site-packages/scipy/ndimage/_measurements.py:1541: RuntimeWarning: invalid value encountered in scalar divide\n",
      "  results = [sum(input * grids[dir].astype(float), labels, index) / normalizer\n"
     ]
    },
    {
     "name": "stdout",
     "output_type": "stream",
     "text": [
      "        check if MSs quallify as ARs\n"
     ]
    },
    {
     "name": "stderr",
     "output_type": "stream",
     "text": [
      "/work/aa0238/a271093/Scripts/MOAAP/src/Tracking_Functions.py:4591: RuntimeWarning: divide by zero encountered in scalar divide\n",
      "  if DIST.max() / DIST.min() < AR_width_lenght_ratio:\n"
     ]
    },
    {
     "name": "stdout",
     "output_type": "stream",
     "text": [
      "            Loop over 1144 objects\n",
      "        00:01:00.38\n",
      " \n",
      "Save the object masks into a joint netCDF\n",
      "Saved: /work/aa0238/a271093/results/MOAAP/IVT_Tracking/NorESM_control_remapped_3x/ObjectMasks_MOAPP_ICON_100and85controlperc_remapped_3x_1984_01_01-1984_08_01.nc\n",
      "        00:00:23.50\n",
      "clean up /work/aa0238/a271093/results/MOAAP/IVT_Tracking/NorESM_control_remapped_3x/IVT_MOAPP_ICON_100and85controlperc_remapped_3x_1984_01_01-1984_07_01.pkl\n",
      "clean up finished\n",
      "clean up /work/aa0238/a271093/results/MOAAP/IVT_Tracking/NorESM_control_remapped_3x/ARs_MOAPP_ICON_100and85controlperc_remapped_3x_1984_01_01-1984_07_01.pkl\n",
      "clean up finished\n",
      "correct nc-file with \n",
      " cdo -selmon,1,2,3,4,5,6 /work/aa0238/a271093/results/MOAAP/IVT_Tracking/NorESM_control_remapped_3x/ObjectMasks_MOAPP_ICON_100and85controlperc_remapped_3x_1984_01_01-1984_08_01.nc /work/aa0238/a271093/results/MOAAP/IVT_Tracking/NorESM_control_remapped_3x/ObjectMasks_MOAPP_ICON_100and85controlperc_remapped_3x_1984_01_01-1984_07_01_corrected.nc\n",
      "\n",
      " \n",
      " \n",
      " \n",
      "\n",
      "1984-07-01 00:00:00 1985-02-01 00:00:00\n",
      "Mergetime /work/aa0238/a271093/data/Jan_runs/ICON_NorESM_control/NorESM_control_remapped_3x/IVTu/IVTu_1984010100-1984123123_remapped_3x.nc /work/aa0238/a271093/data/Jan_runs/ICON_NorESM_control/NorESM_control_remapped_3x/IVTu/IVTu_1985010100-1985123123_remapped_3x.nc  /work/aa0238/a271093/scratch/mergedIVTu_1984_1985_remapped_3x.nc\n",
      "Mergetime /work/aa0238/a271093/data/Jan_runs/ICON_NorESM_control/NorESM_control_remapped_3x/IVTv/IVTv_1984010100-1984123123_remapped_3x.nc /work/aa0238/a271093/data/Jan_runs/ICON_NorESM_control/NorESM_control_remapped_3x/IVTv/IVTv_1985010100-1985123123_remapped_3x.nc  /work/aa0238/a271093/scratch/mergedIVTv_1984_1985_remapped_3x.nc\n",
      " \n",
      "The provided variables allow tracking the following phenomena\n",
      " \n",
      "|  phenomenon  | tracking |\n",
      "---------------------------\n",
      "   Jetstream   |   no\n",
      "   PSL CY/ACY  |   no\n",
      "   Z500 CY/ACY |   no\n",
      "   COLs        |   no\n",
      "   IVT ARs     |   yes\n",
      "   MS ARs      |   no\n",
      "   Fronts      |   no\n",
      "   TCs         |   no\n",
      "   MCSs        |   no\n",
      "   Equ. Waves  |   no\n",
      "---------------------------\n",
      " \n",
      "======> track IVT streams and atmospheric rivers (ARs)\n",
      "        2744 object found\n",
      "        break up long living IVT objects that have many elements\n"
     ]
    },
    {
     "name": "stderr",
     "output_type": "stream",
     "text": [
      "100%|██████████| 598/598 [00:22<00:00, 27.15it/s]\n"
     ]
    },
    {
     "name": "stdout",
     "output_type": "stream",
     "text": [
      "        00:00:27.87\n",
      "9\n",
      "            Loop over 1189 objects\n"
     ]
    },
    {
     "name": "stderr",
     "output_type": "stream",
     "text": [
      "/work/aa0238/a271093/Scripts/MOAAP/src/Tracking_Functions.py:255: RuntimeWarning: All-NaN slice encountered\n",
      "  obj_min = np.nanmin(data_slice, axis=(1, 2))\n",
      "/work/aa0238/a271093/Scripts/MOAAP/src/Tracking_Functions.py:256: RuntimeWarning: All-NaN slice encountered\n",
      "  obj_max = np.nanmax(data_slice, axis=(1, 2))\n",
      "/work/aa0238/a271093/Scripts/MOAAP/src/Tracking_Functions.py:257: RuntimeWarning: Mean of empty slice\n",
      "  obj_mean = np.nanmean(data_slice, axis=(1, 2))\n",
      "/work/aa0238/a271093/Conda/MOAAP_env/lib/python3.12/site-packages/scipy/ndimage/_measurements.py:1541: RuntimeWarning: invalid value encountered in scalar divide\n",
      "  results = [sum(input * grids[dir].astype(float), labels, index) / normalizer\n"
     ]
    },
    {
     "name": "stdout",
     "output_type": "stream",
     "text": [
      "        check if MSs quallify as ARs\n"
     ]
    },
    {
     "name": "stderr",
     "output_type": "stream",
     "text": [
      "/work/aa0238/a271093/Scripts/MOAAP/src/Tracking_Functions.py:4591: RuntimeWarning: divide by zero encountered in scalar divide\n",
      "  if DIST.max() / DIST.min() < AR_width_lenght_ratio:\n"
     ]
    },
    {
     "name": "stdout",
     "output_type": "stream",
     "text": [
      "            Loop over 1187 objects\n",
      "        00:01:02.50\n",
      " \n",
      "Save the object masks into a joint netCDF\n",
      "Saved: /work/aa0238/a271093/results/MOAAP/IVT_Tracking/NorESM_control_remapped_3x/ObjectMasks_MOAPP_ICON_100and85controlperc_remapped_3x_1984_07_01-1985_02_01.nc\n",
      "        00:00:23.79\n",
      "clean up /work/aa0238/a271093/results/MOAAP/IVT_Tracking/NorESM_control_remapped_3x/IVT_MOAPP_ICON_100and85controlperc_remapped_3x_1984_07_01-1985_01_01.pkl\n",
      "clean up finished\n",
      "clean up /work/aa0238/a271093/results/MOAAP/IVT_Tracking/NorESM_control_remapped_3x/ARs_MOAPP_ICON_100and85controlperc_remapped_3x_1984_07_01-1985_01_01.pkl\n",
      "clean up finished\n",
      "correct nc-file with \n",
      " cdo -selmon,6,7,8,9,10,11,12 /work/aa0238/a271093/results/MOAAP/IVT_Tracking/NorESM_control_remapped_3x/ObjectMasks_MOAPP_ICON_100and85controlperc_remapped_3x_1984_07_01-1985_02_01.nc /work/aa0238/a271093/results/MOAAP/IVT_Tracking/NorESM_control_remapped_3x/ObjectMasks_MOAPP_ICON_100and85controlperc_remapped_3x_1984_07_01-1985_01_01_corrected.nc\n",
      "\n",
      " \n",
      " \n",
      " \n",
      "\n",
      "1985-01-01 00:00:00 1985-08-01 00:00:00\n",
      " \n",
      "The provided variables allow tracking the following phenomena\n",
      " \n",
      "|  phenomenon  | tracking |\n",
      "---------------------------\n",
      "   Jetstream   |   no\n",
      "   PSL CY/ACY  |   no\n",
      "   Z500 CY/ACY |   no\n",
      "   COLs        |   no\n",
      "   IVT ARs     |   yes\n",
      "   MS ARs      |   no\n",
      "   Fronts      |   no\n",
      "   TCs         |   no\n",
      "   MCSs        |   no\n",
      "   Equ. Waves  |   no\n",
      "---------------------------\n",
      " \n",
      "======> track IVT streams and atmospheric rivers (ARs)\n",
      "        2682 object found\n",
      "        break up long living IVT objects that have many elements\n"
     ]
    },
    {
     "name": "stderr",
     "output_type": "stream",
     "text": [
      "100%|██████████| 585/585 [00:19<00:00, 29.66it/s]\n"
     ]
    },
    {
     "name": "stdout",
     "output_type": "stream",
     "text": [
      "        00:00:25.47\n",
      "9\n",
      "            Loop over 1200 objects\n"
     ]
    },
    {
     "name": "stderr",
     "output_type": "stream",
     "text": [
      "/work/aa0238/a271093/Scripts/MOAAP/src/Tracking_Functions.py:255: RuntimeWarning: All-NaN slice encountered\n",
      "  obj_min = np.nanmin(data_slice, axis=(1, 2))\n",
      "/work/aa0238/a271093/Scripts/MOAAP/src/Tracking_Functions.py:256: RuntimeWarning: All-NaN slice encountered\n",
      "  obj_max = np.nanmax(data_slice, axis=(1, 2))\n",
      "/work/aa0238/a271093/Scripts/MOAAP/src/Tracking_Functions.py:257: RuntimeWarning: Mean of empty slice\n",
      "  obj_mean = np.nanmean(data_slice, axis=(1, 2))\n",
      "/work/aa0238/a271093/Conda/MOAAP_env/lib/python3.12/site-packages/scipy/ndimage/_measurements.py:1541: RuntimeWarning: invalid value encountered in scalar divide\n",
      "  results = [sum(input * grids[dir].astype(float), labels, index) / normalizer\n"
     ]
    },
    {
     "name": "stdout",
     "output_type": "stream",
     "text": [
      "        check if MSs quallify as ARs\n"
     ]
    },
    {
     "name": "stderr",
     "output_type": "stream",
     "text": [
      "/work/aa0238/a271093/Scripts/MOAAP/src/Tracking_Functions.py:4591: RuntimeWarning: divide by zero encountered in scalar divide\n",
      "  if DIST.max() / DIST.min() < AR_width_lenght_ratio:\n"
     ]
    },
    {
     "name": "stdout",
     "output_type": "stream",
     "text": [
      "            Loop over 1199 objects\n",
      "        00:01:01.12\n",
      " \n",
      "Save the object masks into a joint netCDF\n",
      "Saved: /work/aa0238/a271093/results/MOAAP/IVT_Tracking/NorESM_control_remapped_3x/ObjectMasks_MOAPP_ICON_100and85controlperc_remapped_3x_1985_01_01-1985_08_01.nc\n",
      "        00:00:23.49\n",
      "clean up /work/aa0238/a271093/results/MOAAP/IVT_Tracking/NorESM_control_remapped_3x/IVT_MOAPP_ICON_100and85controlperc_remapped_3x_1985_01_01-1985_07_01.pkl\n",
      "clean up finished\n",
      "clean up /work/aa0238/a271093/results/MOAAP/IVT_Tracking/NorESM_control_remapped_3x/ARs_MOAPP_ICON_100and85controlperc_remapped_3x_1985_01_01-1985_07_01.pkl\n",
      "clean up finished\n",
      "correct nc-file with \n",
      " cdo -selmon,1,2,3,4,5,6 /work/aa0238/a271093/results/MOAAP/IVT_Tracking/NorESM_control_remapped_3x/ObjectMasks_MOAPP_ICON_100and85controlperc_remapped_3x_1985_01_01-1985_08_01.nc /work/aa0238/a271093/results/MOAAP/IVT_Tracking/NorESM_control_remapped_3x/ObjectMasks_MOAPP_ICON_100and85controlperc_remapped_3x_1985_01_01-1985_07_01_corrected.nc\n",
      "\n",
      " \n",
      " \n",
      " \n",
      "\n",
      "1985-07-01 00:00:00 1986-02-01 00:00:00\n",
      "Mergetime /work/aa0238/a271093/data/Jan_runs/ICON_NorESM_control/NorESM_control_remapped_3x/IVTu/IVTu_1985010100-1985123123_remapped_3x.nc /work/aa0238/a271093/data/Jan_runs/ICON_NorESM_control/NorESM_control_remapped_3x/IVTu/IVTu_1986010100-1986123123_remapped_3x.nc  /work/aa0238/a271093/scratch/mergedIVTu_1985_1986_remapped_3x.nc\n",
      "Mergetime /work/aa0238/a271093/data/Jan_runs/ICON_NorESM_control/NorESM_control_remapped_3x/IVTv/IVTv_1985010100-1985123123_remapped_3x.nc /work/aa0238/a271093/data/Jan_runs/ICON_NorESM_control/NorESM_control_remapped_3x/IVTv/IVTv_1986010100-1986123123_remapped_3x.nc  /work/aa0238/a271093/scratch/mergedIVTv_1985_1986_remapped_3x.nc\n",
      " \n",
      "The provided variables allow tracking the following phenomena\n",
      " \n",
      "|  phenomenon  | tracking |\n",
      "---------------------------\n",
      "   Jetstream   |   no\n",
      "   PSL CY/ACY  |   no\n",
      "   Z500 CY/ACY |   no\n",
      "   COLs        |   no\n",
      "   IVT ARs     |   yes\n",
      "   MS ARs      |   no\n",
      "   Fronts      |   no\n",
      "   TCs         |   no\n",
      "   MCSs        |   no\n",
      "   Equ. Waves  |   no\n",
      "---------------------------\n",
      " \n",
      "======> track IVT streams and atmospheric rivers (ARs)\n",
      "        2938 object found\n",
      "        break up long living IVT objects that have many elements\n"
     ]
    },
    {
     "name": "stderr",
     "output_type": "stream",
     "text": [
      "100%|██████████| 631/631 [00:22<00:00, 27.72it/s]\n"
     ]
    },
    {
     "name": "stdout",
     "output_type": "stream",
     "text": [
      "        00:00:28.68\n",
      "9\n",
      "            Loop over 1159 objects\n"
     ]
    },
    {
     "name": "stderr",
     "output_type": "stream",
     "text": [
      "/work/aa0238/a271093/Scripts/MOAAP/src/Tracking_Functions.py:255: RuntimeWarning: All-NaN slice encountered\n",
      "  obj_min = np.nanmin(data_slice, axis=(1, 2))\n",
      "/work/aa0238/a271093/Scripts/MOAAP/src/Tracking_Functions.py:256: RuntimeWarning: All-NaN slice encountered\n",
      "  obj_max = np.nanmax(data_slice, axis=(1, 2))\n",
      "/work/aa0238/a271093/Scripts/MOAAP/src/Tracking_Functions.py:257: RuntimeWarning: Mean of empty slice\n",
      "  obj_mean = np.nanmean(data_slice, axis=(1, 2))\n",
      "/work/aa0238/a271093/Conda/MOAAP_env/lib/python3.12/site-packages/scipy/ndimage/_measurements.py:1541: RuntimeWarning: invalid value encountered in scalar divide\n",
      "  results = [sum(input * grids[dir].astype(float), labels, index) / normalizer\n"
     ]
    },
    {
     "name": "stdout",
     "output_type": "stream",
     "text": [
      "        check if MSs quallify as ARs\n"
     ]
    },
    {
     "name": "stderr",
     "output_type": "stream",
     "text": [
      "/work/aa0238/a271093/Scripts/MOAAP/src/Tracking_Functions.py:4591: RuntimeWarning: divide by zero encountered in scalar divide\n",
      "  if DIST.max() / DIST.min() < AR_width_lenght_ratio:\n"
     ]
    },
    {
     "name": "stdout",
     "output_type": "stream",
     "text": [
      "            Loop over 1159 objects\n",
      "        00:01:03.06\n",
      " \n",
      "Save the object masks into a joint netCDF\n",
      "Saved: /work/aa0238/a271093/results/MOAAP/IVT_Tracking/NorESM_control_remapped_3x/ObjectMasks_MOAPP_ICON_100and85controlperc_remapped_3x_1985_07_01-1986_02_01.nc\n",
      "        00:00:23.89\n",
      "clean up /work/aa0238/a271093/results/MOAAP/IVT_Tracking/NorESM_control_remapped_3x/IVT_MOAPP_ICON_100and85controlperc_remapped_3x_1985_07_01-1986_01_01.pkl\n",
      "clean up finished\n",
      "clean up /work/aa0238/a271093/results/MOAAP/IVT_Tracking/NorESM_control_remapped_3x/ARs_MOAPP_ICON_100and85controlperc_remapped_3x_1985_07_01-1986_01_01.pkl\n",
      "clean up finished\n",
      "correct nc-file with \n",
      " cdo -selmon,6,7,8,9,10,11,12 /work/aa0238/a271093/results/MOAAP/IVT_Tracking/NorESM_control_remapped_3x/ObjectMasks_MOAPP_ICON_100and85controlperc_remapped_3x_1985_07_01-1986_02_01.nc /work/aa0238/a271093/results/MOAAP/IVT_Tracking/NorESM_control_remapped_3x/ObjectMasks_MOAPP_ICON_100and85controlperc_remapped_3x_1985_07_01-1986_01_01_corrected.nc\n",
      "\n",
      " \n",
      " \n",
      " \n",
      "\n",
      "1986-01-01 00:00:00 1986-08-01 00:00:00\n",
      " \n",
      "The provided variables allow tracking the following phenomena\n",
      " \n",
      "|  phenomenon  | tracking |\n",
      "---------------------------\n",
      "   Jetstream   |   no\n",
      "   PSL CY/ACY  |   no\n",
      "   Z500 CY/ACY |   no\n",
      "   COLs        |   no\n",
      "   IVT ARs     |   yes\n",
      "   MS ARs      |   no\n",
      "   Fronts      |   no\n",
      "   TCs         |   no\n",
      "   MCSs        |   no\n",
      "   Equ. Waves  |   no\n",
      "---------------------------\n",
      " \n",
      "======> track IVT streams and atmospheric rivers (ARs)\n",
      "        3041 object found\n",
      "        break up long living IVT objects that have many elements\n"
     ]
    },
    {
     "name": "stderr",
     "output_type": "stream",
     "text": [
      "100%|██████████| 584/584 [00:22<00:00, 26.20it/s]\n"
     ]
    },
    {
     "name": "stdout",
     "output_type": "stream",
     "text": [
      "        00:00:27.81\n",
      "9\n",
      "            Loop over 1181 objects\n"
     ]
    },
    {
     "name": "stderr",
     "output_type": "stream",
     "text": [
      "/work/aa0238/a271093/Scripts/MOAAP/src/Tracking_Functions.py:255: RuntimeWarning: All-NaN slice encountered\n",
      "  obj_min = np.nanmin(data_slice, axis=(1, 2))\n",
      "/work/aa0238/a271093/Scripts/MOAAP/src/Tracking_Functions.py:256: RuntimeWarning: All-NaN slice encountered\n",
      "  obj_max = np.nanmax(data_slice, axis=(1, 2))\n",
      "/work/aa0238/a271093/Scripts/MOAAP/src/Tracking_Functions.py:257: RuntimeWarning: Mean of empty slice\n",
      "  obj_mean = np.nanmean(data_slice, axis=(1, 2))\n",
      "/work/aa0238/a271093/Conda/MOAAP_env/lib/python3.12/site-packages/scipy/ndimage/_measurements.py:1541: RuntimeWarning: invalid value encountered in scalar divide\n",
      "  results = [sum(input * grids[dir].astype(float), labels, index) / normalizer\n"
     ]
    },
    {
     "name": "stdout",
     "output_type": "stream",
     "text": [
      "        check if MSs quallify as ARs\n"
     ]
    },
    {
     "name": "stderr",
     "output_type": "stream",
     "text": [
      "/work/aa0238/a271093/Scripts/MOAAP/src/Tracking_Functions.py:4591: RuntimeWarning: divide by zero encountered in scalar divide\n",
      "  if DIST.max() / DIST.min() < AR_width_lenght_ratio:\n"
     ]
    },
    {
     "name": "stdout",
     "output_type": "stream",
     "text": [
      "            Loop over 1181 objects\n",
      "        00:01:02.90\n",
      " \n",
      "Save the object masks into a joint netCDF\n",
      "Saved: /work/aa0238/a271093/results/MOAAP/IVT_Tracking/NorESM_control_remapped_3x/ObjectMasks_MOAPP_ICON_100and85controlperc_remapped_3x_1986_01_01-1986_08_01.nc\n",
      "        00:00:23.49\n",
      "clean up /work/aa0238/a271093/results/MOAAP/IVT_Tracking/NorESM_control_remapped_3x/IVT_MOAPP_ICON_100and85controlperc_remapped_3x_1986_01_01-1986_07_01.pkl\n",
      "clean up finished\n",
      "clean up /work/aa0238/a271093/results/MOAAP/IVT_Tracking/NorESM_control_remapped_3x/ARs_MOAPP_ICON_100and85controlperc_remapped_3x_1986_01_01-1986_07_01.pkl\n",
      "clean up finished\n",
      "correct nc-file with \n",
      " cdo -selmon,1,2,3,4,5,6 /work/aa0238/a271093/results/MOAAP/IVT_Tracking/NorESM_control_remapped_3x/ObjectMasks_MOAPP_ICON_100and85controlperc_remapped_3x_1986_01_01-1986_08_01.nc /work/aa0238/a271093/results/MOAAP/IVT_Tracking/NorESM_control_remapped_3x/ObjectMasks_MOAPP_ICON_100and85controlperc_remapped_3x_1986_01_01-1986_07_01_corrected.nc\n",
      "\n",
      " \n",
      " \n",
      " \n",
      "\n",
      "1986-07-01 00:00:00 1987-02-01 00:00:00\n",
      " \n",
      "The provided variables allow tracking the following phenomena\n",
      " \n",
      "|  phenomenon  | tracking |\n",
      "---------------------------\n",
      "   Jetstream   |   no\n",
      "   PSL CY/ACY  |   no\n",
      "   Z500 CY/ACY |   no\n",
      "   COLs        |   no\n",
      "   IVT ARs     |   yes\n",
      "   MS ARs      |   no\n",
      "   Fronts      |   no\n",
      "   TCs         |   no\n",
      "   MCSs        |   no\n",
      "   Equ. Waves  |   no\n",
      "---------------------------\n",
      " \n",
      "======> track IVT streams and atmospheric rivers (ARs)\n",
      "        3011 object found\n",
      "        break up long living IVT objects that have many elements\n"
     ]
    },
    {
     "name": "stderr",
     "output_type": "stream",
     "text": [
      "100%|██████████| 646/646 [00:22<00:00, 28.99it/s]\n"
     ]
    },
    {
     "name": "stdout",
     "output_type": "stream",
     "text": [
      "        00:00:28.12\n",
      "9\n",
      "            Loop over 1318 objects\n"
     ]
    },
    {
     "name": "stderr",
     "output_type": "stream",
     "text": [
      "/work/aa0238/a271093/Scripts/MOAAP/src/Tracking_Functions.py:255: RuntimeWarning: All-NaN slice encountered\n",
      "  obj_min = np.nanmin(data_slice, axis=(1, 2))\n",
      "/work/aa0238/a271093/Scripts/MOAAP/src/Tracking_Functions.py:256: RuntimeWarning: All-NaN slice encountered\n",
      "  obj_max = np.nanmax(data_slice, axis=(1, 2))\n",
      "/work/aa0238/a271093/Scripts/MOAAP/src/Tracking_Functions.py:257: RuntimeWarning: Mean of empty slice\n",
      "  obj_mean = np.nanmean(data_slice, axis=(1, 2))\n",
      "/work/aa0238/a271093/Conda/MOAAP_env/lib/python3.12/site-packages/scipy/ndimage/_measurements.py:1541: RuntimeWarning: invalid value encountered in scalar divide\n",
      "  results = [sum(input * grids[dir].astype(float), labels, index) / normalizer\n"
     ]
    },
    {
     "name": "stdout",
     "output_type": "stream",
     "text": [
      "        check if MSs quallify as ARs\n"
     ]
    },
    {
     "name": "stderr",
     "output_type": "stream",
     "text": [
      "/work/aa0238/a271093/Scripts/MOAAP/src/Tracking_Functions.py:4591: RuntimeWarning: divide by zero encountered in scalar divide\n",
      "  if DIST.max() / DIST.min() < AR_width_lenght_ratio:\n"
     ]
    },
    {
     "name": "stdout",
     "output_type": "stream",
     "text": [
      "            Loop over 1316 objects\n",
      "        00:01:05.23\n",
      " \n",
      "Save the object masks into a joint netCDF\n",
      "Saved: /work/aa0238/a271093/results/MOAAP/IVT_Tracking/NorESM_control_remapped_3x/ObjectMasks_MOAPP_ICON_100and85controlperc_remapped_3x_1986_07_01-1987_02_01.nc\n",
      "        00:00:23.82\n",
      "clean up /work/aa0238/a271093/results/MOAAP/IVT_Tracking/NorESM_control_remapped_3x/IVT_MOAPP_ICON_100and85controlperc_remapped_3x_1986_07_01-1987_01_01.pkl\n",
      "clean up finished\n",
      "clean up /work/aa0238/a271093/results/MOAAP/IVT_Tracking/NorESM_control_remapped_3x/ARs_MOAPP_ICON_100and85controlperc_remapped_3x_1986_07_01-1987_01_01.pkl\n",
      "clean up finished\n",
      "correct nc-file with \n",
      " cdo -selmon,6,7,8,9,10,11,12 /work/aa0238/a271093/results/MOAAP/IVT_Tracking/NorESM_control_remapped_3x/ObjectMasks_MOAPP_ICON_100and85controlperc_remapped_3x_1986_07_01-1987_02_01.nc /work/aa0238/a271093/results/MOAAP/IVT_Tracking/NorESM_control_remapped_3x/ObjectMasks_MOAPP_ICON_100and85controlperc_remapped_3x_1986_07_01-1987_01_01_corrected.nc\n",
      "\n",
      " \n",
      " \n",
      " \n",
      "\n",
      "1987-01-01 00:00:00 1987-08-01 00:00:00\n",
      " \n",
      "The provided variables allow tracking the following phenomena\n",
      " \n",
      "|  phenomenon  | tracking |\n",
      "---------------------------\n",
      "   Jetstream   |   no\n",
      "   PSL CY/ACY  |   no\n",
      "   Z500 CY/ACY |   no\n",
      "   COLs        |   no\n",
      "   IVT ARs     |   yes\n",
      "   MS ARs      |   no\n",
      "   Fronts      |   no\n",
      "   TCs         |   no\n",
      "   MCSs        |   no\n",
      "   Equ. Waves  |   no\n",
      "---------------------------\n",
      " \n",
      "======> track IVT streams and atmospheric rivers (ARs)\n",
      "        2844 object found\n",
      "        break up long living IVT objects that have many elements\n"
     ]
    },
    {
     "name": "stderr",
     "output_type": "stream",
     "text": [
      "100%|██████████| 550/550 [00:22<00:00, 24.65it/s]\n"
     ]
    },
    {
     "name": "stdout",
     "output_type": "stream",
     "text": [
      "        00:00:28.12\n",
      "9\n",
      "            Loop over 1214 objects\n"
     ]
    },
    {
     "name": "stderr",
     "output_type": "stream",
     "text": [
      "/work/aa0238/a271093/Scripts/MOAAP/src/Tracking_Functions.py:255: RuntimeWarning: All-NaN slice encountered\n",
      "  obj_min = np.nanmin(data_slice, axis=(1, 2))\n",
      "/work/aa0238/a271093/Scripts/MOAAP/src/Tracking_Functions.py:256: RuntimeWarning: All-NaN slice encountered\n",
      "  obj_max = np.nanmax(data_slice, axis=(1, 2))\n",
      "/work/aa0238/a271093/Scripts/MOAAP/src/Tracking_Functions.py:257: RuntimeWarning: Mean of empty slice\n",
      "  obj_mean = np.nanmean(data_slice, axis=(1, 2))\n",
      "/work/aa0238/a271093/Conda/MOAAP_env/lib/python3.12/site-packages/scipy/ndimage/_measurements.py:1541: RuntimeWarning: invalid value encountered in scalar divide\n",
      "  results = [sum(input * grids[dir].astype(float), labels, index) / normalizer\n"
     ]
    },
    {
     "name": "stdout",
     "output_type": "stream",
     "text": [
      "        check if MSs quallify as ARs\n"
     ]
    },
    {
     "name": "stderr",
     "output_type": "stream",
     "text": [
      "/work/aa0238/a271093/Scripts/MOAAP/src/Tracking_Functions.py:4591: RuntimeWarning: divide by zero encountered in scalar divide\n",
      "  if DIST.max() / DIST.min() < AR_width_lenght_ratio:\n"
     ]
    },
    {
     "name": "stdout",
     "output_type": "stream",
     "text": [
      "            Loop over 1214 objects\n",
      "        00:01:13.09\n",
      " \n",
      "Save the object masks into a joint netCDF\n",
      "Saved: /work/aa0238/a271093/results/MOAAP/IVT_Tracking/NorESM_control_remapped_3x/ObjectMasks_MOAPP_ICON_100and85controlperc_remapped_3x_1987_01_01-1987_08_01.nc\n",
      "        00:00:23.52\n",
      "clean up /work/aa0238/a271093/results/MOAAP/IVT_Tracking/NorESM_control_remapped_3x/IVT_MOAPP_ICON_100and85controlperc_remapped_3x_1987_01_01-1987_07_01.pkl\n",
      "clean up finished\n",
      "clean up /work/aa0238/a271093/results/MOAAP/IVT_Tracking/NorESM_control_remapped_3x/ARs_MOAPP_ICON_100and85controlperc_remapped_3x_1987_01_01-1987_07_01.pkl\n",
      "clean up finished\n",
      "correct nc-file with \n",
      " cdo -selmon,1,2,3,4,5,6 /work/aa0238/a271093/results/MOAAP/IVT_Tracking/NorESM_control_remapped_3x/ObjectMasks_MOAPP_ICON_100and85controlperc_remapped_3x_1987_01_01-1987_08_01.nc /work/aa0238/a271093/results/MOAAP/IVT_Tracking/NorESM_control_remapped_3x/ObjectMasks_MOAPP_ICON_100and85controlperc_remapped_3x_1987_01_01-1987_07_01_corrected.nc\n",
      "\n",
      " \n",
      " \n",
      " \n",
      "\n",
      "1987-07-01 00:00:00 1988-02-01 00:00:00\n",
      "Mergetime /work/aa0238/a271093/data/Jan_runs/ICON_NorESM_control/NorESM_control_remapped_3x/IVTu/IVTu_1987010100-1987123123_remapped_3x.nc /work/aa0238/a271093/data/Jan_runs/ICON_NorESM_control/NorESM_control_remapped_3x/IVTu/IVTu_1988010100-1988123123_remapped_3x.nc  /work/aa0238/a271093/scratch/mergedIVTu_1987_1988_remapped_3x.nc\n",
      "Mergetime /work/aa0238/a271093/data/Jan_runs/ICON_NorESM_control/NorESM_control_remapped_3x/IVTv/IVTv_1987010100-1987123123_remapped_3x.nc /work/aa0238/a271093/data/Jan_runs/ICON_NorESM_control/NorESM_control_remapped_3x/IVTv/IVTv_1988010100-1988123123_remapped_3x.nc  /work/aa0238/a271093/scratch/mergedIVTv_1987_1988_remapped_3x.nc\n",
      " \n",
      "The provided variables allow tracking the following phenomena\n",
      " \n",
      "|  phenomenon  | tracking |\n",
      "---------------------------\n",
      "   Jetstream   |   no\n",
      "   PSL CY/ACY  |   no\n",
      "   Z500 CY/ACY |   no\n",
      "   COLs        |   no\n",
      "   IVT ARs     |   yes\n",
      "   MS ARs      |   no\n",
      "   Fronts      |   no\n",
      "   TCs         |   no\n",
      "   MCSs        |   no\n",
      "   Equ. Waves  |   no\n",
      "---------------------------\n",
      " \n",
      "======> track IVT streams and atmospheric rivers (ARs)\n",
      "        2589 object found\n",
      "        break up long living IVT objects that have many elements\n"
     ]
    },
    {
     "name": "stderr",
     "output_type": "stream",
     "text": [
      "100%|██████████| 532/532 [00:20<00:00, 25.99it/s]\n"
     ]
    },
    {
     "name": "stdout",
     "output_type": "stream",
     "text": [
      "        00:00:26.26\n",
      "9\n",
      "            Loop over 1110 objects\n"
     ]
    },
    {
     "name": "stderr",
     "output_type": "stream",
     "text": [
      "/work/aa0238/a271093/Scripts/MOAAP/src/Tracking_Functions.py:255: RuntimeWarning: All-NaN slice encountered\n",
      "  obj_min = np.nanmin(data_slice, axis=(1, 2))\n",
      "/work/aa0238/a271093/Scripts/MOAAP/src/Tracking_Functions.py:256: RuntimeWarning: All-NaN slice encountered\n",
      "  obj_max = np.nanmax(data_slice, axis=(1, 2))\n",
      "/work/aa0238/a271093/Scripts/MOAAP/src/Tracking_Functions.py:257: RuntimeWarning: Mean of empty slice\n",
      "  obj_mean = np.nanmean(data_slice, axis=(1, 2))\n",
      "/work/aa0238/a271093/Conda/MOAAP_env/lib/python3.12/site-packages/scipy/ndimage/_measurements.py:1541: RuntimeWarning: invalid value encountered in scalar divide\n",
      "  results = [sum(input * grids[dir].astype(float), labels, index) / normalizer\n"
     ]
    },
    {
     "name": "stdout",
     "output_type": "stream",
     "text": [
      "        check if MSs quallify as ARs\n"
     ]
    },
    {
     "name": "stderr",
     "output_type": "stream",
     "text": [
      "/work/aa0238/a271093/Scripts/MOAAP/src/Tracking_Functions.py:4591: RuntimeWarning: divide by zero encountered in scalar divide\n",
      "  if DIST.max() / DIST.min() < AR_width_lenght_ratio:\n"
     ]
    },
    {
     "name": "stdout",
     "output_type": "stream",
     "text": [
      "            Loop over 1109 objects\n",
      "        00:01:02.52\n",
      " \n",
      "Save the object masks into a joint netCDF\n",
      "Saved: /work/aa0238/a271093/results/MOAAP/IVT_Tracking/NorESM_control_remapped_3x/ObjectMasks_MOAPP_ICON_100and85controlperc_remapped_3x_1987_07_01-1988_02_01.nc\n",
      "        00:00:24.30\n",
      "clean up /work/aa0238/a271093/results/MOAAP/IVT_Tracking/NorESM_control_remapped_3x/IVT_MOAPP_ICON_100and85controlperc_remapped_3x_1987_07_01-1988_01_01.pkl\n",
      "clean up finished\n",
      "clean up /work/aa0238/a271093/results/MOAAP/IVT_Tracking/NorESM_control_remapped_3x/ARs_MOAPP_ICON_100and85controlperc_remapped_3x_1987_07_01-1988_01_01.pkl\n",
      "clean up finished\n",
      "correct nc-file with \n",
      " cdo -selmon,6,7,8,9,10,11,12 /work/aa0238/a271093/results/MOAAP/IVT_Tracking/NorESM_control_remapped_3x/ObjectMasks_MOAPP_ICON_100and85controlperc_remapped_3x_1987_07_01-1988_02_01.nc /work/aa0238/a271093/results/MOAAP/IVT_Tracking/NorESM_control_remapped_3x/ObjectMasks_MOAPP_ICON_100and85controlperc_remapped_3x_1987_07_01-1988_01_01_corrected.nc\n",
      "\n",
      " \n",
      " \n",
      " \n",
      "\n",
      "1988-01-01 00:00:00 1988-08-01 00:00:00\n",
      " \n",
      "The provided variables allow tracking the following phenomena\n",
      " \n",
      "|  phenomenon  | tracking |\n",
      "---------------------------\n",
      "   Jetstream   |   no\n",
      "   PSL CY/ACY  |   no\n",
      "   Z500 CY/ACY |   no\n",
      "   COLs        |   no\n",
      "   IVT ARs     |   yes\n",
      "   MS ARs      |   no\n",
      "   Fronts      |   no\n",
      "   TCs         |   no\n",
      "   MCSs        |   no\n",
      "   Equ. Waves  |   no\n",
      "---------------------------\n",
      " \n",
      "======> track IVT streams and atmospheric rivers (ARs)\n",
      "        3036 object found\n",
      "        break up long living IVT objects that have many elements\n"
     ]
    },
    {
     "name": "stderr",
     "output_type": "stream",
     "text": [
      "100%|██████████| 614/614 [00:23<00:00, 25.94it/s]\n"
     ]
    },
    {
     "name": "stdout",
     "output_type": "stream",
     "text": [
      "        00:00:29.35\n",
      "9\n",
      "            Loop over 1228 objects\n"
     ]
    },
    {
     "name": "stderr",
     "output_type": "stream",
     "text": [
      "/work/aa0238/a271093/Scripts/MOAAP/src/Tracking_Functions.py:255: RuntimeWarning: All-NaN slice encountered\n",
      "  obj_min = np.nanmin(data_slice, axis=(1, 2))\n",
      "/work/aa0238/a271093/Scripts/MOAAP/src/Tracking_Functions.py:256: RuntimeWarning: All-NaN slice encountered\n",
      "  obj_max = np.nanmax(data_slice, axis=(1, 2))\n",
      "/work/aa0238/a271093/Scripts/MOAAP/src/Tracking_Functions.py:257: RuntimeWarning: Mean of empty slice\n",
      "  obj_mean = np.nanmean(data_slice, axis=(1, 2))\n",
      "/work/aa0238/a271093/Conda/MOAAP_env/lib/python3.12/site-packages/scipy/ndimage/_measurements.py:1541: RuntimeWarning: invalid value encountered in scalar divide\n",
      "  results = [sum(input * grids[dir].astype(float), labels, index) / normalizer\n"
     ]
    },
    {
     "name": "stdout",
     "output_type": "stream",
     "text": [
      "        check if MSs quallify as ARs\n"
     ]
    },
    {
     "name": "stderr",
     "output_type": "stream",
     "text": [
      "/work/aa0238/a271093/Scripts/MOAAP/src/Tracking_Functions.py:4591: RuntimeWarning: divide by zero encountered in scalar divide\n",
      "  if DIST.max() / DIST.min() < AR_width_lenght_ratio:\n"
     ]
    },
    {
     "name": "stdout",
     "output_type": "stream",
     "text": [
      "            Loop over 1225 objects\n",
      "        00:01:06.72\n",
      " \n",
      "Save the object masks into a joint netCDF\n",
      "Saved: /work/aa0238/a271093/results/MOAAP/IVT_Tracking/NorESM_control_remapped_3x/ObjectMasks_MOAPP_ICON_100and85controlperc_remapped_3x_1988_01_01-1988_08_01.nc\n",
      "        00:00:23.65\n",
      "clean up /work/aa0238/a271093/results/MOAAP/IVT_Tracking/NorESM_control_remapped_3x/IVT_MOAPP_ICON_100and85controlperc_remapped_3x_1988_01_01-1988_07_01.pkl\n",
      "clean up finished\n",
      "clean up /work/aa0238/a271093/results/MOAAP/IVT_Tracking/NorESM_control_remapped_3x/ARs_MOAPP_ICON_100and85controlperc_remapped_3x_1988_01_01-1988_07_01.pkl\n",
      "clean up finished\n",
      "correct nc-file with \n",
      " cdo -selmon,1,2,3,4,5,6 /work/aa0238/a271093/results/MOAAP/IVT_Tracking/NorESM_control_remapped_3x/ObjectMasks_MOAPP_ICON_100and85controlperc_remapped_3x_1988_01_01-1988_08_01.nc /work/aa0238/a271093/results/MOAAP/IVT_Tracking/NorESM_control_remapped_3x/ObjectMasks_MOAPP_ICON_100and85controlperc_remapped_3x_1988_01_01-1988_07_01_corrected.nc\n",
      "\n",
      " \n",
      " \n",
      " \n",
      "\n",
      "1988-07-01 00:00:00 1989-02-01 00:00:00\n",
      "Mergetime /work/aa0238/a271093/data/Jan_runs/ICON_NorESM_control/NorESM_control_remapped_3x/IVTu/IVTu_1988010100-1988123123_remapped_3x.nc /work/aa0238/a271093/data/Jan_runs/ICON_NorESM_control/NorESM_control_remapped_3x/IVTu/IVTu_1989010100-1989123123_remapped_3x.nc  /work/aa0238/a271093/scratch/mergedIVTu_1988_1989_remapped_3x.nc\n",
      "Mergetime /work/aa0238/a271093/data/Jan_runs/ICON_NorESM_control/NorESM_control_remapped_3x/IVTv/IVTv_1988010100-1988123123_remapped_3x.nc /work/aa0238/a271093/data/Jan_runs/ICON_NorESM_control/NorESM_control_remapped_3x/IVTv/IVTv_1989010100-1989123123_remapped_3x.nc  /work/aa0238/a271093/scratch/mergedIVTv_1988_1989_remapped_3x.nc\n",
      " \n",
      "The provided variables allow tracking the following phenomena\n",
      " \n",
      "|  phenomenon  | tracking |\n",
      "---------------------------\n",
      "   Jetstream   |   no\n",
      "   PSL CY/ACY  |   no\n",
      "   Z500 CY/ACY |   no\n",
      "   COLs        |   no\n",
      "   IVT ARs     |   yes\n",
      "   MS ARs      |   no\n",
      "   Fronts      |   no\n",
      "   TCs         |   no\n",
      "   MCSs        |   no\n",
      "   Equ. Waves  |   no\n",
      "---------------------------\n",
      " \n",
      "======> track IVT streams and atmospheric rivers (ARs)\n",
      "        2844 object found\n",
      "        break up long living IVT objects that have many elements\n"
     ]
    },
    {
     "name": "stderr",
     "output_type": "stream",
     "text": [
      "100%|██████████| 642/642 [00:22<00:00, 28.93it/s]\n"
     ]
    },
    {
     "name": "stdout",
     "output_type": "stream",
     "text": [
      "        00:00:28.03\n",
      "9\n",
      "            Loop over 1195 objects\n"
     ]
    },
    {
     "name": "stderr",
     "output_type": "stream",
     "text": [
      "/work/aa0238/a271093/Scripts/MOAAP/src/Tracking_Functions.py:255: RuntimeWarning: All-NaN slice encountered\n",
      "  obj_min = np.nanmin(data_slice, axis=(1, 2))\n",
      "/work/aa0238/a271093/Scripts/MOAAP/src/Tracking_Functions.py:256: RuntimeWarning: All-NaN slice encountered\n",
      "  obj_max = np.nanmax(data_slice, axis=(1, 2))\n",
      "/work/aa0238/a271093/Scripts/MOAAP/src/Tracking_Functions.py:257: RuntimeWarning: Mean of empty slice\n",
      "  obj_mean = np.nanmean(data_slice, axis=(1, 2))\n",
      "/work/aa0238/a271093/Conda/MOAAP_env/lib/python3.12/site-packages/scipy/ndimage/_measurements.py:1541: RuntimeWarning: invalid value encountered in scalar divide\n",
      "  results = [sum(input * grids[dir].astype(float), labels, index) / normalizer\n"
     ]
    },
    {
     "name": "stdout",
     "output_type": "stream",
     "text": [
      "        check if MSs quallify as ARs\n"
     ]
    },
    {
     "name": "stderr",
     "output_type": "stream",
     "text": [
      "/work/aa0238/a271093/Scripts/MOAAP/src/Tracking_Functions.py:4591: RuntimeWarning: divide by zero encountered in scalar divide\n",
      "  if DIST.max() / DIST.min() < AR_width_lenght_ratio:\n"
     ]
    },
    {
     "name": "stdout",
     "output_type": "stream",
     "text": [
      "            Loop over 1192 objects\n",
      "        00:01:04.04\n",
      " \n",
      "Save the object masks into a joint netCDF\n",
      "Saved: /work/aa0238/a271093/results/MOAAP/IVT_Tracking/NorESM_control_remapped_3x/ObjectMasks_MOAPP_ICON_100and85controlperc_remapped_3x_1988_07_01-1989_02_01.nc\n",
      "        00:00:23.79\n",
      "clean up /work/aa0238/a271093/results/MOAAP/IVT_Tracking/NorESM_control_remapped_3x/IVT_MOAPP_ICON_100and85controlperc_remapped_3x_1988_07_01-1989_01_01.pkl\n",
      "clean up finished\n",
      "clean up /work/aa0238/a271093/results/MOAAP/IVT_Tracking/NorESM_control_remapped_3x/ARs_MOAPP_ICON_100and85controlperc_remapped_3x_1988_07_01-1989_01_01.pkl\n",
      "clean up finished\n",
      "correct nc-file with \n",
      " cdo -selmon,6,7,8,9,10,11,12 /work/aa0238/a271093/results/MOAAP/IVT_Tracking/NorESM_control_remapped_3x/ObjectMasks_MOAPP_ICON_100and85controlperc_remapped_3x_1988_07_01-1989_02_01.nc /work/aa0238/a271093/results/MOAAP/IVT_Tracking/NorESM_control_remapped_3x/ObjectMasks_MOAPP_ICON_100and85controlperc_remapped_3x_1988_07_01-1989_01_01_corrected.nc\n",
      "\n",
      " \n",
      " \n",
      " \n",
      "\n",
      "1989-01-01 00:00:00 1989-08-01 00:00:00\n",
      " \n",
      "The provided variables allow tracking the following phenomena\n",
      " \n",
      "|  phenomenon  | tracking |\n",
      "---------------------------\n",
      "   Jetstream   |   no\n",
      "   PSL CY/ACY  |   no\n",
      "   Z500 CY/ACY |   no\n",
      "   COLs        |   no\n",
      "   IVT ARs     |   yes\n",
      "   MS ARs      |   no\n",
      "   Fronts      |   no\n",
      "   TCs         |   no\n",
      "   MCSs        |   no\n",
      "   Equ. Waves  |   no\n",
      "---------------------------\n",
      " \n",
      "======> track IVT streams and atmospheric rivers (ARs)\n",
      "        2796 object found\n",
      "        break up long living IVT objects that have many elements\n"
     ]
    },
    {
     "name": "stderr",
     "output_type": "stream",
     "text": [
      "100%|██████████| 605/605 [00:20<00:00, 29.36it/s]\n"
     ]
    },
    {
     "name": "stdout",
     "output_type": "stream",
     "text": [
      "        00:00:26.27\n",
      "9\n",
      "            Loop over 1198 objects\n"
     ]
    },
    {
     "name": "stderr",
     "output_type": "stream",
     "text": [
      "/work/aa0238/a271093/Scripts/MOAAP/src/Tracking_Functions.py:255: RuntimeWarning: All-NaN slice encountered\n",
      "  obj_min = np.nanmin(data_slice, axis=(1, 2))\n",
      "/work/aa0238/a271093/Scripts/MOAAP/src/Tracking_Functions.py:256: RuntimeWarning: All-NaN slice encountered\n",
      "  obj_max = np.nanmax(data_slice, axis=(1, 2))\n",
      "/work/aa0238/a271093/Scripts/MOAAP/src/Tracking_Functions.py:257: RuntimeWarning: Mean of empty slice\n",
      "  obj_mean = np.nanmean(data_slice, axis=(1, 2))\n",
      "/work/aa0238/a271093/Conda/MOAAP_env/lib/python3.12/site-packages/scipy/ndimage/_measurements.py:1541: RuntimeWarning: invalid value encountered in scalar divide\n",
      "  results = [sum(input * grids[dir].astype(float), labels, index) / normalizer\n"
     ]
    },
    {
     "name": "stdout",
     "output_type": "stream",
     "text": [
      "        check if MSs quallify as ARs\n"
     ]
    },
    {
     "name": "stderr",
     "output_type": "stream",
     "text": [
      "/work/aa0238/a271093/Scripts/MOAAP/src/Tracking_Functions.py:4591: RuntimeWarning: divide by zero encountered in scalar divide\n",
      "  if DIST.max() / DIST.min() < AR_width_lenght_ratio:\n"
     ]
    },
    {
     "name": "stdout",
     "output_type": "stream",
     "text": [
      "            Loop over 1198 objects\n",
      "        00:01:00.06\n",
      " \n",
      "Save the object masks into a joint netCDF\n",
      "Saved: /work/aa0238/a271093/results/MOAAP/IVT_Tracking/NorESM_control_remapped_3x/ObjectMasks_MOAPP_ICON_100and85controlperc_remapped_3x_1989_01_01-1989_08_01.nc\n",
      "        00:00:23.42\n",
      "clean up /work/aa0238/a271093/results/MOAAP/IVT_Tracking/NorESM_control_remapped_3x/IVT_MOAPP_ICON_100and85controlperc_remapped_3x_1989_01_01-1989_07_01.pkl\n",
      "clean up finished\n",
      "clean up /work/aa0238/a271093/results/MOAAP/IVT_Tracking/NorESM_control_remapped_3x/ARs_MOAPP_ICON_100and85controlperc_remapped_3x_1989_01_01-1989_07_01.pkl\n",
      "clean up finished\n",
      "correct nc-file with \n",
      " cdo -selmon,1,2,3,4,5,6 /work/aa0238/a271093/results/MOAAP/IVT_Tracking/NorESM_control_remapped_3x/ObjectMasks_MOAPP_ICON_100and85controlperc_remapped_3x_1989_01_01-1989_08_01.nc /work/aa0238/a271093/results/MOAAP/IVT_Tracking/NorESM_control_remapped_3x/ObjectMasks_MOAPP_ICON_100and85controlperc_remapped_3x_1989_01_01-1989_07_01_corrected.nc\n",
      "\n",
      " \n",
      " \n",
      " \n",
      "\n",
      "1989-07-01 00:00:00 1990-02-01 00:00:00\n",
      "Mergetime /work/aa0238/a271093/data/Jan_runs/ICON_NorESM_control/NorESM_control_remapped_3x/IVTu/IVTu_1989010100-1989123123_remapped_3x.nc /work/aa0238/a271093/data/Jan_runs/ICON_NorESM_control/NorESM_control_remapped_3x/IVTu/IVTu_1990010100-1990123123_remapped_3x.nc  /work/aa0238/a271093/scratch/mergedIVTu_1989_1990_remapped_3x.nc\n",
      "Mergetime /work/aa0238/a271093/data/Jan_runs/ICON_NorESM_control/NorESM_control_remapped_3x/IVTv/IVTv_1989010100-1989123123_remapped_3x.nc /work/aa0238/a271093/data/Jan_runs/ICON_NorESM_control/NorESM_control_remapped_3x/IVTv/IVTv_1990010100-1990123123_remapped_3x.nc  /work/aa0238/a271093/scratch/mergedIVTv_1989_1990_remapped_3x.nc\n",
      " \n",
      "The provided variables allow tracking the following phenomena\n",
      " \n",
      "|  phenomenon  | tracking |\n",
      "---------------------------\n",
      "   Jetstream   |   no\n",
      "   PSL CY/ACY  |   no\n",
      "   Z500 CY/ACY |   no\n",
      "   COLs        |   no\n",
      "   IVT ARs     |   yes\n",
      "   MS ARs      |   no\n",
      "   Fronts      |   no\n",
      "   TCs         |   no\n",
      "   MCSs        |   no\n",
      "   Equ. Waves  |   no\n",
      "---------------------------\n",
      " \n",
      "======> track IVT streams and atmospheric rivers (ARs)\n",
      "        2737 object found\n",
      "        break up long living IVT objects that have many elements\n"
     ]
    },
    {
     "name": "stderr",
     "output_type": "stream",
     "text": [
      "100%|██████████| 608/608 [00:21<00:00, 27.80it/s]\n"
     ]
    },
    {
     "name": "stdout",
     "output_type": "stream",
     "text": [
      "        00:00:27.68\n",
      "9\n",
      "            Loop over 1121 objects\n"
     ]
    },
    {
     "name": "stderr",
     "output_type": "stream",
     "text": [
      "/work/aa0238/a271093/Scripts/MOAAP/src/Tracking_Functions.py:255: RuntimeWarning: All-NaN slice encountered\n",
      "  obj_min = np.nanmin(data_slice, axis=(1, 2))\n",
      "/work/aa0238/a271093/Scripts/MOAAP/src/Tracking_Functions.py:256: RuntimeWarning: All-NaN slice encountered\n",
      "  obj_max = np.nanmax(data_slice, axis=(1, 2))\n",
      "/work/aa0238/a271093/Scripts/MOAAP/src/Tracking_Functions.py:257: RuntimeWarning: Mean of empty slice\n",
      "  obj_mean = np.nanmean(data_slice, axis=(1, 2))\n",
      "/work/aa0238/a271093/Conda/MOAAP_env/lib/python3.12/site-packages/scipy/ndimage/_measurements.py:1541: RuntimeWarning: invalid value encountered in scalar divide\n",
      "  results = [sum(input * grids[dir].astype(float), labels, index) / normalizer\n"
     ]
    },
    {
     "name": "stdout",
     "output_type": "stream",
     "text": [
      "        check if MSs quallify as ARs\n"
     ]
    },
    {
     "name": "stderr",
     "output_type": "stream",
     "text": [
      "/work/aa0238/a271093/Scripts/MOAAP/src/Tracking_Functions.py:4591: RuntimeWarning: divide by zero encountered in scalar divide\n",
      "  if DIST.max() / DIST.min() < AR_width_lenght_ratio:\n"
     ]
    },
    {
     "name": "stdout",
     "output_type": "stream",
     "text": [
      "            Loop over 1119 objects\n",
      "        00:01:03.46\n",
      " \n",
      "Save the object masks into a joint netCDF\n",
      "Saved: /work/aa0238/a271093/results/MOAAP/IVT_Tracking/NorESM_control_remapped_3x/ObjectMasks_MOAPP_ICON_100and85controlperc_remapped_3x_1989_07_01-1990_02_01.nc\n",
      "        00:00:23.97\n",
      "clean up /work/aa0238/a271093/results/MOAAP/IVT_Tracking/NorESM_control_remapped_3x/IVT_MOAPP_ICON_100and85controlperc_remapped_3x_1989_07_01-1990_01_01.pkl\n",
      "clean up finished\n",
      "clean up /work/aa0238/a271093/results/MOAAP/IVT_Tracking/NorESM_control_remapped_3x/ARs_MOAPP_ICON_100and85controlperc_remapped_3x_1989_07_01-1990_01_01.pkl\n",
      "clean up finished\n",
      "correct nc-file with \n",
      " cdo -selmon,6,7,8,9,10,11,12 /work/aa0238/a271093/results/MOAAP/IVT_Tracking/NorESM_control_remapped_3x/ObjectMasks_MOAPP_ICON_100and85controlperc_remapped_3x_1989_07_01-1990_02_01.nc /work/aa0238/a271093/results/MOAAP/IVT_Tracking/NorESM_control_remapped_3x/ObjectMasks_MOAPP_ICON_100and85controlperc_remapped_3x_1989_07_01-1990_01_01_corrected.nc\n",
      "\n",
      " \n",
      " \n",
      " \n",
      "\n",
      "1990-01-01 00:00:00 1990-08-01 00:00:00\n",
      " \n",
      "The provided variables allow tracking the following phenomena\n",
      " \n",
      "|  phenomenon  | tracking |\n",
      "---------------------------\n",
      "   Jetstream   |   no\n",
      "   PSL CY/ACY  |   no\n",
      "   Z500 CY/ACY |   no\n",
      "   COLs        |   no\n",
      "   IVT ARs     |   yes\n",
      "   MS ARs      |   no\n",
      "   Fronts      |   no\n",
      "   TCs         |   no\n",
      "   MCSs        |   no\n",
      "   Equ. Waves  |   no\n",
      "---------------------------\n",
      " \n",
      "======> track IVT streams and atmospheric rivers (ARs)\n",
      "        3320 object found\n",
      "        break up long living IVT objects that have many elements\n"
     ]
    },
    {
     "name": "stderr",
     "output_type": "stream",
     "text": [
      "100%|██████████| 719/719 [00:28<00:00, 25.56it/s]\n"
     ]
    },
    {
     "name": "stdout",
     "output_type": "stream",
     "text": [
      "        00:00:33.87\n",
      "9\n",
      "            Loop over 1336 objects\n"
     ]
    },
    {
     "name": "stderr",
     "output_type": "stream",
     "text": [
      "/work/aa0238/a271093/Scripts/MOAAP/src/Tracking_Functions.py:255: RuntimeWarning: All-NaN slice encountered\n",
      "  obj_min = np.nanmin(data_slice, axis=(1, 2))\n",
      "/work/aa0238/a271093/Scripts/MOAAP/src/Tracking_Functions.py:256: RuntimeWarning: All-NaN slice encountered\n",
      "  obj_max = np.nanmax(data_slice, axis=(1, 2))\n",
      "/work/aa0238/a271093/Scripts/MOAAP/src/Tracking_Functions.py:257: RuntimeWarning: Mean of empty slice\n",
      "  obj_mean = np.nanmean(data_slice, axis=(1, 2))\n",
      "/work/aa0238/a271093/Conda/MOAAP_env/lib/python3.12/site-packages/scipy/ndimage/_measurements.py:1541: RuntimeWarning: invalid value encountered in scalar divide\n",
      "  results = [sum(input * grids[dir].astype(float), labels, index) / normalizer\n"
     ]
    },
    {
     "name": "stdout",
     "output_type": "stream",
     "text": [
      "        check if MSs quallify as ARs\n"
     ]
    },
    {
     "name": "stderr",
     "output_type": "stream",
     "text": [
      "/work/aa0238/a271093/Scripts/MOAAP/src/Tracking_Functions.py:4591: RuntimeWarning: divide by zero encountered in scalar divide\n",
      "  if DIST.max() / DIST.min() < AR_width_lenght_ratio:\n"
     ]
    },
    {
     "name": "stdout",
     "output_type": "stream",
     "text": [
      "            Loop over 1336 objects\n",
      "        00:01:10.35\n",
      " \n",
      "Save the object masks into a joint netCDF\n",
      "Saved: /work/aa0238/a271093/results/MOAAP/IVT_Tracking/NorESM_control_remapped_3x/ObjectMasks_MOAPP_ICON_100and85controlperc_remapped_3x_1990_01_01-1990_08_01.nc\n",
      "        00:00:23.45\n",
      "clean up /work/aa0238/a271093/results/MOAAP/IVT_Tracking/NorESM_control_remapped_3x/IVT_MOAPP_ICON_100and85controlperc_remapped_3x_1990_01_01-1990_07_01.pkl\n",
      "clean up finished\n",
      "clean up /work/aa0238/a271093/results/MOAAP/IVT_Tracking/NorESM_control_remapped_3x/ARs_MOAPP_ICON_100and85controlperc_remapped_3x_1990_01_01-1990_07_01.pkl\n",
      "clean up finished\n",
      "correct nc-file with \n",
      " cdo -selmon,1,2,3,4,5,6 /work/aa0238/a271093/results/MOAAP/IVT_Tracking/NorESM_control_remapped_3x/ObjectMasks_MOAPP_ICON_100and85controlperc_remapped_3x_1990_01_01-1990_08_01.nc /work/aa0238/a271093/results/MOAAP/IVT_Tracking/NorESM_control_remapped_3x/ObjectMasks_MOAPP_ICON_100and85controlperc_remapped_3x_1990_01_01-1990_07_01_corrected.nc\n",
      "\n",
      " \n",
      " \n",
      " \n",
      "\n",
      "1990-07-01 00:00:00 1991-02-01 00:00:00\n",
      "Mergetime /work/aa0238/a271093/data/Jan_runs/ICON_NorESM_control/NorESM_control_remapped_3x/IVTu/IVTu_1990010100-1990123123_remapped_3x.nc /work/aa0238/a271093/data/Jan_runs/ICON_NorESM_control/NorESM_control_remapped_3x/IVTu/IVTu_1991010100-1991123123_remapped_3x.nc  /work/aa0238/a271093/scratch/mergedIVTu_1990_1991_remapped_3x.nc\n",
      "Mergetime /work/aa0238/a271093/data/Jan_runs/ICON_NorESM_control/NorESM_control_remapped_3x/IVTv/IVTv_1990010100-1990123123_remapped_3x.nc /work/aa0238/a271093/data/Jan_runs/ICON_NorESM_control/NorESM_control_remapped_3x/IVTv/IVTv_1991010100-1991123123_remapped_3x.nc  /work/aa0238/a271093/scratch/mergedIVTv_1990_1991_remapped_3x.nc\n",
      " \n",
      "The provided variables allow tracking the following phenomena\n",
      " \n",
      "|  phenomenon  | tracking |\n",
      "---------------------------\n",
      "   Jetstream   |   no\n",
      "   PSL CY/ACY  |   no\n",
      "   Z500 CY/ACY |   no\n",
      "   COLs        |   no\n",
      "   IVT ARs     |   yes\n",
      "   MS ARs      |   no\n",
      "   Fronts      |   no\n",
      "   TCs         |   no\n",
      "   MCSs        |   no\n",
      "   Equ. Waves  |   no\n",
      "---------------------------\n",
      " \n",
      "======> track IVT streams and atmospheric rivers (ARs)\n",
      "        3086 object found\n",
      "        break up long living IVT objects that have many elements\n"
     ]
    },
    {
     "name": "stderr",
     "output_type": "stream",
     "text": [
      "100%|██████████| 693/693 [00:24<00:00, 27.79it/s]\n"
     ]
    },
    {
     "name": "stdout",
     "output_type": "stream",
     "text": [
      "        00:00:30.86\n",
      "9\n",
      "            Loop over 1334 objects\n"
     ]
    },
    {
     "name": "stderr",
     "output_type": "stream",
     "text": [
      "/work/aa0238/a271093/Scripts/MOAAP/src/Tracking_Functions.py:255: RuntimeWarning: All-NaN slice encountered\n",
      "  obj_min = np.nanmin(data_slice, axis=(1, 2))\n",
      "/work/aa0238/a271093/Scripts/MOAAP/src/Tracking_Functions.py:256: RuntimeWarning: All-NaN slice encountered\n",
      "  obj_max = np.nanmax(data_slice, axis=(1, 2))\n",
      "/work/aa0238/a271093/Scripts/MOAAP/src/Tracking_Functions.py:257: RuntimeWarning: Mean of empty slice\n",
      "  obj_mean = np.nanmean(data_slice, axis=(1, 2))\n",
      "/work/aa0238/a271093/Conda/MOAAP_env/lib/python3.12/site-packages/scipy/ndimage/_measurements.py:1541: RuntimeWarning: invalid value encountered in scalar divide\n",
      "  results = [sum(input * grids[dir].astype(float), labels, index) / normalizer\n"
     ]
    },
    {
     "name": "stdout",
     "output_type": "stream",
     "text": [
      "        check if MSs quallify as ARs\n"
     ]
    },
    {
     "name": "stderr",
     "output_type": "stream",
     "text": [
      "/work/aa0238/a271093/Scripts/MOAAP/src/Tracking_Functions.py:4591: RuntimeWarning: divide by zero encountered in scalar divide\n",
      "  if DIST.max() / DIST.min() < AR_width_lenght_ratio:\n"
     ]
    },
    {
     "name": "stdout",
     "output_type": "stream",
     "text": [
      "            Loop over 1334 objects\n",
      "        00:01:07.32\n",
      " \n",
      "Save the object masks into a joint netCDF\n",
      "Saved: /work/aa0238/a271093/results/MOAAP/IVT_Tracking/NorESM_control_remapped_3x/ObjectMasks_MOAPP_ICON_100and85controlperc_remapped_3x_1990_07_01-1991_02_01.nc\n",
      "        00:00:23.97\n",
      "clean up /work/aa0238/a271093/results/MOAAP/IVT_Tracking/NorESM_control_remapped_3x/IVT_MOAPP_ICON_100and85controlperc_remapped_3x_1990_07_01-1991_01_01.pkl\n",
      "clean up finished\n",
      "clean up /work/aa0238/a271093/results/MOAAP/IVT_Tracking/NorESM_control_remapped_3x/ARs_MOAPP_ICON_100and85controlperc_remapped_3x_1990_07_01-1991_01_01.pkl\n",
      "clean up finished\n",
      "correct nc-file with \n",
      " cdo -selmon,6,7,8,9,10,11,12 /work/aa0238/a271093/results/MOAAP/IVT_Tracking/NorESM_control_remapped_3x/ObjectMasks_MOAPP_ICON_100and85controlperc_remapped_3x_1990_07_01-1991_02_01.nc /work/aa0238/a271093/results/MOAAP/IVT_Tracking/NorESM_control_remapped_3x/ObjectMasks_MOAPP_ICON_100and85controlperc_remapped_3x_1990_07_01-1991_01_01_corrected.nc\n",
      "\n",
      " \n",
      " \n",
      " \n",
      "\n",
      "1991-01-01 00:00:00 1991-08-01 00:00:00\n",
      " \n",
      "The provided variables allow tracking the following phenomena\n",
      " \n",
      "|  phenomenon  | tracking |\n",
      "---------------------------\n",
      "   Jetstream   |   no\n",
      "   PSL CY/ACY  |   no\n",
      "   Z500 CY/ACY |   no\n",
      "   COLs        |   no\n",
      "   IVT ARs     |   yes\n",
      "   MS ARs      |   no\n",
      "   Fronts      |   no\n",
      "   TCs         |   no\n",
      "   MCSs        |   no\n",
      "   Equ. Waves  |   no\n",
      "---------------------------\n",
      " \n",
      "======> track IVT streams and atmospheric rivers (ARs)\n",
      "        3004 object found\n",
      "        break up long living IVT objects that have many elements\n"
     ]
    },
    {
     "name": "stderr",
     "output_type": "stream",
     "text": [
      "100%|██████████| 634/634 [00:23<00:00, 27.35it/s]\n"
     ]
    },
    {
     "name": "stdout",
     "output_type": "stream",
     "text": [
      "        00:00:28.88\n",
      "9\n",
      "            Loop over 1294 objects\n"
     ]
    },
    {
     "name": "stderr",
     "output_type": "stream",
     "text": [
      "/work/aa0238/a271093/Scripts/MOAAP/src/Tracking_Functions.py:255: RuntimeWarning: All-NaN slice encountered\n",
      "  obj_min = np.nanmin(data_slice, axis=(1, 2))\n",
      "/work/aa0238/a271093/Scripts/MOAAP/src/Tracking_Functions.py:256: RuntimeWarning: All-NaN slice encountered\n",
      "  obj_max = np.nanmax(data_slice, axis=(1, 2))\n",
      "/work/aa0238/a271093/Scripts/MOAAP/src/Tracking_Functions.py:257: RuntimeWarning: Mean of empty slice\n",
      "  obj_mean = np.nanmean(data_slice, axis=(1, 2))\n",
      "/work/aa0238/a271093/Conda/MOAAP_env/lib/python3.12/site-packages/scipy/ndimage/_measurements.py:1541: RuntimeWarning: invalid value encountered in scalar divide\n",
      "  results = [sum(input * grids[dir].astype(float), labels, index) / normalizer\n"
     ]
    },
    {
     "name": "stdout",
     "output_type": "stream",
     "text": [
      "        check if MSs quallify as ARs\n"
     ]
    },
    {
     "name": "stderr",
     "output_type": "stream",
     "text": [
      "/work/aa0238/a271093/Scripts/MOAAP/src/Tracking_Functions.py:4591: RuntimeWarning: divide by zero encountered in scalar divide\n",
      "  if DIST.max() / DIST.min() < AR_width_lenght_ratio:\n"
     ]
    },
    {
     "name": "stdout",
     "output_type": "stream",
     "text": [
      "            Loop over 1293 objects\n",
      "        00:01:05.16\n",
      " \n",
      "Save the object masks into a joint netCDF\n",
      "Saved: /work/aa0238/a271093/results/MOAAP/IVT_Tracking/NorESM_control_remapped_3x/ObjectMasks_MOAPP_ICON_100and85controlperc_remapped_3x_1991_01_01-1991_08_01.nc\n",
      "        00:00:23.52\n",
      "clean up /work/aa0238/a271093/results/MOAAP/IVT_Tracking/NorESM_control_remapped_3x/IVT_MOAPP_ICON_100and85controlperc_remapped_3x_1991_01_01-1991_07_01.pkl\n",
      "clean up finished\n",
      "clean up /work/aa0238/a271093/results/MOAAP/IVT_Tracking/NorESM_control_remapped_3x/ARs_MOAPP_ICON_100and85controlperc_remapped_3x_1991_01_01-1991_07_01.pkl\n",
      "clean up finished\n",
      "correct nc-file with \n",
      " cdo -selmon,1,2,3,4,5,6 /work/aa0238/a271093/results/MOAAP/IVT_Tracking/NorESM_control_remapped_3x/ObjectMasks_MOAPP_ICON_100and85controlperc_remapped_3x_1991_01_01-1991_08_01.nc /work/aa0238/a271093/results/MOAAP/IVT_Tracking/NorESM_control_remapped_3x/ObjectMasks_MOAPP_ICON_100and85controlperc_remapped_3x_1991_01_01-1991_07_01_corrected.nc\n",
      "\n",
      " \n",
      " \n",
      " \n",
      "\n",
      "1991-07-01 00:00:00 1992-02-01 00:00:00\n",
      "Mergetime /work/aa0238/a271093/data/Jan_runs/ICON_NorESM_control/NorESM_control_remapped_3x/IVTu/IVTu_1991010100-1991123123_remapped_3x.nc /work/aa0238/a271093/data/Jan_runs/ICON_NorESM_control/NorESM_control_remapped_3x/IVTu/IVTu_1992010100-1992123123_remapped_3x.nc  /work/aa0238/a271093/scratch/mergedIVTu_1991_1992_remapped_3x.nc\n",
      "Mergetime /work/aa0238/a271093/data/Jan_runs/ICON_NorESM_control/NorESM_control_remapped_3x/IVTv/IVTv_1991010100-1991123123_remapped_3x.nc /work/aa0238/a271093/data/Jan_runs/ICON_NorESM_control/NorESM_control_remapped_3x/IVTv/IVTv_1992010100-1992123123_remapped_3x.nc  /work/aa0238/a271093/scratch/mergedIVTv_1991_1992_remapped_3x.nc\n",
      " \n",
      "The provided variables allow tracking the following phenomena\n",
      " \n",
      "|  phenomenon  | tracking |\n",
      "---------------------------\n",
      "   Jetstream   |   no\n",
      "   PSL CY/ACY  |   no\n",
      "   Z500 CY/ACY |   no\n",
      "   COLs        |   no\n",
      "   IVT ARs     |   yes\n",
      "   MS ARs      |   no\n",
      "   Fronts      |   no\n",
      "   TCs         |   no\n",
      "   MCSs        |   no\n",
      "   Equ. Waves  |   no\n",
      "---------------------------\n",
      " \n",
      "======> track IVT streams and atmospheric rivers (ARs)\n",
      "        2778 object found\n",
      "        break up long living IVT objects that have many elements\n"
     ]
    },
    {
     "name": "stderr",
     "output_type": "stream",
     "text": [
      "100%|██████████| 574/574 [00:22<00:00, 24.97it/s]\n"
     ]
    },
    {
     "name": "stdout",
     "output_type": "stream",
     "text": [
      "        00:00:29.00\n",
      "9\n",
      "            Loop over 1270 objects\n"
     ]
    },
    {
     "name": "stderr",
     "output_type": "stream",
     "text": [
      "/work/aa0238/a271093/Scripts/MOAAP/src/Tracking_Functions.py:255: RuntimeWarning: All-NaN slice encountered\n",
      "  obj_min = np.nanmin(data_slice, axis=(1, 2))\n",
      "/work/aa0238/a271093/Scripts/MOAAP/src/Tracking_Functions.py:256: RuntimeWarning: All-NaN slice encountered\n",
      "  obj_max = np.nanmax(data_slice, axis=(1, 2))\n",
      "/work/aa0238/a271093/Scripts/MOAAP/src/Tracking_Functions.py:257: RuntimeWarning: Mean of empty slice\n",
      "  obj_mean = np.nanmean(data_slice, axis=(1, 2))\n",
      "/work/aa0238/a271093/Conda/MOAAP_env/lib/python3.12/site-packages/scipy/ndimage/_measurements.py:1541: RuntimeWarning: invalid value encountered in scalar divide\n",
      "  results = [sum(input * grids[dir].astype(float), labels, index) / normalizer\n"
     ]
    },
    {
     "name": "stdout",
     "output_type": "stream",
     "text": [
      "        check if MSs quallify as ARs\n"
     ]
    },
    {
     "name": "stderr",
     "output_type": "stream",
     "text": [
      "/work/aa0238/a271093/Scripts/MOAAP/src/Tracking_Functions.py:4591: RuntimeWarning: divide by zero encountered in scalar divide\n",
      "  if DIST.max() / DIST.min() < AR_width_lenght_ratio:\n"
     ]
    },
    {
     "name": "stdout",
     "output_type": "stream",
     "text": [
      "            Loop over 1266 objects\n",
      "        00:01:09.77\n",
      " \n",
      "Save the object masks into a joint netCDF\n",
      "Saved: /work/aa0238/a271093/results/MOAAP/IVT_Tracking/NorESM_control_remapped_3x/ObjectMasks_MOAPP_ICON_100and85controlperc_remapped_3x_1991_07_01-1992_02_01.nc\n",
      "        00:00:24.02\n",
      "clean up /work/aa0238/a271093/results/MOAAP/IVT_Tracking/NorESM_control_remapped_3x/IVT_MOAPP_ICON_100and85controlperc_remapped_3x_1991_07_01-1992_01_01.pkl\n",
      "clean up finished\n",
      "clean up /work/aa0238/a271093/results/MOAAP/IVT_Tracking/NorESM_control_remapped_3x/ARs_MOAPP_ICON_100and85controlperc_remapped_3x_1991_07_01-1992_01_01.pkl\n",
      "clean up finished\n",
      "correct nc-file with \n",
      " cdo -selmon,6,7,8,9,10,11,12 /work/aa0238/a271093/results/MOAAP/IVT_Tracking/NorESM_control_remapped_3x/ObjectMasks_MOAPP_ICON_100and85controlperc_remapped_3x_1991_07_01-1992_02_01.nc /work/aa0238/a271093/results/MOAAP/IVT_Tracking/NorESM_control_remapped_3x/ObjectMasks_MOAPP_ICON_100and85controlperc_remapped_3x_1991_07_01-1992_01_01_corrected.nc\n",
      "\n",
      " \n",
      " \n",
      " \n",
      "\n",
      "1992-01-01 00:00:00 1992-08-01 00:00:00\n",
      " \n",
      "The provided variables allow tracking the following phenomena\n",
      " \n",
      "|  phenomenon  | tracking |\n",
      "---------------------------\n",
      "   Jetstream   |   no\n",
      "   PSL CY/ACY  |   no\n",
      "   Z500 CY/ACY |   no\n",
      "   COLs        |   no\n",
      "   IVT ARs     |   yes\n",
      "   MS ARs      |   no\n",
      "   Fronts      |   no\n",
      "   TCs         |   no\n",
      "   MCSs        |   no\n",
      "   Equ. Waves  |   no\n",
      "---------------------------\n",
      " \n",
      "======> track IVT streams and atmospheric rivers (ARs)\n",
      "        3160 object found\n",
      "        break up long living IVT objects that have many elements\n"
     ]
    },
    {
     "name": "stderr",
     "output_type": "stream",
     "text": [
      "100%|██████████| 636/636 [00:22<00:00, 27.75it/s]\n"
     ]
    },
    {
     "name": "stdout",
     "output_type": "stream",
     "text": [
      "        00:00:28.58\n",
      "9\n",
      "            Loop over 1301 objects\n"
     ]
    },
    {
     "name": "stderr",
     "output_type": "stream",
     "text": [
      "/work/aa0238/a271093/Scripts/MOAAP/src/Tracking_Functions.py:255: RuntimeWarning: All-NaN slice encountered\n",
      "  obj_min = np.nanmin(data_slice, axis=(1, 2))\n",
      "/work/aa0238/a271093/Scripts/MOAAP/src/Tracking_Functions.py:256: RuntimeWarning: All-NaN slice encountered\n",
      "  obj_max = np.nanmax(data_slice, axis=(1, 2))\n",
      "/work/aa0238/a271093/Scripts/MOAAP/src/Tracking_Functions.py:257: RuntimeWarning: Mean of empty slice\n",
      "  obj_mean = np.nanmean(data_slice, axis=(1, 2))\n",
      "/work/aa0238/a271093/Conda/MOAAP_env/lib/python3.12/site-packages/scipy/ndimage/_measurements.py:1541: RuntimeWarning: invalid value encountered in scalar divide\n",
      "  results = [sum(input * grids[dir].astype(float), labels, index) / normalizer\n"
     ]
    },
    {
     "name": "stdout",
     "output_type": "stream",
     "text": [
      "        check if MSs quallify as ARs\n"
     ]
    },
    {
     "name": "stderr",
     "output_type": "stream",
     "text": [
      "/work/aa0238/a271093/Scripts/MOAAP/src/Tracking_Functions.py:4591: RuntimeWarning: divide by zero encountered in scalar divide\n",
      "  if DIST.max() / DIST.min() < AR_width_lenght_ratio:\n"
     ]
    },
    {
     "name": "stdout",
     "output_type": "stream",
     "text": [
      "            Loop over 1299 objects\n",
      "        00:01:05.33\n",
      " \n",
      "Save the object masks into a joint netCDF\n",
      "Saved: /work/aa0238/a271093/results/MOAAP/IVT_Tracking/NorESM_control_remapped_3x/ObjectMasks_MOAPP_ICON_100and85controlperc_remapped_3x_1992_01_01-1992_08_01.nc\n",
      "        00:00:23.70\n",
      "clean up /work/aa0238/a271093/results/MOAAP/IVT_Tracking/NorESM_control_remapped_3x/IVT_MOAPP_ICON_100and85controlperc_remapped_3x_1992_01_01-1992_07_01.pkl\n",
      "clean up finished\n",
      "clean up /work/aa0238/a271093/results/MOAAP/IVT_Tracking/NorESM_control_remapped_3x/ARs_MOAPP_ICON_100and85controlperc_remapped_3x_1992_01_01-1992_07_01.pkl\n",
      "clean up finished\n",
      "correct nc-file with \n",
      " cdo -selmon,1,2,3,4,5,6 /work/aa0238/a271093/results/MOAAP/IVT_Tracking/NorESM_control_remapped_3x/ObjectMasks_MOAPP_ICON_100and85controlperc_remapped_3x_1992_01_01-1992_08_01.nc /work/aa0238/a271093/results/MOAAP/IVT_Tracking/NorESM_control_remapped_3x/ObjectMasks_MOAPP_ICON_100and85controlperc_remapped_3x_1992_01_01-1992_07_01_corrected.nc\n",
      "\n",
      " \n",
      " \n",
      " \n",
      "\n",
      "1992-07-01 00:00:00 1993-02-01 00:00:00\n",
      "Mergetime /work/aa0238/a271093/data/Jan_runs/ICON_NorESM_control/NorESM_control_remapped_3x/IVTu/IVTu_1992010100-1992123123_remapped_3x.nc /work/aa0238/a271093/data/Jan_runs/ICON_NorESM_control/NorESM_control_remapped_3x/IVTu/IVTu_1993010100-1993123123_remapped_3x.nc  /work/aa0238/a271093/scratch/mergedIVTu_1992_1993_remapped_3x.nc\n",
      "Mergetime /work/aa0238/a271093/data/Jan_runs/ICON_NorESM_control/NorESM_control_remapped_3x/IVTv/IVTv_1992010100-1992123123_remapped_3x.nc /work/aa0238/a271093/data/Jan_runs/ICON_NorESM_control/NorESM_control_remapped_3x/IVTv/IVTv_1993010100-1993123123_remapped_3x.nc  /work/aa0238/a271093/scratch/mergedIVTv_1992_1993_remapped_3x.nc\n",
      " \n",
      "The provided variables allow tracking the following phenomena\n",
      " \n",
      "|  phenomenon  | tracking |\n",
      "---------------------------\n",
      "   Jetstream   |   no\n",
      "   PSL CY/ACY  |   no\n",
      "   Z500 CY/ACY |   no\n",
      "   COLs        |   no\n",
      "   IVT ARs     |   yes\n",
      "   MS ARs      |   no\n",
      "   Fronts      |   no\n",
      "   TCs         |   no\n",
      "   MCSs        |   no\n",
      "   Equ. Waves  |   no\n",
      "---------------------------\n",
      " \n",
      "======> track IVT streams and atmospheric rivers (ARs)\n",
      "        2833 object found\n",
      "        break up long living IVT objects that have many elements\n"
     ]
    },
    {
     "name": "stderr",
     "output_type": "stream",
     "text": [
      "100%|██████████| 600/600 [00:22<00:00, 26.84it/s]\n"
     ]
    },
    {
     "name": "stdout",
     "output_type": "stream",
     "text": [
      "        00:00:28.46\n",
      "9\n",
      "            Loop over 1160 objects\n"
     ]
    },
    {
     "name": "stderr",
     "output_type": "stream",
     "text": [
      "/work/aa0238/a271093/Scripts/MOAAP/src/Tracking_Functions.py:255: RuntimeWarning: All-NaN slice encountered\n",
      "  obj_min = np.nanmin(data_slice, axis=(1, 2))\n",
      "/work/aa0238/a271093/Scripts/MOAAP/src/Tracking_Functions.py:256: RuntimeWarning: All-NaN slice encountered\n",
      "  obj_max = np.nanmax(data_slice, axis=(1, 2))\n",
      "/work/aa0238/a271093/Scripts/MOAAP/src/Tracking_Functions.py:257: RuntimeWarning: Mean of empty slice\n",
      "  obj_mean = np.nanmean(data_slice, axis=(1, 2))\n",
      "/work/aa0238/a271093/Conda/MOAAP_env/lib/python3.12/site-packages/scipy/ndimage/_measurements.py:1541: RuntimeWarning: invalid value encountered in scalar divide\n",
      "  results = [sum(input * grids[dir].astype(float), labels, index) / normalizer\n"
     ]
    },
    {
     "name": "stdout",
     "output_type": "stream",
     "text": [
      "        check if MSs quallify as ARs\n"
     ]
    },
    {
     "name": "stderr",
     "output_type": "stream",
     "text": [
      "/work/aa0238/a271093/Scripts/MOAAP/src/Tracking_Functions.py:4591: RuntimeWarning: divide by zero encountered in scalar divide\n",
      "  if DIST.max() / DIST.min() < AR_width_lenght_ratio:\n"
     ]
    },
    {
     "name": "stdout",
     "output_type": "stream",
     "text": [
      "            Loop over 1160 objects\n",
      "        00:01:02.01\n",
      " \n",
      "Save the object masks into a joint netCDF\n",
      "Saved: /work/aa0238/a271093/results/MOAAP/IVT_Tracking/NorESM_control_remapped_3x/ObjectMasks_MOAPP_ICON_100and85controlperc_remapped_3x_1992_07_01-1993_02_01.nc\n",
      "        00:00:23.81\n",
      "clean up /work/aa0238/a271093/results/MOAAP/IVT_Tracking/NorESM_control_remapped_3x/IVT_MOAPP_ICON_100and85controlperc_remapped_3x_1992_07_01-1993_01_01.pkl\n",
      "clean up finished\n",
      "clean up /work/aa0238/a271093/results/MOAAP/IVT_Tracking/NorESM_control_remapped_3x/ARs_MOAPP_ICON_100and85controlperc_remapped_3x_1992_07_01-1993_01_01.pkl\n",
      "clean up finished\n",
      "correct nc-file with \n",
      " cdo -selmon,6,7,8,9,10,11,12 /work/aa0238/a271093/results/MOAAP/IVT_Tracking/NorESM_control_remapped_3x/ObjectMasks_MOAPP_ICON_100and85controlperc_remapped_3x_1992_07_01-1993_02_01.nc /work/aa0238/a271093/results/MOAAP/IVT_Tracking/NorESM_control_remapped_3x/ObjectMasks_MOAPP_ICON_100and85controlperc_remapped_3x_1992_07_01-1993_01_01_corrected.nc\n",
      "\n",
      " \n",
      " \n",
      " \n",
      "\n",
      "1993-01-01 00:00:00 1993-08-01 00:00:00\n",
      " \n",
      "The provided variables allow tracking the following phenomena\n",
      " \n",
      "|  phenomenon  | tracking |\n",
      "---------------------------\n",
      "   Jetstream   |   no\n",
      "   PSL CY/ACY  |   no\n",
      "   Z500 CY/ACY |   no\n",
      "   COLs        |   no\n",
      "   IVT ARs     |   yes\n",
      "   MS ARs      |   no\n",
      "   Fronts      |   no\n",
      "   TCs         |   no\n",
      "   MCSs        |   no\n",
      "   Equ. Waves  |   no\n",
      "---------------------------\n",
      " \n",
      "======> track IVT streams and atmospheric rivers (ARs)\n",
      "        3335 object found\n",
      "        break up long living IVT objects that have many elements\n"
     ]
    },
    {
     "name": "stderr",
     "output_type": "stream",
     "text": [
      "100%|██████████| 715/715 [00:25<00:00, 28.24it/s]\n"
     ]
    },
    {
     "name": "stdout",
     "output_type": "stream",
     "text": [
      "        00:00:31.02\n",
      "9\n",
      "            Loop over 1414 objects\n"
     ]
    },
    {
     "name": "stderr",
     "output_type": "stream",
     "text": [
      "/work/aa0238/a271093/Scripts/MOAAP/src/Tracking_Functions.py:255: RuntimeWarning: All-NaN slice encountered\n",
      "  obj_min = np.nanmin(data_slice, axis=(1, 2))\n",
      "/work/aa0238/a271093/Scripts/MOAAP/src/Tracking_Functions.py:256: RuntimeWarning: All-NaN slice encountered\n",
      "  obj_max = np.nanmax(data_slice, axis=(1, 2))\n",
      "/work/aa0238/a271093/Scripts/MOAAP/src/Tracking_Functions.py:257: RuntimeWarning: Mean of empty slice\n",
      "  obj_mean = np.nanmean(data_slice, axis=(1, 2))\n",
      "/work/aa0238/a271093/Conda/MOAAP_env/lib/python3.12/site-packages/scipy/ndimage/_measurements.py:1541: RuntimeWarning: invalid value encountered in scalar divide\n",
      "  results = [sum(input * grids[dir].astype(float), labels, index) / normalizer\n"
     ]
    },
    {
     "name": "stdout",
     "output_type": "stream",
     "text": [
      "        check if MSs quallify as ARs\n"
     ]
    },
    {
     "name": "stderr",
     "output_type": "stream",
     "text": [
      "/work/aa0238/a271093/Scripts/MOAAP/src/Tracking_Functions.py:4591: RuntimeWarning: divide by zero encountered in scalar divide\n",
      "  if DIST.max() / DIST.min() < AR_width_lenght_ratio:\n"
     ]
    },
    {
     "name": "stdout",
     "output_type": "stream",
     "text": [
      "            Loop over 1413 objects\n",
      "        00:01:08.14\n",
      " \n",
      "Save the object masks into a joint netCDF\n",
      "Saved: /work/aa0238/a271093/results/MOAAP/IVT_Tracking/NorESM_control_remapped_3x/ObjectMasks_MOAPP_ICON_100and85controlperc_remapped_3x_1993_01_01-1993_08_01.nc\n",
      "        00:00:23.51\n",
      "clean up /work/aa0238/a271093/results/MOAAP/IVT_Tracking/NorESM_control_remapped_3x/IVT_MOAPP_ICON_100and85controlperc_remapped_3x_1993_01_01-1993_07_01.pkl\n",
      "clean up finished\n",
      "clean up /work/aa0238/a271093/results/MOAAP/IVT_Tracking/NorESM_control_remapped_3x/ARs_MOAPP_ICON_100and85controlperc_remapped_3x_1993_01_01-1993_07_01.pkl\n",
      "clean up finished\n",
      "correct nc-file with \n",
      " cdo -selmon,1,2,3,4,5,6 /work/aa0238/a271093/results/MOAAP/IVT_Tracking/NorESM_control_remapped_3x/ObjectMasks_MOAPP_ICON_100and85controlperc_remapped_3x_1993_01_01-1993_08_01.nc /work/aa0238/a271093/results/MOAAP/IVT_Tracking/NorESM_control_remapped_3x/ObjectMasks_MOAPP_ICON_100and85controlperc_remapped_3x_1993_01_01-1993_07_01_corrected.nc\n",
      "\n",
      " \n",
      " \n",
      " \n",
      "\n",
      "1993-07-01 00:00:00 1994-02-01 00:00:00\n",
      "Mergetime /work/aa0238/a271093/data/Jan_runs/ICON_NorESM_control/NorESM_control_remapped_3x/IVTu/IVTu_1993010100-1993123123_remapped_3x.nc /work/aa0238/a271093/data/Jan_runs/ICON_NorESM_control/NorESM_control_remapped_3x/IVTu/IVTu_1994010100-1994123123_remapped_3x.nc  /work/aa0238/a271093/scratch/mergedIVTu_1993_1994_remapped_3x.nc\n",
      "Mergetime /work/aa0238/a271093/data/Jan_runs/ICON_NorESM_control/NorESM_control_remapped_3x/IVTv/IVTv_1993010100-1993123123_remapped_3x.nc /work/aa0238/a271093/data/Jan_runs/ICON_NorESM_control/NorESM_control_remapped_3x/IVTv/IVTv_1994010100-1994123123_remapped_3x.nc  /work/aa0238/a271093/scratch/mergedIVTv_1993_1994_remapped_3x.nc\n",
      " \n",
      "The provided variables allow tracking the following phenomena\n",
      " \n",
      "|  phenomenon  | tracking |\n",
      "---------------------------\n",
      "   Jetstream   |   no\n",
      "   PSL CY/ACY  |   no\n",
      "   Z500 CY/ACY |   no\n",
      "   COLs        |   no\n",
      "   IVT ARs     |   yes\n",
      "   MS ARs      |   no\n",
      "   Fronts      |   no\n",
      "   TCs         |   no\n",
      "   MCSs        |   no\n",
      "   Equ. Waves  |   no\n",
      "---------------------------\n",
      " \n",
      "======> track IVT streams and atmospheric rivers (ARs)\n",
      "        2974 object found\n",
      "        break up long living IVT objects that have many elements\n"
     ]
    },
    {
     "name": "stderr",
     "output_type": "stream",
     "text": [
      "100%|██████████| 665/665 [00:23<00:00, 28.75it/s]\n"
     ]
    },
    {
     "name": "stdout",
     "output_type": "stream",
     "text": [
      "        00:00:29.18\n",
      "9\n",
      "            Loop over 1286 objects\n"
     ]
    },
    {
     "name": "stderr",
     "output_type": "stream",
     "text": [
      "/work/aa0238/a271093/Scripts/MOAAP/src/Tracking_Functions.py:255: RuntimeWarning: All-NaN slice encountered\n",
      "  obj_min = np.nanmin(data_slice, axis=(1, 2))\n",
      "/work/aa0238/a271093/Scripts/MOAAP/src/Tracking_Functions.py:256: RuntimeWarning: All-NaN slice encountered\n",
      "  obj_max = np.nanmax(data_slice, axis=(1, 2))\n",
      "/work/aa0238/a271093/Scripts/MOAAP/src/Tracking_Functions.py:257: RuntimeWarning: Mean of empty slice\n",
      "  obj_mean = np.nanmean(data_slice, axis=(1, 2))\n",
      "/work/aa0238/a271093/Conda/MOAAP_env/lib/python3.12/site-packages/scipy/ndimage/_measurements.py:1541: RuntimeWarning: invalid value encountered in scalar divide\n",
      "  results = [sum(input * grids[dir].astype(float), labels, index) / normalizer\n"
     ]
    },
    {
     "name": "stdout",
     "output_type": "stream",
     "text": [
      "        check if MSs quallify as ARs\n"
     ]
    },
    {
     "name": "stderr",
     "output_type": "stream",
     "text": [
      "/work/aa0238/a271093/Scripts/MOAAP/src/Tracking_Functions.py:4591: RuntimeWarning: divide by zero encountered in scalar divide\n",
      "  if DIST.max() / DIST.min() < AR_width_lenght_ratio:\n"
     ]
    },
    {
     "name": "stdout",
     "output_type": "stream",
     "text": [
      "            Loop over 1282 objects\n",
      "        00:01:09.08\n",
      " \n",
      "Save the object masks into a joint netCDF\n",
      "Saved: /work/aa0238/a271093/results/MOAAP/IVT_Tracking/NorESM_control_remapped_3x/ObjectMasks_MOAPP_ICON_100and85controlperc_remapped_3x_1993_07_01-1994_02_01.nc\n",
      "        00:00:23.92\n",
      "clean up /work/aa0238/a271093/results/MOAAP/IVT_Tracking/NorESM_control_remapped_3x/IVT_MOAPP_ICON_100and85controlperc_remapped_3x_1993_07_01-1994_01_01.pkl\n",
      "clean up finished\n",
      "clean up /work/aa0238/a271093/results/MOAAP/IVT_Tracking/NorESM_control_remapped_3x/ARs_MOAPP_ICON_100and85controlperc_remapped_3x_1993_07_01-1994_01_01.pkl\n",
      "clean up finished\n",
      "correct nc-file with \n",
      " cdo -selmon,6,7,8,9,10,11,12 /work/aa0238/a271093/results/MOAAP/IVT_Tracking/NorESM_control_remapped_3x/ObjectMasks_MOAPP_ICON_100and85controlperc_remapped_3x_1993_07_01-1994_02_01.nc /work/aa0238/a271093/results/MOAAP/IVT_Tracking/NorESM_control_remapped_3x/ObjectMasks_MOAPP_ICON_100and85controlperc_remapped_3x_1993_07_01-1994_01_01_corrected.nc\n",
      "\n",
      " \n",
      " \n",
      " \n",
      "\n",
      "1994-01-01 00:00:00 1994-08-01 00:00:00\n",
      " \n",
      "The provided variables allow tracking the following phenomena\n",
      " \n",
      "|  phenomenon  | tracking |\n",
      "---------------------------\n",
      "   Jetstream   |   no\n",
      "   PSL CY/ACY  |   no\n",
      "   Z500 CY/ACY |   no\n",
      "   COLs        |   no\n",
      "   IVT ARs     |   yes\n",
      "   MS ARs      |   no\n",
      "   Fronts      |   no\n",
      "   TCs         |   no\n",
      "   MCSs        |   no\n",
      "   Equ. Waves  |   no\n",
      "---------------------------\n",
      " \n",
      "======> track IVT streams and atmospheric rivers (ARs)\n",
      "        3009 object found\n",
      "        break up long living IVT objects that have many elements\n"
     ]
    },
    {
     "name": "stderr",
     "output_type": "stream",
     "text": [
      "100%|██████████| 657/657 [00:21<00:00, 30.30it/s]\n"
     ]
    },
    {
     "name": "stdout",
     "output_type": "stream",
     "text": [
      "        00:00:27.48\n",
      "9\n",
      "            Loop over 1221 objects\n"
     ]
    },
    {
     "name": "stderr",
     "output_type": "stream",
     "text": [
      "/work/aa0238/a271093/Scripts/MOAAP/src/Tracking_Functions.py:255: RuntimeWarning: All-NaN slice encountered\n",
      "  obj_min = np.nanmin(data_slice, axis=(1, 2))\n",
      "/work/aa0238/a271093/Scripts/MOAAP/src/Tracking_Functions.py:256: RuntimeWarning: All-NaN slice encountered\n",
      "  obj_max = np.nanmax(data_slice, axis=(1, 2))\n",
      "/work/aa0238/a271093/Scripts/MOAAP/src/Tracking_Functions.py:257: RuntimeWarning: Mean of empty slice\n",
      "  obj_mean = np.nanmean(data_slice, axis=(1, 2))\n",
      "/work/aa0238/a271093/Conda/MOAAP_env/lib/python3.12/site-packages/scipy/ndimage/_measurements.py:1541: RuntimeWarning: invalid value encountered in scalar divide\n",
      "  results = [sum(input * grids[dir].astype(float), labels, index) / normalizer\n"
     ]
    },
    {
     "name": "stdout",
     "output_type": "stream",
     "text": [
      "        check if MSs quallify as ARs\n"
     ]
    },
    {
     "name": "stderr",
     "output_type": "stream",
     "text": [
      "/work/aa0238/a271093/Scripts/MOAAP/src/Tracking_Functions.py:4591: RuntimeWarning: divide by zero encountered in scalar divide\n",
      "  if DIST.max() / DIST.min() < AR_width_lenght_ratio:\n"
     ]
    },
    {
     "name": "stdout",
     "output_type": "stream",
     "text": [
      "            Loop over 1221 objects\n",
      "        00:01:01.07\n",
      " \n",
      "Save the object masks into a joint netCDF\n",
      "Saved: /work/aa0238/a271093/results/MOAAP/IVT_Tracking/NorESM_control_remapped_3x/ObjectMasks_MOAPP_ICON_100and85controlperc_remapped_3x_1994_01_01-1994_08_01.nc\n",
      "        00:00:23.68\n",
      "clean up /work/aa0238/a271093/results/MOAAP/IVT_Tracking/NorESM_control_remapped_3x/IVT_MOAPP_ICON_100and85controlperc_remapped_3x_1994_01_01-1994_07_01.pkl\n",
      "clean up finished\n",
      "clean up /work/aa0238/a271093/results/MOAAP/IVT_Tracking/NorESM_control_remapped_3x/ARs_MOAPP_ICON_100and85controlperc_remapped_3x_1994_01_01-1994_07_01.pkl\n",
      "clean up finished\n",
      "correct nc-file with \n",
      " cdo -selmon,1,2,3,4,5,6 /work/aa0238/a271093/results/MOAAP/IVT_Tracking/NorESM_control_remapped_3x/ObjectMasks_MOAPP_ICON_100and85controlperc_remapped_3x_1994_01_01-1994_08_01.nc /work/aa0238/a271093/results/MOAAP/IVT_Tracking/NorESM_control_remapped_3x/ObjectMasks_MOAPP_ICON_100and85controlperc_remapped_3x_1994_01_01-1994_07_01_corrected.nc\n",
      "\n",
      " \n",
      " \n",
      " \n",
      "\n",
      "1994-07-01 00:00:00 1995-02-01 00:00:00\n",
      "Mergetime /work/aa0238/a271093/data/Jan_runs/ICON_NorESM_control/NorESM_control_remapped_3x/IVTu/IVTu_1994010100-1994123123_remapped_3x.nc /work/aa0238/a271093/data/Jan_runs/ICON_NorESM_control/NorESM_control_remapped_3x/IVTu/IVTu_1995010100-1995123123_remapped_3x.nc  /work/aa0238/a271093/scratch/mergedIVTu_1994_1995_remapped_3x.nc\n",
      "Mergetime /work/aa0238/a271093/data/Jan_runs/ICON_NorESM_control/NorESM_control_remapped_3x/IVTv/IVTv_1994010100-1994123123_remapped_3x.nc /work/aa0238/a271093/data/Jan_runs/ICON_NorESM_control/NorESM_control_remapped_3x/IVTv/IVTv_1995010100-1995123123_remapped_3x.nc  /work/aa0238/a271093/scratch/mergedIVTv_1994_1995_remapped_3x.nc\n",
      " \n",
      "The provided variables allow tracking the following phenomena\n",
      " \n",
      "|  phenomenon  | tracking |\n",
      "---------------------------\n",
      "   Jetstream   |   no\n",
      "   PSL CY/ACY  |   no\n",
      "   Z500 CY/ACY |   no\n",
      "   COLs        |   no\n",
      "   IVT ARs     |   yes\n",
      "   MS ARs      |   no\n",
      "   Fronts      |   no\n",
      "   TCs         |   no\n",
      "   MCSs        |   no\n",
      "   Equ. Waves  |   no\n",
      "---------------------------\n",
      " \n",
      "======> track IVT streams and atmospheric rivers (ARs)\n",
      "        2802 object found\n",
      "        break up long living IVT objects that have many elements\n"
     ]
    },
    {
     "name": "stderr",
     "output_type": "stream",
     "text": [
      "100%|██████████| 577/577 [00:20<00:00, 27.71it/s]\n"
     ]
    },
    {
     "name": "stdout",
     "output_type": "stream",
     "text": [
      "        00:00:26.56\n",
      "9\n",
      "            Loop over 1181 objects\n"
     ]
    },
    {
     "name": "stderr",
     "output_type": "stream",
     "text": [
      "/work/aa0238/a271093/Scripts/MOAAP/src/Tracking_Functions.py:255: RuntimeWarning: All-NaN slice encountered\n",
      "  obj_min = np.nanmin(data_slice, axis=(1, 2))\n",
      "/work/aa0238/a271093/Scripts/MOAAP/src/Tracking_Functions.py:256: RuntimeWarning: All-NaN slice encountered\n",
      "  obj_max = np.nanmax(data_slice, axis=(1, 2))\n",
      "/work/aa0238/a271093/Scripts/MOAAP/src/Tracking_Functions.py:257: RuntimeWarning: Mean of empty slice\n",
      "  obj_mean = np.nanmean(data_slice, axis=(1, 2))\n",
      "/work/aa0238/a271093/Conda/MOAAP_env/lib/python3.12/site-packages/scipy/ndimage/_measurements.py:1541: RuntimeWarning: invalid value encountered in scalar divide\n",
      "  results = [sum(input * grids[dir].astype(float), labels, index) / normalizer\n"
     ]
    },
    {
     "name": "stdout",
     "output_type": "stream",
     "text": [
      "        check if MSs quallify as ARs\n"
     ]
    },
    {
     "name": "stderr",
     "output_type": "stream",
     "text": [
      "/work/aa0238/a271093/Scripts/MOAAP/src/Tracking_Functions.py:4591: RuntimeWarning: divide by zero encountered in scalar divide\n",
      "  if DIST.max() / DIST.min() < AR_width_lenght_ratio:\n"
     ]
    },
    {
     "name": "stdout",
     "output_type": "stream",
     "text": [
      "            Loop over 1174 objects\n",
      "        00:01:00.93\n",
      " \n",
      "Save the object masks into a joint netCDF\n",
      "Saved: /work/aa0238/a271093/results/MOAAP/IVT_Tracking/NorESM_control_remapped_3x/ObjectMasks_MOAPP_ICON_100and85controlperc_remapped_3x_1994_07_01-1995_02_01.nc\n",
      "        00:00:23.84\n",
      "clean up /work/aa0238/a271093/results/MOAAP/IVT_Tracking/NorESM_control_remapped_3x/IVT_MOAPP_ICON_100and85controlperc_remapped_3x_1994_07_01-1995_01_01.pkl\n",
      "clean up finished\n",
      "clean up /work/aa0238/a271093/results/MOAAP/IVT_Tracking/NorESM_control_remapped_3x/ARs_MOAPP_ICON_100and85controlperc_remapped_3x_1994_07_01-1995_01_01.pkl\n",
      "clean up finished\n",
      "correct nc-file with \n",
      " cdo -selmon,6,7,8,9,10,11,12 /work/aa0238/a271093/results/MOAAP/IVT_Tracking/NorESM_control_remapped_3x/ObjectMasks_MOAPP_ICON_100and85controlperc_remapped_3x_1994_07_01-1995_02_01.nc /work/aa0238/a271093/results/MOAAP/IVT_Tracking/NorESM_control_remapped_3x/ObjectMasks_MOAPP_ICON_100and85controlperc_remapped_3x_1994_07_01-1995_01_01_corrected.nc\n",
      "\n",
      " \n",
      " \n",
      " \n",
      "\n",
      "1995-01-01 00:00:00 1995-08-01 00:00:00\n",
      " \n",
      "The provided variables allow tracking the following phenomena\n",
      " \n",
      "|  phenomenon  | tracking |\n",
      "---------------------------\n",
      "   Jetstream   |   no\n",
      "   PSL CY/ACY  |   no\n",
      "   Z500 CY/ACY |   no\n",
      "   COLs        |   no\n",
      "   IVT ARs     |   yes\n",
      "   MS ARs      |   no\n",
      "   Fronts      |   no\n",
      "   TCs         |   no\n",
      "   MCSs        |   no\n",
      "   Equ. Waves  |   no\n",
      "---------------------------\n",
      " \n",
      "======> track IVT streams and atmospheric rivers (ARs)\n",
      "        3152 object found\n",
      "        break up long living IVT objects that have many elements\n"
     ]
    },
    {
     "name": "stderr",
     "output_type": "stream",
     "text": [
      "100%|██████████| 643/643 [00:24<00:00, 26.47it/s]\n"
     ]
    },
    {
     "name": "stdout",
     "output_type": "stream",
     "text": [
      "        00:00:30.04\n",
      "9\n",
      "            Loop over 1352 objects\n"
     ]
    },
    {
     "name": "stderr",
     "output_type": "stream",
     "text": [
      "/work/aa0238/a271093/Scripts/MOAAP/src/Tracking_Functions.py:255: RuntimeWarning: All-NaN slice encountered\n",
      "  obj_min = np.nanmin(data_slice, axis=(1, 2))\n",
      "/work/aa0238/a271093/Scripts/MOAAP/src/Tracking_Functions.py:256: RuntimeWarning: All-NaN slice encountered\n",
      "  obj_max = np.nanmax(data_slice, axis=(1, 2))\n",
      "/work/aa0238/a271093/Scripts/MOAAP/src/Tracking_Functions.py:257: RuntimeWarning: Mean of empty slice\n",
      "  obj_mean = np.nanmean(data_slice, axis=(1, 2))\n",
      "/work/aa0238/a271093/Conda/MOAAP_env/lib/python3.12/site-packages/scipy/ndimage/_measurements.py:1541: RuntimeWarning: invalid value encountered in scalar divide\n",
      "  results = [sum(input * grids[dir].astype(float), labels, index) / normalizer\n"
     ]
    },
    {
     "name": "stdout",
     "output_type": "stream",
     "text": [
      "        check if MSs quallify as ARs\n"
     ]
    },
    {
     "name": "stderr",
     "output_type": "stream",
     "text": [
      "/work/aa0238/a271093/Scripts/MOAAP/src/Tracking_Functions.py:4591: RuntimeWarning: divide by zero encountered in scalar divide\n",
      "  if DIST.max() / DIST.min() < AR_width_lenght_ratio:\n"
     ]
    },
    {
     "name": "stdout",
     "output_type": "stream",
     "text": [
      "            Loop over 1345 objects\n",
      "        00:01:06.92\n",
      " \n",
      "Save the object masks into a joint netCDF\n",
      "Saved: /work/aa0238/a271093/results/MOAAP/IVT_Tracking/NorESM_control_remapped_3x/ObjectMasks_MOAPP_ICON_100and85controlperc_remapped_3x_1995_01_01-1995_08_01.nc\n",
      "        00:00:23.64\n",
      "clean up /work/aa0238/a271093/results/MOAAP/IVT_Tracking/NorESM_control_remapped_3x/IVT_MOAPP_ICON_100and85controlperc_remapped_3x_1995_01_01-1995_07_01.pkl\n",
      "clean up finished\n",
      "clean up /work/aa0238/a271093/results/MOAAP/IVT_Tracking/NorESM_control_remapped_3x/ARs_MOAPP_ICON_100and85controlperc_remapped_3x_1995_01_01-1995_07_01.pkl\n",
      "clean up finished\n",
      "correct nc-file with \n",
      " cdo -selmon,1,2,3,4,5,6 /work/aa0238/a271093/results/MOAAP/IVT_Tracking/NorESM_control_remapped_3x/ObjectMasks_MOAPP_ICON_100and85controlperc_remapped_3x_1995_01_01-1995_08_01.nc /work/aa0238/a271093/results/MOAAP/IVT_Tracking/NorESM_control_remapped_3x/ObjectMasks_MOAPP_ICON_100and85controlperc_remapped_3x_1995_01_01-1995_07_01_corrected.nc\n",
      "\n",
      " \n",
      " \n",
      " \n",
      "\n",
      "1995-07-01 00:00:00 1996-02-01 00:00:00\n",
      "Mergetime /work/aa0238/a271093/data/Jan_runs/ICON_NorESM_control/NorESM_control_remapped_3x/IVTu/IVTu_1995010100-1995123123_remapped_3x.nc /work/aa0238/a271093/data/Jan_runs/ICON_NorESM_control/NorESM_control_remapped_3x/IVTu/IVTu_1996010100-1996123123_remapped_3x.nc  /work/aa0238/a271093/scratch/mergedIVTu_1995_1996_remapped_3x.nc\n",
      "Mergetime /work/aa0238/a271093/data/Jan_runs/ICON_NorESM_control/NorESM_control_remapped_3x/IVTv/IVTv_1995010100-1995123123_remapped_3x.nc /work/aa0238/a271093/data/Jan_runs/ICON_NorESM_control/NorESM_control_remapped_3x/IVTv/IVTv_1996010100-1996123123_remapped_3x.nc  /work/aa0238/a271093/scratch/mergedIVTv_1995_1996_remapped_3x.nc\n",
      " \n",
      "The provided variables allow tracking the following phenomena\n",
      " \n",
      "|  phenomenon  | tracking |\n",
      "---------------------------\n",
      "   Jetstream   |   no\n",
      "   PSL CY/ACY  |   no\n",
      "   Z500 CY/ACY |   no\n",
      "   COLs        |   no\n",
      "   IVT ARs     |   yes\n",
      "   MS ARs      |   no\n",
      "   Fronts      |   no\n",
      "   TCs         |   no\n",
      "   MCSs        |   no\n",
      "   Equ. Waves  |   no\n",
      "---------------------------\n",
      " \n",
      "======> track IVT streams and atmospheric rivers (ARs)\n",
      "        2908 object found\n",
      "        break up long living IVT objects that have many elements\n"
     ]
    },
    {
     "name": "stderr",
     "output_type": "stream",
     "text": [
      "100%|██████████| 619/619 [00:20<00:00, 29.67it/s]\n"
     ]
    },
    {
     "name": "stdout",
     "output_type": "stream",
     "text": [
      "        00:00:26.63\n",
      "9\n",
      "            Loop over 1300 objects\n"
     ]
    },
    {
     "name": "stderr",
     "output_type": "stream",
     "text": [
      "/work/aa0238/a271093/Scripts/MOAAP/src/Tracking_Functions.py:255: RuntimeWarning: All-NaN slice encountered\n",
      "  obj_min = np.nanmin(data_slice, axis=(1, 2))\n",
      "/work/aa0238/a271093/Scripts/MOAAP/src/Tracking_Functions.py:256: RuntimeWarning: All-NaN slice encountered\n",
      "  obj_max = np.nanmax(data_slice, axis=(1, 2))\n",
      "/work/aa0238/a271093/Scripts/MOAAP/src/Tracking_Functions.py:257: RuntimeWarning: Mean of empty slice\n",
      "  obj_mean = np.nanmean(data_slice, axis=(1, 2))\n",
      "/work/aa0238/a271093/Conda/MOAAP_env/lib/python3.12/site-packages/scipy/ndimage/_measurements.py:1541: RuntimeWarning: invalid value encountered in scalar divide\n",
      "  results = [sum(input * grids[dir].astype(float), labels, index) / normalizer\n"
     ]
    },
    {
     "name": "stdout",
     "output_type": "stream",
     "text": [
      "        check if MSs quallify as ARs\n"
     ]
    },
    {
     "name": "stderr",
     "output_type": "stream",
     "text": [
      "/work/aa0238/a271093/Scripts/MOAAP/src/Tracking_Functions.py:4591: RuntimeWarning: divide by zero encountered in scalar divide\n",
      "  if DIST.max() / DIST.min() < AR_width_lenght_ratio:\n"
     ]
    },
    {
     "name": "stdout",
     "output_type": "stream",
     "text": [
      "            Loop over 1300 objects\n",
      "        00:01:02.19\n",
      " \n",
      "Save the object masks into a joint netCDF\n",
      "Saved: /work/aa0238/a271093/results/MOAAP/IVT_Tracking/NorESM_control_remapped_3x/ObjectMasks_MOAPP_ICON_100and85controlperc_remapped_3x_1995_07_01-1996_02_01.nc\n",
      "        00:00:23.94\n",
      "clean up /work/aa0238/a271093/results/MOAAP/IVT_Tracking/NorESM_control_remapped_3x/IVT_MOAPP_ICON_100and85controlperc_remapped_3x_1995_07_01-1996_01_01.pkl\n",
      "clean up finished\n",
      "clean up /work/aa0238/a271093/results/MOAAP/IVT_Tracking/NorESM_control_remapped_3x/ARs_MOAPP_ICON_100and85controlperc_remapped_3x_1995_07_01-1996_01_01.pkl\n",
      "clean up finished\n",
      "correct nc-file with \n",
      " cdo -selmon,6,7,8,9,10,11,12 /work/aa0238/a271093/results/MOAAP/IVT_Tracking/NorESM_control_remapped_3x/ObjectMasks_MOAPP_ICON_100and85controlperc_remapped_3x_1995_07_01-1996_02_01.nc /work/aa0238/a271093/results/MOAAP/IVT_Tracking/NorESM_control_remapped_3x/ObjectMasks_MOAPP_ICON_100and85controlperc_remapped_3x_1995_07_01-1996_01_01_corrected.nc\n",
      "\n",
      " \n",
      " \n",
      " \n",
      "\n",
      "1996-01-01 00:00:00 1996-08-01 00:00:00\n",
      " \n",
      "The provided variables allow tracking the following phenomena\n",
      " \n",
      "|  phenomenon  | tracking |\n",
      "---------------------------\n",
      "   Jetstream   |   no\n",
      "   PSL CY/ACY  |   no\n",
      "   Z500 CY/ACY |   no\n",
      "   COLs        |   no\n",
      "   IVT ARs     |   yes\n",
      "   MS ARs      |   no\n",
      "   Fronts      |   no\n",
      "   TCs         |   no\n",
      "   MCSs        |   no\n",
      "   Equ. Waves  |   no\n",
      "---------------------------\n",
      " \n",
      "======> track IVT streams and atmospheric rivers (ARs)\n",
      "        3080 object found\n",
      "        break up long living IVT objects that have many elements\n"
     ]
    },
    {
     "name": "stderr",
     "output_type": "stream",
     "text": [
      "100%|██████████| 627/627 [00:23<00:00, 26.75it/s]\n"
     ]
    },
    {
     "name": "stdout",
     "output_type": "stream",
     "text": [
      "        00:00:29.22\n",
      "9\n",
      "            Loop over 1260 objects\n"
     ]
    },
    {
     "name": "stderr",
     "output_type": "stream",
     "text": [
      "/work/aa0238/a271093/Scripts/MOAAP/src/Tracking_Functions.py:255: RuntimeWarning: All-NaN slice encountered\n",
      "  obj_min = np.nanmin(data_slice, axis=(1, 2))\n",
      "/work/aa0238/a271093/Scripts/MOAAP/src/Tracking_Functions.py:256: RuntimeWarning: All-NaN slice encountered\n",
      "  obj_max = np.nanmax(data_slice, axis=(1, 2))\n",
      "/work/aa0238/a271093/Scripts/MOAAP/src/Tracking_Functions.py:257: RuntimeWarning: Mean of empty slice\n",
      "  obj_mean = np.nanmean(data_slice, axis=(1, 2))\n",
      "/work/aa0238/a271093/Conda/MOAAP_env/lib/python3.12/site-packages/scipy/ndimage/_measurements.py:1541: RuntimeWarning: invalid value encountered in scalar divide\n",
      "  results = [sum(input * grids[dir].astype(float), labels, index) / normalizer\n"
     ]
    },
    {
     "name": "stdout",
     "output_type": "stream",
     "text": [
      "        check if MSs quallify as ARs\n"
     ]
    },
    {
     "name": "stderr",
     "output_type": "stream",
     "text": [
      "/work/aa0238/a271093/Scripts/MOAAP/src/Tracking_Functions.py:4591: RuntimeWarning: divide by zero encountered in scalar divide\n",
      "  if DIST.max() / DIST.min() < AR_width_lenght_ratio:\n"
     ]
    },
    {
     "name": "stdout",
     "output_type": "stream",
     "text": [
      "            Loop over 1260 objects\n",
      "        00:01:06.63\n",
      " \n",
      "Save the object masks into a joint netCDF\n",
      "Saved: /work/aa0238/a271093/results/MOAAP/IVT_Tracking/NorESM_control_remapped_3x/ObjectMasks_MOAPP_ICON_100and85controlperc_remapped_3x_1996_01_01-1996_08_01.nc\n",
      "        00:00:23.61\n",
      "clean up /work/aa0238/a271093/results/MOAAP/IVT_Tracking/NorESM_control_remapped_3x/IVT_MOAPP_ICON_100and85controlperc_remapped_3x_1996_01_01-1996_07_01.pkl\n",
      "clean up finished\n",
      "clean up /work/aa0238/a271093/results/MOAAP/IVT_Tracking/NorESM_control_remapped_3x/ARs_MOAPP_ICON_100and85controlperc_remapped_3x_1996_01_01-1996_07_01.pkl\n",
      "clean up finished\n",
      "correct nc-file with \n",
      " cdo -selmon,1,2,3,4,5,6 /work/aa0238/a271093/results/MOAAP/IVT_Tracking/NorESM_control_remapped_3x/ObjectMasks_MOAPP_ICON_100and85controlperc_remapped_3x_1996_01_01-1996_08_01.nc /work/aa0238/a271093/results/MOAAP/IVT_Tracking/NorESM_control_remapped_3x/ObjectMasks_MOAPP_ICON_100and85controlperc_remapped_3x_1996_01_01-1996_07_01_corrected.nc\n",
      "\n",
      " \n",
      " \n",
      " \n",
      "\n",
      "1996-07-01 00:00:00 1997-02-01 00:00:00\n",
      "Mergetime /work/aa0238/a271093/data/Jan_runs/ICON_NorESM_control/NorESM_control_remapped_3x/IVTu/IVTu_1996010100-1996123123_remapped_3x.nc /work/aa0238/a271093/data/Jan_runs/ICON_NorESM_control/NorESM_control_remapped_3x/IVTu/IVTu_1997010100-1997123123_remapped_3x.nc  /work/aa0238/a271093/scratch/mergedIVTu_1996_1997_remapped_3x.nc\n",
      "Mergetime /work/aa0238/a271093/data/Jan_runs/ICON_NorESM_control/NorESM_control_remapped_3x/IVTv/IVTv_1996010100-1996123123_remapped_3x.nc /work/aa0238/a271093/data/Jan_runs/ICON_NorESM_control/NorESM_control_remapped_3x/IVTv/IVTv_1997010100-1997123123_remapped_3x.nc  /work/aa0238/a271093/scratch/mergedIVTv_1996_1997_remapped_3x.nc\n",
      " \n",
      "The provided variables allow tracking the following phenomena\n",
      " \n",
      "|  phenomenon  | tracking |\n",
      "---------------------------\n",
      "   Jetstream   |   no\n",
      "   PSL CY/ACY  |   no\n",
      "   Z500 CY/ACY |   no\n",
      "   COLs        |   no\n",
      "   IVT ARs     |   yes\n",
      "   MS ARs      |   no\n",
      "   Fronts      |   no\n",
      "   TCs         |   no\n",
      "   MCSs        |   no\n",
      "   Equ. Waves  |   no\n",
      "---------------------------\n",
      " \n",
      "======> track IVT streams and atmospheric rivers (ARs)\n",
      "        2713 object found\n",
      "        break up long living IVT objects that have many elements\n"
     ]
    },
    {
     "name": "stderr",
     "output_type": "stream",
     "text": [
      "100%|██████████| 640/640 [00:22<00:00, 28.85it/s]\n"
     ]
    },
    {
     "name": "stdout",
     "output_type": "stream",
     "text": [
      "        00:00:27.85\n",
      "9\n",
      "            Loop over 1204 objects\n"
     ]
    },
    {
     "name": "stderr",
     "output_type": "stream",
     "text": [
      "/work/aa0238/a271093/Scripts/MOAAP/src/Tracking_Functions.py:255: RuntimeWarning: All-NaN slice encountered\n",
      "  obj_min = np.nanmin(data_slice, axis=(1, 2))\n",
      "/work/aa0238/a271093/Scripts/MOAAP/src/Tracking_Functions.py:256: RuntimeWarning: All-NaN slice encountered\n",
      "  obj_max = np.nanmax(data_slice, axis=(1, 2))\n",
      "/work/aa0238/a271093/Scripts/MOAAP/src/Tracking_Functions.py:257: RuntimeWarning: Mean of empty slice\n",
      "  obj_mean = np.nanmean(data_slice, axis=(1, 2))\n",
      "/work/aa0238/a271093/Conda/MOAAP_env/lib/python3.12/site-packages/scipy/ndimage/_measurements.py:1541: RuntimeWarning: invalid value encountered in scalar divide\n",
      "  results = [sum(input * grids[dir].astype(float), labels, index) / normalizer\n"
     ]
    },
    {
     "name": "stdout",
     "output_type": "stream",
     "text": [
      "        check if MSs quallify as ARs\n"
     ]
    },
    {
     "name": "stderr",
     "output_type": "stream",
     "text": [
      "/work/aa0238/a271093/Scripts/MOAAP/src/Tracking_Functions.py:4591: RuntimeWarning: divide by zero encountered in scalar divide\n",
      "  if DIST.max() / DIST.min() < AR_width_lenght_ratio:\n"
     ]
    },
    {
     "name": "stdout",
     "output_type": "stream",
     "text": [
      "            Loop over 1204 objects\n",
      "        00:01:02.53\n",
      " \n",
      "Save the object masks into a joint netCDF\n",
      "Saved: /work/aa0238/a271093/results/MOAAP/IVT_Tracking/NorESM_control_remapped_3x/ObjectMasks_MOAPP_ICON_100and85controlperc_remapped_3x_1996_07_01-1997_02_01.nc\n",
      "        00:00:23.83\n",
      "clean up /work/aa0238/a271093/results/MOAAP/IVT_Tracking/NorESM_control_remapped_3x/IVT_MOAPP_ICON_100and85controlperc_remapped_3x_1996_07_01-1997_01_01.pkl\n",
      "clean up finished\n",
      "clean up /work/aa0238/a271093/results/MOAAP/IVT_Tracking/NorESM_control_remapped_3x/ARs_MOAPP_ICON_100and85controlperc_remapped_3x_1996_07_01-1997_01_01.pkl\n",
      "clean up finished\n",
      "correct nc-file with \n",
      " cdo -selmon,6,7,8,9,10,11,12 /work/aa0238/a271093/results/MOAAP/IVT_Tracking/NorESM_control_remapped_3x/ObjectMasks_MOAPP_ICON_100and85controlperc_remapped_3x_1996_07_01-1997_02_01.nc /work/aa0238/a271093/results/MOAAP/IVT_Tracking/NorESM_control_remapped_3x/ObjectMasks_MOAPP_ICON_100and85controlperc_remapped_3x_1996_07_01-1997_01_01_corrected.nc\n",
      "\n",
      " \n",
      " \n",
      " \n",
      "\n",
      "1997-01-01 00:00:00 1997-08-01 00:00:00\n",
      " \n",
      "The provided variables allow tracking the following phenomena\n",
      " \n",
      "|  phenomenon  | tracking |\n",
      "---------------------------\n",
      "   Jetstream   |   no\n",
      "   PSL CY/ACY  |   no\n",
      "   Z500 CY/ACY |   no\n",
      "   COLs        |   no\n",
      "   IVT ARs     |   yes\n",
      "   MS ARs      |   no\n",
      "   Fronts      |   no\n",
      "   TCs         |   no\n",
      "   MCSs        |   no\n",
      "   Equ. Waves  |   no\n",
      "---------------------------\n",
      " \n",
      "======> track IVT streams and atmospheric rivers (ARs)\n",
      "        2849 object found\n",
      "        break up long living IVT objects that have many elements\n"
     ]
    },
    {
     "name": "stderr",
     "output_type": "stream",
     "text": [
      "100%|██████████| 657/657 [00:22<00:00, 29.44it/s]\n"
     ]
    },
    {
     "name": "stdout",
     "output_type": "stream",
     "text": [
      "        00:00:28.04\n",
      "9\n",
      "            Loop over 1249 objects\n"
     ]
    },
    {
     "name": "stderr",
     "output_type": "stream",
     "text": [
      "/work/aa0238/a271093/Scripts/MOAAP/src/Tracking_Functions.py:255: RuntimeWarning: All-NaN slice encountered\n",
      "  obj_min = np.nanmin(data_slice, axis=(1, 2))\n",
      "/work/aa0238/a271093/Scripts/MOAAP/src/Tracking_Functions.py:256: RuntimeWarning: All-NaN slice encountered\n",
      "  obj_max = np.nanmax(data_slice, axis=(1, 2))\n",
      "/work/aa0238/a271093/Scripts/MOAAP/src/Tracking_Functions.py:257: RuntimeWarning: Mean of empty slice\n",
      "  obj_mean = np.nanmean(data_slice, axis=(1, 2))\n",
      "/work/aa0238/a271093/Conda/MOAAP_env/lib/python3.12/site-packages/scipy/ndimage/_measurements.py:1541: RuntimeWarning: invalid value encountered in scalar divide\n",
      "  results = [sum(input * grids[dir].astype(float), labels, index) / normalizer\n"
     ]
    },
    {
     "name": "stdout",
     "output_type": "stream",
     "text": [
      "        check if MSs quallify as ARs\n"
     ]
    },
    {
     "name": "stderr",
     "output_type": "stream",
     "text": [
      "/work/aa0238/a271093/Scripts/MOAAP/src/Tracking_Functions.py:4591: RuntimeWarning: divide by zero encountered in scalar divide\n",
      "  if DIST.max() / DIST.min() < AR_width_lenght_ratio:\n"
     ]
    },
    {
     "name": "stdout",
     "output_type": "stream",
     "text": [
      "            Loop over 1249 objects\n",
      "        00:01:02.61\n",
      " \n",
      "Save the object masks into a joint netCDF\n",
      "Saved: /work/aa0238/a271093/results/MOAAP/IVT_Tracking/NorESM_control_remapped_3x/ObjectMasks_MOAPP_ICON_100and85controlperc_remapped_3x_1997_01_01-1997_08_01.nc\n",
      "        00:00:23.47\n",
      "clean up /work/aa0238/a271093/results/MOAAP/IVT_Tracking/NorESM_control_remapped_3x/IVT_MOAPP_ICON_100and85controlperc_remapped_3x_1997_01_01-1997_07_01.pkl\n",
      "clean up finished\n",
      "clean up /work/aa0238/a271093/results/MOAAP/IVT_Tracking/NorESM_control_remapped_3x/ARs_MOAPP_ICON_100and85controlperc_remapped_3x_1997_01_01-1997_07_01.pkl\n",
      "clean up finished\n",
      "correct nc-file with \n",
      " cdo -selmon,1,2,3,4,5,6 /work/aa0238/a271093/results/MOAAP/IVT_Tracking/NorESM_control_remapped_3x/ObjectMasks_MOAPP_ICON_100and85controlperc_remapped_3x_1997_01_01-1997_08_01.nc /work/aa0238/a271093/results/MOAAP/IVT_Tracking/NorESM_control_remapped_3x/ObjectMasks_MOAPP_ICON_100and85controlperc_remapped_3x_1997_01_01-1997_07_01_corrected.nc\n",
      "\n",
      " \n",
      " \n",
      " \n",
      "\n",
      "1997-07-01 00:00:00 1998-02-01 00:00:00\n",
      "Mergetime /work/aa0238/a271093/data/Jan_runs/ICON_NorESM_control/NorESM_control_remapped_3x/IVTu/IVTu_1997010100-1997123123_remapped_3x.nc /work/aa0238/a271093/data/Jan_runs/ICON_NorESM_control/NorESM_control_remapped_3x/IVTu/IVTu_1998010100-1998123123_remapped_3x.nc  /work/aa0238/a271093/scratch/mergedIVTu_1997_1998_remapped_3x.nc\n",
      "Mergetime /work/aa0238/a271093/data/Jan_runs/ICON_NorESM_control/NorESM_control_remapped_3x/IVTv/IVTv_1997010100-1997123123_remapped_3x.nc /work/aa0238/a271093/data/Jan_runs/ICON_NorESM_control/NorESM_control_remapped_3x/IVTv/IVTv_1998010100-1998123123_remapped_3x.nc  /work/aa0238/a271093/scratch/mergedIVTv_1997_1998_remapped_3x.nc\n",
      " \n",
      "The provided variables allow tracking the following phenomena\n",
      " \n",
      "|  phenomenon  | tracking |\n",
      "---------------------------\n",
      "   Jetstream   |   no\n",
      "   PSL CY/ACY  |   no\n",
      "   Z500 CY/ACY |   no\n",
      "   COLs        |   no\n",
      "   IVT ARs     |   yes\n",
      "   MS ARs      |   no\n",
      "   Fronts      |   no\n",
      "   TCs         |   no\n",
      "   MCSs        |   no\n",
      "   Equ. Waves  |   no\n",
      "---------------------------\n",
      " \n",
      "======> track IVT streams and atmospheric rivers (ARs)\n",
      "        3050 object found\n",
      "        break up long living IVT objects that have many elements\n"
     ]
    },
    {
     "name": "stderr",
     "output_type": "stream",
     "text": [
      "100%|██████████| 636/636 [00:23<00:00, 26.74it/s]\n"
     ]
    },
    {
     "name": "stdout",
     "output_type": "stream",
     "text": [
      "        00:00:29.83\n",
      "9\n",
      "            Loop over 1319 objects\n"
     ]
    },
    {
     "name": "stderr",
     "output_type": "stream",
     "text": [
      "/work/aa0238/a271093/Scripts/MOAAP/src/Tracking_Functions.py:255: RuntimeWarning: All-NaN slice encountered\n",
      "  obj_min = np.nanmin(data_slice, axis=(1, 2))\n",
      "/work/aa0238/a271093/Scripts/MOAAP/src/Tracking_Functions.py:256: RuntimeWarning: All-NaN slice encountered\n",
      "  obj_max = np.nanmax(data_slice, axis=(1, 2))\n",
      "/work/aa0238/a271093/Scripts/MOAAP/src/Tracking_Functions.py:257: RuntimeWarning: Mean of empty slice\n",
      "  obj_mean = np.nanmean(data_slice, axis=(1, 2))\n",
      "/work/aa0238/a271093/Conda/MOAAP_env/lib/python3.12/site-packages/scipy/ndimage/_measurements.py:1541: RuntimeWarning: invalid value encountered in scalar divide\n",
      "  results = [sum(input * grids[dir].astype(float), labels, index) / normalizer\n"
     ]
    },
    {
     "name": "stdout",
     "output_type": "stream",
     "text": [
      "        check if MSs quallify as ARs\n"
     ]
    },
    {
     "name": "stderr",
     "output_type": "stream",
     "text": [
      "/work/aa0238/a271093/Scripts/MOAAP/src/Tracking_Functions.py:4591: RuntimeWarning: divide by zero encountered in scalar divide\n",
      "  if DIST.max() / DIST.min() < AR_width_lenght_ratio:\n"
     ]
    },
    {
     "name": "stdout",
     "output_type": "stream",
     "text": [
      "            Loop over 1317 objects\n",
      "        00:01:08.82\n",
      " \n",
      "Save the object masks into a joint netCDF\n",
      "Saved: /work/aa0238/a271093/results/MOAAP/IVT_Tracking/NorESM_control_remapped_3x/ObjectMasks_MOAPP_ICON_100and85controlperc_remapped_3x_1997_07_01-1998_02_01.nc\n",
      "        00:00:24.14\n",
      "clean up /work/aa0238/a271093/results/MOAAP/IVT_Tracking/NorESM_control_remapped_3x/IVT_MOAPP_ICON_100and85controlperc_remapped_3x_1997_07_01-1998_01_01.pkl\n",
      "clean up finished\n",
      "clean up /work/aa0238/a271093/results/MOAAP/IVT_Tracking/NorESM_control_remapped_3x/ARs_MOAPP_ICON_100and85controlperc_remapped_3x_1997_07_01-1998_01_01.pkl\n",
      "clean up finished\n",
      "correct nc-file with \n",
      " cdo -selmon,6,7,8,9,10,11,12 /work/aa0238/a271093/results/MOAAP/IVT_Tracking/NorESM_control_remapped_3x/ObjectMasks_MOAPP_ICON_100and85controlperc_remapped_3x_1997_07_01-1998_02_01.nc /work/aa0238/a271093/results/MOAAP/IVT_Tracking/NorESM_control_remapped_3x/ObjectMasks_MOAPP_ICON_100and85controlperc_remapped_3x_1997_07_01-1998_01_01_corrected.nc\n",
      "\n",
      " \n",
      " \n",
      " \n",
      "\n",
      "1998-01-01 00:00:00 1998-08-01 00:00:00\n",
      " \n",
      "The provided variables allow tracking the following phenomena\n",
      " \n",
      "|  phenomenon  | tracking |\n",
      "---------------------------\n",
      "   Jetstream   |   no\n",
      "   PSL CY/ACY  |   no\n",
      "   Z500 CY/ACY |   no\n",
      "   COLs        |   no\n",
      "   IVT ARs     |   yes\n",
      "   MS ARs      |   no\n",
      "   Fronts      |   no\n",
      "   TCs         |   no\n",
      "   MCSs        |   no\n",
      "   Equ. Waves  |   no\n",
      "---------------------------\n",
      " \n",
      "======> track IVT streams and atmospheric rivers (ARs)\n",
      "        3259 object found\n",
      "        break up long living IVT objects that have many elements\n"
     ]
    },
    {
     "name": "stderr",
     "output_type": "stream",
     "text": [
      "100%|██████████| 642/642 [00:22<00:00, 28.57it/s]\n"
     ]
    },
    {
     "name": "stdout",
     "output_type": "stream",
     "text": [
      "        00:00:28.29\n",
      "9\n",
      "            Loop over 1379 objects\n"
     ]
    },
    {
     "name": "stderr",
     "output_type": "stream",
     "text": [
      "/work/aa0238/a271093/Scripts/MOAAP/src/Tracking_Functions.py:255: RuntimeWarning: All-NaN slice encountered\n",
      "  obj_min = np.nanmin(data_slice, axis=(1, 2))\n",
      "/work/aa0238/a271093/Scripts/MOAAP/src/Tracking_Functions.py:256: RuntimeWarning: All-NaN slice encountered\n",
      "  obj_max = np.nanmax(data_slice, axis=(1, 2))\n",
      "/work/aa0238/a271093/Scripts/MOAAP/src/Tracking_Functions.py:257: RuntimeWarning: Mean of empty slice\n",
      "  obj_mean = np.nanmean(data_slice, axis=(1, 2))\n",
      "/work/aa0238/a271093/Conda/MOAAP_env/lib/python3.12/site-packages/scipy/ndimage/_measurements.py:1541: RuntimeWarning: invalid value encountered in scalar divide\n",
      "  results = [sum(input * grids[dir].astype(float), labels, index) / normalizer\n"
     ]
    },
    {
     "name": "stdout",
     "output_type": "stream",
     "text": [
      "        check if MSs quallify as ARs\n"
     ]
    },
    {
     "name": "stderr",
     "output_type": "stream",
     "text": [
      "/work/aa0238/a271093/Scripts/MOAAP/src/Tracking_Functions.py:4591: RuntimeWarning: divide by zero encountered in scalar divide\n",
      "  if DIST.max() / DIST.min() < AR_width_lenght_ratio:\n"
     ]
    },
    {
     "name": "stdout",
     "output_type": "stream",
     "text": [
      "            Loop over 1377 objects\n",
      "        00:01:07.61\n",
      " \n",
      "Save the object masks into a joint netCDF\n",
      "Saved: /work/aa0238/a271093/results/MOAAP/IVT_Tracking/NorESM_control_remapped_3x/ObjectMasks_MOAPP_ICON_100and85controlperc_remapped_3x_1998_01_01-1998_08_01.nc\n",
      "        00:00:23.79\n",
      "clean up /work/aa0238/a271093/results/MOAAP/IVT_Tracking/NorESM_control_remapped_3x/IVT_MOAPP_ICON_100and85controlperc_remapped_3x_1998_01_01-1998_07_01.pkl\n",
      "clean up finished\n",
      "clean up /work/aa0238/a271093/results/MOAAP/IVT_Tracking/NorESM_control_remapped_3x/ARs_MOAPP_ICON_100and85controlperc_remapped_3x_1998_01_01-1998_07_01.pkl\n",
      "clean up finished\n",
      "correct nc-file with \n",
      " cdo -selmon,1,2,3,4,5,6 /work/aa0238/a271093/results/MOAAP/IVT_Tracking/NorESM_control_remapped_3x/ObjectMasks_MOAPP_ICON_100and85controlperc_remapped_3x_1998_01_01-1998_08_01.nc /work/aa0238/a271093/results/MOAAP/IVT_Tracking/NorESM_control_remapped_3x/ObjectMasks_MOAPP_ICON_100and85controlperc_remapped_3x_1998_01_01-1998_07_01_corrected.nc\n",
      "\n",
      " \n",
      " \n",
      " \n",
      "\n",
      "1998-07-01 00:00:00 1999-02-01 00:00:00\n",
      "Mergetime /work/aa0238/a271093/data/Jan_runs/ICON_NorESM_control/NorESM_control_remapped_3x/IVTu/IVTu_1998010100-1998123123_remapped_3x.nc /work/aa0238/a271093/data/Jan_runs/ICON_NorESM_control/NorESM_control_remapped_3x/IVTu/IVTu_1999010100-1999123123_remapped_3x.nc  /work/aa0238/a271093/scratch/mergedIVTu_1998_1999_remapped_3x.nc\n",
      "Mergetime /work/aa0238/a271093/data/Jan_runs/ICON_NorESM_control/NorESM_control_remapped_3x/IVTv/IVTv_1998010100-1998123123_remapped_3x.nc /work/aa0238/a271093/data/Jan_runs/ICON_NorESM_control/NorESM_control_remapped_3x/IVTv/IVTv_1999010100-1999123123_remapped_3x.nc  /work/aa0238/a271093/scratch/mergedIVTv_1998_1999_remapped_3x.nc\n",
      " \n",
      "The provided variables allow tracking the following phenomena\n",
      " \n",
      "|  phenomenon  | tracking |\n",
      "---------------------------\n",
      "   Jetstream   |   no\n",
      "   PSL CY/ACY  |   no\n",
      "   Z500 CY/ACY |   no\n",
      "   COLs        |   no\n",
      "   IVT ARs     |   yes\n",
      "   MS ARs      |   no\n",
      "   Fronts      |   no\n",
      "   TCs         |   no\n",
      "   MCSs        |   no\n",
      "   Equ. Waves  |   no\n",
      "---------------------------\n",
      " \n",
      "======> track IVT streams and atmospheric rivers (ARs)\n",
      "        2967 object found\n",
      "        break up long living IVT objects that have many elements\n"
     ]
    },
    {
     "name": "stderr",
     "output_type": "stream",
     "text": [
      "100%|██████████| 595/595 [00:21<00:00, 27.32it/s]\n"
     ]
    },
    {
     "name": "stdout",
     "output_type": "stream",
     "text": [
      "        00:00:27.64\n",
      "9\n",
      "            Loop over 1204 objects\n"
     ]
    },
    {
     "name": "stderr",
     "output_type": "stream",
     "text": [
      "/work/aa0238/a271093/Scripts/MOAAP/src/Tracking_Functions.py:255: RuntimeWarning: All-NaN slice encountered\n",
      "  obj_min = np.nanmin(data_slice, axis=(1, 2))\n",
      "/work/aa0238/a271093/Scripts/MOAAP/src/Tracking_Functions.py:256: RuntimeWarning: All-NaN slice encountered\n",
      "  obj_max = np.nanmax(data_slice, axis=(1, 2))\n",
      "/work/aa0238/a271093/Scripts/MOAAP/src/Tracking_Functions.py:257: RuntimeWarning: Mean of empty slice\n",
      "  obj_mean = np.nanmean(data_slice, axis=(1, 2))\n",
      "/work/aa0238/a271093/Conda/MOAAP_env/lib/python3.12/site-packages/scipy/ndimage/_measurements.py:1541: RuntimeWarning: invalid value encountered in scalar divide\n",
      "  results = [sum(input * grids[dir].astype(float), labels, index) / normalizer\n"
     ]
    },
    {
     "name": "stdout",
     "output_type": "stream",
     "text": [
      "        check if MSs quallify as ARs\n"
     ]
    },
    {
     "name": "stderr",
     "output_type": "stream",
     "text": [
      "/work/aa0238/a271093/Scripts/MOAAP/src/Tracking_Functions.py:4591: RuntimeWarning: divide by zero encountered in scalar divide\n",
      "  if DIST.max() / DIST.min() < AR_width_lenght_ratio:\n"
     ]
    },
    {
     "name": "stdout",
     "output_type": "stream",
     "text": [
      "            Loop over 1202 objects\n",
      "        00:01:02.28\n",
      " \n",
      "Save the object masks into a joint netCDF\n",
      "Saved: /work/aa0238/a271093/results/MOAAP/IVT_Tracking/NorESM_control_remapped_3x/ObjectMasks_MOAPP_ICON_100and85controlperc_remapped_3x_1998_07_01-1999_02_01.nc\n",
      "        00:00:24.09\n",
      "clean up /work/aa0238/a271093/results/MOAAP/IVT_Tracking/NorESM_control_remapped_3x/IVT_MOAPP_ICON_100and85controlperc_remapped_3x_1998_07_01-1999_01_01.pkl\n",
      "clean up finished\n",
      "clean up /work/aa0238/a271093/results/MOAAP/IVT_Tracking/NorESM_control_remapped_3x/ARs_MOAPP_ICON_100and85controlperc_remapped_3x_1998_07_01-1999_01_01.pkl\n",
      "clean up finished\n",
      "correct nc-file with \n",
      " cdo -selmon,6,7,8,9,10,11,12 /work/aa0238/a271093/results/MOAAP/IVT_Tracking/NorESM_control_remapped_3x/ObjectMasks_MOAPP_ICON_100and85controlperc_remapped_3x_1998_07_01-1999_02_01.nc /work/aa0238/a271093/results/MOAAP/IVT_Tracking/NorESM_control_remapped_3x/ObjectMasks_MOAPP_ICON_100and85controlperc_remapped_3x_1998_07_01-1999_01_01_corrected.nc\n",
      "\n",
      " \n",
      " \n",
      " \n",
      "\n",
      "1999-01-01 00:00:00 1999-08-01 00:00:00\n",
      " \n",
      "The provided variables allow tracking the following phenomena\n",
      " \n",
      "|  phenomenon  | tracking |\n",
      "---------------------------\n",
      "   Jetstream   |   no\n",
      "   PSL CY/ACY  |   no\n",
      "   Z500 CY/ACY |   no\n",
      "   COLs        |   no\n",
      "   IVT ARs     |   yes\n",
      "   MS ARs      |   no\n",
      "   Fronts      |   no\n",
      "   TCs         |   no\n",
      "   MCSs        |   no\n",
      "   Equ. Waves  |   no\n",
      "---------------------------\n",
      " \n",
      "======> track IVT streams and atmospheric rivers (ARs)\n",
      "        3060 object found\n",
      "        break up long living IVT objects that have many elements\n"
     ]
    },
    {
     "name": "stderr",
     "output_type": "stream",
     "text": [
      "100%|██████████| 631/631 [00:23<00:00, 27.35it/s]\n"
     ]
    },
    {
     "name": "stdout",
     "output_type": "stream",
     "text": [
      "        00:00:28.59\n",
      "9\n",
      "            Loop over 1231 objects\n"
     ]
    },
    {
     "name": "stderr",
     "output_type": "stream",
     "text": [
      "/work/aa0238/a271093/Scripts/MOAAP/src/Tracking_Functions.py:255: RuntimeWarning: All-NaN slice encountered\n",
      "  obj_min = np.nanmin(data_slice, axis=(1, 2))\n",
      "/work/aa0238/a271093/Scripts/MOAAP/src/Tracking_Functions.py:256: RuntimeWarning: All-NaN slice encountered\n",
      "  obj_max = np.nanmax(data_slice, axis=(1, 2))\n",
      "/work/aa0238/a271093/Scripts/MOAAP/src/Tracking_Functions.py:257: RuntimeWarning: Mean of empty slice\n",
      "  obj_mean = np.nanmean(data_slice, axis=(1, 2))\n",
      "/work/aa0238/a271093/Conda/MOAAP_env/lib/python3.12/site-packages/scipy/ndimage/_measurements.py:1541: RuntimeWarning: invalid value encountered in scalar divide\n",
      "  results = [sum(input * grids[dir].astype(float), labels, index) / normalizer\n"
     ]
    },
    {
     "name": "stdout",
     "output_type": "stream",
     "text": [
      "        check if MSs quallify as ARs\n"
     ]
    },
    {
     "name": "stderr",
     "output_type": "stream",
     "text": [
      "/work/aa0238/a271093/Scripts/MOAAP/src/Tracking_Functions.py:4591: RuntimeWarning: divide by zero encountered in scalar divide\n",
      "  if DIST.max() / DIST.min() < AR_width_lenght_ratio:\n"
     ]
    },
    {
     "name": "stdout",
     "output_type": "stream",
     "text": [
      "            Loop over 1229 objects\n",
      "        00:01:03.04\n",
      " \n",
      "Save the object masks into a joint netCDF\n",
      "Saved: /work/aa0238/a271093/results/MOAAP/IVT_Tracking/NorESM_control_remapped_3x/ObjectMasks_MOAPP_ICON_100and85controlperc_remapped_3x_1999_01_01-1999_08_01.nc\n",
      "        00:00:23.59\n",
      "clean up /work/aa0238/a271093/results/MOAAP/IVT_Tracking/NorESM_control_remapped_3x/IVT_MOAPP_ICON_100and85controlperc_remapped_3x_1999_01_01-1999_07_01.pkl\n",
      "clean up finished\n",
      "clean up /work/aa0238/a271093/results/MOAAP/IVT_Tracking/NorESM_control_remapped_3x/ARs_MOAPP_ICON_100and85controlperc_remapped_3x_1999_01_01-1999_07_01.pkl\n",
      "clean up finished\n",
      "correct nc-file with \n",
      " cdo -selmon,1,2,3,4,5,6 /work/aa0238/a271093/results/MOAAP/IVT_Tracking/NorESM_control_remapped_3x/ObjectMasks_MOAPP_ICON_100and85controlperc_remapped_3x_1999_01_01-1999_08_01.nc /work/aa0238/a271093/results/MOAAP/IVT_Tracking/NorESM_control_remapped_3x/ObjectMasks_MOAPP_ICON_100and85controlperc_remapped_3x_1999_01_01-1999_07_01_corrected.nc\n",
      "\n",
      " \n",
      " \n",
      " \n",
      "\n",
      "1999-07-01 00:00:00 2000-02-01 00:00:00\n",
      "Mergetime /work/aa0238/a271093/data/Jan_runs/ICON_NorESM_control/NorESM_control_remapped_3x/IVTu/IVTu_1999010100-1999123123_remapped_3x.nc /work/aa0238/a271093/data/Jan_runs/ICON_NorESM_control/NorESM_control_remapped_3x/IVTu/IVTu_2000010100-2000123123_remapped_3x.nc  /work/aa0238/a271093/scratch/mergedIVTu_1999_2000_remapped_3x.nc\n",
      "Mergetime /work/aa0238/a271093/data/Jan_runs/ICON_NorESM_control/NorESM_control_remapped_3x/IVTv/IVTv_1999010100-1999123123_remapped_3x.nc /work/aa0238/a271093/data/Jan_runs/ICON_NorESM_control/NorESM_control_remapped_3x/IVTv/IVTv_2000010100-2000123123_remapped_3x.nc  /work/aa0238/a271093/scratch/mergedIVTv_1999_2000_remapped_3x.nc\n",
      " \n",
      "The provided variables allow tracking the following phenomena\n",
      " \n",
      "|  phenomenon  | tracking |\n",
      "---------------------------\n",
      "   Jetstream   |   no\n",
      "   PSL CY/ACY  |   no\n",
      "   Z500 CY/ACY |   no\n",
      "   COLs        |   no\n",
      "   IVT ARs     |   yes\n",
      "   MS ARs      |   no\n",
      "   Fronts      |   no\n",
      "   TCs         |   no\n",
      "   MCSs        |   no\n",
      "   Equ. Waves  |   no\n",
      "---------------------------\n",
      " \n",
      "======> track IVT streams and atmospheric rivers (ARs)\n",
      "        2943 object found\n",
      "        break up long living IVT objects that have many elements\n"
     ]
    },
    {
     "name": "stderr",
     "output_type": "stream",
     "text": [
      "100%|██████████| 619/619 [00:21<00:00, 28.48it/s]\n"
     ]
    },
    {
     "name": "stdout",
     "output_type": "stream",
     "text": [
      "        00:00:27.69\n",
      "9\n",
      "            Loop over 1220 objects\n"
     ]
    },
    {
     "name": "stderr",
     "output_type": "stream",
     "text": [
      "/work/aa0238/a271093/Scripts/MOAAP/src/Tracking_Functions.py:255: RuntimeWarning: All-NaN slice encountered\n",
      "  obj_min = np.nanmin(data_slice, axis=(1, 2))\n",
      "/work/aa0238/a271093/Scripts/MOAAP/src/Tracking_Functions.py:256: RuntimeWarning: All-NaN slice encountered\n",
      "  obj_max = np.nanmax(data_slice, axis=(1, 2))\n",
      "/work/aa0238/a271093/Scripts/MOAAP/src/Tracking_Functions.py:257: RuntimeWarning: Mean of empty slice\n",
      "  obj_mean = np.nanmean(data_slice, axis=(1, 2))\n",
      "/work/aa0238/a271093/Conda/MOAAP_env/lib/python3.12/site-packages/scipy/ndimage/_measurements.py:1541: RuntimeWarning: invalid value encountered in scalar divide\n",
      "  results = [sum(input * grids[dir].astype(float), labels, index) / normalizer\n"
     ]
    },
    {
     "name": "stdout",
     "output_type": "stream",
     "text": [
      "        check if MSs quallify as ARs\n"
     ]
    },
    {
     "name": "stderr",
     "output_type": "stream",
     "text": [
      "/work/aa0238/a271093/Scripts/MOAAP/src/Tracking_Functions.py:4591: RuntimeWarning: divide by zero encountered in scalar divide\n",
      "  if DIST.max() / DIST.min() < AR_width_lenght_ratio:\n"
     ]
    },
    {
     "name": "stdout",
     "output_type": "stream",
     "text": [
      "            Loop over 1216 objects\n",
      "        00:01:04.83\n",
      " \n",
      "Save the object masks into a joint netCDF\n",
      "Saved: /work/aa0238/a271093/results/MOAAP/IVT_Tracking/NorESM_control_remapped_3x/ObjectMasks_MOAPP_ICON_100and85controlperc_remapped_3x_1999_07_01-2000_02_01.nc\n",
      "        00:00:24.02\n",
      "clean up /work/aa0238/a271093/results/MOAAP/IVT_Tracking/NorESM_control_remapped_3x/IVT_MOAPP_ICON_100and85controlperc_remapped_3x_1999_07_01-2000_01_01.pkl\n",
      "clean up finished\n",
      "clean up /work/aa0238/a271093/results/MOAAP/IVT_Tracking/NorESM_control_remapped_3x/ARs_MOAPP_ICON_100and85controlperc_remapped_3x_1999_07_01-2000_01_01.pkl\n",
      "clean up finished\n",
      "correct nc-file with \n",
      " cdo -selmon,6,7,8,9,10,11,12 /work/aa0238/a271093/results/MOAAP/IVT_Tracking/NorESM_control_remapped_3x/ObjectMasks_MOAPP_ICON_100and85controlperc_remapped_3x_1999_07_01-2000_02_01.nc /work/aa0238/a271093/results/MOAAP/IVT_Tracking/NorESM_control_remapped_3x/ObjectMasks_MOAPP_ICON_100and85controlperc_remapped_3x_1999_07_01-2000_01_01_corrected.nc\n",
      "\n",
      " \n",
      " \n",
      " \n",
      "\n",
      "2000-01-01 00:00:00 2000-08-01 00:00:00\n",
      " \n",
      "The provided variables allow tracking the following phenomena\n",
      " \n",
      "|  phenomenon  | tracking |\n",
      "---------------------------\n",
      "   Jetstream   |   no\n",
      "   PSL CY/ACY  |   no\n",
      "   Z500 CY/ACY |   no\n",
      "   COLs        |   no\n",
      "   IVT ARs     |   yes\n",
      "   MS ARs      |   no\n",
      "   Fronts      |   no\n",
      "   TCs         |   no\n",
      "   MCSs        |   no\n",
      "   Equ. Waves  |   no\n",
      "---------------------------\n",
      " \n",
      "======> track IVT streams and atmospheric rivers (ARs)\n",
      "        3409 object found\n",
      "        break up long living IVT objects that have many elements\n"
     ]
    },
    {
     "name": "stderr",
     "output_type": "stream",
     "text": [
      "100%|██████████| 694/694 [00:25<00:00, 27.21it/s]\n"
     ]
    },
    {
     "name": "stdout",
     "output_type": "stream",
     "text": [
      "        00:00:31.34\n",
      "9\n",
      "            Loop over 1301 objects\n"
     ]
    },
    {
     "name": "stderr",
     "output_type": "stream",
     "text": [
      "/work/aa0238/a271093/Scripts/MOAAP/src/Tracking_Functions.py:255: RuntimeWarning: All-NaN slice encountered\n",
      "  obj_min = np.nanmin(data_slice, axis=(1, 2))\n",
      "/work/aa0238/a271093/Scripts/MOAAP/src/Tracking_Functions.py:256: RuntimeWarning: All-NaN slice encountered\n",
      "  obj_max = np.nanmax(data_slice, axis=(1, 2))\n",
      "/work/aa0238/a271093/Scripts/MOAAP/src/Tracking_Functions.py:257: RuntimeWarning: Mean of empty slice\n",
      "  obj_mean = np.nanmean(data_slice, axis=(1, 2))\n",
      "/work/aa0238/a271093/Conda/MOAAP_env/lib/python3.12/site-packages/scipy/ndimage/_measurements.py:1541: RuntimeWarning: invalid value encountered in scalar divide\n",
      "  results = [sum(input * grids[dir].astype(float), labels, index) / normalizer\n"
     ]
    },
    {
     "name": "stdout",
     "output_type": "stream",
     "text": [
      "        check if MSs quallify as ARs\n"
     ]
    },
    {
     "name": "stderr",
     "output_type": "stream",
     "text": [
      "/work/aa0238/a271093/Scripts/MOAAP/src/Tracking_Functions.py:4591: RuntimeWarning: divide by zero encountered in scalar divide\n",
      "  if DIST.max() / DIST.min() < AR_width_lenght_ratio:\n"
     ]
    },
    {
     "name": "stdout",
     "output_type": "stream",
     "text": [
      "            Loop over 1297 objects\n",
      "        00:01:07.96\n",
      " \n",
      "Save the object masks into a joint netCDF\n",
      "Saved: /work/aa0238/a271093/results/MOAAP/IVT_Tracking/NorESM_control_remapped_3x/ObjectMasks_MOAPP_ICON_100and85controlperc_remapped_3x_2000_01_01-2000_08_01.nc\n",
      "        00:00:23.73\n",
      "clean up /work/aa0238/a271093/results/MOAAP/IVT_Tracking/NorESM_control_remapped_3x/IVT_MOAPP_ICON_100and85controlperc_remapped_3x_2000_01_01-2000_07_01.pkl\n",
      "clean up finished\n",
      "clean up /work/aa0238/a271093/results/MOAAP/IVT_Tracking/NorESM_control_remapped_3x/ARs_MOAPP_ICON_100and85controlperc_remapped_3x_2000_01_01-2000_07_01.pkl\n",
      "clean up finished\n",
      "correct nc-file with \n",
      " cdo -selmon,1,2,3,4,5,6 /work/aa0238/a271093/results/MOAAP/IVT_Tracking/NorESM_control_remapped_3x/ObjectMasks_MOAPP_ICON_100and85controlperc_remapped_3x_2000_01_01-2000_08_01.nc /work/aa0238/a271093/results/MOAAP/IVT_Tracking/NorESM_control_remapped_3x/ObjectMasks_MOAPP_ICON_100and85controlperc_remapped_3x_2000_01_01-2000_07_01_corrected.nc\n",
      "\n",
      " \n",
      " \n",
      " \n",
      "\n",
      "2000-07-01 00:00:00 2001-02-01 00:00:00\n",
      "Mergetime /work/aa0238/a271093/data/Jan_runs/ICON_NorESM_control/NorESM_control_remapped_3x/IVTu/IVTu_2000010100-2000123123_remapped_3x.nc /work/aa0238/a271093/data/Jan_runs/ICON_NorESM_control/NorESM_control_remapped_3x/IVTu/IVTu_2001010100-2001123123_remapped_3x.nc  /work/aa0238/a271093/scratch/mergedIVTu_2000_2001_remapped_3x.nc\n",
      "Mergetime /work/aa0238/a271093/data/Jan_runs/ICON_NorESM_control/NorESM_control_remapped_3x/IVTv/IVTv_2000010100-2000123123_remapped_3x.nc /work/aa0238/a271093/data/Jan_runs/ICON_NorESM_control/NorESM_control_remapped_3x/IVTv/IVTv_2001010100-2001123123_remapped_3x.nc  /work/aa0238/a271093/scratch/mergedIVTv_2000_2001_remapped_3x.nc\n",
      " \n",
      "The provided variables allow tracking the following phenomena\n",
      " \n",
      "|  phenomenon  | tracking |\n",
      "---------------------------\n",
      "   Jetstream   |   no\n",
      "   PSL CY/ACY  |   no\n",
      "   Z500 CY/ACY |   no\n",
      "   COLs        |   no\n",
      "   IVT ARs     |   yes\n",
      "   MS ARs      |   no\n",
      "   Fronts      |   no\n",
      "   TCs         |   no\n",
      "   MCSs        |   no\n",
      "   Equ. Waves  |   no\n",
      "---------------------------\n",
      " \n",
      "======> track IVT streams and atmospheric rivers (ARs)\n",
      "        2953 object found\n",
      "        break up long living IVT objects that have many elements\n"
     ]
    },
    {
     "name": "stderr",
     "output_type": "stream",
     "text": [
      "100%|██████████| 672/672 [00:22<00:00, 30.33it/s]\n"
     ]
    },
    {
     "name": "stdout",
     "output_type": "stream",
     "text": [
      "        00:00:27.95\n",
      "9\n",
      "            Loop over 1290 objects\n"
     ]
    },
    {
     "name": "stderr",
     "output_type": "stream",
     "text": [
      "/work/aa0238/a271093/Scripts/MOAAP/src/Tracking_Functions.py:255: RuntimeWarning: All-NaN slice encountered\n",
      "  obj_min = np.nanmin(data_slice, axis=(1, 2))\n",
      "/work/aa0238/a271093/Scripts/MOAAP/src/Tracking_Functions.py:256: RuntimeWarning: All-NaN slice encountered\n",
      "  obj_max = np.nanmax(data_slice, axis=(1, 2))\n",
      "/work/aa0238/a271093/Scripts/MOAAP/src/Tracking_Functions.py:257: RuntimeWarning: Mean of empty slice\n",
      "  obj_mean = np.nanmean(data_slice, axis=(1, 2))\n",
      "/work/aa0238/a271093/Conda/MOAAP_env/lib/python3.12/site-packages/scipy/ndimage/_measurements.py:1541: RuntimeWarning: invalid value encountered in scalar divide\n",
      "  results = [sum(input * grids[dir].astype(float), labels, index) / normalizer\n"
     ]
    },
    {
     "name": "stdout",
     "output_type": "stream",
     "text": [
      "        check if MSs quallify as ARs\n"
     ]
    },
    {
     "name": "stderr",
     "output_type": "stream",
     "text": [
      "/work/aa0238/a271093/Scripts/MOAAP/src/Tracking_Functions.py:4591: RuntimeWarning: divide by zero encountered in scalar divide\n",
      "  if DIST.max() / DIST.min() < AR_width_lenght_ratio:\n"
     ]
    },
    {
     "name": "stdout",
     "output_type": "stream",
     "text": [
      "            Loop over 1289 objects\n",
      "        00:01:03.70\n",
      " \n",
      "Save the object masks into a joint netCDF\n",
      "Saved: /work/aa0238/a271093/results/MOAAP/IVT_Tracking/NorESM_control_remapped_3x/ObjectMasks_MOAPP_ICON_100and85controlperc_remapped_3x_2000_07_01-2001_02_01.nc\n",
      "        00:00:23.93\n",
      "clean up /work/aa0238/a271093/results/MOAAP/IVT_Tracking/NorESM_control_remapped_3x/IVT_MOAPP_ICON_100and85controlperc_remapped_3x_2000_07_01-2001_01_01.pkl\n",
      "clean up finished\n",
      "clean up /work/aa0238/a271093/results/MOAAP/IVT_Tracking/NorESM_control_remapped_3x/ARs_MOAPP_ICON_100and85controlperc_remapped_3x_2000_07_01-2001_01_01.pkl\n",
      "clean up finished\n",
      "correct nc-file with \n",
      " cdo -selmon,6,7,8,9,10,11,12 /work/aa0238/a271093/results/MOAAP/IVT_Tracking/NorESM_control_remapped_3x/ObjectMasks_MOAPP_ICON_100and85controlperc_remapped_3x_2000_07_01-2001_02_01.nc /work/aa0238/a271093/results/MOAAP/IVT_Tracking/NorESM_control_remapped_3x/ObjectMasks_MOAPP_ICON_100and85controlperc_remapped_3x_2000_07_01-2001_01_01_corrected.nc\n",
      "\n",
      " \n",
      " \n",
      " \n",
      "\n",
      "2001-01-01 00:00:00 2001-08-01 00:00:00\n",
      " \n",
      "The provided variables allow tracking the following phenomena\n",
      " \n",
      "|  phenomenon  | tracking |\n",
      "---------------------------\n",
      "   Jetstream   |   no\n",
      "   PSL CY/ACY  |   no\n",
      "   Z500 CY/ACY |   no\n",
      "   COLs        |   no\n",
      "   IVT ARs     |   yes\n",
      "   MS ARs      |   no\n",
      "   Fronts      |   no\n",
      "   TCs         |   no\n",
      "   MCSs        |   no\n",
      "   Equ. Waves  |   no\n",
      "---------------------------\n",
      " \n",
      "======> track IVT streams and atmospheric rivers (ARs)\n",
      "        3168 object found\n",
      "        break up long living IVT objects that have many elements\n"
     ]
    },
    {
     "name": "stderr",
     "output_type": "stream",
     "text": [
      "100%|██████████| 696/696 [00:23<00:00, 30.21it/s]\n"
     ]
    },
    {
     "name": "stdout",
     "output_type": "stream",
     "text": [
      "        00:00:29.13\n",
      "9\n",
      "            Loop over 1292 objects\n"
     ]
    },
    {
     "name": "stderr",
     "output_type": "stream",
     "text": [
      "/work/aa0238/a271093/Scripts/MOAAP/src/Tracking_Functions.py:255: RuntimeWarning: All-NaN slice encountered\n",
      "  obj_min = np.nanmin(data_slice, axis=(1, 2))\n",
      "/work/aa0238/a271093/Scripts/MOAAP/src/Tracking_Functions.py:256: RuntimeWarning: All-NaN slice encountered\n",
      "  obj_max = np.nanmax(data_slice, axis=(1, 2))\n",
      "/work/aa0238/a271093/Scripts/MOAAP/src/Tracking_Functions.py:257: RuntimeWarning: Mean of empty slice\n",
      "  obj_mean = np.nanmean(data_slice, axis=(1, 2))\n",
      "/work/aa0238/a271093/Conda/MOAAP_env/lib/python3.12/site-packages/scipy/ndimage/_measurements.py:1541: RuntimeWarning: invalid value encountered in scalar divide\n",
      "  results = [sum(input * grids[dir].astype(float), labels, index) / normalizer\n"
     ]
    },
    {
     "name": "stdout",
     "output_type": "stream",
     "text": [
      "        check if MSs quallify as ARs\n"
     ]
    },
    {
     "name": "stderr",
     "output_type": "stream",
     "text": [
      "/work/aa0238/a271093/Scripts/MOAAP/src/Tracking_Functions.py:4591: RuntimeWarning: divide by zero encountered in scalar divide\n",
      "  if DIST.max() / DIST.min() < AR_width_lenght_ratio:\n"
     ]
    },
    {
     "name": "stdout",
     "output_type": "stream",
     "text": [
      "            Loop over 1291 objects\n",
      "        00:01:06.08\n",
      " \n",
      "Save the object masks into a joint netCDF\n",
      "Saved: /work/aa0238/a271093/results/MOAAP/IVT_Tracking/NorESM_control_remapped_3x/ObjectMasks_MOAPP_ICON_100and85controlperc_remapped_3x_2001_01_01-2001_08_01.nc\n",
      "        00:00:23.69\n",
      "clean up /work/aa0238/a271093/results/MOAAP/IVT_Tracking/NorESM_control_remapped_3x/IVT_MOAPP_ICON_100and85controlperc_remapped_3x_2001_01_01-2001_07_01.pkl\n",
      "clean up finished\n",
      "clean up /work/aa0238/a271093/results/MOAAP/IVT_Tracking/NorESM_control_remapped_3x/ARs_MOAPP_ICON_100and85controlperc_remapped_3x_2001_01_01-2001_07_01.pkl\n",
      "clean up finished\n",
      "correct nc-file with \n",
      " cdo -selmon,1,2,3,4,5,6 /work/aa0238/a271093/results/MOAAP/IVT_Tracking/NorESM_control_remapped_3x/ObjectMasks_MOAPP_ICON_100and85controlperc_remapped_3x_2001_01_01-2001_08_01.nc /work/aa0238/a271093/results/MOAAP/IVT_Tracking/NorESM_control_remapped_3x/ObjectMasks_MOAPP_ICON_100and85controlperc_remapped_3x_2001_01_01-2001_07_01_corrected.nc\n",
      "\n",
      " \n",
      " \n",
      " \n",
      "\n",
      "2001-07-01 00:00:00 2002-02-01 00:00:00\n",
      "Mergetime /work/aa0238/a271093/data/Jan_runs/ICON_NorESM_control/NorESM_control_remapped_3x/IVTu/IVTu_2001010100-2001123123_remapped_3x.nc /work/aa0238/a271093/data/Jan_runs/ICON_NorESM_control/NorESM_control_remapped_3x/IVTu/IVTu_2002010100-2002123123_remapped_3x.nc  /work/aa0238/a271093/scratch/mergedIVTu_2001_2002_remapped_3x.nc\n",
      "Mergetime /work/aa0238/a271093/data/Jan_runs/ICON_NorESM_control/NorESM_control_remapped_3x/IVTv/IVTv_2001010100-2001123123_remapped_3x.nc /work/aa0238/a271093/data/Jan_runs/ICON_NorESM_control/NorESM_control_remapped_3x/IVTv/IVTv_2002010100-2002123123_remapped_3x.nc  /work/aa0238/a271093/scratch/mergedIVTv_2001_2002_remapped_3x.nc\n",
      " \n",
      "The provided variables allow tracking the following phenomena\n",
      " \n",
      "|  phenomenon  | tracking |\n",
      "---------------------------\n",
      "   Jetstream   |   no\n",
      "   PSL CY/ACY  |   no\n",
      "   Z500 CY/ACY |   no\n",
      "   COLs        |   no\n",
      "   IVT ARs     |   yes\n",
      "   MS ARs      |   no\n",
      "   Fronts      |   no\n",
      "   TCs         |   no\n",
      "   MCSs        |   no\n",
      "   Equ. Waves  |   no\n",
      "---------------------------\n",
      " \n",
      "======> track IVT streams and atmospheric rivers (ARs)\n",
      "        2971 object found\n",
      "        break up long living IVT objects that have many elements\n"
     ]
    },
    {
     "name": "stderr",
     "output_type": "stream",
     "text": [
      "100%|██████████| 648/648 [00:23<00:00, 27.33it/s]\n"
     ]
    },
    {
     "name": "stdout",
     "output_type": "stream",
     "text": [
      "        00:00:29.65\n",
      "9\n",
      "            Loop over 1290 objects\n"
     ]
    },
    {
     "name": "stderr",
     "output_type": "stream",
     "text": [
      "/work/aa0238/a271093/Scripts/MOAAP/src/Tracking_Functions.py:255: RuntimeWarning: All-NaN slice encountered\n",
      "  obj_min = np.nanmin(data_slice, axis=(1, 2))\n",
      "/work/aa0238/a271093/Scripts/MOAAP/src/Tracking_Functions.py:256: RuntimeWarning: All-NaN slice encountered\n",
      "  obj_max = np.nanmax(data_slice, axis=(1, 2))\n",
      "/work/aa0238/a271093/Scripts/MOAAP/src/Tracking_Functions.py:257: RuntimeWarning: Mean of empty slice\n",
      "  obj_mean = np.nanmean(data_slice, axis=(1, 2))\n",
      "/work/aa0238/a271093/Conda/MOAAP_env/lib/python3.12/site-packages/scipy/ndimage/_measurements.py:1541: RuntimeWarning: invalid value encountered in scalar divide\n",
      "  results = [sum(input * grids[dir].astype(float), labels, index) / normalizer\n"
     ]
    },
    {
     "name": "stdout",
     "output_type": "stream",
     "text": [
      "        check if MSs quallify as ARs\n"
     ]
    },
    {
     "name": "stderr",
     "output_type": "stream",
     "text": [
      "/work/aa0238/a271093/Scripts/MOAAP/src/Tracking_Functions.py:4591: RuntimeWarning: divide by zero encountered in scalar divide\n",
      "  if DIST.max() / DIST.min() < AR_width_lenght_ratio:\n"
     ]
    },
    {
     "name": "stdout",
     "output_type": "stream",
     "text": [
      "            Loop over 1290 objects\n",
      "        00:01:07.67\n",
      " \n",
      "Save the object masks into a joint netCDF\n",
      "Saved: /work/aa0238/a271093/results/MOAAP/IVT_Tracking/NorESM_control_remapped_3x/ObjectMasks_MOAPP_ICON_100and85controlperc_remapped_3x_2001_07_01-2002_02_01.nc\n",
      "        00:00:24.01\n",
      "clean up /work/aa0238/a271093/results/MOAAP/IVT_Tracking/NorESM_control_remapped_3x/IVT_MOAPP_ICON_100and85controlperc_remapped_3x_2001_07_01-2002_01_01.pkl\n",
      "clean up finished\n",
      "clean up /work/aa0238/a271093/results/MOAAP/IVT_Tracking/NorESM_control_remapped_3x/ARs_MOAPP_ICON_100and85controlperc_remapped_3x_2001_07_01-2002_01_01.pkl\n",
      "clean up finished\n",
      "correct nc-file with \n",
      " cdo -selmon,6,7,8,9,10,11,12 /work/aa0238/a271093/results/MOAAP/IVT_Tracking/NorESM_control_remapped_3x/ObjectMasks_MOAPP_ICON_100and85controlperc_remapped_3x_2001_07_01-2002_02_01.nc /work/aa0238/a271093/results/MOAAP/IVT_Tracking/NorESM_control_remapped_3x/ObjectMasks_MOAPP_ICON_100and85controlperc_remapped_3x_2001_07_01-2002_01_01_corrected.nc\n",
      "\n",
      " \n",
      " \n",
      " \n",
      "\n",
      "2002-01-01 00:00:00 2002-08-01 00:00:00\n",
      " \n",
      "The provided variables allow tracking the following phenomena\n",
      " \n",
      "|  phenomenon  | tracking |\n",
      "---------------------------\n",
      "   Jetstream   |   no\n",
      "   PSL CY/ACY  |   no\n",
      "   Z500 CY/ACY |   no\n",
      "   COLs        |   no\n",
      "   IVT ARs     |   yes\n",
      "   MS ARs      |   no\n",
      "   Fronts      |   no\n",
      "   TCs         |   no\n",
      "   MCSs        |   no\n",
      "   Equ. Waves  |   no\n",
      "---------------------------\n",
      " \n",
      "======> track IVT streams and atmospheric rivers (ARs)\n",
      "        3378 object found\n",
      "        break up long living IVT objects that have many elements\n"
     ]
    },
    {
     "name": "stderr",
     "output_type": "stream",
     "text": [
      "100%|██████████| 706/706 [00:23<00:00, 29.66it/s]\n"
     ]
    },
    {
     "name": "stdout",
     "output_type": "stream",
     "text": [
      "        00:00:29.60\n",
      "9\n",
      "            Loop over 1377 objects\n"
     ]
    },
    {
     "name": "stderr",
     "output_type": "stream",
     "text": [
      "/work/aa0238/a271093/Scripts/MOAAP/src/Tracking_Functions.py:255: RuntimeWarning: All-NaN slice encountered\n",
      "  obj_min = np.nanmin(data_slice, axis=(1, 2))\n",
      "/work/aa0238/a271093/Scripts/MOAAP/src/Tracking_Functions.py:256: RuntimeWarning: All-NaN slice encountered\n",
      "  obj_max = np.nanmax(data_slice, axis=(1, 2))\n",
      "/work/aa0238/a271093/Scripts/MOAAP/src/Tracking_Functions.py:257: RuntimeWarning: Mean of empty slice\n",
      "  obj_mean = np.nanmean(data_slice, axis=(1, 2))\n",
      "/work/aa0238/a271093/Conda/MOAAP_env/lib/python3.12/site-packages/scipy/ndimage/_measurements.py:1541: RuntimeWarning: invalid value encountered in scalar divide\n",
      "  results = [sum(input * grids[dir].astype(float), labels, index) / normalizer\n"
     ]
    },
    {
     "name": "stdout",
     "output_type": "stream",
     "text": [
      "        check if MSs quallify as ARs\n"
     ]
    },
    {
     "name": "stderr",
     "output_type": "stream",
     "text": [
      "/work/aa0238/a271093/Scripts/MOAAP/src/Tracking_Functions.py:4591: RuntimeWarning: divide by zero encountered in scalar divide\n",
      "  if DIST.max() / DIST.min() < AR_width_lenght_ratio:\n"
     ]
    },
    {
     "name": "stdout",
     "output_type": "stream",
     "text": [
      "            Loop over 1377 objects\n",
      "        00:01:06.91\n",
      " \n",
      "Save the object masks into a joint netCDF\n",
      "Saved: /work/aa0238/a271093/results/MOAAP/IVT_Tracking/NorESM_control_remapped_3x/ObjectMasks_MOAPP_ICON_100and85controlperc_remapped_3x_2002_01_01-2002_08_01.nc\n",
      "        00:00:23.65\n",
      "clean up /work/aa0238/a271093/results/MOAAP/IVT_Tracking/NorESM_control_remapped_3x/IVT_MOAPP_ICON_100and85controlperc_remapped_3x_2002_01_01-2002_07_01.pkl\n",
      "clean up finished\n",
      "clean up /work/aa0238/a271093/results/MOAAP/IVT_Tracking/NorESM_control_remapped_3x/ARs_MOAPP_ICON_100and85controlperc_remapped_3x_2002_01_01-2002_07_01.pkl\n",
      "clean up finished\n",
      "correct nc-file with \n",
      " cdo -selmon,1,2,3,4,5,6 /work/aa0238/a271093/results/MOAAP/IVT_Tracking/NorESM_control_remapped_3x/ObjectMasks_MOAPP_ICON_100and85controlperc_remapped_3x_2002_01_01-2002_08_01.nc /work/aa0238/a271093/results/MOAAP/IVT_Tracking/NorESM_control_remapped_3x/ObjectMasks_MOAPP_ICON_100and85controlperc_remapped_3x_2002_01_01-2002_07_01_corrected.nc\n",
      "\n",
      " \n",
      " \n",
      " \n",
      "\n",
      "2002-07-01 00:00:00 2003-02-01 00:00:00\n",
      "Mergetime /work/aa0238/a271093/data/Jan_runs/ICON_NorESM_control/NorESM_control_remapped_3x/IVTu/IVTu_2002010100-2002123123_remapped_3x.nc /work/aa0238/a271093/data/Jan_runs/ICON_NorESM_control/NorESM_control_remapped_3x/IVTu/IVTu_2003010100-2003123123_remapped_3x.nc  /work/aa0238/a271093/scratch/mergedIVTu_2002_2003_remapped_3x.nc\n",
      "Mergetime /work/aa0238/a271093/data/Jan_runs/ICON_NorESM_control/NorESM_control_remapped_3x/IVTv/IVTv_2002010100-2002123123_remapped_3x.nc /work/aa0238/a271093/data/Jan_runs/ICON_NorESM_control/NorESM_control_remapped_3x/IVTv/IVTv_2003010100-2003123123_remapped_3x.nc  /work/aa0238/a271093/scratch/mergedIVTv_2002_2003_remapped_3x.nc\n",
      " \n",
      "The provided variables allow tracking the following phenomena\n",
      " \n",
      "|  phenomenon  | tracking |\n",
      "---------------------------\n",
      "   Jetstream   |   no\n",
      "   PSL CY/ACY  |   no\n",
      "   Z500 CY/ACY |   no\n",
      "   COLs        |   no\n",
      "   IVT ARs     |   yes\n",
      "   MS ARs      |   no\n",
      "   Fronts      |   no\n",
      "   TCs         |   no\n",
      "   MCSs        |   no\n",
      "   Equ. Waves  |   no\n",
      "---------------------------\n",
      " \n",
      "======> track IVT streams and atmospheric rivers (ARs)\n",
      "        2998 object found\n",
      "        break up long living IVT objects that have many elements\n"
     ]
    },
    {
     "name": "stderr",
     "output_type": "stream",
     "text": [
      "100%|██████████| 586/586 [00:23<00:00, 24.96it/s]\n"
     ]
    },
    {
     "name": "stdout",
     "output_type": "stream",
     "text": [
      "        00:00:29.77\n",
      "9\n",
      "            Loop over 1205 objects\n"
     ]
    },
    {
     "name": "stderr",
     "output_type": "stream",
     "text": [
      "/work/aa0238/a271093/Scripts/MOAAP/src/Tracking_Functions.py:255: RuntimeWarning: All-NaN slice encountered\n",
      "  obj_min = np.nanmin(data_slice, axis=(1, 2))\n",
      "/work/aa0238/a271093/Scripts/MOAAP/src/Tracking_Functions.py:256: RuntimeWarning: All-NaN slice encountered\n",
      "  obj_max = np.nanmax(data_slice, axis=(1, 2))\n",
      "/work/aa0238/a271093/Scripts/MOAAP/src/Tracking_Functions.py:257: RuntimeWarning: Mean of empty slice\n",
      "  obj_mean = np.nanmean(data_slice, axis=(1, 2))\n",
      "/work/aa0238/a271093/Conda/MOAAP_env/lib/python3.12/site-packages/scipy/ndimage/_measurements.py:1541: RuntimeWarning: invalid value encountered in scalar divide\n",
      "  results = [sum(input * grids[dir].astype(float), labels, index) / normalizer\n"
     ]
    },
    {
     "name": "stdout",
     "output_type": "stream",
     "text": [
      "        check if MSs quallify as ARs\n"
     ]
    },
    {
     "name": "stderr",
     "output_type": "stream",
     "text": [
      "/work/aa0238/a271093/Scripts/MOAAP/src/Tracking_Functions.py:4591: RuntimeWarning: divide by zero encountered in scalar divide\n",
      "  if DIST.max() / DIST.min() < AR_width_lenght_ratio:\n"
     ]
    },
    {
     "name": "stdout",
     "output_type": "stream",
     "text": [
      "            Loop over 1204 objects\n",
      "        00:01:06.80\n",
      " \n",
      "Save the object masks into a joint netCDF\n",
      "Saved: /work/aa0238/a271093/results/MOAAP/IVT_Tracking/NorESM_control_remapped_3x/ObjectMasks_MOAPP_ICON_100and85controlperc_remapped_3x_2002_07_01-2003_02_01.nc\n",
      "        00:00:24.00\n",
      "clean up /work/aa0238/a271093/results/MOAAP/IVT_Tracking/NorESM_control_remapped_3x/IVT_MOAPP_ICON_100and85controlperc_remapped_3x_2002_07_01-2003_01_01.pkl\n",
      "clean up finished\n",
      "clean up /work/aa0238/a271093/results/MOAAP/IVT_Tracking/NorESM_control_remapped_3x/ARs_MOAPP_ICON_100and85controlperc_remapped_3x_2002_07_01-2003_01_01.pkl\n",
      "clean up finished\n",
      "correct nc-file with \n",
      " cdo -selmon,6,7,8,9,10,11,12 /work/aa0238/a271093/results/MOAAP/IVT_Tracking/NorESM_control_remapped_3x/ObjectMasks_MOAPP_ICON_100and85controlperc_remapped_3x_2002_07_01-2003_02_01.nc /work/aa0238/a271093/results/MOAAP/IVT_Tracking/NorESM_control_remapped_3x/ObjectMasks_MOAPP_ICON_100and85controlperc_remapped_3x_2002_07_01-2003_01_01_corrected.nc\n",
      "\n",
      " \n",
      " \n",
      " \n",
      "\n",
      "2003-01-01 00:00:00 2003-08-01 00:00:00\n",
      " \n",
      "The provided variables allow tracking the following phenomena\n",
      " \n",
      "|  phenomenon  | tracking |\n",
      "---------------------------\n",
      "   Jetstream   |   no\n",
      "   PSL CY/ACY  |   no\n",
      "   Z500 CY/ACY |   no\n",
      "   COLs        |   no\n",
      "   IVT ARs     |   yes\n",
      "   MS ARs      |   no\n",
      "   Fronts      |   no\n",
      "   TCs         |   no\n",
      "   MCSs        |   no\n",
      "   Equ. Waves  |   no\n",
      "---------------------------\n",
      " \n",
      "======> track IVT streams and atmospheric rivers (ARs)\n",
      "        3221 object found\n",
      "        break up long living IVT objects that have many elements\n"
     ]
    },
    {
     "name": "stderr",
     "output_type": "stream",
     "text": [
      "100%|██████████| 661/661 [00:24<00:00, 26.66it/s]\n"
     ]
    },
    {
     "name": "stdout",
     "output_type": "stream",
     "text": [
      "        00:00:30.51\n",
      "9\n",
      "            Loop over 1312 objects\n"
     ]
    },
    {
     "name": "stderr",
     "output_type": "stream",
     "text": [
      "/work/aa0238/a271093/Scripts/MOAAP/src/Tracking_Functions.py:255: RuntimeWarning: All-NaN slice encountered\n",
      "  obj_min = np.nanmin(data_slice, axis=(1, 2))\n",
      "/work/aa0238/a271093/Scripts/MOAAP/src/Tracking_Functions.py:256: RuntimeWarning: All-NaN slice encountered\n",
      "  obj_max = np.nanmax(data_slice, axis=(1, 2))\n",
      "/work/aa0238/a271093/Scripts/MOAAP/src/Tracking_Functions.py:257: RuntimeWarning: Mean of empty slice\n",
      "  obj_mean = np.nanmean(data_slice, axis=(1, 2))\n",
      "/work/aa0238/a271093/Conda/MOAAP_env/lib/python3.12/site-packages/scipy/ndimage/_measurements.py:1541: RuntimeWarning: invalid value encountered in scalar divide\n",
      "  results = [sum(input * grids[dir].astype(float), labels, index) / normalizer\n"
     ]
    },
    {
     "name": "stdout",
     "output_type": "stream",
     "text": [
      "        check if MSs quallify as ARs\n"
     ]
    },
    {
     "name": "stderr",
     "output_type": "stream",
     "text": [
      "/work/aa0238/a271093/Scripts/MOAAP/src/Tracking_Functions.py:4591: RuntimeWarning: divide by zero encountered in scalar divide\n",
      "  if DIST.max() / DIST.min() < AR_width_lenght_ratio:\n"
     ]
    },
    {
     "name": "stdout",
     "output_type": "stream",
     "text": [
      "            Loop over 1310 objects\n",
      "        00:01:08.63\n",
      " \n",
      "Save the object masks into a joint netCDF\n",
      "Saved: /work/aa0238/a271093/results/MOAAP/IVT_Tracking/NorESM_control_remapped_3x/ObjectMasks_MOAPP_ICON_100and85controlperc_remapped_3x_2003_01_01-2003_08_01.nc\n",
      "        00:00:23.60\n",
      "clean up /work/aa0238/a271093/results/MOAAP/IVT_Tracking/NorESM_control_remapped_3x/IVT_MOAPP_ICON_100and85controlperc_remapped_3x_2003_01_01-2003_07_01.pkl\n",
      "clean up finished\n",
      "clean up /work/aa0238/a271093/results/MOAAP/IVT_Tracking/NorESM_control_remapped_3x/ARs_MOAPP_ICON_100and85controlperc_remapped_3x_2003_01_01-2003_07_01.pkl\n",
      "clean up finished\n",
      "correct nc-file with \n",
      " cdo -selmon,1,2,3,4,5,6 /work/aa0238/a271093/results/MOAAP/IVT_Tracking/NorESM_control_remapped_3x/ObjectMasks_MOAPP_ICON_100and85controlperc_remapped_3x_2003_01_01-2003_08_01.nc /work/aa0238/a271093/results/MOAAP/IVT_Tracking/NorESM_control_remapped_3x/ObjectMasks_MOAPP_ICON_100and85controlperc_remapped_3x_2003_01_01-2003_07_01_corrected.nc\n",
      "\n",
      " \n",
      " \n",
      " \n",
      "\n",
      "2003-07-01 00:00:00 2004-02-01 00:00:00\n",
      "Mergetime /work/aa0238/a271093/data/Jan_runs/ICON_NorESM_control/NorESM_control_remapped_3x/IVTu/IVTu_2003010100-2003123123_remapped_3x.nc /work/aa0238/a271093/data/Jan_runs/ICON_NorESM_control/NorESM_control_remapped_3x/IVTu/IVTu_2004010100-2004123123_remapped_3x.nc  /work/aa0238/a271093/scratch/mergedIVTu_2003_2004_remapped_3x.nc\n",
      "Mergetime /work/aa0238/a271093/data/Jan_runs/ICON_NorESM_control/NorESM_control_remapped_3x/IVTv/IVTv_2003010100-2003123123_remapped_3x.nc /work/aa0238/a271093/data/Jan_runs/ICON_NorESM_control/NorESM_control_remapped_3x/IVTv/IVTv_2004010100-2004123123_remapped_3x.nc  /work/aa0238/a271093/scratch/mergedIVTv_2003_2004_remapped_3x.nc\n",
      " \n",
      "The provided variables allow tracking the following phenomena\n",
      " \n",
      "|  phenomenon  | tracking |\n",
      "---------------------------\n",
      "   Jetstream   |   no\n",
      "   PSL CY/ACY  |   no\n",
      "   Z500 CY/ACY |   no\n",
      "   COLs        |   no\n",
      "   IVT ARs     |   yes\n",
      "   MS ARs      |   no\n",
      "   Fronts      |   no\n",
      "   TCs         |   no\n",
      "   MCSs        |   no\n",
      "   Equ. Waves  |   no\n",
      "---------------------------\n",
      " \n",
      "======> track IVT streams and atmospheric rivers (ARs)\n",
      "        3097 object found\n",
      "        break up long living IVT objects that have many elements\n"
     ]
    },
    {
     "name": "stderr",
     "output_type": "stream",
     "text": [
      "100%|██████████| 585/585 [00:25<00:00, 23.20it/s]\n"
     ]
    },
    {
     "name": "stdout",
     "output_type": "stream",
     "text": [
      "        00:00:31.33\n",
      "9\n",
      "            Loop over 1243 objects\n"
     ]
    },
    {
     "name": "stderr",
     "output_type": "stream",
     "text": [
      "/work/aa0238/a271093/Scripts/MOAAP/src/Tracking_Functions.py:255: RuntimeWarning: All-NaN slice encountered\n",
      "  obj_min = np.nanmin(data_slice, axis=(1, 2))\n",
      "/work/aa0238/a271093/Scripts/MOAAP/src/Tracking_Functions.py:256: RuntimeWarning: All-NaN slice encountered\n",
      "  obj_max = np.nanmax(data_slice, axis=(1, 2))\n",
      "/work/aa0238/a271093/Scripts/MOAAP/src/Tracking_Functions.py:257: RuntimeWarning: Mean of empty slice\n",
      "  obj_mean = np.nanmean(data_slice, axis=(1, 2))\n",
      "/work/aa0238/a271093/Conda/MOAAP_env/lib/python3.12/site-packages/scipy/ndimage/_measurements.py:1541: RuntimeWarning: invalid value encountered in scalar divide\n",
      "  results = [sum(input * grids[dir].astype(float), labels, index) / normalizer\n"
     ]
    },
    {
     "name": "stdout",
     "output_type": "stream",
     "text": [
      "        check if MSs quallify as ARs\n"
     ]
    },
    {
     "name": "stderr",
     "output_type": "stream",
     "text": [
      "/work/aa0238/a271093/Scripts/MOAAP/src/Tracking_Functions.py:4591: RuntimeWarning: divide by zero encountered in scalar divide\n",
      "  if DIST.max() / DIST.min() < AR_width_lenght_ratio:\n"
     ]
    },
    {
     "name": "stdout",
     "output_type": "stream",
     "text": [
      "            Loop over 1239 objects\n",
      "        00:01:15.41\n",
      " \n",
      "Save the object masks into a joint netCDF\n",
      "Saved: /work/aa0238/a271093/results/MOAAP/IVT_Tracking/NorESM_control_remapped_3x/ObjectMasks_MOAPP_ICON_100and85controlperc_remapped_3x_2003_07_01-2004_02_01.nc\n",
      "        00:00:24.40\n",
      "clean up /work/aa0238/a271093/results/MOAAP/IVT_Tracking/NorESM_control_remapped_3x/IVT_MOAPP_ICON_100and85controlperc_remapped_3x_2003_07_01-2004_01_01.pkl\n",
      "clean up finished\n",
      "clean up /work/aa0238/a271093/results/MOAAP/IVT_Tracking/NorESM_control_remapped_3x/ARs_MOAPP_ICON_100and85controlperc_remapped_3x_2003_07_01-2004_01_01.pkl\n",
      "clean up finished\n",
      "correct nc-file with \n",
      " cdo -selmon,6,7,8,9,10,11,12 /work/aa0238/a271093/results/MOAAP/IVT_Tracking/NorESM_control_remapped_3x/ObjectMasks_MOAPP_ICON_100and85controlperc_remapped_3x_2003_07_01-2004_02_01.nc /work/aa0238/a271093/results/MOAAP/IVT_Tracking/NorESM_control_remapped_3x/ObjectMasks_MOAPP_ICON_100and85controlperc_remapped_3x_2003_07_01-2004_01_01_corrected.nc\n",
      "\n",
      " \n",
      " \n",
      " \n",
      "\n",
      "2004-01-01 00:00:00 2004-08-01 00:00:00\n",
      " \n",
      "The provided variables allow tracking the following phenomena\n",
      " \n",
      "|  phenomenon  | tracking |\n",
      "---------------------------\n",
      "   Jetstream   |   no\n",
      "   PSL CY/ACY  |   no\n",
      "   Z500 CY/ACY |   no\n",
      "   COLs        |   no\n",
      "   IVT ARs     |   yes\n",
      "   MS ARs      |   no\n",
      "   Fronts      |   no\n",
      "   TCs         |   no\n",
      "   MCSs        |   no\n",
      "   Equ. Waves  |   no\n",
      "---------------------------\n",
      " \n",
      "======> track IVT streams and atmospheric rivers (ARs)\n",
      "        3122 object found\n",
      "        break up long living IVT objects that have many elements\n"
     ]
    },
    {
     "name": "stderr",
     "output_type": "stream",
     "text": [
      "100%|██████████| 682/682 [00:21<00:00, 31.13it/s]\n"
     ]
    },
    {
     "name": "stdout",
     "output_type": "stream",
     "text": [
      "        00:00:27.67\n",
      "9\n",
      "            Loop over 1379 objects\n"
     ]
    },
    {
     "name": "stderr",
     "output_type": "stream",
     "text": [
      "/work/aa0238/a271093/Scripts/MOAAP/src/Tracking_Functions.py:255: RuntimeWarning: All-NaN slice encountered\n",
      "  obj_min = np.nanmin(data_slice, axis=(1, 2))\n",
      "/work/aa0238/a271093/Scripts/MOAAP/src/Tracking_Functions.py:256: RuntimeWarning: All-NaN slice encountered\n",
      "  obj_max = np.nanmax(data_slice, axis=(1, 2))\n",
      "/work/aa0238/a271093/Scripts/MOAAP/src/Tracking_Functions.py:257: RuntimeWarning: Mean of empty slice\n",
      "  obj_mean = np.nanmean(data_slice, axis=(1, 2))\n",
      "/work/aa0238/a271093/Conda/MOAAP_env/lib/python3.12/site-packages/scipy/ndimage/_measurements.py:1541: RuntimeWarning: invalid value encountered in scalar divide\n",
      "  results = [sum(input * grids[dir].astype(float), labels, index) / normalizer\n"
     ]
    },
    {
     "name": "stdout",
     "output_type": "stream",
     "text": [
      "        check if MSs quallify as ARs\n"
     ]
    },
    {
     "name": "stderr",
     "output_type": "stream",
     "text": [
      "/work/aa0238/a271093/Scripts/MOAAP/src/Tracking_Functions.py:4591: RuntimeWarning: divide by zero encountered in scalar divide\n",
      "  if DIST.max() / DIST.min() < AR_width_lenght_ratio:\n"
     ]
    },
    {
     "name": "stdout",
     "output_type": "stream",
     "text": [
      "            Loop over 1377 objects\n",
      "        00:01:05.54\n",
      " \n",
      "Save the object masks into a joint netCDF\n",
      "Saved: /work/aa0238/a271093/results/MOAAP/IVT_Tracking/NorESM_control_remapped_3x/ObjectMasks_MOAPP_ICON_100and85controlperc_remapped_3x_2004_01_01-2004_08_01.nc\n",
      "        00:00:23.89\n",
      "clean up /work/aa0238/a271093/results/MOAAP/IVT_Tracking/NorESM_control_remapped_3x/IVT_MOAPP_ICON_100and85controlperc_remapped_3x_2004_01_01-2004_07_01.pkl\n",
      "clean up finished\n",
      "clean up /work/aa0238/a271093/results/MOAAP/IVT_Tracking/NorESM_control_remapped_3x/ARs_MOAPP_ICON_100and85controlperc_remapped_3x_2004_01_01-2004_07_01.pkl\n",
      "clean up finished\n",
      "correct nc-file with \n",
      " cdo -selmon,1,2,3,4,5,6 /work/aa0238/a271093/results/MOAAP/IVT_Tracking/NorESM_control_remapped_3x/ObjectMasks_MOAPP_ICON_100and85controlperc_remapped_3x_2004_01_01-2004_08_01.nc /work/aa0238/a271093/results/MOAAP/IVT_Tracking/NorESM_control_remapped_3x/ObjectMasks_MOAPP_ICON_100and85controlperc_remapped_3x_2004_01_01-2004_07_01_corrected.nc\n",
      "\n",
      " \n",
      " \n",
      " \n",
      "\n",
      "2004-07-01 00:00:00 2005-02-01 00:00:00\n",
      "Mergetime /work/aa0238/a271093/data/Jan_runs/ICON_NorESM_control/NorESM_control_remapped_3x/IVTu/IVTu_2004010100-2004123123_remapped_3x.nc /work/aa0238/a271093/data/Jan_runs/ICON_NorESM_control/NorESM_control_remapped_3x/IVTu/IVTu_2005010100-2005123123_remapped_3x.nc  /work/aa0238/a271093/scratch/mergedIVTu_2004_2005_remapped_3x.nc\n",
      "Mergetime /work/aa0238/a271093/data/Jan_runs/ICON_NorESM_control/NorESM_control_remapped_3x/IVTv/IVTv_2004010100-2004123123_remapped_3x.nc /work/aa0238/a271093/data/Jan_runs/ICON_NorESM_control/NorESM_control_remapped_3x/IVTv/IVTv_2005010100-2005123123_remapped_3x.nc  /work/aa0238/a271093/scratch/mergedIVTv_2004_2005_remapped_3x.nc\n",
      " \n",
      "The provided variables allow tracking the following phenomena\n",
      " \n",
      "|  phenomenon  | tracking |\n",
      "---------------------------\n",
      "   Jetstream   |   no\n",
      "   PSL CY/ACY  |   no\n",
      "   Z500 CY/ACY |   no\n",
      "   COLs        |   no\n",
      "   IVT ARs     |   yes\n",
      "   MS ARs      |   no\n",
      "   Fronts      |   no\n",
      "   TCs         |   no\n",
      "   MCSs        |   no\n",
      "   Equ. Waves  |   no\n",
      "---------------------------\n",
      " \n",
      "======> track IVT streams and atmospheric rivers (ARs)\n",
      "        2672 object found\n",
      "        break up long living IVT objects that have many elements\n"
     ]
    },
    {
     "name": "stderr",
     "output_type": "stream",
     "text": [
      "100%|██████████| 616/616 [00:21<00:00, 28.60it/s]\n"
     ]
    },
    {
     "name": "stdout",
     "output_type": "stream",
     "text": [
      "        00:00:27.76\n",
      "9\n",
      "            Loop over 1183 objects\n"
     ]
    },
    {
     "name": "stderr",
     "output_type": "stream",
     "text": [
      "/work/aa0238/a271093/Scripts/MOAAP/src/Tracking_Functions.py:255: RuntimeWarning: All-NaN slice encountered\n",
      "  obj_min = np.nanmin(data_slice, axis=(1, 2))\n",
      "/work/aa0238/a271093/Scripts/MOAAP/src/Tracking_Functions.py:256: RuntimeWarning: All-NaN slice encountered\n",
      "  obj_max = np.nanmax(data_slice, axis=(1, 2))\n",
      "/work/aa0238/a271093/Scripts/MOAAP/src/Tracking_Functions.py:257: RuntimeWarning: Mean of empty slice\n",
      "  obj_mean = np.nanmean(data_slice, axis=(1, 2))\n",
      "/work/aa0238/a271093/Conda/MOAAP_env/lib/python3.12/site-packages/scipy/ndimage/_measurements.py:1541: RuntimeWarning: invalid value encountered in scalar divide\n",
      "  results = [sum(input * grids[dir].astype(float), labels, index) / normalizer\n"
     ]
    },
    {
     "name": "stdout",
     "output_type": "stream",
     "text": [
      "        check if MSs quallify as ARs\n"
     ]
    },
    {
     "name": "stderr",
     "output_type": "stream",
     "text": [
      "/work/aa0238/a271093/Scripts/MOAAP/src/Tracking_Functions.py:4591: RuntimeWarning: divide by zero encountered in scalar divide\n",
      "  if DIST.max() / DIST.min() < AR_width_lenght_ratio:\n"
     ]
    },
    {
     "name": "stdout",
     "output_type": "stream",
     "text": [
      "            Loop over 1183 objects\n",
      "        00:01:03.51\n",
      " \n",
      "Save the object masks into a joint netCDF\n",
      "Saved: /work/aa0238/a271093/results/MOAAP/IVT_Tracking/NorESM_control_remapped_3x/ObjectMasks_MOAPP_ICON_100and85controlperc_remapped_3x_2004_07_01-2005_02_01.nc\n",
      "        00:00:24.07\n",
      "clean up /work/aa0238/a271093/results/MOAAP/IVT_Tracking/NorESM_control_remapped_3x/IVT_MOAPP_ICON_100and85controlperc_remapped_3x_2004_07_01-2005_01_01.pkl\n",
      "clean up finished\n",
      "clean up /work/aa0238/a271093/results/MOAAP/IVT_Tracking/NorESM_control_remapped_3x/ARs_MOAPP_ICON_100and85controlperc_remapped_3x_2004_07_01-2005_01_01.pkl\n",
      "clean up finished\n",
      "correct nc-file with \n",
      " cdo -selmon,6,7,8,9,10,11,12 /work/aa0238/a271093/results/MOAAP/IVT_Tracking/NorESM_control_remapped_3x/ObjectMasks_MOAPP_ICON_100and85controlperc_remapped_3x_2004_07_01-2005_02_01.nc /work/aa0238/a271093/results/MOAAP/IVT_Tracking/NorESM_control_remapped_3x/ObjectMasks_MOAPP_ICON_100and85controlperc_remapped_3x_2004_07_01-2005_01_01_corrected.nc\n",
      "\n",
      " \n",
      " \n",
      " \n",
      "\n",
      "2005-01-01 00:00:00 2005-08-01 00:00:00\n",
      " \n",
      "The provided variables allow tracking the following phenomena\n",
      " \n",
      "|  phenomenon  | tracking |\n",
      "---------------------------\n",
      "   Jetstream   |   no\n",
      "   PSL CY/ACY  |   no\n",
      "   Z500 CY/ACY |   no\n",
      "   COLs        |   no\n",
      "   IVT ARs     |   yes\n",
      "   MS ARs      |   no\n",
      "   Fronts      |   no\n",
      "   TCs         |   no\n",
      "   MCSs        |   no\n",
      "   Equ. Waves  |   no\n",
      "---------------------------\n",
      " \n",
      "======> track IVT streams and atmospheric rivers (ARs)\n",
      "        3047 object found\n",
      "        break up long living IVT objects that have many elements\n"
     ]
    },
    {
     "name": "stderr",
     "output_type": "stream",
     "text": [
      "100%|██████████| 646/646 [00:25<00:00, 25.29it/s]\n"
     ]
    },
    {
     "name": "stdout",
     "output_type": "stream",
     "text": [
      "        00:00:31.39\n",
      "9\n",
      "            Loop over 1314 objects\n"
     ]
    },
    {
     "name": "stderr",
     "output_type": "stream",
     "text": [
      "/work/aa0238/a271093/Scripts/MOAAP/src/Tracking_Functions.py:255: RuntimeWarning: All-NaN slice encountered\n",
      "  obj_min = np.nanmin(data_slice, axis=(1, 2))\n",
      "/work/aa0238/a271093/Scripts/MOAAP/src/Tracking_Functions.py:256: RuntimeWarning: All-NaN slice encountered\n",
      "  obj_max = np.nanmax(data_slice, axis=(1, 2))\n",
      "/work/aa0238/a271093/Scripts/MOAAP/src/Tracking_Functions.py:257: RuntimeWarning: Mean of empty slice\n",
      "  obj_mean = np.nanmean(data_slice, axis=(1, 2))\n",
      "/work/aa0238/a271093/Conda/MOAAP_env/lib/python3.12/site-packages/scipy/ndimage/_measurements.py:1541: RuntimeWarning: invalid value encountered in scalar divide\n",
      "  results = [sum(input * grids[dir].astype(float), labels, index) / normalizer\n"
     ]
    },
    {
     "name": "stdout",
     "output_type": "stream",
     "text": [
      "        check if MSs quallify as ARs\n"
     ]
    },
    {
     "name": "stderr",
     "output_type": "stream",
     "text": [
      "/work/aa0238/a271093/Scripts/MOAAP/src/Tracking_Functions.py:4591: RuntimeWarning: divide by zero encountered in scalar divide\n",
      "  if DIST.max() / DIST.min() < AR_width_lenght_ratio:\n"
     ]
    },
    {
     "name": "stdout",
     "output_type": "stream",
     "text": [
      "            Loop over 1314 objects\n",
      "        00:01:09.04\n",
      " \n",
      "Save the object masks into a joint netCDF\n",
      "Saved: /work/aa0238/a271093/results/MOAAP/IVT_Tracking/NorESM_control_remapped_3x/ObjectMasks_MOAPP_ICON_100and85controlperc_remapped_3x_2005_01_01-2005_08_01.nc\n",
      "        00:00:23.77\n",
      "clean up /work/aa0238/a271093/results/MOAAP/IVT_Tracking/NorESM_control_remapped_3x/IVT_MOAPP_ICON_100and85controlperc_remapped_3x_2005_01_01-2005_07_01.pkl\n",
      "clean up finished\n",
      "clean up /work/aa0238/a271093/results/MOAAP/IVT_Tracking/NorESM_control_remapped_3x/ARs_MOAPP_ICON_100and85controlperc_remapped_3x_2005_01_01-2005_07_01.pkl\n",
      "clean up finished\n",
      "correct nc-file with \n",
      " cdo -selmon,1,2,3,4,5,6 /work/aa0238/a271093/results/MOAAP/IVT_Tracking/NorESM_control_remapped_3x/ObjectMasks_MOAPP_ICON_100and85controlperc_remapped_3x_2005_01_01-2005_08_01.nc /work/aa0238/a271093/results/MOAAP/IVT_Tracking/NorESM_control_remapped_3x/ObjectMasks_MOAPP_ICON_100and85controlperc_remapped_3x_2005_01_01-2005_07_01_corrected.nc\n",
      "\n",
      " \n",
      " \n",
      " \n",
      "\n",
      "2005-07-01 00:00:00 2006-02-01 00:00:00\n",
      "Mergetime /work/aa0238/a271093/data/Jan_runs/ICON_NorESM_control/NorESM_control_remapped_3x/IVTu/IVTu_2005010100-2005123123_remapped_3x.nc /work/aa0238/a271093/data/Jan_runs/ICON_NorESM_control/NorESM_control_remapped_3x/IVTu/IVTu_2006010100-2006123123_remapped_3x.nc  /work/aa0238/a271093/scratch/mergedIVTu_2005_2006_remapped_3x.nc\n",
      "Mergetime /work/aa0238/a271093/data/Jan_runs/ICON_NorESM_control/NorESM_control_remapped_3x/IVTv/IVTv_2005010100-2005123123_remapped_3x.nc /work/aa0238/a271093/data/Jan_runs/ICON_NorESM_control/NorESM_control_remapped_3x/IVTv/IVTv_2006010100-2006123123_remapped_3x.nc  /work/aa0238/a271093/scratch/mergedIVTv_2005_2006_remapped_3x.nc\n",
      " \n",
      "The provided variables allow tracking the following phenomena\n",
      " \n",
      "|  phenomenon  | tracking |\n",
      "---------------------------\n",
      "   Jetstream   |   no\n",
      "   PSL CY/ACY  |   no\n",
      "   Z500 CY/ACY |   no\n",
      "   COLs        |   no\n",
      "   IVT ARs     |   yes\n",
      "   MS ARs      |   no\n",
      "   Fronts      |   no\n",
      "   TCs         |   no\n",
      "   MCSs        |   no\n",
      "   Equ. Waves  |   no\n",
      "---------------------------\n",
      " \n",
      "======> track IVT streams and atmospheric rivers (ARs)\n",
      "        2794 object found\n",
      "        break up long living IVT objects that have many elements\n"
     ]
    },
    {
     "name": "stderr",
     "output_type": "stream",
     "text": [
      "100%|██████████| 587/587 [00:23<00:00, 24.89it/s]\n"
     ]
    },
    {
     "name": "stdout",
     "output_type": "stream",
     "text": [
      "        00:00:30.14\n",
      "9\n",
      "            Loop over 1264 objects\n"
     ]
    },
    {
     "name": "stderr",
     "output_type": "stream",
     "text": [
      "/work/aa0238/a271093/Scripts/MOAAP/src/Tracking_Functions.py:255: RuntimeWarning: All-NaN slice encountered\n",
      "  obj_min = np.nanmin(data_slice, axis=(1, 2))\n",
      "/work/aa0238/a271093/Scripts/MOAAP/src/Tracking_Functions.py:256: RuntimeWarning: All-NaN slice encountered\n",
      "  obj_max = np.nanmax(data_slice, axis=(1, 2))\n",
      "/work/aa0238/a271093/Scripts/MOAAP/src/Tracking_Functions.py:257: RuntimeWarning: Mean of empty slice\n",
      "  obj_mean = np.nanmean(data_slice, axis=(1, 2))\n",
      "/work/aa0238/a271093/Conda/MOAAP_env/lib/python3.12/site-packages/scipy/ndimage/_measurements.py:1541: RuntimeWarning: invalid value encountered in scalar divide\n",
      "  results = [sum(input * grids[dir].astype(float), labels, index) / normalizer\n"
     ]
    },
    {
     "name": "stdout",
     "output_type": "stream",
     "text": [
      "        check if MSs quallify as ARs\n"
     ]
    },
    {
     "name": "stderr",
     "output_type": "stream",
     "text": [
      "/work/aa0238/a271093/Scripts/MOAAP/src/Tracking_Functions.py:4591: RuntimeWarning: divide by zero encountered in scalar divide\n",
      "  if DIST.max() / DIST.min() < AR_width_lenght_ratio:\n"
     ]
    },
    {
     "name": "stdout",
     "output_type": "stream",
     "text": [
      "            Loop over 1261 objects\n",
      "        00:01:12.46\n",
      " \n",
      "Save the object masks into a joint netCDF\n",
      "Saved: /work/aa0238/a271093/results/MOAAP/IVT_Tracking/NorESM_control_remapped_3x/ObjectMasks_MOAPP_ICON_100and85controlperc_remapped_3x_2005_07_01-2006_02_01.nc\n",
      "        00:00:24.20\n",
      "clean up /work/aa0238/a271093/results/MOAAP/IVT_Tracking/NorESM_control_remapped_3x/IVT_MOAPP_ICON_100and85controlperc_remapped_3x_2005_07_01-2006_01_01.pkl\n",
      "clean up finished\n",
      "clean up /work/aa0238/a271093/results/MOAAP/IVT_Tracking/NorESM_control_remapped_3x/ARs_MOAPP_ICON_100and85controlperc_remapped_3x_2005_07_01-2006_01_01.pkl\n",
      "clean up finished\n",
      "correct nc-file with \n",
      " cdo -selmon,6,7,8,9,10,11,12 /work/aa0238/a271093/results/MOAAP/IVT_Tracking/NorESM_control_remapped_3x/ObjectMasks_MOAPP_ICON_100and85controlperc_remapped_3x_2005_07_01-2006_02_01.nc /work/aa0238/a271093/results/MOAAP/IVT_Tracking/NorESM_control_remapped_3x/ObjectMasks_MOAPP_ICON_100and85controlperc_remapped_3x_2005_07_01-2006_01_01_corrected.nc\n",
      "\n",
      " \n",
      " \n",
      " \n",
      "\n",
      "2006-01-01 00:00:00 2006-08-01 00:00:00\n",
      " \n",
      "The provided variables allow tracking the following phenomena\n",
      " \n",
      "|  phenomenon  | tracking |\n",
      "---------------------------\n",
      "   Jetstream   |   no\n",
      "   PSL CY/ACY  |   no\n",
      "   Z500 CY/ACY |   no\n",
      "   COLs        |   no\n",
      "   IVT ARs     |   yes\n",
      "   MS ARs      |   no\n",
      "   Fronts      |   no\n",
      "   TCs         |   no\n",
      "   MCSs        |   no\n",
      "   Equ. Waves  |   no\n",
      "---------------------------\n",
      " \n",
      "======> track IVT streams and atmospheric rivers (ARs)\n",
      "        3101 object found\n",
      "        break up long living IVT objects that have many elements\n"
     ]
    },
    {
     "name": "stderr",
     "output_type": "stream",
     "text": [
      "100%|██████████| 671/671 [00:24<00:00, 27.05it/s]\n"
     ]
    },
    {
     "name": "stdout",
     "output_type": "stream",
     "text": [
      "        00:00:30.64\n",
      "9\n",
      "            Loop over 1297 objects\n"
     ]
    },
    {
     "name": "stderr",
     "output_type": "stream",
     "text": [
      "/work/aa0238/a271093/Scripts/MOAAP/src/Tracking_Functions.py:255: RuntimeWarning: All-NaN slice encountered\n",
      "  obj_min = np.nanmin(data_slice, axis=(1, 2))\n",
      "/work/aa0238/a271093/Scripts/MOAAP/src/Tracking_Functions.py:256: RuntimeWarning: All-NaN slice encountered\n",
      "  obj_max = np.nanmax(data_slice, axis=(1, 2))\n",
      "/work/aa0238/a271093/Scripts/MOAAP/src/Tracking_Functions.py:257: RuntimeWarning: Mean of empty slice\n",
      "  obj_mean = np.nanmean(data_slice, axis=(1, 2))\n",
      "/work/aa0238/a271093/Conda/MOAAP_env/lib/python3.12/site-packages/scipy/ndimage/_measurements.py:1541: RuntimeWarning: invalid value encountered in scalar divide\n",
      "  results = [sum(input * grids[dir].astype(float), labels, index) / normalizer\n"
     ]
    },
    {
     "name": "stdout",
     "output_type": "stream",
     "text": [
      "        check if MSs quallify as ARs\n"
     ]
    },
    {
     "name": "stderr",
     "output_type": "stream",
     "text": [
      "/work/aa0238/a271093/Scripts/MOAAP/src/Tracking_Functions.py:4591: RuntimeWarning: divide by zero encountered in scalar divide\n",
      "  if DIST.max() / DIST.min() < AR_width_lenght_ratio:\n"
     ]
    },
    {
     "name": "stdout",
     "output_type": "stream",
     "text": [
      "            Loop over 1295 objects\n",
      "        00:01:09.50\n",
      " \n",
      "Save the object masks into a joint netCDF\n",
      "Saved: /work/aa0238/a271093/results/MOAAP/IVT_Tracking/NorESM_control_remapped_3x/ObjectMasks_MOAPP_ICON_100and85controlperc_remapped_3x_2006_01_01-2006_08_01.nc\n",
      "        00:00:23.62\n",
      "clean up /work/aa0238/a271093/results/MOAAP/IVT_Tracking/NorESM_control_remapped_3x/IVT_MOAPP_ICON_100and85controlperc_remapped_3x_2006_01_01-2006_07_01.pkl\n",
      "clean up finished\n",
      "clean up /work/aa0238/a271093/results/MOAAP/IVT_Tracking/NorESM_control_remapped_3x/ARs_MOAPP_ICON_100and85controlperc_remapped_3x_2006_01_01-2006_07_01.pkl\n",
      "clean up finished\n",
      "correct nc-file with \n",
      " cdo -selmon,1,2,3,4,5,6 /work/aa0238/a271093/results/MOAAP/IVT_Tracking/NorESM_control_remapped_3x/ObjectMasks_MOAPP_ICON_100and85controlperc_remapped_3x_2006_01_01-2006_08_01.nc /work/aa0238/a271093/results/MOAAP/IVT_Tracking/NorESM_control_remapped_3x/ObjectMasks_MOAPP_ICON_100and85controlperc_remapped_3x_2006_01_01-2006_07_01_corrected.nc\n",
      "\n",
      " \n",
      " \n",
      " \n",
      "\n",
      "2006-07-01 00:00:00 2007-02-01 00:00:00\n",
      "Mergetime /work/aa0238/a271093/data/Jan_runs/ICON_NorESM_control/NorESM_control_remapped_3x/IVTu/IVTu_2006010100-2006123123_remapped_3x.nc /work/aa0238/a271093/data/Jan_runs/ICON_NorESM_control/NorESM_control_remapped_3x/IVTu/IVTu_2007010100-2007123123_remapped_3x.nc  /work/aa0238/a271093/scratch/mergedIVTu_2006_2007_remapped_3x.nc\n",
      "Mergetime /work/aa0238/a271093/data/Jan_runs/ICON_NorESM_control/NorESM_control_remapped_3x/IVTv/IVTv_2006010100-2006123123_remapped_3x.nc /work/aa0238/a271093/data/Jan_runs/ICON_NorESM_control/NorESM_control_remapped_3x/IVTv/IVTv_2007010100-2007123123_remapped_3x.nc  /work/aa0238/a271093/scratch/mergedIVTv_2006_2007_remapped_3x.nc\n",
      " \n",
      "The provided variables allow tracking the following phenomena\n",
      " \n",
      "|  phenomenon  | tracking |\n",
      "---------------------------\n",
      "   Jetstream   |   no\n",
      "   PSL CY/ACY  |   no\n",
      "   Z500 CY/ACY |   no\n",
      "   COLs        |   no\n",
      "   IVT ARs     |   yes\n",
      "   MS ARs      |   no\n",
      "   Fronts      |   no\n",
      "   TCs         |   no\n",
      "   MCSs        |   no\n",
      "   Equ. Waves  |   no\n",
      "---------------------------\n",
      " \n",
      "======> track IVT streams and atmospheric rivers (ARs)\n",
      "        2966 object found\n",
      "        break up long living IVT objects that have many elements\n"
     ]
    },
    {
     "name": "stderr",
     "output_type": "stream",
     "text": [
      "100%|██████████| 605/605 [00:24<00:00, 24.29it/s]\n"
     ]
    },
    {
     "name": "stdout",
     "output_type": "stream",
     "text": [
      "        00:00:30.95\n",
      "9\n",
      "            Loop over 1270 objects\n"
     ]
    },
    {
     "name": "stderr",
     "output_type": "stream",
     "text": [
      "/work/aa0238/a271093/Scripts/MOAAP/src/Tracking_Functions.py:255: RuntimeWarning: All-NaN slice encountered\n",
      "  obj_min = np.nanmin(data_slice, axis=(1, 2))\n",
      "/work/aa0238/a271093/Scripts/MOAAP/src/Tracking_Functions.py:256: RuntimeWarning: All-NaN slice encountered\n",
      "  obj_max = np.nanmax(data_slice, axis=(1, 2))\n",
      "/work/aa0238/a271093/Scripts/MOAAP/src/Tracking_Functions.py:257: RuntimeWarning: Mean of empty slice\n",
      "  obj_mean = np.nanmean(data_slice, axis=(1, 2))\n",
      "/work/aa0238/a271093/Conda/MOAAP_env/lib/python3.12/site-packages/scipy/ndimage/_measurements.py:1541: RuntimeWarning: invalid value encountered in scalar divide\n",
      "  results = [sum(input * grids[dir].astype(float), labels, index) / normalizer\n"
     ]
    },
    {
     "name": "stdout",
     "output_type": "stream",
     "text": [
      "        check if MSs quallify as ARs\n"
     ]
    },
    {
     "name": "stderr",
     "output_type": "stream",
     "text": [
      "/work/aa0238/a271093/Scripts/MOAAP/src/Tracking_Functions.py:4591: RuntimeWarning: divide by zero encountered in scalar divide\n",
      "  if DIST.max() / DIST.min() < AR_width_lenght_ratio:\n"
     ]
    },
    {
     "name": "stdout",
     "output_type": "stream",
     "text": [
      "            Loop over 1269 objects\n",
      "        00:01:12.61\n",
      " \n",
      "Save the object masks into a joint netCDF\n",
      "Saved: /work/aa0238/a271093/results/MOAAP/IVT_Tracking/NorESM_control_remapped_3x/ObjectMasks_MOAPP_ICON_100and85controlperc_remapped_3x_2006_07_01-2007_02_01.nc\n",
      "        00:00:24.15\n",
      "clean up /work/aa0238/a271093/results/MOAAP/IVT_Tracking/NorESM_control_remapped_3x/IVT_MOAPP_ICON_100and85controlperc_remapped_3x_2006_07_01-2007_01_01.pkl\n",
      "clean up finished\n",
      "clean up /work/aa0238/a271093/results/MOAAP/IVT_Tracking/NorESM_control_remapped_3x/ARs_MOAPP_ICON_100and85controlperc_remapped_3x_2006_07_01-2007_01_01.pkl\n",
      "clean up finished\n",
      "correct nc-file with \n",
      " cdo -selmon,6,7,8,9,10,11,12 /work/aa0238/a271093/results/MOAAP/IVT_Tracking/NorESM_control_remapped_3x/ObjectMasks_MOAPP_ICON_100and85controlperc_remapped_3x_2006_07_01-2007_02_01.nc /work/aa0238/a271093/results/MOAAP/IVT_Tracking/NorESM_control_remapped_3x/ObjectMasks_MOAPP_ICON_100and85controlperc_remapped_3x_2006_07_01-2007_01_01_corrected.nc\n",
      "\n",
      " \n",
      " \n",
      " \n",
      "\n",
      "2007-01-01 00:00:00 2007-08-01 00:00:00\n",
      " \n",
      "The provided variables allow tracking the following phenomena\n",
      " \n",
      "|  phenomenon  | tracking |\n",
      "---------------------------\n",
      "   Jetstream   |   no\n",
      "   PSL CY/ACY  |   no\n",
      "   Z500 CY/ACY |   no\n",
      "   COLs        |   no\n",
      "   IVT ARs     |   yes\n",
      "   MS ARs      |   no\n",
      "   Fronts      |   no\n",
      "   TCs         |   no\n",
      "   MCSs        |   no\n",
      "   Equ. Waves  |   no\n",
      "---------------------------\n",
      " \n",
      "======> track IVT streams and atmospheric rivers (ARs)\n",
      "        3117 object found\n",
      "        break up long living IVT objects that have many elements\n"
     ]
    },
    {
     "name": "stderr",
     "output_type": "stream",
     "text": [
      "100%|██████████| 682/682 [00:24<00:00, 28.13it/s]\n"
     ]
    },
    {
     "name": "stdout",
     "output_type": "stream",
     "text": [
      "        00:00:29.91\n",
      "9\n",
      "            Loop over 1378 objects\n"
     ]
    },
    {
     "name": "stderr",
     "output_type": "stream",
     "text": [
      "/work/aa0238/a271093/Scripts/MOAAP/src/Tracking_Functions.py:255: RuntimeWarning: All-NaN slice encountered\n",
      "  obj_min = np.nanmin(data_slice, axis=(1, 2))\n",
      "/work/aa0238/a271093/Scripts/MOAAP/src/Tracking_Functions.py:256: RuntimeWarning: All-NaN slice encountered\n",
      "  obj_max = np.nanmax(data_slice, axis=(1, 2))\n",
      "/work/aa0238/a271093/Scripts/MOAAP/src/Tracking_Functions.py:257: RuntimeWarning: Mean of empty slice\n",
      "  obj_mean = np.nanmean(data_slice, axis=(1, 2))\n",
      "/work/aa0238/a271093/Conda/MOAAP_env/lib/python3.12/site-packages/scipy/ndimage/_measurements.py:1541: RuntimeWarning: invalid value encountered in scalar divide\n",
      "  results = [sum(input * grids[dir].astype(float), labels, index) / normalizer\n"
     ]
    },
    {
     "name": "stdout",
     "output_type": "stream",
     "text": [
      "        check if MSs quallify as ARs\n"
     ]
    },
    {
     "name": "stderr",
     "output_type": "stream",
     "text": [
      "/work/aa0238/a271093/Scripts/MOAAP/src/Tracking_Functions.py:4591: RuntimeWarning: divide by zero encountered in scalar divide\n",
      "  if DIST.max() / DIST.min() < AR_width_lenght_ratio:\n"
     ]
    },
    {
     "name": "stdout",
     "output_type": "stream",
     "text": [
      "            Loop over 1377 objects\n",
      "        00:01:07.81\n",
      " \n",
      "Save the object masks into a joint netCDF\n",
      "Saved: /work/aa0238/a271093/results/MOAAP/IVT_Tracking/NorESM_control_remapped_3x/ObjectMasks_MOAPP_ICON_100and85controlperc_remapped_3x_2007_01_01-2007_08_01.nc\n",
      "        00:00:23.64\n",
      "clean up /work/aa0238/a271093/results/MOAAP/IVT_Tracking/NorESM_control_remapped_3x/IVT_MOAPP_ICON_100and85controlperc_remapped_3x_2007_01_01-2007_07_01.pkl\n",
      "clean up finished\n",
      "clean up /work/aa0238/a271093/results/MOAAP/IVT_Tracking/NorESM_control_remapped_3x/ARs_MOAPP_ICON_100and85controlperc_remapped_3x_2007_01_01-2007_07_01.pkl\n",
      "clean up finished\n",
      "correct nc-file with \n",
      " cdo -selmon,1,2,3,4,5,6 /work/aa0238/a271093/results/MOAAP/IVT_Tracking/NorESM_control_remapped_3x/ObjectMasks_MOAPP_ICON_100and85controlperc_remapped_3x_2007_01_01-2007_08_01.nc /work/aa0238/a271093/results/MOAAP/IVT_Tracking/NorESM_control_remapped_3x/ObjectMasks_MOAPP_ICON_100and85controlperc_remapped_3x_2007_01_01-2007_07_01_corrected.nc\n",
      "\n",
      " \n",
      " \n",
      " \n",
      "\n",
      "2007-07-01 00:00:00 2008-02-01 00:00:00\n",
      "Mergetime /work/aa0238/a271093/data/Jan_runs/ICON_NorESM_control/NorESM_control_remapped_3x/IVTu/IVTu_2007010100-2007123123_remapped_3x.nc /work/aa0238/a271093/data/Jan_runs/ICON_NorESM_control/NorESM_control_remapped_3x/IVTu/IVTu_2008010100-2008123123_remapped_3x.nc  /work/aa0238/a271093/scratch/mergedIVTu_2007_2008_remapped_3x.nc\n",
      "Mergetime /work/aa0238/a271093/data/Jan_runs/ICON_NorESM_control/NorESM_control_remapped_3x/IVTv/IVTv_2007010100-2007123123_remapped_3x.nc /work/aa0238/a271093/data/Jan_runs/ICON_NorESM_control/NorESM_control_remapped_3x/IVTv/IVTv_2008010100-2008123123_remapped_3x.nc  /work/aa0238/a271093/scratch/mergedIVTv_2007_2008_remapped_3x.nc\n",
      " \n",
      "The provided variables allow tracking the following phenomena\n",
      " \n",
      "|  phenomenon  | tracking |\n",
      "---------------------------\n",
      "   Jetstream   |   no\n",
      "   PSL CY/ACY  |   no\n",
      "   Z500 CY/ACY |   no\n",
      "   COLs        |   no\n",
      "   IVT ARs     |   yes\n",
      "   MS ARs      |   no\n",
      "   Fronts      |   no\n",
      "   TCs         |   no\n",
      "   MCSs        |   no\n",
      "   Equ. Waves  |   no\n",
      "---------------------------\n",
      " \n",
      "======> track IVT streams and atmospheric rivers (ARs)\n",
      "        2922 object found\n",
      "        break up long living IVT objects that have many elements\n"
     ]
    },
    {
     "name": "stderr",
     "output_type": "stream",
     "text": [
      "100%|██████████| 582/582 [00:25<00:00, 22.87it/s]\n"
     ]
    },
    {
     "name": "stdout",
     "output_type": "stream",
     "text": [
      "        00:00:31.62\n",
      "9\n",
      "            Loop over 1292 objects\n"
     ]
    },
    {
     "name": "stderr",
     "output_type": "stream",
     "text": [
      "/work/aa0238/a271093/Scripts/MOAAP/src/Tracking_Functions.py:255: RuntimeWarning: All-NaN slice encountered\n",
      "  obj_min = np.nanmin(data_slice, axis=(1, 2))\n",
      "/work/aa0238/a271093/Scripts/MOAAP/src/Tracking_Functions.py:256: RuntimeWarning: All-NaN slice encountered\n",
      "  obj_max = np.nanmax(data_slice, axis=(1, 2))\n",
      "/work/aa0238/a271093/Scripts/MOAAP/src/Tracking_Functions.py:257: RuntimeWarning: Mean of empty slice\n",
      "  obj_mean = np.nanmean(data_slice, axis=(1, 2))\n",
      "/work/aa0238/a271093/Conda/MOAAP_env/lib/python3.12/site-packages/scipy/ndimage/_measurements.py:1541: RuntimeWarning: invalid value encountered in scalar divide\n",
      "  results = [sum(input * grids[dir].astype(float), labels, index) / normalizer\n"
     ]
    },
    {
     "name": "stdout",
     "output_type": "stream",
     "text": [
      "        check if MSs quallify as ARs\n"
     ]
    },
    {
     "name": "stderr",
     "output_type": "stream",
     "text": [
      "/work/aa0238/a271093/Scripts/MOAAP/src/Tracking_Functions.py:4591: RuntimeWarning: divide by zero encountered in scalar divide\n",
      "  if DIST.max() / DIST.min() < AR_width_lenght_ratio:\n"
     ]
    },
    {
     "name": "stdout",
     "output_type": "stream",
     "text": [
      "            Loop over 1292 objects\n",
      "        00:01:10.82\n",
      " \n",
      "Save the object masks into a joint netCDF\n",
      "Saved: /work/aa0238/a271093/results/MOAAP/IVT_Tracking/NorESM_control_remapped_3x/ObjectMasks_MOAPP_ICON_100and85controlperc_remapped_3x_2007_07_01-2008_02_01.nc\n",
      "        00:00:24.19\n",
      "clean up /work/aa0238/a271093/results/MOAAP/IVT_Tracking/NorESM_control_remapped_3x/IVT_MOAPP_ICON_100and85controlperc_remapped_3x_2007_07_01-2008_01_01.pkl\n",
      "clean up finished\n",
      "clean up /work/aa0238/a271093/results/MOAAP/IVT_Tracking/NorESM_control_remapped_3x/ARs_MOAPP_ICON_100and85controlperc_remapped_3x_2007_07_01-2008_01_01.pkl\n",
      "clean up finished\n",
      "correct nc-file with \n",
      " cdo -selmon,6,7,8,9,10,11,12 /work/aa0238/a271093/results/MOAAP/IVT_Tracking/NorESM_control_remapped_3x/ObjectMasks_MOAPP_ICON_100and85controlperc_remapped_3x_2007_07_01-2008_02_01.nc /work/aa0238/a271093/results/MOAAP/IVT_Tracking/NorESM_control_remapped_3x/ObjectMasks_MOAPP_ICON_100and85controlperc_remapped_3x_2007_07_01-2008_01_01_corrected.nc\n",
      "\n",
      " \n",
      " \n",
      " \n",
      "\n",
      "2008-01-01 00:00:00 2008-08-01 00:00:00\n",
      " \n",
      "The provided variables allow tracking the following phenomena\n",
      " \n",
      "|  phenomenon  | tracking |\n",
      "---------------------------\n",
      "   Jetstream   |   no\n",
      "   PSL CY/ACY  |   no\n",
      "   Z500 CY/ACY |   no\n",
      "   COLs        |   no\n",
      "   IVT ARs     |   yes\n",
      "   MS ARs      |   no\n",
      "   Fronts      |   no\n",
      "   TCs         |   no\n",
      "   MCSs        |   no\n",
      "   Equ. Waves  |   no\n",
      "---------------------------\n",
      " \n",
      "======> track IVT streams and atmospheric rivers (ARs)\n",
      "        3227 object found\n",
      "        break up long living IVT objects that have many elements\n"
     ]
    },
    {
     "name": "stderr",
     "output_type": "stream",
     "text": [
      "100%|██████████| 684/684 [00:21<00:00, 31.33it/s]\n"
     ]
    },
    {
     "name": "stdout",
     "output_type": "stream",
     "text": [
      "        00:00:27.51\n",
      "9\n",
      "            Loop over 1330 objects\n"
     ]
    },
    {
     "name": "stderr",
     "output_type": "stream",
     "text": [
      "/work/aa0238/a271093/Scripts/MOAAP/src/Tracking_Functions.py:255: RuntimeWarning: All-NaN slice encountered\n",
      "  obj_min = np.nanmin(data_slice, axis=(1, 2))\n",
      "/work/aa0238/a271093/Scripts/MOAAP/src/Tracking_Functions.py:256: RuntimeWarning: All-NaN slice encountered\n",
      "  obj_max = np.nanmax(data_slice, axis=(1, 2))\n",
      "/work/aa0238/a271093/Scripts/MOAAP/src/Tracking_Functions.py:257: RuntimeWarning: Mean of empty slice\n",
      "  obj_mean = np.nanmean(data_slice, axis=(1, 2))\n",
      "/work/aa0238/a271093/Conda/MOAAP_env/lib/python3.12/site-packages/scipy/ndimage/_measurements.py:1541: RuntimeWarning: invalid value encountered in scalar divide\n",
      "  results = [sum(input * grids[dir].astype(float), labels, index) / normalizer\n"
     ]
    },
    {
     "name": "stdout",
     "output_type": "stream",
     "text": [
      "        check if MSs quallify as ARs\n"
     ]
    },
    {
     "name": "stderr",
     "output_type": "stream",
     "text": [
      "/work/aa0238/a271093/Scripts/MOAAP/src/Tracking_Functions.py:4591: RuntimeWarning: divide by zero encountered in scalar divide\n",
      "  if DIST.max() / DIST.min() < AR_width_lenght_ratio:\n"
     ]
    },
    {
     "name": "stdout",
     "output_type": "stream",
     "text": [
      "            Loop over 1330 objects\n",
      "        00:01:05.45\n",
      " \n",
      "Save the object masks into a joint netCDF\n",
      "Saved: /work/aa0238/a271093/results/MOAAP/IVT_Tracking/NorESM_control_remapped_3x/ObjectMasks_MOAPP_ICON_100and85controlperc_remapped_3x_2008_01_01-2008_08_01.nc\n",
      "        00:00:23.76\n",
      "clean up /work/aa0238/a271093/results/MOAAP/IVT_Tracking/NorESM_control_remapped_3x/IVT_MOAPP_ICON_100and85controlperc_remapped_3x_2008_01_01-2008_07_01.pkl\n",
      "clean up finished\n",
      "clean up /work/aa0238/a271093/results/MOAAP/IVT_Tracking/NorESM_control_remapped_3x/ARs_MOAPP_ICON_100and85controlperc_remapped_3x_2008_01_01-2008_07_01.pkl\n",
      "clean up finished\n",
      "correct nc-file with \n",
      " cdo -selmon,1,2,3,4,5,6 /work/aa0238/a271093/results/MOAAP/IVT_Tracking/NorESM_control_remapped_3x/ObjectMasks_MOAPP_ICON_100and85controlperc_remapped_3x_2008_01_01-2008_08_01.nc /work/aa0238/a271093/results/MOAAP/IVT_Tracking/NorESM_control_remapped_3x/ObjectMasks_MOAPP_ICON_100and85controlperc_remapped_3x_2008_01_01-2008_07_01_corrected.nc\n",
      "\n",
      " \n",
      " \n",
      " \n",
      "\n",
      "2008-07-01 00:00:00 2009-02-01 00:00:00\n",
      "Mergetime /work/aa0238/a271093/data/Jan_runs/ICON_NorESM_control/NorESM_control_remapped_3x/IVTu/IVTu_2008010100-2008123123_remapped_3x.nc /work/aa0238/a271093/data/Jan_runs/ICON_NorESM_control/NorESM_control_remapped_3x/IVTu/IVTu_2009010100-2009123123_remapped_3x.nc  /work/aa0238/a271093/scratch/mergedIVTu_2008_2009_remapped_3x.nc\n",
      "Mergetime /work/aa0238/a271093/data/Jan_runs/ICON_NorESM_control/NorESM_control_remapped_3x/IVTv/IVTv_2008010100-2008123123_remapped_3x.nc /work/aa0238/a271093/data/Jan_runs/ICON_NorESM_control/NorESM_control_remapped_3x/IVTv/IVTv_2009010100-2009123123_remapped_3x.nc  /work/aa0238/a271093/scratch/mergedIVTv_2008_2009_remapped_3x.nc\n",
      " \n",
      "The provided variables allow tracking the following phenomena\n",
      " \n",
      "|  phenomenon  | tracking |\n",
      "---------------------------\n",
      "   Jetstream   |   no\n",
      "   PSL CY/ACY  |   no\n",
      "   Z500 CY/ACY |   no\n",
      "   COLs        |   no\n",
      "   IVT ARs     |   yes\n",
      "   MS ARs      |   no\n",
      "   Fronts      |   no\n",
      "   TCs         |   no\n",
      "   MCSs        |   no\n",
      "   Equ. Waves  |   no\n",
      "---------------------------\n",
      " \n",
      "======> track IVT streams and atmospheric rivers (ARs)\n",
      "        2905 object found\n",
      "        break up long living IVT objects that have many elements\n"
     ]
    },
    {
     "name": "stderr",
     "output_type": "stream",
     "text": [
      "100%|██████████| 596/596 [00:23<00:00, 25.21it/s]\n"
     ]
    },
    {
     "name": "stdout",
     "output_type": "stream",
     "text": [
      "        00:00:29.46\n",
      "9\n",
      "            Loop over 1262 objects\n"
     ]
    },
    {
     "name": "stderr",
     "output_type": "stream",
     "text": [
      "/work/aa0238/a271093/Scripts/MOAAP/src/Tracking_Functions.py:255: RuntimeWarning: All-NaN slice encountered\n",
      "  obj_min = np.nanmin(data_slice, axis=(1, 2))\n",
      "/work/aa0238/a271093/Scripts/MOAAP/src/Tracking_Functions.py:256: RuntimeWarning: All-NaN slice encountered\n",
      "  obj_max = np.nanmax(data_slice, axis=(1, 2))\n",
      "/work/aa0238/a271093/Scripts/MOAAP/src/Tracking_Functions.py:257: RuntimeWarning: Mean of empty slice\n",
      "  obj_mean = np.nanmean(data_slice, axis=(1, 2))\n",
      "/work/aa0238/a271093/Conda/MOAAP_env/lib/python3.12/site-packages/scipy/ndimage/_measurements.py:1541: RuntimeWarning: invalid value encountered in scalar divide\n",
      "  results = [sum(input * grids[dir].astype(float), labels, index) / normalizer\n"
     ]
    },
    {
     "name": "stdout",
     "output_type": "stream",
     "text": [
      "        check if MSs quallify as ARs\n"
     ]
    },
    {
     "name": "stderr",
     "output_type": "stream",
     "text": [
      "/work/aa0238/a271093/Scripts/MOAAP/src/Tracking_Functions.py:4591: RuntimeWarning: divide by zero encountered in scalar divide\n",
      "  if DIST.max() / DIST.min() < AR_width_lenght_ratio:\n"
     ]
    },
    {
     "name": "stdout",
     "output_type": "stream",
     "text": [
      "            Loop over 1262 objects\n",
      "        00:01:06.75\n",
      " \n",
      "Save the object masks into a joint netCDF\n",
      "Saved: /work/aa0238/a271093/results/MOAAP/IVT_Tracking/NorESM_control_remapped_3x/ObjectMasks_MOAPP_ICON_100and85controlperc_remapped_3x_2008_07_01-2009_02_01.nc\n",
      "        00:00:24.07\n",
      "clean up /work/aa0238/a271093/results/MOAAP/IVT_Tracking/NorESM_control_remapped_3x/IVT_MOAPP_ICON_100and85controlperc_remapped_3x_2008_07_01-2009_01_01.pkl\n",
      "clean up finished\n",
      "clean up /work/aa0238/a271093/results/MOAAP/IVT_Tracking/NorESM_control_remapped_3x/ARs_MOAPP_ICON_100and85controlperc_remapped_3x_2008_07_01-2009_01_01.pkl\n",
      "clean up finished\n",
      "correct nc-file with \n",
      " cdo -selmon,6,7,8,9,10,11,12 /work/aa0238/a271093/results/MOAAP/IVT_Tracking/NorESM_control_remapped_3x/ObjectMasks_MOAPP_ICON_100and85controlperc_remapped_3x_2008_07_01-2009_02_01.nc /work/aa0238/a271093/results/MOAAP/IVT_Tracking/NorESM_control_remapped_3x/ObjectMasks_MOAPP_ICON_100and85controlperc_remapped_3x_2008_07_01-2009_01_01_corrected.nc\n",
      "\n",
      " \n",
      " \n",
      " \n",
      "\n",
      "2009-01-01 00:00:00 2009-08-01 00:00:00\n",
      " \n",
      "The provided variables allow tracking the following phenomena\n",
      " \n",
      "|  phenomenon  | tracking |\n",
      "---------------------------\n",
      "   Jetstream   |   no\n",
      "   PSL CY/ACY  |   no\n",
      "   Z500 CY/ACY |   no\n",
      "   COLs        |   no\n",
      "   IVT ARs     |   yes\n",
      "   MS ARs      |   no\n",
      "   Fronts      |   no\n",
      "   TCs         |   no\n",
      "   MCSs        |   no\n",
      "   Equ. Waves  |   no\n",
      "---------------------------\n",
      " \n",
      "======> track IVT streams and atmospheric rivers (ARs)\n",
      "        3349 object found\n",
      "        break up long living IVT objects that have many elements\n"
     ]
    },
    {
     "name": "stderr",
     "output_type": "stream",
     "text": [
      "100%|██████████| 592/592 [00:33<00:00, 17.60it/s]\n"
     ]
    },
    {
     "name": "stdout",
     "output_type": "stream",
     "text": [
      "        00:00:39.66\n",
      "9\n",
      "            Loop over 1461 objects\n"
     ]
    },
    {
     "name": "stderr",
     "output_type": "stream",
     "text": [
      "/work/aa0238/a271093/Scripts/MOAAP/src/Tracking_Functions.py:255: RuntimeWarning: All-NaN slice encountered\n",
      "  obj_min = np.nanmin(data_slice, axis=(1, 2))\n",
      "/work/aa0238/a271093/Scripts/MOAAP/src/Tracking_Functions.py:256: RuntimeWarning: All-NaN slice encountered\n",
      "  obj_max = np.nanmax(data_slice, axis=(1, 2))\n",
      "/work/aa0238/a271093/Scripts/MOAAP/src/Tracking_Functions.py:257: RuntimeWarning: Mean of empty slice\n",
      "  obj_mean = np.nanmean(data_slice, axis=(1, 2))\n",
      "/work/aa0238/a271093/Conda/MOAAP_env/lib/python3.12/site-packages/scipy/ndimage/_measurements.py:1541: RuntimeWarning: invalid value encountered in scalar divide\n",
      "  results = [sum(input * grids[dir].astype(float), labels, index) / normalizer\n"
     ]
    },
    {
     "name": "stdout",
     "output_type": "stream",
     "text": [
      "        check if MSs quallify as ARs\n"
     ]
    },
    {
     "name": "stderr",
     "output_type": "stream",
     "text": [
      "/work/aa0238/a271093/Scripts/MOAAP/src/Tracking_Functions.py:4591: RuntimeWarning: divide by zero encountered in scalar divide\n",
      "  if DIST.max() / DIST.min() < AR_width_lenght_ratio:\n"
     ]
    },
    {
     "name": "stdout",
     "output_type": "stream",
     "text": [
      "            Loop over 1453 objects\n",
      "        00:01:27.03\n",
      " \n",
      "Save the object masks into a joint netCDF\n",
      "Saved: /work/aa0238/a271093/results/MOAAP/IVT_Tracking/NorESM_control_remapped_3x/ObjectMasks_MOAPP_ICON_100and85controlperc_remapped_3x_2009_01_01-2009_08_01.nc\n",
      "        00:00:23.78\n",
      "clean up /work/aa0238/a271093/results/MOAAP/IVT_Tracking/NorESM_control_remapped_3x/IVT_MOAPP_ICON_100and85controlperc_remapped_3x_2009_01_01-2009_07_01.pkl\n",
      "clean up finished\n",
      "clean up /work/aa0238/a271093/results/MOAAP/IVT_Tracking/NorESM_control_remapped_3x/ARs_MOAPP_ICON_100and85controlperc_remapped_3x_2009_01_01-2009_07_01.pkl\n",
      "clean up finished\n",
      "correct nc-file with \n",
      " cdo -selmon,1,2,3,4,5,6 /work/aa0238/a271093/results/MOAAP/IVT_Tracking/NorESM_control_remapped_3x/ObjectMasks_MOAPP_ICON_100and85controlperc_remapped_3x_2009_01_01-2009_08_01.nc /work/aa0238/a271093/results/MOAAP/IVT_Tracking/NorESM_control_remapped_3x/ObjectMasks_MOAPP_ICON_100and85controlperc_remapped_3x_2009_01_01-2009_07_01_corrected.nc\n",
      "\n",
      " \n",
      " \n",
      " \n",
      "\n",
      "2009-07-01 00:00:00 2010-02-01 00:00:00\n",
      "Mergetime /work/aa0238/a271093/data/Jan_runs/ICON_NorESM_control/NorESM_control_remapped_3x/IVTu/IVTu_2009010100-2009123123_remapped_3x.nc /work/aa0238/a271093/data/Jan_runs/ICON_NorESM_control/NorESM_control_remapped_3x/IVTu/IVTu_2010010100-2010123123_remapped_3x.nc  /work/aa0238/a271093/scratch/mergedIVTu_2009_2010_remapped_3x.nc\n",
      "Mergetime /work/aa0238/a271093/data/Jan_runs/ICON_NorESM_control/NorESM_control_remapped_3x/IVTv/IVTv_2009010100-2009123123_remapped_3x.nc /work/aa0238/a271093/data/Jan_runs/ICON_NorESM_control/NorESM_control_remapped_3x/IVTv/IVTv_2010010100-2010123123_remapped_3x.nc  /work/aa0238/a271093/scratch/mergedIVTv_2009_2010_remapped_3x.nc\n",
      " \n",
      "The provided variables allow tracking the following phenomena\n",
      " \n",
      "|  phenomenon  | tracking |\n",
      "---------------------------\n",
      "   Jetstream   |   no\n",
      "   PSL CY/ACY  |   no\n",
      "   Z500 CY/ACY |   no\n",
      "   COLs        |   no\n",
      "   IVT ARs     |   yes\n",
      "   MS ARs      |   no\n",
      "   Fronts      |   no\n",
      "   TCs         |   no\n",
      "   MCSs        |   no\n",
      "   Equ. Waves  |   no\n",
      "---------------------------\n",
      " \n",
      "======> track IVT streams and atmospheric rivers (ARs)\n",
      "        3167 object found\n",
      "        break up long living IVT objects that have many elements\n"
     ]
    },
    {
     "name": "stderr",
     "output_type": "stream",
     "text": [
      "100%|██████████| 635/635 [00:30<00:00, 20.97it/s]\n"
     ]
    },
    {
     "name": "stdout",
     "output_type": "stream",
     "text": [
      "        00:00:37.98\n",
      "9\n",
      "            Loop over 1406 objects\n"
     ]
    },
    {
     "name": "stderr",
     "output_type": "stream",
     "text": [
      "/work/aa0238/a271093/Scripts/MOAAP/src/Tracking_Functions.py:255: RuntimeWarning: All-NaN slice encountered\n",
      "  obj_min = np.nanmin(data_slice, axis=(1, 2))\n",
      "/work/aa0238/a271093/Scripts/MOAAP/src/Tracking_Functions.py:256: RuntimeWarning: All-NaN slice encountered\n",
      "  obj_max = np.nanmax(data_slice, axis=(1, 2))\n",
      "/work/aa0238/a271093/Scripts/MOAAP/src/Tracking_Functions.py:257: RuntimeWarning: Mean of empty slice\n",
      "  obj_mean = np.nanmean(data_slice, axis=(1, 2))\n",
      "/work/aa0238/a271093/Conda/MOAAP_env/lib/python3.12/site-packages/scipy/ndimage/_measurements.py:1541: RuntimeWarning: invalid value encountered in scalar divide\n",
      "  results = [sum(input * grids[dir].astype(float), labels, index) / normalizer\n"
     ]
    },
    {
     "name": "stdout",
     "output_type": "stream",
     "text": [
      "        check if MSs quallify as ARs\n"
     ]
    },
    {
     "name": "stderr",
     "output_type": "stream",
     "text": [
      "/work/aa0238/a271093/Scripts/MOAAP/src/Tracking_Functions.py:4591: RuntimeWarning: divide by zero encountered in scalar divide\n",
      "  if DIST.max() / DIST.min() < AR_width_lenght_ratio:\n"
     ]
    },
    {
     "name": "stdout",
     "output_type": "stream",
     "text": [
      "            Loop over 1406 objects\n",
      "        00:01:16.74\n",
      " \n",
      "Save the object masks into a joint netCDF\n",
      "Saved: /work/aa0238/a271093/results/MOAAP/IVT_Tracking/NorESM_control_remapped_3x/ObjectMasks_MOAPP_ICON_100and85controlperc_remapped_3x_2009_07_01-2010_02_01.nc\n",
      "        00:00:24.17\n",
      "clean up /work/aa0238/a271093/results/MOAAP/IVT_Tracking/NorESM_control_remapped_3x/IVT_MOAPP_ICON_100and85controlperc_remapped_3x_2009_07_01-2010_01_01.pkl\n",
      "clean up finished\n",
      "clean up /work/aa0238/a271093/results/MOAAP/IVT_Tracking/NorESM_control_remapped_3x/ARs_MOAPP_ICON_100and85controlperc_remapped_3x_2009_07_01-2010_01_01.pkl\n",
      "clean up finished\n",
      "correct nc-file with \n",
      " cdo -selmon,6,7,8,9,10,11,12 /work/aa0238/a271093/results/MOAAP/IVT_Tracking/NorESM_control_remapped_3x/ObjectMasks_MOAPP_ICON_100and85controlperc_remapped_3x_2009_07_01-2010_02_01.nc /work/aa0238/a271093/results/MOAAP/IVT_Tracking/NorESM_control_remapped_3x/ObjectMasks_MOAPP_ICON_100and85controlperc_remapped_3x_2009_07_01-2010_01_01_corrected.nc\n",
      "\n",
      " \n",
      " \n",
      " \n",
      "\n",
      "2010-01-01 00:00:00 2010-08-01 00:00:00\n",
      " \n",
      "The provided variables allow tracking the following phenomena\n",
      " \n",
      "|  phenomenon  | tracking |\n",
      "---------------------------\n",
      "   Jetstream   |   no\n",
      "   PSL CY/ACY  |   no\n",
      "   Z500 CY/ACY |   no\n",
      "   COLs        |   no\n",
      "   IVT ARs     |   yes\n",
      "   MS ARs      |   no\n",
      "   Fronts      |   no\n",
      "   TCs         |   no\n",
      "   MCSs        |   no\n",
      "   Equ. Waves  |   no\n",
      "---------------------------\n",
      " \n",
      "======> track IVT streams and atmospheric rivers (ARs)\n",
      "        3248 object found\n",
      "        break up long living IVT objects that have many elements\n"
     ]
    },
    {
     "name": "stderr",
     "output_type": "stream",
     "text": [
      "100%|██████████| 618/618 [00:25<00:00, 24.66it/s]\n"
     ]
    },
    {
     "name": "stdout",
     "output_type": "stream",
     "text": [
      "        00:00:33.50\n",
      "9\n",
      "            Loop over 1309 objects\n"
     ]
    },
    {
     "name": "stderr",
     "output_type": "stream",
     "text": [
      "/work/aa0238/a271093/Scripts/MOAAP/src/Tracking_Functions.py:255: RuntimeWarning: All-NaN slice encountered\n",
      "  obj_min = np.nanmin(data_slice, axis=(1, 2))\n",
      "/work/aa0238/a271093/Scripts/MOAAP/src/Tracking_Functions.py:256: RuntimeWarning: All-NaN slice encountered\n",
      "  obj_max = np.nanmax(data_slice, axis=(1, 2))\n",
      "/work/aa0238/a271093/Scripts/MOAAP/src/Tracking_Functions.py:257: RuntimeWarning: Mean of empty slice\n",
      "  obj_mean = np.nanmean(data_slice, axis=(1, 2))\n",
      "/work/aa0238/a271093/Conda/MOAAP_env/lib/python3.12/site-packages/scipy/ndimage/_measurements.py:1541: RuntimeWarning: invalid value encountered in scalar divide\n",
      "  results = [sum(input * grids[dir].astype(float), labels, index) / normalizer\n"
     ]
    },
    {
     "name": "stdout",
     "output_type": "stream",
     "text": [
      "        check if MSs quallify as ARs\n"
     ]
    },
    {
     "name": "stderr",
     "output_type": "stream",
     "text": [
      "/work/aa0238/a271093/Scripts/MOAAP/src/Tracking_Functions.py:4591: RuntimeWarning: divide by zero encountered in scalar divide\n",
      "  if DIST.max() / DIST.min() < AR_width_lenght_ratio:\n"
     ]
    },
    {
     "name": "stdout",
     "output_type": "stream",
     "text": [
      "            Loop over 1308 objects\n",
      "        00:01:21.04\n",
      " \n",
      "Save the object masks into a joint netCDF\n",
      "Saved: /work/aa0238/a271093/results/MOAAP/IVT_Tracking/NorESM_control_remapped_3x/ObjectMasks_MOAPP_ICON_100and85controlperc_remapped_3x_2010_01_01-2010_08_01.nc\n",
      "        00:00:23.82\n",
      "clean up /work/aa0238/a271093/results/MOAAP/IVT_Tracking/NorESM_control_remapped_3x/IVT_MOAPP_ICON_100and85controlperc_remapped_3x_2010_01_01-2010_07_01.pkl\n",
      "clean up finished\n",
      "clean up /work/aa0238/a271093/results/MOAAP/IVT_Tracking/NorESM_control_remapped_3x/ARs_MOAPP_ICON_100and85controlperc_remapped_3x_2010_01_01-2010_07_01.pkl\n",
      "clean up finished\n",
      "correct nc-file with \n",
      " cdo -selmon,1,2,3,4,5,6 /work/aa0238/a271093/results/MOAAP/IVT_Tracking/NorESM_control_remapped_3x/ObjectMasks_MOAPP_ICON_100and85controlperc_remapped_3x_2010_01_01-2010_08_01.nc /work/aa0238/a271093/results/MOAAP/IVT_Tracking/NorESM_control_remapped_3x/ObjectMasks_MOAPP_ICON_100and85controlperc_remapped_3x_2010_01_01-2010_07_01_corrected.nc\n",
      "\n",
      " \n",
      " \n",
      " \n",
      "\n",
      "2010-07-01 00:00:00 2011-02-01 00:00:00\n",
      "Mergetime /work/aa0238/a271093/data/Jan_runs/ICON_NorESM_control/NorESM_control_remapped_3x/IVTu/IVTu_2010010100-2010123123_remapped_3x.nc /work/aa0238/a271093/data/Jan_runs/ICON_NorESM_control/NorESM_control_remapped_3x/IVTu/IVTu_2011010100-2011123123_remapped_3x.nc  /work/aa0238/a271093/scratch/mergedIVTu_2010_2011_remapped_3x.nc\n",
      "Mergetime /work/aa0238/a271093/data/Jan_runs/ICON_NorESM_control/NorESM_control_remapped_3x/IVTv/IVTv_2010010100-2010123123_remapped_3x.nc /work/aa0238/a271093/data/Jan_runs/ICON_NorESM_control/NorESM_control_remapped_3x/IVTv/IVTv_2011010100-2011123123_remapped_3x.nc  /work/aa0238/a271093/scratch/mergedIVTv_2010_2011_remapped_3x.nc\n",
      " \n",
      "The provided variables allow tracking the following phenomena\n",
      " \n",
      "|  phenomenon  | tracking |\n",
      "---------------------------\n",
      "   Jetstream   |   no\n",
      "   PSL CY/ACY  |   no\n",
      "   Z500 CY/ACY |   no\n",
      "   COLs        |   no\n",
      "   IVT ARs     |   yes\n",
      "   MS ARs      |   no\n",
      "   Fronts      |   no\n",
      "   TCs         |   no\n",
      "   MCSs        |   no\n",
      "   Equ. Waves  |   no\n",
      "---------------------------\n",
      " \n",
      "======> track IVT streams and atmospheric rivers (ARs)\n",
      "        3114 object found\n",
      "        break up long living IVT objects that have many elements\n"
     ]
    },
    {
     "name": "stderr",
     "output_type": "stream",
     "text": [
      "100%|██████████| 567/567 [00:24<00:00, 23.02it/s]\n"
     ]
    },
    {
     "name": "stdout",
     "output_type": "stream",
     "text": [
      "        00:00:30.76\n",
      "9\n",
      "            Loop over 1294 objects\n"
     ]
    },
    {
     "name": "stderr",
     "output_type": "stream",
     "text": [
      "/work/aa0238/a271093/Scripts/MOAAP/src/Tracking_Functions.py:255: RuntimeWarning: All-NaN slice encountered\n",
      "  obj_min = np.nanmin(data_slice, axis=(1, 2))\n",
      "/work/aa0238/a271093/Scripts/MOAAP/src/Tracking_Functions.py:256: RuntimeWarning: All-NaN slice encountered\n",
      "  obj_max = np.nanmax(data_slice, axis=(1, 2))\n",
      "/work/aa0238/a271093/Scripts/MOAAP/src/Tracking_Functions.py:257: RuntimeWarning: Mean of empty slice\n",
      "  obj_mean = np.nanmean(data_slice, axis=(1, 2))\n",
      "/work/aa0238/a271093/Conda/MOAAP_env/lib/python3.12/site-packages/scipy/ndimage/_measurements.py:1541: RuntimeWarning: invalid value encountered in scalar divide\n",
      "  results = [sum(input * grids[dir].astype(float), labels, index) / normalizer\n"
     ]
    },
    {
     "name": "stdout",
     "output_type": "stream",
     "text": [
      "        check if MSs quallify as ARs\n"
     ]
    },
    {
     "name": "stderr",
     "output_type": "stream",
     "text": [
      "/work/aa0238/a271093/Scripts/MOAAP/src/Tracking_Functions.py:4591: RuntimeWarning: divide by zero encountered in scalar divide\n",
      "  if DIST.max() / DIST.min() < AR_width_lenght_ratio:\n"
     ]
    },
    {
     "name": "stdout",
     "output_type": "stream",
     "text": [
      "            Loop over 1294 objects\n",
      "        00:01:19.00\n",
      " \n",
      "Save the object masks into a joint netCDF\n",
      "Saved: /work/aa0238/a271093/results/MOAAP/IVT_Tracking/NorESM_control_remapped_3x/ObjectMasks_MOAPP_ICON_100and85controlperc_remapped_3x_2010_07_01-2011_02_01.nc\n",
      "        00:00:24.23\n",
      "clean up /work/aa0238/a271093/results/MOAAP/IVT_Tracking/NorESM_control_remapped_3x/IVT_MOAPP_ICON_100and85controlperc_remapped_3x_2010_07_01-2011_01_01.pkl\n",
      "clean up finished\n",
      "clean up /work/aa0238/a271093/results/MOAAP/IVT_Tracking/NorESM_control_remapped_3x/ARs_MOAPP_ICON_100and85controlperc_remapped_3x_2010_07_01-2011_01_01.pkl\n",
      "clean up finished\n",
      "correct nc-file with \n",
      " cdo -selmon,6,7,8,9,10,11,12 /work/aa0238/a271093/results/MOAAP/IVT_Tracking/NorESM_control_remapped_3x/ObjectMasks_MOAPP_ICON_100and85controlperc_remapped_3x_2010_07_01-2011_02_01.nc /work/aa0238/a271093/results/MOAAP/IVT_Tracking/NorESM_control_remapped_3x/ObjectMasks_MOAPP_ICON_100and85controlperc_remapped_3x_2010_07_01-2011_01_01_corrected.nc\n",
      "\n",
      " \n",
      " \n",
      " \n",
      "\n",
      "2011-01-01 00:00:00 2011-08-01 00:00:00\n",
      " \n",
      "The provided variables allow tracking the following phenomena\n",
      " \n",
      "|  phenomenon  | tracking |\n",
      "---------------------------\n",
      "   Jetstream   |   no\n",
      "   PSL CY/ACY  |   no\n",
      "   Z500 CY/ACY |   no\n",
      "   COLs        |   no\n",
      "   IVT ARs     |   yes\n",
      "   MS ARs      |   no\n",
      "   Fronts      |   no\n",
      "   TCs         |   no\n",
      "   MCSs        |   no\n",
      "   Equ. Waves  |   no\n",
      "---------------------------\n",
      " \n",
      "======> track IVT streams and atmospheric rivers (ARs)\n",
      "        3155 object found\n",
      "        break up long living IVT objects that have many elements\n"
     ]
    },
    {
     "name": "stderr",
     "output_type": "stream",
     "text": [
      "100%|██████████| 615/615 [00:24<00:00, 24.84it/s]\n"
     ]
    },
    {
     "name": "stdout",
     "output_type": "stream",
     "text": [
      "        00:00:32.31\n",
      "9\n",
      "            Loop over 1310 objects\n"
     ]
    },
    {
     "name": "stderr",
     "output_type": "stream",
     "text": [
      "/work/aa0238/a271093/Scripts/MOAAP/src/Tracking_Functions.py:255: RuntimeWarning: All-NaN slice encountered\n",
      "  obj_min = np.nanmin(data_slice, axis=(1, 2))\n",
      "/work/aa0238/a271093/Scripts/MOAAP/src/Tracking_Functions.py:256: RuntimeWarning: All-NaN slice encountered\n",
      "  obj_max = np.nanmax(data_slice, axis=(1, 2))\n",
      "/work/aa0238/a271093/Scripts/MOAAP/src/Tracking_Functions.py:257: RuntimeWarning: Mean of empty slice\n",
      "  obj_mean = np.nanmean(data_slice, axis=(1, 2))\n",
      "/work/aa0238/a271093/Conda/MOAAP_env/lib/python3.12/site-packages/scipy/ndimage/_measurements.py:1541: RuntimeWarning: invalid value encountered in scalar divide\n",
      "  results = [sum(input * grids[dir].astype(float), labels, index) / normalizer\n"
     ]
    },
    {
     "name": "stdout",
     "output_type": "stream",
     "text": [
      "        check if MSs quallify as ARs\n"
     ]
    },
    {
     "name": "stderr",
     "output_type": "stream",
     "text": [
      "/work/aa0238/a271093/Scripts/MOAAP/src/Tracking_Functions.py:4591: RuntimeWarning: divide by zero encountered in scalar divide\n",
      "  if DIST.max() / DIST.min() < AR_width_lenght_ratio:\n"
     ]
    },
    {
     "name": "stdout",
     "output_type": "stream",
     "text": [
      "            Loop over 1309 objects\n",
      "        00:01:15.57\n",
      " \n",
      "Save the object masks into a joint netCDF\n",
      "Saved: /work/aa0238/a271093/results/MOAAP/IVT_Tracking/NorESM_control_remapped_3x/ObjectMasks_MOAPP_ICON_100and85controlperc_remapped_3x_2011_01_01-2011_08_01.nc\n",
      "        00:00:23.98\n",
      "clean up /work/aa0238/a271093/results/MOAAP/IVT_Tracking/NorESM_control_remapped_3x/IVT_MOAPP_ICON_100and85controlperc_remapped_3x_2011_01_01-2011_07_01.pkl\n",
      "clean up finished\n",
      "clean up /work/aa0238/a271093/results/MOAAP/IVT_Tracking/NorESM_control_remapped_3x/ARs_MOAPP_ICON_100and85controlperc_remapped_3x_2011_01_01-2011_07_01.pkl\n",
      "clean up finished\n",
      "correct nc-file with \n",
      " cdo -selmon,1,2,3,4,5,6 /work/aa0238/a271093/results/MOAAP/IVT_Tracking/NorESM_control_remapped_3x/ObjectMasks_MOAPP_ICON_100and85controlperc_remapped_3x_2011_01_01-2011_08_01.nc /work/aa0238/a271093/results/MOAAP/IVT_Tracking/NorESM_control_remapped_3x/ObjectMasks_MOAPP_ICON_100and85controlperc_remapped_3x_2011_01_01-2011_07_01_corrected.nc\n",
      "\n",
      " \n",
      " \n",
      " \n",
      "\n",
      "2011-07-01 00:00:00 2012-02-01 00:00:00\n",
      "Mergetime /work/aa0238/a271093/data/Jan_runs/ICON_NorESM_control/NorESM_control_remapped_3x/IVTu/IVTu_2011010100-2011123123_remapped_3x.nc /work/aa0238/a271093/data/Jan_runs/ICON_NorESM_control/NorESM_control_remapped_3x/IVTu/IVTu_2012010100-2012123123_remapped_3x.nc  /work/aa0238/a271093/scratch/mergedIVTu_2011_2012_remapped_3x.nc\n",
      "Mergetime /work/aa0238/a271093/data/Jan_runs/ICON_NorESM_control/NorESM_control_remapped_3x/IVTv/IVTv_2011010100-2011123123_remapped_3x.nc /work/aa0238/a271093/data/Jan_runs/ICON_NorESM_control/NorESM_control_remapped_3x/IVTv/IVTv_2012010100-2012123123_remapped_3x.nc  /work/aa0238/a271093/scratch/mergedIVTv_2011_2012_remapped_3x.nc\n",
      " \n",
      "The provided variables allow tracking the following phenomena\n",
      " \n",
      "|  phenomenon  | tracking |\n",
      "---------------------------\n",
      "   Jetstream   |   no\n",
      "   PSL CY/ACY  |   no\n",
      "   Z500 CY/ACY |   no\n",
      "   COLs        |   no\n",
      "   IVT ARs     |   yes\n",
      "   MS ARs      |   no\n",
      "   Fronts      |   no\n",
      "   TCs         |   no\n",
      "   MCSs        |   no\n",
      "   Equ. Waves  |   no\n",
      "---------------------------\n",
      " \n",
      "======> track IVT streams and atmospheric rivers (ARs)\n",
      "        2837 object found\n",
      "        break up long living IVT objects that have many elements\n"
     ]
    },
    {
     "name": "stderr",
     "output_type": "stream",
     "text": [
      "100%|██████████| 568/568 [00:22<00:00, 25.76it/s]\n"
     ]
    },
    {
     "name": "stdout",
     "output_type": "stream",
     "text": [
      "        00:00:28.03\n",
      "9\n",
      "            Loop over 1259 objects\n"
     ]
    },
    {
     "name": "stderr",
     "output_type": "stream",
     "text": [
      "/work/aa0238/a271093/Scripts/MOAAP/src/Tracking_Functions.py:255: RuntimeWarning: All-NaN slice encountered\n",
      "  obj_min = np.nanmin(data_slice, axis=(1, 2))\n",
      "/work/aa0238/a271093/Scripts/MOAAP/src/Tracking_Functions.py:256: RuntimeWarning: All-NaN slice encountered\n",
      "  obj_max = np.nanmax(data_slice, axis=(1, 2))\n",
      "/work/aa0238/a271093/Scripts/MOAAP/src/Tracking_Functions.py:257: RuntimeWarning: Mean of empty slice\n",
      "  obj_mean = np.nanmean(data_slice, axis=(1, 2))\n",
      "/work/aa0238/a271093/Conda/MOAAP_env/lib/python3.12/site-packages/scipy/ndimage/_measurements.py:1541: RuntimeWarning: invalid value encountered in scalar divide\n",
      "  results = [sum(input * grids[dir].astype(float), labels, index) / normalizer\n"
     ]
    },
    {
     "name": "stdout",
     "output_type": "stream",
     "text": [
      "        check if MSs quallify as ARs\n"
     ]
    },
    {
     "name": "stderr",
     "output_type": "stream",
     "text": [
      "/work/aa0238/a271093/Scripts/MOAAP/src/Tracking_Functions.py:4591: RuntimeWarning: divide by zero encountered in scalar divide\n",
      "  if DIST.max() / DIST.min() < AR_width_lenght_ratio:\n"
     ]
    },
    {
     "name": "stdout",
     "output_type": "stream",
     "text": [
      "            Loop over 1258 objects\n",
      "        00:01:13.86\n",
      " \n",
      "Save the object masks into a joint netCDF\n",
      "Saved: /work/aa0238/a271093/results/MOAAP/IVT_Tracking/NorESM_control_remapped_3x/ObjectMasks_MOAPP_ICON_100and85controlperc_remapped_3x_2011_07_01-2012_02_01.nc\n",
      "        00:00:24.07\n",
      "clean up /work/aa0238/a271093/results/MOAAP/IVT_Tracking/NorESM_control_remapped_3x/IVT_MOAPP_ICON_100and85controlperc_remapped_3x_2011_07_01-2012_01_01.pkl\n",
      "clean up finished\n",
      "clean up /work/aa0238/a271093/results/MOAAP/IVT_Tracking/NorESM_control_remapped_3x/ARs_MOAPP_ICON_100and85controlperc_remapped_3x_2011_07_01-2012_01_01.pkl\n",
      "clean up finished\n",
      "correct nc-file with \n",
      " cdo -selmon,6,7,8,9,10,11,12 /work/aa0238/a271093/results/MOAAP/IVT_Tracking/NorESM_control_remapped_3x/ObjectMasks_MOAPP_ICON_100and85controlperc_remapped_3x_2011_07_01-2012_02_01.nc /work/aa0238/a271093/results/MOAAP/IVT_Tracking/NorESM_control_remapped_3x/ObjectMasks_MOAPP_ICON_100and85controlperc_remapped_3x_2011_07_01-2012_01_01_corrected.nc\n",
      "\n",
      " \n",
      " \n",
      " \n",
      "\n",
      "2012-01-01 00:00:00 2012-08-01 00:00:00\n",
      " \n",
      "The provided variables allow tracking the following phenomena\n",
      " \n",
      "|  phenomenon  | tracking |\n",
      "---------------------------\n",
      "   Jetstream   |   no\n",
      "   PSL CY/ACY  |   no\n",
      "   Z500 CY/ACY |   no\n",
      "   COLs        |   no\n",
      "   IVT ARs     |   yes\n",
      "   MS ARs      |   no\n",
      "   Fronts      |   no\n",
      "   TCs         |   no\n",
      "   MCSs        |   no\n",
      "   Equ. Waves  |   no\n",
      "---------------------------\n",
      " \n",
      "======> track IVT streams and atmospheric rivers (ARs)\n",
      "        3022 object found\n",
      "        break up long living IVT objects that have many elements\n"
     ]
    },
    {
     "name": "stderr",
     "output_type": "stream",
     "text": [
      "100%|██████████| 592/592 [00:23<00:00, 25.59it/s]\n"
     ]
    },
    {
     "name": "stdout",
     "output_type": "stream",
     "text": [
      "        00:00:28.99\n",
      "9\n",
      "            Loop over 1218 objects\n"
     ]
    },
    {
     "name": "stderr",
     "output_type": "stream",
     "text": [
      "/work/aa0238/a271093/Scripts/MOAAP/src/Tracking_Functions.py:255: RuntimeWarning: All-NaN slice encountered\n",
      "  obj_min = np.nanmin(data_slice, axis=(1, 2))\n",
      "/work/aa0238/a271093/Scripts/MOAAP/src/Tracking_Functions.py:256: RuntimeWarning: All-NaN slice encountered\n",
      "  obj_max = np.nanmax(data_slice, axis=(1, 2))\n",
      "/work/aa0238/a271093/Scripts/MOAAP/src/Tracking_Functions.py:257: RuntimeWarning: Mean of empty slice\n",
      "  obj_mean = np.nanmean(data_slice, axis=(1, 2))\n",
      "/work/aa0238/a271093/Conda/MOAAP_env/lib/python3.12/site-packages/scipy/ndimage/_measurements.py:1541: RuntimeWarning: invalid value encountered in scalar divide\n",
      "  results = [sum(input * grids[dir].astype(float), labels, index) / normalizer\n"
     ]
    },
    {
     "name": "stdout",
     "output_type": "stream",
     "text": [
      "        check if MSs quallify as ARs\n"
     ]
    },
    {
     "name": "stderr",
     "output_type": "stream",
     "text": [
      "/work/aa0238/a271093/Scripts/MOAAP/src/Tracking_Functions.py:4591: RuntimeWarning: divide by zero encountered in scalar divide\n",
      "  if DIST.max() / DIST.min() < AR_width_lenght_ratio:\n"
     ]
    },
    {
     "name": "stdout",
     "output_type": "stream",
     "text": [
      "            Loop over 1214 objects\n",
      "        00:01:16.17\n",
      " \n",
      "Save the object masks into a joint netCDF\n",
      "Saved: /work/aa0238/a271093/results/MOAAP/IVT_Tracking/NorESM_control_remapped_3x/ObjectMasks_MOAPP_ICON_100and85controlperc_remapped_3x_2012_01_01-2012_08_01.nc\n",
      "        00:00:23.91\n",
      "clean up /work/aa0238/a271093/results/MOAAP/IVT_Tracking/NorESM_control_remapped_3x/IVT_MOAPP_ICON_100and85controlperc_remapped_3x_2012_01_01-2012_07_01.pkl\n",
      "clean up finished\n",
      "clean up /work/aa0238/a271093/results/MOAAP/IVT_Tracking/NorESM_control_remapped_3x/ARs_MOAPP_ICON_100and85controlperc_remapped_3x_2012_01_01-2012_07_01.pkl\n",
      "clean up finished\n",
      "correct nc-file with \n",
      " cdo -selmon,1,2,3,4,5,6 /work/aa0238/a271093/results/MOAAP/IVT_Tracking/NorESM_control_remapped_3x/ObjectMasks_MOAPP_ICON_100and85controlperc_remapped_3x_2012_01_01-2012_08_01.nc /work/aa0238/a271093/results/MOAAP/IVT_Tracking/NorESM_control_remapped_3x/ObjectMasks_MOAPP_ICON_100and85controlperc_remapped_3x_2012_01_01-2012_07_01_corrected.nc\n",
      "\n",
      " \n",
      " \n",
      " \n",
      "\n",
      "2012-07-01 00:00:00 2013-02-01 00:00:00\n",
      "Mergetime /work/aa0238/a271093/data/Jan_runs/ICON_NorESM_control/NorESM_control_remapped_3x/IVTu/IVTu_2012010100-2012123123_remapped_3x.nc /work/aa0238/a271093/data/Jan_runs/ICON_NorESM_control/NorESM_control_remapped_3x/IVTu/IVTu_2013010100-2013123123_remapped_3x.nc  /work/aa0238/a271093/scratch/mergedIVTu_2012_2013_remapped_3x.nc\n"
     ]
    }
   ],
   "source": [
    "\n",
    "IVTuLoader= TrackingDataLoader('IVTu', data_path, suffix=suffix, file_type = file_type)\n",
    "IVTvLoader= TrackingDataLoader('IVTv', data_path, suffix=suffix, file_type = file_type)\n",
    "\n",
    "\n",
    "dict_keys_offset = 0\n",
    "\n",
    "for start_date, end_date in zip(start_date_list, end_date_list):\n",
    "    \n",
    "    print (\"\\n \\n \\n \\n\")\n",
    "    \n",
    "    IVTuLoader.start_date = start_date\n",
    "    IVTvLoader.start_date = start_date\n",
    "    \n",
    "    IVTuLoader.end_date = end_date\n",
    "    IVTvLoader.end_date = end_date\n",
    "\n",
    "    print (IVTuLoader.start_date, IVTuLoader.end_date)\n",
    "    \n",
    "\n",
    "    IVTudata=IVTuLoader.load_datasets(rm_nc=False)\n",
    "    IVTvdata=IVTvLoader.load_datasets(rm_nc=False)\n",
    "\n",
    "\n",
    "    rLon = xr.broadcast(IVTudata.rlon, IVTudata.rlat)[0].values.T\n",
    "    rLat = xr.broadcast(IVTudata.rlon, IVTudata.rlat)[1].values.T\n",
    "\n",
    "    Lon = xr.broadcast(IVTudata.lon, IVTudata.lat)[0].values\n",
    "    Lat = xr.broadcast(IVTudata.lon, IVTudata.lat)[1].values\n",
    "\n",
    "    Mask=1*(rLat>-999)\n",
    "    Time_sel = IVTuLoader.time_sel\n",
    "    \n",
    "    output_file_name = f'{output_file_name_temp}_{get_datetime_str(start_date)}-{get_datetime_str(end_date)}'\n",
    "\n",
    "    \n",
    "\n",
    "    Tracking_Functions.moaap(Lon = rLon,                            # 2Dlongitude grid centers\n",
    "                              Lat = rLat,                           # 2D latitude grid spacing\n",
    "                              Time = Time_sel,                      # datetime vector of data\n",
    "                              dT = 1,                               # integer - temporal frequency of data [hour]\n",
    "                              Mask = Mask,                          # mask with dimensions [lat,lon] defining analysis region\n",
    "\n",
    "                              ivte = IVTudata.IVTu.values,          # zonal integrated vapor transport [kg m-1 s-1]\n",
    "                              ivtn = IVTvdata.IVTv.values,          # meidional integrated vapor transport [kg m-1 s-1]\n",
    "                              regular_Lon = Lon,\n",
    "                              regular_Lat = Lat,\n",
    "                              IVTtrheshold = IVTtrheshold,          # Integrated water vapor transport threshold for AR detection [kg m-1 s-1]\n",
    "                                                                    # JLa: additionall fixed threshold 100 in code\n",
    "\n",
    "                              DataName = output_file_name,\n",
    "                              OutputFolder=output_path ,\n",
    "                              dict_keys_offset = dict_keys_offset\n",
    "                            )\n",
    "                       \n",
    "                             \n",
    "    cleanup_dicts(output_path,\n",
    "                  output_file_name_temp,\n",
    "                  start_date,\n",
    "                  end_date, \n",
    "                  last_processed_date,\n",
    "                  type_='IVT'\n",
    "                 )\n",
    "        \n",
    "    cleanup_dicts(output_path,\n",
    "                  output_file_name_temp,\n",
    "                  start_date,\n",
    "                  end_date, \n",
    "                  last_processed_date,\n",
    "                  type_='ARs'\n",
    "                 )\n",
    "    \n",
    "    correct_nc_file(output_path,\n",
    "                    output_file_name_temp, \n",
    "                    start_date,\n",
    "                    end_date,\n",
    "                    last_processed_date\n",
    "                   )\n",
    "                             \n",
    "    dict_keys_offset +=5000"
   ]
  },
  {
   "cell_type": "code",
   "execution_count": 7,
   "id": "161393c6-c6f0-42e4-b3e1-66917585c220",
   "metadata": {},
   "outputs": [],
   "source": [
    "#with open('/work/aa0238/a271093/results/MOAAP/IVT_Tracking/CNRM_control_test/IVT_MOAPP_ICON_control_CNRMforc_100and85controlperc_remapped_3x_1984_01_01-1984_07_01_corrected.pkl', 'rb') as pickle_file:\n",
    "#    IVT1 = pickle.load(pickle_file)\n"
   ]
  },
  {
   "cell_type": "code",
   "execution_count": 17,
   "id": "5dd150c4-b503-4cfc-ab80-f0d926e44a48",
   "metadata": {
    "tags": []
   },
   "outputs": [],
   "source": [
    "f= np.ones(4)"
   ]
  },
  {
   "cell_type": "code",
   "execution_count": 20,
   "id": "43c31998-715a-4228-8d5b-3bc70eab5c17",
   "metadata": {},
   "outputs": [
    {
     "name": "stdout",
     "output_type": "stream",
     "text": [
      "[1. 1. 1. 1.]\n"
     ]
    }
   ],
   "source": [
    "if f is not None:\n",
    "    print (f)"
   ]
  },
  {
   "cell_type": "code",
   "execution_count": null,
   "id": "4da4686e-28f5-4e37-ba89-da489007e70e",
   "metadata": {},
   "outputs": [],
   "source": []
  }
 ],
 "metadata": {
  "kernelspec": {
   "display_name": "MOAAP-Kernel",
   "language": "python",
   "name": "moaap_kernel"
  },
  "language_info": {
   "codemirror_mode": {
    "name": "ipython",
    "version": 3
   },
   "file_extension": ".py",
   "mimetype": "text/x-python",
   "name": "python",
   "nbconvert_exporter": "python",
   "pygments_lexer": "ipython3",
   "version": "3.12.2"
  }
 },
 "nbformat": 4,
 "nbformat_minor": 5
}
