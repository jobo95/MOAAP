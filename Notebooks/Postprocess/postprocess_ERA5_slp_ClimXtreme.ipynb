{
 "cells": [
  {
   "cell_type": "markdown",
   "id": "4ba79f53-3ac8-462a-aa24-0acae6d4702f",
   "metadata": {
    "tags": []
   },
   "source": [
    "# Postprocess ERA5 slp data from ClimXtreme database\n",
    "- mergetime individual monthly files to one yearly file\n",
    "- remap yearly file to regional rotated ICON domain and grid\n",
    "- select every 6th timestep of file (6 hourly data) and convert Pa to hPa"
   ]
  },
  {
   "cell_type": "code",
   "execution_count": 2,
   "id": "2e469e52-b738-407c-8d32-77a19341e777",
   "metadata": {
    "tags": []
   },
   "outputs": [],
   "source": [
    "import xarray as xr\n",
    "import glob\n",
    "from cdo import Cdo\n",
    "import os"
   ]
  },
  {
   "cell_type": "code",
   "execution_count": 3,
   "id": "ece95fee-fd47-458a-b928-2db0f4888afa",
   "metadata": {
    "tags": []
   },
   "outputs": [],
   "source": [
    "path_in = '/work/bm1159/XCES/data4xces/reanalysis/reanalysis/ECMWF/IFS/ERA5/1hr/atmos/psl/r1i1p1/'\n",
    "path_out = '/work/aa0238/a271093/data/ERA5/1979-2023/ICON_remapped_3x/slp/'\n",
    "remap_file = '/work/aa0238/a271093/data/input/IVT_95_percentiles_CNMR_control_3dx3dy.nc'\n",
    "\n",
    "year_start = 1979\n",
    "year_end =2023"
   ]
  },
  {
   "cell_type": "code",
   "execution_count": null,
   "id": "f19b529e-8b83-4731-b80d-8ac62dd533a9",
   "metadata": {
    "tags": []
   },
   "outputs": [],
   "source": [
    "\n",
    "\n",
    "year = year_start\n",
    "cdo = Cdo()\n",
    "while year <= year_end:\n",
    "    paths = sorted(glob.glob(path_in+f'psl_1hr_reanalysis_era5_r1i1p1_{year_start}*-{year_start}*.nc'))\n",
    "    \n",
    "    cdo.remapbil(remap_file,\n",
    "                input= '-mergetime '+' '.join(paths),\n",
    "                output=path_out+'dummy_hourly.nc')\n",
    "    \n",
    "    cdo.seltimestep('1/-1/6', input ='-setattribute,psl@units=hPa -divc,100 '+path_out+'dummy_hourly.nc', output= path_out+f'psl_{year}010100-${year}123123_remapped_3x.nc')\n",
    "    \n",
    "    os.remove(path_out+\"dummy_hourly.nc\") \n",
    "    \n",
    "    year += 1"
   ]
  },
  {
   "cell_type": "code",
   "execution_count": null,
   "id": "08832c5b-152b-43e1-b110-276d80f59f9c",
   "metadata": {},
   "outputs": [],
   "source": []
  }
 ],
 "metadata": {
  "kernelspec": {
   "display_name": "1 Python 3 (based on the module python3/2023.01)",
   "language": "python",
   "name": "python3_2023_01"
  },
  "language_info": {
   "codemirror_mode": {
    "name": "ipython",
    "version": 3
   },
   "file_extension": ".py",
   "mimetype": "text/x-python",
   "name": "python",
   "nbconvert_exporter": "python",
   "pygments_lexer": "ipython3",
   "version": "3.10.10"
  }
 },
 "nbformat": 4,
 "nbformat_minor": 5
}
